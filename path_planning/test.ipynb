{
 "cells": [
  {
   "cell_type": "code",
   "execution_count": 1,
   "id": "89ccc405",
   "metadata": {},
   "outputs": [],
   "source": [
    "import numpy as np\n",
    "import plotly.graph_objects as go\n",
    "import random"
   ]
  },
  {
   "cell_type": "code",
   "execution_count": 2,
   "id": "b0c35710",
   "metadata": {},
   "outputs": [],
   "source": [
    "import random\n",
    "from typing import List, Tuple\n",
    "import plotly.graph_objects as go\n",
    "import numpy as np\n",
    "\n",
    "class MapVisualizer:\n",
    "    def __init__(self, dimensions: int, bounds: Tuple[int, int, int], map_type=\"multi_obstacle_narrow_passage\"):\n",
    "        self.dimensions = dimensions\n",
    "        self.bounds = bounds\n",
    "        self.map_type = map_type\n",
    "        self.data = []\n",
    "        self.shapes = []\n",
    "        self.obstacles = []  # List of tuples: 2D (x0,y0,x1,y1), 3D (x0,y0,z0,x1,y1,z1)\n",
    "        self._generate()\n",
    "\n",
    "    def _generate(self):\n",
    "        if self.dimensions == 2:\n",
    "            self._generate_2d_map()\n",
    "        elif self.dimensions == 3:\n",
    "            self._generate_3d_map()\n",
    "        else:\n",
    "            raise ValueError(\"Only 2D and 3D supported.\")\n",
    "\n",
    "    def _check_overlap_2d(self, new_rect):\n",
    "        for ox0, oy0, ox1, oy1 in self.obstacles:\n",
    "            if not (new_rect[2] <= ox0 or new_rect[0] >= ox1 or new_rect[3] <= oy0 or new_rect[1] >= oy1):\n",
    "                return True  # Overlap\n",
    "        return False\n",
    "\n",
    "    def _generate_2d_map(self):\n",
    "        W, H = self.bounds[:2]\n",
    "        attempts = 0\n",
    "        while len(self.obstacles) < 10 and attempts < 1000:\n",
    "            x0 = random.randint(0, W - 10)\n",
    "            y0 = random.randint(0, H - 10)\n",
    "            x1 = x0 + random.randint(4, 8)\n",
    "            y1 = y0 + random.randint(4, 8)\n",
    "            rect = (x0, y0, x1, y1)\n",
    "            if not self._check_overlap_2d(rect):\n",
    "                self.obstacles.append(rect)\n",
    "            attempts += 1\n",
    "\n",
    "        for x0, y0, x1, y1 in self.obstacles:\n",
    "            self.shapes.append(dict(\n",
    "                type='rect',\n",
    "                x0=x0, y0=y0,\n",
    "                x1=x1, y1=y1,\n",
    "                line=dict(color='purple'),\n",
    "                fillcolor='purple',\n",
    "                opacity=0.7,\n",
    "            ))\n",
    "\n",
    "    def _check_overlap_3d(self, new_box):\n",
    "        for ox0, oy0, oz0, ox1, oy1, oz1 in self.obstacles:\n",
    "            if not (new_box[3] <= ox0 or new_box[0] >= ox1 or\n",
    "                    new_box[4] <= oy0 or new_box[1] >= oy1 or\n",
    "                    new_box[5] <= oz0 or new_box[2] >= oz1):\n",
    "                return True\n",
    "        return False\n",
    "\n",
    "    def _generate_3d_map(self):\n",
    "        W, H, D = self.bounds\n",
    "        attempts = 0\n",
    "        while len(self.obstacles) < 20 and attempts < 1000:\n",
    "            x0, y0, z0 = random.randint(0, W - 10), random.randint(0, H - 10), random.randint(0, D - 10)\n",
    "            dx, dy, dz = random.randint(3, 6), random.randint(3, 6), random.randint(3, 6)\n",
    "            box = (x0, y0, z0, x0 + dx, y0 + dy, z0 + dz)\n",
    "            if not self._check_overlap_3d(box):\n",
    "                self.obstacles.append(box)\n",
    "            attempts += 1\n",
    "\n",
    "        for x0, y0, z0, x1, y1, z1 in self.obstacles:\n",
    "            self.data.append(go.Mesh3d(\n",
    "                x=[x0, x1, x1, x0, x0, x1, x1, x0],\n",
    "                y=[y0, y0, y1, y1, y0, y0, y1, y1],\n",
    "                z=[z0, z0, z0, z0, z1, z1, z1, z1],\n",
    "                i=[0, 0, 0, 1, 1, 2, 2, 3, 4, 4, 5, 6],\n",
    "                j=[1, 2, 3, 2, 5, 3, 6, 0, 5, 6, 6, 7],\n",
    "                k=[2, 3, 0, 5, 6, 6, 7, 4, 6, 7, 4, 4],\n",
    "                color='purple',\n",
    "                opacity=0.7\n",
    "            ))\n",
    "\n",
    "    def plot_start_goal(self, start: Tuple, goal: Tuple):\n",
    "        if self.dimensions == 2:\n",
    "            self.data += [\n",
    "                go.Scatter(x=[start[0]], y=[start[1]], mode='markers', marker=dict(size=10, color='orange'), name=\"Start\"),\n",
    "                go.Scatter(x=[goal[0]], y=[goal[1]], mode='markers', marker=dict(size=10, color='green'), name=\"Goal\")\n",
    "            ]\n",
    "        else:\n",
    "            self.data += [\n",
    "                go.Scatter3d(x=[start[0]], y=[start[1]], z=[start[2]], mode='markers',\n",
    "                             marker=dict(size=5, color='orange'), name=\"Start\"),\n",
    "                go.Scatter3d(x=[goal[0]], y=[goal[1]], z=[goal[2]], mode='markers',\n",
    "                             marker=dict(size=5, color='green'), name=\"Goal\")\n",
    "            ]\n",
    "\n",
    "    def plot_path_trace(self, trace: List[Tuple]):\n",
    "        if not trace:\n",
    "            return  # do nothing\n",
    "        if self.dimensions == 2:\n",
    "            x, y = zip(*trace)\n",
    "            self.data.append(go.Scatter(x=x, y=y, mode='lines+markers', line=dict(color='red', width=3), name=\"Path\"))\n",
    "        else:\n",
    "            x, y, z = zip(*trace)\n",
    "            self.data.append(go.Scatter3d(x=x, y=y, z=z, mode='lines+markers',\n",
    "                                          line=dict(color='red', width=4), name=\"Path\"))\n",
    "\n",
    "    def show(self):\n",
    "        if self.dimensions == 2:\n",
    "            layout = go.Layout(\n",
    "                title=f\"2D Map - {self.map_type}\",\n",
    "                width=700, height=700,\n",
    "                xaxis=dict(showgrid=False),\n",
    "                yaxis=dict(showgrid=False, autorange='reversed'),\n",
    "                shapes=self.shapes\n",
    "            )\n",
    "            fig = go.Figure(data=self.data, layout=layout)\n",
    "        else:\n",
    "            fig = go.Figure(data=self.data)\n",
    "            fig.update_layout(\n",
    "                title=f\"3D Map - {self.map_type}\",\n",
    "                scene=dict(\n",
    "                    xaxis=dict(nticks=10),\n",
    "                    yaxis=dict(nticks=10),\n",
    "                    zaxis=dict(nticks=10)\n",
    "                ),\n",
    "                width=700,\n",
    "                height=700\n",
    "            )\n",
    "        fig.show()\n"
   ]
  },
  {
   "cell_type": "code",
   "execution_count": 3,
   "id": "3a7ac2d2",
   "metadata": {},
   "outputs": [
    {
     "data": {
      "application/vnd.plotly.v1+json": {
       "config": {
        "plotlyServerURL": "https://plot.ly"
       },
       "data": [
        {
         "marker": {
          "color": "orange",
          "size": 10
         },
         "mode": "markers",
         "name": "Start",
         "type": "scatter",
         "x": [
          5
         ],
         "y": [
          5
         ]
        },
        {
         "marker": {
          "color": "green",
          "size": 10
         },
         "mode": "markers",
         "name": "Goal",
         "type": "scatter",
         "x": [
          55
         ],
         "y": [
          55
         ]
        }
       ],
       "layout": {
        "height": 700,
        "shapes": [
         {
          "fillcolor": "purple",
          "line": {
           "color": "purple"
          },
          "opacity": 0.7,
          "type": "rect",
          "x0": 44,
          "x1": 51,
          "y0": 22,
          "y1": 30
         },
         {
          "fillcolor": "purple",
          "line": {
           "color": "purple"
          },
          "opacity": 0.7,
          "type": "rect",
          "x0": 11,
          "x1": 18,
          "y0": 3,
          "y1": 7
         },
         {
          "fillcolor": "purple",
          "line": {
           "color": "purple"
          },
          "opacity": 0.7,
          "type": "rect",
          "x0": 4,
          "x1": 12,
          "y0": 38,
          "y1": 46
         },
         {
          "fillcolor": "purple",
          "line": {
           "color": "purple"
          },
          "opacity": 0.7,
          "type": "rect",
          "x0": 19,
          "x1": 26,
          "y0": 12,
          "y1": 17
         },
         {
          "fillcolor": "purple",
          "line": {
           "color": "purple"
          },
          "opacity": 0.7,
          "type": "rect",
          "x0": 4,
          "x1": 9,
          "y0": 12,
          "y1": 19
         },
         {
          "fillcolor": "purple",
          "line": {
           "color": "purple"
          },
          "opacity": 0.7,
          "type": "rect",
          "x0": 32,
          "x1": 37,
          "y0": 11,
          "y1": 18
         },
         {
          "fillcolor": "purple",
          "line": {
           "color": "purple"
          },
          "opacity": 0.7,
          "type": "rect",
          "x0": 14,
          "x1": 18,
          "y0": 41,
          "y1": 47
         },
         {
          "fillcolor": "purple",
          "line": {
           "color": "purple"
          },
          "opacity": 0.7,
          "type": "rect",
          "x0": 8,
          "x1": 16,
          "y0": 49,
          "y1": 53
         },
         {
          "fillcolor": "purple",
          "line": {
           "color": "purple"
          },
          "opacity": 0.7,
          "type": "rect",
          "x0": 26,
          "x1": 32,
          "y0": 44,
          "y1": 51
         },
         {
          "fillcolor": "purple",
          "line": {
           "color": "purple"
          },
          "opacity": 0.7,
          "type": "rect",
          "x0": 17,
          "x1": 21,
          "y0": 29,
          "y1": 34
         }
        ],
        "template": {
         "data": {
          "bar": [
           {
            "error_x": {
             "color": "#2a3f5f"
            },
            "error_y": {
             "color": "#2a3f5f"
            },
            "marker": {
             "line": {
              "color": "#E5ECF6",
              "width": 0.5
             },
             "pattern": {
              "fillmode": "overlay",
              "size": 10,
              "solidity": 0.2
             }
            },
            "type": "bar"
           }
          ],
          "barpolar": [
           {
            "marker": {
             "line": {
              "color": "#E5ECF6",
              "width": 0.5
             },
             "pattern": {
              "fillmode": "overlay",
              "size": 10,
              "solidity": 0.2
             }
            },
            "type": "barpolar"
           }
          ],
          "carpet": [
           {
            "aaxis": {
             "endlinecolor": "#2a3f5f",
             "gridcolor": "white",
             "linecolor": "white",
             "minorgridcolor": "white",
             "startlinecolor": "#2a3f5f"
            },
            "baxis": {
             "endlinecolor": "#2a3f5f",
             "gridcolor": "white",
             "linecolor": "white",
             "minorgridcolor": "white",
             "startlinecolor": "#2a3f5f"
            },
            "type": "carpet"
           }
          ],
          "choropleth": [
           {
            "colorbar": {
             "outlinewidth": 0,
             "ticks": ""
            },
            "type": "choropleth"
           }
          ],
          "contour": [
           {
            "colorbar": {
             "outlinewidth": 0,
             "ticks": ""
            },
            "colorscale": [
             [
              0,
              "#0d0887"
             ],
             [
              0.1111111111111111,
              "#46039f"
             ],
             [
              0.2222222222222222,
              "#7201a8"
             ],
             [
              0.3333333333333333,
              "#9c179e"
             ],
             [
              0.4444444444444444,
              "#bd3786"
             ],
             [
              0.5555555555555556,
              "#d8576b"
             ],
             [
              0.6666666666666666,
              "#ed7953"
             ],
             [
              0.7777777777777778,
              "#fb9f3a"
             ],
             [
              0.8888888888888888,
              "#fdca26"
             ],
             [
              1,
              "#f0f921"
             ]
            ],
            "type": "contour"
           }
          ],
          "contourcarpet": [
           {
            "colorbar": {
             "outlinewidth": 0,
             "ticks": ""
            },
            "type": "contourcarpet"
           }
          ],
          "heatmap": [
           {
            "colorbar": {
             "outlinewidth": 0,
             "ticks": ""
            },
            "colorscale": [
             [
              0,
              "#0d0887"
             ],
             [
              0.1111111111111111,
              "#46039f"
             ],
             [
              0.2222222222222222,
              "#7201a8"
             ],
             [
              0.3333333333333333,
              "#9c179e"
             ],
             [
              0.4444444444444444,
              "#bd3786"
             ],
             [
              0.5555555555555556,
              "#d8576b"
             ],
             [
              0.6666666666666666,
              "#ed7953"
             ],
             [
              0.7777777777777778,
              "#fb9f3a"
             ],
             [
              0.8888888888888888,
              "#fdca26"
             ],
             [
              1,
              "#f0f921"
             ]
            ],
            "type": "heatmap"
           }
          ],
          "histogram": [
           {
            "marker": {
             "pattern": {
              "fillmode": "overlay",
              "size": 10,
              "solidity": 0.2
             }
            },
            "type": "histogram"
           }
          ],
          "histogram2d": [
           {
            "colorbar": {
             "outlinewidth": 0,
             "ticks": ""
            },
            "colorscale": [
             [
              0,
              "#0d0887"
             ],
             [
              0.1111111111111111,
              "#46039f"
             ],
             [
              0.2222222222222222,
              "#7201a8"
             ],
             [
              0.3333333333333333,
              "#9c179e"
             ],
             [
              0.4444444444444444,
              "#bd3786"
             ],
             [
              0.5555555555555556,
              "#d8576b"
             ],
             [
              0.6666666666666666,
              "#ed7953"
             ],
             [
              0.7777777777777778,
              "#fb9f3a"
             ],
             [
              0.8888888888888888,
              "#fdca26"
             ],
             [
              1,
              "#f0f921"
             ]
            ],
            "type": "histogram2d"
           }
          ],
          "histogram2dcontour": [
           {
            "colorbar": {
             "outlinewidth": 0,
             "ticks": ""
            },
            "colorscale": [
             [
              0,
              "#0d0887"
             ],
             [
              0.1111111111111111,
              "#46039f"
             ],
             [
              0.2222222222222222,
              "#7201a8"
             ],
             [
              0.3333333333333333,
              "#9c179e"
             ],
             [
              0.4444444444444444,
              "#bd3786"
             ],
             [
              0.5555555555555556,
              "#d8576b"
             ],
             [
              0.6666666666666666,
              "#ed7953"
             ],
             [
              0.7777777777777778,
              "#fb9f3a"
             ],
             [
              0.8888888888888888,
              "#fdca26"
             ],
             [
              1,
              "#f0f921"
             ]
            ],
            "type": "histogram2dcontour"
           }
          ],
          "mesh3d": [
           {
            "colorbar": {
             "outlinewidth": 0,
             "ticks": ""
            },
            "type": "mesh3d"
           }
          ],
          "parcoords": [
           {
            "line": {
             "colorbar": {
              "outlinewidth": 0,
              "ticks": ""
             }
            },
            "type": "parcoords"
           }
          ],
          "pie": [
           {
            "automargin": true,
            "type": "pie"
           }
          ],
          "scatter": [
           {
            "fillpattern": {
             "fillmode": "overlay",
             "size": 10,
             "solidity": 0.2
            },
            "type": "scatter"
           }
          ],
          "scatter3d": [
           {
            "line": {
             "colorbar": {
              "outlinewidth": 0,
              "ticks": ""
             }
            },
            "marker": {
             "colorbar": {
              "outlinewidth": 0,
              "ticks": ""
             }
            },
            "type": "scatter3d"
           }
          ],
          "scattercarpet": [
           {
            "marker": {
             "colorbar": {
              "outlinewidth": 0,
              "ticks": ""
             }
            },
            "type": "scattercarpet"
           }
          ],
          "scattergeo": [
           {
            "marker": {
             "colorbar": {
              "outlinewidth": 0,
              "ticks": ""
             }
            },
            "type": "scattergeo"
           }
          ],
          "scattergl": [
           {
            "marker": {
             "colorbar": {
              "outlinewidth": 0,
              "ticks": ""
             }
            },
            "type": "scattergl"
           }
          ],
          "scattermap": [
           {
            "marker": {
             "colorbar": {
              "outlinewidth": 0,
              "ticks": ""
             }
            },
            "type": "scattermap"
           }
          ],
          "scattermapbox": [
           {
            "marker": {
             "colorbar": {
              "outlinewidth": 0,
              "ticks": ""
             }
            },
            "type": "scattermapbox"
           }
          ],
          "scatterpolar": [
           {
            "marker": {
             "colorbar": {
              "outlinewidth": 0,
              "ticks": ""
             }
            },
            "type": "scatterpolar"
           }
          ],
          "scatterpolargl": [
           {
            "marker": {
             "colorbar": {
              "outlinewidth": 0,
              "ticks": ""
             }
            },
            "type": "scatterpolargl"
           }
          ],
          "scatterternary": [
           {
            "marker": {
             "colorbar": {
              "outlinewidth": 0,
              "ticks": ""
             }
            },
            "type": "scatterternary"
           }
          ],
          "surface": [
           {
            "colorbar": {
             "outlinewidth": 0,
             "ticks": ""
            },
            "colorscale": [
             [
              0,
              "#0d0887"
             ],
             [
              0.1111111111111111,
              "#46039f"
             ],
             [
              0.2222222222222222,
              "#7201a8"
             ],
             [
              0.3333333333333333,
              "#9c179e"
             ],
             [
              0.4444444444444444,
              "#bd3786"
             ],
             [
              0.5555555555555556,
              "#d8576b"
             ],
             [
              0.6666666666666666,
              "#ed7953"
             ],
             [
              0.7777777777777778,
              "#fb9f3a"
             ],
             [
              0.8888888888888888,
              "#fdca26"
             ],
             [
              1,
              "#f0f921"
             ]
            ],
            "type": "surface"
           }
          ],
          "table": [
           {
            "cells": {
             "fill": {
              "color": "#EBF0F8"
             },
             "line": {
              "color": "white"
             }
            },
            "header": {
             "fill": {
              "color": "#C8D4E3"
             },
             "line": {
              "color": "white"
             }
            },
            "type": "table"
           }
          ]
         },
         "layout": {
          "annotationdefaults": {
           "arrowcolor": "#2a3f5f",
           "arrowhead": 0,
           "arrowwidth": 1
          },
          "autotypenumbers": "strict",
          "coloraxis": {
           "colorbar": {
            "outlinewidth": 0,
            "ticks": ""
           }
          },
          "colorscale": {
           "diverging": [
            [
             0,
             "#8e0152"
            ],
            [
             0.1,
             "#c51b7d"
            ],
            [
             0.2,
             "#de77ae"
            ],
            [
             0.3,
             "#f1b6da"
            ],
            [
             0.4,
             "#fde0ef"
            ],
            [
             0.5,
             "#f7f7f7"
            ],
            [
             0.6,
             "#e6f5d0"
            ],
            [
             0.7,
             "#b8e186"
            ],
            [
             0.8,
             "#7fbc41"
            ],
            [
             0.9,
             "#4d9221"
            ],
            [
             1,
             "#276419"
            ]
           ],
           "sequential": [
            [
             0,
             "#0d0887"
            ],
            [
             0.1111111111111111,
             "#46039f"
            ],
            [
             0.2222222222222222,
             "#7201a8"
            ],
            [
             0.3333333333333333,
             "#9c179e"
            ],
            [
             0.4444444444444444,
             "#bd3786"
            ],
            [
             0.5555555555555556,
             "#d8576b"
            ],
            [
             0.6666666666666666,
             "#ed7953"
            ],
            [
             0.7777777777777778,
             "#fb9f3a"
            ],
            [
             0.8888888888888888,
             "#fdca26"
            ],
            [
             1,
             "#f0f921"
            ]
           ],
           "sequentialminus": [
            [
             0,
             "#0d0887"
            ],
            [
             0.1111111111111111,
             "#46039f"
            ],
            [
             0.2222222222222222,
             "#7201a8"
            ],
            [
             0.3333333333333333,
             "#9c179e"
            ],
            [
             0.4444444444444444,
             "#bd3786"
            ],
            [
             0.5555555555555556,
             "#d8576b"
            ],
            [
             0.6666666666666666,
             "#ed7953"
            ],
            [
             0.7777777777777778,
             "#fb9f3a"
            ],
            [
             0.8888888888888888,
             "#fdca26"
            ],
            [
             1,
             "#f0f921"
            ]
           ]
          },
          "colorway": [
           "#636efa",
           "#EF553B",
           "#00cc96",
           "#ab63fa",
           "#FFA15A",
           "#19d3f3",
           "#FF6692",
           "#B6E880",
           "#FF97FF",
           "#FECB52"
          ],
          "font": {
           "color": "#2a3f5f"
          },
          "geo": {
           "bgcolor": "white",
           "lakecolor": "white",
           "landcolor": "#E5ECF6",
           "showlakes": true,
           "showland": true,
           "subunitcolor": "white"
          },
          "hoverlabel": {
           "align": "left"
          },
          "hovermode": "closest",
          "mapbox": {
           "style": "light"
          },
          "paper_bgcolor": "white",
          "plot_bgcolor": "#E5ECF6",
          "polar": {
           "angularaxis": {
            "gridcolor": "white",
            "linecolor": "white",
            "ticks": ""
           },
           "bgcolor": "#E5ECF6",
           "radialaxis": {
            "gridcolor": "white",
            "linecolor": "white",
            "ticks": ""
           }
          },
          "scene": {
           "xaxis": {
            "backgroundcolor": "#E5ECF6",
            "gridcolor": "white",
            "gridwidth": 2,
            "linecolor": "white",
            "showbackground": true,
            "ticks": "",
            "zerolinecolor": "white"
           },
           "yaxis": {
            "backgroundcolor": "#E5ECF6",
            "gridcolor": "white",
            "gridwidth": 2,
            "linecolor": "white",
            "showbackground": true,
            "ticks": "",
            "zerolinecolor": "white"
           },
           "zaxis": {
            "backgroundcolor": "#E5ECF6",
            "gridcolor": "white",
            "gridwidth": 2,
            "linecolor": "white",
            "showbackground": true,
            "ticks": "",
            "zerolinecolor": "white"
           }
          },
          "shapedefaults": {
           "line": {
            "color": "#2a3f5f"
           }
          },
          "ternary": {
           "aaxis": {
            "gridcolor": "white",
            "linecolor": "white",
            "ticks": ""
           },
           "baxis": {
            "gridcolor": "white",
            "linecolor": "white",
            "ticks": ""
           },
           "bgcolor": "#E5ECF6",
           "caxis": {
            "gridcolor": "white",
            "linecolor": "white",
            "ticks": ""
           }
          },
          "title": {
           "x": 0.05
          },
          "xaxis": {
           "automargin": true,
           "gridcolor": "white",
           "linecolor": "white",
           "ticks": "",
           "title": {
            "standoff": 15
           },
           "zerolinecolor": "white",
           "zerolinewidth": 2
          },
          "yaxis": {
           "automargin": true,
           "gridcolor": "white",
           "linecolor": "white",
           "ticks": "",
           "title": {
            "standoff": 15
           },
           "zerolinecolor": "white",
           "zerolinewidth": 2
          }
         }
        },
        "title": {
         "text": "2D Map - multi_obstacle_narrow_passage"
        },
        "width": 700,
        "xaxis": {
         "showgrid": false
        },
        "yaxis": {
         "autorange": "reversed",
         "showgrid": false
        }
       }
      }
     },
     "metadata": {},
     "output_type": "display_data"
    }
   ],
   "source": [
    "vis2d = MapVisualizer(dimensions=2, bounds=(60, 60), map_type=\"multi_obstacle_narrow_passage\")\n",
    "vis2d.plot_start_goal((5, 5), (55, 55))\n",
    "vis2d.plot_path_trace([])  # 경로가 없을 경우\n",
    "vis2d.show()\n"
   ]
  },
  {
   "cell_type": "code",
   "execution_count": 4,
   "id": "f2724292",
   "metadata": {},
   "outputs": [
    {
     "data": {
      "application/vnd.plotly.v1+json": {
       "config": {
        "plotlyServerURL": "https://plot.ly"
       },
       "data": [
        {
         "color": "purple",
         "i": [
          0,
          0,
          0,
          1,
          1,
          2,
          2,
          3,
          4,
          4,
          5,
          6
         ],
         "j": [
          1,
          2,
          3,
          2,
          5,
          3,
          6,
          0,
          5,
          6,
          6,
          7
         ],
         "k": [
          2,
          3,
          0,
          5,
          6,
          6,
          7,
          4,
          6,
          7,
          4,
          4
         ],
         "opacity": 0.7,
         "type": "mesh3d",
         "x": [
          22,
          25,
          25,
          22,
          22,
          25,
          25,
          22
         ],
         "y": [
          36,
          36,
          40,
          40,
          36,
          36,
          40,
          40
         ],
         "z": [
          19,
          19,
          19,
          19,
          25,
          25,
          25,
          25
         ]
        },
        {
         "color": "purple",
         "i": [
          0,
          0,
          0,
          1,
          1,
          2,
          2,
          3,
          4,
          4,
          5,
          6
         ],
         "j": [
          1,
          2,
          3,
          2,
          5,
          3,
          6,
          0,
          5,
          6,
          6,
          7
         ],
         "k": [
          2,
          3,
          0,
          5,
          6,
          6,
          7,
          4,
          6,
          7,
          4,
          4
         ],
         "opacity": 0.7,
         "type": "mesh3d",
         "x": [
          25,
          28,
          28,
          25,
          25,
          28,
          28,
          25
         ],
         "y": [
          13,
          13,
          19,
          19,
          13,
          13,
          19,
          19
         ],
         "z": [
          9,
          9,
          9,
          9,
          14,
          14,
          14,
          14
         ]
        },
        {
         "color": "purple",
         "i": [
          0,
          0,
          0,
          1,
          1,
          2,
          2,
          3,
          4,
          4,
          5,
          6
         ],
         "j": [
          1,
          2,
          3,
          2,
          5,
          3,
          6,
          0,
          5,
          6,
          6,
          7
         ],
         "k": [
          2,
          3,
          0,
          5,
          6,
          6,
          7,
          4,
          6,
          7,
          4,
          4
         ],
         "opacity": 0.7,
         "type": "mesh3d",
         "x": [
          14,
          19,
          19,
          14,
          14,
          19,
          19,
          14
         ],
         "y": [
          19,
          19,
          23,
          23,
          19,
          19,
          23,
          23
         ],
         "z": [
          1,
          1,
          1,
          1,
          4,
          4,
          4,
          4
         ]
        },
        {
         "color": "purple",
         "i": [
          0,
          0,
          0,
          1,
          1,
          2,
          2,
          3,
          4,
          4,
          5,
          6
         ],
         "j": [
          1,
          2,
          3,
          2,
          5,
          3,
          6,
          0,
          5,
          6,
          6,
          7
         ],
         "k": [
          2,
          3,
          0,
          5,
          6,
          6,
          7,
          4,
          6,
          7,
          4,
          4
         ],
         "opacity": 0.7,
         "type": "mesh3d",
         "x": [
          3,
          7,
          7,
          3,
          3,
          7,
          7,
          3
         ],
         "y": [
          8,
          8,
          13,
          13,
          8,
          8,
          13,
          13
         ],
         "z": [
          3,
          3,
          3,
          3,
          8,
          8,
          8,
          8
         ]
        },
        {
         "color": "purple",
         "i": [
          0,
          0,
          0,
          1,
          1,
          2,
          2,
          3,
          4,
          4,
          5,
          6
         ],
         "j": [
          1,
          2,
          3,
          2,
          5,
          3,
          6,
          0,
          5,
          6,
          6,
          7
         ],
         "k": [
          2,
          3,
          0,
          5,
          6,
          6,
          7,
          4,
          6,
          7,
          4,
          4
         ],
         "opacity": 0.7,
         "type": "mesh3d",
         "x": [
          33,
          39,
          39,
          33,
          33,
          39,
          39,
          33
         ],
         "y": [
          1,
          1,
          4,
          4,
          1,
          1,
          4,
          4
         ],
         "z": [
          5,
          5,
          5,
          5,
          11,
          11,
          11,
          11
         ]
        },
        {
         "color": "purple",
         "i": [
          0,
          0,
          0,
          1,
          1,
          2,
          2,
          3,
          4,
          4,
          5,
          6
         ],
         "j": [
          1,
          2,
          3,
          2,
          5,
          3,
          6,
          0,
          5,
          6,
          6,
          7
         ],
         "k": [
          2,
          3,
          0,
          5,
          6,
          6,
          7,
          4,
          6,
          7,
          4,
          4
         ],
         "opacity": 0.7,
         "type": "mesh3d",
         "x": [
          33,
          39,
          39,
          33,
          33,
          39,
          39,
          33
         ],
         "y": [
          11,
          11,
          15,
          15,
          11,
          11,
          15,
          15
         ],
         "z": [
          15,
          15,
          15,
          15,
          21,
          21,
          21,
          21
         ]
        },
        {
         "color": "purple",
         "i": [
          0,
          0,
          0,
          1,
          1,
          2,
          2,
          3,
          4,
          4,
          5,
          6
         ],
         "j": [
          1,
          2,
          3,
          2,
          5,
          3,
          6,
          0,
          5,
          6,
          6,
          7
         ],
         "k": [
          2,
          3,
          0,
          5,
          6,
          6,
          7,
          4,
          6,
          7,
          4,
          4
         ],
         "opacity": 0.7,
         "type": "mesh3d",
         "x": [
          0,
          6,
          6,
          0,
          0,
          6,
          6,
          0
         ],
         "y": [
          13,
          13,
          16,
          16,
          13,
          13,
          16,
          16
         ],
         "z": [
          9,
          9,
          9,
          9,
          14,
          14,
          14,
          14
         ]
        },
        {
         "color": "purple",
         "i": [
          0,
          0,
          0,
          1,
          1,
          2,
          2,
          3,
          4,
          4,
          5,
          6
         ],
         "j": [
          1,
          2,
          3,
          2,
          5,
          3,
          6,
          0,
          5,
          6,
          6,
          7
         ],
         "k": [
          2,
          3,
          0,
          5,
          6,
          6,
          7,
          4,
          6,
          7,
          4,
          4
         ],
         "opacity": 0.7,
         "type": "mesh3d",
         "x": [
          3,
          7,
          7,
          3,
          3,
          7,
          7,
          3
         ],
         "y": [
          37,
          37,
          43,
          43,
          37,
          37,
          43,
          43
         ],
         "z": [
          18,
          18,
          18,
          18,
          24,
          24,
          24,
          24
         ]
        },
        {
         "color": "purple",
         "i": [
          0,
          0,
          0,
          1,
          1,
          2,
          2,
          3,
          4,
          4,
          5,
          6
         ],
         "j": [
          1,
          2,
          3,
          2,
          5,
          3,
          6,
          0,
          5,
          6,
          6,
          7
         ],
         "k": [
          2,
          3,
          0,
          5,
          6,
          6,
          7,
          4,
          6,
          7,
          4,
          4
         ],
         "opacity": 0.7,
         "type": "mesh3d",
         "x": [
          25,
          28,
          28,
          25,
          25,
          28,
          28,
          25
         ],
         "y": [
          38,
          38,
          43,
          43,
          38,
          38,
          43,
          43
         ],
         "z": [
          12,
          12,
          12,
          12,
          15,
          15,
          15,
          15
         ]
        },
        {
         "color": "purple",
         "i": [
          0,
          0,
          0,
          1,
          1,
          2,
          2,
          3,
          4,
          4,
          5,
          6
         ],
         "j": [
          1,
          2,
          3,
          2,
          5,
          3,
          6,
          0,
          5,
          6,
          6,
          7
         ],
         "k": [
          2,
          3,
          0,
          5,
          6,
          6,
          7,
          4,
          6,
          7,
          4,
          4
         ],
         "opacity": 0.7,
         "type": "mesh3d",
         "x": [
          13,
          16,
          16,
          13,
          13,
          16,
          16,
          13
         ],
         "y": [
          36,
          36,
          40,
          40,
          36,
          36,
          40,
          40
         ],
         "z": [
          0,
          0,
          0,
          0,
          3,
          3,
          3,
          3
         ]
        },
        {
         "color": "purple",
         "i": [
          0,
          0,
          0,
          1,
          1,
          2,
          2,
          3,
          4,
          4,
          5,
          6
         ],
         "j": [
          1,
          2,
          3,
          2,
          5,
          3,
          6,
          0,
          5,
          6,
          6,
          7
         ],
         "k": [
          2,
          3,
          0,
          5,
          6,
          6,
          7,
          4,
          6,
          7,
          4,
          4
         ],
         "opacity": 0.7,
         "type": "mesh3d",
         "x": [
          24,
          27,
          27,
          24,
          24,
          27,
          27,
          24
         ],
         "y": [
          18,
          18,
          21,
          21,
          18,
          18,
          21,
          21
         ],
         "z": [
          18,
          18,
          18,
          18,
          21,
          21,
          21,
          21
         ]
        },
        {
         "color": "purple",
         "i": [
          0,
          0,
          0,
          1,
          1,
          2,
          2,
          3,
          4,
          4,
          5,
          6
         ],
         "j": [
          1,
          2,
          3,
          2,
          5,
          3,
          6,
          0,
          5,
          6,
          6,
          7
         ],
         "k": [
          2,
          3,
          0,
          5,
          6,
          6,
          7,
          4,
          6,
          7,
          4,
          4
         ],
         "opacity": 0.7,
         "type": "mesh3d",
         "x": [
          17,
          22,
          22,
          17,
          17,
          22,
          22,
          17
         ],
         "y": [
          5,
          5,
          10,
          10,
          5,
          5,
          10,
          10
         ],
         "z": [
          8,
          8,
          8,
          8,
          12,
          12,
          12,
          12
         ]
        },
        {
         "color": "purple",
         "i": [
          0,
          0,
          0,
          1,
          1,
          2,
          2,
          3,
          4,
          4,
          5,
          6
         ],
         "j": [
          1,
          2,
          3,
          2,
          5,
          3,
          6,
          0,
          5,
          6,
          6,
          7
         ],
         "k": [
          2,
          3,
          0,
          5,
          6,
          6,
          7,
          4,
          6,
          7,
          4,
          4
         ],
         "opacity": 0.7,
         "type": "mesh3d",
         "x": [
          9,
          14,
          14,
          9,
          9,
          14,
          14,
          9
         ],
         "y": [
          2,
          2,
          8,
          8,
          2,
          2,
          8,
          8
         ],
         "z": [
          7,
          7,
          7,
          7,
          12,
          12,
          12,
          12
         ]
        },
        {
         "color": "purple",
         "i": [
          0,
          0,
          0,
          1,
          1,
          2,
          2,
          3,
          4,
          4,
          5,
          6
         ],
         "j": [
          1,
          2,
          3,
          2,
          5,
          3,
          6,
          0,
          5,
          6,
          6,
          7
         ],
         "k": [
          2,
          3,
          0,
          5,
          6,
          6,
          7,
          4,
          6,
          7,
          4,
          4
         ],
         "opacity": 0.7,
         "type": "mesh3d",
         "x": [
          33,
          39,
          39,
          33,
          33,
          39,
          39,
          33
         ],
         "y": [
          36,
          36,
          42,
          42,
          36,
          36,
          42,
          42
         ],
         "z": [
          5,
          5,
          5,
          5,
          8,
          8,
          8,
          8
         ]
        },
        {
         "color": "purple",
         "i": [
          0,
          0,
          0,
          1,
          1,
          2,
          2,
          3,
          4,
          4,
          5,
          6
         ],
         "j": [
          1,
          2,
          3,
          2,
          5,
          3,
          6,
          0,
          5,
          6,
          6,
          7
         ],
         "k": [
          2,
          3,
          0,
          5,
          6,
          6,
          7,
          4,
          6,
          7,
          4,
          4
         ],
         "opacity": 0.7,
         "type": "mesh3d",
         "x": [
          14,
          20,
          20,
          14,
          14,
          20,
          20,
          14
         ],
         "y": [
          24,
          24,
          28,
          28,
          24,
          24,
          28,
          28
         ],
         "z": [
          20,
          20,
          20,
          20,
          24,
          24,
          24,
          24
         ]
        },
        {
         "color": "purple",
         "i": [
          0,
          0,
          0,
          1,
          1,
          2,
          2,
          3,
          4,
          4,
          5,
          6
         ],
         "j": [
          1,
          2,
          3,
          2,
          5,
          3,
          6,
          0,
          5,
          6,
          6,
          7
         ],
         "k": [
          2,
          3,
          0,
          5,
          6,
          6,
          7,
          4,
          6,
          7,
          4,
          4
         ],
         "opacity": 0.7,
         "type": "mesh3d",
         "x": [
          7,
          12,
          12,
          7,
          7,
          12,
          12,
          7
         ],
         "y": [
          3,
          3,
          7,
          7,
          3,
          3,
          7,
          7
         ],
         "z": [
          20,
          20,
          20,
          20,
          24,
          24,
          24,
          24
         ]
        },
        {
         "color": "purple",
         "i": [
          0,
          0,
          0,
          1,
          1,
          2,
          2,
          3,
          4,
          4,
          5,
          6
         ],
         "j": [
          1,
          2,
          3,
          2,
          5,
          3,
          6,
          0,
          5,
          6,
          6,
          7
         ],
         "k": [
          2,
          3,
          0,
          5,
          6,
          6,
          7,
          4,
          6,
          7,
          4,
          4
         ],
         "opacity": 0.7,
         "type": "mesh3d",
         "x": [
          5,
          9,
          9,
          5,
          5,
          9,
          9,
          5
         ],
         "y": [
          16,
          16,
          19,
          19,
          16,
          16,
          19,
          19
         ],
         "z": [
          17,
          17,
          17,
          17,
          21,
          21,
          21,
          21
         ]
        },
        {
         "color": "purple",
         "i": [
          0,
          0,
          0,
          1,
          1,
          2,
          2,
          3,
          4,
          4,
          5,
          6
         ],
         "j": [
          1,
          2,
          3,
          2,
          5,
          3,
          6,
          0,
          5,
          6,
          6,
          7
         ],
         "k": [
          2,
          3,
          0,
          5,
          6,
          6,
          7,
          4,
          6,
          7,
          4,
          4
         ],
         "opacity": 0.7,
         "type": "mesh3d",
         "x": [
          12,
          16,
          16,
          12,
          12,
          16,
          16,
          12
         ],
         "y": [
          13,
          13,
          18,
          18,
          13,
          13,
          18,
          18
         ],
         "z": [
          11,
          11,
          11,
          11,
          17,
          17,
          17,
          17
         ]
        },
        {
         "color": "purple",
         "i": [
          0,
          0,
          0,
          1,
          1,
          2,
          2,
          3,
          4,
          4,
          5,
          6
         ],
         "j": [
          1,
          2,
          3,
          2,
          5,
          3,
          6,
          0,
          5,
          6,
          6,
          7
         ],
         "k": [
          2,
          3,
          0,
          5,
          6,
          6,
          7,
          4,
          6,
          7,
          4,
          4
         ],
         "opacity": 0.7,
         "type": "mesh3d",
         "x": [
          29,
          32,
          32,
          29,
          29,
          32,
          32,
          29
         ],
         "y": [
          18,
          18,
          21,
          21,
          18,
          18,
          21,
          21
         ],
         "z": [
          1,
          1,
          1,
          1,
          5,
          5,
          5,
          5
         ]
        },
        {
         "color": "purple",
         "i": [
          0,
          0,
          0,
          1,
          1,
          2,
          2,
          3,
          4,
          4,
          5,
          6
         ],
         "j": [
          1,
          2,
          3,
          2,
          5,
          3,
          6,
          0,
          5,
          6,
          6,
          7
         ],
         "k": [
          2,
          3,
          0,
          5,
          6,
          6,
          7,
          4,
          6,
          7,
          4,
          4
         ],
         "opacity": 0.7,
         "type": "mesh3d",
         "x": [
          25,
          29,
          29,
          25,
          25,
          29,
          29,
          25
         ],
         "y": [
          8,
          8,
          11,
          11,
          8,
          8,
          11,
          11
         ],
         "z": [
          5,
          5,
          5,
          5,
          10,
          10,
          10,
          10
         ]
        },
        {
         "marker": {
          "color": "orange",
          "size": 5
         },
         "mode": "markers",
         "name": "Start",
         "type": "scatter3d",
         "x": [
          0
         ],
         "y": [
          0
         ],
         "z": [
          0
         ]
        },
        {
         "marker": {
          "color": "green",
          "size": 5
         },
         "mode": "markers",
         "name": "Goal",
         "type": "scatter3d",
         "x": [
          40
         ],
         "y": [
          40
         ],
         "z": [
          25
         ]
        },
        {
         "line": {
          "color": "red",
          "width": 4
         },
         "mode": "lines+markers",
         "name": "Path",
         "type": "scatter3d",
         "x": [
          0,
          10,
          20,
          40
         ],
         "y": [
          0,
          10,
          20,
          40
         ],
         "z": [
          0,
          10,
          15,
          25
         ]
        }
       ],
       "layout": {
        "height": 700,
        "scene": {
         "xaxis": {
          "nticks": 10
         },
         "yaxis": {
          "nticks": 10
         },
         "zaxis": {
          "nticks": 10
         }
        },
        "template": {
         "data": {
          "bar": [
           {
            "error_x": {
             "color": "#2a3f5f"
            },
            "error_y": {
             "color": "#2a3f5f"
            },
            "marker": {
             "line": {
              "color": "#E5ECF6",
              "width": 0.5
             },
             "pattern": {
              "fillmode": "overlay",
              "size": 10,
              "solidity": 0.2
             }
            },
            "type": "bar"
           }
          ],
          "barpolar": [
           {
            "marker": {
             "line": {
              "color": "#E5ECF6",
              "width": 0.5
             },
             "pattern": {
              "fillmode": "overlay",
              "size": 10,
              "solidity": 0.2
             }
            },
            "type": "barpolar"
           }
          ],
          "carpet": [
           {
            "aaxis": {
             "endlinecolor": "#2a3f5f",
             "gridcolor": "white",
             "linecolor": "white",
             "minorgridcolor": "white",
             "startlinecolor": "#2a3f5f"
            },
            "baxis": {
             "endlinecolor": "#2a3f5f",
             "gridcolor": "white",
             "linecolor": "white",
             "minorgridcolor": "white",
             "startlinecolor": "#2a3f5f"
            },
            "type": "carpet"
           }
          ],
          "choropleth": [
           {
            "colorbar": {
             "outlinewidth": 0,
             "ticks": ""
            },
            "type": "choropleth"
           }
          ],
          "contour": [
           {
            "colorbar": {
             "outlinewidth": 0,
             "ticks": ""
            },
            "colorscale": [
             [
              0,
              "#0d0887"
             ],
             [
              0.1111111111111111,
              "#46039f"
             ],
             [
              0.2222222222222222,
              "#7201a8"
             ],
             [
              0.3333333333333333,
              "#9c179e"
             ],
             [
              0.4444444444444444,
              "#bd3786"
             ],
             [
              0.5555555555555556,
              "#d8576b"
             ],
             [
              0.6666666666666666,
              "#ed7953"
             ],
             [
              0.7777777777777778,
              "#fb9f3a"
             ],
             [
              0.8888888888888888,
              "#fdca26"
             ],
             [
              1,
              "#f0f921"
             ]
            ],
            "type": "contour"
           }
          ],
          "contourcarpet": [
           {
            "colorbar": {
             "outlinewidth": 0,
             "ticks": ""
            },
            "type": "contourcarpet"
           }
          ],
          "heatmap": [
           {
            "colorbar": {
             "outlinewidth": 0,
             "ticks": ""
            },
            "colorscale": [
             [
              0,
              "#0d0887"
             ],
             [
              0.1111111111111111,
              "#46039f"
             ],
             [
              0.2222222222222222,
              "#7201a8"
             ],
             [
              0.3333333333333333,
              "#9c179e"
             ],
             [
              0.4444444444444444,
              "#bd3786"
             ],
             [
              0.5555555555555556,
              "#d8576b"
             ],
             [
              0.6666666666666666,
              "#ed7953"
             ],
             [
              0.7777777777777778,
              "#fb9f3a"
             ],
             [
              0.8888888888888888,
              "#fdca26"
             ],
             [
              1,
              "#f0f921"
             ]
            ],
            "type": "heatmap"
           }
          ],
          "histogram": [
           {
            "marker": {
             "pattern": {
              "fillmode": "overlay",
              "size": 10,
              "solidity": 0.2
             }
            },
            "type": "histogram"
           }
          ],
          "histogram2d": [
           {
            "colorbar": {
             "outlinewidth": 0,
             "ticks": ""
            },
            "colorscale": [
             [
              0,
              "#0d0887"
             ],
             [
              0.1111111111111111,
              "#46039f"
             ],
             [
              0.2222222222222222,
              "#7201a8"
             ],
             [
              0.3333333333333333,
              "#9c179e"
             ],
             [
              0.4444444444444444,
              "#bd3786"
             ],
             [
              0.5555555555555556,
              "#d8576b"
             ],
             [
              0.6666666666666666,
              "#ed7953"
             ],
             [
              0.7777777777777778,
              "#fb9f3a"
             ],
             [
              0.8888888888888888,
              "#fdca26"
             ],
             [
              1,
              "#f0f921"
             ]
            ],
            "type": "histogram2d"
           }
          ],
          "histogram2dcontour": [
           {
            "colorbar": {
             "outlinewidth": 0,
             "ticks": ""
            },
            "colorscale": [
             [
              0,
              "#0d0887"
             ],
             [
              0.1111111111111111,
              "#46039f"
             ],
             [
              0.2222222222222222,
              "#7201a8"
             ],
             [
              0.3333333333333333,
              "#9c179e"
             ],
             [
              0.4444444444444444,
              "#bd3786"
             ],
             [
              0.5555555555555556,
              "#d8576b"
             ],
             [
              0.6666666666666666,
              "#ed7953"
             ],
             [
              0.7777777777777778,
              "#fb9f3a"
             ],
             [
              0.8888888888888888,
              "#fdca26"
             ],
             [
              1,
              "#f0f921"
             ]
            ],
            "type": "histogram2dcontour"
           }
          ],
          "mesh3d": [
           {
            "colorbar": {
             "outlinewidth": 0,
             "ticks": ""
            },
            "type": "mesh3d"
           }
          ],
          "parcoords": [
           {
            "line": {
             "colorbar": {
              "outlinewidth": 0,
              "ticks": ""
             }
            },
            "type": "parcoords"
           }
          ],
          "pie": [
           {
            "automargin": true,
            "type": "pie"
           }
          ],
          "scatter": [
           {
            "fillpattern": {
             "fillmode": "overlay",
             "size": 10,
             "solidity": 0.2
            },
            "type": "scatter"
           }
          ],
          "scatter3d": [
           {
            "line": {
             "colorbar": {
              "outlinewidth": 0,
              "ticks": ""
             }
            },
            "marker": {
             "colorbar": {
              "outlinewidth": 0,
              "ticks": ""
             }
            },
            "type": "scatter3d"
           }
          ],
          "scattercarpet": [
           {
            "marker": {
             "colorbar": {
              "outlinewidth": 0,
              "ticks": ""
             }
            },
            "type": "scattercarpet"
           }
          ],
          "scattergeo": [
           {
            "marker": {
             "colorbar": {
              "outlinewidth": 0,
              "ticks": ""
             }
            },
            "type": "scattergeo"
           }
          ],
          "scattergl": [
           {
            "marker": {
             "colorbar": {
              "outlinewidth": 0,
              "ticks": ""
             }
            },
            "type": "scattergl"
           }
          ],
          "scattermap": [
           {
            "marker": {
             "colorbar": {
              "outlinewidth": 0,
              "ticks": ""
             }
            },
            "type": "scattermap"
           }
          ],
          "scattermapbox": [
           {
            "marker": {
             "colorbar": {
              "outlinewidth": 0,
              "ticks": ""
             }
            },
            "type": "scattermapbox"
           }
          ],
          "scatterpolar": [
           {
            "marker": {
             "colorbar": {
              "outlinewidth": 0,
              "ticks": ""
             }
            },
            "type": "scatterpolar"
           }
          ],
          "scatterpolargl": [
           {
            "marker": {
             "colorbar": {
              "outlinewidth": 0,
              "ticks": ""
             }
            },
            "type": "scatterpolargl"
           }
          ],
          "scatterternary": [
           {
            "marker": {
             "colorbar": {
              "outlinewidth": 0,
              "ticks": ""
             }
            },
            "type": "scatterternary"
           }
          ],
          "surface": [
           {
            "colorbar": {
             "outlinewidth": 0,
             "ticks": ""
            },
            "colorscale": [
             [
              0,
              "#0d0887"
             ],
             [
              0.1111111111111111,
              "#46039f"
             ],
             [
              0.2222222222222222,
              "#7201a8"
             ],
             [
              0.3333333333333333,
              "#9c179e"
             ],
             [
              0.4444444444444444,
              "#bd3786"
             ],
             [
              0.5555555555555556,
              "#d8576b"
             ],
             [
              0.6666666666666666,
              "#ed7953"
             ],
             [
              0.7777777777777778,
              "#fb9f3a"
             ],
             [
              0.8888888888888888,
              "#fdca26"
             ],
             [
              1,
              "#f0f921"
             ]
            ],
            "type": "surface"
           }
          ],
          "table": [
           {
            "cells": {
             "fill": {
              "color": "#EBF0F8"
             },
             "line": {
              "color": "white"
             }
            },
            "header": {
             "fill": {
              "color": "#C8D4E3"
             },
             "line": {
              "color": "white"
             }
            },
            "type": "table"
           }
          ]
         },
         "layout": {
          "annotationdefaults": {
           "arrowcolor": "#2a3f5f",
           "arrowhead": 0,
           "arrowwidth": 1
          },
          "autotypenumbers": "strict",
          "coloraxis": {
           "colorbar": {
            "outlinewidth": 0,
            "ticks": ""
           }
          },
          "colorscale": {
           "diverging": [
            [
             0,
             "#8e0152"
            ],
            [
             0.1,
             "#c51b7d"
            ],
            [
             0.2,
             "#de77ae"
            ],
            [
             0.3,
             "#f1b6da"
            ],
            [
             0.4,
             "#fde0ef"
            ],
            [
             0.5,
             "#f7f7f7"
            ],
            [
             0.6,
             "#e6f5d0"
            ],
            [
             0.7,
             "#b8e186"
            ],
            [
             0.8,
             "#7fbc41"
            ],
            [
             0.9,
             "#4d9221"
            ],
            [
             1,
             "#276419"
            ]
           ],
           "sequential": [
            [
             0,
             "#0d0887"
            ],
            [
             0.1111111111111111,
             "#46039f"
            ],
            [
             0.2222222222222222,
             "#7201a8"
            ],
            [
             0.3333333333333333,
             "#9c179e"
            ],
            [
             0.4444444444444444,
             "#bd3786"
            ],
            [
             0.5555555555555556,
             "#d8576b"
            ],
            [
             0.6666666666666666,
             "#ed7953"
            ],
            [
             0.7777777777777778,
             "#fb9f3a"
            ],
            [
             0.8888888888888888,
             "#fdca26"
            ],
            [
             1,
             "#f0f921"
            ]
           ],
           "sequentialminus": [
            [
             0,
             "#0d0887"
            ],
            [
             0.1111111111111111,
             "#46039f"
            ],
            [
             0.2222222222222222,
             "#7201a8"
            ],
            [
             0.3333333333333333,
             "#9c179e"
            ],
            [
             0.4444444444444444,
             "#bd3786"
            ],
            [
             0.5555555555555556,
             "#d8576b"
            ],
            [
             0.6666666666666666,
             "#ed7953"
            ],
            [
             0.7777777777777778,
             "#fb9f3a"
            ],
            [
             0.8888888888888888,
             "#fdca26"
            ],
            [
             1,
             "#f0f921"
            ]
           ]
          },
          "colorway": [
           "#636efa",
           "#EF553B",
           "#00cc96",
           "#ab63fa",
           "#FFA15A",
           "#19d3f3",
           "#FF6692",
           "#B6E880",
           "#FF97FF",
           "#FECB52"
          ],
          "font": {
           "color": "#2a3f5f"
          },
          "geo": {
           "bgcolor": "white",
           "lakecolor": "white",
           "landcolor": "#E5ECF6",
           "showlakes": true,
           "showland": true,
           "subunitcolor": "white"
          },
          "hoverlabel": {
           "align": "left"
          },
          "hovermode": "closest",
          "mapbox": {
           "style": "light"
          },
          "paper_bgcolor": "white",
          "plot_bgcolor": "#E5ECF6",
          "polar": {
           "angularaxis": {
            "gridcolor": "white",
            "linecolor": "white",
            "ticks": ""
           },
           "bgcolor": "#E5ECF6",
           "radialaxis": {
            "gridcolor": "white",
            "linecolor": "white",
            "ticks": ""
           }
          },
          "scene": {
           "xaxis": {
            "backgroundcolor": "#E5ECF6",
            "gridcolor": "white",
            "gridwidth": 2,
            "linecolor": "white",
            "showbackground": true,
            "ticks": "",
            "zerolinecolor": "white"
           },
           "yaxis": {
            "backgroundcolor": "#E5ECF6",
            "gridcolor": "white",
            "gridwidth": 2,
            "linecolor": "white",
            "showbackground": true,
            "ticks": "",
            "zerolinecolor": "white"
           },
           "zaxis": {
            "backgroundcolor": "#E5ECF6",
            "gridcolor": "white",
            "gridwidth": 2,
            "linecolor": "white",
            "showbackground": true,
            "ticks": "",
            "zerolinecolor": "white"
           }
          },
          "shapedefaults": {
           "line": {
            "color": "#2a3f5f"
           }
          },
          "ternary": {
           "aaxis": {
            "gridcolor": "white",
            "linecolor": "white",
            "ticks": ""
           },
           "baxis": {
            "gridcolor": "white",
            "linecolor": "white",
            "ticks": ""
           },
           "bgcolor": "#E5ECF6",
           "caxis": {
            "gridcolor": "white",
            "linecolor": "white",
            "ticks": ""
           }
          },
          "title": {
           "x": 0.05
          },
          "xaxis": {
           "automargin": true,
           "gridcolor": "white",
           "linecolor": "white",
           "ticks": "",
           "title": {
            "standoff": 15
           },
           "zerolinecolor": "white",
           "zerolinewidth": 2
          },
          "yaxis": {
           "automargin": true,
           "gridcolor": "white",
           "linecolor": "white",
           "ticks": "",
           "title": {
            "standoff": 15
           },
           "zerolinecolor": "white",
           "zerolinewidth": 2
          }
         }
        },
        "title": {
         "text": "3D Map - cluttered_and_narrow"
        },
        "width": 700
       }
      }
     },
     "metadata": {},
     "output_type": "display_data"
    }
   ],
   "source": [
    "vis3d = MapVisualizer(dimensions=3, bounds=(50, 50, 30), map_type=\"cluttered_and_narrow\")\n",
    "vis3d.plot_start_goal((0, 0, 0), (40, 40, 25))\n",
    "vis3d.plot_path_trace([(0, 0, 0), (10, 10, 10), (20, 20, 15), (40, 40, 25)])\n",
    "vis3d.show()"
   ]
  },
  {
   "cell_type": "code",
   "execution_count": 5,
   "id": "8d1d54cb",
   "metadata": {},
   "outputs": [],
   "source": [
    "import math\n",
    "class Node:\n",
    "    def __init__(self, x: int, y: int, parent=None):\n",
    "        self.x = x\n",
    "        self.y = y\n",
    "        self.parent = parent\n",
    "class RRT:\n",
    "    def __init__(self, start, goal, bounds, obstacles, max_iter=500, step_size=5):\n",
    "        self.start = Node(*start)\n",
    "        self.goal = Node(*goal)\n",
    "        self.bounds = bounds\n",
    "        self.obstacles = obstacles  # List of (x0,y0,x1,y1)\n",
    "        self.max_iter = max_iter\n",
    "        self.step_size = step_size\n",
    "        self.nodes = [self.start]\n",
    "        self.goal_node = None\n",
    "\n",
    "    def distance(self, n1, n2):\n",
    "        return math.hypot(n1.x - n2.x, n1.y - n2.y)\n",
    "\n",
    "    def random_point(self):\n",
    "        return random.randint(0, self.bounds[0] - 1), random.randint(0, self.bounds[1] - 1)\n",
    "\n",
    "    def nearest(self, x, y):\n",
    "        return min(self.nodes, key=lambda node: (node.x - x) ** 2 + (node.y - y) ** 2)\n",
    "\n",
    "    def steer(self, from_node, to_x, to_y):\n",
    "        angle = math.atan2(to_y - from_node.y, to_x - from_node.x)\n",
    "        new_x = int(from_node.x + self.step_size * math.cos(angle))\n",
    "        new_y = int(from_node.y + self.step_size * math.sin(angle))\n",
    "        return Node(new_x, new_y, from_node)\n",
    "\n",
    "    def is_collision_free(self, node):\n",
    "        x, y = node.x, node.y\n",
    "        if not (0 <= x < self.bounds[0] and 0 <= y < self.bounds[1]):\n",
    "            return False\n",
    "        for ox0, oy0, ox1, oy1 in self.obstacles:\n",
    "            if ox0 <= x <= ox1 and oy0 <= y <= oy1:\n",
    "                return False\n",
    "        return True\n",
    "\n",
    "    def extract_path(self, node):\n",
    "        path = []\n",
    "        while node:\n",
    "            path.append((node.x, node.y))\n",
    "            node = node.parent\n",
    "        return path[::-1]\n",
    "\n",
    "    def run(self):\n",
    "        for _ in range(self.max_iter):\n",
    "            rx, ry = self.random_point()\n",
    "            nearest_node = self.nearest(rx, ry)\n",
    "            new_node = self.steer(nearest_node, rx, ry)\n",
    "\n",
    "            if not self.is_collision_free(new_node):\n",
    "                continue\n",
    "\n",
    "            self.nodes.append(new_node)\n",
    "\n",
    "            if self.distance(new_node, self.goal) < self.step_size:\n",
    "                self.goal_node = Node(self.goal.x, self.goal.y, new_node)\n",
    "                self.nodes.append(self.goal_node)\n",
    "                return self.extract_path(self.goal_node)\n",
    "\n",
    "        return None\n"
   ]
  },
  {
   "cell_type": "code",
   "execution_count": 10,
   "id": "5c2b37eb",
   "metadata": {},
   "outputs": [
    {
     "data": {
      "application/vnd.plotly.v1+json": {
       "config": {
        "plotlyServerURL": "https://plot.ly"
       },
       "data": [
        {
         "marker": {
          "color": "orange",
          "size": 10
         },
         "mode": "markers",
         "name": "Start",
         "type": "scatter",
         "x": [
          5
         ],
         "y": [
          5
         ]
        },
        {
         "marker": {
          "color": "green",
          "size": 10
         },
         "mode": "markers",
         "name": "Goal",
         "type": "scatter",
         "x": [
          55
         ],
         "y": [
          55
         ]
        },
        {
         "line": {
          "color": "blue",
          "width": 1
         },
         "mode": "lines",
         "showlegend": false,
         "type": "scatter",
         "x": [
          8,
          5
         ],
         "y": [
          8,
          5
         ]
        },
        {
         "line": {
          "color": "blue",
          "width": 1
         },
         "mode": "lines",
         "showlegend": false,
         "type": "scatter",
         "x": [
          7,
          8
         ],
         "y": [
          12,
          8
         ]
        },
        {
         "line": {
          "color": "blue",
          "width": 1
         },
         "mode": "lines",
         "showlegend": false,
         "type": "scatter",
         "x": [
          12,
          8
         ],
         "y": [
          8,
          8
         ]
        },
        {
         "line": {
          "color": "blue",
          "width": 1
         },
         "mode": "lines",
         "showlegend": false,
         "type": "scatter",
         "x": [
          12,
          8
         ],
         "y": [
          10,
          8
         ]
        },
        {
         "line": {
          "color": "blue",
          "width": 1
         },
         "mode": "lines",
         "showlegend": false,
         "type": "scatter",
         "x": [
          16,
          12
         ],
         "y": [
          11,
          10
         ]
        },
        {
         "line": {
          "color": "blue",
          "width": 1
         },
         "mode": "lines",
         "showlegend": false,
         "type": "scatter",
         "x": [
          16,
          16
         ],
         "y": [
          15,
          11
         ]
        },
        {
         "line": {
          "color": "blue",
          "width": 1
         },
         "mode": "lines",
         "showlegend": false,
         "type": "scatter",
         "x": [
          19,
          16
         ],
         "y": [
          18,
          15
         ]
        },
        {
         "line": {
          "color": "blue",
          "width": 1
         },
         "mode": "lines",
         "showlegend": false,
         "type": "scatter",
         "x": [
          23,
          19
         ],
         "y": [
          19,
          18
         ]
        },
        {
         "line": {
          "color": "blue",
          "width": 1
         },
         "mode": "lines",
         "showlegend": false,
         "type": "scatter",
         "x": [
          26,
          23
         ],
         "y": [
          22,
          19
         ]
        },
        {
         "line": {
          "color": "blue",
          "width": 1
         },
         "mode": "lines",
         "showlegend": false,
         "type": "scatter",
         "x": [
          29,
          26
         ],
         "y": [
          25,
          22
         ]
        },
        {
         "line": {
          "color": "blue",
          "width": 1
         },
         "mode": "lines",
         "showlegend": false,
         "type": "scatter",
         "x": [
          24,
          29
         ],
         "y": [
          26,
          25
         ]
        },
        {
         "line": {
          "color": "blue",
          "width": 1
         },
         "mode": "lines",
         "showlegend": false,
         "type": "scatter",
         "x": [
          33,
          29
         ],
         "y": [
          25,
          25
         ]
        },
        {
         "line": {
          "color": "blue",
          "width": 1
         },
         "mode": "lines",
         "showlegend": false,
         "type": "scatter",
         "x": [
          21,
          16
         ],
         "y": [
          11,
          11
         ]
        },
        {
         "line": {
          "color": "blue",
          "width": 1
         },
         "mode": "lines",
         "showlegend": false,
         "type": "scatter",
         "x": [
          21,
          24
         ],
         "y": [
          30,
          26
         ]
        },
        {
         "line": {
          "color": "blue",
          "width": 1
         },
         "mode": "lines",
         "showlegend": false,
         "type": "scatter",
         "x": [
          36,
          33
         ],
         "y": [
          21,
          25
         ]
        },
        {
         "line": {
          "color": "blue",
          "width": 1
         },
         "mode": "lines",
         "showlegend": false,
         "type": "scatter",
         "x": [
          19,
          19
         ],
         "y": [
          13,
          18
         ]
        },
        {
         "line": {
          "color": "blue",
          "width": 1
         },
         "mode": "lines",
         "showlegend": false,
         "type": "scatter",
         "x": [
          22,
          21
         ],
         "y": [
          34,
          30
         ]
        },
        {
         "line": {
          "color": "blue",
          "width": 1
         },
         "mode": "lines",
         "showlegend": false,
         "type": "scatter",
         "x": [
          39,
          36
         ],
         "y": [
          24,
          21
         ]
        },
        {
         "line": {
          "color": "blue",
          "width": 1
         },
         "mode": "lines",
         "showlegend": false,
         "type": "scatter",
         "x": [
          17,
          22
         ],
         "y": [
          34,
          34
         ]
        },
        {
         "line": {
          "color": "blue",
          "width": 1
         },
         "mode": "lines",
         "showlegend": false,
         "type": "scatter",
         "x": [
          43,
          39
         ],
         "y": [
          22,
          24
         ]
        },
        {
         "line": {
          "color": "blue",
          "width": 1
         },
         "mode": "lines",
         "showlegend": false,
         "type": "scatter",
         "x": [
          15,
          12
         ],
         "y": [
          4,
          8
         ]
        },
        {
         "line": {
          "color": "blue",
          "width": 1
         },
         "mode": "lines",
         "showlegend": false,
         "type": "scatter",
         "x": [
          46,
          43
         ],
         "y": [
          18,
          22
         ]
        },
        {
         "line": {
          "color": "blue",
          "width": 1
         },
         "mode": "lines",
         "showlegend": false,
         "type": "scatter",
         "x": [
          36,
          36
         ],
         "y": [
          16,
          21
         ]
        },
        {
         "line": {
          "color": "blue",
          "width": 1
         },
         "mode": "lines",
         "showlegend": false,
         "type": "scatter",
         "x": [
          12,
          17
         ],
         "y": [
          35,
          34
         ]
        },
        {
         "line": {
          "color": "blue",
          "width": 1
         },
         "mode": "lines",
         "showlegend": false,
         "type": "scatter",
         "x": [
          17,
          17
         ],
         "y": [
          38,
          34
         ]
        },
        {
         "line": {
          "color": "blue",
          "width": 1
         },
         "mode": "lines",
         "showlegend": false,
         "type": "scatter",
         "x": [
          3,
          7
         ],
         "y": [
          15,
          12
         ]
        },
        {
         "line": {
          "color": "blue",
          "width": 1
         },
         "mode": "lines",
         "showlegend": false,
         "type": "scatter",
         "x": [
          17,
          17
         ],
         "y": [
          42,
          38
         ]
        },
        {
         "line": {
          "color": "blue",
          "width": 1
         },
         "mode": "lines",
         "showlegend": false,
         "type": "scatter",
         "x": [
          49,
          46
         ],
         "y": [
          21,
          18
         ]
        },
        {
         "line": {
          "color": "blue",
          "width": 1
         },
         "mode": "lines",
         "showlegend": false,
         "type": "scatter",
         "x": [
          49,
          46
         ],
         "y": [
          14,
          18
         ]
        },
        {
         "line": {
          "color": "blue",
          "width": 1
         },
         "mode": "lines",
         "showlegend": false,
         "type": "scatter",
         "x": [
          0,
          5
         ],
         "y": [
          5,
          5
         ]
        },
        {
         "line": {
          "color": "blue",
          "width": 1
         },
         "mode": "lines",
         "showlegend": false,
         "type": "scatter",
         "x": [
          40,
          39
         ],
         "y": [
          28,
          24
         ]
        },
        {
         "line": {
          "color": "blue",
          "width": 1
         },
         "mode": "lines",
         "showlegend": false,
         "type": "scatter",
         "x": [
          17,
          21
         ],
         "y": [
          26,
          30
         ]
        },
        {
         "line": {
          "color": "blue",
          "width": 1
         },
         "mode": "lines",
         "showlegend": false,
         "type": "scatter",
         "x": [
          21,
          17
         ],
         "y": [
          43,
          42
         ]
        },
        {
         "line": {
          "color": "blue",
          "width": 1
         },
         "mode": "lines",
         "showlegend": false,
         "type": "scatter",
         "x": [
          23,
          21
         ],
         "y": [
          25,
          30
         ]
        },
        {
         "line": {
          "color": "blue",
          "width": 1
         },
         "mode": "lines",
         "showlegend": false,
         "type": "scatter",
         "x": [
          43,
          40
         ],
         "y": [
          31,
          28
         ]
        },
        {
         "line": {
          "color": "blue",
          "width": 1
         },
         "mode": "lines",
         "showlegend": false,
         "type": "scatter",
         "x": [
          12,
          12
         ],
         "y": [
          13,
          8
         ]
        },
        {
         "line": {
          "color": "blue",
          "width": 1
         },
         "mode": "lines",
         "showlegend": false,
         "type": "scatter",
         "x": [
          22,
          17
         ],
         "y": [
          26,
          26
         ]
        },
        {
         "line": {
          "color": "blue",
          "width": 1
         },
         "mode": "lines",
         "showlegend": false,
         "type": "scatter",
         "x": [
          43,
          43
         ],
         "y": [
          35,
          31
         ]
        },
        {
         "line": {
          "color": "blue",
          "width": 1
         },
         "mode": "lines",
         "showlegend": false,
         "type": "scatter",
         "x": [
          9,
          5
         ],
         "y": [
          2,
          5
         ]
        },
        {
         "line": {
          "color": "blue",
          "width": 1
         },
         "mode": "lines",
         "showlegend": false,
         "type": "scatter",
         "x": [
          45,
          43
         ],
         "y": [
          39,
          35
         ]
        },
        {
         "line": {
          "color": "blue",
          "width": 1
         },
         "mode": "lines",
         "showlegend": false,
         "type": "scatter",
         "x": [
          24,
          21
         ],
         "y": [
          33,
          30
         ]
        },
        {
         "line": {
          "color": "blue",
          "width": 1
         },
         "mode": "lines",
         "showlegend": false,
         "type": "scatter",
         "x": [
          21,
          21
         ],
         "y": [
          35,
          30
         ]
        },
        {
         "line": {
          "color": "blue",
          "width": 1
         },
         "mode": "lines",
         "showlegend": false,
         "type": "scatter",
         "x": [
          49,
          49
         ],
         "y": [
          25,
          21
         ]
        },
        {
         "line": {
          "color": "blue",
          "width": 1
         },
         "mode": "lines",
         "showlegend": false,
         "type": "scatter",
         "x": [
          24,
          21
         ],
         "y": [
          46,
          43
         ]
        },
        {
         "line": {
          "color": "blue",
          "width": 1
         },
         "mode": "lines",
         "showlegend": false,
         "type": "scatter",
         "x": [
          22,
          26
         ],
         "y": [
          18,
          22
         ]
        },
        {
         "line": {
          "color": "blue",
          "width": 1
         },
         "mode": "lines",
         "showlegend": false,
         "type": "scatter",
         "x": [
          15,
          19
         ],
         "y": [
          9,
          13
         ]
        },
        {
         "line": {
          "color": "blue",
          "width": 1
         },
         "mode": "lines",
         "showlegend": false,
         "type": "scatter",
         "x": [
          38,
          36
         ],
         "y": [
          11,
          16
         ]
        },
        {
         "line": {
          "color": "blue",
          "width": 1
         },
         "mode": "lines",
         "showlegend": false,
         "type": "scatter",
         "x": [
          13,
          17
         ],
         "y": [
          30,
          34
         ]
        },
        {
         "line": {
          "color": "blue",
          "width": 1
         },
         "mode": "lines",
         "showlegend": false,
         "type": "scatter",
         "x": [
          20,
          24
         ],
         "y": [
          49,
          46
         ]
        },
        {
         "line": {
          "color": "blue",
          "width": 1
         },
         "mode": "lines",
         "showlegend": false,
         "type": "scatter",
         "x": [
          52,
          49
         ],
         "y": [
          28,
          25
         ]
        },
        {
         "line": {
          "color": "blue",
          "width": 1
         },
         "mode": "lines",
         "showlegend": false,
         "type": "scatter",
         "x": [
          35,
          40
         ],
         "y": [
          26,
          28
         ]
        },
        {
         "line": {
          "color": "blue",
          "width": 1
         },
         "mode": "lines",
         "showlegend": false,
         "type": "scatter",
         "x": [
          50,
          49
         ],
         "y": [
          9,
          14
         ]
        },
        {
         "line": {
          "color": "blue",
          "width": 1
         },
         "mode": "lines",
         "showlegend": false,
         "type": "scatter",
         "x": [
          7,
          12
         ],
         "y": [
          13,
          13
         ]
        },
        {
         "line": {
          "color": "blue",
          "width": 1
         },
         "mode": "lines",
         "showlegend": false,
         "type": "scatter",
         "x": [
          7,
          7
         ],
         "y": [
          7,
          12
         ]
        },
        {
         "line": {
          "color": "blue",
          "width": 1
         },
         "mode": "lines",
         "showlegend": false,
         "type": "scatter",
         "x": [
          43,
          43
         ],
         "y": [
          26,
          31
         ]
        },
        {
         "line": {
          "color": "blue",
          "width": 1
         },
         "mode": "lines",
         "showlegend": false,
         "type": "scatter",
         "x": [
          7,
          12
         ],
         "y": [
          32,
          35
         ]
        },
        {
         "line": {
          "color": "blue",
          "width": 1
         },
         "mode": "lines",
         "showlegend": false,
         "type": "scatter",
         "x": [
          54,
          52
         ],
         "y": [
          32,
          28
         ]
        },
        {
         "line": {
          "color": "blue",
          "width": 1
         },
         "mode": "lines",
         "showlegend": false,
         "type": "scatter",
         "x": [
          18,
          13
         ],
         "y": [
          30,
          30
         ]
        },
        {
         "line": {
          "color": "blue",
          "width": 1
         },
         "mode": "lines",
         "showlegend": false,
         "type": "scatter",
         "x": [
          37,
          38
         ],
         "y": [
          6,
          11
         ]
        },
        {
         "line": {
          "color": "blue",
          "width": 1
         },
         "mode": "lines",
         "showlegend": false,
         "type": "scatter",
         "x": [
          41,
          45
         ],
         "y": [
          42,
          39
         ]
        },
        {
         "line": {
          "color": "blue",
          "width": 1
         },
         "mode": "lines",
         "showlegend": false,
         "type": "scatter",
         "x": [
          49,
          45
         ],
         "y": [
          37,
          39
         ]
        },
        {
         "line": {
          "color": "blue",
          "width": 1
         },
         "mode": "lines",
         "showlegend": false,
         "type": "scatter",
         "x": [
          23,
          21
         ],
         "y": [
          38,
          43
         ]
        },
        {
         "line": {
          "color": "blue",
          "width": 1
         },
         "mode": "lines",
         "showlegend": false,
         "type": "scatter",
         "x": [
          22,
          26
         ],
         "y": [
          18,
          22
         ]
        },
        {
         "line": {
          "color": "blue",
          "width": 1
         },
         "mode": "lines",
         "showlegend": false,
         "type": "scatter",
         "x": [
          2,
          7
         ],
         "y": [
          7,
          7
         ]
        },
        {
         "line": {
          "color": "blue",
          "width": 1
         },
         "mode": "lines",
         "showlegend": false,
         "type": "scatter",
         "x": [
          24,
          21
         ],
         "y": [
          14,
          11
         ]
        },
        {
         "line": {
          "color": "blue",
          "width": 1
         },
         "mode": "lines",
         "showlegend": false,
         "type": "scatter",
         "x": [
          7,
          7
         ],
         "y": [
          27,
          32
         ]
        },
        {
         "line": {
          "color": "blue",
          "width": 1
         },
         "mode": "lines",
         "showlegend": false,
         "type": "scatter",
         "x": [
          12,
          7
         ],
         "y": [
          32,
          32
         ]
        },
        {
         "line": {
          "color": "blue",
          "width": 1
         },
         "mode": "lines",
         "showlegend": false,
         "type": "scatter",
         "x": [
          32,
          37
         ],
         "y": [
          3,
          6
         ]
        },
        {
         "line": {
          "color": "blue",
          "width": 1
         },
         "mode": "lines",
         "showlegend": false,
         "type": "scatter",
         "x": [
          19,
          15
         ],
         "y": [
          6,
          9
         ]
        },
        {
         "line": {
          "color": "blue",
          "width": 1
         },
         "mode": "lines",
         "showlegend": false,
         "type": "scatter",
         "x": [
          41,
          39
         ],
         "y": [
          19,
          24
         ]
        },
        {
         "line": {
          "color": "blue",
          "width": 1
         },
         "mode": "lines",
         "showlegend": false,
         "type": "scatter",
         "x": [
          39,
          41
         ],
         "y": [
          46,
          42
         ]
        },
        {
         "line": {
          "color": "blue",
          "width": 1
         },
         "mode": "lines",
         "showlegend": false,
         "type": "scatter",
         "x": [
          42,
          39
         ],
         "y": [
          49,
          46
         ]
        },
        {
         "line": {
          "color": "blue",
          "width": 1
         },
         "mode": "lines",
         "showlegend": false,
         "type": "scatter",
         "x": [
          58,
          54
         ],
         "y": [
          32,
          32
         ]
        },
        {
         "line": {
          "color": "blue",
          "width": 1
         },
         "mode": "lines",
         "showlegend": false,
         "type": "scatter",
         "x": [
          33,
          38
         ],
         "y": [
          10,
          11
         ]
        },
        {
         "line": {
          "color": "blue",
          "width": 1
         },
         "mode": "lines",
         "showlegend": false,
         "type": "scatter",
         "x": [
          55,
          52
         ],
         "y": [
          24,
          28
         ]
        },
        {
         "line": {
          "color": "blue",
          "width": 1
         },
         "mode": "lines",
         "showlegend": false,
         "type": "scatter",
         "x": [
          3,
          3
         ],
         "y": [
          20,
          15
         ]
        },
        {
         "line": {
          "color": "blue",
          "width": 1
         },
         "mode": "lines",
         "showlegend": false,
         "type": "scatter",
         "x": [
          46,
          42
         ],
         "y": [
          46,
          49
         ]
        },
        {
         "line": {
          "color": "blue",
          "width": 1
         },
         "mode": "lines",
         "showlegend": false,
         "type": "scatter",
         "x": [
          4,
          9
         ],
         "y": [
          0,
          2
         ]
        },
        {
         "line": {
          "color": "blue",
          "width": 1
         },
         "mode": "lines",
         "showlegend": false,
         "type": "scatter",
         "x": [
          18,
          15
         ],
         "y": [
          0,
          4
         ]
        },
        {
         "line": {
          "color": "blue",
          "width": 1
         },
         "mode": "lines",
         "showlegend": false,
         "type": "scatter",
         "x": [
          4,
          7
         ],
         "y": [
          36,
          32
         ]
        },
        {
         "line": {
          "color": "blue",
          "width": 1
         },
         "mode": "lines",
         "showlegend": false,
         "type": "scatter",
         "x": [
          13,
          18
         ],
         "y": [
          27,
          30
         ]
        },
        {
         "line": {
          "color": "blue",
          "width": 1
         },
         "mode": "lines",
         "showlegend": false,
         "type": "scatter",
         "x": [
          21,
          26
         ],
         "y": [
          24,
          22
         ]
        },
        {
         "line": {
          "color": "blue",
          "width": 1
         },
         "mode": "lines",
         "showlegend": false,
         "type": "scatter",
         "x": [
          15,
          19
         ],
         "y": [
          21,
          18
         ]
        },
        {
         "line": {
          "color": "blue",
          "width": 1
         },
         "mode": "lines",
         "showlegend": false,
         "type": "scatter",
         "x": [
          22,
          20
         ],
         "y": [
          53,
          49
         ]
        },
        {
         "line": {
          "color": "blue",
          "width": 1
         },
         "mode": "lines",
         "showlegend": false,
         "type": "scatter",
         "x": [
          23,
          18
         ],
         "y": [
          0,
          0
         ]
        },
        {
         "line": {
          "color": "blue",
          "width": 1
         },
         "mode": "lines",
         "showlegend": false,
         "type": "scatter",
         "x": [
          9,
          13
         ],
         "y": [
          30,
          27
         ]
        },
        {
         "line": {
          "color": "blue",
          "width": 1
         },
         "mode": "lines",
         "showlegend": false,
         "type": "scatter",
         "x": [
          41,
          37
         ],
         "y": [
          3,
          6
         ]
        },
        {
         "line": {
          "color": "blue",
          "width": 1
         },
         "mode": "lines",
         "showlegend": false,
         "type": "scatter",
         "x": [
          28,
          24
         ],
         "y": [
          33,
          33
         ]
        },
        {
         "line": {
          "color": "blue",
          "width": 1
         },
         "mode": "lines",
         "showlegend": false,
         "type": "scatter",
         "x": [
          35,
          39
         ],
         "y": [
          49,
          46
         ]
        },
        {
         "line": {
          "color": "blue",
          "width": 1
         },
         "mode": "lines",
         "showlegend": false,
         "type": "scatter",
         "x": [
          53,
          55
         ],
         "y": [
          19,
          24
         ]
        },
        {
         "line": {
          "color": "blue",
          "width": 1
         },
         "mode": "lines",
         "showlegend": false,
         "type": "scatter",
         "x": [
          32,
          36
         ],
         "y": [
          12,
          16
         ]
        },
        {
         "line": {
          "color": "blue",
          "width": 1
         },
         "mode": "lines",
         "showlegend": false,
         "type": "scatter",
         "x": [
          15,
          20
         ],
         "y": [
          49,
          49
         ]
        },
        {
         "line": {
          "color": "blue",
          "width": 1
         },
         "mode": "lines",
         "showlegend": false,
         "type": "scatter",
         "x": [
          23,
          28
         ],
         "y": [
          33,
          33
         ]
        },
        {
         "line": {
          "color": "blue",
          "width": 1
         },
         "mode": "lines",
         "showlegend": false,
         "type": "scatter",
         "x": [
          30,
          35
         ],
         "y": [
          51,
          49
         ]
        },
        {
         "line": {
          "color": "blue",
          "width": 1
         },
         "mode": "lines",
         "showlegend": false,
         "type": "scatter",
         "x": [
          31,
          36
         ],
         "y": [
          21,
          21
         ]
        },
        {
         "line": {
          "color": "blue",
          "width": 1
         },
         "mode": "lines",
         "showlegend": false,
         "type": "scatter",
         "x": [
          36,
          32
         ],
         "y": [
          0,
          3
         ]
        },
        {
         "line": {
          "color": "blue",
          "width": 1
         },
         "mode": "lines",
         "showlegend": false,
         "type": "scatter",
         "x": [
          49,
          49
         ],
         "y": [
          30,
          25
         ]
        },
        {
         "line": {
          "color": "blue",
          "width": 1
         },
         "mode": "lines",
         "showlegend": false,
         "type": "scatter",
         "x": [
          44,
          41
         ],
         "y": [
          15,
          19
         ]
        },
        {
         "line": {
          "color": "blue",
          "width": 1
         },
         "mode": "lines",
         "showlegend": false,
         "type": "scatter",
         "x": [
          36,
          35
         ],
         "y": [
          53,
          49
         ]
        },
        {
         "line": {
          "color": "blue",
          "width": 1
         },
         "mode": "lines",
         "showlegend": false,
         "type": "scatter",
         "x": [
          19,
          19
         ],
         "y": [
          13,
          18
         ]
        },
        {
         "line": {
          "color": "blue",
          "width": 1
         },
         "mode": "lines",
         "showlegend": false,
         "type": "scatter",
         "x": [
          15,
          12
         ],
         "y": [
          4,
          8
         ]
        },
        {
         "line": {
          "color": "blue",
          "width": 1
         },
         "mode": "lines",
         "showlegend": false,
         "type": "scatter",
         "x": [
          28,
          24
         ],
         "y": [
          23,
          26
         ]
        },
        {
         "line": {
          "color": "blue",
          "width": 1
         },
         "mode": "lines",
         "showlegend": false,
         "type": "scatter",
         "x": [
          53,
          49
         ],
         "y": [
          13,
          14
         ]
        },
        {
         "line": {
          "color": "blue",
          "width": 1
         },
         "mode": "lines",
         "showlegend": false,
         "type": "scatter",
         "x": [
          38,
          41
         ],
         "y": [
          7,
          3
         ]
        },
        {
         "line": {
          "color": "blue",
          "width": 1
         },
         "mode": "lines",
         "showlegend": false,
         "type": "scatter",
         "x": [
          33,
          30
         ],
         "y": [
          54,
          51
         ]
        },
        {
         "line": {
          "color": "blue",
          "width": 1
         },
         "mode": "lines",
         "showlegend": false,
         "type": "scatter",
         "x": [
          48,
          45
         ],
         "y": [
          35,
          39
         ]
        },
        {
         "line": {
          "color": "blue",
          "width": 1
         },
         "mode": "lines",
         "showlegend": false,
         "type": "scatter",
         "x": [
          4,
          3
         ],
         "y": [
          24,
          20
         ]
        },
        {
         "line": {
          "color": "blue",
          "width": 1
         },
         "mode": "lines",
         "showlegend": false,
         "type": "scatter",
         "x": [
          24,
          19
         ],
         "y": [
          18,
          18
         ]
        },
        {
         "line": {
          "color": "blue",
          "width": 1
         },
         "mode": "lines",
         "showlegend": false,
         "type": "scatter",
         "x": [
          22,
          19
         ],
         "y": [
          16,
          13
         ]
        },
        {
         "line": {
          "color": "blue",
          "width": 1
         },
         "mode": "lines",
         "showlegend": false,
         "type": "scatter",
         "x": [
          17,
          17
         ],
         "y": [
          47,
          42
         ]
        },
        {
         "line": {
          "color": "blue",
          "width": 1
         },
         "mode": "lines",
         "showlegend": false,
         "type": "scatter",
         "x": [
          28,
          28
         ],
         "y": [
          38,
          33
         ]
        },
        {
         "line": {
          "color": "blue",
          "width": 1
         },
         "mode": "lines",
         "showlegend": false,
         "type": "scatter",
         "x": [
          4,
          4
         ],
         "y": [
          40,
          36
         ]
        },
        {
         "line": {
          "color": "blue",
          "width": 1
         },
         "mode": "lines",
         "showlegend": false,
         "type": "scatter",
         "x": [
          34,
          39
         ],
         "y": [
          43,
          46
         ]
        },
        {
         "line": {
          "color": "blue",
          "width": 1
         },
         "mode": "lines",
         "showlegend": false,
         "type": "scatter",
         "x": [
          29,
          24
         ],
         "y": [
          46,
          46
         ]
        },
        {
         "line": {
          "color": "blue",
          "width": 1
         },
         "mode": "lines",
         "showlegend": false,
         "type": "scatter",
         "x": [
          57,
          53
         ],
         "y": [
          15,
          13
         ]
        },
        {
         "line": {
          "color": "blue",
          "width": 1
         },
         "mode": "lines",
         "showlegend": false,
         "type": "scatter",
         "x": [
          45,
          42
         ],
         "y": [
          52,
          49
         ]
        },
        {
         "line": {
          "color": "blue",
          "width": 1
         },
         "mode": "lines",
         "showlegend": false,
         "type": "scatter",
         "x": [
          50,
          46
         ],
         "y": [
          48,
          46
         ]
        },
        {
         "line": {
          "color": "blue",
          "width": 1
         },
         "mode": "lines",
         "showlegend": false,
         "type": "scatter",
         "x": [
          36,
          32
         ],
         "y": [
          14,
          12
         ]
        },
        {
         "line": {
          "color": "blue",
          "width": 1
         },
         "mode": "lines",
         "showlegend": false,
         "type": "scatter",
         "x": [
          4,
          4
         ],
         "y": [
          31,
          36
         ]
        },
        {
         "line": {
          "color": "blue",
          "width": 1
         },
         "mode": "lines",
         "showlegend": false,
         "type": "scatter",
         "x": [
          3,
          4
         ],
         "y": [
          44,
          40
         ]
        },
        {
         "line": {
          "color": "blue",
          "width": 1
         },
         "mode": "lines",
         "showlegend": false,
         "type": "scatter",
         "x": [
          54,
          50
         ],
         "y": [
          7,
          9
         ]
        },
        {
         "line": {
          "color": "blue",
          "width": 1
         },
         "mode": "lines",
         "showlegend": false,
         "type": "scatter",
         "x": [
          34,
          31
         ],
         "y": [
          17,
          21
         ]
        },
        {
         "line": {
          "color": "blue",
          "width": 1
         },
         "mode": "lines",
         "showlegend": false,
         "type": "scatter",
         "x": [
          33,
          28
         ],
         "y": [
          38,
          38
         ]
        },
        {
         "line": {
          "color": "blue",
          "width": 1
         },
         "mode": "lines",
         "showlegend": false,
         "type": "scatter",
         "x": [
          44,
          48
         ],
         "y": [
          31,
          35
         ]
        },
        {
         "line": {
          "color": "blue",
          "width": 1
         },
         "mode": "lines",
         "showlegend": false,
         "type": "scatter",
         "x": [
          25,
          21
         ],
         "y": [
          27,
          30
         ]
        },
        {
         "line": {
          "color": "blue",
          "width": 1
         },
         "mode": "lines",
         "showlegend": false,
         "type": "scatter",
         "x": [
          8,
          13
         ],
         "y": [
          29,
          27
         ]
        },
        {
         "line": {
          "color": "blue",
          "width": 1
         },
         "mode": "lines",
         "showlegend": false,
         "type": "scatter",
         "x": [
          47,
          43
         ],
         "y": [
          23,
          22
         ]
        },
        {
         "line": {
          "color": "blue",
          "width": 1
         },
         "mode": "lines",
         "showlegend": false,
         "type": "scatter",
         "x": [
          44,
          49
         ],
         "y": [
          14,
          14
         ]
        },
        {
         "line": {
          "color": "blue",
          "width": 1
         },
         "mode": "lines",
         "showlegend": false,
         "type": "scatter",
         "x": [
          42,
          38
         ],
         "y": [
          4,
          7
         ]
        },
        {
         "line": {
          "color": "blue",
          "width": 1
         },
         "mode": "lines",
         "showlegend": false,
         "type": "scatter",
         "x": [
          28,
          23
         ],
         "y": [
          0,
          0
         ]
        },
        {
         "line": {
          "color": "blue",
          "width": 1
         },
         "mode": "lines",
         "showlegend": false,
         "type": "scatter",
         "x": [
          18,
          18
         ],
         "y": [
          5,
          0
         ]
        },
        {
         "line": {
          "color": "blue",
          "width": 1
         },
         "mode": "lines",
         "showlegend": false,
         "type": "scatter",
         "x": [
          58,
          58
         ],
         "y": [
          27,
          32
         ]
        },
        {
         "line": {
          "color": "blue",
          "width": 1
         },
         "mode": "lines",
         "showlegend": false,
         "type": "scatter",
         "x": [
          54,
          50
         ],
         "y": [
          46,
          48
         ]
        },
        {
         "line": {
          "color": "blue",
          "width": 1
         },
         "mode": "lines",
         "showlegend": false,
         "type": "scatter",
         "x": [
          0,
          3
         ],
         "y": [
          18,
          15
         ]
        },
        {
         "line": {
          "color": "blue",
          "width": 1
         },
         "mode": "lines",
         "showlegend": false,
         "type": "scatter",
         "x": [
          51,
          54
         ],
         "y": [
          2,
          7
         ]
        },
        {
         "line": {
          "color": "blue",
          "width": 1
         },
         "mode": "lines",
         "showlegend": false,
         "type": "scatter",
         "x": [
          3,
          8
         ],
         "y": [
          29,
          29
         ]
        },
        {
         "line": {
          "color": "blue",
          "width": 1
         },
         "mode": "lines",
         "showlegend": false,
         "type": "scatter",
         "x": [
          33,
          33
         ],
         "y": [
          49,
          54
         ]
        },
        {
         "line": {
          "color": "blue",
          "width": 1
         },
         "mode": "lines",
         "showlegend": false,
         "type": "scatter",
         "x": [
          58,
          54
         ],
         "y": [
          45,
          46
         ]
        },
        {
         "line": {
          "color": "blue",
          "width": 1
         },
         "mode": "lines",
         "showlegend": false,
         "type": "scatter",
         "x": [
          3,
          3
         ],
         "y": [
          49,
          44
         ]
        },
        {
         "line": {
          "color": "blue",
          "width": 1
         },
         "mode": "lines",
         "showlegend": false,
         "type": "scatter",
         "x": [
          39,
          44
         ],
         "y": [
          17,
          15
         ]
        },
        {
         "line": {
          "color": "blue",
          "width": 1
         },
         "mode": "lines",
         "showlegend": false,
         "type": "scatter",
         "x": [
          0,
          3
         ],
         "y": [
          25,
          29
         ]
        },
        {
         "line": {
          "color": "blue",
          "width": 1
         },
         "mode": "lines",
         "showlegend": false,
         "type": "scatter",
         "x": [
          33,
          29
         ],
         "y": [
          22,
          25
         ]
        },
        {
         "line": {
          "color": "blue",
          "width": 1
         },
         "mode": "lines",
         "showlegend": false,
         "type": "scatter",
         "x": [
          3,
          3
         ],
         "y": [
          10,
          15
         ]
        },
        {
         "line": {
          "color": "blue",
          "width": 1
         },
         "mode": "lines",
         "showlegend": false,
         "type": "scatter",
         "x": [
          58,
          58
         ],
         "y": [
          40,
          45
         ]
        },
        {
         "line": {
          "color": "blue",
          "width": 1
         },
         "mode": "lines",
         "showlegend": false,
         "type": "scatter",
         "x": [
          31,
          34
         ],
         "y": [
          12,
          17
         ]
        },
        {
         "line": {
          "color": "blue",
          "width": 1
         },
         "mode": "lines",
         "showlegend": false,
         "type": "scatter",
         "x": [
          51,
          50
         ],
         "y": [
          43,
          48
         ]
        },
        {
         "line": {
          "color": "blue",
          "width": 1
         },
         "mode": "lines",
         "showlegend": false,
         "type": "scatter",
         "x": [
          21,
          17
         ],
         "y": [
          39,
          42
         ]
        },
        {
         "line": {
          "color": "blue",
          "width": 1
         },
         "mode": "lines",
         "showlegend": false,
         "type": "scatter",
         "x": [
          53,
          49
         ],
         "y": [
          38,
          37
         ]
        },
        {
         "line": {
          "color": "blue",
          "width": 1
         },
         "mode": "lines",
         "showlegend": false,
         "type": "scatter",
         "x": [
          6,
          3
         ],
         "y": [
          52,
          49
         ]
        },
        {
         "line": {
          "color": "blue",
          "width": 1
         },
         "mode": "lines",
         "showlegend": false,
         "type": "scatter",
         "x": [
          29,
          24
         ],
         "y": [
          26,
          26
         ]
        },
        {
         "line": {
          "color": "blue",
          "width": 1
         },
         "mode": "lines",
         "showlegend": false,
         "type": "scatter",
         "x": [
          25,
          22
         ],
         "y": [
          56,
          53
         ]
        },
        {
         "line": {
          "color": "blue",
          "width": 1
         },
         "mode": "lines",
         "showlegend": false,
         "type": "scatter",
         "x": [
          50,
          54
         ],
         "y": [
          3,
          7
         ]
        },
        {
         "line": {
          "color": "blue",
          "width": 1
         },
         "mode": "lines",
         "showlegend": false,
         "type": "scatter",
         "x": [
          38,
          36
         ],
         "y": [
          48,
          53
         ]
        },
        {
         "line": {
          "color": "blue",
          "width": 1
         },
         "mode": "lines",
         "showlegend": false,
         "type": "scatter",
         "x": [
          31,
          36
         ],
         "y": [
          2,
          0
         ]
        },
        {
         "line": {
          "color": "blue",
          "width": 1
         },
         "mode": "lines",
         "showlegend": false,
         "type": "scatter",
         "x": [
          18,
          13
         ],
         "y": [
          27,
          27
         ]
        },
        {
         "line": {
          "color": "blue",
          "width": 1
         },
         "mode": "lines",
         "showlegend": false,
         "type": "scatter",
         "x": [
          22,
          26
         ],
         "y": [
          25,
          22
         ]
        },
        {
         "line": {
          "color": "blue",
          "width": 1
         },
         "mode": "lines",
         "showlegend": false,
         "type": "scatter",
         "x": [
          54,
          58
         ],
         "y": [
          36,
          40
         ]
        },
        {
         "line": {
          "color": "blue",
          "width": 1
         },
         "mode": "lines",
         "showlegend": false,
         "type": "scatter",
         "x": [
          52,
          48
         ],
         "y": [
          33,
          35
         ]
        },
        {
         "line": {
          "color": "blue",
          "width": 1
         },
         "mode": "lines",
         "showlegend": false,
         "type": "scatter",
         "x": [
          57,
          54
         ],
         "y": [
          3,
          7
         ]
        },
        {
         "line": {
          "color": "blue",
          "width": 1
         },
         "mode": "lines",
         "showlegend": false,
         "type": "scatter",
         "x": [
          52,
          52
         ],
         "y": [
          33,
          28
         ]
        },
        {
         "line": {
          "color": "blue",
          "width": 1
         },
         "mode": "lines",
         "showlegend": false,
         "type": "scatter",
         "x": [
          34,
          39
         ],
         "y": [
          43,
          46
         ]
        },
        {
         "line": {
          "color": "blue",
          "width": 1
         },
         "mode": "lines",
         "showlegend": false,
         "type": "scatter",
         "x": [
          7,
          7
         ],
         "y": [
          22,
          27
         ]
        },
        {
         "line": {
          "color": "blue",
          "width": 1
         },
         "mode": "lines",
         "showlegend": false,
         "type": "scatter",
         "x": [
          39,
          39
         ],
         "y": [
          41,
          46
         ]
        },
        {
         "line": {
          "color": "blue",
          "width": 1
         },
         "mode": "lines",
         "showlegend": false,
         "type": "scatter",
         "x": [
          42,
          45
         ],
         "y": [
          56,
          52
         ]
        },
        {
         "line": {
          "color": "blue",
          "width": 1
         },
         "mode": "lines",
         "showlegend": false,
         "type": "scatter",
         "x": [
          52,
          48
         ],
         "y": [
          32,
          35
         ]
        },
        {
         "line": {
          "color": "blue",
          "width": 1
         },
         "mode": "lines",
         "showlegend": false,
         "type": "scatter",
         "x": [
          17,
          12
         ],
         "y": [
          32,
          32
         ]
        },
        {
         "line": {
          "color": "blue",
          "width": 1
         },
         "mode": "lines",
         "showlegend": false,
         "type": "scatter",
         "x": [
          24,
          21
         ],
         "y": [
          20,
          24
         ]
        },
        {
         "line": {
          "color": "blue",
          "width": 1
         },
         "mode": "lines",
         "showlegend": false,
         "type": "scatter",
         "x": [
          48,
          45
         ],
         "y": [
          55,
          52
         ]
        },
        {
         "line": {
          "color": "blue",
          "width": 1
         },
         "mode": "lines",
         "showlegend": false,
         "type": "scatter",
         "x": [
          33,
          28
         ],
         "y": [
          38,
          38
         ]
        },
        {
         "line": {
          "color": "blue",
          "width": 1
         },
         "mode": "lines",
         "showlegend": false,
         "type": "scatter",
         "x": [
          6,
          6
         ],
         "y": [
          47,
          52
         ]
        },
        {
         "line": {
          "color": "blue",
          "width": 1
         },
         "mode": "lines",
         "showlegend": false,
         "type": "scatter",
         "x": [
          26,
          24
         ],
         "y": [
          18,
          14
         ]
        },
        {
         "line": {
          "color": "blue",
          "width": 1
         },
         "mode": "lines",
         "showlegend": false,
         "type": "scatter",
         "x": [
          56,
          53
         ],
         "y": [
          22,
          19
         ]
        },
        {
         "line": {
          "color": "blue",
          "width": 1
         },
         "mode": "lines",
         "showlegend": false,
         "type": "scatter",
         "x": [
          43,
          38
         ],
         "y": [
          7,
          7
         ]
        },
        {
         "line": {
          "color": "blue",
          "width": 1
         },
         "mode": "lines",
         "showlegend": false,
         "type": "scatter",
         "x": [
          28,
          33
         ],
         "y": [
          46,
          49
         ]
        },
        {
         "line": {
          "color": "blue",
          "width": 1
         },
         "mode": "lines",
         "showlegend": false,
         "type": "scatter",
         "x": [
          12,
          7
         ],
         "y": [
          27,
          27
         ]
        },
        {
         "line": {
          "color": "blue",
          "width": 1
         },
         "mode": "lines",
         "showlegend": false,
         "type": "scatter",
         "x": [
          18,
          13
         ],
         "y": [
          30,
          30
         ]
        },
        {
         "line": {
          "color": "blue",
          "width": 1
         },
         "mode": "lines",
         "showlegend": false,
         "type": "scatter",
         "x": [
          59,
          54
         ],
         "y": [
          32,
          32
         ]
        },
        {
         "line": {
          "color": "blue",
          "width": 1
         },
         "mode": "lines",
         "showlegend": false,
         "type": "scatter",
         "x": [
          6,
          6
         ],
         "y": [
          42,
          47
         ]
        },
        {
         "line": {
          "color": "blue",
          "width": 1
         },
         "mode": "lines",
         "showlegend": false,
         "type": "scatter",
         "x": [
          34,
          39
         ],
         "y": [
          41,
          41
         ]
        },
        {
         "line": {
          "color": "blue",
          "width": 1
         },
         "mode": "lines",
         "showlegend": false,
         "type": "scatter",
         "x": [
          24,
          20
         ],
         "y": [
          51,
          49
         ]
        },
        {
         "line": {
          "color": "blue",
          "width": 1
         },
         "mode": "lines",
         "showlegend": false,
         "type": "scatter",
         "x": [
          28,
          25
         ],
         "y": [
          59,
          56
         ]
        },
        {
         "line": {
          "color": "blue",
          "width": 1
         },
         "mode": "lines",
         "showlegend": false,
         "type": "scatter",
         "x": [
          41,
          37
         ],
         "y": [
          3,
          6
         ]
        },
        {
         "line": {
          "color": "blue",
          "width": 1
         },
         "mode": "lines",
         "showlegend": false,
         "type": "scatter",
         "x": [
          45,
          40
         ],
         "y": [
          28,
          28
         ]
        },
        {
         "line": {
          "color": "blue",
          "width": 1
         },
         "mode": "lines",
         "showlegend": false,
         "type": "scatter",
         "x": [
          28,
          24
         ],
         "y": [
          43,
          46
         ]
        },
        {
         "line": {
          "color": "blue",
          "width": 1
         },
         "mode": "lines",
         "showlegend": false,
         "type": "scatter",
         "x": [
          24,
          28
         ],
         "y": [
          39,
          43
         ]
        },
        {
         "line": {
          "color": "blue",
          "width": 1
         },
         "mode": "lines",
         "showlegend": false,
         "type": "scatter",
         "x": [
          40,
          43
         ],
         "y": [
          39,
          35
         ]
        },
        {
         "line": {
          "color": "blue",
          "width": 1
         },
         "mode": "lines",
         "showlegend": false,
         "type": "scatter",
         "x": [
          51,
          51
         ],
         "y": [
          7,
          2
         ]
        },
        {
         "line": {
          "color": "blue",
          "width": 1
         },
         "mode": "lines",
         "showlegend": false,
         "type": "scatter",
         "x": [
          18,
          17
         ],
         "y": [
          21,
          26
         ]
        },
        {
         "line": {
          "color": "blue",
          "width": 1
         },
         "mode": "lines",
         "showlegend": false,
         "type": "scatter",
         "x": [
          45,
          45
         ],
         "y": [
          23,
          28
         ]
        },
        {
         "line": {
          "color": "blue",
          "width": 1
         },
         "mode": "lines",
         "showlegend": false,
         "type": "scatter",
         "x": [
          47,
          52
         ],
         "y": [
          33,
          33
         ]
        },
        {
         "line": {
          "color": "blue",
          "width": 1
         },
         "mode": "lines",
         "showlegend": false,
         "type": "scatter",
         "x": [
          55,
          50
         ],
         "y": [
          48,
          48
         ]
        },
        {
         "line": {
          "color": "blue",
          "width": 1
         },
         "mode": "lines",
         "showlegend": false,
         "type": "scatter",
         "x": [
          46,
          46
         ],
         "y": [
          41,
          46
         ]
        },
        {
         "line": {
          "color": "blue",
          "width": 1
         },
         "mode": "lines",
         "showlegend": false,
         "type": "scatter",
         "x": [
          41,
          41
         ],
         "y": [
          47,
          42
         ]
        },
        {
         "line": {
          "color": "blue",
          "width": 1
         },
         "mode": "lines",
         "showlegend": false,
         "type": "scatter",
         "x": [
          3,
          6
         ],
         "y": [
          56,
          52
         ]
        },
        {
         "line": {
          "color": "blue",
          "width": 1
         },
         "mode": "lines",
         "showlegend": false,
         "type": "scatter",
         "x": [
          41,
          46
         ],
         "y": [
          43,
          46
         ]
        },
        {
         "line": {
          "color": "blue",
          "width": 1
         },
         "mode": "lines",
         "showlegend": false,
         "type": "scatter",
         "x": [
          46,
          51
         ],
         "y": [
          7,
          7
         ]
        },
        {
         "line": {
          "color": "blue",
          "width": 1
         },
         "mode": "lines",
         "showlegend": false,
         "type": "scatter",
         "x": [
          37,
          35
         ],
         "y": [
          44,
          49
         ]
        },
        {
         "line": {
          "color": "blue",
          "width": 1
         },
         "mode": "lines",
         "showlegend": false,
         "type": "scatter",
         "x": [
          24,
          20
         ],
         "y": [
          51,
          49
         ]
        },
        {
         "line": {
          "color": "blue",
          "width": 1
         },
         "mode": "lines",
         "showlegend": false,
         "type": "scatter",
         "x": [
          58,
          55
         ],
         "y": [
          51,
          48
         ]
        },
        {
         "line": {
          "color": "blue",
          "width": 1
         },
         "mode": "lines",
         "showlegend": false,
         "type": "scatter",
         "x": [
          29,
          34
         ],
         "y": [
          45,
          43
         ]
        },
        {
         "line": {
          "color": "blue",
          "width": 1
         },
         "mode": "lines",
         "showlegend": false,
         "type": "scatter",
         "x": [
          52,
          52
         ],
         "y": [
          33,
          28
         ]
        },
        {
         "line": {
          "color": "blue",
          "width": 1
         },
         "mode": "lines",
         "showlegend": false,
         "type": "scatter",
         "x": [
          51,
          49
         ],
         "y": [
          16,
          21
         ]
        },
        {
         "line": {
          "color": "blue",
          "width": 1
         },
         "mode": "lines",
         "showlegend": false,
         "type": "scatter",
         "x": [
          58,
          58
         ],
         "y": [
          45,
          40
         ]
        },
        {
         "line": {
          "color": "blue",
          "width": 1
         },
         "mode": "lines",
         "showlegend": false,
         "type": "scatter",
         "x": [
          29,
          24
         ],
         "y": [
          18,
          18
         ]
        },
        {
         "line": {
          "color": "blue",
          "width": 1
         },
         "mode": "lines",
         "showlegend": false,
         "type": "scatter",
         "x": [
          16,
          16
         ],
         "y": [
          10,
          15
         ]
        },
        {
         "line": {
          "color": "blue",
          "width": 1
         },
         "mode": "lines",
         "showlegend": false,
         "type": "scatter",
         "x": [
          47,
          50
         ],
         "y": [
          7,
          3
         ]
        },
        {
         "line": {
          "color": "blue",
          "width": 1
         },
         "mode": "lines",
         "showlegend": false,
         "type": "scatter",
         "x": [
          38,
          35
         ],
         "y": [
          29,
          26
         ]
        },
        {
         "line": {
          "color": "blue",
          "width": 1
         },
         "mode": "lines",
         "showlegend": false,
         "type": "scatter",
         "x": [
          41,
          46
         ],
         "y": [
          46,
          46
         ]
        },
        {
         "line": {
          "color": "blue",
          "width": 1
         },
         "mode": "lines",
         "showlegend": false,
         "type": "scatter",
         "x": [
          22,
          22
         ],
         "y": [
          48,
          53
         ]
        },
        {
         "line": {
          "color": "blue",
          "width": 1
         },
         "mode": "lines",
         "showlegend": false,
         "type": "scatter",
         "x": [
          0,
          3
         ],
         "y": [
          6,
          10
         ]
        },
        {
         "line": {
          "color": "blue",
          "width": 1
         },
         "mode": "lines",
         "showlegend": false,
         "type": "scatter",
         "x": [
          31,
          28
         ],
         "y": [
          29,
          33
         ]
        },
        {
         "line": {
          "color": "blue",
          "width": 1
         },
         "mode": "lines",
         "showlegend": false,
         "type": "scatter",
         "x": [
          5,
          0
         ],
         "y": [
          18,
          18
         ]
        },
        {
         "line": {
          "color": "blue",
          "width": 1
         },
         "mode": "lines",
         "showlegend": false,
         "type": "scatter",
         "x": [
          49,
          49
         ],
         "y": [
          25,
          30
         ]
        },
        {
         "line": {
          "color": "blue",
          "width": 1
         },
         "mode": "lines",
         "showlegend": false,
         "type": "scatter",
         "x": [
          9,
          6
         ],
         "y": [
          55,
          52
         ]
        },
        {
         "line": {
          "color": "blue",
          "width": 1
         },
         "mode": "lines",
         "showlegend": false,
         "type": "scatter",
         "x": [
          54,
          54
         ],
         "y": [
          2,
          7
         ]
        },
        {
         "line": {
          "color": "blue",
          "width": 1
         },
         "mode": "lines",
         "showlegend": false,
         "type": "scatter",
         "x": [
          47,
          47
         ],
         "y": [
          28,
          23
         ]
        },
        {
         "line": {
          "color": "blue",
          "width": 1
         },
         "mode": "lines",
         "showlegend": false,
         "type": "scatter",
         "x": [
          50,
          45
         ],
         "y": [
          52,
          52
         ]
        },
        {
         "line": {
          "color": "blue",
          "width": 1
         },
         "mode": "lines",
         "showlegend": false,
         "type": "scatter",
         "x": [
          27,
          22
         ],
         "y": [
          53,
          53
         ]
        },
        {
         "line": {
          "color": "blue",
          "width": 1
         },
         "mode": "lines",
         "showlegend": false,
         "type": "scatter",
         "x": [
          47,
          52
         ],
         "y": [
          33,
          33
         ]
        },
        {
         "line": {
          "color": "blue",
          "width": 1
         },
         "mode": "lines",
         "showlegend": false,
         "type": "scatter",
         "x": [
          0,
          3
         ],
         "y": [
          24,
          20
         ]
        },
        {
         "line": {
          "color": "blue",
          "width": 1
         },
         "mode": "lines",
         "showlegend": false,
         "type": "scatter",
         "x": [
          46,
          42
         ],
         "y": [
          1,
          4
         ]
        },
        {
         "line": {
          "color": "blue",
          "width": 1
         },
         "mode": "lines",
         "showlegend": false,
         "type": "scatter",
         "x": [
          7,
          4
         ],
         "y": [
          36,
          40
         ]
        },
        {
         "line": {
          "color": "blue",
          "width": 1
         },
         "mode": "lines",
         "showlegend": false,
         "type": "scatter",
         "x": [
          31,
          35
         ],
         "y": [
          29,
          26
         ]
        },
        {
         "line": {
          "color": "blue",
          "width": 1
         },
         "mode": "lines",
         "showlegend": false,
         "type": "scatter",
         "x": [
          3,
          8
         ],
         "y": [
          10,
          8
         ]
        },
        {
         "line": {
          "color": "blue",
          "width": 1
         },
         "mode": "lines",
         "showlegend": false,
         "type": "scatter",
         "x": [
          46,
          51
         ],
         "y": [
          43,
          43
         ]
        },
        {
         "line": {
          "color": "blue",
          "width": 1
         },
         "mode": "lines",
         "showlegend": false,
         "type": "scatter",
         "x": [
          5,
          0
         ],
         "y": [
          6,
          6
         ]
        },
        {
         "line": {
          "color": "blue",
          "width": 1
         },
         "mode": "lines",
         "showlegend": false,
         "type": "scatter",
         "x": [
          24,
          24
         ],
         "y": [
          44,
          39
         ]
        },
        {
         "line": {
          "color": "blue",
          "width": 1
         },
         "mode": "lines",
         "showlegend": false,
         "type": "scatter",
         "x": [
          35,
          32
         ],
         "y": [
          0,
          3
         ]
        },
        {
         "line": {
          "color": "blue",
          "width": 1
         },
         "mode": "lines",
         "showlegend": false,
         "type": "scatter",
         "x": [
          12,
          9
         ],
         "y": [
          5,
          2
         ]
        },
        {
         "line": {
          "color": "blue",
          "width": 1
         },
         "mode": "lines",
         "showlegend": false,
         "type": "scatter",
         "x": [
          39,
          39
         ],
         "y": [
          19,
          24
         ]
        },
        {
         "line": {
          "color": "blue",
          "width": 1
         },
         "mode": "lines",
         "showlegend": false,
         "type": "scatter",
         "x": [
          57,
          52
         ],
         "y": [
          33,
          33
         ]
        },
        {
         "line": {
          "color": "blue",
          "width": 1
         },
         "mode": "lines",
         "showlegend": false,
         "type": "scatter",
         "x": [
          56,
          51
         ],
         "y": [
          16,
          16
         ]
        },
        {
         "line": {
          "color": "blue",
          "width": 1
         },
         "mode": "lines",
         "showlegend": false,
         "type": "scatter",
         "x": [
          57,
          57
         ],
         "y": [
          10,
          15
         ]
        },
        {
         "line": {
          "color": "blue",
          "width": 1
         },
         "mode": "lines",
         "showlegend": false,
         "type": "scatter",
         "x": [
          26,
          30
         ],
         "y": [
          47,
          51
         ]
        },
        {
         "line": {
          "color": "blue",
          "width": 1
         },
         "mode": "lines",
         "showlegend": false,
         "type": "scatter",
         "x": [
          52,
          48
         ],
         "y": [
          57,
          55
         ]
        },
        {
         "line": {
          "color": "blue",
          "width": 1
         },
         "mode": "lines",
         "showlegend": false,
         "type": "scatter",
         "x": [
          55,
          52
         ],
         "y": [
          55,
          57
         ]
        },
        {
         "line": {
          "color": "red",
          "width": 3
         },
         "mode": "lines+markers",
         "name": "Path",
         "type": "scatter",
         "x": [
          5,
          8,
          12,
          16,
          16,
          19,
          23,
          26,
          29,
          33,
          36,
          39,
          40,
          43,
          43,
          45,
          41,
          39,
          42,
          45,
          48,
          52,
          55
         ],
         "y": [
          5,
          8,
          10,
          11,
          15,
          18,
          19,
          22,
          25,
          25,
          21,
          24,
          28,
          31,
          35,
          39,
          42,
          46,
          49,
          52,
          55,
          57,
          55
         ]
        }
       ],
       "layout": {
        "height": 700,
        "shapes": [
         {
          "fillcolor": "purple",
          "line": {
           "color": "purple"
          },
          "opacity": 0.7,
          "type": "rect",
          "x0": 32,
          "x1": 36,
          "y0": 28,
          "y1": 36
         },
         {
          "fillcolor": "purple",
          "line": {
           "color": "purple"
          },
          "opacity": 0.7,
          "type": "rect",
          "x0": 38,
          "x1": 42,
          "y0": 30,
          "y1": 38
         },
         {
          "fillcolor": "purple",
          "line": {
           "color": "purple"
          },
          "opacity": 0.7,
          "type": "rect",
          "x0": 6,
          "x1": 12,
          "y0": 14,
          "y1": 19
         },
         {
          "fillcolor": "purple",
          "line": {
           "color": "purple"
          },
          "opacity": 0.7,
          "type": "rect",
          "x0": 22,
          "x1": 27,
          "y0": 4,
          "y1": 12
         },
         {
          "fillcolor": "purple",
          "line": {
           "color": "purple"
          },
          "opacity": 0.7,
          "type": "rect",
          "x0": 7,
          "x1": 15,
          "y0": 37,
          "y1": 45
         },
         {
          "fillcolor": "purple",
          "line": {
           "color": "purple"
          },
          "opacity": 0.7,
          "type": "rect",
          "x0": 8,
          "x1": 12,
          "y0": 19,
          "y1": 24
         },
         {
          "fillcolor": "purple",
          "line": {
           "color": "purple"
          },
          "opacity": 0.7,
          "type": "rect",
          "x0": 7,
          "x1": 11,
          "y0": 47,
          "y1": 52
         },
         {
          "fillcolor": "purple",
          "line": {
           "color": "purple"
          },
          "opacity": 0.7,
          "type": "rect",
          "x0": 11,
          "x1": 17,
          "y0": 50,
          "y1": 55
         },
         {
          "fillcolor": "purple",
          "line": {
           "color": "purple"
          },
          "opacity": 0.7,
          "type": "rect",
          "x0": 25,
          "x1": 33,
          "y0": 13,
          "y1": 17
         },
         {
          "fillcolor": "purple",
          "line": {
           "color": "purple"
          },
          "opacity": 0.7,
          "type": "rect",
          "x0": 39,
          "x1": 47,
          "y0": 8,
          "y1": 13
         }
        ],
        "template": {
         "data": {
          "bar": [
           {
            "error_x": {
             "color": "#2a3f5f"
            },
            "error_y": {
             "color": "#2a3f5f"
            },
            "marker": {
             "line": {
              "color": "#E5ECF6",
              "width": 0.5
             },
             "pattern": {
              "fillmode": "overlay",
              "size": 10,
              "solidity": 0.2
             }
            },
            "type": "bar"
           }
          ],
          "barpolar": [
           {
            "marker": {
             "line": {
              "color": "#E5ECF6",
              "width": 0.5
             },
             "pattern": {
              "fillmode": "overlay",
              "size": 10,
              "solidity": 0.2
             }
            },
            "type": "barpolar"
           }
          ],
          "carpet": [
           {
            "aaxis": {
             "endlinecolor": "#2a3f5f",
             "gridcolor": "white",
             "linecolor": "white",
             "minorgridcolor": "white",
             "startlinecolor": "#2a3f5f"
            },
            "baxis": {
             "endlinecolor": "#2a3f5f",
             "gridcolor": "white",
             "linecolor": "white",
             "minorgridcolor": "white",
             "startlinecolor": "#2a3f5f"
            },
            "type": "carpet"
           }
          ],
          "choropleth": [
           {
            "colorbar": {
             "outlinewidth": 0,
             "ticks": ""
            },
            "type": "choropleth"
           }
          ],
          "contour": [
           {
            "colorbar": {
             "outlinewidth": 0,
             "ticks": ""
            },
            "colorscale": [
             [
              0,
              "#0d0887"
             ],
             [
              0.1111111111111111,
              "#46039f"
             ],
             [
              0.2222222222222222,
              "#7201a8"
             ],
             [
              0.3333333333333333,
              "#9c179e"
             ],
             [
              0.4444444444444444,
              "#bd3786"
             ],
             [
              0.5555555555555556,
              "#d8576b"
             ],
             [
              0.6666666666666666,
              "#ed7953"
             ],
             [
              0.7777777777777778,
              "#fb9f3a"
             ],
             [
              0.8888888888888888,
              "#fdca26"
             ],
             [
              1,
              "#f0f921"
             ]
            ],
            "type": "contour"
           }
          ],
          "contourcarpet": [
           {
            "colorbar": {
             "outlinewidth": 0,
             "ticks": ""
            },
            "type": "contourcarpet"
           }
          ],
          "heatmap": [
           {
            "colorbar": {
             "outlinewidth": 0,
             "ticks": ""
            },
            "colorscale": [
             [
              0,
              "#0d0887"
             ],
             [
              0.1111111111111111,
              "#46039f"
             ],
             [
              0.2222222222222222,
              "#7201a8"
             ],
             [
              0.3333333333333333,
              "#9c179e"
             ],
             [
              0.4444444444444444,
              "#bd3786"
             ],
             [
              0.5555555555555556,
              "#d8576b"
             ],
             [
              0.6666666666666666,
              "#ed7953"
             ],
             [
              0.7777777777777778,
              "#fb9f3a"
             ],
             [
              0.8888888888888888,
              "#fdca26"
             ],
             [
              1,
              "#f0f921"
             ]
            ],
            "type": "heatmap"
           }
          ],
          "histogram": [
           {
            "marker": {
             "pattern": {
              "fillmode": "overlay",
              "size": 10,
              "solidity": 0.2
             }
            },
            "type": "histogram"
           }
          ],
          "histogram2d": [
           {
            "colorbar": {
             "outlinewidth": 0,
             "ticks": ""
            },
            "colorscale": [
             [
              0,
              "#0d0887"
             ],
             [
              0.1111111111111111,
              "#46039f"
             ],
             [
              0.2222222222222222,
              "#7201a8"
             ],
             [
              0.3333333333333333,
              "#9c179e"
             ],
             [
              0.4444444444444444,
              "#bd3786"
             ],
             [
              0.5555555555555556,
              "#d8576b"
             ],
             [
              0.6666666666666666,
              "#ed7953"
             ],
             [
              0.7777777777777778,
              "#fb9f3a"
             ],
             [
              0.8888888888888888,
              "#fdca26"
             ],
             [
              1,
              "#f0f921"
             ]
            ],
            "type": "histogram2d"
           }
          ],
          "histogram2dcontour": [
           {
            "colorbar": {
             "outlinewidth": 0,
             "ticks": ""
            },
            "colorscale": [
             [
              0,
              "#0d0887"
             ],
             [
              0.1111111111111111,
              "#46039f"
             ],
             [
              0.2222222222222222,
              "#7201a8"
             ],
             [
              0.3333333333333333,
              "#9c179e"
             ],
             [
              0.4444444444444444,
              "#bd3786"
             ],
             [
              0.5555555555555556,
              "#d8576b"
             ],
             [
              0.6666666666666666,
              "#ed7953"
             ],
             [
              0.7777777777777778,
              "#fb9f3a"
             ],
             [
              0.8888888888888888,
              "#fdca26"
             ],
             [
              1,
              "#f0f921"
             ]
            ],
            "type": "histogram2dcontour"
           }
          ],
          "mesh3d": [
           {
            "colorbar": {
             "outlinewidth": 0,
             "ticks": ""
            },
            "type": "mesh3d"
           }
          ],
          "parcoords": [
           {
            "line": {
             "colorbar": {
              "outlinewidth": 0,
              "ticks": ""
             }
            },
            "type": "parcoords"
           }
          ],
          "pie": [
           {
            "automargin": true,
            "type": "pie"
           }
          ],
          "scatter": [
           {
            "fillpattern": {
             "fillmode": "overlay",
             "size": 10,
             "solidity": 0.2
            },
            "type": "scatter"
           }
          ],
          "scatter3d": [
           {
            "line": {
             "colorbar": {
              "outlinewidth": 0,
              "ticks": ""
             }
            },
            "marker": {
             "colorbar": {
              "outlinewidth": 0,
              "ticks": ""
             }
            },
            "type": "scatter3d"
           }
          ],
          "scattercarpet": [
           {
            "marker": {
             "colorbar": {
              "outlinewidth": 0,
              "ticks": ""
             }
            },
            "type": "scattercarpet"
           }
          ],
          "scattergeo": [
           {
            "marker": {
             "colorbar": {
              "outlinewidth": 0,
              "ticks": ""
             }
            },
            "type": "scattergeo"
           }
          ],
          "scattergl": [
           {
            "marker": {
             "colorbar": {
              "outlinewidth": 0,
              "ticks": ""
             }
            },
            "type": "scattergl"
           }
          ],
          "scattermap": [
           {
            "marker": {
             "colorbar": {
              "outlinewidth": 0,
              "ticks": ""
             }
            },
            "type": "scattermap"
           }
          ],
          "scattermapbox": [
           {
            "marker": {
             "colorbar": {
              "outlinewidth": 0,
              "ticks": ""
             }
            },
            "type": "scattermapbox"
           }
          ],
          "scatterpolar": [
           {
            "marker": {
             "colorbar": {
              "outlinewidth": 0,
              "ticks": ""
             }
            },
            "type": "scatterpolar"
           }
          ],
          "scatterpolargl": [
           {
            "marker": {
             "colorbar": {
              "outlinewidth": 0,
              "ticks": ""
             }
            },
            "type": "scatterpolargl"
           }
          ],
          "scatterternary": [
           {
            "marker": {
             "colorbar": {
              "outlinewidth": 0,
              "ticks": ""
             }
            },
            "type": "scatterternary"
           }
          ],
          "surface": [
           {
            "colorbar": {
             "outlinewidth": 0,
             "ticks": ""
            },
            "colorscale": [
             [
              0,
              "#0d0887"
             ],
             [
              0.1111111111111111,
              "#46039f"
             ],
             [
              0.2222222222222222,
              "#7201a8"
             ],
             [
              0.3333333333333333,
              "#9c179e"
             ],
             [
              0.4444444444444444,
              "#bd3786"
             ],
             [
              0.5555555555555556,
              "#d8576b"
             ],
             [
              0.6666666666666666,
              "#ed7953"
             ],
             [
              0.7777777777777778,
              "#fb9f3a"
             ],
             [
              0.8888888888888888,
              "#fdca26"
             ],
             [
              1,
              "#f0f921"
             ]
            ],
            "type": "surface"
           }
          ],
          "table": [
           {
            "cells": {
             "fill": {
              "color": "#EBF0F8"
             },
             "line": {
              "color": "white"
             }
            },
            "header": {
             "fill": {
              "color": "#C8D4E3"
             },
             "line": {
              "color": "white"
             }
            },
            "type": "table"
           }
          ]
         },
         "layout": {
          "annotationdefaults": {
           "arrowcolor": "#2a3f5f",
           "arrowhead": 0,
           "arrowwidth": 1
          },
          "autotypenumbers": "strict",
          "coloraxis": {
           "colorbar": {
            "outlinewidth": 0,
            "ticks": ""
           }
          },
          "colorscale": {
           "diverging": [
            [
             0,
             "#8e0152"
            ],
            [
             0.1,
             "#c51b7d"
            ],
            [
             0.2,
             "#de77ae"
            ],
            [
             0.3,
             "#f1b6da"
            ],
            [
             0.4,
             "#fde0ef"
            ],
            [
             0.5,
             "#f7f7f7"
            ],
            [
             0.6,
             "#e6f5d0"
            ],
            [
             0.7,
             "#b8e186"
            ],
            [
             0.8,
             "#7fbc41"
            ],
            [
             0.9,
             "#4d9221"
            ],
            [
             1,
             "#276419"
            ]
           ],
           "sequential": [
            [
             0,
             "#0d0887"
            ],
            [
             0.1111111111111111,
             "#46039f"
            ],
            [
             0.2222222222222222,
             "#7201a8"
            ],
            [
             0.3333333333333333,
             "#9c179e"
            ],
            [
             0.4444444444444444,
             "#bd3786"
            ],
            [
             0.5555555555555556,
             "#d8576b"
            ],
            [
             0.6666666666666666,
             "#ed7953"
            ],
            [
             0.7777777777777778,
             "#fb9f3a"
            ],
            [
             0.8888888888888888,
             "#fdca26"
            ],
            [
             1,
             "#f0f921"
            ]
           ],
           "sequentialminus": [
            [
             0,
             "#0d0887"
            ],
            [
             0.1111111111111111,
             "#46039f"
            ],
            [
             0.2222222222222222,
             "#7201a8"
            ],
            [
             0.3333333333333333,
             "#9c179e"
            ],
            [
             0.4444444444444444,
             "#bd3786"
            ],
            [
             0.5555555555555556,
             "#d8576b"
            ],
            [
             0.6666666666666666,
             "#ed7953"
            ],
            [
             0.7777777777777778,
             "#fb9f3a"
            ],
            [
             0.8888888888888888,
             "#fdca26"
            ],
            [
             1,
             "#f0f921"
            ]
           ]
          },
          "colorway": [
           "#636efa",
           "#EF553B",
           "#00cc96",
           "#ab63fa",
           "#FFA15A",
           "#19d3f3",
           "#FF6692",
           "#B6E880",
           "#FF97FF",
           "#FECB52"
          ],
          "font": {
           "color": "#2a3f5f"
          },
          "geo": {
           "bgcolor": "white",
           "lakecolor": "white",
           "landcolor": "#E5ECF6",
           "showlakes": true,
           "showland": true,
           "subunitcolor": "white"
          },
          "hoverlabel": {
           "align": "left"
          },
          "hovermode": "closest",
          "mapbox": {
           "style": "light"
          },
          "paper_bgcolor": "white",
          "plot_bgcolor": "#E5ECF6",
          "polar": {
           "angularaxis": {
            "gridcolor": "white",
            "linecolor": "white",
            "ticks": ""
           },
           "bgcolor": "#E5ECF6",
           "radialaxis": {
            "gridcolor": "white",
            "linecolor": "white",
            "ticks": ""
           }
          },
          "scene": {
           "xaxis": {
            "backgroundcolor": "#E5ECF6",
            "gridcolor": "white",
            "gridwidth": 2,
            "linecolor": "white",
            "showbackground": true,
            "ticks": "",
            "zerolinecolor": "white"
           },
           "yaxis": {
            "backgroundcolor": "#E5ECF6",
            "gridcolor": "white",
            "gridwidth": 2,
            "linecolor": "white",
            "showbackground": true,
            "ticks": "",
            "zerolinecolor": "white"
           },
           "zaxis": {
            "backgroundcolor": "#E5ECF6",
            "gridcolor": "white",
            "gridwidth": 2,
            "linecolor": "white",
            "showbackground": true,
            "ticks": "",
            "zerolinecolor": "white"
           }
          },
          "shapedefaults": {
           "line": {
            "color": "#2a3f5f"
           }
          },
          "ternary": {
           "aaxis": {
            "gridcolor": "white",
            "linecolor": "white",
            "ticks": ""
           },
           "baxis": {
            "gridcolor": "white",
            "linecolor": "white",
            "ticks": ""
           },
           "bgcolor": "#E5ECF6",
           "caxis": {
            "gridcolor": "white",
            "linecolor": "white",
            "ticks": ""
           }
          },
          "title": {
           "x": 0.05
          },
          "xaxis": {
           "automargin": true,
           "gridcolor": "white",
           "linecolor": "white",
           "ticks": "",
           "title": {
            "standoff": 15
           },
           "zerolinecolor": "white",
           "zerolinewidth": 2
          },
          "yaxis": {
           "automargin": true,
           "gridcolor": "white",
           "linecolor": "white",
           "ticks": "",
           "title": {
            "standoff": 15
           },
           "zerolinecolor": "white",
           "zerolinewidth": 2
          }
         }
        },
        "title": {
         "text": "2D Map - multi_obstacle_narrow_passage"
        },
        "width": 700,
        "xaxis": {
         "showgrid": false
        },
        "yaxis": {
         "autorange": "reversed",
         "showgrid": false
        }
       }
      }
     },
     "metadata": {},
     "output_type": "display_data"
    }
   ],
   "source": [
    "start, goal = (5, 5), (55, 55)\n",
    "vis = MapVisualizer(dimensions=2, bounds=(60, 60), map_type=\"multi_obstacle_narrow_passage\")\n",
    "vis.plot_start_goal(start, goal)\n",
    "\n",
    "# 2. RRT 실행\n",
    "rrt = RRT(start=start, goal=goal, bounds=(60, 60), obstacles=vis.obstacles)\n",
    "path = rrt.run()\n",
    "\n",
    "# 3. 트리 edge 그리기\n",
    "for node in rrt.nodes:\n",
    "    if node.parent:\n",
    "        vis.data.append(\n",
    "            go.Scatter(x=[node.x, node.parent.x], y=[node.y, node.parent.y],\n",
    "                        mode='lines', line=dict(color='blue', width=1), showlegend=False)\n",
    "        )\n",
    "\n",
    "# 4. 경로 표시\n",
    "if path:\n",
    "    vis.plot_path_trace(path)\n",
    "else:\n",
    "    print(\"No path found.\")\n",
    "\n",
    "# 5. 시각화 출력\n",
    "vis.show()"
   ]
  },
  {
   "cell_type": "code",
   "execution_count": null,
   "id": "6800c441",
   "metadata": {},
   "outputs": [],
   "source": []
  }
 ],
 "metadata": {
  "kernelspec": {
   "display_name": "pp-env",
   "language": "python",
   "name": "python3"
  },
  "language_info": {
   "codemirror_mode": {
    "name": "ipython",
    "version": 3
   },
   "file_extension": ".py",
   "mimetype": "text/x-python",
   "name": "python",
   "nbconvert_exporter": "python",
   "pygments_lexer": "ipython3",
   "version": "3.10.18"
  }
 },
 "nbformat": 4,
 "nbformat_minor": 5
}
