{
 "cells": [
  {
   "cell_type": "code",
   "execution_count": 1,
   "id": "89ccc405",
   "metadata": {},
   "outputs": [],
   "source": [
    "import numpy as np\n",
    "import plotly.graph_objects as go\n",
    "import random"
   ]
  },
  {
   "cell_type": "code",
   "execution_count": 16,
   "id": "b0c35710",
   "metadata": {},
   "outputs": [],
   "source": [
    "import random\n",
    "from typing import List, Tuple\n",
    "import plotly.graph_objects as go\n",
    "import numpy as np\n",
    "\n",
    "class MapVisualizer:\n",
    "    def __init__(self, dimensions: int, bounds: Tuple[int, int, int], map_type=\"multi_obstacle_narrow_passage\"):\n",
    "        self.dimensions = dimensions\n",
    "        self.bounds = bounds\n",
    "        self.map_type = map_type\n",
    "        self.data = []\n",
    "        self.shapes = []\n",
    "        self.obstacles = []  # List of tuples: 2D (x0,y0,x1,y1), 3D (x0,y0,z0,x1,y1,z1)\n",
    "        self._generate()\n",
    "\n",
    "    def _generate(self):\n",
    "        if self.dimensions == 2:\n",
    "            self._generate_2d_map()\n",
    "        elif self.dimensions == 3:\n",
    "            self._generate_3d_map()\n",
    "        else:\n",
    "            raise ValueError(\"Only 2D and 3D supported.\")\n",
    "\n",
    "    def _check_overlap_2d(self, new_rect):\n",
    "        for ox0, oy0, ox1, oy1 in self.obstacles:\n",
    "            if not (new_rect[2] <= ox0 or new_rect[0] >= ox1 or new_rect[3] <= oy0 or new_rect[1] >= oy1):\n",
    "                return True  # Overlap\n",
    "        return False\n",
    "\n",
    "    def _generate_2d_map(self):\n",
    "        W, H = self.bounds[:2]\n",
    "        attempts = 0\n",
    "        while len(self.obstacles) < 10 and attempts < 1000:\n",
    "            x0 = random.randint(0, W - 10)\n",
    "            y0 = random.randint(0, H - 10)\n",
    "            x1 = x0 + random.randint(4, 8)\n",
    "            y1 = y0 + random.randint(4, 8)\n",
    "            rect = (x0, y0, x1, y1)\n",
    "            if not self._check_overlap_2d(rect):\n",
    "                self.obstacles.append(rect)\n",
    "            attempts += 1\n",
    "\n",
    "        for x0, y0, x1, y1 in self.obstacles:\n",
    "            self.shapes.append(dict(\n",
    "                type='rect',\n",
    "                x0=x0, y0=y0,\n",
    "                x1=x1, y1=y1,\n",
    "                line=dict(color='purple'),\n",
    "                fillcolor='purple',\n",
    "                opacity=0.7,\n",
    "            ))\n",
    "\n",
    "    def _check_overlap_3d(self, new_box):\n",
    "        for ox0, oy0, oz0, ox1, oy1, oz1 in self.obstacles:\n",
    "            if not (new_box[3] <= ox0 or new_box[0] >= ox1 or\n",
    "                    new_box[4] <= oy0 or new_box[1] >= oy1 or\n",
    "                    new_box[5] <= oz0 or new_box[2] >= oz1):\n",
    "                return True\n",
    "        return False\n",
    "\n",
    "    def _generate_3d_map(self):\n",
    "        W, H, D = self.bounds\n",
    "        attempts = 0\n",
    "        while len(self.obstacles) < 20 and attempts < 1000:\n",
    "            x0, y0, z0 = random.randint(0, W - 10), random.randint(0, H - 10), random.randint(0, D - 10)\n",
    "            dx, dy, dz = random.randint(3, 6), random.randint(3, 6), random.randint(3, 6)\n",
    "            box = (x0, y0, z0, x0 + dx, y0 + dy, z0 + dz)\n",
    "            if not self._check_overlap_3d(box):\n",
    "                self.obstacles.append(box)\n",
    "            attempts += 1\n",
    "\n",
    "        for x0, y0, z0, x1, y1, z1 in self.obstacles:\n",
    "            self.data.append(go.Mesh3d(\n",
    "                x=[x0, x1, x1, x0, x0, x1, x1, x0],\n",
    "                y=[y0, y0, y1, y1, y0, y0, y1, y1],\n",
    "                z=[z0, z0, z0, z0, z1, z1, z1, z1],\n",
    "                i=[0, 0, 0, 1, 1, 2, 2, 3, 4, 4, 5, 6],\n",
    "                j=[1, 2, 3, 2, 5, 3, 6, 0, 5, 6, 6, 7],\n",
    "                k=[2, 3, 0, 5, 6, 6, 7, 4, 6, 7, 4, 4],\n",
    "                color='purple',\n",
    "                opacity=0.7\n",
    "            ))\n",
    "\n",
    "    def plot_start_goal(self, start: Tuple, goal: Tuple):\n",
    "        if self.dimensions == 2:\n",
    "            self.data += [\n",
    "                go.Scatter(x=[start[0]], y=[start[1]], mode='markers', marker=dict(size=10, color='orange'), name=\"Start\"),\n",
    "                go.Scatter(x=[goal[0]], y=[goal[1]], mode='markers', marker=dict(size=10, color='green'), name=\"Goal\")\n",
    "            ]\n",
    "        else:\n",
    "            self.data += [\n",
    "                go.Scatter3d(x=[start[0]], y=[start[1]], z=[start[2]], mode='markers',\n",
    "                             marker=dict(size=5, color='orange'), name=\"Start\"),\n",
    "                go.Scatter3d(x=[goal[0]], y=[goal[1]], z=[goal[2]], mode='markers',\n",
    "                             marker=dict(size=5, color='green'), name=\"Goal\")\n",
    "            ]\n",
    "\n",
    "    def plot_path_trace(self, trace: List[Tuple]):\n",
    "        if not trace:\n",
    "            return  # do nothing\n",
    "        if self.dimensions == 2:\n",
    "            x, y = zip(*trace)\n",
    "            self.data.append(go.Scatter(x=x, y=y, mode='lines+markers', line=dict(color='red', width=3), name=\"Path\"))\n",
    "        else:\n",
    "            x, y, z = zip(*trace)\n",
    "            self.data.append(go.Scatter3d(x=x, y=y, z=z, mode='lines+markers',\n",
    "                                          line=dict(color='red', width=4), name=\"Path\"))\n",
    "\n",
    "    def show(self):\n",
    "        if self.dimensions == 2:\n",
    "            layout = go.Layout(\n",
    "                title=f\"2D Map - {self.map_type}\",\n",
    "                width=700, height=700,\n",
    "                xaxis=dict(showgrid=False),\n",
    "                yaxis=dict(showgrid=False, autorange='reversed'),\n",
    "                shapes=self.shapes\n",
    "            )\n",
    "            fig = go.Figure(data=self.data, layout=layout)\n",
    "        else:\n",
    "            fig = go.Figure(data=self.data)\n",
    "            fig.update_layout(\n",
    "                title=f\"3D Map - {self.map_type}\",\n",
    "                scene=dict(\n",
    "                    xaxis=dict(nticks=10),\n",
    "                    yaxis=dict(nticks=10),\n",
    "                    zaxis=dict(nticks=10)\n",
    "                ),\n",
    "                width=700,\n",
    "                height=700\n",
    "            )\n",
    "        fig.show()\n"
   ]
  },
  {
   "cell_type": "code",
   "execution_count": null,
   "id": "c5a5bf3f",
   "metadata": {},
   "outputs": [],
   "source": [
    "pp = PathPlanningMap(map_type=\"multi_obstacle_narrow_passage\")"
   ]
  },
  {
   "cell_type": "code",
   "execution_count": 17,
   "id": "3a7ac2d2",
   "metadata": {},
   "outputs": [
    {
     "data": {
      "application/vnd.plotly.v1+json": {
       "config": {
        "plotlyServerURL": "https://plot.ly"
       },
       "data": [
        {
         "marker": {
          "color": "orange",
          "size": 10
         },
         "mode": "markers",
         "name": "Start",
         "type": "scatter",
         "x": [
          5
         ],
         "y": [
          5
         ]
        },
        {
         "marker": {
          "color": "green",
          "size": 10
         },
         "mode": "markers",
         "name": "Goal",
         "type": "scatter",
         "x": [
          55
         ],
         "y": [
          55
         ]
        }
       ],
       "layout": {
        "height": 700,
        "shapes": [
         {
          "fillcolor": "purple",
          "line": {
           "color": "purple"
          },
          "opacity": 0.7,
          "type": "rect",
          "x0": 22,
          "x1": 27,
          "y0": 18,
          "y1": 24
         },
         {
          "fillcolor": "purple",
          "line": {
           "color": "purple"
          },
          "opacity": 0.7,
          "type": "rect",
          "x0": 10,
          "x1": 18,
          "y0": 41,
          "y1": 48
         },
         {
          "fillcolor": "purple",
          "line": {
           "color": "purple"
          },
          "opacity": 0.7,
          "type": "rect",
          "x0": 44,
          "x1": 51,
          "y0": 7,
          "y1": 15
         },
         {
          "fillcolor": "purple",
          "line": {
           "color": "purple"
          },
          "opacity": 0.7,
          "type": "rect",
          "x0": 38,
          "x1": 46,
          "y0": 38,
          "y1": 45
         },
         {
          "fillcolor": "purple",
          "line": {
           "color": "purple"
          },
          "opacity": 0.7,
          "type": "rect",
          "x0": 36,
          "x1": 40,
          "y0": 29,
          "y1": 36
         },
         {
          "fillcolor": "purple",
          "line": {
           "color": "purple"
          },
          "opacity": 0.7,
          "type": "rect",
          "x0": 36,
          "x1": 41,
          "y0": 11,
          "y1": 17
         },
         {
          "fillcolor": "purple",
          "line": {
           "color": "purple"
          },
          "opacity": 0.7,
          "type": "rect",
          "x0": 34,
          "x1": 42,
          "y0": 45,
          "y1": 52
         },
         {
          "fillcolor": "purple",
          "line": {
           "color": "purple"
          },
          "opacity": 0.7,
          "type": "rect",
          "x0": 24,
          "x1": 29,
          "y0": 36,
          "y1": 41
         },
         {
          "fillcolor": "purple",
          "line": {
           "color": "purple"
          },
          "opacity": 0.7,
          "type": "rect",
          "x0": 31,
          "x1": 35,
          "y0": 25,
          "y1": 33
         },
         {
          "fillcolor": "purple",
          "line": {
           "color": "purple"
          },
          "opacity": 0.7,
          "type": "rect",
          "x0": 42,
          "x1": 48,
          "y0": 23,
          "y1": 27
         }
        ],
        "template": {
         "data": {
          "bar": [
           {
            "error_x": {
             "color": "#2a3f5f"
            },
            "error_y": {
             "color": "#2a3f5f"
            },
            "marker": {
             "line": {
              "color": "#E5ECF6",
              "width": 0.5
             },
             "pattern": {
              "fillmode": "overlay",
              "size": 10,
              "solidity": 0.2
             }
            },
            "type": "bar"
           }
          ],
          "barpolar": [
           {
            "marker": {
             "line": {
              "color": "#E5ECF6",
              "width": 0.5
             },
             "pattern": {
              "fillmode": "overlay",
              "size": 10,
              "solidity": 0.2
             }
            },
            "type": "barpolar"
           }
          ],
          "carpet": [
           {
            "aaxis": {
             "endlinecolor": "#2a3f5f",
             "gridcolor": "white",
             "linecolor": "white",
             "minorgridcolor": "white",
             "startlinecolor": "#2a3f5f"
            },
            "baxis": {
             "endlinecolor": "#2a3f5f",
             "gridcolor": "white",
             "linecolor": "white",
             "minorgridcolor": "white",
             "startlinecolor": "#2a3f5f"
            },
            "type": "carpet"
           }
          ],
          "choropleth": [
           {
            "colorbar": {
             "outlinewidth": 0,
             "ticks": ""
            },
            "type": "choropleth"
           }
          ],
          "contour": [
           {
            "colorbar": {
             "outlinewidth": 0,
             "ticks": ""
            },
            "colorscale": [
             [
              0,
              "#0d0887"
             ],
             [
              0.1111111111111111,
              "#46039f"
             ],
             [
              0.2222222222222222,
              "#7201a8"
             ],
             [
              0.3333333333333333,
              "#9c179e"
             ],
             [
              0.4444444444444444,
              "#bd3786"
             ],
             [
              0.5555555555555556,
              "#d8576b"
             ],
             [
              0.6666666666666666,
              "#ed7953"
             ],
             [
              0.7777777777777778,
              "#fb9f3a"
             ],
             [
              0.8888888888888888,
              "#fdca26"
             ],
             [
              1,
              "#f0f921"
             ]
            ],
            "type": "contour"
           }
          ],
          "contourcarpet": [
           {
            "colorbar": {
             "outlinewidth": 0,
             "ticks": ""
            },
            "type": "contourcarpet"
           }
          ],
          "heatmap": [
           {
            "colorbar": {
             "outlinewidth": 0,
             "ticks": ""
            },
            "colorscale": [
             [
              0,
              "#0d0887"
             ],
             [
              0.1111111111111111,
              "#46039f"
             ],
             [
              0.2222222222222222,
              "#7201a8"
             ],
             [
              0.3333333333333333,
              "#9c179e"
             ],
             [
              0.4444444444444444,
              "#bd3786"
             ],
             [
              0.5555555555555556,
              "#d8576b"
             ],
             [
              0.6666666666666666,
              "#ed7953"
             ],
             [
              0.7777777777777778,
              "#fb9f3a"
             ],
             [
              0.8888888888888888,
              "#fdca26"
             ],
             [
              1,
              "#f0f921"
             ]
            ],
            "type": "heatmap"
           }
          ],
          "histogram": [
           {
            "marker": {
             "pattern": {
              "fillmode": "overlay",
              "size": 10,
              "solidity": 0.2
             }
            },
            "type": "histogram"
           }
          ],
          "histogram2d": [
           {
            "colorbar": {
             "outlinewidth": 0,
             "ticks": ""
            },
            "colorscale": [
             [
              0,
              "#0d0887"
             ],
             [
              0.1111111111111111,
              "#46039f"
             ],
             [
              0.2222222222222222,
              "#7201a8"
             ],
             [
              0.3333333333333333,
              "#9c179e"
             ],
             [
              0.4444444444444444,
              "#bd3786"
             ],
             [
              0.5555555555555556,
              "#d8576b"
             ],
             [
              0.6666666666666666,
              "#ed7953"
             ],
             [
              0.7777777777777778,
              "#fb9f3a"
             ],
             [
              0.8888888888888888,
              "#fdca26"
             ],
             [
              1,
              "#f0f921"
             ]
            ],
            "type": "histogram2d"
           }
          ],
          "histogram2dcontour": [
           {
            "colorbar": {
             "outlinewidth": 0,
             "ticks": ""
            },
            "colorscale": [
             [
              0,
              "#0d0887"
             ],
             [
              0.1111111111111111,
              "#46039f"
             ],
             [
              0.2222222222222222,
              "#7201a8"
             ],
             [
              0.3333333333333333,
              "#9c179e"
             ],
             [
              0.4444444444444444,
              "#bd3786"
             ],
             [
              0.5555555555555556,
              "#d8576b"
             ],
             [
              0.6666666666666666,
              "#ed7953"
             ],
             [
              0.7777777777777778,
              "#fb9f3a"
             ],
             [
              0.8888888888888888,
              "#fdca26"
             ],
             [
              1,
              "#f0f921"
             ]
            ],
            "type": "histogram2dcontour"
           }
          ],
          "mesh3d": [
           {
            "colorbar": {
             "outlinewidth": 0,
             "ticks": ""
            },
            "type": "mesh3d"
           }
          ],
          "parcoords": [
           {
            "line": {
             "colorbar": {
              "outlinewidth": 0,
              "ticks": ""
             }
            },
            "type": "parcoords"
           }
          ],
          "pie": [
           {
            "automargin": true,
            "type": "pie"
           }
          ],
          "scatter": [
           {
            "fillpattern": {
             "fillmode": "overlay",
             "size": 10,
             "solidity": 0.2
            },
            "type": "scatter"
           }
          ],
          "scatter3d": [
           {
            "line": {
             "colorbar": {
              "outlinewidth": 0,
              "ticks": ""
             }
            },
            "marker": {
             "colorbar": {
              "outlinewidth": 0,
              "ticks": ""
             }
            },
            "type": "scatter3d"
           }
          ],
          "scattercarpet": [
           {
            "marker": {
             "colorbar": {
              "outlinewidth": 0,
              "ticks": ""
             }
            },
            "type": "scattercarpet"
           }
          ],
          "scattergeo": [
           {
            "marker": {
             "colorbar": {
              "outlinewidth": 0,
              "ticks": ""
             }
            },
            "type": "scattergeo"
           }
          ],
          "scattergl": [
           {
            "marker": {
             "colorbar": {
              "outlinewidth": 0,
              "ticks": ""
             }
            },
            "type": "scattergl"
           }
          ],
          "scattermap": [
           {
            "marker": {
             "colorbar": {
              "outlinewidth": 0,
              "ticks": ""
             }
            },
            "type": "scattermap"
           }
          ],
          "scattermapbox": [
           {
            "marker": {
             "colorbar": {
              "outlinewidth": 0,
              "ticks": ""
             }
            },
            "type": "scattermapbox"
           }
          ],
          "scatterpolar": [
           {
            "marker": {
             "colorbar": {
              "outlinewidth": 0,
              "ticks": ""
             }
            },
            "type": "scatterpolar"
           }
          ],
          "scatterpolargl": [
           {
            "marker": {
             "colorbar": {
              "outlinewidth": 0,
              "ticks": ""
             }
            },
            "type": "scatterpolargl"
           }
          ],
          "scatterternary": [
           {
            "marker": {
             "colorbar": {
              "outlinewidth": 0,
              "ticks": ""
             }
            },
            "type": "scatterternary"
           }
          ],
          "surface": [
           {
            "colorbar": {
             "outlinewidth": 0,
             "ticks": ""
            },
            "colorscale": [
             [
              0,
              "#0d0887"
             ],
             [
              0.1111111111111111,
              "#46039f"
             ],
             [
              0.2222222222222222,
              "#7201a8"
             ],
             [
              0.3333333333333333,
              "#9c179e"
             ],
             [
              0.4444444444444444,
              "#bd3786"
             ],
             [
              0.5555555555555556,
              "#d8576b"
             ],
             [
              0.6666666666666666,
              "#ed7953"
             ],
             [
              0.7777777777777778,
              "#fb9f3a"
             ],
             [
              0.8888888888888888,
              "#fdca26"
             ],
             [
              1,
              "#f0f921"
             ]
            ],
            "type": "surface"
           }
          ],
          "table": [
           {
            "cells": {
             "fill": {
              "color": "#EBF0F8"
             },
             "line": {
              "color": "white"
             }
            },
            "header": {
             "fill": {
              "color": "#C8D4E3"
             },
             "line": {
              "color": "white"
             }
            },
            "type": "table"
           }
          ]
         },
         "layout": {
          "annotationdefaults": {
           "arrowcolor": "#2a3f5f",
           "arrowhead": 0,
           "arrowwidth": 1
          },
          "autotypenumbers": "strict",
          "coloraxis": {
           "colorbar": {
            "outlinewidth": 0,
            "ticks": ""
           }
          },
          "colorscale": {
           "diverging": [
            [
             0,
             "#8e0152"
            ],
            [
             0.1,
             "#c51b7d"
            ],
            [
             0.2,
             "#de77ae"
            ],
            [
             0.3,
             "#f1b6da"
            ],
            [
             0.4,
             "#fde0ef"
            ],
            [
             0.5,
             "#f7f7f7"
            ],
            [
             0.6,
             "#e6f5d0"
            ],
            [
             0.7,
             "#b8e186"
            ],
            [
             0.8,
             "#7fbc41"
            ],
            [
             0.9,
             "#4d9221"
            ],
            [
             1,
             "#276419"
            ]
           ],
           "sequential": [
            [
             0,
             "#0d0887"
            ],
            [
             0.1111111111111111,
             "#46039f"
            ],
            [
             0.2222222222222222,
             "#7201a8"
            ],
            [
             0.3333333333333333,
             "#9c179e"
            ],
            [
             0.4444444444444444,
             "#bd3786"
            ],
            [
             0.5555555555555556,
             "#d8576b"
            ],
            [
             0.6666666666666666,
             "#ed7953"
            ],
            [
             0.7777777777777778,
             "#fb9f3a"
            ],
            [
             0.8888888888888888,
             "#fdca26"
            ],
            [
             1,
             "#f0f921"
            ]
           ],
           "sequentialminus": [
            [
             0,
             "#0d0887"
            ],
            [
             0.1111111111111111,
             "#46039f"
            ],
            [
             0.2222222222222222,
             "#7201a8"
            ],
            [
             0.3333333333333333,
             "#9c179e"
            ],
            [
             0.4444444444444444,
             "#bd3786"
            ],
            [
             0.5555555555555556,
             "#d8576b"
            ],
            [
             0.6666666666666666,
             "#ed7953"
            ],
            [
             0.7777777777777778,
             "#fb9f3a"
            ],
            [
             0.8888888888888888,
             "#fdca26"
            ],
            [
             1,
             "#f0f921"
            ]
           ]
          },
          "colorway": [
           "#636efa",
           "#EF553B",
           "#00cc96",
           "#ab63fa",
           "#FFA15A",
           "#19d3f3",
           "#FF6692",
           "#B6E880",
           "#FF97FF",
           "#FECB52"
          ],
          "font": {
           "color": "#2a3f5f"
          },
          "geo": {
           "bgcolor": "white",
           "lakecolor": "white",
           "landcolor": "#E5ECF6",
           "showlakes": true,
           "showland": true,
           "subunitcolor": "white"
          },
          "hoverlabel": {
           "align": "left"
          },
          "hovermode": "closest",
          "mapbox": {
           "style": "light"
          },
          "paper_bgcolor": "white",
          "plot_bgcolor": "#E5ECF6",
          "polar": {
           "angularaxis": {
            "gridcolor": "white",
            "linecolor": "white",
            "ticks": ""
           },
           "bgcolor": "#E5ECF6",
           "radialaxis": {
            "gridcolor": "white",
            "linecolor": "white",
            "ticks": ""
           }
          },
          "scene": {
           "xaxis": {
            "backgroundcolor": "#E5ECF6",
            "gridcolor": "white",
            "gridwidth": 2,
            "linecolor": "white",
            "showbackground": true,
            "ticks": "",
            "zerolinecolor": "white"
           },
           "yaxis": {
            "backgroundcolor": "#E5ECF6",
            "gridcolor": "white",
            "gridwidth": 2,
            "linecolor": "white",
            "showbackground": true,
            "ticks": "",
            "zerolinecolor": "white"
           },
           "zaxis": {
            "backgroundcolor": "#E5ECF6",
            "gridcolor": "white",
            "gridwidth": 2,
            "linecolor": "white",
            "showbackground": true,
            "ticks": "",
            "zerolinecolor": "white"
           }
          },
          "shapedefaults": {
           "line": {
            "color": "#2a3f5f"
           }
          },
          "ternary": {
           "aaxis": {
            "gridcolor": "white",
            "linecolor": "white",
            "ticks": ""
           },
           "baxis": {
            "gridcolor": "white",
            "linecolor": "white",
            "ticks": ""
           },
           "bgcolor": "#E5ECF6",
           "caxis": {
            "gridcolor": "white",
            "linecolor": "white",
            "ticks": ""
           }
          },
          "title": {
           "x": 0.05
          },
          "xaxis": {
           "automargin": true,
           "gridcolor": "white",
           "linecolor": "white",
           "ticks": "",
           "title": {
            "standoff": 15
           },
           "zerolinecolor": "white",
           "zerolinewidth": 2
          },
          "yaxis": {
           "automargin": true,
           "gridcolor": "white",
           "linecolor": "white",
           "ticks": "",
           "title": {
            "standoff": 15
           },
           "zerolinecolor": "white",
           "zerolinewidth": 2
          }
         }
        },
        "title": {
         "text": "2D Map - multi_obstacle_narrow_passage"
        },
        "width": 700,
        "xaxis": {
         "showgrid": false
        },
        "yaxis": {
         "autorange": "reversed",
         "showgrid": false
        }
       }
      }
     },
     "metadata": {},
     "output_type": "display_data"
    }
   ],
   "source": [
    "vis2d = MapVisualizer(dimensions=2, bounds=(60, 60), map_type=\"multi_obstacle_narrow_passage\")\n",
    "vis2d.plot_start_goal((5, 5), (55, 55))\n",
    "vis2d.plot_path_trace([])  # 경로가 없을 경우\n",
    "vis2d.show()\n"
   ]
  },
  {
   "cell_type": "code",
   "execution_count": 18,
   "id": "f2724292",
   "metadata": {},
   "outputs": [
    {
     "data": {
      "application/vnd.plotly.v1+json": {
       "config": {
        "plotlyServerURL": "https://plot.ly"
       },
       "data": [
        {
         "color": "purple",
         "i": [
          0,
          0,
          0,
          1,
          1,
          2,
          2,
          3,
          4,
          4,
          5,
          6
         ],
         "j": [
          1,
          2,
          3,
          2,
          5,
          3,
          6,
          0,
          5,
          6,
          6,
          7
         ],
         "k": [
          2,
          3,
          0,
          5,
          6,
          6,
          7,
          4,
          6,
          7,
          4,
          4
         ],
         "opacity": 0.7,
         "type": "mesh3d",
         "x": [
          5,
          9,
          9,
          5,
          5,
          9,
          9,
          5
         ],
         "y": [
          31,
          31,
          36,
          36,
          31,
          31,
          36,
          36
         ],
         "z": [
          15,
          15,
          15,
          15,
          20,
          20,
          20,
          20
         ]
        },
        {
         "color": "purple",
         "i": [
          0,
          0,
          0,
          1,
          1,
          2,
          2,
          3,
          4,
          4,
          5,
          6
         ],
         "j": [
          1,
          2,
          3,
          2,
          5,
          3,
          6,
          0,
          5,
          6,
          6,
          7
         ],
         "k": [
          2,
          3,
          0,
          5,
          6,
          6,
          7,
          4,
          6,
          7,
          4,
          4
         ],
         "opacity": 0.7,
         "type": "mesh3d",
         "x": [
          2,
          5,
          5,
          2,
          2,
          5,
          5,
          2
         ],
         "y": [
          40,
          40,
          46,
          46,
          40,
          40,
          46,
          46
         ],
         "z": [
          18,
          18,
          18,
          18,
          22,
          22,
          22,
          22
         ]
        },
        {
         "color": "purple",
         "i": [
          0,
          0,
          0,
          1,
          1,
          2,
          2,
          3,
          4,
          4,
          5,
          6
         ],
         "j": [
          1,
          2,
          3,
          2,
          5,
          3,
          6,
          0,
          5,
          6,
          6,
          7
         ],
         "k": [
          2,
          3,
          0,
          5,
          6,
          6,
          7,
          4,
          6,
          7,
          4,
          4
         ],
         "opacity": 0.7,
         "type": "mesh3d",
         "x": [
          36,
          40,
          40,
          36,
          36,
          40,
          40,
          36
         ],
         "y": [
          0,
          0,
          6,
          6,
          0,
          0,
          6,
          6
         ],
         "z": [
          4,
          4,
          4,
          4,
          7,
          7,
          7,
          7
         ]
        },
        {
         "color": "purple",
         "i": [
          0,
          0,
          0,
          1,
          1,
          2,
          2,
          3,
          4,
          4,
          5,
          6
         ],
         "j": [
          1,
          2,
          3,
          2,
          5,
          3,
          6,
          0,
          5,
          6,
          6,
          7
         ],
         "k": [
          2,
          3,
          0,
          5,
          6,
          6,
          7,
          4,
          6,
          7,
          4,
          4
         ],
         "opacity": 0.7,
         "type": "mesh3d",
         "x": [
          29,
          33,
          33,
          29,
          29,
          33,
          33,
          29
         ],
         "y": [
          14,
          14,
          20,
          20,
          14,
          14,
          20,
          20
         ],
         "z": [
          16,
          16,
          16,
          16,
          20,
          20,
          20,
          20
         ]
        },
        {
         "color": "purple",
         "i": [
          0,
          0,
          0,
          1,
          1,
          2,
          2,
          3,
          4,
          4,
          5,
          6
         ],
         "j": [
          1,
          2,
          3,
          2,
          5,
          3,
          6,
          0,
          5,
          6,
          6,
          7
         ],
         "k": [
          2,
          3,
          0,
          5,
          6,
          6,
          7,
          4,
          6,
          7,
          4,
          4
         ],
         "opacity": 0.7,
         "type": "mesh3d",
         "x": [
          40,
          44,
          44,
          40,
          40,
          44,
          44,
          40
         ],
         "y": [
          5,
          5,
          11,
          11,
          5,
          5,
          11,
          11
         ],
         "z": [
          1,
          1,
          1,
          1,
          7,
          7,
          7,
          7
         ]
        },
        {
         "color": "purple",
         "i": [
          0,
          0,
          0,
          1,
          1,
          2,
          2,
          3,
          4,
          4,
          5,
          6
         ],
         "j": [
          1,
          2,
          3,
          2,
          5,
          3,
          6,
          0,
          5,
          6,
          6,
          7
         ],
         "k": [
          2,
          3,
          0,
          5,
          6,
          6,
          7,
          4,
          6,
          7,
          4,
          4
         ],
         "opacity": 0.7,
         "type": "mesh3d",
         "x": [
          4,
          10,
          10,
          4,
          4,
          10,
          10,
          4
         ],
         "y": [
          34,
          34,
          39,
          39,
          34,
          34,
          39,
          39
         ],
         "z": [
          6,
          6,
          6,
          6,
          12,
          12,
          12,
          12
         ]
        },
        {
         "color": "purple",
         "i": [
          0,
          0,
          0,
          1,
          1,
          2,
          2,
          3,
          4,
          4,
          5,
          6
         ],
         "j": [
          1,
          2,
          3,
          2,
          5,
          3,
          6,
          0,
          5,
          6,
          6,
          7
         ],
         "k": [
          2,
          3,
          0,
          5,
          6,
          6,
          7,
          4,
          6,
          7,
          4,
          4
         ],
         "opacity": 0.7,
         "type": "mesh3d",
         "x": [
          25,
          31,
          31,
          25,
          25,
          31,
          31,
          25
         ],
         "y": [
          40,
          40,
          45,
          45,
          40,
          40,
          45,
          45
         ],
         "z": [
          17,
          17,
          17,
          17,
          21,
          21,
          21,
          21
         ]
        },
        {
         "color": "purple",
         "i": [
          0,
          0,
          0,
          1,
          1,
          2,
          2,
          3,
          4,
          4,
          5,
          6
         ],
         "j": [
          1,
          2,
          3,
          2,
          5,
          3,
          6,
          0,
          5,
          6,
          6,
          7
         ],
         "k": [
          2,
          3,
          0,
          5,
          6,
          6,
          7,
          4,
          6,
          7,
          4,
          4
         ],
         "opacity": 0.7,
         "type": "mesh3d",
         "x": [
          14,
          17,
          17,
          14,
          14,
          17,
          17,
          14
         ],
         "y": [
          6,
          6,
          10,
          10,
          6,
          6,
          10,
          10
         ],
         "z": [
          10,
          10,
          10,
          10,
          15,
          15,
          15,
          15
         ]
        },
        {
         "color": "purple",
         "i": [
          0,
          0,
          0,
          1,
          1,
          2,
          2,
          3,
          4,
          4,
          5,
          6
         ],
         "j": [
          1,
          2,
          3,
          2,
          5,
          3,
          6,
          0,
          5,
          6,
          6,
          7
         ],
         "k": [
          2,
          3,
          0,
          5,
          6,
          6,
          7,
          4,
          6,
          7,
          4,
          4
         ],
         "opacity": 0.7,
         "type": "mesh3d",
         "x": [
          8,
          11,
          11,
          8,
          8,
          11,
          11,
          8
         ],
         "y": [
          14,
          14,
          20,
          20,
          14,
          14,
          20,
          20
         ],
         "z": [
          18,
          18,
          18,
          18,
          22,
          22,
          22,
          22
         ]
        },
        {
         "color": "purple",
         "i": [
          0,
          0,
          0,
          1,
          1,
          2,
          2,
          3,
          4,
          4,
          5,
          6
         ],
         "j": [
          1,
          2,
          3,
          2,
          5,
          3,
          6,
          0,
          5,
          6,
          6,
          7
         ],
         "k": [
          2,
          3,
          0,
          5,
          6,
          6,
          7,
          4,
          6,
          7,
          4,
          4
         ],
         "opacity": 0.7,
         "type": "mesh3d",
         "x": [
          34,
          38,
          38,
          34,
          34,
          38,
          38,
          34
         ],
         "y": [
          28,
          28,
          31,
          31,
          28,
          28,
          31,
          31
         ],
         "z": [
          18,
          18,
          18,
          18,
          21,
          21,
          21,
          21
         ]
        },
        {
         "color": "purple",
         "i": [
          0,
          0,
          0,
          1,
          1,
          2,
          2,
          3,
          4,
          4,
          5,
          6
         ],
         "j": [
          1,
          2,
          3,
          2,
          5,
          3,
          6,
          0,
          5,
          6,
          6,
          7
         ],
         "k": [
          2,
          3,
          0,
          5,
          6,
          6,
          7,
          4,
          6,
          7,
          4,
          4
         ],
         "opacity": 0.7,
         "type": "mesh3d",
         "x": [
          33,
          39,
          39,
          33,
          33,
          39,
          39,
          33
         ],
         "y": [
          20,
          20,
          24,
          24,
          20,
          20,
          24,
          24
         ],
         "z": [
          5,
          5,
          5,
          5,
          9,
          9,
          9,
          9
         ]
        },
        {
         "color": "purple",
         "i": [
          0,
          0,
          0,
          1,
          1,
          2,
          2,
          3,
          4,
          4,
          5,
          6
         ],
         "j": [
          1,
          2,
          3,
          2,
          5,
          3,
          6,
          0,
          5,
          6,
          6,
          7
         ],
         "k": [
          2,
          3,
          0,
          5,
          6,
          6,
          7,
          4,
          6,
          7,
          4,
          4
         ],
         "opacity": 0.7,
         "type": "mesh3d",
         "x": [
          24,
          28,
          28,
          24,
          24,
          28,
          28,
          24
         ],
         "y": [
          13,
          13,
          17,
          17,
          13,
          13,
          17,
          17
         ],
         "z": [
          17,
          17,
          17,
          17,
          20,
          20,
          20,
          20
         ]
        },
        {
         "color": "purple",
         "i": [
          0,
          0,
          0,
          1,
          1,
          2,
          2,
          3,
          4,
          4,
          5,
          6
         ],
         "j": [
          1,
          2,
          3,
          2,
          5,
          3,
          6,
          0,
          5,
          6,
          6,
          7
         ],
         "k": [
          2,
          3,
          0,
          5,
          6,
          6,
          7,
          4,
          6,
          7,
          4,
          4
         ],
         "opacity": 0.7,
         "type": "mesh3d",
         "x": [
          26,
          31,
          31,
          26,
          26,
          31,
          31,
          26
         ],
         "y": [
          13,
          13,
          19,
          19,
          13,
          13,
          19,
          19
         ],
         "z": [
          10,
          10,
          10,
          10,
          13,
          13,
          13,
          13
         ]
        },
        {
         "color": "purple",
         "i": [
          0,
          0,
          0,
          1,
          1,
          2,
          2,
          3,
          4,
          4,
          5,
          6
         ],
         "j": [
          1,
          2,
          3,
          2,
          5,
          3,
          6,
          0,
          5,
          6,
          6,
          7
         ],
         "k": [
          2,
          3,
          0,
          5,
          6,
          6,
          7,
          4,
          6,
          7,
          4,
          4
         ],
         "opacity": 0.7,
         "type": "mesh3d",
         "x": [
          2,
          7,
          7,
          2,
          2,
          7,
          7,
          2
         ],
         "y": [
          14,
          14,
          17,
          17,
          14,
          14,
          17,
          17
         ],
         "z": [
          0,
          0,
          0,
          0,
          6,
          6,
          6,
          6
         ]
        },
        {
         "color": "purple",
         "i": [
          0,
          0,
          0,
          1,
          1,
          2,
          2,
          3,
          4,
          4,
          5,
          6
         ],
         "j": [
          1,
          2,
          3,
          2,
          5,
          3,
          6,
          0,
          5,
          6,
          6,
          7
         ],
         "k": [
          2,
          3,
          0,
          5,
          6,
          6,
          7,
          4,
          6,
          7,
          4,
          4
         ],
         "opacity": 0.7,
         "type": "mesh3d",
         "x": [
          23,
          27,
          27,
          23,
          23,
          27,
          27,
          23
         ],
         "y": [
          12,
          12,
          15,
          15,
          12,
          12,
          15,
          15
         ],
         "z": [
          0,
          0,
          0,
          0,
          6,
          6,
          6,
          6
         ]
        },
        {
         "color": "purple",
         "i": [
          0,
          0,
          0,
          1,
          1,
          2,
          2,
          3,
          4,
          4,
          5,
          6
         ],
         "j": [
          1,
          2,
          3,
          2,
          5,
          3,
          6,
          0,
          5,
          6,
          6,
          7
         ],
         "k": [
          2,
          3,
          0,
          5,
          6,
          6,
          7,
          4,
          6,
          7,
          4,
          4
         ],
         "opacity": 0.7,
         "type": "mesh3d",
         "x": [
          39,
          42,
          42,
          39,
          39,
          42,
          42,
          39
         ],
         "y": [
          32,
          32,
          37,
          37,
          32,
          32,
          37,
          37
         ],
         "z": [
          15,
          15,
          15,
          15,
          19,
          19,
          19,
          19
         ]
        },
        {
         "color": "purple",
         "i": [
          0,
          0,
          0,
          1,
          1,
          2,
          2,
          3,
          4,
          4,
          5,
          6
         ],
         "j": [
          1,
          2,
          3,
          2,
          5,
          3,
          6,
          0,
          5,
          6,
          6,
          7
         ],
         "k": [
          2,
          3,
          0,
          5,
          6,
          6,
          7,
          4,
          6,
          7,
          4,
          4
         ],
         "opacity": 0.7,
         "type": "mesh3d",
         "x": [
          26,
          30,
          30,
          26,
          26,
          30,
          30,
          26
         ],
         "y": [
          22,
          22,
          25,
          25,
          22,
          22,
          25,
          25
         ],
         "z": [
          11,
          11,
          11,
          11,
          15,
          15,
          15,
          15
         ]
        },
        {
         "color": "purple",
         "i": [
          0,
          0,
          0,
          1,
          1,
          2,
          2,
          3,
          4,
          4,
          5,
          6
         ],
         "j": [
          1,
          2,
          3,
          2,
          5,
          3,
          6,
          0,
          5,
          6,
          6,
          7
         ],
         "k": [
          2,
          3,
          0,
          5,
          6,
          6,
          7,
          4,
          6,
          7,
          4,
          4
         ],
         "opacity": 0.7,
         "type": "mesh3d",
         "x": [
          8,
          12,
          12,
          8,
          8,
          12,
          12,
          8
         ],
         "y": [
          8,
          8,
          12,
          12,
          8,
          8,
          12,
          12
         ],
         "z": [
          12,
          12,
          12,
          12,
          15,
          15,
          15,
          15
         ]
        },
        {
         "color": "purple",
         "i": [
          0,
          0,
          0,
          1,
          1,
          2,
          2,
          3,
          4,
          4,
          5,
          6
         ],
         "j": [
          1,
          2,
          3,
          2,
          5,
          3,
          6,
          0,
          5,
          6,
          6,
          7
         ],
         "k": [
          2,
          3,
          0,
          5,
          6,
          6,
          7,
          4,
          6,
          7,
          4,
          4
         ],
         "opacity": 0.7,
         "type": "mesh3d",
         "x": [
          24,
          28,
          28,
          24,
          24,
          28,
          28,
          24
         ],
         "y": [
          3,
          3,
          7,
          7,
          3,
          3,
          7,
          7
         ],
         "z": [
          14,
          14,
          14,
          14,
          20,
          20,
          20,
          20
         ]
        },
        {
         "color": "purple",
         "i": [
          0,
          0,
          0,
          1,
          1,
          2,
          2,
          3,
          4,
          4,
          5,
          6
         ],
         "j": [
          1,
          2,
          3,
          2,
          5,
          3,
          6,
          0,
          5,
          6,
          6,
          7
         ],
         "k": [
          2,
          3,
          0,
          5,
          6,
          6,
          7,
          4,
          6,
          7,
          4,
          4
         ],
         "opacity": 0.7,
         "type": "mesh3d",
         "x": [
          19,
          25,
          25,
          19,
          19,
          25,
          25,
          19
         ],
         "y": [
          29,
          29,
          33,
          33,
          29,
          29,
          33,
          33
         ],
         "z": [
          13,
          13,
          13,
          13,
          16,
          16,
          16,
          16
         ]
        },
        {
         "marker": {
          "color": "orange",
          "size": 5
         },
         "mode": "markers",
         "name": "Start",
         "type": "scatter3d",
         "x": [
          0
         ],
         "y": [
          0
         ],
         "z": [
          0
         ]
        },
        {
         "marker": {
          "color": "green",
          "size": 5
         },
         "mode": "markers",
         "name": "Goal",
         "type": "scatter3d",
         "x": [
          40
         ],
         "y": [
          40
         ],
         "z": [
          25
         ]
        },
        {
         "line": {
          "color": "red",
          "width": 4
         },
         "mode": "lines+markers",
         "name": "Path",
         "type": "scatter3d",
         "x": [
          0,
          10,
          20,
          40
         ],
         "y": [
          0,
          10,
          20,
          40
         ],
         "z": [
          0,
          10,
          15,
          25
         ]
        }
       ],
       "layout": {
        "height": 700,
        "scene": {
         "xaxis": {
          "nticks": 10
         },
         "yaxis": {
          "nticks": 10
         },
         "zaxis": {
          "nticks": 10
         }
        },
        "template": {
         "data": {
          "bar": [
           {
            "error_x": {
             "color": "#2a3f5f"
            },
            "error_y": {
             "color": "#2a3f5f"
            },
            "marker": {
             "line": {
              "color": "#E5ECF6",
              "width": 0.5
             },
             "pattern": {
              "fillmode": "overlay",
              "size": 10,
              "solidity": 0.2
             }
            },
            "type": "bar"
           }
          ],
          "barpolar": [
           {
            "marker": {
             "line": {
              "color": "#E5ECF6",
              "width": 0.5
             },
             "pattern": {
              "fillmode": "overlay",
              "size": 10,
              "solidity": 0.2
             }
            },
            "type": "barpolar"
           }
          ],
          "carpet": [
           {
            "aaxis": {
             "endlinecolor": "#2a3f5f",
             "gridcolor": "white",
             "linecolor": "white",
             "minorgridcolor": "white",
             "startlinecolor": "#2a3f5f"
            },
            "baxis": {
             "endlinecolor": "#2a3f5f",
             "gridcolor": "white",
             "linecolor": "white",
             "minorgridcolor": "white",
             "startlinecolor": "#2a3f5f"
            },
            "type": "carpet"
           }
          ],
          "choropleth": [
           {
            "colorbar": {
             "outlinewidth": 0,
             "ticks": ""
            },
            "type": "choropleth"
           }
          ],
          "contour": [
           {
            "colorbar": {
             "outlinewidth": 0,
             "ticks": ""
            },
            "colorscale": [
             [
              0,
              "#0d0887"
             ],
             [
              0.1111111111111111,
              "#46039f"
             ],
             [
              0.2222222222222222,
              "#7201a8"
             ],
             [
              0.3333333333333333,
              "#9c179e"
             ],
             [
              0.4444444444444444,
              "#bd3786"
             ],
             [
              0.5555555555555556,
              "#d8576b"
             ],
             [
              0.6666666666666666,
              "#ed7953"
             ],
             [
              0.7777777777777778,
              "#fb9f3a"
             ],
             [
              0.8888888888888888,
              "#fdca26"
             ],
             [
              1,
              "#f0f921"
             ]
            ],
            "type": "contour"
           }
          ],
          "contourcarpet": [
           {
            "colorbar": {
             "outlinewidth": 0,
             "ticks": ""
            },
            "type": "contourcarpet"
           }
          ],
          "heatmap": [
           {
            "colorbar": {
             "outlinewidth": 0,
             "ticks": ""
            },
            "colorscale": [
             [
              0,
              "#0d0887"
             ],
             [
              0.1111111111111111,
              "#46039f"
             ],
             [
              0.2222222222222222,
              "#7201a8"
             ],
             [
              0.3333333333333333,
              "#9c179e"
             ],
             [
              0.4444444444444444,
              "#bd3786"
             ],
             [
              0.5555555555555556,
              "#d8576b"
             ],
             [
              0.6666666666666666,
              "#ed7953"
             ],
             [
              0.7777777777777778,
              "#fb9f3a"
             ],
             [
              0.8888888888888888,
              "#fdca26"
             ],
             [
              1,
              "#f0f921"
             ]
            ],
            "type": "heatmap"
           }
          ],
          "histogram": [
           {
            "marker": {
             "pattern": {
              "fillmode": "overlay",
              "size": 10,
              "solidity": 0.2
             }
            },
            "type": "histogram"
           }
          ],
          "histogram2d": [
           {
            "colorbar": {
             "outlinewidth": 0,
             "ticks": ""
            },
            "colorscale": [
             [
              0,
              "#0d0887"
             ],
             [
              0.1111111111111111,
              "#46039f"
             ],
             [
              0.2222222222222222,
              "#7201a8"
             ],
             [
              0.3333333333333333,
              "#9c179e"
             ],
             [
              0.4444444444444444,
              "#bd3786"
             ],
             [
              0.5555555555555556,
              "#d8576b"
             ],
             [
              0.6666666666666666,
              "#ed7953"
             ],
             [
              0.7777777777777778,
              "#fb9f3a"
             ],
             [
              0.8888888888888888,
              "#fdca26"
             ],
             [
              1,
              "#f0f921"
             ]
            ],
            "type": "histogram2d"
           }
          ],
          "histogram2dcontour": [
           {
            "colorbar": {
             "outlinewidth": 0,
             "ticks": ""
            },
            "colorscale": [
             [
              0,
              "#0d0887"
             ],
             [
              0.1111111111111111,
              "#46039f"
             ],
             [
              0.2222222222222222,
              "#7201a8"
             ],
             [
              0.3333333333333333,
              "#9c179e"
             ],
             [
              0.4444444444444444,
              "#bd3786"
             ],
             [
              0.5555555555555556,
              "#d8576b"
             ],
             [
              0.6666666666666666,
              "#ed7953"
             ],
             [
              0.7777777777777778,
              "#fb9f3a"
             ],
             [
              0.8888888888888888,
              "#fdca26"
             ],
             [
              1,
              "#f0f921"
             ]
            ],
            "type": "histogram2dcontour"
           }
          ],
          "mesh3d": [
           {
            "colorbar": {
             "outlinewidth": 0,
             "ticks": ""
            },
            "type": "mesh3d"
           }
          ],
          "parcoords": [
           {
            "line": {
             "colorbar": {
              "outlinewidth": 0,
              "ticks": ""
             }
            },
            "type": "parcoords"
           }
          ],
          "pie": [
           {
            "automargin": true,
            "type": "pie"
           }
          ],
          "scatter": [
           {
            "fillpattern": {
             "fillmode": "overlay",
             "size": 10,
             "solidity": 0.2
            },
            "type": "scatter"
           }
          ],
          "scatter3d": [
           {
            "line": {
             "colorbar": {
              "outlinewidth": 0,
              "ticks": ""
             }
            },
            "marker": {
             "colorbar": {
              "outlinewidth": 0,
              "ticks": ""
             }
            },
            "type": "scatter3d"
           }
          ],
          "scattercarpet": [
           {
            "marker": {
             "colorbar": {
              "outlinewidth": 0,
              "ticks": ""
             }
            },
            "type": "scattercarpet"
           }
          ],
          "scattergeo": [
           {
            "marker": {
             "colorbar": {
              "outlinewidth": 0,
              "ticks": ""
             }
            },
            "type": "scattergeo"
           }
          ],
          "scattergl": [
           {
            "marker": {
             "colorbar": {
              "outlinewidth": 0,
              "ticks": ""
             }
            },
            "type": "scattergl"
           }
          ],
          "scattermap": [
           {
            "marker": {
             "colorbar": {
              "outlinewidth": 0,
              "ticks": ""
             }
            },
            "type": "scattermap"
           }
          ],
          "scattermapbox": [
           {
            "marker": {
             "colorbar": {
              "outlinewidth": 0,
              "ticks": ""
             }
            },
            "type": "scattermapbox"
           }
          ],
          "scatterpolar": [
           {
            "marker": {
             "colorbar": {
              "outlinewidth": 0,
              "ticks": ""
             }
            },
            "type": "scatterpolar"
           }
          ],
          "scatterpolargl": [
           {
            "marker": {
             "colorbar": {
              "outlinewidth": 0,
              "ticks": ""
             }
            },
            "type": "scatterpolargl"
           }
          ],
          "scatterternary": [
           {
            "marker": {
             "colorbar": {
              "outlinewidth": 0,
              "ticks": ""
             }
            },
            "type": "scatterternary"
           }
          ],
          "surface": [
           {
            "colorbar": {
             "outlinewidth": 0,
             "ticks": ""
            },
            "colorscale": [
             [
              0,
              "#0d0887"
             ],
             [
              0.1111111111111111,
              "#46039f"
             ],
             [
              0.2222222222222222,
              "#7201a8"
             ],
             [
              0.3333333333333333,
              "#9c179e"
             ],
             [
              0.4444444444444444,
              "#bd3786"
             ],
             [
              0.5555555555555556,
              "#d8576b"
             ],
             [
              0.6666666666666666,
              "#ed7953"
             ],
             [
              0.7777777777777778,
              "#fb9f3a"
             ],
             [
              0.8888888888888888,
              "#fdca26"
             ],
             [
              1,
              "#f0f921"
             ]
            ],
            "type": "surface"
           }
          ],
          "table": [
           {
            "cells": {
             "fill": {
              "color": "#EBF0F8"
             },
             "line": {
              "color": "white"
             }
            },
            "header": {
             "fill": {
              "color": "#C8D4E3"
             },
             "line": {
              "color": "white"
             }
            },
            "type": "table"
           }
          ]
         },
         "layout": {
          "annotationdefaults": {
           "arrowcolor": "#2a3f5f",
           "arrowhead": 0,
           "arrowwidth": 1
          },
          "autotypenumbers": "strict",
          "coloraxis": {
           "colorbar": {
            "outlinewidth": 0,
            "ticks": ""
           }
          },
          "colorscale": {
           "diverging": [
            [
             0,
             "#8e0152"
            ],
            [
             0.1,
             "#c51b7d"
            ],
            [
             0.2,
             "#de77ae"
            ],
            [
             0.3,
             "#f1b6da"
            ],
            [
             0.4,
             "#fde0ef"
            ],
            [
             0.5,
             "#f7f7f7"
            ],
            [
             0.6,
             "#e6f5d0"
            ],
            [
             0.7,
             "#b8e186"
            ],
            [
             0.8,
             "#7fbc41"
            ],
            [
             0.9,
             "#4d9221"
            ],
            [
             1,
             "#276419"
            ]
           ],
           "sequential": [
            [
             0,
             "#0d0887"
            ],
            [
             0.1111111111111111,
             "#46039f"
            ],
            [
             0.2222222222222222,
             "#7201a8"
            ],
            [
             0.3333333333333333,
             "#9c179e"
            ],
            [
             0.4444444444444444,
             "#bd3786"
            ],
            [
             0.5555555555555556,
             "#d8576b"
            ],
            [
             0.6666666666666666,
             "#ed7953"
            ],
            [
             0.7777777777777778,
             "#fb9f3a"
            ],
            [
             0.8888888888888888,
             "#fdca26"
            ],
            [
             1,
             "#f0f921"
            ]
           ],
           "sequentialminus": [
            [
             0,
             "#0d0887"
            ],
            [
             0.1111111111111111,
             "#46039f"
            ],
            [
             0.2222222222222222,
             "#7201a8"
            ],
            [
             0.3333333333333333,
             "#9c179e"
            ],
            [
             0.4444444444444444,
             "#bd3786"
            ],
            [
             0.5555555555555556,
             "#d8576b"
            ],
            [
             0.6666666666666666,
             "#ed7953"
            ],
            [
             0.7777777777777778,
             "#fb9f3a"
            ],
            [
             0.8888888888888888,
             "#fdca26"
            ],
            [
             1,
             "#f0f921"
            ]
           ]
          },
          "colorway": [
           "#636efa",
           "#EF553B",
           "#00cc96",
           "#ab63fa",
           "#FFA15A",
           "#19d3f3",
           "#FF6692",
           "#B6E880",
           "#FF97FF",
           "#FECB52"
          ],
          "font": {
           "color": "#2a3f5f"
          },
          "geo": {
           "bgcolor": "white",
           "lakecolor": "white",
           "landcolor": "#E5ECF6",
           "showlakes": true,
           "showland": true,
           "subunitcolor": "white"
          },
          "hoverlabel": {
           "align": "left"
          },
          "hovermode": "closest",
          "mapbox": {
           "style": "light"
          },
          "paper_bgcolor": "white",
          "plot_bgcolor": "#E5ECF6",
          "polar": {
           "angularaxis": {
            "gridcolor": "white",
            "linecolor": "white",
            "ticks": ""
           },
           "bgcolor": "#E5ECF6",
           "radialaxis": {
            "gridcolor": "white",
            "linecolor": "white",
            "ticks": ""
           }
          },
          "scene": {
           "xaxis": {
            "backgroundcolor": "#E5ECF6",
            "gridcolor": "white",
            "gridwidth": 2,
            "linecolor": "white",
            "showbackground": true,
            "ticks": "",
            "zerolinecolor": "white"
           },
           "yaxis": {
            "backgroundcolor": "#E5ECF6",
            "gridcolor": "white",
            "gridwidth": 2,
            "linecolor": "white",
            "showbackground": true,
            "ticks": "",
            "zerolinecolor": "white"
           },
           "zaxis": {
            "backgroundcolor": "#E5ECF6",
            "gridcolor": "white",
            "gridwidth": 2,
            "linecolor": "white",
            "showbackground": true,
            "ticks": "",
            "zerolinecolor": "white"
           }
          },
          "shapedefaults": {
           "line": {
            "color": "#2a3f5f"
           }
          },
          "ternary": {
           "aaxis": {
            "gridcolor": "white",
            "linecolor": "white",
            "ticks": ""
           },
           "baxis": {
            "gridcolor": "white",
            "linecolor": "white",
            "ticks": ""
           },
           "bgcolor": "#E5ECF6",
           "caxis": {
            "gridcolor": "white",
            "linecolor": "white",
            "ticks": ""
           }
          },
          "title": {
           "x": 0.05
          },
          "xaxis": {
           "automargin": true,
           "gridcolor": "white",
           "linecolor": "white",
           "ticks": "",
           "title": {
            "standoff": 15
           },
           "zerolinecolor": "white",
           "zerolinewidth": 2
          },
          "yaxis": {
           "automargin": true,
           "gridcolor": "white",
           "linecolor": "white",
           "ticks": "",
           "title": {
            "standoff": 15
           },
           "zerolinecolor": "white",
           "zerolinewidth": 2
          }
         }
        },
        "title": {
         "text": "3D Map - cluttered_and_narrow"
        },
        "width": 700
       }
      }
     },
     "metadata": {},
     "output_type": "display_data"
    }
   ],
   "source": [
    "vis3d = MapVisualizer(dimensions=3, bounds=(50, 50, 30), map_type=\"cluttered_and_narrow\")\n",
    "vis3d.plot_start_goal((0, 0, 0), (40, 40, 25))\n",
    "vis3d.plot_path_trace([(0, 0, 0), (10, 10, 10), (20, 20, 15), (40, 40, 25)])\n",
    "vis3d.show()"
   ]
  },
  {
   "cell_type": "code",
   "execution_count": null,
   "id": "5c2b37eb",
   "metadata": {},
   "outputs": [],
   "source": []
  }
 ],
 "metadata": {
  "kernelspec": {
   "display_name": "pp-env",
   "language": "python",
   "name": "python3"
  },
  "language_info": {
   "codemirror_mode": {
    "name": "ipython",
    "version": 3
   },
   "file_extension": ".py",
   "mimetype": "text/x-python",
   "name": "python",
   "nbconvert_exporter": "python",
   "pygments_lexer": "ipython3",
   "version": "3.10.18"
  }
 },
 "nbformat": 4,
 "nbformat_minor": 5
}
