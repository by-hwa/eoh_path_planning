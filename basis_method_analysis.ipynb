{
 "cells": [
  {
   "cell_type": "code",
   "execution_count": 1,
   "id": "b3320072",
   "metadata": {},
   "outputs": [],
   "source": [
    "import json\n",
    "import numpy as np\n",
    "from typing import Tuple, Literal, Union, Optional, List, Dict, NamedTuple, Callable, Any, Set\n",
    "import plotly.graph_objs as go\n",
    "import plotly.express as px\n",
    "import pandas as pd\n",
    "import pickle\n",
    "import os\n",
    "import math\n",
    "import random\n",
    "from eoh.problems.optimization.classic_benchmark_path_planning.utils.benchmark import MultiMapBenchmarker\n",
    "import warnings\n",
    "import types\n",
    "import sys"
   ]
  },
  {
   "cell_type": "code",
   "execution_count": 2,
   "id": "cbb39255",
   "metadata": {},
   "outputs": [],
   "source": [
    "class Map(NamedTuple):\n",
    "    grid: np.ndarray\n",
    "    start: Union[Tuple[float, float], Tuple[float, float, float]]\n",
    "    goal: Union[Tuple[float, float], Tuple[float, float, float]]\n",
    "    obstacles: List[Union[Tuple[float, float, float, float], Tuple[float, float, float, float, float, float]]] # x, y, width, height or x, y, z, width, height, dimension\n",
    "    size: Union[Tuple[int, int], Tuple[int, int, int]]\n",
    "\n",
    "class PlannerResult(NamedTuple):\n",
    "    success: bool\n",
    "    path: List[Union[Tuple[float, float], Tuple[float, float, float]]]\n",
    "    nodes: List[Union[Tuple[float, float], Tuple[float, float, float]]]\n",
    "    edges: List[Tuple[Tuple[float, ...], Tuple[float, ...]]]  # (parent, child)\n",
    "\n",
    "class Node:\n",
    "    def __init__(self, position, parent=None, cost=0.0):\n",
    "        self.position = position\n",
    "        self.parent = parent\n",
    "        self.cost = cost\n",
    "        self.children = []\n",
    "        self.valid = True  # 장애물 충돌 여부 등\n"
   ]
  },
  {
   "cell_type": "code",
   "execution_count": 3,
   "id": "a464dd68",
   "metadata": {},
   "outputs": [],
   "source": [
    "def visualize_map_shapes(\n",
    "    map_array: np.ndarray,\n",
    "    start: Optional[Tuple[int, ...]] = None,\n",
    "    goal: Optional[Tuple[int, ...]] = None,\n",
    "    obs:List[Tuple[int, ...]] = None,\n",
    "    path: Optional[List[Tuple[float, ...]]] = None,\n",
    "    nodes: Optional[List[Tuple[float, ...]]] = None,\n",
    "    edges: Optional[List[Tuple[float, ...]]] = None,\n",
    "    title: str = \"Map Visualization\"\n",
    "):\n",
    "    fig = go.Figure()\n",
    "\n",
    "    if map_array.ndim == 2:\n",
    "        height, width = map_array.shape\n",
    "        \n",
    "        for x, y, w, h in obs:\n",
    "                fig.add_shape(\n",
    "                    type=\"rect\",\n",
    "                    x0=x, x1=x+w, y0=y, y1=y+h,\n",
    "                    fillcolor=\"purple\",opacity=0.5,\n",
    "                    line=dict(width=0)\n",
    "                )\n",
    "\n",
    "        # 방문 노드\n",
    "        if nodes:\n",
    "            vx, vy = zip(*nodes)\n",
    "            fig.add_trace(go.Scatter(\n",
    "                x=vx, y=vy, mode=\"markers\",\n",
    "                marker=dict(size=4, color=\"blue\"),\n",
    "                name=\"nodes\"\n",
    "            ))\n",
    "\n",
    "        # 경로\n",
    "        if path:\n",
    "            px, py = zip(*path)\n",
    "            fig.add_trace(go.Scatter(\n",
    "                x=px, y=py, mode=\"lines+markers\",\n",
    "                line=dict(color=\"green\"),\n",
    "                marker=dict(size=6),\n",
    "                name=\"Path\"\n",
    "            ))\n",
    "\n",
    "        # 엣지 (연결 정보)\n",
    "        if edges:\n",
    "            for parent, child in edges:\n",
    "                fig.add_trace(go.Scatter(\n",
    "                    x=[parent.position[0], child.position[0]], y=[parent.position[1], child.position[1]],\n",
    "                    mode=\"lines\",\n",
    "                    line=dict(color=\"lightblue\", width=1),\n",
    "                    showlegend=False,\n",
    "                    hoverinfo=\"skip\"\n",
    "                ))\n",
    "\n",
    "\n",
    "        # 시작/목표\n",
    "        if start:\n",
    "            fig.add_trace(go.Scatter(\n",
    "                x=[start[0]], y=[start[1]], mode=\"markers\",\n",
    "                marker=dict(size=10, color=\"red\"),\n",
    "                name=\"Start\"\n",
    "            ))\n",
    "\n",
    "        if goal:\n",
    "            fig.add_trace(go.Scatter(\n",
    "                x=[goal[0]], y=[goal[1]], mode=\"markers\",\n",
    "                marker=dict(size=10, color=\"orange\"),\n",
    "                name=\"Goal\"\n",
    "            ))\n",
    "\n",
    "        fig.add_shape(\n",
    "            type=\"rect\",\n",
    "            x0=0, y0=0,\n",
    "            x1=width, y1=height,\n",
    "            line=dict(color=\"white\", width=3),\n",
    "            fillcolor=\"rgba(0,0,0,0)\",  # 투명 내부\n",
    "            layer=\"above\"\n",
    "        )\n",
    "\n",
    "        fig.update_layout(\n",
    "            title=title,\n",
    "            xaxis=dict(scaleanchor=\"y\", showgrid=False),\n",
    "            # yaxis=dict(showgrid=False, autorange=\"reversed\"),\n",
    "            yaxis=dict(showgrid=False),\n",
    "            height=600, width=600\n",
    "        )\n",
    "\n",
    "    elif map_array.ndim == 3:\n",
    "        z, y, x = map_array.nonzero()\n",
    "        x, y, z = list(x), list(y), list(z)\n",
    "\n",
    "        # for x,y,w,h in obs:\n",
    "        #     fig.add_trace(go.Mesh3d(\n",
    "        #         x=x, y=y, z=z,\n",
    "        #         color='black',\n",
    "        #         opacity=1.0,\n",
    "        #         alphahull=0,\n",
    "        #         name='Obstacles'\n",
    "        #     ))\n",
    "\n",
    "        fig.add_trace(go.Mesh3d(\n",
    "            x=x, y=y, z=z,\n",
    "            color='black',\n",
    "            opacity=1.0,\n",
    "            alphahull=0,\n",
    "            name='Obstacles'\n",
    "        ))\n",
    "\n",
    "        if nodes:\n",
    "            vx, vy, vz = zip(*nodes)\n",
    "            fig.add_trace(go.Scatter3d(\n",
    "                x=vx, y=vy, z=vz,\n",
    "                mode='markers',\n",
    "                marker=dict(size=2, color='blue'),\n",
    "                name='Visited'\n",
    "            ))\n",
    "\n",
    "        # 엣지 (연결 정보)\n",
    "        if edges:\n",
    "            for parent, child in edges:\n",
    "                fig.add_trace(go.Scatter3d(\n",
    "                    x=[parent.position[0], child.position[0]],\n",
    "                    y=[parent[1].position, child.position[1]],\n",
    "                    z=[parent[2].position, child.position[2]],\n",
    "                    mode='lines',\n",
    "                    line=dict(color='lightblue', width=2),\n",
    "                    showlegend=False,\n",
    "                    hoverinfo=\"skip\"\n",
    "                ))\n",
    "\n",
    "        if path:\n",
    "            px_, py_, pz_ = zip(*path)\n",
    "            fig.add_trace(go.Scatter3d(\n",
    "                x=px_, y=py_, z=pz_,\n",
    "                mode='lines+markers',\n",
    "                marker=dict(size=3, color='green'),\n",
    "                name='Path'\n",
    "            ))\n",
    "\n",
    "        if start:\n",
    "            fig.add_trace(go.Scatter3d(\n",
    "                x=[start[0]], y=[start[1]], z=[start[2]],\n",
    "                mode='markers',\n",
    "                marker=dict(size=5, color='red'),\n",
    "                name='Start'\n",
    "            ))\n",
    "\n",
    "        if goal:\n",
    "            fig.add_trace(go.Scatter3d(\n",
    "                x=[goal[0]], y=[goal[1]], z=[goal[2]],\n",
    "                mode='markers',\n",
    "                marker=dict(size=5, color='orange'),\n",
    "                name='Goal'\n",
    "            ))\n",
    "\n",
    "        fig.update_layout(\n",
    "            title=title,\n",
    "            scene=dict(aspectmode='data'),\n",
    "            height=700, width=700\n",
    "        )\n",
    "\n",
    "        \n",
    "\n",
    "    fig.show()\n"
   ]
  },
  {
   "cell_type": "code",
   "execution_count": 4,
   "id": "7212a9f9",
   "metadata": {},
   "outputs": [],
   "source": [
    "class MapIO:\n",
    "    @staticmethod\n",
    "    def save_map(map_data: Map, filename: str) -> None:\n",
    "        \"\"\"Save Map object to a binary file.\"\"\"\n",
    "        with open(filename, 'wb') as f:\n",
    "            pickle.dump(map_data, f)\n",
    "\n",
    "    @staticmethod\n",
    "    def load_map(filename: str) -> Map:\n",
    "        \"\"\"Load Map object from a binary file.\"\"\"\n",
    "        if not os.path.exists(filename):\n",
    "            raise FileNotFoundError(f\"Map file not found: {filename}\")\n",
    "        with open(filename, 'rb') as f:\n",
    "            return pickle.load(f)"
   ]
  },
  {
   "cell_type": "code",
   "execution_count": 5,
   "id": "89aca9f9",
   "metadata": {},
   "outputs": [
    {
     "name": "stdout",
     "output_type": "stream",
     "text": [
      "Start: (1, 1)\n",
      "Obstacles: 35\n",
      "(100, 100)\n",
      "Start: (29, 40)\n",
      "Obstacles: 8\n",
      "(100, 100)\n",
      "Start: (29, 10)\n",
      "Obstacles: 5\n",
      "(100, 100)\n",
      "Start: (80, 50)\n",
      "Obstacles: 5\n",
      "(100, 100)\n"
     ]
    }
   ],
   "source": [
    "raw_maps = [\"Maze_map_easy.pkl\", \"Narrow_map.pkl\", \"Multi_obs_map.pkl\"]\n",
    "\n",
    "multi_obs_map = MapIO.load_map(\"Multi_obs_map.pkl\")\n",
    "print(\"Start:\", multi_obs_map.start)\n",
    "print(\"Obstacles:\", len(multi_obs_map.obstacles))\n",
    "print(multi_obs_map.grid.shape)\n",
    "\n",
    "hard_maze_map = MapIO.load_map(\"Maze_map.pkl\")\n",
    "print(\"Start:\", hard_maze_map.start)\n",
    "print(\"Obstacles:\", len(hard_maze_map.obstacles))\n",
    "print(hard_maze_map.grid.shape)\n",
    "\n",
    "\n",
    "maze_map = MapIO.load_map(\"Maze_map_easy.pkl\")\n",
    "print(\"Start:\", maze_map.start)\n",
    "print(\"Obstacles:\", len(maze_map.obstacles))\n",
    "print(maze_map.grid.shape)\n",
    "\n",
    "narrow_map = MapIO.load_map(\"Narrow_map.pkl\")\n",
    "print(\"Start:\", narrow_map.start)\n",
    "print(\"Obstacles:\", len(narrow_map.obstacles))\n",
    "print(narrow_map.grid.shape)"
   ]
  },
  {
   "cell_type": "code",
   "execution_count": 11,
   "id": "16f1f10b",
   "metadata": {},
   "outputs": [],
   "source": [
    "maps=[multi_obs_map, hard_maze_map, maze_map, narrow_map]"
   ]
  },
  {
   "cell_type": "code",
   "execution_count": 6,
   "id": "43fc1030",
   "metadata": {},
   "outputs": [
    {
     "name": "stdout",
     "output_type": "stream",
     "text": [
      "dict_keys(['algorithm', 'algorithm_description', 'planning_mechanism', 'code'])\n"
     ]
    }
   ],
   "source": [
    "json_path = './eoh/src/eoh/problems/optimization/classic_benchmark_path_planning/utils/classic_method__.json'\n",
    "with open(json_path, \"r\") as f:\n",
    "    classic_method = json.load(f)\n",
    "\n",
    "print(classic_method[0].keys())"
   ]
  },
  {
   "cell_type": "code",
   "execution_count": 14,
   "id": "0f99b30f",
   "metadata": {},
   "outputs": [
    {
     "name": "stdout",
     "output_type": "stream",
     "text": [
      "['RRT', 'RRT*', 'RRT-Connect', 'RRT*-Connect', 'BI-RRT', 'BI-RRT*', 'Informed-RRT*', 'Informed-RRT*-Connect', 'Bidirectional-Informed-RRT*', 'Improved-RRT*-Connect']\n"
     ]
    }
   ],
   "source": [
    "print([n['algorithm'] for n in classic_method])"
   ]
  },
  {
   "cell_type": "code",
   "execution_count": 8,
   "id": "38a3032a",
   "metadata": {},
   "outputs": [],
   "source": [
    "for method in classic_method:\n",
    "    if method['algorithm'] == 'BI-RRT':\n",
    "     code = method['code']\n",
    "     break"
   ]
  },
  {
   "cell_type": "code",
   "execution_count": 7,
   "id": "7879e7dc",
   "metadata": {},
   "outputs": [],
   "source": [
    "import_string ='''\n",
    "from typing import Tuple, Literal, Union, Optional, List, Dict, NamedTuple, Callable, Any, Set, TYPE_CHECKING, Type\n",
    "import time\n",
    "from queue import Queue\n",
    "import numpy as np\n",
    "import random\n",
    "import math\n",
    "import sys\n",
    "import os\n",
    "from eoh.problems.optimization.classic_benchmark_path_planning.utils.architecture_utils import PlannerResult, Map\n",
    "'''"
   ]
  },
  {
   "cell_type": "code",
   "execution_count": null,
   "id": "43b082c4",
   "metadata": {},
   "outputs": [],
   "source": [
    "# code = classic_method[-1]['code']"
   ]
  },
  {
   "cell_type": "code",
   "execution_count": 9,
   "id": "a090cf48",
   "metadata": {},
   "outputs": [],
   "source": [
    "code_string = code\n",
    "with warnings.catch_warnings():\n",
    "    warnings.simplefilter(\"ignore\")\n",
    "    planning_module = types.ModuleType(\"planning_module\")\n",
    "    exec(import_string+code_string, planning_module.__dict__)\n",
    "    sys.modules[planning_module.__name__] = planning_module\n",
    "    p = planning_module.Planner(max_iter=5000)"
   ]
  },
  {
   "cell_type": "code",
   "execution_count": 12,
   "id": "44670752",
   "metadata": {},
   "outputs": [
    {
     "data": {
      "application/vnd.plotly.v1+json": {
       "config": {
        "plotlyServerURL": "https://plot.ly"
       },
       "data": [
        {
         "marker": {
          "color": "blue",
          "size": 4
         },
         "mode": "markers",
         "name": "nodes",
         "type": "scatter",
         "x": [
          1,
          99,
          3.2791373909376484,
          95.4241437401696,
          91.8482874803392,
          88.27243122050879,
          84.69657496067839,
          92.47594823889467,
          6.876556603398992,
          10.473975815860335,
          14.071395028321678,
          17.66881424078302,
          16.44189270777283,
          84.39134775087135,
          17.81831878942324,
          84.98148005843449,
          21.941502531359717,
          26.064686273296193,
          30.18787001523267,
          34.31105375716914,
          14.267131160484636,
          83.52850846450376,
          23.389856306266623,
          84.8538550282302,
          6.191190909399034,
          80.75836467324183,
          76.66287431825346,
          72.56738396326509,
          69.14665476462244,
          20.53356744807408,
          68.1305160409117,
          25.172994374312697,
          63.44820084510898,
          58.765885649306256,
          54.08357045350353,
          49.21265076980325,
          16.831501623173,
          45.92421420559644,
          42.63577764138964,
          70.57087728651702,
          21.688425057199158,
          73.73419897075328,
          13.521961251470438,
          45.80978990177796,
          10.315306239254818,
          42.00141205614394,
          26.676852712525907,
          42.93448301732561,
          46.88175637902002,
          31.49204108601517,
          43.96311838135276,
          74.49445262424828,
          36.447485596838675,
          75.56742589798849,
          32.63914138037889,
          84.96790632568302,
          39.910474875700416,
          80.52417766204913,
          12.444572986457636,
          38.987026258391495,
          34.01093413543023,
          29.034842012468975,
          37.6397042666162,
          0.7338831266895509,
          70.75196996460427,
          16.34751859851238,
          69.95533703873596,
          16.966501929957435,
          64.9569487779442,
          29.510098804977204,
          29.27159395978338,
          29.508345907097784,
          29.510098804977204
         ],
         "y": [
          1,
          99,
          5.450340745744074,
          95.50525365598135,
          92.0105073119627,
          88.51576096794405,
          85.0210146239254,
          91.55095935079954,
          8.92288664318215,
          12.395432540620224,
          15.8679784380583,
          19.340524335496376,
          24.187653749060235,
          80.03033968456164,
          28.994466751638193,
          75.06528743311753,
          31.822779999888944,
          34.651093248139695,
          37.479406496390446,
          40.3077197446412,
          25.084955677628106,
          86.3280805290013,
          38.87546120648336,
          70.06691651334124,
          14.975694822828617,
          67.19864896093313,
          64.33038140852503,
          61.46211385611692,
          57.81538768740702,
          42.979314756327106,
          52.91973021428091,
          36.82934648266342,
          51.1658988634507,
          49.41206751262049,
          47.65823616179028,
          48.78701489783251,
          11.698828454541488,
          45.02055967266552,
          41.25410444749853,
          48.55571406044421,
          10.511270137654451,
          68.38289429671487,
          31.20038544471051,
          37.39073206434613,
          13.149575432720273,
          48.12082148358583,
          10.171285538633716,
          33.300180717617806,
          30.231136402516157,
          8.824451871169972,
          26.17138859771684,
          72.59019917311903,
          9.490462156487862,
          48.74146112826109,
          37.40951017722997,
          77.23069147100678,
          8.755558404377462,
          49.397671421903084,
          23.07804269223743,
          25.683016624930826,
          25.19464465214481,
          24.706272679358793,
          41.05598621542502,
          9.754022974989965,
          43.55899459243891,
          45.71372420428533,
          74.68696566020316,
          14.687800680371598,
          74.56002160016448,
          34.73203428244781,
          29.700664385607197,
          34.695056091855605,
          34.73203428244781
         ]
        },
        {
         "line": {
          "color": "green"
         },
         "marker": {
          "size": 6
         },
         "mode": "lines+markers",
         "name": "Path",
         "type": "scatter",
         "x": [
          1,
          3.2791373909376484,
          6.876556603398992,
          10.473975815860335,
          14.071395028321678,
          17.66881424078302,
          16.44189270777283,
          17.81831878942324,
          21.941502531359717,
          26.064686273296193,
          30.18787001523267,
          29.510098804977204,
          29.510098804977204,
          29.508345907097784,
          29.27159395978338,
          29.034842012468975,
          34.01093413543023,
          38.987026258391495,
          43.96311838135276,
          46.88175637902002,
          42.93448301732561,
          45.80978990177796,
          42.63577764138964,
          45.92421420559644,
          49.21265076980325,
          54.08357045350353,
          58.765885649306256,
          63.44820084510898,
          68.1305160409117,
          69.14665476462244,
          72.56738396326509,
          76.66287431825346,
          80.75836467324183,
          84.8538550282302,
          84.98148005843449,
          84.39134775087135,
          84.69657496067839,
          88.27243122050879,
          91.8482874803392,
          95.4241437401696,
          99
         ],
         "y": [
          1,
          5.450340745744074,
          8.92288664318215,
          12.395432540620224,
          15.8679784380583,
          19.340524335496376,
          24.187653749060235,
          28.994466751638193,
          31.822779999888944,
          34.651093248139695,
          37.479406496390446,
          34.73203428244781,
          34.73203428244781,
          34.695056091855605,
          29.700664385607197,
          24.706272679358793,
          25.19464465214481,
          25.683016624930826,
          26.17138859771684,
          30.231136402516157,
          33.300180717617806,
          37.39073206434613,
          41.25410444749853,
          45.02055967266552,
          48.78701489783251,
          47.65823616179028,
          49.41206751262049,
          51.1658988634507,
          52.91973021428091,
          57.81538768740702,
          61.46211385611692,
          64.33038140852503,
          67.19864896093313,
          70.06691651334124,
          75.06528743311753,
          80.03033968456164,
          85.0210146239254,
          88.51576096794405,
          92.0105073119627,
          95.50525365598135,
          99
         ]
        },
        {
         "hoverinfo": "skip",
         "line": {
          "color": "lightblue",
          "width": 1
         },
         "mode": "lines",
         "showlegend": false,
         "type": "scatter",
         "x": [
          1,
          3.2791373909376484
         ],
         "y": [
          1,
          5.450340745744074
         ]
        },
        {
         "hoverinfo": "skip",
         "line": {
          "color": "lightblue",
          "width": 1
         },
         "mode": "lines",
         "showlegend": false,
         "type": "scatter",
         "x": [
          99,
          95.4241437401696
         ],
         "y": [
          99,
          95.50525365598135
         ]
        },
        {
         "hoverinfo": "skip",
         "line": {
          "color": "lightblue",
          "width": 1
         },
         "mode": "lines",
         "showlegend": false,
         "type": "scatter",
         "x": [
          95.4241437401696,
          91.8482874803392
         ],
         "y": [
          95.50525365598135,
          92.0105073119627
         ]
        },
        {
         "hoverinfo": "skip",
         "line": {
          "color": "lightblue",
          "width": 1
         },
         "mode": "lines",
         "showlegend": false,
         "type": "scatter",
         "x": [
          91.8482874803392,
          88.27243122050879
         ],
         "y": [
          92.0105073119627,
          88.51576096794405
         ]
        },
        {
         "hoverinfo": "skip",
         "line": {
          "color": "lightblue",
          "width": 1
         },
         "mode": "lines",
         "showlegend": false,
         "type": "scatter",
         "x": [
          88.27243122050879,
          84.69657496067839
         ],
         "y": [
          88.51576096794405,
          85.0210146239254
         ]
        },
        {
         "hoverinfo": "skip",
         "line": {
          "color": "lightblue",
          "width": 1
         },
         "mode": "lines",
         "showlegend": false,
         "type": "scatter",
         "x": [
          91.8482874803392,
          92.47594823889467
         ],
         "y": [
          92.0105073119627,
          91.55095935079954
         ]
        },
        {
         "hoverinfo": "skip",
         "line": {
          "color": "lightblue",
          "width": 1
         },
         "mode": "lines",
         "showlegend": false,
         "type": "scatter",
         "x": [
          3.2791373909376484,
          6.876556603398992
         ],
         "y": [
          5.450340745744074,
          8.92288664318215
         ]
        },
        {
         "hoverinfo": "skip",
         "line": {
          "color": "lightblue",
          "width": 1
         },
         "mode": "lines",
         "showlegend": false,
         "type": "scatter",
         "x": [
          6.876556603398992,
          10.473975815860335
         ],
         "y": [
          8.92288664318215,
          12.395432540620224
         ]
        },
        {
         "hoverinfo": "skip",
         "line": {
          "color": "lightblue",
          "width": 1
         },
         "mode": "lines",
         "showlegend": false,
         "type": "scatter",
         "x": [
          10.473975815860335,
          14.071395028321678
         ],
         "y": [
          12.395432540620224,
          15.8679784380583
         ]
        },
        {
         "hoverinfo": "skip",
         "line": {
          "color": "lightblue",
          "width": 1
         },
         "mode": "lines",
         "showlegend": false,
         "type": "scatter",
         "x": [
          14.071395028321678,
          17.66881424078302
         ],
         "y": [
          15.8679784380583,
          19.340524335496376
         ]
        },
        {
         "hoverinfo": "skip",
         "line": {
          "color": "lightblue",
          "width": 1
         },
         "mode": "lines",
         "showlegend": false,
         "type": "scatter",
         "x": [
          17.66881424078302,
          16.44189270777283
         ],
         "y": [
          19.340524335496376,
          24.187653749060235
         ]
        },
        {
         "hoverinfo": "skip",
         "line": {
          "color": "lightblue",
          "width": 1
         },
         "mode": "lines",
         "showlegend": false,
         "type": "scatter",
         "x": [
          84.69657496067839,
          84.39134775087135
         ],
         "y": [
          85.0210146239254,
          80.03033968456164
         ]
        },
        {
         "hoverinfo": "skip",
         "line": {
          "color": "lightblue",
          "width": 1
         },
         "mode": "lines",
         "showlegend": false,
         "type": "scatter",
         "x": [
          16.44189270777283,
          17.81831878942324
         ],
         "y": [
          24.187653749060235,
          28.994466751638193
         ]
        },
        {
         "hoverinfo": "skip",
         "line": {
          "color": "lightblue",
          "width": 1
         },
         "mode": "lines",
         "showlegend": false,
         "type": "scatter",
         "x": [
          84.39134775087135,
          84.98148005843449
         ],
         "y": [
          80.03033968456164,
          75.06528743311753
         ]
        },
        {
         "hoverinfo": "skip",
         "line": {
          "color": "lightblue",
          "width": 1
         },
         "mode": "lines",
         "showlegend": false,
         "type": "scatter",
         "x": [
          17.81831878942324,
          21.941502531359717
         ],
         "y": [
          28.994466751638193,
          31.822779999888944
         ]
        },
        {
         "hoverinfo": "skip",
         "line": {
          "color": "lightblue",
          "width": 1
         },
         "mode": "lines",
         "showlegend": false,
         "type": "scatter",
         "x": [
          21.941502531359717,
          26.064686273296193
         ],
         "y": [
          31.822779999888944,
          34.651093248139695
         ]
        },
        {
         "hoverinfo": "skip",
         "line": {
          "color": "lightblue",
          "width": 1
         },
         "mode": "lines",
         "showlegend": false,
         "type": "scatter",
         "x": [
          26.064686273296193,
          30.18787001523267
         ],
         "y": [
          34.651093248139695,
          37.479406496390446
         ]
        },
        {
         "hoverinfo": "skip",
         "line": {
          "color": "lightblue",
          "width": 1
         },
         "mode": "lines",
         "showlegend": false,
         "type": "scatter",
         "x": [
          30.18787001523267,
          34.31105375716914
         ],
         "y": [
          37.479406496390446,
          40.3077197446412
         ]
        },
        {
         "hoverinfo": "skip",
         "line": {
          "color": "lightblue",
          "width": 1
         },
         "mode": "lines",
         "showlegend": false,
         "type": "scatter",
         "x": [
          16.44189270777283,
          14.267131160484636
         ],
         "y": [
          24.187653749060235,
          25.084955677628106
         ]
        },
        {
         "hoverinfo": "skip",
         "line": {
          "color": "lightblue",
          "width": 1
         },
         "mode": "lines",
         "showlegend": false,
         "type": "scatter",
         "x": [
          84.69657496067839,
          83.52850846450376
         ],
         "y": [
          85.0210146239254,
          86.3280805290013
         ]
        },
        {
         "hoverinfo": "skip",
         "line": {
          "color": "lightblue",
          "width": 1
         },
         "mode": "lines",
         "showlegend": false,
         "type": "scatter",
         "x": [
          26.064686273296193,
          23.389856306266623
         ],
         "y": [
          34.651093248139695,
          38.87546120648336
         ]
        },
        {
         "hoverinfo": "skip",
         "line": {
          "color": "lightblue",
          "width": 1
         },
         "mode": "lines",
         "showlegend": false,
         "type": "scatter",
         "x": [
          84.98148005843449,
          84.8538550282302
         ],
         "y": [
          75.06528743311753,
          70.06691651334124
         ]
        },
        {
         "hoverinfo": "skip",
         "line": {
          "color": "lightblue",
          "width": 1
         },
         "mode": "lines",
         "showlegend": false,
         "type": "scatter",
         "x": [
          10.473975815860335,
          6.191190909399034
         ],
         "y": [
          12.395432540620224,
          14.975694822828617
         ]
        },
        {
         "hoverinfo": "skip",
         "line": {
          "color": "lightblue",
          "width": 1
         },
         "mode": "lines",
         "showlegend": false,
         "type": "scatter",
         "x": [
          84.8538550282302,
          80.75836467324183
         ],
         "y": [
          70.06691651334124,
          67.19864896093313
         ]
        },
        {
         "hoverinfo": "skip",
         "line": {
          "color": "lightblue",
          "width": 1
         },
         "mode": "lines",
         "showlegend": false,
         "type": "scatter",
         "x": [
          80.75836467324183,
          76.66287431825346
         ],
         "y": [
          67.19864896093313,
          64.33038140852503
         ]
        },
        {
         "hoverinfo": "skip",
         "line": {
          "color": "lightblue",
          "width": 1
         },
         "mode": "lines",
         "showlegend": false,
         "type": "scatter",
         "x": [
          76.66287431825346,
          72.56738396326509
         ],
         "y": [
          64.33038140852503,
          61.46211385611692
         ]
        },
        {
         "hoverinfo": "skip",
         "line": {
          "color": "lightblue",
          "width": 1
         },
         "mode": "lines",
         "showlegend": false,
         "type": "scatter",
         "x": [
          72.56738396326509,
          69.14665476462244
         ],
         "y": [
          61.46211385611692,
          57.81538768740702
         ]
        },
        {
         "hoverinfo": "skip",
         "line": {
          "color": "lightblue",
          "width": 1
         },
         "mode": "lines",
         "showlegend": false,
         "type": "scatter",
         "x": [
          23.389856306266623,
          20.53356744807408
         ],
         "y": [
          38.87546120648336,
          42.979314756327106
         ]
        },
        {
         "hoverinfo": "skip",
         "line": {
          "color": "lightblue",
          "width": 1
         },
         "mode": "lines",
         "showlegend": false,
         "type": "scatter",
         "x": [
          69.14665476462244,
          68.1305160409117
         ],
         "y": [
          57.81538768740702,
          52.91973021428091
         ]
        },
        {
         "hoverinfo": "skip",
         "line": {
          "color": "lightblue",
          "width": 1
         },
         "mode": "lines",
         "showlegend": false,
         "type": "scatter",
         "x": [
          26.064686273296193,
          25.172994374312697
         ],
         "y": [
          34.651093248139695,
          36.82934648266342
         ]
        },
        {
         "hoverinfo": "skip",
         "line": {
          "color": "lightblue",
          "width": 1
         },
         "mode": "lines",
         "showlegend": false,
         "type": "scatter",
         "x": [
          68.1305160409117,
          63.44820084510898
         ],
         "y": [
          52.91973021428091,
          51.1658988634507
         ]
        },
        {
         "hoverinfo": "skip",
         "line": {
          "color": "lightblue",
          "width": 1
         },
         "mode": "lines",
         "showlegend": false,
         "type": "scatter",
         "x": [
          63.44820084510898,
          58.765885649306256
         ],
         "y": [
          51.1658988634507,
          49.41206751262049
         ]
        },
        {
         "hoverinfo": "skip",
         "line": {
          "color": "lightblue",
          "width": 1
         },
         "mode": "lines",
         "showlegend": false,
         "type": "scatter",
         "x": [
          58.765885649306256,
          54.08357045350353
         ],
         "y": [
          49.41206751262049,
          47.65823616179028
         ]
        },
        {
         "hoverinfo": "skip",
         "line": {
          "color": "lightblue",
          "width": 1
         },
         "mode": "lines",
         "showlegend": false,
         "type": "scatter",
         "x": [
          54.08357045350353,
          49.21265076980325
         ],
         "y": [
          47.65823616179028,
          48.78701489783251
         ]
        },
        {
         "hoverinfo": "skip",
         "line": {
          "color": "lightblue",
          "width": 1
         },
         "mode": "lines",
         "showlegend": false,
         "type": "scatter",
         "x": [
          14.071395028321678,
          16.831501623173
         ],
         "y": [
          15.8679784380583,
          11.698828454541488
         ]
        },
        {
         "hoverinfo": "skip",
         "line": {
          "color": "lightblue",
          "width": 1
         },
         "mode": "lines",
         "showlegend": false,
         "type": "scatter",
         "x": [
          49.21265076980325,
          45.92421420559644
         ],
         "y": [
          48.78701489783251,
          45.02055967266552
         ]
        },
        {
         "hoverinfo": "skip",
         "line": {
          "color": "lightblue",
          "width": 1
         },
         "mode": "lines",
         "showlegend": false,
         "type": "scatter",
         "x": [
          45.92421420559644,
          42.63577764138964
         ],
         "y": [
          45.02055967266552,
          41.25410444749853
         ]
        },
        {
         "hoverinfo": "skip",
         "line": {
          "color": "lightblue",
          "width": 1
         },
         "mode": "lines",
         "showlegend": false,
         "type": "scatter",
         "x": [
          68.1305160409117,
          70.57087728651702
         ],
         "y": [
          52.91973021428091,
          48.55571406044421
         ]
        },
        {
         "hoverinfo": "skip",
         "line": {
          "color": "lightblue",
          "width": 1
         },
         "mode": "lines",
         "showlegend": false,
         "type": "scatter",
         "x": [
          16.831501623173,
          21.688425057199158
         ],
         "y": [
          11.698828454541488,
          10.511270137654451
         ]
        },
        {
         "hoverinfo": "skip",
         "line": {
          "color": "lightblue",
          "width": 1
         },
         "mode": "lines",
         "showlegend": false,
         "type": "scatter",
         "x": [
          76.66287431825346,
          73.73419897075328
         ],
         "y": [
          64.33038140852503,
          68.38289429671487
         ]
        },
        {
         "hoverinfo": "skip",
         "line": {
          "color": "lightblue",
          "width": 1
         },
         "mode": "lines",
         "showlegend": false,
         "type": "scatter",
         "x": [
          17.81831878942324,
          13.521961251470438
         ],
         "y": [
          28.994466751638193,
          31.20038544471051
         ]
        },
        {
         "hoverinfo": "skip",
         "line": {
          "color": "lightblue",
          "width": 1
         },
         "mode": "lines",
         "showlegend": false,
         "type": "scatter",
         "x": [
          42.63577764138964,
          45.80978990177796
         ],
         "y": [
          41.25410444749853,
          37.39073206434613
         ]
        },
        {
         "hoverinfo": "skip",
         "line": {
          "color": "lightblue",
          "width": 1
         },
         "mode": "lines",
         "showlegend": false,
         "type": "scatter",
         "x": [
          10.473975815860335,
          10.315306239254818
         ],
         "y": [
          12.395432540620224,
          13.149575432720273
         ]
        },
        {
         "hoverinfo": "skip",
         "line": {
          "color": "lightblue",
          "width": 1
         },
         "mode": "lines",
         "showlegend": false,
         "type": "scatter",
         "x": [
          45.92421420559644,
          42.00141205614394
         ],
         "y": [
          45.02055967266552,
          48.12082148358583
         ]
        },
        {
         "hoverinfo": "skip",
         "line": {
          "color": "lightblue",
          "width": 1
         },
         "mode": "lines",
         "showlegend": false,
         "type": "scatter",
         "x": [
          21.688425057199158,
          26.676852712525907
         ],
         "y": [
          10.511270137654451,
          10.171285538633716
         ]
        },
        {
         "hoverinfo": "skip",
         "line": {
          "color": "lightblue",
          "width": 1
         },
         "mode": "lines",
         "showlegend": false,
         "type": "scatter",
         "x": [
          45.80978990177796,
          42.93448301732561
         ],
         "y": [
          37.39073206434613,
          33.300180717617806
         ]
        },
        {
         "hoverinfo": "skip",
         "line": {
          "color": "lightblue",
          "width": 1
         },
         "mode": "lines",
         "showlegend": false,
         "type": "scatter",
         "x": [
          42.93448301732561,
          46.88175637902002
         ],
         "y": [
          33.300180717617806,
          30.231136402516157
         ]
        },
        {
         "hoverinfo": "skip",
         "line": {
          "color": "lightblue",
          "width": 1
         },
         "mode": "lines",
         "showlegend": false,
         "type": "scatter",
         "x": [
          26.676852712525907,
          31.49204108601517
         ],
         "y": [
          10.171285538633716,
          8.824451871169972
         ]
        },
        {
         "hoverinfo": "skip",
         "line": {
          "color": "lightblue",
          "width": 1
         },
         "mode": "lines",
         "showlegend": false,
         "type": "scatter",
         "x": [
          46.88175637902002,
          43.96311838135276
         ],
         "y": [
          30.231136402516157,
          26.17138859771684
         ]
        },
        {
         "hoverinfo": "skip",
         "line": {
          "color": "lightblue",
          "width": 1
         },
         "mode": "lines",
         "showlegend": false,
         "type": "scatter",
         "x": [
          73.73419897075328,
          74.49445262424828
         ],
         "y": [
          68.38289429671487,
          72.59019917311903
         ]
        },
        {
         "hoverinfo": "skip",
         "line": {
          "color": "lightblue",
          "width": 1
         },
         "mode": "lines",
         "showlegend": false,
         "type": "scatter",
         "x": [
          31.49204108601517,
          36.447485596838675
         ],
         "y": [
          8.824451871169972,
          9.490462156487862
         ]
        },
        {
         "hoverinfo": "skip",
         "line": {
          "color": "lightblue",
          "width": 1
         },
         "mode": "lines",
         "showlegend": false,
         "type": "scatter",
         "x": [
          70.57087728651702,
          75.56742589798849
         ],
         "y": [
          48.55571406044421,
          48.74146112826109
         ]
        },
        {
         "hoverinfo": "skip",
         "line": {
          "color": "lightblue",
          "width": 1
         },
         "mode": "lines",
         "showlegend": false,
         "type": "scatter",
         "x": [
          30.18787001523267,
          32.63914138037889
         ],
         "y": [
          37.479406496390446,
          37.40951017722997
         ]
        },
        {
         "hoverinfo": "skip",
         "line": {
          "color": "lightblue",
          "width": 1
         },
         "mode": "lines",
         "showlegend": false,
         "type": "scatter",
         "x": [
          84.98148005843449,
          84.96790632568302
         ],
         "y": [
          75.06528743311753,
          77.23069147100678
         ]
        },
        {
         "hoverinfo": "skip",
         "line": {
          "color": "lightblue",
          "width": 1
         },
         "mode": "lines",
         "showlegend": false,
         "type": "scatter",
         "x": [
          36.447485596838675,
          39.910474875700416
         ],
         "y": [
          9.490462156487862,
          8.755558404377462
         ]
        },
        {
         "hoverinfo": "skip",
         "line": {
          "color": "lightblue",
          "width": 1
         },
         "mode": "lines",
         "showlegend": false,
         "type": "scatter",
         "x": [
          75.56742589798849,
          80.52417766204913
         ],
         "y": [
          48.74146112826109,
          49.397671421903084
         ]
        },
        {
         "hoverinfo": "skip",
         "line": {
          "color": "lightblue",
          "width": 1
         },
         "mode": "lines",
         "showlegend": false,
         "type": "scatter",
         "x": [
          14.267131160484636,
          12.444572986457636
         ],
         "y": [
          25.084955677628106,
          23.07804269223743
         ]
        },
        {
         "hoverinfo": "skip",
         "line": {
          "color": "lightblue",
          "width": 1
         },
         "mode": "lines",
         "showlegend": false,
         "type": "scatter",
         "x": [
          43.96311838135276,
          38.987026258391495
         ],
         "y": [
          26.17138859771684,
          25.683016624930826
         ]
        },
        {
         "hoverinfo": "skip",
         "line": {
          "color": "lightblue",
          "width": 1
         },
         "mode": "lines",
         "showlegend": false,
         "type": "scatter",
         "x": [
          38.987026258391495,
          34.01093413543023
         ],
         "y": [
          25.683016624930826,
          25.19464465214481
         ]
        },
        {
         "hoverinfo": "skip",
         "line": {
          "color": "lightblue",
          "width": 1
         },
         "mode": "lines",
         "showlegend": false,
         "type": "scatter",
         "x": [
          34.01093413543023,
          29.034842012468975
         ],
         "y": [
          25.19464465214481,
          24.706272679358793
         ]
        },
        {
         "hoverinfo": "skip",
         "line": {
          "color": "lightblue",
          "width": 1
         },
         "mode": "lines",
         "showlegend": false,
         "type": "scatter",
         "x": [
          42.63577764138964,
          37.6397042666162
         ],
         "y": [
          41.25410444749853,
          41.05598621542502
         ]
        },
        {
         "hoverinfo": "skip",
         "line": {
          "color": "lightblue",
          "width": 1
         },
         "mode": "lines",
         "showlegend": false,
         "type": "scatter",
         "x": [
          3.2791373909376484,
          0.7338831266895509
         ],
         "y": [
          5.450340745744074,
          9.754022974989965
         ]
        },
        {
         "hoverinfo": "skip",
         "line": {
          "color": "lightblue",
          "width": 1
         },
         "mode": "lines",
         "showlegend": false,
         "type": "scatter",
         "x": [
          70.57087728651702,
          70.75196996460427
         ],
         "y": [
          48.55571406044421,
          43.55899459243891
         ]
        },
        {
         "hoverinfo": "skip",
         "line": {
          "color": "lightblue",
          "width": 1
         },
         "mode": "lines",
         "showlegend": false,
         "type": "scatter",
         "x": [
          20.53356744807408,
          16.34751859851238
         ],
         "y": [
          42.979314756327106,
          45.71372420428533
         ]
        },
        {
         "hoverinfo": "skip",
         "line": {
          "color": "lightblue",
          "width": 1
         },
         "mode": "lines",
         "showlegend": false,
         "type": "scatter",
         "x": [
          74.49445262424828,
          69.95533703873596
         ],
         "y": [
          72.59019917311903,
          74.68696566020316
         ]
        },
        {
         "hoverinfo": "skip",
         "line": {
          "color": "lightblue",
          "width": 1
         },
         "mode": "lines",
         "showlegend": false,
         "type": "scatter",
         "x": [
          16.831501623173,
          16.966501929957435
         ],
         "y": [
          11.698828454541488,
          14.687800680371598
         ]
        },
        {
         "hoverinfo": "skip",
         "line": {
          "color": "lightblue",
          "width": 1
         },
         "mode": "lines",
         "showlegend": false,
         "type": "scatter",
         "x": [
          69.95533703873596,
          64.9569487779442
         ],
         "y": [
          74.68696566020316,
          74.56002160016448
         ]
        },
        {
         "hoverinfo": "skip",
         "line": {
          "color": "lightblue",
          "width": 1
         },
         "mode": "lines",
         "showlegend": false,
         "type": "scatter",
         "x": [
          30.18787001523267,
          29.510098804977204
         ],
         "y": [
          37.479406496390446,
          34.73203428244781
         ]
        },
        {
         "hoverinfo": "skip",
         "line": {
          "color": "lightblue",
          "width": 1
         },
         "mode": "lines",
         "showlegend": false,
         "type": "scatter",
         "x": [
          29.034842012468975,
          29.27159395978338
         ],
         "y": [
          24.706272679358793,
          29.700664385607197
         ]
        },
        {
         "hoverinfo": "skip",
         "line": {
          "color": "lightblue",
          "width": 1
         },
         "mode": "lines",
         "showlegend": false,
         "type": "scatter",
         "x": [
          29.27159395978338,
          29.508345907097784
         ],
         "y": [
          29.700664385607197,
          34.695056091855605
         ]
        },
        {
         "hoverinfo": "skip",
         "line": {
          "color": "lightblue",
          "width": 1
         },
         "mode": "lines",
         "showlegend": false,
         "type": "scatter",
         "x": [
          29.508345907097784,
          29.510098804977204
         ],
         "y": [
          34.695056091855605,
          34.73203428244781
         ]
        },
        {
         "marker": {
          "color": "red",
          "size": 10
         },
         "mode": "markers",
         "name": "Start",
         "type": "scatter",
         "x": [
          1
         ],
         "y": [
          1
         ]
        },
        {
         "marker": {
          "color": "orange",
          "size": 10
         },
         "mode": "markers",
         "name": "Goal",
         "type": "scatter",
         "x": [
          99
         ],
         "y": [
          99
         ]
        }
       ],
       "layout": {
        "height": 600,
        "shapes": [
         {
          "fillcolor": "purple",
          "line": {
           "width": 0
          },
          "opacity": 0.5,
          "type": "rect",
          "x0": 48,
          "x1": 57,
          "y0": 70,
          "y1": 79
         },
         {
          "fillcolor": "purple",
          "line": {
           "width": 0
          },
          "opacity": 0.5,
          "type": "rect",
          "x0": 47,
          "x1": 52,
          "y0": 50,
          "y1": 64
         },
         {
          "fillcolor": "purple",
          "line": {
           "width": 0
          },
          "opacity": 0.5,
          "type": "rect",
          "x0": 79,
          "x1": 84,
          "y0": 71,
          "y1": 82
         },
         {
          "fillcolor": "purple",
          "line": {
           "width": 0
          },
          "opacity": 0.5,
          "type": "rect",
          "x0": 35,
          "x1": 42,
          "y0": 29,
          "y1": 41
         },
         {
          "fillcolor": "purple",
          "line": {
           "width": 0
          },
          "opacity": 0.5,
          "type": "rect",
          "x0": 18,
          "x1": 28,
          "y0": 67,
          "y1": 80
         },
         {
          "fillcolor": "purple",
          "line": {
           "width": 0
          },
          "opacity": 0.5,
          "type": "rect",
          "x0": 66,
          "x1": 75,
          "y0": 75,
          "y1": 82
         },
         {
          "fillcolor": "purple",
          "line": {
           "width": 0
          },
          "opacity": 0.5,
          "type": "rect",
          "x0": 68,
          "x1": 81,
          "y0": 83,
          "y1": 89
         },
         {
          "fillcolor": "purple",
          "line": {
           "width": 0
          },
          "opacity": 0.5,
          "type": "rect",
          "x0": 55,
          "x1": 67,
          "y0": 54,
          "y1": 60
         },
         {
          "fillcolor": "purple",
          "line": {
           "width": 0
          },
          "opacity": 0.5,
          "type": "rect",
          "x0": 49,
          "x1": 64,
          "y0": 22,
          "y1": 30
         },
         {
          "fillcolor": "purple",
          "line": {
           "width": 0
          },
          "opacity": 0.5,
          "type": "rect",
          "x0": 32,
          "x1": 47,
          "y0": 76,
          "y1": 86
         },
         {
          "fillcolor": "purple",
          "line": {
           "width": 0
          },
          "opacity": 0.5,
          "type": "rect",
          "x0": 41,
          "x1": 56,
          "y0": 0,
          "y1": 11
         },
         {
          "fillcolor": "purple",
          "line": {
           "width": 0
          },
          "opacity": 0.5,
          "type": "rect",
          "x0": 51,
          "x1": 63,
          "y0": 42,
          "y1": 47
         },
         {
          "fillcolor": "purple",
          "line": {
           "width": 0
          },
          "opacity": 0.5,
          "type": "rect",
          "x0": 14,
          "x1": 23,
          "y0": 46,
          "y1": 60
         },
         {
          "fillcolor": "purple",
          "line": {
           "width": 0
          },
          "opacity": 0.5,
          "type": "rect",
          "x0": 84,
          "x1": 91,
          "y0": 12,
          "y1": 24
         },
         {
          "fillcolor": "purple",
          "line": {
           "width": 0
          },
          "opacity": 0.5,
          "type": "rect",
          "x0": 20,
          "x1": 29,
          "y0": 17,
          "y1": 31
         },
         {
          "fillcolor": "purple",
          "line": {
           "width": 0
          },
          "opacity": 0.5,
          "type": "rect",
          "x0": 3,
          "x1": 12,
          "y0": 18,
          "y1": 32
         },
         {
          "fillcolor": "purple",
          "line": {
           "width": 0
          },
          "opacity": 0.5,
          "type": "rect",
          "x0": 9,
          "x1": 18,
          "y0": 66,
          "y1": 75
         },
         {
          "fillcolor": "purple",
          "line": {
           "width": 0
          },
          "opacity": 0.5,
          "type": "rect",
          "x0": 73,
          "x1": 80,
          "y0": 7,
          "y1": 14
         },
         {
          "fillcolor": "purple",
          "line": {
           "width": 0
          },
          "opacity": 0.5,
          "type": "rect",
          "x0": 32,
          "x1": 47,
          "y0": 11,
          "y1": 25
         },
         {
          "fillcolor": "purple",
          "line": {
           "width": 0
          },
          "opacity": 0.5,
          "type": "rect",
          "x0": 83,
          "x1": 94,
          "y0": 55,
          "y1": 68
         },
         {
          "fillcolor": "purple",
          "line": {
           "width": 0
          },
          "opacity": 0.5,
          "type": "rect",
          "x0": 30,
          "x1": 42,
          "y0": 51,
          "y1": 64
         },
         {
          "fillcolor": "purple",
          "line": {
           "width": 0
          },
          "opacity": 0.5,
          "type": "rect",
          "x0": 50,
          "x1": 62,
          "y0": 34,
          "y1": 42
         },
         {
          "fillcolor": "purple",
          "line": {
           "width": 0
          },
          "opacity": 0.5,
          "type": "rect",
          "x0": 34,
          "x1": 41,
          "y0": 69,
          "y1": 76
         },
         {
          "fillcolor": "purple",
          "line": {
           "width": 0
          },
          "opacity": 0.5,
          "type": "rect",
          "x0": 4,
          "x1": 16,
          "y0": 87,
          "y1": 96
         },
         {
          "fillcolor": "purple",
          "line": {
           "width": 0
          },
          "opacity": 0.5,
          "type": "rect",
          "x0": 78,
          "x1": 83,
          "y0": 23,
          "y1": 30
         },
         {
          "fillcolor": "purple",
          "line": {
           "width": 0
          },
          "opacity": 0.5,
          "type": "rect",
          "x0": 72,
          "x1": 79,
          "y0": 51,
          "y1": 60
         },
         {
          "fillcolor": "purple",
          "line": {
           "width": 0
          },
          "opacity": 0.5,
          "type": "rect",
          "x0": 48,
          "x1": 58,
          "y0": 16,
          "y1": 22
         },
         {
          "fillcolor": "purple",
          "line": {
           "width": 0
          },
          "opacity": 0.5,
          "type": "rect",
          "x0": 75,
          "x1": 88,
          "y0": 94,
          "y1": 99
         },
         {
          "fillcolor": "purple",
          "line": {
           "width": 0
          },
          "opacity": 0.5,
          "type": "rect",
          "x0": 62,
          "x1": 68,
          "y0": 82,
          "y1": 96
         },
         {
          "fillcolor": "purple",
          "line": {
           "width": 0
          },
          "opacity": 0.5,
          "type": "rect",
          "x0": 57,
          "x1": 62,
          "y0": 67,
          "y1": 78
         },
         {
          "fillcolor": "purple",
          "line": {
           "width": 0
          },
          "opacity": 0.5,
          "type": "rect",
          "x0": 2,
          "x1": 11,
          "y0": 33,
          "y1": 43
         },
         {
          "fillcolor": "purple",
          "line": {
           "width": 0
          },
          "opacity": 0.5,
          "type": "rect",
          "x0": 67,
          "x1": 76,
          "y0": 0,
          "y1": 7
         },
         {
          "fillcolor": "purple",
          "line": {
           "width": 0
          },
          "opacity": 0.5,
          "type": "rect",
          "x0": 28,
          "x1": 39,
          "y0": 42,
          "y1": 50
         },
         {
          "fillcolor": "purple",
          "line": {
           "width": 0
          },
          "opacity": 0.5,
          "type": "rect",
          "x0": 66,
          "x1": 71,
          "y0": 60,
          "y1": 72
         },
         {
          "fillcolor": "purple",
          "line": {
           "width": 0
          },
          "opacity": 0.5,
          "type": "rect",
          "x0": 7,
          "x1": 13,
          "y0": 52,
          "y1": 66
         },
         {
          "fillcolor": "rgba(0,0,0,0)",
          "layer": "above",
          "line": {
           "color": "white",
           "width": 3
          },
          "type": "rect",
          "x0": 0,
          "x1": 100,
          "y0": 0,
          "y1": 100
         }
        ],
        "template": {
         "data": {
          "bar": [
           {
            "error_x": {
             "color": "#2a3f5f"
            },
            "error_y": {
             "color": "#2a3f5f"
            },
            "marker": {
             "line": {
              "color": "#E5ECF6",
              "width": 0.5
             },
             "pattern": {
              "fillmode": "overlay",
              "size": 10,
              "solidity": 0.2
             }
            },
            "type": "bar"
           }
          ],
          "barpolar": [
           {
            "marker": {
             "line": {
              "color": "#E5ECF6",
              "width": 0.5
             },
             "pattern": {
              "fillmode": "overlay",
              "size": 10,
              "solidity": 0.2
             }
            },
            "type": "barpolar"
           }
          ],
          "carpet": [
           {
            "aaxis": {
             "endlinecolor": "#2a3f5f",
             "gridcolor": "white",
             "linecolor": "white",
             "minorgridcolor": "white",
             "startlinecolor": "#2a3f5f"
            },
            "baxis": {
             "endlinecolor": "#2a3f5f",
             "gridcolor": "white",
             "linecolor": "white",
             "minorgridcolor": "white",
             "startlinecolor": "#2a3f5f"
            },
            "type": "carpet"
           }
          ],
          "choropleth": [
           {
            "colorbar": {
             "outlinewidth": 0,
             "ticks": ""
            },
            "type": "choropleth"
           }
          ],
          "contour": [
           {
            "colorbar": {
             "outlinewidth": 0,
             "ticks": ""
            },
            "colorscale": [
             [
              0,
              "#0d0887"
             ],
             [
              0.1111111111111111,
              "#46039f"
             ],
             [
              0.2222222222222222,
              "#7201a8"
             ],
             [
              0.3333333333333333,
              "#9c179e"
             ],
             [
              0.4444444444444444,
              "#bd3786"
             ],
             [
              0.5555555555555556,
              "#d8576b"
             ],
             [
              0.6666666666666666,
              "#ed7953"
             ],
             [
              0.7777777777777778,
              "#fb9f3a"
             ],
             [
              0.8888888888888888,
              "#fdca26"
             ],
             [
              1,
              "#f0f921"
             ]
            ],
            "type": "contour"
           }
          ],
          "contourcarpet": [
           {
            "colorbar": {
             "outlinewidth": 0,
             "ticks": ""
            },
            "type": "contourcarpet"
           }
          ],
          "heatmap": [
           {
            "colorbar": {
             "outlinewidth": 0,
             "ticks": ""
            },
            "colorscale": [
             [
              0,
              "#0d0887"
             ],
             [
              0.1111111111111111,
              "#46039f"
             ],
             [
              0.2222222222222222,
              "#7201a8"
             ],
             [
              0.3333333333333333,
              "#9c179e"
             ],
             [
              0.4444444444444444,
              "#bd3786"
             ],
             [
              0.5555555555555556,
              "#d8576b"
             ],
             [
              0.6666666666666666,
              "#ed7953"
             ],
             [
              0.7777777777777778,
              "#fb9f3a"
             ],
             [
              0.8888888888888888,
              "#fdca26"
             ],
             [
              1,
              "#f0f921"
             ]
            ],
            "type": "heatmap"
           }
          ],
          "histogram": [
           {
            "marker": {
             "pattern": {
              "fillmode": "overlay",
              "size": 10,
              "solidity": 0.2
             }
            },
            "type": "histogram"
           }
          ],
          "histogram2d": [
           {
            "colorbar": {
             "outlinewidth": 0,
             "ticks": ""
            },
            "colorscale": [
             [
              0,
              "#0d0887"
             ],
             [
              0.1111111111111111,
              "#46039f"
             ],
             [
              0.2222222222222222,
              "#7201a8"
             ],
             [
              0.3333333333333333,
              "#9c179e"
             ],
             [
              0.4444444444444444,
              "#bd3786"
             ],
             [
              0.5555555555555556,
              "#d8576b"
             ],
             [
              0.6666666666666666,
              "#ed7953"
             ],
             [
              0.7777777777777778,
              "#fb9f3a"
             ],
             [
              0.8888888888888888,
              "#fdca26"
             ],
             [
              1,
              "#f0f921"
             ]
            ],
            "type": "histogram2d"
           }
          ],
          "histogram2dcontour": [
           {
            "colorbar": {
             "outlinewidth": 0,
             "ticks": ""
            },
            "colorscale": [
             [
              0,
              "#0d0887"
             ],
             [
              0.1111111111111111,
              "#46039f"
             ],
             [
              0.2222222222222222,
              "#7201a8"
             ],
             [
              0.3333333333333333,
              "#9c179e"
             ],
             [
              0.4444444444444444,
              "#bd3786"
             ],
             [
              0.5555555555555556,
              "#d8576b"
             ],
             [
              0.6666666666666666,
              "#ed7953"
             ],
             [
              0.7777777777777778,
              "#fb9f3a"
             ],
             [
              0.8888888888888888,
              "#fdca26"
             ],
             [
              1,
              "#f0f921"
             ]
            ],
            "type": "histogram2dcontour"
           }
          ],
          "mesh3d": [
           {
            "colorbar": {
             "outlinewidth": 0,
             "ticks": ""
            },
            "type": "mesh3d"
           }
          ],
          "parcoords": [
           {
            "line": {
             "colorbar": {
              "outlinewidth": 0,
              "ticks": ""
             }
            },
            "type": "parcoords"
           }
          ],
          "pie": [
           {
            "automargin": true,
            "type": "pie"
           }
          ],
          "scatter": [
           {
            "fillpattern": {
             "fillmode": "overlay",
             "size": 10,
             "solidity": 0.2
            },
            "type": "scatter"
           }
          ],
          "scatter3d": [
           {
            "line": {
             "colorbar": {
              "outlinewidth": 0,
              "ticks": ""
             }
            },
            "marker": {
             "colorbar": {
              "outlinewidth": 0,
              "ticks": ""
             }
            },
            "type": "scatter3d"
           }
          ],
          "scattercarpet": [
           {
            "marker": {
             "colorbar": {
              "outlinewidth": 0,
              "ticks": ""
             }
            },
            "type": "scattercarpet"
           }
          ],
          "scattergeo": [
           {
            "marker": {
             "colorbar": {
              "outlinewidth": 0,
              "ticks": ""
             }
            },
            "type": "scattergeo"
           }
          ],
          "scattergl": [
           {
            "marker": {
             "colorbar": {
              "outlinewidth": 0,
              "ticks": ""
             }
            },
            "type": "scattergl"
           }
          ],
          "scattermap": [
           {
            "marker": {
             "colorbar": {
              "outlinewidth": 0,
              "ticks": ""
             }
            },
            "type": "scattermap"
           }
          ],
          "scattermapbox": [
           {
            "marker": {
             "colorbar": {
              "outlinewidth": 0,
              "ticks": ""
             }
            },
            "type": "scattermapbox"
           }
          ],
          "scatterpolar": [
           {
            "marker": {
             "colorbar": {
              "outlinewidth": 0,
              "ticks": ""
             }
            },
            "type": "scatterpolar"
           }
          ],
          "scatterpolargl": [
           {
            "marker": {
             "colorbar": {
              "outlinewidth": 0,
              "ticks": ""
             }
            },
            "type": "scatterpolargl"
           }
          ],
          "scatterternary": [
           {
            "marker": {
             "colorbar": {
              "outlinewidth": 0,
              "ticks": ""
             }
            },
            "type": "scatterternary"
           }
          ],
          "surface": [
           {
            "colorbar": {
             "outlinewidth": 0,
             "ticks": ""
            },
            "colorscale": [
             [
              0,
              "#0d0887"
             ],
             [
              0.1111111111111111,
              "#46039f"
             ],
             [
              0.2222222222222222,
              "#7201a8"
             ],
             [
              0.3333333333333333,
              "#9c179e"
             ],
             [
              0.4444444444444444,
              "#bd3786"
             ],
             [
              0.5555555555555556,
              "#d8576b"
             ],
             [
              0.6666666666666666,
              "#ed7953"
             ],
             [
              0.7777777777777778,
              "#fb9f3a"
             ],
             [
              0.8888888888888888,
              "#fdca26"
             ],
             [
              1,
              "#f0f921"
             ]
            ],
            "type": "surface"
           }
          ],
          "table": [
           {
            "cells": {
             "fill": {
              "color": "#EBF0F8"
             },
             "line": {
              "color": "white"
             }
            },
            "header": {
             "fill": {
              "color": "#C8D4E3"
             },
             "line": {
              "color": "white"
             }
            },
            "type": "table"
           }
          ]
         },
         "layout": {
          "annotationdefaults": {
           "arrowcolor": "#2a3f5f",
           "arrowhead": 0,
           "arrowwidth": 1
          },
          "autotypenumbers": "strict",
          "coloraxis": {
           "colorbar": {
            "outlinewidth": 0,
            "ticks": ""
           }
          },
          "colorscale": {
           "diverging": [
            [
             0,
             "#8e0152"
            ],
            [
             0.1,
             "#c51b7d"
            ],
            [
             0.2,
             "#de77ae"
            ],
            [
             0.3,
             "#f1b6da"
            ],
            [
             0.4,
             "#fde0ef"
            ],
            [
             0.5,
             "#f7f7f7"
            ],
            [
             0.6,
             "#e6f5d0"
            ],
            [
             0.7,
             "#b8e186"
            ],
            [
             0.8,
             "#7fbc41"
            ],
            [
             0.9,
             "#4d9221"
            ],
            [
             1,
             "#276419"
            ]
           ],
           "sequential": [
            [
             0,
             "#0d0887"
            ],
            [
             0.1111111111111111,
             "#46039f"
            ],
            [
             0.2222222222222222,
             "#7201a8"
            ],
            [
             0.3333333333333333,
             "#9c179e"
            ],
            [
             0.4444444444444444,
             "#bd3786"
            ],
            [
             0.5555555555555556,
             "#d8576b"
            ],
            [
             0.6666666666666666,
             "#ed7953"
            ],
            [
             0.7777777777777778,
             "#fb9f3a"
            ],
            [
             0.8888888888888888,
             "#fdca26"
            ],
            [
             1,
             "#f0f921"
            ]
           ],
           "sequentialminus": [
            [
             0,
             "#0d0887"
            ],
            [
             0.1111111111111111,
             "#46039f"
            ],
            [
             0.2222222222222222,
             "#7201a8"
            ],
            [
             0.3333333333333333,
             "#9c179e"
            ],
            [
             0.4444444444444444,
             "#bd3786"
            ],
            [
             0.5555555555555556,
             "#d8576b"
            ],
            [
             0.6666666666666666,
             "#ed7953"
            ],
            [
             0.7777777777777778,
             "#fb9f3a"
            ],
            [
             0.8888888888888888,
             "#fdca26"
            ],
            [
             1,
             "#f0f921"
            ]
           ]
          },
          "colorway": [
           "#636efa",
           "#EF553B",
           "#00cc96",
           "#ab63fa",
           "#FFA15A",
           "#19d3f3",
           "#FF6692",
           "#B6E880",
           "#FF97FF",
           "#FECB52"
          ],
          "font": {
           "color": "#2a3f5f"
          },
          "geo": {
           "bgcolor": "white",
           "lakecolor": "white",
           "landcolor": "#E5ECF6",
           "showlakes": true,
           "showland": true,
           "subunitcolor": "white"
          },
          "hoverlabel": {
           "align": "left"
          },
          "hovermode": "closest",
          "mapbox": {
           "style": "light"
          },
          "paper_bgcolor": "white",
          "plot_bgcolor": "#E5ECF6",
          "polar": {
           "angularaxis": {
            "gridcolor": "white",
            "linecolor": "white",
            "ticks": ""
           },
           "bgcolor": "#E5ECF6",
           "radialaxis": {
            "gridcolor": "white",
            "linecolor": "white",
            "ticks": ""
           }
          },
          "scene": {
           "xaxis": {
            "backgroundcolor": "#E5ECF6",
            "gridcolor": "white",
            "gridwidth": 2,
            "linecolor": "white",
            "showbackground": true,
            "ticks": "",
            "zerolinecolor": "white"
           },
           "yaxis": {
            "backgroundcolor": "#E5ECF6",
            "gridcolor": "white",
            "gridwidth": 2,
            "linecolor": "white",
            "showbackground": true,
            "ticks": "",
            "zerolinecolor": "white"
           },
           "zaxis": {
            "backgroundcolor": "#E5ECF6",
            "gridcolor": "white",
            "gridwidth": 2,
            "linecolor": "white",
            "showbackground": true,
            "ticks": "",
            "zerolinecolor": "white"
           }
          },
          "shapedefaults": {
           "line": {
            "color": "#2a3f5f"
           }
          },
          "ternary": {
           "aaxis": {
            "gridcolor": "white",
            "linecolor": "white",
            "ticks": ""
           },
           "baxis": {
            "gridcolor": "white",
            "linecolor": "white",
            "ticks": ""
           },
           "bgcolor": "#E5ECF6",
           "caxis": {
            "gridcolor": "white",
            "linecolor": "white",
            "ticks": ""
           }
          },
          "title": {
           "x": 0.05
          },
          "xaxis": {
           "automargin": true,
           "gridcolor": "white",
           "linecolor": "white",
           "ticks": "",
           "title": {
            "standoff": 15
           },
           "zerolinecolor": "white",
           "zerolinewidth": 2
          },
          "yaxis": {
           "automargin": true,
           "gridcolor": "white",
           "linecolor": "white",
           "ticks": "",
           "title": {
            "standoff": 15
           },
           "zerolinecolor": "white",
           "zerolinewidth": 2
          }
         }
        },
        "title": {
         "text": "Map Visualization"
        },
        "width": 600,
        "xaxis": {
         "scaleanchor": "y",
         "showgrid": false
        },
        "yaxis": {
         "showgrid": false
        }
       }
      }
     },
     "metadata": {},
     "output_type": "display_data"
    },
    {
     "data": {
      "application/vnd.plotly.v1+json": {
       "config": {
        "plotlyServerURL": "https://plot.ly"
       },
       "data": [
        {
         "marker": {
          "color": "blue",
          "size": 4
         },
         "mode": "markers",
         "name": "nodes",
         "type": "scatter",
         "x": [
          29,
          90,
          33.850585252353085,
          85.55066307806048,
          81.10132615612096,
          82.64426250568935,
          29.26351058264276,
          84.31850041118848,
          24.015223778320735,
          82.33430425181119,
          21.35991320364959,
          84.28525411403474,
          23.558741174307723,
          87.85893722301256,
          35.942353487284244,
          89.35543154623238,
          25.902975167432707,
          80.04602889686132,
          20.158820288981836,
          90.35305175456081,
          24.118789808773254,
          83.6347388070731,
          21.92121602316445,
          91.56089881669759,
          19.243209048499967,
          90.65055005504976,
          26.793303799037638,
          86.92043869033162,
          16.261902235188863,
          82.75730819722604,
          30.589374695213966,
          90.41634455004947,
          35.32314695570818,
          91.5565131095444,
          12.190374553164725,
          84.85814012176898,
          29.342201777985302,
          80.41035964579764,
          29.009615110593835,
          80.3016221495675,
          20.4064865532749,
          91.11998088270401,
          33.30064463088506,
          80.73141515652792,
          31.505488751124545,
          95.64553070920392,
          34.63427396327106,
          85.65565369339934,
          33.548616448605095,
          84.73180948626154,
          34.48497027106334,
          96.44301101296423,
          15.49014457817397,
          84.63783963635163,
          12.573003692958187,
          85.1784571243709,
          10.92087479659567,
          90.64189320622172,
          10.068979460279442,
          82.25771213257373,
          5.979758799390218,
          98.13687448537577,
          21.045099972325232,
          80.75292104409341,
          28.186176259734218,
          95.10065281145704,
          36.223252079561206,
          95.31928642527684,
          10.131782322661486,
          89.549984934753,
          10.274902397539972,
          94.38909193608482,
          6.223469191623491,
          94.05996444551769,
          32.884057510531356,
          80.5090806879211,
          24.44308852053414,
          94.78678875360742,
          27.158876305245926,
          88.65742466671604,
          20.01166179356292,
          88.8940779466591,
          8.759261267379648,
          80.47610858406429,
          26.630639644013378,
          94.47758942649702,
          23.400441257353066,
          86.67955511696506,
          6.24320989190356,
          85.83916520152096,
          22.325679763730133,
          84.81052040699022,
          6.609440999663607,
          88.82588619012776,
          27.91070569823043,
          94.91488472137839,
          25.538248719979816,
          93.68313508721047,
          5.679769687051194,
          82.35039161574808,
          23.188912636676374,
          93.42536365612753,
          3.8015942201442887,
          94.18780203841992,
          36.579529344121674,
          82.00930831328054,
          27.14852965330854,
          92.70256493252957,
          34.776539926866356,
          92.36225276296669,
          17.20866983420476,
          93.13736772523428,
          22.2980339901246,
          83.11088594399175,
          3.4175353536973967,
          87.59217490747969,
          4.7610211343468585,
          96.56077762191605,
          24.21312479168778,
          85.73290694277443,
          14.263843113704922,
          87.53561407098212,
          31.306084092407794,
          82.10506669215722,
          15.536596448264428,
          86.37013268316821,
          27.115979928128798,
          87.88218286940862,
          14.73873022853498,
          89.60758188529225,
          24.598167445434882,
          94.66649197845703,
          12.423469308810054,
          80.05084620148747,
          34.02916455086458,
          93.71929251776093,
          25.478967011912346,
          92.50081543157883,
          34.94072199044898,
          83.57338971662149,
          2.7161345299305806,
          87.58485824159945,
          11.550583447017736,
          93.40575293057945,
          13.495915854936014,
          83.47303667042381,
          28.19039751651651,
          95.71116486674704,
          35.65775835984715,
          88.71857019509727,
          10.187817922711798,
          93.68104857559291,
          3.0620858401822826,
          92.8272378218053,
          6.973373135776784,
          80.38410784138071,
          28.628604902253574,
          94.98413874590682,
          4.60726246689207,
          82.47062493894187,
          14.437055515187836,
          85.92665612533867,
          4.6247208663426465,
          86.98233943718398,
          9.21560656214011,
          84.27641026330676,
          27.679807974767424,
          92.83082057154976,
          6.1833198403911105,
          99.23438964206926,
          18.616931846323382,
          95.8828321048626,
          13.791579371359486,
          87.74750681081439,
          21.068376272175804,
          91.63826686285205,
          8.536099554596522,
          83.79533980087545,
          24.26031479096391,
          91.52001108321791,
          16.11650074800869,
          81.82193175122363,
          16.83271798346385,
          96.46973905562025,
          16.245542392768787,
          94.44407929477198,
          22.03086135317348,
          91.54355194826826,
          3.593751301221341,
          86.18387127623016,
          31.24798489742602,
          88.66207944446474,
          2.685731988268669,
          87.92540601706472,
          11.454248801518174,
          85.96187148630034,
          30.21979530222434,
          97.43859204250614,
          26.082167264458512,
          98.59600271160647,
          29.995501924661216,
          84.90468695353988,
          27.03187855020177,
          86.56903529200825,
          16.21127360860619,
          95.75267847379514,
          3.5527875850148525,
          81.84055848398823,
          25.837939814838506,
          84.13915236487618,
          35.426319361712984,
          81.14861096687166,
          2.776239382508032,
          93.98305698901139,
          2.870182285734358,
          99.81640866208886,
          10.152222182795311,
          76.96551659453995,
          26.000039537563946,
          88.03408227665275,
          5.930271465030943,
          71.9659570779247,
          22.434421736116008,
          82.34749908267916,
          5.349227863663917,
          67.40742248293904,
          62.84888788795338,
          96.34684567653741,
          20.089584827251272,
          91.44087568838118,
          7.10017855967059,
          95.60515176684598,
          35.6375578199585,
          63.309775998981166,
          7.8459229846553935,
          79.70208483054219,
          5.5642988896071,
          80.76274852896633,
          11.991924934726043,
          83.72327360269459,
          15.892770720716065,
          88.13195897770287,
          25.680148739312347,
          97.44598810959518,
          7.995035753475232,
          82.25872750724076,
          11.935195297216906,
          99.5960204874062,
          17.345497035575196,
          60.9331348462066,
          16.296329941372377,
          93.96223048379301,
          0.6018034830614805,
          92.92234133826209,
          5.78499913136895,
          85.79182975621134,
          16.625614661730115,
          97.23414007852257,
          7.522273429043904,
          91.73141536819583,
          4.1049223701632,
          85.90924557502154,
          20.036641149378976,
          97.88060734217623,
          11.53353308103463,
          90.43967168915934,
          30.837473265482085,
          83.18709405417927,
          7.641146161484157,
          94.65584790769086,
          8.001653727938917,
          88.43286307131709,
          14.830317912690434,
          93.12551650951698,
          6.967888238150724,
          94.35399319540798,
          24.148322968480628,
          85.78148430885541,
          8.677890318028169,
          82.63189890179413,
          26.914880027624854,
          79.26547069466301,
          25.508921557587072,
          64.13912463941087,
          9.887959232847951,
          96.89091105411755,
          1.6199640999868814,
          61.82569855781017,
          14.574483636293838,
          99.17839310381716,
          19.51544311286493,
          82.26563108107015,
          12.83281740989611,
          61.77027409735771,
          24.486635820840345,
          29.45782852881576,
          34.42902123679117,
          39.400213944766584,
          44.371406652741996,
          49.34259936071741,
          54.31379206869282,
          28.09158428080686,
          86.83089452889952,
          12.40347010573637,
          93.45456620263587,
          16.779469673174564,
          68.89410760404135,
          25.936684201420533,
          81.30935277688725,
          11.743094602920856,
          83.82033360257644,
          34.80698370680926,
          96.02792044911239,
          6.388688081434591,
          68.255551518972,
          18.296109620142154,
          99.34737846366885,
          32.43478692762884,
          61.353511135222085,
          55.58838183032201,
          56.862971591951194,
          23.331279038091736,
          60.4822792494248,
          22.824083703414722,
          80.69745545047581,
          2.780593251986885,
          84.088189136215,
          14.626677708085477,
          98.92291044465098,
          4.844398792040849,
          82.87591754731726,
          24.063977957978967,
          60.389765761042916,
          17.648601103791684,
          93.32194109476866,
          52.24060506609064,
          65.09841142652861,
          20.77122090265896,
          74.08770664844492,
          39.38722027695366,
          85.32945350705194,
          18.23587726752813,
          83.71368846287022,
          12.604584673624618,
          67.39305772477276,
          9.131437496470351,
          60.10378432497714,
          16.594812837458125,
          60.67240567338501,
          53.83705696830167,
          55.433508870512696,
          55.65638314963125,
          84.45896300433525,
          7.635962014626559,
          91.56664999924251,
          2.79764476062605,
          66.68013917901864,
          48.91967344354162,
          66.04385153595169,
          47.32011998097741,
          86.2353234311117,
          31.451765347820604,
          62.24669685912168,
          56.79271061362317,
          38.88303098221004,
          83.60103849014207,
          9.973215153660565,
          93.52217493026987,
          26.805128139565237,
          89.80625662410421,
          3.0310619337483247,
          82.33530926631228,
          45.17307257737624,
          89.13689492373781,
          4.531119995166403,
          61.50783076703146,
          35.65468890139171,
          86.11397288668768,
          3.4242143428555583,
          64.03564390242218,
          3.8235875606408953,
          99.93942187173084,
          30.063195218467488,
          85.80954507830565,
          30.516839561825183,
          94.53764014624524,
          2.2751931510583745,
          88.62136651351415,
          23.778177671398293,
          85.49321107426043,
          19.97539886640014,
          93.45675414689492,
          23.038447599134102,
          84.13960924803541,
          44.414006062422324,
          61.01708290645036,
          27.209191742304217,
          82.0930556157073,
          8.680746092608715,
          62.11680213544548,
          31.824876262763937,
          66.15437231416543,
          15.764225256071175,
          97.71552967682389,
          6.685970869867985,
          98.1324660646661,
          17.204258565165297,
          92.17636686917824,
          33.51668074916007,
          71.38581408661162,
          39.561989564815775,
          91.58305206264788,
          6.471999821107744,
          62.59066831401178,
          0.39584117861997115,
          91.40545180379932,
          22.261586687427126,
          98.63391115118321,
          19.008324656063824,
          82.29490624791529,
          8.392140297410467,
          69.03094982646174,
          10.559777429965933,
          96.89360954659404,
          38.79292062209703,
          83.70317171296858,
          32.41190229043127,
          64.11366683449775,
          17.318153048190045,
          91.66091433568766,
          28.969139092556873,
          84.4266130000213,
          4.501168462358285,
          70.67457054337179,
          4.091499045195701,
          81.87767780863877,
          12.508222216889797,
          83.5187301569632,
          0.3196800774110997,
          94.08619846870742,
          2.6432574399022024,
          65.06519634869821,
          40.905136957806356,
          84.39895161913856,
          46.40961110298615,
          97.88896649790416,
          15.825031670048839,
          69.27825643480419,
          5.19611138879087,
          86.79824594561603,
          21.65478710365978,
          89.45868945850637,
          22.134172844323185,
          83.99310194143646,
          9.561965379327885,
          76.75132750249054,
          26.821931928592313,
          86.73030546129714,
          0.9491552038397404,
          64.4084105743658,
          40.895177472827896,
          62.17308365756876,
          1.256209119741436,
          90.25931904991428,
          16.894164651939658,
          93.37790755110174,
          36.0582369613814,
          77.9414172851271,
          14.243921056263009,
          62.347024789337304,
          35.18241538301451,
          95.05036749764282,
          30.153478800774046,
          91.64116360663111,
          4.657736921155664,
          91.681090854147,
          6.078026049115737,
          88.72648797490523,
          30.531416841856142,
          94.56286000947873,
          32.34570819424284,
          95.64821275721212,
          36.95162178798337,
          99.4199908039332,
          11.20190108499467,
          90.2650581120692,
          3.9733218417746796,
          63.87331831923114,
          21.31821254335563,
          82.34747981940437,
          25.44582118020269,
          61.38984865468884,
          6.833608020123139,
          75.91462689661218,
          18.370743605458628,
          73.35338018072865,
          54.42374833714078,
          89.63257713385553,
          3.3319608389407396,
          84.00638542156777,
          43.113646034123654,
          67.51764250598946,
          13.637594041226341,
          85.55332327433702,
          12.124267116109221,
          60.443351262926505,
          3.738017212436562,
          63.23297025164276,
          41.654104211865096,
          68.86319869640688,
          28.05484653247834,
          55.73988485285126,
          51.03641844277602,
          46.332952032700774,
          41.62948562262553,
          60.44717926480993,
          27.96055976499182,
          85.74725827506434,
          31.947743848771747,
          62.8823527827772,
          45.42687450088193,
          72.83623848365568,
          8.926299262996285,
          68.28165636043471,
          47.04177863206008,
          70.88784295878085,
          43.23604154885526,
          46.97744523774372,
          35.124592431913534,
          69.3487427413355,
          21.573892862481735,
          67.13053001472886,
          44.83408193352273,
          75.69244815398129,
          12.218115803813456,
          82.22188139099408,
          28.736214707859443,
          87.78392880780133,
          0.6703998958106583,
          60.16186359495413,
          28.23935128222672,
          43.72658521150977,
          37.27218173547475,
          90.69453725636856,
          31.482297367388025,
          92.90357030738538,
          19.92108538116758,
          87.99335124297977,
          11.557001196400352,
          82.24029920521826,
          15.666312935402116,
          62.27332417309429,
          34.564709989820464,
          82.4752259237913,
          6.780341279987345,
          60.67072819220996,
          28.03984767747214,
          92.7895287444761,
          46.926956766483784,
          40.08096854900285,
          32.748204781928635,
          72.11145148970046,
          13.16334530328841,
          93.0813957488159,
          3.51062832766168,
          60.82905681250963,
          1.957310259862799,
          89.39282544009177,
          32.30212541175016,
          83.11267824699775,
          16.771038141383986,
          90.09868446838377,
          32.01105330054792,
          75.79385035845179,
          3.3035160679951048,
          90.8795728450264,
          3.615174884262762,
          61.52517720280402,
          25.59085565765923,
          90.9682648930613,
          54.62768437200306,
          86.66864089513872,
          32.81823011475938,
          86.52614568100424,
          36.20757939018473,
          92.35934128688041,
          30.386413781151777,
          86.49336494511304,
          36.56556835280643,
          88.87504567636392,
          20.655963474515527,
          85.59959779846203,
          9.036637147417348,
          99.88853466083307,
          23.29092451661098,
          81.6452619872138,
          6.678883832047933,
          80.77807890262972,
          9.451108606041736,
          56.917651737305654,
          10.068345438212011,
          50.411630851519305,
          4.989646576704098,
          86.5041002901068,
          36.48040236590943,
          60.246672262104916,
          19.30051454407179,
          61.641799653822936,
          9.91402035217227,
          60.334455355349604,
          15.397050395480916,
          84.62321268578708,
          32.10577545480603,
          73.0125696506554,
          13.011118014939605,
          76.48491163291973,
          31.335253087481238,
          70.60085579286944,
          44.579996686635624,
          81.03666004997913,
          34.39028061884648,
          93.0622286631493,
          5.109114444907615,
          84.41119985872015,
          44.660122560118275,
          57.00316559139236,
          9.184987595412409,
          93.4808600965828,
          20.611790102723926,
          66.3575712569999,
          12.01364623117428,
          93.93971640413476,
          22.705941536684747,
          64.34774756074123,
          16.33532950145615,
          65.01619768367594,
          8.963185814410402,
          42.74620830349161,
          33.24960589660938,
          41.51440295663183,
          18.63958673688384,
          89.32649394506147,
          1.3496628037903302,
          55.61878031642967,
          33.984658468410856,
          40.842228469155415,
          51.20457240449425,
          85.38299432932189,
          30.83272714409683,
          72.99774957168765,
          16.718352703575945,
          61.66718691532409,
          24.094310667286035,
          82.55019693993316,
          30.411657514198843,
          41.72749332333178,
          17.011750273945502,
          66.76266399004895,
          1.0353957237682176,
          43.695062187469006,
          32.55440063070068,
          71.23858174109947,
          25.833391366721536,
          98.41601860154891,
          9.726965758233186,
          62.55476455255374,
          1.6799721996014316,
          40.68667936911532,
          25.57305426461507,
          92.19855662344939,
          0.8135750129281472,
          49.80236141251007,
          2.9432555379313885,
          43.32805833637126,
          51.430573980878535,
          71.68911694587159,
          13.727240416661923,
          64.25553046803692,
          0.8450210951893133,
          73.79064602315201,
          26.616533745476232,
          64.70517312696964,
          7.895415577307996,
          71.98842114701512,
          3.4638331882556384,
          53.534353725789295,
          27.26170301062055,
          84.48769950546803,
          5.385843999914764,
          60.20762637030048,
          12.238415277735514,
          41.17064299118821,
          45.08469928786071,
          50.64073580969475,
          42.12899582638791,
          54.66790191582448,
          20.43784226356049,
          71.85009206719364,
          29.30995045105892,
          68.56329079850788,
          11.776742783340632,
          70.73201994180235,
          25.204178896697005,
          97.51116047133281,
          1.4911337778180322,
          81.80537092750623,
          9.847346916076438,
          45.8329185416634,
          32.344379174335145,
          94.00737510781457,
          55.178496848637984,
          49.43239055511614,
          24.157589426818017,
          93.92516310988849,
          20.6746302551433,
          99.42113205027788,
          10.269136190096662,
          41.99731235304893,
          13.975824348333052,
          87.78011359595311,
          18.047542042047827,
          63.19828243309499,
          54.15321528848901,
          45.21170607550091,
          10.500034903981192,
          66.18570974460454,
          34.97238587506837,
          47.147658725605744,
          6.467678699175128,
          88.27882365314089,
          38.94327445792165,
          42.81023526027648,
          44.3177684607239,
          43.32871609745015,
          43.84719693462382,
          51.418977566668005,
          27.54897441058535,
          38.01647924125693,
          29.545102681692924,
          81.42614173282551,
          55.210333033787705,
          74.62290076567535,
          22.80846031396354,
          80.64461499438876,
          0.1449612390424848,
          33.02420329726113,
          28.03192735326533,
          23.03965140926953,
          21.73218342675932,
          32.869802433881205,
          82.95839397997996,
          50.33666125555732,
          86.95177283725107,
          1.6111905055932296,
          22.881266125519524,
          24.392232608660954,
          22.881266125519524
         ],
         "y": [
          40,
          10,
          38.786812994771715,
          12.281096437037638,
          14.562192874075276,
          19.318173048674467,
          44.99305138896399,
          24.029534575429754,
          39.61012050607788,
          28.61897523863833,
          35.373456045439106,
          33.222647103040686,
          30.882893101280384,
          36.71961565259995,
          34.24539188994858,
          5.041720912614173,
          35.57213723806243,
          35.873867493366795,
          27.216759173895184,
          41.053135319512734,
          34.65593866077064,
          9.539789004957289,
          22.537660833815664,
          45.90505303053047,
          18.315306201190833,
          50.82148111727864,
          23.661387092380032,
          54.151086079853116,
          14.301354322442808,
          56.920263664872614,
          20.407182773164187,
          14.982635569218775,
          18.79740012144519,
          19.426370372976965,
          17.203536662426146,
          34.25186917738491,
          15.565224521120772,
          61.33521921356709,
          36.54144021248618,
          66.33403668942212,
          43.07090302460869,
          3.376481629822903,
          12.95055041024985,
          71.31553023766324,
          12.415530278822207,
          50.59749838440485,
          8.13168822050011,
          72.18263740058507,
          34.65031876573422,
          77.09654744055709,
          21.741074311825336,
          20.485680639081032,
          20.50774346556744,
          3.3851200035755324,
          24.56856715735738,
          65.23109488291809,
          29.287727051851736,
          72.55333339566582,
          12.675879115760072,
          67.24950371891806,
          30.052823583121068,
          54.69500301946213,
          39.26856536088364,
          55.67390843975478,
          8.676257009254957,
          13.9733915118174,
          16.957545217727564,
          55.987754823451674,
          14.496457624103677,
          1.8182108815446574,
          7.6801213410165845,
          38.10180008726215,
          25.058766590583087,
          60.82656750336557,
          3.448020601148878,
          7.043680680217623,
          5.361246575387509,
          63.88044481245463,
          11.398054008432034,
          48.55120220748847,
          14.118813811701791,
          7.319204175248539,
          29.870512665886086,
          59.671457163282085,
          9.527465066881458,
          41.6361812134749,
          32.77555387020915,
          26.23260068725609,
          4.72284970317281,
          51.59904820256477,
          28.70131991147066,
          78.39057887681527,
          24.58634763518699,
          9.880802362642783,
          3.555394875986595,
          68.28767968181793,
          38.72378980192606,
          45.22014256341911,
          10.281127027004821,
          65.75912373826927,
          5.480804593839494,
          41.84693161175538,
          28.10863285619328,
          60.37892964285001,
          41.371517065274176,
          24.632150734967585,
          21.158217762730725,
          21.921005890485567,
          25.086281280138557,
          41.05111282394639,
          12.729963088224384,
          76.8860700510557,
          28.619734501901263,
          31.2144196803677,
          20.73774550619924,
          57.52675260564667,
          34.9020171762667,
          73.00901811069166,
          38.69081678277841,
          19.08933777032673,
          19.216371342381343,
          8.816875986409912,
          15.903783693299623,
          66.07841749971185,
          21.106795774651268,
          76.20434790891515,
          9.627394967885383,
          76.32603012026813,
          16.94784287428711,
          77.03886819122381,
          9.908725272307517,
          26.51915666642524,
          13.740145972982177,
          12.084122783564466,
          14.69039076537575,
          59.830921434418535,
          27.324276618243214,
          38.24507038601338,
          30.781604592547218,
          21.412758242518148,
          4.05932420370827,
          55.88177442023782,
          30.76766619861876,
          79.27983223917452,
          24.237772172059145,
          14.584197240400155,
          34.293962609412496,
          31.408804767922096,
          13.689770147098656,
          64.08776899647232,
          1.6503804220760636,
          59.64419437738988,
          24.46790390724519,
          84.24625149945854,
          23.25998661582185,
          69.32583146317954,
          9.986736428461828,
          88.75710268339378,
          13.757852557607142,
          69.30003727840688,
          33.55728095065427,
          36.29932042240045,
          2.6976367583427807,
          30.71606786940533,
          30.79701188552647,
          46.141490026102396,
          41.31725914970552,
          38.832831949497795,
          11.518149179444503,
          87.89059519773035,
          8.319994068285375,
          1.854887651265414,
          0.2984951246732592,
          52.035320191554014,
          23.68511868428278,
          70.19657460013865,
          24.427469905352737,
          32.354614032551986,
          45.750664000437084,
          92.36262893299917,
          24.058632713893992,
          56.64643137858778,
          13.75534583953889,
          74.53309328582685,
          34.33633242116454,
          29.40621365554933,
          1.1347228546383592,
          87.18556850428816,
          39.763856451343074,
          1.2799511414361198,
          1.1495864151809365,
          26.46989866186058,
          4.584982273208304,
          50.590813081281794,
          12.12782149320586,
          50.76324185427929,
          32.9833835492292,
          85.55195286166958,
          45.777824845080886,
          49.72539334909496,
          17.972440673899882,
          78.34606753754139,
          2.3331360096023213,
          93.06108345181616,
          7.66593747198383,
          9.9588618783512,
          44.76368864592266,
          94.6863548371598,
          31.030465310160004,
          37.838755062871435,
          31.24990547330362,
          50.63129597534605,
          49.703017840173985,
          43.365587322162256,
          54.7021352353682,
          51.264942247731426,
          31.200318809417894,
          93.57551435530632,
          1.8723603402501676,
          70.5103706041208,
          58.65635503385588,
          93.64188181587157,
          0.4145403943660586,
          92.90853714598006,
          63.62247910936089,
          91.5876758022695,
          89.53346978866743,
          52.1508783519911,
          20.40546866474702,
          1.7380684627307241,
          68.30587228740539,
          19.02676230679553,
          8.708241447236986,
          84.55475688781512,
          73.24994603813,
          91.6559180714647,
          25.29641641093058,
          37.1223202042663,
          67.27106921332229,
          15.310170764857745,
          17.135172759357264,
          84.72974171515382,
          3.4022092599966136,
          89.4056904602003,
          32.236392534915595,
          10.27129990938499,
          15.444930183604555,
          10.834609986369404,
          18.423499008225452,
          80.15571417025276,
          1.5007367046545927,
          12.695439064684688,
          58.59919047079521,
          97.16194866143859,
          32.01635381861876,
          2.436005593312096,
          69.14961107174784,
          75.44495945758447,
          78.23946013923769,
          93.69973387304432,
          44.00004924260384,
          88.22130791574357,
          46.089892246968745,
          2.296240981310349,
          21.634017876607313,
          17.25734904391184,
          30.590846155947236,
          96.24987348024545,
          47.64211254629069,
          81.92257422692857,
          78.40085385860459,
          84.3011080699073,
          63.154817847984845,
          46.57224536529142,
          83.29281960992819,
          81.21208250077048,
          18.239632490435543,
          35.67388752785696,
          59.674932191920036,
          90.08512418770287,
          15.157571552230586,
          93.8199878798651,
          9.763283356850339,
          76.31883660563463,
          87.35153681933413,
          87.44971388338757,
          44.89911410213673,
          71.88622340742191,
          89.09408926213354,
          17.48676996290037,
          89.86019594588088,
          43.0229549719508,
          72.8881671118462,
          94.41574305946422,
          90.39614655943782,
          90.93209717299477,
          91.46804778655172,
          92.00399840010867,
          92.53994901366562,
          93.07589962722257,
          93.6118502407795,
          26.00167615423984,
          58.86952970513792,
          72.09071334893777,
          98.39774711510513,
          7.898711340488118,
          92.18909721355078,
          11.888858872436469,
          0.4488832643515517,
          13.183432015361063,
          0.43759709145198,
          86.48235381567287,
          27.21774795044417,
          23.443028763482697,
          83.82038334127398,
          86.5796262372876,
          94.03005146702445,
          92.4449799656705,
          66.90856943813581,
          88.77703680699014,
          83.94222337320078,
          95.26083058869983,
          93.8277707488433,
          7.39145545828388,
          76.62317338270135,
          34.16761383291497,
          26.258905835729564,
          90.4192449924138,
          73.85649265753732,
          60.53047917022513,
          44.310176708168456,
          17.219714506858587,
          62.00232903903711,
          89.70382890187727,
          7.883815122019078,
          82.03598946819231,
          60.32046816580686,
          22.005991893551634,
          97.05336611894718,
          88.05265865915011,
          58.452078491735705,
          10.331363329500032,
          79.66339999770902,
          94.91433464750698,
          56.50750851739558,
          66.69133979768208,
          80.4820804985753,
          97.92731974547044,
          57.010323962922776,
          77.2977048287973,
          72.55942018940227,
          82.12479574674714,
          23.71644436170447,
          94.35505933740376,
          97.80847971915524,
          9.034826755172897,
          70.68855640229854,
          76.39253121538466,
          51.692984380988435,
          82.92414853456401,
          97.10238786310651,
          46.09552402642285,
          48.44004473195896,
          67.74770837118982,
          96.9771786485253,
          60.595867292210734,
          63.289126661329675,
          68.64559681831625,
          44.39459600340571,
          78.20014707096902,
          32.71252532897202,
          68.45683740916458,
          86.91663903384584,
          36.512222599469865,
          98.2742373168013,
          43.49493837334954,
          18.434588435882414,
          29.085453685589734,
          10.785600035152875,
          58.56853836092887,
          75.04003972152802,
          10.347606539722998,
          16.282081941990967,
          57.78820751676751,
          35.828669995532415,
          93.44799505557982,
          44.74614189980052,
          89.64261833800312,
          90.93980961578232,
          48.65821991933794,
          7.570611684576278,
          67.50039420597065,
          84.99525554423292,
          65.94186402924427,
          74.22482241328102,
          81.6545089507522,
          37.67175650237454,
          77.80767882984223,
          9.744475966409894,
          59.09382877711178,
          96.78223466982699,
          41.648414165342025,
          66.47568191526574,
          97.54413818185509,
          54.83742526015845,
          30.908435057840922,
          96.16687537682031,
          1.8271444542446669,
          43.42742997325075,
          92.15156060387194,
          73.01737224579838,
          3.008042410960221,
          70.57774332439675,
          74.11874936890432,
          58.40992012379089,
          84.31272260011477,
          30.410040074604638,
          72.38061988863956,
          86.28295855808929,
          25.51036313177696,
          15.628623954412625,
          58.616044333683604,
          5.418444098270903,
          37.86248096483704,
          76.74927200977304,
          57.20249327967431,
          8.70203803320061,
          59.36244859589435,
          3.4740036566273003,
          19.18035165397024,
          32.84036518448825,
          53.532539367433564,
          49.1502852484602,
          43.78565724199001,
          1.8714588918714914,
          6.940556669572806,
          31.10684562145092,
          71.60849820533576,
          72.59270263024914,
          96.6909387978325,
          18.98719419479159,
          93.10194040633239,
          68.20115432291506,
          7.2936166761322525,
          92.67534351856062,
          21.496261923899397,
          67.77501304319273,
          59.62920145484419,
          91.68000912988931,
          88.0475849236656,
          14.755665868655331,
          22.024470938254005,
          3.5603192020542074,
          79.34446999937414,
          28.116539323817392,
          91.25949679875983,
          10.44054467336969,
          40.67783773447965,
          79.13120564656388,
          36.9631588251118,
          79.00433518304595,
          32.490652416503465,
          91.56169132126037,
          51.034590845925365,
          14.379957283988709,
          12.15683920759214,
          11.757899415344198,
          91.76288714212139,
          4.946441220048681,
          27.49367888418622,
          14.475216938604763,
          3.729164834332266,
          19.745428998989965,
          9.323479635217524,
          20.109595830477566,
          76.45194781478676,
          2.9983236077332442,
          17.29417864334445,
          84.72875830135004,
          17.488776765989222,
          6.86520918381508,
          65.19087726519867,
          41.26362037924246,
          96.04131168357365,
          83.51824428762623,
          92.35893198551054,
          92.39994588791764,
          22.732331589501214,
          31.24189115784476,
          39.10537190208565,
          98.8708229918841,
          43.420534714340356,
          3.2043541194052283,
          90.35679114350998,
          16.323614396646235,
          56.24945248277966,
          84.79836850610388,
          48.03921473799873,
          46.31810442649441,
          40.825405081751654,
          99.13971391390953,
          70.34818630251,
          29.42747368233135,
          91.67431137030874,
          37.29345699118707,
          19.094292833156672,
          67.9370321093012,
          56.30938582167667,
          96.53409628505015,
          22.414379043550674,
          7.413474952394406,
          17.39800166437287,
          15.701710495589069,
          14.005419326805267,
          12.309128158021466,
          56.655331849439804,
          43.00615354219482,
          21.028353223500485,
          10.099540823301878,
          89.54438169552597,
          90.21080624449287,
          48.29422594125021,
          83.78878361800342,
          27.38044474100898,
          78.51485267594744,
          20.768708400525647,
          98.79211906427935,
          18.44002202798316,
          23.356323092778165,
          56.14792388544439,
          87.9279431145975,
          97.65544420538212,
          94.41778616699389,
          60.29300933673887,
          20.28828680155318,
          11.357242429463621,
          91.61585927220442,
          92.24878705423559,
          9.871549114697142,
          39.13169818795862,
          23.47858008627509,
          22.23895728537229,
          92.94005873971172,
          78.38575378042673,
          23.052540904823793,
          98.43195383255092,
          91.34177689349792,
          88.11446584952117,
          79.10837454143565,
          30.767238724813993,
          65.77340719705536,
          60.92132738835808,
          72.85245757290758,
          10.82673203244342,
          87.25316547240442,
          32.01617829475912,
          86.09360114509683,
          55.028488574446975,
          99.91823797712573,
          25.660868907558328,
          39.454474761974666,
          85.85233538775353,
          23.91766453579256,
          12.812157175106197,
          19.778587859509834,
          30.053351306831555,
          54.35086664114731,
          70.32900911133174,
          20.626386573269052,
          91.66823329503629,
          70.18380571682346,
          74.81528713648675,
          15.017112956200418,
          88.24138681948611,
          26.954173488368294,
          60.04157333681609,
          63.276385520240055,
          68.54168111442903,
          43.54411048812086,
          91.82375696016426,
          78.91408244286842,
          94.57079334742704,
          27.940836907403753,
          90.14849123237944,
          66.48856771229333,
          29.926691077117486,
          35.59029972940105,
          11.818201501072634,
          13.900013430981195,
          29.421699869303453,
          13.448793124461833,
          33.54692711586401,
          19.429233185801355,
          3.385397988281924,
          95.97192488530432,
          3.6899241027326224,
          12.23648460315092,
          70.05866113049913,
          87.08272142399721,
          12.53869459794019,
          32.53835041987252,
          21.209194691135625,
          40.81272849176734,
          29.648070277343276,
          92.57997960772849,
          26.131518143809185,
          92.50027166383322,
          89.26143062623022,
          75.45701920371901,
          8.88829009491292,
          87.84553649960903,
          56.85016324941428,
          18.365832353327104,
          89.94212540754893,
          73.035825162967,
          49.42188596435373,
          65.36587612508708,
          70.38230418862517,
          88.40809305509465,
          61.689904595417666,
          84.46000085390037,
          47.848273330052706,
          16.169224669639014,
          62.692983239160206,
          86.80730837022737,
          5.159683316429338,
          60.94069645784287,
          65.96298669638888,
          89.95136706856412,
          35.62984962416584,
          32.04363911896058,
          77.40851725299025,
          15.040860018679957,
          11.870484869595286,
          66.20850602740322,
          48.55653392850815,
          13.542486983487635,
          29.891294069535864,
          28.640803130254522,
          7.3104527354732305,
          88.7521575640396,
          99.09564839831975,
          57.64840665167744,
          4.714587707979656,
          10.904092748801453,
          34.514589516556434,
          82.8445116314051,
          66.19791152355293,
          26.445671141380622,
          16.23568577927036,
          94.7415076340967,
          28.615859711349113,
          24.323379038187742,
          60.890933181927686,
          6.638445391436565,
          39.43559613491818,
          10.040939792530267,
          48.75570423665357,
          93.6380800333919,
          31.873501859009846,
          0.9074432132492594,
          60.60494472366066,
          5.289200045042741,
          35.60073889246349,
          97.6002795876549,
          65.8479521989713,
          42.69273247241154,
          10.064795983866059,
          40.6353453751043,
          0.12909951148762921,
          73.52342683000339,
          26.171934937278817,
          80.361890308695,
          11.722770894730905,
          85.19195461171499,
          24.517638426412635,
          64.31384056813026,
          30.20328709865242,
          52.17249928500682,
          99.75044829790174,
          13.112955597491737,
          38.35984982785282,
          30.464143211144503,
          19.554344953856095,
          48.828087181031286,
          15.12718562294445,
          68.26521911468116,
          25.252570575038536,
          27.169056847031104,
          89.9290219298185,
          66.31063440679061,
          44.40449115369162,
          75.78603622664993,
          5.18263993686687,
          72.22324957803087,
          0.7148807471866192,
          16.15078692252271,
          93.63371087546717,
          93.73989598352046,
          97.2641527487028,
          60.18196573145552,
          57.29717184081391,
          28.302529210157946,
          82.7377828091911,
          66.80629433966958,
          33.49369690500477,
          50.45259961716815,
          17.451542329781745,
          83.46646693555306,
          90.86835772253612,
          77.16523459745979,
          15.409752587742576,
          87.8088993535813,
          8.986100383603812,
          16.411699138534807,
          42.385438396865155,
          23.077536550485313,
          24.57769189811827,
          53.27318007007989,
          19.016643294078396,
          84.45567981966578,
          37.16950840142972,
          91.87607895687721,
          47.34894511811442,
          98.7003067319197,
          68.71870474926547,
          35.98558846388611,
          28.71980266610049,
          26.529981937218494,
          85.43418252897843,
          69.99931336255622,
          51.73448247670861,
          66.19409229518051,
          56.70752758222331,
          61.68057268773801,
          31.319001650015828,
          11.630058955346056,
          53.155715473128915,
          87.81271273543217,
          20.02356537987613,
          97.54627422185708,
          92.89360823767852,
          22.53587624649015,
          38.99068930079657,
          51.0482083696297,
          52.877900968466484,
          52.600086463804054,
          52.32227195914163,
          57.148298013226984,
          94.9500366328453,
          79.46759685381032,
          80.07103829858016,
          34.52779363645391,
          93.07766184278702,
          62.01446785730456,
          64.17057143603067,
          62.01446785730456
         ]
        },
        {
         "line": {
          "color": "green"
         },
         "marker": {
          "size": 6
         },
         "mode": "lines+markers",
         "name": "Path",
         "type": "scatter",
         "x": [
          90,
          85.55066307806048,
          81.10132615612096,
          82.64426250568935,
          84.31850041118848,
          82.33430425181119,
          84.28525411403474,
          87.85893722301256,
          90.35305175456081,
          91.56089881669759,
          90.65055005504976,
          86.92043869033162,
          82.75730819722604,
          80.41035964579764,
          80.3016221495675,
          80.73141515652792,
          85.65565369339934,
          90.64189320622172,
          93.13736772523428,
          93.40575293057945,
          92.8272378218053,
          94.98413874590682,
          91.52001108321791,
          86.56903529200825,
          81.84055848398823,
          76.96551659453995,
          71.9659570779247,
          67.40742248293904,
          62.84888788795338,
          63.309775998981166,
          60.9331348462066,
          64.13912463941087,
          61.82569855781017,
          61.353511135222085,
          60.389765761042916,
          65.09841142652861,
          67.39305772477276,
          66.04385153595169,
          62.24669685912168,
          61.50783076703146,
          66.15437231416543,
          64.4084105743658,
          62.17308365756876,
          62.347024789337304,
          63.87331831923114,
          60.443351262926505,
          55.73988485285126,
          51.03641844277602,
          46.332952032700774,
          46.97744523774372,
          43.72658521150977,
          40.08096854900285,
          42.74620830349161,
          40.842228469155415,
          41.72749332333178,
          41.17064299118821,
          45.21170607550091,
          42.81023526027648,
          38.01647924125693,
          33.02420329726113,
          28.03192735326533,
          23.03965140926953,
          21.73218342675932,
          22.881266125519524,
          22.881266125519524,
          24.392232608660954,
          27.26170301062055,
          31.335253087481238,
          36.20757939018473,
          40.905136957806356,
          39.561989564815775,
          44.414006062422324,
          48.91967344354162,
          53.83705696830167,
          52.24060506609064,
          56.862971591951194,
          55.58838183032201,
          54.31379206869282,
          49.34259936071741,
          44.371406652741996,
          39.400213944766584,
          34.42902123679117,
          29.45782852881576,
          24.486635820840345,
          19.51544311286493,
          14.574483636293838,
          9.887959232847951,
          6.967888238150724,
          8.001653727938917,
          7.522273429043904,
          7.8459229846553935,
          7.10017855967059,
          5.349227863663917,
          5.930271465030943,
          2.870182285734358,
          2.776239382508032,
          3.5527875850148525,
          3.593751301221341,
          4.7610211343468585,
          5.979758799390218,
          10.92087479659567,
          12.573003692958187,
          15.49014457817397,
          19.243209048499967,
          21.92121602316445,
          20.158820288981836,
          23.558741174307723,
          21.35991320364959,
          24.015223778320735,
          29
         ],
         "y": [
          10,
          12.281096437037638,
          14.562192874075276,
          19.318173048674467,
          24.029534575429754,
          28.61897523863833,
          33.222647103040686,
          36.71961565259995,
          41.053135319512734,
          45.90505303053047,
          50.82148111727864,
          54.151086079853116,
          56.920263664872614,
          61.33521921356709,
          66.33403668942212,
          71.31553023766324,
          72.18263740058507,
          72.55333339566582,
          76.8860700510557,
          79.27983223917452,
          84.24625149945854,
          88.75710268339378,
          92.36262893299917,
          93.06108345181616,
          94.6863548371598,
          93.57551435530632,
          93.64188181587157,
          91.5876758022695,
          89.53346978866743,
          84.55475688781512,
          80.15571417025276,
          76.31883660563463,
          71.88622340742191,
          66.90856943813581,
          62.00232903903711,
          60.32046816580686,
          56.50750851739558,
          51.692984380988435,
          48.44004473195896,
          43.49493837334954,
          41.648414165342025,
          36.9631588251118,
          32.490652416503465,
          27.49367888418622,
          22.732331589501214,
          19.094292833156672,
          17.39800166437287,
          15.701710495589069,
          14.005419326805267,
          18.44002202798316,
          22.23895728537229,
          25.660868907558328,
          29.891294069535864,
          34.514589516556434,
          39.43559613491818,
          44.40449115369162,
          47.34894511811442,
          51.73448247670861,
          53.155715473128915,
          52.877900968466484,
          52.600086463804054,
          52.32227195914163,
          57.148298013226984,
          62.01446785730456,
          62.01446785730456,
          64.17057143603067,
          68.26521911468116,
          65.36587612508708,
          66.48856771229333,
          68.20115432291506,
          73.01737224579838,
          74.22482241328102,
          76.39253121538466,
          77.2977048287973,
          82.03598946819231,
          83.94222337320078,
          88.77703680699014,
          93.6118502407795,
          93.07589962722257,
          92.53994901366562,
          92.00399840010867,
          91.46804778655172,
          90.93209717299477,
          90.39614655943782,
          89.86019594588088,
          89.09408926213354,
          87.35153681933413,
          83.29281960992819,
          78.40085385860459,
          78.23946013923769,
          73.24994603813,
          68.30587228740539,
          63.62247910936089,
          58.65635503385588,
          54.7021352353682,
          49.703017840173985,
          44.76368864592266,
          39.763856451343074,
          34.9020171762667,
          30.052823583121068,
          29.287727051851736,
          24.56856715735738,
          20.50774346556744,
          18.315306201190833,
          22.537660833815664,
          27.216759173895184,
          30.882893101280384,
          35.373456045439106,
          39.61012050607788,
          40
         ]
        },
        {
         "hoverinfo": "skip",
         "line": {
          "color": "lightblue",
          "width": 1
         },
         "mode": "lines",
         "showlegend": false,
         "type": "scatter",
         "x": [
          29,
          33.850585252353085
         ],
         "y": [
          40,
          38.786812994771715
         ]
        },
        {
         "hoverinfo": "skip",
         "line": {
          "color": "lightblue",
          "width": 1
         },
         "mode": "lines",
         "showlegend": false,
         "type": "scatter",
         "x": [
          90,
          85.55066307806048
         ],
         "y": [
          10,
          12.281096437037638
         ]
        },
        {
         "hoverinfo": "skip",
         "line": {
          "color": "lightblue",
          "width": 1
         },
         "mode": "lines",
         "showlegend": false,
         "type": "scatter",
         "x": [
          85.55066307806048,
          81.10132615612096
         ],
         "y": [
          12.281096437037638,
          14.562192874075276
         ]
        },
        {
         "hoverinfo": "skip",
         "line": {
          "color": "lightblue",
          "width": 1
         },
         "mode": "lines",
         "showlegend": false,
         "type": "scatter",
         "x": [
          81.10132615612096,
          82.64426250568935
         ],
         "y": [
          14.562192874075276,
          19.318173048674467
         ]
        },
        {
         "hoverinfo": "skip",
         "line": {
          "color": "lightblue",
          "width": 1
         },
         "mode": "lines",
         "showlegend": false,
         "type": "scatter",
         "x": [
          29,
          29.26351058264276
         ],
         "y": [
          40,
          44.99305138896399
         ]
        },
        {
         "hoverinfo": "skip",
         "line": {
          "color": "lightblue",
          "width": 1
         },
         "mode": "lines",
         "showlegend": false,
         "type": "scatter",
         "x": [
          82.64426250568935,
          84.31850041118848
         ],
         "y": [
          19.318173048674467,
          24.029534575429754
         ]
        },
        {
         "hoverinfo": "skip",
         "line": {
          "color": "lightblue",
          "width": 1
         },
         "mode": "lines",
         "showlegend": false,
         "type": "scatter",
         "x": [
          29,
          24.015223778320735
         ],
         "y": [
          40,
          39.61012050607788
         ]
        },
        {
         "hoverinfo": "skip",
         "line": {
          "color": "lightblue",
          "width": 1
         },
         "mode": "lines",
         "showlegend": false,
         "type": "scatter",
         "x": [
          84.31850041118848,
          82.33430425181119
         ],
         "y": [
          24.029534575429754,
          28.61897523863833
         ]
        },
        {
         "hoverinfo": "skip",
         "line": {
          "color": "lightblue",
          "width": 1
         },
         "mode": "lines",
         "showlegend": false,
         "type": "scatter",
         "x": [
          24.015223778320735,
          21.35991320364959
         ],
         "y": [
          39.61012050607788,
          35.373456045439106
         ]
        },
        {
         "hoverinfo": "skip",
         "line": {
          "color": "lightblue",
          "width": 1
         },
         "mode": "lines",
         "showlegend": false,
         "type": "scatter",
         "x": [
          82.33430425181119,
          84.28525411403474
         ],
         "y": [
          28.61897523863833,
          33.222647103040686
         ]
        },
        {
         "hoverinfo": "skip",
         "line": {
          "color": "lightblue",
          "width": 1
         },
         "mode": "lines",
         "showlegend": false,
         "type": "scatter",
         "x": [
          21.35991320364959,
          23.558741174307723
         ],
         "y": [
          35.373456045439106,
          30.882893101280384
         ]
        },
        {
         "hoverinfo": "skip",
         "line": {
          "color": "lightblue",
          "width": 1
         },
         "mode": "lines",
         "showlegend": false,
         "type": "scatter",
         "x": [
          84.28525411403474,
          87.85893722301256
         ],
         "y": [
          33.222647103040686,
          36.71961565259995
         ]
        },
        {
         "hoverinfo": "skip",
         "line": {
          "color": "lightblue",
          "width": 1
         },
         "mode": "lines",
         "showlegend": false,
         "type": "scatter",
         "x": [
          33.850585252353085,
          35.942353487284244
         ],
         "y": [
          38.786812994771715,
          34.24539188994858
         ]
        },
        {
         "hoverinfo": "skip",
         "line": {
          "color": "lightblue",
          "width": 1
         },
         "mode": "lines",
         "showlegend": false,
         "type": "scatter",
         "x": [
          90,
          89.35543154623238
         ],
         "y": [
          10,
          5.041720912614173
         ]
        },
        {
         "hoverinfo": "skip",
         "line": {
          "color": "lightblue",
          "width": 1
         },
         "mode": "lines",
         "showlegend": false,
         "type": "scatter",
         "x": [
          24.015223778320735,
          25.902975167432707
         ],
         "y": [
          39.61012050607788,
          35.57213723806243
         ]
        },
        {
         "hoverinfo": "skip",
         "line": {
          "color": "lightblue",
          "width": 1
         },
         "mode": "lines",
         "showlegend": false,
         "type": "scatter",
         "x": [
          84.28525411403474,
          80.04602889686132
         ],
         "y": [
          33.222647103040686,
          35.873867493366795
         ]
        },
        {
         "hoverinfo": "skip",
         "line": {
          "color": "lightblue",
          "width": 1
         },
         "mode": "lines",
         "showlegend": false,
         "type": "scatter",
         "x": [
          23.558741174307723,
          20.158820288981836
         ],
         "y": [
          30.882893101280384,
          27.216759173895184
         ]
        },
        {
         "hoverinfo": "skip",
         "line": {
          "color": "lightblue",
          "width": 1
         },
         "mode": "lines",
         "showlegend": false,
         "type": "scatter",
         "x": [
          87.85893722301256,
          90.35305175456081
         ],
         "y": [
          36.71961565259995,
          41.053135319512734
         ]
        },
        {
         "hoverinfo": "skip",
         "line": {
          "color": "lightblue",
          "width": 1
         },
         "mode": "lines",
         "showlegend": false,
         "type": "scatter",
         "x": [
          25.902975167432707,
          24.118789808773254
         ],
         "y": [
          35.57213723806243,
          34.65593866077064
         ]
        },
        {
         "hoverinfo": "skip",
         "line": {
          "color": "lightblue",
          "width": 1
         },
         "mode": "lines",
         "showlegend": false,
         "type": "scatter",
         "x": [
          85.55066307806048,
          83.6347388070731
         ],
         "y": [
          12.281096437037638,
          9.539789004957289
         ]
        },
        {
         "hoverinfo": "skip",
         "line": {
          "color": "lightblue",
          "width": 1
         },
         "mode": "lines",
         "showlegend": false,
         "type": "scatter",
         "x": [
          20.158820288981836,
          21.92121602316445
         ],
         "y": [
          27.216759173895184,
          22.537660833815664
         ]
        },
        {
         "hoverinfo": "skip",
         "line": {
          "color": "lightblue",
          "width": 1
         },
         "mode": "lines",
         "showlegend": false,
         "type": "scatter",
         "x": [
          90.35305175456081,
          91.56089881669759
         ],
         "y": [
          41.053135319512734,
          45.90505303053047
         ]
        },
        {
         "hoverinfo": "skip",
         "line": {
          "color": "lightblue",
          "width": 1
         },
         "mode": "lines",
         "showlegend": false,
         "type": "scatter",
         "x": [
          21.92121602316445,
          19.243209048499967
         ],
         "y": [
          22.537660833815664,
          18.315306201190833
         ]
        },
        {
         "hoverinfo": "skip",
         "line": {
          "color": "lightblue",
          "width": 1
         },
         "mode": "lines",
         "showlegend": false,
         "type": "scatter",
         "x": [
          91.56089881669759,
          90.65055005504976
         ],
         "y": [
          45.90505303053047,
          50.82148111727864
         ]
        },
        {
         "hoverinfo": "skip",
         "line": {
          "color": "lightblue",
          "width": 1
         },
         "mode": "lines",
         "showlegend": false,
         "type": "scatter",
         "x": [
          21.92121602316445,
          26.793303799037638
         ],
         "y": [
          22.537660833815664,
          23.661387092380032
         ]
        },
        {
         "hoverinfo": "skip",
         "line": {
          "color": "lightblue",
          "width": 1
         },
         "mode": "lines",
         "showlegend": false,
         "type": "scatter",
         "x": [
          90.65055005504976,
          86.92043869033162
         ],
         "y": [
          50.82148111727864,
          54.151086079853116
         ]
        },
        {
         "hoverinfo": "skip",
         "line": {
          "color": "lightblue",
          "width": 1
         },
         "mode": "lines",
         "showlegend": false,
         "type": "scatter",
         "x": [
          19.243209048499967,
          16.261902235188863
         ],
         "y": [
          18.315306201190833,
          14.301354322442808
         ]
        },
        {
         "hoverinfo": "skip",
         "line": {
          "color": "lightblue",
          "width": 1
         },
         "mode": "lines",
         "showlegend": false,
         "type": "scatter",
         "x": [
          86.92043869033162,
          82.75730819722604
         ],
         "y": [
          54.151086079853116,
          56.920263664872614
         ]
        },
        {
         "hoverinfo": "skip",
         "line": {
          "color": "lightblue",
          "width": 1
         },
         "mode": "lines",
         "showlegend": false,
         "type": "scatter",
         "x": [
          26.793303799037638,
          30.589374695213966
         ],
         "y": [
          23.661387092380032,
          20.407182773164187
         ]
        },
        {
         "hoverinfo": "skip",
         "line": {
          "color": "lightblue",
          "width": 1
         },
         "mode": "lines",
         "showlegend": false,
         "type": "scatter",
         "x": [
          90,
          90.41634455004947
         ],
         "y": [
          10,
          14.982635569218775
         ]
        },
        {
         "hoverinfo": "skip",
         "line": {
          "color": "lightblue",
          "width": 1
         },
         "mode": "lines",
         "showlegend": false,
         "type": "scatter",
         "x": [
          30.589374695213966,
          35.32314695570818
         ],
         "y": [
          20.407182773164187,
          18.79740012144519
         ]
        },
        {
         "hoverinfo": "skip",
         "line": {
          "color": "lightblue",
          "width": 1
         },
         "mode": "lines",
         "showlegend": false,
         "type": "scatter",
         "x": [
          90.41634455004947,
          91.5565131095444
         ],
         "y": [
          14.982635569218775,
          19.426370372976965
         ]
        },
        {
         "hoverinfo": "skip",
         "line": {
          "color": "lightblue",
          "width": 1
         },
         "mode": "lines",
         "showlegend": false,
         "type": "scatter",
         "x": [
          16.261902235188863,
          12.190374553164725
         ],
         "y": [
          14.301354322442808,
          17.203536662426146
         ]
        },
        {
         "hoverinfo": "skip",
         "line": {
          "color": "lightblue",
          "width": 1
         },
         "mode": "lines",
         "showlegend": false,
         "type": "scatter",
         "x": [
          84.28525411403474,
          84.85814012176898
         ],
         "y": [
          33.222647103040686,
          34.25186917738491
         ]
        },
        {
         "hoverinfo": "skip",
         "line": {
          "color": "lightblue",
          "width": 1
         },
         "mode": "lines",
         "showlegend": false,
         "type": "scatter",
         "x": [
          30.589374695213966,
          29.342201777985302
         ],
         "y": [
          20.407182773164187,
          15.565224521120772
         ]
        },
        {
         "hoverinfo": "skip",
         "line": {
          "color": "lightblue",
          "width": 1
         },
         "mode": "lines",
         "showlegend": false,
         "type": "scatter",
         "x": [
          82.75730819722604,
          80.41035964579764
         ],
         "y": [
          56.920263664872614,
          61.33521921356709
         ]
        },
        {
         "hoverinfo": "skip",
         "line": {
          "color": "lightblue",
          "width": 1
         },
         "mode": "lines",
         "showlegend": false,
         "type": "scatter",
         "x": [
          25.902975167432707,
          29.009615110593835
         ],
         "y": [
          35.57213723806243,
          36.54144021248618
         ]
        },
        {
         "hoverinfo": "skip",
         "line": {
          "color": "lightblue",
          "width": 1
         },
         "mode": "lines",
         "showlegend": false,
         "type": "scatter",
         "x": [
          80.41035964579764,
          80.3016221495675
         ],
         "y": [
          61.33521921356709,
          66.33403668942212
         ]
        },
        {
         "hoverinfo": "skip",
         "line": {
          "color": "lightblue",
          "width": 1
         },
         "mode": "lines",
         "showlegend": false,
         "type": "scatter",
         "x": [
          24.015223778320735,
          20.4064865532749
         ],
         "y": [
          39.61012050607788,
          43.07090302460869
         ]
        },
        {
         "hoverinfo": "skip",
         "line": {
          "color": "lightblue",
          "width": 1
         },
         "mode": "lines",
         "showlegend": false,
         "type": "scatter",
         "x": [
          89.35543154623238,
          91.11998088270401
         ],
         "y": [
          5.041720912614173,
          3.376481629822903
         ]
        },
        {
         "hoverinfo": "skip",
         "line": {
          "color": "lightblue",
          "width": 1
         },
         "mode": "lines",
         "showlegend": false,
         "type": "scatter",
         "x": [
          29.342201777985302,
          33.30064463088506
         ],
         "y": [
          15.565224521120772,
          12.95055041024985
         ]
        },
        {
         "hoverinfo": "skip",
         "line": {
          "color": "lightblue",
          "width": 1
         },
         "mode": "lines",
         "showlegend": false,
         "type": "scatter",
         "x": [
          80.3016221495675,
          80.73141515652792
         ],
         "y": [
          66.33403668942212,
          71.31553023766324
         ]
        },
        {
         "hoverinfo": "skip",
         "line": {
          "color": "lightblue",
          "width": 1
         },
         "mode": "lines",
         "showlegend": false,
         "type": "scatter",
         "x": [
          33.30064463088506,
          31.505488751124545
         ],
         "y": [
          12.95055041024985,
          12.415530278822207
         ]
        },
        {
         "hoverinfo": "skip",
         "line": {
          "color": "lightblue",
          "width": 1
         },
         "mode": "lines",
         "showlegend": false,
         "type": "scatter",
         "x": [
          90.65055005504976,
          95.64553070920392
         ],
         "y": [
          50.82148111727864,
          50.59749838440485
         ]
        },
        {
         "hoverinfo": "skip",
         "line": {
          "color": "lightblue",
          "width": 1
         },
         "mode": "lines",
         "showlegend": false,
         "type": "scatter",
         "x": [
          33.30064463088506,
          34.63427396327106
         ],
         "y": [
          12.95055041024985,
          8.13168822050011
         ]
        },
        {
         "hoverinfo": "skip",
         "line": {
          "color": "lightblue",
          "width": 1
         },
         "mode": "lines",
         "showlegend": false,
         "type": "scatter",
         "x": [
          80.73141515652792,
          85.65565369339934
         ],
         "y": [
          71.31553023766324,
          72.18263740058507
         ]
        },
        {
         "hoverinfo": "skip",
         "line": {
          "color": "lightblue",
          "width": 1
         },
         "mode": "lines",
         "showlegend": false,
         "type": "scatter",
         "x": [
          35.942353487284244,
          33.548616448605095
         ],
         "y": [
          34.24539188994858,
          34.65031876573422
         ]
        },
        {
         "hoverinfo": "skip",
         "line": {
          "color": "lightblue",
          "width": 1
         },
         "mode": "lines",
         "showlegend": false,
         "type": "scatter",
         "x": [
          85.65565369339934,
          84.73180948626154
         ],
         "y": [
          72.18263740058507,
          77.09654744055709
         ]
        },
        {
         "hoverinfo": "skip",
         "line": {
          "color": "lightblue",
          "width": 1
         },
         "mode": "lines",
         "showlegend": false,
         "type": "scatter",
         "x": [
          35.32314695570818,
          34.48497027106334
         ],
         "y": [
          18.79740012144519,
          21.741074311825336
         ]
        },
        {
         "hoverinfo": "skip",
         "line": {
          "color": "lightblue",
          "width": 1
         },
         "mode": "lines",
         "showlegend": false,
         "type": "scatter",
         "x": [
          91.5565131095444,
          96.44301101296423
         ],
         "y": [
          19.426370372976965,
          20.485680639081032
         ]
        },
        {
         "hoverinfo": "skip",
         "line": {
          "color": "lightblue",
          "width": 1
         },
         "mode": "lines",
         "showlegend": false,
         "type": "scatter",
         "x": [
          19.243209048499967,
          15.49014457817397
         ],
         "y": [
          18.315306201190833,
          20.50774346556744
         ]
        },
        {
         "hoverinfo": "skip",
         "line": {
          "color": "lightblue",
          "width": 1
         },
         "mode": "lines",
         "showlegend": false,
         "type": "scatter",
         "x": [
          89.35543154623238,
          84.63783963635163
         ],
         "y": [
          5.041720912614173,
          3.3851200035755324
         ]
        },
        {
         "hoverinfo": "skip",
         "line": {
          "color": "lightblue",
          "width": 1
         },
         "mode": "lines",
         "showlegend": false,
         "type": "scatter",
         "x": [
          15.49014457817397,
          12.573003692958187
         ],
         "y": [
          20.50774346556744,
          24.56856715735738
         ]
        },
        {
         "hoverinfo": "skip",
         "line": {
          "color": "lightblue",
          "width": 1
         },
         "mode": "lines",
         "showlegend": false,
         "type": "scatter",
         "x": [
          80.3016221495675,
          85.1784571243709
         ],
         "y": [
          66.33403668942212,
          65.23109488291809
         ]
        },
        {
         "hoverinfo": "skip",
         "line": {
          "color": "lightblue",
          "width": 1
         },
         "mode": "lines",
         "showlegend": false,
         "type": "scatter",
         "x": [
          12.573003692958187,
          10.92087479659567
         ],
         "y": [
          24.56856715735738,
          29.287727051851736
         ]
        },
        {
         "hoverinfo": "skip",
         "line": {
          "color": "lightblue",
          "width": 1
         },
         "mode": "lines",
         "showlegend": false,
         "type": "scatter",
         "x": [
          85.65565369339934,
          90.64189320622172
         ],
         "y": [
          72.18263740058507,
          72.55333339566582
         ]
        },
        {
         "hoverinfo": "skip",
         "line": {
          "color": "lightblue",
          "width": 1
         },
         "mode": "lines",
         "showlegend": false,
         "type": "scatter",
         "x": [
          12.190374553164725,
          10.068979460279442
         ],
         "y": [
          17.203536662426146,
          12.675879115760072
         ]
        },
        {
         "hoverinfo": "skip",
         "line": {
          "color": "lightblue",
          "width": 1
         },
         "mode": "lines",
         "showlegend": false,
         "type": "scatter",
         "x": [
          80.3016221495675,
          82.25771213257373
         ],
         "y": [
          66.33403668942212,
          67.24950371891806
         ]
        },
        {
         "hoverinfo": "skip",
         "line": {
          "color": "lightblue",
          "width": 1
         },
         "mode": "lines",
         "showlegend": false,
         "type": "scatter",
         "x": [
          10.92087479659567,
          5.979758799390218
         ],
         "y": [
          29.287727051851736,
          30.052823583121068
         ]
        },
        {
         "hoverinfo": "skip",
         "line": {
          "color": "lightblue",
          "width": 1
         },
         "mode": "lines",
         "showlegend": false,
         "type": "scatter",
         "x": [
          95.64553070920392,
          98.13687448537577
         ],
         "y": [
          50.59749838440485,
          54.69500301946213
         ]
        },
        {
         "hoverinfo": "skip",
         "line": {
          "color": "lightblue",
          "width": 1
         },
         "mode": "lines",
         "showlegend": false,
         "type": "scatter",
         "x": [
          24.015223778320735,
          21.045099972325232
         ],
         "y": [
          39.61012050607788,
          39.26856536088364
         ]
        },
        {
         "hoverinfo": "skip",
         "line": {
          "color": "lightblue",
          "width": 1
         },
         "mode": "lines",
         "showlegend": false,
         "type": "scatter",
         "x": [
          82.75730819722604,
          80.75292104409341
         ],
         "y": [
          56.920263664872614,
          55.67390843975478
         ]
        },
        {
         "hoverinfo": "skip",
         "line": {
          "color": "lightblue",
          "width": 1
         },
         "mode": "lines",
         "showlegend": false,
         "type": "scatter",
         "x": [
          31.505488751124545,
          28.186176259734218
         ],
         "y": [
          12.415530278822207,
          8.676257009254957
         ]
        },
        {
         "hoverinfo": "skip",
         "line": {
          "color": "lightblue",
          "width": 1
         },
         "mode": "lines",
         "showlegend": false,
         "type": "scatter",
         "x": [
          90.41634455004947,
          95.10065281145704
         ],
         "y": [
          14.982635569218775,
          13.9733915118174
         ]
        },
        {
         "hoverinfo": "skip",
         "line": {
          "color": "lightblue",
          "width": 1
         },
         "mode": "lines",
         "showlegend": false,
         "type": "scatter",
         "x": [
          35.32314695570818,
          36.223252079561206
         ],
         "y": [
          18.79740012144519,
          16.957545217727564
         ]
        },
        {
         "hoverinfo": "skip",
         "line": {
          "color": "lightblue",
          "width": 1
         },
         "mode": "lines",
         "showlegend": false,
         "type": "scatter",
         "x": [
          98.13687448537577,
          95.31928642527684
         ],
         "y": [
          54.69500301946213,
          55.987754823451674
         ]
        },
        {
         "hoverinfo": "skip",
         "line": {
          "color": "lightblue",
          "width": 1
         },
         "mode": "lines",
         "showlegend": false,
         "type": "scatter",
         "x": [
          10.068979460279442,
          10.131782322661486
         ],
         "y": [
          12.675879115760072,
          14.496457624103677
         ]
        },
        {
         "hoverinfo": "skip",
         "line": {
          "color": "lightblue",
          "width": 1
         },
         "mode": "lines",
         "showlegend": false,
         "type": "scatter",
         "x": [
          91.11998088270401,
          89.549984934753
         ],
         "y": [
          3.376481629822903,
          1.8182108815446574
         ]
        },
        {
         "hoverinfo": "skip",
         "line": {
          "color": "lightblue",
          "width": 1
         },
         "mode": "lines",
         "showlegend": false,
         "type": "scatter",
         "x": [
          10.068979460279442,
          10.274902397539972
         ],
         "y": [
          12.675879115760072,
          7.6801213410165845
         ]
        },
        {
         "hoverinfo": "skip",
         "line": {
          "color": "lightblue",
          "width": 1
         },
         "mode": "lines",
         "showlegend": false,
         "type": "scatter",
         "x": [
          90.35305175456081,
          94.38909193608482
         ],
         "y": [
          41.053135319512734,
          38.10180008726215
         ]
        },
        {
         "hoverinfo": "skip",
         "line": {
          "color": "lightblue",
          "width": 1
         },
         "mode": "lines",
         "showlegend": false,
         "type": "scatter",
         "x": [
          5.979758799390218,
          6.223469191623491
         ],
         "y": [
          30.052823583121068,
          25.058766590583087
         ]
        },
        {
         "hoverinfo": "skip",
         "line": {
          "color": "lightblue",
          "width": 1
         },
         "mode": "lines",
         "showlegend": false,
         "type": "scatter",
         "x": [
          95.31928642527684,
          94.05996444551769
         ],
         "y": [
          55.987754823451674,
          60.82656750336557
         ]
        },
        {
         "hoverinfo": "skip",
         "line": {
          "color": "lightblue",
          "width": 1
         },
         "mode": "lines",
         "showlegend": false,
         "type": "scatter",
         "x": [
          34.63427396327106,
          32.884057510531356
         ],
         "y": [
          8.13168822050011,
          3.448020601148878
         ]
        },
        {
         "hoverinfo": "skip",
         "line": {
          "color": "lightblue",
          "width": 1
         },
         "mode": "lines",
         "showlegend": false,
         "type": "scatter",
         "x": [
          83.6347388070731,
          80.5090806879211
         ],
         "y": [
          9.539789004957289,
          7.043680680217623
         ]
        },
        {
         "hoverinfo": "skip",
         "line": {
          "color": "lightblue",
          "width": 1
         },
         "mode": "lines",
         "showlegend": false,
         "type": "scatter",
         "x": [
          28.186176259734218,
          24.44308852053414
         ],
         "y": [
          8.676257009254957,
          5.361246575387509
         ]
        },
        {
         "hoverinfo": "skip",
         "line": {
          "color": "lightblue",
          "width": 1
         },
         "mode": "lines",
         "showlegend": false,
         "type": "scatter",
         "x": [
          94.05996444551769,
          94.78678875360742
         ],
         "y": [
          60.82656750336557,
          63.88044481245463
         ]
        },
        {
         "hoverinfo": "skip",
         "line": {
          "color": "lightblue",
          "width": 1
         },
         "mode": "lines",
         "showlegend": false,
         "type": "scatter",
         "x": [
          28.186176259734218,
          27.158876305245926
         ],
         "y": [
          8.676257009254957,
          11.398054008432034
         ]
        },
        {
         "hoverinfo": "skip",
         "line": {
          "color": "lightblue",
          "width": 1
         },
         "mode": "lines",
         "showlegend": false,
         "type": "scatter",
         "x": [
          90.65055005504976,
          88.65742466671604
         ],
         "y": [
          50.82148111727864,
          48.55120220748847
         ]
        },
        {
         "hoverinfo": "skip",
         "line": {
          "color": "lightblue",
          "width": 1
         },
         "mode": "lines",
         "showlegend": false,
         "type": "scatter",
         "x": [
          16.261902235188863,
          20.01166179356292
         ],
         "y": [
          14.301354322442808,
          14.118813811701791
         ]
        },
        {
         "hoverinfo": "skip",
         "line": {
          "color": "lightblue",
          "width": 1
         },
         "mode": "lines",
         "showlegend": false,
         "type": "scatter",
         "x": [
          89.35543154623238,
          88.8940779466591
         ],
         "y": [
          5.041720912614173,
          7.319204175248539
         ]
        },
        {
         "hoverinfo": "skip",
         "line": {
          "color": "lightblue",
          "width": 1
         },
         "mode": "lines",
         "showlegend": false,
         "type": "scatter",
         "x": [
          10.92087479659567,
          8.759261267379648
         ],
         "y": [
          29.287727051851736,
          29.870512665886086
         ]
        },
        {
         "hoverinfo": "skip",
         "line": {
          "color": "lightblue",
          "width": 1
         },
         "mode": "lines",
         "showlegend": false,
         "type": "scatter",
         "x": [
          80.41035964579764,
          80.47610858406429
         ],
         "y": [
          61.33521921356709,
          59.671457163282085
         ]
        },
        {
         "hoverinfo": "skip",
         "line": {
          "color": "lightblue",
          "width": 1
         },
         "mode": "lines",
         "showlegend": false,
         "type": "scatter",
         "x": [
          28.186176259734218,
          26.630639644013378
         ],
         "y": [
          8.676257009254957,
          9.527465066881458
         ]
        },
        {
         "hoverinfo": "skip",
         "line": {
          "color": "lightblue",
          "width": 1
         },
         "mode": "lines",
         "showlegend": false,
         "type": "scatter",
         "x": [
          94.38909193608482,
          94.47758942649702
         ],
         "y": [
          38.10180008726215,
          41.6361812134749
         ]
        },
        {
         "hoverinfo": "skip",
         "line": {
          "color": "lightblue",
          "width": 1
         },
         "mode": "lines",
         "showlegend": false,
         "type": "scatter",
         "x": [
          23.558741174307723,
          23.400441257353066
         ],
         "y": [
          30.882893101280384,
          32.77555387020915
         ]
        },
        {
         "hoverinfo": "skip",
         "line": {
          "color": "lightblue",
          "width": 1
         },
         "mode": "lines",
         "showlegend": false,
         "type": "scatter",
         "x": [
          84.31850041118848,
          86.67955511696506
         ],
         "y": [
          24.029534575429754,
          26.23260068725609
         ]
        },
        {
         "hoverinfo": "skip",
         "line": {
          "color": "lightblue",
          "width": 1
         },
         "mode": "lines",
         "showlegend": false,
         "type": "scatter",
         "x": [
          10.274902397539972,
          6.24320989190356
         ],
         "y": [
          7.6801213410165845,
          4.72284970317281
         ]
        },
        {
         "hoverinfo": "skip",
         "line": {
          "color": "lightblue",
          "width": 1
         },
         "mode": "lines",
         "showlegend": false,
         "type": "scatter",
         "x": [
          86.92043869033162,
          85.83916520152096
         ],
         "y": [
          54.151086079853116,
          51.59904820256477
         ]
        },
        {
         "hoverinfo": "skip",
         "line": {
          "color": "lightblue",
          "width": 1
         },
         "mode": "lines",
         "showlegend": false,
         "type": "scatter",
         "x": [
          23.558741174307723,
          22.325679763730133
         ],
         "y": [
          30.882893101280384,
          28.70131991147066
         ]
        },
        {
         "hoverinfo": "skip",
         "line": {
          "color": "lightblue",
          "width": 1
         },
         "mode": "lines",
         "showlegend": false,
         "type": "scatter",
         "x": [
          84.73180948626154,
          84.81052040699022
         ],
         "y": [
          77.09654744055709,
          78.39057887681527
         ]
        },
        {
         "hoverinfo": "skip",
         "line": {
          "color": "lightblue",
          "width": 1
         },
         "mode": "lines",
         "showlegend": false,
         "type": "scatter",
         "x": [
          6.223469191623491,
          6.609440999663607
         ],
         "y": [
          25.058766590583087,
          24.58634763518699
         ]
        },
        {
         "hoverinfo": "skip",
         "line": {
          "color": "lightblue",
          "width": 1
         },
         "mode": "lines",
         "showlegend": false,
         "type": "scatter",
         "x": [
          90,
          88.82588619012776
         ],
         "y": [
          10,
          9.880802362642783
         ]
        },
        {
         "hoverinfo": "skip",
         "line": {
          "color": "lightblue",
          "width": 1
         },
         "mode": "lines",
         "showlegend": false,
         "type": "scatter",
         "x": [
          24.44308852053414,
          27.91070569823043
         ],
         "y": [
          5.361246575387509,
          3.555394875986595
         ]
        },
        {
         "hoverinfo": "skip",
         "line": {
          "color": "lightblue",
          "width": 1
         },
         "mode": "lines",
         "showlegend": false,
         "type": "scatter",
         "x": [
          94.78678875360742,
          94.91488472137839
         ],
         "y": [
          63.88044481245463,
          68.28767968181793
         ]
        },
        {
         "hoverinfo": "skip",
         "line": {
          "color": "lightblue",
          "width": 1
         },
         "mode": "lines",
         "showlegend": false,
         "type": "scatter",
         "x": [
          24.015223778320735,
          25.538248719979816
         ],
         "y": [
          39.61012050607788,
          38.72378980192606
         ]
        },
        {
         "hoverinfo": "skip",
         "line": {
          "color": "lightblue",
          "width": 1
         },
         "mode": "lines",
         "showlegend": false,
         "type": "scatter",
         "x": [
          91.56089881669759,
          93.68313508721047
         ],
         "y": [
          45.90505303053047,
          45.22014256341911
         ]
        },
        {
         "hoverinfo": "skip",
         "line": {
          "color": "lightblue",
          "width": 1
         },
         "mode": "lines",
         "showlegend": false,
         "type": "scatter",
         "x": [
          10.068979460279442,
          5.679769687051194
         ],
         "y": [
          12.675879115760072,
          10.281127027004821
         ]
        },
        {
         "hoverinfo": "skip",
         "line": {
          "color": "lightblue",
          "width": 1
         },
         "mode": "lines",
         "showlegend": false,
         "type": "scatter",
         "x": [
          82.25771213257373,
          82.35039161574808
         ],
         "y": [
          67.24950371891806,
          65.75912373826927
         ]
        },
        {
         "hoverinfo": "skip",
         "line": {
          "color": "lightblue",
          "width": 1
         },
         "mode": "lines",
         "showlegend": false,
         "type": "scatter",
         "x": [
          24.44308852053414,
          23.188912636676374
         ],
         "y": [
          5.361246575387509,
          5.480804593839494
         ]
        },
        {
         "hoverinfo": "skip",
         "line": {
          "color": "lightblue",
          "width": 1
         },
         "mode": "lines",
         "showlegend": false,
         "type": "scatter",
         "x": [
          94.47758942649702,
          93.42536365612753
         ],
         "y": [
          41.6361812134749,
          41.84693161175538
         ]
        },
        {
         "hoverinfo": "skip",
         "line": {
          "color": "lightblue",
          "width": 1
         },
         "mode": "lines",
         "showlegend": false,
         "type": "scatter",
         "x": [
          5.979758799390218,
          3.8015942201442887
         ],
         "y": [
          30.052823583121068,
          28.10863285619328
         ]
        },
        {
         "hoverinfo": "skip",
         "line": {
          "color": "lightblue",
          "width": 1
         },
         "mode": "lines",
         "showlegend": false,
         "type": "scatter",
         "x": [
          94.05996444551769,
          94.18780203841992
         ],
         "y": [
          60.82656750336557,
          60.37892964285001
         ]
        },
        {
         "hoverinfo": "skip",
         "line": {
          "color": "lightblue",
          "width": 1
         },
         "mode": "lines",
         "showlegend": false,
         "type": "scatter",
         "x": [
          33.850585252353085,
          36.579529344121674
         ],
         "y": [
          38.786812994771715,
          41.371517065274176
         ]
        },
        {
         "hoverinfo": "skip",
         "line": {
          "color": "lightblue",
          "width": 1
         },
         "mode": "lines",
         "showlegend": false,
         "type": "scatter",
         "x": [
          84.31850041118848,
          82.00930831328054
         ],
         "y": [
          24.029534575429754,
          24.632150734967585
         ]
        },
        {
         "hoverinfo": "skip",
         "line": {
          "color": "lightblue",
          "width": 1
         },
         "mode": "lines",
         "showlegend": false,
         "type": "scatter",
         "x": [
          26.793303799037638,
          27.14852965330854
         ],
         "y": [
          23.661387092380032,
          21.158217762730725
         ]
        },
        {
         "hoverinfo": "skip",
         "line": {
          "color": "lightblue",
          "width": 1
         },
         "mode": "lines",
         "showlegend": false,
         "type": "scatter",
         "x": [
          91.5565131095444,
          92.70256493252957
         ],
         "y": [
          19.426370372976965,
          21.921005890485567
         ]
        },
        {
         "hoverinfo": "skip",
         "line": {
          "color": "lightblue",
          "width": 1
         },
         "mode": "lines",
         "showlegend": false,
         "type": "scatter",
         "x": [
          34.48497027106334,
          34.776539926866356
         ],
         "y": [
          21.741074311825336,
          25.086281280138557
         ]
        },
        {
         "hoverinfo": "skip",
         "line": {
          "color": "lightblue",
          "width": 1
         },
         "mode": "lines",
         "showlegend": false,
         "type": "scatter",
         "x": [
          93.42536365612753,
          92.36225276296669
         ],
         "y": [
          41.84693161175538,
          41.05111282394639
         ]
        },
        {
         "hoverinfo": "skip",
         "line": {
          "color": "lightblue",
          "width": 1
         },
         "mode": "lines",
         "showlegend": false,
         "type": "scatter",
         "x": [
          16.261902235188863,
          17.20866983420476
         ],
         "y": [
          14.301354322442808,
          12.729963088224384
         ]
        },
        {
         "hoverinfo": "skip",
         "line": {
          "color": "lightblue",
          "width": 1
         },
         "mode": "lines",
         "showlegend": false,
         "type": "scatter",
         "x": [
          90.64189320622172,
          93.13736772523428
         ],
         "y": [
          72.55333339566582,
          76.8860700510557
         ]
        },
        {
         "hoverinfo": "skip",
         "line": {
          "color": "lightblue",
          "width": 1
         },
         "mode": "lines",
         "showlegend": false,
         "type": "scatter",
         "x": [
          22.325679763730133,
          22.2980339901246
         ],
         "y": [
          28.70131991147066,
          28.619734501901263
         ]
        },
        {
         "hoverinfo": "skip",
         "line": {
          "color": "lightblue",
          "width": 1
         },
         "mode": "lines",
         "showlegend": false,
         "type": "scatter",
         "x": [
          84.28525411403474,
          83.11088594399175
         ],
         "y": [
          33.222647103040686,
          31.2144196803677
         ]
        },
        {
         "hoverinfo": "skip",
         "line": {
          "color": "lightblue",
          "width": 1
         },
         "mode": "lines",
         "showlegend": false,
         "type": "scatter",
         "x": [
          6.609440999663607,
          3.4175353536973967
         ],
         "y": [
          24.58634763518699,
          20.73774550619924
         ]
        },
        {
         "hoverinfo": "skip",
         "line": {
          "color": "lightblue",
          "width": 1
         },
         "mode": "lines",
         "showlegend": false,
         "type": "scatter",
         "x": [
          86.92043869033162,
          87.59217490747969
         ],
         "y": [
          54.151086079853116,
          57.52675260564667
         ]
        },
        {
         "hoverinfo": "skip",
         "line": {
          "color": "lightblue",
          "width": 1
         },
         "mode": "lines",
         "showlegend": false,
         "type": "scatter",
         "x": [
          5.979758799390218,
          4.7610211343468585
         ],
         "y": [
          30.052823583121068,
          34.9020171762667
         ]
        },
        {
         "hoverinfo": "skip",
         "line": {
          "color": "lightblue",
          "width": 1
         },
         "mode": "lines",
         "showlegend": false,
         "type": "scatter",
         "x": [
          94.91488472137839,
          96.56077762191605
         ],
         "y": [
          68.28767968181793,
          73.00901811069166
         ]
        },
        {
         "hoverinfo": "skip",
         "line": {
          "color": "lightblue",
          "width": 1
         },
         "mode": "lines",
         "showlegend": false,
         "type": "scatter",
         "x": [
          24.015223778320735,
          24.21312479168778
         ],
         "y": [
          39.61012050607788,
          38.69081678277841
         ]
        },
        {
         "hoverinfo": "skip",
         "line": {
          "color": "lightblue",
          "width": 1
         },
         "mode": "lines",
         "showlegend": false,
         "type": "scatter",
         "x": [
          82.64426250568935,
          85.73290694277443
         ],
         "y": [
          19.318173048674467,
          19.08933777032673
         ]
        },
        {
         "hoverinfo": "skip",
         "line": {
          "color": "lightblue",
          "width": 1
         },
         "mode": "lines",
         "showlegend": false,
         "type": "scatter",
         "x": [
          15.49014457817397,
          14.263843113704922
         ],
         "y": [
          20.50774346556744,
          19.216371342381343
         ]
        },
        {
         "hoverinfo": "skip",
         "line": {
          "color": "lightblue",
          "width": 1
         },
         "mode": "lines",
         "showlegend": false,
         "type": "scatter",
         "x": [
          88.82588619012776,
          87.53561407098212
         ],
         "y": [
          9.880802362642783,
          8.816875986409912
         ]
        },
        {
         "hoverinfo": "skip",
         "line": {
          "color": "lightblue",
          "width": 1
         },
         "mode": "lines",
         "showlegend": false,
         "type": "scatter",
         "x": [
          29.342201777985302,
          31.306084092407794
         ],
         "y": [
          15.565224521120772,
          15.903783693299623
         ]
        },
        {
         "hoverinfo": "skip",
         "line": {
          "color": "lightblue",
          "width": 1
         },
         "mode": "lines",
         "showlegend": false,
         "type": "scatter",
         "x": [
          82.35039161574808,
          82.10506669215722
         ],
         "y": [
          65.75912373826927,
          66.07841749971185
         ]
        },
        {
         "hoverinfo": "skip",
         "line": {
          "color": "lightblue",
          "width": 1
         },
         "mode": "lines",
         "showlegend": false,
         "type": "scatter",
         "x": [
          15.49014457817397,
          15.536596448264428
         ],
         "y": [
          20.50774346556744,
          21.106795774651268
         ]
        },
        {
         "hoverinfo": "skip",
         "line": {
          "color": "lightblue",
          "width": 1
         },
         "mode": "lines",
         "showlegend": false,
         "type": "scatter",
         "x": [
          84.73180948626154,
          86.37013268316821
         ],
         "y": [
          77.09654744055709,
          76.20434790891515
         ]
        },
        {
         "hoverinfo": "skip",
         "line": {
          "color": "lightblue",
          "width": 1
         },
         "mode": "lines",
         "showlegend": false,
         "type": "scatter",
         "x": [
          26.630639644013378,
          27.115979928128798
         ],
         "y": [
          9.527465066881458,
          9.627394967885383
         ]
        },
        {
         "hoverinfo": "skip",
         "line": {
          "color": "lightblue",
          "width": 1
         },
         "mode": "lines",
         "showlegend": false,
         "type": "scatter",
         "x": [
          86.37013268316821,
          87.88218286940862
         ],
         "y": [
          76.20434790891515,
          76.32603012026813
         ]
        },
        {
         "hoverinfo": "skip",
         "line": {
          "color": "lightblue",
          "width": 1
         },
         "mode": "lines",
         "showlegend": false,
         "type": "scatter",
         "x": [
          14.263843113704922,
          14.73873022853498
         ],
         "y": [
          19.216371342381343,
          16.94784287428711
         ]
        },
        {
         "hoverinfo": "skip",
         "line": {
          "color": "lightblue",
          "width": 1
         },
         "mode": "lines",
         "showlegend": false,
         "type": "scatter",
         "x": [
          87.88218286940862,
          89.60758188529225
         ],
         "y": [
          76.32603012026813,
          77.03886819122381
         ]
        },
        {
         "hoverinfo": "skip",
         "line": {
          "color": "lightblue",
          "width": 1
         },
         "mode": "lines",
         "showlegend": false,
         "type": "scatter",
         "x": [
          26.630639644013378,
          24.598167445434882
         ],
         "y": [
          9.527465066881458,
          9.908725272307517
         ]
        },
        {
         "hoverinfo": "skip",
         "line": {
          "color": "lightblue",
          "width": 1
         },
         "mode": "lines",
         "showlegend": false,
         "type": "scatter",
         "x": [
          92.70256493252957,
          94.66649197845703
         ],
         "y": [
          21.921005890485567,
          26.51915666642524
         ]
        },
        {
         "hoverinfo": "skip",
         "line": {
          "color": "lightblue",
          "width": 1
         },
         "mode": "lines",
         "showlegend": false,
         "type": "scatter",
         "x": [
          10.131782322661486,
          12.423469308810054
         ],
         "y": [
          14.496457624103677,
          13.740145972982177
         ]
        },
        {
         "hoverinfo": "skip",
         "line": {
          "color": "lightblue",
          "width": 1
         },
         "mode": "lines",
         "showlegend": false,
         "type": "scatter",
         "x": [
          81.10132615612096,
          80.05084620148747
         ],
         "y": [
          14.562192874075276,
          12.084122783564466
         ]
        },
        {
         "hoverinfo": "skip",
         "line": {
          "color": "lightblue",
          "width": 1
         },
         "mode": "lines",
         "showlegend": false,
         "type": "scatter",
         "x": [
          33.30064463088506,
          34.02916455086458
         ],
         "y": [
          12.95055041024985,
          14.69039076537575
         ]
        },
        {
         "hoverinfo": "skip",
         "line": {
          "color": "lightblue",
          "width": 1
         },
         "mode": "lines",
         "showlegend": false,
         "type": "scatter",
         "x": [
          94.18780203841992,
          93.71929251776093
         ],
         "y": [
          60.37892964285001,
          59.830921434418535
         ]
        },
        {
         "hoverinfo": "skip",
         "line": {
          "color": "lightblue",
          "width": 1
         },
         "mode": "lines",
         "showlegend": false,
         "type": "scatter",
         "x": [
          22.2980339901246,
          25.478967011912346
         ],
         "y": [
          28.619734501901263,
          27.324276618243214
         ]
        },
        {
         "hoverinfo": "skip",
         "line": {
          "color": "lightblue",
          "width": 1
         },
         "mode": "lines",
         "showlegend": false,
         "type": "scatter",
         "x": [
          94.38909193608482,
          92.50081543157883
         ],
         "y": [
          38.10180008726215,
          38.24507038601338
         ]
        },
        {
         "hoverinfo": "skip",
         "line": {
          "color": "lightblue",
          "width": 1
         },
         "mode": "lines",
         "showlegend": false,
         "type": "scatter",
         "x": [
          35.942353487284244,
          34.94072199044898
         ],
         "y": [
          34.24539188994858,
          30.781604592547218
         ]
        },
        {
         "hoverinfo": "skip",
         "line": {
          "color": "lightblue",
          "width": 1
         },
         "mode": "lines",
         "showlegend": false,
         "type": "scatter",
         "x": [
          82.64426250568935,
          83.57338971662149
         ],
         "y": [
          19.318173048674467,
          21.412758242518148
         ]
        },
        {
         "hoverinfo": "skip",
         "line": {
          "color": "lightblue",
          "width": 1
         },
         "mode": "lines",
         "showlegend": false,
         "type": "scatter",
         "x": [
          6.24320989190356,
          2.7161345299305806
         ],
         "y": [
          4.72284970317281,
          4.05932420370827
         ]
        },
        {
         "hoverinfo": "skip",
         "line": {
          "color": "lightblue",
          "width": 1
         },
         "mode": "lines",
         "showlegend": false,
         "type": "scatter",
         "x": [
          87.59217490747969,
          87.58485824159945
         ],
         "y": [
          57.52675260564667,
          55.88177442023782
         ]
        },
        {
         "hoverinfo": "skip",
         "line": {
          "color": "lightblue",
          "width": 1
         },
         "mode": "lines",
         "showlegend": false,
         "type": "scatter",
         "x": [
          10.92087479659567,
          11.550583447017736
         ],
         "y": [
          29.287727051851736,
          30.76766619861876
         ]
        },
        {
         "hoverinfo": "skip",
         "line": {
          "color": "lightblue",
          "width": 1
         },
         "mode": "lines",
         "showlegend": false,
         "type": "scatter",
         "x": [
          93.13736772523428,
          93.40575293057945
         ],
         "y": [
          76.8860700510557,
          79.27983223917452
         ]
        },
        {
         "hoverinfo": "skip",
         "line": {
          "color": "lightblue",
          "width": 1
         },
         "mode": "lines",
         "showlegend": false,
         "type": "scatter",
         "x": [
          12.573003692958187,
          13.495915854936014
         ],
         "y": [
          24.56856715735738,
          24.237772172059145
         ]
        },
        {
         "hoverinfo": "skip",
         "line": {
          "color": "lightblue",
          "width": 1
         },
         "mode": "lines",
         "showlegend": false,
         "type": "scatter",
         "x": [
          81.10132615612096,
          83.47303667042381
         ],
         "y": [
          14.562192874075276,
          14.584197240400155
         ]
        },
        {
         "hoverinfo": "skip",
         "line": {
          "color": "lightblue",
          "width": 1
         },
         "mode": "lines",
         "showlegend": false,
         "type": "scatter",
         "x": [
          29.009615110593835,
          28.19039751651651
         ],
         "y": [
          36.54144021248618,
          34.293962609412496
         ]
        },
        {
         "hoverinfo": "skip",
         "line": {
          "color": "lightblue",
          "width": 1
         },
         "mode": "lines",
         "showlegend": false,
         "type": "scatter",
         "x": [
          94.66649197845703,
          95.71116486674704
         ],
         "y": [
          26.51915666642524,
          31.408804767922096
         ]
        },
        {
         "hoverinfo": "skip",
         "line": {
          "color": "lightblue",
          "width": 1
         },
         "mode": "lines",
         "showlegend": false,
         "type": "scatter",
         "x": [
          34.02916455086458,
          35.65775835984715
         ],
         "y": [
          14.69039076537575,
          13.689770147098656
         ]
        },
        {
         "hoverinfo": "skip",
         "line": {
          "color": "lightblue",
          "width": 1
         },
         "mode": "lines",
         "showlegend": false,
         "type": "scatter",
         "x": [
          85.1784571243709,
          88.71857019509727
         ],
         "y": [
          65.23109488291809,
          64.08776899647232
         ]
        },
        {
         "hoverinfo": "skip",
         "line": {
          "color": "lightblue",
          "width": 1
         },
         "mode": "lines",
         "showlegend": false,
         "type": "scatter",
         "x": [
          6.24320989190356,
          10.187817922711798
         ],
         "y": [
          4.72284970317281,
          1.6503804220760636
         ]
        },
        {
         "hoverinfo": "skip",
         "line": {
          "color": "lightblue",
          "width": 1
         },
         "mode": "lines",
         "showlegend": false,
         "type": "scatter",
         "x": [
          93.71929251776093,
          93.68104857559291
         ],
         "y": [
          59.830921434418535,
          59.64419437738988
         ]
        },
        {
         "hoverinfo": "skip",
         "line": {
          "color": "lightblue",
          "width": 1
         },
         "mode": "lines",
         "showlegend": false,
         "type": "scatter",
         "x": [
          6.223469191623491,
          3.0620858401822826
         ],
         "y": [
          25.058766590583087,
          24.46790390724519
         ]
        },
        {
         "hoverinfo": "skip",
         "line": {
          "color": "lightblue",
          "width": 1
         },
         "mode": "lines",
         "showlegend": false,
         "type": "scatter",
         "x": [
          93.40575293057945,
          92.8272378218053
         ],
         "y": [
          79.27983223917452,
          84.24625149945854
         ]
        },
        {
         "hoverinfo": "skip",
         "line": {
          "color": "lightblue",
          "width": 1
         },
         "mode": "lines",
         "showlegend": false,
         "type": "scatter",
         "x": [
          6.609440999663607,
          6.973373135776784
         ],
         "y": [
          24.58634763518699,
          23.25998661582185
         ]
        },
        {
         "hoverinfo": "skip",
         "line": {
          "color": "lightblue",
          "width": 1
         },
         "mode": "lines",
         "showlegend": false,
         "type": "scatter",
         "x": [
          80.73141515652792,
          80.38410784138071
         ],
         "y": [
          71.31553023766324,
          69.32583146317954
         ]
        },
        {
         "hoverinfo": "skip",
         "line": {
          "color": "lightblue",
          "width": 1
         },
         "mode": "lines",
         "showlegend": false,
         "type": "scatter",
         "x": [
          28.186176259734218,
          28.628604902253574
         ],
         "y": [
          8.676257009254957,
          9.986736428461828
         ]
        },
        {
         "hoverinfo": "skip",
         "line": {
          "color": "lightblue",
          "width": 1
         },
         "mode": "lines",
         "showlegend": false,
         "type": "scatter",
         "x": [
          92.8272378218053,
          94.98413874590682
         ],
         "y": [
          84.24625149945854,
          88.75710268339378
         ]
        },
        {
         "hoverinfo": "skip",
         "line": {
          "color": "lightblue",
          "width": 1
         },
         "mode": "lines",
         "showlegend": false,
         "type": "scatter",
         "x": [
          5.679769687051194,
          4.60726246689207
         ],
         "y": [
          10.281127027004821,
          13.757852557607142
         ]
        },
        {
         "hoverinfo": "skip",
         "line": {
          "color": "lightblue",
          "width": 1
         },
         "mode": "lines",
         "showlegend": false,
         "type": "scatter",
         "x": [
          82.25771213257373,
          82.47062493894187
         ],
         "y": [
          67.24950371891806,
          69.30003727840688
         ]
        },
        {
         "hoverinfo": "skip",
         "line": {
          "color": "lightblue",
          "width": 1
         },
         "mode": "lines",
         "showlegend": false,
         "type": "scatter",
         "x": [
          11.550583447017736,
          14.437055515187836
         ],
         "y": [
          30.76766619861876,
          33.55728095065427
         ]
        },
        {
         "hoverinfo": "skip",
         "line": {
          "color": "lightblue",
          "width": 1
         },
         "mode": "lines",
         "showlegend": false,
         "type": "scatter",
         "x": [
          87.85893722301256,
          85.92665612533867
         ],
         "y": [
          36.71961565259995,
          36.29932042240045
         ]
        },
        {
         "hoverinfo": "skip",
         "line": {
          "color": "lightblue",
          "width": 1
         },
         "mode": "lines",
         "showlegend": false,
         "type": "scatter",
         "x": [
          2.7161345299305806,
          4.6247208663426465
         ],
         "y": [
          4.05932420370827,
          2.6976367583427807
         ]
        },
        {
         "hoverinfo": "skip",
         "line": {
          "color": "lightblue",
          "width": 1
         },
         "mode": "lines",
         "showlegend": false,
         "type": "scatter",
         "x": [
          84.28525411403474,
          86.98233943718398
         ],
         "y": [
          33.222647103040686,
          30.71606786940533
         ]
        },
        {
         "hoverinfo": "skip",
         "line": {
          "color": "lightblue",
          "width": 1
         },
         "mode": "lines",
         "showlegend": false,
         "type": "scatter",
         "x": [
          8.759261267379648,
          9.21560656214011
         ],
         "y": [
          29.870512665886086,
          30.79701188552647
         ]
        },
        {
         "hoverinfo": "skip",
         "line": {
          "color": "lightblue",
          "width": 1
         },
         "mode": "lines",
         "showlegend": false,
         "type": "scatter",
         "x": [
          88.65742466671604,
          84.27641026330676
         ],
         "y": [
          48.55120220748847,
          46.141490026102396
         ]
        },
        {
         "hoverinfo": "skip",
         "line": {
          "color": "lightblue",
          "width": 1
         },
         "mode": "lines",
         "showlegend": false,
         "type": "scatter",
         "x": [
          29,
          27.679807974767424
         ],
         "y": [
          40,
          41.31725914970552
         ]
        },
        {
         "hoverinfo": "skip",
         "line": {
          "color": "lightblue",
          "width": 1
         },
         "mode": "lines",
         "showlegend": false,
         "type": "scatter",
         "x": [
          92.50081543157883,
          92.83082057154976
         ],
         "y": [
          38.24507038601338,
          38.832831949497795
         ]
        },
        {
         "hoverinfo": "skip",
         "line": {
          "color": "lightblue",
          "width": 1
         },
         "mode": "lines",
         "showlegend": false,
         "type": "scatter",
         "x": [
          5.679769687051194,
          6.1833198403911105
         ],
         "y": [
          10.281127027004821,
          11.518149179444503
         ]
        },
        {
         "hoverinfo": "skip",
         "line": {
          "color": "lightblue",
          "width": 1
         },
         "mode": "lines",
         "showlegend": false,
         "type": "scatter",
         "x": [
          94.98413874590682,
          99.23438964206926
         ],
         "y": [
          88.75710268339378,
          87.89059519773035
         ]
        },
        {
         "hoverinfo": "skip",
         "line": {
          "color": "lightblue",
          "width": 1
         },
         "mode": "lines",
         "showlegend": false,
         "type": "scatter",
         "x": [
          17.20866983420476,
          18.616931846323382
         ],
         "y": [
          12.729963088224384,
          8.319994068285375
         ]
        },
        {
         "hoverinfo": "skip",
         "line": {
          "color": "lightblue",
          "width": 1
         },
         "mode": "lines",
         "showlegend": false,
         "type": "scatter",
         "x": [
          91.11998088270401,
          95.8828321048626
         ],
         "y": [
          3.376481629822903,
          1.854887651265414
         ]
        },
        {
         "hoverinfo": "skip",
         "line": {
          "color": "lightblue",
          "width": 1
         },
         "mode": "lines",
         "showlegend": false,
         "type": "scatter",
         "x": [
          10.187817922711798,
          13.791579371359486
         ],
         "y": [
          1.6503804220760636,
          0.2984951246732592
         ]
        },
        {
         "hoverinfo": "skip",
         "line": {
          "color": "lightblue",
          "width": 1
         },
         "mode": "lines",
         "showlegend": false,
         "type": "scatter",
         "x": [
          85.83916520152096,
          87.74750681081439
         ],
         "y": [
          51.59904820256477,
          52.035320191554014
         ]
        },
        {
         "hoverinfo": "skip",
         "line": {
          "color": "lightblue",
          "width": 1
         },
         "mode": "lines",
         "showlegend": false,
         "type": "scatter",
         "x": [
          21.92121602316445,
          21.068376272175804
         ],
         "y": [
          22.537660833815664,
          23.68511868428278
         ]
        },
        {
         "hoverinfo": "skip",
         "line": {
          "color": "lightblue",
          "width": 1
         },
         "mode": "lines",
         "showlegend": false,
         "type": "scatter",
         "x": [
          90.64189320622172,
          91.63826686285205
         ],
         "y": [
          72.55333339566582,
          70.19657460013865
         ]
        },
        {
         "hoverinfo": "skip",
         "line": {
          "color": "lightblue",
          "width": 1
         },
         "mode": "lines",
         "showlegend": false,
         "type": "scatter",
         "x": [
          6.609440999663607,
          8.536099554596522
         ],
         "y": [
          24.58634763518699,
          24.427469905352737
         ]
        },
        {
         "hoverinfo": "skip",
         "line": {
          "color": "lightblue",
          "width": 1
         },
         "mode": "lines",
         "showlegend": false,
         "type": "scatter",
         "x": [
          84.28525411403474,
          83.79533980087545
         ],
         "y": [
          33.222647103040686,
          32.354614032551986
         ]
        },
        {
         "hoverinfo": "skip",
         "line": {
          "color": "lightblue",
          "width": 1
         },
         "mode": "lines",
         "showlegend": false,
         "type": "scatter",
         "x": [
          20.4064865532749,
          24.26031479096391
         ],
         "y": [
          43.07090302460869,
          45.750664000437084
         ]
        },
        {
         "hoverinfo": "skip",
         "line": {
          "color": "lightblue",
          "width": 1
         },
         "mode": "lines",
         "showlegend": false,
         "type": "scatter",
         "x": [
          94.98413874590682,
          91.52001108321791
         ],
         "y": [
          88.75710268339378,
          92.36262893299917
         ]
        },
        {
         "hoverinfo": "skip",
         "line": {
          "color": "lightblue",
          "width": 1
         },
         "mode": "lines",
         "showlegend": false,
         "type": "scatter",
         "x": [
          13.495915854936014,
          16.11650074800869
         ],
         "y": [
          24.237772172059145,
          24.058632713893992
         ]
        },
        {
         "hoverinfo": "skip",
         "line": {
          "color": "lightblue",
          "width": 1
         },
         "mode": "lines",
         "showlegend": false,
         "type": "scatter",
         "x": [
          82.75730819722604,
          81.82193175122363
         ],
         "y": [
          56.920263664872614,
          56.64643137858778
         ]
        },
        {
         "hoverinfo": "skip",
         "line": {
          "color": "lightblue",
          "width": 1
         },
         "mode": "lines",
         "showlegend": false,
         "type": "scatter",
         "x": [
          16.261902235188863,
          16.83271798346385
         ],
         "y": [
          14.301354322442808,
          13.75534583953889
         ]
        },
        {
         "hoverinfo": "skip",
         "line": {
          "color": "lightblue",
          "width": 1
         },
         "mode": "lines",
         "showlegend": false,
         "type": "scatter",
         "x": [
          96.56077762191605,
          96.46973905562025
         ],
         "y": [
          73.00901811069166,
          74.53309328582685
         ]
        },
        {
         "hoverinfo": "skip",
         "line": {
          "color": "lightblue",
          "width": 1
         },
         "mode": "lines",
         "showlegend": false,
         "type": "scatter",
         "x": [
          14.437055515187836,
          16.245542392768787
         ],
         "y": [
          33.55728095065427,
          34.33633242116454
         ]
        },
        {
         "hoverinfo": "skip",
         "line": {
          "color": "lightblue",
          "width": 1
         },
         "mode": "lines",
         "showlegend": false,
         "type": "scatter",
         "x": [
          95.71116486674704,
          94.44407929477198
         ],
         "y": [
          31.408804767922096,
          29.40621365554933
         ]
        },
        {
         "hoverinfo": "skip",
         "line": {
          "color": "lightblue",
          "width": 1
         },
         "mode": "lines",
         "showlegend": false,
         "type": "scatter",
         "x": [
          23.188912636676374,
          22.03086135317348
         ],
         "y": [
          5.480804593839494,
          1.1347228546383592
         ]
        },
        {
         "hoverinfo": "skip",
         "line": {
          "color": "lightblue",
          "width": 1
         },
         "mode": "lines",
         "showlegend": false,
         "type": "scatter",
         "x": [
          92.8272378218053,
          91.54355194826826
         ],
         "y": [
          84.24625149945854,
          87.18556850428816
         ]
        },
        {
         "hoverinfo": "skip",
         "line": {
          "color": "lightblue",
          "width": 1
         },
         "mode": "lines",
         "showlegend": false,
         "type": "scatter",
         "x": [
          4.7610211343468585,
          3.593751301221341
         ],
         "y": [
          34.9020171762667,
          39.763856451343074
         ]
        },
        {
         "hoverinfo": "skip",
         "line": {
          "color": "lightblue",
          "width": 1
         },
         "mode": "lines",
         "showlegend": false,
         "type": "scatter",
         "x": [
          84.63783963635163,
          86.18387127623016
         ],
         "y": [
          3.3851200035755324,
          1.2799511414361198
         ]
        },
        {
         "hoverinfo": "skip",
         "line": {
          "color": "lightblue",
          "width": 1
         },
         "mode": "lines",
         "showlegend": false,
         "type": "scatter",
         "x": [
          32.884057510531356,
          31.24798489742602
         ],
         "y": [
          3.448020601148878,
          1.1495864151809365
         ]
        },
        {
         "hoverinfo": "skip",
         "line": {
          "color": "lightblue",
          "width": 1
         },
         "mode": "lines",
         "showlegend": false,
         "type": "scatter",
         "x": [
          86.67955511696506,
          88.66207944446474
         ],
         "y": [
          26.23260068725609,
          26.46989866186058
         ]
        },
        {
         "hoverinfo": "skip",
         "line": {
          "color": "lightblue",
          "width": 1
         },
         "mode": "lines",
         "showlegend": false,
         "type": "scatter",
         "x": [
          2.7161345299305806,
          2.685731988268669
         ],
         "y": [
          4.05932420370827,
          4.584982273208304
         ]
        },
        {
         "hoverinfo": "skip",
         "line": {
          "color": "lightblue",
          "width": 1
         },
         "mode": "lines",
         "showlegend": false,
         "type": "scatter",
         "x": [
          87.74750681081439,
          87.92540601706472
         ],
         "y": [
          52.035320191554014,
          50.590813081281794
         ]
        },
        {
         "hoverinfo": "skip",
         "line": {
          "color": "lightblue",
          "width": 1
         },
         "mode": "lines",
         "showlegend": false,
         "type": "scatter",
         "x": [
          10.068979460279442,
          11.454248801518174
         ],
         "y": [
          12.675879115760072,
          12.12782149320586
         ]
        },
        {
         "hoverinfo": "skip",
         "line": {
          "color": "lightblue",
          "width": 1
         },
         "mode": "lines",
         "showlegend": false,
         "type": "scatter",
         "x": [
          85.83916520152096,
          85.96187148630034
         ],
         "y": [
          51.59904820256477,
          50.76324185427929
         ]
        },
        {
         "hoverinfo": "skip",
         "line": {
          "color": "lightblue",
          "width": 1
         },
         "mode": "lines",
         "showlegend": false,
         "type": "scatter",
         "x": [
          28.19039751651651,
          30.21979530222434
         ],
         "y": [
          34.293962609412496,
          32.9833835492292
         ]
        },
        {
         "hoverinfo": "skip",
         "line": {
          "color": "lightblue",
          "width": 1
         },
         "mode": "lines",
         "showlegend": false,
         "type": "scatter",
         "x": [
          99.23438964206926,
          97.43859204250614
         ],
         "y": [
          87.89059519773035,
          85.55195286166958
         ]
        },
        {
         "hoverinfo": "skip",
         "line": {
          "color": "lightblue",
          "width": 1
         },
         "mode": "lines",
         "showlegend": false,
         "type": "scatter",
         "x": [
          24.26031479096391,
          26.082167264458512
         ],
         "y": [
          45.750664000437084,
          45.777824845080886
         ]
        },
        {
         "hoverinfo": "skip",
         "line": {
          "color": "lightblue",
          "width": 1
         },
         "mode": "lines",
         "showlegend": false,
         "type": "scatter",
         "x": [
          95.64553070920392,
          98.59600271160647
         ],
         "y": [
          50.59749838440485,
          49.72539334909496
         ]
        },
        {
         "hoverinfo": "skip",
         "line": {
          "color": "lightblue",
          "width": 1
         },
         "mode": "lines",
         "showlegend": false,
         "type": "scatter",
         "x": [
          31.306084092407794,
          29.995501924661216
         ],
         "y": [
          15.903783693299623,
          17.972440673899882
         ]
        },
        {
         "hoverinfo": "skip",
         "line": {
          "color": "lightblue",
          "width": 1
         },
         "mode": "lines",
         "showlegend": false,
         "type": "scatter",
         "x": [
          84.81052040699022,
          84.90468695353988
         ],
         "y": [
          78.39057887681527,
          78.34606753754139
         ]
        },
        {
         "hoverinfo": "skip",
         "line": {
          "color": "lightblue",
          "width": 1
         },
         "mode": "lines",
         "showlegend": false,
         "type": "scatter",
         "x": [
          27.91070569823043,
          27.03187855020177
         ],
         "y": [
          3.555394875986595,
          2.3331360096023213
         ]
        },
        {
         "hoverinfo": "skip",
         "line": {
          "color": "lightblue",
          "width": 1
         },
         "mode": "lines",
         "showlegend": false,
         "type": "scatter",
         "x": [
          91.52001108321791,
          86.56903529200825
         ],
         "y": [
          92.36262893299917,
          93.06108345181616
         ]
        },
        {
         "hoverinfo": "skip",
         "line": {
          "color": "lightblue",
          "width": 1
         },
         "mode": "lines",
         "showlegend": false,
         "type": "scatter",
         "x": [
          18.616931846323382,
          16.21127360860619
         ],
         "y": [
          8.319994068285375,
          7.66593747198383
         ]
        },
        {
         "hoverinfo": "skip",
         "line": {
          "color": "lightblue",
          "width": 1
         },
         "mode": "lines",
         "showlegend": false,
         "type": "scatter",
         "x": [
          95.10065281145704,
          95.75267847379514
         ],
         "y": [
          13.9733915118174,
          9.9588618783512
         ]
        },
        {
         "hoverinfo": "skip",
         "line": {
          "color": "lightblue",
          "width": 1
         },
         "mode": "lines",
         "showlegend": false,
         "type": "scatter",
         "x": [
          3.593751301221341,
          3.5527875850148525
         ],
         "y": [
          39.763856451343074,
          44.76368864592266
         ]
        },
        {
         "hoverinfo": "skip",
         "line": {
          "color": "lightblue",
          "width": 1
         },
         "mode": "lines",
         "showlegend": false,
         "type": "scatter",
         "x": [
          86.56903529200825,
          81.84055848398823
         ],
         "y": [
          93.06108345181616,
          94.6863548371598
         ]
        },
        {
         "hoverinfo": "skip",
         "line": {
          "color": "lightblue",
          "width": 1
         },
         "mode": "lines",
         "showlegend": false,
         "type": "scatter",
         "x": [
          23.558741174307723,
          25.837939814838506
         ],
         "y": [
          30.882893101280384,
          31.030465310160004
         ]
        },
        {
         "hoverinfo": "skip",
         "line": {
          "color": "lightblue",
          "width": 1
         },
         "mode": "lines",
         "showlegend": false,
         "type": "scatter",
         "x": [
          85.92665612533867,
          84.13915236487618
         ],
         "y": [
          36.29932042240045,
          37.838755062871435
         ]
        },
        {
         "hoverinfo": "skip",
         "line": {
          "color": "lightblue",
          "width": 1
         },
         "mode": "lines",
         "showlegend": false,
         "type": "scatter",
         "x": [
          34.94072199044898,
          35.426319361712984
         ],
         "y": [
          30.781604592547218,
          31.24990547330362
         ]
        },
        {
         "hoverinfo": "skip",
         "line": {
          "color": "lightblue",
          "width": 1
         },
         "mode": "lines",
         "showlegend": false,
         "type": "scatter",
         "x": [
          85.83916520152096,
          81.14861096687166
         ],
         "y": [
          51.59904820256477,
          50.63129597534605
         ]
        },
        {
         "hoverinfo": "skip",
         "line": {
          "color": "lightblue",
          "width": 1
         },
         "mode": "lines",
         "showlegend": false,
         "type": "scatter",
         "x": [
          3.5527875850148525,
          2.776239382508032
         ],
         "y": [
          44.76368864592266,
          49.703017840173985
         ]
        },
        {
         "hoverinfo": "skip",
         "line": {
          "color": "lightblue",
          "width": 1
         },
         "mode": "lines",
         "showlegend": false,
         "type": "scatter",
         "x": [
          93.42536365612753,
          93.98305698901139
         ],
         "y": [
          41.84693161175538,
          43.365587322162256
         ]
        },
        {
         "hoverinfo": "skip",
         "line": {
          "color": "lightblue",
          "width": 1
         },
         "mode": "lines",
         "showlegend": false,
         "type": "scatter",
         "x": [
          2.776239382508032,
          2.870182285734358
         ],
         "y": [
          49.703017840173985,
          54.7021352353682
         ]
        },
        {
         "hoverinfo": "skip",
         "line": {
          "color": "lightblue",
          "width": 1
         },
         "mode": "lines",
         "showlegend": false,
         "type": "scatter",
         "x": [
          98.59600271160647,
          99.81640866208886
         ],
         "y": [
          49.72539334909496,
          51.264942247731426
         ]
        },
        {
         "hoverinfo": "skip",
         "line": {
          "color": "lightblue",
          "width": 1
         },
         "mode": "lines",
         "showlegend": false,
         "type": "scatter",
         "x": [
          9.21560656214011,
          10.152222182795311
         ],
         "y": [
          30.79701188552647,
          31.200318809417894
         ]
        },
        {
         "hoverinfo": "skip",
         "line": {
          "color": "lightblue",
          "width": 1
         },
         "mode": "lines",
         "showlegend": false,
         "type": "scatter",
         "x": [
          81.84055848398823,
          76.96551659453995
         ],
         "y": [
          94.6863548371598,
          93.57551435530632
         ]
        },
        {
         "hoverinfo": "skip",
         "line": {
          "color": "lightblue",
          "width": 1
         },
         "mode": "lines",
         "showlegend": false,
         "type": "scatter",
         "x": [
          27.03187855020177,
          26.000039537563946
         ],
         "y": [
          2.3331360096023213,
          1.8723603402501676
         ]
        },
        {
         "hoverinfo": "skip",
         "line": {
          "color": "lightblue",
          "width": 1
         },
         "mode": "lines",
         "showlegend": false,
         "type": "scatter",
         "x": [
          85.65565369339934,
          88.03408227665275
         ],
         "y": [
          72.18263740058507,
          70.5103706041208
         ]
        },
        {
         "hoverinfo": "skip",
         "line": {
          "color": "lightblue",
          "width": 1
         },
         "mode": "lines",
         "showlegend": false,
         "type": "scatter",
         "x": [
          2.870182285734358,
          5.930271465030943
         ],
         "y": [
          54.7021352353682,
          58.65635503385588
         ]
        },
        {
         "hoverinfo": "skip",
         "line": {
          "color": "lightblue",
          "width": 1
         },
         "mode": "lines",
         "showlegend": false,
         "type": "scatter",
         "x": [
          76.96551659453995,
          71.9659570779247
         ],
         "y": [
          93.57551435530632,
          93.64188181587157
         ]
        },
        {
         "hoverinfo": "skip",
         "line": {
          "color": "lightblue",
          "width": 1
         },
         "mode": "lines",
         "showlegend": false,
         "type": "scatter",
         "x": [
          22.03086135317348,
          22.434421736116008
         ],
         "y": [
          1.1347228546383592,
          0.4145403943660586
         ]
        },
        {
         "hoverinfo": "skip",
         "line": {
          "color": "lightblue",
          "width": 1
         },
         "mode": "lines",
         "showlegend": false,
         "type": "scatter",
         "x": [
          81.84055848398823,
          82.34749908267916
         ],
         "y": [
          94.6863548371598,
          92.90853714598006
         ]
        },
        {
         "hoverinfo": "skip",
         "line": {
          "color": "lightblue",
          "width": 1
         },
         "mode": "lines",
         "showlegend": false,
         "type": "scatter",
         "x": [
          5.930271465030943,
          5.349227863663917
         ],
         "y": [
          58.65635503385588,
          63.62247910936089
         ]
        },
        {
         "hoverinfo": "skip",
         "line": {
          "color": "lightblue",
          "width": 1
         },
         "mode": "lines",
         "showlegend": false,
         "type": "scatter",
         "x": [
          71.9659570779247,
          67.40742248293904
         ],
         "y": [
          93.64188181587157,
          91.5876758022695
         ]
        },
        {
         "hoverinfo": "skip",
         "line": {
          "color": "lightblue",
          "width": 1
         },
         "mode": "lines",
         "showlegend": false,
         "type": "scatter",
         "x": [
          67.40742248293904,
          62.84888788795338
         ],
         "y": [
          91.5876758022695,
          89.53346978866743
         ]
        },
        {
         "hoverinfo": "skip",
         "line": {
          "color": "lightblue",
          "width": 1
         },
         "mode": "lines",
         "showlegend": false,
         "type": "scatter",
         "x": [
          95.64553070920392,
          96.34684567653741
         ],
         "y": [
          50.59749838440485,
          52.1508783519911
         ]
        },
        {
         "hoverinfo": "skip",
         "line": {
          "color": "lightblue",
          "width": 1
         },
         "mode": "lines",
         "showlegend": false,
         "type": "scatter",
         "x": [
          19.243209048499967,
          20.089584827251272
         ],
         "y": [
          18.315306201190833,
          20.40546866474702
         ]
        },
        {
         "hoverinfo": "skip",
         "line": {
          "color": "lightblue",
          "width": 1
         },
         "mode": "lines",
         "showlegend": false,
         "type": "scatter",
         "x": [
          91.11998088270401,
          91.44087568838118
         ],
         "y": [
          3.376481629822903,
          1.7380684627307241
         ]
        },
        {
         "hoverinfo": "skip",
         "line": {
          "color": "lightblue",
          "width": 1
         },
         "mode": "lines",
         "showlegend": false,
         "type": "scatter",
         "x": [
          5.349227863663917,
          7.10017855967059
         ],
         "y": [
          63.62247910936089,
          68.30587228740539
         ]
        },
        {
         "hoverinfo": "skip",
         "line": {
          "color": "lightblue",
          "width": 1
         },
         "mode": "lines",
         "showlegend": false,
         "type": "scatter",
         "x": [
          96.44301101296423,
          95.60515176684598
         ],
         "y": [
          20.485680639081032,
          19.02676230679553
         ]
        },
        {
         "hoverinfo": "skip",
         "line": {
          "color": "lightblue",
          "width": 1
         },
         "mode": "lines",
         "showlegend": false,
         "type": "scatter",
         "x": [
          34.63427396327106,
          35.6375578199585
         ],
         "y": [
          8.13168822050011,
          8.708241447236986
         ]
        },
        {
         "hoverinfo": "skip",
         "line": {
          "color": "lightblue",
          "width": 1
         },
         "mode": "lines",
         "showlegend": false,
         "type": "scatter",
         "x": [
          62.84888788795338,
          63.309775998981166
         ],
         "y": [
          89.53346978866743,
          84.55475688781512
         ]
        },
        {
         "hoverinfo": "skip",
         "line": {
          "color": "lightblue",
          "width": 1
         },
         "mode": "lines",
         "showlegend": false,
         "type": "scatter",
         "x": [
          7.10017855967059,
          7.8459229846553935
         ],
         "y": [
          68.30587228740539,
          73.24994603813
         ]
        },
        {
         "hoverinfo": "skip",
         "line": {
          "color": "lightblue",
          "width": 1
         },
         "mode": "lines",
         "showlegend": false,
         "type": "scatter",
         "x": [
          82.34749908267916,
          79.70208483054219
         ],
         "y": [
          92.90853714598006,
          91.6559180714647
         ]
        },
        {
         "hoverinfo": "skip",
         "line": {
          "color": "lightblue",
          "width": 1
         },
         "mode": "lines",
         "showlegend": false,
         "type": "scatter",
         "x": [
          6.223469191623491,
          5.5642988896071
         ],
         "y": [
          25.058766590583087,
          25.29641641093058
         ]
        },
        {
         "hoverinfo": "skip",
         "line": {
          "color": "lightblue",
          "width": 1
         },
         "mode": "lines",
         "showlegend": false,
         "type": "scatter",
         "x": [
          80.04602889686132,
          80.76274852896633
         ],
         "y": [
          35.873867493366795,
          37.1223202042663
         ]
        },
        {
         "hoverinfo": "skip",
         "line": {
          "color": "lightblue",
          "width": 1
         },
         "mode": "lines",
         "showlegend": false,
         "type": "scatter",
         "x": [
          7.10017855967059,
          11.991924934726043
         ],
         "y": [
          68.30587228740539,
          67.27106921332229
         ]
        },
        {
         "hoverinfo": "skip",
         "line": {
          "color": "lightblue",
          "width": 1
         },
         "mode": "lines",
         "showlegend": false,
         "type": "scatter",
         "x": [
          83.47303667042381,
          83.72327360269459
         ],
         "y": [
          14.584197240400155,
          15.310170764857745
         ]
        },
        {
         "hoverinfo": "skip",
         "line": {
          "color": "lightblue",
          "width": 1
         },
         "mode": "lines",
         "showlegend": false,
         "type": "scatter",
         "x": [
          14.73873022853498,
          15.892770720716065
         ],
         "y": [
          16.94784287428711,
          17.135172759357264
         ]
        },
        {
         "hoverinfo": "skip",
         "line": {
          "color": "lightblue",
          "width": 1
         },
         "mode": "lines",
         "showlegend": false,
         "type": "scatter",
         "x": [
          91.54355194826826,
          88.13195897770287
         ],
         "y": [
          87.18556850428816,
          84.72974171515382
         ]
        },
        {
         "hoverinfo": "skip",
         "line": {
          "color": "lightblue",
          "width": 1
         },
         "mode": "lines",
         "showlegend": false,
         "type": "scatter",
         "x": [
          26.000039537563946,
          25.680148739312347
         ],
         "y": [
          1.8723603402501676,
          3.4022092599966136
         ]
        },
        {
         "hoverinfo": "skip",
         "line": {
          "color": "lightblue",
          "width": 1
         },
         "mode": "lines",
         "showlegend": false,
         "type": "scatter",
         "x": [
          99.23438964206926,
          97.44598810959518
         ],
         "y": [
          87.89059519773035,
          89.4056904602003
         ]
        },
        {
         "hoverinfo": "skip",
         "line": {
          "color": "lightblue",
          "width": 1
         },
         "mode": "lines",
         "showlegend": false,
         "type": "scatter",
         "x": [
          9.21560656214011,
          7.995035753475232
         ],
         "y": [
          30.79701188552647,
          32.236392534915595
         ]
        },
        {
         "hoverinfo": "skip",
         "line": {
          "color": "lightblue",
          "width": 1
         },
         "mode": "lines",
         "showlegend": false,
         "type": "scatter",
         "x": [
          83.6347388070731,
          82.25872750724076
         ],
         "y": [
          9.539789004957289,
          10.27129990938499
         ]
        },
        {
         "hoverinfo": "skip",
         "line": {
          "color": "lightblue",
          "width": 1
         },
         "mode": "lines",
         "showlegend": false,
         "type": "scatter",
         "x": [
          12.423469308810054,
          11.935195297216906
         ],
         "y": [
          13.740145972982177,
          15.444930183604555
         ]
        },
        {
         "hoverinfo": "skip",
         "line": {
          "color": "lightblue",
          "width": 1
         },
         "mode": "lines",
         "showlegend": false,
         "type": "scatter",
         "x": [
          95.75267847379514,
          99.5960204874062
         ],
         "y": [
          9.9588618783512,
          10.834609986369404
         ]
        },
        {
         "hoverinfo": "skip",
         "line": {
          "color": "lightblue",
          "width": 1
         },
         "mode": "lines",
         "showlegend": false,
         "type": "scatter",
         "x": [
          19.243209048499967,
          17.345497035575196
         ],
         "y": [
          18.315306201190833,
          18.423499008225452
         ]
        },
        {
         "hoverinfo": "skip",
         "line": {
          "color": "lightblue",
          "width": 1
         },
         "mode": "lines",
         "showlegend": false,
         "type": "scatter",
         "x": [
          63.309775998981166,
          60.9331348462066
         ],
         "y": [
          84.55475688781512,
          80.15571417025276
         ]
        },
        {
         "hoverinfo": "skip",
         "line": {
          "color": "lightblue",
          "width": 1
         },
         "mode": "lines",
         "showlegend": false,
         "type": "scatter",
         "x": [
          13.791579371359486,
          16.296329941372377
         ],
         "y": [
          0.2984951246732592,
          1.5007367046545927
         ]
        },
        {
         "hoverinfo": "skip",
         "line": {
          "color": "lightblue",
          "width": 1
         },
         "mode": "lines",
         "showlegend": false,
         "type": "scatter",
         "x": [
          95.10065281145704,
          93.96223048379301
         ],
         "y": [
          13.9733915118174,
          12.695439064684688
         ]
        },
        {
         "hoverinfo": "skip",
         "line": {
          "color": "lightblue",
          "width": 1
         },
         "mode": "lines",
         "showlegend": false,
         "type": "scatter",
         "x": [
          2.870182285734358,
          0.6018034830614805
         ],
         "y": [
          54.7021352353682,
          58.59919047079521
         ]
        },
        {
         "hoverinfo": "skip",
         "line": {
          "color": "lightblue",
          "width": 1
         },
         "mode": "lines",
         "showlegend": false,
         "type": "scatter",
         "x": [
          91.52001108321791,
          92.92234133826209
         ],
         "y": [
          92.36262893299917,
          97.16194866143859
         ]
        },
        {
         "hoverinfo": "skip",
         "line": {
          "color": "lightblue",
          "width": 1
         },
         "mode": "lines",
         "showlegend": false,
         "type": "scatter",
         "x": [
          5.979758799390218,
          5.78499913136895
         ],
         "y": [
          30.052823583121068,
          32.01635381861876
         ]
        },
        {
         "hoverinfo": "skip",
         "line": {
          "color": "lightblue",
          "width": 1
         },
         "mode": "lines",
         "showlegend": false,
         "type": "scatter",
         "x": [
          86.18387127623016,
          85.79182975621134
         ],
         "y": [
          1.2799511414361198,
          2.436005593312096
         ]
        },
        {
         "hoverinfo": "skip",
         "line": {
          "color": "lightblue",
          "width": 1
         },
         "mode": "lines",
         "showlegend": false,
         "type": "scatter",
         "x": [
          11.991924934726043,
          16.625614661730115
         ],
         "y": [
          67.27106921332229,
          69.14961107174784
         ]
        },
        {
         "hoverinfo": "skip",
         "line": {
          "color": "lightblue",
          "width": 1
         },
         "mode": "lines",
         "showlegend": false,
         "type": "scatter",
         "x": [
          96.46973905562025,
          97.23414007852257
         ],
         "y": [
          74.53309328582685,
          75.44495945758447
         ]
        },
        {
         "hoverinfo": "skip",
         "line": {
          "color": "lightblue",
          "width": 1
         },
         "mode": "lines",
         "showlegend": false,
         "type": "scatter",
         "x": [
          7.8459229846553935,
          7.522273429043904
         ],
         "y": [
          73.24994603813,
          78.23946013923769
         ]
        },
        {
         "hoverinfo": "skip",
         "line": {
          "color": "lightblue",
          "width": 1
         },
         "mode": "lines",
         "showlegend": false,
         "type": "scatter",
         "x": [
          91.52001108321791,
          91.73141536819583
         ],
         "y": [
          92.36262893299917,
          93.69973387304432
         ]
        },
        {
         "hoverinfo": "skip",
         "line": {
          "color": "lightblue",
          "width": 1
         },
         "mode": "lines",
         "showlegend": false,
         "type": "scatter",
         "x": [
          3.5527875850148525,
          4.1049223701632
         ],
         "y": [
          44.76368864592266,
          44.00004924260384
         ]
        },
        {
         "hoverinfo": "skip",
         "line": {
          "color": "lightblue",
          "width": 1
         },
         "mode": "lines",
         "showlegend": false,
         "type": "scatter",
         "x": [
          88.13195897770287,
          85.90924557502154
         ],
         "y": [
          84.72974171515382,
          88.22130791574357
         ]
        },
        {
         "hoverinfo": "skip",
         "line": {
          "color": "lightblue",
          "width": 1
         },
         "mode": "lines",
         "showlegend": false,
         "type": "scatter",
         "x": [
          20.4064865532749,
          20.036641149378976
         ],
         "y": [
          43.07090302460869,
          46.089892246968745
         ]
        },
        {
         "hoverinfo": "skip",
         "line": {
          "color": "lightblue",
          "width": 1
         },
         "mode": "lines",
         "showlegend": false,
         "type": "scatter",
         "x": [
          95.8828321048626,
          97.88060734217623
         ],
         "y": [
          1.854887651265414,
          2.296240981310349
         ]
        },
        {
         "hoverinfo": "skip",
         "line": {
          "color": "lightblue",
          "width": 1
         },
         "mode": "lines",
         "showlegend": false,
         "type": "scatter",
         "x": [
          12.573003692958187,
          11.53353308103463
         ],
         "y": [
          24.56856715735738,
          21.634017876607313
         ]
        },
        {
         "hoverinfo": "skip",
         "line": {
          "color": "lightblue",
          "width": 1
         },
         "mode": "lines",
         "showlegend": false,
         "type": "scatter",
         "x": [
          90.41634455004947,
          90.43967168915934
         ],
         "y": [
          14.982635569218775,
          17.25734904391184
         ]
        },
        {
         "hoverinfo": "skip",
         "line": {
          "color": "lightblue",
          "width": 1
         },
         "mode": "lines",
         "showlegend": false,
         "type": "scatter",
         "x": [
          30.21979530222434,
          30.837473265482085
         ],
         "y": [
          32.9833835492292,
          30.590846155947236
         ]
        },
        {
         "hoverinfo": "skip",
         "line": {
          "color": "lightblue",
          "width": 1
         },
         "mode": "lines",
         "showlegend": false,
         "type": "scatter",
         "x": [
          81.84055848398823,
          83.18709405417927
         ],
         "y": [
          94.6863548371598,
          96.24987348024545
         ]
        },
        {
         "hoverinfo": "skip",
         "line": {
          "color": "lightblue",
          "width": 1
         },
         "mode": "lines",
         "showlegend": false,
         "type": "scatter",
         "x": [
          3.5527875850148525,
          7.641146161484157
         ],
         "y": [
          44.76368864592266,
          47.64211254629069
         ]
        },
        {
         "hoverinfo": "skip",
         "line": {
          "color": "lightblue",
          "width": 1
         },
         "mode": "lines",
         "showlegend": false,
         "type": "scatter",
         "x": [
          93.40575293057945,
          94.65584790769086
         ],
         "y": [
          79.27983223917452,
          81.92257422692857
         ]
        },
        {
         "hoverinfo": "skip",
         "line": {
          "color": "lightblue",
          "width": 1
         },
         "mode": "lines",
         "showlegend": false,
         "type": "scatter",
         "x": [
          7.522273429043904,
          8.001653727938917
         ],
         "y": [
          78.23946013923769,
          78.40085385860459
         ]
        },
        {
         "hoverinfo": "skip",
         "line": {
          "color": "lightblue",
          "width": 1
         },
         "mode": "lines",
         "showlegend": false,
         "type": "scatter",
         "x": [
          88.13195897770287,
          88.43286307131709
         ],
         "y": [
          84.72974171515382,
          84.3011080699073
         ]
        },
        {
         "hoverinfo": "skip",
         "line": {
          "color": "lightblue",
          "width": 1
         },
         "mode": "lines",
         "showlegend": false,
         "type": "scatter",
         "x": [
          11.991924934726043,
          14.830317912690434
         ],
         "y": [
          67.27106921332229,
          63.154817847984845
         ]
        },
        {
         "hoverinfo": "skip",
         "line": {
          "color": "lightblue",
          "width": 1
         },
         "mode": "lines",
         "showlegend": false,
         "type": "scatter",
         "x": [
          93.68313508721047,
          93.12551650951698
         ],
         "y": [
          45.22014256341911,
          46.57224536529142
         ]
        },
        {
         "hoverinfo": "skip",
         "line": {
          "color": "lightblue",
          "width": 1
         },
         "mode": "lines",
         "showlegend": false,
         "type": "scatter",
         "x": [
          8.001653727938917,
          6.967888238150724
         ],
         "y": [
          78.40085385860459,
          83.29281960992819
         ]
        },
        {
         "hoverinfo": "skip",
         "line": {
          "color": "lightblue",
          "width": 1
         },
         "mode": "lines",
         "showlegend": false,
         "type": "scatter",
         "x": [
          94.65584790769086,
          94.35399319540798
         ],
         "y": [
          81.92257422692857,
          81.21208250077048
         ]
        },
        {
         "hoverinfo": "skip",
         "line": {
          "color": "lightblue",
          "width": 1
         },
         "mode": "lines",
         "showlegend": false,
         "type": "scatter",
         "x": [
          27.14852965330854,
          24.148322968480628
         ],
         "y": [
          21.158217762730725,
          18.239632490435543
         ]
        },
        {
         "hoverinfo": "skip",
         "line": {
          "color": "lightblue",
          "width": 1
         },
         "mode": "lines",
         "showlegend": false,
         "type": "scatter",
         "x": [
          85.92665612533867,
          85.78148430885541
         ],
         "y": [
          36.29932042240045,
          35.67388752785696
         ]
        },
        {
         "hoverinfo": "skip",
         "line": {
          "color": "lightblue",
          "width": 1
         },
         "mode": "lines",
         "showlegend": false,
         "type": "scatter",
         "x": [
          5.930271465030943,
          8.677890318028169
         ],
         "y": [
          58.65635503385588,
          59.674932191920036
         ]
        },
        {
         "hoverinfo": "skip",
         "line": {
          "color": "lightblue",
          "width": 1
         },
         "mode": "lines",
         "showlegend": false,
         "type": "scatter",
         "x": [
          82.34749908267916,
          82.63189890179413
         ],
         "y": [
          92.90853714598006,
          90.08512418770287
         ]
        },
        {
         "hoverinfo": "skip",
         "line": {
          "color": "lightblue",
          "width": 1
         },
         "mode": "lines",
         "showlegend": false,
         "type": "scatter",
         "x": [
          29.342201777985302,
          26.914880027624854
         ],
         "y": [
          15.565224521120772,
          15.157571552230586
         ]
        },
        {
         "hoverinfo": "skip",
         "line": {
          "color": "lightblue",
          "width": 1
         },
         "mode": "lines",
         "showlegend": false,
         "type": "scatter",
         "x": [
          79.70208483054219,
          79.26547069466301
         ],
         "y": [
          91.6559180714647,
          93.8199878798651
         ]
        },
        {
         "hoverinfo": "skip",
         "line": {
          "color": "lightblue",
          "width": 1
         },
         "mode": "lines",
         "showlegend": false,
         "type": "scatter",
         "x": [
          24.598167445434882,
          25.508921557587072
         ],
         "y": [
          9.908725272307517,
          9.763283356850339
         ]
        },
        {
         "hoverinfo": "skip",
         "line": {
          "color": "lightblue",
          "width": 1
         },
         "mode": "lines",
         "showlegend": false,
         "type": "scatter",
         "x": [
          60.9331348462066,
          64.13912463941087
         ],
         "y": [
          80.15571417025276,
          76.31883660563463
         ]
        },
        {
         "hoverinfo": "skip",
         "line": {
          "color": "lightblue",
          "width": 1
         },
         "mode": "lines",
         "showlegend": false,
         "type": "scatter",
         "x": [
          6.967888238150724,
          9.887959232847951
         ],
         "y": [
          83.29281960992819,
          87.35153681933413
         ]
        },
        {
         "hoverinfo": "skip",
         "line": {
          "color": "lightblue",
          "width": 1
         },
         "mode": "lines",
         "showlegend": false,
         "type": "scatter",
         "x": [
          97.43859204250614,
          96.89091105411755
         ],
         "y": [
          85.55195286166958,
          87.44971388338757
         ]
        },
        {
         "hoverinfo": "skip",
         "line": {
          "color": "lightblue",
          "width": 1
         },
         "mode": "lines",
         "showlegend": false,
         "type": "scatter",
         "x": [
          3.5527875850148525,
          1.6199640999868814
         ],
         "y": [
          44.76368864592266,
          44.89911410213673
         ]
        },
        {
         "hoverinfo": "skip",
         "line": {
          "color": "lightblue",
          "width": 1
         },
         "mode": "lines",
         "showlegend": false,
         "type": "scatter",
         "x": [
          64.13912463941087,
          61.82569855781017
         ],
         "y": [
          76.31883660563463,
          71.88622340742191
         ]
        },
        {
         "hoverinfo": "skip",
         "line": {
          "color": "lightblue",
          "width": 1
         },
         "mode": "lines",
         "showlegend": false,
         "type": "scatter",
         "x": [
          9.887959232847951,
          14.574483636293838
         ],
         "y": [
          87.35153681933413,
          89.09408926213354
         ]
        },
        {
         "hoverinfo": "skip",
         "line": {
          "color": "lightblue",
          "width": 1
         },
         "mode": "lines",
         "showlegend": false,
         "type": "scatter",
         "x": [
          95.60515176684598,
          99.17839310381716
         ],
         "y": [
          19.02676230679553,
          17.48676996290037
         ]
        },
        {
         "hoverinfo": "skip",
         "line": {
          "color": "lightblue",
          "width": 1
         },
         "mode": "lines",
         "showlegend": false,
         "type": "scatter",
         "x": [
          14.574483636293838,
          19.51544311286493
         ],
         "y": [
          89.09408926213354,
          89.86019594588088
         ]
        },
        {
         "hoverinfo": "skip",
         "line": {
          "color": "lightblue",
          "width": 1
         },
         "mode": "lines",
         "showlegend": false,
         "type": "scatter",
         "x": [
          84.27641026330676,
          82.26563108107015
         ],
         "y": [
          46.141490026102396,
          43.0229549719508
         ]
        },
        {
         "hoverinfo": "skip",
         "line": {
          "color": "lightblue",
          "width": 1
         },
         "mode": "lines",
         "showlegend": false,
         "type": "scatter",
         "x": [
          7.8459229846553935,
          12.83281740989611
         ],
         "y": [
          73.24994603813,
          72.8881671118462
         ]
        },
        {
         "hoverinfo": "skip",
         "line": {
          "color": "lightblue",
          "width": 1
         },
         "mode": "lines",
         "showlegend": false,
         "type": "scatter",
         "x": [
          62.84888788795338,
          61.77027409735771
         ],
         "y": [
          89.53346978866743,
          94.41574305946422
         ]
        },
        {
         "hoverinfo": "skip",
         "line": {
          "color": "lightblue",
          "width": 1
         },
         "mode": "lines",
         "showlegend": false,
         "type": "scatter",
         "x": [
          19.51544311286493,
          24.486635820840345
         ],
         "y": [
          89.86019594588088,
          90.39614655943782
         ]
        },
        {
         "hoverinfo": "skip",
         "line": {
          "color": "lightblue",
          "width": 1
         },
         "mode": "lines",
         "showlegend": false,
         "type": "scatter",
         "x": [
          24.486635820840345,
          29.45782852881576
         ],
         "y": [
          90.39614655943782,
          90.93209717299477
         ]
        },
        {
         "hoverinfo": "skip",
         "line": {
          "color": "lightblue",
          "width": 1
         },
         "mode": "lines",
         "showlegend": false,
         "type": "scatter",
         "x": [
          29.45782852881576,
          34.42902123679117
         ],
         "y": [
          90.93209717299477,
          91.46804778655172
         ]
        },
        {
         "hoverinfo": "skip",
         "line": {
          "color": "lightblue",
          "width": 1
         },
         "mode": "lines",
         "showlegend": false,
         "type": "scatter",
         "x": [
          34.42902123679117,
          39.400213944766584
         ],
         "y": [
          91.46804778655172,
          92.00399840010867
         ]
        },
        {
         "hoverinfo": "skip",
         "line": {
          "color": "lightblue",
          "width": 1
         },
         "mode": "lines",
         "showlegend": false,
         "type": "scatter",
         "x": [
          39.400213944766584,
          44.371406652741996
         ],
         "y": [
          92.00399840010867,
          92.53994901366562
         ]
        },
        {
         "hoverinfo": "skip",
         "line": {
          "color": "lightblue",
          "width": 1
         },
         "mode": "lines",
         "showlegend": false,
         "type": "scatter",
         "x": [
          44.371406652741996,
          49.34259936071741
         ],
         "y": [
          92.53994901366562,
          93.07589962722257
         ]
        },
        {
         "hoverinfo": "skip",
         "line": {
          "color": "lightblue",
          "width": 1
         },
         "mode": "lines",
         "showlegend": false,
         "type": "scatter",
         "x": [
          49.34259936071741,
          54.31379206869282
         ],
         "y": [
          93.07589962722257,
          93.6118502407795
         ]
        },
        {
         "hoverinfo": "skip",
         "line": {
          "color": "lightblue",
          "width": 1
         },
         "mode": "lines",
         "showlegend": false,
         "type": "scatter",
         "x": [
          26.793303799037638,
          28.09158428080686
         ],
         "y": [
          23.661387092380032,
          26.00167615423984
         ]
        },
        {
         "hoverinfo": "skip",
         "line": {
          "color": "lightblue",
          "width": 1
         },
         "mode": "lines",
         "showlegend": false,
         "type": "scatter",
         "x": [
          87.59217490747969,
          86.83089452889952
         ],
         "y": [
          57.52675260564667,
          58.86952970513792
         ]
        },
        {
         "hoverinfo": "skip",
         "line": {
          "color": "lightblue",
          "width": 1
         },
         "mode": "lines",
         "showlegend": false,
         "type": "scatter",
         "x": [
          12.83281740989611,
          12.40347010573637
         ],
         "y": [
          72.8881671118462,
          72.09071334893777
         ]
        },
        {
         "hoverinfo": "skip",
         "line": {
          "color": "lightblue",
          "width": 1
         },
         "mode": "lines",
         "showlegend": false,
         "type": "scatter",
         "x": [
          92.92234133826209,
          93.45456620263587
         ],
         "y": [
          97.16194866143859,
          98.39774711510513
         ]
        },
        {
         "hoverinfo": "skip",
         "line": {
          "color": "lightblue",
          "width": 1
         },
         "mode": "lines",
         "showlegend": false,
         "type": "scatter",
         "x": [
          16.21127360860619,
          16.779469673174564
         ],
         "y": [
          7.66593747198383,
          7.898711340488118
         ]
        },
        {
         "hoverinfo": "skip",
         "line": {
          "color": "lightblue",
          "width": 1
         },
         "mode": "lines",
         "showlegend": false,
         "type": "scatter",
         "x": [
          67.40742248293904,
          68.89410760404135
         ],
         "y": [
          91.5876758022695,
          92.18909721355078
         ]
        },
        {
         "hoverinfo": "skip",
         "line": {
          "color": "lightblue",
          "width": 1
         },
         "mode": "lines",
         "showlegend": false,
         "type": "scatter",
         "x": [
          27.158876305245926,
          25.936684201420533
         ],
         "y": [
          11.398054008432034,
          11.888858872436469
         ]
        },
        {
         "hoverinfo": "skip",
         "line": {
          "color": "lightblue",
          "width": 1
         },
         "mode": "lines",
         "showlegend": false,
         "type": "scatter",
         "x": [
          84.63783963635163,
          81.30935277688725
         ],
         "y": [
          3.3851200035755324,
          0.4488832643515517
         ]
        },
        {
         "hoverinfo": "skip",
         "line": {
          "color": "lightblue",
          "width": 1
         },
         "mode": "lines",
         "showlegend": false,
         "type": "scatter",
         "x": [
          12.423469308810054,
          11.743094602920856
         ],
         "y": [
          13.740145972982177,
          13.183432015361063
         ]
        },
        {
         "hoverinfo": "skip",
         "line": {
          "color": "lightblue",
          "width": 1
         },
         "mode": "lines",
         "showlegend": false,
         "type": "scatter",
         "x": [
          86.18387127623016,
          83.82033360257644
         ],
         "y": [
          1.2799511414361198,
          0.43759709145198
         ]
        },
        {
         "hoverinfo": "skip",
         "line": {
          "color": "lightblue",
          "width": 1
         },
         "mode": "lines",
         "showlegend": false,
         "type": "scatter",
         "x": [
          34.42902123679117,
          34.80698370680926
         ],
         "y": [
          91.46804778655172,
          86.48235381567287
         ]
        },
        {
         "hoverinfo": "skip",
         "line": {
          "color": "lightblue",
          "width": 1
         },
         "mode": "lines",
         "showlegend": false,
         "type": "scatter",
         "x": [
          94.66649197845703,
          96.02792044911239
         ],
         "y": [
          26.51915666642524,
          27.21774795044417
         ]
        },
        {
         "hoverinfo": "skip",
         "line": {
          "color": "lightblue",
          "width": 1
         },
         "mode": "lines",
         "showlegend": false,
         "type": "scatter",
         "x": [
          6.973373135776784,
          6.388688081434591
         ],
         "y": [
          23.25998661582185,
          23.443028763482697
         ]
        },
        {
         "hoverinfo": "skip",
         "line": {
          "color": "lightblue",
          "width": 1
         },
         "mode": "lines",
         "showlegend": false,
         "type": "scatter",
         "x": [
          63.309775998981166,
          68.255551518972
         ],
         "y": [
          84.55475688781512,
          83.82038334127398
         ]
        },
        {
         "hoverinfo": "skip",
         "line": {
          "color": "lightblue",
          "width": 1
         },
         "mode": "lines",
         "showlegend": false,
         "type": "scatter",
         "x": [
          19.51544311286493,
          18.296109620142154
         ],
         "y": [
          89.86019594588088,
          86.5796262372876
         ]
        },
        {
         "hoverinfo": "skip",
         "line": {
          "color": "lightblue",
          "width": 1
         },
         "mode": "lines",
         "showlegend": false,
         "type": "scatter",
         "x": [
          97.44598810959518,
          99.34737846366885
         ],
         "y": [
          89.4056904602003,
          94.03005146702445
         ]
        },
        {
         "hoverinfo": "skip",
         "line": {
          "color": "lightblue",
          "width": 1
         },
         "mode": "lines",
         "showlegend": false,
         "type": "scatter",
         "x": [
          34.42902123679117,
          32.43478692762884
         ],
         "y": [
          91.46804778655172,
          92.4449799656705
         ]
        },
        {
         "hoverinfo": "skip",
         "line": {
          "color": "lightblue",
          "width": 1
         },
         "mode": "lines",
         "showlegend": false,
         "type": "scatter",
         "x": [
          61.82569855781017,
          61.353511135222085
         ],
         "y": [
          71.88622340742191,
          66.90856943813581
         ]
        },
        {
         "hoverinfo": "skip",
         "line": {
          "color": "lightblue",
          "width": 1
         },
         "mode": "lines",
         "showlegend": false,
         "type": "scatter",
         "x": [
          54.31379206869282,
          55.58838183032201
         ],
         "y": [
          93.6118502407795,
          88.77703680699014
         ]
        },
        {
         "hoverinfo": "skip",
         "line": {
          "color": "lightblue",
          "width": 1
         },
         "mode": "lines",
         "showlegend": false,
         "type": "scatter",
         "x": [
          55.58838183032201,
          56.862971591951194
         ],
         "y": [
          88.77703680699014,
          83.94222337320078
         ]
        },
        {
         "hoverinfo": "skip",
         "line": {
          "color": "lightblue",
          "width": 1
         },
         "mode": "lines",
         "showlegend": false,
         "type": "scatter",
         "x": [
          24.486635820840345,
          23.331279038091736
         ],
         "y": [
          90.39614655943782,
          95.26083058869983
         ]
        },
        {
         "hoverinfo": "skip",
         "line": {
          "color": "lightblue",
          "width": 1
         },
         "mode": "lines",
         "showlegend": false,
         "type": "scatter",
         "x": [
          61.77027409735771,
          60.4822792494248
         ],
         "y": [
          94.41574305946422,
          93.8277707488433
         ]
        },
        {
         "hoverinfo": "skip",
         "line": {
          "color": "lightblue",
          "width": 1
         },
         "mode": "lines",
         "showlegend": false,
         "type": "scatter",
         "x": [
          23.188912636676374,
          22.824083703414722
         ],
         "y": [
          5.480804593839494,
          7.39145545828388
         ]
        },
        {
         "hoverinfo": "skip",
         "line": {
          "color": "lightblue",
          "width": 1
         },
         "mode": "lines",
         "showlegend": false,
         "type": "scatter",
         "x": [
          84.73180948626154,
          80.69745545047581
         ],
         "y": [
          77.09654744055709,
          76.62317338270135
         ]
        },
        {
         "hoverinfo": "skip",
         "line": {
          "color": "lightblue",
          "width": 1
         },
         "mode": "lines",
         "showlegend": false,
         "type": "scatter",
         "x": [
          4.7610211343468585,
          2.780593251986885
         ],
         "y": [
          34.9020171762667,
          34.16761383291497
         ]
        },
        {
         "hoverinfo": "skip",
         "line": {
          "color": "lightblue",
          "width": 1
         },
         "mode": "lines",
         "showlegend": false,
         "type": "scatter",
         "x": [
          84.31850041118848,
          84.088189136215
         ],
         "y": [
          24.029534575429754,
          26.258905835729564
         ]
        },
        {
         "hoverinfo": "skip",
         "line": {
          "color": "lightblue",
          "width": 1
         },
         "mode": "lines",
         "showlegend": false,
         "type": "scatter",
         "x": [
          14.574483636293838,
          14.626677708085477
         ],
         "y": [
          89.09408926213354,
          90.4192449924138
         ]
        },
        {
         "hoverinfo": "skip",
         "line": {
          "color": "lightblue",
          "width": 1
         },
         "mode": "lines",
         "showlegend": false,
         "type": "scatter",
         "x": [
          97.23414007852257,
          98.92291044465098
         ],
         "y": [
          75.44495945758447,
          73.85649265753732
         ]
        },
        {
         "hoverinfo": "skip",
         "line": {
          "color": "lightblue",
          "width": 1
         },
         "mode": "lines",
         "showlegend": false,
         "type": "scatter",
         "x": [
          5.930271465030943,
          4.844398792040849
         ],
         "y": [
          58.65635503385588,
          60.53047917022513
         ]
        },
        {
         "hoverinfo": "skip",
         "line": {
          "color": "lightblue",
          "width": 1
         },
         "mode": "lines",
         "showlegend": false,
         "type": "scatter",
         "x": [
          82.26563108107015,
          82.87591754731726
         ],
         "y": [
          43.0229549719508,
          44.310176708168456
         ]
        },
        {
         "hoverinfo": "skip",
         "line": {
          "color": "lightblue",
          "width": 1
         },
         "mode": "lines",
         "showlegend": false,
         "type": "scatter",
         "x": [
          24.148322968480628,
          24.063977957978967
         ],
         "y": [
          18.239632490435543,
          17.219714506858587
         ]
        },
        {
         "hoverinfo": "skip",
         "line": {
          "color": "lightblue",
          "width": 1
         },
         "mode": "lines",
         "showlegend": false,
         "type": "scatter",
         "x": [
          61.353511135222085,
          60.389765761042916
         ],
         "y": [
          66.90856943813581,
          62.00232903903711
         ]
        },
        {
         "hoverinfo": "skip",
         "line": {
          "color": "lightblue",
          "width": 1
         },
         "mode": "lines",
         "showlegend": false,
         "type": "scatter",
         "x": [
          19.51544311286493,
          17.648601103791684
         ],
         "y": [
          89.86019594588088,
          89.70382890187727
         ]
        },
        {
         "hoverinfo": "skip",
         "line": {
          "color": "lightblue",
          "width": 1
         },
         "mode": "lines",
         "showlegend": false,
         "type": "scatter",
         "x": [
          95.75267847379514,
          93.32194109476866
         ],
         "y": [
          9.9588618783512,
          7.883815122019078
         ]
        },
        {
         "hoverinfo": "skip",
         "line": {
          "color": "lightblue",
          "width": 1
         },
         "mode": "lines",
         "showlegend": false,
         "type": "scatter",
         "x": [
          56.862971591951194,
          52.24060506609064
         ],
         "y": [
          83.94222337320078,
          82.03598946819231
         ]
        },
        {
         "hoverinfo": "skip",
         "line": {
          "color": "lightblue",
          "width": 1
         },
         "mode": "lines",
         "showlegend": false,
         "type": "scatter",
         "x": [
          60.389765761042916,
          65.09841142652861
         ],
         "y": [
          62.00232903903711,
          60.32046816580686
         ]
        },
        {
         "hoverinfo": "skip",
         "line": {
          "color": "lightblue",
          "width": 1
         },
         "mode": "lines",
         "showlegend": false,
         "type": "scatter",
         "x": [
          21.92121602316445,
          20.77122090265896
         ],
         "y": [
          22.537660833815664,
          22.005991893551634
         ]
        },
        {
         "hoverinfo": "skip",
         "line": {
          "color": "lightblue",
          "width": 1
         },
         "mode": "lines",
         "showlegend": false,
         "type": "scatter",
         "x": [
          71.9659570779247,
          74.08770664844492
         ],
         "y": [
          93.64188181587157,
          97.05336611894718
         ]
        },
        {
         "hoverinfo": "skip",
         "line": {
          "color": "lightblue",
          "width": 1
         },
         "mode": "lines",
         "showlegend": false,
         "type": "scatter",
         "x": [
          39.400213944766584,
          39.38722027695366
         ],
         "y": [
          92.00399840010867,
          88.05265865915011
         ]
        },
        {
         "hoverinfo": "skip",
         "line": {
          "color": "lightblue",
          "width": 1
         },
         "mode": "lines",
         "showlegend": false,
         "type": "scatter",
         "x": [
          86.83089452889952,
          85.32945350705194
         ],
         "y": [
          58.86952970513792,
          58.452078491735705
         ]
        },
        {
         "hoverinfo": "skip",
         "line": {
          "color": "lightblue",
          "width": 1
         },
         "mode": "lines",
         "showlegend": false,
         "type": "scatter",
         "x": [
          18.616931846323382,
          18.23587726752813
         ],
         "y": [
          8.319994068285375,
          10.331363329500032
         ]
        },
        {
         "hoverinfo": "skip",
         "line": {
          "color": "lightblue",
          "width": 1
         },
         "mode": "lines",
         "showlegend": false,
         "type": "scatter",
         "x": [
          84.81052040699022,
          83.71368846287022
         ],
         "y": [
          78.39057887681527,
          79.66339999770902
         ]
        },
        {
         "hoverinfo": "skip",
         "line": {
          "color": "lightblue",
          "width": 1
         },
         "mode": "lines",
         "showlegend": false,
         "type": "scatter",
         "x": [
          14.626677708085477,
          12.604584673624618
         ],
         "y": [
          90.4192449924138,
          94.91433464750698
         ]
        },
        {
         "hoverinfo": "skip",
         "line": {
          "color": "lightblue",
          "width": 1
         },
         "mode": "lines",
         "showlegend": false,
         "type": "scatter",
         "x": [
          65.09841142652861,
          67.39305772477276
         ],
         "y": [
          60.32046816580686,
          56.50750851739558
         ]
        },
        {
         "hoverinfo": "skip",
         "line": {
          "color": "lightblue",
          "width": 1
         },
         "mode": "lines",
         "showlegend": false,
         "type": "scatter",
         "x": [
          7.10017855967059,
          9.131437496470351
         ],
         "y": [
          68.30587228740539,
          66.69133979768208
         ]
        },
        {
         "hoverinfo": "skip",
         "line": {
          "color": "lightblue",
          "width": 1
         },
         "mode": "lines",
         "showlegend": false,
         "type": "scatter",
         "x": [
          60.9331348462066,
          60.10378432497714
         ],
         "y": [
          80.15571417025276,
          80.4820804985753
         ]
        },
        {
         "hoverinfo": "skip",
         "line": {
          "color": "lightblue",
          "width": 1
         },
         "mode": "lines",
         "showlegend": false,
         "type": "scatter",
         "x": [
          12.604584673624618,
          16.594812837458125
         ],
         "y": [
          94.91433464750698,
          97.92731974547044
         ]
        },
        {
         "hoverinfo": "skip",
         "line": {
          "color": "lightblue",
          "width": 1
         },
         "mode": "lines",
         "showlegend": false,
         "type": "scatter",
         "x": [
          60.389765761042916,
          60.67240567338501
         ],
         "y": [
          62.00232903903711,
          57.010323962922776
         ]
        },
        {
         "hoverinfo": "skip",
         "line": {
          "color": "lightblue",
          "width": 1
         },
         "mode": "lines",
         "showlegend": false,
         "type": "scatter",
         "x": [
          52.24060506609064,
          53.83705696830167
         ],
         "y": [
          82.03598946819231,
          77.2977048287973
         ]
        },
        {
         "hoverinfo": "skip",
         "line": {
          "color": "lightblue",
          "width": 1
         },
         "mode": "lines",
         "showlegend": false,
         "type": "scatter",
         "x": [
          53.83705696830167,
          55.433508870512696
         ],
         "y": [
          77.2977048287973,
          72.55942018940227
         ]
        },
        {
         "hoverinfo": "skip",
         "line": {
          "color": "lightblue",
          "width": 1
         },
         "mode": "lines",
         "showlegend": false,
         "type": "scatter",
         "x": [
          56.862971591951194,
          55.65638314963125
         ],
         "y": [
          83.94222337320078,
          82.12479574674714
         ]
        },
        {
         "hoverinfo": "skip",
         "line": {
          "color": "lightblue",
          "width": 1
         },
         "mode": "lines",
         "showlegend": false,
         "type": "scatter",
         "x": [
          84.31850041118848,
          84.45896300433525
         ],
         "y": [
          24.029534575429754,
          23.71644436170447
         ]
        },
        {
         "hoverinfo": "skip",
         "line": {
          "color": "lightblue",
          "width": 1
         },
         "mode": "lines",
         "showlegend": false,
         "type": "scatter",
         "x": [
          12.604584673624618,
          7.635962014626559
         ],
         "y": [
          94.91433464750698,
          94.35505933740376
         ]
        },
        {
         "hoverinfo": "skip",
         "line": {
          "color": "lightblue",
          "width": 1
         },
         "mode": "lines",
         "showlegend": false,
         "type": "scatter",
         "x": [
          92.92234133826209,
          91.56664999924251
         ],
         "y": [
          97.16194866143859,
          97.80847971915524
         ]
        },
        {
         "hoverinfo": "skip",
         "line": {
          "color": "lightblue",
          "width": 1
         },
         "mode": "lines",
         "showlegend": false,
         "type": "scatter",
         "x": [
          5.679769687051194,
          2.79764476062605
         ],
         "y": [
          10.281127027004821,
          9.034826755172897
         ]
        },
        {
         "hoverinfo": "skip",
         "line": {
          "color": "lightblue",
          "width": 1
         },
         "mode": "lines",
         "showlegend": false,
         "type": "scatter",
         "x": [
          61.82569855781017,
          66.68013917901864
         ],
         "y": [
          71.88622340742191,
          70.68855640229854
         ]
        },
        {
         "hoverinfo": "skip",
         "line": {
          "color": "lightblue",
          "width": 1
         },
         "mode": "lines",
         "showlegend": false,
         "type": "scatter",
         "x": [
          53.83705696830167,
          48.91967344354162
         ],
         "y": [
          77.2977048287973,
          76.39253121538466
         ]
        },
        {
         "hoverinfo": "skip",
         "line": {
          "color": "lightblue",
          "width": 1
         },
         "mode": "lines",
         "showlegend": false,
         "type": "scatter",
         "x": [
          67.39305772477276,
          66.04385153595169
         ],
         "y": [
          56.50750851739558,
          51.692984380988435
         ]
        },
        {
         "hoverinfo": "skip",
         "line": {
          "color": "lightblue",
          "width": 1
         },
         "mode": "lines",
         "showlegend": false,
         "type": "scatter",
         "x": [
          52.24060506609064,
          47.32011998097741
         ],
         "y": [
          82.03598946819231,
          82.92414853456401
         ]
        },
        {
         "hoverinfo": "skip",
         "line": {
          "color": "lightblue",
          "width": 1
         },
         "mode": "lines",
         "showlegend": false,
         "type": "scatter",
         "x": [
          83.18709405417927,
          86.2353234311117
         ],
         "y": [
          96.24987348024545,
          97.10238786310651
         ]
        },
        {
         "hoverinfo": "skip",
         "line": {
          "color": "lightblue",
          "width": 1
         },
         "mode": "lines",
         "showlegend": false,
         "type": "scatter",
         "x": [
          29.26351058264276,
          31.451765347820604
         ],
         "y": [
          44.99305138896399,
          46.09552402642285
         ]
        },
        {
         "hoverinfo": "skip",
         "line": {
          "color": "lightblue",
          "width": 1
         },
         "mode": "lines",
         "showlegend": false,
         "type": "scatter",
         "x": [
          66.04385153595169,
          62.24669685912168
         ],
         "y": [
          51.692984380988435,
          48.44004473195896
         ]
        },
        {
         "hoverinfo": "skip",
         "line": {
          "color": "lightblue",
          "width": 1
         },
         "mode": "lines",
         "showlegend": false,
         "type": "scatter",
         "x": [
          55.433508870512696,
          56.79271061362317
         ],
         "y": [
          72.55942018940227,
          67.74770837118982
         ]
        },
        {
         "hoverinfo": "skip",
         "line": {
          "color": "lightblue",
          "width": 1
         },
         "mode": "lines",
         "showlegend": false,
         "type": "scatter",
         "x": [
          39.400213944766584,
          38.88303098221004
         ],
         "y": [
          92.00399840010867,
          96.9771786485253
         ]
        },
        {
         "hoverinfo": "skip",
         "line": {
          "color": "lightblue",
          "width": 1
         },
         "mode": "lines",
         "showlegend": false,
         "type": "scatter",
         "x": [
          85.32945350705194,
          83.60103849014207
         ],
         "y": [
          58.452078491735705,
          60.595867292210734
         ]
        },
        {
         "hoverinfo": "skip",
         "line": {
          "color": "lightblue",
          "width": 1
         },
         "mode": "lines",
         "showlegend": false,
         "type": "scatter",
         "x": [
          9.131437496470351,
          9.973215153660565
         ],
         "y": [
          66.69133979768208,
          63.289126661329675
         ]
        },
        {
         "hoverinfo": "skip",
         "line": {
          "color": "lightblue",
          "width": 1
         },
         "mode": "lines",
         "showlegend": false,
         "type": "scatter",
         "x": [
          94.91488472137839,
          93.52217493026987
         ],
         "y": [
          68.28767968181793,
          68.64559681831625
         ]
        },
        {
         "hoverinfo": "skip",
         "line": {
          "color": "lightblue",
          "width": 1
         },
         "mode": "lines",
         "showlegend": false,
         "type": "scatter",
         "x": [
          26.082167264458512,
          26.805128139565237
         ],
         "y": [
          45.777824845080886,
          44.39459600340571
         ]
        },
        {
         "hoverinfo": "skip",
         "line": {
          "color": "lightblue",
          "width": 1
         },
         "mode": "lines",
         "showlegend": false,
         "type": "scatter",
         "x": [
          89.60758188529225,
          89.80625662410421
         ],
         "y": [
          77.03886819122381,
          78.20014707096902
         ]
        },
        {
         "hoverinfo": "skip",
         "line": {
          "color": "lightblue",
          "width": 1
         },
         "mode": "lines",
         "showlegend": false,
         "type": "scatter",
         "x": [
          2.780593251986885,
          3.0310619337483247
         ],
         "y": [
          34.16761383291497,
          32.71252532897202
         ]
        },
        {
         "hoverinfo": "skip",
         "line": {
          "color": "lightblue",
          "width": 1
         },
         "mode": "lines",
         "showlegend": false,
         "type": "scatter",
         "x": [
          82.47062493894187,
          82.33530926631228
         ],
         "y": [
          69.30003727840688,
          68.45683740916458
         ]
        },
        {
         "hoverinfo": "skip",
         "line": {
          "color": "lightblue",
          "width": 1
         },
         "mode": "lines",
         "showlegend": false,
         "type": "scatter",
         "x": [
          47.32011998097741,
          45.17307257737624
         ],
         "y": [
          82.92414853456401,
          86.91663903384584
         ]
        },
        {
         "hoverinfo": "skip",
         "line": {
          "color": "lightblue",
          "width": 1
         },
         "mode": "lines",
         "showlegend": false,
         "type": "scatter",
         "x": [
          87.85893722301256,
          89.13689492373781
         ],
         "y": [
          36.71961565259995,
          36.512222599469865
         ]
        },
        {
         "hoverinfo": "skip",
         "line": {
          "color": "lightblue",
          "width": 1
         },
         "mode": "lines",
         "showlegend": false,
         "type": "scatter",
         "x": [
          7.635962014626559,
          4.531119995166403
         ],
         "y": [
          94.35505933740376,
          98.2742373168013
         ]
        },
        {
         "hoverinfo": "skip",
         "line": {
          "color": "lightblue",
          "width": 1
         },
         "mode": "lines",
         "showlegend": false,
         "type": "scatter",
         "x": [
          62.24669685912168,
          61.50783076703146
         ],
         "y": [
          48.44004473195896,
          43.49493837334954
         ]
        },
        {
         "hoverinfo": "skip",
         "line": {
          "color": "lightblue",
          "width": 1
         },
         "mode": "lines",
         "showlegend": false,
         "type": "scatter",
         "x": [
          35.32314695570818,
          35.65468890139171
         ],
         "y": [
          18.79740012144519,
          18.434588435882414
         ]
        },
        {
         "hoverinfo": "skip",
         "line": {
          "color": "lightblue",
          "width": 1
         },
         "mode": "lines",
         "showlegend": false,
         "type": "scatter",
         "x": [
          86.98233943718398,
          86.11397288668768
         ],
         "y": [
          30.71606786940533,
          29.085453685589734
         ]
        },
        {
         "hoverinfo": "skip",
         "line": {
          "color": "lightblue",
          "width": 1
         },
         "mode": "lines",
         "showlegend": false,
         "type": "scatter",
         "x": [
          2.79764476062605,
          3.4242143428555583
         ],
         "y": [
          9.034826755172897,
          10.785600035152875
         ]
        },
        {
         "hoverinfo": "skip",
         "line": {
          "color": "lightblue",
          "width": 1
         },
         "mode": "lines",
         "showlegend": false,
         "type": "scatter",
         "x": [
          65.09841142652861,
          64.03564390242218
         ],
         "y": [
          60.32046816580686,
          58.56853836092887
         ]
        },
        {
         "hoverinfo": "skip",
         "line": {
          "color": "lightblue",
          "width": 1
         },
         "mode": "lines",
         "showlegend": false,
         "type": "scatter",
         "x": [
          7.8459229846553935,
          3.8235875606408953
         ],
         "y": [
          73.24994603813,
          75.04003972152802
         ]
        },
        {
         "hoverinfo": "skip",
         "line": {
          "color": "lightblue",
          "width": 1
         },
         "mode": "lines",
         "showlegend": false,
         "type": "scatter",
         "x": [
          99.5960204874062,
          99.93942187173084
         ],
         "y": [
          10.834609986369404,
          10.347606539722998
         ]
        },
        {
         "hoverinfo": "skip",
         "line": {
          "color": "lightblue",
          "width": 1
         },
         "mode": "lines",
         "showlegend": false,
         "type": "scatter",
         "x": [
          29.342201777985302,
          30.063195218467488
         ],
         "y": [
          15.565224521120772,
          16.282081941990967
         ]
        },
        {
         "hoverinfo": "skip",
         "line": {
          "color": "lightblue",
          "width": 1
         },
         "mode": "lines",
         "showlegend": false,
         "type": "scatter",
         "x": [
          85.32945350705194,
          85.80954507830565
         ],
         "y": [
          58.452078491735705,
          57.78820751676751
         ]
        },
        {
         "hoverinfo": "skip",
         "line": {
          "color": "lightblue",
          "width": 1
         },
         "mode": "lines",
         "showlegend": false,
         "type": "scatter",
         "x": [
          29.009615110593835,
          30.516839561825183
         ],
         "y": [
          36.54144021248618,
          35.828669995532415
         ]
        },
        {
         "hoverinfo": "skip",
         "line": {
          "color": "lightblue",
          "width": 1
         },
         "mode": "lines",
         "showlegend": false,
         "type": "scatter",
         "x": [
          91.73141536819583,
          94.53764014624524
         ],
         "y": [
          93.69973387304432,
          93.44799505557982
         ]
        },
        {
         "hoverinfo": "skip",
         "line": {
          "color": "lightblue",
          "width": 1
         },
         "mode": "lines",
         "showlegend": false,
         "type": "scatter",
         "x": [
          1.6199640999868814,
          2.2751931510583745
         ],
         "y": [
          44.89911410213673,
          44.74614189980052
         ]
        },
        {
         "hoverinfo": "skip",
         "line": {
          "color": "lightblue",
          "width": 1
         },
         "mode": "lines",
         "showlegend": false,
         "type": "scatter",
         "x": [
          85.90924557502154,
          88.62136651351415
         ],
         "y": [
          88.22130791574357,
          89.64261833800312
         ]
        },
        {
         "hoverinfo": "skip",
         "line": {
          "color": "lightblue",
          "width": 1
         },
         "mode": "lines",
         "showlegend": false,
         "type": "scatter",
         "x": [
          24.486635820840345,
          23.778177671398293
         ],
         "y": [
          90.39614655943782,
          90.93980961578232
         ]
        },
        {
         "hoverinfo": "skip",
         "line": {
          "color": "lightblue",
          "width": 1
         },
         "mode": "lines",
         "showlegend": false,
         "type": "scatter",
         "x": [
          85.96187148630034,
          85.49321107426043
         ],
         "y": [
          50.76324185427929,
          48.65821991933794
         ]
        },
        {
         "hoverinfo": "skip",
         "line": {
          "color": "lightblue",
          "width": 1
         },
         "mode": "lines",
         "showlegend": false,
         "type": "scatter",
         "x": [
          18.616931846323382,
          19.97539886640014
         ],
         "y": [
          8.319994068285375,
          7.570611684576278
         ]
        },
        {
         "hoverinfo": "skip",
         "line": {
          "color": "lightblue",
          "width": 1
         },
         "mode": "lines",
         "showlegend": false,
         "type": "scatter",
         "x": [
          93.52217493026987,
          93.45675414689492
         ],
         "y": [
          68.64559681831625,
          67.50039420597065
         ]
        },
        {
         "hoverinfo": "skip",
         "line": {
          "color": "lightblue",
          "width": 1
         },
         "mode": "lines",
         "showlegend": false,
         "type": "scatter",
         "x": [
          18.296109620142154,
          23.038447599134102
         ],
         "y": [
          86.5796262372876,
          84.99525554423292
         ]
        },
        {
         "hoverinfo": "skip",
         "line": {
          "color": "lightblue",
          "width": 1
         },
         "mode": "lines",
         "showlegend": false,
         "type": "scatter",
         "x": [
          85.1784571243709,
          84.13960924803541
         ],
         "y": [
          65.23109488291809,
          65.94186402924427
         ]
        },
        {
         "hoverinfo": "skip",
         "line": {
          "color": "lightblue",
          "width": 1
         },
         "mode": "lines",
         "showlegend": false,
         "type": "scatter",
         "x": [
          48.91967344354162,
          44.414006062422324
         ],
         "y": [
          76.39253121538466,
          74.22482241328102
         ]
        },
        {
         "hoverinfo": "skip",
         "line": {
          "color": "lightblue",
          "width": 1
         },
         "mode": "lines",
         "showlegend": false,
         "type": "scatter",
         "x": [
          60.10378432497714,
          61.01708290645036
         ],
         "y": [
          80.4820804985753,
          81.6545089507522
         ]
        },
        {
         "hoverinfo": "skip",
         "line": {
          "color": "lightblue",
          "width": 1
         },
         "mode": "lines",
         "showlegend": false,
         "type": "scatter",
         "x": [
          25.538248719979816,
          27.209191742304217
         ],
         "y": [
          38.72378980192606,
          37.67175650237454
         ]
        },
        {
         "hoverinfo": "skip",
         "line": {
          "color": "lightblue",
          "width": 1
         },
         "mode": "lines",
         "showlegend": false,
         "type": "scatter",
         "x": [
          80.69745545047581,
          82.0930556157073
         ],
         "y": [
          76.62317338270135,
          77.80767882984223
         ]
        },
        {
         "hoverinfo": "skip",
         "line": {
          "color": "lightblue",
          "width": 1
         },
         "mode": "lines",
         "showlegend": false,
         "type": "scatter",
         "x": [
          10.274902397539972,
          8.680746092608715
         ],
         "y": [
          7.6801213410165845,
          9.744475966409894
         ]
        },
        {
         "hoverinfo": "skip",
         "line": {
          "color": "lightblue",
          "width": 1
         },
         "mode": "lines",
         "showlegend": false,
         "type": "scatter",
         "x": [
          64.03564390242218,
          62.11680213544548
         ],
         "y": [
          58.56853836092887,
          59.09382877711178
         ]
        },
        {
         "hoverinfo": "skip",
         "line": {
          "color": "lightblue",
          "width": 1
         },
         "mode": "lines",
         "showlegend": false,
         "type": "scatter",
         "x": [
          32.43478692762884,
          31.824876262763937
         ],
         "y": [
          92.4449799656705,
          96.78223466982699
         ]
        },
        {
         "hoverinfo": "skip",
         "line": {
          "color": "lightblue",
          "width": 1
         },
         "mode": "lines",
         "showlegend": false,
         "type": "scatter",
         "x": [
          61.50783076703146,
          66.15437231416543
         ],
         "y": [
          43.49493837334954,
          41.648414165342025
         ]
        },
        {
         "hoverinfo": "skip",
         "line": {
          "color": "lightblue",
          "width": 1
         },
         "mode": "lines",
         "showlegend": false,
         "type": "scatter",
         "x": [
          16.625614661730115,
          15.764225256071175
         ],
         "y": [
          69.14961107174784,
          66.47568191526574
         ]
        },
        {
         "hoverinfo": "skip",
         "line": {
          "color": "lightblue",
          "width": 1
         },
         "mode": "lines",
         "showlegend": false,
         "type": "scatter",
         "x": [
          99.34737846366885,
          97.71552967682389
         ],
         "y": [
          94.03005146702445,
          97.54413818185509
         ]
        },
        {
         "hoverinfo": "skip",
         "line": {
          "color": "lightblue",
          "width": 1
         },
         "mode": "lines",
         "showlegend": false,
         "type": "scatter",
         "x": [
          2.870182285734358,
          6.685970869867985
         ],
         "y": [
          54.7021352353682,
          54.83742526015845
         ]
        },
        {
         "hoverinfo": "skip",
         "line": {
          "color": "lightblue",
          "width": 1
         },
         "mode": "lines",
         "showlegend": false,
         "type": "scatter",
         "x": [
          95.71116486674704,
          98.1324660646661
         ],
         "y": [
          31.408804767922096,
          30.908435057840922
         ]
        },
        {
         "hoverinfo": "skip",
         "line": {
          "color": "lightblue",
          "width": 1
         },
         "mode": "lines",
         "showlegend": false,
         "type": "scatter",
         "x": [
          16.594812837458125,
          17.204258565165297
         ],
         "y": [
          97.92731974547044,
          96.16687537682031
         ]
        },
        {
         "hoverinfo": "skip",
         "line": {
          "color": "lightblue",
          "width": 1
         },
         "mode": "lines",
         "showlegend": false,
         "type": "scatter",
         "x": [
          91.44087568838118,
          92.17636686917824
         ],
         "y": [
          1.7380684627307241,
          1.8271444542446669
         ]
        },
        {
         "hoverinfo": "skip",
         "line": {
          "color": "lightblue",
          "width": 1
         },
         "mode": "lines",
         "showlegend": false,
         "type": "scatter",
         "x": [
          31.451765347820604,
          33.51668074916007
         ],
         "y": [
          46.09552402642285,
          43.42742997325075
         ]
        },
        {
         "hoverinfo": "skip",
         "line": {
          "color": "lightblue",
          "width": 1
         },
         "mode": "lines",
         "showlegend": false,
         "type": "scatter",
         "x": [
          71.9659570779247,
          71.38581408661162
         ],
         "y": [
          93.64188181587157,
          92.15156060387194
         ]
        },
        {
         "hoverinfo": "skip",
         "line": {
          "color": "lightblue",
          "width": 1
         },
         "mode": "lines",
         "showlegend": false,
         "type": "scatter",
         "x": [
          44.414006062422324,
          39.561989564815775
         ],
         "y": [
          74.22482241328102,
          73.01737224579838
         ]
        },
        {
         "hoverinfo": "skip",
         "line": {
          "color": "lightblue",
          "width": 1
         },
         "mode": "lines",
         "showlegend": false,
         "type": "scatter",
         "x": [
          91.11998088270401,
          91.58305206264788
         ],
         "y": [
          3.376481629822903,
          3.008042410960221
         ]
        },
        {
         "hoverinfo": "skip",
         "line": {
          "color": "lightblue",
          "width": 1
         },
         "mode": "lines",
         "showlegend": false,
         "type": "scatter",
         "x": [
          7.10017855967059,
          6.471999821107744
         ],
         "y": [
          68.30587228740539,
          70.57774332439675
         ]
        },
        {
         "hoverinfo": "skip",
         "line": {
          "color": "lightblue",
          "width": 1
         },
         "mode": "lines",
         "showlegend": false,
         "type": "scatter",
         "x": [
          61.82569855781017,
          62.59066831401178
         ],
         "y": [
          71.88622340742191,
          74.11874936890432
         ]
        },
        {
         "hoverinfo": "skip",
         "line": {
          "color": "lightblue",
          "width": 1
         },
         "mode": "lines",
         "showlegend": false,
         "type": "scatter",
         "x": [
          0.6018034830614805,
          0.39584117861997115
         ],
         "y": [
          58.59919047079521,
          58.40992012379089
         ]
        },
        {
         "hoverinfo": "skip",
         "line": {
          "color": "lightblue",
          "width": 1
         },
         "mode": "lines",
         "showlegend": false,
         "type": "scatter",
         "x": [
          92.8272378218053,
          91.40545180379932
         ],
         "y": [
          84.24625149945854,
          84.31272260011477
         ]
        },
        {
         "hoverinfo": "skip",
         "line": {
          "color": "lightblue",
          "width": 1
         },
         "mode": "lines",
         "showlegend": false,
         "type": "scatter",
         "x": [
          23.558741174307723,
          22.261586687427126
         ],
         "y": [
          30.882893101280384,
          30.410040074604638
         ]
        },
        {
         "hoverinfo": "skip",
         "line": {
          "color": "lightblue",
          "width": 1
         },
         "mode": "lines",
         "showlegend": false,
         "type": "scatter",
         "x": [
          98.92291044465098,
          98.63391115118321
         ],
         "y": [
          73.85649265753732,
          72.38061988863956
         ]
        },
        {
         "hoverinfo": "skip",
         "line": {
          "color": "lightblue",
          "width": 1
         },
         "mode": "lines",
         "showlegend": false,
         "type": "scatter",
         "x": [
          18.296109620142154,
          19.008324656063824
         ],
         "y": [
          86.5796262372876,
          86.28295855808929
         ]
        },
        {
         "hoverinfo": "skip",
         "line": {
          "color": "lightblue",
          "width": 1
         },
         "mode": "lines",
         "showlegend": false,
         "type": "scatter",
         "x": [
          82.00930831328054,
          82.29490624791529
         ],
         "y": [
          24.632150734967585,
          25.51036313177696
         ]
        },
        {
         "hoverinfo": "skip",
         "line": {
          "color": "lightblue",
          "width": 1
         },
         "mode": "lines",
         "showlegend": false,
         "type": "scatter",
         "x": [
          10.131782322661486,
          8.392140297410467
         ],
         "y": [
          14.496457624103677,
          15.628623954412625
         ]
        },
        {
         "hoverinfo": "skip",
         "line": {
          "color": "lightblue",
          "width": 1
         },
         "mode": "lines",
         "showlegend": false,
         "type": "scatter",
         "x": [
          67.39305772477276,
          69.03094982646174
         ],
         "y": [
          56.50750851739558,
          58.616044333683604
         ]
        },
        {
         "hoverinfo": "skip",
         "line": {
          "color": "lightblue",
          "width": 1
         },
         "mode": "lines",
         "showlegend": false,
         "type": "scatter",
         "x": [
          10.274902397539972,
          10.559777429965933
         ],
         "y": [
          7.6801213410165845,
          5.418444098270903
         ]
        },
        {
         "hoverinfo": "skip",
         "line": {
          "color": "lightblue",
          "width": 1
         },
         "mode": "lines",
         "showlegend": false,
         "type": "scatter",
         "x": [
          94.38909193608482,
          96.89360954659404
         ],
         "y": [
          38.10180008726215,
          37.86248096483704
         ]
        },
        {
         "hoverinfo": "skip",
         "line": {
          "color": "lightblue",
          "width": 1
         },
         "mode": "lines",
         "showlegend": false,
         "type": "scatter",
         "x": [
          39.561989564815775,
          38.79292062209703
         ],
         "y": [
          73.01737224579838,
          76.74927200977304
         ]
        },
        {
         "hoverinfo": "skip",
         "line": {
          "color": "lightblue",
          "width": 1
         },
         "mode": "lines",
         "showlegend": false,
         "type": "scatter",
         "x": [
          82.75730819722604,
          83.70317171296858
         ],
         "y": [
          56.920263664872614,
          57.20249327967431
         ]
        },
        {
         "hoverinfo": "skip",
         "line": {
          "color": "lightblue",
          "width": 1
         },
         "mode": "lines",
         "showlegend": false,
         "type": "scatter",
         "x": [
          34.63427396327106,
          32.41190229043127
         ],
         "y": [
          8.13168822050011,
          8.70203803320061
         ]
        },
        {
         "hoverinfo": "skip",
         "line": {
          "color": "lightblue",
          "width": 1
         },
         "mode": "lines",
         "showlegend": false,
         "type": "scatter",
         "x": [
          64.03564390242218,
          64.11366683449775
         ],
         "y": [
          58.56853836092887,
          59.36244859589435
         ]
        },
        {
         "hoverinfo": "skip",
         "line": {
          "color": "lightblue",
          "width": 1
         },
         "mode": "lines",
         "showlegend": false,
         "type": "scatter",
         "x": [
          16.296329941372377,
          17.318153048190045
         ],
         "y": [
          1.5007367046545927,
          3.4740036566273003
         ]
        },
        {
         "hoverinfo": "skip",
         "line": {
          "color": "lightblue",
          "width": 1
         },
         "mode": "lines",
         "showlegend": false,
         "type": "scatter",
         "x": [
          91.5565131095444,
          91.66091433568766
         ],
         "y": [
          19.426370372976965,
          19.18035165397024
         ]
        },
        {
         "hoverinfo": "skip",
         "line": {
          "color": "lightblue",
          "width": 1
         },
         "mode": "lines",
         "showlegend": false,
         "type": "scatter",
         "x": [
          30.21979530222434,
          28.969139092556873
         ],
         "y": [
          32.9833835492292,
          32.84036518448825
         ]
        },
        {
         "hoverinfo": "skip",
         "line": {
          "color": "lightblue",
          "width": 1
         },
         "mode": "lines",
         "showlegend": false,
         "type": "scatter",
         "x": [
          85.83916520152096,
          84.4266130000213
         ],
         "y": [
          51.59904820256477,
          53.532539367433564
         ]
        },
        {
         "hoverinfo": "skip",
         "line": {
          "color": "lightblue",
          "width": 1
         },
         "mode": "lines",
         "showlegend": false,
         "type": "scatter",
         "x": [
          2.776239382508032,
          4.501168462358285
         ],
         "y": [
          49.703017840173985,
          49.1502852484602
         ]
        },
        {
         "hoverinfo": "skip",
         "line": {
          "color": "lightblue",
          "width": 1
         },
         "mode": "lines",
         "showlegend": false,
         "type": "scatter",
         "x": [
          66.15437231416543,
          70.67457054337179
         ],
         "y": [
          41.648414165342025,
          43.78565724199001
         ]
        },
        {
         "hoverinfo": "skip",
         "line": {
          "color": "lightblue",
          "width": 1
         },
         "mode": "lines",
         "showlegend": false,
         "type": "scatter",
         "x": [
          4.6247208663426465,
          4.091499045195701
         ],
         "y": [
          2.6976367583427807,
          1.8714588918714914
         ]
        },
        {
         "hoverinfo": "skip",
         "line": {
          "color": "lightblue",
          "width": 1
         },
         "mode": "lines",
         "showlegend": false,
         "type": "scatter",
         "x": [
          80.5090806879211,
          81.87767780863877
         ],
         "y": [
          7.043680680217623,
          6.940556669572806
         ]
        },
        {
         "hoverinfo": "skip",
         "line": {
          "color": "lightblue",
          "width": 1
         },
         "mode": "lines",
         "showlegend": false,
         "type": "scatter",
         "x": [
          11.550583447017736,
          12.508222216889797
         ],
         "y": [
          30.76766619861876,
          31.10684562145092
         ]
        },
        {
         "hoverinfo": "skip",
         "line": {
          "color": "lightblue",
          "width": 1
         },
         "mode": "lines",
         "showlegend": false,
         "type": "scatter",
         "x": [
          85.65565369339934,
          83.5187301569632
         ],
         "y": [
          72.18263740058507,
          71.60849820533576
         ]
        },
        {
         "hoverinfo": "skip",
         "line": {
          "color": "lightblue",
          "width": 1
         },
         "mode": "lines",
         "showlegend": false,
         "type": "scatter",
         "x": [
          3.8235875606408953,
          0.3196800774110997
         ],
         "y": [
          75.04003972152802,
          72.59270263024914
         ]
        },
        {
         "hoverinfo": "skip",
         "line": {
          "color": "lightblue",
          "width": 1
         },
         "mode": "lines",
         "showlegend": false,
         "type": "scatter",
         "x": [
          92.92234133826209,
          94.08619846870742
         ],
         "y": [
          97.16194866143859,
          96.6909387978325
         ]
        },
        {
         "hoverinfo": "skip",
         "line": {
          "color": "lightblue",
          "width": 1
         },
         "mode": "lines",
         "showlegend": false,
         "type": "scatter",
         "x": [
          3.4175353536973967,
          2.6432574399022024
         ],
         "y": [
          20.73774550619924,
          18.98719419479159
         ]
        },
        {
         "hoverinfo": "skip",
         "line": {
          "color": "lightblue",
          "width": 1
         },
         "mode": "lines",
         "showlegend": false,
         "type": "scatter",
         "x": [
          67.40742248293904,
          65.06519634869821
         ],
         "y": [
          91.5876758022695,
          93.10194040633239
         ]
        },
        {
         "hoverinfo": "skip",
         "line": {
          "color": "lightblue",
          "width": 1
         },
         "mode": "lines",
         "showlegend": false,
         "type": "scatter",
         "x": [
          39.561989564815775,
          40.905136957806356
         ],
         "y": [
          73.01737224579838,
          68.20115432291506
         ]
        },
        {
         "hoverinfo": "skip",
         "line": {
          "color": "lightblue",
          "width": 1
         },
         "mode": "lines",
         "showlegend": false,
         "type": "scatter",
         "x": [
          83.6347388070731,
          84.39895161913856
         ],
         "y": [
          9.539789004957289,
          7.2936166761322525
         ]
        },
        {
         "hoverinfo": "skip",
         "line": {
          "color": "lightblue",
          "width": 1
         },
         "mode": "lines",
         "showlegend": false,
         "type": "scatter",
         "x": [
          44.371406652741996,
          46.40961110298615
         ],
         "y": [
          92.53994901366562,
          92.67534351856062
         ]
        },
        {
         "hoverinfo": "skip",
         "line": {
          "color": "lightblue",
          "width": 1
         },
         "mode": "lines",
         "showlegend": false,
         "type": "scatter",
         "x": [
          96.44301101296423,
          97.88896649790416
         ],
         "y": [
          20.485680639081032,
          21.496261923899397
         ]
        },
        {
         "hoverinfo": "skip",
         "line": {
          "color": "lightblue",
          "width": 1
         },
         "mode": "lines",
         "showlegend": false,
         "type": "scatter",
         "x": [
          15.764225256071175,
          15.825031670048839
         ],
         "y": [
          66.47568191526574,
          67.77501304319273
         ]
        },
        {
         "hoverinfo": "skip",
         "line": {
          "color": "lightblue",
          "width": 1
         },
         "mode": "lines",
         "showlegend": false,
         "type": "scatter",
         "x": [
          69.03094982646174,
          69.27825643480419
         ],
         "y": [
          58.616044333683604,
          59.62920145484419
         ]
        },
        {
         "hoverinfo": "skip",
         "line": {
          "color": "lightblue",
          "width": 1
         },
         "mode": "lines",
         "showlegend": false,
         "type": "scatter",
         "x": [
          7.635962014626559,
          5.19611138879087
         ],
         "y": [
          94.35505933740376,
          91.68000912988931
         ]
        },
        {
         "hoverinfo": "skip",
         "line": {
          "color": "lightblue",
          "width": 1
         },
         "mode": "lines",
         "showlegend": false,
         "type": "scatter",
         "x": [
          85.90924557502154,
          86.79824594561603
         ],
         "y": [
          88.22130791574357,
          88.0475849236656
         ]
        },
        {
         "hoverinfo": "skip",
         "line": {
          "color": "lightblue",
          "width": 1
         },
         "mode": "lines",
         "showlegend": false,
         "type": "scatter",
         "x": [
          20.01166179356292,
          21.65478710365978
         ],
         "y": [
          14.118813811701791,
          14.755665868655331
         ]
        },
        {
         "hoverinfo": "skip",
         "line": {
          "color": "lightblue",
          "width": 1
         },
         "mode": "lines",
         "showlegend": false,
         "type": "scatter",
         "x": [
          92.70256493252957,
          89.45868945850637
         ],
         "y": [
          21.921005890485567,
          22.024470938254005
         ]
        },
        {
         "hoverinfo": "skip",
         "line": {
          "color": "lightblue",
          "width": 1
         },
         "mode": "lines",
         "showlegend": false,
         "type": "scatter",
         "x": [
          23.188912636676374,
          22.134172844323185
         ],
         "y": [
          5.480804593839494,
          3.5603192020542074
         ]
        },
        {
         "hoverinfo": "skip",
         "line": {
          "color": "lightblue",
          "width": 1
         },
         "mode": "lines",
         "showlegend": false,
         "type": "scatter",
         "x": [
          83.71368846287022,
          83.99310194143646
         ],
         "y": [
          79.66339999770902,
          79.34446999937414
         ]
        },
        {
         "hoverinfo": "skip",
         "line": {
          "color": "lightblue",
          "width": 1
         },
         "mode": "lines",
         "showlegend": false,
         "type": "scatter",
         "x": [
          10.92087479659567,
          9.561965379327885
         ],
         "y": [
          29.287727051851736,
          28.116539323817392
         ]
        },
        {
         "hoverinfo": "skip",
         "line": {
          "color": "lightblue",
          "width": 1
         },
         "mode": "lines",
         "showlegend": false,
         "type": "scatter",
         "x": [
          76.96551659453995,
          76.75132750249054
         ],
         "y": [
          93.57551435530632,
          91.25949679875983
         ]
        },
        {
         "hoverinfo": "skip",
         "line": {
          "color": "lightblue",
          "width": 1
         },
         "mode": "lines",
         "showlegend": false,
         "type": "scatter",
         "x": [
          27.115979928128798,
          26.821931928592313
         ],
         "y": [
          9.627394967885383,
          10.44054467336969
         ]
        },
        {
         "hoverinfo": "skip",
         "line": {
          "color": "lightblue",
          "width": 1
         },
         "mode": "lines",
         "showlegend": false,
         "type": "scatter",
         "x": [
          90.35305175456081,
          86.73030546129714
         ],
         "y": [
          41.053135319512734,
          40.67783773447965
         ]
        },
        {
         "hoverinfo": "skip",
         "line": {
          "color": "lightblue",
          "width": 1
         },
         "mode": "lines",
         "showlegend": false,
         "type": "scatter",
         "x": [
          3.8235875606408953,
          0.9491552038397404
         ],
         "y": [
          75.04003972152802,
          79.13120564656388
         ]
        },
        {
         "hoverinfo": "skip",
         "line": {
          "color": "lightblue",
          "width": 1
         },
         "mode": "lines",
         "showlegend": false,
         "type": "scatter",
         "x": [
          66.15437231416543,
          64.4084105743658
         ],
         "y": [
          41.648414165342025,
          36.9631588251118
         ]
        },
        {
         "hoverinfo": "skip",
         "line": {
          "color": "lightblue",
          "width": 1
         },
         "mode": "lines",
         "showlegend": false,
         "type": "scatter",
         "x": [
          38.79292062209703,
          40.895177472827896
         ],
         "y": [
          76.74927200977304,
          79.00433518304595
         ]
        },
        {
         "hoverinfo": "skip",
         "line": {
          "color": "lightblue",
          "width": 1
         },
         "mode": "lines",
         "showlegend": false,
         "type": "scatter",
         "x": [
          64.4084105743658,
          62.17308365756876
         ],
         "y": [
          36.9631588251118,
          32.490652416503465
         ]
        },
        {
         "hoverinfo": "skip",
         "line": {
          "color": "lightblue",
          "width": 1
         },
         "mode": "lines",
         "showlegend": false,
         "type": "scatter",
         "x": [
          5.19611138879087,
          1.256209119741436
         ],
         "y": [
          91.68000912988931,
          91.56169132126037
         ]
        },
        {
         "hoverinfo": "skip",
         "line": {
          "color": "lightblue",
          "width": 1
         },
         "mode": "lines",
         "showlegend": false,
         "type": "scatter",
         "x": [
          90.65055005504976,
          90.25931904991428
         ],
         "y": [
          50.82148111727864,
          51.034590845925365
         ]
        },
        {
         "hoverinfo": "skip",
         "line": {
          "color": "lightblue",
          "width": 1
         },
         "mode": "lines",
         "showlegend": false,
         "type": "scatter",
         "x": [
          16.83271798346385,
          16.894164651939658
         ],
         "y": [
          13.75534583953889,
          14.379957283988709
         ]
        },
        {
         "hoverinfo": "skip",
         "line": {
          "color": "lightblue",
          "width": 1
         },
         "mode": "lines",
         "showlegend": false,
         "type": "scatter",
         "x": [
          93.96223048379301,
          93.37790755110174
         ],
         "y": [
          12.695439064684688,
          12.15683920759214
         ]
        },
        {
         "hoverinfo": "skip",
         "line": {
          "color": "lightblue",
          "width": 1
         },
         "mode": "lines",
         "showlegend": false,
         "type": "scatter",
         "x": [
          35.65775835984715,
          36.0582369613814
         ],
         "y": [
          13.689770147098656,
          11.757899415344198
         ]
        },
        {
         "hoverinfo": "skip",
         "line": {
          "color": "lightblue",
          "width": 1
         },
         "mode": "lines",
         "showlegend": false,
         "type": "scatter",
         "x": [
          76.75132750249054,
          77.9414172851271
         ],
         "y": [
          91.25949679875983,
          91.76288714212139
         ]
        },
        {
         "hoverinfo": "skip",
         "line": {
          "color": "lightblue",
          "width": 1
         },
         "mode": "lines",
         "showlegend": false,
         "type": "scatter",
         "x": [
          16.21127360860619,
          14.243921056263009
         ],
         "y": [
          7.66593747198383,
          4.946441220048681
         ]
        },
        {
         "hoverinfo": "skip",
         "line": {
          "color": "lightblue",
          "width": 1
         },
         "mode": "lines",
         "showlegend": false,
         "type": "scatter",
         "x": [
          62.17308365756876,
          62.347024789337304
         ],
         "y": [
          32.490652416503465,
          27.49367888418622
         ]
        },
        {
         "hoverinfo": "skip",
         "line": {
          "color": "lightblue",
          "width": 1
         },
         "mode": "lines",
         "showlegend": false,
         "type": "scatter",
         "x": [
          35.65775835984715,
          35.18241538301451
         ],
         "y": [
          13.689770147098656,
          14.475216938604763
         ]
        },
        {
         "hoverinfo": "skip",
         "line": {
          "color": "lightblue",
          "width": 1
         },
         "mode": "lines",
         "showlegend": false,
         "type": "scatter",
         "x": [
          95.8828321048626,
          95.05036749764282
         ],
         "y": [
          1.854887651265414,
          3.729164834332266
         ]
        },
        {
         "hoverinfo": "skip",
         "line": {
          "color": "lightblue",
          "width": 1
         },
         "mode": "lines",
         "showlegend": false,
         "type": "scatter",
         "x": [
          30.589374695213966,
          30.153478800774046
         ],
         "y": [
          20.407182773164187,
          19.745428998989965
         ]
        },
        {
         "hoverinfo": "skip",
         "line": {
          "color": "lightblue",
          "width": 1
         },
         "mode": "lines",
         "showlegend": false,
         "type": "scatter",
         "x": [
          90,
          91.64116360663111
         ],
         "y": [
          10,
          9.323479635217524
         ]
        },
        {
         "hoverinfo": "skip",
         "line": {
          "color": "lightblue",
          "width": 1
         },
         "mode": "lines",
         "showlegend": false,
         "type": "scatter",
         "x": [
          3.4175353536973967,
          4.657736921155664
         ],
         "y": [
          20.73774550619924,
          20.109595830477566
         ]
        },
        {
         "hoverinfo": "skip",
         "line": {
          "color": "lightblue",
          "width": 1
         },
         "mode": "lines",
         "showlegend": false,
         "type": "scatter",
         "x": [
          93.13736772523428,
          91.681090854147
         ],
         "y": [
          76.8860700510557,
          76.45194781478676
         ]
        },
        {
         "hoverinfo": "skip",
         "line": {
          "color": "lightblue",
          "width": 1
         },
         "mode": "lines",
         "showlegend": false,
         "type": "scatter",
         "x": [
          4.6247208663426465,
          6.078026049115737
         ],
         "y": [
          2.6976367583427807,
          2.9983236077332442
         ]
        },
        {
         "hoverinfo": "skip",
         "line": {
          "color": "lightblue",
          "width": 1
         },
         "mode": "lines",
         "showlegend": false,
         "type": "scatter",
         "x": [
          90.43967168915934,
          88.72648797490523
         ],
         "y": [
          17.25734904391184,
          17.29417864334445
         ]
        },
        {
         "hoverinfo": "skip",
         "line": {
          "color": "lightblue",
          "width": 1
         },
         "mode": "lines",
         "showlegend": false,
         "type": "scatter",
         "x": [
          34.80698370680926,
          30.531416841856142
         ],
         "y": [
          86.48235381567287,
          84.72875830135004
         ]
        },
        {
         "hoverinfo": "skip",
         "line": {
          "color": "lightblue",
          "width": 1
         },
         "mode": "lines",
         "showlegend": false,
         "type": "scatter",
         "x": [
          95.60515176684598,
          94.56286000947873
         ],
         "y": [
          19.02676230679553,
          17.488776765989222
         ]
        },
        {
         "hoverinfo": "skip",
         "line": {
          "color": "lightblue",
          "width": 1
         },
         "mode": "lines",
         "showlegend": false,
         "type": "scatter",
         "x": [
          32.41190229043127,
          32.34570819424284
         ],
         "y": [
          8.70203803320061,
          6.86520918381508
         ]
        },
        {
         "hoverinfo": "skip",
         "line": {
          "color": "lightblue",
          "width": 1
         },
         "mode": "lines",
         "showlegend": false,
         "type": "scatter",
         "x": [
          94.78678875360742,
          95.64821275721212
         ],
         "y": [
          63.88044481245463,
          65.19087726519867
         ]
        },
        {
         "hoverinfo": "skip",
         "line": {
          "color": "lightblue",
          "width": 1
         },
         "mode": "lines",
         "showlegend": false,
         "type": "scatter",
         "x": [
          36.579529344121674,
          36.95162178798337
         ],
         "y": [
          41.371517065274176,
          41.26362037924246
         ]
        },
        {
         "hoverinfo": "skip",
         "line": {
          "color": "lightblue",
          "width": 1
         },
         "mode": "lines",
         "showlegend": false,
         "type": "scatter",
         "x": [
          99.34737846366885,
          99.4199908039332
         ],
         "y": [
          94.03005146702445,
          96.04131168357365
         ]
        },
        {
         "hoverinfo": "skip",
         "line": {
          "color": "lightblue",
          "width": 1
         },
         "mode": "lines",
         "showlegend": false,
         "type": "scatter",
         "x": [
          9.887959232847951,
          11.20190108499467
         ],
         "y": [
          87.35153681933413,
          83.51824428762623
         ]
        },
        {
         "hoverinfo": "skip",
         "line": {
          "color": "lightblue",
          "width": 1
         },
         "mode": "lines",
         "showlegend": false,
         "type": "scatter",
         "x": [
          91.52001108321791,
          90.2650581120692
         ],
         "y": [
          92.36262893299917,
          92.35893198551054
         ]
        },
        {
         "hoverinfo": "skip",
         "line": {
          "color": "lightblue",
          "width": 1
         },
         "mode": "lines",
         "showlegend": false,
         "type": "scatter",
         "x": [
          5.19611138879087,
          3.9733218417746796
         ],
         "y": [
          91.68000912988931,
          92.39994588791764
         ]
        },
        {
         "hoverinfo": "skip",
         "line": {
          "color": "lightblue",
          "width": 1
         },
         "mode": "lines",
         "showlegend": false,
         "type": "scatter",
         "x": [
          62.347024789337304,
          63.87331831923114
         ],
         "y": [
          27.49367888418622,
          22.732331589501214
         ]
        },
        {
         "hoverinfo": "skip",
         "line": {
          "color": "lightblue",
          "width": 1
         },
         "mode": "lines",
         "showlegend": false,
         "type": "scatter",
         "x": [
          22.261586687427126,
          21.31821254335563
         ],
         "y": [
          30.410040074604638,
          31.24189115784476
         ]
        },
        {
         "hoverinfo": "skip",
         "line": {
          "color": "lightblue",
          "width": 1
         },
         "mode": "lines",
         "showlegend": false,
         "type": "scatter",
         "x": [
          84.13915236487618,
          82.34747981940437
         ],
         "y": [
          37.838755062871435,
          39.10537190208565
         ]
        },
        {
         "hoverinfo": "skip",
         "line": {
          "color": "lightblue",
          "width": 1
         },
         "mode": "lines",
         "showlegend": false,
         "type": "scatter",
         "x": [
          23.331279038091736,
          25.44582118020269
         ],
         "y": [
          95.26083058869983,
          98.8708229918841
         ]
        },
        {
         "hoverinfo": "skip",
         "line": {
          "color": "lightblue",
          "width": 1
         },
         "mode": "lines",
         "showlegend": false,
         "type": "scatter",
         "x": [
          61.50783076703146,
          61.38984865468884
         ],
         "y": [
          43.49493837334954,
          43.420534714340356
         ]
        },
        {
         "hoverinfo": "skip",
         "line": {
          "color": "lightblue",
          "width": 1
         },
         "mode": "lines",
         "showlegend": false,
         "type": "scatter",
         "x": [
          6.078026049115737,
          6.833608020123139
         ],
         "y": [
          2.9983236077332442,
          3.2043541194052283
         ]
        },
        {
         "hoverinfo": "skip",
         "line": {
          "color": "lightblue",
          "width": 1
         },
         "mode": "lines",
         "showlegend": false,
         "type": "scatter",
         "x": [
          76.75132750249054,
          75.91462689661218
         ],
         "y": [
          91.25949679875983,
          90.35679114350998
         ]
        },
        {
         "hoverinfo": "skip",
         "line": {
          "color": "lightblue",
          "width": 1
         },
         "mode": "lines",
         "showlegend": false,
         "type": "scatter",
         "x": [
          19.243209048499967,
          18.370743605458628
         ],
         "y": [
          18.315306201190833,
          16.323614396646235
         ]
        },
        {
         "hoverinfo": "skip",
         "line": {
          "color": "lightblue",
          "width": 1
         },
         "mode": "lines",
         "showlegend": false,
         "type": "scatter",
         "x": [
          69.03094982646174,
          73.35338018072865
         ],
         "y": [
          58.616044333683604,
          56.24945248277966
         ]
        },
        {
         "hoverinfo": "skip",
         "line": {
          "color": "lightblue",
          "width": 1
         },
         "mode": "lines",
         "showlegend": false,
         "type": "scatter",
         "x": [
          56.862971591951194,
          54.42374833714078
         ],
         "y": [
          83.94222337320078,
          84.79836850610388
         ]
        },
        {
         "hoverinfo": "skip",
         "line": {
          "color": "lightblue",
          "width": 1
         },
         "mode": "lines",
         "showlegend": false,
         "type": "scatter",
         "x": [
          88.65742466671604,
          89.63257713385553
         ],
         "y": [
          48.55120220748847,
          48.03921473799873
         ]
        },
        {
         "hoverinfo": "skip",
         "line": {
          "color": "lightblue",
          "width": 1
         },
         "mode": "lines",
         "showlegend": false,
         "type": "scatter",
         "x": [
          3.5527875850148525,
          3.3319608389407396
         ],
         "y": [
          44.76368864592266,
          46.31810442649441
         ]
        },
        {
         "hoverinfo": "skip",
         "line": {
          "color": "lightblue",
          "width": 1
         },
         "mode": "lines",
         "showlegend": false,
         "type": "scatter",
         "x": [
          82.34747981940437,
          84.00638542156777
         ],
         "y": [
          39.10537190208565,
          40.825405081751654
         ]
        },
        {
         "hoverinfo": "skip",
         "line": {
          "color": "lightblue",
          "width": 1
         },
         "mode": "lines",
         "showlegend": false,
         "type": "scatter",
         "x": [
          38.88303098221004,
          43.113646034123654
         ],
         "y": [
          96.9771786485253,
          99.13971391390953
         ]
        },
        {
         "hoverinfo": "skip",
         "line": {
          "color": "lightblue",
          "width": 1
         },
         "mode": "lines",
         "showlegend": false,
         "type": "scatter",
         "x": [
          66.68013917901864,
          67.51764250598946
         ],
         "y": [
          70.68855640229854,
          70.34818630251
         ]
        },
        {
         "hoverinfo": "skip",
         "line": {
          "color": "lightblue",
          "width": 1
         },
         "mode": "lines",
         "showlegend": false,
         "type": "scatter",
         "x": [
          12.508222216889797,
          13.637594041226341
         ],
         "y": [
          31.10684562145092,
          29.42747368233135
         ]
        },
        {
         "hoverinfo": "skip",
         "line": {
          "color": "lightblue",
          "width": 1
         },
         "mode": "lines",
         "showlegend": false,
         "type": "scatter",
         "x": [
          86.56903529200825,
          85.55332327433702
         ],
         "y": [
          93.06108345181616,
          91.67431137030874
         ]
        },
        {
         "hoverinfo": "skip",
         "line": {
          "color": "lightblue",
          "width": 1
         },
         "mode": "lines",
         "showlegend": false,
         "type": "scatter",
         "x": [
          14.437055515187836,
          12.124267116109221
         ],
         "y": [
          33.55728095065427,
          37.29345699118707
         ]
        },
        {
         "hoverinfo": "skip",
         "line": {
          "color": "lightblue",
          "width": 1
         },
         "mode": "lines",
         "showlegend": false,
         "type": "scatter",
         "x": [
          63.87331831923114,
          60.443351262926505
         ],
         "y": [
          22.732331589501214,
          19.094292833156672
         ]
        },
        {
         "hoverinfo": "skip",
         "line": {
          "color": "lightblue",
          "width": 1
         },
         "mode": "lines",
         "showlegend": false,
         "type": "scatter",
         "x": [
          7.10017855967059,
          3.738017212436562
         ],
         "y": [
          68.30587228740539,
          67.9370321093012
         ]
        },
        {
         "hoverinfo": "skip",
         "line": {
          "color": "lightblue",
          "width": 1
         },
         "mode": "lines",
         "showlegend": false,
         "type": "scatter",
         "x": [
          64.03564390242218,
          63.23297025164276
         ],
         "y": [
          58.56853836092887,
          56.30938582167667
         ]
        },
        {
         "hoverinfo": "skip",
         "line": {
          "color": "lightblue",
          "width": 1
         },
         "mode": "lines",
         "showlegend": false,
         "type": "scatter",
         "x": [
          38.88303098221004,
          41.654104211865096
         ],
         "y": [
          96.9771786485253,
          96.53409628505015
         ]
        },
        {
         "hoverinfo": "skip",
         "line": {
          "color": "lightblue",
          "width": 1
         },
         "mode": "lines",
         "showlegend": false,
         "type": "scatter",
         "x": [
          63.87331831923114,
          68.86319869640688
         ],
         "y": [
          22.732331589501214,
          22.414379043550674
         ]
        },
        {
         "hoverinfo": "skip",
         "line": {
          "color": "lightblue",
          "width": 1
         },
         "mode": "lines",
         "showlegend": false,
         "type": "scatter",
         "x": [
          28.186176259734218,
          28.05484653247834
         ],
         "y": [
          8.676257009254957,
          7.413474952394406
         ]
        },
        {
         "hoverinfo": "skip",
         "line": {
          "color": "lightblue",
          "width": 1
         },
         "mode": "lines",
         "showlegend": false,
         "type": "scatter",
         "x": [
          60.443351262926505,
          55.73988485285126
         ],
         "y": [
          19.094292833156672,
          17.39800166437287
         ]
        },
        {
         "hoverinfo": "skip",
         "line": {
          "color": "lightblue",
          "width": 1
         },
         "mode": "lines",
         "showlegend": false,
         "type": "scatter",
         "x": [
          55.73988485285126,
          51.03641844277602
         ],
         "y": [
          17.39800166437287,
          15.701710495589069
         ]
        },
        {
         "hoverinfo": "skip",
         "line": {
          "color": "lightblue",
          "width": 1
         },
         "mode": "lines",
         "showlegend": false,
         "type": "scatter",
         "x": [
          51.03641844277602,
          46.332952032700774
         ],
         "y": [
          15.701710495589069,
          14.005419326805267
         ]
        },
        {
         "hoverinfo": "skip",
         "line": {
          "color": "lightblue",
          "width": 1
         },
         "mode": "lines",
         "showlegend": false,
         "type": "scatter",
         "x": [
          46.332952032700774,
          41.62948562262553
         ],
         "y": [
          14.005419326805267,
          12.309128158021466
         ]
        },
        {
         "hoverinfo": "skip",
         "line": {
          "color": "lightblue",
          "width": 1
         },
         "mode": "lines",
         "showlegend": false,
         "type": "scatter",
         "x": [
          60.67240567338501,
          60.44717926480993
         ],
         "y": [
          57.010323962922776,
          56.655331849439804
         ]
        },
        {
         "hoverinfo": "skip",
         "line": {
          "color": "lightblue",
          "width": 1
         },
         "mode": "lines",
         "showlegend": false,
         "type": "scatter",
         "x": [
          27.679807974767424,
          27.96055976499182
         ],
         "y": [
          41.31725914970552,
          43.00615354219482
         ]
        },
        {
         "hoverinfo": "skip",
         "line": {
          "color": "lightblue",
          "width": 1
         },
         "mode": "lines",
         "showlegend": false,
         "type": "scatter",
         "x": [
          85.73290694277443,
          85.74725827506434
         ],
         "y": [
          19.08933777032673,
          21.028353223500485
         ]
        },
        {
         "hoverinfo": "skip",
         "line": {
          "color": "lightblue",
          "width": 1
         },
         "mode": "lines",
         "showlegend": false,
         "type": "scatter",
         "x": [
          32.41190229043127,
          31.947743848771747
         ],
         "y": [
          8.70203803320061,
          10.099540823301878
         ]
        },
        {
         "hoverinfo": "skip",
         "line": {
          "color": "lightblue",
          "width": 1
         },
         "mode": "lines",
         "showlegend": false,
         "type": "scatter",
         "x": [
          62.84888788795338,
          62.8823527827772
         ],
         "y": [
          89.53346978866743,
          89.54438169552597
         ]
        },
        {
         "hoverinfo": "skip",
         "line": {
          "color": "lightblue",
          "width": 1
         },
         "mode": "lines",
         "showlegend": false,
         "type": "scatter",
         "x": [
          44.371406652741996,
          45.42687450088193
         ],
         "y": [
          92.53994901366562,
          90.21080624449287
         ]
        },
        {
         "hoverinfo": "skip",
         "line": {
          "color": "lightblue",
          "width": 1
         },
         "mode": "lines",
         "showlegend": false,
         "type": "scatter",
         "x": [
          70.67457054337179,
          72.83623848365568
         ],
         "y": [
          43.78565724199001,
          48.29422594125021
         ]
        },
        {
         "hoverinfo": "skip",
         "line": {
          "color": "lightblue",
          "width": 1
         },
         "mode": "lines",
         "showlegend": false,
         "type": "scatter",
         "x": [
          6.967888238150724,
          8.926299262996285
         ],
         "y": [
          83.29281960992819,
          83.78878361800342
         ]
        },
        {
         "hoverinfo": "skip",
         "line": {
          "color": "lightblue",
          "width": 1
         },
         "mode": "lines",
         "showlegend": false,
         "type": "scatter",
         "x": [
          68.86319869640688,
          68.28165636043471
         ],
         "y": [
          22.414379043550674,
          27.38044474100898
         ]
        },
        {
         "hoverinfo": "skip",
         "line": {
          "color": "lightblue",
          "width": 1
         },
         "mode": "lines",
         "showlegend": false,
         "type": "scatter",
         "x": [
          48.91967344354162,
          47.04177863206008
         ],
         "y": [
          76.39253121538466,
          78.51485267594744
         ]
        },
        {
         "hoverinfo": "skip",
         "line": {
          "color": "lightblue",
          "width": 1
         },
         "mode": "lines",
         "showlegend": false,
         "type": "scatter",
         "x": [
          68.86319869640688,
          70.88784295878085
         ],
         "y": [
          22.414379043550674,
          20.768708400525647
         ]
        },
        {
         "hoverinfo": "skip",
         "line": {
          "color": "lightblue",
          "width": 1
         },
         "mode": "lines",
         "showlegend": false,
         "type": "scatter",
         "x": [
          43.113646034123654,
          43.23604154885526
         ],
         "y": [
          99.13971391390953,
          98.79211906427935
         ]
        },
        {
         "hoverinfo": "skip",
         "line": {
          "color": "lightblue",
          "width": 1
         },
         "mode": "lines",
         "showlegend": false,
         "type": "scatter",
         "x": [
          46.332952032700774,
          46.97744523774372
         ],
         "y": [
          14.005419326805267,
          18.44002202798316
         ]
        },
        {
         "hoverinfo": "skip",
         "line": {
          "color": "lightblue",
          "width": 1
         },
         "mode": "lines",
         "showlegend": false,
         "type": "scatter",
         "x": [
          34.48497027106334,
          35.124592431913534
         ],
         "y": [
          21.741074311825336,
          23.356323092778165
         ]
        },
        {
         "hoverinfo": "skip",
         "line": {
          "color": "lightblue",
          "width": 1
         },
         "mode": "lines",
         "showlegend": false,
         "type": "scatter",
         "x": [
          67.39305772477276,
          69.3487427413355
         ],
         "y": [
          56.50750851739558,
          56.14792388544439
         ]
        },
        {
         "hoverinfo": "skip",
         "line": {
          "color": "lightblue",
          "width": 1
         },
         "mode": "lines",
         "showlegend": false,
         "type": "scatter",
         "x": [
          19.51544311286493,
          21.573892862481735
         ],
         "y": [
          89.86019594588088,
          87.9279431145975
         ]
        },
        {
         "hoverinfo": "skip",
         "line": {
          "color": "lightblue",
          "width": 1
         },
         "mode": "lines",
         "showlegend": false,
         "type": "scatter",
         "x": [
          65.06519634869821,
          67.13053001472886
         ],
         "y": [
          93.10194040633239,
          97.65544420538212
         ]
        },
        {
         "hoverinfo": "skip",
         "line": {
          "color": "lightblue",
          "width": 1
         },
         "mode": "lines",
         "showlegend": false,
         "type": "scatter",
         "x": [
          44.371406652741996,
          44.83408193352273
         ],
         "y": [
          92.53994901366562,
          94.41778616699389
         ]
        },
        {
         "hoverinfo": "skip",
         "line": {
          "color": "lightblue",
          "width": 1
         },
         "mode": "lines",
         "showlegend": false,
         "type": "scatter",
         "x": [
          73.35338018072865,
          75.69244815398129
         ],
         "y": [
          56.24945248277966,
          60.29300933673887
         ]
        },
        {
         "hoverinfo": "skip",
         "line": {
          "color": "lightblue",
          "width": 1
         },
         "mode": "lines",
         "showlegend": false,
         "type": "scatter",
         "x": [
          11.53353308103463,
          12.218115803813456
         ],
         "y": [
          21.634017876607313,
          20.28828680155318
         ]
        },
        {
         "hoverinfo": "skip",
         "line": {
          "color": "lightblue",
          "width": 1
         },
         "mode": "lines",
         "showlegend": false,
         "type": "scatter",
         "x": [
          82.25872750724076,
          82.22188139099408
         ],
         "y": [
          10.27129990938499,
          11.357242429463621
         ]
        },
        {
         "hoverinfo": "skip",
         "line": {
          "color": "lightblue",
          "width": 1
         },
         "mode": "lines",
         "showlegend": false,
         "type": "scatter",
         "x": [
          29.45782852881576,
          28.736214707859443
         ],
         "y": [
          90.93209717299477,
          91.61585927220442
         ]
        },
        {
         "hoverinfo": "skip",
         "line": {
          "color": "lightblue",
          "width": 1
         },
         "mode": "lines",
         "showlegend": false,
         "type": "scatter",
         "x": [
          86.56903529200825,
          87.78392880780133
         ],
         "y": [
          93.06108345181616,
          92.24878705423559
         ]
        },
        {
         "hoverinfo": "skip",
         "line": {
          "color": "lightblue",
          "width": 1
         },
         "mode": "lines",
         "showlegend": false,
         "type": "scatter",
         "x": [
          2.79764476062605,
          0.6703998958106583
         ],
         "y": [
          9.034826755172897,
          9.871549114697142
         ]
        },
        {
         "hoverinfo": "skip",
         "line": {
          "color": "lightblue",
          "width": 1
         },
         "mode": "lines",
         "showlegend": false,
         "type": "scatter",
         "x": [
          61.38984865468884,
          60.16186359495413
         ],
         "y": [
          43.420534714340356,
          39.13169818795862
         ]
        },
        {
         "hoverinfo": "skip",
         "line": {
          "color": "lightblue",
          "width": 1
         },
         "mode": "lines",
         "showlegend": false,
         "type": "scatter",
         "x": [
          26.793303799037638,
          28.23935128222672
         ],
         "y": [
          23.661387092380032,
          23.47858008627509
         ]
        },
        {
         "hoverinfo": "skip",
         "line": {
          "color": "lightblue",
          "width": 1
         },
         "mode": "lines",
         "showlegend": false,
         "type": "scatter",
         "x": [
          46.97744523774372,
          43.72658521150977
         ],
         "y": [
          18.44002202798316,
          22.23895728537229
         ]
        },
        {
         "hoverinfo": "skip",
         "line": {
          "color": "lightblue",
          "width": 1
         },
         "mode": "lines",
         "showlegend": false,
         "type": "scatter",
         "x": [
          39.400213944766584,
          37.27218173547475
         ],
         "y": [
          92.00399840010867,
          92.94005873971172
         ]
        },
        {
         "hoverinfo": "skip",
         "line": {
          "color": "lightblue",
          "width": 1
         },
         "mode": "lines",
         "showlegend": false,
         "type": "scatter",
         "x": [
          89.80625662410421,
          90.69453725636856
         ],
         "y": [
          78.20014707096902,
          78.38575378042673
         ]
        },
        {
         "hoverinfo": "skip",
         "line": {
          "color": "lightblue",
          "width": 1
         },
         "mode": "lines",
         "showlegend": false,
         "type": "scatter",
         "x": [
          30.589374695213966,
          31.482297367388025
         ],
         "y": [
          20.407182773164187,
          23.052540904823793
         ]
        },
        {
         "hoverinfo": "skip",
         "line": {
          "color": "lightblue",
          "width": 1
         },
         "mode": "lines",
         "showlegend": false,
         "type": "scatter",
         "x": [
          93.45456620263587,
          92.90357030738538
         ],
         "y": [
          98.39774711510513,
          98.43195383255092
         ]
        },
        {
         "hoverinfo": "skip",
         "line": {
          "color": "lightblue",
          "width": 1
         },
         "mode": "lines",
         "showlegend": false,
         "type": "scatter",
         "x": [
          19.51544311286493,
          19.92108538116758
         ],
         "y": [
          89.86019594588088,
          91.34177689349792
         ]
        },
        {
         "hoverinfo": "skip",
         "line": {
          "color": "lightblue",
          "width": 1
         },
         "mode": "lines",
         "showlegend": false,
         "type": "scatter",
         "x": [
          86.79824594561603,
          87.99335124297977
         ],
         "y": [
          88.0475849236656,
          88.11446584952117
         ]
        },
        {
         "hoverinfo": "skip",
         "line": {
          "color": "lightblue",
          "width": 1
         },
         "mode": "lines",
         "showlegend": false,
         "type": "scatter",
         "x": [
          8.001653727938917,
          11.557001196400352
         ],
         "y": [
          78.40085385860459,
          79.10837454143565
         ]
        },
        {
         "hoverinfo": "skip",
         "line": {
          "color": "lightblue",
          "width": 1
         },
         "mode": "lines",
         "showlegend": false,
         "type": "scatter",
         "x": [
          83.11088594399175,
          82.24029920521826
         ],
         "y": [
          31.2144196803677,
          30.767238724813993
         ]
        },
        {
         "hoverinfo": "skip",
         "line": {
          "color": "lightblue",
          "width": 1
         },
         "mode": "lines",
         "showlegend": false,
         "type": "scatter",
         "x": [
          15.764225256071175,
          15.666312935402116
         ],
         "y": [
          66.47568191526574,
          65.77340719705536
         ]
        },
        {
         "hoverinfo": "skip",
         "line": {
          "color": "lightblue",
          "width": 1
         },
         "mode": "lines",
         "showlegend": false,
         "type": "scatter",
         "x": [
          62.11680213544548,
          62.27332417309429
         ],
         "y": [
          59.09382877711178,
          60.92132738835808
         ]
        },
        {
         "hoverinfo": "skip",
         "line": {
          "color": "lightblue",
          "width": 1
         },
         "mode": "lines",
         "showlegend": false,
         "type": "scatter",
         "x": [
          39.561989564815775,
          34.564709989820464
         ],
         "y": [
          73.01737224579838,
          72.85245757290758
         ]
        },
        {
         "hoverinfo": "skip",
         "line": {
          "color": "lightblue",
          "width": 1
         },
         "mode": "lines",
         "showlegend": false,
         "type": "scatter",
         "x": [
          82.22188139099408,
          82.4752259237913
         ],
         "y": [
          11.357242429463621,
          10.82673203244342
         ]
        },
        {
         "hoverinfo": "skip",
         "line": {
          "color": "lightblue",
          "width": 1
         },
         "mode": "lines",
         "showlegend": false,
         "type": "scatter",
         "x": [
          9.887959232847951,
          6.780341279987345
         ],
         "y": [
          87.35153681933413,
          87.25316547240442
         ]
        },
        {
         "hoverinfo": "skip",
         "line": {
          "color": "lightblue",
          "width": 1
         },
         "mode": "lines",
         "showlegend": false,
         "type": "scatter",
         "x": [
          62.17308365756876,
          60.67072819220996
         ],
         "y": [
          32.490652416503465,
          32.01617829475912
         ]
        },
        {
         "hoverinfo": "skip",
         "line": {
          "color": "lightblue",
          "width": 1
         },
         "mode": "lines",
         "showlegend": false,
         "type": "scatter",
         "x": [
          30.531416841856142,
          28.03984767747214
         ],
         "y": [
          84.72875830135004,
          86.09360114509683
         ]
        },
        {
         "hoverinfo": "skip",
         "line": {
          "color": "lightblue",
          "width": 1
         },
         "mode": "lines",
         "showlegend": false,
         "type": "scatter",
         "x": [
          95.31928642527684,
          92.7895287444761
         ],
         "y": [
          55.987754823451674,
          55.028488574446975
         ]
        },
        {
         "hoverinfo": "skip",
         "line": {
          "color": "lightblue",
          "width": 1
         },
         "mode": "lines",
         "showlegend": false,
         "type": "scatter",
         "x": [
          43.23604154885526,
          46.926956766483784
         ],
         "y": [
          98.79211906427935,
          99.91823797712573
         ]
        },
        {
         "hoverinfo": "skip",
         "line": {
          "color": "lightblue",
          "width": 1
         },
         "mode": "lines",
         "showlegend": false,
         "type": "scatter",
         "x": [
          43.72658521150977,
          40.08096854900285
         ],
         "y": [
          22.23895728537229,
          25.660868907558328
         ]
        },
        {
         "hoverinfo": "skip",
         "line": {
          "color": "lightblue",
          "width": 1
         },
         "mode": "lines",
         "showlegend": false,
         "type": "scatter",
         "x": [
          33.850585252353085,
          32.748204781928635
         ],
         "y": [
          38.786812994771715,
          39.454474761974666
         ]
        },
        {
         "hoverinfo": "skip",
         "line": {
          "color": "lightblue",
          "width": 1
         },
         "mode": "lines",
         "showlegend": false,
         "type": "scatter",
         "x": [
          68.255551518972,
          72.11145148970046
         ],
         "y": [
          83.82038334127398,
          85.85233538775353
         ]
        },
        {
         "hoverinfo": "skip",
         "line": {
          "color": "lightblue",
          "width": 1
         },
         "mode": "lines",
         "showlegend": false,
         "type": "scatter",
         "x": [
          13.495915854936014,
          13.16334530328841
         ],
         "y": [
          24.237772172059145,
          23.91766453579256
         ]
        },
        {
         "hoverinfo": "skip",
         "line": {
          "color": "lightblue",
          "width": 1
         },
         "mode": "lines",
         "showlegend": false,
         "type": "scatter",
         "x": [
          93.37790755110174,
          93.0813957488159
         ],
         "y": [
          12.15683920759214,
          12.812157175106197
         ]
        },
        {
         "hoverinfo": "skip",
         "line": {
          "color": "lightblue",
          "width": 1
         },
         "mode": "lines",
         "showlegend": false,
         "type": "scatter",
         "x": [
          3.4175353536973967,
          3.51062832766168
         ],
         "y": [
          20.73774550619924,
          19.778587859509834
         ]
        },
        {
         "hoverinfo": "skip",
         "line": {
          "color": "lightblue",
          "width": 1
         },
         "mode": "lines",
         "showlegend": false,
         "type": "scatter",
         "x": [
          60.67072819220996,
          60.82905681250963
         ],
         "y": [
          32.01617829475912,
          30.053351306831555
         ]
        },
        {
         "hoverinfo": "skip",
         "line": {
          "color": "lightblue",
          "width": 1
         },
         "mode": "lines",
         "showlegend": false,
         "type": "scatter",
         "x": [
          2.870182285734358,
          1.957310259862799
         ],
         "y": [
          54.7021352353682,
          54.35086664114731
         ]
        },
        {
         "hoverinfo": "skip",
         "line": {
          "color": "lightblue",
          "width": 1
         },
         "mode": "lines",
         "showlegend": false,
         "type": "scatter",
         "x": [
          88.03408227665275,
          89.39282544009177
         ],
         "y": [
          70.5103706041208,
          70.32900911133174
         ]
        },
        {
         "hoverinfo": "skip",
         "line": {
          "color": "lightblue",
          "width": 1
         },
         "mode": "lines",
         "showlegend": false,
         "type": "scatter",
         "x": [
          30.589374695213966,
          32.30212541175016
         ],
         "y": [
          20.407182773164187,
          20.626386573269052
         ]
        },
        {
         "hoverinfo": "skip",
         "line": {
          "color": "lightblue",
          "width": 1
         },
         "mode": "lines",
         "showlegend": false,
         "type": "scatter",
         "x": [
          82.34749908267916,
          83.11267824699775
         ],
         "y": [
          92.90853714598006,
          91.66823329503629
         ]
        },
        {
         "hoverinfo": "skip",
         "line": {
          "color": "lightblue",
          "width": 1
         },
         "mode": "lines",
         "showlegend": false,
         "type": "scatter",
         "x": [
          16.625614661730115,
          16.771038141383986
         ],
         "y": [
          69.14961107174784,
          70.18380571682346
         ]
        },
        {
         "hoverinfo": "skip",
         "line": {
          "color": "lightblue",
          "width": 1
         },
         "mode": "lines",
         "showlegend": false,
         "type": "scatter",
         "x": [
          91.681090854147,
          90.09868446838377
         ],
         "y": [
          76.45194781478676,
          74.81528713648675
         ]
        },
        {
         "hoverinfo": "skip",
         "line": {
          "color": "lightblue",
          "width": 1
         },
         "mode": "lines",
         "showlegend": false,
         "type": "scatter",
         "x": [
          31.306084092407794,
          32.01105330054792
         ],
         "y": [
          15.903783693299623,
          15.017112956200418
         ]
        },
        {
         "hoverinfo": "skip",
         "line": {
          "color": "lightblue",
          "width": 1
         },
         "mode": "lines",
         "showlegend": false,
         "type": "scatter",
         "x": [
          75.91462689661218,
          75.79385035845179
         ],
         "y": [
          90.35679114350998,
          88.24138681948611
         ]
        },
        {
         "hoverinfo": "skip",
         "line": {
          "color": "lightblue",
          "width": 1
         },
         "mode": "lines",
         "showlegend": false,
         "type": "scatter",
         "x": [
          3.8015942201442887,
          3.3035160679951048
         ],
         "y": [
          28.10863285619328,
          26.954173488368294
         ]
        },
        {
         "hoverinfo": "skip",
         "line": {
          "color": "lightblue",
          "width": 1
         },
         "mode": "lines",
         "showlegend": false,
         "type": "scatter",
         "x": [
          93.68104857559291,
          90.8795728450264
         ],
         "y": [
          59.64419437738988,
          60.04157333681609
         ]
        },
        {
         "hoverinfo": "skip",
         "line": {
          "color": "lightblue",
          "width": 1
         },
         "mode": "lines",
         "showlegend": false,
         "type": "scatter",
         "x": [
          5.349227863663917,
          3.615174884262762
         ],
         "y": [
          63.62247910936089,
          63.276385520240055
         ]
        },
        {
         "hoverinfo": "skip",
         "line": {
          "color": "lightblue",
          "width": 1
         },
         "mode": "lines",
         "showlegend": false,
         "type": "scatter",
         "x": [
          61.353511135222085,
          61.52517720280402
         ],
         "y": [
          66.90856943813581,
          68.54168111442903
         ]
        },
        {
         "hoverinfo": "skip",
         "line": {
          "color": "lightblue",
          "width": 1
         },
         "mode": "lines",
         "showlegend": false,
         "type": "scatter",
         "x": [
          26.805128139565237,
          25.59085565765923
         ],
         "y": [
          44.39459600340571,
          43.54411048812086
         ]
        },
        {
         "hoverinfo": "skip",
         "line": {
          "color": "lightblue",
          "width": 1
         },
         "mode": "lines",
         "showlegend": false,
         "type": "scatter",
         "x": [
          91.52001108321791,
          90.9682648930613
         ],
         "y": [
          92.36262893299917,
          91.82375696016426
         ]
        },
        {
         "hoverinfo": "skip",
         "line": {
          "color": "lightblue",
          "width": 1
         },
         "mode": "lines",
         "showlegend": false,
         "type": "scatter",
         "x": [
          53.83705696830167,
          54.62768437200306
         ],
         "y": [
          77.2977048287973,
          78.91408244286842
         ]
        },
        {
         "hoverinfo": "skip",
         "line": {
          "color": "lightblue",
          "width": 1
         },
         "mode": "lines",
         "showlegend": false,
         "type": "scatter",
         "x": [
          86.56903529200825,
          86.66864089513872
         ],
         "y": [
          93.06108345181616,
          94.57079334742704
         ]
        },
        {
         "hoverinfo": "skip",
         "line": {
          "color": "lightblue",
          "width": 1
         },
         "mode": "lines",
         "showlegend": false,
         "type": "scatter",
         "x": [
          30.837473265482085,
          32.81823011475938
         ],
         "y": [
          30.590846155947236,
          27.940836907403753
         ]
        },
        {
         "hoverinfo": "skip",
         "line": {
          "color": "lightblue",
          "width": 1
         },
         "mode": "lines",
         "showlegend": false,
         "type": "scatter",
         "x": [
          85.55332327433702,
          86.52614568100424
         ],
         "y": [
          91.67431137030874,
          90.14849123237944
         ]
        },
        {
         "hoverinfo": "skip",
         "line": {
          "color": "lightblue",
          "width": 1
         },
         "mode": "lines",
         "showlegend": false,
         "type": "scatter",
         "x": [
          40.905136957806356,
          36.20757939018473
         ],
         "y": [
          68.20115432291506,
          66.48856771229333
         ]
        },
        {
         "hoverinfo": "skip",
         "line": {
          "color": "lightblue",
          "width": 1
         },
         "mode": "lines",
         "showlegend": false,
         "type": "scatter",
         "x": [
          94.44407929477198,
          92.35934128688041
         ],
         "y": [
          29.40621365554933,
          29.926691077117486
         ]
        },
        {
         "hoverinfo": "skip",
         "line": {
          "color": "lightblue",
          "width": 1
         },
         "mode": "lines",
         "showlegend": false,
         "type": "scatter",
         "x": [
          30.516839561825183,
          30.386413781151777
         ],
         "y": [
          35.828669995532415,
          35.59029972940105
         ]
        },
        {
         "hoverinfo": "skip",
         "line": {
          "color": "lightblue",
          "width": 1
         },
         "mode": "lines",
         "showlegend": false,
         "type": "scatter",
         "x": [
          85.55066307806048,
          86.49336494511304
         ],
         "y": [
          12.281096437037638,
          11.818201501072634
         ]
        },
        {
         "hoverinfo": "skip",
         "line": {
          "color": "lightblue",
          "width": 1
         },
         "mode": "lines",
         "showlegend": false,
         "type": "scatter",
         "x": [
          35.65775835984715,
          36.56556835280643
         ],
         "y": [
          13.689770147098656,
          13.900013430981195
         ]
        },
        {
         "hoverinfo": "skip",
         "line": {
          "color": "lightblue",
          "width": 1
         },
         "mode": "lines",
         "showlegend": false,
         "type": "scatter",
         "x": [
          86.98233943718398,
          88.87504567636392
         ],
         "y": [
          30.71606786940533,
          29.421699869303453
         ]
        },
        {
         "hoverinfo": "skip",
         "line": {
          "color": "lightblue",
          "width": 1
         },
         "mode": "lines",
         "showlegend": false,
         "type": "scatter",
         "x": [
          20.01166179356292,
          20.655963474515527
         ],
         "y": [
          14.118813811701791,
          13.448793124461833
         ]
        },
        {
         "hoverinfo": "skip",
         "line": {
          "color": "lightblue",
          "width": 1
         },
         "mode": "lines",
         "showlegend": false,
         "type": "scatter",
         "x": [
          84.85814012176898,
          85.59959779846203
         ],
         "y": [
          34.25186917738491,
          33.54692711586401
         ]
        },
        {
         "hoverinfo": "skip",
         "line": {
          "color": "lightblue",
          "width": 1
         },
         "mode": "lines",
         "showlegend": false,
         "type": "scatter",
         "x": [
          12.218115803813456,
          9.036637147417348
         ],
         "y": [
          20.28828680155318,
          19.429233185801355
         ]
        },
        {
         "hoverinfo": "skip",
         "line": {
          "color": "lightblue",
          "width": 1
         },
         "mode": "lines",
         "showlegend": false,
         "type": "scatter",
         "x": [
          97.88060734217623,
          99.88853466083307
         ],
         "y": [
          2.296240981310349,
          3.385397988281924
         ]
        },
        {
         "hoverinfo": "skip",
         "line": {
          "color": "lightblue",
          "width": 1
         },
         "mode": "lines",
         "showlegend": false,
         "type": "scatter",
         "x": [
          23.331279038091736,
          23.29092451661098
         ],
         "y": [
          95.26083058869983,
          95.97192488530432
         ]
        },
        {
         "hoverinfo": "skip",
         "line": {
          "color": "lightblue",
          "width": 1
         },
         "mode": "lines",
         "showlegend": false,
         "type": "scatter",
         "x": [
          84.63783963635163,
          81.6452619872138
         ],
         "y": [
          3.3851200035755324,
          3.6899241027326224
         ]
        },
        {
         "hoverinfo": "skip",
         "line": {
          "color": "lightblue",
          "width": 1
         },
         "mode": "lines",
         "showlegend": false,
         "type": "scatter",
         "x": [
          6.1833198403911105,
          6.678883832047933
         ],
         "y": [
          11.518149179444503,
          12.23648460315092
         ]
        },
        {
         "hoverinfo": "skip",
         "line": {
          "color": "lightblue",
          "width": 1
         },
         "mode": "lines",
         "showlegend": false,
         "type": "scatter",
         "x": [
          80.38410784138071,
          80.77807890262972
         ],
         "y": [
          69.32583146317954,
          70.05866113049913
         ]
        },
        {
         "hoverinfo": "skip",
         "line": {
          "color": "lightblue",
          "width": 1
         },
         "mode": "lines",
         "showlegend": false,
         "type": "scatter",
         "x": [
          9.887959232847951,
          9.451108606041736
         ],
         "y": [
          87.35153681933413,
          87.08272142399721
         ]
        },
        {
         "hoverinfo": "skip",
         "line": {
          "color": "lightblue",
          "width": 1
         },
         "mode": "lines",
         "showlegend": false,
         "type": "scatter",
         "x": [
          55.73988485285126,
          56.917651737305654
         ],
         "y": [
          17.39800166437287,
          12.53869459794019
         ]
        },
        {
         "hoverinfo": "skip",
         "line": {
          "color": "lightblue",
          "width": 1
         },
         "mode": "lines",
         "showlegend": false,
         "type": "scatter",
         "x": [
          10.152222182795311,
          10.068345438212011
         ],
         "y": [
          31.200318809417894,
          32.53835041987252
         ]
        },
        {
         "hoverinfo": "skip",
         "line": {
          "color": "lightblue",
          "width": 1
         },
         "mode": "lines",
         "showlegend": false,
         "type": "scatter",
         "x": [
          46.97744523774372,
          50.411630851519305
         ],
         "y": [
          18.44002202798316,
          21.209194691135625
         ]
        },
        {
         "hoverinfo": "skip",
         "line": {
          "color": "lightblue",
          "width": 1
         },
         "mode": "lines",
         "showlegend": false,
         "type": "scatter",
         "x": [
          3.593751301221341,
          4.989646576704098
         ],
         "y": [
          39.763856451343074,
          40.81272849176734
         ]
        },
        {
         "hoverinfo": "skip",
         "line": {
          "color": "lightblue",
          "width": 1
         },
         "mode": "lines",
         "showlegend": false,
         "type": "scatter",
         "x": [
          86.11397288668768,
          86.5041002901068
         ],
         "y": [
          29.085453685589734,
          29.648070277343276
         ]
        },
        {
         "hoverinfo": "skip",
         "line": {
          "color": "lightblue",
          "width": 1
         },
         "mode": "lines",
         "showlegend": false,
         "type": "scatter",
         "x": [
          37.27218173547475,
          36.48040236590943
         ],
         "y": [
          92.94005873971172,
          92.57997960772849
         ]
        },
        {
         "hoverinfo": "skip",
         "line": {
          "color": "lightblue",
          "width": 1
         },
         "mode": "lines",
         "showlegend": false,
         "type": "scatter",
         "x": [
          62.347024789337304,
          60.246672262104916
         ],
         "y": [
          27.49367888418622,
          26.131518143809185
         ]
        },
        {
         "hoverinfo": "skip",
         "line": {
          "color": "lightblue",
          "width": 1
         },
         "mode": "lines",
         "showlegend": false,
         "type": "scatter",
         "x": [
          19.92108538116758,
          19.30051454407179
         ],
         "y": [
          91.34177689349792,
          92.50027166383322
         ]
        },
        {
         "hoverinfo": "skip",
         "line": {
          "color": "lightblue",
          "width": 1
         },
         "mode": "lines",
         "showlegend": false,
         "type": "scatter",
         "x": [
          62.84888788795338,
          61.641799653822936
         ],
         "y": [
          89.53346978866743,
          89.26143062623022
         ]
        },
        {
         "hoverinfo": "skip",
         "line": {
          "color": "lightblue",
          "width": 1
         },
         "mode": "lines",
         "showlegend": false,
         "type": "scatter",
         "x": [
          7.8459229846553935,
          9.91402035217227
         ],
         "y": [
          73.24994603813,
          75.45701920371901
         ]
        },
        {
         "hoverinfo": "skip",
         "line": {
          "color": "lightblue",
          "width": 1
         },
         "mode": "lines",
         "showlegend": false,
         "type": "scatter",
         "x": [
          56.917651737305654,
          60.334455355349604
         ],
         "y": [
          12.53869459794019,
          8.88829009491292
         ]
        },
        {
         "hoverinfo": "skip",
         "line": {
          "color": "lightblue",
          "width": 1
         },
         "mode": "lines",
         "showlegend": false,
         "type": "scatter",
         "x": [
          14.574483636293838,
          15.397050395480916
         ],
         "y": [
          89.09408926213354,
          87.84553649960903
         ]
        },
        {
         "hoverinfo": "skip",
         "line": {
          "color": "lightblue",
          "width": 1
         },
         "mode": "lines",
         "showlegend": false,
         "type": "scatter",
         "x": [
          83.70317171296858,
          84.62321268578708
         ],
         "y": [
          57.20249327967431,
          56.85016324941428
         ]
        },
        {
         "hoverinfo": "skip",
         "line": {
          "color": "lightblue",
          "width": 1
         },
         "mode": "lines",
         "showlegend": false,
         "type": "scatter",
         "x": [
          29.995501924661216,
          32.10577545480603
         ],
         "y": [
          17.972440673899882,
          18.365832353327104
         ]
        },
        {
         "hoverinfo": "skip",
         "line": {
          "color": "lightblue",
          "width": 1
         },
         "mode": "lines",
         "showlegend": false,
         "type": "scatter",
         "x": [
          71.38581408661162,
          73.0125696506554
         ],
         "y": [
          92.15156060387194,
          89.94212540754893
         ]
        },
        {
         "hoverinfo": "skip",
         "line": {
          "color": "lightblue",
          "width": 1
         },
         "mode": "lines",
         "showlegend": false,
         "type": "scatter",
         "x": [
          12.83281740989611,
          13.011118014939605
         ],
         "y": [
          72.8881671118462,
          73.035825162967
         ]
        },
        {
         "hoverinfo": "skip",
         "line": {
          "color": "lightblue",
          "width": 1
         },
         "mode": "lines",
         "showlegend": false,
         "type": "scatter",
         "x": [
          72.83623848365568,
          76.48491163291973
         ],
         "y": [
          48.29422594125021,
          49.42188596435373
         ]
        },
        {
         "hoverinfo": "skip",
         "line": {
          "color": "lightblue",
          "width": 1
         },
         "mode": "lines",
         "showlegend": false,
         "type": "scatter",
         "x": [
          36.20757939018473,
          31.335253087481238
         ],
         "y": [
          66.48856771229333,
          65.36587612508708
         ]
        },
        {
         "hoverinfo": "skip",
         "line": {
          "color": "lightblue",
          "width": 1
         },
         "mode": "lines",
         "showlegend": false,
         "type": "scatter",
         "x": [
          67.51764250598946,
          70.60085579286944
         ],
         "y": [
          70.34818630251,
          70.38230418862517
         ]
        },
        {
         "hoverinfo": "skip",
         "line": {
          "color": "lightblue",
          "width": 1
         },
         "mode": "lines",
         "showlegend": false,
         "type": "scatter",
         "x": [
          45.17307257737624,
          44.579996686635624
         ],
         "y": [
          86.91663903384584,
          88.40809305509465
         ]
        },
        {
         "hoverinfo": "skip",
         "line": {
          "color": "lightblue",
          "width": 1
         },
         "mode": "lines",
         "showlegend": false,
         "type": "scatter",
         "x": [
          80.41035964579764,
          81.03666004997913
         ],
         "y": [
          61.33521921356709,
          61.689904595417666
         ]
        },
        {
         "hoverinfo": "skip",
         "line": {
          "color": "lightblue",
          "width": 1
         },
         "mode": "lines",
         "showlegend": false,
         "type": "scatter",
         "x": [
          34.80698370680926,
          34.39028061884648
         ],
         "y": [
          86.48235381567287,
          84.46000085390037
         ]
        },
        {
         "hoverinfo": "skip",
         "line": {
          "color": "lightblue",
          "width": 1
         },
         "mode": "lines",
         "showlegend": false,
         "type": "scatter",
         "x": [
          93.12551650951698,
          93.0622286631493
         ],
         "y": [
          46.57224536529142,
          47.848273330052706
         ]
        },
        {
         "hoverinfo": "skip",
         "line": {
          "color": "lightblue",
          "width": 1
         },
         "mode": "lines",
         "showlegend": false,
         "type": "scatter",
         "x": [
          4.60726246689207,
          5.109114444907615
         ],
         "y": [
          13.757852557607142,
          16.169224669639014
         ]
        },
        {
         "hoverinfo": "skip",
         "line": {
          "color": "lightblue",
          "width": 1
         },
         "mode": "lines",
         "showlegend": false,
         "type": "scatter",
         "x": [
          83.60103849014207,
          84.41119985872015
         ],
         "y": [
          60.595867292210734,
          62.692983239160206
         ]
        },
        {
         "hoverinfo": "skip",
         "line": {
          "color": "lightblue",
          "width": 1
         },
         "mode": "lines",
         "showlegend": false,
         "type": "scatter",
         "x": [
          45.17307257737624,
          44.660122560118275
         ],
         "y": [
          86.91663903384584,
          86.80730837022737
         ]
        },
        {
         "hoverinfo": "skip",
         "line": {
          "color": "lightblue",
          "width": 1
         },
         "mode": "lines",
         "showlegend": false,
         "type": "scatter",
         "x": [
          60.334455355349604,
          57.00316559139236
         ],
         "y": [
          8.88829009491292,
          5.159683316429338
         ]
        },
        {
         "hoverinfo": "skip",
         "line": {
          "color": "lightblue",
          "width": 1
         },
         "mode": "lines",
         "showlegend": false,
         "type": "scatter",
         "x": [
          8.677890318028169,
          9.184987595412409
         ],
         "y": [
          59.674932191920036,
          60.94069645784287
         ]
        },
        {
         "hoverinfo": "skip",
         "line": {
          "color": "lightblue",
          "width": 1
         },
         "mode": "lines",
         "showlegend": false,
         "type": "scatter",
         "x": [
          93.45675414689492,
          93.4808600965828
         ],
         "y": [
          67.50039420597065,
          65.96298669638888
         ]
        },
        {
         "hoverinfo": "skip",
         "line": {
          "color": "lightblue",
          "width": 1
         },
         "mode": "lines",
         "showlegend": false,
         "type": "scatter",
         "x": [
          19.51544311286493,
          20.611790102723926
         ],
         "y": [
          89.86019594588088,
          89.95136706856412
         ]
        },
        {
         "hoverinfo": "skip",
         "line": {
          "color": "lightblue",
          "width": 1
         },
         "mode": "lines",
         "showlegend": false,
         "type": "scatter",
         "x": [
          64.4084105743658,
          66.3575712569999
         ],
         "y": [
          36.9631588251118,
          35.62984962416584
         ]
        },
        {
         "hoverinfo": "skip",
         "line": {
          "color": "lightblue",
          "width": 1
         },
         "mode": "lines",
         "showlegend": false,
         "type": "scatter",
         "x": [
          12.508222216889797,
          12.01364623117428
         ],
         "y": [
          31.10684562145092,
          32.04363911896058
         ]
        },
        {
         "hoverinfo": "skip",
         "line": {
          "color": "lightblue",
          "width": 1
         },
         "mode": "lines",
         "showlegend": false,
         "type": "scatter",
         "x": [
          93.13736772523428,
          93.93971640413476
         ],
         "y": [
          76.8860700510557,
          77.40851725299025
         ]
        },
        {
         "hoverinfo": "skip",
         "line": {
          "color": "lightblue",
          "width": 1
         },
         "mode": "lines",
         "showlegend": false,
         "type": "scatter",
         "x": [
          21.65478710365978,
          22.705941536684747
         ],
         "y": [
          14.755665868655331,
          15.040860018679957
         ]
        },
        {
         "hoverinfo": "skip",
         "line": {
          "color": "lightblue",
          "width": 1
         },
         "mode": "lines",
         "showlegend": false,
         "type": "scatter",
         "x": [
          60.334455355349604,
          64.34774756074123
         ],
         "y": [
          8.88829009491292,
          11.870484869595286
         ]
        },
        {
         "hoverinfo": "skip",
         "line": {
          "color": "lightblue",
          "width": 1
         },
         "mode": "lines",
         "showlegend": false,
         "type": "scatter",
         "x": [
          15.764225256071175,
          16.33532950145615
         ],
         "y": [
          66.47568191526574,
          66.20850602740322
         ]
        },
        {
         "hoverinfo": "skip",
         "line": {
          "color": "lightblue",
          "width": 1
         },
         "mode": "lines",
         "showlegend": false,
         "type": "scatter",
         "x": [
          62.24669685912168,
          65.01619768367594
         ],
         "y": [
          48.44004473195896,
          48.55653392850815
         ]
        },
        {
         "hoverinfo": "skip",
         "line": {
          "color": "lightblue",
          "width": 1
         },
         "mode": "lines",
         "showlegend": false,
         "type": "scatter",
         "x": [
          10.068979460279442,
          8.963185814410402
         ],
         "y": [
          12.675879115760072,
          13.542486983487635
         ]
        },
        {
         "hoverinfo": "skip",
         "line": {
          "color": "lightblue",
          "width": 1
         },
         "mode": "lines",
         "showlegend": false,
         "type": "scatter",
         "x": [
          40.08096854900285,
          42.74620830349161
         ],
         "y": [
          25.660868907558328,
          29.891294069535864
         ]
        },
        {
         "hoverinfo": "skip",
         "line": {
          "color": "lightblue",
          "width": 1
         },
         "mode": "lines",
         "showlegend": false,
         "type": "scatter",
         "x": [
          32.81823011475938,
          33.24960589660938
         ],
         "y": [
          27.940836907403753,
          28.640803130254522
         ]
        },
        {
         "hoverinfo": "skip",
         "line": {
          "color": "lightblue",
          "width": 1
         },
         "mode": "lines",
         "showlegend": false,
         "type": "scatter",
         "x": [
          41.62948562262553,
          41.51440295663183
         ],
         "y": [
          12.309128158021466,
          7.3104527354732305
         ]
        },
        {
         "hoverinfo": "skip",
         "line": {
          "color": "lightblue",
          "width": 1
         },
         "mode": "lines",
         "showlegend": false,
         "type": "scatter",
         "x": [
          17.648601103791684,
          18.63958673688384
         ],
         "y": [
          89.70382890187727,
          88.7521575640396
         ]
        },
        {
         "hoverinfo": "skip",
         "line": {
          "color": "lightblue",
          "width": 1
         },
         "mode": "lines",
         "showlegend": false,
         "type": "scatter",
         "x": [
          91.56664999924251,
          89.32649394506147
         ],
         "y": [
          97.80847971915524,
          99.09564839831975
         ]
        },
        {
         "hoverinfo": "skip",
         "line": {
          "color": "lightblue",
          "width": 1
         },
         "mode": "lines",
         "showlegend": false,
         "type": "scatter",
         "x": [
          0.6018034830614805,
          1.3496628037903302
         ],
         "y": [
          58.59919047079521,
          57.64840665167744
         ]
        },
        {
         "hoverinfo": "skip",
         "line": {
          "color": "lightblue",
          "width": 1
         },
         "mode": "lines",
         "showlegend": false,
         "type": "scatter",
         "x": [
          57.00316559139236,
          55.61878031642967
         ],
         "y": [
          5.159683316429338,
          4.714587707979656
         ]
        },
        {
         "hoverinfo": "skip",
         "line": {
          "color": "lightblue",
          "width": 1
         },
         "mode": "lines",
         "showlegend": false,
         "type": "scatter",
         "x": [
          33.30064463088506,
          33.984658468410856
         ],
         "y": [
          12.95055041024985,
          10.904092748801453
         ]
        },
        {
         "hoverinfo": "skip",
         "line": {
          "color": "lightblue",
          "width": 1
         },
         "mode": "lines",
         "showlegend": false,
         "type": "scatter",
         "x": [
          42.74620830349161,
          40.842228469155415
         ],
         "y": [
          29.891294069535864,
          34.514589516556434
         ]
        },
        {
         "hoverinfo": "skip",
         "line": {
          "color": "lightblue",
          "width": 1
         },
         "mode": "lines",
         "showlegend": false,
         "type": "scatter",
         "x": [
          52.24060506609064,
          51.20457240449425
         ],
         "y": [
          82.03598946819231,
          82.8445116314051
         ]
        },
        {
         "hoverinfo": "skip",
         "line": {
          "color": "lightblue",
          "width": 1
         },
         "mode": "lines",
         "showlegend": false,
         "type": "scatter",
         "x": [
          85.1784571243709,
          85.38299432932189
         ],
         "y": [
          65.23109488291809,
          66.19791152355293
         ]
        },
        {
         "hoverinfo": "skip",
         "line": {
          "color": "lightblue",
          "width": 1
         },
         "mode": "lines",
         "showlegend": false,
         "type": "scatter",
         "x": [
          32.81823011475938,
          30.83272714409683
         ],
         "y": [
          27.940836907403753,
          26.445671141380622
         ]
        },
        {
         "hoverinfo": "skip",
         "line": {
          "color": "lightblue",
          "width": 1
         },
         "mode": "lines",
         "showlegend": false,
         "type": "scatter",
         "x": [
          70.88784295878085,
          72.99774957168765
         ],
         "y": [
          20.768708400525647,
          16.23568577927036
         ]
        },
        {
         "hoverinfo": "skip",
         "line": {
          "color": "lightblue",
          "width": 1
         },
         "mode": "lines",
         "showlegend": false,
         "type": "scatter",
         "x": [
          17.204258565165297,
          16.718352703575945
         ],
         "y": [
          96.16687537682031,
          94.7415076340967
         ]
        },
        {
         "hoverinfo": "skip",
         "line": {
          "color": "lightblue",
          "width": 1
         },
         "mode": "lines",
         "showlegend": false,
         "type": "scatter",
         "x": [
          62.347024789337304,
          61.66718691532409
         ],
         "y": [
          27.49367888418622,
          28.615859711349113
         ]
        },
        {
         "hoverinfo": "skip",
         "line": {
          "color": "lightblue",
          "width": 1
         },
         "mode": "lines",
         "showlegend": false,
         "type": "scatter",
         "x": [
          26.793303799037638,
          24.094310667286035
         ],
         "y": [
          23.661387092380032,
          24.323379038187742
         ]
        },
        {
         "hoverinfo": "skip",
         "line": {
          "color": "lightblue",
          "width": 1
         },
         "mode": "lines",
         "showlegend": false,
         "type": "scatter",
         "x": [
          83.60103849014207,
          82.55019693993316
         ],
         "y": [
          60.595867292210734,
          60.890933181927686
         ]
        },
        {
         "hoverinfo": "skip",
         "line": {
          "color": "lightblue",
          "width": 1
         },
         "mode": "lines",
         "showlegend": false,
         "type": "scatter",
         "x": [
          32.34570819424284,
          30.411657514198843
         ],
         "y": [
          6.86520918381508,
          6.638445391436565
         ]
        },
        {
         "hoverinfo": "skip",
         "line": {
          "color": "lightblue",
          "width": 1
         },
         "mode": "lines",
         "showlegend": false,
         "type": "scatter",
         "x": [
          40.842228469155415,
          41.72749332333178
         ],
         "y": [
          34.514589516556434,
          39.43559613491818
         ]
        },
        {
         "hoverinfo": "skip",
         "line": {
          "color": "lightblue",
          "width": 1
         },
         "mode": "lines",
         "showlegend": false,
         "type": "scatter",
         "x": [
          18.23587726752813,
          17.011750273945502
         ],
         "y": [
          10.331363329500032,
          10.040939792530267
         ]
        },
        {
         "hoverinfo": "skip",
         "line": {
          "color": "lightblue",
          "width": 1
         },
         "mode": "lines",
         "showlegend": false,
         "type": "scatter",
         "x": [
          65.01619768367594,
          66.76266399004895
         ],
         "y": [
          48.55653392850815,
          48.75570423665357
         ]
        },
        {
         "hoverinfo": "skip",
         "line": {
          "color": "lightblue",
          "width": 1
         },
         "mode": "lines",
         "showlegend": false,
         "type": "scatter",
         "x": [
          1.256209119741436,
          1.0353957237682176
         ],
         "y": [
          91.56169132126037,
          93.6380800333919
         ]
        },
        {
         "hoverinfo": "skip",
         "line": {
          "color": "lightblue",
          "width": 1
         },
         "mode": "lines",
         "showlegend": false,
         "type": "scatter",
         "x": [
          42.74620830349161,
          43.695062187469006
         ],
         "y": [
          29.891294069535864,
          31.873501859009846
         ]
        },
        {
         "hoverinfo": "skip",
         "line": {
          "color": "lightblue",
          "width": 1
         },
         "mode": "lines",
         "showlegend": false,
         "type": "scatter",
         "x": [
          31.24798489742602,
          32.55440063070068
         ],
         "y": [
          1.1495864151809365,
          0.9074432132492594
         ]
        },
        {
         "hoverinfo": "skip",
         "line": {
          "color": "lightblue",
          "width": 1
         },
         "mode": "lines",
         "showlegend": false,
         "type": "scatter",
         "x": [
          69.27825643480419,
          71.23858174109947
         ],
         "y": [
          59.62920145484419,
          60.60494472366066
         ]
        },
        {
         "hoverinfo": "skip",
         "line": {
          "color": "lightblue",
          "width": 1
         },
         "mode": "lines",
         "showlegend": false,
         "type": "scatter",
         "x": [
          24.44308852053414,
          25.833391366721536
         ],
         "y": [
          5.361246575387509,
          5.289200045042741
         ]
        },
        {
         "hoverinfo": "skip",
         "line": {
          "color": "lightblue",
          "width": 1
         },
         "mode": "lines",
         "showlegend": false,
         "type": "scatter",
         "x": [
          96.89360954659404,
          98.41601860154891
         ],
         "y": [
          37.86248096483704,
          35.60073889246349
         ]
        },
        {
         "hoverinfo": "skip",
         "line": {
          "color": "lightblue",
          "width": 1
         },
         "mode": "lines",
         "showlegend": false,
         "type": "scatter",
         "x": [
          7.635962014626559,
          9.726965758233186
         ],
         "y": [
          94.35505933740376,
          97.6002795876549
         ]
        },
        {
         "hoverinfo": "skip",
         "line": {
          "color": "lightblue",
          "width": 1
         },
         "mode": "lines",
         "showlegend": false,
         "type": "scatter",
         "x": [
          61.353511135222085,
          62.55476455255374
         ],
         "y": [
          66.90856943813581,
          65.8479521989713
         ]
        },
        {
         "hoverinfo": "skip",
         "line": {
          "color": "lightblue",
          "width": 1
         },
         "mode": "lines",
         "showlegend": false,
         "type": "scatter",
         "x": [
          2.2751931510583745,
          1.6799721996014316
         ],
         "y": [
          44.74614189980052,
          42.69273247241154
         ]
        },
        {
         "hoverinfo": "skip",
         "line": {
          "color": "lightblue",
          "width": 1
         },
         "mode": "lines",
         "showlegend": false,
         "type": "scatter",
         "x": [
          41.62948562262553,
          40.68667936911532
         ],
         "y": [
          12.309128158021466,
          10.064795983866059
         ]
        },
        {
         "hoverinfo": "skip",
         "line": {
          "color": "lightblue",
          "width": 1
         },
         "mode": "lines",
         "showlegend": false,
         "type": "scatter",
         "x": [
          24.015223778320735,
          25.57305426461507
         ],
         "y": [
          39.61012050607788,
          40.6353453751043
         ]
        },
        {
         "hoverinfo": "skip",
         "line": {
          "color": "lightblue",
          "width": 1
         },
         "mode": "lines",
         "showlegend": false,
         "type": "scatter",
         "x": [
          92.17636686917824,
          92.19855662344939
         ],
         "y": [
          1.8271444542446669,
          0.12909951148762921
         ]
        },
        {
         "hoverinfo": "skip",
         "line": {
          "color": "lightblue",
          "width": 1
         },
         "mode": "lines",
         "showlegend": false,
         "type": "scatter",
         "x": [
          0.3196800774110997,
          0.8135750129281472
         ],
         "y": [
          72.59270263024914,
          73.52342683000339
         ]
        },
        {
         "hoverinfo": "skip",
         "line": {
          "color": "lightblue",
          "width": 1
         },
         "mode": "lines",
         "showlegend": false,
         "type": "scatter",
         "x": [
          50.411630851519305,
          49.80236141251007
         ],
         "y": [
          21.209194691135625,
          26.171934937278817
         ]
        },
        {
         "hoverinfo": "skip",
         "line": {
          "color": "lightblue",
          "width": 1
         },
         "mode": "lines",
         "showlegend": false,
         "type": "scatter",
         "x": [
          0.9491552038397404,
          2.9432555379313885
         ],
         "y": [
          79.13120564656388,
          80.361890308695
         ]
        },
        {
         "hoverinfo": "skip",
         "line": {
          "color": "lightblue",
          "width": 1
         },
         "mode": "lines",
         "showlegend": false,
         "type": "scatter",
         "x": [
          41.62948562262553,
          43.32805833637126
         ],
         "y": [
          12.309128158021466,
          11.722770894730905
         ]
        },
        {
         "hoverinfo": "skip",
         "line": {
          "color": "lightblue",
          "width": 1
         },
         "mode": "lines",
         "showlegend": false,
         "type": "scatter",
         "x": [
          51.20457240449425,
          51.430573980878535
         ],
         "y": [
          82.8445116314051,
          85.19195461171499
         ]
        },
        {
         "hoverinfo": "skip",
         "line": {
          "color": "lightblue",
          "width": 1
         },
         "mode": "lines",
         "showlegend": false,
         "type": "scatter",
         "x": [
          68.86319869640688,
          71.68911694587159
         ],
         "y": [
          22.414379043550674,
          24.517638426412635
         ]
        },
        {
         "hoverinfo": "skip",
         "line": {
          "color": "lightblue",
          "width": 1
         },
         "mode": "lines",
         "showlegend": false,
         "type": "scatter",
         "x": [
          14.830317912690434,
          13.727240416661923
         ],
         "y": [
          63.154817847984845,
          64.31384056813026
         ]
        },
        {
         "hoverinfo": "skip",
         "line": {
          "color": "lightblue",
          "width": 1
         },
         "mode": "lines",
         "showlegend": false,
         "type": "scatter",
         "x": [
          61.66718691532409,
          64.25553046803692
         ],
         "y": [
          28.615859711349113,
          30.20328709865242
         ]
        },
        {
         "hoverinfo": "skip",
         "line": {
          "color": "lightblue",
          "width": 1
         },
         "mode": "lines",
         "showlegend": false,
         "type": "scatter",
         "x": [
          1.957310259862799,
          0.8450210951893133
         ],
         "y": [
          54.35086664114731,
          52.17249928500682
         ]
        },
        {
         "hoverinfo": "skip",
         "line": {
          "color": "lightblue",
          "width": 1
         },
         "mode": "lines",
         "showlegend": false,
         "type": "scatter",
         "x": [
          74.08770664844492,
          73.79064602315201
         ],
         "y": [
          97.05336611894718,
          99.75044829790174
         ]
        },
        {
         "hoverinfo": "skip",
         "line": {
          "color": "lightblue",
          "width": 1
         },
         "mode": "lines",
         "showlegend": false,
         "type": "scatter",
         "x": [
          25.936684201420533,
          26.616533745476232
         ],
         "y": [
          11.888858872436469,
          13.112955597491737
         ]
        },
        {
         "hoverinfo": "skip",
         "line": {
          "color": "lightblue",
          "width": 1
         },
         "mode": "lines",
         "showlegend": false,
         "type": "scatter",
         "x": [
          64.4084105743658,
          64.70517312696964
         ],
         "y": [
          36.9631588251118,
          38.35984982785282
         ]
        },
        {
         "hoverinfo": "skip",
         "line": {
          "color": "lightblue",
          "width": 1
         },
         "mode": "lines",
         "showlegend": false,
         "type": "scatter",
         "x": [
          8.759261267379648,
          7.895415577307996
         ],
         "y": [
          29.870512665886086,
          30.464143211144503
         ]
        },
        {
         "hoverinfo": "skip",
         "line": {
          "color": "lightblue",
          "width": 1
         },
         "mode": "lines",
         "showlegend": false,
         "type": "scatter",
         "x": [
          70.88784295878085,
          71.98842114701512
         ],
         "y": [
          20.768708400525647,
          19.554344953856095
         ]
        },
        {
         "hoverinfo": "skip",
         "line": {
          "color": "lightblue",
          "width": 1
         },
         "mode": "lines",
         "showlegend": false,
         "type": "scatter",
         "x": [
          4.501168462358285,
          3.4638331882556384
         ],
         "y": [
          49.1502852484602,
          48.828087181031286
         ]
        },
        {
         "hoverinfo": "skip",
         "line": {
          "color": "lightblue",
          "width": 1
         },
         "mode": "lines",
         "showlegend": false,
         "type": "scatter",
         "x": [
          51.03641844277602,
          53.534353725789295
         ],
         "y": [
          15.701710495589069,
          15.12718562294445
         ]
        },
        {
         "hoverinfo": "skip",
         "line": {
          "color": "lightblue",
          "width": 1
         },
         "mode": "lines",
         "showlegend": false,
         "type": "scatter",
         "x": [
          31.335253087481238,
          27.26170301062055
         ],
         "y": [
          65.36587612508708,
          68.26521911468116
         ]
        },
        {
         "hoverinfo": "skip",
         "line": {
          "color": "lightblue",
          "width": 1
         },
         "mode": "lines",
         "showlegend": false,
         "type": "scatter",
         "x": [
          84.088189136215,
          84.48769950546803
         ],
         "y": [
          26.258905835729564,
          25.252570575038536
         ]
        },
        {
         "hoverinfo": "skip",
         "line": {
          "color": "lightblue",
          "width": 1
         },
         "mode": "lines",
         "showlegend": false,
         "type": "scatter",
         "x": [
          3.8015942201442887,
          5.385843999914764
         ],
         "y": [
          28.10863285619328,
          27.169056847031104
         ]
        },
        {
         "hoverinfo": "skip",
         "line": {
          "color": "lightblue",
          "width": 1
         },
         "mode": "lines",
         "showlegend": false,
         "type": "scatter",
         "x": [
          61.641799653822936,
          60.20762637030048
         ],
         "y": [
          89.26143062623022,
          89.9290219298185
         ]
        },
        {
         "hoverinfo": "skip",
         "line": {
          "color": "lightblue",
          "width": 1
         },
         "mode": "lines",
         "showlegend": false,
         "type": "scatter",
         "x": [
          11.991924934726043,
          12.238415277735514
         ],
         "y": [
          67.27106921332229,
          66.31063440679061
         ]
        },
        {
         "hoverinfo": "skip",
         "line": {
          "color": "lightblue",
          "width": 1
         },
         "mode": "lines",
         "showlegend": false,
         "type": "scatter",
         "x": [
          41.72749332333178,
          41.17064299118821
         ],
         "y": [
          39.43559613491818,
          44.40449115369162
         ]
        },
        {
         "hoverinfo": "skip",
         "line": {
          "color": "lightblue",
          "width": 1
         },
         "mode": "lines",
         "showlegend": false,
         "type": "scatter",
         "x": [
          44.414006062422324,
          45.08469928786071
         ],
         "y": [
          74.22482241328102,
          75.78603622664993
         ]
        },
        {
         "hoverinfo": "skip",
         "line": {
          "color": "lightblue",
          "width": 1
         },
         "mode": "lines",
         "showlegend": false,
         "type": "scatter",
         "x": [
          55.61878031642967,
          50.64073580969475
         ],
         "y": [
          4.714587707979656,
          5.18263993686687
         ]
        },
        {
         "hoverinfo": "skip",
         "line": {
          "color": "lightblue",
          "width": 1
         },
         "mode": "lines",
         "showlegend": false,
         "type": "scatter",
         "x": [
          39.561989564815775,
          42.12899582638791
         ],
         "y": [
          73.01737224579838,
          72.22324957803087
         ]
        },
        {
         "hoverinfo": "skip",
         "line": {
          "color": "lightblue",
          "width": 1
         },
         "mode": "lines",
         "showlegend": false,
         "type": "scatter",
         "x": [
          55.61878031642967,
          54.66790191582448
         ],
         "y": [
          4.714587707979656,
          0.7148807471866192
         ]
        },
        {
         "hoverinfo": "skip",
         "line": {
          "color": "lightblue",
          "width": 1
         },
         "mode": "lines",
         "showlegend": false,
         "type": "scatter",
         "x": [
          21.65478710365978,
          20.43784226356049
         ],
         "y": [
          14.755665868655331,
          16.15078692252271
         ]
        },
        {
         "hoverinfo": "skip",
         "line": {
          "color": "lightblue",
          "width": 1
         },
         "mode": "lines",
         "showlegend": false,
         "type": "scatter",
         "x": [
          71.9659570779247,
          71.85009206719364
         ],
         "y": [
          93.64188181587157,
          93.63371087546717
         ]
        },
        {
         "hoverinfo": "skip",
         "line": {
          "color": "lightblue",
          "width": 1
         },
         "mode": "lines",
         "showlegend": false,
         "type": "scatter",
         "x": [
          28.736214707859443,
          29.30995045105892
         ],
         "y": [
          91.61585927220442,
          93.73989598352046
         ]
        },
        {
         "hoverinfo": "skip",
         "line": {
          "color": "lightblue",
          "width": 1
         },
         "mode": "lines",
         "showlegend": false,
         "type": "scatter",
         "x": [
          67.13053001472886,
          68.56329079850788
         ],
         "y": [
          97.65544420538212,
          97.2641527487028
         ]
        },
        {
         "hoverinfo": "skip",
         "line": {
          "color": "lightblue",
          "width": 1
         },
         "mode": "lines",
         "showlegend": false,
         "type": "scatter",
         "x": [
          9.184987595412409,
          11.776742783340632
         ],
         "y": [
          60.94069645784287,
          60.18196573145552
         ]
        },
        {
         "hoverinfo": "skip",
         "line": {
          "color": "lightblue",
          "width": 1
         },
         "mode": "lines",
         "showlegend": false,
         "type": "scatter",
         "x": [
          69.3487427413355,
          70.73201994180235
         ],
         "y": [
          56.14792388544439,
          57.29717184081391
         ]
        },
        {
         "hoverinfo": "skip",
         "line": {
          "color": "lightblue",
          "width": 1
         },
         "mode": "lines",
         "showlegend": false,
         "type": "scatter",
         "x": [
          25.478967011912346,
          25.204178896697005
         ],
         "y": [
          27.324276618243214,
          28.302529210157946
         ]
        },
        {
         "hoverinfo": "skip",
         "line": {
          "color": "lightblue",
          "width": 1
         },
         "mode": "lines",
         "showlegend": false,
         "type": "scatter",
         "x": [
          97.43859204250614,
          97.51116047133281
         ],
         "y": [
          85.55195286166958,
          82.7377828091911
         ]
        },
        {
         "hoverinfo": "skip",
         "line": {
          "color": "lightblue",
          "width": 1
         },
         "mode": "lines",
         "showlegend": false,
         "type": "scatter",
         "x": [
          3.738017212436562,
          1.4911337778180322
         ],
         "y": [
          67.9370321093012,
          66.80629433966958
         ]
        },
        {
         "hoverinfo": "skip",
         "line": {
          "color": "lightblue",
          "width": 1
         },
         "mode": "lines",
         "showlegend": false,
         "type": "scatter",
         "x": [
          83.79533980087545,
          81.80537092750623
         ],
         "y": [
          32.354614032551986,
          33.49369690500477
         ]
        },
        {
         "hoverinfo": "skip",
         "line": {
          "color": "lightblue",
          "width": 1
         },
         "mode": "lines",
         "showlegend": false,
         "type": "scatter",
         "x": [
          7.641146161484157,
          9.847346916076438
         ],
         "y": [
          47.64211254629069,
          50.45259961716815
         ]
        },
        {
         "hoverinfo": "skip",
         "line": {
          "color": "lightblue",
          "width": 1
         },
         "mode": "lines",
         "showlegend": false,
         "type": "scatter",
         "x": [
          46.97744523774372,
          45.8329185416634
         ],
         "y": [
          18.44002202798316,
          17.451542329781745
         ]
        },
        {
         "hoverinfo": "skip",
         "line": {
          "color": "lightblue",
          "width": 1
         },
         "mode": "lines",
         "showlegend": false,
         "type": "scatter",
         "x": [
          30.531416841856142,
          32.344379174335145
         ],
         "y": [
          84.72875830135004,
          83.46646693555306
         ]
        },
        {
         "hoverinfo": "skip",
         "line": {
          "color": "lightblue",
          "width": 1
         },
         "mode": "lines",
         "showlegend": false,
         "type": "scatter",
         "x": [
          94.98413874590682,
          94.00737510781457
         ],
         "y": [
          88.75710268339378,
          90.86835772253612
         ]
        },
        {
         "hoverinfo": "skip",
         "line": {
          "color": "lightblue",
          "width": 1
         },
         "mode": "lines",
         "showlegend": false,
         "type": "scatter",
         "x": [
          53.83705696830167,
          55.178496848637984
         ],
         "y": [
          77.2977048287973,
          77.16523459745979
         ]
        },
        {
         "hoverinfo": "skip",
         "line": {
          "color": "lightblue",
          "width": 1
         },
         "mode": "lines",
         "showlegend": false,
         "type": "scatter",
         "x": [
          51.03641844277602,
          49.43239055511614
         ],
         "y": [
          15.701710495589069,
          15.409752587742576
         ]
        },
        {
         "hoverinfo": "skip",
         "line": {
          "color": "lightblue",
          "width": 1
         },
         "mode": "lines",
         "showlegend": false,
         "type": "scatter",
         "x": [
          21.573892862481735,
          24.157589426818017
         ],
         "y": [
          87.9279431145975,
          87.8088993535813
         ]
        },
        {
         "hoverinfo": "skip",
         "line": {
          "color": "lightblue",
          "width": 1
         },
         "mode": "lines",
         "showlegend": false,
         "type": "scatter",
         "x": [
          93.32194109476866,
          93.92516310988849
         ],
         "y": [
          7.883815122019078,
          8.986100383603812
         ]
        },
        {
         "hoverinfo": "skip",
         "line": {
          "color": "lightblue",
          "width": 1
         },
         "mode": "lines",
         "showlegend": false,
         "type": "scatter",
         "x": [
          20.43784226356049,
          20.6746302551433
         ],
         "y": [
          16.15078692252271,
          16.411699138534807
         ]
        },
        {
         "hoverinfo": "skip",
         "line": {
          "color": "lightblue",
          "width": 1
         },
         "mode": "lines",
         "showlegend": false,
         "type": "scatter",
         "x": [
          94.47758942649702,
          99.42113205027788
         ],
         "y": [
          41.6361812134749,
          42.385438396865155
         ]
        },
        {
         "hoverinfo": "skip",
         "line": {
          "color": "lightblue",
          "width": 1
         },
         "mode": "lines",
         "showlegend": false,
         "type": "scatter",
         "x": [
          11.53353308103463,
          10.269136190096662
         ],
         "y": [
          21.634017876607313,
          23.077536550485313
         ]
        },
        {
         "hoverinfo": "skip",
         "line": {
          "color": "lightblue",
          "width": 1
         },
         "mode": "lines",
         "showlegend": false,
         "type": "scatter",
         "x": [
          40.08096854900285,
          41.99731235304893
         ],
         "y": [
          25.660868907558328,
          24.57769189811827
         ]
        },
        {
         "hoverinfo": "skip",
         "line": {
          "color": "lightblue",
          "width": 1
         },
         "mode": "lines",
         "showlegend": false,
         "type": "scatter",
         "x": [
          9.847346916076438,
          13.975824348333052
         ],
         "y": [
          50.45259961716815,
          53.27318007007989
         ]
        },
        {
         "hoverinfo": "skip",
         "line": {
          "color": "lightblue",
          "width": 1
         },
         "mode": "lines",
         "showlegend": false,
         "type": "scatter",
         "x": [
          88.72648797490523,
          87.78011359595311
         ],
         "y": [
          17.29417864334445,
          19.016643294078396
         ]
        },
        {
         "hoverinfo": "skip",
         "line": {
          "color": "lightblue",
          "width": 1
         },
         "mode": "lines",
         "showlegend": false,
         "type": "scatter",
         "x": [
          19.008324656063824,
          18.047542042047827
         ],
         "y": [
          86.28295855808929,
          84.45567981966578
         ]
        },
        {
         "hoverinfo": "skip",
         "line": {
          "color": "lightblue",
          "width": 1
         },
         "mode": "lines",
         "showlegend": false,
         "type": "scatter",
         "x": [
          64.4084105743658,
          63.19828243309499
         ],
         "y": [
          36.9631588251118,
          37.16950840142972
         ]
        },
        {
         "hoverinfo": "skip",
         "line": {
          "color": "lightblue",
          "width": 1
         },
         "mode": "lines",
         "showlegend": false,
         "type": "scatter",
         "x": [
          54.31379206869282,
          54.15321528848901
         ],
         "y": [
          93.6118502407795,
          91.87607895687721
         ]
        },
        {
         "hoverinfo": "skip",
         "line": {
          "color": "lightblue",
          "width": 1
         },
         "mode": "lines",
         "showlegend": false,
         "type": "scatter",
         "x": [
          41.17064299118821,
          45.21170607550091
         ],
         "y": [
          44.40449115369162,
          47.34894511811442
         ]
        },
        {
         "hoverinfo": "skip",
         "line": {
          "color": "lightblue",
          "width": 1
         },
         "mode": "lines",
         "showlegend": false,
         "type": "scatter",
         "x": [
          9.726965758233186,
          10.500034903981192
         ],
         "y": [
          97.6002795876549,
          98.7003067319197
         ]
        },
        {
         "hoverinfo": "skip",
         "line": {
          "color": "lightblue",
          "width": 1
         },
         "mode": "lines",
         "showlegend": false,
         "type": "scatter",
         "x": [
          66.68013917901864,
          66.18570974460454
         ],
         "y": [
          70.68855640229854,
          68.71870474926547
         ]
        },
        {
         "hoverinfo": "skip",
         "line": {
          "color": "lightblue",
          "width": 1
         },
         "mode": "lines",
         "showlegend": false,
         "type": "scatter",
         "x": [
          33.548616448605095,
          34.97238587506837
         ],
         "y": [
          34.65031876573422,
          35.98558846388611
         ]
        },
        {
         "hoverinfo": "skip",
         "line": {
          "color": "lightblue",
          "width": 1
         },
         "mode": "lines",
         "showlegend": false,
         "type": "scatter",
         "x": [
          49.80236141251007,
          47.147658725605744
         ],
         "y": [
          26.171934937278817,
          28.71980266610049
         ]
        },
        {
         "hoverinfo": "skip",
         "line": {
          "color": "lightblue",
          "width": 1
         },
         "mode": "lines",
         "showlegend": false,
         "type": "scatter",
         "x": [
          5.385843999914764,
          6.467678699175128
         ],
         "y": [
          27.169056847031104,
          26.529981937218494
         ]
        },
        {
         "hoverinfo": "skip",
         "line": {
          "color": "lightblue",
          "width": 1
         },
         "mode": "lines",
         "showlegend": false,
         "type": "scatter",
         "x": [
          88.13195897770287,
          88.27882365314089
         ],
         "y": [
          84.72974171515382,
          85.43418252897843
         ]
        },
        {
         "hoverinfo": "skip",
         "line": {
          "color": "lightblue",
          "width": 1
         },
         "mode": "lines",
         "showlegend": false,
         "type": "scatter",
         "x": [
          40.905136957806356,
          38.94327445792165
         ],
         "y": [
          68.20115432291506,
          69.99931336255622
         ]
        },
        {
         "hoverinfo": "skip",
         "line": {
          "color": "lightblue",
          "width": 1
         },
         "mode": "lines",
         "showlegend": false,
         "type": "scatter",
         "x": [
          45.21170607550091,
          42.81023526027648
         ],
         "y": [
          47.34894511811442,
          51.73448247670861
         ]
        },
        {
         "hoverinfo": "skip",
         "line": {
          "color": "lightblue",
          "width": 1
         },
         "mode": "lines",
         "showlegend": false,
         "type": "scatter",
         "x": [
          40.905136957806356,
          44.3177684607239
         ],
         "y": [
          68.20115432291506,
          66.19409229518051
         ]
        },
        {
         "hoverinfo": "skip",
         "line": {
          "color": "lightblue",
          "width": 1
         },
         "mode": "lines",
         "showlegend": false,
         "type": "scatter",
         "x": [
          42.81023526027648,
          43.32871609745015
         ],
         "y": [
          51.73448247670861,
          56.70752758222331
         ]
        },
        {
         "hoverinfo": "skip",
         "line": {
          "color": "lightblue",
          "width": 1
         },
         "mode": "lines",
         "showlegend": false,
         "type": "scatter",
         "x": [
          43.32871609745015,
          43.84719693462382
         ],
         "y": [
          56.70752758222331,
          61.68057268773801
         ]
        },
        {
         "hoverinfo": "skip",
         "line": {
          "color": "lightblue",
          "width": 1
         },
         "mode": "lines",
         "showlegend": false,
         "type": "scatter",
         "x": [
          47.147658725605744,
          51.418977566668005
         ],
         "y": [
          28.71980266610049,
          31.319001650015828
         ]
        },
        {
         "hoverinfo": "skip",
         "line": {
          "color": "lightblue",
          "width": 1
         },
         "mode": "lines",
         "showlegend": false,
         "type": "scatter",
         "x": [
          27.158876305245926,
          27.54897441058535
         ],
         "y": [
          11.398054008432034,
          11.630058955346056
         ]
        },
        {
         "hoverinfo": "skip",
         "line": {
          "color": "lightblue",
          "width": 1
         },
         "mode": "lines",
         "showlegend": false,
         "type": "scatter",
         "x": [
          42.81023526027648,
          38.01647924125693
         ],
         "y": [
          51.73448247670861,
          53.155715473128915
         ]
        },
        {
         "hoverinfo": "skip",
         "line": {
          "color": "lightblue",
          "width": 1
         },
         "mode": "lines",
         "showlegend": false,
         "type": "scatter",
         "x": [
          28.03984767747214,
          29.545102681692924
         ],
         "y": [
          86.09360114509683,
          87.81271273543217
         ]
        },
        {
         "hoverinfo": "skip",
         "line": {
          "color": "lightblue",
          "width": 1
         },
         "mode": "lines",
         "showlegend": false,
         "type": "scatter",
         "x": [
          82.64426250568935,
          81.42614173282551
         ],
         "y": [
          19.318173048674467,
          20.02356537987613
         ]
        },
        {
         "hoverinfo": "skip",
         "line": {
          "color": "lightblue",
          "width": 1
         },
         "mode": "lines",
         "showlegend": false,
         "type": "scatter",
         "x": [
          54.31379206869282,
          55.210333033787705
         ],
         "y": [
          93.6118502407795,
          97.54627422185708
         ]
        },
        {
         "hoverinfo": "skip",
         "line": {
          "color": "lightblue",
          "width": 1
         },
         "mode": "lines",
         "showlegend": false,
         "type": "scatter",
         "x": [
          76.96551659453995,
          74.62290076567535
         ],
         "y": [
          93.57551435530632,
          92.89360823767852
         ]
        },
        {
         "hoverinfo": "skip",
         "line": {
          "color": "lightblue",
          "width": 1
         },
         "mode": "lines",
         "showlegend": false,
         "type": "scatter",
         "x": [
          21.92121602316445,
          22.80846031396354
         ],
         "y": [
          22.537660833815664,
          22.53587624649015
         ]
        },
        {
         "hoverinfo": "skip",
         "line": {
          "color": "lightblue",
          "width": 1
         },
         "mode": "lines",
         "showlegend": false,
         "type": "scatter",
         "x": [
          82.34747981940437,
          80.64461499438876
         ],
         "y": [
          39.10537190208565,
          38.99068930079657
         ]
        },
        {
         "hoverinfo": "skip",
         "line": {
          "color": "lightblue",
          "width": 1
         },
         "mode": "lines",
         "showlegend": false,
         "type": "scatter",
         "x": [
          0.8450210951893133,
          0.1449612390424848
         ],
         "y": [
          52.17249928500682,
          51.0482083696297
         ]
        },
        {
         "hoverinfo": "skip",
         "line": {
          "color": "lightblue",
          "width": 1
         },
         "mode": "lines",
         "showlegend": false,
         "type": "scatter",
         "x": [
          38.01647924125693,
          33.02420329726113
         ],
         "y": [
          53.155715473128915,
          52.877900968466484
         ]
        },
        {
         "hoverinfo": "skip",
         "line": {
          "color": "lightblue",
          "width": 1
         },
         "mode": "lines",
         "showlegend": false,
         "type": "scatter",
         "x": [
          33.02420329726113,
          28.03192735326533
         ],
         "y": [
          52.877900968466484,
          52.600086463804054
         ]
        },
        {
         "hoverinfo": "skip",
         "line": {
          "color": "lightblue",
          "width": 1
         },
         "mode": "lines",
         "showlegend": false,
         "type": "scatter",
         "x": [
          28.03192735326533,
          23.03965140926953
         ],
         "y": [
          52.600086463804054,
          52.32227195914163
         ]
        },
        {
         "hoverinfo": "skip",
         "line": {
          "color": "lightblue",
          "width": 1
         },
         "mode": "lines",
         "showlegend": false,
         "type": "scatter",
         "x": [
          23.03965140926953,
          21.73218342675932
         ],
         "y": [
          52.32227195914163,
          57.148298013226984
         ]
        },
        {
         "hoverinfo": "skip",
         "line": {
          "color": "lightblue",
          "width": 1
         },
         "mode": "lines",
         "showlegend": false,
         "type": "scatter",
         "x": [
          31.824876262763937,
          32.869802433881205
         ],
         "y": [
          96.78223466982699,
          94.9500366328453
         ]
        },
        {
         "hoverinfo": "skip",
         "line": {
          "color": "lightblue",
          "width": 1
         },
         "mode": "lines",
         "showlegend": false,
         "type": "scatter",
         "x": [
          83.71368846287022,
          82.95839397997996
         ],
         "y": [
          79.66339999770902,
          79.46759685381032
         ]
        },
        {
         "hoverinfo": "skip",
         "line": {
          "color": "lightblue",
          "width": 1
         },
         "mode": "lines",
         "showlegend": false,
         "type": "scatter",
         "x": [
          52.24060506609064,
          50.33666125555732
         ],
         "y": [
          82.03598946819231,
          80.07103829858016
         ]
        },
        {
         "hoverinfo": "skip",
         "line": {
          "color": "lightblue",
          "width": 1
         },
         "mode": "lines",
         "showlegend": false,
         "type": "scatter",
         "x": [
          85.78148430885541,
          86.95177283725107
         ],
         "y": [
          35.67388752785696,
          34.52779363645391
         ]
        },
        {
         "hoverinfo": "skip",
         "line": {
          "color": "lightblue",
          "width": 1
         },
         "mode": "lines",
         "showlegend": false,
         "type": "scatter",
         "x": [
          1.0353957237682176,
          1.6111905055932296
         ],
         "y": [
          93.6380800333919,
          93.07766184278702
         ]
        },
        {
         "hoverinfo": "skip",
         "line": {
          "color": "lightblue",
          "width": 1
         },
         "mode": "lines",
         "showlegend": false,
         "type": "scatter",
         "x": [
          21.73218342675932,
          22.881266125519524
         ],
         "y": [
          57.148298013226984,
          62.01446785730456
         ]
        },
        {
         "hoverinfo": "skip",
         "line": {
          "color": "lightblue",
          "width": 1
         },
         "mode": "lines",
         "showlegend": false,
         "type": "scatter",
         "x": [
          27.26170301062055,
          24.392232608660954
         ],
         "y": [
          68.26521911468116,
          64.17057143603067
         ]
        },
        {
         "hoverinfo": "skip",
         "line": {
          "color": "lightblue",
          "width": 1
         },
         "mode": "lines",
         "showlegend": false,
         "type": "scatter",
         "x": [
          24.392232608660954,
          22.881266125519524
         ],
         "y": [
          64.17057143603067,
          62.01446785730456
         ]
        },
        {
         "marker": {
          "color": "red",
          "size": 10
         },
         "mode": "markers",
         "name": "Start",
         "type": "scatter",
         "x": [
          29
         ],
         "y": [
          40
         ]
        },
        {
         "marker": {
          "color": "orange",
          "size": 10
         },
         "mode": "markers",
         "name": "Goal",
         "type": "scatter",
         "x": [
          90
         ],
         "y": [
          10
         ]
        }
       ],
       "layout": {
        "height": 600,
        "shapes": [
         {
          "fillcolor": "purple",
          "line": {
           "width": 0
          },
          "opacity": 0.5,
          "type": "rect",
          "x0": 17,
          "x1": 20,
          "y0": 20,
          "y1": 80
         },
         {
          "fillcolor": "purple",
          "line": {
           "width": 0
          },
          "opacity": 0.5,
          "type": "rect",
          "x0": 37,
          "x1": 40,
          "y0": 0,
          "y1": 50
         },
         {
          "fillcolor": "purple",
          "line": {
           "width": 0
          },
          "opacity": 0.5,
          "type": "rect",
          "x0": 57,
          "x1": 60,
          "y0": 20,
          "y1": 100
         },
         {
          "fillcolor": "purple",
          "line": {
           "width": 0
          },
          "opacity": 0.5,
          "type": "rect",
          "x0": 77,
          "x1": 80,
          "y0": 0,
          "y1": 80
         },
         {
          "fillcolor": "purple",
          "line": {
           "width": 0
          },
          "opacity": 0.5,
          "type": "rect",
          "x0": 20,
          "x1": 37,
          "y0": 47,
          "y1": 50
         },
         {
          "fillcolor": "purple",
          "line": {
           "width": 0
          },
          "opacity": 0.5,
          "type": "rect",
          "x0": 30,
          "x1": 57,
          "y0": 62,
          "y1": 65
         },
         {
          "fillcolor": "purple",
          "line": {
           "width": 0
          },
          "opacity": 0.5,
          "type": "rect",
          "x0": 10,
          "x1": 45,
          "y0": 80,
          "y1": 83
         },
         {
          "fillcolor": "purple",
          "line": {
           "width": 0
          },
          "opacity": 0.5,
          "type": "rect",
          "x0": 70,
          "x1": 90,
          "y0": 80,
          "y1": 83
         },
         {
          "fillcolor": "rgba(0,0,0,0)",
          "layer": "above",
          "line": {
           "color": "white",
           "width": 3
          },
          "type": "rect",
          "x0": 0,
          "x1": 100,
          "y0": 0,
          "y1": 100
         }
        ],
        "template": {
         "data": {
          "bar": [
           {
            "error_x": {
             "color": "#2a3f5f"
            },
            "error_y": {
             "color": "#2a3f5f"
            },
            "marker": {
             "line": {
              "color": "#E5ECF6",
              "width": 0.5
             },
             "pattern": {
              "fillmode": "overlay",
              "size": 10,
              "solidity": 0.2
             }
            },
            "type": "bar"
           }
          ],
          "barpolar": [
           {
            "marker": {
             "line": {
              "color": "#E5ECF6",
              "width": 0.5
             },
             "pattern": {
              "fillmode": "overlay",
              "size": 10,
              "solidity": 0.2
             }
            },
            "type": "barpolar"
           }
          ],
          "carpet": [
           {
            "aaxis": {
             "endlinecolor": "#2a3f5f",
             "gridcolor": "white",
             "linecolor": "white",
             "minorgridcolor": "white",
             "startlinecolor": "#2a3f5f"
            },
            "baxis": {
             "endlinecolor": "#2a3f5f",
             "gridcolor": "white",
             "linecolor": "white",
             "minorgridcolor": "white",
             "startlinecolor": "#2a3f5f"
            },
            "type": "carpet"
           }
          ],
          "choropleth": [
           {
            "colorbar": {
             "outlinewidth": 0,
             "ticks": ""
            },
            "type": "choropleth"
           }
          ],
          "contour": [
           {
            "colorbar": {
             "outlinewidth": 0,
             "ticks": ""
            },
            "colorscale": [
             [
              0,
              "#0d0887"
             ],
             [
              0.1111111111111111,
              "#46039f"
             ],
             [
              0.2222222222222222,
              "#7201a8"
             ],
             [
              0.3333333333333333,
              "#9c179e"
             ],
             [
              0.4444444444444444,
              "#bd3786"
             ],
             [
              0.5555555555555556,
              "#d8576b"
             ],
             [
              0.6666666666666666,
              "#ed7953"
             ],
             [
              0.7777777777777778,
              "#fb9f3a"
             ],
             [
              0.8888888888888888,
              "#fdca26"
             ],
             [
              1,
              "#f0f921"
             ]
            ],
            "type": "contour"
           }
          ],
          "contourcarpet": [
           {
            "colorbar": {
             "outlinewidth": 0,
             "ticks": ""
            },
            "type": "contourcarpet"
           }
          ],
          "heatmap": [
           {
            "colorbar": {
             "outlinewidth": 0,
             "ticks": ""
            },
            "colorscale": [
             [
              0,
              "#0d0887"
             ],
             [
              0.1111111111111111,
              "#46039f"
             ],
             [
              0.2222222222222222,
              "#7201a8"
             ],
             [
              0.3333333333333333,
              "#9c179e"
             ],
             [
              0.4444444444444444,
              "#bd3786"
             ],
             [
              0.5555555555555556,
              "#d8576b"
             ],
             [
              0.6666666666666666,
              "#ed7953"
             ],
             [
              0.7777777777777778,
              "#fb9f3a"
             ],
             [
              0.8888888888888888,
              "#fdca26"
             ],
             [
              1,
              "#f0f921"
             ]
            ],
            "type": "heatmap"
           }
          ],
          "histogram": [
           {
            "marker": {
             "pattern": {
              "fillmode": "overlay",
              "size": 10,
              "solidity": 0.2
             }
            },
            "type": "histogram"
           }
          ],
          "histogram2d": [
           {
            "colorbar": {
             "outlinewidth": 0,
             "ticks": ""
            },
            "colorscale": [
             [
              0,
              "#0d0887"
             ],
             [
              0.1111111111111111,
              "#46039f"
             ],
             [
              0.2222222222222222,
              "#7201a8"
             ],
             [
              0.3333333333333333,
              "#9c179e"
             ],
             [
              0.4444444444444444,
              "#bd3786"
             ],
             [
              0.5555555555555556,
              "#d8576b"
             ],
             [
              0.6666666666666666,
              "#ed7953"
             ],
             [
              0.7777777777777778,
              "#fb9f3a"
             ],
             [
              0.8888888888888888,
              "#fdca26"
             ],
             [
              1,
              "#f0f921"
             ]
            ],
            "type": "histogram2d"
           }
          ],
          "histogram2dcontour": [
           {
            "colorbar": {
             "outlinewidth": 0,
             "ticks": ""
            },
            "colorscale": [
             [
              0,
              "#0d0887"
             ],
             [
              0.1111111111111111,
              "#46039f"
             ],
             [
              0.2222222222222222,
              "#7201a8"
             ],
             [
              0.3333333333333333,
              "#9c179e"
             ],
             [
              0.4444444444444444,
              "#bd3786"
             ],
             [
              0.5555555555555556,
              "#d8576b"
             ],
             [
              0.6666666666666666,
              "#ed7953"
             ],
             [
              0.7777777777777778,
              "#fb9f3a"
             ],
             [
              0.8888888888888888,
              "#fdca26"
             ],
             [
              1,
              "#f0f921"
             ]
            ],
            "type": "histogram2dcontour"
           }
          ],
          "mesh3d": [
           {
            "colorbar": {
             "outlinewidth": 0,
             "ticks": ""
            },
            "type": "mesh3d"
           }
          ],
          "parcoords": [
           {
            "line": {
             "colorbar": {
              "outlinewidth": 0,
              "ticks": ""
             }
            },
            "type": "parcoords"
           }
          ],
          "pie": [
           {
            "automargin": true,
            "type": "pie"
           }
          ],
          "scatter": [
           {
            "fillpattern": {
             "fillmode": "overlay",
             "size": 10,
             "solidity": 0.2
            },
            "type": "scatter"
           }
          ],
          "scatter3d": [
           {
            "line": {
             "colorbar": {
              "outlinewidth": 0,
              "ticks": ""
             }
            },
            "marker": {
             "colorbar": {
              "outlinewidth": 0,
              "ticks": ""
             }
            },
            "type": "scatter3d"
           }
          ],
          "scattercarpet": [
           {
            "marker": {
             "colorbar": {
              "outlinewidth": 0,
              "ticks": ""
             }
            },
            "type": "scattercarpet"
           }
          ],
          "scattergeo": [
           {
            "marker": {
             "colorbar": {
              "outlinewidth": 0,
              "ticks": ""
             }
            },
            "type": "scattergeo"
           }
          ],
          "scattergl": [
           {
            "marker": {
             "colorbar": {
              "outlinewidth": 0,
              "ticks": ""
             }
            },
            "type": "scattergl"
           }
          ],
          "scattermap": [
           {
            "marker": {
             "colorbar": {
              "outlinewidth": 0,
              "ticks": ""
             }
            },
            "type": "scattermap"
           }
          ],
          "scattermapbox": [
           {
            "marker": {
             "colorbar": {
              "outlinewidth": 0,
              "ticks": ""
             }
            },
            "type": "scattermapbox"
           }
          ],
          "scatterpolar": [
           {
            "marker": {
             "colorbar": {
              "outlinewidth": 0,
              "ticks": ""
             }
            },
            "type": "scatterpolar"
           }
          ],
          "scatterpolargl": [
           {
            "marker": {
             "colorbar": {
              "outlinewidth": 0,
              "ticks": ""
             }
            },
            "type": "scatterpolargl"
           }
          ],
          "scatterternary": [
           {
            "marker": {
             "colorbar": {
              "outlinewidth": 0,
              "ticks": ""
             }
            },
            "type": "scatterternary"
           }
          ],
          "surface": [
           {
            "colorbar": {
             "outlinewidth": 0,
             "ticks": ""
            },
            "colorscale": [
             [
              0,
              "#0d0887"
             ],
             [
              0.1111111111111111,
              "#46039f"
             ],
             [
              0.2222222222222222,
              "#7201a8"
             ],
             [
              0.3333333333333333,
              "#9c179e"
             ],
             [
              0.4444444444444444,
              "#bd3786"
             ],
             [
              0.5555555555555556,
              "#d8576b"
             ],
             [
              0.6666666666666666,
              "#ed7953"
             ],
             [
              0.7777777777777778,
              "#fb9f3a"
             ],
             [
              0.8888888888888888,
              "#fdca26"
             ],
             [
              1,
              "#f0f921"
             ]
            ],
            "type": "surface"
           }
          ],
          "table": [
           {
            "cells": {
             "fill": {
              "color": "#EBF0F8"
             },
             "line": {
              "color": "white"
             }
            },
            "header": {
             "fill": {
              "color": "#C8D4E3"
             },
             "line": {
              "color": "white"
             }
            },
            "type": "table"
           }
          ]
         },
         "layout": {
          "annotationdefaults": {
           "arrowcolor": "#2a3f5f",
           "arrowhead": 0,
           "arrowwidth": 1
          },
          "autotypenumbers": "strict",
          "coloraxis": {
           "colorbar": {
            "outlinewidth": 0,
            "ticks": ""
           }
          },
          "colorscale": {
           "diverging": [
            [
             0,
             "#8e0152"
            ],
            [
             0.1,
             "#c51b7d"
            ],
            [
             0.2,
             "#de77ae"
            ],
            [
             0.3,
             "#f1b6da"
            ],
            [
             0.4,
             "#fde0ef"
            ],
            [
             0.5,
             "#f7f7f7"
            ],
            [
             0.6,
             "#e6f5d0"
            ],
            [
             0.7,
             "#b8e186"
            ],
            [
             0.8,
             "#7fbc41"
            ],
            [
             0.9,
             "#4d9221"
            ],
            [
             1,
             "#276419"
            ]
           ],
           "sequential": [
            [
             0,
             "#0d0887"
            ],
            [
             0.1111111111111111,
             "#46039f"
            ],
            [
             0.2222222222222222,
             "#7201a8"
            ],
            [
             0.3333333333333333,
             "#9c179e"
            ],
            [
             0.4444444444444444,
             "#bd3786"
            ],
            [
             0.5555555555555556,
             "#d8576b"
            ],
            [
             0.6666666666666666,
             "#ed7953"
            ],
            [
             0.7777777777777778,
             "#fb9f3a"
            ],
            [
             0.8888888888888888,
             "#fdca26"
            ],
            [
             1,
             "#f0f921"
            ]
           ],
           "sequentialminus": [
            [
             0,
             "#0d0887"
            ],
            [
             0.1111111111111111,
             "#46039f"
            ],
            [
             0.2222222222222222,
             "#7201a8"
            ],
            [
             0.3333333333333333,
             "#9c179e"
            ],
            [
             0.4444444444444444,
             "#bd3786"
            ],
            [
             0.5555555555555556,
             "#d8576b"
            ],
            [
             0.6666666666666666,
             "#ed7953"
            ],
            [
             0.7777777777777778,
             "#fb9f3a"
            ],
            [
             0.8888888888888888,
             "#fdca26"
            ],
            [
             1,
             "#f0f921"
            ]
           ]
          },
          "colorway": [
           "#636efa",
           "#EF553B",
           "#00cc96",
           "#ab63fa",
           "#FFA15A",
           "#19d3f3",
           "#FF6692",
           "#B6E880",
           "#FF97FF",
           "#FECB52"
          ],
          "font": {
           "color": "#2a3f5f"
          },
          "geo": {
           "bgcolor": "white",
           "lakecolor": "white",
           "landcolor": "#E5ECF6",
           "showlakes": true,
           "showland": true,
           "subunitcolor": "white"
          },
          "hoverlabel": {
           "align": "left"
          },
          "hovermode": "closest",
          "mapbox": {
           "style": "light"
          },
          "paper_bgcolor": "white",
          "plot_bgcolor": "#E5ECF6",
          "polar": {
           "angularaxis": {
            "gridcolor": "white",
            "linecolor": "white",
            "ticks": ""
           },
           "bgcolor": "#E5ECF6",
           "radialaxis": {
            "gridcolor": "white",
            "linecolor": "white",
            "ticks": ""
           }
          },
          "scene": {
           "xaxis": {
            "backgroundcolor": "#E5ECF6",
            "gridcolor": "white",
            "gridwidth": 2,
            "linecolor": "white",
            "showbackground": true,
            "ticks": "",
            "zerolinecolor": "white"
           },
           "yaxis": {
            "backgroundcolor": "#E5ECF6",
            "gridcolor": "white",
            "gridwidth": 2,
            "linecolor": "white",
            "showbackground": true,
            "ticks": "",
            "zerolinecolor": "white"
           },
           "zaxis": {
            "backgroundcolor": "#E5ECF6",
            "gridcolor": "white",
            "gridwidth": 2,
            "linecolor": "white",
            "showbackground": true,
            "ticks": "",
            "zerolinecolor": "white"
           }
          },
          "shapedefaults": {
           "line": {
            "color": "#2a3f5f"
           }
          },
          "ternary": {
           "aaxis": {
            "gridcolor": "white",
            "linecolor": "white",
            "ticks": ""
           },
           "baxis": {
            "gridcolor": "white",
            "linecolor": "white",
            "ticks": ""
           },
           "bgcolor": "#E5ECF6",
           "caxis": {
            "gridcolor": "white",
            "linecolor": "white",
            "ticks": ""
           }
          },
          "title": {
           "x": 0.05
          },
          "xaxis": {
           "automargin": true,
           "gridcolor": "white",
           "linecolor": "white",
           "ticks": "",
           "title": {
            "standoff": 15
           },
           "zerolinecolor": "white",
           "zerolinewidth": 2
          },
          "yaxis": {
           "automargin": true,
           "gridcolor": "white",
           "linecolor": "white",
           "ticks": "",
           "title": {
            "standoff": 15
           },
           "zerolinecolor": "white",
           "zerolinewidth": 2
          }
         }
        },
        "title": {
         "text": "Map Visualization"
        },
        "width": 600,
        "xaxis": {
         "scaleanchor": "y",
         "showgrid": false
        },
        "yaxis": {
         "showgrid": false
        }
       }
      }
     },
     "metadata": {},
     "output_type": "display_data"
    },
    {
     "data": {
      "application/vnd.plotly.v1+json": {
       "config": {
        "plotlyServerURL": "https://plot.ly"
       },
       "data": [
        {
         "marker": {
          "color": "blue",
          "size": 4
         },
         "mode": "markers",
         "name": "nodes",
         "type": "scatter",
         "x": [
          29,
          90,
          31.826687712657396,
          86.69036646673034,
          83.38073293346068,
          80.07109940019102,
          89.70057507699806,
          34.98934065931241,
          38.15199360596743,
          41.31464655262245,
          44.477299499277464,
          44.83275252635923,
          81.47478515513504,
          46.181246892495075,
          91.22052287932856,
          28.072918868414195,
          80.21953175390429,
          44.48630765731149,
          82.35075073950111,
          24.0072475400439,
          81.62446570799804,
          25.42250035711684,
          86.38546757309656,
          44.53383305059801,
          81.53793070452303,
          24.095240173309335,
          82.17822506757506,
          20.663631369949005,
          95.90878028607904,
          21.68695741251986,
          86.1559385854378,
          45.39014280100967,
          80.03324505048232,
          20.37663512208388,
          80.6255151496608,
          17.129280026095,
          85.61131487990843,
          15.376658221933438,
          86.6577862587255,
          20.337394245514368,
          86.64471014318052,
          16.48814059217193,
          80.68699330878802,
          13.942825411047302,
          82.58088985273352,
          8.978421884289064,
          80.29329714803202,
          14.16221703287885,
          75.3003883459183,
          43.421289669760455,
          70.3037768512324,
          12.663980304435068,
          65.32342010505221,
          60.34306335887201,
          55.36270661269181,
          50.38234986651161,
          82.8828750640726,
          6.235256102029334,
          50.75546894200565,
          17.746118246161867,
          50.27378792332613,
          41.20863814402988,
          86.4742164782646,
          34.74556599846969,
          69.94546393931995,
          15.40113886715627,
          85.14033524172685,
          46.611559305202306,
          73.47845866425753,
          8.770469827778422,
          85.1250593641808,
          9.70424047522357,
          90.84068649680842,
          10.521170319220005,
          55.42458070420928,
          32.761497618923975,
          94.63492620095604,
          7.608826545286574,
          82.73398078444866,
          16.64606861707095,
          84.07606168338002,
          17.168895773852977,
          71.18088540898283,
          13.669012833012262,
          86.2748035960878,
          21.207803064888438,
          89.11526323671917,
          22.869236825927043,
          88.45597809286912,
          20.724747438494973,
          69.41603138481409,
          3.507410716371205,
          52.62170690748261,
          35.70154383337143,
          51.6699274896842,
          23.529926352407838,
          50.471608736899995,
          18.57915527015178,
          72.85759668777902,
          45.38412874714625,
          91.8355792335065,
          22.332062242785465,
          87.73396319896793,
          27.386593659905696,
          57.49031661357207,
          26.43030253067895,
          89.93240144704045,
          24.920500052191368,
          90.21562088460016,
          19.921361452056622,
          67.28889944068341,
          42.19820339439133,
          80.51113015404086,
          39.22712728415646,
          98.38262829548098,
          18.150799138177977,
          82.26553611847625,
          17.018914085209115,
          50.938494384891484,
          38.217635021961996,
          93.02593454158665,
          46.686648264492504,
          50.11456916332715,
          21.646560268457137,
          48.26037285722012,
          25.48171106611835,
          84.22462957011801,
          13.87993492601558,
          43.94600292260964,
          39.631632987999154,
          35.317263053388665,
          31.00289311877818,
          46.84879700415216,
          37.093157762872174,
          87.81214259142479,
          37.45807111205638,
          75.24211442023041,
          19.205246777771013,
          53.37628538870328,
          38.32096163941592,
          32.05416559538823,
          10.949501894510886,
          83.9842376723273,
          15.980702293059334,
          60.37323228376348,
          24.12610455080302,
          93.56211034170491,
          21.950383877772282,
          70.45450174368226,
          26.371824234971204,
          97.91501870102215,
          22.724111230620103,
          32.87203943648751,
          30.42681581958636,
          81.58029742768605,
          15.132661766340636,
          32.23205547465199,
          20.330822251218706,
          80.85029819753284,
          9.359217472218655,
          81.90612854867358,
          12.983031044986392,
          93.14240744695894,
          25.26099209428593,
          84.40180384446022,
          7.2964613525595805,
          87.61315444015457,
          16.246191691881695,
          84.80145965291236,
          36.48666874750265,
          65.84444694066462,
          23.19860775610415,
          37.051779458700814,
          4.6547337699577005,
          72.9789929149521,
          15.644002534106072,
          80.68026018777968,
          5.1718926136569365,
          50.41039035029478,
          7.082148464807969,
          33.561815311124676,
          45.58910574971421,
          30.548635051238325,
          26.240799046802156,
          55.60456580901214,
          30.859946204033484,
          62.302415320624824,
          4.788657218199221,
          60.17579318772051,
          5.316248937311004,
          55.093532262962036,
          23.932074862274575,
          49.74788612766382,
          18.16824062485517,
          96.58594217973679,
          13.338303107155303,
          40.570735414447626,
          21.554337481430117,
          94.9519625910776,
          10.597889960743773,
          28.17805646474639,
          41.26672040867459,
          23.385588944386626,
          23.565220705531907,
          23.385588944386626
         ],
         "y": [
          10,
          80,
          14.12429831306026,
          76.25215717039028,
          72.50431434078055,
          68.75647151117083,
          84.99102641903299,
          17.99697520882814,
          21.869652104596017,
          25.742329000363895,
          29.615005896131773,
          34.60235520669128,
          63.95754805883621,
          39.41707876516272,
          89.75440323366678,
          17.427209069346155,
          59.117678339649686,
          44.1210325265251,
          54.59463670426408,
          9.730885017878396,
          49.64766691933366,
          21.666935677863773,
          91.02807516382691,
          31.602730684029446,
          89.80276446534249,
          26.48755601185392,
          44.67842647720562,
          30.124046218179224,
          88.01651874727267,
          27.084651669444405,
          42.7578589361988,
          22.845722308149412,
          40.16189454149733,
          6.293058164973427,
          35.19709684877922,
          25.028544463758998,
          34.820532047101466,
          6.277859547865707,
          29.931268538829823,
          13.126790905359783,
          24.93128563733883,
          32.87455103815293,
          45.5362757590826,
          37.17819723977505,
          22.018320713596836,
          37.77376220139584,
          17.57232030678213,
          42.1733816524139,
          17.83851890515424,
          45.47221417983719,
          17.65447116359572,
          22.778855952932723,
          18.097242753444707,
          18.540014343293695,
          18.982785933142683,
          19.425557522991674,
          28.634384511108845,
          41.95407815728235,
          24.411616302779823,
          38.2486303282412,
          29.3883605594444,
          38.894429518834606,
          64.0329565816375,
          24.386548126091622,
          12.667326503857362,
          47.01745769316209,
          38.59713003445084,
          17.997202768817242,
          9.129255239232629,
          19.641886688154226,
          83.08210483035498,
          38.465226352056746,
          22.21213458603706,
          5.0844454426182875,
          26.200301672556098,
          24.444867556836257,
          91.97663363430722,
          42.128977287006606,
          13.208484449771916,
          51.85999317757285,
          71.96524112212872,
          32.27227393644768,
          22.576938083537485,
          30.426411815380515,
          26.664023271367267,
          53.9070835096284,
          60.49311974376628,
          58.622975562854506,
          32.43123839073596,
          63.139740474513204,
          6.214347933805271,
          46.144407446484294,
          27.339614629962682,
          10.964315711246606,
          34.18948483519998,
          5.236145710152151,
          39.04376461357346,
          57.8848513636946,
          27.287419936549725,
          44.19753887642668,
          36.11611235468678,
          64.45682320159901,
          13.195223435555238,
          2.0539896361549586,
          15.37163294511249,
          67.32116021785369,
          58.77844919063546,
          72.08776241186493,
          72.70637357726318,
          72.18057004432487,
          7.564356177383679,
          31.380516046254836,
          21.475748476038035,
          26.17043799290598,
          90.49259619794188,
          62.015670506034006,
          26.33329868824542,
          76.2519088023601,
          44.02191866821053,
          27.87438282322634,
          96.71067480861905,
          13.990155825789962,
          48.953566184940634,
          26.24981324846132,
          53.59705152016234,
          12.261869260211922,
          72.54802947104918,
          73.7350216131206,
          56.124147099543755,
          58.65124267892517,
          61.17833825830659,
          63.705433837688005,
          60.195238663260014,
          6.161877718807816,
          27.9368657111677,
          41.03340973818368,
          23.2769860199711,
          58.49039406571445,
          15.995609268564293,
          22.67132739880503,
          68.59366727932336,
          10.066064864212919,
          37.04286529049643,
          48.27841804154486,
          25.48556567641784,
          49.84709380061327,
          21.056638296417585,
          62.54302235927587,
          31.672067549489284,
          76.87249418245338,
          18.596518621404577,
          38.71723020733271,
          56.817044704399805,
          52.45575115049302,
          79.55582310400666,
          80.8824651608945,
          73.59050179638068,
          69.84511533404708,
          67.01383928588623,
          75.87116620161076,
          85.49066217354279,
          85.3967854598775,
          16.07428448720834,
          38.639035168683556,
          21.406594805797262,
          78.56236234749792,
          71.46930971683874,
          32.83474893035593,
          10.629663125859945,
          3.1550780766307907,
          12.200379076184609,
          5.769906611401487,
          74.92101324600618,
          51.010992472013896,
          2.706456097565643,
          40.67611738327616,
          37.18300719867402,
          82.71764046605358,
          11.970256287626615,
          7.559835571720819,
          57.97474766384448,
          17.96459262102773,
          78.29859012159652,
          52.72984771000494,
          29.798975459628206,
          10.098346644173894,
          18.48703713492187,
          77.63753585824124,
          31.824779066137747,
          34.36957517562566,
          49.41174350047919,
          23.663644858761725,
          64.26896941699624,
          82.89898500861086,
          12.449085383137975,
          6.830706062862635,
          78.47304773084922,
          21.679051237953928,
          79.30857647091815,
          89.79122535686756,
          82.70090282803457,
          17.296502770605137,
          81.27533098968453,
          81.01048604186283,
          81.27533098968453
         ]
        },
        {
         "line": {
          "color": "green"
         },
         "marker": {
          "size": 6
         },
         "mode": "lines+markers",
         "name": "Path",
         "type": "scatter",
         "x": [
          90,
          86.69036646673034,
          83.38073293346068,
          80.07109940019102,
          81.47478515513504,
          80.21953175390429,
          82.35075073950111,
          81.62446570799804,
          82.17822506757506,
          80.03324505048232,
          80.6255151496608,
          85.61131487990843,
          86.6577862587255,
          86.64471014318052,
          82.58088985273352,
          80.29329714803202,
          75.3003883459183,
          70.3037768512324,
          65.32342010505221,
          60.34306335887201,
          55.36270661269181,
          50.38234986651161,
          50.75546894200565,
          50.27378792332613,
          51.6699274896842,
          50.471608736899995,
          50.938494384891484,
          50.11456916332715,
          48.26037285722012,
          43.94600292260964,
          39.631632987999154,
          35.317263053388665,
          31.00289311877818,
          32.05416559538823,
          32.23205547465199,
          30.548635051238325,
          28.17805646474639,
          23.385588944386626,
          23.385588944386626,
          23.565220705531907,
          26.371824234971204,
          24.920500052191368,
          26.43030253067895,
          22.332062242785465,
          20.724747438494973,
          22.869236825927043,
          21.207803064888438,
          16.64606861707095,
          15.40113886715627,
          14.16221703287885,
          13.942825411047302,
          16.48814059217193,
          20.663631369949005,
          24.095240173309335,
          25.42250035711684,
          28.072918868414195,
          31.826687712657396,
          29
         ],
         "y": [
          80,
          76.25215717039028,
          72.50431434078055,
          68.75647151117083,
          63.95754805883621,
          59.117678339649686,
          54.59463670426408,
          49.64766691933366,
          44.67842647720562,
          40.16189454149733,
          35.19709684877922,
          34.820532047101466,
          29.931268538829823,
          24.93128563733883,
          22.018320713596836,
          17.57232030678213,
          17.83851890515424,
          17.65447116359572,
          18.097242753444707,
          18.540014343293695,
          18.982785933142683,
          19.425557522991674,
          24.411616302779823,
          29.3883605594444,
          34.18948483519998,
          39.04376461357346,
          44.02191866821053,
          48.953566184940634,
          53.59705152016234,
          56.124147099543755,
          58.65124267892517,
          61.17833825830659,
          63.705433837688005,
          68.59366727932336,
          73.59050179638068,
          78.29859012159652,
          82.70090282803457,
          81.27533098968453,
          81.27533098968453,
          81.01048604186283,
          76.87249418245338,
          72.08776241186493,
          67.32116021785369,
          64.45682320159901,
          63.139740474513204,
          58.622975562854506,
          53.9070835096284,
          51.85999317757285,
          47.01745769316209,
          42.1733816524139,
          37.17819723977505,
          32.87455103815293,
          30.124046218179224,
          26.48755601185392,
          21.666935677863773,
          17.427209069346155,
          14.12429831306026,
          10
         ]
        },
        {
         "hoverinfo": "skip",
         "line": {
          "color": "lightblue",
          "width": 1
         },
         "mode": "lines",
         "showlegend": false,
         "type": "scatter",
         "x": [
          29,
          31.826687712657396
         ],
         "y": [
          10,
          14.12429831306026
         ]
        },
        {
         "hoverinfo": "skip",
         "line": {
          "color": "lightblue",
          "width": 1
         },
         "mode": "lines",
         "showlegend": false,
         "type": "scatter",
         "x": [
          90,
          86.69036646673034
         ],
         "y": [
          80,
          76.25215717039028
         ]
        },
        {
         "hoverinfo": "skip",
         "line": {
          "color": "lightblue",
          "width": 1
         },
         "mode": "lines",
         "showlegend": false,
         "type": "scatter",
         "x": [
          86.69036646673034,
          83.38073293346068
         ],
         "y": [
          76.25215717039028,
          72.50431434078055
         ]
        },
        {
         "hoverinfo": "skip",
         "line": {
          "color": "lightblue",
          "width": 1
         },
         "mode": "lines",
         "showlegend": false,
         "type": "scatter",
         "x": [
          83.38073293346068,
          80.07109940019102
         ],
         "y": [
          72.50431434078055,
          68.75647151117083
         ]
        },
        {
         "hoverinfo": "skip",
         "line": {
          "color": "lightblue",
          "width": 1
         },
         "mode": "lines",
         "showlegend": false,
         "type": "scatter",
         "x": [
          90,
          89.70057507699806
         ],
         "y": [
          80,
          84.99102641903299
         ]
        },
        {
         "hoverinfo": "skip",
         "line": {
          "color": "lightblue",
          "width": 1
         },
         "mode": "lines",
         "showlegend": false,
         "type": "scatter",
         "x": [
          31.826687712657396,
          34.98934065931241
         ],
         "y": [
          14.12429831306026,
          17.99697520882814
         ]
        },
        {
         "hoverinfo": "skip",
         "line": {
          "color": "lightblue",
          "width": 1
         },
         "mode": "lines",
         "showlegend": false,
         "type": "scatter",
         "x": [
          34.98934065931241,
          38.15199360596743
         ],
         "y": [
          17.99697520882814,
          21.869652104596017
         ]
        },
        {
         "hoverinfo": "skip",
         "line": {
          "color": "lightblue",
          "width": 1
         },
         "mode": "lines",
         "showlegend": false,
         "type": "scatter",
         "x": [
          38.15199360596743,
          41.31464655262245
         ],
         "y": [
          21.869652104596017,
          25.742329000363895
         ]
        },
        {
         "hoverinfo": "skip",
         "line": {
          "color": "lightblue",
          "width": 1
         },
         "mode": "lines",
         "showlegend": false,
         "type": "scatter",
         "x": [
          41.31464655262245,
          44.477299499277464
         ],
         "y": [
          25.742329000363895,
          29.615005896131773
         ]
        },
        {
         "hoverinfo": "skip",
         "line": {
          "color": "lightblue",
          "width": 1
         },
         "mode": "lines",
         "showlegend": false,
         "type": "scatter",
         "x": [
          44.477299499277464,
          44.83275252635923
         ],
         "y": [
          29.615005896131773,
          34.60235520669128
         ]
        },
        {
         "hoverinfo": "skip",
         "line": {
          "color": "lightblue",
          "width": 1
         },
         "mode": "lines",
         "showlegend": false,
         "type": "scatter",
         "x": [
          80.07109940019102,
          81.47478515513504
         ],
         "y": [
          68.75647151117083,
          63.95754805883621
         ]
        },
        {
         "hoverinfo": "skip",
         "line": {
          "color": "lightblue",
          "width": 1
         },
         "mode": "lines",
         "showlegend": false,
         "type": "scatter",
         "x": [
          44.83275252635923,
          46.181246892495075
         ],
         "y": [
          34.60235520669128,
          39.41707876516272
         ]
        },
        {
         "hoverinfo": "skip",
         "line": {
          "color": "lightblue",
          "width": 1
         },
         "mode": "lines",
         "showlegend": false,
         "type": "scatter",
         "x": [
          89.70057507699806,
          91.22052287932856
         ],
         "y": [
          84.99102641903299,
          89.75440323366678
         ]
        },
        {
         "hoverinfo": "skip",
         "line": {
          "color": "lightblue",
          "width": 1
         },
         "mode": "lines",
         "showlegend": false,
         "type": "scatter",
         "x": [
          31.826687712657396,
          28.072918868414195
         ],
         "y": [
          14.12429831306026,
          17.427209069346155
         ]
        },
        {
         "hoverinfo": "skip",
         "line": {
          "color": "lightblue",
          "width": 1
         },
         "mode": "lines",
         "showlegend": false,
         "type": "scatter",
         "x": [
          81.47478515513504,
          80.21953175390429
         ],
         "y": [
          63.95754805883621,
          59.117678339649686
         ]
        },
        {
         "hoverinfo": "skip",
         "line": {
          "color": "lightblue",
          "width": 1
         },
         "mode": "lines",
         "showlegend": false,
         "type": "scatter",
         "x": [
          46.181246892495075,
          44.48630765731149
         ],
         "y": [
          39.41707876516272,
          44.1210325265251
         ]
        },
        {
         "hoverinfo": "skip",
         "line": {
          "color": "lightblue",
          "width": 1
         },
         "mode": "lines",
         "showlegend": false,
         "type": "scatter",
         "x": [
          80.21953175390429,
          82.35075073950111
         ],
         "y": [
          59.117678339649686,
          54.59463670426408
         ]
        },
        {
         "hoverinfo": "skip",
         "line": {
          "color": "lightblue",
          "width": 1
         },
         "mode": "lines",
         "showlegend": false,
         "type": "scatter",
         "x": [
          29,
          24.0072475400439
         ],
         "y": [
          10,
          9.730885017878396
         ]
        },
        {
         "hoverinfo": "skip",
         "line": {
          "color": "lightblue",
          "width": 1
         },
         "mode": "lines",
         "showlegend": false,
         "type": "scatter",
         "x": [
          82.35075073950111,
          81.62446570799804
         ],
         "y": [
          54.59463670426408,
          49.64766691933366
         ]
        },
        {
         "hoverinfo": "skip",
         "line": {
          "color": "lightblue",
          "width": 1
         },
         "mode": "lines",
         "showlegend": false,
         "type": "scatter",
         "x": [
          28.072918868414195,
          25.42250035711684
         ],
         "y": [
          17.427209069346155,
          21.666935677863773
         ]
        },
        {
         "hoverinfo": "skip",
         "line": {
          "color": "lightblue",
          "width": 1
         },
         "mode": "lines",
         "showlegend": false,
         "type": "scatter",
         "x": [
          91.22052287932856,
          86.38546757309656
         ],
         "y": [
          89.75440323366678,
          91.02807516382691
         ]
        },
        {
         "hoverinfo": "skip",
         "line": {
          "color": "lightblue",
          "width": 1
         },
         "mode": "lines",
         "showlegend": false,
         "type": "scatter",
         "x": [
          44.477299499277464,
          44.53383305059801
         ],
         "y": [
          29.615005896131773,
          31.602730684029446
         ]
        },
        {
         "hoverinfo": "skip",
         "line": {
          "color": "lightblue",
          "width": 1
         },
         "mode": "lines",
         "showlegend": false,
         "type": "scatter",
         "x": [
          86.38546757309656,
          81.53793070452303
         ],
         "y": [
          91.02807516382691,
          89.80276446534249
         ]
        },
        {
         "hoverinfo": "skip",
         "line": {
          "color": "lightblue",
          "width": 1
         },
         "mode": "lines",
         "showlegend": false,
         "type": "scatter",
         "x": [
          25.42250035711684,
          24.095240173309335
         ],
         "y": [
          21.666935677863773,
          26.48755601185392
         ]
        },
        {
         "hoverinfo": "skip",
         "line": {
          "color": "lightblue",
          "width": 1
         },
         "mode": "lines",
         "showlegend": false,
         "type": "scatter",
         "x": [
          81.62446570799804,
          82.17822506757506
         ],
         "y": [
          49.64766691933366,
          44.67842647720562
         ]
        },
        {
         "hoverinfo": "skip",
         "line": {
          "color": "lightblue",
          "width": 1
         },
         "mode": "lines",
         "showlegend": false,
         "type": "scatter",
         "x": [
          24.095240173309335,
          20.663631369949005
         ],
         "y": [
          26.48755601185392,
          30.124046218179224
         ]
        },
        {
         "hoverinfo": "skip",
         "line": {
          "color": "lightblue",
          "width": 1
         },
         "mode": "lines",
         "showlegend": false,
         "type": "scatter",
         "x": [
          91.22052287932856,
          95.90878028607904
         ],
         "y": [
          89.75440323366678,
          88.01651874727267
         ]
        },
        {
         "hoverinfo": "skip",
         "line": {
          "color": "lightblue",
          "width": 1
         },
         "mode": "lines",
         "showlegend": false,
         "type": "scatter",
         "x": [
          24.095240173309335,
          21.68695741251986
         ],
         "y": [
          26.48755601185392,
          27.084651669444405
         ]
        },
        {
         "hoverinfo": "skip",
         "line": {
          "color": "lightblue",
          "width": 1
         },
         "mode": "lines",
         "showlegend": false,
         "type": "scatter",
         "x": [
          82.17822506757506,
          86.1559385854378
         ],
         "y": [
          44.67842647720562,
          42.7578589361988
         ]
        },
        {
         "hoverinfo": "skip",
         "line": {
          "color": "lightblue",
          "width": 1
         },
         "mode": "lines",
         "showlegend": false,
         "type": "scatter",
         "x": [
          41.31464655262245,
          45.39014280100967
         ],
         "y": [
          25.742329000363895,
          22.845722308149412
         ]
        },
        {
         "hoverinfo": "skip",
         "line": {
          "color": "lightblue",
          "width": 1
         },
         "mode": "lines",
         "showlegend": false,
         "type": "scatter",
         "x": [
          82.17822506757506,
          80.03324505048232
         ],
         "y": [
          44.67842647720562,
          40.16189454149733
         ]
        },
        {
         "hoverinfo": "skip",
         "line": {
          "color": "lightblue",
          "width": 1
         },
         "mode": "lines",
         "showlegend": false,
         "type": "scatter",
         "x": [
          24.0072475400439,
          20.37663512208388
         ],
         "y": [
          9.730885017878396,
          6.293058164973427
         ]
        },
        {
         "hoverinfo": "skip",
         "line": {
          "color": "lightblue",
          "width": 1
         },
         "mode": "lines",
         "showlegend": false,
         "type": "scatter",
         "x": [
          80.03324505048232,
          80.6255151496608
         ],
         "y": [
          40.16189454149733,
          35.19709684877922
         ]
        },
        {
         "hoverinfo": "skip",
         "line": {
          "color": "lightblue",
          "width": 1
         },
         "mode": "lines",
         "showlegend": false,
         "type": "scatter",
         "x": [
          21.68695741251986,
          17.129280026095
         ],
         "y": [
          27.084651669444405,
          25.028544463758998
         ]
        },
        {
         "hoverinfo": "skip",
         "line": {
          "color": "lightblue",
          "width": 1
         },
         "mode": "lines",
         "showlegend": false,
         "type": "scatter",
         "x": [
          80.6255151496608,
          85.61131487990843
         ],
         "y": [
          35.19709684877922,
          34.820532047101466
         ]
        },
        {
         "hoverinfo": "skip",
         "line": {
          "color": "lightblue",
          "width": 1
         },
         "mode": "lines",
         "showlegend": false,
         "type": "scatter",
         "x": [
          20.37663512208388,
          15.376658221933438
         ],
         "y": [
          6.293058164973427,
          6.277859547865707
         ]
        },
        {
         "hoverinfo": "skip",
         "line": {
          "color": "lightblue",
          "width": 1
         },
         "mode": "lines",
         "showlegend": false,
         "type": "scatter",
         "x": [
          85.61131487990843,
          86.6577862587255
         ],
         "y": [
          34.820532047101466,
          29.931268538829823
         ]
        },
        {
         "hoverinfo": "skip",
         "line": {
          "color": "lightblue",
          "width": 1
         },
         "mode": "lines",
         "showlegend": false,
         "type": "scatter",
         "x": [
          24.0072475400439,
          20.337394245514368
         ],
         "y": [
          9.730885017878396,
          13.126790905359783
         ]
        },
        {
         "hoverinfo": "skip",
         "line": {
          "color": "lightblue",
          "width": 1
         },
         "mode": "lines",
         "showlegend": false,
         "type": "scatter",
         "x": [
          86.6577862587255,
          86.64471014318052
         ],
         "y": [
          29.931268538829823,
          24.93128563733883
         ]
        },
        {
         "hoverinfo": "skip",
         "line": {
          "color": "lightblue",
          "width": 1
         },
         "mode": "lines",
         "showlegend": false,
         "type": "scatter",
         "x": [
          20.663631369949005,
          16.48814059217193
         ],
         "y": [
          30.124046218179224,
          32.87455103815293
         ]
        },
        {
         "hoverinfo": "skip",
         "line": {
          "color": "lightblue",
          "width": 1
         },
         "mode": "lines",
         "showlegend": false,
         "type": "scatter",
         "x": [
          82.17822506757506,
          80.68699330878802
         ],
         "y": [
          44.67842647720562,
          45.5362757590826
         ]
        },
        {
         "hoverinfo": "skip",
         "line": {
          "color": "lightblue",
          "width": 1
         },
         "mode": "lines",
         "showlegend": false,
         "type": "scatter",
         "x": [
          16.48814059217193,
          13.942825411047302
         ],
         "y": [
          32.87455103815293,
          37.17819723977505
         ]
        },
        {
         "hoverinfo": "skip",
         "line": {
          "color": "lightblue",
          "width": 1
         },
         "mode": "lines",
         "showlegend": false,
         "type": "scatter",
         "x": [
          86.64471014318052,
          82.58088985273352
         ],
         "y": [
          24.93128563733883,
          22.018320713596836
         ]
        },
        {
         "hoverinfo": "skip",
         "line": {
          "color": "lightblue",
          "width": 1
         },
         "mode": "lines",
         "showlegend": false,
         "type": "scatter",
         "x": [
          13.942825411047302,
          8.978421884289064
         ],
         "y": [
          37.17819723977505,
          37.77376220139584
         ]
        },
        {
         "hoverinfo": "skip",
         "line": {
          "color": "lightblue",
          "width": 1
         },
         "mode": "lines",
         "showlegend": false,
         "type": "scatter",
         "x": [
          82.58088985273352,
          80.29329714803202
         ],
         "y": [
          22.018320713596836,
          17.57232030678213
         ]
        },
        {
         "hoverinfo": "skip",
         "line": {
          "color": "lightblue",
          "width": 1
         },
         "mode": "lines",
         "showlegend": false,
         "type": "scatter",
         "x": [
          13.942825411047302,
          14.16221703287885
         ],
         "y": [
          37.17819723977505,
          42.1733816524139
         ]
        },
        {
         "hoverinfo": "skip",
         "line": {
          "color": "lightblue",
          "width": 1
         },
         "mode": "lines",
         "showlegend": false,
         "type": "scatter",
         "x": [
          80.29329714803202,
          75.3003883459183
         ],
         "y": [
          17.57232030678213,
          17.83851890515424
         ]
        },
        {
         "hoverinfo": "skip",
         "line": {
          "color": "lightblue",
          "width": 1
         },
         "mode": "lines",
         "showlegend": false,
         "type": "scatter",
         "x": [
          44.48630765731149,
          43.421289669760455
         ],
         "y": [
          44.1210325265251,
          45.47221417983719
         ]
        },
        {
         "hoverinfo": "skip",
         "line": {
          "color": "lightblue",
          "width": 1
         },
         "mode": "lines",
         "showlegend": false,
         "type": "scatter",
         "x": [
          75.3003883459183,
          70.3037768512324
         ],
         "y": [
          17.83851890515424,
          17.65447116359572
         ]
        },
        {
         "hoverinfo": "skip",
         "line": {
          "color": "lightblue",
          "width": 1
         },
         "mode": "lines",
         "showlegend": false,
         "type": "scatter",
         "x": [
          17.129280026095,
          12.663980304435068
         ],
         "y": [
          25.028544463758998,
          22.778855952932723
         ]
        },
        {
         "hoverinfo": "skip",
         "line": {
          "color": "lightblue",
          "width": 1
         },
         "mode": "lines",
         "showlegend": false,
         "type": "scatter",
         "x": [
          70.3037768512324,
          65.32342010505221
         ],
         "y": [
          17.65447116359572,
          18.097242753444707
         ]
        },
        {
         "hoverinfo": "skip",
         "line": {
          "color": "lightblue",
          "width": 1
         },
         "mode": "lines",
         "showlegend": false,
         "type": "scatter",
         "x": [
          65.32342010505221,
          60.34306335887201
         ],
         "y": [
          18.097242753444707,
          18.540014343293695
         ]
        },
        {
         "hoverinfo": "skip",
         "line": {
          "color": "lightblue",
          "width": 1
         },
         "mode": "lines",
         "showlegend": false,
         "type": "scatter",
         "x": [
          60.34306335887201,
          55.36270661269181
         ],
         "y": [
          18.540014343293695,
          18.982785933142683
         ]
        },
        {
         "hoverinfo": "skip",
         "line": {
          "color": "lightblue",
          "width": 1
         },
         "mode": "lines",
         "showlegend": false,
         "type": "scatter",
         "x": [
          55.36270661269181,
          50.38234986651161
         ],
         "y": [
          18.982785933142683,
          19.425557522991674
         ]
        },
        {
         "hoverinfo": "skip",
         "line": {
          "color": "lightblue",
          "width": 1
         },
         "mode": "lines",
         "showlegend": false,
         "type": "scatter",
         "x": [
          86.6577862587255,
          82.8828750640726
         ],
         "y": [
          29.931268538829823,
          28.634384511108845
         ]
        },
        {
         "hoverinfo": "skip",
         "line": {
          "color": "lightblue",
          "width": 1
         },
         "mode": "lines",
         "showlegend": false,
         "type": "scatter",
         "x": [
          8.978421884289064,
          6.235256102029334
         ],
         "y": [
          37.77376220139584,
          41.95407815728235
         ]
        },
        {
         "hoverinfo": "skip",
         "line": {
          "color": "lightblue",
          "width": 1
         },
         "mode": "lines",
         "showlegend": false,
         "type": "scatter",
         "x": [
          50.38234986651161,
          50.75546894200565
         ],
         "y": [
          19.425557522991674,
          24.411616302779823
         ]
        },
        {
         "hoverinfo": "skip",
         "line": {
          "color": "lightblue",
          "width": 1
         },
         "mode": "lines",
         "showlegend": false,
         "type": "scatter",
         "x": [
          13.942825411047302,
          17.746118246161867
         ],
         "y": [
          37.17819723977505,
          38.2486303282412
         ]
        },
        {
         "hoverinfo": "skip",
         "line": {
          "color": "lightblue",
          "width": 1
         },
         "mode": "lines",
         "showlegend": false,
         "type": "scatter",
         "x": [
          50.75546894200565,
          50.27378792332613
         ],
         "y": [
          24.411616302779823,
          29.3883605594444
         ]
        },
        {
         "hoverinfo": "skip",
         "line": {
          "color": "lightblue",
          "width": 1
         },
         "mode": "lines",
         "showlegend": false,
         "type": "scatter",
         "x": [
          46.181246892495075,
          41.20863814402988
         ],
         "y": [
          39.41707876516272,
          38.894429518834606
         ]
        },
        {
         "hoverinfo": "skip",
         "line": {
          "color": "lightblue",
          "width": 1
         },
         "mode": "lines",
         "showlegend": false,
         "type": "scatter",
         "x": [
          81.47478515513504,
          86.4742164782646
         ],
         "y": [
          63.95754805883621,
          64.0329565816375
         ]
        },
        {
         "hoverinfo": "skip",
         "line": {
          "color": "lightblue",
          "width": 1
         },
         "mode": "lines",
         "showlegend": false,
         "type": "scatter",
         "x": [
          38.15199360596743,
          34.74556599846969
         ],
         "y": [
          21.869652104596017,
          24.386548126091622
         ]
        },
        {
         "hoverinfo": "skip",
         "line": {
          "color": "lightblue",
          "width": 1
         },
         "mode": "lines",
         "showlegend": false,
         "type": "scatter",
         "x": [
          70.3037768512324,
          69.94546393931995
         ],
         "y": [
          17.65447116359572,
          12.667326503857362
         ]
        },
        {
         "hoverinfo": "skip",
         "line": {
          "color": "lightblue",
          "width": 1
         },
         "mode": "lines",
         "showlegend": false,
         "type": "scatter",
         "x": [
          14.16221703287885,
          15.40113886715627
         ],
         "y": [
          42.1733816524139,
          47.01745769316209
         ]
        },
        {
         "hoverinfo": "skip",
         "line": {
          "color": "lightblue",
          "width": 1
         },
         "mode": "lines",
         "showlegend": false,
         "type": "scatter",
         "x": [
          85.61131487990843,
          85.14033524172685
         ],
         "y": [
          34.820532047101466,
          38.59713003445084
         ]
        },
        {
         "hoverinfo": "skip",
         "line": {
          "color": "lightblue",
          "width": 1
         },
         "mode": "lines",
         "showlegend": false,
         "type": "scatter",
         "x": [
          45.39014280100967,
          46.611559305202306
         ],
         "y": [
          22.845722308149412,
          17.997202768817242
         ]
        },
        {
         "hoverinfo": "skip",
         "line": {
          "color": "lightblue",
          "width": 1
         },
         "mode": "lines",
         "showlegend": false,
         "type": "scatter",
         "x": [
          69.94546393931995,
          73.47845866425753
         ],
         "y": [
          12.667326503857362,
          9.129255239232629
         ]
        },
        {
         "hoverinfo": "skip",
         "line": {
          "color": "lightblue",
          "width": 1
         },
         "mode": "lines",
         "showlegend": false,
         "type": "scatter",
         "x": [
          12.663980304435068,
          8.770469827778422
         ],
         "y": [
          22.778855952932723,
          19.641886688154226
         ]
        },
        {
         "hoverinfo": "skip",
         "line": {
          "color": "lightblue",
          "width": 1
         },
         "mode": "lines",
         "showlegend": false,
         "type": "scatter",
         "x": [
          89.70057507699806,
          85.1250593641808
         ],
         "y": [
          84.99102641903299,
          83.08210483035498
         ]
        },
        {
         "hoverinfo": "skip",
         "line": {
          "color": "lightblue",
          "width": 1
         },
         "mode": "lines",
         "showlegend": false,
         "type": "scatter",
         "x": [
          8.978421884289064,
          9.70424047522357
         ],
         "y": [
          37.77376220139584,
          38.465226352056746
         ]
        },
        {
         "hoverinfo": "skip",
         "line": {
          "color": "lightblue",
          "width": 1
         },
         "mode": "lines",
         "showlegend": false,
         "type": "scatter",
         "x": [
          86.64471014318052,
          90.84068649680842
         ],
         "y": [
          24.93128563733883,
          22.21213458603706
         ]
        },
        {
         "hoverinfo": "skip",
         "line": {
          "color": "lightblue",
          "width": 1
         },
         "mode": "lines",
         "showlegend": false,
         "type": "scatter",
         "x": [
          15.376658221933438,
          10.521170319220005
         ],
         "y": [
          6.277859547865707,
          5.0844454426182875
         ]
        },
        {
         "hoverinfo": "skip",
         "line": {
          "color": "lightblue",
          "width": 1
         },
         "mode": "lines",
         "showlegend": false,
         "type": "scatter",
         "x": [
          50.75546894200565,
          55.42458070420928
         ],
         "y": [
          24.411616302779823,
          26.200301672556098
         ]
        },
        {
         "hoverinfo": "skip",
         "line": {
          "color": "lightblue",
          "width": 1
         },
         "mode": "lines",
         "showlegend": false,
         "type": "scatter",
         "x": [
          34.74556599846969,
          32.761497618923975
         ],
         "y": [
          24.386548126091622,
          24.444867556836257
         ]
        },
        {
         "hoverinfo": "skip",
         "line": {
          "color": "lightblue",
          "width": 1
         },
         "mode": "lines",
         "showlegend": false,
         "type": "scatter",
         "x": [
          91.22052287932856,
          94.63492620095604
         ],
         "y": [
          89.75440323366678,
          91.97663363430722
         ]
        },
        {
         "hoverinfo": "skip",
         "line": {
          "color": "lightblue",
          "width": 1
         },
         "mode": "lines",
         "showlegend": false,
         "type": "scatter",
         "x": [
          6.235256102029334,
          7.608826545286574
         ],
         "y": [
          41.95407815728235,
          42.128977287006606
         ]
        },
        {
         "hoverinfo": "skip",
         "line": {
          "color": "lightblue",
          "width": 1
         },
         "mode": "lines",
         "showlegend": false,
         "type": "scatter",
         "x": [
          80.29329714803202,
          82.73398078444866
         ],
         "y": [
          17.57232030678213,
          13.208484449771916
         ]
        },
        {
         "hoverinfo": "skip",
         "line": {
          "color": "lightblue",
          "width": 1
         },
         "mode": "lines",
         "showlegend": false,
         "type": "scatter",
         "x": [
          15.40113886715627,
          16.64606861707095
         ],
         "y": [
          47.01745769316209,
          51.85999317757285
         ]
        },
        {
         "hoverinfo": "skip",
         "line": {
          "color": "lightblue",
          "width": 1
         },
         "mode": "lines",
         "showlegend": false,
         "type": "scatter",
         "x": [
          83.38073293346068,
          84.07606168338002
         ],
         "y": [
          72.50431434078055,
          71.96524112212872
         ]
        },
        {
         "hoverinfo": "skip",
         "line": {
          "color": "lightblue",
          "width": 1
         },
         "mode": "lines",
         "showlegend": false,
         "type": "scatter",
         "x": [
          16.48814059217193,
          17.168895773852977
         ],
         "y": [
          32.87455103815293,
          32.27227393644768
         ]
        },
        {
         "hoverinfo": "skip",
         "line": {
          "color": "lightblue",
          "width": 1
         },
         "mode": "lines",
         "showlegend": false,
         "type": "scatter",
         "x": [
          70.3037768512324,
          71.18088540898283
         ],
         "y": [
          17.65447116359572,
          22.576938083537485
         ]
        },
        {
         "hoverinfo": "skip",
         "line": {
          "color": "lightblue",
          "width": 1
         },
         "mode": "lines",
         "showlegend": false,
         "type": "scatter",
         "x": [
          16.48814059217193,
          13.669012833012262
         ],
         "y": [
          32.87455103815293,
          30.426411815380515
         ]
        },
        {
         "hoverinfo": "skip",
         "line": {
          "color": "lightblue",
          "width": 1
         },
         "mode": "lines",
         "showlegend": false,
         "type": "scatter",
         "x": [
          86.64471014318052,
          86.2748035960878
         ],
         "y": [
          24.93128563733883,
          26.664023271367267
         ]
        },
        {
         "hoverinfo": "skip",
         "line": {
          "color": "lightblue",
          "width": 1
         },
         "mode": "lines",
         "showlegend": false,
         "type": "scatter",
         "x": [
          16.64606861707095,
          21.207803064888438
         ],
         "y": [
          51.85999317757285,
          53.9070835096284
         ]
        },
        {
         "hoverinfo": "skip",
         "line": {
          "color": "lightblue",
          "width": 1
         },
         "mode": "lines",
         "showlegend": false,
         "type": "scatter",
         "x": [
          86.4742164782646,
          89.11526323671917
         ],
         "y": [
          64.0329565816375,
          60.49311974376628
         ]
        },
        {
         "hoverinfo": "skip",
         "line": {
          "color": "lightblue",
          "width": 1
         },
         "mode": "lines",
         "showlegend": false,
         "type": "scatter",
         "x": [
          21.207803064888438,
          22.869236825927043
         ],
         "y": [
          53.9070835096284,
          58.622975562854506
         ]
        },
        {
         "hoverinfo": "skip",
         "line": {
          "color": "lightblue",
          "width": 1
         },
         "mode": "lines",
         "showlegend": false,
         "type": "scatter",
         "x": [
          86.6577862587255,
          88.45597809286912
         ],
         "y": [
          29.931268538829823,
          32.43123839073596
         ]
        },
        {
         "hoverinfo": "skip",
         "line": {
          "color": "lightblue",
          "width": 1
         },
         "mode": "lines",
         "showlegend": false,
         "type": "scatter",
         "x": [
          22.869236825927043,
          20.724747438494973
         ],
         "y": [
          58.622975562854506,
          63.139740474513204
         ]
        },
        {
         "hoverinfo": "skip",
         "line": {
          "color": "lightblue",
          "width": 1
         },
         "mode": "lines",
         "showlegend": false,
         "type": "scatter",
         "x": [
          73.47845866425753,
          69.41603138481409
         ],
         "y": [
          9.129255239232629,
          6.214347933805271
         ]
        },
        {
         "hoverinfo": "skip",
         "line": {
          "color": "lightblue",
          "width": 1
         },
         "mode": "lines",
         "showlegend": false,
         "type": "scatter",
         "x": [
          6.235256102029334,
          3.507410716371205
         ],
         "y": [
          41.95407815728235,
          46.144407446484294
         ]
        },
        {
         "hoverinfo": "skip",
         "line": {
          "color": "lightblue",
          "width": 1
         },
         "mode": "lines",
         "showlegend": false,
         "type": "scatter",
         "x": [
          55.42458070420928,
          52.62170690748261
         ],
         "y": [
          26.200301672556098,
          27.339614629962682
         ]
        },
        {
         "hoverinfo": "skip",
         "line": {
          "color": "lightblue",
          "width": 1
         },
         "mode": "lines",
         "showlegend": false,
         "type": "scatter",
         "x": [
          31.826687712657396,
          35.70154383337143
         ],
         "y": [
          14.12429831306026,
          10.964315711246606
         ]
        },
        {
         "hoverinfo": "skip",
         "line": {
          "color": "lightblue",
          "width": 1
         },
         "mode": "lines",
         "showlegend": false,
         "type": "scatter",
         "x": [
          50.27378792332613,
          51.6699274896842
         ],
         "y": [
          29.3883605594444,
          34.18948483519998
         ]
        },
        {
         "hoverinfo": "skip",
         "line": {
          "color": "lightblue",
          "width": 1
         },
         "mode": "lines",
         "showlegend": false,
         "type": "scatter",
         "x": [
          20.37663512208388,
          23.529926352407838
         ],
         "y": [
          6.293058164973427,
          5.236145710152151
         ]
        },
        {
         "hoverinfo": "skip",
         "line": {
          "color": "lightblue",
          "width": 1
         },
         "mode": "lines",
         "showlegend": false,
         "type": "scatter",
         "x": [
          51.6699274896842,
          50.471608736899995
         ],
         "y": [
          34.18948483519998,
          39.04376461357346
         ]
        },
        {
         "hoverinfo": "skip",
         "line": {
          "color": "lightblue",
          "width": 1
         },
         "mode": "lines",
         "showlegend": false,
         "type": "scatter",
         "x": [
          22.869236825927043,
          18.57915527015178
         ],
         "y": [
          58.622975562854506,
          57.8848513636946
         ]
        },
        {
         "hoverinfo": "skip",
         "line": {
          "color": "lightblue",
          "width": 1
         },
         "mode": "lines",
         "showlegend": false,
         "type": "scatter",
         "x": [
          71.18088540898283,
          72.85759668777902
         ],
         "y": [
          22.576938083537485,
          27.287419936549725
         ]
        },
        {
         "hoverinfo": "skip",
         "line": {
          "color": "lightblue",
          "width": 1
         },
         "mode": "lines",
         "showlegend": false,
         "type": "scatter",
         "x": [
          44.48630765731149,
          45.38412874714625
         ],
         "y": [
          44.1210325265251,
          44.19753887642668
         ]
        },
        {
         "hoverinfo": "skip",
         "line": {
          "color": "lightblue",
          "width": 1
         },
         "mode": "lines",
         "showlegend": false,
         "type": "scatter",
         "x": [
          88.45597809286912,
          91.8355792335065
         ],
         "y": [
          32.43123839073596,
          36.11611235468678
         ]
        },
        {
         "hoverinfo": "skip",
         "line": {
          "color": "lightblue",
          "width": 1
         },
         "mode": "lines",
         "showlegend": false,
         "type": "scatter",
         "x": [
          20.724747438494973,
          22.332062242785465
         ],
         "y": [
          63.139740474513204,
          64.45682320159901
         ]
        },
        {
         "hoverinfo": "skip",
         "line": {
          "color": "lightblue",
          "width": 1
         },
         "mode": "lines",
         "showlegend": false,
         "type": "scatter",
         "x": [
          82.73398078444866,
          87.73396319896793
         ],
         "y": [
          13.208484449771916,
          13.195223435555238
         ]
        },
        {
         "hoverinfo": "skip",
         "line": {
          "color": "lightblue",
          "width": 1
         },
         "mode": "lines",
         "showlegend": false,
         "type": "scatter",
         "x": [
          23.529926352407838,
          27.386593659905696
         ],
         "y": [
          5.236145710152151,
          2.0539896361549586
         ]
        },
        {
         "hoverinfo": "skip",
         "line": {
          "color": "lightblue",
          "width": 1
         },
         "mode": "lines",
         "showlegend": false,
         "type": "scatter",
         "x": [
          55.36270661269181,
          57.49031661357207
         ],
         "y": [
          18.982785933142683,
          15.37163294511249
         ]
        },
        {
         "hoverinfo": "skip",
         "line": {
          "color": "lightblue",
          "width": 1
         },
         "mode": "lines",
         "showlegend": false,
         "type": "scatter",
         "x": [
          22.332062242785465,
          26.43030253067895
         ],
         "y": [
          64.45682320159901,
          67.32116021785369
         ]
        },
        {
         "hoverinfo": "skip",
         "line": {
          "color": "lightblue",
          "width": 1
         },
         "mode": "lines",
         "showlegend": false,
         "type": "scatter",
         "x": [
          89.11526323671917,
          89.93240144704045
         ],
         "y": [
          60.49311974376628,
          58.77844919063546
         ]
        },
        {
         "hoverinfo": "skip",
         "line": {
          "color": "lightblue",
          "width": 1
         },
         "mode": "lines",
         "showlegend": false,
         "type": "scatter",
         "x": [
          26.43030253067895,
          24.920500052191368
         ],
         "y": [
          67.32116021785369,
          72.08776241186493
         ]
        },
        {
         "hoverinfo": "skip",
         "line": {
          "color": "lightblue",
          "width": 1
         },
         "mode": "lines",
         "showlegend": false,
         "type": "scatter",
         "x": [
          86.69036646673034,
          90.21562088460016
         ],
         "y": [
          76.25215717039028,
          72.70637357726318
         ]
        },
        {
         "hoverinfo": "skip",
         "line": {
          "color": "lightblue",
          "width": 1
         },
         "mode": "lines",
         "showlegend": false,
         "type": "scatter",
         "x": [
          24.920500052191368,
          19.921361452056622
         ],
         "y": [
          72.08776241186493,
          72.18057004432487
         ]
        },
        {
         "hoverinfo": "skip",
         "line": {
          "color": "lightblue",
          "width": 1
         },
         "mode": "lines",
         "showlegend": false,
         "type": "scatter",
         "x": [
          69.41603138481409,
          67.28889944068341
         ],
         "y": [
          6.214347933805271,
          7.564356177383679
         ]
        },
        {
         "hoverinfo": "skip",
         "line": {
          "color": "lightblue",
          "width": 1
         },
         "mode": "lines",
         "showlegend": false,
         "type": "scatter",
         "x": [
          44.53383305059801,
          42.19820339439133
         ],
         "y": [
          31.602730684029446,
          31.380516046254836
         ]
        },
        {
         "hoverinfo": "skip",
         "line": {
          "color": "lightblue",
          "width": 1
         },
         "mode": "lines",
         "showlegend": false,
         "type": "scatter",
         "x": [
          82.58088985273352,
          80.51113015404086
         ],
         "y": [
          22.018320713596836,
          21.475748476038035
         ]
        },
        {
         "hoverinfo": "skip",
         "line": {
          "color": "lightblue",
          "width": 1
         },
         "mode": "lines",
         "showlegend": false,
         "type": "scatter",
         "x": [
          41.31464655262245,
          39.22712728415646
         ],
         "y": [
          25.742329000363895,
          26.17043799290598
         ]
        },
        {
         "hoverinfo": "skip",
         "line": {
          "color": "lightblue",
          "width": 1
         },
         "mode": "lines",
         "showlegend": false,
         "type": "scatter",
         "x": [
          95.90878028607904,
          98.38262829548098
         ],
         "y": [
          88.01651874727267,
          90.49259619794188
         ]
        },
        {
         "hoverinfo": "skip",
         "line": {
          "color": "lightblue",
          "width": 1
         },
         "mode": "lines",
         "showlegend": false,
         "type": "scatter",
         "x": [
          20.724747438494973,
          18.150799138177977
         ],
         "y": [
          63.139740474513204,
          62.015670506034006
         ]
        },
        {
         "hoverinfo": "skip",
         "line": {
          "color": "lightblue",
          "width": 1
         },
         "mode": "lines",
         "showlegend": false,
         "type": "scatter",
         "x": [
          82.8828750640726,
          82.26553611847625
         ],
         "y": [
          28.634384511108845,
          26.33329868824542
         ]
        },
        {
         "hoverinfo": "skip",
         "line": {
          "color": "lightblue",
          "width": 1
         },
         "mode": "lines",
         "showlegend": false,
         "type": "scatter",
         "x": [
          19.921361452056622,
          17.018914085209115
         ],
         "y": [
          72.18057004432487,
          76.2519088023601
         ]
        },
        {
         "hoverinfo": "skip",
         "line": {
          "color": "lightblue",
          "width": 1
         },
         "mode": "lines",
         "showlegend": false,
         "type": "scatter",
         "x": [
          50.471608736899995,
          50.938494384891484
         ],
         "y": [
          39.04376461357346,
          44.02191866821053
         ]
        },
        {
         "hoverinfo": "skip",
         "line": {
          "color": "lightblue",
          "width": 1
         },
         "mode": "lines",
         "showlegend": false,
         "type": "scatter",
         "x": [
          39.22712728415646,
          38.217635021961996
         ],
         "y": [
          26.17043799290598,
          27.87438282322634
         ]
        },
        {
         "hoverinfo": "skip",
         "line": {
          "color": "lightblue",
          "width": 1
         },
         "mode": "lines",
         "showlegend": false,
         "type": "scatter",
         "x": [
          94.63492620095604,
          93.02593454158665
         ],
         "y": [
          91.97663363430722,
          96.71067480861905
         ]
        },
        {
         "hoverinfo": "skip",
         "line": {
          "color": "lightblue",
          "width": 1
         },
         "mode": "lines",
         "showlegend": false,
         "type": "scatter",
         "x": [
          46.611559305202306,
          46.686648264492504
         ],
         "y": [
          17.997202768817242,
          13.990155825789962
         ]
        },
        {
         "hoverinfo": "skip",
         "line": {
          "color": "lightblue",
          "width": 1
         },
         "mode": "lines",
         "showlegend": false,
         "type": "scatter",
         "x": [
          50.938494384891484,
          50.11456916332715
         ],
         "y": [
          44.02191866821053,
          48.953566184940634
         ]
        },
        {
         "hoverinfo": "skip",
         "line": {
          "color": "lightblue",
          "width": 1
         },
         "mode": "lines",
         "showlegend": false,
         "type": "scatter",
         "x": [
          21.68695741251986,
          21.646560268457137
         ],
         "y": [
          27.084651669444405,
          26.24981324846132
         ]
        },
        {
         "hoverinfo": "skip",
         "line": {
          "color": "lightblue",
          "width": 1
         },
         "mode": "lines",
         "showlegend": false,
         "type": "scatter",
         "x": [
          50.11456916332715,
          48.26037285722012
         ],
         "y": [
          48.953566184940634,
          53.59705152016234
         ]
        },
        {
         "hoverinfo": "skip",
         "line": {
          "color": "lightblue",
          "width": 1
         },
         "mode": "lines",
         "showlegend": false,
         "type": "scatter",
         "x": [
          24.0072475400439,
          25.48171106611835
         ],
         "y": [
          9.730885017878396,
          12.261869260211922
         ]
        },
        {
         "hoverinfo": "skip",
         "line": {
          "color": "lightblue",
          "width": 1
         },
         "mode": "lines",
         "showlegend": false,
         "type": "scatter",
         "x": [
          84.07606168338002,
          84.22462957011801
         ],
         "y": [
          71.96524112212872,
          72.54802947104918
         ]
        },
        {
         "hoverinfo": "skip",
         "line": {
          "color": "lightblue",
          "width": 1
         },
         "mode": "lines",
         "showlegend": false,
         "type": "scatter",
         "x": [
          17.018914085209115,
          13.87993492601558
         ],
         "y": [
          76.2519088023601,
          73.7350216131206
         ]
        },
        {
         "hoverinfo": "skip",
         "line": {
          "color": "lightblue",
          "width": 1
         },
         "mode": "lines",
         "showlegend": false,
         "type": "scatter",
         "x": [
          48.26037285722012,
          43.94600292260964
         ],
         "y": [
          53.59705152016234,
          56.124147099543755
         ]
        },
        {
         "hoverinfo": "skip",
         "line": {
          "color": "lightblue",
          "width": 1
         },
         "mode": "lines",
         "showlegend": false,
         "type": "scatter",
         "x": [
          43.94600292260964,
          39.631632987999154
         ],
         "y": [
          56.124147099543755,
          58.65124267892517
         ]
        },
        {
         "hoverinfo": "skip",
         "line": {
          "color": "lightblue",
          "width": 1
         },
         "mode": "lines",
         "showlegend": false,
         "type": "scatter",
         "x": [
          39.631632987999154,
          35.317263053388665
         ],
         "y": [
          58.65124267892517,
          61.17833825830659
         ]
        },
        {
         "hoverinfo": "skip",
         "line": {
          "color": "lightblue",
          "width": 1
         },
         "mode": "lines",
         "showlegend": false,
         "type": "scatter",
         "x": [
          35.317263053388665,
          31.00289311877818
         ],
         "y": [
          61.17833825830659,
          63.705433837688005
         ]
        },
        {
         "hoverinfo": "skip",
         "line": {
          "color": "lightblue",
          "width": 1
         },
         "mode": "lines",
         "showlegend": false,
         "type": "scatter",
         "x": [
          43.94600292260964,
          46.84879700415216
         ],
         "y": [
          56.124147099543755,
          60.195238663260014
         ]
        },
        {
         "hoverinfo": "skip",
         "line": {
          "color": "lightblue",
          "width": 1
         },
         "mode": "lines",
         "showlegend": false,
         "type": "scatter",
         "x": [
          35.70154383337143,
          37.093157762872174
         ],
         "y": [
          10.964315711246606,
          6.161877718807816
         ]
        },
        {
         "hoverinfo": "skip",
         "line": {
          "color": "lightblue",
          "width": 1
         },
         "mode": "lines",
         "showlegend": false,
         "type": "scatter",
         "x": [
          86.2748035960878,
          87.81214259142479
         ],
         "y": [
          26.664023271367267,
          27.9368657111677
         ]
        },
        {
         "hoverinfo": "skip",
         "line": {
          "color": "lightblue",
          "width": 1
         },
         "mode": "lines",
         "showlegend": false,
         "type": "scatter",
         "x": [
          41.20863814402988,
          37.45807111205638
         ],
         "y": [
          38.894429518834606,
          41.03340973818368
         ]
        },
        {
         "hoverinfo": "skip",
         "line": {
          "color": "lightblue",
          "width": 1
         },
         "mode": "lines",
         "showlegend": false,
         "type": "scatter",
         "x": [
          71.18088540898283,
          75.24211442023041
         ],
         "y": [
          22.576938083537485,
          23.2769860199711
         ]
        },
        {
         "hoverinfo": "skip",
         "line": {
          "color": "lightblue",
          "width": 1
         },
         "mode": "lines",
         "showlegend": false,
         "type": "scatter",
         "x": [
          18.57915527015178,
          19.205246777771013
         ],
         "y": [
          57.8848513636946,
          58.49039406571445
         ]
        },
        {
         "hoverinfo": "skip",
         "line": {
          "color": "lightblue",
          "width": 1
         },
         "mode": "lines",
         "showlegend": false,
         "type": "scatter",
         "x": [
          55.36270661269181,
          53.37628538870328
         ],
         "y": [
          18.982785933142683,
          15.995609268564293
         ]
        },
        {
         "hoverinfo": "skip",
         "line": {
          "color": "lightblue",
          "width": 1
         },
         "mode": "lines",
         "showlegend": false,
         "type": "scatter",
         "x": [
          38.15199360596743,
          38.32096163941592
         ],
         "y": [
          21.869652104596017,
          22.67132739880503
         ]
        },
        {
         "hoverinfo": "skip",
         "line": {
          "color": "lightblue",
          "width": 1
         },
         "mode": "lines",
         "showlegend": false,
         "type": "scatter",
         "x": [
          31.00289311877818,
          32.05416559538823
         ],
         "y": [
          63.705433837688005,
          68.59366727932336
         ]
        },
        {
         "hoverinfo": "skip",
         "line": {
          "color": "lightblue",
          "width": 1
         },
         "mode": "lines",
         "showlegend": false,
         "type": "scatter",
         "x": [
          10.521170319220005,
          10.949501894510886
         ],
         "y": [
          5.0844454426182875,
          10.066064864212919
         ]
        },
        {
         "hoverinfo": "skip",
         "line": {
          "color": "lightblue",
          "width": 1
         },
         "mode": "lines",
         "showlegend": false,
         "type": "scatter",
         "x": [
          85.14033524172685,
          83.9842376723273
         ],
         "y": [
          38.59713003445084,
          37.04286529049643
         ]
        },
        {
         "hoverinfo": "skip",
         "line": {
          "color": "lightblue",
          "width": 1
         },
         "mode": "lines",
         "showlegend": false,
         "type": "scatter",
         "x": [
          15.40113886715627,
          15.980702293059334
         ],
         "y": [
          47.01745769316209,
          48.27841804154486
         ]
        },
        {
         "hoverinfo": "skip",
         "line": {
          "color": "lightblue",
          "width": 1
         },
         "mode": "lines",
         "showlegend": false,
         "type": "scatter",
         "x": [
          55.42458070420928,
          60.37323228376348
         ],
         "y": [
          26.200301672556098,
          25.48556567641784
         ]
        },
        {
         "hoverinfo": "skip",
         "line": {
          "color": "lightblue",
          "width": 1
         },
         "mode": "lines",
         "showlegend": false,
         "type": "scatter",
         "x": [
          21.207803064888438,
          24.12610455080302
         ],
         "y": [
          53.9070835096284,
          49.84709380061327
         ]
        },
        {
         "hoverinfo": "skip",
         "line": {
          "color": "lightblue",
          "width": 1
         },
         "mode": "lines",
         "showlegend": false,
         "type": "scatter",
         "x": [
          90.84068649680842,
          93.56211034170491
         ],
         "y": [
          22.21213458603706,
          21.056638296417585
         ]
        },
        {
         "hoverinfo": "skip",
         "line": {
          "color": "lightblue",
          "width": 1
         },
         "mode": "lines",
         "showlegend": false,
         "type": "scatter",
         "x": [
          20.724747438494973,
          21.950383877772282
         ],
         "y": [
          63.139740474513204,
          62.54302235927587
         ]
        },
        {
         "hoverinfo": "skip",
         "line": {
          "color": "lightblue",
          "width": 1
         },
         "mode": "lines",
         "showlegend": false,
         "type": "scatter",
         "x": [
          72.85759668777902,
          70.45450174368226
         ],
         "y": [
          27.287419936549725,
          31.672067549489284
         ]
        },
        {
         "hoverinfo": "skip",
         "line": {
          "color": "lightblue",
          "width": 1
         },
         "mode": "lines",
         "showlegend": false,
         "type": "scatter",
         "x": [
          24.920500052191368,
          26.371824234971204
         ],
         "y": [
          72.08776241186493,
          76.87249418245338
         ]
        },
        {
         "hoverinfo": "skip",
         "line": {
          "color": "lightblue",
          "width": 1
         },
         "mode": "lines",
         "showlegend": false,
         "type": "scatter",
         "x": [
          93.56211034170491,
          97.91501870102215
         ],
         "y": [
          21.056638296417585,
          18.596518621404577
         ]
        },
        {
         "hoverinfo": "skip",
         "line": {
          "color": "lightblue",
          "width": 1
         },
         "mode": "lines",
         "showlegend": false,
         "type": "scatter",
         "x": [
          17.746118246161867,
          22.724111230620103
         ],
         "y": [
          38.2486303282412,
          38.71723020733271
         ]
        },
        {
         "hoverinfo": "skip",
         "line": {
          "color": "lightblue",
          "width": 1
         },
         "mode": "lines",
         "showlegend": false,
         "type": "scatter",
         "x": [
          35.317263053388665,
          32.87203943648751
         ],
         "y": [
          61.17833825830659,
          56.817044704399805
         ]
        },
        {
         "hoverinfo": "skip",
         "line": {
          "color": "lightblue",
          "width": 1
         },
         "mode": "lines",
         "showlegend": false,
         "type": "scatter",
         "x": [
          32.87203943648751,
          30.42681581958636
         ],
         "y": [
          56.817044704399805,
          52.45575115049302
         ]
        },
        {
         "hoverinfo": "skip",
         "line": {
          "color": "lightblue",
          "width": 1
         },
         "mode": "lines",
         "showlegend": false,
         "type": "scatter",
         "x": [
          85.1250593641808,
          81.58029742768605
         ],
         "y": [
          83.08210483035498,
          79.55582310400666
         ]
        },
        {
         "hoverinfo": "skip",
         "line": {
          "color": "lightblue",
          "width": 1
         },
         "mode": "lines",
         "showlegend": false,
         "type": "scatter",
         "x": [
          17.018914085209115,
          15.132661766340636
         ],
         "y": [
          76.2519088023601,
          80.8824651608945
         ]
        },
        {
         "hoverinfo": "skip",
         "line": {
          "color": "lightblue",
          "width": 1
         },
         "mode": "lines",
         "showlegend": false,
         "type": "scatter",
         "x": [
          32.05416559538823,
          32.23205547465199
         ],
         "y": [
          68.59366727932336,
          73.59050179638068
         ]
        },
        {
         "hoverinfo": "skip",
         "line": {
          "color": "lightblue",
          "width": 1
         },
         "mode": "lines",
         "showlegend": false,
         "type": "scatter",
         "x": [
          19.921361452056622,
          20.330822251218706
         ],
         "y": [
          72.18057004432487,
          69.84511533404708
         ]
        },
        {
         "hoverinfo": "skip",
         "line": {
          "color": "lightblue",
          "width": 1
         },
         "mode": "lines",
         "showlegend": false,
         "type": "scatter",
         "x": [
          80.07109940019102,
          80.85029819753284
         ],
         "y": [
          68.75647151117083,
          67.01383928588623
         ]
        },
        {
         "hoverinfo": "skip",
         "line": {
          "color": "lightblue",
          "width": 1
         },
         "mode": "lines",
         "showlegend": false,
         "type": "scatter",
         "x": [
          13.87993492601558,
          9.359217472218655
         ],
         "y": [
          73.7350216131206,
          75.87116620161076
         ]
        },
        {
         "hoverinfo": "skip",
         "line": {
          "color": "lightblue",
          "width": 1
         },
         "mode": "lines",
         "showlegend": false,
         "type": "scatter",
         "x": [
          85.1250593641808,
          81.90612854867358
         ],
         "y": [
          83.08210483035498,
          85.49066217354279
         ]
        },
        {
         "hoverinfo": "skip",
         "line": {
          "color": "lightblue",
          "width": 1
         },
         "mode": "lines",
         "showlegend": false,
         "type": "scatter",
         "x": [
          15.132661766340636,
          12.983031044986392
         ],
         "y": [
          80.8824651608945,
          85.3967854598775
         ]
        },
        {
         "hoverinfo": "skip",
         "line": {
          "color": "lightblue",
          "width": 1
         },
         "mode": "lines",
         "showlegend": false,
         "type": "scatter",
         "x": [
          93.56211034170491,
          93.14240744695894
         ],
         "y": [
          21.056638296417585,
          16.07428448720834
         ]
        },
        {
         "hoverinfo": "skip",
         "line": {
          "color": "lightblue",
          "width": 1
         },
         "mode": "lines",
         "showlegend": false,
         "type": "scatter",
         "x": [
          22.724111230620103,
          25.26099209428593
         ],
         "y": [
          38.71723020733271,
          38.639035168683556
         ]
        },
        {
         "hoverinfo": "skip",
         "line": {
          "color": "lightblue",
          "width": 1
         },
         "mode": "lines",
         "showlegend": false,
         "type": "scatter",
         "x": [
          82.58088985273352,
          84.40180384446022
         ],
         "y": [
          22.018320713596836,
          21.406594805797262
         ]
        },
        {
         "hoverinfo": "skip",
         "line": {
          "color": "lightblue",
          "width": 1
         },
         "mode": "lines",
         "showlegend": false,
         "type": "scatter",
         "x": [
          9.359217472218655,
          7.2964613525595805
         ],
         "y": [
          75.87116620161076,
          78.56236234749792
         ]
        },
        {
         "hoverinfo": "skip",
         "line": {
          "color": "lightblue",
          "width": 1
         },
         "mode": "lines",
         "showlegend": false,
         "type": "scatter",
         "x": [
          90.21562088460016,
          87.61315444015457
         ],
         "y": [
          72.70637357726318,
          71.46930971683874
         ]
        },
        {
         "hoverinfo": "skip",
         "line": {
          "color": "lightblue",
          "width": 1
         },
         "mode": "lines",
         "showlegend": false,
         "type": "scatter",
         "x": [
          16.48814059217193,
          16.246191691881695
         ],
         "y": [
          32.87455103815293,
          32.83474893035593
         ]
        },
        {
         "hoverinfo": "skip",
         "line": {
          "color": "lightblue",
          "width": 1
         },
         "mode": "lines",
         "showlegend": false,
         "type": "scatter",
         "x": [
          82.73398078444866,
          84.80145965291236
         ],
         "y": [
          13.208484449771916,
          10.629663125859945
         ]
        },
        {
         "hoverinfo": "skip",
         "line": {
          "color": "lightblue",
          "width": 1
         },
         "mode": "lines",
         "showlegend": false,
         "type": "scatter",
         "x": [
          37.093157762872174,
          36.48666874750265
         ],
         "y": [
          6.161877718807816,
          3.1550780766307907
         ]
        },
        {
         "hoverinfo": "skip",
         "line": {
          "color": "lightblue",
          "width": 1
         },
         "mode": "lines",
         "showlegend": false,
         "type": "scatter",
         "x": [
          69.94546393931995,
          65.84444694066462
         ],
         "y": [
          12.667326503857362,
          12.200379076184609
         ]
        },
        {
         "hoverinfo": "skip",
         "line": {
          "color": "lightblue",
          "width": 1
         },
         "mode": "lines",
         "showlegend": false,
         "type": "scatter",
         "x": [
          23.529926352407838,
          23.19860775610415
         ],
         "y": [
          5.236145710152151,
          5.769906611401487
         ]
        },
        {
         "hoverinfo": "skip",
         "line": {
          "color": "lightblue",
          "width": 1
         },
         "mode": "lines",
         "showlegend": false,
         "type": "scatter",
         "x": [
          32.23205547465199,
          37.051779458700814
         ],
         "y": [
          73.59050179638068,
          74.92101324600618
         ]
        },
        {
         "hoverinfo": "skip",
         "line": {
          "color": "lightblue",
          "width": 1
         },
         "mode": "lines",
         "showlegend": false,
         "type": "scatter",
         "x": [
          3.507410716371205,
          4.6547337699577005
         ],
         "y": [
          46.144407446484294,
          51.010992472013896
         ]
        },
        {
         "hoverinfo": "skip",
         "line": {
          "color": "lightblue",
          "width": 1
         },
         "mode": "lines",
         "showlegend": false,
         "type": "scatter",
         "x": [
          69.41603138481409,
          72.9789929149521
         ],
         "y": [
          6.214347933805271,
          2.706456097565643
         ]
        },
        {
         "hoverinfo": "skip",
         "line": {
          "color": "lightblue",
          "width": 1
         },
         "mode": "lines",
         "showlegend": false,
         "type": "scatter",
         "x": [
          14.16221703287885,
          15.644002534106072
         ],
         "y": [
          42.1733816524139,
          40.67611738327616
         ]
        },
        {
         "hoverinfo": "skip",
         "line": {
          "color": "lightblue",
          "width": 1
         },
         "mode": "lines",
         "showlegend": false,
         "type": "scatter",
         "x": [
          80.6255151496608,
          80.68026018777968
         ],
         "y": [
          35.19709684877922,
          37.18300719867402
         ]
        },
        {
         "hoverinfo": "skip",
         "line": {
          "color": "lightblue",
          "width": 1
         },
         "mode": "lines",
         "showlegend": false,
         "type": "scatter",
         "x": [
          7.2964613525595805,
          5.1718926136569365
         ],
         "y": [
          78.56236234749792,
          82.71764046605358
         ]
        },
        {
         "hoverinfo": "skip",
         "line": {
          "color": "lightblue",
          "width": 1
         },
         "mode": "lines",
         "showlegend": false,
         "type": "scatter",
         "x": [
          53.37628538870328,
          50.41039035029478
         ],
         "y": [
          15.995609268564293,
          11.970256287626615
         ]
        },
        {
         "hoverinfo": "skip",
         "line": {
          "color": "lightblue",
          "width": 1
         },
         "mode": "lines",
         "showlegend": false,
         "type": "scatter",
         "x": [
          10.521170319220005,
          7.082148464807969
         ],
         "y": [
          5.0844454426182875,
          7.559835571720819
         ]
        },
        {
         "hoverinfo": "skip",
         "line": {
          "color": "lightblue",
          "width": 1
         },
         "mode": "lines",
         "showlegend": false,
         "type": "scatter",
         "x": [
          32.87203943648751,
          33.561815311124676
         ],
         "y": [
          56.817044704399805,
          57.97474766384448
         ]
        },
        {
         "hoverinfo": "skip",
         "line": {
          "color": "lightblue",
          "width": 1
         },
         "mode": "lines",
         "showlegend": false,
         "type": "scatter",
         "x": [
          46.611559305202306,
          45.58910574971421
         ],
         "y": [
          17.997202768817242,
          17.96459262102773
         ]
        },
        {
         "hoverinfo": "skip",
         "line": {
          "color": "lightblue",
          "width": 1
         },
         "mode": "lines",
         "showlegend": false,
         "type": "scatter",
         "x": [
          32.23205547465199,
          30.548635051238325
         ],
         "y": [
          73.59050179638068,
          78.29859012159652
         ]
        },
        {
         "hoverinfo": "skip",
         "line": {
          "color": "lightblue",
          "width": 1
         },
         "mode": "lines",
         "showlegend": false,
         "type": "scatter",
         "x": [
          24.12610455080302,
          26.240799046802156
         ],
         "y": [
          49.84709380061327,
          52.72984771000494
         ]
        },
        {
         "hoverinfo": "skip",
         "line": {
          "color": "lightblue",
          "width": 1
         },
         "mode": "lines",
         "showlegend": false,
         "type": "scatter",
         "x": [
          55.42458070420928,
          55.60456580901214
         ],
         "y": [
          26.200301672556098,
          29.798975459628206
         ]
        },
        {
         "hoverinfo": "skip",
         "line": {
          "color": "lightblue",
          "width": 1
         },
         "mode": "lines",
         "showlegend": false,
         "type": "scatter",
         "x": [
          29,
          30.859946204033484
         ],
         "y": [
          10,
          10.098346644173894
         ]
        },
        {
         "hoverinfo": "skip",
         "line": {
          "color": "lightblue",
          "width": 1
         },
         "mode": "lines",
         "showlegend": false,
         "type": "scatter",
         "x": [
          60.34306335887201,
          62.302415320624824
         ],
         "y": [
          18.540014343293695,
          18.48703713492187
         ]
        },
        {
         "hoverinfo": "skip",
         "line": {
          "color": "lightblue",
          "width": 1
         },
         "mode": "lines",
         "showlegend": false,
         "type": "scatter",
         "x": [
          7.2964613525595805,
          4.788657218199221
         ],
         "y": [
          78.56236234749792,
          77.63753585824124
         ]
        },
        {
         "hoverinfo": "skip",
         "line": {
          "color": "lightblue",
          "width": 1
         },
         "mode": "lines",
         "showlegend": false,
         "type": "scatter",
         "x": [
          55.60456580901214,
          60.17579318772051
         ],
         "y": [
          29.798975459628206,
          31.824779066137747
         ]
        },
        {
         "hoverinfo": "skip",
         "line": {
          "color": "lightblue",
          "width": 1
         },
         "mode": "lines",
         "showlegend": false,
         "type": "scatter",
         "x": [
          8.978421884289064,
          5.316248937311004
         ],
         "y": [
          37.77376220139584,
          34.36957517562566
         ]
        },
        {
         "hoverinfo": "skip",
         "line": {
          "color": "lightblue",
          "width": 1
         },
         "mode": "lines",
         "showlegend": false,
         "type": "scatter",
         "x": [
          50.11456916332715,
          55.093532262962036
         ],
         "y": [
          48.953566184940634,
          49.41174350047919
         ]
        },
        {
         "hoverinfo": "skip",
         "line": {
          "color": "lightblue",
          "width": 1
         },
         "mode": "lines",
         "showlegend": false,
         "type": "scatter",
         "x": [
          25.42250035711684,
          23.932074862274575
         ],
         "y": [
          21.666935677863773,
          23.663644858761725
         ]
        },
        {
         "hoverinfo": "skip",
         "line": {
          "color": "lightblue",
          "width": 1
         },
         "mode": "lines",
         "showlegend": false,
         "type": "scatter",
         "x": [
          46.84879700415216,
          49.74788612766382
         ],
         "y": [
          60.195238663260014,
          64.26896941699624
         ]
        },
        {
         "hoverinfo": "skip",
         "line": {
          "color": "lightblue",
          "width": 1
         },
         "mode": "lines",
         "showlegend": false,
         "type": "scatter",
         "x": [
          15.132661766340636,
          18.16824062485517
         ],
         "y": [
          80.8824651608945,
          82.89898500861086
         ]
        },
        {
         "hoverinfo": "skip",
         "line": {
          "color": "lightblue",
          "width": 1
         },
         "mode": "lines",
         "showlegend": false,
         "type": "scatter",
         "x": [
          93.14240744695894,
          96.58594217973679
         ],
         "y": [
          16.07428448720834,
          12.449085383137975
         ]
        },
        {
         "hoverinfo": "skip",
         "line": {
          "color": "lightblue",
          "width": 1
         },
         "mode": "lines",
         "showlegend": false,
         "type": "scatter",
         "x": [
          15.376658221933438,
          13.338303107155303
         ],
         "y": [
          6.277859547865707,
          6.830706062862635
         ]
        },
        {
         "hoverinfo": "skip",
         "line": {
          "color": "lightblue",
          "width": 1
         },
         "mode": "lines",
         "showlegend": false,
         "type": "scatter",
         "x": [
          37.051779458700814,
          40.570735414447626
         ],
         "y": [
          74.92101324600618,
          78.47304773084922
         ]
        },
        {
         "hoverinfo": "skip",
         "line": {
          "color": "lightblue",
          "width": 1
         },
         "mode": "lines",
         "showlegend": false,
         "type": "scatter",
         "x": [
          23.932074862274575,
          21.554337481430117
         ],
         "y": [
          23.663644858761725,
          21.679051237953928
         ]
        },
        {
         "hoverinfo": "skip",
         "line": {
          "color": "lightblue",
          "width": 1
         },
         "mode": "lines",
         "showlegend": false,
         "type": "scatter",
         "x": [
          90,
          94.9519625910776
         ],
         "y": [
          80,
          79.30857647091815
         ]
        },
        {
         "hoverinfo": "skip",
         "line": {
          "color": "lightblue",
          "width": 1
         },
         "mode": "lines",
         "showlegend": false,
         "type": "scatter",
         "x": [
          12.983031044986392,
          10.597889960743773
         ],
         "y": [
          85.3967854598775,
          89.79122535686756
         ]
        },
        {
         "hoverinfo": "skip",
         "line": {
          "color": "lightblue",
          "width": 1
         },
         "mode": "lines",
         "showlegend": false,
         "type": "scatter",
         "x": [
          30.548635051238325,
          28.17805646474639
         ],
         "y": [
          78.29859012159652,
          82.70090282803457
         ]
        },
        {
         "hoverinfo": "skip",
         "line": {
          "color": "lightblue",
          "width": 1
         },
         "mode": "lines",
         "showlegend": false,
         "type": "scatter",
         "x": [
          45.58910574971421,
          41.26672040867459
         ],
         "y": [
          17.96459262102773,
          17.296502770605137
         ]
        },
        {
         "hoverinfo": "skip",
         "line": {
          "color": "lightblue",
          "width": 1
         },
         "mode": "lines",
         "showlegend": false,
         "type": "scatter",
         "x": [
          28.17805646474639,
          23.385588944386626
         ],
         "y": [
          82.70090282803457,
          81.27533098968453
         ]
        },
        {
         "hoverinfo": "skip",
         "line": {
          "color": "lightblue",
          "width": 1
         },
         "mode": "lines",
         "showlegend": false,
         "type": "scatter",
         "x": [
          26.371824234971204,
          23.565220705531907
         ],
         "y": [
          76.87249418245338,
          81.01048604186283
         ]
        },
        {
         "hoverinfo": "skip",
         "line": {
          "color": "lightblue",
          "width": 1
         },
         "mode": "lines",
         "showlegend": false,
         "type": "scatter",
         "x": [
          23.565220705531907,
          23.385588944386626
         ],
         "y": [
          81.01048604186283,
          81.27533098968453
         ]
        },
        {
         "marker": {
          "color": "red",
          "size": 10
         },
         "mode": "markers",
         "name": "Start",
         "type": "scatter",
         "x": [
          29
         ],
         "y": [
          10
         ]
        },
        {
         "marker": {
          "color": "orange",
          "size": 10
         },
         "mode": "markers",
         "name": "Goal",
         "type": "scatter",
         "x": [
          90
         ],
         "y": [
          80
         ]
        }
       ],
       "layout": {
        "height": 600,
        "shapes": [
         {
          "fillcolor": "purple",
          "line": {
           "width": 0
          },
          "opacity": 0.5,
          "type": "rect",
          "x0": 27,
          "x1": 30,
          "y0": 20,
          "y1": 80
         },
         {
          "fillcolor": "purple",
          "line": {
           "width": 0
          },
          "opacity": 0.5,
          "type": "rect",
          "x0": 47,
          "x1": 50,
          "y0": 0,
          "y1": 50
         },
         {
          "fillcolor": "purple",
          "line": {
           "width": 0
          },
          "opacity": 0.5,
          "type": "rect",
          "x0": 77,
          "x1": 80,
          "y0": 20,
          "y1": 100
         },
         {
          "fillcolor": "purple",
          "line": {
           "width": 0
          },
          "opacity": 0.5,
          "type": "rect",
          "x0": 30,
          "x1": 47,
          "y0": 47,
          "y1": 50
         },
         {
          "fillcolor": "purple",
          "line": {
           "width": 0
          },
          "opacity": 0.5,
          "type": "rect",
          "x0": 50,
          "x1": 77,
          "y0": 72,
          "y1": 75
         },
         {
          "fillcolor": "rgba(0,0,0,0)",
          "layer": "above",
          "line": {
           "color": "white",
           "width": 3
          },
          "type": "rect",
          "x0": 0,
          "x1": 100,
          "y0": 0,
          "y1": 100
         }
        ],
        "template": {
         "data": {
          "bar": [
           {
            "error_x": {
             "color": "#2a3f5f"
            },
            "error_y": {
             "color": "#2a3f5f"
            },
            "marker": {
             "line": {
              "color": "#E5ECF6",
              "width": 0.5
             },
             "pattern": {
              "fillmode": "overlay",
              "size": 10,
              "solidity": 0.2
             }
            },
            "type": "bar"
           }
          ],
          "barpolar": [
           {
            "marker": {
             "line": {
              "color": "#E5ECF6",
              "width": 0.5
             },
             "pattern": {
              "fillmode": "overlay",
              "size": 10,
              "solidity": 0.2
             }
            },
            "type": "barpolar"
           }
          ],
          "carpet": [
           {
            "aaxis": {
             "endlinecolor": "#2a3f5f",
             "gridcolor": "white",
             "linecolor": "white",
             "minorgridcolor": "white",
             "startlinecolor": "#2a3f5f"
            },
            "baxis": {
             "endlinecolor": "#2a3f5f",
             "gridcolor": "white",
             "linecolor": "white",
             "minorgridcolor": "white",
             "startlinecolor": "#2a3f5f"
            },
            "type": "carpet"
           }
          ],
          "choropleth": [
           {
            "colorbar": {
             "outlinewidth": 0,
             "ticks": ""
            },
            "type": "choropleth"
           }
          ],
          "contour": [
           {
            "colorbar": {
             "outlinewidth": 0,
             "ticks": ""
            },
            "colorscale": [
             [
              0,
              "#0d0887"
             ],
             [
              0.1111111111111111,
              "#46039f"
             ],
             [
              0.2222222222222222,
              "#7201a8"
             ],
             [
              0.3333333333333333,
              "#9c179e"
             ],
             [
              0.4444444444444444,
              "#bd3786"
             ],
             [
              0.5555555555555556,
              "#d8576b"
             ],
             [
              0.6666666666666666,
              "#ed7953"
             ],
             [
              0.7777777777777778,
              "#fb9f3a"
             ],
             [
              0.8888888888888888,
              "#fdca26"
             ],
             [
              1,
              "#f0f921"
             ]
            ],
            "type": "contour"
           }
          ],
          "contourcarpet": [
           {
            "colorbar": {
             "outlinewidth": 0,
             "ticks": ""
            },
            "type": "contourcarpet"
           }
          ],
          "heatmap": [
           {
            "colorbar": {
             "outlinewidth": 0,
             "ticks": ""
            },
            "colorscale": [
             [
              0,
              "#0d0887"
             ],
             [
              0.1111111111111111,
              "#46039f"
             ],
             [
              0.2222222222222222,
              "#7201a8"
             ],
             [
              0.3333333333333333,
              "#9c179e"
             ],
             [
              0.4444444444444444,
              "#bd3786"
             ],
             [
              0.5555555555555556,
              "#d8576b"
             ],
             [
              0.6666666666666666,
              "#ed7953"
             ],
             [
              0.7777777777777778,
              "#fb9f3a"
             ],
             [
              0.8888888888888888,
              "#fdca26"
             ],
             [
              1,
              "#f0f921"
             ]
            ],
            "type": "heatmap"
           }
          ],
          "histogram": [
           {
            "marker": {
             "pattern": {
              "fillmode": "overlay",
              "size": 10,
              "solidity": 0.2
             }
            },
            "type": "histogram"
           }
          ],
          "histogram2d": [
           {
            "colorbar": {
             "outlinewidth": 0,
             "ticks": ""
            },
            "colorscale": [
             [
              0,
              "#0d0887"
             ],
             [
              0.1111111111111111,
              "#46039f"
             ],
             [
              0.2222222222222222,
              "#7201a8"
             ],
             [
              0.3333333333333333,
              "#9c179e"
             ],
             [
              0.4444444444444444,
              "#bd3786"
             ],
             [
              0.5555555555555556,
              "#d8576b"
             ],
             [
              0.6666666666666666,
              "#ed7953"
             ],
             [
              0.7777777777777778,
              "#fb9f3a"
             ],
             [
              0.8888888888888888,
              "#fdca26"
             ],
             [
              1,
              "#f0f921"
             ]
            ],
            "type": "histogram2d"
           }
          ],
          "histogram2dcontour": [
           {
            "colorbar": {
             "outlinewidth": 0,
             "ticks": ""
            },
            "colorscale": [
             [
              0,
              "#0d0887"
             ],
             [
              0.1111111111111111,
              "#46039f"
             ],
             [
              0.2222222222222222,
              "#7201a8"
             ],
             [
              0.3333333333333333,
              "#9c179e"
             ],
             [
              0.4444444444444444,
              "#bd3786"
             ],
             [
              0.5555555555555556,
              "#d8576b"
             ],
             [
              0.6666666666666666,
              "#ed7953"
             ],
             [
              0.7777777777777778,
              "#fb9f3a"
             ],
             [
              0.8888888888888888,
              "#fdca26"
             ],
             [
              1,
              "#f0f921"
             ]
            ],
            "type": "histogram2dcontour"
           }
          ],
          "mesh3d": [
           {
            "colorbar": {
             "outlinewidth": 0,
             "ticks": ""
            },
            "type": "mesh3d"
           }
          ],
          "parcoords": [
           {
            "line": {
             "colorbar": {
              "outlinewidth": 0,
              "ticks": ""
             }
            },
            "type": "parcoords"
           }
          ],
          "pie": [
           {
            "automargin": true,
            "type": "pie"
           }
          ],
          "scatter": [
           {
            "fillpattern": {
             "fillmode": "overlay",
             "size": 10,
             "solidity": 0.2
            },
            "type": "scatter"
           }
          ],
          "scatter3d": [
           {
            "line": {
             "colorbar": {
              "outlinewidth": 0,
              "ticks": ""
             }
            },
            "marker": {
             "colorbar": {
              "outlinewidth": 0,
              "ticks": ""
             }
            },
            "type": "scatter3d"
           }
          ],
          "scattercarpet": [
           {
            "marker": {
             "colorbar": {
              "outlinewidth": 0,
              "ticks": ""
             }
            },
            "type": "scattercarpet"
           }
          ],
          "scattergeo": [
           {
            "marker": {
             "colorbar": {
              "outlinewidth": 0,
              "ticks": ""
             }
            },
            "type": "scattergeo"
           }
          ],
          "scattergl": [
           {
            "marker": {
             "colorbar": {
              "outlinewidth": 0,
              "ticks": ""
             }
            },
            "type": "scattergl"
           }
          ],
          "scattermap": [
           {
            "marker": {
             "colorbar": {
              "outlinewidth": 0,
              "ticks": ""
             }
            },
            "type": "scattermap"
           }
          ],
          "scattermapbox": [
           {
            "marker": {
             "colorbar": {
              "outlinewidth": 0,
              "ticks": ""
             }
            },
            "type": "scattermapbox"
           }
          ],
          "scatterpolar": [
           {
            "marker": {
             "colorbar": {
              "outlinewidth": 0,
              "ticks": ""
             }
            },
            "type": "scatterpolar"
           }
          ],
          "scatterpolargl": [
           {
            "marker": {
             "colorbar": {
              "outlinewidth": 0,
              "ticks": ""
             }
            },
            "type": "scatterpolargl"
           }
          ],
          "scatterternary": [
           {
            "marker": {
             "colorbar": {
              "outlinewidth": 0,
              "ticks": ""
             }
            },
            "type": "scatterternary"
           }
          ],
          "surface": [
           {
            "colorbar": {
             "outlinewidth": 0,
             "ticks": ""
            },
            "colorscale": [
             [
              0,
              "#0d0887"
             ],
             [
              0.1111111111111111,
              "#46039f"
             ],
             [
              0.2222222222222222,
              "#7201a8"
             ],
             [
              0.3333333333333333,
              "#9c179e"
             ],
             [
              0.4444444444444444,
              "#bd3786"
             ],
             [
              0.5555555555555556,
              "#d8576b"
             ],
             [
              0.6666666666666666,
              "#ed7953"
             ],
             [
              0.7777777777777778,
              "#fb9f3a"
             ],
             [
              0.8888888888888888,
              "#fdca26"
             ],
             [
              1,
              "#f0f921"
             ]
            ],
            "type": "surface"
           }
          ],
          "table": [
           {
            "cells": {
             "fill": {
              "color": "#EBF0F8"
             },
             "line": {
              "color": "white"
             }
            },
            "header": {
             "fill": {
              "color": "#C8D4E3"
             },
             "line": {
              "color": "white"
             }
            },
            "type": "table"
           }
          ]
         },
         "layout": {
          "annotationdefaults": {
           "arrowcolor": "#2a3f5f",
           "arrowhead": 0,
           "arrowwidth": 1
          },
          "autotypenumbers": "strict",
          "coloraxis": {
           "colorbar": {
            "outlinewidth": 0,
            "ticks": ""
           }
          },
          "colorscale": {
           "diverging": [
            [
             0,
             "#8e0152"
            ],
            [
             0.1,
             "#c51b7d"
            ],
            [
             0.2,
             "#de77ae"
            ],
            [
             0.3,
             "#f1b6da"
            ],
            [
             0.4,
             "#fde0ef"
            ],
            [
             0.5,
             "#f7f7f7"
            ],
            [
             0.6,
             "#e6f5d0"
            ],
            [
             0.7,
             "#b8e186"
            ],
            [
             0.8,
             "#7fbc41"
            ],
            [
             0.9,
             "#4d9221"
            ],
            [
             1,
             "#276419"
            ]
           ],
           "sequential": [
            [
             0,
             "#0d0887"
            ],
            [
             0.1111111111111111,
             "#46039f"
            ],
            [
             0.2222222222222222,
             "#7201a8"
            ],
            [
             0.3333333333333333,
             "#9c179e"
            ],
            [
             0.4444444444444444,
             "#bd3786"
            ],
            [
             0.5555555555555556,
             "#d8576b"
            ],
            [
             0.6666666666666666,
             "#ed7953"
            ],
            [
             0.7777777777777778,
             "#fb9f3a"
            ],
            [
             0.8888888888888888,
             "#fdca26"
            ],
            [
             1,
             "#f0f921"
            ]
           ],
           "sequentialminus": [
            [
             0,
             "#0d0887"
            ],
            [
             0.1111111111111111,
             "#46039f"
            ],
            [
             0.2222222222222222,
             "#7201a8"
            ],
            [
             0.3333333333333333,
             "#9c179e"
            ],
            [
             0.4444444444444444,
             "#bd3786"
            ],
            [
             0.5555555555555556,
             "#d8576b"
            ],
            [
             0.6666666666666666,
             "#ed7953"
            ],
            [
             0.7777777777777778,
             "#fb9f3a"
            ],
            [
             0.8888888888888888,
             "#fdca26"
            ],
            [
             1,
             "#f0f921"
            ]
           ]
          },
          "colorway": [
           "#636efa",
           "#EF553B",
           "#00cc96",
           "#ab63fa",
           "#FFA15A",
           "#19d3f3",
           "#FF6692",
           "#B6E880",
           "#FF97FF",
           "#FECB52"
          ],
          "font": {
           "color": "#2a3f5f"
          },
          "geo": {
           "bgcolor": "white",
           "lakecolor": "white",
           "landcolor": "#E5ECF6",
           "showlakes": true,
           "showland": true,
           "subunitcolor": "white"
          },
          "hoverlabel": {
           "align": "left"
          },
          "hovermode": "closest",
          "mapbox": {
           "style": "light"
          },
          "paper_bgcolor": "white",
          "plot_bgcolor": "#E5ECF6",
          "polar": {
           "angularaxis": {
            "gridcolor": "white",
            "linecolor": "white",
            "ticks": ""
           },
           "bgcolor": "#E5ECF6",
           "radialaxis": {
            "gridcolor": "white",
            "linecolor": "white",
            "ticks": ""
           }
          },
          "scene": {
           "xaxis": {
            "backgroundcolor": "#E5ECF6",
            "gridcolor": "white",
            "gridwidth": 2,
            "linecolor": "white",
            "showbackground": true,
            "ticks": "",
            "zerolinecolor": "white"
           },
           "yaxis": {
            "backgroundcolor": "#E5ECF6",
            "gridcolor": "white",
            "gridwidth": 2,
            "linecolor": "white",
            "showbackground": true,
            "ticks": "",
            "zerolinecolor": "white"
           },
           "zaxis": {
            "backgroundcolor": "#E5ECF6",
            "gridcolor": "white",
            "gridwidth": 2,
            "linecolor": "white",
            "showbackground": true,
            "ticks": "",
            "zerolinecolor": "white"
           }
          },
          "shapedefaults": {
           "line": {
            "color": "#2a3f5f"
           }
          },
          "ternary": {
           "aaxis": {
            "gridcolor": "white",
            "linecolor": "white",
            "ticks": ""
           },
           "baxis": {
            "gridcolor": "white",
            "linecolor": "white",
            "ticks": ""
           },
           "bgcolor": "#E5ECF6",
           "caxis": {
            "gridcolor": "white",
            "linecolor": "white",
            "ticks": ""
           }
          },
          "title": {
           "x": 0.05
          },
          "xaxis": {
           "automargin": true,
           "gridcolor": "white",
           "linecolor": "white",
           "ticks": "",
           "title": {
            "standoff": 15
           },
           "zerolinecolor": "white",
           "zerolinewidth": 2
          },
          "yaxis": {
           "automargin": true,
           "gridcolor": "white",
           "linecolor": "white",
           "ticks": "",
           "title": {
            "standoff": 15
           },
           "zerolinecolor": "white",
           "zerolinewidth": 2
          }
         }
        },
        "title": {
         "text": "Map Visualization"
        },
        "width": 600,
        "xaxis": {
         "scaleanchor": "y",
         "showgrid": false
        },
        "yaxis": {
         "showgrid": false
        }
       }
      }
     },
     "metadata": {},
     "output_type": "display_data"
    },
    {
     "data": {
      "application/vnd.plotly.v1+json": {
       "config": {
        "plotlyServerURL": "https://plot.ly"
       },
       "data": [
        {
         "marker": {
          "color": "blue",
          "size": 4
         },
         "mode": "markers",
         "name": "nodes",
         "type": "scatter",
         "x": [
          80,
          50,
          81.73639324103652,
          54.94630788513233,
          59.892615770264655,
          64.83892365539698,
          69.78523154052931,
          60.49007070075697,
          75.07868062719382,
          78.77512331057423,
          46.789195959263914,
          74.28263688821573,
          45.929201230422294,
          74.27710055192256,
          42.22647422852455,
          77.08021224290243,
          60.74344095146655,
          73.27849794673583,
          65.42386053136316,
          43.70875484255825,
          77.64347224380607,
          38.92113030352035,
          82.90920025694572,
          64.13057556553345,
          73.37414247002025,
          68.95927301535417,
          34.21795864564643,
          74.85311054499068,
          40.77451713156504,
          78.46358377988227,
          62.8614673777648,
          80.07534497980254,
          30.14709808717446,
          77.5003857860273,
          67.25444024343778,
          68.19798825327553,
          72.53538629337888,
          42.62584188291243,
          67.7767861451359,
          35.781883975712155,
          63.07948239944707,
          58.07995633591525,
          60.36567060510256,
          33.23099417220466,
          68.83499889993348,
          66.75587769606305,
          81.45881462630254,
          65.54352163494683,
          70.67492370214988,
          56.374870879797854,
          86.62414030632453,
          45.95947130839721,
          65.70830810940836,
          31.89310106178035,
          61.22540806031856,
          56.74250801122875,
          51.74708071170683,
          57.74628767000657,
          54.749134388546594,
          32.89097228859507,
          57.006792982874074,
          44.935586615881704,
          84.53708721129243,
          46.974945109005084,
          86.77308371764275,
          31.609054709216668,
          49.05069644714745,
          57.50744217834702,
          85.15045021957056,
          62.375884674197536,
          44.05658854610733,
          36.94043264763762,
          41.45226468226303,
          52.008023135540896,
          58.19134513856429,
          47.09447743205644,
          60.958446203413544,
          86.20823643164013,
          50.65909302937612,
          42.121170683896565,
          62.95570015878238,
          83.61247665902816,
          26.828710391849256,
          37.30602498520023,
          36.54253063703684,
          32.845390268229984,
          22.684629311746654,
          30.72821028548395,
          41.98369606546803,
          66.43768788260196,
          72.93467534200471,
          18.683647121038817,
          44.91416614890872,
          18.72336311465742,
          42.1302000200011,
          47.9879634404102,
          36.98468283251744,
          15.810790351678097,
          34.46339860299743,
          37.34462866112026,
          64.36401446608295,
          40.15199290520843,
          33.08950563988811,
          33.037967079770546,
          48.380908497739675,
          40.47548094523783,
          29.533974694361024,
          35.97226113056446,
          79.84939762805571,
          23.542965610751207,
          29.753198721515606,
          12.056329083393805,
          26.19983879428523,
          22.865702894209438,
          19.531566994133648,
          16.197431094057855,
          12.863295193982063,
          12.056329083393805
         ],
         "y": [
          50,
          50,
          54.68880992496845,
          50.7307792453797,
          51.4615584907594,
          52.19233773613911,
          52.92311698151881,
          46.49738206298909,
          49.11647544977936,
          58.71756660649439,
          53.832849776862226,
          56.52267122289987,
          47.096795326263646,
          44.181146749183206,
          55.87773862661392,
          40.04078869125006,
          41.50380583787193,
          36.7931790456303,
          39.744921942863385,
          42.61688262191086,
          57.68520459189202,
          41.17512977443591,
          61.5299335458321,
          57.14190771580267,
          31.794093916812663,
          36.209266619158804,
          39.47802154083042,
          27.017834561080583,
          60.662278373401364,
          47.4861479453194,
          61.97816292078706,
          65.64931023025994,
          36.574903507839466,
          69.9352856327083,
          64.36600491754078,
          50.86290882710094,
          70.52586165491111,
          65.30690932376206,
          72.06069865900695,
          60.39095905768933,
          70.34741598509184,
          70.27857457265733,
          66.31071395563578,
          64.6913033706905,
          76.94743435531626,
          58.68675064137866,
          37.626696487525656,
          37.23749810748879,
          24.27142696090322,
          44.408243738534324,
          53.63527842293899,
          66.18837184511844,
          24.848254104800557,
          41.55188288821885,
          27.062663089128108,
          29.27707207345566,
          29.49086191229541,
          37.50167238089755,
          33.499538923923176,
          56.31142114056074,
          75.16204878859105,
          47.77268769554045,
          67.90604598345296,
          63.962235588662566,
          72.3782176733134,
          51.478545462490736,
          25.28021921814092,
          55.85598074361799,
          34.25448257875345,
          33.77650736498138,
          25.522884157447322,
          37.185469084418486,
          29.791080171246488,
          75.05114336314846,
          55.827756408235516,
          75.97692336928895,
          51.469784443570234,
          77.34620997840965,
          33.03248203310869,
          75.46095826513229,
          62.313096136882386,
          42.1390949460836,
          50.012834642644926,
          76.80794449383924,
          50.6656400131186,
          74.54902043098106,
          52.810439332649516,
          70.01939032238947,
          20.972816381720342,
          35.49892042373995,
          19.811211436270646,
          54.649000763947086,
          80.47650587309737,
          59.64884302544403,
          70.53177877105867,
          54.01020649485213,
          21.072147629497277,
          50.5567282922343,
          16.754379012031347,
          61.65212948612368,
          20.534122208113835,
          61.20248179226988,
          24.207047091684267,
          38.22922750743709,
          84.07951815267984,
          64.78369704199932,
          27.722470209233457,
          44.64727417591997,
          27.210488093613943,
          60.97979448197674,
          15.076875785063184,
          47.254604644495906,
          31.44853217863571,
          35.17459414803796,
          38.900656117440214,
          42.626718086842466,
          46.35278005624472,
          47.254604644495906
         ]
        },
        {
         "line": {
          "color": "green"
         },
         "marker": {
          "size": 6
         },
         "mode": "lines+markers",
         "name": "Path",
         "type": "scatter",
         "x": [
          50,
          46.789195959263914,
          42.22647422852455,
          40.77451713156504,
          35.781883975712155,
          32.89097228859507,
          31.609054709216668,
          26.828710391849256,
          22.684629311746654,
          18.683647121038817,
          15.810790351678097,
          12.056329083393805,
          12.056329083393805,
          12.863295193982063,
          16.197431094057855,
          19.531566994133648,
          22.865702894209438,
          26.19983879428523,
          29.533974694361024,
          33.08950563988811,
          36.98468283251744,
          41.98369606546803,
          44.05658854610733,
          49.05069644714745,
          51.74708071170683,
          56.74250801122875,
          61.22540806031856,
          65.70830810940836,
          70.67492370214988,
          74.85311054499068,
          73.37414247002025,
          73.27849794673583,
          77.08021224290243,
          74.27710055192256,
          75.07868062719382,
          80
         ],
         "y": [
          50,
          53.832849776862226,
          55.87773862661392,
          60.662278373401364,
          60.39095905768933,
          56.31142114056074,
          51.478545462490736,
          50.012834642644926,
          52.810439332649516,
          54.649000763947086,
          50.5567282922343,
          47.254604644495906,
          47.254604644495906,
          46.35278005624472,
          42.626718086842466,
          38.900656117440214,
          35.17459414803796,
          31.44853217863571,
          27.722470209233457,
          24.207047091684267,
          21.072147629497277,
          20.972816381720342,
          25.522884157447322,
          25.28021921814092,
          29.49086191229541,
          29.27707207345566,
          27.062663089128108,
          24.848254104800557,
          24.27142696090322,
          27.017834561080583,
          31.794093916812663,
          36.7931790456303,
          40.04078869125006,
          44.181146749183206,
          49.11647544977936,
          50
         ]
        },
        {
         "hoverinfo": "skip",
         "line": {
          "color": "lightblue",
          "width": 1
         },
         "mode": "lines",
         "showlegend": false,
         "type": "scatter",
         "x": [
          80,
          81.73639324103652
         ],
         "y": [
          50,
          54.68880992496845
         ]
        },
        {
         "hoverinfo": "skip",
         "line": {
          "color": "lightblue",
          "width": 1
         },
         "mode": "lines",
         "showlegend": false,
         "type": "scatter",
         "x": [
          50,
          54.94630788513233
         ],
         "y": [
          50,
          50.7307792453797
         ]
        },
        {
         "hoverinfo": "skip",
         "line": {
          "color": "lightblue",
          "width": 1
         },
         "mode": "lines",
         "showlegend": false,
         "type": "scatter",
         "x": [
          54.94630788513233,
          59.892615770264655
         ],
         "y": [
          50.7307792453797,
          51.4615584907594
         ]
        },
        {
         "hoverinfo": "skip",
         "line": {
          "color": "lightblue",
          "width": 1
         },
         "mode": "lines",
         "showlegend": false,
         "type": "scatter",
         "x": [
          59.892615770264655,
          64.83892365539698
         ],
         "y": [
          51.4615584907594,
          52.19233773613911
         ]
        },
        {
         "hoverinfo": "skip",
         "line": {
          "color": "lightblue",
          "width": 1
         },
         "mode": "lines",
         "showlegend": false,
         "type": "scatter",
         "x": [
          64.83892365539698,
          69.78523154052931
         ],
         "y": [
          52.19233773613911,
          52.92311698151881
         ]
        },
        {
         "hoverinfo": "skip",
         "line": {
          "color": "lightblue",
          "width": 1
         },
         "mode": "lines",
         "showlegend": false,
         "type": "scatter",
         "x": [
          59.892615770264655,
          60.49007070075697
         ],
         "y": [
          51.4615584907594,
          46.49738206298909
         ]
        },
        {
         "hoverinfo": "skip",
         "line": {
          "color": "lightblue",
          "width": 1
         },
         "mode": "lines",
         "showlegend": false,
         "type": "scatter",
         "x": [
          80,
          75.07868062719382
         ],
         "y": [
          50,
          49.11647544977936
         ]
        },
        {
         "hoverinfo": "skip",
         "line": {
          "color": "lightblue",
          "width": 1
         },
         "mode": "lines",
         "showlegend": false,
         "type": "scatter",
         "x": [
          81.73639324103652,
          78.77512331057423
         ],
         "y": [
          54.68880992496845,
          58.71756660649439
         ]
        },
        {
         "hoverinfo": "skip",
         "line": {
          "color": "lightblue",
          "width": 1
         },
         "mode": "lines",
         "showlegend": false,
         "type": "scatter",
         "x": [
          50,
          46.789195959263914
         ],
         "y": [
          50,
          53.832849776862226
         ]
        },
        {
         "hoverinfo": "skip",
         "line": {
          "color": "lightblue",
          "width": 1
         },
         "mode": "lines",
         "showlegend": false,
         "type": "scatter",
         "x": [
          78.77512331057423,
          74.28263688821573
         ],
         "y": [
          58.71756660649439,
          56.52267122289987
         ]
        },
        {
         "hoverinfo": "skip",
         "line": {
          "color": "lightblue",
          "width": 1
         },
         "mode": "lines",
         "showlegend": false,
         "type": "scatter",
         "x": [
          50,
          45.929201230422294
         ],
         "y": [
          50,
          47.096795326263646
         ]
        },
        {
         "hoverinfo": "skip",
         "line": {
          "color": "lightblue",
          "width": 1
         },
         "mode": "lines",
         "showlegend": false,
         "type": "scatter",
         "x": [
          75.07868062719382,
          74.27710055192256
         ],
         "y": [
          49.11647544977936,
          44.181146749183206
         ]
        },
        {
         "hoverinfo": "skip",
         "line": {
          "color": "lightblue",
          "width": 1
         },
         "mode": "lines",
         "showlegend": false,
         "type": "scatter",
         "x": [
          46.789195959263914,
          42.22647422852455
         ],
         "y": [
          53.832849776862226,
          55.87773862661392
         ]
        },
        {
         "hoverinfo": "skip",
         "line": {
          "color": "lightblue",
          "width": 1
         },
         "mode": "lines",
         "showlegend": false,
         "type": "scatter",
         "x": [
          74.27710055192256,
          77.08021224290243
         ],
         "y": [
          44.181146749183206,
          40.04078869125006
         ]
        },
        {
         "hoverinfo": "skip",
         "line": {
          "color": "lightblue",
          "width": 1
         },
         "mode": "lines",
         "showlegend": false,
         "type": "scatter",
         "x": [
          60.49007070075697,
          60.74344095146655
         ],
         "y": [
          46.49738206298909,
          41.50380583787193
         ]
        },
        {
         "hoverinfo": "skip",
         "line": {
          "color": "lightblue",
          "width": 1
         },
         "mode": "lines",
         "showlegend": false,
         "type": "scatter",
         "x": [
          77.08021224290243,
          73.27849794673583
         ],
         "y": [
          40.04078869125006,
          36.7931790456303
         ]
        },
        {
         "hoverinfo": "skip",
         "line": {
          "color": "lightblue",
          "width": 1
         },
         "mode": "lines",
         "showlegend": false,
         "type": "scatter",
         "x": [
          60.74344095146655,
          65.42386053136316
         ],
         "y": [
          41.50380583787193,
          39.744921942863385
         ]
        },
        {
         "hoverinfo": "skip",
         "line": {
          "color": "lightblue",
          "width": 1
         },
         "mode": "lines",
         "showlegend": false,
         "type": "scatter",
         "x": [
          45.929201230422294,
          43.70875484255825
         ],
         "y": [
          47.096795326263646,
          42.61688262191086
         ]
        },
        {
         "hoverinfo": "skip",
         "line": {
          "color": "lightblue",
          "width": 1
         },
         "mode": "lines",
         "showlegend": false,
         "type": "scatter",
         "x": [
          78.77512331057423,
          77.64347224380607
         ],
         "y": [
          58.71756660649439,
          57.68520459189202
         ]
        },
        {
         "hoverinfo": "skip",
         "line": {
          "color": "lightblue",
          "width": 1
         },
         "mode": "lines",
         "showlegend": false,
         "type": "scatter",
         "x": [
          43.70875484255825,
          38.92113030352035
         ],
         "y": [
          42.61688262191086,
          41.17512977443591
         ]
        },
        {
         "hoverinfo": "skip",
         "line": {
          "color": "lightblue",
          "width": 1
         },
         "mode": "lines",
         "showlegend": false,
         "type": "scatter",
         "x": [
          78.77512331057423,
          82.90920025694572
         ],
         "y": [
          58.71756660649439,
          61.5299335458321
         ]
        },
        {
         "hoverinfo": "skip",
         "line": {
          "color": "lightblue",
          "width": 1
         },
         "mode": "lines",
         "showlegend": false,
         "type": "scatter",
         "x": [
          64.83892365539698,
          64.13057556553345
         ],
         "y": [
          52.19233773613911,
          57.14190771580267
         ]
        },
        {
         "hoverinfo": "skip",
         "line": {
          "color": "lightblue",
          "width": 1
         },
         "mode": "lines",
         "showlegend": false,
         "type": "scatter",
         "x": [
          73.27849794673583,
          73.37414247002025
         ],
         "y": [
          36.7931790456303,
          31.794093916812663
         ]
        },
        {
         "hoverinfo": "skip",
         "line": {
          "color": "lightblue",
          "width": 1
         },
         "mode": "lines",
         "showlegend": false,
         "type": "scatter",
         "x": [
          65.42386053136316,
          68.95927301535417
         ],
         "y": [
          39.744921942863385,
          36.209266619158804
         ]
        },
        {
         "hoverinfo": "skip",
         "line": {
          "color": "lightblue",
          "width": 1
         },
         "mode": "lines",
         "showlegend": false,
         "type": "scatter",
         "x": [
          38.92113030352035,
          34.21795864564643
         ],
         "y": [
          41.17512977443591,
          39.47802154083042
         ]
        },
        {
         "hoverinfo": "skip",
         "line": {
          "color": "lightblue",
          "width": 1
         },
         "mode": "lines",
         "showlegend": false,
         "type": "scatter",
         "x": [
          73.37414247002025,
          74.85311054499068
         ],
         "y": [
          31.794093916812663,
          27.017834561080583
         ]
        },
        {
         "hoverinfo": "skip",
         "line": {
          "color": "lightblue",
          "width": 1
         },
         "mode": "lines",
         "showlegend": false,
         "type": "scatter",
         "x": [
          42.22647422852455,
          40.77451713156504
         ],
         "y": [
          55.87773862661392,
          60.662278373401364
         ]
        },
        {
         "hoverinfo": "skip",
         "line": {
          "color": "lightblue",
          "width": 1
         },
         "mode": "lines",
         "showlegend": false,
         "type": "scatter",
         "x": [
          80,
          78.46358377988227
         ],
         "y": [
          50,
          47.4861479453194
         ]
        },
        {
         "hoverinfo": "skip",
         "line": {
          "color": "lightblue",
          "width": 1
         },
         "mode": "lines",
         "showlegend": false,
         "type": "scatter",
         "x": [
          64.13057556553345,
          62.8614673777648
         ],
         "y": [
          57.14190771580267,
          61.97816292078706
         ]
        },
        {
         "hoverinfo": "skip",
         "line": {
          "color": "lightblue",
          "width": 1
         },
         "mode": "lines",
         "showlegend": false,
         "type": "scatter",
         "x": [
          82.90920025694572,
          80.07534497980254
         ],
         "y": [
          61.5299335458321,
          65.64931023025994
         ]
        },
        {
         "hoverinfo": "skip",
         "line": {
          "color": "lightblue",
          "width": 1
         },
         "mode": "lines",
         "showlegend": false,
         "type": "scatter",
         "x": [
          34.21795864564643,
          30.14709808717446
         ],
         "y": [
          39.47802154083042,
          36.574903507839466
         ]
        },
        {
         "hoverinfo": "skip",
         "line": {
          "color": "lightblue",
          "width": 1
         },
         "mode": "lines",
         "showlegend": false,
         "type": "scatter",
         "x": [
          80.07534497980254,
          77.5003857860273
         ],
         "y": [
          65.64931023025994,
          69.9352856327083
         ]
        },
        {
         "hoverinfo": "skip",
         "line": {
          "color": "lightblue",
          "width": 1
         },
         "mode": "lines",
         "showlegend": false,
         "type": "scatter",
         "x": [
          62.8614673777648,
          67.25444024343778
         ],
         "y": [
          61.97816292078706,
          64.36600491754078
         ]
        },
        {
         "hoverinfo": "skip",
         "line": {
          "color": "lightblue",
          "width": 1
         },
         "mode": "lines",
         "showlegend": false,
         "type": "scatter",
         "x": [
          69.78523154052931,
          68.19798825327553
         ],
         "y": [
          52.92311698151881,
          50.86290882710094
         ]
        },
        {
         "hoverinfo": "skip",
         "line": {
          "color": "lightblue",
          "width": 1
         },
         "mode": "lines",
         "showlegend": false,
         "type": "scatter",
         "x": [
          77.5003857860273,
          72.53538629337888
         ],
         "y": [
          69.9352856327083,
          70.52586165491111
         ]
        },
        {
         "hoverinfo": "skip",
         "line": {
          "color": "lightblue",
          "width": 1
         },
         "mode": "lines",
         "showlegend": false,
         "type": "scatter",
         "x": [
          40.77451713156504,
          42.62584188291243
         ],
         "y": [
          60.662278373401364,
          65.30690932376206
         ]
        },
        {
         "hoverinfo": "skip",
         "line": {
          "color": "lightblue",
          "width": 1
         },
         "mode": "lines",
         "showlegend": false,
         "type": "scatter",
         "x": [
          72.53538629337888,
          67.7767861451359
         ],
         "y": [
          70.52586165491111,
          72.06069865900695
         ]
        },
        {
         "hoverinfo": "skip",
         "line": {
          "color": "lightblue",
          "width": 1
         },
         "mode": "lines",
         "showlegend": false,
         "type": "scatter",
         "x": [
          40.77451713156504,
          35.781883975712155
         ],
         "y": [
          60.662278373401364,
          60.39095905768933
         ]
        },
        {
         "hoverinfo": "skip",
         "line": {
          "color": "lightblue",
          "width": 1
         },
         "mode": "lines",
         "showlegend": false,
         "type": "scatter",
         "x": [
          67.7767861451359,
          63.07948239944707
         ],
         "y": [
          72.06069865900695,
          70.34741598509184
         ]
        },
        {
         "hoverinfo": "skip",
         "line": {
          "color": "lightblue",
          "width": 1
         },
         "mode": "lines",
         "showlegend": false,
         "type": "scatter",
         "x": [
          63.07948239944707,
          58.07995633591525
         ],
         "y": [
          70.34741598509184,
          70.27857457265733
         ]
        },
        {
         "hoverinfo": "skip",
         "line": {
          "color": "lightblue",
          "width": 1
         },
         "mode": "lines",
         "showlegend": false,
         "type": "scatter",
         "x": [
          62.8614673777648,
          60.36567060510256
         ],
         "y": [
          61.97816292078706,
          66.31071395563578
         ]
        },
        {
         "hoverinfo": "skip",
         "line": {
          "color": "lightblue",
          "width": 1
         },
         "mode": "lines",
         "showlegend": false,
         "type": "scatter",
         "x": [
          35.781883975712155,
          33.23099417220466
         ],
         "y": [
          60.39095905768933,
          64.6913033706905
         ]
        },
        {
         "hoverinfo": "skip",
         "line": {
          "color": "lightblue",
          "width": 1
         },
         "mode": "lines",
         "showlegend": false,
         "type": "scatter",
         "x": [
          67.7767861451359,
          68.83499889993348
         ],
         "y": [
          72.06069865900695,
          76.94743435531626
         ]
        },
        {
         "hoverinfo": "skip",
         "line": {
          "color": "lightblue",
          "width": 1
         },
         "mode": "lines",
         "showlegend": false,
         "type": "scatter",
         "x": [
          64.13057556553345,
          66.75587769606305
         ],
         "y": [
          57.14190771580267,
          58.68675064137866
         ]
        },
        {
         "hoverinfo": "skip",
         "line": {
          "color": "lightblue",
          "width": 1
         },
         "mode": "lines",
         "showlegend": false,
         "type": "scatter",
         "x": [
          77.08021224290243,
          81.45881462630254
         ],
         "y": [
          40.04078869125006,
          37.626696487525656
         ]
        },
        {
         "hoverinfo": "skip",
         "line": {
          "color": "lightblue",
          "width": 1
         },
         "mode": "lines",
         "showlegend": false,
         "type": "scatter",
         "x": [
          65.42386053136316,
          65.54352163494683
         ],
         "y": [
          39.744921942863385,
          37.23749810748879
         ]
        },
        {
         "hoverinfo": "skip",
         "line": {
          "color": "lightblue",
          "width": 1
         },
         "mode": "lines",
         "showlegend": false,
         "type": "scatter",
         "x": [
          74.85311054499068,
          70.67492370214988
         ],
         "y": [
          27.017834561080583,
          24.27142696090322
         ]
        },
        {
         "hoverinfo": "skip",
         "line": {
          "color": "lightblue",
          "width": 1
         },
         "mode": "lines",
         "showlegend": false,
         "type": "scatter",
         "x": [
          60.49007070075697,
          56.374870879797854
         ],
         "y": [
          46.49738206298909,
          44.408243738534324
         ]
        },
        {
         "hoverinfo": "skip",
         "line": {
          "color": "lightblue",
          "width": 1
         },
         "mode": "lines",
         "showlegend": false,
         "type": "scatter",
         "x": [
          81.73639324103652,
          86.62414030632453
         ],
         "y": [
          54.68880992496845,
          53.63527842293899
         ]
        },
        {
         "hoverinfo": "skip",
         "line": {
          "color": "lightblue",
          "width": 1
         },
         "mode": "lines",
         "showlegend": false,
         "type": "scatter",
         "x": [
          42.62584188291243,
          45.95947130839721
         ],
         "y": [
          65.30690932376206,
          66.18837184511844
         ]
        },
        {
         "hoverinfo": "skip",
         "line": {
          "color": "lightblue",
          "width": 1
         },
         "mode": "lines",
         "showlegend": false,
         "type": "scatter",
         "x": [
          70.67492370214988,
          65.70830810940836
         ],
         "y": [
          24.27142696090322,
          24.848254104800557
         ]
        },
        {
         "hoverinfo": "skip",
         "line": {
          "color": "lightblue",
          "width": 1
         },
         "mode": "lines",
         "showlegend": false,
         "type": "scatter",
         "x": [
          34.21795864564643,
          31.89310106178035
         ],
         "y": [
          39.47802154083042,
          41.55188288821885
         ]
        },
        {
         "hoverinfo": "skip",
         "line": {
          "color": "lightblue",
          "width": 1
         },
         "mode": "lines",
         "showlegend": false,
         "type": "scatter",
         "x": [
          65.70830810940836,
          61.22540806031856
         ],
         "y": [
          24.848254104800557,
          27.062663089128108
         ]
        },
        {
         "hoverinfo": "skip",
         "line": {
          "color": "lightblue",
          "width": 1
         },
         "mode": "lines",
         "showlegend": false,
         "type": "scatter",
         "x": [
          61.22540806031856,
          56.74250801122875
         ],
         "y": [
          27.062663089128108,
          29.27707207345566
         ]
        },
        {
         "hoverinfo": "skip",
         "line": {
          "color": "lightblue",
          "width": 1
         },
         "mode": "lines",
         "showlegend": false,
         "type": "scatter",
         "x": [
          56.74250801122875,
          51.74708071170683
         ],
         "y": [
          29.27707207345566,
          29.49086191229541
         ]
        },
        {
         "hoverinfo": "skip",
         "line": {
          "color": "lightblue",
          "width": 1
         },
         "mode": "lines",
         "showlegend": false,
         "type": "scatter",
         "x": [
          60.74344095146655,
          57.74628767000657
         ],
         "y": [
          41.50380583787193,
          37.50167238089755
         ]
        },
        {
         "hoverinfo": "skip",
         "line": {
          "color": "lightblue",
          "width": 1
         },
         "mode": "lines",
         "showlegend": false,
         "type": "scatter",
         "x": [
          57.74628767000657,
          54.749134388546594
         ],
         "y": [
          37.50167238089755,
          33.499538923923176
         ]
        },
        {
         "hoverinfo": "skip",
         "line": {
          "color": "lightblue",
          "width": 1
         },
         "mode": "lines",
         "showlegend": false,
         "type": "scatter",
         "x": [
          35.781883975712155,
          32.89097228859507
         ],
         "y": [
          60.39095905768933,
          56.31142114056074
         ]
        },
        {
         "hoverinfo": "skip",
         "line": {
          "color": "lightblue",
          "width": 1
         },
         "mode": "lines",
         "showlegend": false,
         "type": "scatter",
         "x": [
          58.07995633591525,
          57.006792982874074
         ],
         "y": [
          70.27857457265733,
          75.16204878859105
         ]
        },
        {
         "hoverinfo": "skip",
         "line": {
          "color": "lightblue",
          "width": 1
         },
         "mode": "lines",
         "showlegend": false,
         "type": "scatter",
         "x": [
          45.929201230422294,
          44.935586615881704
         ],
         "y": [
          47.096795326263646,
          47.77268769554045
         ]
        },
        {
         "hoverinfo": "skip",
         "line": {
          "color": "lightblue",
          "width": 1
         },
         "mode": "lines",
         "showlegend": false,
         "type": "scatter",
         "x": [
          80.07534497980254,
          84.53708721129243
         ],
         "y": [
          65.64931023025994,
          67.90604598345296
         ]
        },
        {
         "hoverinfo": "skip",
         "line": {
          "color": "lightblue",
          "width": 1
         },
         "mode": "lines",
         "showlegend": false,
         "type": "scatter",
         "x": [
          45.95947130839721,
          46.974945109005084
         ],
         "y": [
          66.18837184511844,
          63.962235588662566
         ]
        },
        {
         "hoverinfo": "skip",
         "line": {
          "color": "lightblue",
          "width": 1
         },
         "mode": "lines",
         "showlegend": false,
         "type": "scatter",
         "x": [
          84.53708721129243,
          86.77308371764275
         ],
         "y": [
          67.90604598345296,
          72.3782176733134
         ]
        },
        {
         "hoverinfo": "skip",
         "line": {
          "color": "lightblue",
          "width": 1
         },
         "mode": "lines",
         "showlegend": false,
         "type": "scatter",
         "x": [
          32.89097228859507,
          31.609054709216668
         ],
         "y": [
          56.31142114056074,
          51.478545462490736
         ]
        },
        {
         "hoverinfo": "skip",
         "line": {
          "color": "lightblue",
          "width": 1
         },
         "mode": "lines",
         "showlegend": false,
         "type": "scatter",
         "x": [
          51.74708071170683,
          49.05069644714745
         ],
         "y": [
          29.49086191229541,
          25.28021921814092
         ]
        },
        {
         "hoverinfo": "skip",
         "line": {
          "color": "lightblue",
          "width": 1
         },
         "mode": "lines",
         "showlegend": false,
         "type": "scatter",
         "x": [
          59.892615770264655,
          57.50744217834702
         ],
         "y": [
          51.4615584907594,
          55.85598074361799
         ]
        },
        {
         "hoverinfo": "skip",
         "line": {
          "color": "lightblue",
          "width": 1
         },
         "mode": "lines",
         "showlegend": false,
         "type": "scatter",
         "x": [
          81.45881462630254,
          85.15045021957056
         ],
         "y": [
          37.626696487525656,
          34.25448257875345
         ]
        },
        {
         "hoverinfo": "skip",
         "line": {
          "color": "lightblue",
          "width": 1
         },
         "mode": "lines",
         "showlegend": false,
         "type": "scatter",
         "x": [
          65.54352163494683,
          62.375884674197536
         ],
         "y": [
          37.23749810748879,
          33.77650736498138
         ]
        },
        {
         "hoverinfo": "skip",
         "line": {
          "color": "lightblue",
          "width": 1
         },
         "mode": "lines",
         "showlegend": false,
         "type": "scatter",
         "x": [
          49.05069644714745,
          44.05658854610733
         ],
         "y": [
          25.28021921814092,
          25.522884157447322
         ]
        },
        {
         "hoverinfo": "skip",
         "line": {
          "color": "lightblue",
          "width": 1
         },
         "mode": "lines",
         "showlegend": false,
         "type": "scatter",
         "x": [
          34.21795864564643,
          36.94043264763762
         ],
         "y": [
          39.47802154083042,
          37.185469084418486
         ]
        },
        {
         "hoverinfo": "skip",
         "line": {
          "color": "lightblue",
          "width": 1
         },
         "mode": "lines",
         "showlegend": false,
         "type": "scatter",
         "x": [
          44.05658854610733,
          41.45226468226303
         ],
         "y": [
          25.522884157447322,
          29.791080171246488
         ]
        },
        {
         "hoverinfo": "skip",
         "line": {
          "color": "lightblue",
          "width": 1
         },
         "mode": "lines",
         "showlegend": false,
         "type": "scatter",
         "x": [
          57.006792982874074,
          52.008023135540896
         ],
         "y": [
          75.16204878859105,
          75.05114336314846
         ]
        },
        {
         "hoverinfo": "skip",
         "line": {
          "color": "lightblue",
          "width": 1
         },
         "mode": "lines",
         "showlegend": false,
         "type": "scatter",
         "x": [
          57.50744217834702,
          58.19134513856429
         ],
         "y": [
          55.85598074361799,
          55.827756408235516
         ]
        },
        {
         "hoverinfo": "skip",
         "line": {
          "color": "lightblue",
          "width": 1
         },
         "mode": "lines",
         "showlegend": false,
         "type": "scatter",
         "x": [
          52.008023135540896,
          47.09447743205644
         ],
         "y": [
          75.05114336314846,
          75.97692336928895
         ]
        },
        {
         "hoverinfo": "skip",
         "line": {
          "color": "lightblue",
          "width": 1
         },
         "mode": "lines",
         "showlegend": false,
         "type": "scatter",
         "x": [
          59.892615770264655,
          60.958446203413544
         ],
         "y": [
          51.4615584907594,
          51.469784443570234
         ]
        },
        {
         "hoverinfo": "skip",
         "line": {
          "color": "lightblue",
          "width": 1
         },
         "mode": "lines",
         "showlegend": false,
         "type": "scatter",
         "x": [
          86.77308371764275,
          86.20823643164013
         ],
         "y": [
          72.3782176733134,
          77.34620997840965
         ]
        },
        {
         "hoverinfo": "skip",
         "line": {
          "color": "lightblue",
          "width": 1
         },
         "mode": "lines",
         "showlegend": false,
         "type": "scatter",
         "x": [
          54.749134388546594,
          50.65909302937612
         ],
         "y": [
          33.499538923923176,
          33.03248203310869
         ]
        },
        {
         "hoverinfo": "skip",
         "line": {
          "color": "lightblue",
          "width": 1
         },
         "mode": "lines",
         "showlegend": false,
         "type": "scatter",
         "x": [
          47.09447743205644,
          42.121170683896565
         ],
         "y": [
          75.97692336928895,
          75.46095826513229
         ]
        },
        {
         "hoverinfo": "skip",
         "line": {
          "color": "lightblue",
          "width": 1
         },
         "mode": "lines",
         "showlegend": false,
         "type": "scatter",
         "x": [
          62.8614673777648,
          62.95570015878238
         ],
         "y": [
          61.97816292078706,
          62.313096136882386
         ]
        },
        {
         "hoverinfo": "skip",
         "line": {
          "color": "lightblue",
          "width": 1
         },
         "mode": "lines",
         "showlegend": false,
         "type": "scatter",
         "x": [
          81.45881462630254,
          83.61247665902816
         ],
         "y": [
          37.626696487525656,
          42.1390949460836
         ]
        },
        {
         "hoverinfo": "skip",
         "line": {
          "color": "lightblue",
          "width": 1
         },
         "mode": "lines",
         "showlegend": false,
         "type": "scatter",
         "x": [
          31.609054709216668,
          26.828710391849256
         ],
         "y": [
          51.478545462490736,
          50.012834642644926
         ]
        },
        {
         "hoverinfo": "skip",
         "line": {
          "color": "lightblue",
          "width": 1
         },
         "mode": "lines",
         "showlegend": false,
         "type": "scatter",
         "x": [
          42.121170683896565,
          37.30602498520023
         ],
         "y": [
          75.46095826513229,
          76.80794449383924
         ]
        },
        {
         "hoverinfo": "skip",
         "line": {
          "color": "lightblue",
          "width": 1
         },
         "mode": "lines",
         "showlegend": false,
         "type": "scatter",
         "x": [
          31.609054709216668,
          36.54253063703684
         ],
         "y": [
          51.478545462490736,
          50.6656400131186
         ]
        },
        {
         "hoverinfo": "skip",
         "line": {
          "color": "lightblue",
          "width": 1
         },
         "mode": "lines",
         "showlegend": false,
         "type": "scatter",
         "x": [
          37.30602498520023,
          32.845390268229984
         ],
         "y": [
          76.80794449383924,
          74.54902043098106
         ]
        },
        {
         "hoverinfo": "skip",
         "line": {
          "color": "lightblue",
          "width": 1
         },
         "mode": "lines",
         "showlegend": false,
         "type": "scatter",
         "x": [
          26.828710391849256,
          22.684629311746654
         ],
         "y": [
          50.012834642644926,
          52.810439332649516
         ]
        },
        {
         "hoverinfo": "skip",
         "line": {
          "color": "lightblue",
          "width": 1
         },
         "mode": "lines",
         "showlegend": false,
         "type": "scatter",
         "x": [
          32.845390268229984,
          30.72821028548395
         ],
         "y": [
          74.54902043098106,
          70.01939032238947
         ]
        },
        {
         "hoverinfo": "skip",
         "line": {
          "color": "lightblue",
          "width": 1
         },
         "mode": "lines",
         "showlegend": false,
         "type": "scatter",
         "x": [
          44.05658854610733,
          41.98369606546803
         ],
         "y": [
          25.522884157447322,
          20.972816381720342
         ]
        },
        {
         "hoverinfo": "skip",
         "line": {
          "color": "lightblue",
          "width": 1
         },
         "mode": "lines",
         "showlegend": false,
         "type": "scatter",
         "x": [
          65.54352163494683,
          66.43768788260196
         ],
         "y": [
          37.23749810748879,
          35.49892042373995
         ]
        },
        {
         "hoverinfo": "skip",
         "line": {
          "color": "lightblue",
          "width": 1
         },
         "mode": "lines",
         "showlegend": false,
         "type": "scatter",
         "x": [
          70.67492370214988,
          72.93467534200471
         ],
         "y": [
          24.27142696090322,
          19.811211436270646
         ]
        },
        {
         "hoverinfo": "skip",
         "line": {
          "color": "lightblue",
          "width": 1
         },
         "mode": "lines",
         "showlegend": false,
         "type": "scatter",
         "x": [
          22.684629311746654,
          18.683647121038817
         ],
         "y": [
          52.810439332649516,
          54.649000763947086
         ]
        },
        {
         "hoverinfo": "skip",
         "line": {
          "color": "lightblue",
          "width": 1
         },
         "mode": "lines",
         "showlegend": false,
         "type": "scatter",
         "x": [
          47.09447743205644,
          44.91416614890872
         ],
         "y": [
          75.97692336928895,
          80.47650587309737
         ]
        },
        {
         "hoverinfo": "skip",
         "line": {
          "color": "lightblue",
          "width": 1
         },
         "mode": "lines",
         "showlegend": false,
         "type": "scatter",
         "x": [
          18.683647121038817,
          18.72336311465742
         ],
         "y": [
          54.649000763947086,
          59.64884302544403
         ]
        },
        {
         "hoverinfo": "skip",
         "line": {
          "color": "lightblue",
          "width": 1
         },
         "mode": "lines",
         "showlegend": false,
         "type": "scatter",
         "x": [
          42.121170683896565,
          42.1302000200011
         ],
         "y": [
          75.46095826513229,
          70.53177877105867
         ]
        },
        {
         "hoverinfo": "skip",
         "line": {
          "color": "lightblue",
          "width": 1
         },
         "mode": "lines",
         "showlegend": false,
         "type": "scatter",
         "x": [
          46.789195959263914,
          47.9879634404102
         ],
         "y": [
          53.832849776862226,
          54.01020649485213
         ]
        },
        {
         "hoverinfo": "skip",
         "line": {
          "color": "lightblue",
          "width": 1
         },
         "mode": "lines",
         "showlegend": false,
         "type": "scatter",
         "x": [
          41.98369606546803,
          36.98468283251744
         ],
         "y": [
          20.972816381720342,
          21.072147629497277
         ]
        },
        {
         "hoverinfo": "skip",
         "line": {
          "color": "lightblue",
          "width": 1
         },
         "mode": "lines",
         "showlegend": false,
         "type": "scatter",
         "x": [
          18.683647121038817,
          15.810790351678097
         ],
         "y": [
          54.649000763947086,
          50.5567282922343
         ]
        },
        {
         "hoverinfo": "skip",
         "line": {
          "color": "lightblue",
          "width": 1
         },
         "mode": "lines",
         "showlegend": false,
         "type": "scatter",
         "x": [
          36.98468283251744,
          34.46339860299743
         ],
         "y": [
          21.072147629497277,
          16.754379012031347
         ]
        },
        {
         "hoverinfo": "skip",
         "line": {
          "color": "lightblue",
          "width": 1
         },
         "mode": "lines",
         "showlegend": false,
         "type": "scatter",
         "x": [
          35.781883975712155,
          37.34462866112026
         ],
         "y": [
          60.39095905768933,
          61.65212948612368
         ]
        },
        {
         "hoverinfo": "skip",
         "line": {
          "color": "lightblue",
          "width": 1
         },
         "mode": "lines",
         "showlegend": false,
         "type": "scatter",
         "x": [
          65.70830810940836,
          64.36401446608295
         ],
         "y": [
          24.848254104800557,
          20.534122208113835
         ]
        },
        {
         "hoverinfo": "skip",
         "line": {
          "color": "lightblue",
          "width": 1
         },
         "mode": "lines",
         "showlegend": false,
         "type": "scatter",
         "x": [
          40.77451713156504,
          40.15199290520843
         ],
         "y": [
          60.662278373401364,
          61.20248179226988
         ]
        },
        {
         "hoverinfo": "skip",
         "line": {
          "color": "lightblue",
          "width": 1
         },
         "mode": "lines",
         "showlegend": false,
         "type": "scatter",
         "x": [
          36.98468283251744,
          33.08950563988811
         ],
         "y": [
          21.072147629497277,
          24.207047091684267
         ]
        },
        {
         "hoverinfo": "skip",
         "line": {
          "color": "lightblue",
          "width": 1
         },
         "mode": "lines",
         "showlegend": false,
         "type": "scatter",
         "x": [
          34.21795864564643,
          33.037967079770546
         ],
         "y": [
          39.47802154083042,
          38.22922750743709
         ]
        },
        {
         "hoverinfo": "skip",
         "line": {
          "color": "lightblue",
          "width": 1
         },
         "mode": "lines",
         "showlegend": false,
         "type": "scatter",
         "x": [
          44.91416614890872,
          48.380908497739675
         ],
         "y": [
          80.47650587309737,
          84.07951815267984
         ]
        },
        {
         "hoverinfo": "skip",
         "line": {
          "color": "lightblue",
          "width": 1
         },
         "mode": "lines",
         "showlegend": false,
         "type": "scatter",
         "x": [
          42.62584188291243,
          40.47548094523783
         ],
         "y": [
          65.30690932376206,
          64.78369704199932
         ]
        },
        {
         "hoverinfo": "skip",
         "line": {
          "color": "lightblue",
          "width": 1
         },
         "mode": "lines",
         "showlegend": false,
         "type": "scatter",
         "x": [
          33.08950563988811,
          29.533974694361024
         ],
         "y": [
          24.207047091684267,
          27.722470209233457
         ]
        },
        {
         "hoverinfo": "skip",
         "line": {
          "color": "lightblue",
          "width": 1
         },
         "mode": "lines",
         "showlegend": false,
         "type": "scatter",
         "x": [
          38.92113030352035,
          35.97226113056446
         ],
         "y": [
          41.17512977443591,
          44.64727417591997
         ]
        },
        {
         "hoverinfo": "skip",
         "line": {
          "color": "lightblue",
          "width": 1
         },
         "mode": "lines",
         "showlegend": false,
         "type": "scatter",
         "x": [
          74.85311054499068,
          79.84939762805571
         ],
         "y": [
          27.017834561080583,
          27.210488093613943
         ]
        },
        {
         "hoverinfo": "skip",
         "line": {
          "color": "lightblue",
          "width": 1
         },
         "mode": "lines",
         "showlegend": false,
         "type": "scatter",
         "x": [
          18.72336311465742,
          23.542965610751207
         ],
         "y": [
          59.64884302544403,
          60.97979448197674
         ]
        },
        {
         "hoverinfo": "skip",
         "line": {
          "color": "lightblue",
          "width": 1
         },
         "mode": "lines",
         "showlegend": false,
         "type": "scatter",
         "x": [
          34.46339860299743,
          29.753198721515606
         ],
         "y": [
          16.754379012031347,
          15.076875785063184
         ]
        },
        {
         "hoverinfo": "skip",
         "line": {
          "color": "lightblue",
          "width": 1
         },
         "mode": "lines",
         "showlegend": false,
         "type": "scatter",
         "x": [
          15.810790351678097,
          12.056329083393805
         ],
         "y": [
          50.5567282922343,
          47.254604644495906
         ]
        },
        {
         "hoverinfo": "skip",
         "line": {
          "color": "lightblue",
          "width": 1
         },
         "mode": "lines",
         "showlegend": false,
         "type": "scatter",
         "x": [
          29.533974694361024,
          26.19983879428523
         ],
         "y": [
          27.722470209233457,
          31.44853217863571
         ]
        },
        {
         "hoverinfo": "skip",
         "line": {
          "color": "lightblue",
          "width": 1
         },
         "mode": "lines",
         "showlegend": false,
         "type": "scatter",
         "x": [
          26.19983879428523,
          22.865702894209438
         ],
         "y": [
          31.44853217863571,
          35.17459414803796
         ]
        },
        {
         "hoverinfo": "skip",
         "line": {
          "color": "lightblue",
          "width": 1
         },
         "mode": "lines",
         "showlegend": false,
         "type": "scatter",
         "x": [
          22.865702894209438,
          19.531566994133648
         ],
         "y": [
          35.17459414803796,
          38.900656117440214
         ]
        },
        {
         "hoverinfo": "skip",
         "line": {
          "color": "lightblue",
          "width": 1
         },
         "mode": "lines",
         "showlegend": false,
         "type": "scatter",
         "x": [
          19.531566994133648,
          16.197431094057855
         ],
         "y": [
          38.900656117440214,
          42.626718086842466
         ]
        },
        {
         "hoverinfo": "skip",
         "line": {
          "color": "lightblue",
          "width": 1
         },
         "mode": "lines",
         "showlegend": false,
         "type": "scatter",
         "x": [
          16.197431094057855,
          12.863295193982063
         ],
         "y": [
          42.626718086842466,
          46.35278005624472
         ]
        },
        {
         "hoverinfo": "skip",
         "line": {
          "color": "lightblue",
          "width": 1
         },
         "mode": "lines",
         "showlegend": false,
         "type": "scatter",
         "x": [
          12.863295193982063,
          12.056329083393805
         ],
         "y": [
          46.35278005624472,
          47.254604644495906
         ]
        },
        {
         "marker": {
          "color": "red",
          "size": 10
         },
         "mode": "markers",
         "name": "Start",
         "type": "scatter",
         "x": [
          80
         ],
         "y": [
          50
         ]
        },
        {
         "marker": {
          "color": "orange",
          "size": 10
         },
         "mode": "markers",
         "name": "Goal",
         "type": "scatter",
         "x": [
          50
         ],
         "y": [
          50
         ]
        }
       ],
       "layout": {
        "height": 600,
        "shapes": [
         {
          "fillcolor": "purple",
          "line": {
           "width": 0
          },
          "opacity": 0.5,
          "type": "rect",
          "x0": 27,
          "x1": 30,
          "y0": 52,
          "y1": 70
         },
         {
          "fillcolor": "purple",
          "line": {
           "width": 0
          },
          "opacity": 0.5,
          "type": "rect",
          "x0": 27,
          "x1": 30,
          "y0": 30,
          "y1": 48
         },
         {
          "fillcolor": "purple",
          "line": {
           "width": 0
          },
          "opacity": 0.5,
          "type": "rect",
          "x0": 70,
          "x1": 73,
          "y0": 30,
          "y1": 70
         },
         {
          "fillcolor": "purple",
          "line": {
           "width": 0
          },
          "opacity": 0.5,
          "type": "rect",
          "x0": 30,
          "x1": 70,
          "y0": 30,
          "y1": 33
         },
         {
          "fillcolor": "purple",
          "line": {
           "width": 0
          },
          "opacity": 0.5,
          "type": "rect",
          "x0": 30,
          "x1": 70,
          "y0": 67,
          "y1": 70
         },
         {
          "fillcolor": "rgba(0,0,0,0)",
          "layer": "above",
          "line": {
           "color": "white",
           "width": 3
          },
          "type": "rect",
          "x0": 0,
          "x1": 100,
          "y0": 0,
          "y1": 100
         }
        ],
        "template": {
         "data": {
          "bar": [
           {
            "error_x": {
             "color": "#2a3f5f"
            },
            "error_y": {
             "color": "#2a3f5f"
            },
            "marker": {
             "line": {
              "color": "#E5ECF6",
              "width": 0.5
             },
             "pattern": {
              "fillmode": "overlay",
              "size": 10,
              "solidity": 0.2
             }
            },
            "type": "bar"
           }
          ],
          "barpolar": [
           {
            "marker": {
             "line": {
              "color": "#E5ECF6",
              "width": 0.5
             },
             "pattern": {
              "fillmode": "overlay",
              "size": 10,
              "solidity": 0.2
             }
            },
            "type": "barpolar"
           }
          ],
          "carpet": [
           {
            "aaxis": {
             "endlinecolor": "#2a3f5f",
             "gridcolor": "white",
             "linecolor": "white",
             "minorgridcolor": "white",
             "startlinecolor": "#2a3f5f"
            },
            "baxis": {
             "endlinecolor": "#2a3f5f",
             "gridcolor": "white",
             "linecolor": "white",
             "minorgridcolor": "white",
             "startlinecolor": "#2a3f5f"
            },
            "type": "carpet"
           }
          ],
          "choropleth": [
           {
            "colorbar": {
             "outlinewidth": 0,
             "ticks": ""
            },
            "type": "choropleth"
           }
          ],
          "contour": [
           {
            "colorbar": {
             "outlinewidth": 0,
             "ticks": ""
            },
            "colorscale": [
             [
              0,
              "#0d0887"
             ],
             [
              0.1111111111111111,
              "#46039f"
             ],
             [
              0.2222222222222222,
              "#7201a8"
             ],
             [
              0.3333333333333333,
              "#9c179e"
             ],
             [
              0.4444444444444444,
              "#bd3786"
             ],
             [
              0.5555555555555556,
              "#d8576b"
             ],
             [
              0.6666666666666666,
              "#ed7953"
             ],
             [
              0.7777777777777778,
              "#fb9f3a"
             ],
             [
              0.8888888888888888,
              "#fdca26"
             ],
             [
              1,
              "#f0f921"
             ]
            ],
            "type": "contour"
           }
          ],
          "contourcarpet": [
           {
            "colorbar": {
             "outlinewidth": 0,
             "ticks": ""
            },
            "type": "contourcarpet"
           }
          ],
          "heatmap": [
           {
            "colorbar": {
             "outlinewidth": 0,
             "ticks": ""
            },
            "colorscale": [
             [
              0,
              "#0d0887"
             ],
             [
              0.1111111111111111,
              "#46039f"
             ],
             [
              0.2222222222222222,
              "#7201a8"
             ],
             [
              0.3333333333333333,
              "#9c179e"
             ],
             [
              0.4444444444444444,
              "#bd3786"
             ],
             [
              0.5555555555555556,
              "#d8576b"
             ],
             [
              0.6666666666666666,
              "#ed7953"
             ],
             [
              0.7777777777777778,
              "#fb9f3a"
             ],
             [
              0.8888888888888888,
              "#fdca26"
             ],
             [
              1,
              "#f0f921"
             ]
            ],
            "type": "heatmap"
           }
          ],
          "histogram": [
           {
            "marker": {
             "pattern": {
              "fillmode": "overlay",
              "size": 10,
              "solidity": 0.2
             }
            },
            "type": "histogram"
           }
          ],
          "histogram2d": [
           {
            "colorbar": {
             "outlinewidth": 0,
             "ticks": ""
            },
            "colorscale": [
             [
              0,
              "#0d0887"
             ],
             [
              0.1111111111111111,
              "#46039f"
             ],
             [
              0.2222222222222222,
              "#7201a8"
             ],
             [
              0.3333333333333333,
              "#9c179e"
             ],
             [
              0.4444444444444444,
              "#bd3786"
             ],
             [
              0.5555555555555556,
              "#d8576b"
             ],
             [
              0.6666666666666666,
              "#ed7953"
             ],
             [
              0.7777777777777778,
              "#fb9f3a"
             ],
             [
              0.8888888888888888,
              "#fdca26"
             ],
             [
              1,
              "#f0f921"
             ]
            ],
            "type": "histogram2d"
           }
          ],
          "histogram2dcontour": [
           {
            "colorbar": {
             "outlinewidth": 0,
             "ticks": ""
            },
            "colorscale": [
             [
              0,
              "#0d0887"
             ],
             [
              0.1111111111111111,
              "#46039f"
             ],
             [
              0.2222222222222222,
              "#7201a8"
             ],
             [
              0.3333333333333333,
              "#9c179e"
             ],
             [
              0.4444444444444444,
              "#bd3786"
             ],
             [
              0.5555555555555556,
              "#d8576b"
             ],
             [
              0.6666666666666666,
              "#ed7953"
             ],
             [
              0.7777777777777778,
              "#fb9f3a"
             ],
             [
              0.8888888888888888,
              "#fdca26"
             ],
             [
              1,
              "#f0f921"
             ]
            ],
            "type": "histogram2dcontour"
           }
          ],
          "mesh3d": [
           {
            "colorbar": {
             "outlinewidth": 0,
             "ticks": ""
            },
            "type": "mesh3d"
           }
          ],
          "parcoords": [
           {
            "line": {
             "colorbar": {
              "outlinewidth": 0,
              "ticks": ""
             }
            },
            "type": "parcoords"
           }
          ],
          "pie": [
           {
            "automargin": true,
            "type": "pie"
           }
          ],
          "scatter": [
           {
            "fillpattern": {
             "fillmode": "overlay",
             "size": 10,
             "solidity": 0.2
            },
            "type": "scatter"
           }
          ],
          "scatter3d": [
           {
            "line": {
             "colorbar": {
              "outlinewidth": 0,
              "ticks": ""
             }
            },
            "marker": {
             "colorbar": {
              "outlinewidth": 0,
              "ticks": ""
             }
            },
            "type": "scatter3d"
           }
          ],
          "scattercarpet": [
           {
            "marker": {
             "colorbar": {
              "outlinewidth": 0,
              "ticks": ""
             }
            },
            "type": "scattercarpet"
           }
          ],
          "scattergeo": [
           {
            "marker": {
             "colorbar": {
              "outlinewidth": 0,
              "ticks": ""
             }
            },
            "type": "scattergeo"
           }
          ],
          "scattergl": [
           {
            "marker": {
             "colorbar": {
              "outlinewidth": 0,
              "ticks": ""
             }
            },
            "type": "scattergl"
           }
          ],
          "scattermap": [
           {
            "marker": {
             "colorbar": {
              "outlinewidth": 0,
              "ticks": ""
             }
            },
            "type": "scattermap"
           }
          ],
          "scattermapbox": [
           {
            "marker": {
             "colorbar": {
              "outlinewidth": 0,
              "ticks": ""
             }
            },
            "type": "scattermapbox"
           }
          ],
          "scatterpolar": [
           {
            "marker": {
             "colorbar": {
              "outlinewidth": 0,
              "ticks": ""
             }
            },
            "type": "scatterpolar"
           }
          ],
          "scatterpolargl": [
           {
            "marker": {
             "colorbar": {
              "outlinewidth": 0,
              "ticks": ""
             }
            },
            "type": "scatterpolargl"
           }
          ],
          "scatterternary": [
           {
            "marker": {
             "colorbar": {
              "outlinewidth": 0,
              "ticks": ""
             }
            },
            "type": "scatterternary"
           }
          ],
          "surface": [
           {
            "colorbar": {
             "outlinewidth": 0,
             "ticks": ""
            },
            "colorscale": [
             [
              0,
              "#0d0887"
             ],
             [
              0.1111111111111111,
              "#46039f"
             ],
             [
              0.2222222222222222,
              "#7201a8"
             ],
             [
              0.3333333333333333,
              "#9c179e"
             ],
             [
              0.4444444444444444,
              "#bd3786"
             ],
             [
              0.5555555555555556,
              "#d8576b"
             ],
             [
              0.6666666666666666,
              "#ed7953"
             ],
             [
              0.7777777777777778,
              "#fb9f3a"
             ],
             [
              0.8888888888888888,
              "#fdca26"
             ],
             [
              1,
              "#f0f921"
             ]
            ],
            "type": "surface"
           }
          ],
          "table": [
           {
            "cells": {
             "fill": {
              "color": "#EBF0F8"
             },
             "line": {
              "color": "white"
             }
            },
            "header": {
             "fill": {
              "color": "#C8D4E3"
             },
             "line": {
              "color": "white"
             }
            },
            "type": "table"
           }
          ]
         },
         "layout": {
          "annotationdefaults": {
           "arrowcolor": "#2a3f5f",
           "arrowhead": 0,
           "arrowwidth": 1
          },
          "autotypenumbers": "strict",
          "coloraxis": {
           "colorbar": {
            "outlinewidth": 0,
            "ticks": ""
           }
          },
          "colorscale": {
           "diverging": [
            [
             0,
             "#8e0152"
            ],
            [
             0.1,
             "#c51b7d"
            ],
            [
             0.2,
             "#de77ae"
            ],
            [
             0.3,
             "#f1b6da"
            ],
            [
             0.4,
             "#fde0ef"
            ],
            [
             0.5,
             "#f7f7f7"
            ],
            [
             0.6,
             "#e6f5d0"
            ],
            [
             0.7,
             "#b8e186"
            ],
            [
             0.8,
             "#7fbc41"
            ],
            [
             0.9,
             "#4d9221"
            ],
            [
             1,
             "#276419"
            ]
           ],
           "sequential": [
            [
             0,
             "#0d0887"
            ],
            [
             0.1111111111111111,
             "#46039f"
            ],
            [
             0.2222222222222222,
             "#7201a8"
            ],
            [
             0.3333333333333333,
             "#9c179e"
            ],
            [
             0.4444444444444444,
             "#bd3786"
            ],
            [
             0.5555555555555556,
             "#d8576b"
            ],
            [
             0.6666666666666666,
             "#ed7953"
            ],
            [
             0.7777777777777778,
             "#fb9f3a"
            ],
            [
             0.8888888888888888,
             "#fdca26"
            ],
            [
             1,
             "#f0f921"
            ]
           ],
           "sequentialminus": [
            [
             0,
             "#0d0887"
            ],
            [
             0.1111111111111111,
             "#46039f"
            ],
            [
             0.2222222222222222,
             "#7201a8"
            ],
            [
             0.3333333333333333,
             "#9c179e"
            ],
            [
             0.4444444444444444,
             "#bd3786"
            ],
            [
             0.5555555555555556,
             "#d8576b"
            ],
            [
             0.6666666666666666,
             "#ed7953"
            ],
            [
             0.7777777777777778,
             "#fb9f3a"
            ],
            [
             0.8888888888888888,
             "#fdca26"
            ],
            [
             1,
             "#f0f921"
            ]
           ]
          },
          "colorway": [
           "#636efa",
           "#EF553B",
           "#00cc96",
           "#ab63fa",
           "#FFA15A",
           "#19d3f3",
           "#FF6692",
           "#B6E880",
           "#FF97FF",
           "#FECB52"
          ],
          "font": {
           "color": "#2a3f5f"
          },
          "geo": {
           "bgcolor": "white",
           "lakecolor": "white",
           "landcolor": "#E5ECF6",
           "showlakes": true,
           "showland": true,
           "subunitcolor": "white"
          },
          "hoverlabel": {
           "align": "left"
          },
          "hovermode": "closest",
          "mapbox": {
           "style": "light"
          },
          "paper_bgcolor": "white",
          "plot_bgcolor": "#E5ECF6",
          "polar": {
           "angularaxis": {
            "gridcolor": "white",
            "linecolor": "white",
            "ticks": ""
           },
           "bgcolor": "#E5ECF6",
           "radialaxis": {
            "gridcolor": "white",
            "linecolor": "white",
            "ticks": ""
           }
          },
          "scene": {
           "xaxis": {
            "backgroundcolor": "#E5ECF6",
            "gridcolor": "white",
            "gridwidth": 2,
            "linecolor": "white",
            "showbackground": true,
            "ticks": "",
            "zerolinecolor": "white"
           },
           "yaxis": {
            "backgroundcolor": "#E5ECF6",
            "gridcolor": "white",
            "gridwidth": 2,
            "linecolor": "white",
            "showbackground": true,
            "ticks": "",
            "zerolinecolor": "white"
           },
           "zaxis": {
            "backgroundcolor": "#E5ECF6",
            "gridcolor": "white",
            "gridwidth": 2,
            "linecolor": "white",
            "showbackground": true,
            "ticks": "",
            "zerolinecolor": "white"
           }
          },
          "shapedefaults": {
           "line": {
            "color": "#2a3f5f"
           }
          },
          "ternary": {
           "aaxis": {
            "gridcolor": "white",
            "linecolor": "white",
            "ticks": ""
           },
           "baxis": {
            "gridcolor": "white",
            "linecolor": "white",
            "ticks": ""
           },
           "bgcolor": "#E5ECF6",
           "caxis": {
            "gridcolor": "white",
            "linecolor": "white",
            "ticks": ""
           }
          },
          "title": {
           "x": 0.05
          },
          "xaxis": {
           "automargin": true,
           "gridcolor": "white",
           "linecolor": "white",
           "ticks": "",
           "title": {
            "standoff": 15
           },
           "zerolinecolor": "white",
           "zerolinewidth": 2
          },
          "yaxis": {
           "automargin": true,
           "gridcolor": "white",
           "linecolor": "white",
           "ticks": "",
           "title": {
            "standoff": 15
           },
           "zerolinecolor": "white",
           "zerolinewidth": 2
          }
         }
        },
        "title": {
         "text": "Map Visualization"
        },
        "width": 600,
        "xaxis": {
         "scaleanchor": "y",
         "showgrid": false
        },
        "yaxis": {
         "showgrid": false
        }
       }
      }
     },
     "metadata": {},
     "output_type": "display_data"
    }
   ],
   "source": [
    "for pmap in maps:\n",
    "    result = p.plan(map=pmap)\n",
    "    visualize_map_shapes(pmap.grid, obs=pmap.obstacles, start=pmap.start, goal=pmap.goal,\n",
    "                        path=result.path, nodes=list(map(lambda x: x.position, result.nodes)), edges=result.edges)"
   ]
  },
  {
   "cell_type": "code",
   "execution_count": 65,
   "id": "6e3bf2db",
   "metadata": {},
   "outputs": [],
   "source": [
    "json_path = './eoh/src/eoh/problems/optimization/classic_benchmark_path_planning/utils/classic_method_.json'"
   ]
  },
  {
   "cell_type": "code",
   "execution_count": 34,
   "id": "44f55014",
   "metadata": {},
   "outputs": [],
   "source": [
    "result = classic_method[7]"
   ]
  },
  {
   "cell_type": "code",
   "execution_count": 105,
   "id": "6d114656",
   "metadata": {},
   "outputs": [],
   "source": [
    "result = {'algorithm': 'Improved-RRT*-Connect',\n",
    " 'algorithm_description': 'This algorithm with post-optimization: a bidirectional RRT*-Connect that, after finding a first feasible “best shot” path, keeps optimizing for only a user-defined number of extra iterations (or until no further improvements occur), then terminates—while maintaining strict collision checks and a 30 s time cap.',\n",
    " 'planning_mechanism': 'Mechanism: Alternate tree growth with RRT* best-parent selection and local rewiring; greedily connect the opposite tree; upon the first connection, record the best path and continue only N additional iterations (or until M consecutive non-improving attempts), always staying within bounds and validating node and edge collisions; stop early on time limit and return the best path so far.',\n",
    " 'code': code}"
   ]
  },
  {
   "cell_type": "code",
   "execution_count": 35,
   "id": "1b204452",
   "metadata": {},
   "outputs": [],
   "source": [
    "with open(json_path, \"a\") as f:\n",
    "    json.dump(result, f, indent=4)\n",
    "    f.write(\",\\n\")"
   ]
  },
  {
   "cell_type": "code",
   "execution_count": 33,
   "id": "0114b5ed",
   "metadata": {},
   "outputs": [],
   "source": [
    "classic_method[7]['code'] = code"
   ]
  },
  {
   "cell_type": "code",
   "execution_count": 58,
   "id": "16cab4d0",
   "metadata": {},
   "outputs": [],
   "source": [
    "code=''''''"
   ]
  },
  {
   "cell_type": "code",
   "execution_count": 12,
   "id": "f705a8c8",
   "metadata": {},
   "outputs": [
    {
     "name": "stdout",
     "output_type": "stream",
     "text": [
      "[2025.09.15 - 15:18:21] Map 1\n",
      "Iteration 1: Time taken: 0.0259 seconds, Success: True\n",
      "Iteration 2: Time taken: 0.0417 seconds, Success: True\n",
      "Iteration 3: Time taken: 0.0208 seconds, Success: True\n",
      "Iteration 4: Time taken: 0.0197 seconds, Success: True\n",
      "Iteration 5: Time taken: 0.0110 seconds, Success: True\n",
      "Iteration 6: Time taken: 0.0136 seconds, Success: True\n",
      "Iteration 7: Time taken: 0.0111 seconds, Success: True\n",
      "Iteration 8: Time taken: 0.0502 seconds, Success: True\n",
      "Iteration 9: Time taken: 0.0171 seconds, Success: True\n",
      "Iteration 10: Time taken: 0.0635 seconds, Success: True\n",
      "Iteration 11: Time taken: 0.0308 seconds, Success: True\n",
      "Iteration 12: Time taken: 0.0236 seconds, Success: True\n",
      "Iteration 13: Time taken: 0.0220 seconds, Success: True\n",
      "Iteration 14: Time taken: 0.0490 seconds, Success: True\n",
      "Iteration 15: Time taken: 0.0177 seconds, Success: True\n",
      "Iteration 16: Time taken: 0.0309 seconds, Success: True\n",
      "Iteration 17: Time taken: 0.0023 seconds, Success: True\n",
      "Iteration 18: Time taken: 0.0492 seconds, Success: True\n",
      "Iteration 19: Time taken: 0.0000 seconds, Success: True\n",
      "Iteration 20: Time taken: 0.0178 seconds, Success: True\n",
      "Iteration 21: Time taken: 0.0294 seconds, Success: True\n",
      "Iteration 22: Time taken: 0.0170 seconds, Success: True\n",
      "Iteration 23: Time taken: 0.0336 seconds, Success: True\n",
      "Iteration 24: Time taken: 0.0190 seconds, Success: True\n",
      "Iteration 25: Time taken: 0.0216 seconds, Success: True\n",
      "Iteration 26: Time taken: 0.0218 seconds, Success: True\n",
      "Iteration 27: Time taken: 0.0068 seconds, Success: True\n",
      "Iteration 28: Time taken: 0.0129 seconds, Success: True\n",
      "Iteration 29: Time taken: 0.0309 seconds, Success: True\n",
      "Iteration 30: Time taken: 0.0084 seconds, Success: True\n",
      "Iteration 31: Time taken: 0.0681 seconds, Success: True\n",
      "Iteration 32: Time taken: 0.0280 seconds, Success: True\n",
      "Iteration 33: Time taken: 0.0402 seconds, Success: True\n",
      "Iteration 34: Time taken: 0.0498 seconds, Success: True\n",
      "Iteration 35: Time taken: 0.0331 seconds, Success: True\n",
      "Iteration 36: Time taken: 0.0325 seconds, Success: True\n",
      "Iteration 37: Time taken: 0.0190 seconds, Success: True\n",
      "Iteration 38: Time taken: 0.0143 seconds, Success: True\n",
      "Iteration 39: Time taken: 0.0531 seconds, Success: True\n",
      "Iteration 40: Time taken: 0.0216 seconds, Success: True\n",
      "Iteration 41: Time taken: 0.0168 seconds, Success: True\n",
      "Iteration 42: Time taken: 0.0304 seconds, Success: True\n",
      "Iteration 43: Time taken: 0.0750 seconds, Success: True\n",
      "Iteration 44: Time taken: 0.0073 seconds, Success: True\n",
      "Iteration 45: Time taken: 0.0240 seconds, Success: True\n",
      "Iteration 46: Time taken: 0.0165 seconds, Success: True\n",
      "Iteration 47: Time taken: 0.0242 seconds, Success: True\n",
      "Iteration 48: Time taken: 0.0689 seconds, Success: True\n",
      "Iteration 49: Time taken: 0.0110 seconds, Success: True\n",
      "Iteration 50: Time taken: 0.0433 seconds, Success: True\n",
      "Iteration 51: Time taken: 0.0168 seconds, Success: True\n",
      "Iteration 52: Time taken: 0.0899 seconds, Success: True\n",
      "Iteration 53: Time taken: 0.1986 seconds, Success: True\n",
      "Iteration 54: Time taken: 0.0132 seconds, Success: True\n",
      "Iteration 55: Time taken: 0.0081 seconds, Success: True\n",
      "Iteration 56: Time taken: 0.0806 seconds, Success: True\n",
      "Iteration 57: Time taken: 0.0140 seconds, Success: True\n",
      "Iteration 58: Time taken: 0.0179 seconds, Success: True\n",
      "Iteration 59: Time taken: 0.0498 seconds, Success: True\n",
      "Iteration 60: Time taken: 0.0483 seconds, Success: True\n",
      "Iteration 61: Time taken: 0.0279 seconds, Success: True\n",
      "Iteration 62: Time taken: 0.0150 seconds, Success: True\n",
      "Iteration 63: Time taken: 0.0428 seconds, Success: True\n",
      "Iteration 64: Time taken: 0.0429 seconds, Success: True\n",
      "Iteration 65: Time taken: 0.0441 seconds, Success: True\n",
      "Iteration 66: Time taken: 0.0083 seconds, Success: True\n",
      "Iteration 67: Time taken: 0.0000 seconds, Success: True\n",
      "Iteration 68: Time taken: 0.0500 seconds, Success: True\n",
      "Iteration 69: Time taken: 0.0241 seconds, Success: True\n",
      "Iteration 70: Time taken: 0.0073 seconds, Success: True\n",
      "Iteration 71: Time taken: 0.0236 seconds, Success: True\n",
      "Iteration 72: Time taken: 0.0320 seconds, Success: True\n",
      "Iteration 73: Time taken: 0.0170 seconds, Success: True\n",
      "Iteration 74: Time taken: 0.1009 seconds, Success: True\n",
      "Iteration 75: Time taken: 0.0500 seconds, Success: True\n",
      "Iteration 76: Time taken: 0.0146 seconds, Success: True\n",
      "Iteration 77: Time taken: 0.0317 seconds, Success: True\n",
      "Iteration 78: Time taken: 0.0507 seconds, Success: True\n",
      "Iteration 79: Time taken: 0.0166 seconds, Success: True\n",
      "Iteration 80: Time taken: 0.2264 seconds, Success: True\n",
      "Iteration 81: Time taken: 0.0018 seconds, Success: True\n",
      "Iteration 82: Time taken: 0.0638 seconds, Success: True\n",
      "Iteration 83: Time taken: 0.0200 seconds, Success: True\n",
      "Iteration 84: Time taken: 0.0267 seconds, Success: True\n",
      "Iteration 85: Time taken: 0.0211 seconds, Success: True\n",
      "Iteration 86: Time taken: 0.0339 seconds, Success: True\n",
      "Iteration 87: Time taken: 0.0162 seconds, Success: True\n",
      "Iteration 88: Time taken: 0.0252 seconds, Success: True\n",
      "Iteration 89: Time taken: 0.0404 seconds, Success: True\n",
      "Iteration 90: Time taken: 0.0604 seconds, Success: True\n",
      "Iteration 91: Time taken: 0.0560 seconds, Success: True\n",
      "Iteration 92: Time taken: 0.0146 seconds, Success: True\n",
      "Iteration 93: Time taken: 0.0844 seconds, Success: True\n",
      "Iteration 94: Time taken: 0.0691 seconds, Success: True\n",
      "Iteration 95: Time taken: 0.0158 seconds, Success: True\n",
      "Iteration 96: Time taken: 0.0000 seconds, Success: True\n",
      "Iteration 97: Time taken: 0.0183 seconds, Success: True\n",
      "Iteration 98: Time taken: 0.0153 seconds, Success: True\n",
      "Iteration 99: Time taken: 0.0457 seconds, Success: True\n",
      "Iteration 100: Time taken: 0.0310 seconds, Success: True\n",
      "[2025.09.15 - 15:18:24] Map 2\n",
      "Iteration 1: Time taken: 0.2151 seconds, Success: True\n",
      "Iteration 2: Time taken: 0.1829 seconds, Success: True\n",
      "Iteration 3: Time taken: 0.2202 seconds, Success: True\n",
      "Iteration 4: Time taken: 0.2001 seconds, Success: True\n",
      "Iteration 5: Time taken: 0.1652 seconds, Success: True\n",
      "Iteration 6: Time taken: 0.1501 seconds, Success: True\n",
      "Iteration 7: Time taken: 0.1332 seconds, Success: True\n",
      "Iteration 8: Time taken: 0.1523 seconds, Success: True\n",
      "Iteration 9: Time taken: 0.1313 seconds, Success: True\n",
      "Iteration 10: Time taken: 0.2507 seconds, Success: True\n",
      "Iteration 11: Time taken: 0.2705 seconds, Success: True\n",
      "Iteration 12: Time taken: 0.1884 seconds, Success: True\n",
      "Iteration 13: Time taken: 0.2107 seconds, Success: True\n",
      "Iteration 14: Time taken: 0.2291 seconds, Success: True\n",
      "Iteration 15: Time taken: 0.1866 seconds, Success: True\n",
      "Iteration 16: Time taken: 0.2078 seconds, Success: True\n",
      "Iteration 17: Time taken: 0.2169 seconds, Success: True\n",
      "Iteration 18: Time taken: 0.3578 seconds, Success: True\n",
      "Iteration 19: Time taken: 0.2569 seconds, Success: True\n",
      "Iteration 20: Time taken: 0.2820 seconds, Success: True\n",
      "Iteration 21: Time taken: 0.1383 seconds, Success: True\n",
      "Iteration 22: Time taken: 0.1573 seconds, Success: True\n",
      "Iteration 23: Time taken: 0.1692 seconds, Success: True\n",
      "Iteration 24: Time taken: 0.1412 seconds, Success: True\n",
      "Iteration 25: Time taken: 0.2077 seconds, Success: True\n",
      "Iteration 26: Time taken: 0.1379 seconds, Success: True\n",
      "Iteration 27: Time taken: 0.2573 seconds, Success: True\n",
      "Iteration 28: Time taken: 0.2036 seconds, Success: True\n",
      "Iteration 29: Time taken: 0.2841 seconds, Success: True\n",
      "Iteration 30: Time taken: 0.1118 seconds, Success: True\n",
      "Iteration 31: Time taken: 0.2240 seconds, Success: True\n",
      "Iteration 32: Time taken: 0.2427 seconds, Success: True\n",
      "Iteration 33: Time taken: 0.1962 seconds, Success: True\n",
      "Iteration 34: Time taken: 0.2004 seconds, Success: True\n",
      "Iteration 35: Time taken: 0.2363 seconds, Success: True\n",
      "Iteration 36: Time taken: 0.2952 seconds, Success: True\n",
      "Iteration 37: Time taken: 0.1853 seconds, Success: True\n",
      "Iteration 38: Time taken: 0.1087 seconds, Success: True\n",
      "Iteration 39: Time taken: 0.1998 seconds, Success: True\n",
      "Iteration 40: Time taken: 0.1506 seconds, Success: True\n",
      "Iteration 41: Time taken: 0.1960 seconds, Success: True\n",
      "Iteration 42: Time taken: 0.1738 seconds, Success: True\n",
      "Iteration 43: Time taken: 0.1634 seconds, Success: True\n",
      "Iteration 44: Time taken: 0.2571 seconds, Success: True\n",
      "Iteration 45: Time taken: 0.2354 seconds, Success: True\n",
      "Iteration 46: Time taken: 0.4361 seconds, Success: True\n",
      "Iteration 47: Time taken: 0.2360 seconds, Success: True\n",
      "Iteration 48: Time taken: 0.1833 seconds, Success: True\n",
      "Iteration 49: Time taken: 0.2787 seconds, Success: True\n",
      "Iteration 50: Time taken: 0.1740 seconds, Success: True\n",
      "Iteration 51: Time taken: 0.2186 seconds, Success: True\n",
      "Iteration 52: Time taken: 0.2236 seconds, Success: True\n",
      "Iteration 53: Time taken: 0.2776 seconds, Success: True\n",
      "Iteration 54: Time taken: 0.1200 seconds, Success: True\n",
      "Iteration 55: Time taken: 0.2840 seconds, Success: True\n",
      "Iteration 56: Time taken: 0.2422 seconds, Success: True\n",
      "Iteration 57: Time taken: 0.1575 seconds, Success: True\n",
      "Iteration 58: Time taken: 0.1762 seconds, Success: True\n",
      "Iteration 59: Time taken: 0.1260 seconds, Success: True\n",
      "Iteration 60: Time taken: 0.1542 seconds, Success: True\n",
      "Iteration 61: Time taken: 0.1672 seconds, Success: True\n",
      "Iteration 62: Time taken: 0.2974 seconds, Success: True\n",
      "Iteration 63: Time taken: 0.1112 seconds, Success: True\n",
      "Iteration 64: Time taken: 0.2332 seconds, Success: True\n",
      "Iteration 65: Time taken: 0.1938 seconds, Success: True\n",
      "Iteration 66: Time taken: 0.2482 seconds, Success: True\n",
      "Iteration 67: Time taken: 0.4087 seconds, Success: True\n",
      "Iteration 68: Time taken: 0.2466 seconds, Success: True\n",
      "Iteration 69: Time taken: 0.1482 seconds, Success: True\n",
      "Iteration 70: Time taken: 0.2533 seconds, Success: True\n",
      "Iteration 71: Time taken: 0.2290 seconds, Success: True\n",
      "Iteration 72: Time taken: 0.2814 seconds, Success: True\n",
      "Iteration 73: Time taken: 0.1331 seconds, Success: True\n",
      "Iteration 74: Time taken: 0.2327 seconds, Success: True\n",
      "Iteration 75: Time taken: 0.3299 seconds, Success: True\n",
      "Iteration 76: Time taken: 0.2339 seconds, Success: True\n",
      "Iteration 77: Time taken: 0.1836 seconds, Success: True\n",
      "Iteration 78: Time taken: 0.2914 seconds, Success: True\n",
      "Iteration 79: Time taken: 0.1988 seconds, Success: True\n",
      "Iteration 80: Time taken: 0.1447 seconds, Success: True\n",
      "Iteration 81: Time taken: 0.1986 seconds, Success: True\n",
      "Iteration 82: Time taken: 0.1807 seconds, Success: True\n",
      "Iteration 83: Time taken: 0.2320 seconds, Success: True\n",
      "Iteration 84: Time taken: 0.1293 seconds, Success: True\n",
      "Iteration 85: Time taken: 0.1543 seconds, Success: True\n",
      "Iteration 86: Time taken: 0.1683 seconds, Success: True\n",
      "Iteration 87: Time taken: 0.1755 seconds, Success: True\n",
      "Iteration 88: Time taken: 0.3004 seconds, Success: True\n",
      "Iteration 89: Time taken: 0.2179 seconds, Success: True\n",
      "Iteration 90: Time taken: 0.2433 seconds, Success: True\n",
      "Iteration 91: Time taken: 0.2990 seconds, Success: True\n",
      "Iteration 92: Time taken: 0.2045 seconds, Success: True\n",
      "Iteration 93: Time taken: 0.1900 seconds, Success: True\n",
      "Iteration 94: Time taken: 0.2416 seconds, Success: True\n",
      "Iteration 95: Time taken: 0.1042 seconds, Success: True\n",
      "Iteration 96: Time taken: 0.2150 seconds, Success: True\n",
      "Iteration 97: Time taken: 0.1133 seconds, Success: True\n",
      "Iteration 98: Time taken: 0.1428 seconds, Success: True\n",
      "Iteration 99: Time taken: 0.2228 seconds, Success: True\n",
      "Iteration 100: Time taken: 0.1260 seconds, Success: True\n",
      "[2025.09.15 - 15:18:45] Map 3\n",
      "Iteration 1: Time taken: 0.0521 seconds, Success: True\n",
      "Iteration 2: Time taken: 0.0061 seconds, Success: True\n",
      "Iteration 3: Time taken: 0.0183 seconds, Success: True\n",
      "Iteration 4: Time taken: 0.0210 seconds, Success: True\n",
      "Iteration 5: Time taken: 0.1210 seconds, Success: True\n",
      "Iteration 6: Time taken: 0.0308 seconds, Success: True\n",
      "Iteration 7: Time taken: 0.0516 seconds, Success: True\n",
      "Iteration 8: Time taken: 0.0159 seconds, Success: True\n",
      "Iteration 9: Time taken: 0.1343 seconds, Success: True\n",
      "Iteration 10: Time taken: 0.1367 seconds, Success: True\n",
      "Iteration 11: Time taken: 0.0000 seconds, Success: True\n",
      "Iteration 12: Time taken: 0.0320 seconds, Success: True\n",
      "Iteration 13: Time taken: 0.0863 seconds, Success: True\n",
      "Iteration 14: Time taken: 0.0836 seconds, Success: True\n",
      "Iteration 15: Time taken: 0.0000 seconds, Success: True\n",
      "Iteration 16: Time taken: 0.0822 seconds, Success: True\n",
      "Iteration 17: Time taken: 0.0130 seconds, Success: True\n",
      "Iteration 18: Time taken: 0.0760 seconds, Success: True\n",
      "Iteration 19: Time taken: 0.0251 seconds, Success: True\n",
      "Iteration 20: Time taken: 0.0679 seconds, Success: True\n",
      "Iteration 21: Time taken: 0.0680 seconds, Success: True\n",
      "Iteration 22: Time taken: 0.0238 seconds, Success: True\n",
      "Iteration 23: Time taken: 0.1287 seconds, Success: True\n",
      "Iteration 24: Time taken: 0.2826 seconds, Success: True\n",
      "Iteration 25: Time taken: 0.0308 seconds, Success: True\n",
      "Iteration 26: Time taken: 0.0208 seconds, Success: True\n",
      "Iteration 27: Time taken: 0.0710 seconds, Success: True\n",
      "Iteration 28: Time taken: 0.0563 seconds, Success: True\n",
      "Iteration 29: Time taken: 0.0387 seconds, Success: True\n",
      "Iteration 30: Time taken: 0.0746 seconds, Success: True\n",
      "Iteration 31: Time taken: 0.0557 seconds, Success: True\n",
      "Iteration 32: Time taken: 0.0686 seconds, Success: True\n",
      "Iteration 33: Time taken: 0.0495 seconds, Success: True\n",
      "Iteration 34: Time taken: 0.0325 seconds, Success: True\n",
      "Iteration 35: Time taken: 0.0270 seconds, Success: True\n",
      "Iteration 36: Time taken: 0.0160 seconds, Success: True\n",
      "Iteration 37: Time taken: 0.0245 seconds, Success: True\n",
      "Iteration 38: Time taken: 0.1449 seconds, Success: True\n",
      "Iteration 39: Time taken: 0.0367 seconds, Success: True\n",
      "Iteration 40: Time taken: 0.0200 seconds, Success: True\n",
      "Iteration 41: Time taken: 0.1330 seconds, Success: True\n",
      "Iteration 42: Time taken: 0.3116 seconds, Success: True\n",
      "Iteration 43: Time taken: 0.0157 seconds, Success: True\n",
      "Iteration 44: Time taken: 0.0543 seconds, Success: True\n",
      "Iteration 45: Time taken: 0.0255 seconds, Success: True\n",
      "Iteration 46: Time taken: 0.1551 seconds, Success: True\n",
      "Iteration 47: Time taken: 0.0060 seconds, Success: True\n",
      "Iteration 48: Time taken: 0.0176 seconds, Success: True\n",
      "Iteration 49: Time taken: 0.1558 seconds, Success: True\n",
      "Iteration 50: Time taken: 0.0687 seconds, Success: True\n",
      "Iteration 51: Time taken: 0.0635 seconds, Success: True\n",
      "Iteration 52: Time taken: 0.0303 seconds, Success: True\n",
      "Iteration 53: Time taken: 0.0055 seconds, Success: True\n",
      "Iteration 54: Time taken: 0.0290 seconds, Success: True\n",
      "Iteration 55: Time taken: 0.0329 seconds, Success: True\n",
      "Iteration 56: Time taken: 0.1306 seconds, Success: True\n",
      "Iteration 57: Time taken: 0.0720 seconds, Success: True\n",
      "Iteration 58: Time taken: 0.0458 seconds, Success: True\n",
      "Iteration 59: Time taken: 0.0313 seconds, Success: True\n",
      "Iteration 60: Time taken: 0.0465 seconds, Success: True\n",
      "Iteration 61: Time taken: 0.0024 seconds, Success: True\n",
      "Iteration 62: Time taken: 0.0245 seconds, Success: True\n",
      "Iteration 63: Time taken: 0.0476 seconds, Success: True\n",
      "Iteration 64: Time taken: 0.0318 seconds, Success: True\n",
      "Iteration 65: Time taken: 0.0463 seconds, Success: True\n",
      "Iteration 66: Time taken: 0.0158 seconds, Success: True\n",
      "Iteration 67: Time taken: 0.1377 seconds, Success: True\n",
      "Iteration 68: Time taken: 0.0495 seconds, Success: True\n",
      "Iteration 69: Time taken: 0.0098 seconds, Success: True\n",
      "Iteration 70: Time taken: 0.0279 seconds, Success: True\n",
      "Iteration 71: Time taken: 0.2480 seconds, Success: True\n",
      "Iteration 72: Time taken: 0.1403 seconds, Success: True\n",
      "Iteration 73: Time taken: 0.1765 seconds, Success: True\n",
      "Iteration 74: Time taken: 0.0152 seconds, Success: True\n",
      "Iteration 75: Time taken: 0.0330 seconds, Success: True\n",
      "Iteration 76: Time taken: 0.0320 seconds, Success: True\n",
      "Iteration 77: Time taken: 0.0228 seconds, Success: True\n",
      "Iteration 78: Time taken: 0.1416 seconds, Success: True\n",
      "Iteration 79: Time taken: 0.2007 seconds, Success: True\n",
      "Iteration 80: Time taken: 0.0159 seconds, Success: True\n",
      "Iteration 81: Time taken: 0.0159 seconds, Success: True\n",
      "Iteration 82: Time taken: 0.0704 seconds, Success: True\n",
      "Iteration 83: Time taken: 0.0320 seconds, Success: True\n",
      "Iteration 84: Time taken: 0.0698 seconds, Success: True\n",
      "Iteration 85: Time taken: 0.1226 seconds, Success: True\n",
      "Iteration 86: Time taken: 0.0463 seconds, Success: True\n",
      "Iteration 87: Time taken: 0.0771 seconds, Success: True\n",
      "Iteration 88: Time taken: 0.0140 seconds, Success: True\n",
      "Iteration 89: Time taken: 0.4800 seconds, Success: True\n",
      "Iteration 90: Time taken: 0.0226 seconds, Success: True\n",
      "Iteration 91: Time taken: 0.0489 seconds, Success: True\n",
      "Iteration 92: Time taken: 0.0062 seconds, Success: True\n",
      "Iteration 93: Time taken: 0.1581 seconds, Success: True\n",
      "Iteration 94: Time taken: 0.0298 seconds, Success: True\n",
      "Iteration 95: Time taken: 0.0564 seconds, Success: True\n",
      "Iteration 96: Time taken: 0.0670 seconds, Success: True\n",
      "Iteration 97: Time taken: 0.0135 seconds, Success: True\n",
      "Iteration 98: Time taken: 0.4308 seconds, Success: True\n",
      "Iteration 99: Time taken: 0.0615 seconds, Success: True\n",
      "Iteration 100: Time taken: 0.0742 seconds, Success: True\n",
      "Total time taken for all maps: 31.7256 seconds\n",
      "[2025.09.15 - 15:18:52] Map 1\n",
      "Iteration 1: Time taken: 0.0526 seconds, Success: True\n",
      "Iteration 2: Time taken: 0.0516 seconds, Success: True\n",
      "Iteration 3: Time taken: 0.0301 seconds, Success: True\n",
      "Iteration 4: Time taken: 0.1270 seconds, Success: True\n",
      "Iteration 5: Time taken: 0.1661 seconds, Success: True\n",
      "Iteration 6: Time taken: 0.1041 seconds, Success: True\n",
      "Iteration 7: Time taken: 0.0262 seconds, Success: True\n",
      "Iteration 8: Time taken: 0.0314 seconds, Success: True\n",
      "Iteration 9: Time taken: 0.0179 seconds, Success: True\n",
      "Iteration 10: Time taken: 0.2266 seconds, Success: True\n",
      "Iteration 11: Time taken: 0.0984 seconds, Success: True\n",
      "Iteration 12: Time taken: 0.1360 seconds, Success: True\n",
      "Iteration 13: Time taken: 0.1891 seconds, Success: True\n",
      "Iteration 14: Time taken: 0.0949 seconds, Success: True\n",
      "Iteration 15: Time taken: 0.0146 seconds, Success: True\n",
      "Iteration 16: Time taken: 0.0332 seconds, Success: True\n",
      "Iteration 17: Time taken: 0.0848 seconds, Success: True\n",
      "Iteration 18: Time taken: 0.0246 seconds, Success: True\n",
      "Iteration 19: Time taken: 0.0344 seconds, Success: True\n",
      "Iteration 20: Time taken: 0.0727 seconds, Success: True\n",
      "Iteration 21: Time taken: 0.0400 seconds, Success: True\n",
      "Iteration 22: Time taken: 0.0688 seconds, Success: True\n",
      "Iteration 23: Time taken: 0.0362 seconds, Success: True\n",
      "Iteration 24: Time taken: 0.0315 seconds, Success: True\n",
      "Iteration 25: Time taken: 0.0252 seconds, Success: True\n",
      "Iteration 26: Time taken: 0.3000 seconds, Success: True\n",
      "Iteration 27: Time taken: 0.0327 seconds, Success: True\n",
      "Iteration 28: Time taken: 0.1591 seconds, Success: True\n",
      "Iteration 29: Time taken: 0.1045 seconds, Success: True\n",
      "Iteration 30: Time taken: 0.0666 seconds, Success: True\n",
      "Iteration 31: Time taken: 0.0385 seconds, Success: True\n",
      "Iteration 32: Time taken: 0.0637 seconds, Success: True\n",
      "Iteration 33: Time taken: 0.1057 seconds, Success: True\n",
      "Iteration 34: Time taken: 0.1530 seconds, Success: True\n",
      "Iteration 35: Time taken: 0.0479 seconds, Success: True\n",
      "Iteration 36: Time taken: 0.1444 seconds, Success: True\n",
      "Iteration 37: Time taken: 0.0210 seconds, Success: True\n",
      "Iteration 38: Time taken: 0.0486 seconds, Success: True\n",
      "Iteration 39: Time taken: 0.0827 seconds, Success: True\n",
      "Iteration 40: Time taken: 0.0218 seconds, Success: True\n",
      "Iteration 41: Time taken: 0.0808 seconds, Success: True\n",
      "Iteration 42: Time taken: 0.0932 seconds, Success: True\n",
      "Iteration 43: Time taken: 0.1432 seconds, Success: True\n",
      "Iteration 44: Time taken: 0.0420 seconds, Success: True\n",
      "Iteration 45: Time taken: 0.1037 seconds, Success: True\n",
      "Iteration 46: Time taken: 0.0122 seconds, Success: True\n",
      "Iteration 47: Time taken: 0.0888 seconds, Success: True\n",
      "Iteration 48: Time taken: 0.1417 seconds, Success: True\n",
      "Iteration 49: Time taken: 0.0575 seconds, Success: True\n",
      "Iteration 50: Time taken: 0.0564 seconds, Success: True\n",
      "Iteration 51: Time taken: 0.0193 seconds, Success: True\n",
      "Iteration 52: Time taken: 0.0317 seconds, Success: True\n",
      "Iteration 53: Time taken: 0.0287 seconds, Success: True\n",
      "Iteration 54: Time taken: 0.0451 seconds, Success: True\n",
      "Iteration 55: Time taken: 0.0515 seconds, Success: True\n",
      "Iteration 56: Time taken: 0.0171 seconds, Success: True\n",
      "Iteration 57: Time taken: 0.0333 seconds, Success: True\n",
      "Iteration 58: Time taken: 0.0186 seconds, Success: True\n",
      "Iteration 59: Time taken: 0.1002 seconds, Success: True\n",
      "Iteration 60: Time taken: 0.0760 seconds, Success: True\n",
      "Iteration 61: Time taken: 0.1382 seconds, Success: True\n",
      "Iteration 62: Time taken: 0.0330 seconds, Success: True\n",
      "Iteration 63: Time taken: 0.0350 seconds, Success: True\n",
      "Iteration 64: Time taken: 0.3079 seconds, Success: True\n",
      "Iteration 65: Time taken: 0.1277 seconds, Success: True\n",
      "Iteration 66: Time taken: 0.0784 seconds, Success: True\n",
      "Iteration 67: Time taken: 0.0270 seconds, Success: True\n",
      "Iteration 68: Time taken: 0.0588 seconds, Success: True\n",
      "Iteration 69: Time taken: 0.0333 seconds, Success: True\n",
      "Iteration 70: Time taken: 0.0180 seconds, Success: True\n",
      "Iteration 71: Time taken: 0.2067 seconds, Success: True\n",
      "Iteration 72: Time taken: 0.0496 seconds, Success: True\n",
      "Iteration 73: Time taken: 0.0375 seconds, Success: True\n",
      "Iteration 74: Time taken: 0.0415 seconds, Success: True\n",
      "Iteration 75: Time taken: 0.0632 seconds, Success: True\n",
      "Iteration 76: Time taken: 0.0337 seconds, Success: True\n",
      "Iteration 77: Time taken: 0.0170 seconds, Success: True\n",
      "Iteration 78: Time taken: 0.0156 seconds, Success: True\n",
      "Iteration 79: Time taken: 0.0232 seconds, Success: True\n",
      "Iteration 80: Time taken: 0.0230 seconds, Success: True\n",
      "Iteration 81: Time taken: 0.0693 seconds, Success: True\n",
      "Iteration 82: Time taken: 0.0628 seconds, Success: True\n",
      "Iteration 83: Time taken: 0.2780 seconds, Success: True\n",
      "Iteration 84: Time taken: 0.0280 seconds, Success: True\n",
      "Iteration 85: Time taken: 0.1766 seconds, Success: True\n",
      "Iteration 86: Time taken: 0.1333 seconds, Success: True\n",
      "Iteration 87: Time taken: 0.0318 seconds, Success: True\n",
      "Iteration 88: Time taken: 0.0320 seconds, Success: True\n",
      "Iteration 89: Time taken: 0.0801 seconds, Success: True\n",
      "Iteration 90: Time taken: 0.0433 seconds, Success: True\n",
      "Iteration 91: Time taken: 0.0363 seconds, Success: True\n",
      "Iteration 92: Time taken: 0.0177 seconds, Success: True\n",
      "Iteration 93: Time taken: 0.0299 seconds, Success: True\n",
      "Iteration 94: Time taken: 0.1836 seconds, Success: True\n",
      "Iteration 95: Time taken: 0.0270 seconds, Success: True\n",
      "Iteration 96: Time taken: 0.1178 seconds, Success: True\n",
      "Iteration 97: Time taken: 0.0292 seconds, Success: True\n",
      "Iteration 98: Time taken: 0.0137 seconds, Success: True\n",
      "Iteration 99: Time taken: 0.0368 seconds, Success: True\n",
      "Iteration 100: Time taken: 0.0919 seconds, Success: True\n",
      "[2025.09.15 - 15:19:00] Map 2\n",
      "Iteration 1: Time taken: 0.4550 seconds, Success: True\n",
      "Iteration 2: Time taken: 0.2633 seconds, Success: True\n",
      "Iteration 3: Time taken: 0.3561 seconds, Success: True\n",
      "Iteration 4: Time taken: 0.4690 seconds, Success: True\n",
      "Iteration 5: Time taken: 0.4461 seconds, Success: True\n",
      "Iteration 6: Time taken: 0.3599 seconds, Success: True\n",
      "Iteration 7: Time taken: 0.4311 seconds, Success: True\n",
      "Iteration 8: Time taken: 0.3990 seconds, Success: True\n",
      "Iteration 9: Time taken: 0.3865 seconds, Success: True\n",
      "Iteration 10: Time taken: 0.3409 seconds, Success: True\n",
      "Iteration 11: Time taken: 0.3708 seconds, Success: True\n",
      "Iteration 12: Time taken: 0.3050 seconds, Success: True\n",
      "Iteration 13: Time taken: 0.3039 seconds, Success: True\n",
      "Iteration 14: Time taken: 0.3045 seconds, Success: True\n",
      "Iteration 15: Time taken: 0.5358 seconds, Success: True\n",
      "Iteration 16: Time taken: 0.3314 seconds, Success: True\n",
      "Iteration 17: Time taken: 0.3369 seconds, Success: True\n",
      "Iteration 18: Time taken: 0.4307 seconds, Success: True\n",
      "Iteration 19: Time taken: 0.5767 seconds, Success: True\n",
      "Iteration 20: Time taken: 0.2747 seconds, Success: True\n",
      "Iteration 21: Time taken: 0.4459 seconds, Success: True\n",
      "Iteration 22: Time taken: 0.2397 seconds, Success: True\n",
      "Iteration 23: Time taken: 0.4243 seconds, Success: True\n",
      "Iteration 24: Time taken: 0.3841 seconds, Success: True\n",
      "Iteration 25: Time taken: 0.4582 seconds, Success: True\n",
      "Iteration 26: Time taken: 0.7807 seconds, Success: True\n",
      "Iteration 27: Time taken: 0.5968 seconds, Success: True\n",
      "Iteration 28: Time taken: 0.4741 seconds, Success: True\n",
      "Iteration 29: Time taken: 0.4917 seconds, Success: True\n",
      "Iteration 30: Time taken: 0.2125 seconds, Success: True\n",
      "Iteration 31: Time taken: 0.3739 seconds, Success: True\n",
      "Iteration 32: Time taken: 0.3253 seconds, Success: True\n",
      "Iteration 33: Time taken: 0.3404 seconds, Success: True\n",
      "Iteration 34: Time taken: 0.3458 seconds, Success: True\n",
      "Iteration 35: Time taken: 0.5281 seconds, Success: True\n",
      "Iteration 36: Time taken: 0.4664 seconds, Success: True\n",
      "Iteration 37: Time taken: 0.4330 seconds, Success: True\n"
     ]
    },
    {
     "ename": "KeyboardInterrupt",
     "evalue": "",
     "output_type": "error",
     "traceback": [
      "\u001b[1;31m---------------------------------------------------------------------------\u001b[0m",
      "\u001b[1;31mKeyboardInterrupt\u001b[0m                         Traceback (most recent call last)",
      "Cell \u001b[1;32mIn[12], line 17\u001b[0m\n\u001b[0;32m     15\u001b[0m sys\u001b[38;5;241m.\u001b[39mmodules[planning_module\u001b[38;5;241m.\u001b[39m\u001b[38;5;18m__name__\u001b[39m] \u001b[38;5;241m=\u001b[39m planning_module\n\u001b[0;32m     16\u001b[0m planner \u001b[38;5;241m=\u001b[39m planning_module\u001b[38;5;241m.\u001b[39mPlanner(max_iter\u001b[38;5;241m=\u001b[39m\u001b[38;5;241m5000\u001b[39m)\n\u001b[1;32m---> 17\u001b[0m res, avg_rest \u001b[38;5;241m=\u001b[39m \u001b[43mbenchmarker\u001b[49m\u001b[38;5;241;43m.\u001b[39;49m\u001b[43mrun\u001b[49m\u001b[43m(\u001b[49m\u001b[43mplanner\u001b[49m\u001b[38;5;241;43m.\u001b[39;49m\u001b[43mplan\u001b[49m\u001b[43m)\u001b[49m\n\u001b[0;32m     18\u001b[0m \u001b[38;5;28;01mif\u001b[39;00m method[\u001b[38;5;124m'\u001b[39m\u001b[38;5;124malgorithm\u001b[39m\u001b[38;5;124m'\u001b[39m] \u001b[38;5;241m==\u001b[39m \u001b[38;5;124m'\u001b[39m\u001b[38;5;124mRRT\u001b[39m\u001b[38;5;124m'\u001b[39m:\n\u001b[0;32m     19\u001b[0m     ref_avg \u001b[38;5;241m=\u001b[39m avg_rest\n",
      "File \u001b[1;32mc:\\workspace\\eoh_path_planning\\eoh\\src\\eoh\\problems\\optimization\\classic_benchmark_path_planning\\utils\\benchmark.py:50\u001b[0m, in \u001b[0;36mMultiMapBenchmarker.run\u001b[1;34m(self, algorithm)\u001b[0m\n\u001b[0;32m     48\u001b[0m start_time \u001b[38;5;241m=\u001b[39m time\u001b[38;5;241m.\u001b[39mtime()\n\u001b[0;32m     49\u001b[0m \u001b[38;5;28;01mtry\u001b[39;00m:\n\u001b[1;32m---> 50\u001b[0m     output \u001b[38;5;241m=\u001b[39m \u001b[43malgorithm\u001b[49m\u001b[43m(\u001b[49m\u001b[43mmap_\u001b[49m\u001b[43m)\u001b[49m\n\u001b[0;32m     51\u001b[0m \u001b[38;5;28;01mexcept\u001b[39;00m \u001b[38;5;167;01mException\u001b[39;00m \u001b[38;5;28;01mas\u001b[39;00m e:\n\u001b[0;32m     52\u001b[0m     output \u001b[38;5;241m=\u001b[39m {\u001b[38;5;124m\"\u001b[39m\u001b[38;5;124mpath\u001b[39m\u001b[38;5;124m\"\u001b[39m: [], \u001b[38;5;124m\"\u001b[39m\u001b[38;5;124mnodes\u001b[39m\u001b[38;5;124m\"\u001b[39m: [], \u001b[38;5;124m\"\u001b[39m\u001b[38;5;124mn_nodes\u001b[39m\u001b[38;5;124m\"\u001b[39m: \u001b[38;5;241m0\u001b[39m}\n",
      "File \u001b[1;32m<string>:99\u001b[0m, in \u001b[0;36mplan\u001b[1;34m(self, map)\u001b[0m\n",
      "\u001b[1;31mKeyboardInterrupt\u001b[0m: "
     ]
    }
   ],
   "source": [
    "maps = [multi_obs_map, maze_map, narrow_map]\n",
    "benchmarker = MultiMapBenchmarker(maps=maps, iter=100)\n",
    "\n",
    "total_df = pd.DataFrame()\n",
    "\n",
    "# for method in classic_method[:-2]:\n",
    "for method in classic_method:\n",
    "    code_string = method['code']\n",
    "    namedf = pd.DataFrame()\n",
    "    namedf['alg_name'] = [method['algorithm']]* len(maps)\n",
    "    with warnings.catch_warnings():\n",
    "        warnings.simplefilter(\"ignore\")\n",
    "        planning_module = types.ModuleType(\"planning_module\")\n",
    "        exec(import_string+code_string, planning_module.__dict__)\n",
    "        sys.modules[planning_module.__name__] = planning_module\n",
    "        planner = planning_module.Planner(max_iter=5000)\n",
    "        res, avg_rest = benchmarker.run(planner.plan)\n",
    "        if method['algorithm'] == 'RRT':\n",
    "            ref_avg = avg_rest\n",
    "            outputs = []\n",
    "        outputs = benchmarker.get_results()\n",
    "        if avg_rest is None: continue\n",
    "        imp_res = MultiMapBenchmarker.get_improvement(ref_avg, avg_rest)\n",
    "\n",
    "        res_df = pd.concat([namedf, avg_rest, imp_res], axis=1)\n",
    "        total_df = pd.concat([total_df, res_df], axis=0)\n",
    "\n",
    "total_df\n"
   ]
  },
  {
   "cell_type": "code",
   "execution_count": 17,
   "id": "078d42fa",
   "metadata": {},
   "outputs": [],
   "source": [
    "total_df1 = total_df"
   ]
  },
  {
   "cell_type": "code",
   "execution_count": 19,
   "id": "ae872510",
   "metadata": {},
   "outputs": [
    {
     "data": {
      "text/html": [
       "<div>\n",
       "<style scoped>\n",
       "    .dataframe tbody tr th:only-of-type {\n",
       "        vertical-align: middle;\n",
       "    }\n",
       "\n",
       "    .dataframe tbody tr th {\n",
       "        vertical-align: top;\n",
       "    }\n",
       "\n",
       "    .dataframe thead th {\n",
       "        text-align: right;\n",
       "    }\n",
       "</style>\n",
       "<table border=\"1\" class=\"dataframe\">\n",
       "  <thead>\n",
       "    <tr style=\"text-align: right;\">\n",
       "      <th></th>\n",
       "      <th>alg_name</th>\n",
       "      <th>map_id</th>\n",
       "      <th>success_rate</th>\n",
       "      <th>time_avg</th>\n",
       "      <th>num_nodes_avg</th>\n",
       "      <th>path_length_avg</th>\n",
       "      <th>smoothness_avg</th>\n",
       "      <th>success_improvement</th>\n",
       "      <th>time_improvement</th>\n",
       "      <th>length_improvement</th>\n",
       "      <th>smoothness_improvement</th>\n",
       "      <th>objective_score</th>\n",
       "    </tr>\n",
       "  </thead>\n",
       "  <tbody>\n",
       "    <tr>\n",
       "      <th>0</th>\n",
       "      <td>RRT</td>\n",
       "      <td>0</td>\n",
       "      <td>1.00</td>\n",
       "      <td>0.035257</td>\n",
       "      <td>461.98</td>\n",
       "      <td>188.080816</td>\n",
       "      <td>0.006254</td>\n",
       "      <td>0.0</td>\n",
       "      <td>-0.000000</td>\n",
       "      <td>-0.000000</td>\n",
       "      <td>0.000000</td>\n",
       "      <td>0.000000</td>\n",
       "    </tr>\n",
       "    <tr>\n",
       "      <th>1</th>\n",
       "      <td>RRT</td>\n",
       "      <td>1</td>\n",
       "      <td>0.00</td>\n",
       "      <td>0.383815</td>\n",
       "      <td>1704.46</td>\n",
       "      <td>NaN</td>\n",
       "      <td>1.000000</td>\n",
       "      <td>0.0</td>\n",
       "      <td>-0.000000</td>\n",
       "      <td>NaN</td>\n",
       "      <td>0.000000</td>\n",
       "      <td>NaN</td>\n",
       "    </tr>\n",
       "    <tr>\n",
       "      <th>2</th>\n",
       "      <td>RRT</td>\n",
       "      <td>2</td>\n",
       "      <td>1.00</td>\n",
       "      <td>0.214382</td>\n",
       "      <td>1646.97</td>\n",
       "      <td>305.294357</td>\n",
       "      <td>0.003862</td>\n",
       "      <td>0.0</td>\n",
       "      <td>-0.000000</td>\n",
       "      <td>-0.000000</td>\n",
       "      <td>0.000000</td>\n",
       "      <td>0.000000</td>\n",
       "    </tr>\n",
       "    <tr>\n",
       "      <th>3</th>\n",
       "      <td>RRT</td>\n",
       "      <td>3</td>\n",
       "      <td>1.00</td>\n",
       "      <td>0.068837</td>\n",
       "      <td>839.78</td>\n",
       "      <td>152.790835</td>\n",
       "      <td>0.007785</td>\n",
       "      <td>0.0</td>\n",
       "      <td>-0.000000</td>\n",
       "      <td>-0.000000</td>\n",
       "      <td>0.000000</td>\n",
       "      <td>0.000000</td>\n",
       "    </tr>\n",
       "    <tr>\n",
       "      <th>0</th>\n",
       "      <td>RRT*</td>\n",
       "      <td>0</td>\n",
       "      <td>1.00</td>\n",
       "      <td>0.069093</td>\n",
       "      <td>432.49</td>\n",
       "      <td>157.533630</td>\n",
       "      <td>0.014613</td>\n",
       "      <td>0.0</td>\n",
       "      <td>-95.968119</td>\n",
       "      <td>16.241521</td>\n",
       "      <td>133.670537</td>\n",
       "      <td>-24.873779</td>\n",
       "    </tr>\n",
       "    <tr>\n",
       "      <th>1</th>\n",
       "      <td>RRT*</td>\n",
       "      <td>1</td>\n",
       "      <td>0.00</td>\n",
       "      <td>0.648108</td>\n",
       "      <td>1683.19</td>\n",
       "      <td>NaN</td>\n",
       "      <td>1.000000</td>\n",
       "      <td>0.0</td>\n",
       "      <td>-68.859471</td>\n",
       "      <td>NaN</td>\n",
       "      <td>0.000000</td>\n",
       "      <td>NaN</td>\n",
       "    </tr>\n",
       "    <tr>\n",
       "      <th>2</th>\n",
       "      <td>RRT*</td>\n",
       "      <td>2</td>\n",
       "      <td>1.00</td>\n",
       "      <td>0.425404</td>\n",
       "      <td>1630.38</td>\n",
       "      <td>225.392740</td>\n",
       "      <td>0.011241</td>\n",
       "      <td>0.0</td>\n",
       "      <td>-98.432276</td>\n",
       "      <td>26.171993</td>\n",
       "      <td>191.051088</td>\n",
       "      <td>-23.340029</td>\n",
       "    </tr>\n",
       "    <tr>\n",
       "      <th>3</th>\n",
       "      <td>RRT*</td>\n",
       "      <td>3</td>\n",
       "      <td>1.00</td>\n",
       "      <td>0.125224</td>\n",
       "      <td>800.93</td>\n",
       "      <td>116.560962</td>\n",
       "      <td>0.021343</td>\n",
       "      <td>0.0</td>\n",
       "      <td>-81.914782</td>\n",
       "      <td>23.712072</td>\n",
       "      <td>174.162207</td>\n",
       "      <td>-18.961209</td>\n",
       "    </tr>\n",
       "    <tr>\n",
       "      <th>0</th>\n",
       "      <td>RRT-Connect</td>\n",
       "      <td>0</td>\n",
       "      <td>1.00</td>\n",
       "      <td>0.017552</td>\n",
       "      <td>116.02</td>\n",
       "      <td>196.961209</td>\n",
       "      <td>0.011149</td>\n",
       "      <td>0.0</td>\n",
       "      <td>50.216258</td>\n",
       "      <td>-4.721584</td>\n",
       "      <td>78.282236</td>\n",
       "      <td>14.511972</td>\n",
       "    </tr>\n",
       "    <tr>\n",
       "      <th>1</th>\n",
       "      <td>RRT-Connect</td>\n",
       "      <td>1</td>\n",
       "      <td>1.00</td>\n",
       "      <td>0.200972</td>\n",
       "      <td>1050.80</td>\n",
       "      <td>532.772541</td>\n",
       "      <td>0.003773</td>\n",
       "      <td>100.0</td>\n",
       "      <td>47.638209</td>\n",
       "      <td>NaN</td>\n",
       "      <td>-99.622699</td>\n",
       "      <td>NaN</td>\n",
       "    </tr>\n",
       "    <tr>\n",
       "      <th>2</th>\n",
       "      <td>RRT-Connect</td>\n",
       "      <td>2</td>\n",
       "      <td>1.00</td>\n",
       "      <td>0.019704</td>\n",
       "      <td>229.98</td>\n",
       "      <td>297.971598</td>\n",
       "      <td>0.007387</td>\n",
       "      <td>0.0</td>\n",
       "      <td>90.809081</td>\n",
       "      <td>2.398590</td>\n",
       "      <td>91.280549</td>\n",
       "      <td>28.178845</td>\n",
       "    </tr>\n",
       "    <tr>\n",
       "      <th>3</th>\n",
       "      <td>RRT-Connect</td>\n",
       "      <td>3</td>\n",
       "      <td>1.00</td>\n",
       "      <td>0.021458</td>\n",
       "      <td>276.42</td>\n",
       "      <td>161.699617</td>\n",
       "      <td>0.013741</td>\n",
       "      <td>0.0</td>\n",
       "      <td>68.827111</td>\n",
       "      <td>-5.830705</td>\n",
       "      <td>76.508585</td>\n",
       "      <td>19.864535</td>\n",
       "    </tr>\n",
       "    <tr>\n",
       "      <th>0</th>\n",
       "      <td>RRT*-Connect</td>\n",
       "      <td>0</td>\n",
       "      <td>1.00</td>\n",
       "      <td>0.010660</td>\n",
       "      <td>119.31</td>\n",
       "      <td>174.536014</td>\n",
       "      <td>0.016466</td>\n",
       "      <td>0.0</td>\n",
       "      <td>69.764509</td>\n",
       "      <td>7.201586</td>\n",
       "      <td>163.291748</td>\n",
       "      <td>23.186128</td>\n",
       "    </tr>\n",
       "    <tr>\n",
       "      <th>1</th>\n",
       "      <td>RRT*-Connect</td>\n",
       "      <td>1</td>\n",
       "      <td>1.00</td>\n",
       "      <td>0.382580</td>\n",
       "      <td>1019.90</td>\n",
       "      <td>402.654093</td>\n",
       "      <td>0.006680</td>\n",
       "      <td>100.0</td>\n",
       "      <td>0.321630</td>\n",
       "      <td>NaN</td>\n",
       "      <td>-99.331971</td>\n",
       "      <td>NaN</td>\n",
       "    </tr>\n",
       "    <tr>\n",
       "      <th>2</th>\n",
       "      <td>RRT*-Connect</td>\n",
       "      <td>2</td>\n",
       "      <td>1.00</td>\n",
       "      <td>0.029105</td>\n",
       "      <td>268.02</td>\n",
       "      <td>259.517051</td>\n",
       "      <td>0.010988</td>\n",
       "      <td>0.0</td>\n",
       "      <td>86.423622</td>\n",
       "      <td>14.994481</td>\n",
       "      <td>184.513852</td>\n",
       "      <td>29.848552</td>\n",
       "    </tr>\n",
       "    <tr>\n",
       "      <th>3</th>\n",
       "      <td>RRT*-Connect</td>\n",
       "      <td>3</td>\n",
       "      <td>1.00</td>\n",
       "      <td>0.031657</td>\n",
       "      <td>288.61</td>\n",
       "      <td>132.873277</td>\n",
       "      <td>0.021789</td>\n",
       "      <td>0.0</td>\n",
       "      <td>54.011314</td>\n",
       "      <td>13.035833</td>\n",
       "      <td>179.896702</td>\n",
       "      <td>19.710044</td>\n",
       "    </tr>\n",
       "    <tr>\n",
       "      <th>0</th>\n",
       "      <td>BI-RRT</td>\n",
       "      <td>0</td>\n",
       "      <td>1.00</td>\n",
       "      <td>0.003128</td>\n",
       "      <td>68.28</td>\n",
       "      <td>175.134479</td>\n",
       "      <td>0.010958</td>\n",
       "      <td>0.0</td>\n",
       "      <td>91.126629</td>\n",
       "      <td>6.883390</td>\n",
       "      <td>75.215359</td>\n",
       "      <td>29.090744</td>\n",
       "    </tr>\n",
       "    <tr>\n",
       "      <th>1</th>\n",
       "      <td>BI-RRT</td>\n",
       "      <td>1</td>\n",
       "      <td>1.00</td>\n",
       "      <td>0.122854</td>\n",
       "      <td>997.55</td>\n",
       "      <td>538.847689</td>\n",
       "      <td>0.003646</td>\n",
       "      <td>100.0</td>\n",
       "      <td>67.991237</td>\n",
       "      <td>NaN</td>\n",
       "      <td>-99.635383</td>\n",
       "      <td>NaN</td>\n",
       "    </tr>\n",
       "    <tr>\n",
       "      <th>2</th>\n",
       "      <td>BI-RRT</td>\n",
       "      <td>2</td>\n",
       "      <td>1.00</td>\n",
       "      <td>0.008949</td>\n",
       "      <td>222.73</td>\n",
       "      <td>306.991796</td>\n",
       "      <td>0.006395</td>\n",
       "      <td>0.0</td>\n",
       "      <td>95.825559</td>\n",
       "      <td>-0.556001</td>\n",
       "      <td>65.588698</td>\n",
       "      <td>28.964411</td>\n",
       "    </tr>\n",
       "    <tr>\n",
       "      <th>3</th>\n",
       "      <td>BI-RRT</td>\n",
       "      <td>3</td>\n",
       "      <td>1.00</td>\n",
       "      <td>0.008806</td>\n",
       "      <td>174.77</td>\n",
       "      <td>160.205102</td>\n",
       "      <td>0.012799</td>\n",
       "      <td>0.0</td>\n",
       "      <td>87.207079</td>\n",
       "      <td>-4.852560</td>\n",
       "      <td>64.411870</td>\n",
       "      <td>25.513671</td>\n",
       "    </tr>\n",
       "    <tr>\n",
       "      <th>0</th>\n",
       "      <td>BI-RRT*</td>\n",
       "      <td>0</td>\n",
       "      <td>1.00</td>\n",
       "      <td>0.020985</td>\n",
       "      <td>84.92</td>\n",
       "      <td>164.114429</td>\n",
       "      <td>0.018005</td>\n",
       "      <td>0.0</td>\n",
       "      <td>40.479782</td>\n",
       "      <td>12.742600</td>\n",
       "      <td>187.903211</td>\n",
       "      <td>15.631971</td>\n",
       "    </tr>\n",
       "    <tr>\n",
       "      <th>1</th>\n",
       "      <td>BI-RRT*</td>\n",
       "      <td>1</td>\n",
       "      <td>1.00</td>\n",
       "      <td>0.939351</td>\n",
       "      <td>991.02</td>\n",
       "      <td>406.871172</td>\n",
       "      <td>0.006614</td>\n",
       "      <td>100.0</td>\n",
       "      <td>-144.740653</td>\n",
       "      <td>NaN</td>\n",
       "      <td>-99.338567</td>\n",
       "      <td>NaN</td>\n",
       "    </tr>\n",
       "    <tr>\n",
       "      <th>2</th>\n",
       "      <td>BI-RRT*</td>\n",
       "      <td>2</td>\n",
       "      <td>1.00</td>\n",
       "      <td>0.066173</td>\n",
       "      <td>236.53</td>\n",
       "      <td>260.607438</td>\n",
       "      <td>0.010564</td>\n",
       "      <td>0.0</td>\n",
       "      <td>69.133408</td>\n",
       "      <td>14.637322</td>\n",
       "      <td>173.527568</td>\n",
       "      <td>24.535125</td>\n",
       "    </tr>\n",
       "    <tr>\n",
       "      <th>3</th>\n",
       "      <td>BI-RRT*</td>\n",
       "      <td>3</td>\n",
       "      <td>1.00</td>\n",
       "      <td>0.096207</td>\n",
       "      <td>241.23</td>\n",
       "      <td>131.681728</td>\n",
       "      <td>0.021882</td>\n",
       "      <td>0.0</td>\n",
       "      <td>-39.760503</td>\n",
       "      <td>13.815689</td>\n",
       "      <td>181.096595</td>\n",
       "      <td>-8.259530</td>\n",
       "    </tr>\n",
       "    <tr>\n",
       "      <th>0</th>\n",
       "      <td>Informed-RRT*</td>\n",
       "      <td>0</td>\n",
       "      <td>1.00</td>\n",
       "      <td>0.682037</td>\n",
       "      <td>752.26</td>\n",
       "      <td>149.522436</td>\n",
       "      <td>0.029711</td>\n",
       "      <td>0.0</td>\n",
       "      <td>-1834.469714</td>\n",
       "      <td>20.500964</td>\n",
       "      <td>375.083842</td>\n",
       "      <td>-544.365302</td>\n",
       "    </tr>\n",
       "    <tr>\n",
       "      <th>1</th>\n",
       "      <td>Informed-RRT*</td>\n",
       "      <td>1</td>\n",
       "      <td>0.42</td>\n",
       "      <td>3.149493</td>\n",
       "      <td>2376.59</td>\n",
       "      <td>373.522374</td>\n",
       "      <td>0.584920</td>\n",
       "      <td>42.0</td>\n",
       "      <td>-720.576273</td>\n",
       "      <td>NaN</td>\n",
       "      <td>-41.508049</td>\n",
       "      <td>NaN</td>\n",
       "    </tr>\n",
       "    <tr>\n",
       "      <th>2</th>\n",
       "      <td>Informed-RRT*</td>\n",
       "      <td>2</td>\n",
       "      <td>1.00</td>\n",
       "      <td>0.370871</td>\n",
       "      <td>1224.86</td>\n",
       "      <td>221.645854</td>\n",
       "      <td>0.021237</td>\n",
       "      <td>0.0</td>\n",
       "      <td>-72.995148</td>\n",
       "      <td>27.399296</td>\n",
       "      <td>449.872110</td>\n",
       "      <td>-14.169325</td>\n",
       "    </tr>\n",
       "    <tr>\n",
       "      <th>3</th>\n",
       "      <td>Informed-RRT*</td>\n",
       "      <td>3</td>\n",
       "      <td>1.00</td>\n",
       "      <td>0.179538</td>\n",
       "      <td>837.39</td>\n",
       "      <td>114.645859</td>\n",
       "      <td>0.041915</td>\n",
       "      <td>0.0</td>\n",
       "      <td>-160.816990</td>\n",
       "      <td>24.965487</td>\n",
       "      <td>438.431447</td>\n",
       "      <td>-41.059842</td>\n",
       "    </tr>\n",
       "    <tr>\n",
       "      <th>0</th>\n",
       "      <td>Informed-RRT*-Connect</td>\n",
       "      <td>0</td>\n",
       "      <td>1.00</td>\n",
       "      <td>0.891023</td>\n",
       "      <td>498.01</td>\n",
       "      <td>150.459166</td>\n",
       "      <td>0.036238</td>\n",
       "      <td>0.0</td>\n",
       "      <td>-2427.217454</td>\n",
       "      <td>20.002917</td>\n",
       "      <td>479.458583</td>\n",
       "      <td>-721.767360</td>\n",
       "    </tr>\n",
       "    <tr>\n",
       "      <th>1</th>\n",
       "      <td>Informed-RRT*-Connect</td>\n",
       "      <td>1</td>\n",
       "      <td>0.98</td>\n",
       "      <td>3.011959</td>\n",
       "      <td>1045.81</td>\n",
       "      <td>385.133193</td>\n",
       "      <td>0.035209</td>\n",
       "      <td>98.0</td>\n",
       "      <td>-684.742899</td>\n",
       "      <td>NaN</td>\n",
       "      <td>-96.479126</td>\n",
       "      <td>NaN</td>\n",
       "    </tr>\n",
       "    <tr>\n",
       "      <th>2</th>\n",
       "      <td>Informed-RRT*-Connect</td>\n",
       "      <td>2</td>\n",
       "      <td>1.00</td>\n",
       "      <td>0.455839</td>\n",
       "      <td>583.13</td>\n",
       "      <td>230.629532</td>\n",
       "      <td>0.028593</td>\n",
       "      <td>0.0</td>\n",
       "      <td>-112.629095</td>\n",
       "      <td>24.456667</td>\n",
       "      <td>640.346355</td>\n",
       "      <td>-25.695663</td>\n",
       "    </tr>\n",
       "    <tr>\n",
       "      <th>3</th>\n",
       "      <td>Informed-RRT*-Connect</td>\n",
       "      <td>3</td>\n",
       "      <td>1.00</td>\n",
       "      <td>0.644071</td>\n",
       "      <td>554.15</td>\n",
       "      <td>115.602787</td>\n",
       "      <td>0.067470</td>\n",
       "      <td>0.0</td>\n",
       "      <td>-835.649748</td>\n",
       "      <td>24.339187</td>\n",
       "      <td>766.703878</td>\n",
       "      <td>-241.993567</td>\n",
       "    </tr>\n",
       "    <tr>\n",
       "      <th>0</th>\n",
       "      <td>Bidirectional-Informed-RRT*</td>\n",
       "      <td>0</td>\n",
       "      <td>1.00</td>\n",
       "      <td>0.198476</td>\n",
       "      <td>443.08</td>\n",
       "      <td>152.189783</td>\n",
       "      <td>0.032707</td>\n",
       "      <td>0.0</td>\n",
       "      <td>-462.939875</td>\n",
       "      <td>19.082772</td>\n",
       "      <td>422.990476</td>\n",
       "      <td>-132.950456</td>\n",
       "    </tr>\n",
       "    <tr>\n",
       "      <th>1</th>\n",
       "      <td>Bidirectional-Informed-RRT*</td>\n",
       "      <td>1</td>\n",
       "      <td>1.00</td>\n",
       "      <td>0.587318</td>\n",
       "      <td>1044.63</td>\n",
       "      <td>403.448162</td>\n",
       "      <td>0.007151</td>\n",
       "      <td>100.0</td>\n",
       "      <td>-53.021275</td>\n",
       "      <td>NaN</td>\n",
       "      <td>-99.284899</td>\n",
       "      <td>NaN</td>\n",
       "    </tr>\n",
       "    <tr>\n",
       "      <th>2</th>\n",
       "      <td>Bidirectional-Informed-RRT*</td>\n",
       "      <td>2</td>\n",
       "      <td>1.00</td>\n",
       "      <td>0.100749</td>\n",
       "      <td>504.52</td>\n",
       "      <td>244.933845</td>\n",
       "      <td>0.017450</td>\n",
       "      <td>0.0</td>\n",
       "      <td>53.005021</td>\n",
       "      <td>19.771251</td>\n",
       "      <td>351.814911</td>\n",
       "      <td>21.614831</td>\n",
       "    </tr>\n",
       "    <tr>\n",
       "      <th>3</th>\n",
       "      <td>Bidirectional-Informed-RRT*</td>\n",
       "      <td>3</td>\n",
       "      <td>1.00</td>\n",
       "      <td>0.136729</td>\n",
       "      <td>535.38</td>\n",
       "      <td>119.836747</td>\n",
       "      <td>0.039379</td>\n",
       "      <td>0.0</td>\n",
       "      <td>-98.628390</td>\n",
       "      <td>21.568105</td>\n",
       "      <td>405.859575</td>\n",
       "      <td>-23.245598</td>\n",
       "    </tr>\n",
       "    <tr>\n",
       "      <th>0</th>\n",
       "      <td>Improved-RRT*-Connect</td>\n",
       "      <td>0</td>\n",
       "      <td>1.00</td>\n",
       "      <td>0.148987</td>\n",
       "      <td>351.12</td>\n",
       "      <td>153.180390</td>\n",
       "      <td>0.033074</td>\n",
       "      <td>0.0</td>\n",
       "      <td>-322.573098</td>\n",
       "      <td>18.556079</td>\n",
       "      <td>428.858386</td>\n",
       "      <td>-90.916422</td>\n",
       "    </tr>\n",
       "    <tr>\n",
       "      <th>1</th>\n",
       "      <td>Improved-RRT*-Connect</td>\n",
       "      <td>1</td>\n",
       "      <td>0.92</td>\n",
       "      <td>0.628170</td>\n",
       "      <td>1069.91</td>\n",
       "      <td>396.054457</td>\n",
       "      <td>0.086717</td>\n",
       "      <td>92.0</td>\n",
       "      <td>-63.664824</td>\n",
       "      <td>NaN</td>\n",
       "      <td>-91.328337</td>\n",
       "      <td>NaN</td>\n",
       "    </tr>\n",
       "    <tr>\n",
       "      <th>2</th>\n",
       "      <td>Improved-RRT*-Connect</td>\n",
       "      <td>2</td>\n",
       "      <td>1.00</td>\n",
       "      <td>0.141351</td>\n",
       "      <td>616.21</td>\n",
       "      <td>238.432035</td>\n",
       "      <td>0.016930</td>\n",
       "      <td>0.0</td>\n",
       "      <td>34.066077</td>\n",
       "      <td>21.900936</td>\n",
       "      <td>338.359806</td>\n",
       "      <td>16.291809</td>\n",
       "    </tr>\n",
       "    <tr>\n",
       "      <th>3</th>\n",
       "      <td>Improved-RRT*-Connect</td>\n",
       "      <td>3</td>\n",
       "      <td>1.00</td>\n",
       "      <td>0.158029</td>\n",
       "      <td>616.86</td>\n",
       "      <td>119.803554</td>\n",
       "      <td>0.040191</td>\n",
       "      <td>0.0</td>\n",
       "      <td>-129.570902</td>\n",
       "      <td>21.589830</td>\n",
       "      <td>416.283024</td>\n",
       "      <td>-32.471890</td>\n",
       "    </tr>\n",
       "  </tbody>\n",
       "</table>\n",
       "</div>"
      ],
      "text/plain": [
       "                      alg_name  map_id  success_rate  time_avg  num_nodes_avg  \\\n",
       "0                          RRT       0          1.00  0.035257         461.98   \n",
       "1                          RRT       1          0.00  0.383815        1704.46   \n",
       "2                          RRT       2          1.00  0.214382        1646.97   \n",
       "3                          RRT       3          1.00  0.068837         839.78   \n",
       "0                         RRT*       0          1.00  0.069093         432.49   \n",
       "1                         RRT*       1          0.00  0.648108        1683.19   \n",
       "2                         RRT*       2          1.00  0.425404        1630.38   \n",
       "3                         RRT*       3          1.00  0.125224         800.93   \n",
       "0                  RRT-Connect       0          1.00  0.017552         116.02   \n",
       "1                  RRT-Connect       1          1.00  0.200972        1050.80   \n",
       "2                  RRT-Connect       2          1.00  0.019704         229.98   \n",
       "3                  RRT-Connect       3          1.00  0.021458         276.42   \n",
       "0                 RRT*-Connect       0          1.00  0.010660         119.31   \n",
       "1                 RRT*-Connect       1          1.00  0.382580        1019.90   \n",
       "2                 RRT*-Connect       2          1.00  0.029105         268.02   \n",
       "3                 RRT*-Connect       3          1.00  0.031657         288.61   \n",
       "0                       BI-RRT       0          1.00  0.003128          68.28   \n",
       "1                       BI-RRT       1          1.00  0.122854         997.55   \n",
       "2                       BI-RRT       2          1.00  0.008949         222.73   \n",
       "3                       BI-RRT       3          1.00  0.008806         174.77   \n",
       "0                      BI-RRT*       0          1.00  0.020985          84.92   \n",
       "1                      BI-RRT*       1          1.00  0.939351         991.02   \n",
       "2                      BI-RRT*       2          1.00  0.066173         236.53   \n",
       "3                      BI-RRT*       3          1.00  0.096207         241.23   \n",
       "0                Informed-RRT*       0          1.00  0.682037         752.26   \n",
       "1                Informed-RRT*       1          0.42  3.149493        2376.59   \n",
       "2                Informed-RRT*       2          1.00  0.370871        1224.86   \n",
       "3                Informed-RRT*       3          1.00  0.179538         837.39   \n",
       "0        Informed-RRT*-Connect       0          1.00  0.891023         498.01   \n",
       "1        Informed-RRT*-Connect       1          0.98  3.011959        1045.81   \n",
       "2        Informed-RRT*-Connect       2          1.00  0.455839         583.13   \n",
       "3        Informed-RRT*-Connect       3          1.00  0.644071         554.15   \n",
       "0  Bidirectional-Informed-RRT*       0          1.00  0.198476         443.08   \n",
       "1  Bidirectional-Informed-RRT*       1          1.00  0.587318        1044.63   \n",
       "2  Bidirectional-Informed-RRT*       2          1.00  0.100749         504.52   \n",
       "3  Bidirectional-Informed-RRT*       3          1.00  0.136729         535.38   \n",
       "0        Improved-RRT*-Connect       0          1.00  0.148987         351.12   \n",
       "1        Improved-RRT*-Connect       1          0.92  0.628170        1069.91   \n",
       "2        Improved-RRT*-Connect       2          1.00  0.141351         616.21   \n",
       "3        Improved-RRT*-Connect       3          1.00  0.158029         616.86   \n",
       "\n",
       "   path_length_avg  smoothness_avg  success_improvement  time_improvement  \\\n",
       "0       188.080816        0.006254                  0.0         -0.000000   \n",
       "1              NaN        1.000000                  0.0         -0.000000   \n",
       "2       305.294357        0.003862                  0.0         -0.000000   \n",
       "3       152.790835        0.007785                  0.0         -0.000000   \n",
       "0       157.533630        0.014613                  0.0        -95.968119   \n",
       "1              NaN        1.000000                  0.0        -68.859471   \n",
       "2       225.392740        0.011241                  0.0        -98.432276   \n",
       "3       116.560962        0.021343                  0.0        -81.914782   \n",
       "0       196.961209        0.011149                  0.0         50.216258   \n",
       "1       532.772541        0.003773                100.0         47.638209   \n",
       "2       297.971598        0.007387                  0.0         90.809081   \n",
       "3       161.699617        0.013741                  0.0         68.827111   \n",
       "0       174.536014        0.016466                  0.0         69.764509   \n",
       "1       402.654093        0.006680                100.0          0.321630   \n",
       "2       259.517051        0.010988                  0.0         86.423622   \n",
       "3       132.873277        0.021789                  0.0         54.011314   \n",
       "0       175.134479        0.010958                  0.0         91.126629   \n",
       "1       538.847689        0.003646                100.0         67.991237   \n",
       "2       306.991796        0.006395                  0.0         95.825559   \n",
       "3       160.205102        0.012799                  0.0         87.207079   \n",
       "0       164.114429        0.018005                  0.0         40.479782   \n",
       "1       406.871172        0.006614                100.0       -144.740653   \n",
       "2       260.607438        0.010564                  0.0         69.133408   \n",
       "3       131.681728        0.021882                  0.0        -39.760503   \n",
       "0       149.522436        0.029711                  0.0      -1834.469714   \n",
       "1       373.522374        0.584920                 42.0       -720.576273   \n",
       "2       221.645854        0.021237                  0.0        -72.995148   \n",
       "3       114.645859        0.041915                  0.0       -160.816990   \n",
       "0       150.459166        0.036238                  0.0      -2427.217454   \n",
       "1       385.133193        0.035209                 98.0       -684.742899   \n",
       "2       230.629532        0.028593                  0.0       -112.629095   \n",
       "3       115.602787        0.067470                  0.0       -835.649748   \n",
       "0       152.189783        0.032707                  0.0       -462.939875   \n",
       "1       403.448162        0.007151                100.0        -53.021275   \n",
       "2       244.933845        0.017450                  0.0         53.005021   \n",
       "3       119.836747        0.039379                  0.0        -98.628390   \n",
       "0       153.180390        0.033074                  0.0       -322.573098   \n",
       "1       396.054457        0.086717                 92.0        -63.664824   \n",
       "2       238.432035        0.016930                  0.0         34.066077   \n",
       "3       119.803554        0.040191                  0.0       -129.570902   \n",
       "\n",
       "   length_improvement  smoothness_improvement  objective_score  \n",
       "0           -0.000000                0.000000         0.000000  \n",
       "1                 NaN                0.000000              NaN  \n",
       "2           -0.000000                0.000000         0.000000  \n",
       "3           -0.000000                0.000000         0.000000  \n",
       "0           16.241521              133.670537       -24.873779  \n",
       "1                 NaN                0.000000              NaN  \n",
       "2           26.171993              191.051088       -23.340029  \n",
       "3           23.712072              174.162207       -18.961209  \n",
       "0           -4.721584               78.282236        14.511972  \n",
       "1                 NaN              -99.622699              NaN  \n",
       "2            2.398590               91.280549        28.178845  \n",
       "3           -5.830705               76.508585        19.864535  \n",
       "0            7.201586              163.291748        23.186128  \n",
       "1                 NaN              -99.331971              NaN  \n",
       "2           14.994481              184.513852        29.848552  \n",
       "3           13.035833              179.896702        19.710044  \n",
       "0            6.883390               75.215359        29.090744  \n",
       "1                 NaN              -99.635383              NaN  \n",
       "2           -0.556001               65.588698        28.964411  \n",
       "3           -4.852560               64.411870        25.513671  \n",
       "0           12.742600              187.903211        15.631971  \n",
       "1                 NaN              -99.338567              NaN  \n",
       "2           14.637322              173.527568        24.535125  \n",
       "3           13.815689              181.096595        -8.259530  \n",
       "0           20.500964              375.083842      -544.365302  \n",
       "1                 NaN              -41.508049              NaN  \n",
       "2           27.399296              449.872110       -14.169325  \n",
       "3           24.965487              438.431447       -41.059842  \n",
       "0           20.002917              479.458583      -721.767360  \n",
       "1                 NaN              -96.479126              NaN  \n",
       "2           24.456667              640.346355       -25.695663  \n",
       "3           24.339187              766.703878      -241.993567  \n",
       "0           19.082772              422.990476      -132.950456  \n",
       "1                 NaN              -99.284899              NaN  \n",
       "2           19.771251              351.814911        21.614831  \n",
       "3           21.568105              405.859575       -23.245598  \n",
       "0           18.556079              428.858386       -90.916422  \n",
       "1                 NaN              -91.328337              NaN  \n",
       "2           21.900936              338.359806        16.291809  \n",
       "3           21.589830              416.283024       -32.471890  "
      ]
     },
     "execution_count": 19,
     "metadata": {},
     "output_type": "execute_result"
    }
   ],
   "source": [
    "total_df1"
   ]
  },
  {
   "cell_type": "code",
   "execution_count": null,
   "id": "7aad3856",
   "metadata": {},
   "outputs": [
    {
     "data": {
      "text/html": [
       "<div>\n",
       "<style scoped>\n",
       "    .dataframe tbody tr th:only-of-type {\n",
       "        vertical-align: middle;\n",
       "    }\n",
       "\n",
       "    .dataframe tbody tr th {\n",
       "        vertical-align: top;\n",
       "    }\n",
       "\n",
       "    .dataframe thead th {\n",
       "        text-align: right;\n",
       "    }\n",
       "</style>\n",
       "<table border=\"1\" class=\"dataframe\">\n",
       "  <thead>\n",
       "    <tr style=\"text-align: right;\">\n",
       "      <th></th>\n",
       "      <th>alg_name</th>\n",
       "      <th>map_id</th>\n",
       "      <th>success_rate</th>\n",
       "      <th>time_avg</th>\n",
       "      <th>num_nodes_avg</th>\n",
       "      <th>path_length_avg</th>\n",
       "      <th>smoothness_avg</th>\n",
       "      <th>success_improvement</th>\n",
       "      <th>time_improvement</th>\n",
       "      <th>length_improvement</th>\n",
       "      <th>smoothness_improvement</th>\n",
       "      <th>objective_score</th>\n",
       "    </tr>\n",
       "  </thead>\n",
       "  <tbody>\n",
       "    <tr>\n",
       "      <th>1</th>\n",
       "      <td>RRT</td>\n",
       "      <td>1</td>\n",
       "      <td>0.00</td>\n",
       "      <td>0.383815</td>\n",
       "      <td>1704.46</td>\n",
       "      <td>NaN</td>\n",
       "      <td>1.000000</td>\n",
       "      <td>0.0</td>\n",
       "      <td>-0.000000</td>\n",
       "      <td>NaN</td>\n",
       "      <td>0.000000</td>\n",
       "      <td>NaN</td>\n",
       "    </tr>\n",
       "    <tr>\n",
       "      <th>1</th>\n",
       "      <td>RRT*</td>\n",
       "      <td>1</td>\n",
       "      <td>0.00</td>\n",
       "      <td>0.648108</td>\n",
       "      <td>1683.19</td>\n",
       "      <td>NaN</td>\n",
       "      <td>1.000000</td>\n",
       "      <td>0.0</td>\n",
       "      <td>-68.859471</td>\n",
       "      <td>NaN</td>\n",
       "      <td>0.000000</td>\n",
       "      <td>NaN</td>\n",
       "    </tr>\n",
       "    <tr>\n",
       "      <th>1</th>\n",
       "      <td>RRT-Connect</td>\n",
       "      <td>1</td>\n",
       "      <td>1.00</td>\n",
       "      <td>0.200972</td>\n",
       "      <td>1050.80</td>\n",
       "      <td>532.772541</td>\n",
       "      <td>0.003773</td>\n",
       "      <td>100.0</td>\n",
       "      <td>47.638209</td>\n",
       "      <td>NaN</td>\n",
       "      <td>-99.622699</td>\n",
       "      <td>NaN</td>\n",
       "    </tr>\n",
       "    <tr>\n",
       "      <th>1</th>\n",
       "      <td>RRT*-Connect</td>\n",
       "      <td>1</td>\n",
       "      <td>1.00</td>\n",
       "      <td>0.382580</td>\n",
       "      <td>1019.90</td>\n",
       "      <td>402.654093</td>\n",
       "      <td>0.006680</td>\n",
       "      <td>100.0</td>\n",
       "      <td>0.321630</td>\n",
       "      <td>NaN</td>\n",
       "      <td>-99.331971</td>\n",
       "      <td>NaN</td>\n",
       "    </tr>\n",
       "    <tr>\n",
       "      <th>1</th>\n",
       "      <td>BI-RRT</td>\n",
       "      <td>1</td>\n",
       "      <td>1.00</td>\n",
       "      <td>0.122854</td>\n",
       "      <td>997.55</td>\n",
       "      <td>538.847689</td>\n",
       "      <td>0.003646</td>\n",
       "      <td>100.0</td>\n",
       "      <td>67.991237</td>\n",
       "      <td>NaN</td>\n",
       "      <td>-99.635383</td>\n",
       "      <td>NaN</td>\n",
       "    </tr>\n",
       "    <tr>\n",
       "      <th>1</th>\n",
       "      <td>BI-RRT*</td>\n",
       "      <td>1</td>\n",
       "      <td>1.00</td>\n",
       "      <td>0.939351</td>\n",
       "      <td>991.02</td>\n",
       "      <td>406.871172</td>\n",
       "      <td>0.006614</td>\n",
       "      <td>100.0</td>\n",
       "      <td>-144.740653</td>\n",
       "      <td>NaN</td>\n",
       "      <td>-99.338567</td>\n",
       "      <td>NaN</td>\n",
       "    </tr>\n",
       "    <tr>\n",
       "      <th>1</th>\n",
       "      <td>Informed-RRT*</td>\n",
       "      <td>1</td>\n",
       "      <td>0.42</td>\n",
       "      <td>3.149493</td>\n",
       "      <td>2376.59</td>\n",
       "      <td>373.522374</td>\n",
       "      <td>0.584920</td>\n",
       "      <td>42.0</td>\n",
       "      <td>-720.576273</td>\n",
       "      <td>NaN</td>\n",
       "      <td>-41.508049</td>\n",
       "      <td>NaN</td>\n",
       "    </tr>\n",
       "    <tr>\n",
       "      <th>1</th>\n",
       "      <td>Informed-RRT*-Connect</td>\n",
       "      <td>1</td>\n",
       "      <td>0.98</td>\n",
       "      <td>3.011959</td>\n",
       "      <td>1045.81</td>\n",
       "      <td>385.133193</td>\n",
       "      <td>0.035209</td>\n",
       "      <td>98.0</td>\n",
       "      <td>-684.742899</td>\n",
       "      <td>NaN</td>\n",
       "      <td>-96.479126</td>\n",
       "      <td>NaN</td>\n",
       "    </tr>\n",
       "    <tr>\n",
       "      <th>1</th>\n",
       "      <td>Bidirectional-Informed-RRT*</td>\n",
       "      <td>1</td>\n",
       "      <td>1.00</td>\n",
       "      <td>0.587318</td>\n",
       "      <td>1044.63</td>\n",
       "      <td>403.448162</td>\n",
       "      <td>0.007151</td>\n",
       "      <td>100.0</td>\n",
       "      <td>-53.021275</td>\n",
       "      <td>NaN</td>\n",
       "      <td>-99.284899</td>\n",
       "      <td>NaN</td>\n",
       "    </tr>\n",
       "    <tr>\n",
       "      <th>1</th>\n",
       "      <td>Improved-RRT*-Connect</td>\n",
       "      <td>1</td>\n",
       "      <td>0.92</td>\n",
       "      <td>0.628170</td>\n",
       "      <td>1069.91</td>\n",
       "      <td>396.054457</td>\n",
       "      <td>0.086717</td>\n",
       "      <td>92.0</td>\n",
       "      <td>-63.664824</td>\n",
       "      <td>NaN</td>\n",
       "      <td>-91.328337</td>\n",
       "      <td>NaN</td>\n",
       "    </tr>\n",
       "  </tbody>\n",
       "</table>\n",
       "</div>"
      ],
      "text/plain": [
       "                      alg_name  map_id  success_rate  time_avg  num_nodes_avg  \\\n",
       "1                          RRT       1          0.00  0.383815        1704.46   \n",
       "1                         RRT*       1          0.00  0.648108        1683.19   \n",
       "1                  RRT-Connect       1          1.00  0.200972        1050.80   \n",
       "1                 RRT*-Connect       1          1.00  0.382580        1019.90   \n",
       "1                       BI-RRT       1          1.00  0.122854         997.55   \n",
       "1                      BI-RRT*       1          1.00  0.939351         991.02   \n",
       "1                Informed-RRT*       1          0.42  3.149493        2376.59   \n",
       "1        Informed-RRT*-Connect       1          0.98  3.011959        1045.81   \n",
       "1  Bidirectional-Informed-RRT*       1          1.00  0.587318        1044.63   \n",
       "1        Improved-RRT*-Connect       1          0.92  0.628170        1069.91   \n",
       "\n",
       "   path_length_avg  smoothness_avg  success_improvement  time_improvement  \\\n",
       "1              NaN        1.000000                  0.0         -0.000000   \n",
       "1              NaN        1.000000                  0.0        -68.859471   \n",
       "1       532.772541        0.003773                100.0         47.638209   \n",
       "1       402.654093        0.006680                100.0          0.321630   \n",
       "1       538.847689        0.003646                100.0         67.991237   \n",
       "1       406.871172        0.006614                100.0       -144.740653   \n",
       "1       373.522374        0.584920                 42.0       -720.576273   \n",
       "1       385.133193        0.035209                 98.0       -684.742899   \n",
       "1       403.448162        0.007151                100.0        -53.021275   \n",
       "1       396.054457        0.086717                 92.0        -63.664824   \n",
       "\n",
       "   length_improvement  smoothness_improvement  objective_score  \n",
       "1                 NaN                0.000000              NaN  \n",
       "1                 NaN                0.000000              NaN  \n",
       "1                 NaN              -99.622699              NaN  \n",
       "1                 NaN              -99.331971              NaN  \n",
       "1                 NaN              -99.635383              NaN  \n",
       "1                 NaN              -99.338567              NaN  \n",
       "1                 NaN              -41.508049              NaN  \n",
       "1                 NaN              -96.479126              NaN  \n",
       "1                 NaN              -99.284899              NaN  \n",
       "1                 NaN              -91.328337              NaN  "
      ]
     },
     "execution_count": 16,
     "metadata": {},
     "output_type": "execute_result"
    }
   ],
   "source": [
    "total_df1[total_df['map_id'] == 1]"
   ]
  },
  {
   "cell_type": "code",
   "execution_count": 20,
   "id": "8d23c668",
   "metadata": {},
   "outputs": [
    {
     "data": {
      "text/html": [
       "<div>\n",
       "<style scoped>\n",
       "    .dataframe tbody tr th:only-of-type {\n",
       "        vertical-align: middle;\n",
       "    }\n",
       "\n",
       "    .dataframe tbody tr th {\n",
       "        vertical-align: top;\n",
       "    }\n",
       "\n",
       "    .dataframe thead th {\n",
       "        text-align: right;\n",
       "    }\n",
       "</style>\n",
       "<table border=\"1\" class=\"dataframe\">\n",
       "  <thead>\n",
       "    <tr style=\"text-align: right;\">\n",
       "      <th></th>\n",
       "      <th>map_id</th>\n",
       "      <th>success_rate</th>\n",
       "      <th>time_avg</th>\n",
       "      <th>num_nodes_avg</th>\n",
       "      <th>path_length_avg</th>\n",
       "      <th>smoothness_avg</th>\n",
       "      <th>success_improvement</th>\n",
       "      <th>time_improvement</th>\n",
       "      <th>length_improvement</th>\n",
       "      <th>smoothness_improvement</th>\n",
       "      <th>objective_score</th>\n",
       "    </tr>\n",
       "    <tr>\n",
       "      <th>alg_name</th>\n",
       "      <th></th>\n",
       "      <th></th>\n",
       "      <th></th>\n",
       "      <th></th>\n",
       "      <th></th>\n",
       "      <th></th>\n",
       "      <th></th>\n",
       "      <th></th>\n",
       "      <th></th>\n",
       "      <th></th>\n",
       "      <th></th>\n",
       "    </tr>\n",
       "  </thead>\n",
       "  <tbody>\n",
       "    <tr>\n",
       "      <th>BI-RRT</th>\n",
       "      <td>1.0</td>\n",
       "      <td>1.0</td>\n",
       "      <td>0.016286</td>\n",
       "      <td>155.170000</td>\n",
       "      <td>213.941368</td>\n",
       "      <td>0.010032</td>\n",
       "      <td>0.0</td>\n",
       "      <td>88.471336</td>\n",
       "      <td>-0.007719</td>\n",
       "      <td>67.326861</td>\n",
       "      <td>26.876491</td>\n",
       "    </tr>\n",
       "    <tr>\n",
       "      <th>BI-RRT*</th>\n",
       "      <td>1.0</td>\n",
       "      <td>1.0</td>\n",
       "      <td>0.055723</td>\n",
       "      <td>175.796667</td>\n",
       "      <td>186.840439</td>\n",
       "      <td>0.016921</td>\n",
       "      <td>0.0</td>\n",
       "      <td>49.345831</td>\n",
       "      <td>12.775225</td>\n",
       "      <td>180.716786</td>\n",
       "      <td>18.262378</td>\n",
       "    </tr>\n",
       "    <tr>\n",
       "      <th>Bidirectional-Informed-RRT*</th>\n",
       "      <td>1.0</td>\n",
       "      <td>1.0</td>\n",
       "      <td>0.149482</td>\n",
       "      <td>500.273333</td>\n",
       "      <td>171.859631</td>\n",
       "      <td>0.029741</td>\n",
       "      <td>0.0</td>\n",
       "      <td>-95.435586</td>\n",
       "      <td>19.815096</td>\n",
       "      <td>389.512360</td>\n",
       "      <td>-22.720095</td>\n",
       "    </tr>\n",
       "    <tr>\n",
       "      <th>Improved-RRT*-Connect</th>\n",
       "      <td>1.0</td>\n",
       "      <td>1.0</td>\n",
       "      <td>0.146029</td>\n",
       "      <td>518.830000</td>\n",
       "      <td>170.811093</td>\n",
       "      <td>0.030153</td>\n",
       "      <td>0.0</td>\n",
       "      <td>-62.089841</td>\n",
       "      <td>19.889434</td>\n",
       "      <td>394.092078</td>\n",
       "      <td>-12.678605</td>\n",
       "    </tr>\n",
       "    <tr>\n",
       "      <th>Informed-RRT*</th>\n",
       "      <td>1.0</td>\n",
       "      <td>1.0</td>\n",
       "      <td>0.544449</td>\n",
       "      <td>930.400000</td>\n",
       "      <td>161.982690</td>\n",
       "      <td>0.030676</td>\n",
       "      <td>0.0</td>\n",
       "      <td>-513.705904</td>\n",
       "      <td>23.838074</td>\n",
       "      <td>415.824461</td>\n",
       "      <td>-147.265034</td>\n",
       "    </tr>\n",
       "    <tr>\n",
       "      <th>Informed-RRT*-Connect</th>\n",
       "      <td>1.0</td>\n",
       "      <td>1.0</td>\n",
       "      <td>0.631165</td>\n",
       "      <td>541.140000</td>\n",
       "      <td>165.450936</td>\n",
       "      <td>0.044705</td>\n",
       "      <td>0.0</td>\n",
       "      <td>-712.473861</td>\n",
       "      <td>22.505155</td>\n",
       "      <td>634.562555</td>\n",
       "      <td>-206.068314</td>\n",
       "    </tr>\n",
       "    <tr>\n",
       "      <th>RRT</th>\n",
       "      <td>1.0</td>\n",
       "      <td>1.0</td>\n",
       "      <td>0.180863</td>\n",
       "      <td>986.326667</td>\n",
       "      <td>214.254234</td>\n",
       "      <td>0.005997</td>\n",
       "      <td>0.0</td>\n",
       "      <td>0.000000</td>\n",
       "      <td>0.000000</td>\n",
       "      <td>0.000000</td>\n",
       "      <td>0.000000</td>\n",
       "    </tr>\n",
       "    <tr>\n",
       "      <th>RRT*</th>\n",
       "      <td>1.0</td>\n",
       "      <td>1.0</td>\n",
       "      <td>0.471838</td>\n",
       "      <td>958.216667</td>\n",
       "      <td>166.655759</td>\n",
       "      <td>0.015543</td>\n",
       "      <td>0.0</td>\n",
       "      <td>-177.987660</td>\n",
       "      <td>21.518749</td>\n",
       "      <td>162.073757</td>\n",
       "      <td>-48.282179</td>\n",
       "    </tr>\n",
       "    <tr>\n",
       "      <th>RRT*-Connect</th>\n",
       "      <td>1.0</td>\n",
       "      <td>1.0</td>\n",
       "      <td>0.050163</td>\n",
       "      <td>227.040000</td>\n",
       "      <td>187.996802</td>\n",
       "      <td>0.016492</td>\n",
       "      <td>0.0</td>\n",
       "      <td>59.113488</td>\n",
       "      <td>11.617421</td>\n",
       "      <td>176.692995</td>\n",
       "      <td>20.940995</td>\n",
       "    </tr>\n",
       "    <tr>\n",
       "      <th>RRT-Connect</th>\n",
       "      <td>1.0</td>\n",
       "      <td>1.0</td>\n",
       "      <td>0.030742</td>\n",
       "      <td>197.896667</td>\n",
       "      <td>219.650364</td>\n",
       "      <td>0.010883</td>\n",
       "      <td>0.0</td>\n",
       "      <td>74.047642</td>\n",
       "      <td>-3.437853</td>\n",
       "      <td>82.246663</td>\n",
       "      <td>21.937955</td>\n",
       "    </tr>\n",
       "  </tbody>\n",
       "</table>\n",
       "</div>"
      ],
      "text/plain": [
       "                             map_id  success_rate  time_avg  num_nodes_avg  \\\n",
       "alg_name                                                                     \n",
       "BI-RRT                          1.0           1.0  0.016286     155.170000   \n",
       "BI-RRT*                         1.0           1.0  0.055723     175.796667   \n",
       "Bidirectional-Informed-RRT*     1.0           1.0  0.149482     500.273333   \n",
       "Improved-RRT*-Connect           1.0           1.0  0.146029     518.830000   \n",
       "Informed-RRT*                   1.0           1.0  0.544449     930.400000   \n",
       "Informed-RRT*-Connect           1.0           1.0  0.631165     541.140000   \n",
       "RRT                             1.0           1.0  0.180863     986.326667   \n",
       "RRT*                            1.0           1.0  0.471838     958.216667   \n",
       "RRT*-Connect                    1.0           1.0  0.050163     227.040000   \n",
       "RRT-Connect                     1.0           1.0  0.030742     197.896667   \n",
       "\n",
       "                             path_length_avg  smoothness_avg  \\\n",
       "alg_name                                                       \n",
       "BI-RRT                            213.941368        0.010032   \n",
       "BI-RRT*                           186.840439        0.016921   \n",
       "Bidirectional-Informed-RRT*       171.859631        0.029741   \n",
       "Improved-RRT*-Connect             170.811093        0.030153   \n",
       "Informed-RRT*                     161.982690        0.030676   \n",
       "Informed-RRT*-Connect             165.450936        0.044705   \n",
       "RRT                               214.254234        0.005997   \n",
       "RRT*                              166.655759        0.015543   \n",
       "RRT*-Connect                      187.996802        0.016492   \n",
       "RRT-Connect                       219.650364        0.010883   \n",
       "\n",
       "                             success_improvement  time_improvement  \\\n",
       "alg_name                                                             \n",
       "BI-RRT                                       0.0         88.471336   \n",
       "BI-RRT*                                      0.0         49.345831   \n",
       "Bidirectional-Informed-RRT*                  0.0        -95.435586   \n",
       "Improved-RRT*-Connect                        0.0        -62.089841   \n",
       "Informed-RRT*                                0.0       -513.705904   \n",
       "Informed-RRT*-Connect                        0.0       -712.473861   \n",
       "RRT                                          0.0          0.000000   \n",
       "RRT*                                         0.0       -177.987660   \n",
       "RRT*-Connect                                 0.0         59.113488   \n",
       "RRT-Connect                                  0.0         74.047642   \n",
       "\n",
       "                             length_improvement  smoothness_improvement  \\\n",
       "alg_name                                                                  \n",
       "BI-RRT                                -0.007719               67.326861   \n",
       "BI-RRT*                               12.775225              180.716786   \n",
       "Bidirectional-Informed-RRT*           19.815096              389.512360   \n",
       "Improved-RRT*-Connect                 19.889434              394.092078   \n",
       "Informed-RRT*                         23.838074              415.824461   \n",
       "Informed-RRT*-Connect                 22.505155              634.562555   \n",
       "RRT                                    0.000000                0.000000   \n",
       "RRT*                                  21.518749              162.073757   \n",
       "RRT*-Connect                          11.617421              176.692995   \n",
       "RRT-Connect                           -3.437853               82.246663   \n",
       "\n",
       "                             objective_score  \n",
       "alg_name                                      \n",
       "BI-RRT                             26.876491  \n",
       "BI-RRT*                            18.262378  \n",
       "Bidirectional-Informed-RRT*       -22.720095  \n",
       "Improved-RRT*-Connect             -12.678605  \n",
       "Informed-RRT*                    -147.265034  \n",
       "Informed-RRT*-Connect            -206.068314  \n",
       "RRT                                 0.000000  \n",
       "RRT*                              -48.282179  \n",
       "RRT*-Connect                       20.940995  \n",
       "RRT-Connect                        21.937955  "
      ]
     },
     "execution_count": 20,
     "metadata": {},
     "output_type": "execute_result"
    }
   ],
   "source": [
    "# classic method result\n",
    "grouped_avg = total_df.groupby('alg_name').mean()\n",
    "a = pd.DataFrame(grouped_avg)\n",
    "a"
   ]
  },
  {
   "cell_type": "code",
   "execution_count": 20,
   "id": "706a0a51",
   "metadata": {},
   "outputs": [
    {
     "data": {
      "text/plain": [
       "0.4748154757076811"
      ]
     },
     "execution_count": 20,
     "metadata": {},
     "output_type": "execute_result"
    }
   ],
   "source": [
    "(986.32 - 518)/986.32"
   ]
  },
  {
   "cell_type": "code",
   "execution_count": null,
   "id": "0c0e541b",
   "metadata": {},
   "outputs": [],
   "source": [
    "results = [outputs[35],outputs[195],outputs[265]]"
   ]
  },
  {
   "cell_type": "code",
   "execution_count": null,
   "id": "7da687bd",
   "metadata": {},
   "outputs": [],
   "source": [
    "for pmap, result in zip(maps, results):\n",
    "    \n",
    "    visualize_map_shapes(pmap.grid, obs=pmap.obstacles, start=pmap.start, goal=pmap.goal,\n",
    "                        path=result.path, nodes=list(map(lambda x: x.position, result.nodes)), edges=result.edges)"
   ]
  },
  {
   "cell_type": "code",
   "execution_count": null,
   "id": "01db7603",
   "metadata": {},
   "outputs": [],
   "source": []
  }
 ],
 "metadata": {
  "kernelspec": {
   "display_name": "peoh",
   "language": "python",
   "name": "python3"
  },
  "language_info": {
   "codemirror_mode": {
    "name": "ipython",
    "version": 3
   },
   "file_extension": ".py",
   "mimetype": "text/x-python",
   "name": "python",
   "nbconvert_exporter": "python",
   "pygments_lexer": "ipython3",
   "version": "3.10.18"
  }
 },
 "nbformat": 4,
 "nbformat_minor": 5
}
