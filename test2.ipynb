{
 "cells": [
  {
   "cell_type": "code",
   "execution_count": 5,
   "id": "c96b2583",
   "metadata": {},
   "outputs": [],
   "source": [
    "import numpy as np\n",
    "import random\n",
    "import math\n",
    "from typing import Tuple, Literal, Union, Optional, List, Dict, NamedTuple, Callable, Any, Set\n",
    "from queue import Queue\n",
    "import warnings\n",
    "import sys\n",
    "import json\n",
    "import time\n",
    "import types\n",
    "import pickle\n",
    "import plotly.graph_objs as go\n",
    "import plotly.express as px\n",
    "import pandas as pd\n",
    "import os"
   ]
  },
  {
   "cell_type": "code",
   "execution_count": 7,
   "id": "9abc538c",
   "metadata": {},
   "outputs": [],
   "source": [
    "class Map(NamedTuple):\n",
    "    grid: np.ndarray\n",
    "    start: Union[Tuple[float, float], Tuple[float, float, float]]\n",
    "    goal: Union[Tuple[float, float], Tuple[float, float, float]]\n",
    "    obstacles: List[Union[Tuple[float, float, float, float], Tuple[float, float, float, float, float, float]]] # x, y, width, height or x, y, z, width, height, dimension\n",
    "    size: Union[Tuple[int, int], Tuple[int, int, int]]\n",
    "\n",
    "class PlannerResult(NamedTuple):\n",
    "    success: bool\n",
    "    path: List[Union[Tuple[float, float], Tuple[float, float, float]]]\n",
    "    nodes: List[Union[Tuple[float, float], Tuple[float, float, float]]]\n",
    "    edges: List[Tuple[Tuple[float, ...], Tuple[float, ...]]]  # (parent, child)\n",
    "\n",
    "class Node:\n",
    "    def __init__(self, position, parent=None, cost=0.0):\n",
    "        self.position = position\n",
    "        self.parent = parent\n",
    "        self.cost = cost\n",
    "        self.children = []\n",
    "        self.valid = True  # 장애물 충돌 여부 등\n"
   ]
  },
  {
   "cell_type": "code",
   "execution_count": null,
   "id": "459d812a",
   "metadata": {},
   "outputs": [],
   "source": [
    "class MapGenerator:\n",
    "    def __init__(\n",
    "        self,\n",
    "        map_type: Literal[\"random\", \"multi_narrow\", \"maze\"] = \"random\",\n",
    "        map_size: Union[Tuple[int, int], Tuple[int, int, int]] = (50, 50),\n",
    "        obstacle_percent: float = 0.2,\n",
    "        min_obstacle_size: Union[Tuple[int, int], Tuple[int, int, int]] = (2, 2),\n",
    "        max_obstacle_size: Union[Tuple[int, int], Tuple[int, int, int]] = (5, 5),\n",
    "        max_obstacle_count: Optional[int] = None\n",
    "    ):\n",
    "        self.map_type = map_type\n",
    "        self.map_size = map_size\n",
    "        self.obstacle_percent = obstacle_percent\n",
    "        self.obstacle_list: List[Tuple[int, ...]] = []\n",
    "        self.min_size = min_obstacle_size\n",
    "        self.max_size = max_obstacle_size\n",
    "        self.max_count = max_obstacle_count\n",
    "        self.is_3d = len(map_size) == 3\n",
    "        self.map = self._init_map()\n",
    "        self.start = None\n",
    "        self.goal = None\n",
    "\n",
    "    def _init_map(self):\n",
    "        shape = self.map_size[::-1] if self.is_3d else (self.map_size[1], self.map_size[0])\n",
    "        return np.zeros(shape, dtype=np.uint8)\n",
    "\n",
    "    def generate(self, start: Tuple[int, ...], goal: Tuple[int, ...]) -> Dict[str, Union[np.ndarray, Tuple[int, ...], List[Tuple[int, ...]], Tuple[int, int]]]:\n",
    "        self.start = start\n",
    "        self.goal = goal\n",
    "        tries = 0\n",
    "        max_tries = 100\n",
    "\n",
    "        while tries < max_tries:\n",
    "            self.map = self._init_map()\n",
    "            self.obstacle_list.clear()\n",
    "\n",
    "            if self.map_type == \"maze\":\n",
    "                self.map = self._generate_maze()\n",
    "            elif self.map_type == \"random\":\n",
    "                self._generate_random_obstacles(start, goal)\n",
    "            elif self.map_type == \"multi_narrow\":\n",
    "                self._generate_multi_narrow(start, goal)\n",
    "\n",
    "            if self._path_exists(start, goal):\n",
    "                return Map(\n",
    "                    grid=self.map,\n",
    "                    start=start,\n",
    "                    goal=goal,\n",
    "                    obstacles=self.obstacle_list,\n",
    "                    size=self.map_size\n",
    "                )\n",
    "            tries += 1\n",
    "\n",
    "        raise RuntimeError(\"Failed to generate a connected map after multiple attempts.\")\n",
    "\n",
    "    def _add_obstacle(self, coords: Tuple[int, ...]):\n",
    "        self.obstacle_list.append(coords)\n",
    "\n",
    "    def _path_exists(self, start, goal):\n",
    "        visited = set()\n",
    "        q = Queue()\n",
    "        q.put(start)\n",
    "        visited.add(start)\n",
    "\n",
    "        dims = len(start)\n",
    "        neighbors = [(-1,0), (1,0), (0,-1), (0,1)] if dims == 2 else \\\n",
    "                    [(-1,0,0),(1,0,0),(0,-1,0),(0,1,0),(0,0,-1),(0,0,1)]\n",
    "\n",
    "        while not q.empty():\n",
    "            node = q.get()\n",
    "            if node == goal:\n",
    "                return True\n",
    "\n",
    "            for delta in neighbors:\n",
    "                neighbor = tuple(node[i] + delta[i] for i in range(dims))\n",
    "                if self._in_bounds(neighbor) and neighbor not in visited:\n",
    "                    if self._is_free(neighbor):\n",
    "                        visited.add(neighbor)\n",
    "                        q.put(neighbor)\n",
    "        return False\n",
    "\n",
    "    def _in_bounds(self, p):\n",
    "        if self.is_3d:\n",
    "            z, y, x = p\n",
    "            return 0 <= z < self.map.shape[0] and 0 <= y < self.map.shape[1] and 0 <= x < self.map.shape[2]\n",
    "        else:\n",
    "            y, x = p\n",
    "            return 0 <= y < self.map.shape[0] and 0 <= x < self.map.shape[1]\n",
    "\n",
    "    def _is_free(self, p):\n",
    "        if self.is_3d:\n",
    "            z, y, x = p\n",
    "            return self.map[z, y, x] == 0\n",
    "        else:\n",
    "            y, x = p\n",
    "            return self.map[y, x] == 0\n",
    "\n",
    "    def _is_inside(self, point, x, y, z, ow, oh, od):\n",
    "        px, py, *pz = point\n",
    "        if z is None:\n",
    "            return x <= px < x + ow and y <= py < y + oh\n",
    "        else:\n",
    "            pz = pz[0]\n",
    "            return x <= px < x + ow and y <= py < y + oh and z <= pz < z + od\n",
    "\n",
    "    def _generate_random_obstacles(self, start, goal):\n",
    "        if self.is_3d:\n",
    "            w, h, d = self.map_size\n",
    "            total_voxels = w * h * d\n",
    "            max_obs = int(total_voxels * self.obstacle_percent)\n",
    "            count = 0\n",
    "            for _ in range(10000):\n",
    "                ow = random.randint(self.min_size[0], self.max_size[0])\n",
    "                oh = random.randint(self.min_size[1], self.max_size[1])\n",
    "                od = random.randint(self.min_size[2], self.max_size[2])\n",
    "                x = random.randint(0, w - ow - 1)\n",
    "                y = random.randint(0, h - oh - 1)\n",
    "                z = random.randint(0, d - od - 1)\n",
    "                if np.any(self.map[z:z+od, y:y+oh, x:x+ow]):\n",
    "                    continue\n",
    "                if self._is_inside(start, x, y, z, ow, oh, od) or self._is_inside(goal, x, y, z, ow, oh, od):\n",
    "                    continue\n",
    "                self.map[z:z+od, y:y+oh, x:x+ow] = 1\n",
    "                self._add_obstacle((x, y, z, ow, oh, od))\n",
    "                count += ow * oh * od\n",
    "                if self.max_count and count >= self.max_count:\n",
    "                    break\n",
    "                if count >= max_obs:\n",
    "                    break\n",
    "        else:\n",
    "            w, h = self.map_size\n",
    "            total_cells = w * h\n",
    "            max_obs = int(total_cells * self.obstacle_percent)\n",
    "            count = 0\n",
    "            for _ in range(10000):\n",
    "                ow = random.randint(self.min_size[0], self.max_size[0])\n",
    "                oh = random.randint(self.min_size[1], self.max_size[1])\n",
    "                x = random.randint(0, w - ow - 1)\n",
    "                y = random.randint(0, h - oh - 1)\n",
    "                if np.any(self.map[y:y+oh, x:x+ow]):\n",
    "                    continue\n",
    "                if self._is_inside(start, x, y, None, ow, oh, None) or self._is_inside(goal, x, y, None, ow, oh, None):\n",
    "                    continue\n",
    "                self.map[y:y+oh, x:x+ow] = 1\n",
    "                self._add_obstacle((x, y, ow, oh))\n",
    "                count += ow * oh\n",
    "                if self.max_count and count >= self.max_count:\n",
    "                    break\n",
    "                if count >= max_obs:\n",
    "                    break\n",
    "\n",
    "    def _generate_multi_narrow(self, start, goal):\n",
    "        if self.is_3d:\n",
    "            self._generate_random_obstacles(start, goal)\n",
    "        else:\n",
    "            w, h = self.map_size\n",
    "            corridor_width = 2\n",
    "            spacing = 6\n",
    "            for i in range(spacing, h - spacing, spacing + corridor_width):\n",
    "                self.map[i:i+spacing, :] = 1\n",
    "            self._carve_corridor(start, goal)\n",
    "\n",
    "    def _carve_corridor(self, start, goal):\n",
    "        if not self.is_3d:\n",
    "            y0, x0 = start[1], start[0]\n",
    "            y1, x1 = goal[1], goal[0]\n",
    "            for x in range(min(x0, x1), max(x0, x1)+1):\n",
    "                self.map[y0, x] = 0\n",
    "            for y in range(min(y0, y1), max(y0, y1)+1):\n",
    "                self.map[y, x1] = 0\n",
    "\n",
    "    def _generate_maze(self):\n",
    "        width, height = self.map_size\n",
    "        if width % 2 == 0: width += 1\n",
    "        if height % 2 == 0: height += 1\n",
    "\n",
    "        maze = np.ones((height, width), dtype=np.uint8)\n",
    "        sx, sy = 1, 1\n",
    "        maze[sy, sx] = 0\n",
    "\n",
    "        walls = [(sx + dx, sy + dy) for dx, dy in [(-2, 0), (2, 0), (0, -2), (0, 2)]\n",
    "                 if 0 < sx + dx < width and 0 < sy + dy < height]\n",
    "\n",
    "        while walls:\n",
    "            wx, wy = walls.pop(random.randint(0, len(walls) - 1))\n",
    "            if maze[wy, wx] == 1:\n",
    "                neighbors = [(wx + dx, wy + dy) for dx, dy in [(-2, 0), (2, 0), (0, -2), (0, 2)]\n",
    "                             if 0 < wx + dx < width and 0 < wy + dy < height and maze[wy + dy, wx + dx] == 0]\n",
    "                if len(neighbors) == 1:\n",
    "                    nx, ny = neighbors[0]\n",
    "                    maze[(wy + ny) // 2, (wx + nx) // 2] = 0\n",
    "                    maze[wy, wx] = 0\n",
    "                    for dx, dy in [(-2, 0), (2, 0), (0, -2), (0, 2)]:\n",
    "                        nx, ny = wx + dx, wy + dy\n",
    "                        if 0 < nx < width and 0 < ny < height and maze[ny, nx] == 1:\n",
    "                            walls.append((nx, ny))\n",
    "\n",
    "        return maze"
   ]
  },
  {
   "cell_type": "code",
   "execution_count": 8,
   "id": "2ae55dce",
   "metadata": {},
   "outputs": [],
   "source": [
    "class MapIO:\n",
    "    @staticmethod\n",
    "    def save_map(map_data: Map, filename: str) -> None:\n",
    "        \"\"\"Save Map object to a binary file.\"\"\"\n",
    "        with open(filename, 'wb') as f:\n",
    "            pickle.dump(map_data, f)\n",
    "\n",
    "    @staticmethod\n",
    "    def load_map(filename: str) -> Map:\n",
    "        \"\"\"Load Map object from a binary file.\"\"\"\n",
    "        if not os.path.exists(filename):\n",
    "            raise FileNotFoundError(f\"Map file not found: {filename}\")\n",
    "        with open(filename, 'rb') as f:\n",
    "            return pickle.load(f)"
   ]
  },
  {
   "cell_type": "code",
   "execution_count": 4,
   "id": "09feaf00",
   "metadata": {},
   "outputs": [],
   "source": [
    "def visualize_map_shapes(\n",
    "    map_array: np.ndarray,\n",
    "    start: Optional[Tuple[int, ...]] = None,\n",
    "    goal: Optional[Tuple[int, ...]] = None,\n",
    "    obs:List[Tuple[int, ...]] = None,\n",
    "    path: Optional[List[Tuple[float, ...]]] = None,\n",
    "    nodes: Optional[List[Tuple[float, ...]]] = None,\n",
    "    edges: Optional[List[Tuple[float, ...]]] = None,\n",
    "    title: str = \"Map Visualization\"\n",
    "):\n",
    "    fig = go.Figure()\n",
    "\n",
    "    if map_array.ndim == 2:\n",
    "        height, width = map_array.shape\n",
    "        \n",
    "        for x, y, w, h in obs:\n",
    "                fig.add_shape(\n",
    "                    type=\"rect\",\n",
    "                    x0=x, x1=x+w, y0=y, y1=y+h,\n",
    "                    fillcolor=\"purple\",opacity=0.5,\n",
    "                    line=dict(width=0)\n",
    "                )\n",
    "\n",
    "        # 방문 노드\n",
    "        if nodes:\n",
    "            vx, vy = zip(*nodes)\n",
    "            fig.add_trace(go.Scatter(\n",
    "                x=vx, y=vy, mode=\"markers\",\n",
    "                marker=dict(size=4, color=\"blue\"),\n",
    "                name=\"nodes\"\n",
    "            ))\n",
    "\n",
    "        # 경로\n",
    "        if path:\n",
    "            px, py = zip(*path)\n",
    "            fig.add_trace(go.Scatter(\n",
    "                x=px, y=py, mode=\"lines+markers\",\n",
    "                line=dict(color=\"green\"),\n",
    "                marker=dict(size=6),\n",
    "                name=\"Path\"\n",
    "            ))\n",
    "\n",
    "        # 엣지 (연결 정보)\n",
    "        if edges:\n",
    "            for parent, child in edges:\n",
    "                fig.add_trace(go.Scatter(\n",
    "                    x=[parent.position[0], child.position[0]], y=[parent.position[1], child.position[1]],\n",
    "                    mode=\"lines\",\n",
    "                    line=dict(color=\"lightblue\", width=1),\n",
    "                    showlegend=False,\n",
    "                    hoverinfo=\"skip\"\n",
    "                ))\n",
    "\n",
    "\n",
    "        # 시작/목표\n",
    "        if start:\n",
    "            fig.add_trace(go.Scatter(\n",
    "                x=[start[0]], y=[start[1]], mode=\"markers\",\n",
    "                marker=dict(size=10, color=\"red\"),\n",
    "                name=\"Start\"\n",
    "            ))\n",
    "\n",
    "        if goal:\n",
    "            fig.add_trace(go.Scatter(\n",
    "                x=[goal[0]], y=[goal[1]], mode=\"markers\",\n",
    "                marker=dict(size=10, color=\"orange\"),\n",
    "                name=\"Goal\"\n",
    "            ))\n",
    "\n",
    "        fig.add_shape(\n",
    "            type=\"rect\",\n",
    "            x0=0, y0=0,\n",
    "            x1=width, y1=height,\n",
    "            line=dict(color=\"white\", width=3),\n",
    "            fillcolor=\"rgba(0,0,0,0)\",  # 투명 내부\n",
    "            layer=\"above\"\n",
    "        )\n",
    "\n",
    "        fig.update_layout(\n",
    "            title=title,\n",
    "            xaxis=dict(scaleanchor=\"y\", showgrid=False),\n",
    "            # yaxis=dict(showgrid=False, autorange=\"reversed\"),\n",
    "            yaxis=dict(showgrid=False),\n",
    "            height=600, width=600\n",
    "        )\n",
    "\n",
    "    elif map_array.ndim == 3:\n",
    "        z, y, x = map_array.nonzero()\n",
    "        x, y, z = list(x), list(y), list(z)\n",
    "\n",
    "        # for x,y,w,h in obs:\n",
    "        #     fig.add_trace(go.Mesh3d(\n",
    "        #         x=x, y=y, z=z,\n",
    "        #         color='black',\n",
    "        #         opacity=1.0,\n",
    "        #         alphahull=0,\n",
    "        #         name='Obstacles'\n",
    "        #     ))\n",
    "\n",
    "        fig.add_trace(go.Mesh3d(\n",
    "            x=x, y=y, z=z,\n",
    "            color='black',\n",
    "            opacity=1.0,\n",
    "            alphahull=0,\n",
    "            name='Obstacles'\n",
    "        ))\n",
    "\n",
    "        if nodes:\n",
    "            vx, vy, vz = zip(*nodes)\n",
    "            fig.add_trace(go.Scatter3d(\n",
    "                x=vx, y=vy, z=vz,\n",
    "                mode='markers',\n",
    "                marker=dict(size=2, color='blue'),\n",
    "                name='Visited'\n",
    "            ))\n",
    "\n",
    "        # 엣지 (연결 정보)\n",
    "        if edges:\n",
    "            for parent, child in edges:\n",
    "                fig.add_trace(go.Scatter3d(\n",
    "                    x=[parent.position[0], child.position[0]],\n",
    "                    y=[parent[1].position, child.position[1]],\n",
    "                    z=[parent[2].position, child.position[2]],\n",
    "                    mode='lines',\n",
    "                    line=dict(color='lightblue', width=2),\n",
    "                    showlegend=False,\n",
    "                    hoverinfo=\"skip\"\n",
    "                ))\n",
    "\n",
    "        if path:\n",
    "            px_, py_, pz_ = zip(*path)\n",
    "            fig.add_trace(go.Scatter3d(\n",
    "                x=px_, y=py_, z=pz_,\n",
    "                mode='lines+markers',\n",
    "                marker=dict(size=3, color='green'),\n",
    "                name='Path'\n",
    "            ))\n",
    "\n",
    "        if start:\n",
    "            fig.add_trace(go.Scatter3d(\n",
    "                x=[start[0]], y=[start[1]], z=[start[2]],\n",
    "                mode='markers',\n",
    "                marker=dict(size=5, color='red'),\n",
    "                name='Start'\n",
    "            ))\n",
    "\n",
    "        if goal:\n",
    "            fig.add_trace(go.Scatter3d(\n",
    "                x=[goal[0]], y=[goal[1]], z=[goal[2]],\n",
    "                mode='markers',\n",
    "                marker=dict(size=5, color='orange'),\n",
    "                name='Goal'\n",
    "            ))\n",
    "\n",
    "        fig.update_layout(\n",
    "            title=title,\n",
    "            scene=dict(aspectmode='data'),\n",
    "            height=700, width=700\n",
    "        )\n",
    "\n",
    "        \n",
    "\n",
    "    fig.show()\n"
   ]
  },
  {
   "cell_type": "code",
   "execution_count": null,
   "id": "f6e948da",
   "metadata": {},
   "outputs": [],
   "source": [
    "gen = MapGenerator(map_type=\"random\", map_size=(100, 100), min_obstacle_size=(5, 5), max_obstacle_size=(15, 15), obstacle_percent=0.32)\n",
    "m = gen.generate(start=(1, 1), goal=(99, 99))\n",
    "visualize_map_shapes(m.grid, obs=m.obstacles, start=m.start, goal=m.goal)"
   ]
  },
  {
   "cell_type": "code",
   "execution_count": null,
   "id": "766b01a4",
   "metadata": {},
   "outputs": [],
   "source": [
    "def generate_box_with_narrow_entry(width: int, height: int, entry_side: str = \"left\", entry_pos: int = 10, entry_width: int = 1) -> Map:\n",
    "    grid = np.zeros((height, width), dtype=np.uint8)\n",
    "    obstacles = []\n",
    "    start, goal = (80,50), (50,50)\n",
    "    \n",
    "\n",
    "    grid[27:30, 52:70] = 1  \n",
    "    obstacles.append((27, 52, 3, 18))\n",
    "    grid[27:30, 30:48] = 1  \n",
    "    obstacles.append((27, 30, 3, 18))\n",
    "    \n",
    "    grid[70:73, 30:70] = 1\n",
    "    obstacles.append((70, 30, 3, 40))\n",
    "\n",
    "    grid[30:70, 30:33] = 1\n",
    "    obstacles.append((30, 30, 40, 3))\n",
    "    grid[30:70, 67:70] = 1  \n",
    "    obstacles.append((30, 67, 40, 3))\n",
    "\n",
    "\n",
    "    # Obstacle extraction\n",
    "\n",
    "    return Map(\n",
    "        grid=grid,\n",
    "        start=start,\n",
    "        goal=goal,\n",
    "        obstacles=obstacles,\n",
    "        size=(width, height)\n",
    "    )"
   ]
  },
  {
   "cell_type": "code",
   "execution_count": null,
   "id": "f9ee8c9a",
   "metadata": {},
   "outputs": [],
   "source": [
    "def generate_box_with_narrow_entry(width: int, height: int, entry_side: str = \"left\", entry_pos: int = 10, entry_width: int = 1) -> Map:\n",
    "    grid = np.zeros((height, width), dtype=np.uint8)\n",
    "    obstacles = []\n",
    "    start, goal = (29,40), (90,10)\n",
    "    \n",
    "\n",
    "\n",
    "    grid[17:20, 20:80] = 1\n",
    "    obstacles.append((17, 20, 3, 60))\n",
    "    grid[37:40, 0:50] = 1\n",
    "    obstacles.append((37, 0, 3, 50))\n",
    "    grid[57:60, 20:100] = 1\n",
    "    obstacles.append((57, 20, 3, 80))\n",
    "    grid[77:80, 20:70] = 1\n",
    "    obstacles.append((77, 0, 3, 80))\n",
    "\n",
    "    grid[20:37, 47:60] = 1  \n",
    "    obstacles.append((20, 47, 17, 3))\n",
    "    grid[30:57, 62:65] = 1 \n",
    "    obstacles.append((30, 62, 27, 3))\n",
    "    grid[10:45, 80:83] = 1 \n",
    "    obstacles.append((10, 80, 35, 3))\n",
    "    grid[10:45, 80:83] = 1 \n",
    "    obstacles.append((70, 80, 20, 3))\n",
    "\n",
    "\n",
    "    # Obstacle extraction\n",
    "\n",
    "    return Map(\n",
    "        grid=grid,\n",
    "        start=start,\n",
    "        goal=goal,\n",
    "        obstacles=obstacles,\n",
    "        size=(width, height)\n",
    "    )"
   ]
  },
  {
   "cell_type": "code",
   "execution_count": 112,
   "id": "ff72ce05",
   "metadata": {},
   "outputs": [],
   "source": [
    "def generate_box_with_narrow_entry(width: int, height: int, entry_side: str = \"left\", entry_pos: int = 10, entry_width: int = 1) -> Map:\n",
    "    grid = np.zeros((height, width), dtype=np.uint8)\n",
    "    obstacles = []\n",
    "    start, goal = (29,10), (90,80)\n",
    "    \n",
    "    grid[27:30, 20:80] = 1\n",
    "    obstacles.append((27, 20, 3, 60))\n",
    "    grid[47:50, 0:50] = 1\n",
    "    obstacles.append((47, 0, 3, 50))\n",
    "    grid[77:80, 20:100] = 1\n",
    "    obstacles.append((77, 20, 3, 80))\n",
    "\n",
    "    grid[30:47, 47:50] = 1  \n",
    "    obstacles.append((30, 47, 17, 3))\n",
    "    grid[50:77, 72:65] = 1 \n",
    "    obstacles.append((50, 72, 27, 3))\n",
    "\n",
    "    # Obstacle extraction\n",
    "\n",
    "    return Map(\n",
    "        grid=grid,\n",
    "        start=start,\n",
    "        goal=goal,\n",
    "        obstacles=obstacles,\n",
    "        size=(width, height)\n",
    "    )"
   ]
  },
  {
   "cell_type": "code",
   "execution_count": 113,
   "id": "14b18069",
   "metadata": {},
   "outputs": [],
   "source": [
    "map_obj = generate_box_with_narrow_entry(width=100, height=100, entry_side=\"left\", entry_pos=25, entry_width=2)\n"
   ]
  },
  {
   "cell_type": "code",
   "execution_count": 4,
   "id": "f68e1103",
   "metadata": {},
   "outputs": [
    {
     "ename": "NameError",
     "evalue": "name 'visualize_map_shapes' is not defined",
     "output_type": "error",
     "traceback": [
      "\u001b[0;31m---------------------------------------------------------------------------\u001b[0m",
      "\u001b[0;31mNameError\u001b[0m                                 Traceback (most recent call last)",
      "Cell \u001b[0;32mIn[4], line 1\u001b[0m\n\u001b[0;32m----> 1\u001b[0m \u001b[43mvisualize_map_shapes\u001b[49m(map_obj\u001b[38;5;241m.\u001b[39mgrid, obs\u001b[38;5;241m=\u001b[39mmap_obj\u001b[38;5;241m.\u001b[39mobstacles, start\u001b[38;5;241m=\u001b[39mmap_obj\u001b[38;5;241m.\u001b[39mstart, goal\u001b[38;5;241m=\u001b[39mmap_obj\u001b[38;5;241m.\u001b[39mgoal)\n",
      "\u001b[0;31mNameError\u001b[0m: name 'visualize_map_shapes' is not defined"
     ]
    }
   ],
   "source": [
    "visualize_map_shapes(map_obj.grid, obs=map_obj.obstacles, start=map_obj.start, goal=map_obj.goal)"
   ]
  },
  {
   "cell_type": "code",
   "execution_count": 10,
   "id": "b1849782",
   "metadata": {},
   "outputs": [],
   "source": [
    "# MapIO.save_map(map_obj, \"Maze_map_easy.pkl\")"
   ]
  },
  {
   "cell_type": "code",
   "execution_count": 9,
   "id": "a546e2cf",
   "metadata": {},
   "outputs": [
    {
     "name": "stdout",
     "output_type": "stream",
     "text": [
      "Start: (29, 10)\n",
      "Obstacles: 5\n",
      "(100, 100)\n"
     ]
    }
   ],
   "source": [
    "maze_map = MapIO.load_map(\"Maze_map_easy.pkl\")\n",
    "print(\"Start:\", maze_map.start)\n",
    "print(\"Obstacles:\", len(maze_map.obstacles))\n",
    "print(maze_map.grid.shape)"
   ]
  },
  {
   "cell_type": "code",
   "execution_count": null,
   "id": "96c42cb6",
   "metadata": {},
   "outputs": [],
   "source": [
    "maze_map = MapIO.load_map(\"Maze_map.pkl\")\n",
    "print(\"Start:\", maze_map.start)\n",
    "print(\"Obstacles:\", len(maze_map.obstacles))\n",
    "print(maze_map.grid.shape)"
   ]
  },
  {
   "cell_type": "code",
   "execution_count": 10,
   "id": "7704506e",
   "metadata": {},
   "outputs": [
    {
     "name": "stdout",
     "output_type": "stream",
     "text": [
      "Start: (80, 50)\n",
      "Obstacles: 5\n",
      "(100, 100)\n"
     ]
    }
   ],
   "source": [
    "narrow_map = MapIO.load_map(\"Narrow_map.pkl\")\n",
    "print(\"Start:\", narrow_map.start)\n",
    "print(\"Obstacles:\", len(narrow_map.obstacles))\n",
    "print(narrow_map.grid.shape)"
   ]
  },
  {
   "cell_type": "code",
   "execution_count": 11,
   "id": "9d427ae9",
   "metadata": {},
   "outputs": [
    {
     "name": "stdout",
     "output_type": "stream",
     "text": [
      "Start: (1, 1)\n",
      "Obstacles: 35\n",
      "(100, 100)\n"
     ]
    }
   ],
   "source": [
    "# 불러오기\n",
    "multi_obs_map = MapIO.load_map(\"Multi_obs_map.pkl\")\n",
    "print(\"Start:\", multi_obs_map.start)\n",
    "print(\"Obstacles:\", len(multi_obs_map.obstacles))\n",
    "print(multi_obs_map.grid.shape)"
   ]
  },
  {
   "cell_type": "code",
   "execution_count": 9,
   "id": "ad649024",
   "metadata": {},
   "outputs": [
    {
     "data": {
      "application/vnd.plotly.v1+json": {
       "config": {
        "plotlyServerURL": "https://plot.ly"
       },
       "data": [
        {
         "marker": {
          "color": "red",
          "size": 10
         },
         "mode": "markers",
         "name": "Start",
         "type": "scatter",
         "x": [
          1
         ],
         "y": [
          1
         ]
        },
        {
         "marker": {
          "color": "orange",
          "size": 10
         },
         "mode": "markers",
         "name": "Goal",
         "type": "scatter",
         "x": [
          99
         ],
         "y": [
          99
         ]
        }
       ],
       "layout": {
        "height": 600,
        "shapes": [
         {
          "fillcolor": "purple",
          "line": {
           "width": 0
          },
          "opacity": 0.5,
          "type": "rect",
          "x0": 48,
          "x1": 57,
          "y0": 70,
          "y1": 79
         },
         {
          "fillcolor": "purple",
          "line": {
           "width": 0
          },
          "opacity": 0.5,
          "type": "rect",
          "x0": 47,
          "x1": 52,
          "y0": 50,
          "y1": 64
         },
         {
          "fillcolor": "purple",
          "line": {
           "width": 0
          },
          "opacity": 0.5,
          "type": "rect",
          "x0": 79,
          "x1": 84,
          "y0": 71,
          "y1": 82
         },
         {
          "fillcolor": "purple",
          "line": {
           "width": 0
          },
          "opacity": 0.5,
          "type": "rect",
          "x0": 35,
          "x1": 42,
          "y0": 29,
          "y1": 41
         },
         {
          "fillcolor": "purple",
          "line": {
           "width": 0
          },
          "opacity": 0.5,
          "type": "rect",
          "x0": 18,
          "x1": 28,
          "y0": 67,
          "y1": 80
         },
         {
          "fillcolor": "purple",
          "line": {
           "width": 0
          },
          "opacity": 0.5,
          "type": "rect",
          "x0": 66,
          "x1": 75,
          "y0": 75,
          "y1": 82
         },
         {
          "fillcolor": "purple",
          "line": {
           "width": 0
          },
          "opacity": 0.5,
          "type": "rect",
          "x0": 68,
          "x1": 81,
          "y0": 83,
          "y1": 89
         },
         {
          "fillcolor": "purple",
          "line": {
           "width": 0
          },
          "opacity": 0.5,
          "type": "rect",
          "x0": 55,
          "x1": 67,
          "y0": 54,
          "y1": 60
         },
         {
          "fillcolor": "purple",
          "line": {
           "width": 0
          },
          "opacity": 0.5,
          "type": "rect",
          "x0": 49,
          "x1": 64,
          "y0": 22,
          "y1": 30
         },
         {
          "fillcolor": "purple",
          "line": {
           "width": 0
          },
          "opacity": 0.5,
          "type": "rect",
          "x0": 32,
          "x1": 47,
          "y0": 76,
          "y1": 86
         },
         {
          "fillcolor": "purple",
          "line": {
           "width": 0
          },
          "opacity": 0.5,
          "type": "rect",
          "x0": 41,
          "x1": 56,
          "y0": 0,
          "y1": 11
         },
         {
          "fillcolor": "purple",
          "line": {
           "width": 0
          },
          "opacity": 0.5,
          "type": "rect",
          "x0": 51,
          "x1": 63,
          "y0": 42,
          "y1": 47
         },
         {
          "fillcolor": "purple",
          "line": {
           "width": 0
          },
          "opacity": 0.5,
          "type": "rect",
          "x0": 14,
          "x1": 23,
          "y0": 46,
          "y1": 60
         },
         {
          "fillcolor": "purple",
          "line": {
           "width": 0
          },
          "opacity": 0.5,
          "type": "rect",
          "x0": 84,
          "x1": 91,
          "y0": 12,
          "y1": 24
         },
         {
          "fillcolor": "purple",
          "line": {
           "width": 0
          },
          "opacity": 0.5,
          "type": "rect",
          "x0": 20,
          "x1": 29,
          "y0": 17,
          "y1": 31
         },
         {
          "fillcolor": "purple",
          "line": {
           "width": 0
          },
          "opacity": 0.5,
          "type": "rect",
          "x0": 3,
          "x1": 12,
          "y0": 18,
          "y1": 32
         },
         {
          "fillcolor": "purple",
          "line": {
           "width": 0
          },
          "opacity": 0.5,
          "type": "rect",
          "x0": 9,
          "x1": 18,
          "y0": 66,
          "y1": 75
         },
         {
          "fillcolor": "purple",
          "line": {
           "width": 0
          },
          "opacity": 0.5,
          "type": "rect",
          "x0": 73,
          "x1": 80,
          "y0": 7,
          "y1": 14
         },
         {
          "fillcolor": "purple",
          "line": {
           "width": 0
          },
          "opacity": 0.5,
          "type": "rect",
          "x0": 32,
          "x1": 47,
          "y0": 11,
          "y1": 25
         },
         {
          "fillcolor": "purple",
          "line": {
           "width": 0
          },
          "opacity": 0.5,
          "type": "rect",
          "x0": 83,
          "x1": 94,
          "y0": 55,
          "y1": 68
         },
         {
          "fillcolor": "purple",
          "line": {
           "width": 0
          },
          "opacity": 0.5,
          "type": "rect",
          "x0": 30,
          "x1": 42,
          "y0": 51,
          "y1": 64
         },
         {
          "fillcolor": "purple",
          "line": {
           "width": 0
          },
          "opacity": 0.5,
          "type": "rect",
          "x0": 50,
          "x1": 62,
          "y0": 34,
          "y1": 42
         },
         {
          "fillcolor": "purple",
          "line": {
           "width": 0
          },
          "opacity": 0.5,
          "type": "rect",
          "x0": 34,
          "x1": 41,
          "y0": 69,
          "y1": 76
         },
         {
          "fillcolor": "purple",
          "line": {
           "width": 0
          },
          "opacity": 0.5,
          "type": "rect",
          "x0": 4,
          "x1": 16,
          "y0": 87,
          "y1": 96
         },
         {
          "fillcolor": "purple",
          "line": {
           "width": 0
          },
          "opacity": 0.5,
          "type": "rect",
          "x0": 78,
          "x1": 83,
          "y0": 23,
          "y1": 30
         },
         {
          "fillcolor": "purple",
          "line": {
           "width": 0
          },
          "opacity": 0.5,
          "type": "rect",
          "x0": 72,
          "x1": 79,
          "y0": 51,
          "y1": 60
         },
         {
          "fillcolor": "purple",
          "line": {
           "width": 0
          },
          "opacity": 0.5,
          "type": "rect",
          "x0": 48,
          "x1": 58,
          "y0": 16,
          "y1": 22
         },
         {
          "fillcolor": "purple",
          "line": {
           "width": 0
          },
          "opacity": 0.5,
          "type": "rect",
          "x0": 75,
          "x1": 88,
          "y0": 94,
          "y1": 99
         },
         {
          "fillcolor": "purple",
          "line": {
           "width": 0
          },
          "opacity": 0.5,
          "type": "rect",
          "x0": 62,
          "x1": 68,
          "y0": 82,
          "y1": 96
         },
         {
          "fillcolor": "purple",
          "line": {
           "width": 0
          },
          "opacity": 0.5,
          "type": "rect",
          "x0": 57,
          "x1": 62,
          "y0": 67,
          "y1": 78
         },
         {
          "fillcolor": "purple",
          "line": {
           "width": 0
          },
          "opacity": 0.5,
          "type": "rect",
          "x0": 2,
          "x1": 11,
          "y0": 33,
          "y1": 43
         },
         {
          "fillcolor": "purple",
          "line": {
           "width": 0
          },
          "opacity": 0.5,
          "type": "rect",
          "x0": 67,
          "x1": 76,
          "y0": 0,
          "y1": 7
         },
         {
          "fillcolor": "purple",
          "line": {
           "width": 0
          },
          "opacity": 0.5,
          "type": "rect",
          "x0": 28,
          "x1": 39,
          "y0": 42,
          "y1": 50
         },
         {
          "fillcolor": "purple",
          "line": {
           "width": 0
          },
          "opacity": 0.5,
          "type": "rect",
          "x0": 66,
          "x1": 71,
          "y0": 60,
          "y1": 72
         },
         {
          "fillcolor": "purple",
          "line": {
           "width": 0
          },
          "opacity": 0.5,
          "type": "rect",
          "x0": 7,
          "x1": 13,
          "y0": 52,
          "y1": 66
         },
         {
          "fillcolor": "rgba(0,0,0,0)",
          "layer": "above",
          "line": {
           "color": "white",
           "width": 3
          },
          "type": "rect",
          "x0": 0,
          "x1": 100,
          "y0": 0,
          "y1": 100
         }
        ],
        "template": {
         "data": {
          "bar": [
           {
            "error_x": {
             "color": "#2a3f5f"
            },
            "error_y": {
             "color": "#2a3f5f"
            },
            "marker": {
             "line": {
              "color": "#E5ECF6",
              "width": 0.5
             },
             "pattern": {
              "fillmode": "overlay",
              "size": 10,
              "solidity": 0.2
             }
            },
            "type": "bar"
           }
          ],
          "barpolar": [
           {
            "marker": {
             "line": {
              "color": "#E5ECF6",
              "width": 0.5
             },
             "pattern": {
              "fillmode": "overlay",
              "size": 10,
              "solidity": 0.2
             }
            },
            "type": "barpolar"
           }
          ],
          "carpet": [
           {
            "aaxis": {
             "endlinecolor": "#2a3f5f",
             "gridcolor": "white",
             "linecolor": "white",
             "minorgridcolor": "white",
             "startlinecolor": "#2a3f5f"
            },
            "baxis": {
             "endlinecolor": "#2a3f5f",
             "gridcolor": "white",
             "linecolor": "white",
             "minorgridcolor": "white",
             "startlinecolor": "#2a3f5f"
            },
            "type": "carpet"
           }
          ],
          "choropleth": [
           {
            "colorbar": {
             "outlinewidth": 0,
             "ticks": ""
            },
            "type": "choropleth"
           }
          ],
          "contour": [
           {
            "colorbar": {
             "outlinewidth": 0,
             "ticks": ""
            },
            "colorscale": [
             [
              0,
              "#0d0887"
             ],
             [
              0.1111111111111111,
              "#46039f"
             ],
             [
              0.2222222222222222,
              "#7201a8"
             ],
             [
              0.3333333333333333,
              "#9c179e"
             ],
             [
              0.4444444444444444,
              "#bd3786"
             ],
             [
              0.5555555555555556,
              "#d8576b"
             ],
             [
              0.6666666666666666,
              "#ed7953"
             ],
             [
              0.7777777777777778,
              "#fb9f3a"
             ],
             [
              0.8888888888888888,
              "#fdca26"
             ],
             [
              1,
              "#f0f921"
             ]
            ],
            "type": "contour"
           }
          ],
          "contourcarpet": [
           {
            "colorbar": {
             "outlinewidth": 0,
             "ticks": ""
            },
            "type": "contourcarpet"
           }
          ],
          "heatmap": [
           {
            "colorbar": {
             "outlinewidth": 0,
             "ticks": ""
            },
            "colorscale": [
             [
              0,
              "#0d0887"
             ],
             [
              0.1111111111111111,
              "#46039f"
             ],
             [
              0.2222222222222222,
              "#7201a8"
             ],
             [
              0.3333333333333333,
              "#9c179e"
             ],
             [
              0.4444444444444444,
              "#bd3786"
             ],
             [
              0.5555555555555556,
              "#d8576b"
             ],
             [
              0.6666666666666666,
              "#ed7953"
             ],
             [
              0.7777777777777778,
              "#fb9f3a"
             ],
             [
              0.8888888888888888,
              "#fdca26"
             ],
             [
              1,
              "#f0f921"
             ]
            ],
            "type": "heatmap"
           }
          ],
          "histogram": [
           {
            "marker": {
             "pattern": {
              "fillmode": "overlay",
              "size": 10,
              "solidity": 0.2
             }
            },
            "type": "histogram"
           }
          ],
          "histogram2d": [
           {
            "colorbar": {
             "outlinewidth": 0,
             "ticks": ""
            },
            "colorscale": [
             [
              0,
              "#0d0887"
             ],
             [
              0.1111111111111111,
              "#46039f"
             ],
             [
              0.2222222222222222,
              "#7201a8"
             ],
             [
              0.3333333333333333,
              "#9c179e"
             ],
             [
              0.4444444444444444,
              "#bd3786"
             ],
             [
              0.5555555555555556,
              "#d8576b"
             ],
             [
              0.6666666666666666,
              "#ed7953"
             ],
             [
              0.7777777777777778,
              "#fb9f3a"
             ],
             [
              0.8888888888888888,
              "#fdca26"
             ],
             [
              1,
              "#f0f921"
             ]
            ],
            "type": "histogram2d"
           }
          ],
          "histogram2dcontour": [
           {
            "colorbar": {
             "outlinewidth": 0,
             "ticks": ""
            },
            "colorscale": [
             [
              0,
              "#0d0887"
             ],
             [
              0.1111111111111111,
              "#46039f"
             ],
             [
              0.2222222222222222,
              "#7201a8"
             ],
             [
              0.3333333333333333,
              "#9c179e"
             ],
             [
              0.4444444444444444,
              "#bd3786"
             ],
             [
              0.5555555555555556,
              "#d8576b"
             ],
             [
              0.6666666666666666,
              "#ed7953"
             ],
             [
              0.7777777777777778,
              "#fb9f3a"
             ],
             [
              0.8888888888888888,
              "#fdca26"
             ],
             [
              1,
              "#f0f921"
             ]
            ],
            "type": "histogram2dcontour"
           }
          ],
          "mesh3d": [
           {
            "colorbar": {
             "outlinewidth": 0,
             "ticks": ""
            },
            "type": "mesh3d"
           }
          ],
          "parcoords": [
           {
            "line": {
             "colorbar": {
              "outlinewidth": 0,
              "ticks": ""
             }
            },
            "type": "parcoords"
           }
          ],
          "pie": [
           {
            "automargin": true,
            "type": "pie"
           }
          ],
          "scatter": [
           {
            "fillpattern": {
             "fillmode": "overlay",
             "size": 10,
             "solidity": 0.2
            },
            "type": "scatter"
           }
          ],
          "scatter3d": [
           {
            "line": {
             "colorbar": {
              "outlinewidth": 0,
              "ticks": ""
             }
            },
            "marker": {
             "colorbar": {
              "outlinewidth": 0,
              "ticks": ""
             }
            },
            "type": "scatter3d"
           }
          ],
          "scattercarpet": [
           {
            "marker": {
             "colorbar": {
              "outlinewidth": 0,
              "ticks": ""
             }
            },
            "type": "scattercarpet"
           }
          ],
          "scattergeo": [
           {
            "marker": {
             "colorbar": {
              "outlinewidth": 0,
              "ticks": ""
             }
            },
            "type": "scattergeo"
           }
          ],
          "scattergl": [
           {
            "marker": {
             "colorbar": {
              "outlinewidth": 0,
              "ticks": ""
             }
            },
            "type": "scattergl"
           }
          ],
          "scattermap": [
           {
            "marker": {
             "colorbar": {
              "outlinewidth": 0,
              "ticks": ""
             }
            },
            "type": "scattermap"
           }
          ],
          "scattermapbox": [
           {
            "marker": {
             "colorbar": {
              "outlinewidth": 0,
              "ticks": ""
             }
            },
            "type": "scattermapbox"
           }
          ],
          "scatterpolar": [
           {
            "marker": {
             "colorbar": {
              "outlinewidth": 0,
              "ticks": ""
             }
            },
            "type": "scatterpolar"
           }
          ],
          "scatterpolargl": [
           {
            "marker": {
             "colorbar": {
              "outlinewidth": 0,
              "ticks": ""
             }
            },
            "type": "scatterpolargl"
           }
          ],
          "scatterternary": [
           {
            "marker": {
             "colorbar": {
              "outlinewidth": 0,
              "ticks": ""
             }
            },
            "type": "scatterternary"
           }
          ],
          "surface": [
           {
            "colorbar": {
             "outlinewidth": 0,
             "ticks": ""
            },
            "colorscale": [
             [
              0,
              "#0d0887"
             ],
             [
              0.1111111111111111,
              "#46039f"
             ],
             [
              0.2222222222222222,
              "#7201a8"
             ],
             [
              0.3333333333333333,
              "#9c179e"
             ],
             [
              0.4444444444444444,
              "#bd3786"
             ],
             [
              0.5555555555555556,
              "#d8576b"
             ],
             [
              0.6666666666666666,
              "#ed7953"
             ],
             [
              0.7777777777777778,
              "#fb9f3a"
             ],
             [
              0.8888888888888888,
              "#fdca26"
             ],
             [
              1,
              "#f0f921"
             ]
            ],
            "type": "surface"
           }
          ],
          "table": [
           {
            "cells": {
             "fill": {
              "color": "#EBF0F8"
             },
             "line": {
              "color": "white"
             }
            },
            "header": {
             "fill": {
              "color": "#C8D4E3"
             },
             "line": {
              "color": "white"
             }
            },
            "type": "table"
           }
          ]
         },
         "layout": {
          "annotationdefaults": {
           "arrowcolor": "#2a3f5f",
           "arrowhead": 0,
           "arrowwidth": 1
          },
          "autotypenumbers": "strict",
          "coloraxis": {
           "colorbar": {
            "outlinewidth": 0,
            "ticks": ""
           }
          },
          "colorscale": {
           "diverging": [
            [
             0,
             "#8e0152"
            ],
            [
             0.1,
             "#c51b7d"
            ],
            [
             0.2,
             "#de77ae"
            ],
            [
             0.3,
             "#f1b6da"
            ],
            [
             0.4,
             "#fde0ef"
            ],
            [
             0.5,
             "#f7f7f7"
            ],
            [
             0.6,
             "#e6f5d0"
            ],
            [
             0.7,
             "#b8e186"
            ],
            [
             0.8,
             "#7fbc41"
            ],
            [
             0.9,
             "#4d9221"
            ],
            [
             1,
             "#276419"
            ]
           ],
           "sequential": [
            [
             0,
             "#0d0887"
            ],
            [
             0.1111111111111111,
             "#46039f"
            ],
            [
             0.2222222222222222,
             "#7201a8"
            ],
            [
             0.3333333333333333,
             "#9c179e"
            ],
            [
             0.4444444444444444,
             "#bd3786"
            ],
            [
             0.5555555555555556,
             "#d8576b"
            ],
            [
             0.6666666666666666,
             "#ed7953"
            ],
            [
             0.7777777777777778,
             "#fb9f3a"
            ],
            [
             0.8888888888888888,
             "#fdca26"
            ],
            [
             1,
             "#f0f921"
            ]
           ],
           "sequentialminus": [
            [
             0,
             "#0d0887"
            ],
            [
             0.1111111111111111,
             "#46039f"
            ],
            [
             0.2222222222222222,
             "#7201a8"
            ],
            [
             0.3333333333333333,
             "#9c179e"
            ],
            [
             0.4444444444444444,
             "#bd3786"
            ],
            [
             0.5555555555555556,
             "#d8576b"
            ],
            [
             0.6666666666666666,
             "#ed7953"
            ],
            [
             0.7777777777777778,
             "#fb9f3a"
            ],
            [
             0.8888888888888888,
             "#fdca26"
            ],
            [
             1,
             "#f0f921"
            ]
           ]
          },
          "colorway": [
           "#636efa",
           "#EF553B",
           "#00cc96",
           "#ab63fa",
           "#FFA15A",
           "#19d3f3",
           "#FF6692",
           "#B6E880",
           "#FF97FF",
           "#FECB52"
          ],
          "font": {
           "color": "#2a3f5f"
          },
          "geo": {
           "bgcolor": "white",
           "lakecolor": "white",
           "landcolor": "#E5ECF6",
           "showlakes": true,
           "showland": true,
           "subunitcolor": "white"
          },
          "hoverlabel": {
           "align": "left"
          },
          "hovermode": "closest",
          "mapbox": {
           "style": "light"
          },
          "paper_bgcolor": "white",
          "plot_bgcolor": "#E5ECF6",
          "polar": {
           "angularaxis": {
            "gridcolor": "white",
            "linecolor": "white",
            "ticks": ""
           },
           "bgcolor": "#E5ECF6",
           "radialaxis": {
            "gridcolor": "white",
            "linecolor": "white",
            "ticks": ""
           }
          },
          "scene": {
           "xaxis": {
            "backgroundcolor": "#E5ECF6",
            "gridcolor": "white",
            "gridwidth": 2,
            "linecolor": "white",
            "showbackground": true,
            "ticks": "",
            "zerolinecolor": "white"
           },
           "yaxis": {
            "backgroundcolor": "#E5ECF6",
            "gridcolor": "white",
            "gridwidth": 2,
            "linecolor": "white",
            "showbackground": true,
            "ticks": "",
            "zerolinecolor": "white"
           },
           "zaxis": {
            "backgroundcolor": "#E5ECF6",
            "gridcolor": "white",
            "gridwidth": 2,
            "linecolor": "white",
            "showbackground": true,
            "ticks": "",
            "zerolinecolor": "white"
           }
          },
          "shapedefaults": {
           "line": {
            "color": "#2a3f5f"
           }
          },
          "ternary": {
           "aaxis": {
            "gridcolor": "white",
            "linecolor": "white",
            "ticks": ""
           },
           "baxis": {
            "gridcolor": "white",
            "linecolor": "white",
            "ticks": ""
           },
           "bgcolor": "#E5ECF6",
           "caxis": {
            "gridcolor": "white",
            "linecolor": "white",
            "ticks": ""
           }
          },
          "title": {
           "x": 0.05
          },
          "xaxis": {
           "automargin": true,
           "gridcolor": "white",
           "linecolor": "white",
           "ticks": "",
           "title": {
            "standoff": 15
           },
           "zerolinecolor": "white",
           "zerolinewidth": 2
          },
          "yaxis": {
           "automargin": true,
           "gridcolor": "white",
           "linecolor": "white",
           "ticks": "",
           "title": {
            "standoff": 15
           },
           "zerolinecolor": "white",
           "zerolinewidth": 2
          }
         }
        },
        "title": {
         "text": "Map Visualization"
        },
        "width": 600,
        "xaxis": {
         "scaleanchor": "y",
         "showgrid": false
        },
        "yaxis": {
         "showgrid": false
        }
       }
      }
     },
     "metadata": {},
     "output_type": "display_data"
    }
   ],
   "source": [
    "visualize_map_shapes(multi_obs_map.grid, obs=multi_obs_map.obstacles, start=multi_obs_map.start, goal=multi_obs_map.goal)"
   ]
  },
  {
   "cell_type": "code",
   "execution_count": 32,
   "id": "55dd613b",
   "metadata": {},
   "outputs": [],
   "source": [
    "import pandas as pd\n",
    "import numpy as np\n",
    "import random\n",
    "import time\n",
    "from typing import Tuple, Literal, Union, Optional, List, Dict, NamedTuple, Callable, Any\n",
    "import plotly.express as px\n",
    "import math\n",
    "from eoh.problems.optimization.classic_benchmark_path_planning.utils.architecture_utils import PlannerResult\n",
    "class MultiMapBenchmarker:\n",
    "    def __init__(\n",
    "        self,\n",
    "        maps: List[np.ndarray],\n",
    "        name: str = \"Algorithm\",\n",
    "        learning_mode = True,\n",
    "        iter = 10,\n",
    "        seed = 42,\n",
    "    ):\n",
    "        self.set_seed(seed)\n",
    "\n",
    "        self.maps = maps\n",
    "        self.name = name\n",
    "        self.results_df: pd.DataFrame = pd.DataFrame()\n",
    "        self.iter = iter\n",
    "        self.learning_mode = learning_mode\n",
    "\n",
    "        self.time_limit = 5.0\n",
    "        self.success_limit = 0.8\n",
    "\n",
    "    def run(self, algorithm) -> pd.DataFrame:\n",
    "        results = []\n",
    "        main_start_time = time.time()\n",
    "        for i, map_ in enumerate(self.maps):\n",
    "            print(f\"Map {i+1}\")\n",
    "            for j in range(self.iter):\n",
    "                start_time = time.time()\n",
    "                try:\n",
    "                    output = algorithm(map_)\n",
    "                except Exception as e:\n",
    "                    output = {\"path\": [], \"nodes\": [], \"n_nodes\": 0}\n",
    "                end_time = time.time()\n",
    "\n",
    "\n",
    "                if isinstance(output, PlannerResult):\n",
    "                    path = output.path\n",
    "                    nodes = output.nodes\n",
    "                    num_nodes = len(nodes)\n",
    "                    success = self._is_path_valid(path, map_)\n",
    "                    path_length = self._compute_path_length(path)\n",
    "                    path_smoothness = self._compute_path_smoothness(path)\n",
    "                elif isinstance(output, Dict):\n",
    "                    path = output['path']\n",
    "                    nodes = output['nodes']\n",
    "                    num_nodes = len(nodes)\n",
    "                    success = self._is_path_valid(path, map_)\n",
    "                    path_length = self._compute_path_length(path)\n",
    "                    path_smoothness = self._compute_path_smoothness(path)\n",
    "                else:\n",
    "                    return None, None\n",
    "                \n",
    "                print(f\"Iteration {j+1}: Time taken: {end_time - start_time:.4f} seconds, Success: {success}\")\n",
    "\n",
    "                results.append({\n",
    "                    \"map_id\": i,\n",
    "                    \"iter\" : j,\n",
    "                    \"algorithm\": self.name,\n",
    "                    \"success\": success,\n",
    "                    \"time_taken\": end_time - start_time,\n",
    "                    \"num_nodes\": num_nodes,\n",
    "                    \"path_length\": path_length,\n",
    "                    \"path_smoothness\": path_smoothness,\n",
    "                })\n",
    "\n",
    "                time_taken_avg = np.mean([r[\"time_taken\"] for r in results])\n",
    "                success_avg = np.mean([r[\"success\"] for r in results]) if len(results) > 6 else 1.0\n",
    "                if time_taken_avg > self.time_limit:\n",
    "                    print(\"Time taken Limit\")\n",
    "                    return None, None\n",
    "                elif success_avg < self.success_limit:\n",
    "                    print(\"Success Rate Limit\")\n",
    "                    return None, None\n",
    "\n",
    "        print(f\"Total time taken for all maps: {time.time() - main_start_time:.4f} seconds\")\n",
    "\n",
    "        self.results_df = pd.DataFrame(results)\n",
    "        return self.results_df, self.get_avg()\n",
    "\n",
    "    def _compute_path_length(self, path: List[Tuple[float, ...]]) -> float:\n",
    "        if not path or len(path) < 2:\n",
    "            return 0.0\n",
    "        return sum(np.linalg.norm(np.array(path[i]) - np.array(path[i+1])) for i in range(len(path) - 1))\n",
    "    \n",
    "    def _is_path_valid(self, path: List[Tuple[float, ...]], map_) -> bool:\n",
    "        if not path or len(path) < 2:\n",
    "            return False\n",
    "        \n",
    "        if np.linalg.norm(np.array(path[0]) - np.array(map_.start)) > 0.5 or np.linalg.norm(np.array(path[-1]) - np.array(map_.goal)) > 0.5:\n",
    "            if np.linalg.norm(np.array(path[0]) - np.array(map_.goal)) > 0.5 or np.linalg.norm(np.array(path[-1]) - np.array(map_.start)) > 0.5:\n",
    "                return False\n",
    "            \n",
    "        is_3d = True if len(map_.size) > 2 else False\n",
    "        for i in range(len(path) - 1):\n",
    "            p1 = path[i]\n",
    "            p2 = path[i + 1]\n",
    "            if self._is_edge_in_obstacle(p1, p2, map_.obstacles, is_3d):\n",
    "                return False\n",
    "        return True\n",
    "    \n",
    "    def _is_in_obstacle(self, pos, obstacles, is_3d):\n",
    "        for obs in obstacles:\n",
    "            if is_3d:\n",
    "                x, y, z, w, h, d = obs\n",
    "                px, py, pz = pos\n",
    "                if x <= px <= x + w and y <= py <= y + h and z <= pz <= z + d:\n",
    "                    return True\n",
    "            else:\n",
    "                x, y, w, h = obs\n",
    "                px, py = pos\n",
    "                if x <= px <= x + w and y <= py <= y + h:\n",
    "                    return True\n",
    "        return False\n",
    "\n",
    "    def _is_edge_in_obstacle(self, from_pos, to_pos, obstacles, is_3d, resolution=1.0):\n",
    "        distance = math.dist(from_pos, to_pos)\n",
    "        steps = max(1, int(distance / resolution))\n",
    "        for i in range(steps + 1):\n",
    "            interp = tuple(from_pos[d] + (to_pos[d] - from_pos[d]) * (i / steps) for d in range(len(from_pos)))\n",
    "            if self._is_in_obstacle(interp, obstacles, is_3d):\n",
    "                return True\n",
    "        return False\n",
    "    \n",
    "    def _compute_path_smoothness(self, path: List[Tuple[float, ...]]) -> float:\n",
    "        \"\"\"\n",
    "        Compute smoothness based on total bending angles (smaller is smoother).\n",
    "        Returns a value where 1 = perfectly smooth (straight), 0 = very jagged.\n",
    "        \"\"\"\n",
    "        if not path or len(path) < 3:\n",
    "            return 1.0  # trivially smooth\n",
    "\n",
    "        total_angle = 0.0\n",
    "        for i in range(1, len(path) - 1):\n",
    "            p0 = np.array(path[i - 1])\n",
    "            p1 = np.array(path[i])\n",
    "            p2 = np.array(path[i + 1])\n",
    "\n",
    "            v1 = p0 - p1\n",
    "            v2 = p2 - p1\n",
    "\n",
    "            norm_v1 = np.linalg.norm(v1)\n",
    "            norm_v2 = np.linalg.norm(v2)\n",
    "            if norm_v1 == 0 or norm_v2 == 0:\n",
    "                continue  # ignore invalid\n",
    "\n",
    "            cosine = np.dot(v1, v2) / (norm_v1 * norm_v2)\n",
    "            cosine = np.clip(cosine, -1.0, 1.0)  # numerical safety\n",
    "            angle = np.arccos(cosine)\n",
    "            total_angle += angle\n",
    "\n",
    "        # Normalize to [0, 1]: smoothness = 1 / (1 + total_bend)\n",
    "        return 1.0 / (1.0 + total_angle)\n",
    "\n",
    "    def save_results(self, filename: str):\n",
    "        if self.results_df.empty:\n",
    "            raise RuntimeError(\"No results to save. Run benchmark first.\")\n",
    "        self.results_df.to_csv(filename, index=False)\n",
    "\n",
    "    def plot_metrics(self, metric: str = \"time_taken\"):\n",
    "        if self.results_df.empty:\n",
    "            raise RuntimeError(\"No results to plot. Run benchmark first.\")\n",
    "        if metric not in self.results_df.columns:\n",
    "            raise ValueError(f\"Invalid metric: {metric}\")\n",
    "\n",
    "        fig = px.bar(\n",
    "            self.results_df,\n",
    "            x=\"map_id\",\n",
    "            y=metric,\n",
    "            color=\"success\",\n",
    "            title=f\"{self.name} - {metric} per map\",\n",
    "            labels={\"map_id\": \"Map ID\", metric: metric.replace('_', ' ').title()}\n",
    "        )\n",
    "        fig.show()\n",
    "\n",
    "    def get_avg(self):\n",
    "        if self.results_df.empty:\n",
    "            raise RuntimeError(\"No results to save. Run benchmark first.\")\n",
    "\n",
    "        classic_summary = self.results_df.groupby('map_id').agg({\n",
    "            'success': 'mean',           # 성공률\n",
    "            'time_taken': 'mean',        # 평균 소요 시간\n",
    "            'num_nodes': 'mean',      # 평균 노드 수\n",
    "            'path_length': lambda x: x[x > 0].mean(),  # path=0 제외한 평균 경로 길이\n",
    "            'path_smoothness': 'mean' # 경로 부드러움\n",
    "        }).rename(columns={\n",
    "            'success': 'success_rate',\n",
    "            'time_taken': 'time_avg',\n",
    "            'num_nodes': 'num_nodes_avg',\n",
    "            'path_length': 'path_length_avg',\n",
    "            'path_smoothness': 'smoothness_avg'\n",
    "        }).reset_index()\n",
    "        return classic_summary\n",
    "    \n",
    "    @staticmethod\n",
    "    def get_improvement(reference_result:pd.DataFrame, results:pd.DataFrame) -> pd.DataFrame:\n",
    "        improvement_df = pd.DataFrame()\n",
    "        \n",
    "        improvement_df['success_improvement'] = (results['success_rate'] - reference_result['success_rate']) * 100 # percent point\n",
    "        improvement_df['time_improvement'] = (results['time_avg'] - reference_result['time_avg']) / reference_result['time_avg'] * -100\n",
    "        improvement_df['length_improvement'] = (results['path_length_avg'] - reference_result['path_length_avg']) / reference_result['path_length_avg'] * -100\n",
    "        improvement_df['smoothness_improvement'] = (results['smoothness_avg'] - reference_result['smoothness_avg']) / reference_result['smoothness_avg'] * -100\n",
    "\n",
    "        improvement_df['objective_score'] = (\n",
    "            5 * improvement_df['success_improvement'] +\n",
    "            0.3 * improvement_df['time_improvement'] +\n",
    "            0.2 * improvement_df['length_improvement'] +\n",
    "            0.2 * improvement_df['smoothness_improvement']\n",
    "            )\n",
    "\n",
    "        return improvement_df\n",
    "    \n",
    "    def set_seed(self, seed: int = 42):\n",
    "        random.seed(seed)                    # Python random\n",
    "        np.random.seed(seed)                 # NumPy\n",
    "        # torch.manual_seed(seed)              # PyTorch (CPU)\n",
    "        # torch.cuda.manual_seed(seed)         # PyTorch (GPU)\n",
    "        # torch.cuda.manual_seed_all(seed)     # If multiple GPUs\n",
    "        # torch.backends.cudnn.deterministic = True  # CUDNN 고정\n",
    "        # torch.backends.cudnn.benchmark = False     # 연산 최적화 OFF"
   ]
  },
  {
   "cell_type": "markdown",
   "id": "88f151cd",
   "metadata": {},
   "source": [
    "## Generate templete"
   ]
  },
  {
   "cell_type": "code",
   "execution_count": null,
   "id": "2cf16c85",
   "metadata": {},
   "outputs": [],
   "source": [
    "# --- PlannerResult structure ---\n",
    "class PlannerResult(NamedTuple):\n",
    "    success: bool                       # Path navigation success or not\n",
    "    path: List[Tuple[float, ...]]       # Final path from start to goal\n",
    "    nodes: List[Node]                   # All explored nodes\n",
    "    edges: List[Tuple[Node, Node]]      # Parent-child connections\n",
    "\n",
    "\n",
    "# --- Node class ---\n",
    "class Node:\n",
    "    def __init__(self, position, parent=None, cost=0.0):\n",
    "        self.position = position        # Tuple[float, ...] → 2D: (x,y), 3D: (x,y,z)\n",
    "        self.parent = parent            # Node or None\n",
    "        self.cost = cost                # Path cost\n",
    "        self.children = []\n",
    "        self.valid = True               # For collision checking etc.\n",
    "\n",
    "    #### Create additional methods if needed ####\n",
    "\n",
    "# --- Main Planner ---\n",
    "class Planner:\n",
    "    def __init__(self, max_iter: int = 5000):\n",
    "        self.max_iter = max_iter\n",
    "\n",
    "    def plan(self, map: Map) -> PlannerResult:\n",
    "        bounds = map.size                  # Tuple[int, ...]: (W,H) or (W,H,D)\n",
    "        start_position = map.start         # Tuple[float, ...] (W,H) or (W,H,D)\n",
    "        goal_position = map.goal           # Tuple[float, ...] (W,H) or (W,H,D)\n",
    "        obstacles = map.obstacles          # Rectangular blocks: 2D=(x,y,w,h), 3D=(x,y,z,w,h,d)\n",
    "\n",
    "        is_3d = len(bounds) == 3\n",
    "\n",
    "        # Core data\n",
    "        success_state = False # Path navigation success or not\n",
    "        extracted_path: List[Tuple[float, ...]] = [] # Final path from start to goal\n",
    "        nodes: List[Node] = [] # All explored nodes\n",
    "        edges: List[Tuple[Node, Node]] = [] # Parent-child connections\n",
    "\n",
    "        #### Place holder: path planning logic ####\n",
    "\n",
    "        return PlannerResult(\n",
    "            success=success_state,\n",
    "            path=extracted_path,\n",
    "            nodes=nodes,\n",
    "            edges=edges\n",
    "        )\n",
    "    \n",
    "    def _is_in_obstacle(self, pos, obstacles, is_3d):\n",
    "        for obs in obstacles:\n",
    "            if is_3d:\n",
    "                x, y, z, w, h, d = obs\n",
    "                px, py, pz = pos\n",
    "                if x <= px <= x + w and y <= py <= y + h and z <= pz <= z + d:\n",
    "                    return True\n",
    "            else:\n",
    "                x, y, w, h = obs\n",
    "                px, py = pos\n",
    "                if x <= px <= x + w and y <= py <= y + h:\n",
    "                    return True\n",
    "        return False\n",
    "\n",
    "    def _is_edge_in_obstacle(self, from_pos, to_pos, obstacles, is_3d, resolution=1.0):\n",
    "        distance = math.dist(from_pos, to_pos)\n",
    "        steps = max(1, int(distance / resolution))\n",
    "        for i in range(steps + 1):\n",
    "            interp = tuple(from_pos[d] + (to_pos[d] - from_pos[d]) * (i / steps) for d in range(len(from_pos)))\n",
    "            if self._is_in_obstacle(interp, obstacles, is_3d):\n",
    "                return True\n",
    "        return False"
   ]
  },
  {
   "cell_type": "code",
   "execution_count": 15,
   "id": "d5b1a266",
   "metadata": {},
   "outputs": [],
   "source": [
    "json_path = './eoh/src/eoh/problems/optimization/classic_benchmark_path_planning/utils/classic_method.json'"
   ]
  },
  {
   "cell_type": "code",
   "execution_count": 282,
   "id": "c92d2b7f",
   "metadata": {},
   "outputs": [],
   "source": [
    "result = {\n",
    "    \"algorithm\": \"Improved-RRT*-Connect\",\n",
    "    \"algorithm_description\": \"Improved RRT*-Connect is a bidirectional, asymptotically optimal planner that enhances RRT*-Connect by incorporating informed heuristic sampling, adaptive step size, node rejection, and pruning. It accelerates convergence and improves success rate in narrow, obstacle-rich environments.\",\n",
    "    \"planning_mechanism\": \"The planner grows two trees from start and goal using informed sampling. During expansion, it adaptively adjusts the step size near obstacles, rejects inefficient new nodes, and prunes branches that cannot contribute to an improved solution. The planner rewires nearby nodes only if doing so reduces path cost, and updates the current best path whenever a successful connection is found.\",\n",
    "    \"code\": '''\n",
    "class Node:\n",
    "    def __init__(self, position, parent=None, cost=0.0):\n",
    "        self.position = position\n",
    "        self.parent = parent\n",
    "        self.cost = cost\n",
    "        self.children = []\n",
    "        self.valid = True\n",
    "\n",
    "    def add_child(self, child):\n",
    "        self.children.append(child)\n",
    "        child.parent = self\n",
    "\n",
    "    def path_from_root(self):\n",
    "        node, path = self, []\n",
    "        while node:\n",
    "            path.append(node.position)\n",
    "            node = node.parent\n",
    "        return path[::-1]\n",
    "\n",
    "\n",
    "class Planner:\n",
    "    def __init__(self, max_iter=5000, step_size=5.0, rewire_radius=15.0):\n",
    "        self.max_iter = max_iter\n",
    "        self.base_step = step_size\n",
    "        self.rewire_radius = rewire_radius\n",
    "\n",
    "    def plan(self, map):\n",
    "        import math, random, numpy as np\n",
    "\n",
    "        bounds = map.size\n",
    "        start, goal = map.start, map.goal\n",
    "        obstacles = map.obstacles\n",
    "        is_3d = len(bounds) == 3\n",
    "        dim = len(bounds)\n",
    "\n",
    "        tree_a, tree_b = [Node(start)], [Node(goal)]\n",
    "        nodes = [tree_a[0], tree_b[0]]\n",
    "        edges = []\n",
    "        success, c_best, best_path = False, float(\"inf\"), []\n",
    "        c_min = math.dist(start, goal)\n",
    "\n",
    "        for i in range(self.max_iter):\n",
    "            tree_a, tree_b = (tree_a, tree_b) if i % 2 == 0 else (tree_b, tree_a)\n",
    "\n",
    "            sample = self._informed_sample(start, goal, c_best, c_min, bounds, dim)\n",
    "            nearest = min(tree_a, key=lambda n: math.dist(n.position, sample))\n",
    "\n",
    "            step = self._adaptive_step(nearest.position, sample, obstacles, is_3d)\n",
    "            new_pos = self._steer(nearest.position, sample, step)\n",
    "\n",
    "            if self._is_in_obstacle(new_pos, obstacles, is_3d):\n",
    "                continue\n",
    "            if self._is_edge_in_obstacle(nearest.position, new_pos, obstacles, is_3d):\n",
    "                continue\n",
    "\n",
    "            cost = nearest.cost + math.dist(nearest.position, new_pos)\n",
    "            if cost + math.dist(new_pos, goal) >= c_best:\n",
    "                continue  # pruning\n",
    "\n",
    "            new_node = Node(new_pos, nearest, cost)\n",
    "            nearest.add_child(new_node)\n",
    "            tree_a.append(new_node)\n",
    "            nodes.append(new_node)\n",
    "            edges.append((nearest, new_node))\n",
    "\n",
    "            near_nodes = [n for n in tree_a if math.dist(n.position, new_node.position) <= self.rewire_radius]\n",
    "            for near in near_nodes:\n",
    "                new_cost = new_node.cost + math.dist(new_node.position, near.position)\n",
    "                if new_cost < near.cost and not self._is_edge_in_obstacle(new_node.position, near.position, obstacles, is_3d):\n",
    "                    if near.parent:\n",
    "                        near.parent.children.remove(near)\n",
    "                        edges.remove((near.parent, near))\n",
    "                    near.parent = new_node\n",
    "                    near.cost = new_cost\n",
    "                    new_node.add_child(near)\n",
    "                    edges.append((new_node, near))\n",
    "\n",
    "            # Try to connect to the other tree\n",
    "            other_nearest = min(tree_b, key=lambda n: math.dist(n.position, new_node.position))\n",
    "            connect_cost = new_node.cost + math.dist(new_node.position, other_nearest.position) + other_nearest.cost\n",
    "            if connect_cost < c_best and not self._is_edge_in_obstacle(new_node.position, other_nearest.position, obstacles, is_3d):\n",
    "                c_best = connect_cost\n",
    "                path_a = new_node.path_from_root()\n",
    "                path_b = other_nearest.path_from_root()\n",
    "                best_path = path_a + path_b[::-1]\n",
    "                success = True\n",
    "\n",
    "        return PlannerResult(success=success, path=best_path, nodes=nodes, edges=edges)\n",
    "\n",
    "    def _informed_sample(self, start, goal, c_best, c_min, bounds, dim):\n",
    "        import numpy as np, math, random\n",
    "        if c_best == float(\"inf\"):\n",
    "            return tuple(random.uniform(0, bounds[d]) for d in range(dim))\n",
    "        x_center = [(s + g) / 2 for s, g in zip(start, goal)]\n",
    "        a1 = np.array(goal) - np.array(start)\n",
    "        a1 = a1 / np.linalg.norm(a1)\n",
    "        M = np.outer(a1, np.eye(dim)[0])\n",
    "        U, _, Vt = np.linalg.svd(M)\n",
    "        C = U @ np.diag([1] * (dim - 1) + [np.linalg.det(U) * np.linalg.det(Vt)]) @ Vt\n",
    "        r1 = c_best / 2\n",
    "        r2 = math.sqrt(c_best**2 - c_min**2) / 2\n",
    "        L = np.diag([r1] + [r2] * (dim - 1))\n",
    "        while True:\n",
    "            x_ball = np.random.normal(0, 1, dim)\n",
    "            x_ball /= np.linalg.norm(x_ball)\n",
    "            x_ball *= random.random() ** (1 / dim)\n",
    "            x_rand = C @ L @ x_ball + x_center\n",
    "            if all(0 <= x_rand[d] <= bounds[d] for d in range(dim)):\n",
    "                return tuple(x_rand)\n",
    "\n",
    "    def _adaptive_step(self, from_pos, to_pos, obstacles, is_3d):\n",
    "        import math\n",
    "        distance = math.dist(from_pos, to_pos)\n",
    "        steps = max(2, int(distance))\n",
    "        for i in range(1, steps + 1):\n",
    "            interp = tuple(from_pos[d] + (to_pos[d] - from_pos[d]) * (i / steps) for d in range(len(from_pos)))\n",
    "            if self._is_in_obstacle(interp, obstacles, is_3d):\n",
    "                return max(self.base_step * 0.3, 1.0)\n",
    "        return self.base_step\n",
    "\n",
    "    def _steer(self, from_pos, to_pos, step):\n",
    "        import math\n",
    "        dist = math.dist(from_pos, to_pos)\n",
    "        if dist <= step:\n",
    "            return to_pos\n",
    "        return tuple(from_pos[d] + (to_pos[d] - from_pos[d]) * step / dist for d in range(len(from_pos)))\n",
    "\n",
    "    def _is_in_obstacle(self, pos, obstacles, is_3d):\n",
    "        for obs in obstacles:\n",
    "            if is_3d:\n",
    "                x, y, z, w, h, d = obs\n",
    "                px, py, pz = pos\n",
    "                if x <= px <= x + w and y <= py <= y + h and z <= pz <= z + d:\n",
    "                    return True\n",
    "            else:\n",
    "                x, y, w, h = obs\n",
    "                px, py = pos\n",
    "                if x <= px <= x + w and y <= py <= y + h:\n",
    "                    return True\n",
    "        return False\n",
    "\n",
    "    def _is_edge_in_obstacle(self, from_pos, to_pos, obstacles, is_3d, resolution=1.0):\n",
    "        import math\n",
    "        distance = math.dist(from_pos, to_pos)\n",
    "        steps = max(1, int(distance / resolution))\n",
    "        for i in range(steps + 1):\n",
    "            interp = tuple(from_pos[d] + (to_pos[d] - from_pos[d]) * (i / steps) for d in range(len(from_pos)))\n",
    "            if self._is_in_obstacle(interp, obstacles, is_3d):\n",
    "                return True\n",
    "        return False\n",
    "\n",
    "    '''\n",
    "}\n",
    "\n",
    "# 저장\n",
    "with open(json_path, \"a\") as f:\n",
    "    json.dump(result, f, indent=4)\n",
    "    f.write(\",\\n\")"
   ]
  },
  {
   "cell_type": "code",
   "execution_count": 12,
   "id": "8ff23a4e",
   "metadata": {},
   "outputs": [
    {
     "name": "stdout",
     "output_type": "stream",
     "text": [
      "dict_keys(['algorithm', 'algorithm_description', 'planning_mechanism', 'code'])\n"
     ]
    }
   ],
   "source": [
    "json_path = './eoh/src/eoh/problems/optimization/classic_benchmark_path_planning/utils/classic_method.json'\n",
    "with open(json_path, \"r\") as f:\n",
    "    classic_method = json.load(f)\n",
    "\n",
    "print(classic_method[0].keys())"
   ]
  },
  {
   "cell_type": "code",
   "execution_count": null,
   "id": "9afaf193",
   "metadata": {},
   "outputs": [],
   "source": [
    "Instruction : Generate Improved-RRT*-Connect algorithm\n",
    "\n",
    "Refer to below architecture:\n",
    "!!!!!generate Only class Node and Planner!!!!!!\n",
    "# --- Node class ---\n",
    "class Node:\n",
    "    def __init__(self, position, parent=None, cost=0.0):\n",
    "        self.position = position        # Tuple[float, ...] → 2D: (x,y), 3D: (x,y,z)\n",
    "        self.parent = parent            # Node or None\n",
    "        self.cost = cost                # Path cost\n",
    "        self.children = []\n",
    "        self.valid = True               # For collision checking etc.\n",
    "\n",
    "    #### Create additional methods if needed ####\n",
    "\n",
    "# --- PlannerResult structure ---\n",
    "class PlannerResult(NamedTuple):\n",
    "    success: bool                       # Path navigation success or not\n",
    "    path: List[Tuple[float, ...]]       # Final path from start to goal\n",
    "    nodes: List[Node]                   # All explored nodes\n",
    "    edges: List[Tuple[Node, Node]]      # Parent-child connections\n",
    "\n",
    "# --- Main Planner ---\n",
    "class Planner:\n",
    "    def __init__(self, max_iter: int = 5000, step_size: float=5.0):\n",
    "        self.max_iter = max_iter\n",
    "        self.step_size = step_size\n",
    "\n",
    "    def plan(self, map: Map) -> PlannerResult:\n",
    "        bounds = map.size                  # Tuple[int, ...]: (W,H) or (W,H,D)\n",
    "        start_position = map.start         # Tuple[float, ...] (W,H) or (W,H,D)\n",
    "        goal_position = map.goal           # Tuple[float, ...] (W,H) or (W,H,D)\n",
    "        obstacles = map.obstacles          # Rectangular blocks: 2D=(x,y,w,h), 3D=(x,y,z,w,h,d)\n",
    "\n",
    "        is_3d = len(bounds) == 3\n",
    "\n",
    "        # Core data\n",
    "        success_state = False # Path navigation success or not\n",
    "        extracted_path: List[Tuple[float, ...]] = [] # Final path from start to goal\n",
    "        nodes: List[Node] = [] # All explored nodes\n",
    "        edges: List[Tuple[Node, Node]] = [] # Parent-child connections\n",
    "\n",
    "        #### Place holder: path planning logic ####\n",
    "\n",
    "        return PlannerResult(\n",
    "            success=success_state,\n",
    "            path=extracted_path,\n",
    "            nodes=nodes,\n",
    "            edges=edges\n",
    "        )\n",
    "\n",
    "    def _is_in_obstacle(self, pos, obstacles, is_3d):\n",
    "        for obs in obstacles:\n",
    "            if is_3d:\n",
    "                x, y, z, w, h, d = obs\n",
    "                px, py, pz = pos\n",
    "                if x <= px <= x + w and y <= py <= y + h and z <= pz <= z + d:\n",
    "                    return True\n",
    "            else:\n",
    "                x, y, w, h = obs\n",
    "                px, py = pos\n",
    "                if x <= px <= x + w and y <= py <= y + h:\n",
    "                    return True\n",
    "        return False\n",
    "\n",
    "    def _is_edge_in_obstacle(self, from_pos, to_pos, obstacles, is_3d, resolution=1.0):\n",
    "        distance = math.dist(from_pos, to_pos)\n",
    "        steps = max(1, int(distance / resolution))\n",
    "        for i in range(steps + 1):\n",
    "            interp = tuple(from_pos[d] + (to_pos[d] - from_pos[d]) * (i / steps) for d in range(len(from_pos)))\n",
    "            if self._is_in_obstacle(interp, obstacles, is_3d):\n",
    "                return True\n",
    "        return False\n",
    "\n",
    "### Objective:\n",
    "- Improve path planning performance in terms of:\n",
    "  - Planning efficiency\n",
    "  - Path quality\n",
    "  - Robustness\n",
    "  - Success rate\n",
    "  - Path smoothness\n",
    "  - Path lengths\n",
    "  - Reduce search time\n",
    "\n",
    "### Constraints:\n",
    "- Implement it in Python.\n",
    "- You DO NOT NEED to declare the any imports.\n",
    "- When connecting nodes and adding edges in the planner, always perform two critical checks:\n",
    "1.Collision check for the node position: Ensure that the new node itself does not lie inside any obstacle.\n",
    "2.Edge-obstacle intersection check: Before adding an edge between two nodes, verify that the straight-line path between them does not intersect or pass through any obstacle.\n",
    "- DO NOT OVER MAP BOUND\n",
    "- After code generation, you must review the code to ensure it is syntactically correct, logically coherent, and executable within the expected environment.\n",
    "- At the top of your response, write an description of the algorithm in curly braces {}, followed by a concise explanation of the planning mechanism in angle brackets <>.\n",
    "- Both the description and the planning mechanism should be placed outside and above the code block.\n",
    "- Output the code block containing the implementation only.\n",
    "⚠️ Do not give additional explanations.\n"
   ]
  },
  {
   "cell_type": "code",
   "execution_count": 32,
   "id": "4869bf88",
   "metadata": {},
   "outputs": [
    {
     "data": {
      "text/plain": [
       "dict_keys(['operator', 'algorithm_description', 'planning_mechanism', 'code', 'objective', 'time_improvement', 'length_improvement', 'other_inf', 'success_rate'])"
      ]
     },
     "execution_count": 32,
     "metadata": {},
     "output_type": "execute_result"
    }
   ],
   "source": [
    "filtered_sorted_algorithms[0].keys()"
   ]
  },
  {
   "cell_type": "code",
   "execution_count": 42,
   "id": "cf0f96a0",
   "metadata": {},
   "outputs": [],
   "source": [
    "result = filtered_sorted_algorithms[3]\n",
    "\n",
    "code_string = result['code']\n",
    "with warnings.catch_warnings():\n",
    "    warnings.simplefilter(\"ignore\")\n",
    "    planning_module = types.ModuleType(\"planning_module\")\n",
    "    exec(import_string+code_string, planning_module.__dict__)\n",
    "    sys.modules[planning_module.__name__] = planning_module\n",
    "    p = planning_module.Planner(max_iter=5000, step_size=5.0)\n"
   ]
  },
  {
   "cell_type": "code",
   "execution_count": 43,
   "id": "80c613a0",
   "metadata": {},
   "outputs": [
    {
     "ename": "NameError",
     "evalue": "name 'Planner' is not defined",
     "output_type": "error",
     "traceback": [
      "\u001b[0;31m---------------------------------------------------------------------------\u001b[0m",
      "\u001b[0;31mNameError\u001b[0m                                 Traceback (most recent call last)",
      "Cell \u001b[0;32mIn[43], line 1\u001b[0m\n\u001b[0;32m----> 1\u001b[0m p \u001b[38;5;241m=\u001b[39m \u001b[43mPlanner\u001b[49m(max_iter\u001b[38;5;241m=\u001b[39m\u001b[38;5;241m5000\u001b[39m, step_size\u001b[38;5;241m=\u001b[39m\u001b[38;5;241m5\u001b[39m)\n\u001b[1;32m      2\u001b[0m \u001b[38;5;66;03m# p = planning_module.Planner()\u001b[39;00m\n",
      "\u001b[0;31mNameError\u001b[0m: name 'Planner' is not defined"
     ]
    }
   ],
   "source": [
    "p = Planner(max_iter=5000, step_size=5)\n",
    "# p = planning_module.Planner()"
   ]
  },
  {
   "cell_type": "code",
   "execution_count": 44,
   "id": "4cb021ba",
   "metadata": {},
   "outputs": [],
   "source": [
    "result = p.plan(map=multi_obs_map)"
   ]
  },
  {
   "cell_type": "code",
   "execution_count": 45,
   "id": "d502c93b",
   "metadata": {},
   "outputs": [],
   "source": [
    "result2 = p.plan(map=maze_map)"
   ]
  },
  {
   "cell_type": "code",
   "execution_count": 46,
   "id": "6f02af64",
   "metadata": {},
   "outputs": [],
   "source": [
    "result3 = p.plan(map=narrow_map)"
   ]
  },
  {
   "cell_type": "code",
   "execution_count": 47,
   "id": "b4c7cc33",
   "metadata": {},
   "outputs": [
    {
     "data": {
      "application/vnd.plotly.v1+json": {
       "config": {
        "plotlyServerURL": "https://plot.ly"
       },
       "data": [
        {
         "marker": {
          "color": "blue",
          "size": 4
         },
         "mode": "markers",
         "name": "nodes",
         "type": "scatter",
         "x": [
          1,
          99,
          4.535533905932738,
          95.46446609406726,
          91.92893218813452,
          88.39339828220179,
          84.85786437626905,
          8.195565313325934,
          12.984319976798957,
          14.980922077676631,
          19.231593057082232,
          89.18123545370352,
          99,
          16.961242884538223,
          18.440070070752537,
          85.3895650602439,
          81.67125265452978,
          19.92400217903912,
          24.229582190770543,
          94.8463539535185,
          84.60357714049682,
          16.194565651944583,
          17.85793071945544,
          83.82911047841175,
          22.295903016876572,
          26.733875314297705,
          78.88389441687147,
          73.8862689293668,
          99,
          31.55677607473863,
          29.207392435757242,
          74.16228808979827,
          81.43587214104565,
          17.645111079169816,
          13.45437039896324,
          70.36217499807154,
          76.68940969373473,
          19.33578857373382,
          18.19690171993028,
          99,
          65.73726933114413,
          36.5564850871592,
          25.618454703426178,
          79.82932838850088,
          72.79367899257089,
          18.55499363819576,
          1,
          88.86369923370893,
          99.52685079857673,
          1,
          15.070385352740722,
          82.46675053678076,
          99,
          1,
          41.51413530994654,
          82.63102554400054,
          46.33767138427337,
          78.6422288900834,
          74.4571778042607,
          48.620880522368225,
          69.71331594608185,
          64.969454087903,
          47.073594607197556,
          45.72193374524662,
          18.812840211540415,
          81.06553976426147,
          64.91636045110918,
          52.036189461686256,
          2.153981304518096,
          63.1857902706584,
          99,
          55.422274773155564,
          58.71974743252385,
          60.41292467628378,
          46.27989239838038,
          53.75684935989968,
          66.26320926147554,
          3.486581845736303,
          13.470940043391494,
          48.895407603099294,
          44.033965846298905,
          12.43083206900073,
          39.484881030317474,
          34.935796214336044,
          10.301379881860367,
          31.167958384107234,
          8.460477560981028,
          27.643627400233203,
          24.119296416359173,
          20.594965432485143,
          17.07063444861111,
          13.546303464737077,
          10.021972480863045,
          8.460477560981028
         ],
         "y": [
          1,
          99,
          4.535533905932738,
          95.46446609406726,
          91.92893218813452,
          88.39339828220179,
          84.85786437626905,
          7.942023315412148,
          6.504028609905421,
          11.088085770409734,
          13.720916229219991,
          96.10627137182516,
          99,
          18.175746202858647,
          22.95204918249818,
          79.88621531557895,
          88.71085097563245,
          27.726768598128395,
          13.862706988910421,
          87.86831028467394,
          74.94837945459575,
          31.057129417975553,
          35.77234061708261,
          70.00872345550849,
          38.07546933413744,
          40.37859805119226,
          69.2705919599848,
          69.42466819645156,
          99,
          41.69754772989057,
          13.392169886329274,
          64.43229266739982,
          83.0617847603061,
          40.477957650800825,
          43.20517098152172,
          72.97160517973839,
          60.11793797649672,
          45.18344483167538,
          43.9882995064706,
          99,
          74.87167032915374,
          41.75149020963064,
          9.059475457577623,
          61.57042461021495,
          70.88557146006426,
          25.54878997308545,
          1,
          82.91907746557727,
          86.7036170651093,
          1,
          8.39304852266346,
          57.32260111908885,
          99,
          1,
          41.102102599264775,
          52.325300475541084,
          42.41872697229897,
          49.310420502192315,
          46.574484207419694,
          37.97047382845473,
          44.99468210889093,
          43.41488001036216,
          47.3642721404236,
          52.178107712425415,
          20.966372069924,
          68.13236656774289,
          38.4151619117358,
          47.97472468583746,
          8.931919604059683,
          33.72419965964567,
          99,
          51.65364113819837,
          31.47598673201913,
          51.34800484387731,
          57.14687839956657,
          32.083969232378564,
          29.783451969808365,
          4.096759950814377,
          22.397299895721858,
          30.915044921211432,
          29.7461206100443,
          15.330464261143472,
          27.671071854711737,
          25.596023099379174,
          47.08571872624273,
          28.882875405932765,
          51.73449046133374,
          32.42957684756914,
          35.97627828920551,
          39.52297973084188,
          43.069681172478255,
          46.61638261411462,
          50.16308405575099,
          51.73449046133374
         ]
        },
        {
         "line": {
          "color": "green"
         },
         "marker": {
          "size": 6
         },
         "mode": "lines+markers",
         "name": "Path",
         "type": "scatter",
         "x": [
          1,
          4.535533905932738,
          14.980922077676631,
          18.440070070752537,
          19.92400217903912,
          10.301379881860367,
          8.460477560981028,
          10.021972480863045,
          13.546303464737077,
          17.07063444861111,
          20.594965432485143,
          24.119296416359173,
          27.643627400233203,
          31.167958384107234,
          39.484881030317474,
          63.1857902706584,
          78.6422288900834,
          82.63102554400054,
          82.46675053678076,
          79.82932838850088,
          83.82911047841175,
          85.3895650602439,
          88.39339828220179,
          99
         ],
         "y": [
          1,
          4.535533905932738,
          11.088085770409734,
          22.95204918249818,
          27.726768598128395,
          47.08571872624273,
          51.73449046133374,
          50.16308405575099,
          46.61638261411462,
          43.069681172478255,
          39.52297973084188,
          35.97627828920551,
          32.42957684756914,
          28.882875405932765,
          27.671071854711737,
          33.72419965964567,
          49.310420502192315,
          52.325300475541084,
          57.32260111908885,
          61.57042461021495,
          70.00872345550849,
          79.88621531557895,
          88.39339828220179,
          99
         ]
        },
        {
         "hoverinfo": "skip",
         "line": {
          "color": "lightblue",
          "width": 1
         },
         "mode": "lines",
         "showlegend": false,
         "type": "scatter",
         "x": [
          1,
          4.535533905932738
         ],
         "y": [
          1,
          4.535533905932738
         ]
        },
        {
         "hoverinfo": "skip",
         "line": {
          "color": "lightblue",
          "width": 1
         },
         "mode": "lines",
         "showlegend": false,
         "type": "scatter",
         "x": [
          99,
          95.46446609406726
         ],
         "y": [
          99,
          95.46446609406726
         ]
        },
        {
         "hoverinfo": "skip",
         "line": {
          "color": "lightblue",
          "width": 1
         },
         "mode": "lines",
         "showlegend": false,
         "type": "scatter",
         "x": [
          95.46446609406726,
          91.92893218813452
         ],
         "y": [
          95.46446609406726,
          91.92893218813452
         ]
        },
        {
         "hoverinfo": "skip",
         "line": {
          "color": "lightblue",
          "width": 1
         },
         "mode": "lines",
         "showlegend": false,
         "type": "scatter",
         "x": [
          91.92893218813452,
          88.39339828220179
         ],
         "y": [
          91.92893218813452,
          88.39339828220179
         ]
        },
        {
         "hoverinfo": "skip",
         "line": {
          "color": "lightblue",
          "width": 1
         },
         "mode": "lines",
         "showlegend": false,
         "type": "scatter",
         "x": [
          88.39339828220179,
          84.85786437626905
         ],
         "y": [
          88.39339828220179,
          84.85786437626905
         ]
        },
        {
         "hoverinfo": "skip",
         "line": {
          "color": "lightblue",
          "width": 1
         },
         "mode": "lines",
         "showlegend": false,
         "type": "scatter",
         "x": [
          1,
          8.195565313325934
         ],
         "y": [
          1,
          7.942023315412148
         ]
        },
        {
         "hoverinfo": "skip",
         "line": {
          "color": "lightblue",
          "width": 1
         },
         "mode": "lines",
         "showlegend": false,
         "type": "scatter",
         "x": [
          1,
          12.984319976798957
         ],
         "y": [
          1,
          6.504028609905421
         ]
        },
        {
         "hoverinfo": "skip",
         "line": {
          "color": "lightblue",
          "width": 1
         },
         "mode": "lines",
         "showlegend": false,
         "type": "scatter",
         "x": [
          4.535533905932738,
          14.980922077676631
         ],
         "y": [
          4.535533905932738,
          11.088085770409734
         ]
        },
        {
         "hoverinfo": "skip",
         "line": {
          "color": "lightblue",
          "width": 1
         },
         "mode": "lines",
         "showlegend": false,
         "type": "scatter",
         "x": [
          14.980922077676631,
          19.231593057082232
         ],
         "y": [
          11.088085770409734,
          13.720916229219991
         ]
        },
        {
         "hoverinfo": "skip",
         "line": {
          "color": "lightblue",
          "width": 1
         },
         "mode": "lines",
         "showlegend": false,
         "type": "scatter",
         "x": [
          99,
          89.18123545370352
         ],
         "y": [
          99,
          96.10627137182516
         ]
        },
        {
         "hoverinfo": "skip",
         "line": {
          "color": "lightblue",
          "width": 1
         },
         "mode": "lines",
         "showlegend": false,
         "type": "scatter",
         "x": [
          99,
          99
         ],
         "y": [
          99,
          99
         ]
        },
        {
         "hoverinfo": "skip",
         "line": {
          "color": "lightblue",
          "width": 1
         },
         "mode": "lines",
         "showlegend": false,
         "type": "scatter",
         "x": [
          14.980922077676631,
          16.961242884538223
         ],
         "y": [
          11.088085770409734,
          18.175746202858647
         ]
        },
        {
         "hoverinfo": "skip",
         "line": {
          "color": "lightblue",
          "width": 1
         },
         "mode": "lines",
         "showlegend": false,
         "type": "scatter",
         "x": [
          14.980922077676631,
          18.440070070752537
         ],
         "y": [
          11.088085770409734,
          22.95204918249818
         ]
        },
        {
         "hoverinfo": "skip",
         "line": {
          "color": "lightblue",
          "width": 1
         },
         "mode": "lines",
         "showlegend": false,
         "type": "scatter",
         "x": [
          88.39339828220179,
          85.3895650602439
         ],
         "y": [
          88.39339828220179,
          79.88621531557895
         ]
        },
        {
         "hoverinfo": "skip",
         "line": {
          "color": "lightblue",
          "width": 1
         },
         "mode": "lines",
         "showlegend": false,
         "type": "scatter",
         "x": [
          91.92893218813452,
          81.67125265452978
         ],
         "y": [
          91.92893218813452,
          88.71085097563245
         ]
        },
        {
         "hoverinfo": "skip",
         "line": {
          "color": "lightblue",
          "width": 1
         },
         "mode": "lines",
         "showlegend": false,
         "type": "scatter",
         "x": [
          18.440070070752537,
          19.92400217903912
         ],
         "y": [
          22.95204918249818,
          27.726768598128395
         ]
        },
        {
         "hoverinfo": "skip",
         "line": {
          "color": "lightblue",
          "width": 1
         },
         "mode": "lines",
         "showlegend": false,
         "type": "scatter",
         "x": [
          14.980922077676631,
          24.229582190770543
         ],
         "y": [
          11.088085770409734,
          13.862706988910421
         ]
        },
        {
         "hoverinfo": "skip",
         "line": {
          "color": "lightblue",
          "width": 1
         },
         "mode": "lines",
         "showlegend": false,
         "type": "scatter",
         "x": [
          99,
          94.8463539535185
         ],
         "y": [
          99,
          87.86831028467394
         ]
        },
        {
         "hoverinfo": "skip",
         "line": {
          "color": "lightblue",
          "width": 1
         },
         "mode": "lines",
         "showlegend": false,
         "type": "scatter",
         "x": [
          18.440070070752537,
          16.194565651944583
         ],
         "y": [
          22.95204918249818,
          31.057129417975553
         ]
        },
        {
         "hoverinfo": "skip",
         "line": {
          "color": "lightblue",
          "width": 1
         },
         "mode": "lines",
         "showlegend": false,
         "type": "scatter",
         "x": [
          19.92400217903912,
          17.85793071945544
         ],
         "y": [
          27.726768598128395,
          35.77234061708261
         ]
        },
        {
         "hoverinfo": "skip",
         "line": {
          "color": "lightblue",
          "width": 1
         },
         "mode": "lines",
         "showlegend": false,
         "type": "scatter",
         "x": [
          85.3895650602439,
          83.82911047841175
         ],
         "y": [
          79.88621531557895,
          70.00872345550849
         ]
        },
        {
         "hoverinfo": "skip",
         "line": {
          "color": "lightblue",
          "width": 1
         },
         "mode": "lines",
         "showlegend": false,
         "type": "scatter",
         "x": [
          17.85793071945544,
          22.295903016876572
         ],
         "y": [
          35.77234061708261,
          38.07546933413744
         ]
        },
        {
         "hoverinfo": "skip",
         "line": {
          "color": "lightblue",
          "width": 1
         },
         "mode": "lines",
         "showlegend": false,
         "type": "scatter",
         "x": [
          22.295903016876572,
          26.733875314297705
         ],
         "y": [
          38.07546933413744,
          40.37859805119226
         ]
        },
        {
         "hoverinfo": "skip",
         "line": {
          "color": "lightblue",
          "width": 1
         },
         "mode": "lines",
         "showlegend": false,
         "type": "scatter",
         "x": [
          83.82911047841175,
          78.88389441687147
         ],
         "y": [
          70.00872345550849,
          69.2705919599848
         ]
        },
        {
         "hoverinfo": "skip",
         "line": {
          "color": "lightblue",
          "width": 1
         },
         "mode": "lines",
         "showlegend": false,
         "type": "scatter",
         "x": [
          83.82911047841175,
          73.8862689293668
         ],
         "y": [
          70.00872345550849,
          69.42466819645156
         ]
        },
        {
         "hoverinfo": "skip",
         "line": {
          "color": "lightblue",
          "width": 1
         },
         "mode": "lines",
         "showlegend": false,
         "type": "scatter",
         "x": [
          99,
          99
         ],
         "y": [
          99,
          99
         ]
        },
        {
         "hoverinfo": "skip",
         "line": {
          "color": "lightblue",
          "width": 1
         },
         "mode": "lines",
         "showlegend": false,
         "type": "scatter",
         "x": [
          22.295903016876572,
          31.55677607473863
         ],
         "y": [
          38.07546933413744,
          41.69754772989057
         ]
        },
        {
         "hoverinfo": "skip",
         "line": {
          "color": "lightblue",
          "width": 1
         },
         "mode": "lines",
         "showlegend": false,
         "type": "scatter",
         "x": [
          24.229582190770543,
          29.207392435757242
         ],
         "y": [
          13.862706988910421,
          13.392169886329274
         ]
        },
        {
         "hoverinfo": "skip",
         "line": {
          "color": "lightblue",
          "width": 1
         },
         "mode": "lines",
         "showlegend": false,
         "type": "scatter",
         "x": [
          88.39339828220179,
          81.43587214104565
         ],
         "y": [
          88.39339828220179,
          83.0617847603061
         ]
        },
        {
         "hoverinfo": "skip",
         "line": {
          "color": "lightblue",
          "width": 1
         },
         "mode": "lines",
         "showlegend": false,
         "type": "scatter",
         "x": [
          16.194565651944583,
          17.645111079169816
         ],
         "y": [
          31.057129417975553,
          40.477957650800825
         ]
        },
        {
         "hoverinfo": "skip",
         "line": {
          "color": "lightblue",
          "width": 1
         },
         "mode": "lines",
         "showlegend": false,
         "type": "scatter",
         "x": [
          17.85793071945544,
          13.45437039896324
         ],
         "y": [
          35.77234061708261,
          43.20517098152172
         ]
        },
        {
         "hoverinfo": "skip",
         "line": {
          "color": "lightblue",
          "width": 1
         },
         "mode": "lines",
         "showlegend": false,
         "type": "scatter",
         "x": [
          78.88389441687147,
          70.36217499807154
         ],
         "y": [
          69.2705919599848,
          72.97160517973839
         ]
        },
        {
         "hoverinfo": "skip",
         "line": {
          "color": "lightblue",
          "width": 1
         },
         "mode": "lines",
         "showlegend": false,
         "type": "scatter",
         "x": [
          17.85793071945544,
          19.33578857373382
         ],
         "y": [
          35.77234061708261,
          45.18344483167538
         ]
        },
        {
         "hoverinfo": "skip",
         "line": {
          "color": "lightblue",
          "width": 1
         },
         "mode": "lines",
         "showlegend": false,
         "type": "scatter",
         "x": [
          17.645111079169816,
          18.19690171993028
         ],
         "y": [
          40.477957650800825,
          43.9882995064706
         ]
        },
        {
         "hoverinfo": "skip",
         "line": {
          "color": "lightblue",
          "width": 1
         },
         "mode": "lines",
         "showlegend": false,
         "type": "scatter",
         "x": [
          99,
          99
         ],
         "y": [
          99,
          99
         ]
        },
        {
         "hoverinfo": "skip",
         "line": {
          "color": "lightblue",
          "width": 1
         },
         "mode": "lines",
         "showlegend": false,
         "type": "scatter",
         "x": [
          70.36217499807154,
          65.73726933114413
         ],
         "y": [
          72.97160517973839,
          74.87167032915374
         ]
        },
        {
         "hoverinfo": "skip",
         "line": {
          "color": "lightblue",
          "width": 1
         },
         "mode": "lines",
         "showlegend": false,
         "type": "scatter",
         "x": [
          31.55677607473863,
          36.5564850871592
         ],
         "y": [
          41.69754772989057,
          41.75149020963064
         ]
        },
        {
         "hoverinfo": "skip",
         "line": {
          "color": "lightblue",
          "width": 1
         },
         "mode": "lines",
         "showlegend": false,
         "type": "scatter",
         "x": [
          19.231593057082232,
          25.618454703426178
         ],
         "y": [
          13.720916229219991,
          9.059475457577623
         ]
        },
        {
         "hoverinfo": "skip",
         "line": {
          "color": "lightblue",
          "width": 1
         },
         "mode": "lines",
         "showlegend": false,
         "type": "scatter",
         "x": [
          83.82911047841175,
          79.82932838850088
         ],
         "y": [
          70.00872345550849,
          61.57042461021495
         ]
        },
        {
         "hoverinfo": "skip",
         "line": {
          "color": "lightblue",
          "width": 1
         },
         "mode": "lines",
         "showlegend": false,
         "type": "scatter",
         "x": [
          79.82932838850088,
          76.68940969373473
         ],
         "y": [
          61.57042461021495,
          60.11793797649672
         ]
        },
        {
         "hoverinfo": "skip",
         "line": {
          "color": "lightblue",
          "width": 1
         },
         "mode": "lines",
         "showlegend": false,
         "type": "scatter",
         "x": [
          78.88389441687147,
          72.79367899257089
         ],
         "y": [
          69.2705919599848,
          70.88557146006426
         ]
        },
        {
         "hoverinfo": "skip",
         "line": {
          "color": "lightblue",
          "width": 1
         },
         "mode": "lines",
         "showlegend": false,
         "type": "scatter",
         "x": [
          16.961242884538223,
          18.55499363819576
         ],
         "y": [
          18.175746202858647,
          25.54878997308545
         ]
        },
        {
         "hoverinfo": "skip",
         "line": {
          "color": "lightblue",
          "width": 1
         },
         "mode": "lines",
         "showlegend": false,
         "type": "scatter",
         "x": [
          1,
          1
         ],
         "y": [
          1,
          1
         ]
        },
        {
         "hoverinfo": "skip",
         "line": {
          "color": "lightblue",
          "width": 1
         },
         "mode": "lines",
         "showlegend": false,
         "type": "scatter",
         "x": [
          94.8463539535185,
          88.86369923370893
         ],
         "y": [
          87.86831028467394,
          82.91907746557727
         ]
        },
        {
         "hoverinfo": "skip",
         "line": {
          "color": "lightblue",
          "width": 1
         },
         "mode": "lines",
         "showlegend": false,
         "type": "scatter",
         "x": [
          88.86369923370893,
          84.60357714049682
         ],
         "y": [
          82.91907746557727,
          74.94837945459575
         ]
        },
        {
         "hoverinfo": "skip",
         "line": {
          "color": "lightblue",
          "width": 1
         },
         "mode": "lines",
         "showlegend": false,
         "type": "scatter",
         "x": [
          94.8463539535185,
          99.52685079857673
         ],
         "y": [
          87.86831028467394,
          86.7036170651093
         ]
        },
        {
         "hoverinfo": "skip",
         "line": {
          "color": "lightblue",
          "width": 1
         },
         "mode": "lines",
         "showlegend": false,
         "type": "scatter",
         "x": [
          1,
          1
         ],
         "y": [
          1,
          1
         ]
        },
        {
         "hoverinfo": "skip",
         "line": {
          "color": "lightblue",
          "width": 1
         },
         "mode": "lines",
         "showlegend": false,
         "type": "scatter",
         "x": [
          12.984319976798957,
          15.070385352740722
         ],
         "y": [
          6.504028609905421,
          8.39304852266346
         ]
        },
        {
         "hoverinfo": "skip",
         "line": {
          "color": "lightblue",
          "width": 1
         },
         "mode": "lines",
         "showlegend": false,
         "type": "scatter",
         "x": [
          79.82932838850088,
          82.46675053678076
         ],
         "y": [
          61.57042461021495,
          57.32260111908885
         ]
        },
        {
         "hoverinfo": "skip",
         "line": {
          "color": "lightblue",
          "width": 1
         },
         "mode": "lines",
         "showlegend": false,
         "type": "scatter",
         "x": [
          99,
          99
         ],
         "y": [
          99,
          99
         ]
        },
        {
         "hoverinfo": "skip",
         "line": {
          "color": "lightblue",
          "width": 1
         },
         "mode": "lines",
         "showlegend": false,
         "type": "scatter",
         "x": [
          1,
          1
         ],
         "y": [
          1,
          1
         ]
        },
        {
         "hoverinfo": "skip",
         "line": {
          "color": "lightblue",
          "width": 1
         },
         "mode": "lines",
         "showlegend": false,
         "type": "scatter",
         "x": [
          36.5564850871592,
          41.51413530994654
         ],
         "y": [
          41.75149020963064,
          41.102102599264775
         ]
        },
        {
         "hoverinfo": "skip",
         "line": {
          "color": "lightblue",
          "width": 1
         },
         "mode": "lines",
         "showlegend": false,
         "type": "scatter",
         "x": [
          82.46675053678076,
          82.63102554400054
         ],
         "y": [
          57.32260111908885,
          52.325300475541084
         ]
        },
        {
         "hoverinfo": "skip",
         "line": {
          "color": "lightblue",
          "width": 1
         },
         "mode": "lines",
         "showlegend": false,
         "type": "scatter",
         "x": [
          41.51413530994654,
          46.33767138427337
         ],
         "y": [
          41.102102599264775,
          42.41872697229897
         ]
        },
        {
         "hoverinfo": "skip",
         "line": {
          "color": "lightblue",
          "width": 1
         },
         "mode": "lines",
         "showlegend": false,
         "type": "scatter",
         "x": [
          82.63102554400054,
          78.6422288900834
         ],
         "y": [
          52.325300475541084,
          49.310420502192315
         ]
        },
        {
         "hoverinfo": "skip",
         "line": {
          "color": "lightblue",
          "width": 1
         },
         "mode": "lines",
         "showlegend": false,
         "type": "scatter",
         "x": [
          78.6422288900834,
          74.4571778042607
         ],
         "y": [
          49.310420502192315,
          46.574484207419694
         ]
        },
        {
         "hoverinfo": "skip",
         "line": {
          "color": "lightblue",
          "width": 1
         },
         "mode": "lines",
         "showlegend": false,
         "type": "scatter",
         "x": [
          41.51413530994654,
          48.620880522368225
         ],
         "y": [
          41.102102599264775,
          37.97047382845473
         ]
        },
        {
         "hoverinfo": "skip",
         "line": {
          "color": "lightblue",
          "width": 1
         },
         "mode": "lines",
         "showlegend": false,
         "type": "scatter",
         "x": [
          74.4571778042607,
          69.71331594608185
         ],
         "y": [
          46.574484207419694,
          44.99468210889093
         ]
        },
        {
         "hoverinfo": "skip",
         "line": {
          "color": "lightblue",
          "width": 1
         },
         "mode": "lines",
         "showlegend": false,
         "type": "scatter",
         "x": [
          69.71331594608185,
          64.969454087903
         ],
         "y": [
          44.99468210889093,
          43.41488001036216
         ]
        },
        {
         "hoverinfo": "skip",
         "line": {
          "color": "lightblue",
          "width": 1
         },
         "mode": "lines",
         "showlegend": false,
         "type": "scatter",
         "x": [
          46.33767138427337,
          47.073594607197556
         ],
         "y": [
          42.41872697229897,
          47.3642721404236
         ]
        },
        {
         "hoverinfo": "skip",
         "line": {
          "color": "lightblue",
          "width": 1
         },
         "mode": "lines",
         "showlegend": false,
         "type": "scatter",
         "x": [
          47.073594607197556,
          45.72193374524662
         ],
         "y": [
          47.3642721404236,
          52.178107712425415
         ]
        },
        {
         "hoverinfo": "skip",
         "line": {
          "color": "lightblue",
          "width": 1
         },
         "mode": "lines",
         "showlegend": false,
         "type": "scatter",
         "x": [
          16.961242884538223,
          18.812840211540415
         ],
         "y": [
          18.175746202858647,
          20.966372069924
         ]
        },
        {
         "hoverinfo": "skip",
         "line": {
          "color": "lightblue",
          "width": 1
         },
         "mode": "lines",
         "showlegend": false,
         "type": "scatter",
         "x": [
          83.82911047841175,
          81.06553976426147
         ],
         "y": [
          70.00872345550849,
          68.13236656774289
         ]
        },
        {
         "hoverinfo": "skip",
         "line": {
          "color": "lightblue",
          "width": 1
         },
         "mode": "lines",
         "showlegend": false,
         "type": "scatter",
         "x": [
          81.06553976426147,
          74.16228808979827
         ],
         "y": [
          68.13236656774289,
          64.43229266739982
         ]
        },
        {
         "hoverinfo": "skip",
         "line": {
          "color": "lightblue",
          "width": 1
         },
         "mode": "lines",
         "showlegend": false,
         "type": "scatter",
         "x": [
          64.969454087903,
          64.91636045110918
         ],
         "y": [
          43.41488001036216,
          38.4151619117358
         ]
        },
        {
         "hoverinfo": "skip",
         "line": {
          "color": "lightblue",
          "width": 1
         },
         "mode": "lines",
         "showlegend": false,
         "type": "scatter",
         "x": [
          46.33767138427337,
          52.036189461686256
         ],
         "y": [
          42.41872697229897,
          47.97472468583746
         ]
        },
        {
         "hoverinfo": "skip",
         "line": {
          "color": "lightblue",
          "width": 1
         },
         "mode": "lines",
         "showlegend": false,
         "type": "scatter",
         "x": [
          64.91636045110918,
          63.1857902706584
         ],
         "y": [
          38.4151619117358,
          33.72419965964567
         ]
        },
        {
         "hoverinfo": "skip",
         "line": {
          "color": "lightblue",
          "width": 1
         },
         "mode": "lines",
         "showlegend": false,
         "type": "scatter",
         "x": [
          99,
          99
         ],
         "y": [
          99,
          99
         ]
        },
        {
         "hoverinfo": "skip",
         "line": {
          "color": "lightblue",
          "width": 1
         },
         "mode": "lines",
         "showlegend": false,
         "type": "scatter",
         "x": [
          52.036189461686256,
          55.422274773155564
         ],
         "y": [
          47.97472468583746,
          51.65364113819837
         ]
        },
        {
         "hoverinfo": "skip",
         "line": {
          "color": "lightblue",
          "width": 1
         },
         "mode": "lines",
         "showlegend": false,
         "type": "scatter",
         "x": [
          63.1857902706584,
          58.71974743252385
         ],
         "y": [
          33.72419965964567,
          31.47598673201913
         ]
        },
        {
         "hoverinfo": "skip",
         "line": {
          "color": "lightblue",
          "width": 1
         },
         "mode": "lines",
         "showlegend": false,
         "type": "scatter",
         "x": [
          55.422274773155564,
          60.41292467628378
         ],
         "y": [
          51.65364113819837,
          51.34800484387731
         ]
        },
        {
         "hoverinfo": "skip",
         "line": {
          "color": "lightblue",
          "width": 1
         },
         "mode": "lines",
         "showlegend": false,
         "type": "scatter",
         "x": [
          45.72193374524662,
          46.27989239838038
         ],
         "y": [
          52.178107712425415,
          57.14687839956657
         ]
        },
        {
         "hoverinfo": "skip",
         "line": {
          "color": "lightblue",
          "width": 1
         },
         "mode": "lines",
         "showlegend": false,
         "type": "scatter",
         "x": [
          58.71974743252385,
          53.75684935989968
         ],
         "y": [
          31.47598673201913,
          32.083969232378564
         ]
        },
        {
         "hoverinfo": "skip",
         "line": {
          "color": "lightblue",
          "width": 1
         },
         "mode": "lines",
         "showlegend": false,
         "type": "scatter",
         "x": [
          63.1857902706584,
          66.26320926147554
         ],
         "y": [
          33.72419965964567,
          29.783451969808365
         ]
        },
        {
         "hoverinfo": "skip",
         "line": {
          "color": "lightblue",
          "width": 1
         },
         "mode": "lines",
         "showlegend": false,
         "type": "scatter",
         "x": [
          1,
          3.486581845736303
         ],
         "y": [
          1,
          4.096759950814377
         ]
        },
        {
         "hoverinfo": "skip",
         "line": {
          "color": "lightblue",
          "width": 1
         },
         "mode": "lines",
         "showlegend": false,
         "type": "scatter",
         "x": [
          3.486581845736303,
          2.153981304518096
         ],
         "y": [
          4.096759950814377,
          8.931919604059683
         ]
        },
        {
         "hoverinfo": "skip",
         "line": {
          "color": "lightblue",
          "width": 1
         },
         "mode": "lines",
         "showlegend": false,
         "type": "scatter",
         "x": [
          53.75684935989968,
          48.895407603099294
         ],
         "y": [
          32.083969232378564,
          30.915044921211432
         ]
        },
        {
         "hoverinfo": "skip",
         "line": {
          "color": "lightblue",
          "width": 1
         },
         "mode": "lines",
         "showlegend": false,
         "type": "scatter",
         "x": [
          48.895407603099294,
          44.033965846298905
         ],
         "y": [
          30.915044921211432,
          29.7461206100443
         ]
        },
        {
         "hoverinfo": "skip",
         "line": {
          "color": "lightblue",
          "width": 1
         },
         "mode": "lines",
         "showlegend": false,
         "type": "scatter",
         "x": [
          14.980922077676631,
          12.43083206900073
         ],
         "y": [
          11.088085770409734,
          15.330464261143472
         ]
        },
        {
         "hoverinfo": "skip",
         "line": {
          "color": "lightblue",
          "width": 1
         },
         "mode": "lines",
         "showlegend": false,
         "type": "scatter",
         "x": [
          12.43083206900073,
          13.470940043391494
         ],
         "y": [
          15.330464261143472,
          22.397299895721858
         ]
        },
        {
         "hoverinfo": "skip",
         "line": {
          "color": "lightblue",
          "width": 1
         },
         "mode": "lines",
         "showlegend": false,
         "type": "scatter",
         "x": [
          44.033965846298905,
          39.484881030317474
         ],
         "y": [
          29.7461206100443,
          27.671071854711737
         ]
        },
        {
         "hoverinfo": "skip",
         "line": {
          "color": "lightblue",
          "width": 1
         },
         "mode": "lines",
         "showlegend": false,
         "type": "scatter",
         "x": [
          39.484881030317474,
          34.935796214336044
         ],
         "y": [
          27.671071854711737,
          25.596023099379174
         ]
        },
        {
         "hoverinfo": "skip",
         "line": {
          "color": "lightblue",
          "width": 1
         },
         "mode": "lines",
         "showlegend": false,
         "type": "scatter",
         "x": [
          13.45437039896324,
          10.301379881860367
         ],
         "y": [
          43.20517098152172,
          47.08571872624273
         ]
        },
        {
         "hoverinfo": "skip",
         "line": {
          "color": "lightblue",
          "width": 1
         },
         "mode": "lines",
         "showlegend": false,
         "type": "scatter",
         "x": [
          34.935796214336044,
          31.167958384107234
         ],
         "y": [
          25.596023099379174,
          28.882875405932765
         ]
        },
        {
         "hoverinfo": "skip",
         "line": {
          "color": "lightblue",
          "width": 1
         },
         "mode": "lines",
         "showlegend": false,
         "type": "scatter",
         "x": [
          10.301379881860367,
          8.460477560981028
         ],
         "y": [
          47.08571872624273,
          51.73449046133374
         ]
        },
        {
         "hoverinfo": "skip",
         "line": {
          "color": "lightblue",
          "width": 1
         },
         "mode": "lines",
         "showlegend": false,
         "type": "scatter",
         "x": [
          31.167958384107234,
          27.643627400233203
         ],
         "y": [
          28.882875405932765,
          32.42957684756914
         ]
        },
        {
         "hoverinfo": "skip",
         "line": {
          "color": "lightblue",
          "width": 1
         },
         "mode": "lines",
         "showlegend": false,
         "type": "scatter",
         "x": [
          27.643627400233203,
          24.119296416359173
         ],
         "y": [
          32.42957684756914,
          35.97627828920551
         ]
        },
        {
         "hoverinfo": "skip",
         "line": {
          "color": "lightblue",
          "width": 1
         },
         "mode": "lines",
         "showlegend": false,
         "type": "scatter",
         "x": [
          24.119296416359173,
          20.594965432485143
         ],
         "y": [
          35.97627828920551,
          39.52297973084188
         ]
        },
        {
         "hoverinfo": "skip",
         "line": {
          "color": "lightblue",
          "width": 1
         },
         "mode": "lines",
         "showlegend": false,
         "type": "scatter",
         "x": [
          20.594965432485143,
          17.07063444861111
         ],
         "y": [
          39.52297973084188,
          43.069681172478255
         ]
        },
        {
         "hoverinfo": "skip",
         "line": {
          "color": "lightblue",
          "width": 1
         },
         "mode": "lines",
         "showlegend": false,
         "type": "scatter",
         "x": [
          17.07063444861111,
          13.546303464737077
         ],
         "y": [
          43.069681172478255,
          46.61638261411462
         ]
        },
        {
         "hoverinfo": "skip",
         "line": {
          "color": "lightblue",
          "width": 1
         },
         "mode": "lines",
         "showlegend": false,
         "type": "scatter",
         "x": [
          13.546303464737077,
          10.021972480863045
         ],
         "y": [
          46.61638261411462,
          50.16308405575099
         ]
        },
        {
         "hoverinfo": "skip",
         "line": {
          "color": "lightblue",
          "width": 1
         },
         "mode": "lines",
         "showlegend": false,
         "type": "scatter",
         "x": [
          10.021972480863045,
          8.460477560981028
         ],
         "y": [
          50.16308405575099,
          51.73449046133374
         ]
        },
        {
         "marker": {
          "color": "red",
          "size": 10
         },
         "mode": "markers",
         "name": "Start",
         "type": "scatter",
         "x": [
          1
         ],
         "y": [
          1
         ]
        },
        {
         "marker": {
          "color": "orange",
          "size": 10
         },
         "mode": "markers",
         "name": "Goal",
         "type": "scatter",
         "x": [
          99
         ],
         "y": [
          99
         ]
        }
       ],
       "layout": {
        "height": 600,
        "shapes": [
         {
          "fillcolor": "purple",
          "line": {
           "width": 0
          },
          "opacity": 0.5,
          "type": "rect",
          "x0": 48,
          "x1": 57,
          "y0": 70,
          "y1": 79
         },
         {
          "fillcolor": "purple",
          "line": {
           "width": 0
          },
          "opacity": 0.5,
          "type": "rect",
          "x0": 47,
          "x1": 52,
          "y0": 50,
          "y1": 64
         },
         {
          "fillcolor": "purple",
          "line": {
           "width": 0
          },
          "opacity": 0.5,
          "type": "rect",
          "x0": 79,
          "x1": 84,
          "y0": 71,
          "y1": 82
         },
         {
          "fillcolor": "purple",
          "line": {
           "width": 0
          },
          "opacity": 0.5,
          "type": "rect",
          "x0": 35,
          "x1": 42,
          "y0": 29,
          "y1": 41
         },
         {
          "fillcolor": "purple",
          "line": {
           "width": 0
          },
          "opacity": 0.5,
          "type": "rect",
          "x0": 18,
          "x1": 28,
          "y0": 67,
          "y1": 80
         },
         {
          "fillcolor": "purple",
          "line": {
           "width": 0
          },
          "opacity": 0.5,
          "type": "rect",
          "x0": 66,
          "x1": 75,
          "y0": 75,
          "y1": 82
         },
         {
          "fillcolor": "purple",
          "line": {
           "width": 0
          },
          "opacity": 0.5,
          "type": "rect",
          "x0": 68,
          "x1": 81,
          "y0": 83,
          "y1": 89
         },
         {
          "fillcolor": "purple",
          "line": {
           "width": 0
          },
          "opacity": 0.5,
          "type": "rect",
          "x0": 55,
          "x1": 67,
          "y0": 54,
          "y1": 60
         },
         {
          "fillcolor": "purple",
          "line": {
           "width": 0
          },
          "opacity": 0.5,
          "type": "rect",
          "x0": 49,
          "x1": 64,
          "y0": 22,
          "y1": 30
         },
         {
          "fillcolor": "purple",
          "line": {
           "width": 0
          },
          "opacity": 0.5,
          "type": "rect",
          "x0": 32,
          "x1": 47,
          "y0": 76,
          "y1": 86
         },
         {
          "fillcolor": "purple",
          "line": {
           "width": 0
          },
          "opacity": 0.5,
          "type": "rect",
          "x0": 41,
          "x1": 56,
          "y0": 0,
          "y1": 11
         },
         {
          "fillcolor": "purple",
          "line": {
           "width": 0
          },
          "opacity": 0.5,
          "type": "rect",
          "x0": 51,
          "x1": 63,
          "y0": 42,
          "y1": 47
         },
         {
          "fillcolor": "purple",
          "line": {
           "width": 0
          },
          "opacity": 0.5,
          "type": "rect",
          "x0": 14,
          "x1": 23,
          "y0": 46,
          "y1": 60
         },
         {
          "fillcolor": "purple",
          "line": {
           "width": 0
          },
          "opacity": 0.5,
          "type": "rect",
          "x0": 84,
          "x1": 91,
          "y0": 12,
          "y1": 24
         },
         {
          "fillcolor": "purple",
          "line": {
           "width": 0
          },
          "opacity": 0.5,
          "type": "rect",
          "x0": 20,
          "x1": 29,
          "y0": 17,
          "y1": 31
         },
         {
          "fillcolor": "purple",
          "line": {
           "width": 0
          },
          "opacity": 0.5,
          "type": "rect",
          "x0": 3,
          "x1": 12,
          "y0": 18,
          "y1": 32
         },
         {
          "fillcolor": "purple",
          "line": {
           "width": 0
          },
          "opacity": 0.5,
          "type": "rect",
          "x0": 9,
          "x1": 18,
          "y0": 66,
          "y1": 75
         },
         {
          "fillcolor": "purple",
          "line": {
           "width": 0
          },
          "opacity": 0.5,
          "type": "rect",
          "x0": 73,
          "x1": 80,
          "y0": 7,
          "y1": 14
         },
         {
          "fillcolor": "purple",
          "line": {
           "width": 0
          },
          "opacity": 0.5,
          "type": "rect",
          "x0": 32,
          "x1": 47,
          "y0": 11,
          "y1": 25
         },
         {
          "fillcolor": "purple",
          "line": {
           "width": 0
          },
          "opacity": 0.5,
          "type": "rect",
          "x0": 83,
          "x1": 94,
          "y0": 55,
          "y1": 68
         },
         {
          "fillcolor": "purple",
          "line": {
           "width": 0
          },
          "opacity": 0.5,
          "type": "rect",
          "x0": 30,
          "x1": 42,
          "y0": 51,
          "y1": 64
         },
         {
          "fillcolor": "purple",
          "line": {
           "width": 0
          },
          "opacity": 0.5,
          "type": "rect",
          "x0": 50,
          "x1": 62,
          "y0": 34,
          "y1": 42
         },
         {
          "fillcolor": "purple",
          "line": {
           "width": 0
          },
          "opacity": 0.5,
          "type": "rect",
          "x0": 34,
          "x1": 41,
          "y0": 69,
          "y1": 76
         },
         {
          "fillcolor": "purple",
          "line": {
           "width": 0
          },
          "opacity": 0.5,
          "type": "rect",
          "x0": 4,
          "x1": 16,
          "y0": 87,
          "y1": 96
         },
         {
          "fillcolor": "purple",
          "line": {
           "width": 0
          },
          "opacity": 0.5,
          "type": "rect",
          "x0": 78,
          "x1": 83,
          "y0": 23,
          "y1": 30
         },
         {
          "fillcolor": "purple",
          "line": {
           "width": 0
          },
          "opacity": 0.5,
          "type": "rect",
          "x0": 72,
          "x1": 79,
          "y0": 51,
          "y1": 60
         },
         {
          "fillcolor": "purple",
          "line": {
           "width": 0
          },
          "opacity": 0.5,
          "type": "rect",
          "x0": 48,
          "x1": 58,
          "y0": 16,
          "y1": 22
         },
         {
          "fillcolor": "purple",
          "line": {
           "width": 0
          },
          "opacity": 0.5,
          "type": "rect",
          "x0": 75,
          "x1": 88,
          "y0": 94,
          "y1": 99
         },
         {
          "fillcolor": "purple",
          "line": {
           "width": 0
          },
          "opacity": 0.5,
          "type": "rect",
          "x0": 62,
          "x1": 68,
          "y0": 82,
          "y1": 96
         },
         {
          "fillcolor": "purple",
          "line": {
           "width": 0
          },
          "opacity": 0.5,
          "type": "rect",
          "x0": 57,
          "x1": 62,
          "y0": 67,
          "y1": 78
         },
         {
          "fillcolor": "purple",
          "line": {
           "width": 0
          },
          "opacity": 0.5,
          "type": "rect",
          "x0": 2,
          "x1": 11,
          "y0": 33,
          "y1": 43
         },
         {
          "fillcolor": "purple",
          "line": {
           "width": 0
          },
          "opacity": 0.5,
          "type": "rect",
          "x0": 67,
          "x1": 76,
          "y0": 0,
          "y1": 7
         },
         {
          "fillcolor": "purple",
          "line": {
           "width": 0
          },
          "opacity": 0.5,
          "type": "rect",
          "x0": 28,
          "x1": 39,
          "y0": 42,
          "y1": 50
         },
         {
          "fillcolor": "purple",
          "line": {
           "width": 0
          },
          "opacity": 0.5,
          "type": "rect",
          "x0": 66,
          "x1": 71,
          "y0": 60,
          "y1": 72
         },
         {
          "fillcolor": "purple",
          "line": {
           "width": 0
          },
          "opacity": 0.5,
          "type": "rect",
          "x0": 7,
          "x1": 13,
          "y0": 52,
          "y1": 66
         },
         {
          "fillcolor": "rgba(0,0,0,0)",
          "layer": "above",
          "line": {
           "color": "white",
           "width": 3
          },
          "type": "rect",
          "x0": 0,
          "x1": 100,
          "y0": 0,
          "y1": 100
         }
        ],
        "template": {
         "data": {
          "bar": [
           {
            "error_x": {
             "color": "#2a3f5f"
            },
            "error_y": {
             "color": "#2a3f5f"
            },
            "marker": {
             "line": {
              "color": "#E5ECF6",
              "width": 0.5
             },
             "pattern": {
              "fillmode": "overlay",
              "size": 10,
              "solidity": 0.2
             }
            },
            "type": "bar"
           }
          ],
          "barpolar": [
           {
            "marker": {
             "line": {
              "color": "#E5ECF6",
              "width": 0.5
             },
             "pattern": {
              "fillmode": "overlay",
              "size": 10,
              "solidity": 0.2
             }
            },
            "type": "barpolar"
           }
          ],
          "carpet": [
           {
            "aaxis": {
             "endlinecolor": "#2a3f5f",
             "gridcolor": "white",
             "linecolor": "white",
             "minorgridcolor": "white",
             "startlinecolor": "#2a3f5f"
            },
            "baxis": {
             "endlinecolor": "#2a3f5f",
             "gridcolor": "white",
             "linecolor": "white",
             "minorgridcolor": "white",
             "startlinecolor": "#2a3f5f"
            },
            "type": "carpet"
           }
          ],
          "choropleth": [
           {
            "colorbar": {
             "outlinewidth": 0,
             "ticks": ""
            },
            "type": "choropleth"
           }
          ],
          "contour": [
           {
            "colorbar": {
             "outlinewidth": 0,
             "ticks": ""
            },
            "colorscale": [
             [
              0,
              "#0d0887"
             ],
             [
              0.1111111111111111,
              "#46039f"
             ],
             [
              0.2222222222222222,
              "#7201a8"
             ],
             [
              0.3333333333333333,
              "#9c179e"
             ],
             [
              0.4444444444444444,
              "#bd3786"
             ],
             [
              0.5555555555555556,
              "#d8576b"
             ],
             [
              0.6666666666666666,
              "#ed7953"
             ],
             [
              0.7777777777777778,
              "#fb9f3a"
             ],
             [
              0.8888888888888888,
              "#fdca26"
             ],
             [
              1,
              "#f0f921"
             ]
            ],
            "type": "contour"
           }
          ],
          "contourcarpet": [
           {
            "colorbar": {
             "outlinewidth": 0,
             "ticks": ""
            },
            "type": "contourcarpet"
           }
          ],
          "heatmap": [
           {
            "colorbar": {
             "outlinewidth": 0,
             "ticks": ""
            },
            "colorscale": [
             [
              0,
              "#0d0887"
             ],
             [
              0.1111111111111111,
              "#46039f"
             ],
             [
              0.2222222222222222,
              "#7201a8"
             ],
             [
              0.3333333333333333,
              "#9c179e"
             ],
             [
              0.4444444444444444,
              "#bd3786"
             ],
             [
              0.5555555555555556,
              "#d8576b"
             ],
             [
              0.6666666666666666,
              "#ed7953"
             ],
             [
              0.7777777777777778,
              "#fb9f3a"
             ],
             [
              0.8888888888888888,
              "#fdca26"
             ],
             [
              1,
              "#f0f921"
             ]
            ],
            "type": "heatmap"
           }
          ],
          "histogram": [
           {
            "marker": {
             "pattern": {
              "fillmode": "overlay",
              "size": 10,
              "solidity": 0.2
             }
            },
            "type": "histogram"
           }
          ],
          "histogram2d": [
           {
            "colorbar": {
             "outlinewidth": 0,
             "ticks": ""
            },
            "colorscale": [
             [
              0,
              "#0d0887"
             ],
             [
              0.1111111111111111,
              "#46039f"
             ],
             [
              0.2222222222222222,
              "#7201a8"
             ],
             [
              0.3333333333333333,
              "#9c179e"
             ],
             [
              0.4444444444444444,
              "#bd3786"
             ],
             [
              0.5555555555555556,
              "#d8576b"
             ],
             [
              0.6666666666666666,
              "#ed7953"
             ],
             [
              0.7777777777777778,
              "#fb9f3a"
             ],
             [
              0.8888888888888888,
              "#fdca26"
             ],
             [
              1,
              "#f0f921"
             ]
            ],
            "type": "histogram2d"
           }
          ],
          "histogram2dcontour": [
           {
            "colorbar": {
             "outlinewidth": 0,
             "ticks": ""
            },
            "colorscale": [
             [
              0,
              "#0d0887"
             ],
             [
              0.1111111111111111,
              "#46039f"
             ],
             [
              0.2222222222222222,
              "#7201a8"
             ],
             [
              0.3333333333333333,
              "#9c179e"
             ],
             [
              0.4444444444444444,
              "#bd3786"
             ],
             [
              0.5555555555555556,
              "#d8576b"
             ],
             [
              0.6666666666666666,
              "#ed7953"
             ],
             [
              0.7777777777777778,
              "#fb9f3a"
             ],
             [
              0.8888888888888888,
              "#fdca26"
             ],
             [
              1,
              "#f0f921"
             ]
            ],
            "type": "histogram2dcontour"
           }
          ],
          "mesh3d": [
           {
            "colorbar": {
             "outlinewidth": 0,
             "ticks": ""
            },
            "type": "mesh3d"
           }
          ],
          "parcoords": [
           {
            "line": {
             "colorbar": {
              "outlinewidth": 0,
              "ticks": ""
             }
            },
            "type": "parcoords"
           }
          ],
          "pie": [
           {
            "automargin": true,
            "type": "pie"
           }
          ],
          "scatter": [
           {
            "fillpattern": {
             "fillmode": "overlay",
             "size": 10,
             "solidity": 0.2
            },
            "type": "scatter"
           }
          ],
          "scatter3d": [
           {
            "line": {
             "colorbar": {
              "outlinewidth": 0,
              "ticks": ""
             }
            },
            "marker": {
             "colorbar": {
              "outlinewidth": 0,
              "ticks": ""
             }
            },
            "type": "scatter3d"
           }
          ],
          "scattercarpet": [
           {
            "marker": {
             "colorbar": {
              "outlinewidth": 0,
              "ticks": ""
             }
            },
            "type": "scattercarpet"
           }
          ],
          "scattergeo": [
           {
            "marker": {
             "colorbar": {
              "outlinewidth": 0,
              "ticks": ""
             }
            },
            "type": "scattergeo"
           }
          ],
          "scattergl": [
           {
            "marker": {
             "colorbar": {
              "outlinewidth": 0,
              "ticks": ""
             }
            },
            "type": "scattergl"
           }
          ],
          "scattermap": [
           {
            "marker": {
             "colorbar": {
              "outlinewidth": 0,
              "ticks": ""
             }
            },
            "type": "scattermap"
           }
          ],
          "scattermapbox": [
           {
            "marker": {
             "colorbar": {
              "outlinewidth": 0,
              "ticks": ""
             }
            },
            "type": "scattermapbox"
           }
          ],
          "scatterpolar": [
           {
            "marker": {
             "colorbar": {
              "outlinewidth": 0,
              "ticks": ""
             }
            },
            "type": "scatterpolar"
           }
          ],
          "scatterpolargl": [
           {
            "marker": {
             "colorbar": {
              "outlinewidth": 0,
              "ticks": ""
             }
            },
            "type": "scatterpolargl"
           }
          ],
          "scatterternary": [
           {
            "marker": {
             "colorbar": {
              "outlinewidth": 0,
              "ticks": ""
             }
            },
            "type": "scatterternary"
           }
          ],
          "surface": [
           {
            "colorbar": {
             "outlinewidth": 0,
             "ticks": ""
            },
            "colorscale": [
             [
              0,
              "#0d0887"
             ],
             [
              0.1111111111111111,
              "#46039f"
             ],
             [
              0.2222222222222222,
              "#7201a8"
             ],
             [
              0.3333333333333333,
              "#9c179e"
             ],
             [
              0.4444444444444444,
              "#bd3786"
             ],
             [
              0.5555555555555556,
              "#d8576b"
             ],
             [
              0.6666666666666666,
              "#ed7953"
             ],
             [
              0.7777777777777778,
              "#fb9f3a"
             ],
             [
              0.8888888888888888,
              "#fdca26"
             ],
             [
              1,
              "#f0f921"
             ]
            ],
            "type": "surface"
           }
          ],
          "table": [
           {
            "cells": {
             "fill": {
              "color": "#EBF0F8"
             },
             "line": {
              "color": "white"
             }
            },
            "header": {
             "fill": {
              "color": "#C8D4E3"
             },
             "line": {
              "color": "white"
             }
            },
            "type": "table"
           }
          ]
         },
         "layout": {
          "annotationdefaults": {
           "arrowcolor": "#2a3f5f",
           "arrowhead": 0,
           "arrowwidth": 1
          },
          "autotypenumbers": "strict",
          "coloraxis": {
           "colorbar": {
            "outlinewidth": 0,
            "ticks": ""
           }
          },
          "colorscale": {
           "diverging": [
            [
             0,
             "#8e0152"
            ],
            [
             0.1,
             "#c51b7d"
            ],
            [
             0.2,
             "#de77ae"
            ],
            [
             0.3,
             "#f1b6da"
            ],
            [
             0.4,
             "#fde0ef"
            ],
            [
             0.5,
             "#f7f7f7"
            ],
            [
             0.6,
             "#e6f5d0"
            ],
            [
             0.7,
             "#b8e186"
            ],
            [
             0.8,
             "#7fbc41"
            ],
            [
             0.9,
             "#4d9221"
            ],
            [
             1,
             "#276419"
            ]
           ],
           "sequential": [
            [
             0,
             "#0d0887"
            ],
            [
             0.1111111111111111,
             "#46039f"
            ],
            [
             0.2222222222222222,
             "#7201a8"
            ],
            [
             0.3333333333333333,
             "#9c179e"
            ],
            [
             0.4444444444444444,
             "#bd3786"
            ],
            [
             0.5555555555555556,
             "#d8576b"
            ],
            [
             0.6666666666666666,
             "#ed7953"
            ],
            [
             0.7777777777777778,
             "#fb9f3a"
            ],
            [
             0.8888888888888888,
             "#fdca26"
            ],
            [
             1,
             "#f0f921"
            ]
           ],
           "sequentialminus": [
            [
             0,
             "#0d0887"
            ],
            [
             0.1111111111111111,
             "#46039f"
            ],
            [
             0.2222222222222222,
             "#7201a8"
            ],
            [
             0.3333333333333333,
             "#9c179e"
            ],
            [
             0.4444444444444444,
             "#bd3786"
            ],
            [
             0.5555555555555556,
             "#d8576b"
            ],
            [
             0.6666666666666666,
             "#ed7953"
            ],
            [
             0.7777777777777778,
             "#fb9f3a"
            ],
            [
             0.8888888888888888,
             "#fdca26"
            ],
            [
             1,
             "#f0f921"
            ]
           ]
          },
          "colorway": [
           "#636efa",
           "#EF553B",
           "#00cc96",
           "#ab63fa",
           "#FFA15A",
           "#19d3f3",
           "#FF6692",
           "#B6E880",
           "#FF97FF",
           "#FECB52"
          ],
          "font": {
           "color": "#2a3f5f"
          },
          "geo": {
           "bgcolor": "white",
           "lakecolor": "white",
           "landcolor": "#E5ECF6",
           "showlakes": true,
           "showland": true,
           "subunitcolor": "white"
          },
          "hoverlabel": {
           "align": "left"
          },
          "hovermode": "closest",
          "mapbox": {
           "style": "light"
          },
          "paper_bgcolor": "white",
          "plot_bgcolor": "#E5ECF6",
          "polar": {
           "angularaxis": {
            "gridcolor": "white",
            "linecolor": "white",
            "ticks": ""
           },
           "bgcolor": "#E5ECF6",
           "radialaxis": {
            "gridcolor": "white",
            "linecolor": "white",
            "ticks": ""
           }
          },
          "scene": {
           "xaxis": {
            "backgroundcolor": "#E5ECF6",
            "gridcolor": "white",
            "gridwidth": 2,
            "linecolor": "white",
            "showbackground": true,
            "ticks": "",
            "zerolinecolor": "white"
           },
           "yaxis": {
            "backgroundcolor": "#E5ECF6",
            "gridcolor": "white",
            "gridwidth": 2,
            "linecolor": "white",
            "showbackground": true,
            "ticks": "",
            "zerolinecolor": "white"
           },
           "zaxis": {
            "backgroundcolor": "#E5ECF6",
            "gridcolor": "white",
            "gridwidth": 2,
            "linecolor": "white",
            "showbackground": true,
            "ticks": "",
            "zerolinecolor": "white"
           }
          },
          "shapedefaults": {
           "line": {
            "color": "#2a3f5f"
           }
          },
          "ternary": {
           "aaxis": {
            "gridcolor": "white",
            "linecolor": "white",
            "ticks": ""
           },
           "baxis": {
            "gridcolor": "white",
            "linecolor": "white",
            "ticks": ""
           },
           "bgcolor": "#E5ECF6",
           "caxis": {
            "gridcolor": "white",
            "linecolor": "white",
            "ticks": ""
           }
          },
          "title": {
           "x": 0.05
          },
          "xaxis": {
           "automargin": true,
           "gridcolor": "white",
           "linecolor": "white",
           "ticks": "",
           "title": {
            "standoff": 15
           },
           "zerolinecolor": "white",
           "zerolinewidth": 2
          },
          "yaxis": {
           "automargin": true,
           "gridcolor": "white",
           "linecolor": "white",
           "ticks": "",
           "title": {
            "standoff": 15
           },
           "zerolinecolor": "white",
           "zerolinewidth": 2
          }
         }
        },
        "title": {
         "text": "Map Visualization"
        },
        "width": 600,
        "xaxis": {
         "scaleanchor": "y",
         "showgrid": false
        },
        "yaxis": {
         "showgrid": false
        }
       }
      }
     },
     "metadata": {},
     "output_type": "display_data"
    }
   ],
   "source": [
    "visualize_map_shapes(multi_obs_map.grid, obs=multi_obs_map.obstacles, start=multi_obs_map.start, goal=multi_obs_map.goal,\n",
    "                      path=result.path, nodes=list(map(lambda x: x.position, result.nodes)), edges=result.edges)"
   ]
  },
  {
   "cell_type": "code",
   "execution_count": 48,
   "id": "5fc2faa6",
   "metadata": {},
   "outputs": [
    {
     "data": {
      "application/vnd.plotly.v1+json": {
       "config": {
        "plotlyServerURL": "https://plot.ly"
       },
       "data": [
        {
         "marker": {
          "color": "blue",
          "size": 4
         },
         "mode": "markers",
         "name": "nodes",
         "type": "scatter",
         "x": [
          29,
          90,
          32.2848914048389,
          86.7151085951611,
          83.4302171903222,
          39.6670769194371,
          42.8921399292814,
          81.3744345826379,
          43.58204168631828,
          24.911733153593786,
          82.73966932887369,
          86.59479708417399,
          21.79755886758564,
          45.63975074074706,
          86.68672388257271,
          85.74449924054346,
          19.841449153069206,
          86.22236426694333,
          83.82254748944202,
          17.733341799352505,
          40.405570198399744,
          24.194151019369453,
          80.04097314373938,
          15.43876065960456,
          32.45466356661824,
          25.85832588517617,
          89.46294525063637,
          82.6504685377047,
          14.933097361131022,
          82.17384415699628,
          35.40435203526547,
          18.207164353499756,
          90.73717070530058,
          11.300661112335781,
          16.782942905093293,
          81.9065877402386,
          83.89003518169372,
          87.20685282599962,
          81.73049077331304,
          86.25445858678347,
          80.19908668165844,
          6.8380516559398945,
          75.22619482048586,
          70.25330295931327,
          65.28041109814069,
          60.307519236968105,
          55.33462737579552,
          17.809535515406427,
          15.461781659382332,
          32.13154221335871,
          58.72444628008062,
          81.83526397696998,
          14.141491216887335,
          19.022306461134523,
          69.53814054934874,
          11.872679280701126,
          11.130353123654027,
          94.55369838718212,
          22.843956795826497,
          54.61080424457799,
          52.02313429813352,
          30.648926499406738,
          9.446969292840947,
          60.625567436577974,
          91.8253906771788,
          58.863446608705274,
          58.80900322815403,
          25.477598402040435,
          55.43963100706648,
          52.07025878597893,
          25.723432482839744,
          8.40135419471278,
          87.23399903940597,
          62.081048802647175,
          23.737534396662085,
          93.00578623020948,
          20.369892724994994,
          21.82161407531491,
          65.62078039592811,
          85.5531353784191,
          40.40766569096533,
          17.13964846209941,
          86.41802816888095,
          26.74521802526874,
          58.008114443898116,
          31.653742237883154,
          36.6528384284657,
          41.57496425689085,
          46.497090085316,
          51.419215913741155,
          56.34134174216631,
          61.26346757059146,
          66.18559339901661,
          71.10771922744176,
          76.02984505586691,
          83.10262460963196,
          87.8242830412104,
          5.344542015796816,
          55.25296640970794,
          22.969513268319307,
          29,
          90.19537484467853,
          90.15656372918505,
          6.206400443598525,
          68.87068181288686,
          90,
          83.25157779770204,
          45.79576546593335,
          22.2956091903843,
          88.81506615220579,
          96.36353692488827,
          17.469256635646158,
          75.57337525390321,
          70.53939548146462,
          57.34380743158112,
          7.053735427552477,
          73.56690032180434,
          61.39446861099722,
          98.06669075249803,
          8.508411383379787,
          12.158560929323636,
          51.93592743732184,
          90,
          16.228909922653205,
          42.56787514743823,
          66.72269002327783,
          90,
          8.7743781421878,
          25.61142038612376,
          92.2464516309805,
          65.26027541231872,
          12.141959571783278,
          12.304960861159639,
          90,
          98.96955306390122,
          29,
          17.126142638114562,
          92.8085900611234,
          90.6055716672797,
          43.13109724675696,
          61.30333312498636,
          62.9728455867115,
          90,
          5.383837669252027,
          10.172126245318447,
          84.282773569415,
          50.41211001250592,
          22.036809371983924,
          30.573179084731382,
          84.02461863385892,
          66.67485378759898,
          62.474754179463744,
          33.31270640588602,
          68.30774487546522,
          86.97859469617075,
          18.080994907230043,
          8.549373982238922,
          94.0008238127682,
          97.74826369454246,
          29,
          31.4350371022416,
          65.34783456545019,
          95.65342353253111,
          6.113848503449306,
          47.214136293125236,
          90,
          69.52364194945898,
          29,
          18.24515745381271,
          81.17311186733679,
          63.03117224511301,
          64.53053283936896,
          22.540702703179615,
          90,
          53.915284449772905,
          11.77999156330486,
          25.059580108670897,
          90,
          63.45563587596466,
          23.193770377088143,
          35.05958617415109,
          90.19784476135119,
          90,
          55.86397439184769,
          6.85456318106945,
          90,
          68.07442599495268,
          33.22594244671482,
          4.531070633069001,
          94.50235665566899,
          90,
          3.654577986938997,
          14.396054125955352,
          90,
          90,
          12.674274682325393,
          71.65177023155644,
          99.89296013143858,
          55.17186458975141,
          25.37056177225748,
          27.19206162580766,
          91.13487740283516,
          84.02597000274001,
          13.946084993006647,
          0.13068487794771766,
          91.0672708587951,
          81.54113840801284,
          12.57586624302674,
          23.599777106398435,
          53.37963135615988,
          63.59414259078128,
          49.115830647367595,
          52.66674692589301,
          51.95386249562614,
          51.240978065359265,
          50.5280936350924,
          30.146089364214713,
          29,
          29.79895881995227,
          46.41442305525153,
          42.30075247541067,
          38.187081895569804,
          34.07341131572895,
          29.959740735888083,
          29.79895881995227
         ],
         "y": [
          10,
          80,
          13.769547513749561,
          76.23045248625044,
          72.46090497250088,
          20.368595884108625,
          24.18945554948945,
          63.8447822179491,
          32.31995063126734,
          19.937158869473862,
          79.26292386122832,
          57.29070009189097,
          23.848925544055263,
          41.026624169749134,
          52.29154521694099,
          47.38112642380808,
          28.450407347211115,
          42.80039862414,
          38.413955938497885,
          32.98426700375162,
          13.499749744765207,
          8.62021176430137,
          83.47208516727748,
          37.42666471142177,
          6.385404636549128,
          14.976755084525461,
          41.37499049674918,
          30.054160209880685,
          42.401029457655895,
          87.99434801244786,
          35.285376571357695,
          9.01549270759849,
          60.09083237144395,
          45.836929179481075,
          47.04624973913695,
          25.10980571620194,
          57.828663833425175,
          27.99518905481823,
          20.11290769260374,
          45.151347416250054,
          15.353201660918213,
          48.091949542955874,
          14.833253070110002,
          14.313304479301792,
          13.793355888493581,
          13.27340729768537,
          12.75345870687716,
          51.93972576466833,
          56.35425312685831,
          39.06541835282396,
          8.530635954559969,
          11.310377448847753,
          61.1767870196844,
          62.26197942268226,
          18.57728943965172,
          29.125184695131743,
          65.1684091690717,
          63.32102067144008,
          65.48610546230117,
          17.70078930778857,
          21.979102555818457,
          10.941281212380305,
          69.87651057814915,
          3.90616427140327,
          26.079697442405088,
          28.19152649046159,
          33.1912300735067,
          69.73627391661199,
          36.88545947025016,
          40.57968886699362,
          74.73022682034642,
          25.526587447955002,
          38.78859561617457,
          33.83439771416413,
          79.31893129888019,
          25.25307180552939,
          83.0147383245853,
          87.79934960670899,
          3.687423578480198,
          7.967110746610738,
          34.74289380338155,
          27.520674806605882,
          55.64323767140763,
          88.67005285351527,
          14.392969096500451,
          89.62209804896455,
          89.5270334535407,
          88.64801278873807,
          87.76899212393545,
          86.88997145913282,
          86.0109507943302,
          85.13193012952757,
          84.25290946472495,
          83.37388879992233,
          82.4948681351197,
          3.608785727517022,
          33.82356139703632,
          21.56983381614634,
          24.60667697150568,
          21.137721718042723,
          10,
          22.451319916104772,
          84.06747363613623,
          60.80330895320641,
          80.40885328865622,
          80,
          94.59838949433875,
          30.05048558818747,
          92.77683176447614,
          89.12953985425928,
          62.13614661736274,
          7.592949848873143,
          87.47398806939475,
          10.280143381909102,
          37.03084212234925,
          74.42345561690681,
          75.59987309618032,
          40.471863450312995,
          71.03884702889656,
          57.533360592954864,
          20.81613952427902,
          43.285663273983964,
          80,
          80.212549638806,
          15.614200265596578,
          24.535843388278845,
          80,
          68.662046061688,
          50.227298127177754,
          74.84008245986671,
          19.557076113983452,
          79.95440302224867,
          8.650173029736093,
          80,
          80.3412358742304,
          10,
          7.750468601170901,
          92.13815528147882,
          94.05017026939234,
          43.117281099281925,
          75.75744545438315,
          44.85162020186577,
          80,
          41.09522986282603,
          13.172453041131845,
          91.91365382644791,
          40.94443663691367,
          21.29742797077584,
          44.90084922706482,
          80.43491613697152,
          33.04959942897416,
          85.3192854770957,
          1.4595785651189486,
          19.406857029535175,
          42.5674789230315,
          57.975434091728125,
          83.4319493960298,
          31.525438635610737,
          73.9300399214376,
          10,
          2.9372874792355175,
          17.289402427111376,
          57.61724629135321,
          87.79866619955239,
          92.71730948803675,
          80,
          18.957818639643776,
          10,
          58.0368711787581,
          93.37841958386319,
          6.732692803396079,
          86.9604804739661,
          28.87335756209867,
          80,
          13.371426493748807,
          86.70851788230802,
          61.00380545721668,
          80,
          49.82825697147261,
          34.31246699321374,
          42.2236160647627,
          40.507415261121636,
          80,
          90.40927572630949,
          9.431627555396002,
          80,
          49.64685967188911,
          21.136972698373356,
          49.142765601151396,
          64.02076579519608,
          80,
          92.15205436586872,
          15.847977897898872,
          80,
          80,
          9.214609016907849,
          90.57576402015337,
          75.69648396510391,
          47.403051593599024,
          13.36642907497233,
          3.967386454762456,
          87.77786449194063,
          15.704641065451986,
          81.7951842038521,
          53.5741605978798,
          57.379588417792796,
          69.54693157072468,
          3.657517396300573,
          21.52649111331503,
          52.070802661984104,
          54.82633819229633,
          81.67055536406401,
          57.01972131044491,
          61.96863995890571,
          66.91755860736652,
          71.86647725582732,
          20.047584037472898,
          10,
          86.18822141302245,
          74.70860926552562,
          77.55074127522393,
          80.39287328492223,
          83.23500529462055,
          86.07713730431885,
          86.18822141302245
         ]
        },
        {
         "line": {
          "color": "green"
         },
         "marker": {
          "size": 6
         },
         "mode": "lines+markers",
         "name": "Path",
         "type": "scatter",
         "x": [
          29,
          18.24515745381271,
          19.022306461134523,
          21.82161407531491,
          42.30075247541067,
          60.307519236968105,
          81.73049077331304,
          90
         ],
         "y": [
          10,
          58.0368711787581,
          62.26197942268226,
          87.79934960670899,
          77.55074127522393,
          13.27340729768537,
          20.11290769260374,
          80
         ]
        },
        {
         "hoverinfo": "skip",
         "line": {
          "color": "lightblue",
          "width": 1
         },
         "mode": "lines",
         "showlegend": false,
         "type": "scatter",
         "x": [
          29,
          32.2848914048389
         ],
         "y": [
          10,
          13.769547513749561
         ]
        },
        {
         "hoverinfo": "skip",
         "line": {
          "color": "lightblue",
          "width": 1
         },
         "mode": "lines",
         "showlegend": false,
         "type": "scatter",
         "x": [
          90,
          86.7151085951611
         ],
         "y": [
          80,
          76.23045248625044
         ]
        },
        {
         "hoverinfo": "skip",
         "line": {
          "color": "lightblue",
          "width": 1
         },
         "mode": "lines",
         "showlegend": false,
         "type": "scatter",
         "x": [
          86.7151085951611,
          83.4302171903222
         ],
         "y": [
          76.23045248625044,
          72.46090497250088
         ]
        },
        {
         "hoverinfo": "skip",
         "line": {
          "color": "lightblue",
          "width": 1
         },
         "mode": "lines",
         "showlegend": false,
         "type": "scatter",
         "x": [
          32.2848914048389,
          39.6670769194371
         ],
         "y": [
          13.769547513749561,
          20.368595884108625
         ]
        },
        {
         "hoverinfo": "skip",
         "line": {
          "color": "lightblue",
          "width": 1
         },
         "mode": "lines",
         "showlegend": false,
         "type": "scatter",
         "x": [
          39.6670769194371,
          42.8921399292814
         ],
         "y": [
          20.368595884108625,
          24.18945554948945
         ]
        },
        {
         "hoverinfo": "skip",
         "line": {
          "color": "lightblue",
          "width": 1
         },
         "mode": "lines",
         "showlegend": false,
         "type": "scatter",
         "x": [
          83.4302171903222,
          81.3744345826379
         ],
         "y": [
          72.46090497250088,
          63.8447822179491
         ]
        },
        {
         "hoverinfo": "skip",
         "line": {
          "color": "lightblue",
          "width": 1
         },
         "mode": "lines",
         "showlegend": false,
         "type": "scatter",
         "x": [
          39.6670769194371,
          43.58204168631828
         ],
         "y": [
          20.368595884108625,
          32.31995063126734
         ]
        },
        {
         "hoverinfo": "skip",
         "line": {
          "color": "lightblue",
          "width": 1
         },
         "mode": "lines",
         "showlegend": false,
         "type": "scatter",
         "x": [
          29,
          24.911733153593786
         ],
         "y": [
          10,
          19.937158869473862
         ]
        },
        {
         "hoverinfo": "skip",
         "line": {
          "color": "lightblue",
          "width": 1
         },
         "mode": "lines",
         "showlegend": false,
         "type": "scatter",
         "x": [
          90,
          82.73966932887369
         ],
         "y": [
          80,
          79.26292386122832
         ]
        },
        {
         "hoverinfo": "skip",
         "line": {
          "color": "lightblue",
          "width": 1
         },
         "mode": "lines",
         "showlegend": false,
         "type": "scatter",
         "x": [
          81.3744345826379,
          86.59479708417399
         ],
         "y": [
          63.8447822179491,
          57.29070009189097
         ]
        },
        {
         "hoverinfo": "skip",
         "line": {
          "color": "lightblue",
          "width": 1
         },
         "mode": "lines",
         "showlegend": false,
         "type": "scatter",
         "x": [
          24.911733153593786,
          21.79755886758564
         ],
         "y": [
          19.937158869473862,
          23.848925544055263
         ]
        },
        {
         "hoverinfo": "skip",
         "line": {
          "color": "lightblue",
          "width": 1
         },
         "mode": "lines",
         "showlegend": false,
         "type": "scatter",
         "x": [
          43.58204168631828,
          45.63975074074706
         ],
         "y": [
          32.31995063126734,
          41.026624169749134
         ]
        },
        {
         "hoverinfo": "skip",
         "line": {
          "color": "lightblue",
          "width": 1
         },
         "mode": "lines",
         "showlegend": false,
         "type": "scatter",
         "x": [
          86.68672388257271,
          85.74449924054346
         ],
         "y": [
          52.29154521694099,
          47.38112642380808
         ]
        },
        {
         "hoverinfo": "skip",
         "line": {
          "color": "lightblue",
          "width": 1
         },
         "mode": "lines",
         "showlegend": false,
         "type": "scatter",
         "x": [
          24.911733153593786,
          19.841449153069206
         ],
         "y": [
          19.937158869473862,
          28.450407347211115
         ]
        },
        {
         "hoverinfo": "skip",
         "line": {
          "color": "lightblue",
          "width": 1
         },
         "mode": "lines",
         "showlegend": false,
         "type": "scatter",
         "x": [
          19.841449153069206,
          17.733341799352505
         ],
         "y": [
          28.450407347211115,
          32.98426700375162
         ]
        },
        {
         "hoverinfo": "skip",
         "line": {
          "color": "lightblue",
          "width": 1
         },
         "mode": "lines",
         "showlegend": false,
         "type": "scatter",
         "x": [
          32.2848914048389,
          40.405570198399744
         ],
         "y": [
          13.769547513749561,
          13.499749744765207
         ]
        },
        {
         "hoverinfo": "skip",
         "line": {
          "color": "lightblue",
          "width": 1
         },
         "mode": "lines",
         "showlegend": false,
         "type": "scatter",
         "x": [
          29,
          24.194151019369453
         ],
         "y": [
          10,
          8.62021176430137
         ]
        },
        {
         "hoverinfo": "skip",
         "line": {
          "color": "lightblue",
          "width": 1
         },
         "mode": "lines",
         "showlegend": false,
         "type": "scatter",
         "x": [
          17.733341799352505,
          15.43876065960456
         ],
         "y": [
          32.98426700375162,
          37.42666471142177
         ]
        },
        {
         "hoverinfo": "skip",
         "line": {
          "color": "lightblue",
          "width": 1
         },
         "mode": "lines",
         "showlegend": false,
         "type": "scatter",
         "x": [
          29,
          32.45466356661824
         ],
         "y": [
          10,
          6.385404636549128
         ]
        },
        {
         "hoverinfo": "skip",
         "line": {
          "color": "lightblue",
          "width": 1
         },
         "mode": "lines",
         "showlegend": false,
         "type": "scatter",
         "x": [
          29,
          25.85832588517617
         ],
         "y": [
          10,
          14.976755084525461
         ]
        },
        {
         "hoverinfo": "skip",
         "line": {
          "color": "lightblue",
          "width": 1
         },
         "mode": "lines",
         "showlegend": false,
         "type": "scatter",
         "x": [
          83.82254748944202,
          82.6504685377047
         ],
         "y": [
          38.413955938497885,
          30.054160209880685
         ]
        },
        {
         "hoverinfo": "skip",
         "line": {
          "color": "lightblue",
          "width": 1
         },
         "mode": "lines",
         "showlegend": false,
         "type": "scatter",
         "x": [
          15.43876065960456,
          14.933097361131022
         ],
         "y": [
          37.42666471142177,
          42.401029457655895
         ]
        },
        {
         "hoverinfo": "skip",
         "line": {
          "color": "lightblue",
          "width": 1
         },
         "mode": "lines",
         "showlegend": false,
         "type": "scatter",
         "x": [
          80.04097314373938,
          82.17384415699628
         ],
         "y": [
          83.47208516727748,
          87.99434801244786
         ]
        },
        {
         "hoverinfo": "skip",
         "line": {
          "color": "lightblue",
          "width": 1
         },
         "mode": "lines",
         "showlegend": false,
         "type": "scatter",
         "x": [
          24.194151019369453,
          18.207164353499756
         ],
         "y": [
          8.62021176430137,
          9.01549270759849
         ]
        },
        {
         "hoverinfo": "skip",
         "line": {
          "color": "lightblue",
          "width": 1
         },
         "mode": "lines",
         "showlegend": false,
         "type": "scatter",
         "x": [
          86.59479708417399,
          90.73717070530058
         ],
         "y": [
          57.29070009189097,
          60.09083237144395
         ]
        },
        {
         "hoverinfo": "skip",
         "line": {
          "color": "lightblue",
          "width": 1
         },
         "mode": "lines",
         "showlegend": false,
         "type": "scatter",
         "x": [
          14.933097361131022,
          11.300661112335781
         ],
         "y": [
          42.401029457655895,
          45.836929179481075
         ]
        },
        {
         "hoverinfo": "skip",
         "line": {
          "color": "lightblue",
          "width": 1
         },
         "mode": "lines",
         "showlegend": false,
         "type": "scatter",
         "x": [
          14.933097361131022,
          16.782942905093293
         ],
         "y": [
          42.401029457655895,
          47.04624973913695
         ]
        },
        {
         "hoverinfo": "skip",
         "line": {
          "color": "lightblue",
          "width": 1
         },
         "mode": "lines",
         "showlegend": false,
         "type": "scatter",
         "x": [
          82.6504685377047,
          81.9065877402386
         ],
         "y": [
          30.054160209880685,
          25.10980571620194
         ]
        },
        {
         "hoverinfo": "skip",
         "line": {
          "color": "lightblue",
          "width": 1
         },
         "mode": "lines",
         "showlegend": false,
         "type": "scatter",
         "x": [
          81.3744345826379,
          83.89003518169372
         ],
         "y": [
          63.8447822179491,
          57.828663833425175
         ]
        },
        {
         "hoverinfo": "skip",
         "line": {
          "color": "lightblue",
          "width": 1
         },
         "mode": "lines",
         "showlegend": false,
         "type": "scatter",
         "x": [
          83.89003518169372,
          86.68672388257271
         ],
         "y": [
          57.828663833425175,
          52.29154521694099
         ]
        },
        {
         "hoverinfo": "skip",
         "line": {
          "color": "lightblue",
          "width": 1
         },
         "mode": "lines",
         "showlegend": false,
         "type": "scatter",
         "x": [
          81.9065877402386,
          81.73049077331304
         ],
         "y": [
          25.10980571620194,
          20.11290769260374
         ]
        },
        {
         "hoverinfo": "skip",
         "line": {
          "color": "lightblue",
          "width": 1
         },
         "mode": "lines",
         "showlegend": false,
         "type": "scatter",
         "x": [
          86.68672388257271,
          86.25445858678347
         ],
         "y": [
          52.29154521694099,
          45.151347416250054
         ]
        },
        {
         "hoverinfo": "skip",
         "line": {
          "color": "lightblue",
          "width": 1
         },
         "mode": "lines",
         "showlegend": false,
         "type": "scatter",
         "x": [
          86.25445858678347,
          86.22236426694333
         ],
         "y": [
          45.151347416250054,
          42.80039862414
         ]
        },
        {
         "hoverinfo": "skip",
         "line": {
          "color": "lightblue",
          "width": 1
         },
         "mode": "lines",
         "showlegend": false,
         "type": "scatter",
         "x": [
          86.25445858678347,
          83.82254748944202
         ],
         "y": [
          45.151347416250054,
          38.413955938497885
         ]
        },
        {
         "hoverinfo": "skip",
         "line": {
          "color": "lightblue",
          "width": 1
         },
         "mode": "lines",
         "showlegend": false,
         "type": "scatter",
         "x": [
          86.25445858678347,
          89.46294525063637
         ],
         "y": [
          45.151347416250054,
          41.37499049674918
         ]
        },
        {
         "hoverinfo": "skip",
         "line": {
          "color": "lightblue",
          "width": 1
         },
         "mode": "lines",
         "showlegend": false,
         "type": "scatter",
         "x": [
          81.73049077331304,
          80.19908668165844
         ],
         "y": [
          20.11290769260374,
          15.353201660918213
         ]
        },
        {
         "hoverinfo": "skip",
         "line": {
          "color": "lightblue",
          "width": 1
         },
         "mode": "lines",
         "showlegend": false,
         "type": "scatter",
         "x": [
          11.300661112335781,
          6.8380516559398945
         ],
         "y": [
          45.836929179481075,
          48.091949542955874
         ]
        },
        {
         "hoverinfo": "skip",
         "line": {
          "color": "lightblue",
          "width": 1
         },
         "mode": "lines",
         "showlegend": false,
         "type": "scatter",
         "x": [
          80.19908668165844,
          75.22619482048586
         ],
         "y": [
          15.353201660918213,
          14.833253070110002
         ]
        },
        {
         "hoverinfo": "skip",
         "line": {
          "color": "lightblue",
          "width": 1
         },
         "mode": "lines",
         "showlegend": false,
         "type": "scatter",
         "x": [
          75.22619482048586,
          70.25330295931327
         ],
         "y": [
          14.833253070110002,
          14.313304479301792
         ]
        },
        {
         "hoverinfo": "skip",
         "line": {
          "color": "lightblue",
          "width": 1
         },
         "mode": "lines",
         "showlegend": false,
         "type": "scatter",
         "x": [
          70.25330295931327,
          65.28041109814069
         ],
         "y": [
          14.313304479301792,
          13.793355888493581
         ]
        },
        {
         "hoverinfo": "skip",
         "line": {
          "color": "lightblue",
          "width": 1
         },
         "mode": "lines",
         "showlegend": false,
         "type": "scatter",
         "x": [
          65.28041109814069,
          60.307519236968105
         ],
         "y": [
          13.793355888493581,
          13.27340729768537
         ]
        },
        {
         "hoverinfo": "skip",
         "line": {
          "color": "lightblue",
          "width": 1
         },
         "mode": "lines",
         "showlegend": false,
         "type": "scatter",
         "x": [
          60.307519236968105,
          55.33462737579552
         ],
         "y": [
          13.27340729768537,
          12.75345870687716
         ]
        },
        {
         "hoverinfo": "skip",
         "line": {
          "color": "lightblue",
          "width": 1
         },
         "mode": "lines",
         "showlegend": false,
         "type": "scatter",
         "x": [
          16.782942905093293,
          17.809535515406427
         ],
         "y": [
          47.04624973913695,
          51.93972576466833
         ]
        },
        {
         "hoverinfo": "skip",
         "line": {
          "color": "lightblue",
          "width": 1
         },
         "mode": "lines",
         "showlegend": false,
         "type": "scatter",
         "x": [
          17.809535515406427,
          15.461781659382332
         ],
         "y": [
          51.93972576466833,
          56.35425312685831
         ]
        },
        {
         "hoverinfo": "skip",
         "line": {
          "color": "lightblue",
          "width": 1
         },
         "mode": "lines",
         "showlegend": false,
         "type": "scatter",
         "x": [
          35.40435203526547,
          32.13154221335871
         ],
         "y": [
          35.285376571357695,
          39.06541835282396
         ]
        },
        {
         "hoverinfo": "skip",
         "line": {
          "color": "lightblue",
          "width": 1
         },
         "mode": "lines",
         "showlegend": false,
         "type": "scatter",
         "x": [
          60.307519236968105,
          58.72444628008062
         ],
         "y": [
          13.27340729768537,
          8.530635954559969
         ]
        },
        {
         "hoverinfo": "skip",
         "line": {
          "color": "lightblue",
          "width": 1
         },
         "mode": "lines",
         "showlegend": false,
         "type": "scatter",
         "x": [
          80.19908668165844,
          81.83526397696998
         ],
         "y": [
          15.353201660918213,
          11.310377448847753
         ]
        },
        {
         "hoverinfo": "skip",
         "line": {
          "color": "lightblue",
          "width": 1
         },
         "mode": "lines",
         "showlegend": false,
         "type": "scatter",
         "x": [
          15.461781659382332,
          14.141491216887335
         ],
         "y": [
          56.35425312685831,
          61.1767870196844
         ]
        },
        {
         "hoverinfo": "skip",
         "line": {
          "color": "lightblue",
          "width": 1
         },
         "mode": "lines",
         "showlegend": false,
         "type": "scatter",
         "x": [
          75.22619482048586,
          69.53814054934874
         ],
         "y": [
          14.833253070110002,
          18.57728943965172
         ]
        },
        {
         "hoverinfo": "skip",
         "line": {
          "color": "lightblue",
          "width": 1
         },
         "mode": "lines",
         "showlegend": false,
         "type": "scatter",
         "x": [
          14.141491216887335,
          11.130353123654027
         ],
         "y": [
          61.1767870196844,
          65.1684091690717
         ]
        },
        {
         "hoverinfo": "skip",
         "line": {
          "color": "lightblue",
          "width": 1
         },
         "mode": "lines",
         "showlegend": false,
         "type": "scatter",
         "x": [
          90.73717070530058,
          94.55369838718212
         ],
         "y": [
          60.09083237144395,
          63.32102067144008
         ]
        },
        {
         "hoverinfo": "skip",
         "line": {
          "color": "lightblue",
          "width": 1
         },
         "mode": "lines",
         "showlegend": false,
         "type": "scatter",
         "x": [
          19.022306461134523,
          22.843956795826497
         ],
         "y": [
          62.26197942268226,
          65.48610546230117
         ]
        },
        {
         "hoverinfo": "skip",
         "line": {
          "color": "lightblue",
          "width": 1
         },
         "mode": "lines",
         "showlegend": false,
         "type": "scatter",
         "x": [
          54.61080424457799,
          52.02313429813352
         ],
         "y": [
          17.70078930778857,
          21.979102555818457
         ]
        },
        {
         "hoverinfo": "skip",
         "line": {
          "color": "lightblue",
          "width": 1
         },
         "mode": "lines",
         "showlegend": false,
         "type": "scatter",
         "x": [
          29,
          30.648926499406738
         ],
         "y": [
          10,
          10.941281212380305
         ]
        },
        {
         "hoverinfo": "skip",
         "line": {
          "color": "lightblue",
          "width": 1
         },
         "mode": "lines",
         "showlegend": false,
         "type": "scatter",
         "x": [
          11.130353123654027,
          9.446969292840947
         ],
         "y": [
          65.1684091690717,
          69.87651057814915
         ]
        },
        {
         "hoverinfo": "skip",
         "line": {
          "color": "lightblue",
          "width": 1
         },
         "mode": "lines",
         "showlegend": false,
         "type": "scatter",
         "x": [
          58.72444628008062,
          60.625567436577974
         ],
         "y": [
          8.530635954559969,
          3.90616427140327
         ]
        },
        {
         "hoverinfo": "skip",
         "line": {
          "color": "lightblue",
          "width": 1
         },
         "mode": "lines",
         "showlegend": false,
         "type": "scatter",
         "x": [
          87.20685282599962,
          91.8253906771788
         ],
         "y": [
          27.99518905481823,
          26.079697442405088
         ]
        },
        {
         "hoverinfo": "skip",
         "line": {
          "color": "lightblue",
          "width": 1
         },
         "mode": "lines",
         "showlegend": false,
         "type": "scatter",
         "x": [
          58.863446608705274,
          58.80900322815403
         ],
         "y": [
          28.19152649046159,
          33.1912300735067
         ]
        },
        {
         "hoverinfo": "skip",
         "line": {
          "color": "lightblue",
          "width": 1
         },
         "mode": "lines",
         "showlegend": false,
         "type": "scatter",
         "x": [
          22.843956795826497,
          25.477598402040435
         ],
         "y": [
          65.48610546230117,
          69.73627391661199
         ]
        },
        {
         "hoverinfo": "skip",
         "line": {
          "color": "lightblue",
          "width": 1
         },
         "mode": "lines",
         "showlegend": false,
         "type": "scatter",
         "x": [
          58.80900322815403,
          55.43963100706648
         ],
         "y": [
          33.1912300735067,
          36.88545947025016
         ]
        },
        {
         "hoverinfo": "skip",
         "line": {
          "color": "lightblue",
          "width": 1
         },
         "mode": "lines",
         "showlegend": false,
         "type": "scatter",
         "x": [
          55.43963100706648,
          52.07025878597893
         ],
         "y": [
          36.88545947025016,
          40.57968886699362
         ]
        },
        {
         "hoverinfo": "skip",
         "line": {
          "color": "lightblue",
          "width": 1
         },
         "mode": "lines",
         "showlegend": false,
         "type": "scatter",
         "x": [
          25.477598402040435,
          25.723432482839744
         ],
         "y": [
          69.73627391661199,
          74.73022682034642
         ]
        },
        {
         "hoverinfo": "skip",
         "line": {
          "color": "lightblue",
          "width": 1
         },
         "mode": "lines",
         "showlegend": false,
         "type": "scatter",
         "x": [
          11.872679280701126,
          8.40135419471278
         ],
         "y": [
          29.125184695131743,
          25.526587447955002
         ]
        },
        {
         "hoverinfo": "skip",
         "line": {
          "color": "lightblue",
          "width": 1
         },
         "mode": "lines",
         "showlegend": false,
         "type": "scatter",
         "x": [
          58.80900322815403,
          62.081048802647175
         ],
         "y": [
          33.1912300735067,
          33.83439771416413
         ]
        },
        {
         "hoverinfo": "skip",
         "line": {
          "color": "lightblue",
          "width": 1
         },
         "mode": "lines",
         "showlegend": false,
         "type": "scatter",
         "x": [
          25.723432482839744,
          23.737534396662085
         ],
         "y": [
          74.73022682034642,
          79.31893129888019
         ]
        },
        {
         "hoverinfo": "skip",
         "line": {
          "color": "lightblue",
          "width": 1
         },
         "mode": "lines",
         "showlegend": false,
         "type": "scatter",
         "x": [
          91.8253906771788,
          93.00578623020948
         ],
         "y": [
          26.079697442405088,
          25.25307180552939
         ]
        },
        {
         "hoverinfo": "skip",
         "line": {
          "color": "lightblue",
          "width": 1
         },
         "mode": "lines",
         "showlegend": false,
         "type": "scatter",
         "x": [
          23.737534396662085,
          20.369892724994994
         ],
         "y": [
          79.31893129888019,
          83.0147383245853
         ]
        },
        {
         "hoverinfo": "skip",
         "line": {
          "color": "lightblue",
          "width": 1
         },
         "mode": "lines",
         "showlegend": false,
         "type": "scatter",
         "x": [
          20.369892724994994,
          21.82161407531491
         ],
         "y": [
          83.0147383245853,
          87.79934960670899
         ]
        },
        {
         "hoverinfo": "skip",
         "line": {
          "color": "lightblue",
          "width": 1
         },
         "mode": "lines",
         "showlegend": false,
         "type": "scatter",
         "x": [
          81.83526397696998,
          85.5531353784191
         ],
         "y": [
          11.310377448847753,
          7.967110746610738
         ]
        },
        {
         "hoverinfo": "skip",
         "line": {
          "color": "lightblue",
          "width": 1
         },
         "mode": "lines",
         "showlegend": false,
         "type": "scatter",
         "x": [
          43.58204168631828,
          40.40766569096533
         ],
         "y": [
          32.31995063126734,
          34.74289380338155
         ]
        },
        {
         "hoverinfo": "skip",
         "line": {
          "color": "lightblue",
          "width": 1
         },
         "mode": "lines",
         "showlegend": false,
         "type": "scatter",
         "x": [
          40.40766569096533,
          35.40435203526547
         ],
         "y": [
          34.74289380338155,
          35.285376571357695
         ]
        },
        {
         "hoverinfo": "skip",
         "line": {
          "color": "lightblue",
          "width": 1
         },
         "mode": "lines",
         "showlegend": false,
         "type": "scatter",
         "x": [
          21.79755886758564,
          17.13964846209941
         ],
         "y": [
          23.848925544055263,
          27.520674806605882
         ]
        },
        {
         "hoverinfo": "skip",
         "line": {
          "color": "lightblue",
          "width": 1
         },
         "mode": "lines",
         "showlegend": false,
         "type": "scatter",
         "x": [
          17.13964846209941,
          11.872679280701126
         ],
         "y": [
          27.520674806605882,
          29.125184695131743
         ]
        },
        {
         "hoverinfo": "skip",
         "line": {
          "color": "lightblue",
          "width": 1
         },
         "mode": "lines",
         "showlegend": false,
         "type": "scatter",
         "x": [
          83.89003518169372,
          86.41802816888095
         ],
         "y": [
          57.828663833425175,
          55.64323767140763
         ]
        },
        {
         "hoverinfo": "skip",
         "line": {
          "color": "lightblue",
          "width": 1
         },
         "mode": "lines",
         "showlegend": false,
         "type": "scatter",
         "x": [
          21.82161407531491,
          26.74521802526874
         ],
         "y": [
          87.79934960670899,
          88.67005285351527
         ]
        },
        {
         "hoverinfo": "skip",
         "line": {
          "color": "lightblue",
          "width": 1
         },
         "mode": "lines",
         "showlegend": false,
         "type": "scatter",
         "x": [
          60.307519236968105,
          58.008114443898116
         ],
         "y": [
          13.27340729768537,
          14.392969096500451
         ]
        },
        {
         "hoverinfo": "skip",
         "line": {
          "color": "lightblue",
          "width": 1
         },
         "mode": "lines",
         "showlegend": false,
         "type": "scatter",
         "x": [
          58.008114443898116,
          54.61080424457799
         ],
         "y": [
          14.392969096500451,
          17.70078930778857
         ]
        },
        {
         "hoverinfo": "skip",
         "line": {
          "color": "lightblue",
          "width": 1
         },
         "mode": "lines",
         "showlegend": false,
         "type": "scatter",
         "x": [
          26.74521802526874,
          31.653742237883154
         ],
         "y": [
          88.67005285351527,
          89.62209804896455
         ]
        },
        {
         "hoverinfo": "skip",
         "line": {
          "color": "lightblue",
          "width": 1
         },
         "mode": "lines",
         "showlegend": false,
         "type": "scatter",
         "x": [
          31.653742237883154,
          36.6528384284657
         ],
         "y": [
          89.62209804896455,
          89.5270334535407
         ]
        },
        {
         "hoverinfo": "skip",
         "line": {
          "color": "lightblue",
          "width": 1
         },
         "mode": "lines",
         "showlegend": false,
         "type": "scatter",
         "x": [
          36.6528384284657,
          41.57496425689085
         ],
         "y": [
          89.5270334535407,
          88.64801278873807
         ]
        },
        {
         "hoverinfo": "skip",
         "line": {
          "color": "lightblue",
          "width": 1
         },
         "mode": "lines",
         "showlegend": false,
         "type": "scatter",
         "x": [
          41.57496425689085,
          46.497090085316
         ],
         "y": [
          88.64801278873807,
          87.76899212393545
         ]
        },
        {
         "hoverinfo": "skip",
         "line": {
          "color": "lightblue",
          "width": 1
         },
         "mode": "lines",
         "showlegend": false,
         "type": "scatter",
         "x": [
          46.497090085316,
          51.419215913741155
         ],
         "y": [
          87.76899212393545,
          86.88997145913282
         ]
        },
        {
         "hoverinfo": "skip",
         "line": {
          "color": "lightblue",
          "width": 1
         },
         "mode": "lines",
         "showlegend": false,
         "type": "scatter",
         "x": [
          51.419215913741155,
          56.34134174216631
         ],
         "y": [
          86.88997145913282,
          86.0109507943302
         ]
        },
        {
         "hoverinfo": "skip",
         "line": {
          "color": "lightblue",
          "width": 1
         },
         "mode": "lines",
         "showlegend": false,
         "type": "scatter",
         "x": [
          56.34134174216631,
          61.26346757059146
         ],
         "y": [
          86.0109507943302,
          85.13193012952757
         ]
        },
        {
         "hoverinfo": "skip",
         "line": {
          "color": "lightblue",
          "width": 1
         },
         "mode": "lines",
         "showlegend": false,
         "type": "scatter",
         "x": [
          61.26346757059146,
          66.18559339901661
         ],
         "y": [
          85.13193012952757,
          84.25290946472495
         ]
        },
        {
         "hoverinfo": "skip",
         "line": {
          "color": "lightblue",
          "width": 1
         },
         "mode": "lines",
         "showlegend": false,
         "type": "scatter",
         "x": [
          66.18559339901661,
          71.10771922744176
         ],
         "y": [
          84.25290946472495,
          83.37388879992233
         ]
        },
        {
         "hoverinfo": "skip",
         "line": {
          "color": "lightblue",
          "width": 1
         },
         "mode": "lines",
         "showlegend": false,
         "type": "scatter",
         "x": [
          71.10771922744176,
          76.02984505586691
         ],
         "y": [
          83.37388879992233,
          82.4948681351197
         ]
        },
        {
         "hoverinfo": "skip",
         "line": {
          "color": "lightblue",
          "width": 1
         },
         "mode": "lines",
         "showlegend": false,
         "type": "scatter",
         "x": [
          85.5531353784191,
          83.10262460963196
         ],
         "y": [
          7.967110746610738,
          3.608785727517022
         ]
        },
        {
         "hoverinfo": "skip",
         "line": {
          "color": "lightblue",
          "width": 1
         },
         "mode": "lines",
         "showlegend": false,
         "type": "scatter",
         "x": [
          87.23399903940597,
          87.8242830412104
         ],
         "y": [
          38.78859561617457,
          33.82356139703632
         ]
        },
        {
         "hoverinfo": "skip",
         "line": {
          "color": "lightblue",
          "width": 1
         },
         "mode": "lines",
         "showlegend": false,
         "type": "scatter",
         "x": [
          87.8242830412104,
          87.20685282599962
         ],
         "y": [
          33.82356139703632,
          27.99518905481823
         ]
        },
        {
         "hoverinfo": "skip",
         "line": {
          "color": "lightblue",
          "width": 1
         },
         "mode": "lines",
         "showlegend": false,
         "type": "scatter",
         "x": [
          8.40135419471278,
          5.344542015796816
         ],
         "y": [
          25.526587447955002,
          21.56983381614634
         ]
        },
        {
         "hoverinfo": "skip",
         "line": {
          "color": "lightblue",
          "width": 1
         },
         "mode": "lines",
         "showlegend": false,
         "type": "scatter",
         "x": [
          52.02313429813352,
          55.25296640970794
         ],
         "y": [
          21.979102555818457,
          24.60667697150568
         ]
        },
        {
         "hoverinfo": "skip",
         "line": {
          "color": "lightblue",
          "width": 1
         },
         "mode": "lines",
         "showlegend": false,
         "type": "scatter",
         "x": [
          55.25296640970794,
          58.863446608705274
         ],
         "y": [
          24.60667697150568,
          28.19152649046159
         ]
        },
        {
         "hoverinfo": "skip",
         "line": {
          "color": "lightblue",
          "width": 1
         },
         "mode": "lines",
         "showlegend": false,
         "type": "scatter",
         "x": [
          24.911733153593786,
          22.969513268319307
         ],
         "y": [
          19.937158869473862,
          21.137721718042723
         ]
        },
        {
         "hoverinfo": "skip",
         "line": {
          "color": "lightblue",
          "width": 1
         },
         "mode": "lines",
         "showlegend": false,
         "type": "scatter",
         "x": [
          22.969513268319307,
          18.473742087803846
         ],
         "y": [
          21.137721718042723,
          24.847143109428306
         ]
        },
        {
         "hoverinfo": "skip",
         "line": {
          "color": "lightblue",
          "width": 1
         },
         "mode": "lines",
         "showlegend": false,
         "type": "scatter",
         "x": [
          29,
          29
         ],
         "y": [
          10,
          10
         ]
        },
        {
         "hoverinfo": "skip",
         "line": {
          "color": "lightblue",
          "width": 1
         },
         "mode": "lines",
         "showlegend": false,
         "type": "scatter",
         "x": [
          91.8253906771788,
          90.19537484467853
         ],
         "y": [
          26.079697442405088,
          22.451319916104772
         ]
        },
        {
         "hoverinfo": "skip",
         "line": {
          "color": "lightblue",
          "width": 1
         },
         "mode": "lines",
         "showlegend": false,
         "type": "scatter",
         "x": [
          90,
          90.15656372918505
         ],
         "y": [
          80,
          84.06747363613623
         ]
        },
        {
         "hoverinfo": "skip",
         "line": {
          "color": "lightblue",
          "width": 1
         },
         "mode": "lines",
         "showlegend": false,
         "type": "scatter",
         "x": [
          90.15656372918505,
          86.15042399689253
         ],
         "y": [
          84.06747363613623,
          85.0798170505908
         ]
        },
        {
         "hoverinfo": "skip",
         "line": {
          "color": "lightblue",
          "width": 1
         },
         "mode": "lines",
         "showlegend": false,
         "type": "scatter",
         "x": [
          6.17148374157661,
          6.206400443598525
         ],
         "y": [
          64.5283978789407,
          60.80330895320641
         ]
        },
        {
         "hoverinfo": "skip",
         "line": {
          "color": "lightblue",
          "width": 1
         },
         "mode": "lines",
         "showlegend": false,
         "type": "scatter",
         "x": [
          66.18559339901661,
          68.87068181288686
         ],
         "y": [
          84.25290946472495,
          80.40885328865622
         ]
        },
        {
         "hoverinfo": "skip",
         "line": {
          "color": "lightblue",
          "width": 1
         },
         "mode": "lines",
         "showlegend": false,
         "type": "scatter",
         "x": [
          90,
          90
         ],
         "y": [
          80,
          80
         ]
        },
        {
         "hoverinfo": "skip",
         "line": {
          "color": "lightblue",
          "width": 1
         },
         "mode": "lines",
         "showlegend": false,
         "type": "scatter",
         "x": [
          46.1172029391257,
          45.79576546593335
         ],
         "y": [
          28.01031521487027,
          30.05048558818747
         ]
        },
        {
         "hoverinfo": "skip",
         "line": {
          "color": "lightblue",
          "width": 1
         },
         "mode": "lines",
         "showlegend": false,
         "type": "scatter",
         "x": [
          21.82161407531491,
          22.2956091903843
         ],
         "y": [
          87.79934960670899,
          92.77683176447614
         ]
        },
        {
         "hoverinfo": "skip",
         "line": {
          "color": "lightblue",
          "width": 1
         },
         "mode": "lines",
         "showlegend": false,
         "type": "scatter",
         "x": [
          90.15656372918505,
          88.81506615220579
         ],
         "y": [
          84.06747363613623,
          89.12953985425928
         ]
        },
        {
         "hoverinfo": "skip",
         "line": {
          "color": "lightblue",
          "width": 1
         },
         "mode": "lines",
         "showlegend": false,
         "type": "scatter",
         "x": [
          88.81506615220579,
          85.38769741847281
         ],
         "y": [
          89.12953985425928,
          91.82464137114725
         ]
        },
        {
         "hoverinfo": "skip",
         "line": {
          "color": "lightblue",
          "width": 1
         },
         "mode": "lines",
         "showlegend": false,
         "type": "scatter",
         "x": [
          90.73717070530058,
          96.36353692488827
         ],
         "y": [
          60.09083237144395,
          62.13614661736274
         ]
        },
        {
         "hoverinfo": "skip",
         "line": {
          "color": "lightblue",
          "width": 1
         },
         "mode": "lines",
         "showlegend": false,
         "type": "scatter",
         "x": [
          21.844927264130153,
          17.469256635646158
         ],
         "y": [
          7.600520439056435,
          7.592949848873143
         ]
        },
        {
         "hoverinfo": "skip",
         "line": {
          "color": "lightblue",
          "width": 1
         },
         "mode": "lines",
         "showlegend": false,
         "type": "scatter",
         "x": [
          76.02984505586691,
          75.57337525390321
         ],
         "y": [
          82.4948681351197,
          87.47398806939475
         ]
        },
        {
         "hoverinfo": "skip",
         "line": {
          "color": "lightblue",
          "width": 1
         },
         "mode": "lines",
         "showlegend": false,
         "type": "scatter",
         "x": [
          74.84360600713846,
          70.53939548146462
         ],
         "y": [
          13.984924105505447,
          10.280143381909102
         ]
        },
        {
         "hoverinfo": "skip",
         "line": {
          "color": "lightblue",
          "width": 1
         },
         "mode": "lines",
         "showlegend": false,
         "type": "scatter",
         "x": [
          58.80900322815403,
          57.34380743158112
         ],
         "y": [
          33.1912300735067,
          37.03084212234925
         ]
        },
        {
         "hoverinfo": "skip",
         "line": {
          "color": "lightblue",
          "width": 1
         },
         "mode": "lines",
         "showlegend": false,
         "type": "scatter",
         "x": [
          9.446969292840947,
          7.053735427552477
         ],
         "y": [
          69.87651057814915,
          74.42345561690681
         ]
        },
        {
         "hoverinfo": "skip",
         "line": {
          "color": "lightblue",
          "width": 1
         },
         "mode": "lines",
         "showlegend": false,
         "type": "scatter",
         "x": [
          76.00615374463986,
          73.56690032180434
         ],
         "y": [
          77.4949242632575,
          75.59987309618032
         ]
        },
        {
         "hoverinfo": "skip",
         "line": {
          "color": "lightblue",
          "width": 1
         },
         "mode": "lines",
         "showlegend": false,
         "type": "scatter",
         "x": [
          57.34380743158112,
          61.39446861099722
         ],
         "y": [
          37.03084212234925,
          40.471863450312995
         ]
        },
        {
         "hoverinfo": "skip",
         "line": {
          "color": "lightblue",
          "width": 1
         },
         "mode": "lines",
         "showlegend": false,
         "type": "scatter",
         "x": [
          6.206400443598525,
          8.508411383379787
         ],
         "y": [
          60.80330895320641,
          57.533360592954864
         ]
        },
        {
         "hoverinfo": "skip",
         "line": {
          "color": "lightblue",
          "width": 1
         },
         "mode": "lines",
         "showlegend": false,
         "type": "scatter",
         "x": [
          16.016126700491405,
          12.158560929323636
         ],
         "y": [
          23.110887418995198,
          20.81613952427902
         ]
        },
        {
         "hoverinfo": "skip",
         "line": {
          "color": "lightblue",
          "width": 1
         },
         "mode": "lines",
         "showlegend": false,
         "type": "scatter",
         "x": [
          12.158560929323636,
          9.472662700434874
         ],
         "y": [
          20.81613952427902,
          21.77360736745282
         ]
        },
        {
         "hoverinfo": "skip",
         "line": {
          "color": "lightblue",
          "width": 1
         },
         "mode": "lines",
         "showlegend": false,
         "type": "scatter",
         "x": [
          52.07025878597893,
          51.93592743732184
         ],
         "y": [
          40.57968886699362,
          43.285663273983964
         ]
        },
        {
         "hoverinfo": "skip",
         "line": {
          "color": "lightblue",
          "width": 1
         },
         "mode": "lines",
         "showlegend": false,
         "type": "scatter",
         "x": [
          90,
          90
         ],
         "y": [
          80,
          80
         ]
        },
        {
         "hoverinfo": "skip",
         "line": {
          "color": "lightblue",
          "width": 1
         },
         "mode": "lines",
         "showlegend": false,
         "type": "scatter",
         "x": [
          20.369892724994994,
          16.228909922653205
         ],
         "y": [
          83.0147383245853,
          80.212549638806
         ]
        },
        {
         "hoverinfo": "skip",
         "line": {
          "color": "lightblue",
          "width": 1
         },
         "mode": "lines",
         "showlegend": false,
         "type": "scatter",
         "x": [
          40.405570198399744,
          42.56787514743823
         ],
         "y": [
          13.499749744765207,
          15.614200265596578
         ]
        },
        {
         "hoverinfo": "skip",
         "line": {
          "color": "lightblue",
          "width": 1
         },
         "mode": "lines",
         "showlegend": false,
         "type": "scatter",
         "x": [
          90,
          90
         ],
         "y": [
          80,
          80
         ]
        },
        {
         "hoverinfo": "skip",
         "line": {
          "color": "lightblue",
          "width": 1
         },
         "mode": "lines",
         "showlegend": false,
         "type": "scatter",
         "x": [
          11.130353123654027,
          8.7743781421878
         ],
         "y": [
          65.1684091690717,
          68.662046061688
         ]
        },
        {
         "hoverinfo": "skip",
         "line": {
          "color": "lightblue",
          "width": 1
         },
         "mode": "lines",
         "showlegend": false,
         "type": "scatter",
         "x": [
          8.7743781421878,
          6.4698859474699555
         ],
         "y": [
          68.662046061688,
          73.8935959338162
         ]
        },
        {
         "hoverinfo": "skip",
         "line": {
          "color": "lightblue",
          "width": 1
         },
         "mode": "lines",
         "showlegend": false,
         "type": "scatter",
         "x": [
          20.93755089364463,
          25.61142038612376
         ],
         "y": [
          48.451081933333974,
          50.227298127177754
         ]
        },
        {
         "hoverinfo": "skip",
         "line": {
          "color": "lightblue",
          "width": 1
         },
         "mode": "lines",
         "showlegend": false,
         "type": "scatter",
         "x": [
          90,
          92.2464516309805
         ],
         "y": [
          80,
          74.84008245986671
         ]
        },
        {
         "hoverinfo": "skip",
         "line": {
          "color": "lightblue",
          "width": 1
         },
         "mode": "lines",
         "showlegend": false,
         "type": "scatter",
         "x": [
          69.53814054934874,
          65.26027541231872
         ],
         "y": [
          18.57728943965172,
          19.557076113983452
         ]
        },
        {
         "hoverinfo": "skip",
         "line": {
          "color": "lightblue",
          "width": 1
         },
         "mode": "lines",
         "showlegend": false,
         "type": "scatter",
         "x": [
          16.228909922653205,
          12.141959571783278
         ],
         "y": [
          80.212549638806,
          79.95440302224867
         ]
        },
        {
         "hoverinfo": "skip",
         "line": {
          "color": "lightblue",
          "width": 1
         },
         "mode": "lines",
         "showlegend": false,
         "type": "scatter",
         "x": [
          18.207164353499756,
          12.304960861159639
         ],
         "y": [
          9.01549270759849,
          8.650173029736093
         ]
        },
        {
         "hoverinfo": "skip",
         "line": {
          "color": "lightblue",
          "width": 1
         },
         "mode": "lines",
         "showlegend": false,
         "type": "scatter",
         "x": [
          90,
          90
         ],
         "y": [
          80,
          80
         ]
        },
        {
         "hoverinfo": "skip",
         "line": {
          "color": "lightblue",
          "width": 1
         },
         "mode": "lines",
         "showlegend": false,
         "type": "scatter",
         "x": [
          94.40098815445663,
          98.96955306390122
         ],
         "y": [
          82.37303671786435,
          80.3412358742304
         ]
        },
        {
         "hoverinfo": "skip",
         "line": {
          "color": "lightblue",
          "width": 1
         },
         "mode": "lines",
         "showlegend": false,
         "type": "scatter",
         "x": [
          29,
          29
         ],
         "y": [
          10,
          10
         ]
        },
        {
         "hoverinfo": "skip",
         "line": {
          "color": "lightblue",
          "width": 1
         },
         "mode": "lines",
         "showlegend": false,
         "type": "scatter",
         "x": [
          21.844927264130153,
          17.126142638114562
         ],
         "y": [
          7.600520439056435,
          7.750468601170901
         ]
        },
        {
         "hoverinfo": "skip",
         "line": {
          "color": "lightblue",
          "width": 1
         },
         "mode": "lines",
         "showlegend": false,
         "type": "scatter",
         "x": [
          88.81506615220579,
          90.6055716672797
         ],
         "y": [
          89.12953985425928,
          94.05017026939234
         ]
        },
        {
         "hoverinfo": "skip",
         "line": {
          "color": "lightblue",
          "width": 1
         },
         "mode": "lines",
         "showlegend": false,
         "type": "scatter",
         "x": [
          42.284899072847836,
          43.13109724675696
         ],
         "y": [
          37.518520417049885,
          43.117281099281925
         ]
        },
        {
         "hoverinfo": "skip",
         "line": {
          "color": "lightblue",
          "width": 1
         },
         "mode": "lines",
         "showlegend": false,
         "type": "scatter",
         "x": [
          64.61046905268793,
          61.30333312498636
         ],
         "y": [
          79.50749238151691,
          75.75744545438315
         ]
        },
        {
         "hoverinfo": "skip",
         "line": {
          "color": "lightblue",
          "width": 1
         },
         "mode": "lines",
         "showlegend": false,
         "type": "scatter",
         "x": [
          61.39446861099722,
          62.9728455867115
         ],
         "y": [
          40.471863450312995,
          44.85162020186577
         ]
        },
        {
         "hoverinfo": "skip",
         "line": {
          "color": "lightblue",
          "width": 1
         },
         "mode": "lines",
         "showlegend": false,
         "type": "scatter",
         "x": [
          90,
          90
         ],
         "y": [
          80,
          80
         ]
        },
        {
         "hoverinfo": "skip",
         "line": {
          "color": "lightblue",
          "width": 1
         },
         "mode": "lines",
         "showlegend": false,
         "type": "scatter",
         "x": [
          10.002243152869184,
          5.383837669252027
         ],
         "y": [
          43.01104060214632,
          41.09522986282603
         ]
        },
        {
         "hoverinfo": "skip",
         "line": {
          "color": "lightblue",
          "width": 1
         },
         "mode": "lines",
         "showlegend": false,
         "type": "scatter",
         "x": [
          88.81506615220579,
          84.282773569415
         ],
         "y": [
          89.12953985425928,
          91.91365382644791
         ]
        },
        {
         "hoverinfo": "skip",
         "line": {
          "color": "lightblue",
          "width": 1
         },
         "mode": "lines",
         "showlegend": false,
         "type": "scatter",
         "x": [
          84.282773569415,
          83.25157779770204
         ],
         "y": [
          91.91365382644791,
          94.59838949433875
         ]
        },
        {
         "hoverinfo": "skip",
         "line": {
          "color": "lightblue",
          "width": 1
         },
         "mode": "lines",
         "showlegend": false,
         "type": "scatter",
         "x": [
          52.07025878597893,
          50.41211001250592
         ],
         "y": [
          40.57968886699362,
          40.94443663691367
         ]
        },
        {
         "hoverinfo": "skip",
         "line": {
          "color": "lightblue",
          "width": 1
         },
         "mode": "lines",
         "showlegend": false,
         "type": "scatter",
         "x": [
          24.911733153593786,
          22.036809371983924
         ],
         "y": [
          19.937158869473862,
          21.29742797077584
         ]
        },
        {
         "hoverinfo": "skip",
         "line": {
          "color": "lightblue",
          "width": 1
         },
         "mode": "lines",
         "showlegend": false,
         "type": "scatter",
         "x": [
          31.835899296452787,
          30.573179084731382
         ],
         "y": [
          43.18581963724222,
          44.90084922706482
         ]
        },
        {
         "hoverinfo": "skip",
         "line": {
          "color": "lightblue",
          "width": 1
         },
         "mode": "lines",
         "showlegend": false,
         "type": "scatter",
         "x": [
          90,
          84.02461863385892
         ],
         "y": [
          80,
          80.43491613697152
         ]
        },
        {
         "hoverinfo": "skip",
         "line": {
          "color": "lightblue",
          "width": 1
         },
         "mode": "lines",
         "showlegend": false,
         "type": "scatter",
         "x": [
          84.02461863385892,
          80.04097314373938
         ],
         "y": [
          80.43491613697152,
          83.47208516727748
         ]
        },
        {
         "hoverinfo": "skip",
         "line": {
          "color": "lightblue",
          "width": 1
         },
         "mode": "lines",
         "showlegend": false,
         "type": "scatter",
         "x": [
          84.02461863385892,
          83.72177659703941
         ],
         "y": [
          80.43491613697152,
          77.99544449759408
         ]
        },
        {
         "hoverinfo": "skip",
         "line": {
          "color": "lightblue",
          "width": 1
         },
         "mode": "lines",
         "showlegend": false,
         "type": "scatter",
         "x": [
          62.081048802647175,
          66.67485378759898
         ],
         "y": [
          33.83439771416413,
          33.04959942897416
         ]
        },
        {
         "hoverinfo": "skip",
         "line": {
          "color": "lightblue",
          "width": 1
         },
         "mode": "lines",
         "showlegend": false,
         "type": "scatter",
         "x": [
          61.26346757059146,
          62.474754179463744
         ],
         "y": [
          85.13193012952757,
          85.3192854770957
         ]
        },
        {
         "hoverinfo": "skip",
         "line": {
          "color": "lightblue",
          "width": 1
         },
         "mode": "lines",
         "showlegend": false,
         "type": "scatter",
         "x": [
          32.45466356661824,
          33.31270640588602
         ],
         "y": [
          6.385404636549128,
          1.4595785651189486
         ]
        },
        {
         "hoverinfo": "skip",
         "line": {
          "color": "lightblue",
          "width": 1
         },
         "mode": "lines",
         "showlegend": false,
         "type": "scatter",
         "x": [
          69.53814054934874,
          68.30774487546522
         ],
         "y": [
          18.57728943965172,
          19.406857029535175
         ]
        },
        {
         "hoverinfo": "skip",
         "line": {
          "color": "lightblue",
          "width": 1
         },
         "mode": "lines",
         "showlegend": false,
         "type": "scatter",
         "x": [
          68.30774487546522,
          66.72269002327783
         ],
         "y": [
          19.406857029535175,
          24.535843388278845
         ]
        },
        {
         "hoverinfo": "skip",
         "line": {
          "color": "lightblue",
          "width": 1
         },
         "mode": "lines",
         "showlegend": false,
         "type": "scatter",
         "x": [
          86.25445858678347,
          86.97859469617075
         ],
         "y": [
          45.151347416250054,
          42.5674789230315
         ]
        },
        {
         "hoverinfo": "skip",
         "line": {
          "color": "lightblue",
          "width": 1
         },
         "mode": "lines",
         "showlegend": false,
         "type": "scatter",
         "x": [
          86.97859469617075,
          87.23399903940597
         ],
         "y": [
          42.5674789230315,
          38.78859561617457
         ]
        },
        {
         "hoverinfo": "skip",
         "line": {
          "color": "lightblue",
          "width": 1
         },
         "mode": "lines",
         "showlegend": false,
         "type": "scatter",
         "x": [
          18.585346541907054,
          18.080994907230043
         ],
         "y": [
          52.92895493065765,
          57.975434091728125
         ]
        },
        {
         "hoverinfo": "skip",
         "line": {
          "color": "lightblue",
          "width": 1
         },
         "mode": "lines",
         "showlegend": false,
         "type": "scatter",
         "x": [
          91.8253906771788,
          94.0008238127682
         ],
         "y": [
          26.079697442405088,
          31.525438635610737
         ]
        },
        {
         "hoverinfo": "skip",
         "line": {
          "color": "lightblue",
          "width": 1
         },
         "mode": "lines",
         "showlegend": false,
         "type": "scatter",
         "x": [
          92.2464516309805,
          97.74826369454246
         ],
         "y": [
          74.84008245986671,
          73.9300399214376
         ]
        },
        {
         "hoverinfo": "skip",
         "line": {
          "color": "lightblue",
          "width": 1
         },
         "mode": "lines",
         "showlegend": false,
         "type": "scatter",
         "x": [
          97.74826369454246,
          98.06669075249803
         ],
         "y": [
          73.9300399214376,
          71.03884702889656
         ]
        },
        {
         "hoverinfo": "skip",
         "line": {
          "color": "lightblue",
          "width": 1
         },
         "mode": "lines",
         "showlegend": false,
         "type": "scatter",
         "x": [
          29,
          29
         ],
         "y": [
          10,
          10
         ]
        },
        {
         "hoverinfo": "skip",
         "line": {
          "color": "lightblue",
          "width": 1
         },
         "mode": "lines",
         "showlegend": false,
         "type": "scatter",
         "x": [
          32.45466356661824,
          31.4350371022416
         ],
         "y": [
          6.385404636549128,
          2.9372874792355175
         ]
        },
        {
         "hoverinfo": "skip",
         "line": {
          "color": "lightblue",
          "width": 1
         },
         "mode": "lines",
         "showlegend": false,
         "type": "scatter",
         "x": [
          70.25330295931327,
          65.34783456545019
         ],
         "y": [
          14.313304479301792,
          17.289402427111376
         ]
        },
        {
         "hoverinfo": "skip",
         "line": {
          "color": "lightblue",
          "width": 1
         },
         "mode": "lines",
         "showlegend": false,
         "type": "scatter",
         "x": [
          8.549373982238922,
          6.113848503449306
         ],
         "y": [
          83.4319493960298,
          87.79866619955239
         ]
        },
        {
         "hoverinfo": "skip",
         "line": {
          "color": "lightblue",
          "width": 1
         },
         "mode": "lines",
         "showlegend": false,
         "type": "scatter",
         "x": [
          46.497090085316,
          47.214136293125236
         ],
         "y": [
          87.76899212393545,
          92.71730948803675
         ]
        },
        {
         "hoverinfo": "skip",
         "line": {
          "color": "lightblue",
          "width": 1
         },
         "mode": "lines",
         "showlegend": false,
         "type": "scatter",
         "x": [
          90,
          90
         ],
         "y": [
          80,
          80
         ]
        },
        {
         "hoverinfo": "skip",
         "line": {
          "color": "lightblue",
          "width": 1
         },
         "mode": "lines",
         "showlegend": false,
         "type": "scatter",
         "x": [
          69.53814054934874,
          69.52364194945898
         ],
         "y": [
          18.57728943965172,
          18.957818639643776
         ]
        },
        {
         "hoverinfo": "skip",
         "line": {
          "color": "lightblue",
          "width": 1
         },
         "mode": "lines",
         "showlegend": false,
         "type": "scatter",
         "x": [
          29,
          29
         ],
         "y": [
          10,
          10
         ]
        },
        {
         "hoverinfo": "skip",
         "line": {
          "color": "lightblue",
          "width": 1
         },
         "mode": "lines",
         "showlegend": false,
         "type": "scatter",
         "x": [
          18.585346541907054,
          18.24515745381271
         ],
         "y": [
          52.92895493065765,
          58.0368711787581
         ]
        },
        {
         "hoverinfo": "skip",
         "line": {
          "color": "lightblue",
          "width": 1
         },
         "mode": "lines",
         "showlegend": false,
         "type": "scatter",
         "x": [
          18.24515745381271,
          19.022306461134523
         ],
         "y": [
          58.0368711787581,
          62.26197942268226
         ]
        },
        {
         "hoverinfo": "skip",
         "line": {
          "color": "lightblue",
          "width": 1
         },
         "mode": "lines",
         "showlegend": false,
         "type": "scatter",
         "x": [
          84.282773569415,
          81.17311186733679
         ],
         "y": [
          91.91365382644791,
          93.37841958386319
         ]
        },
        {
         "hoverinfo": "skip",
         "line": {
          "color": "lightblue",
          "width": 1
         },
         "mode": "lines",
         "showlegend": false,
         "type": "scatter",
         "x": [
          58.72444628008062,
          63.03117224511301
         ],
         "y": [
          8.530635954559969,
          6.732692803396079
         ]
        },
        {
         "hoverinfo": "skip",
         "line": {
          "color": "lightblue",
          "width": 1
         },
         "mode": "lines",
         "showlegend": false,
         "type": "scatter",
         "x": [
          63.03117224511301,
          65.62078039592811
         ],
         "y": [
          6.732692803396079,
          3.687423578480198
         ]
        },
        {
         "hoverinfo": "skip",
         "line": {
          "color": "lightblue",
          "width": 1
         },
         "mode": "lines",
         "showlegend": false,
         "type": "scatter",
         "x": [
          61.26346757059146,
          64.53053283936896
         ],
         "y": [
          85.13193012952757,
          86.9604804739661
         ]
        },
        {
         "hoverinfo": "skip",
         "line": {
          "color": "lightblue",
          "width": 1
         },
         "mode": "lines",
         "showlegend": false,
         "type": "scatter",
         "x": [
          21.79755886758564,
          22.540702703179615
         ],
         "y": [
          23.848925544055263,
          28.87335756209867
         ]
        },
        {
         "hoverinfo": "skip",
         "line": {
          "color": "lightblue",
          "width": 1
         },
         "mode": "lines",
         "showlegend": false,
         "type": "scatter",
         "x": [
          22.540702703179615,
          24.10743792854212
         ],
         "y": [
          28.87335756209867,
          31.058345185338993
         ]
        },
        {
         "hoverinfo": "skip",
         "line": {
          "color": "lightblue",
          "width": 1
         },
         "mode": "lines",
         "showlegend": false,
         "type": "scatter",
         "x": [
          90,
          90
         ],
         "y": [
          80,
          80
         ]
        },
        {
         "hoverinfo": "skip",
         "line": {
          "color": "lightblue",
          "width": 1
         },
         "mode": "lines",
         "showlegend": false,
         "type": "scatter",
         "x": [
          55.33462737579552,
          53.915284449772905
         ],
         "y": [
          12.75345870687716,
          13.371426493748807
         ]
        },
        {
         "hoverinfo": "skip",
         "line": {
          "color": "lightblue",
          "width": 1
         },
         "mode": "lines",
         "showlegend": false,
         "type": "scatter",
         "x": [
          22.843956795826497,
          25.059580108670897
         ],
         "y": [
          65.48610546230117,
          61.00380545721668
         ]
        },
        {
         "hoverinfo": "skip",
         "line": {
          "color": "lightblue",
          "width": 1
         },
         "mode": "lines",
         "showlegend": false,
         "type": "scatter",
         "x": [
          90,
          90
         ],
         "y": [
          80,
          80
         ]
        },
        {
         "hoverinfo": "skip",
         "line": {
          "color": "lightblue",
          "width": 1
         },
         "mode": "lines",
         "showlegend": false,
         "type": "scatter",
         "x": [
          62.9728455867115,
          63.45563587596466
         ],
         "y": [
          44.85162020186577,
          49.82825697147261
         ]
        },
        {
         "hoverinfo": "skip",
         "line": {
          "color": "lightblue",
          "width": 1
         },
         "mode": "lines",
         "showlegend": false,
         "type": "scatter",
         "x": [
          22.540702703179615,
          23.193770377088143
         ],
         "y": [
          28.87335756209867,
          34.31246699321374
         ]
        },
        {
         "hoverinfo": "skip",
         "line": {
          "color": "lightblue",
          "width": 1
         },
         "mode": "lines",
         "showlegend": false,
         "type": "scatter",
         "x": [
          23.193770377088143,
          20.088729089582337
         ],
         "y": [
          34.31246699321374,
          38.43366035501469
         ]
        },
        {
         "hoverinfo": "skip",
         "line": {
          "color": "lightblue",
          "width": 1
         },
         "mode": "lines",
         "showlegend": false,
         "type": "scatter",
         "x": [
          32.13154221335871,
          35.05958617415109
         ],
         "y": [
          39.06541835282396,
          42.2236160647627
         ]
        },
        {
         "hoverinfo": "skip",
         "line": {
          "color": "lightblue",
          "width": 1
         },
         "mode": "lines",
         "showlegend": false,
         "type": "scatter",
         "x": [
          89.46294525063637,
          90.19784476135119
         ],
         "y": [
          41.37499049674918,
          40.507415261121636
         ]
        },
        {
         "hoverinfo": "skip",
         "line": {
          "color": "lightblue",
          "width": 1
         },
         "mode": "lines",
         "showlegend": false,
         "type": "scatter",
         "x": [
          90,
          90
         ],
         "y": [
          80,
          80
         ]
        },
        {
         "hoverinfo": "skip",
         "line": {
          "color": "lightblue",
          "width": 1
         },
         "mode": "lines",
         "showlegend": false,
         "type": "scatter",
         "x": [
          51.419215913741155,
          55.86397439184769
         ],
         "y": [
          86.88997145913282,
          90.40927572630949
         ]
        },
        {
         "hoverinfo": "skip",
         "line": {
          "color": "lightblue",
          "width": 1
         },
         "mode": "lines",
         "showlegend": false,
         "type": "scatter",
         "x": [
          90,
          90
         ],
         "y": [
          80,
          80
         ]
        },
        {
         "hoverinfo": "skip",
         "line": {
          "color": "lightblue",
          "width": 1
         },
         "mode": "lines",
         "showlegend": false,
         "type": "scatter",
         "x": [
          63.45563587596466,
          68.07442599495268
         ],
         "y": [
          49.82825697147261,
          49.64685967188911
         ]
        },
        {
         "hoverinfo": "skip",
         "line": {
          "color": "lightblue",
          "width": 1
         },
         "mode": "lines",
         "showlegend": false,
         "type": "scatter",
         "x": [
          29.482548617515434,
          33.22594244671482
         ],
         "y": [
          17.910426031930957,
          21.136972698373356
         ]
        },
        {
         "hoverinfo": "skip",
         "line": {
          "color": "lightblue",
          "width": 1
         },
         "mode": "lines",
         "showlegend": false,
         "type": "scatter",
         "x": [
          6.8380516559398945,
          4.531070633069001
         ],
         "y": [
          48.091949542955874,
          49.142765601151396
         ]
        },
        {
         "hoverinfo": "skip",
         "line": {
          "color": "lightblue",
          "width": 1
         },
         "mode": "lines",
         "showlegend": false,
         "type": "scatter",
         "x": [
          90.73717070530058,
          94.50235665566899
         ],
         "y": [
          60.09083237144395,
          64.02076579519608
         ]
        },
        {
         "hoverinfo": "skip",
         "line": {
          "color": "lightblue",
          "width": 1
         },
         "mode": "lines",
         "showlegend": false,
         "type": "scatter",
         "x": [
          90,
          90
         ],
         "y": [
          80,
          80
         ]
        },
        {
         "hoverinfo": "skip",
         "line": {
          "color": "lightblue",
          "width": 1
         },
         "mode": "lines",
         "showlegend": false,
         "type": "scatter",
         "x": [
          6.113848503449306,
          3.654577986938997
         ],
         "y": [
          87.79866619955239,
          92.15205436586872
         ]
        },
        {
         "hoverinfo": "skip",
         "line": {
          "color": "lightblue",
          "width": 1
         },
         "mode": "lines",
         "showlegend": false,
         "type": "scatter",
         "x": [
          10.172126245318447,
          14.396054125955352
         ],
         "y": [
          13.172453041131845,
          15.847977897898872
         ]
        },
        {
         "hoverinfo": "skip",
         "line": {
          "color": "lightblue",
          "width": 1
         },
         "mode": "lines",
         "showlegend": false,
         "type": "scatter",
         "x": [
          90,
          90
         ],
         "y": [
          80,
          80
         ]
        },
        {
         "hoverinfo": "skip",
         "line": {
          "color": "lightblue",
          "width": 1
         },
         "mode": "lines",
         "showlegend": false,
         "type": "scatter",
         "x": [
          90,
          90
         ],
         "y": [
          80,
          80
         ]
        },
        {
         "hoverinfo": "skip",
         "line": {
          "color": "lightblue",
          "width": 1
         },
         "mode": "lines",
         "showlegend": false,
         "type": "scatter",
         "x": [
          18.207164353499756,
          12.674274682325393
         ],
         "y": [
          9.01549270759849,
          9.214609016907849
         ]
        },
        {
         "hoverinfo": "skip",
         "line": {
          "color": "lightblue",
          "width": 1
         },
         "mode": "lines",
         "showlegend": false,
         "type": "scatter",
         "x": [
          12.674274682325393,
          10.172126245318447
         ],
         "y": [
          9.214609016907849,
          13.172453041131845
         ]
        },
        {
         "hoverinfo": "skip",
         "line": {
          "color": "lightblue",
          "width": 1
         },
         "mode": "lines",
         "showlegend": false,
         "type": "scatter",
         "x": [
          12.674274682325393,
          6.85456318106945
         ],
         "y": [
          9.214609016907849,
          9.431627555396002
         ]
        },
        {
         "hoverinfo": "skip",
         "line": {
          "color": "lightblue",
          "width": 1
         },
         "mode": "lines",
         "showlegend": false,
         "type": "scatter",
         "x": [
          75.57337525390321,
          71.65177023155644
         ],
         "y": [
          87.47398806939475,
          90.57576402015337
         ]
        },
        {
         "hoverinfo": "skip",
         "line": {
          "color": "lightblue",
          "width": 1
         },
         "mode": "lines",
         "showlegend": false,
         "type": "scatter",
         "x": [
          97.74826369454246,
          99.89296013143858
         ],
         "y": [
          73.9300399214376,
          75.69648396510391
         ]
        },
        {
         "hoverinfo": "skip",
         "line": {
          "color": "lightblue",
          "width": 1
         },
         "mode": "lines",
         "showlegend": false,
         "type": "scatter",
         "x": [
          51.93592743732184,
          55.17186458975141
         ],
         "y": [
          43.285663273983964,
          47.403051593599024
         ]
        },
        {
         "hoverinfo": "skip",
         "line": {
          "color": "lightblue",
          "width": 1
         },
         "mode": "lines",
         "showlegend": false,
         "type": "scatter",
         "x": [
          29,
          25.37056177225748
         ],
         "y": [
          10,
          13.36642907497233
         ]
        },
        {
         "hoverinfo": "skip",
         "line": {
          "color": "lightblue",
          "width": 1
         },
         "mode": "lines",
         "showlegend": false,
         "type": "scatter",
         "x": [
          24.194151019369453,
          27.19206162580766
         ],
         "y": [
          8.62021176430137,
          3.967386454762456
         ]
        },
        {
         "hoverinfo": "skip",
         "line": {
          "color": "lightblue",
          "width": 1
         },
         "mode": "lines",
         "showlegend": false,
         "type": "scatter",
         "x": [
          90.15656372918505,
          91.13487740283516
         ],
         "y": [
          84.06747363613623,
          87.77786449194063
         ]
        },
        {
         "hoverinfo": "skip",
         "line": {
          "color": "lightblue",
          "width": 1
         },
         "mode": "lines",
         "showlegend": false,
         "type": "scatter",
         "x": [
          91.13487740283516,
          92.8085900611234
         ],
         "y": [
          87.77786449194063,
          92.13815528147882
         ]
        },
        {
         "hoverinfo": "skip",
         "line": {
          "color": "lightblue",
          "width": 1
         },
         "mode": "lines",
         "showlegend": false,
         "type": "scatter",
         "x": [
          81.73049077331304,
          84.02597000274001
         ],
         "y": [
          20.11290769260374,
          15.704641065451986
         ]
        },
        {
         "hoverinfo": "skip",
         "line": {
          "color": "lightblue",
          "width": 1
         },
         "mode": "lines",
         "showlegend": false,
         "type": "scatter",
         "x": [
          84.02597000274001,
          84.19531659476932
         ],
         "y": [
          15.704641065451986,
          14.409663594928745
         ]
        },
        {
         "hoverinfo": "skip",
         "line": {
          "color": "lightblue",
          "width": 1
         },
         "mode": "lines",
         "showlegend": false,
         "type": "scatter",
         "x": [
          16.228909922653205,
          13.946084993006647
         ],
         "y": [
          80.212549638806,
          81.7951842038521
         ]
        },
        {
         "hoverinfo": "skip",
         "line": {
          "color": "lightblue",
          "width": 1
         },
         "mode": "lines",
         "showlegend": false,
         "type": "scatter",
         "x": [
          13.946084993006647,
          8.549373982238922
         ],
         "y": [
          81.7951842038521,
          83.4319493960298
         ]
        },
        {
         "hoverinfo": "skip",
         "line": {
          "color": "lightblue",
          "width": 1
         },
         "mode": "lines",
         "showlegend": false,
         "type": "scatter",
         "x": [
          13.946084993006647,
          11.77999156330486
         ],
         "y": [
          81.7951842038521,
          86.70851788230802
         ]
        },
        {
         "hoverinfo": "skip",
         "line": {
          "color": "lightblue",
          "width": 1
         },
         "mode": "lines",
         "showlegend": false,
         "type": "scatter",
         "x": [
          4.152029316829015,
          0.13068487794771766
         ],
         "y": [
          52.30920979029624,
          53.5741605978798
         ]
        },
        {
         "hoverinfo": "skip",
         "line": {
          "color": "lightblue",
          "width": 1
         },
         "mode": "lines",
         "showlegend": false,
         "type": "scatter",
         "x": [
          86.59479708417399,
          91.0672708587951
         ],
         "y": [
          57.29070009189097,
          57.379588417792796
         ]
        },
        {
         "hoverinfo": "skip",
         "line": {
          "color": "lightblue",
          "width": 1
         },
         "mode": "lines",
         "showlegend": false,
         "type": "scatter",
         "x": [
          91.0672708587951,
          95.65342353253111
         ],
         "y": [
          57.379588417792796,
          57.61724629135321
         ]
        },
        {
         "hoverinfo": "skip",
         "line": {
          "color": "lightblue",
          "width": 1
         },
         "mode": "lines",
         "showlegend": false,
         "type": "scatter",
         "x": [
          83.4302171903222,
          81.54113840801284
         ],
         "y": [
          72.46090497250088,
          69.54693157072468
         ]
        },
        {
         "hoverinfo": "skip",
         "line": {
          "color": "lightblue",
          "width": 1
         },
         "mode": "lines",
         "showlegend": false,
         "type": "scatter",
         "x": [
          12.304960861159639,
          12.57586624302674
         ],
         "y": [
          8.650173029736093,
          3.657517396300573
         ]
        },
        {
         "hoverinfo": "skip",
         "line": {
          "color": "lightblue",
          "width": 1
         },
         "mode": "lines",
         "showlegend": false,
         "type": "scatter",
         "x": [
          24.911733153593786,
          23.599777106398435
         ],
         "y": [
          19.937158869473862,
          21.52649111331503
         ]
        },
        {
         "hoverinfo": "skip",
         "line": {
          "color": "lightblue",
          "width": 1
         },
         "mode": "lines",
         "showlegend": false,
         "type": "scatter",
         "x": [
          55.17186458975141,
          53.37963135615988
         ],
         "y": [
          47.403051593599024,
          52.070802661984104
         ]
        },
        {
         "hoverinfo": "skip",
         "line": {
          "color": "lightblue",
          "width": 1
         },
         "mode": "lines",
         "showlegend": false,
         "type": "scatter",
         "x": [
          63.45563587596466,
          63.59414259078128
         ],
         "y": [
          49.82825697147261,
          54.82633819229633
         ]
        },
        {
         "hoverinfo": "skip",
         "line": {
          "color": "lightblue",
          "width": 1
         },
         "mode": "lines",
         "showlegend": false,
         "type": "scatter",
         "x": [
          50.53874321988082,
          49.115830647367595
         ],
         "y": [
          86.46381310916638,
          81.67055536406401
         ]
        },
        {
         "hoverinfo": "skip",
         "line": {
          "color": "lightblue",
          "width": 1
         },
         "mode": "lines",
         "showlegend": false,
         "type": "scatter",
         "x": [
          53.37963135615988,
          52.66674692589301
         ],
         "y": [
          52.070802661984104,
          57.01972131044491
         ]
        },
        {
         "hoverinfo": "skip",
         "line": {
          "color": "lightblue",
          "width": 1
         },
         "mode": "lines",
         "showlegend": false,
         "type": "scatter",
         "x": [
          52.66674692589301,
          51.95386249562614
         ],
         "y": [
          57.01972131044491,
          61.96863995890571
         ]
        },
        {
         "hoverinfo": "skip",
         "line": {
          "color": "lightblue",
          "width": 1
         },
         "mode": "lines",
         "showlegend": false,
         "type": "scatter",
         "x": [
          51.95386249562614,
          51.240978065359265
         ],
         "y": [
          61.96863995890571,
          66.91755860736652
         ]
        },
        {
         "hoverinfo": "skip",
         "line": {
          "color": "lightblue",
          "width": 1
         },
         "mode": "lines",
         "showlegend": false,
         "type": "scatter",
         "x": [
          51.240978065359265,
          50.5280936350924
         ],
         "y": [
          66.91755860736652,
          71.86647725582732
         ]
        },
        {
         "hoverinfo": "skip",
         "line": {
          "color": "lightblue",
          "width": 1
         },
         "mode": "lines",
         "showlegend": false,
         "type": "scatter",
         "x": [
          29.482548617515434,
          30.146089364214713
         ],
         "y": [
          17.910426031930957,
          20.047584037472898
         ]
        },
        {
         "hoverinfo": "skip",
         "line": {
          "color": "lightblue",
          "width": 1
         },
         "mode": "lines",
         "showlegend": false,
         "type": "scatter",
         "x": [
          29,
          29
         ],
         "y": [
          10,
          10
         ]
        },
        {
         "hoverinfo": "skip",
         "line": {
          "color": "lightblue",
          "width": 1
         },
         "mode": "lines",
         "showlegend": false,
         "type": "scatter",
         "x": [
          26.74521802526874,
          29.79895881995227
         ],
         "y": [
          88.67005285351527,
          86.18822141302245
         ]
        },
        {
         "hoverinfo": "skip",
         "line": {
          "color": "lightblue",
          "width": 1
         },
         "mode": "lines",
         "showlegend": false,
         "type": "scatter",
         "x": [
          50.5280936350924,
          46.41442305525153
         ],
         "y": [
          71.86647725582732,
          74.70860926552562
         ]
        },
        {
         "hoverinfo": "skip",
         "line": {
          "color": "lightblue",
          "width": 1
         },
         "mode": "lines",
         "showlegend": false,
         "type": "scatter",
         "x": [
          46.41442305525153,
          42.30075247541067
         ],
         "y": [
          74.70860926552562,
          77.55074127522393
         ]
        },
        {
         "hoverinfo": "skip",
         "line": {
          "color": "lightblue",
          "width": 1
         },
         "mode": "lines",
         "showlegend": false,
         "type": "scatter",
         "x": [
          42.30075247541067,
          38.187081895569804
         ],
         "y": [
          77.55074127522393,
          80.39287328492223
         ]
        },
        {
         "hoverinfo": "skip",
         "line": {
          "color": "lightblue",
          "width": 1
         },
         "mode": "lines",
         "showlegend": false,
         "type": "scatter",
         "x": [
          38.187081895569804,
          34.07341131572895
         ],
         "y": [
          80.39287328492223,
          83.23500529462055
         ]
        },
        {
         "hoverinfo": "skip",
         "line": {
          "color": "lightblue",
          "width": 1
         },
         "mode": "lines",
         "showlegend": false,
         "type": "scatter",
         "x": [
          34.07341131572895,
          29.959740735888083
         ],
         "y": [
          83.23500529462055,
          86.07713730431885
         ]
        },
        {
         "hoverinfo": "skip",
         "line": {
          "color": "lightblue",
          "width": 1
         },
         "mode": "lines",
         "showlegend": false,
         "type": "scatter",
         "x": [
          29.959740735888083,
          29.79895881995227
         ],
         "y": [
          86.07713730431885,
          86.18822141302245
         ]
        },
        {
         "marker": {
          "color": "red",
          "size": 10
         },
         "mode": "markers",
         "name": "Start",
         "type": "scatter",
         "x": [
          29
         ],
         "y": [
          10
         ]
        },
        {
         "marker": {
          "color": "orange",
          "size": 10
         },
         "mode": "markers",
         "name": "Goal",
         "type": "scatter",
         "x": [
          90
         ],
         "y": [
          80
         ]
        }
       ],
       "layout": {
        "height": 600,
        "shapes": [
         {
          "fillcolor": "purple",
          "line": {
           "width": 0
          },
          "opacity": 0.5,
          "type": "rect",
          "x0": 27,
          "x1": 30,
          "y0": 20,
          "y1": 80
         },
         {
          "fillcolor": "purple",
          "line": {
           "width": 0
          },
          "opacity": 0.5,
          "type": "rect",
          "x0": 47,
          "x1": 50,
          "y0": 0,
          "y1": 50
         },
         {
          "fillcolor": "purple",
          "line": {
           "width": 0
          },
          "opacity": 0.5,
          "type": "rect",
          "x0": 77,
          "x1": 80,
          "y0": 20,
          "y1": 100
         },
         {
          "fillcolor": "purple",
          "line": {
           "width": 0
          },
          "opacity": 0.5,
          "type": "rect",
          "x0": 30,
          "x1": 47,
          "y0": 47,
          "y1": 50
         },
         {
          "fillcolor": "purple",
          "line": {
           "width": 0
          },
          "opacity": 0.5,
          "type": "rect",
          "x0": 50,
          "x1": 77,
          "y0": 72,
          "y1": 75
         },
         {
          "fillcolor": "rgba(0,0,0,0)",
          "layer": "above",
          "line": {
           "color": "white",
           "width": 3
          },
          "type": "rect",
          "x0": 0,
          "x1": 100,
          "y0": 0,
          "y1": 100
         }
        ],
        "template": {
         "data": {
          "bar": [
           {
            "error_x": {
             "color": "#2a3f5f"
            },
            "error_y": {
             "color": "#2a3f5f"
            },
            "marker": {
             "line": {
              "color": "#E5ECF6",
              "width": 0.5
             },
             "pattern": {
              "fillmode": "overlay",
              "size": 10,
              "solidity": 0.2
             }
            },
            "type": "bar"
           }
          ],
          "barpolar": [
           {
            "marker": {
             "line": {
              "color": "#E5ECF6",
              "width": 0.5
             },
             "pattern": {
              "fillmode": "overlay",
              "size": 10,
              "solidity": 0.2
             }
            },
            "type": "barpolar"
           }
          ],
          "carpet": [
           {
            "aaxis": {
             "endlinecolor": "#2a3f5f",
             "gridcolor": "white",
             "linecolor": "white",
             "minorgridcolor": "white",
             "startlinecolor": "#2a3f5f"
            },
            "baxis": {
             "endlinecolor": "#2a3f5f",
             "gridcolor": "white",
             "linecolor": "white",
             "minorgridcolor": "white",
             "startlinecolor": "#2a3f5f"
            },
            "type": "carpet"
           }
          ],
          "choropleth": [
           {
            "colorbar": {
             "outlinewidth": 0,
             "ticks": ""
            },
            "type": "choropleth"
           }
          ],
          "contour": [
           {
            "colorbar": {
             "outlinewidth": 0,
             "ticks": ""
            },
            "colorscale": [
             [
              0,
              "#0d0887"
             ],
             [
              0.1111111111111111,
              "#46039f"
             ],
             [
              0.2222222222222222,
              "#7201a8"
             ],
             [
              0.3333333333333333,
              "#9c179e"
             ],
             [
              0.4444444444444444,
              "#bd3786"
             ],
             [
              0.5555555555555556,
              "#d8576b"
             ],
             [
              0.6666666666666666,
              "#ed7953"
             ],
             [
              0.7777777777777778,
              "#fb9f3a"
             ],
             [
              0.8888888888888888,
              "#fdca26"
             ],
             [
              1,
              "#f0f921"
             ]
            ],
            "type": "contour"
           }
          ],
          "contourcarpet": [
           {
            "colorbar": {
             "outlinewidth": 0,
             "ticks": ""
            },
            "type": "contourcarpet"
           }
          ],
          "heatmap": [
           {
            "colorbar": {
             "outlinewidth": 0,
             "ticks": ""
            },
            "colorscale": [
             [
              0,
              "#0d0887"
             ],
             [
              0.1111111111111111,
              "#46039f"
             ],
             [
              0.2222222222222222,
              "#7201a8"
             ],
             [
              0.3333333333333333,
              "#9c179e"
             ],
             [
              0.4444444444444444,
              "#bd3786"
             ],
             [
              0.5555555555555556,
              "#d8576b"
             ],
             [
              0.6666666666666666,
              "#ed7953"
             ],
             [
              0.7777777777777778,
              "#fb9f3a"
             ],
             [
              0.8888888888888888,
              "#fdca26"
             ],
             [
              1,
              "#f0f921"
             ]
            ],
            "type": "heatmap"
           }
          ],
          "histogram": [
           {
            "marker": {
             "pattern": {
              "fillmode": "overlay",
              "size": 10,
              "solidity": 0.2
             }
            },
            "type": "histogram"
           }
          ],
          "histogram2d": [
           {
            "colorbar": {
             "outlinewidth": 0,
             "ticks": ""
            },
            "colorscale": [
             [
              0,
              "#0d0887"
             ],
             [
              0.1111111111111111,
              "#46039f"
             ],
             [
              0.2222222222222222,
              "#7201a8"
             ],
             [
              0.3333333333333333,
              "#9c179e"
             ],
             [
              0.4444444444444444,
              "#bd3786"
             ],
             [
              0.5555555555555556,
              "#d8576b"
             ],
             [
              0.6666666666666666,
              "#ed7953"
             ],
             [
              0.7777777777777778,
              "#fb9f3a"
             ],
             [
              0.8888888888888888,
              "#fdca26"
             ],
             [
              1,
              "#f0f921"
             ]
            ],
            "type": "histogram2d"
           }
          ],
          "histogram2dcontour": [
           {
            "colorbar": {
             "outlinewidth": 0,
             "ticks": ""
            },
            "colorscale": [
             [
              0,
              "#0d0887"
             ],
             [
              0.1111111111111111,
              "#46039f"
             ],
             [
              0.2222222222222222,
              "#7201a8"
             ],
             [
              0.3333333333333333,
              "#9c179e"
             ],
             [
              0.4444444444444444,
              "#bd3786"
             ],
             [
              0.5555555555555556,
              "#d8576b"
             ],
             [
              0.6666666666666666,
              "#ed7953"
             ],
             [
              0.7777777777777778,
              "#fb9f3a"
             ],
             [
              0.8888888888888888,
              "#fdca26"
             ],
             [
              1,
              "#f0f921"
             ]
            ],
            "type": "histogram2dcontour"
           }
          ],
          "mesh3d": [
           {
            "colorbar": {
             "outlinewidth": 0,
             "ticks": ""
            },
            "type": "mesh3d"
           }
          ],
          "parcoords": [
           {
            "line": {
             "colorbar": {
              "outlinewidth": 0,
              "ticks": ""
             }
            },
            "type": "parcoords"
           }
          ],
          "pie": [
           {
            "automargin": true,
            "type": "pie"
           }
          ],
          "scatter": [
           {
            "fillpattern": {
             "fillmode": "overlay",
             "size": 10,
             "solidity": 0.2
            },
            "type": "scatter"
           }
          ],
          "scatter3d": [
           {
            "line": {
             "colorbar": {
              "outlinewidth": 0,
              "ticks": ""
             }
            },
            "marker": {
             "colorbar": {
              "outlinewidth": 0,
              "ticks": ""
             }
            },
            "type": "scatter3d"
           }
          ],
          "scattercarpet": [
           {
            "marker": {
             "colorbar": {
              "outlinewidth": 0,
              "ticks": ""
             }
            },
            "type": "scattercarpet"
           }
          ],
          "scattergeo": [
           {
            "marker": {
             "colorbar": {
              "outlinewidth": 0,
              "ticks": ""
             }
            },
            "type": "scattergeo"
           }
          ],
          "scattergl": [
           {
            "marker": {
             "colorbar": {
              "outlinewidth": 0,
              "ticks": ""
             }
            },
            "type": "scattergl"
           }
          ],
          "scattermap": [
           {
            "marker": {
             "colorbar": {
              "outlinewidth": 0,
              "ticks": ""
             }
            },
            "type": "scattermap"
           }
          ],
          "scattermapbox": [
           {
            "marker": {
             "colorbar": {
              "outlinewidth": 0,
              "ticks": ""
             }
            },
            "type": "scattermapbox"
           }
          ],
          "scatterpolar": [
           {
            "marker": {
             "colorbar": {
              "outlinewidth": 0,
              "ticks": ""
             }
            },
            "type": "scatterpolar"
           }
          ],
          "scatterpolargl": [
           {
            "marker": {
             "colorbar": {
              "outlinewidth": 0,
              "ticks": ""
             }
            },
            "type": "scatterpolargl"
           }
          ],
          "scatterternary": [
           {
            "marker": {
             "colorbar": {
              "outlinewidth": 0,
              "ticks": ""
             }
            },
            "type": "scatterternary"
           }
          ],
          "surface": [
           {
            "colorbar": {
             "outlinewidth": 0,
             "ticks": ""
            },
            "colorscale": [
             [
              0,
              "#0d0887"
             ],
             [
              0.1111111111111111,
              "#46039f"
             ],
             [
              0.2222222222222222,
              "#7201a8"
             ],
             [
              0.3333333333333333,
              "#9c179e"
             ],
             [
              0.4444444444444444,
              "#bd3786"
             ],
             [
              0.5555555555555556,
              "#d8576b"
             ],
             [
              0.6666666666666666,
              "#ed7953"
             ],
             [
              0.7777777777777778,
              "#fb9f3a"
             ],
             [
              0.8888888888888888,
              "#fdca26"
             ],
             [
              1,
              "#f0f921"
             ]
            ],
            "type": "surface"
           }
          ],
          "table": [
           {
            "cells": {
             "fill": {
              "color": "#EBF0F8"
             },
             "line": {
              "color": "white"
             }
            },
            "header": {
             "fill": {
              "color": "#C8D4E3"
             },
             "line": {
              "color": "white"
             }
            },
            "type": "table"
           }
          ]
         },
         "layout": {
          "annotationdefaults": {
           "arrowcolor": "#2a3f5f",
           "arrowhead": 0,
           "arrowwidth": 1
          },
          "autotypenumbers": "strict",
          "coloraxis": {
           "colorbar": {
            "outlinewidth": 0,
            "ticks": ""
           }
          },
          "colorscale": {
           "diverging": [
            [
             0,
             "#8e0152"
            ],
            [
             0.1,
             "#c51b7d"
            ],
            [
             0.2,
             "#de77ae"
            ],
            [
             0.3,
             "#f1b6da"
            ],
            [
             0.4,
             "#fde0ef"
            ],
            [
             0.5,
             "#f7f7f7"
            ],
            [
             0.6,
             "#e6f5d0"
            ],
            [
             0.7,
             "#b8e186"
            ],
            [
             0.8,
             "#7fbc41"
            ],
            [
             0.9,
             "#4d9221"
            ],
            [
             1,
             "#276419"
            ]
           ],
           "sequential": [
            [
             0,
             "#0d0887"
            ],
            [
             0.1111111111111111,
             "#46039f"
            ],
            [
             0.2222222222222222,
             "#7201a8"
            ],
            [
             0.3333333333333333,
             "#9c179e"
            ],
            [
             0.4444444444444444,
             "#bd3786"
            ],
            [
             0.5555555555555556,
             "#d8576b"
            ],
            [
             0.6666666666666666,
             "#ed7953"
            ],
            [
             0.7777777777777778,
             "#fb9f3a"
            ],
            [
             0.8888888888888888,
             "#fdca26"
            ],
            [
             1,
             "#f0f921"
            ]
           ],
           "sequentialminus": [
            [
             0,
             "#0d0887"
            ],
            [
             0.1111111111111111,
             "#46039f"
            ],
            [
             0.2222222222222222,
             "#7201a8"
            ],
            [
             0.3333333333333333,
             "#9c179e"
            ],
            [
             0.4444444444444444,
             "#bd3786"
            ],
            [
             0.5555555555555556,
             "#d8576b"
            ],
            [
             0.6666666666666666,
             "#ed7953"
            ],
            [
             0.7777777777777778,
             "#fb9f3a"
            ],
            [
             0.8888888888888888,
             "#fdca26"
            ],
            [
             1,
             "#f0f921"
            ]
           ]
          },
          "colorway": [
           "#636efa",
           "#EF553B",
           "#00cc96",
           "#ab63fa",
           "#FFA15A",
           "#19d3f3",
           "#FF6692",
           "#B6E880",
           "#FF97FF",
           "#FECB52"
          ],
          "font": {
           "color": "#2a3f5f"
          },
          "geo": {
           "bgcolor": "white",
           "lakecolor": "white",
           "landcolor": "#E5ECF6",
           "showlakes": true,
           "showland": true,
           "subunitcolor": "white"
          },
          "hoverlabel": {
           "align": "left"
          },
          "hovermode": "closest",
          "mapbox": {
           "style": "light"
          },
          "paper_bgcolor": "white",
          "plot_bgcolor": "#E5ECF6",
          "polar": {
           "angularaxis": {
            "gridcolor": "white",
            "linecolor": "white",
            "ticks": ""
           },
           "bgcolor": "#E5ECF6",
           "radialaxis": {
            "gridcolor": "white",
            "linecolor": "white",
            "ticks": ""
           }
          },
          "scene": {
           "xaxis": {
            "backgroundcolor": "#E5ECF6",
            "gridcolor": "white",
            "gridwidth": 2,
            "linecolor": "white",
            "showbackground": true,
            "ticks": "",
            "zerolinecolor": "white"
           },
           "yaxis": {
            "backgroundcolor": "#E5ECF6",
            "gridcolor": "white",
            "gridwidth": 2,
            "linecolor": "white",
            "showbackground": true,
            "ticks": "",
            "zerolinecolor": "white"
           },
           "zaxis": {
            "backgroundcolor": "#E5ECF6",
            "gridcolor": "white",
            "gridwidth": 2,
            "linecolor": "white",
            "showbackground": true,
            "ticks": "",
            "zerolinecolor": "white"
           }
          },
          "shapedefaults": {
           "line": {
            "color": "#2a3f5f"
           }
          },
          "ternary": {
           "aaxis": {
            "gridcolor": "white",
            "linecolor": "white",
            "ticks": ""
           },
           "baxis": {
            "gridcolor": "white",
            "linecolor": "white",
            "ticks": ""
           },
           "bgcolor": "#E5ECF6",
           "caxis": {
            "gridcolor": "white",
            "linecolor": "white",
            "ticks": ""
           }
          },
          "title": {
           "x": 0.05
          },
          "xaxis": {
           "automargin": true,
           "gridcolor": "white",
           "linecolor": "white",
           "ticks": "",
           "title": {
            "standoff": 15
           },
           "zerolinecolor": "white",
           "zerolinewidth": 2
          },
          "yaxis": {
           "automargin": true,
           "gridcolor": "white",
           "linecolor": "white",
           "ticks": "",
           "title": {
            "standoff": 15
           },
           "zerolinecolor": "white",
           "zerolinewidth": 2
          }
         }
        },
        "title": {
         "text": "Map Visualization"
        },
        "width": 600,
        "xaxis": {
         "scaleanchor": "y",
         "showgrid": false
        },
        "yaxis": {
         "showgrid": false
        }
       }
      }
     },
     "metadata": {},
     "output_type": "display_data"
    }
   ],
   "source": [
    "visualize_map_shapes(maze_map.grid, obs=maze_map.obstacles, start=maze_map.start, goal=maze_map.goal, path=result2.path, nodes=list(map(lambda x: x.position, result2.nodes)), edges=result2.edges)"
   ]
  },
  {
   "cell_type": "code",
   "execution_count": 49,
   "id": "c1b38b0a",
   "metadata": {},
   "outputs": [
    {
     "data": {
      "application/vnd.plotly.v1+json": {
       "config": {
        "plotlyServerURL": "https://plot.ly"
       },
       "data": [
        {
         "marker": {
          "color": "blue",
          "size": 4
         },
         "mode": "markers",
         "name": "nodes",
         "type": "scatter",
         "x": [
          80,
          50,
          79.11468285793042,
          54.93007434434806,
          59.860148688696114,
          64.79022303304417,
          69.72029737739223,
          75.4069970171789,
          80,
          75.69980259413802,
          84.0523168327376,
          47.575704668337465,
          46.18262253866453,
          75.18857967877682,
          78.3782950311799,
          48.11796534429462,
          41.902546015732604,
          80,
          80,
          50,
          50,
          75.92703915102202,
          75.10736288193499,
          36.946369475333,
          49.52966653638741,
          82.79690086818147,
          73.5918620616959,
          50,
          50,
          75.58030682086833,
          76.88451775338642,
          37.290682980241506,
          32.62442711419386,
          79.60349314516483,
          80,
          37.801713873816354,
          50,
          68.76972973384984,
          53.95754453575484,
          80,
          80,
          69.22548500646404,
          35.11592225930742,
          63.88123848553981,
          58.99274723722978,
          68.81435727912512,
          44.2177675263902,
          80,
          57.446901817189655,
          35.62143651615833,
          41.19816396592312,
          88.56875421526404,
          73.42263344239407,
          41.30269409247833,
          30.32089526106586,
          53.564919323277906,
          68.42272118369148,
          68.89675270212588,
          63.71031026310941,
          50,
          37.95182191121491,
          58.82288844510259,
          53.93546662709577,
          37.73529569269976,
          49.79013664448065,
          46.01535396568339,
          50,
          25.504273772619666,
          22.23172301705998,
          49.77900906616205,
          44.54689516796923,
          79.76244871483973,
          41.24090518870629,
          64.94734909662347,
          17.96009811935062,
          44.96499406561771,
          80,
          50,
          63.87203579175334,
          55.36991181990664,
          39.754064385999484,
          32.9924938789004,
          50,
          38.70632916908409,
          43.157808407863776,
          50,
          36.855877769328046,
          76.53842339397777,
          89.5685690735888,
          15.291148230425332,
          38.97753354087554,
          50,
          50,
          81.78304857824527,
          80,
          19.755273934862448,
          10.520106334742549,
          75.89250396836302,
          87.63567955865675,
          50,
          17.535144375141826,
          80,
          83.09051239520804,
          53.389005742641224,
          16.971331151911393,
          34.20704561309047,
          74.88622181760134,
          15.746799325175154,
          14.648958075031048,
          30.46647280570044,
          26.72589999831041,
          22.98532719092038,
          19.24475438353035,
          15.504181576140322,
          14.648958075031048
         ],
         "y": [
          50,
          50,
          45.0790027882595,
          49.16671315910962,
          48.33342631821924,
          47.50013947732886,
          46.66685263643848,
          51.97593613251958,
          50,
          56.96735525879035,
          52.92894661732019,
          54.37296148449529,
          59.17497378976752,
          41.98292239094421,
          38.132504755070926,
          45.36772781944714,
          61.759726187550896,
          50,
          50,
          50,
          50,
          61.962188944431496,
          66.89454444803174,
          61.09918542393925,
          62.88944501422293,
          35.79243585497083,
          71.65933796547345,
          50,
          50,
          33.98868260939944,
          75.42210536407492,
          56.1110546908552,
          54.31493214699136,
          69.08196591086616,
          50,
          55.13966757470363,
          50,
          72.98109430184638,
          65.21192136990835,
          50,
          50,
          41.69139680630829,
          65.75208376683739,
          71.93102129714804,
          70.88094829244969,
          41.84647533466247,
          46.092127787917605,
          50,
          75.63598372211169,
          65.53466688577822,
          42.106905794400234,
          55.074125717003426,
          29.478200862199536,
          37.10799856855154,
          49.87716908418317,
          78.78720759815775,
          29.507821889790954,
          36.70221500243659,
          27.836539952002216,
          50,
          33.39698042997623,
          28.891579274904863,
          29.94661859780751,
          65.03718588015859,
          75.50833344262018,
          72.22945928708262,
          50,
          48.535469625646215,
          52.315735694626774,
          27.167435166625445,
          33.30337514674174,
          79.51081095155716,
          70.74465664833835,
          52.49767000751515,
          49.71703972678647,
          28.518456844665476,
          50,
          50,
          41.089205029247545,
          83.450039579595,
          75.51847110089159,
          34.03342796740527,
          50,
          80.40746393328921,
          27.20197174296709,
          50,
          33.829824978139776,
          25.567720971238565,
          53.07638514291908,
          45.48895428649488,
          29.94520013966076,
          50,
          50,
          40.04310178344064,
          50,
          56.65937471545746,
          43.9932406676361,
          20.609617695225296,
          34.53298328158735,
          50,
          41.02079120727569,
          50,
          36.650584913768036,
          64.52436740812125,
          60.812646026274365,
          82.58839205745227,
          15.711924745166211,
          36.35154908651779,
          65.24057819510682,
          79.27054409942069,
          75.95269614138913,
          72.63484818335755,
          69.31700022532598,
          65.9991522672944,
          65.24057819510682
         ]
        },
        {
         "line": {
          "color": "green"
         },
         "marker": {
          "size": 6
         },
         "mode": "lines+markers",
         "name": "Path",
         "type": "scatter",
         "x": [
          50,
          25.504273772619666,
          26.72589999831041,
          73.5918620616959,
          80
         ],
         "y": [
          50,
          48.535469625646215,
          75.95269614138913,
          71.65933796547345,
          50
         ]
        },
        {
         "hoverinfo": "skip",
         "line": {
          "color": "lightblue",
          "width": 1
         },
         "mode": "lines",
         "showlegend": false,
         "type": "scatter",
         "x": [
          80,
          79.11468285793042
         ],
         "y": [
          50,
          45.0790027882595
         ]
        },
        {
         "hoverinfo": "skip",
         "line": {
          "color": "lightblue",
          "width": 1
         },
         "mode": "lines",
         "showlegend": false,
         "type": "scatter",
         "x": [
          50,
          54.93007434434806
         ],
         "y": [
          50,
          49.16671315910962
         ]
        },
        {
         "hoverinfo": "skip",
         "line": {
          "color": "lightblue",
          "width": 1
         },
         "mode": "lines",
         "showlegend": false,
         "type": "scatter",
         "x": [
          54.93007434434806,
          59.860148688696114
         ],
         "y": [
          49.16671315910962,
          48.33342631821924
         ]
        },
        {
         "hoverinfo": "skip",
         "line": {
          "color": "lightblue",
          "width": 1
         },
         "mode": "lines",
         "showlegend": false,
         "type": "scatter",
         "x": [
          59.860148688696114,
          64.79022303304417
         ],
         "y": [
          48.33342631821924,
          47.50013947732886
         ]
        },
        {
         "hoverinfo": "skip",
         "line": {
          "color": "lightblue",
          "width": 1
         },
         "mode": "lines",
         "showlegend": false,
         "type": "scatter",
         "x": [
          64.79022303304417,
          69.72029737739223
         ],
         "y": [
          47.50013947732886,
          46.66685263643848
         ]
        },
        {
         "hoverinfo": "skip",
         "line": {
          "color": "lightblue",
          "width": 1
         },
         "mode": "lines",
         "showlegend": false,
         "type": "scatter",
         "x": [
          80,
          75.4069970171789
         ],
         "y": [
          50,
          51.97593613251958
         ]
        },
        {
         "hoverinfo": "skip",
         "line": {
          "color": "lightblue",
          "width": 1
         },
         "mode": "lines",
         "showlegend": false,
         "type": "scatter",
         "x": [
          80,
          80
         ],
         "y": [
          50,
          50
         ]
        },
        {
         "hoverinfo": "skip",
         "line": {
          "color": "lightblue",
          "width": 1
         },
         "mode": "lines",
         "showlegend": false,
         "type": "scatter",
         "x": [
          80,
          75.69980259413802
         ],
         "y": [
          50,
          56.96735525879035
         ]
        },
        {
         "hoverinfo": "skip",
         "line": {
          "color": "lightblue",
          "width": 1
         },
         "mode": "lines",
         "showlegend": false,
         "type": "scatter",
         "x": [
          80,
          84.0523168327376
         ],
         "y": [
          50,
          52.92894661732019
         ]
        },
        {
         "hoverinfo": "skip",
         "line": {
          "color": "lightblue",
          "width": 1
         },
         "mode": "lines",
         "showlegend": false,
         "type": "scatter",
         "x": [
          50,
          47.575704668337465
         ],
         "y": [
          50,
          54.37296148449529
         ]
        },
        {
         "hoverinfo": "skip",
         "line": {
          "color": "lightblue",
          "width": 1
         },
         "mode": "lines",
         "showlegend": false,
         "type": "scatter",
         "x": [
          50,
          46.18262253866453
         ],
         "y": [
          50,
          59.17497378976752
         ]
        },
        {
         "hoverinfo": "skip",
         "line": {
          "color": "lightblue",
          "width": 1
         },
         "mode": "lines",
         "showlegend": false,
         "type": "scatter",
         "x": [
          80,
          75.18857967877682
         ],
         "y": [
          50,
          41.98292239094421
         ]
        },
        {
         "hoverinfo": "skip",
         "line": {
          "color": "lightblue",
          "width": 1
         },
         "mode": "lines",
         "showlegend": false,
         "type": "scatter",
         "x": [
          80,
          78.3782950311799
         ],
         "y": [
          50,
          38.132504755070926
         ]
        },
        {
         "hoverinfo": "skip",
         "line": {
          "color": "lightblue",
          "width": 1
         },
         "mode": "lines",
         "showlegend": false,
         "type": "scatter",
         "x": [
          50,
          48.11796534429462
         ],
         "y": [
          50,
          45.36772781944714
         ]
        },
        {
         "hoverinfo": "skip",
         "line": {
          "color": "lightblue",
          "width": 1
         },
         "mode": "lines",
         "showlegend": false,
         "type": "scatter",
         "x": [
          47.575704668337465,
          41.902546015732604
         ],
         "y": [
          54.37296148449529,
          61.759726187550896
         ]
        },
        {
         "hoverinfo": "skip",
         "line": {
          "color": "lightblue",
          "width": 1
         },
         "mode": "lines",
         "showlegend": false,
         "type": "scatter",
         "x": [
          80,
          80
         ],
         "y": [
          50,
          50
         ]
        },
        {
         "hoverinfo": "skip",
         "line": {
          "color": "lightblue",
          "width": 1
         },
         "mode": "lines",
         "showlegend": false,
         "type": "scatter",
         "x": [
          80,
          80
         ],
         "y": [
          50,
          50
         ]
        },
        {
         "hoverinfo": "skip",
         "line": {
          "color": "lightblue",
          "width": 1
         },
         "mode": "lines",
         "showlegend": false,
         "type": "scatter",
         "x": [
          50,
          50
         ],
         "y": [
          50,
          50
         ]
        },
        {
         "hoverinfo": "skip",
         "line": {
          "color": "lightblue",
          "width": 1
         },
         "mode": "lines",
         "showlegend": false,
         "type": "scatter",
         "x": [
          50,
          50
         ],
         "y": [
          50,
          50
         ]
        },
        {
         "hoverinfo": "skip",
         "line": {
          "color": "lightblue",
          "width": 1
         },
         "mode": "lines",
         "showlegend": false,
         "type": "scatter",
         "x": [
          75.69980259413802,
          75.92703915102202
         ],
         "y": [
          56.96735525879035,
          61.962188944431496
         ]
        },
        {
         "hoverinfo": "skip",
         "line": {
          "color": "lightblue",
          "width": 1
         },
         "mode": "lines",
         "showlegend": false,
         "type": "scatter",
         "x": [
          75.69980259413802,
          75.10736288193499
         ],
         "y": [
          56.96735525879035,
          66.89454444803174
         ]
        },
        {
         "hoverinfo": "skip",
         "line": {
          "color": "lightblue",
          "width": 1
         },
         "mode": "lines",
         "showlegend": false,
         "type": "scatter",
         "x": [
          41.902546015732604,
          36.946369475333
         ],
         "y": [
          61.759726187550896,
          61.09918542393925
         ]
        },
        {
         "hoverinfo": "skip",
         "line": {
          "color": "lightblue",
          "width": 1
         },
         "mode": "lines",
         "showlegend": false,
         "type": "scatter",
         "x": [
          47.575704668337465,
          49.52966653638741
         ],
         "y": [
          54.37296148449529,
          62.88944501422293
         ]
        },
        {
         "hoverinfo": "skip",
         "line": {
          "color": "lightblue",
          "width": 1
         },
         "mode": "lines",
         "showlegend": false,
         "type": "scatter",
         "x": [
          79.11468285793042,
          82.79690086818147
         ],
         "y": [
          45.0790027882595,
          35.79243585497083
         ]
        },
        {
         "hoverinfo": "skip",
         "line": {
          "color": "lightblue",
          "width": 1
         },
         "mode": "lines",
         "showlegend": false,
         "type": "scatter",
         "x": [
          75.10736288193499,
          73.5918620616959
         ],
         "y": [
          66.89454444803174,
          71.65933796547345
         ]
        },
        {
         "hoverinfo": "skip",
         "line": {
          "color": "lightblue",
          "width": 1
         },
         "mode": "lines",
         "showlegend": false,
         "type": "scatter",
         "x": [
          50,
          50
         ],
         "y": [
          50,
          50
         ]
        },
        {
         "hoverinfo": "skip",
         "line": {
          "color": "lightblue",
          "width": 1
         },
         "mode": "lines",
         "showlegend": false,
         "type": "scatter",
         "x": [
          50,
          50
         ],
         "y": [
          50,
          50
         ]
        },
        {
         "hoverinfo": "skip",
         "line": {
          "color": "lightblue",
          "width": 1
         },
         "mode": "lines",
         "showlegend": false,
         "type": "scatter",
         "x": [
          78.3782950311799,
          75.58030682086833
         ],
         "y": [
          38.132504755070926,
          33.98868260939944
         ]
        },
        {
         "hoverinfo": "skip",
         "line": {
          "color": "lightblue",
          "width": 1
         },
         "mode": "lines",
         "showlegend": false,
         "type": "scatter",
         "x": [
          75.10736288193499,
          76.88451775338642
         ],
         "y": [
          66.89454444803174,
          75.42210536407492
         ]
        },
        {
         "hoverinfo": "skip",
         "line": {
          "color": "lightblue",
          "width": 1
         },
         "mode": "lines",
         "showlegend": false,
         "type": "scatter",
         "x": [
          75.92703915102202,
          79.60349314516483
         ],
         "y": [
          61.962188944431496,
          69.08196591086616
         ]
        },
        {
         "hoverinfo": "skip",
         "line": {
          "color": "lightblue",
          "width": 1
         },
         "mode": "lines",
         "showlegend": false,
         "type": "scatter",
         "x": [
          80,
          80
         ],
         "y": [
          50,
          50
         ]
        },
        {
         "hoverinfo": "skip",
         "line": {
          "color": "lightblue",
          "width": 1
         },
         "mode": "lines",
         "showlegend": false,
         "type": "scatter",
         "x": [
          47.575704668337465,
          37.801713873816354
         ],
         "y": [
          54.37296148449529,
          55.13966757470363
         ]
        },
        {
         "hoverinfo": "skip",
         "line": {
          "color": "lightblue",
          "width": 1
         },
         "mode": "lines",
         "showlegend": false,
         "type": "scatter",
         "x": [
          37.801713873816354,
          37.290682980241506
         ],
         "y": [
          55.13966757470363,
          56.1110546908552
         ]
        },
        {
         "hoverinfo": "skip",
         "line": {
          "color": "lightblue",
          "width": 1
         },
         "mode": "lines",
         "showlegend": false,
         "type": "scatter",
         "x": [
          37.801713873816354,
          32.62442711419386
         ],
         "y": [
          55.13966757470363,
          54.31493214699136
         ]
        },
        {
         "hoverinfo": "skip",
         "line": {
          "color": "lightblue",
          "width": 1
         },
         "mode": "lines",
         "showlegend": false,
         "type": "scatter",
         "x": [
          50,
          50
         ],
         "y": [
          50,
          50
         ]
        },
        {
         "hoverinfo": "skip",
         "line": {
          "color": "lightblue",
          "width": 1
         },
         "mode": "lines",
         "showlegend": false,
         "type": "scatter",
         "x": [
          73.5918620616959,
          68.76972973384984
         ],
         "y": [
          71.65933796547345,
          72.98109430184638
         ]
        },
        {
         "hoverinfo": "skip",
         "line": {
          "color": "lightblue",
          "width": 1
         },
         "mode": "lines",
         "showlegend": false,
         "type": "scatter",
         "x": [
          49.52966653638741,
          53.95754453575484
         ],
         "y": [
          62.88944501422293,
          65.21192136990835
         ]
        },
        {
         "hoverinfo": "skip",
         "line": {
          "color": "lightblue",
          "width": 1
         },
         "mode": "lines",
         "showlegend": false,
         "type": "scatter",
         "x": [
          80,
          80
         ],
         "y": [
          50,
          50
         ]
        },
        {
         "hoverinfo": "skip",
         "line": {
          "color": "lightblue",
          "width": 1
         },
         "mode": "lines",
         "showlegend": false,
         "type": "scatter",
         "x": [
          80,
          80
         ],
         "y": [
          50,
          50
         ]
        },
        {
         "hoverinfo": "skip",
         "line": {
          "color": "lightblue",
          "width": 1
         },
         "mode": "lines",
         "showlegend": false,
         "type": "scatter",
         "x": [
          64.79022303304417,
          69.22548500646404
         ],
         "y": [
          47.50013947732886,
          41.69139680630829
         ]
        },
        {
         "hoverinfo": "skip",
         "line": {
          "color": "lightblue",
          "width": 1
         },
         "mode": "lines",
         "showlegend": false,
         "type": "scatter",
         "x": [
          41.902546015732604,
          35.11592225930742
         ],
         "y": [
          61.759726187550896,
          65.75208376683739
         ]
        },
        {
         "hoverinfo": "skip",
         "line": {
          "color": "lightblue",
          "width": 1
         },
         "mode": "lines",
         "showlegend": false,
         "type": "scatter",
         "x": [
          68.76972973384984,
          63.88123848553981
         ],
         "y": [
          72.98109430184638,
          71.93102129714804
         ]
        },
        {
         "hoverinfo": "skip",
         "line": {
          "color": "lightblue",
          "width": 1
         },
         "mode": "lines",
         "showlegend": false,
         "type": "scatter",
         "x": [
          63.88123848553981,
          58.99274723722978
         ],
         "y": [
          71.93102129714804,
          70.88094829244969
         ]
        },
        {
         "hoverinfo": "skip",
         "line": {
          "color": "lightblue",
          "width": 1
         },
         "mode": "lines",
         "showlegend": false,
         "type": "scatter",
         "x": [
          64.79022303304417,
          68.81435727912512
         ],
         "y": [
          47.50013947732886,
          41.84647533466247
         ]
        },
        {
         "hoverinfo": "skip",
         "line": {
          "color": "lightblue",
          "width": 1
         },
         "mode": "lines",
         "showlegend": false,
         "type": "scatter",
         "x": [
          50,
          44.2177675263902
         ],
         "y": [
          50,
          46.092127787917605
         ]
        },
        {
         "hoverinfo": "skip",
         "line": {
          "color": "lightblue",
          "width": 1
         },
         "mode": "lines",
         "showlegend": false,
         "type": "scatter",
         "x": [
          80,
          80
         ],
         "y": [
          50,
          50
         ]
        },
        {
         "hoverinfo": "skip",
         "line": {
          "color": "lightblue",
          "width": 1
         },
         "mode": "lines",
         "showlegend": false,
         "type": "scatter",
         "x": [
          63.88123848553981,
          57.446901817189655
         ],
         "y": [
          71.93102129714804,
          75.63598372211169
         ]
        },
        {
         "hoverinfo": "skip",
         "line": {
          "color": "lightblue",
          "width": 1
         },
         "mode": "lines",
         "showlegend": false,
         "type": "scatter",
         "x": [
          41.902546015732604,
          35.62143651615833
         ],
         "y": [
          61.759726187550896,
          65.53466688577822
         ]
        },
        {
         "hoverinfo": "skip",
         "line": {
          "color": "lightblue",
          "width": 1
         },
         "mode": "lines",
         "showlegend": false,
         "type": "scatter",
         "x": [
          44.2177675263902,
          41.19816396592312
         ],
         "y": [
          46.092127787917605,
          42.106905794400234
         ]
        },
        {
         "hoverinfo": "skip",
         "line": {
          "color": "lightblue",
          "width": 1
         },
         "mode": "lines",
         "showlegend": false,
         "type": "scatter",
         "x": [
          84.0523168327376,
          88.56875421526404
         ],
         "y": [
          52.92894661732019,
          55.074125717003426
         ]
        },
        {
         "hoverinfo": "skip",
         "line": {
          "color": "lightblue",
          "width": 1
         },
         "mode": "lines",
         "showlegend": false,
         "type": "scatter",
         "x": [
          75.58030682086833,
          73.42263344239407
         ],
         "y": [
          33.98868260939944,
          29.478200862199536
         ]
        },
        {
         "hoverinfo": "skip",
         "line": {
          "color": "lightblue",
          "width": 1
         },
         "mode": "lines",
         "showlegend": false,
         "type": "scatter",
         "x": [
          41.19816396592312,
          41.30269409247833
         ],
         "y": [
          42.106905794400234,
          37.10799856855154
         ]
        },
        {
         "hoverinfo": "skip",
         "line": {
          "color": "lightblue",
          "width": 1
         },
         "mode": "lines",
         "showlegend": false,
         "type": "scatter",
         "x": [
          32.62442711419386,
          30.32089526106586
         ],
         "y": [
          54.31493214699136,
          49.87716908418317
         ]
        },
        {
         "hoverinfo": "skip",
         "line": {
          "color": "lightblue",
          "width": 1
         },
         "mode": "lines",
         "showlegend": false,
         "type": "scatter",
         "x": [
          57.446901817189655,
          53.564919323277906
         ],
         "y": [
          75.63598372211169,
          78.78720759815775
         ]
        },
        {
         "hoverinfo": "skip",
         "line": {
          "color": "lightblue",
          "width": 1
         },
         "mode": "lines",
         "showlegend": false,
         "type": "scatter",
         "x": [
          73.42263344239407,
          68.42272118369148
         ],
         "y": [
          29.478200862199536,
          29.507821889790954
         ]
        },
        {
         "hoverinfo": "skip",
         "line": {
          "color": "lightblue",
          "width": 1
         },
         "mode": "lines",
         "showlegend": false,
         "type": "scatter",
         "x": [
          69.22548500646404,
          68.89675270212588
         ],
         "y": [
          41.69139680630829,
          36.70221500243659
         ]
        },
        {
         "hoverinfo": "skip",
         "line": {
          "color": "lightblue",
          "width": 1
         },
         "mode": "lines",
         "showlegend": false,
         "type": "scatter",
         "x": [
          68.42272118369148,
          63.71031026310941
         ],
         "y": [
          29.507821889790954,
          27.836539952002216
         ]
        },
        {
         "hoverinfo": "skip",
         "line": {
          "color": "lightblue",
          "width": 1
         },
         "mode": "lines",
         "showlegend": false,
         "type": "scatter",
         "x": [
          50,
          50
         ],
         "y": [
          50,
          50
         ]
        },
        {
         "hoverinfo": "skip",
         "line": {
          "color": "lightblue",
          "width": 1
         },
         "mode": "lines",
         "showlegend": false,
         "type": "scatter",
         "x": [
          41.30269409247833,
          37.95182191121491
         ],
         "y": [
          37.10799856855154,
          33.39698042997623
         ]
        },
        {
         "hoverinfo": "skip",
         "line": {
          "color": "lightblue",
          "width": 1
         },
         "mode": "lines",
         "showlegend": false,
         "type": "scatter",
         "x": [
          63.71031026310941,
          58.82288844510259
         ],
         "y": [
          27.836539952002216,
          28.891579274904863
         ]
        },
        {
         "hoverinfo": "skip",
         "line": {
          "color": "lightblue",
          "width": 1
         },
         "mode": "lines",
         "showlegend": false,
         "type": "scatter",
         "x": [
          58.82288844510259,
          53.93546662709577
         ],
         "y": [
          28.891579274904863,
          29.94661859780751
         ]
        },
        {
         "hoverinfo": "skip",
         "line": {
          "color": "lightblue",
          "width": 1
         },
         "mode": "lines",
         "showlegend": false,
         "type": "scatter",
         "x": [
          41.902546015732604,
          37.73529569269976
         ],
         "y": [
          61.759726187550896,
          65.03718588015859
         ]
        },
        {
         "hoverinfo": "skip",
         "line": {
          "color": "lightblue",
          "width": 1
         },
         "mode": "lines",
         "showlegend": false,
         "type": "scatter",
         "x": [
          53.564919323277906,
          49.79013664448065
         ],
         "y": [
          78.78720759815775,
          75.50833344262018
         ]
        },
        {
         "hoverinfo": "skip",
         "line": {
          "color": "lightblue",
          "width": 1
         },
         "mode": "lines",
         "showlegend": false,
         "type": "scatter",
         "x": [
          49.79013664448065,
          46.01535396568339
         ],
         "y": [
          75.50833344262018,
          72.22945928708262
         ]
        },
        {
         "hoverinfo": "skip",
         "line": {
          "color": "lightblue",
          "width": 1
         },
         "mode": "lines",
         "showlegend": false,
         "type": "scatter",
         "x": [
          50,
          50
         ],
         "y": [
          50,
          50
         ]
        },
        {
         "hoverinfo": "skip",
         "line": {
          "color": "lightblue",
          "width": 1
         },
         "mode": "lines",
         "showlegend": false,
         "type": "scatter",
         "x": [
          30.32089526106586,
          25.504273772619666
         ],
         "y": [
          49.87716908418317,
          48.535469625646215
         ]
        },
        {
         "hoverinfo": "skip",
         "line": {
          "color": "lightblue",
          "width": 1
         },
         "mode": "lines",
         "showlegend": false,
         "type": "scatter",
         "x": [
          25.504273772619666,
          22.23172301705998
         ],
         "y": [
          48.535469625646215,
          52.315735694626774
         ]
        },
        {
         "hoverinfo": "skip",
         "line": {
          "color": "lightblue",
          "width": 1
         },
         "mode": "lines",
         "showlegend": false,
         "type": "scatter",
         "x": [
          53.93546662709577,
          49.77900906616205
         ],
         "y": [
          29.94661859780751,
          27.167435166625445
         ]
        },
        {
         "hoverinfo": "skip",
         "line": {
          "color": "lightblue",
          "width": 1
         },
         "mode": "lines",
         "showlegend": false,
         "type": "scatter",
         "x": [
          41.30269409247833,
          44.54689516796923
         ],
         "y": [
          37.10799856855154,
          33.30337514674174
         ]
        },
        {
         "hoverinfo": "skip",
         "line": {
          "color": "lightblue",
          "width": 1
         },
         "mode": "lines",
         "showlegend": false,
         "type": "scatter",
         "x": [
          76.88451775338642,
          79.76244871483973
         ],
         "y": [
          75.42210536407492,
          79.51081095155716
         ]
        },
        {
         "hoverinfo": "skip",
         "line": {
          "color": "lightblue",
          "width": 1
         },
         "mode": "lines",
         "showlegend": false,
         "type": "scatter",
         "x": [
          46.01535396568339,
          41.24090518870629
         ],
         "y": [
          72.22945928708262,
          70.74465664833835
         ]
        },
        {
         "hoverinfo": "skip",
         "line": {
          "color": "lightblue",
          "width": 1
         },
         "mode": "lines",
         "showlegend": false,
         "type": "scatter",
         "x": [
          59.860148688696114,
          64.94734909662347
         ],
         "y": [
          48.33342631821924,
          52.49767000751515
         ]
        },
        {
         "hoverinfo": "skip",
         "line": {
          "color": "lightblue",
          "width": 1
         },
         "mode": "lines",
         "showlegend": false,
         "type": "scatter",
         "x": [
          25.504273772619666,
          17.96009811935062
         ],
         "y": [
          48.535469625646215,
          49.71703972678647
         ]
        },
        {
         "hoverinfo": "skip",
         "line": {
          "color": "lightblue",
          "width": 1
         },
         "mode": "lines",
         "showlegend": false,
         "type": "scatter",
         "x": [
          49.77900906616205,
          44.96499406561771
         ],
         "y": [
          27.167435166625445,
          28.518456844665476
         ]
        },
        {
         "hoverinfo": "skip",
         "line": {
          "color": "lightblue",
          "width": 1
         },
         "mode": "lines",
         "showlegend": false,
         "type": "scatter",
         "x": [
          80,
          80
         ],
         "y": [
          50,
          50
         ]
        },
        {
         "hoverinfo": "skip",
         "line": {
          "color": "lightblue",
          "width": 1
         },
         "mode": "lines",
         "showlegend": false,
         "type": "scatter",
         "x": [
          50,
          50
         ],
         "y": [
          50,
          50
         ]
        },
        {
         "hoverinfo": "skip",
         "line": {
          "color": "lightblue",
          "width": 1
         },
         "mode": "lines",
         "showlegend": false,
         "type": "scatter",
         "x": [
          64.79022303304417,
          63.87203579175334
         ],
         "y": [
          47.50013947732886,
          41.089205029247545
         ]
        },
        {
         "hoverinfo": "skip",
         "line": {
          "color": "lightblue",
          "width": 1
         },
         "mode": "lines",
         "showlegend": false,
         "type": "scatter",
         "x": [
          53.564919323277906,
          55.36991181990664
         ],
         "y": [
          78.78720759815775,
          83.450039579595
         ]
        },
        {
         "hoverinfo": "skip",
         "line": {
          "color": "lightblue",
          "width": 1
         },
         "mode": "lines",
         "showlegend": false,
         "type": "scatter",
         "x": [
          46.01535396568339,
          39.754064385999484
         ],
         "y": [
          72.22945928708262,
          75.51847110089159
         ]
        },
        {
         "hoverinfo": "skip",
         "line": {
          "color": "lightblue",
          "width": 1
         },
         "mode": "lines",
         "showlegend": false,
         "type": "scatter",
         "x": [
          50,
          50
         ],
         "y": [
          50,
          50
         ]
        },
        {
         "hoverinfo": "skip",
         "line": {
          "color": "lightblue",
          "width": 1
         },
         "mode": "lines",
         "showlegend": false,
         "type": "scatter",
         "x": [
          39.754064385999484,
          38.70632916908409
         ],
         "y": [
          75.51847110089159,
          80.40746393328921
         ]
        },
        {
         "hoverinfo": "skip",
         "line": {
          "color": "lightblue",
          "width": 1
         },
         "mode": "lines",
         "showlegend": false,
         "type": "scatter",
         "x": [
          49.77900906616205,
          43.157808407863776
         ],
         "y": [
          27.167435166625445,
          27.20197174296709
         ]
        },
        {
         "hoverinfo": "skip",
         "line": {
          "color": "lightblue",
          "width": 1
         },
         "mode": "lines",
         "showlegend": false,
         "type": "scatter",
         "x": [
          50,
          50
         ],
         "y": [
          50,
          50
         ]
        },
        {
         "hoverinfo": "skip",
         "line": {
          "color": "lightblue",
          "width": 1
         },
         "mode": "lines",
         "showlegend": false,
         "type": "scatter",
         "x": [
          41.30269409247833,
          36.855877769328046
         ],
         "y": [
          37.10799856855154,
          33.829824978139776
         ]
        },
        {
         "hoverinfo": "skip",
         "line": {
          "color": "lightblue",
          "width": 1
         },
         "mode": "lines",
         "showlegend": false,
         "type": "scatter",
         "x": [
          36.855877769328046,
          32.9924938789004
         ],
         "y": [
          33.829824978139776,
          34.03342796740527
         ]
        },
        {
         "hoverinfo": "skip",
         "line": {
          "color": "lightblue",
          "width": 1
         },
         "mode": "lines",
         "showlegend": false,
         "type": "scatter",
         "x": [
          73.42263344239407,
          76.53842339397777
         ],
         "y": [
          29.478200862199536,
          25.567720971238565
         ]
        },
        {
         "hoverinfo": "skip",
         "line": {
          "color": "lightblue",
          "width": 1
         },
         "mode": "lines",
         "showlegend": false,
         "type": "scatter",
         "x": [
          84.0523168327376,
          89.5685690735888
         ],
         "y": [
          52.92894661732019,
          53.07638514291908
         ]
        },
        {
         "hoverinfo": "skip",
         "line": {
          "color": "lightblue",
          "width": 1
         },
         "mode": "lines",
         "showlegend": false,
         "type": "scatter",
         "x": [
          17.96009811935062,
          15.291148230425332
         ],
         "y": [
          49.71703972678647,
          45.48895428649488
         ]
        },
        {
         "hoverinfo": "skip",
         "line": {
          "color": "lightblue",
          "width": 1
         },
         "mode": "lines",
         "showlegend": false,
         "type": "scatter",
         "x": [
          43.157808407863776,
          38.97753354087554
         ],
         "y": [
          27.20197174296709,
          29.94520013966076
         ]
        },
        {
         "hoverinfo": "skip",
         "line": {
          "color": "lightblue",
          "width": 1
         },
         "mode": "lines",
         "showlegend": false,
         "type": "scatter",
         "x": [
          50,
          50
         ],
         "y": [
          50,
          50
         ]
        },
        {
         "hoverinfo": "skip",
         "line": {
          "color": "lightblue",
          "width": 1
         },
         "mode": "lines",
         "showlegend": false,
         "type": "scatter",
         "x": [
          50,
          50
         ],
         "y": [
          50,
          50
         ]
        },
        {
         "hoverinfo": "skip",
         "line": {
          "color": "lightblue",
          "width": 1
         },
         "mode": "lines",
         "showlegend": false,
         "type": "scatter",
         "x": [
          79.11468285793042,
          81.78304857824527
         ],
         "y": [
          45.0790027882595,
          40.04310178344064
         ]
        },
        {
         "hoverinfo": "skip",
         "line": {
          "color": "lightblue",
          "width": 1
         },
         "mode": "lines",
         "showlegend": false,
         "type": "scatter",
         "x": [
          80,
          80
         ],
         "y": [
          50,
          50
         ]
        },
        {
         "hoverinfo": "skip",
         "line": {
          "color": "lightblue",
          "width": 1
         },
         "mode": "lines",
         "showlegend": false,
         "type": "scatter",
         "x": [
          22.23172301705998,
          19.755273934862448
         ],
         "y": [
          52.315735694626774,
          56.65937471545746
         ]
        },
        {
         "hoverinfo": "skip",
         "line": {
          "color": "lightblue",
          "width": 1
         },
         "mode": "lines",
         "showlegend": false,
         "type": "scatter",
         "x": [
          15.291148230425332,
          10.520106334742549
         ],
         "y": [
          45.48895428649488,
          43.9932406676361
         ]
        },
        {
         "hoverinfo": "skip",
         "line": {
          "color": "lightblue",
          "width": 1
         },
         "mode": "lines",
         "showlegend": false,
         "type": "scatter",
         "x": [
          76.53842339397777,
          75.89250396836302
         ],
         "y": [
          25.567720971238565,
          20.609617695225296
         ]
        },
        {
         "hoverinfo": "skip",
         "line": {
          "color": "lightblue",
          "width": 1
         },
         "mode": "lines",
         "showlegend": false,
         "type": "scatter",
         "x": [
          50,
          50
         ],
         "y": [
          50,
          50
         ]
        },
        {
         "hoverinfo": "skip",
         "line": {
          "color": "lightblue",
          "width": 1
         },
         "mode": "lines",
         "showlegend": false,
         "type": "scatter",
         "x": [
          15.291148230425332,
          17.535144375141826
         ],
         "y": [
          45.48895428649488,
          41.02079120727569
         ]
        },
        {
         "hoverinfo": "skip",
         "line": {
          "color": "lightblue",
          "width": 1
         },
         "mode": "lines",
         "showlegend": false,
         "type": "scatter",
         "x": [
          80,
          80
         ],
         "y": [
          50,
          50
         ]
        },
        {
         "hoverinfo": "skip",
         "line": {
          "color": "lightblue",
          "width": 1
         },
         "mode": "lines",
         "showlegend": false,
         "type": "scatter",
         "x": [
          81.78304857824527,
          83.09051239520804
         ],
         "y": [
          40.04310178344064,
          36.650584913768036
         ]
        },
        {
         "hoverinfo": "skip",
         "line": {
          "color": "lightblue",
          "width": 1
         },
         "mode": "lines",
         "showlegend": false,
         "type": "scatter",
         "x": [
          83.09051239520804,
          87.63567955865675
         ],
         "y": [
          36.650584913768036,
          34.53298328158735
         ]
        },
        {
         "hoverinfo": "skip",
         "line": {
          "color": "lightblue",
          "width": 1
         },
         "mode": "lines",
         "showlegend": false,
         "type": "scatter",
         "x": [
          49.52966653638741,
          53.389005742641224
         ],
         "y": [
          62.88944501422293,
          64.52436740812125
         ]
        },
        {
         "hoverinfo": "skip",
         "line": {
          "color": "lightblue",
          "width": 1
         },
         "mode": "lines",
         "showlegend": false,
         "type": "scatter",
         "x": [
          19.755273934862448,
          16.971331151911393
         ],
         "y": [
          56.65937471545746,
          60.812646026274365
         ]
        },
        {
         "hoverinfo": "skip",
         "line": {
          "color": "lightblue",
          "width": 1
         },
         "mode": "lines",
         "showlegend": false,
         "type": "scatter",
         "x": [
          38.70632916908409,
          34.20704561309047
         ],
         "y": [
          80.40746393328921,
          82.58839205745227
         ]
        },
        {
         "hoverinfo": "skip",
         "line": {
          "color": "lightblue",
          "width": 1
         },
         "mode": "lines",
         "showlegend": false,
         "type": "scatter",
         "x": [
          75.89250396836302,
          74.88622181760134
         ],
         "y": [
          20.609617695225296,
          15.711924745166211
         ]
        },
        {
         "hoverinfo": "skip",
         "line": {
          "color": "lightblue",
          "width": 1
         },
         "mode": "lines",
         "showlegend": false,
         "type": "scatter",
         "x": [
          17.535144375141826,
          15.746799325175154
         ],
         "y": [
          41.02079120727569,
          36.35154908651779
         ]
        },
        {
         "hoverinfo": "skip",
         "line": {
          "color": "lightblue",
          "width": 1
         },
         "mode": "lines",
         "showlegend": false,
         "type": "scatter",
         "x": [
          16.971331151911393,
          14.648958075031048
         ],
         "y": [
          60.812646026274365,
          65.24057819510682
         ]
        },
        {
         "hoverinfo": "skip",
         "line": {
          "color": "lightblue",
          "width": 1
         },
         "mode": "lines",
         "showlegend": false,
         "type": "scatter",
         "x": [
          34.20704561309047,
          30.46647280570044
         ],
         "y": [
          82.58839205745227,
          79.27054409942069
         ]
        },
        {
         "hoverinfo": "skip",
         "line": {
          "color": "lightblue",
          "width": 1
         },
         "mode": "lines",
         "showlegend": false,
         "type": "scatter",
         "x": [
          30.46647280570044,
          26.72589999831041
         ],
         "y": [
          79.27054409942069,
          75.95269614138913
         ]
        },
        {
         "hoverinfo": "skip",
         "line": {
          "color": "lightblue",
          "width": 1
         },
         "mode": "lines",
         "showlegend": false,
         "type": "scatter",
         "x": [
          26.72589999831041,
          22.98532719092038
         ],
         "y": [
          75.95269614138913,
          72.63484818335755
         ]
        },
        {
         "hoverinfo": "skip",
         "line": {
          "color": "lightblue",
          "width": 1
         },
         "mode": "lines",
         "showlegend": false,
         "type": "scatter",
         "x": [
          22.98532719092038,
          19.24475438353035
         ],
         "y": [
          72.63484818335755,
          69.31700022532598
         ]
        },
        {
         "hoverinfo": "skip",
         "line": {
          "color": "lightblue",
          "width": 1
         },
         "mode": "lines",
         "showlegend": false,
         "type": "scatter",
         "x": [
          19.24475438353035,
          15.504181576140322
         ],
         "y": [
          69.31700022532598,
          65.9991522672944
         ]
        },
        {
         "hoverinfo": "skip",
         "line": {
          "color": "lightblue",
          "width": 1
         },
         "mode": "lines",
         "showlegend": false,
         "type": "scatter",
         "x": [
          15.504181576140322,
          14.648958075031048
         ],
         "y": [
          65.9991522672944,
          65.24057819510682
         ]
        },
        {
         "marker": {
          "color": "red",
          "size": 10
         },
         "mode": "markers",
         "name": "Start",
         "type": "scatter",
         "x": [
          80
         ],
         "y": [
          50
         ]
        },
        {
         "marker": {
          "color": "orange",
          "size": 10
         },
         "mode": "markers",
         "name": "Goal",
         "type": "scatter",
         "x": [
          50
         ],
         "y": [
          50
         ]
        }
       ],
       "layout": {
        "height": 600,
        "shapes": [
         {
          "fillcolor": "purple",
          "line": {
           "width": 0
          },
          "opacity": 0.5,
          "type": "rect",
          "x0": 27,
          "x1": 30,
          "y0": 52,
          "y1": 70
         },
         {
          "fillcolor": "purple",
          "line": {
           "width": 0
          },
          "opacity": 0.5,
          "type": "rect",
          "x0": 27,
          "x1": 30,
          "y0": 30,
          "y1": 48
         },
         {
          "fillcolor": "purple",
          "line": {
           "width": 0
          },
          "opacity": 0.5,
          "type": "rect",
          "x0": 70,
          "x1": 73,
          "y0": 30,
          "y1": 70
         },
         {
          "fillcolor": "purple",
          "line": {
           "width": 0
          },
          "opacity": 0.5,
          "type": "rect",
          "x0": 30,
          "x1": 70,
          "y0": 30,
          "y1": 33
         },
         {
          "fillcolor": "purple",
          "line": {
           "width": 0
          },
          "opacity": 0.5,
          "type": "rect",
          "x0": 30,
          "x1": 70,
          "y0": 67,
          "y1": 70
         },
         {
          "fillcolor": "rgba(0,0,0,0)",
          "layer": "above",
          "line": {
           "color": "white",
           "width": 3
          },
          "type": "rect",
          "x0": 0,
          "x1": 100,
          "y0": 0,
          "y1": 100
         }
        ],
        "template": {
         "data": {
          "bar": [
           {
            "error_x": {
             "color": "#2a3f5f"
            },
            "error_y": {
             "color": "#2a3f5f"
            },
            "marker": {
             "line": {
              "color": "#E5ECF6",
              "width": 0.5
             },
             "pattern": {
              "fillmode": "overlay",
              "size": 10,
              "solidity": 0.2
             }
            },
            "type": "bar"
           }
          ],
          "barpolar": [
           {
            "marker": {
             "line": {
              "color": "#E5ECF6",
              "width": 0.5
             },
             "pattern": {
              "fillmode": "overlay",
              "size": 10,
              "solidity": 0.2
             }
            },
            "type": "barpolar"
           }
          ],
          "carpet": [
           {
            "aaxis": {
             "endlinecolor": "#2a3f5f",
             "gridcolor": "white",
             "linecolor": "white",
             "minorgridcolor": "white",
             "startlinecolor": "#2a3f5f"
            },
            "baxis": {
             "endlinecolor": "#2a3f5f",
             "gridcolor": "white",
             "linecolor": "white",
             "minorgridcolor": "white",
             "startlinecolor": "#2a3f5f"
            },
            "type": "carpet"
           }
          ],
          "choropleth": [
           {
            "colorbar": {
             "outlinewidth": 0,
             "ticks": ""
            },
            "type": "choropleth"
           }
          ],
          "contour": [
           {
            "colorbar": {
             "outlinewidth": 0,
             "ticks": ""
            },
            "colorscale": [
             [
              0,
              "#0d0887"
             ],
             [
              0.1111111111111111,
              "#46039f"
             ],
             [
              0.2222222222222222,
              "#7201a8"
             ],
             [
              0.3333333333333333,
              "#9c179e"
             ],
             [
              0.4444444444444444,
              "#bd3786"
             ],
             [
              0.5555555555555556,
              "#d8576b"
             ],
             [
              0.6666666666666666,
              "#ed7953"
             ],
             [
              0.7777777777777778,
              "#fb9f3a"
             ],
             [
              0.8888888888888888,
              "#fdca26"
             ],
             [
              1,
              "#f0f921"
             ]
            ],
            "type": "contour"
           }
          ],
          "contourcarpet": [
           {
            "colorbar": {
             "outlinewidth": 0,
             "ticks": ""
            },
            "type": "contourcarpet"
           }
          ],
          "heatmap": [
           {
            "colorbar": {
             "outlinewidth": 0,
             "ticks": ""
            },
            "colorscale": [
             [
              0,
              "#0d0887"
             ],
             [
              0.1111111111111111,
              "#46039f"
             ],
             [
              0.2222222222222222,
              "#7201a8"
             ],
             [
              0.3333333333333333,
              "#9c179e"
             ],
             [
              0.4444444444444444,
              "#bd3786"
             ],
             [
              0.5555555555555556,
              "#d8576b"
             ],
             [
              0.6666666666666666,
              "#ed7953"
             ],
             [
              0.7777777777777778,
              "#fb9f3a"
             ],
             [
              0.8888888888888888,
              "#fdca26"
             ],
             [
              1,
              "#f0f921"
             ]
            ],
            "type": "heatmap"
           }
          ],
          "histogram": [
           {
            "marker": {
             "pattern": {
              "fillmode": "overlay",
              "size": 10,
              "solidity": 0.2
             }
            },
            "type": "histogram"
           }
          ],
          "histogram2d": [
           {
            "colorbar": {
             "outlinewidth": 0,
             "ticks": ""
            },
            "colorscale": [
             [
              0,
              "#0d0887"
             ],
             [
              0.1111111111111111,
              "#46039f"
             ],
             [
              0.2222222222222222,
              "#7201a8"
             ],
             [
              0.3333333333333333,
              "#9c179e"
             ],
             [
              0.4444444444444444,
              "#bd3786"
             ],
             [
              0.5555555555555556,
              "#d8576b"
             ],
             [
              0.6666666666666666,
              "#ed7953"
             ],
             [
              0.7777777777777778,
              "#fb9f3a"
             ],
             [
              0.8888888888888888,
              "#fdca26"
             ],
             [
              1,
              "#f0f921"
             ]
            ],
            "type": "histogram2d"
           }
          ],
          "histogram2dcontour": [
           {
            "colorbar": {
             "outlinewidth": 0,
             "ticks": ""
            },
            "colorscale": [
             [
              0,
              "#0d0887"
             ],
             [
              0.1111111111111111,
              "#46039f"
             ],
             [
              0.2222222222222222,
              "#7201a8"
             ],
             [
              0.3333333333333333,
              "#9c179e"
             ],
             [
              0.4444444444444444,
              "#bd3786"
             ],
             [
              0.5555555555555556,
              "#d8576b"
             ],
             [
              0.6666666666666666,
              "#ed7953"
             ],
             [
              0.7777777777777778,
              "#fb9f3a"
             ],
             [
              0.8888888888888888,
              "#fdca26"
             ],
             [
              1,
              "#f0f921"
             ]
            ],
            "type": "histogram2dcontour"
           }
          ],
          "mesh3d": [
           {
            "colorbar": {
             "outlinewidth": 0,
             "ticks": ""
            },
            "type": "mesh3d"
           }
          ],
          "parcoords": [
           {
            "line": {
             "colorbar": {
              "outlinewidth": 0,
              "ticks": ""
             }
            },
            "type": "parcoords"
           }
          ],
          "pie": [
           {
            "automargin": true,
            "type": "pie"
           }
          ],
          "scatter": [
           {
            "fillpattern": {
             "fillmode": "overlay",
             "size": 10,
             "solidity": 0.2
            },
            "type": "scatter"
           }
          ],
          "scatter3d": [
           {
            "line": {
             "colorbar": {
              "outlinewidth": 0,
              "ticks": ""
             }
            },
            "marker": {
             "colorbar": {
              "outlinewidth": 0,
              "ticks": ""
             }
            },
            "type": "scatter3d"
           }
          ],
          "scattercarpet": [
           {
            "marker": {
             "colorbar": {
              "outlinewidth": 0,
              "ticks": ""
             }
            },
            "type": "scattercarpet"
           }
          ],
          "scattergeo": [
           {
            "marker": {
             "colorbar": {
              "outlinewidth": 0,
              "ticks": ""
             }
            },
            "type": "scattergeo"
           }
          ],
          "scattergl": [
           {
            "marker": {
             "colorbar": {
              "outlinewidth": 0,
              "ticks": ""
             }
            },
            "type": "scattergl"
           }
          ],
          "scattermap": [
           {
            "marker": {
             "colorbar": {
              "outlinewidth": 0,
              "ticks": ""
             }
            },
            "type": "scattermap"
           }
          ],
          "scattermapbox": [
           {
            "marker": {
             "colorbar": {
              "outlinewidth": 0,
              "ticks": ""
             }
            },
            "type": "scattermapbox"
           }
          ],
          "scatterpolar": [
           {
            "marker": {
             "colorbar": {
              "outlinewidth": 0,
              "ticks": ""
             }
            },
            "type": "scatterpolar"
           }
          ],
          "scatterpolargl": [
           {
            "marker": {
             "colorbar": {
              "outlinewidth": 0,
              "ticks": ""
             }
            },
            "type": "scatterpolargl"
           }
          ],
          "scatterternary": [
           {
            "marker": {
             "colorbar": {
              "outlinewidth": 0,
              "ticks": ""
             }
            },
            "type": "scatterternary"
           }
          ],
          "surface": [
           {
            "colorbar": {
             "outlinewidth": 0,
             "ticks": ""
            },
            "colorscale": [
             [
              0,
              "#0d0887"
             ],
             [
              0.1111111111111111,
              "#46039f"
             ],
             [
              0.2222222222222222,
              "#7201a8"
             ],
             [
              0.3333333333333333,
              "#9c179e"
             ],
             [
              0.4444444444444444,
              "#bd3786"
             ],
             [
              0.5555555555555556,
              "#d8576b"
             ],
             [
              0.6666666666666666,
              "#ed7953"
             ],
             [
              0.7777777777777778,
              "#fb9f3a"
             ],
             [
              0.8888888888888888,
              "#fdca26"
             ],
             [
              1,
              "#f0f921"
             ]
            ],
            "type": "surface"
           }
          ],
          "table": [
           {
            "cells": {
             "fill": {
              "color": "#EBF0F8"
             },
             "line": {
              "color": "white"
             }
            },
            "header": {
             "fill": {
              "color": "#C8D4E3"
             },
             "line": {
              "color": "white"
             }
            },
            "type": "table"
           }
          ]
         },
         "layout": {
          "annotationdefaults": {
           "arrowcolor": "#2a3f5f",
           "arrowhead": 0,
           "arrowwidth": 1
          },
          "autotypenumbers": "strict",
          "coloraxis": {
           "colorbar": {
            "outlinewidth": 0,
            "ticks": ""
           }
          },
          "colorscale": {
           "diverging": [
            [
             0,
             "#8e0152"
            ],
            [
             0.1,
             "#c51b7d"
            ],
            [
             0.2,
             "#de77ae"
            ],
            [
             0.3,
             "#f1b6da"
            ],
            [
             0.4,
             "#fde0ef"
            ],
            [
             0.5,
             "#f7f7f7"
            ],
            [
             0.6,
             "#e6f5d0"
            ],
            [
             0.7,
             "#b8e186"
            ],
            [
             0.8,
             "#7fbc41"
            ],
            [
             0.9,
             "#4d9221"
            ],
            [
             1,
             "#276419"
            ]
           ],
           "sequential": [
            [
             0,
             "#0d0887"
            ],
            [
             0.1111111111111111,
             "#46039f"
            ],
            [
             0.2222222222222222,
             "#7201a8"
            ],
            [
             0.3333333333333333,
             "#9c179e"
            ],
            [
             0.4444444444444444,
             "#bd3786"
            ],
            [
             0.5555555555555556,
             "#d8576b"
            ],
            [
             0.6666666666666666,
             "#ed7953"
            ],
            [
             0.7777777777777778,
             "#fb9f3a"
            ],
            [
             0.8888888888888888,
             "#fdca26"
            ],
            [
             1,
             "#f0f921"
            ]
           ],
           "sequentialminus": [
            [
             0,
             "#0d0887"
            ],
            [
             0.1111111111111111,
             "#46039f"
            ],
            [
             0.2222222222222222,
             "#7201a8"
            ],
            [
             0.3333333333333333,
             "#9c179e"
            ],
            [
             0.4444444444444444,
             "#bd3786"
            ],
            [
             0.5555555555555556,
             "#d8576b"
            ],
            [
             0.6666666666666666,
             "#ed7953"
            ],
            [
             0.7777777777777778,
             "#fb9f3a"
            ],
            [
             0.8888888888888888,
             "#fdca26"
            ],
            [
             1,
             "#f0f921"
            ]
           ]
          },
          "colorway": [
           "#636efa",
           "#EF553B",
           "#00cc96",
           "#ab63fa",
           "#FFA15A",
           "#19d3f3",
           "#FF6692",
           "#B6E880",
           "#FF97FF",
           "#FECB52"
          ],
          "font": {
           "color": "#2a3f5f"
          },
          "geo": {
           "bgcolor": "white",
           "lakecolor": "white",
           "landcolor": "#E5ECF6",
           "showlakes": true,
           "showland": true,
           "subunitcolor": "white"
          },
          "hoverlabel": {
           "align": "left"
          },
          "hovermode": "closest",
          "mapbox": {
           "style": "light"
          },
          "paper_bgcolor": "white",
          "plot_bgcolor": "#E5ECF6",
          "polar": {
           "angularaxis": {
            "gridcolor": "white",
            "linecolor": "white",
            "ticks": ""
           },
           "bgcolor": "#E5ECF6",
           "radialaxis": {
            "gridcolor": "white",
            "linecolor": "white",
            "ticks": ""
           }
          },
          "scene": {
           "xaxis": {
            "backgroundcolor": "#E5ECF6",
            "gridcolor": "white",
            "gridwidth": 2,
            "linecolor": "white",
            "showbackground": true,
            "ticks": "",
            "zerolinecolor": "white"
           },
           "yaxis": {
            "backgroundcolor": "#E5ECF6",
            "gridcolor": "white",
            "gridwidth": 2,
            "linecolor": "white",
            "showbackground": true,
            "ticks": "",
            "zerolinecolor": "white"
           },
           "zaxis": {
            "backgroundcolor": "#E5ECF6",
            "gridcolor": "white",
            "gridwidth": 2,
            "linecolor": "white",
            "showbackground": true,
            "ticks": "",
            "zerolinecolor": "white"
           }
          },
          "shapedefaults": {
           "line": {
            "color": "#2a3f5f"
           }
          },
          "ternary": {
           "aaxis": {
            "gridcolor": "white",
            "linecolor": "white",
            "ticks": ""
           },
           "baxis": {
            "gridcolor": "white",
            "linecolor": "white",
            "ticks": ""
           },
           "bgcolor": "#E5ECF6",
           "caxis": {
            "gridcolor": "white",
            "linecolor": "white",
            "ticks": ""
           }
          },
          "title": {
           "x": 0.05
          },
          "xaxis": {
           "automargin": true,
           "gridcolor": "white",
           "linecolor": "white",
           "ticks": "",
           "title": {
            "standoff": 15
           },
           "zerolinecolor": "white",
           "zerolinewidth": 2
          },
          "yaxis": {
           "automargin": true,
           "gridcolor": "white",
           "linecolor": "white",
           "ticks": "",
           "title": {
            "standoff": 15
           },
           "zerolinecolor": "white",
           "zerolinewidth": 2
          }
         }
        },
        "title": {
         "text": "Map Visualization"
        },
        "width": 600,
        "xaxis": {
         "scaleanchor": "y",
         "showgrid": false
        },
        "yaxis": {
         "showgrid": false
        }
       }
      }
     },
     "metadata": {},
     "output_type": "display_data"
    }
   ],
   "source": [
    "visualize_map_shapes(narrow_map.grid, obs=narrow_map.obstacles, start=narrow_map.start, goal=narrow_map.goal, path=result3.path, nodes=list(map(lambda x: x.position, result3.nodes)), edges=result3.edges)"
   ]
  },
  {
   "cell_type": "code",
   "execution_count": 306,
   "id": "98e77142",
   "metadata": {},
   "outputs": [
    {
     "name": "stdout",
     "output_type": "stream",
     "text": [
      "Map 1, Iteration 1: Time taken: 4.5771 seconds\n",
      "Map 1, Iteration 2: Time taken: 4.7441 seconds\n",
      "Map 1, Iteration 3: Time taken: 4.6237 seconds\n",
      "Map 1, Iteration 4: Time taken: 4.5852 seconds\n",
      "Map 1, Iteration 5: Time taken: 3.8997 seconds\n",
      "Map 1, Iteration 6: Time taken: 4.4552 seconds\n",
      "Map 1, Iteration 7: Time taken: 4.7395 seconds\n",
      "Map 1, Iteration 8: Time taken: 4.6186 seconds\n",
      "Map 1, Iteration 9: Time taken: 4.5787 seconds\n",
      "Map 1, Iteration 10: Time taken: 4.4073 seconds\n",
      "Map 2, Iteration 1: Time taken: 4.9983 seconds\n",
      "Map 2, Iteration 2: Time taken: 5.8869 seconds\n",
      "Map 2, Iteration 3: Time taken: 6.7470 seconds\n",
      "Map 2, Iteration 4: Time taken: 6.2999 seconds\n",
      "Map 2, Iteration 5: Time taken: 5.4660 seconds\n",
      "Map 2, Iteration 6: Time taken: 6.6855 seconds\n",
      "Map 2, Iteration 7: Time taken: 6.0104 seconds\n",
      "Map 2, Iteration 8: Time taken: 5.8618 seconds\n",
      "Map 2, Iteration 9: Time taken: 5.9092 seconds\n",
      "Map 2, Iteration 10: Time taken: 7.0804 seconds\n",
      "Map 3, Iteration 1: Time taken: 8.1677 seconds\n",
      "Map 3, Iteration 2: Time taken: 8.9030 seconds\n",
      "Map 3, Iteration 3: Time taken: 8.2086 seconds\n",
      "Map 3, Iteration 4: Time taken: 7.8221 seconds\n",
      "Map 3, Iteration 5: Time taken: 8.4478 seconds\n",
      "Map 3, Iteration 6: Time taken: 6.4862 seconds\n",
      "Map 3, Iteration 7: Time taken: 8.6778 seconds\n",
      "Map 3, Iteration 8: Time taken: 1.0721 seconds\n",
      "Map 3, Iteration 9: Time taken: 7.0150 seconds\n",
      "Map 3, Iteration 10: Time taken: 8.4256 seconds\n",
      "Total time taken for all maps: 179.4460 seconds\n"
     ]
    }
   ],
   "source": [
    "bench2 = MultiMapBenchmarker(\n",
    "    maps=[multi_obs_map, maze_map, narrow_map],\n",
    "    name=\"MyRRT\"\n",
    ")\n",
    "_, avg_res = bench2.run(p.plan)"
   ]
  },
  {
   "cell_type": "code",
   "execution_count": null,
   "id": "45334152",
   "metadata": {},
   "outputs": [],
   "source": [
    "def my_dummy_planner(map_array, start, goal):\n",
    "    return {\n",
    "        \"path\": [start, goal],\n",
    "        \"visited\": [start],\n",
    "        \"nodes\": 2\n",
    "    }\n",
    "\n",
    "bench = MultiMapBenchmarker(\n",
    "    maps=[multi_obs_map, maze_map, narrow_map],\n",
    "    algorithm=p.plan,\n",
    "    name=\"MyRRT\"\n",
    ")\n",
    "\n",
    "\n",
    "df = bench.run()\n",
    "print(df)"
   ]
  },
  {
   "cell_type": "code",
   "execution_count": 12,
   "id": "b36b0d93",
   "metadata": {},
   "outputs": [],
   "source": [
    "import_string ='''\n",
    "from typing import Tuple, Literal, Union, Optional, List, Dict, NamedTuple, Callable, Any, Set, TYPE_CHECKING, Type\n",
    "import time\n",
    "from queue import Queue\n",
    "import numpy as np\n",
    "import random\n",
    "import math\n",
    "import sys\n",
    "import os\n",
    "from eoh.problems.optimization.classic_benchmark_path_planning.utils.architecture_utils import PlannerResult, Map\n",
    "\n",
    "'''"
   ]
  },
  {
   "cell_type": "code",
   "execution_count": 11,
   "id": "4c6728a0",
   "metadata": {},
   "outputs": [
    {
     "name": "stdout",
     "output_type": "stream",
     "text": [
      "dict_keys(['algorithm', 'algorithm_description', 'planning_mechanism', 'code'])\n"
     ]
    }
   ],
   "source": [
    "json_path = './eoh/src/eoh/problems/optimization/classic_benchmark_path_planning/utils/classic_method.json'\n",
    "with open(json_path, \"r\") as f:\n",
    "    classic_method = json.load(f)\n",
    "\n",
    "print(classic_method[0].keys())"
   ]
  },
  {
   "cell_type": "code",
   "execution_count": 15,
   "id": "bdb27cac",
   "metadata": {},
   "outputs": [
    {
     "data": {
      "text/plain": [
       "'RRT'"
      ]
     },
     "execution_count": 15,
     "metadata": {},
     "output_type": "execute_result"
    }
   ],
   "source": [
    "classic_method[0]['algorithm']"
   ]
  },
  {
   "cell_type": "code",
   "execution_count": 13,
   "id": "69eb493e",
   "metadata": {},
   "outputs": [
    {
     "name": "stdout",
     "output_type": "stream",
     "text": [
      "\n",
      "class Node:\n",
      "    def __init__(self, position, parent=None, cost=0.0):\n",
      "        self.position = position\n",
      "        self.parent = parent\n",
      "        self.cost = cost\n",
      "        self.children = []\n",
      "        self.valid = True\n",
      "\n",
      "    def add_child(self, child_node):\n",
      "        self.children.append(child_node)\n",
      "\n",
      "\n",
      "class Planner:\n",
      "    def __init__(self, max_iter: int = 5000, step_size: float = 3.0, goal_sample_rate: float = 0.05):\n",
      "        self.max_iter = max_iter\n",
      "        self.step_size = step_size\n",
      "        self.goal_sample_rate = goal_sample_rate\n",
      "\n",
      "    def plan(self, map) -> PlannerResult:\n",
      "        import random\n",
      "        import math\n",
      "\n",
      "        bounds = map.size\n",
      "        start_position = map.start\n",
      "        goal_position = map.goal\n",
      "        obstacles = map.obstacles\n",
      "        is_3d = len(bounds) == 3\n",
      "\n",
      "        success_state = False\n",
      "        extracted_path = []\n",
      "        nodes = []\n",
      "        edges = []\n",
      "\n",
      "        root = Node(start_position)\n",
      "        nodes.append(root)\n",
      "\n",
      "        for _ in range(self.max_iter):\n",
      "            # Goal biasing\n",
      "            if random.random() < self.goal_sample_rate:\n",
      "                sample = goal_position\n",
      "            else:\n",
      "                sample = tuple(random.uniform(0, bounds[d]) for d in range(len(bounds)))\n",
      "\n",
      "            # Find nearest node\n",
      "            nearest_node = min(nodes, key=lambda n: math.dist(n.position, sample))\n",
      "\n",
      "            # Steer\n",
      "            direction = tuple(sample[d] - nearest_node.position[d] for d in range(len(bounds)))\n",
      "            length = math.dist(nearest_node.position, sample)\n",
      "            if length == 0:\n",
      "                continue\n",
      "            unit = tuple(d / length for d in direction)\n",
      "            new_position = tuple(nearest_node.position[d] + unit[d] * min(self.step_size, length) for d in range(len(bounds)))\n",
      "\n",
      "            if self._is_in_obstacle(new_position, obstacles, is_3d):\n",
      "                continue\n",
      "            if self._is_edge_in_obstacle(nearest_node.position, new_position, obstacles, is_3d):\n",
      "                continue\n",
      "\n",
      "            new_node = Node(new_position, parent=nearest_node, cost=nearest_node.cost + math.dist(nearest_node.position, new_position))\n",
      "            nearest_node.add_child(new_node)\n",
      "            nodes.append(new_node)\n",
      "            edges.append((nearest_node, new_node))\n",
      "\n",
      "            # Check if goal reached\n",
      "            if math.dist(new_position, goal_position) <= self.step_size:\n",
      "                if not self._is_edge_in_obstacle(new_position, goal_position, obstacles, is_3d) and not self._is_in_obstacle(goal_position, obstacles, is_3d):\n",
      "                    goal_node = Node(goal_position, parent=new_node, cost=new_node.cost + math.dist(new_position, goal_position))\n",
      "                    new_node.add_child(goal_node)\n",
      "                    nodes.append(goal_node)\n",
      "                    edges.append((new_node, goal_node))\n",
      "                    success_state = True\n",
      "                    break\n",
      "\n",
      "        if success_state:\n",
      "            path = []\n",
      "            node = nodes[-1]\n",
      "            while node:\n",
      "                path.append(node.position)\n",
      "                node = node.parent\n",
      "            extracted_path = path[::-1]\n",
      "\n",
      "        return PlannerResult(\n",
      "            success=success_state,\n",
      "            path=extracted_path,\n",
      "            nodes=nodes,\n",
      "            edges=edges\n",
      "        )\n",
      "\n",
      "    def _is_in_obstacle(self, pos, obstacles, is_3d):\n",
      "        for obs in obstacles:\n",
      "            if is_3d:\n",
      "                x, y, z, w, h, d = obs\n",
      "                px, py, pz = pos\n",
      "                if x <= px <= x + w and y <= py <= y + h and z <= pz <= z + d:\n",
      "                    return True\n",
      "            else:\n",
      "                x, y, w, h = obs\n",
      "                px, py = pos\n",
      "                if x <= px <= x + w and y <= py <= y + h:\n",
      "                    return True\n",
      "        return False\n",
      "\n",
      "    def _is_edge_in_obstacle(self, from_pos, to_pos, obstacles, is_3d, resolution=1.0):\n",
      "        import math\n",
      "        distance = math.dist(from_pos, to_pos)\n",
      "        steps = max(1, int(distance / resolution))\n",
      "        for i in range(steps + 1):\n",
      "            interp = tuple(from_pos[d] + (to_pos[d] - from_pos[d]) * (i / steps) for d in range(len(from_pos)))\n",
      "            if self._is_in_obstacle(interp, obstacles, is_3d):\n",
      "                return True\n",
      "        return False\n",
      "    \n"
     ]
    }
   ],
   "source": [
    "for method in classic_method:\n",
    "    if method['algorithm'] == 'RRT':\n",
    "        print(method['code'])"
   ]
  },
  {
   "cell_type": "code",
   "execution_count": 33,
   "id": "8d8d0d2a",
   "metadata": {},
   "outputs": [
    {
     "name": "stdout",
     "output_type": "stream",
     "text": [
      "Map 1\n",
      "Iteration 1: Time taken: 0.0167 seconds, Success: True\n",
      "Iteration 2: Time taken: 0.0224 seconds, Success: True\n",
      "Iteration 3: Time taken: 0.0060 seconds, Success: True\n",
      "Iteration 4: Time taken: 0.0140 seconds, Success: True\n",
      "Iteration 5: Time taken: 0.0278 seconds, Success: True\n",
      "Iteration 6: Time taken: 0.0122 seconds, Success: True\n",
      "Iteration 7: Time taken: 0.0169 seconds, Success: True\n",
      "Iteration 8: Time taken: 0.0086 seconds, Success: True\n",
      "Iteration 9: Time taken: 0.0072 seconds, Success: True\n",
      "Iteration 10: Time taken: 0.0197 seconds, Success: True\n",
      "Map 2\n",
      "Iteration 1: Time taken: 0.1064 seconds, Success: True\n",
      "Iteration 2: Time taken: 0.2153 seconds, Success: True\n",
      "Iteration 3: Time taken: 0.1351 seconds, Success: True\n",
      "Iteration 4: Time taken: 0.1892 seconds, Success: True\n",
      "Iteration 5: Time taken: 0.1133 seconds, Success: True\n",
      "Iteration 6: Time taken: 0.1021 seconds, Success: True\n",
      "Iteration 7: Time taken: 0.0900 seconds, Success: True\n",
      "Iteration 8: Time taken: 0.0835 seconds, Success: True\n",
      "Iteration 9: Time taken: 0.1072 seconds, Success: True\n",
      "Iteration 10: Time taken: 0.1638 seconds, Success: True\n",
      "Map 3\n",
      "Iteration 1: Time taken: 0.0348 seconds, Success: True\n",
      "Iteration 2: Time taken: 0.0150 seconds, Success: True\n",
      "Iteration 3: Time taken: 0.0105 seconds, Success: True\n",
      "Iteration 4: Time taken: 0.0765 seconds, Success: True\n",
      "Iteration 5: Time taken: 0.0198 seconds, Success: True\n",
      "Iteration 6: Time taken: 0.0497 seconds, Success: True\n",
      "Iteration 7: Time taken: 0.0125 seconds, Success: True\n",
      "Iteration 8: Time taken: 0.0126 seconds, Success: True\n",
      "Iteration 9: Time taken: 0.0716 seconds, Success: True\n",
      "Iteration 10: Time taken: 0.0029 seconds, Success: True\n",
      "Total time taken for all maps: 1.7912 seconds\n",
      "Map 1\n",
      "Iteration 1: Time taken: 0.0216 seconds, Success: True\n",
      "Iteration 2: Time taken: 0.0181 seconds, Success: True\n",
      "Iteration 3: Time taken: 0.0768 seconds, Success: True\n",
      "Iteration 4: Time taken: 0.0529 seconds, Success: True\n",
      "Iteration 5: Time taken: 0.0563 seconds, Success: True\n",
      "Iteration 6: Time taken: 0.0482 seconds, Success: True\n",
      "Iteration 7: Time taken: 0.1325 seconds, Success: True\n",
      "Iteration 8: Time taken: 0.0309 seconds, Success: True\n",
      "Iteration 9: Time taken: 0.0601 seconds, Success: True\n",
      "Iteration 10: Time taken: 0.0155 seconds, Success: True\n",
      "Map 2\n",
      "Iteration 1: Time taken: 0.3735 seconds, Success: True\n",
      "Iteration 2: Time taken: 0.2621 seconds, Success: True\n",
      "Iteration 3: Time taken: 0.2102 seconds, Success: True\n",
      "Iteration 4: Time taken: 0.1830 seconds, Success: True\n",
      "Iteration 5: Time taken: 0.1264 seconds, Success: True\n",
      "Iteration 6: Time taken: 0.2047 seconds, Success: True\n",
      "Iteration 7: Time taken: 0.2328 seconds, Success: True\n",
      "Iteration 8: Time taken: 0.2750 seconds, Success: True\n",
      "Iteration 9: Time taken: 0.2112 seconds, Success: True\n",
      "Iteration 10: Time taken: 0.2465 seconds, Success: True\n",
      "Map 3\n",
      "Iteration 1: Time taken: 0.0731 seconds, Success: True\n",
      "Iteration 2: Time taken: 0.0883 seconds, Success: True\n",
      "Iteration 3: Time taken: 0.1934 seconds, Success: True\n",
      "Iteration 4: Time taken: 0.0879 seconds, Success: True\n",
      "Iteration 5: Time taken: 0.0382 seconds, Success: True\n",
      "Iteration 6: Time taken: 0.0857 seconds, Success: True\n",
      "Iteration 7: Time taken: 0.0248 seconds, Success: True\n",
      "Iteration 8: Time taken: 0.0605 seconds, Success: True\n",
      "Iteration 9: Time taken: 0.0292 seconds, Success: True\n",
      "Iteration 10: Time taken: 0.3056 seconds, Success: True\n",
      "Total time taken for all maps: 3.8442 seconds\n",
      "Map 1\n",
      "Iteration 1: Time taken: 0.0029 seconds, Success: True\n",
      "Iteration 2: Time taken: 0.0071 seconds, Success: True\n",
      "Iteration 3: Time taken: 0.0125 seconds, Success: True\n",
      "Iteration 4: Time taken: 0.0048 seconds, Success: True\n",
      "Iteration 5: Time taken: 0.0054 seconds, Success: True\n",
      "Iteration 6: Time taken: 0.0051 seconds, Success: True\n",
      "Iteration 7: Time taken: 0.0065 seconds, Success: True\n",
      "Iteration 8: Time taken: 0.0047 seconds, Success: True\n",
      "Iteration 9: Time taken: 0.0041 seconds, Success: True\n",
      "Iteration 10: Time taken: 0.0030 seconds, Success: True\n",
      "Map 2\n",
      "Iteration 1: Time taken: 0.0124 seconds, Success: True\n",
      "Iteration 2: Time taken: 0.0099 seconds, Success: True\n",
      "Iteration 3: Time taken: 0.0114 seconds, Success: True\n",
      "Iteration 4: Time taken: 0.0115 seconds, Success: True\n",
      "Iteration 5: Time taken: 0.0171 seconds, Success: True\n",
      "Iteration 6: Time taken: 0.0147 seconds, Success: True\n",
      "Iteration 7: Time taken: 0.0175 seconds, Success: True\n",
      "Iteration 8: Time taken: 0.0092 seconds, Success: True\n",
      "Iteration 9: Time taken: 0.0083 seconds, Success: True\n",
      "Iteration 10: Time taken: 0.0252 seconds, Success: True\n",
      "Map 3\n",
      "Iteration 1: Time taken: 0.0331 seconds, Success: True\n",
      "Iteration 2: Time taken: 0.0189 seconds, Success: True\n",
      "Iteration 3: Time taken: 0.0037 seconds, Success: True\n",
      "Iteration 4: Time taken: 0.0035 seconds, Success: True\n",
      "Iteration 5: Time taken: 0.0013 seconds, Success: True\n",
      "Iteration 6: Time taken: 0.0362 seconds, Success: True\n",
      "Iteration 7: Time taken: 0.0236 seconds, Success: True\n",
      "Iteration 8: Time taken: 0.0031 seconds, Success: True\n",
      "Iteration 9: Time taken: 0.0017 seconds, Success: True\n",
      "Iteration 10: Time taken: 0.0024 seconds, Success: True\n",
      "Total time taken for all maps: 0.3429 seconds\n",
      "Map 1\n",
      "Iteration 1: Time taken: 0.0058 seconds, Success: True\n",
      "Iteration 2: Time taken: 0.0098 seconds, Success: True\n",
      "Iteration 3: Time taken: 0.0101 seconds, Success: True\n",
      "Iteration 4: Time taken: 0.0143 seconds, Success: True\n",
      "Iteration 5: Time taken: 0.0118 seconds, Success: True\n",
      "Iteration 6: Time taken: 0.0034 seconds, Success: True\n",
      "Iteration 7: Time taken: 0.0216 seconds, Success: True\n",
      "Iteration 8: Time taken: 0.0195 seconds, Success: True\n",
      "Iteration 9: Time taken: 0.0044 seconds, Success: True\n",
      "Iteration 10: Time taken: 0.0127 seconds, Success: True\n",
      "Map 2\n",
      "Iteration 1: Time taken: 0.0220 seconds, Success: True\n",
      "Iteration 2: Time taken: 0.0190 seconds, Success: True\n",
      "Iteration 3: Time taken: 0.0151 seconds, Success: True\n",
      "Iteration 4: Time taken: 0.0134 seconds, Success: True\n",
      "Iteration 5: Time taken: 0.0133 seconds, Success: True\n",
      "Iteration 6: Time taken: 0.0188 seconds, Success: True\n",
      "Iteration 7: Time taken: 0.0201 seconds, Success: True\n",
      "Iteration 8: Time taken: 0.0703 seconds, Success: True\n",
      "Iteration 9: Time taken: 0.0226 seconds, Success: True\n",
      "Iteration 10: Time taken: 0.0334 seconds, Success: True\n",
      "Map 3\n",
      "Iteration 1: Time taken: 0.0177 seconds, Success: True\n",
      "Iteration 2: Time taken: 0.0051 seconds, Success: True\n",
      "Iteration 3: Time taken: 0.0261 seconds, Success: True\n",
      "Iteration 4: Time taken: 0.0253 seconds, Success: True\n",
      "Iteration 5: Time taken: 0.0224 seconds, Success: True\n",
      "Iteration 6: Time taken: 0.0420 seconds, Success: True\n",
      "Iteration 7: Time taken: 0.0047 seconds, Success: True\n",
      "Iteration 8: Time taken: 0.0204 seconds, Success: True\n",
      "Iteration 9: Time taken: 0.0984 seconds, Success: True\n",
      "Iteration 10: Time taken: 0.0047 seconds, Success: True\n",
      "Total time taken for all maps: 0.6466 seconds\n",
      "Map 1\n",
      "Iteration 1: Time taken: 0.0016 seconds, Success: True\n",
      "Iteration 2: Time taken: 0.0023 seconds, Success: True\n",
      "Iteration 3: Time taken: 0.0061 seconds, Success: True\n",
      "Iteration 4: Time taken: 0.0023 seconds, Success: True\n",
      "Iteration 5: Time taken: 0.0020 seconds, Success: True\n",
      "Iteration 6: Time taken: 0.0012 seconds, Success: True\n",
      "Iteration 7: Time taken: 0.0059 seconds, Success: True\n",
      "Iteration 8: Time taken: 0.0012 seconds, Success: True\n",
      "Iteration 9: Time taken: 0.0016 seconds, Success: True\n",
      "Iteration 10: Time taken: 0.0052 seconds, Success: True\n",
      "Map 2\n",
      "Iteration 1: Time taken: 0.0068 seconds, Success: True\n",
      "Iteration 2: Time taken: 0.0087 seconds, Success: True\n",
      "Iteration 3: Time taken: 0.0045 seconds, Success: True\n",
      "Iteration 4: Time taken: 0.0064 seconds, Success: True\n",
      "Iteration 5: Time taken: 0.0069 seconds, Success: True\n",
      "Iteration 6: Time taken: 0.0089 seconds, Success: True\n",
      "Iteration 7: Time taken: 0.0101 seconds, Success: True\n",
      "Iteration 8: Time taken: 0.0069 seconds, Success: True\n",
      "Iteration 9: Time taken: 0.0076 seconds, Success: True\n",
      "Iteration 10: Time taken: 0.0045 seconds, Success: True\n",
      "Map 3\n",
      "Iteration 1: Time taken: 0.0029 seconds, Success: True\n",
      "Iteration 2: Time taken: 0.0043 seconds, Success: True\n",
      "Iteration 3: Time taken: 0.0011 seconds, Success: False\n",
      "Iteration 4: Time taken: 0.0061 seconds, Success: True\n",
      "Iteration 5: Time taken: 0.0048 seconds, Success: True\n",
      "Iteration 6: Time taken: 0.0050 seconds, Success: True\n",
      "Iteration 7: Time taken: 0.0071 seconds, Success: True\n",
      "Iteration 8: Time taken: 0.0041 seconds, Success: True\n",
      "Iteration 9: Time taken: 0.0101 seconds, Success: True\n",
      "Iteration 10: Time taken: 0.0013 seconds, Success: True\n",
      "Total time taken for all maps: 0.1736 seconds\n",
      "Map 1\n",
      "Iteration 1: Time taken: 0.0031 seconds, Success: True\n",
      "Iteration 2: Time taken: 0.0048 seconds, Success: True\n",
      "Iteration 3: Time taken: 0.0075 seconds, Success: True\n",
      "Iteration 4: Time taken: 0.0054 seconds, Success: True\n",
      "Iteration 5: Time taken: 0.0057 seconds, Success: True\n",
      "Iteration 6: Time taken: 0.0127 seconds, Success: True\n",
      "Iteration 7: Time taken: 0.0156 seconds, Success: True\n",
      "Iteration 8: Time taken: 0.0065 seconds, Success: True\n",
      "Iteration 9: Time taken: 0.0038 seconds, Success: True\n",
      "Iteration 10: Time taken: 0.0111 seconds, Success: True\n",
      "Map 2\n",
      "Iteration 1: Time taken: 0.0254 seconds, Success: True\n",
      "Iteration 2: Time taken: 0.0102 seconds, Success: True\n",
      "Iteration 3: Time taken: 0.0163 seconds, Success: True\n",
      "Iteration 4: Time taken: 0.0090 seconds, Success: True\n",
      "Iteration 5: Time taken: 0.0140 seconds, Success: True\n",
      "Iteration 6: Time taken: 0.0116 seconds, Success: True\n",
      "Iteration 7: Time taken: 0.0135 seconds, Success: True\n",
      "Iteration 8: Time taken: 0.0210 seconds, Success: True\n",
      "Iteration 9: Time taken: 0.0036 seconds, Success: False\n",
      "Iteration 10: Time taken: 0.0146 seconds, Success: True\n",
      "Map 3\n",
      "Iteration 1: Time taken: 0.0049 seconds, Success: True\n",
      "Iteration 2: Time taken: 0.0102 seconds, Success: True\n",
      "Iteration 3: Time taken: 0.0081 seconds, Success: True\n",
      "Iteration 4: Time taken: 0.0181 seconds, Success: True\n",
      "Iteration 5: Time taken: 0.0024 seconds, Success: True\n",
      "Iteration 6: Time taken: 0.0055 seconds, Success: True\n",
      "Iteration 7: Time taken: 0.0150 seconds, Success: True\n",
      "Iteration 8: Time taken: 0.0253 seconds, Success: False\n",
      "Iteration 9: Time taken: 0.0077 seconds, Success: True\n",
      "Iteration 10: Time taken: 0.0033 seconds, Success: True\n",
      "Total time taken for all maps: 0.3293 seconds\n",
      "Map 1\n",
      "Iteration 1: Time taken: 4.3647 seconds, Success: True\n",
      "Iteration 2: Time taken: 4.3951 seconds, Success: True\n",
      "Iteration 3: Time taken: 4.4169 seconds, Success: True\n",
      "Iteration 4: Time taken: 4.9285 seconds, Success: True\n",
      "Iteration 5: Time taken: 4.6452 seconds, Success: True\n",
      "Iteration 6: Time taken: 4.6699 seconds, Success: True\n",
      "Iteration 7: Time taken: 4.5998 seconds, Success: True\n",
      "Iteration 8: Time taken: 4.7246 seconds, Success: True\n",
      "Iteration 9: Time taken: 4.2549 seconds, Success: True\n",
      "Iteration 10: Time taken: 4.1389 seconds, Success: True\n",
      "Map 2\n",
      "Iteration 1: Time taken: 4.8367 seconds, Success: True\n",
      "Iteration 2: Time taken: 4.0435 seconds, Success: True\n",
      "Iteration 3: Time taken: 4.8928 seconds, Success: True\n",
      "Iteration 4: Time taken: 4.5285 seconds, Success: True\n",
      "Iteration 5: Time taken: 4.5475 seconds, Success: True\n",
      "Iteration 6: Time taken: 4.7444 seconds, Success: True\n",
      "Iteration 7: Time taken: 4.7176 seconds, Success: True\n",
      "Iteration 8: Time taken: 4.9551 seconds, Success: True\n",
      "Iteration 9: Time taken: 4.9886 seconds, Success: True\n",
      "Iteration 10: Time taken: 4.4840 seconds, Success: True\n",
      "Map 3\n",
      "Iteration 1: Time taken: 5.6528 seconds, Success: True\n",
      "Iteration 2: Time taken: 5.3653 seconds, Success: True\n",
      "Iteration 3: Time taken: 5.8755 seconds, Success: True\n",
      "Iteration 4: Time taken: 4.8562 seconds, Success: True\n",
      "Iteration 5: Time taken: 5.9377 seconds, Success: True\n",
      "Iteration 6: Time taken: 5.6313 seconds, Success: True\n",
      "Iteration 7: Time taken: 5.6730 seconds, Success: True\n",
      "Iteration 8: Time taken: 5.9139 seconds, Success: True\n",
      "Iteration 9: Time taken: 5.6144 seconds, Success: True\n",
      "Iteration 10: Time taken: 5.8694 seconds, Success: True\n",
      "Total time taken for all maps: 148.2840 seconds\n",
      "Map 1\n",
      "Iteration 1: Time taken: 1.2202 seconds, Success: True\n",
      "Iteration 2: Time taken: 1.2289 seconds, Success: True\n",
      "Iteration 3: Time taken: 1.1789 seconds, Success: True\n",
      "Iteration 4: Time taken: 1.2841 seconds, Success: True\n",
      "Iteration 5: Time taken: 1.2569 seconds, Success: True\n",
      "Iteration 6: Time taken: 1.2747 seconds, Success: True\n",
      "Iteration 7: Time taken: 1.2930 seconds, Success: True\n",
      "Iteration 8: Time taken: 1.0794 seconds, Success: True\n",
      "Iteration 9: Time taken: 1.1544 seconds, Success: True\n",
      "Iteration 10: Time taken: 1.1906 seconds, Success: True\n",
      "Map 2\n",
      "Iteration 1: Time taken: 2.0596 seconds, Success: True\n",
      "Iteration 2: Time taken: 1.9608 seconds, Success: True\n",
      "Iteration 3: Time taken: 1.9833 seconds, Success: True\n",
      "Iteration 4: Time taken: 1.9748 seconds, Success: True\n",
      "Iteration 5: Time taken: 1.8940 seconds, Success: True\n",
      "Iteration 6: Time taken: 2.0929 seconds, Success: True\n",
      "Iteration 7: Time taken: 1.9453 seconds, Success: True\n",
      "Iteration 8: Time taken: 2.0600 seconds, Success: True\n",
      "Iteration 9: Time taken: 1.7726 seconds, Success: True\n",
      "Iteration 10: Time taken: 1.8122 seconds, Success: True\n",
      "Map 3\n",
      "Iteration 1: Time taken: 1.7331 seconds, Success: True\n",
      "Iteration 2: Time taken: 1.7720 seconds, Success: True\n",
      "Iteration 3: Time taken: 1.5455 seconds, Success: True\n",
      "Iteration 4: Time taken: 1.9115 seconds, Success: True\n",
      "Iteration 5: Time taken: 1.8338 seconds, Success: True\n",
      "Iteration 6: Time taken: 1.6044 seconds, Success: True\n",
      "Iteration 7: Time taken: 1.6734 seconds, Success: True\n",
      "Iteration 8: Time taken: 1.6310 seconds, Success: True\n",
      "Iteration 9: Time taken: 1.7061 seconds, Success: True\n",
      "Iteration 10: Time taken: 1.7599 seconds, Success: True\n",
      "Total time taken for all maps: 48.9091 seconds\n"
     ]
    },
    {
     "data": {
      "text/html": [
       "<div>\n",
       "<style scoped>\n",
       "    .dataframe tbody tr th:only-of-type {\n",
       "        vertical-align: middle;\n",
       "    }\n",
       "\n",
       "    .dataframe tbody tr th {\n",
       "        vertical-align: top;\n",
       "    }\n",
       "\n",
       "    .dataframe thead th {\n",
       "        text-align: right;\n",
       "    }\n",
       "</style>\n",
       "<table border=\"1\" class=\"dataframe\">\n",
       "  <thead>\n",
       "    <tr style=\"text-align: right;\">\n",
       "      <th></th>\n",
       "      <th>alg_name</th>\n",
       "      <th>map_id</th>\n",
       "      <th>success_rate</th>\n",
       "      <th>time_avg</th>\n",
       "      <th>num_nodes_avg</th>\n",
       "      <th>path_length_avg</th>\n",
       "      <th>smoothness_avg</th>\n",
       "      <th>success_improvement</th>\n",
       "      <th>time_improvement</th>\n",
       "      <th>length_improvement</th>\n",
       "      <th>smoothness_improvement</th>\n",
       "      <th>objective_score</th>\n",
       "    </tr>\n",
       "  </thead>\n",
       "  <tbody>\n",
       "    <tr>\n",
       "      <th>0</th>\n",
       "      <td>RRT</td>\n",
       "      <td>0</td>\n",
       "      <td>1.0</td>\n",
       "      <td>0.015138</td>\n",
       "      <td>248.7</td>\n",
       "      <td>192.016007</td>\n",
       "      <td>0.010318</td>\n",
       "      <td>0.0</td>\n",
       "      <td>-0.000000</td>\n",
       "      <td>-0.000000</td>\n",
       "      <td>-0.000000</td>\n",
       "      <td>0.000000</td>\n",
       "    </tr>\n",
       "    <tr>\n",
       "      <th>1</th>\n",
       "      <td>RRT</td>\n",
       "      <td>1</td>\n",
       "      <td>1.0</td>\n",
       "      <td>0.130599</td>\n",
       "      <td>1099.1</td>\n",
       "      <td>320.395966</td>\n",
       "      <td>0.006042</td>\n",
       "      <td>0.0</td>\n",
       "      <td>-0.000000</td>\n",
       "      <td>-0.000000</td>\n",
       "      <td>-0.000000</td>\n",
       "      <td>0.000000</td>\n",
       "    </tr>\n",
       "    <tr>\n",
       "      <th>2</th>\n",
       "      <td>RRT</td>\n",
       "      <td>2</td>\n",
       "      <td>1.0</td>\n",
       "      <td>0.030586</td>\n",
       "      <td>499.6</td>\n",
       "      <td>160.435752</td>\n",
       "      <td>0.012195</td>\n",
       "      <td>0.0</td>\n",
       "      <td>-0.000000</td>\n",
       "      <td>-0.000000</td>\n",
       "      <td>-0.000000</td>\n",
       "      <td>0.000000</td>\n",
       "    </tr>\n",
       "    <tr>\n",
       "      <th>0</th>\n",
       "      <td>RRT*</td>\n",
       "      <td>0</td>\n",
       "      <td>1.0</td>\n",
       "      <td>0.051288</td>\n",
       "      <td>356.4</td>\n",
       "      <td>171.250880</td>\n",
       "      <td>0.015460</td>\n",
       "      <td>0.0</td>\n",
       "      <td>-238.809167</td>\n",
       "      <td>10.814269</td>\n",
       "      <td>-49.830198</td>\n",
       "      <td>-79.445936</td>\n",
       "    </tr>\n",
       "    <tr>\n",
       "      <th>1</th>\n",
       "      <td>RRT*</td>\n",
       "      <td>1</td>\n",
       "      <td>1.0</td>\n",
       "      <td>0.232562</td>\n",
       "      <td>1051.9</td>\n",
       "      <td>232.617256</td>\n",
       "      <td>0.011747</td>\n",
       "      <td>0.0</td>\n",
       "      <td>-78.073377</td>\n",
       "      <td>27.396946</td>\n",
       "      <td>-94.428761</td>\n",
       "      <td>-36.828376</td>\n",
       "    </tr>\n",
       "    <tr>\n",
       "      <th>2</th>\n",
       "      <td>RRT*</td>\n",
       "      <td>2</td>\n",
       "      <td>1.0</td>\n",
       "      <td>0.098667</td>\n",
       "      <td>656.2</td>\n",
       "      <td>120.078702</td>\n",
       "      <td>0.022574</td>\n",
       "      <td>0.0</td>\n",
       "      <td>-222.589760</td>\n",
       "      <td>25.154648</td>\n",
       "      <td>-85.101627</td>\n",
       "      <td>-78.766324</td>\n",
       "    </tr>\n",
       "    <tr>\n",
       "      <th>0</th>\n",
       "      <td>RRT-Connect</td>\n",
       "      <td>0</td>\n",
       "      <td>1.0</td>\n",
       "      <td>0.005617</td>\n",
       "      <td>82.7</td>\n",
       "      <td>188.456949</td>\n",
       "      <td>0.011243</td>\n",
       "      <td>0.0</td>\n",
       "      <td>62.896568</td>\n",
       "      <td>1.853521</td>\n",
       "      <td>-8.963254</td>\n",
       "      <td>17.447024</td>\n",
       "    </tr>\n",
       "    <tr>\n",
       "      <th>1</th>\n",
       "      <td>RRT-Connect</td>\n",
       "      <td>1</td>\n",
       "      <td>1.0</td>\n",
       "      <td>0.013718</td>\n",
       "      <td>231.9</td>\n",
       "      <td>300.184504</td>\n",
       "      <td>0.007368</td>\n",
       "      <td>0.0</td>\n",
       "      <td>89.495811</td>\n",
       "      <td>6.308276</td>\n",
       "      <td>-21.947595</td>\n",
       "      <td>23.720880</td>\n",
       "    </tr>\n",
       "    <tr>\n",
       "      <th>2</th>\n",
       "      <td>RRT-Connect</td>\n",
       "      <td>2</td>\n",
       "      <td>1.0</td>\n",
       "      <td>0.012757</td>\n",
       "      <td>211.3</td>\n",
       "      <td>152.873662</td>\n",
       "      <td>0.015972</td>\n",
       "      <td>0.0</td>\n",
       "      <td>58.291941</td>\n",
       "      <td>4.713469</td>\n",
       "      <td>-30.971093</td>\n",
       "      <td>12.236058</td>\n",
       "    </tr>\n",
       "    <tr>\n",
       "      <th>0</th>\n",
       "      <td>RRT*-Connect</td>\n",
       "      <td>0</td>\n",
       "      <td>1.0</td>\n",
       "      <td>0.011334</td>\n",
       "      <td>134.2</td>\n",
       "      <td>175.092275</td>\n",
       "      <td>0.016345</td>\n",
       "      <td>0.0</td>\n",
       "      <td>25.127694</td>\n",
       "      <td>8.813709</td>\n",
       "      <td>-58.416539</td>\n",
       "      <td>-2.382258</td>\n",
       "    </tr>\n",
       "    <tr>\n",
       "      <th>1</th>\n",
       "      <td>RRT*-Connect</td>\n",
       "      <td>1</td>\n",
       "      <td>1.0</td>\n",
       "      <td>0.024798</td>\n",
       "      <td>278.0</td>\n",
       "      <td>264.965219</td>\n",
       "      <td>0.010741</td>\n",
       "      <td>0.0</td>\n",
       "      <td>81.012058</td>\n",
       "      <td>17.300701</td>\n",
       "      <td>-77.777702</td>\n",
       "      <td>12.208217</td>\n",
       "    </tr>\n",
       "    <tr>\n",
       "      <th>2</th>\n",
       "      <td>RRT*-Connect</td>\n",
       "      <td>2</td>\n",
       "      <td>1.0</td>\n",
       "      <td>0.026679</td>\n",
       "      <td>300.4</td>\n",
       "      <td>136.175748</td>\n",
       "      <td>0.020770</td>\n",
       "      <td>0.0</td>\n",
       "      <td>12.772243</td>\n",
       "      <td>15.121320</td>\n",
       "      <td>-70.307977</td>\n",
       "      <td>-7.205658</td>\n",
       "    </tr>\n",
       "    <tr>\n",
       "      <th>0</th>\n",
       "      <td>BI-RRT</td>\n",
       "      <td>0</td>\n",
       "      <td>1.0</td>\n",
       "      <td>0.002944</td>\n",
       "      <td>72.1</td>\n",
       "      <td>171.611308</td>\n",
       "      <td>0.010956</td>\n",
       "      <td>0.0</td>\n",
       "      <td>80.554781</td>\n",
       "      <td>10.626561</td>\n",
       "      <td>-6.178560</td>\n",
       "      <td>25.056034</td>\n",
       "    </tr>\n",
       "    <tr>\n",
       "      <th>1</th>\n",
       "      <td>BI-RRT</td>\n",
       "      <td>1</td>\n",
       "      <td>1.0</td>\n",
       "      <td>0.007147</td>\n",
       "      <td>195.2</td>\n",
       "      <td>301.964521</td>\n",
       "      <td>0.006454</td>\n",
       "      <td>0.0</td>\n",
       "      <td>94.527586</td>\n",
       "      <td>5.752708</td>\n",
       "      <td>-6.825902</td>\n",
       "      <td>28.143637</td>\n",
       "    </tr>\n",
       "    <tr>\n",
       "      <th>2</th>\n",
       "      <td>BI-RRT</td>\n",
       "      <td>2</td>\n",
       "      <td>0.9</td>\n",
       "      <td>0.004678</td>\n",
       "      <td>111.6</td>\n",
       "      <td>154.323470</td>\n",
       "      <td>0.013203</td>\n",
       "      <td>-10.0</td>\n",
       "      <td>84.704410</td>\n",
       "      <td>3.809800</td>\n",
       "      <td>-8.260907</td>\n",
       "      <td>-25.478898</td>\n",
       "    </tr>\n",
       "    <tr>\n",
       "      <th>0</th>\n",
       "      <td>BI-RRT*</td>\n",
       "      <td>0</td>\n",
       "      <td>1.0</td>\n",
       "      <td>0.007612</td>\n",
       "      <td>78.4</td>\n",
       "      <td>162.142896</td>\n",
       "      <td>0.026641</td>\n",
       "      <td>0.0</td>\n",
       "      <td>49.717522</td>\n",
       "      <td>15.557615</td>\n",
       "      <td>-158.198498</td>\n",
       "      <td>-13.612920</td>\n",
       "    </tr>\n",
       "    <tr>\n",
       "      <th>1</th>\n",
       "      <td>BI-RRT*</td>\n",
       "      <td>1</td>\n",
       "      <td>0.9</td>\n",
       "      <td>0.013920</td>\n",
       "      <td>196.8</td>\n",
       "      <td>226.712777</td>\n",
       "      <td>0.022764</td>\n",
       "      <td>-10.0</td>\n",
       "      <td>89.341313</td>\n",
       "      <td>29.239815</td>\n",
       "      <td>-276.786451</td>\n",
       "      <td>-72.706933</td>\n",
       "    </tr>\n",
       "    <tr>\n",
       "      <th>2</th>\n",
       "      <td>BI-RRT*</td>\n",
       "      <td>2</td>\n",
       "      <td>0.9</td>\n",
       "      <td>0.010045</td>\n",
       "      <td>151.6</td>\n",
       "      <td>127.261853</td>\n",
       "      <td>0.036010</td>\n",
       "      <td>-10.0</td>\n",
       "      <td>67.156821</td>\n",
       "      <td>20.677373</td>\n",
       "      <td>-195.276350</td>\n",
       "      <td>-64.772749</td>\n",
       "    </tr>\n",
       "    <tr>\n",
       "      <th>0</th>\n",
       "      <td>Informed-RRT*</td>\n",
       "      <td>0</td>\n",
       "      <td>1.0</td>\n",
       "      <td>4.513843</td>\n",
       "      <td>3051.3</td>\n",
       "      <td>143.935124</td>\n",
       "      <td>0.023407</td>\n",
       "      <td>0.0</td>\n",
       "      <td>-29718.749695</td>\n",
       "      <td>25.040039</td>\n",
       "      <td>-126.852788</td>\n",
       "      <td>-8935.987458</td>\n",
       "    </tr>\n",
       "    <tr>\n",
       "      <th>1</th>\n",
       "      <td>Informed-RRT*</td>\n",
       "      <td>1</td>\n",
       "      <td>1.0</td>\n",
       "      <td>4.673866</td>\n",
       "      <td>4194.7</td>\n",
       "      <td>216.174902</td>\n",
       "      <td>0.019352</td>\n",
       "      <td>0.0</td>\n",
       "      <td>-3478.785369</td>\n",
       "      <td>32.528831</td>\n",
       "      <td>-220.305315</td>\n",
       "      <td>-1081.190907</td>\n",
       "    </tr>\n",
       "    <tr>\n",
       "      <th>2</th>\n",
       "      <td>Informed-RRT*</td>\n",
       "      <td>2</td>\n",
       "      <td>1.0</td>\n",
       "      <td>5.638931</td>\n",
       "      <td>4629.5</td>\n",
       "      <td>110.127019</td>\n",
       "      <td>0.041709</td>\n",
       "      <td>0.0</td>\n",
       "      <td>-18336.455576</td>\n",
       "      <td>31.357557</td>\n",
       "      <td>-242.006801</td>\n",
       "      <td>-5543.066522</td>\n",
       "    </tr>\n",
       "    <tr>\n",
       "      <th>0</th>\n",
       "      <td>Improved-RRT*-Connect</td>\n",
       "      <td>0</td>\n",
       "      <td>1.0</td>\n",
       "      <td>1.216131</td>\n",
       "      <td>1786.1</td>\n",
       "      <td>153.087134</td>\n",
       "      <td>0.015737</td>\n",
       "      <td>0.0</td>\n",
       "      <td>-7933.839226</td>\n",
       "      <td>20.273764</td>\n",
       "      <td>-52.523778</td>\n",
       "      <td>-2386.601771</td>\n",
       "    </tr>\n",
       "    <tr>\n",
       "      <th>1</th>\n",
       "      <td>Improved-RRT*-Connect</td>\n",
       "      <td>1</td>\n",
       "      <td>1.0</td>\n",
       "      <td>1.955550</td>\n",
       "      <td>3078.3</td>\n",
       "      <td>227.961813</td>\n",
       "      <td>0.011695</td>\n",
       "      <td>0.0</td>\n",
       "      <td>-1397.366956</td>\n",
       "      <td>28.849974</td>\n",
       "      <td>-93.568728</td>\n",
       "      <td>-432.153838</td>\n",
       "    </tr>\n",
       "    <tr>\n",
       "      <th>2</th>\n",
       "      <td>Improved-RRT*-Connect</td>\n",
       "      <td>2</td>\n",
       "      <td>1.0</td>\n",
       "      <td>1.717067</td>\n",
       "      <td>2877.2</td>\n",
       "      <td>117.540547</td>\n",
       "      <td>0.019813</td>\n",
       "      <td>0.0</td>\n",
       "      <td>-5513.942597</td>\n",
       "      <td>26.736687</td>\n",
       "      <td>-62.466676</td>\n",
       "      <td>-1661.328777</td>\n",
       "    </tr>\n",
       "  </tbody>\n",
       "</table>\n",
       "</div>"
      ],
      "text/plain": [
       "                alg_name  map_id  success_rate  time_avg  num_nodes_avg  \\\n",
       "0                    RRT       0           1.0  0.015138          248.7   \n",
       "1                    RRT       1           1.0  0.130599         1099.1   \n",
       "2                    RRT       2           1.0  0.030586          499.6   \n",
       "0                   RRT*       0           1.0  0.051288          356.4   \n",
       "1                   RRT*       1           1.0  0.232562         1051.9   \n",
       "2                   RRT*       2           1.0  0.098667          656.2   \n",
       "0            RRT-Connect       0           1.0  0.005617           82.7   \n",
       "1            RRT-Connect       1           1.0  0.013718          231.9   \n",
       "2            RRT-Connect       2           1.0  0.012757          211.3   \n",
       "0           RRT*-Connect       0           1.0  0.011334          134.2   \n",
       "1           RRT*-Connect       1           1.0  0.024798          278.0   \n",
       "2           RRT*-Connect       2           1.0  0.026679          300.4   \n",
       "0                 BI-RRT       0           1.0  0.002944           72.1   \n",
       "1                 BI-RRT       1           1.0  0.007147          195.2   \n",
       "2                 BI-RRT       2           0.9  0.004678          111.6   \n",
       "0                BI-RRT*       0           1.0  0.007612           78.4   \n",
       "1                BI-RRT*       1           0.9  0.013920          196.8   \n",
       "2                BI-RRT*       2           0.9  0.010045          151.6   \n",
       "0          Informed-RRT*       0           1.0  4.513843         3051.3   \n",
       "1          Informed-RRT*       1           1.0  4.673866         4194.7   \n",
       "2          Informed-RRT*       2           1.0  5.638931         4629.5   \n",
       "0  Improved-RRT*-Connect       0           1.0  1.216131         1786.1   \n",
       "1  Improved-RRT*-Connect       1           1.0  1.955550         3078.3   \n",
       "2  Improved-RRT*-Connect       2           1.0  1.717067         2877.2   \n",
       "\n",
       "   path_length_avg  smoothness_avg  success_improvement  time_improvement  \\\n",
       "0       192.016007        0.010318                  0.0         -0.000000   \n",
       "1       320.395966        0.006042                  0.0         -0.000000   \n",
       "2       160.435752        0.012195                  0.0         -0.000000   \n",
       "0       171.250880        0.015460                  0.0       -238.809167   \n",
       "1       232.617256        0.011747                  0.0        -78.073377   \n",
       "2       120.078702        0.022574                  0.0       -222.589760   \n",
       "0       188.456949        0.011243                  0.0         62.896568   \n",
       "1       300.184504        0.007368                  0.0         89.495811   \n",
       "2       152.873662        0.015972                  0.0         58.291941   \n",
       "0       175.092275        0.016345                  0.0         25.127694   \n",
       "1       264.965219        0.010741                  0.0         81.012058   \n",
       "2       136.175748        0.020770                  0.0         12.772243   \n",
       "0       171.611308        0.010956                  0.0         80.554781   \n",
       "1       301.964521        0.006454                  0.0         94.527586   \n",
       "2       154.323470        0.013203                -10.0         84.704410   \n",
       "0       162.142896        0.026641                  0.0         49.717522   \n",
       "1       226.712777        0.022764                -10.0         89.341313   \n",
       "2       127.261853        0.036010                -10.0         67.156821   \n",
       "0       143.935124        0.023407                  0.0     -29718.749695   \n",
       "1       216.174902        0.019352                  0.0      -3478.785369   \n",
       "2       110.127019        0.041709                  0.0     -18336.455576   \n",
       "0       153.087134        0.015737                  0.0      -7933.839226   \n",
       "1       227.961813        0.011695                  0.0      -1397.366956   \n",
       "2       117.540547        0.019813                  0.0      -5513.942597   \n",
       "\n",
       "   length_improvement  smoothness_improvement  objective_score  \n",
       "0           -0.000000               -0.000000         0.000000  \n",
       "1           -0.000000               -0.000000         0.000000  \n",
       "2           -0.000000               -0.000000         0.000000  \n",
       "0           10.814269              -49.830198       -79.445936  \n",
       "1           27.396946              -94.428761       -36.828376  \n",
       "2           25.154648              -85.101627       -78.766324  \n",
       "0            1.853521               -8.963254        17.447024  \n",
       "1            6.308276              -21.947595        23.720880  \n",
       "2            4.713469              -30.971093        12.236058  \n",
       "0            8.813709              -58.416539        -2.382258  \n",
       "1           17.300701              -77.777702        12.208217  \n",
       "2           15.121320              -70.307977        -7.205658  \n",
       "0           10.626561               -6.178560        25.056034  \n",
       "1            5.752708               -6.825902        28.143637  \n",
       "2            3.809800               -8.260907       -25.478898  \n",
       "0           15.557615             -158.198498       -13.612920  \n",
       "1           29.239815             -276.786451       -72.706933  \n",
       "2           20.677373             -195.276350       -64.772749  \n",
       "0           25.040039             -126.852788     -8935.987458  \n",
       "1           32.528831             -220.305315     -1081.190907  \n",
       "2           31.357557             -242.006801     -5543.066522  \n",
       "0           20.273764              -52.523778     -2386.601771  \n",
       "1           28.849974              -93.568728      -432.153838  \n",
       "2           26.736687              -62.466676     -1661.328777  "
      ]
     },
     "execution_count": 33,
     "metadata": {},
     "output_type": "execute_result"
    }
   ],
   "source": [
    "maps = [multi_obs_map, maze_map, narrow_map]\n",
    "benchmarker = MultiMapBenchmarker(maps=maps, iter=10)\n",
    "\n",
    "total_df = pd.DataFrame()\n",
    "\n",
    "for method in classic_method:\n",
    "    code_string = method['code']\n",
    "    namedf = pd.DataFrame()\n",
    "    namedf['alg_name'] = [method['algorithm']]* len(maps)\n",
    "    with warnings.catch_warnings():\n",
    "        warnings.simplefilter(\"ignore\")\n",
    "        planning_module = types.ModuleType(\"planning_module\")\n",
    "        exec(import_string+code_string, planning_module.__dict__)\n",
    "        sys.modules[planning_module.__name__] = planning_module\n",
    "        planner = planning_module.Planner(max_iter=5000, step_size=5.0)\n",
    "        res, avg_rest = benchmarker.run(planner.plan)\n",
    "        if method['algorithm'] == 'RRT':\n",
    "            ref_avg = avg_rest\n",
    "            \n",
    "        imp_res = MultiMapBenchmarker.get_improvement(ref_avg, avg_rest)\n",
    "\n",
    "        res_df = pd.concat([namedf, avg_rest, imp_res], axis=1)\n",
    "        total_df = pd.concat([total_df, res_df], axis=0)\n",
    "\n",
    "total_df\n"
   ]
  },
  {
   "cell_type": "code",
   "execution_count": 34,
   "id": "8a8f7556",
   "metadata": {},
   "outputs": [
    {
     "data": {
      "text/html": [
       "<div>\n",
       "<style scoped>\n",
       "    .dataframe tbody tr th:only-of-type {\n",
       "        vertical-align: middle;\n",
       "    }\n",
       "\n",
       "    .dataframe tbody tr th {\n",
       "        vertical-align: top;\n",
       "    }\n",
       "\n",
       "    .dataframe thead th {\n",
       "        text-align: right;\n",
       "    }\n",
       "</style>\n",
       "<table border=\"1\" class=\"dataframe\">\n",
       "  <thead>\n",
       "    <tr style=\"text-align: right;\">\n",
       "      <th></th>\n",
       "      <th>map_id</th>\n",
       "      <th>success_rate</th>\n",
       "      <th>time_avg</th>\n",
       "      <th>num_nodes_avg</th>\n",
       "      <th>path_length_avg</th>\n",
       "      <th>smoothness_avg</th>\n",
       "      <th>success_improvement</th>\n",
       "      <th>time_improvement</th>\n",
       "      <th>length_improvement</th>\n",
       "      <th>smoothness_improvement</th>\n",
       "      <th>objective_score</th>\n",
       "    </tr>\n",
       "    <tr>\n",
       "      <th>alg_name</th>\n",
       "      <th></th>\n",
       "      <th></th>\n",
       "      <th></th>\n",
       "      <th></th>\n",
       "      <th></th>\n",
       "      <th></th>\n",
       "      <th></th>\n",
       "      <th></th>\n",
       "      <th></th>\n",
       "      <th></th>\n",
       "      <th></th>\n",
       "    </tr>\n",
       "  </thead>\n",
       "  <tbody>\n",
       "    <tr>\n",
       "      <th>BI-RRT</th>\n",
       "      <td>1.0</td>\n",
       "      <td>0.966667</td>\n",
       "      <td>0.004923</td>\n",
       "      <td>126.300000</td>\n",
       "      <td>209.299766</td>\n",
       "      <td>0.010204</td>\n",
       "      <td>-3.333333</td>\n",
       "      <td>86.595593</td>\n",
       "      <td>6.729690</td>\n",
       "      <td>-7.088457</td>\n",
       "      <td>9.240258</td>\n",
       "    </tr>\n",
       "    <tr>\n",
       "      <th>BI-RRT*</th>\n",
       "      <td>1.0</td>\n",
       "      <td>0.933333</td>\n",
       "      <td>0.010526</td>\n",
       "      <td>142.266667</td>\n",
       "      <td>172.039175</td>\n",
       "      <td>0.028472</td>\n",
       "      <td>-6.666667</td>\n",
       "      <td>68.738552</td>\n",
       "      <td>21.824934</td>\n",
       "      <td>-210.087100</td>\n",
       "      <td>-50.364201</td>\n",
       "    </tr>\n",
       "    <tr>\n",
       "      <th>Improved-RRT*-Connect</th>\n",
       "      <td>1.0</td>\n",
       "      <td>1.000000</td>\n",
       "      <td>1.629583</td>\n",
       "      <td>2580.533333</td>\n",
       "      <td>166.196498</td>\n",
       "      <td>0.015748</td>\n",
       "      <td>0.000000</td>\n",
       "      <td>-4948.382927</td>\n",
       "      <td>25.286808</td>\n",
       "      <td>-69.519727</td>\n",
       "      <td>-1493.361462</td>\n",
       "    </tr>\n",
       "    <tr>\n",
       "      <th>Informed-RRT*</th>\n",
       "      <td>1.0</td>\n",
       "      <td>1.000000</td>\n",
       "      <td>4.942214</td>\n",
       "      <td>3958.500000</td>\n",
       "      <td>156.745682</td>\n",
       "      <td>0.028156</td>\n",
       "      <td>0.000000</td>\n",
       "      <td>-17177.996880</td>\n",
       "      <td>29.642142</td>\n",
       "      <td>-196.388301</td>\n",
       "      <td>-5186.748296</td>\n",
       "    </tr>\n",
       "    <tr>\n",
       "      <th>RRT</th>\n",
       "      <td>1.0</td>\n",
       "      <td>1.000000</td>\n",
       "      <td>0.058774</td>\n",
       "      <td>615.800000</td>\n",
       "      <td>224.282575</td>\n",
       "      <td>0.009518</td>\n",
       "      <td>0.000000</td>\n",
       "      <td>0.000000</td>\n",
       "      <td>0.000000</td>\n",
       "      <td>0.000000</td>\n",
       "      <td>0.000000</td>\n",
       "    </tr>\n",
       "    <tr>\n",
       "      <th>RRT*</th>\n",
       "      <td>1.0</td>\n",
       "      <td>1.000000</td>\n",
       "      <td>0.127506</td>\n",
       "      <td>688.166667</td>\n",
       "      <td>174.648946</td>\n",
       "      <td>0.016593</td>\n",
       "      <td>0.000000</td>\n",
       "      <td>-179.824101</td>\n",
       "      <td>21.121954</td>\n",
       "      <td>-76.453529</td>\n",
       "      <td>-65.013545</td>\n",
       "    </tr>\n",
       "    <tr>\n",
       "      <th>RRT*-Connect</th>\n",
       "      <td>1.0</td>\n",
       "      <td>1.000000</td>\n",
       "      <td>0.020937</td>\n",
       "      <td>237.533333</td>\n",
       "      <td>192.077747</td>\n",
       "      <td>0.015952</td>\n",
       "      <td>0.000000</td>\n",
       "      <td>39.637332</td>\n",
       "      <td>13.745243</td>\n",
       "      <td>-68.834073</td>\n",
       "      <td>0.873434</td>\n",
       "    </tr>\n",
       "    <tr>\n",
       "      <th>RRT-Connect</th>\n",
       "      <td>1.0</td>\n",
       "      <td>1.000000</td>\n",
       "      <td>0.010697</td>\n",
       "      <td>175.300000</td>\n",
       "      <td>213.838372</td>\n",
       "      <td>0.011528</td>\n",
       "      <td>0.000000</td>\n",
       "      <td>70.228107</td>\n",
       "      <td>4.291755</td>\n",
       "      <td>-20.627314</td>\n",
       "      <td>17.801320</td>\n",
       "    </tr>\n",
       "  </tbody>\n",
       "</table>\n",
       "</div>"
      ],
      "text/plain": [
       "                       map_id  success_rate  time_avg  num_nodes_avg  \\\n",
       "alg_name                                                               \n",
       "BI-RRT                    1.0      0.966667  0.004923     126.300000   \n",
       "BI-RRT*                   1.0      0.933333  0.010526     142.266667   \n",
       "Improved-RRT*-Connect     1.0      1.000000  1.629583    2580.533333   \n",
       "Informed-RRT*             1.0      1.000000  4.942214    3958.500000   \n",
       "RRT                       1.0      1.000000  0.058774     615.800000   \n",
       "RRT*                      1.0      1.000000  0.127506     688.166667   \n",
       "RRT*-Connect              1.0      1.000000  0.020937     237.533333   \n",
       "RRT-Connect               1.0      1.000000  0.010697     175.300000   \n",
       "\n",
       "                       path_length_avg  smoothness_avg  success_improvement  \\\n",
       "alg_name                                                                      \n",
       "BI-RRT                      209.299766        0.010204            -3.333333   \n",
       "BI-RRT*                     172.039175        0.028472            -6.666667   \n",
       "Improved-RRT*-Connect       166.196498        0.015748             0.000000   \n",
       "Informed-RRT*               156.745682        0.028156             0.000000   \n",
       "RRT                         224.282575        0.009518             0.000000   \n",
       "RRT*                        174.648946        0.016593             0.000000   \n",
       "RRT*-Connect                192.077747        0.015952             0.000000   \n",
       "RRT-Connect                 213.838372        0.011528             0.000000   \n",
       "\n",
       "                       time_improvement  length_improvement  \\\n",
       "alg_name                                                      \n",
       "BI-RRT                        86.595593            6.729690   \n",
       "BI-RRT*                       68.738552           21.824934   \n",
       "Improved-RRT*-Connect      -4948.382927           25.286808   \n",
       "Informed-RRT*             -17177.996880           29.642142   \n",
       "RRT                            0.000000            0.000000   \n",
       "RRT*                        -179.824101           21.121954   \n",
       "RRT*-Connect                  39.637332           13.745243   \n",
       "RRT-Connect                   70.228107            4.291755   \n",
       "\n",
       "                       smoothness_improvement  objective_score  \n",
       "alg_name                                                        \n",
       "BI-RRT                              -7.088457         9.240258  \n",
       "BI-RRT*                           -210.087100       -50.364201  \n",
       "Improved-RRT*-Connect              -69.519727     -1493.361462  \n",
       "Informed-RRT*                     -196.388301     -5186.748296  \n",
       "RRT                                  0.000000         0.000000  \n",
       "RRT*                               -76.453529       -65.013545  \n",
       "RRT*-Connect                       -68.834073         0.873434  \n",
       "RRT-Connect                        -20.627314        17.801320  "
      ]
     },
     "execution_count": 34,
     "metadata": {},
     "output_type": "execute_result"
    }
   ],
   "source": [
    "grouped_avg = total_df.groupby('alg_name').mean()\n",
    "a = pd.DataFrame(grouped_avg)\n",
    "a"
   ]
  },
  {
   "cell_type": "code",
   "execution_count": 35,
   "id": "14d7a53c",
   "metadata": {},
   "outputs": [],
   "source": [
    "pop_path = \"./path_planning/mobj/results/pops/population_generation_9.json\"\n",
    "\n",
    "with open(pop_path, \"r\") as f:\n",
    "    data = json.load(f)\n",
    "    filtered_sorted_algorithms = sorted(\n",
    "    [alg for alg in data if alg.get('operator') != 'initial'],\n",
    "    key=lambda x: x.get('objective', float('inf'))\n",
    "    )"
   ]
  },
  {
   "cell_type": "code",
   "execution_count": 36,
   "id": "d8d1c032",
   "metadata": {},
   "outputs": [
    {
     "data": {
      "text/plain": [
       "19"
      ]
     },
     "execution_count": 36,
     "metadata": {},
     "output_type": "execute_result"
    }
   ],
   "source": [
    "len(filtered_sorted_algorithms)"
   ]
  },
  {
   "cell_type": "code",
   "execution_count": 37,
   "id": "0eb54295",
   "metadata": {},
   "outputs": [
    {
     "name": "stdout",
     "output_type": "stream",
     "text": [
      "Map 1\n",
      "Iteration 1: Time taken: 0.0139 seconds, Success: True\n",
      "Iteration 2: Time taken: 0.0045 seconds, Success: True\n",
      "Iteration 3: Time taken: 0.0025 seconds, Success: True\n",
      "Iteration 4: Time taken: 0.0036 seconds, Success: True\n",
      "Iteration 5: Time taken: 0.0035 seconds, Success: True\n",
      "Iteration 6: Time taken: 0.0062 seconds, Success: True\n",
      "Iteration 7: Time taken: 0.0023 seconds, Success: True\n",
      "Iteration 8: Time taken: 0.0071 seconds, Success: True\n",
      "Iteration 9: Time taken: 0.0030 seconds, Success: True\n",
      "Iteration 10: Time taken: 0.0034 seconds, Success: True\n",
      "Map 2\n",
      "Iteration 1: Time taken: 0.0238 seconds, Success: True\n",
      "Iteration 2: Time taken: 0.0096 seconds, Success: True\n",
      "Iteration 3: Time taken: 0.0065 seconds, Success: True\n",
      "Iteration 4: Time taken: 0.0175 seconds, Success: True\n",
      "Iteration 5: Time taken: 0.0153 seconds, Success: True\n",
      "Iteration 6: Time taken: 0.0093 seconds, Success: True\n",
      "Iteration 7: Time taken: 0.0076 seconds, Success: True\n",
      "Iteration 8: Time taken: 0.0064 seconds, Success: True\n",
      "Iteration 9: Time taken: 0.0089 seconds, Success: True\n",
      "Iteration 10: Time taken: 0.0131 seconds, Success: True\n",
      "Map 3\n",
      "Iteration 1: Time taken: 0.0037 seconds, Success: True\n",
      "Iteration 2: Time taken: 0.0030 seconds, Success: True\n",
      "Iteration 3: Time taken: 0.0078 seconds, Success: True\n",
      "Iteration 4: Time taken: 0.0028 seconds, Success: True\n",
      "Iteration 5: Time taken: 0.0039 seconds, Success: True\n",
      "Iteration 6: Time taken: 0.0035 seconds, Success: True\n",
      "Iteration 7: Time taken: 0.0080 seconds, Success: True\n",
      "Iteration 8: Time taken: 0.0106 seconds, Success: True\n",
      "Iteration 9: Time taken: 0.0041 seconds, Success: True\n",
      "Iteration 10: Time taken: 0.0461 seconds, Success: True\n",
      "Total time taken for all maps: 0.2873 seconds\n",
      "Map 1\n",
      "Iteration 1: Time taken: 0.0053 seconds, Success: True\n",
      "Iteration 2: Time taken: 0.0052 seconds, Success: True\n",
      "Iteration 3: Time taken: 0.0048 seconds, Success: True\n",
      "Iteration 4: Time taken: 0.0043 seconds, Success: True\n",
      "Iteration 5: Time taken: 0.0068 seconds, Success: True\n",
      "Iteration 6: Time taken: 0.0073 seconds, Success: True\n",
      "Iteration 7: Time taken: 0.0037 seconds, Success: True\n",
      "Iteration 8: Time taken: 0.0032 seconds, Success: True\n",
      "Iteration 9: Time taken: 0.0029 seconds, Success: True\n",
      "Iteration 10: Time taken: 0.0069 seconds, Success: True\n",
      "Map 2\n",
      "Iteration 1: Time taken: 0.0202 seconds, Success: True\n",
      "Iteration 2: Time taken: 0.0234 seconds, Success: True\n",
      "Iteration 3: Time taken: 0.0205 seconds, Success: True\n",
      "Iteration 4: Time taken: 0.0159 seconds, Success: True\n",
      "Iteration 5: Time taken: 0.0181 seconds, Success: True\n",
      "Iteration 6: Time taken: 0.0398 seconds, Success: True\n",
      "Iteration 7: Time taken: 0.0110 seconds, Success: True\n",
      "Iteration 8: Time taken: 0.0172 seconds, Success: True\n",
      "Iteration 9: Time taken: 0.0113 seconds, Success: True\n",
      "Iteration 10: Time taken: 0.0164 seconds, Success: True\n",
      "Map 3\n",
      "Iteration 1: Time taken: 0.0040 seconds, Success: True\n",
      "Iteration 2: Time taken: 0.0026 seconds, Success: True\n",
      "Iteration 3: Time taken: 0.0025 seconds, Success: True\n",
      "Iteration 4: Time taken: 0.0612 seconds, Success: True\n",
      "Iteration 5: Time taken: 0.0219 seconds, Success: True\n",
      "Iteration 6: Time taken: 0.0140 seconds, Success: True\n",
      "Iteration 7: Time taken: 0.0034 seconds, Success: True\n",
      "Iteration 8: Time taken: 0.0064 seconds, Success: True\n",
      "Iteration 9: Time taken: 0.0111 seconds, Success: True\n",
      "Iteration 10: Time taken: 0.0104 seconds, Success: True\n",
      "Total time taken for all maps: 0.4018 seconds\n",
      "Map 1\n",
      "Iteration 1: Time taken: 0.0024 seconds, Success: True\n",
      "Iteration 2: Time taken: 0.0106 seconds, Success: True\n",
      "Iteration 3: Time taken: 0.0018 seconds, Success: True\n",
      "Iteration 4: Time taken: 0.0041 seconds, Success: True\n",
      "Iteration 5: Time taken: 0.0037 seconds, Success: True\n",
      "Iteration 6: Time taken: 0.0040 seconds, Success: True\n",
      "Iteration 7: Time taken: 0.0017 seconds, Success: True\n",
      "Iteration 8: Time taken: 0.0026 seconds, Success: True\n",
      "Iteration 9: Time taken: 0.0030 seconds, Success: True\n",
      "Iteration 10: Time taken: 0.0020 seconds, Success: True\n",
      "Map 2\n",
      "Iteration 1: Time taken: 0.0611 seconds, Success: True\n",
      "Iteration 2: Time taken: 0.0209 seconds, Success: True\n",
      "Iteration 3: Time taken: 0.0124 seconds, Success: True\n",
      "Iteration 4: Time taken: 0.0284 seconds, Success: True\n",
      "Iteration 5: Time taken: 0.0110 seconds, Success: True\n",
      "Iteration 6: Time taken: 0.0049 seconds, Success: True\n",
      "Iteration 7: Time taken: 0.0211 seconds, Success: True\n",
      "Iteration 8: Time taken: 0.0323 seconds, Success: True\n",
      "Iteration 9: Time taken: 0.0081 seconds, Success: True\n",
      "Iteration 10: Time taken: 0.0176 seconds, Success: True\n",
      "Map 3\n",
      "Iteration 1: Time taken: 0.0135 seconds, Success: True\n",
      "Iteration 2: Time taken: 0.0522 seconds, Success: True\n",
      "Iteration 3: Time taken: 0.0590 seconds, Success: True\n",
      "Iteration 4: Time taken: 0.0042 seconds, Success: True\n",
      "Iteration 5: Time taken: 0.0028 seconds, Success: True\n",
      "Iteration 6: Time taken: 0.0119 seconds, Success: True\n",
      "Iteration 7: Time taken: 0.0126 seconds, Success: True\n",
      "Iteration 8: Time taken: 0.0053 seconds, Success: True\n",
      "Iteration 9: Time taken: 0.0269 seconds, Success: True\n",
      "Iteration 10: Time taken: 0.1093 seconds, Success: True\n",
      "Total time taken for all maps: 0.5745 seconds\n",
      "Map 1\n",
      "Iteration 1: Time taken: 0.0036 seconds, Success: True\n",
      "Iteration 2: Time taken: 0.0055 seconds, Success: True\n",
      "Iteration 3: Time taken: 0.0068 seconds, Success: True\n",
      "Iteration 4: Time taken: 0.0033 seconds, Success: True\n",
      "Iteration 5: Time taken: 0.0044 seconds, Success: True\n",
      "Iteration 6: Time taken: 0.0117 seconds, Success: True\n",
      "Iteration 7: Time taken: 0.0328 seconds, Success: True\n",
      "Iteration 8: Time taken: 0.0037 seconds, Success: True\n",
      "Iteration 9: Time taken: 0.0047 seconds, Success: True\n",
      "Iteration 10: Time taken: 0.0061 seconds, Success: True\n",
      "Map 2\n",
      "Iteration 1: Time taken: 0.0163 seconds, Success: True\n",
      "Iteration 2: Time taken: 0.0090 seconds, Success: True\n",
      "Iteration 3: Time taken: 0.0242 seconds, Success: True\n",
      "Iteration 4: Time taken: 0.0099 seconds, Success: True\n",
      "Iteration 5: Time taken: 0.0156 seconds, Success: True\n",
      "Iteration 6: Time taken: 0.0115 seconds, Success: True\n",
      "Iteration 7: Time taken: 0.0127 seconds, Success: True\n",
      "Iteration 8: Time taken: 0.0173 seconds, Success: True\n",
      "Iteration 9: Time taken: 0.0186 seconds, Success: True\n",
      "Iteration 10: Time taken: 0.0139 seconds, Success: True\n",
      "Map 3\n",
      "Iteration 1: Time taken: 0.0127 seconds, Success: True\n",
      "Iteration 2: Time taken: 0.0156 seconds, Success: True\n",
      "Iteration 3: Time taken: 0.0143 seconds, Success: True\n",
      "Iteration 4: Time taken: 0.0034 seconds, Success: True\n",
      "Iteration 5: Time taken: 0.0115 seconds, Success: True\n",
      "Iteration 6: Time taken: 0.0077 seconds, Success: True\n",
      "Iteration 7: Time taken: 0.0055 seconds, Success: True\n",
      "Iteration 8: Time taken: 0.0043 seconds, Success: True\n",
      "Iteration 9: Time taken: 0.0125 seconds, Success: True\n",
      "Iteration 10: Time taken: 0.0145 seconds, Success: True\n",
      "Total time taken for all maps: 0.3461 seconds\n",
      "Map 1\n",
      "Iteration 1: Time taken: 0.0034 seconds, Success: True\n",
      "Iteration 2: Time taken: 0.0080 seconds, Success: True\n",
      "Iteration 3: Time taken: 0.0052 seconds, Success: True\n",
      "Iteration 4: Time taken: 0.0048 seconds, Success: True\n",
      "Iteration 5: Time taken: 0.0059 seconds, Success: True\n",
      "Iteration 6: Time taken: 0.0027 seconds, Success: True\n",
      "Iteration 7: Time taken: 0.0026 seconds, Success: True\n",
      "Iteration 8: Time taken: 0.0053 seconds, Success: True\n",
      "Iteration 9: Time taken: 0.0074 seconds, Success: True\n",
      "Iteration 10: Time taken: 0.0028 seconds, Success: True\n",
      "Map 2\n",
      "Iteration 1: Time taken: 0.0161 seconds, Success: True\n",
      "Iteration 2: Time taken: 0.0062 seconds, Success: True\n",
      "Iteration 3: Time taken: 0.0103 seconds, Success: True\n",
      "Iteration 4: Time taken: 0.0135 seconds, Success: True\n",
      "Iteration 5: Time taken: 0.0150 seconds, Success: True\n",
      "Iteration 6: Time taken: 0.0130 seconds, Success: True\n",
      "Iteration 7: Time taken: 0.0129 seconds, Success: True\n",
      "Iteration 8: Time taken: 0.0129 seconds, Success: True\n",
      "Iteration 9: Time taken: 0.0131 seconds, Success: True\n",
      "Iteration 10: Time taken: 0.0248 seconds, Success: True\n",
      "Map 3\n",
      "Iteration 1: Time taken: 0.0294 seconds, Success: True\n",
      "Iteration 2: Time taken: 0.0070 seconds, Success: True\n",
      "Iteration 3: Time taken: 0.0055 seconds, Success: True\n",
      "Iteration 4: Time taken: 0.0133 seconds, Success: True\n",
      "Iteration 5: Time taken: 0.0079 seconds, Success: True\n",
      "Iteration 6: Time taken: 0.0044 seconds, Success: True\n",
      "Iteration 7: Time taken: 0.0083 seconds, Success: True\n",
      "Iteration 8: Time taken: 0.0249 seconds, Success: True\n",
      "Iteration 9: Time taken: 0.0027 seconds, Success: True\n",
      "Iteration 10: Time taken: 0.0030 seconds, Success: True\n",
      "Total time taken for all maps: 0.3114 seconds\n",
      "Map 1\n",
      "Iteration 1: Time taken: 0.0047 seconds, Success: True\n",
      "Iteration 2: Time taken: 0.0091 seconds, Success: True\n",
      "Iteration 3: Time taken: 0.0025 seconds, Success: True\n",
      "Iteration 4: Time taken: 0.0021 seconds, Success: True\n",
      "Iteration 5: Time taken: 0.0028 seconds, Success: True\n",
      "Iteration 6: Time taken: 0.0030 seconds, Success: True\n",
      "Iteration 7: Time taken: 0.0020 seconds, Success: True\n",
      "Iteration 8: Time taken: 0.0048 seconds, Success: True\n",
      "Iteration 9: Time taken: 0.0027 seconds, Success: True\n",
      "Iteration 10: Time taken: 0.0018 seconds, Success: True\n",
      "Map 2\n",
      "Iteration 1: Time taken: 0.0212 seconds, Success: True\n",
      "Iteration 2: Time taken: 0.0161 seconds, Success: True\n",
      "Iteration 3: Time taken: 0.0103 seconds, Success: True\n",
      "Iteration 4: Time taken: 0.0201 seconds, Success: True\n",
      "Iteration 5: Time taken: 0.0151 seconds, Success: True\n",
      "Iteration 6: Time taken: 0.0174 seconds, Success: True\n",
      "Iteration 7: Time taken: 0.0174 seconds, Success: True\n",
      "Iteration 8: Time taken: 0.0182 seconds, Success: True\n",
      "Iteration 9: Time taken: 0.0140 seconds, Success: True\n",
      "Iteration 10: Time taken: 0.0170 seconds, Success: True\n",
      "Map 3\n",
      "Iteration 1: Time taken: 0.0516 seconds, Success: True\n",
      "Iteration 2: Time taken: 0.0139 seconds, Success: True\n",
      "Iteration 3: Time taken: 0.0058 seconds, Success: True\n",
      "Iteration 4: Time taken: 0.0117 seconds, Success: True\n",
      "Iteration 5: Time taken: 0.0045 seconds, Success: True\n",
      "Iteration 6: Time taken: 0.0542 seconds, Success: True\n",
      "Iteration 7: Time taken: 0.0127 seconds, Success: True\n",
      "Iteration 8: Time taken: 0.0194 seconds, Success: True\n",
      "Iteration 9: Time taken: 0.0028 seconds, Success: True\n",
      "Iteration 10: Time taken: 0.0055 seconds, Success: True\n",
      "Total time taken for all maps: 0.4070 seconds\n",
      "Map 1\n",
      "Iteration 1: Time taken: 0.0045 seconds, Success: True\n",
      "Iteration 2: Time taken: 0.0067 seconds, Success: True\n",
      "Iteration 3: Time taken: 0.0036 seconds, Success: True\n",
      "Iteration 4: Time taken: 0.0050 seconds, Success: True\n",
      "Iteration 5: Time taken: 0.0018 seconds, Success: True\n",
      "Iteration 6: Time taken: 0.0031 seconds, Success: True\n",
      "Iteration 7: Time taken: 0.0021 seconds, Success: True\n",
      "Iteration 8: Time taken: 0.0045 seconds, Success: True\n",
      "Iteration 9: Time taken: 0.0025 seconds, Success: True\n",
      "Iteration 10: Time taken: 0.0070 seconds, Success: True\n",
      "Map 2\n",
      "Iteration 1: Time taken: 0.0186 seconds, Success: True\n",
      "Iteration 2: Time taken: 0.0094 seconds, Success: True\n",
      "Iteration 3: Time taken: 0.0239 seconds, Success: True\n",
      "Iteration 4: Time taken: 0.0137 seconds, Success: True\n",
      "Iteration 5: Time taken: 0.0182 seconds, Success: True\n",
      "Iteration 6: Time taken: 0.0227 seconds, Success: True\n",
      "Iteration 7: Time taken: 0.0159 seconds, Success: True\n",
      "Iteration 8: Time taken: 0.0182 seconds, Success: True\n",
      "Iteration 9: Time taken: 0.0193 seconds, Success: True\n",
      "Iteration 10: Time taken: 0.0207 seconds, Success: True\n",
      "Map 3\n",
      "Iteration 1: Time taken: 0.0065 seconds, Success: True\n",
      "Iteration 2: Time taken: 0.0586 seconds, Success: True\n",
      "Iteration 3: Time taken: 0.0123 seconds, Success: True\n",
      "Iteration 4: Time taken: 0.0414 seconds, Success: True\n",
      "Iteration 5: Time taken: 0.0725 seconds, Success: True\n",
      "Iteration 6: Time taken: 0.0072 seconds, Success: True\n",
      "Iteration 7: Time taken: 0.0091 seconds, Success: True\n",
      "Iteration 8: Time taken: 0.0332 seconds, Success: True\n",
      "Iteration 9: Time taken: 0.0169 seconds, Success: True\n",
      "Iteration 10: Time taken: 0.0063 seconds, Success: True\n",
      "Total time taken for all maps: 0.5050 seconds\n",
      "Map 1\n",
      "Iteration 1: Time taken: 0.0043 seconds, Success: True\n",
      "Iteration 2: Time taken: 0.0022 seconds, Success: True\n",
      "Iteration 3: Time taken: 0.0030 seconds, Success: True\n",
      "Iteration 4: Time taken: 0.0050 seconds, Success: True\n",
      "Iteration 5: Time taken: 0.0024 seconds, Success: True\n",
      "Iteration 6: Time taken: 0.0031 seconds, Success: True\n",
      "Iteration 7: Time taken: 0.0036 seconds, Success: True\n",
      "Iteration 8: Time taken: 0.0029 seconds, Success: True\n",
      "Iteration 9: Time taken: 0.0101 seconds, Success: True\n",
      "Iteration 10: Time taken: 0.0033 seconds, Success: True\n",
      "Map 2\n",
      "Iteration 1: Time taken: 0.0144 seconds, Success: True\n",
      "Iteration 2: Time taken: 0.0195 seconds, Success: False\n",
      "Iteration 3: Time taken: 0.0167 seconds, Success: True\n",
      "Iteration 4: Time taken: 0.0097 seconds, Success: True\n",
      "Iteration 5: Time taken: 0.0129 seconds, Success: True\n",
      "Iteration 6: Time taken: 0.0164 seconds, Success: True\n",
      "Iteration 7: Time taken: 0.0378 seconds, Success: True\n",
      "Iteration 8: Time taken: 0.0267 seconds, Success: True\n",
      "Iteration 9: Time taken: 0.0083 seconds, Success: True\n",
      "Iteration 10: Time taken: 0.0455 seconds, Success: True\n",
      "Map 3\n",
      "Iteration 1: Time taken: 0.0038 seconds, Success: True\n",
      "Iteration 2: Time taken: 0.0113 seconds, Success: True\n",
      "Iteration 3: Time taken: 0.0044 seconds, Success: True\n",
      "Iteration 4: Time taken: 0.0079 seconds, Success: True\n",
      "Iteration 5: Time taken: 0.0095 seconds, Success: True\n",
      "Iteration 6: Time taken: 0.0430 seconds, Success: True\n",
      "Iteration 7: Time taken: 0.0039 seconds, Success: True\n",
      "Iteration 8: Time taken: 0.0053 seconds, Success: True\n",
      "Iteration 9: Time taken: 0.0508 seconds, Success: True\n",
      "Iteration 10: Time taken: 0.0122 seconds, Success: True\n",
      "Total time taken for all maps: 0.4210 seconds\n",
      "Map 1\n",
      "Iteration 1: Time taken: 0.0175 seconds, Success: True\n",
      "Iteration 2: Time taken: 0.0052 seconds, Success: True\n",
      "Iteration 3: Time taken: 0.0038 seconds, Success: True\n",
      "Iteration 4: Time taken: 0.0044 seconds, Success: True\n",
      "Iteration 5: Time taken: 0.0074 seconds, Success: True\n",
      "Iteration 6: Time taken: 0.0045 seconds, Success: True\n",
      "Iteration 7: Time taken: 0.0099 seconds, Success: True\n",
      "Iteration 8: Time taken: 0.0105 seconds, Success: True\n",
      "Iteration 9: Time taken: 0.0057 seconds, Success: True\n",
      "Iteration 10: Time taken: 0.0047 seconds, Success: True\n",
      "Map 2\n",
      "Iteration 1: Time taken: 0.0217 seconds, Success: True\n",
      "Iteration 2: Time taken: 0.0147 seconds, Success: True\n",
      "Iteration 3: Time taken: 0.0180 seconds, Success: True\n",
      "Iteration 4: Time taken: 0.0168 seconds, Success: True\n",
      "Iteration 5: Time taken: 0.0150 seconds, Success: True\n",
      "Iteration 6: Time taken: 0.0420 seconds, Success: True\n",
      "Iteration 7: Time taken: 0.0165 seconds, Success: True\n",
      "Iteration 8: Time taken: 0.0669 seconds, Success: True\n",
      "Iteration 9: Time taken: 0.0136 seconds, Success: True\n",
      "Iteration 10: Time taken: 0.0129 seconds, Success: True\n",
      "Map 3\n",
      "Iteration 1: Time taken: 0.0053 seconds, Success: True\n",
      "Iteration 2: Time taken: 0.0661 seconds, Success: True\n",
      "Iteration 3: Time taken: 0.0314 seconds, Success: True\n",
      "Iteration 4: Time taken: 0.0171 seconds, Success: True\n",
      "Iteration 5: Time taken: 0.0067 seconds, Success: True\n",
      "Iteration 6: Time taken: 0.0861 seconds, Success: True\n",
      "Iteration 7: Time taken: 0.0166 seconds, Success: True\n",
      "Iteration 8: Time taken: 0.0051 seconds, Success: True\n",
      "Iteration 9: Time taken: 0.0056 seconds, Success: True\n",
      "Iteration 10: Time taken: 0.0065 seconds, Success: True\n",
      "Total time taken for all maps: 0.5713 seconds\n",
      "Map 1\n",
      "Iteration 1: Time taken: 0.0056 seconds, Success: True\n",
      "Iteration 2: Time taken: 0.0093 seconds, Success: True\n",
      "Iteration 3: Time taken: 0.0064 seconds, Success: True\n",
      "Iteration 4: Time taken: 0.0047 seconds, Success: True\n",
      "Iteration 5: Time taken: 0.0136 seconds, Success: True\n",
      "Iteration 6: Time taken: 0.0063 seconds, Success: True\n",
      "Iteration 7: Time taken: 0.0052 seconds, Success: True\n",
      "Iteration 8: Time taken: 0.0039 seconds, Success: True\n",
      "Iteration 9: Time taken: 0.0113 seconds, Success: True\n",
      "Iteration 10: Time taken: 0.0052 seconds, Success: True\n",
      "Map 2\n",
      "Iteration 1: Time taken: 0.0372 seconds, Success: True\n",
      "Iteration 2: Time taken: 0.0293 seconds, Success: True\n",
      "Iteration 3: Time taken: 0.0160 seconds, Success: True\n",
      "Iteration 4: Time taken: 0.0220 seconds, Success: True\n",
      "Iteration 5: Time taken: 0.0143 seconds, Success: True\n",
      "Iteration 6: Time taken: 0.0166 seconds, Success: True\n",
      "Iteration 7: Time taken: 0.0232 seconds, Success: True\n",
      "Iteration 8: Time taken: 0.0130 seconds, Success: True\n",
      "Iteration 9: Time taken: 0.0200 seconds, Success: True\n",
      "Iteration 10: Time taken: 0.0292 seconds, Success: True\n",
      "Map 3\n",
      "Iteration 1: Time taken: 0.0782 seconds, Success: True\n",
      "Iteration 2: Time taken: 0.0195 seconds, Success: True\n",
      "Iteration 3: Time taken: 0.0254 seconds, Success: True\n",
      "Iteration 4: Time taken: 0.0050 seconds, Success: True\n",
      "Iteration 5: Time taken: 0.0051 seconds, Success: True\n",
      "Iteration 6: Time taken: 0.0721 seconds, Success: True\n",
      "Iteration 7: Time taken: 0.0078 seconds, Success: True\n",
      "Iteration 8: Time taken: 0.0106 seconds, Success: True\n",
      "Iteration 9: Time taken: 0.0050 seconds, Success: True\n",
      "Iteration 10: Time taken: 0.0065 seconds, Success: True\n",
      "Total time taken for all maps: 0.5397 seconds\n",
      "Map 1\n",
      "Iteration 1: Time taken: 0.0042 seconds, Success: True\n",
      "Iteration 2: Time taken: 0.0141 seconds, Success: True\n",
      "Iteration 3: Time taken: 0.0054 seconds, Success: True\n",
      "Iteration 4: Time taken: 0.0049 seconds, Success: True\n",
      "Iteration 5: Time taken: 0.0046 seconds, Success: True\n",
      "Iteration 6: Time taken: 0.0041 seconds, Success: True\n",
      "Iteration 7: Time taken: 0.0038 seconds, Success: True\n",
      "Iteration 8: Time taken: 0.0098 seconds, Success: True\n",
      "Iteration 9: Time taken: 0.0057 seconds, Success: True\n",
      "Iteration 10: Time taken: 0.0039 seconds, Success: True\n",
      "Map 2\n",
      "Iteration 1: Time taken: 0.0112 seconds, Success: True\n",
      "Iteration 2: Time taken: 0.0170 seconds, Success: True\n",
      "Iteration 3: Time taken: 0.0099 seconds, Success: True\n",
      "Iteration 4: Time taken: 0.0269 seconds, Success: True\n",
      "Iteration 5: Time taken: 0.0426 seconds, Success: True\n",
      "Iteration 6: Time taken: 0.0156 seconds, Success: True\n",
      "Iteration 7: Time taken: 0.0185 seconds, Success: True\n",
      "Iteration 8: Time taken: 0.0337 seconds, Success: True\n",
      "Iteration 9: Time taken: 0.0249 seconds, Success: True\n",
      "Iteration 10: Time taken: 0.0174 seconds, Success: True\n",
      "Map 3\n",
      "Iteration 1: Time taken: 0.0079 seconds, Success: True\n",
      "Iteration 2: Time taken: 0.0058 seconds, Success: True\n",
      "Iteration 3: Time taken: 0.0023 seconds, Success: True\n",
      "Iteration 4: Time taken: 0.0070 seconds, Success: True\n",
      "Iteration 5: Time taken: 0.0286 seconds, Success: True\n",
      "Iteration 6: Time taken: 0.0186 seconds, Success: True\n",
      "Iteration 7: Time taken: 0.0187 seconds, Success: True\n",
      "Iteration 8: Time taken: 0.0452 seconds, Success: True\n",
      "Iteration 9: Time taken: 0.0047 seconds, Success: True\n",
      "Iteration 10: Time taken: 0.0091 seconds, Success: True\n",
      "Total time taken for all maps: 0.4387 seconds\n",
      "Map 1\n",
      "Iteration 1: Time taken: 0.0243 seconds, Success: True\n",
      "Iteration 2: Time taken: 0.0047 seconds, Success: True\n",
      "Iteration 3: Time taken: 0.0051 seconds, Success: True\n",
      "Iteration 4: Time taken: 0.0082 seconds, Success: True\n",
      "Iteration 5: Time taken: 0.0093 seconds, Success: True\n",
      "Iteration 6: Time taken: 0.0020 seconds, Success: True\n",
      "Iteration 7: Time taken: 0.0020 seconds, Success: True\n",
      "Iteration 8: Time taken: 0.0018 seconds, Success: True\n",
      "Iteration 9: Time taken: 0.0016 seconds, Success: True\n",
      "Iteration 10: Time taken: 0.0033 seconds, Success: True\n",
      "Map 2\n",
      "Iteration 1: Time taken: 0.0121 seconds, Success: True\n",
      "Iteration 2: Time taken: 0.0186 seconds, Success: True\n",
      "Iteration 3: Time taken: 0.0191 seconds, Success: True\n",
      "Iteration 4: Time taken: 0.0084 seconds, Success: True\n",
      "Iteration 5: Time taken: 0.0158 seconds, Success: True\n",
      "Iteration 6: Time taken: 0.0212 seconds, Success: True\n",
      "Iteration 7: Time taken: 0.0161 seconds, Success: True\n",
      "Iteration 8: Time taken: 0.0178 seconds, Success: True\n",
      "Iteration 9: Time taken: 0.0140 seconds, Success: True\n",
      "Iteration 10: Time taken: 0.0134 seconds, Success: True\n",
      "Map 3\n",
      "Iteration 1: Time taken: 0.0080 seconds, Success: True\n",
      "Iteration 2: Time taken: 0.0095 seconds, Success: True\n",
      "Iteration 3: Time taken: 0.0125 seconds, Success: True\n",
      "Iteration 4: Time taken: 0.0035 seconds, Success: True\n",
      "Iteration 5: Time taken: 0.0032 seconds, Success: True\n",
      "Iteration 6: Time taken: 0.0050 seconds, Success: True\n",
      "Iteration 7: Time taken: 0.0472 seconds, Success: True\n",
      "Iteration 8: Time taken: 0.0191 seconds, Success: True\n",
      "Iteration 9: Time taken: 0.0053 seconds, Success: True\n",
      "Iteration 10: Time taken: 0.0078 seconds, Success: True\n",
      "Total time taken for all maps: 0.3605 seconds\n",
      "Map 1\n",
      "Iteration 1: Time taken: 0.0025 seconds, Success: False\n",
      "Iteration 2: Time taken: 0.0064 seconds, Success: True\n",
      "Iteration 3: Time taken: 0.0021 seconds, Success: True\n",
      "Iteration 4: Time taken: 0.0058 seconds, Success: True\n",
      "Iteration 5: Time taken: 0.0067 seconds, Success: True\n",
      "Iteration 6: Time taken: 0.0140 seconds, Success: True\n",
      "Iteration 7: Time taken: 0.0092 seconds, Success: True\n",
      "Iteration 8: Time taken: 0.0027 seconds, Success: True\n",
      "Iteration 9: Time taken: 0.0020 seconds, Success: True\n",
      "Iteration 10: Time taken: 0.0163 seconds, Success: True\n",
      "Map 2\n",
      "Iteration 1: Time taken: 0.0183 seconds, Success: True\n",
      "Iteration 2: Time taken: 0.0105 seconds, Success: True\n",
      "Iteration 3: Time taken: 0.0057 seconds, Success: False\n",
      "Iteration 4: Time taken: 0.0184 seconds, Success: True\n",
      "Iteration 5: Time taken: 0.0221 seconds, Success: True\n",
      "Iteration 6: Time taken: 0.0080 seconds, Success: True\n",
      "Iteration 7: Time taken: 0.0074 seconds, Success: True\n",
      "Iteration 8: Time taken: 0.0210 seconds, Success: True\n",
      "Iteration 9: Time taken: 0.0164 seconds, Success: True\n",
      "Iteration 10: Time taken: 0.0137 seconds, Success: True\n",
      "Map 3\n",
      "Iteration 1: Time taken: 0.0058 seconds, Success: True\n",
      "Iteration 2: Time taken: 0.0125 seconds, Success: True\n",
      "Iteration 3: Time taken: 0.0628 seconds, Success: True\n",
      "Iteration 4: Time taken: 0.0064 seconds, Success: True\n",
      "Iteration 5: Time taken: 0.0025 seconds, Success: False\n",
      "Iteration 6: Time taken: 0.0360 seconds, Success: True\n",
      "Iteration 7: Time taken: 0.0029 seconds, Success: True\n",
      "Iteration 8: Time taken: 0.0008 seconds, Success: False\n",
      "Iteration 9: Time taken: 0.0036 seconds, Success: False\n",
      "Iteration 10: Time taken: 0.0055 seconds, Success: True\n",
      "Total time taken for all maps: 0.3650 seconds\n",
      "Map 1\n",
      "Iteration 1: Time taken: 0.0054 seconds, Success: True\n",
      "Iteration 2: Time taken: 0.0045 seconds, Success: True\n",
      "Iteration 3: Time taken: 0.0033 seconds, Success: True\n",
      "Iteration 4: Time taken: 0.0041 seconds, Success: True\n",
      "Iteration 5: Time taken: 0.0027 seconds, Success: True\n",
      "Iteration 6: Time taken: 0.0078 seconds, Success: True\n",
      "Iteration 7: Time taken: 0.0051 seconds, Success: True\n",
      "Iteration 8: Time taken: 0.0037 seconds, Success: True\n",
      "Iteration 9: Time taken: 0.0045 seconds, Success: True\n",
      "Iteration 10: Time taken: 0.0126 seconds, Success: True\n",
      "Map 2\n",
      "Iteration 1: Time taken: 0.0209 seconds, Success: True\n",
      "Iteration 2: Time taken: 0.0164 seconds, Success: True\n",
      "Iteration 3: Time taken: 0.0376 seconds, Success: True\n",
      "Iteration 4: Time taken: 0.0231 seconds, Success: True\n",
      "Iteration 5: Time taken: 0.0487 seconds, Success: True\n",
      "Iteration 6: Time taken: 0.0236 seconds, Success: True\n",
      "Iteration 7: Time taken: 0.0127 seconds, Success: True\n",
      "Iteration 8: Time taken: 0.0196 seconds, Success: True\n",
      "Iteration 9: Time taken: 0.0205 seconds, Success: True\n",
      "Iteration 10: Time taken: 0.0107 seconds, Success: True\n",
      "Map 3\n",
      "Iteration 1: Time taken: 0.0763 seconds, Success: True\n",
      "Iteration 2: Time taken: 0.0067 seconds, Success: True\n",
      "Iteration 3: Time taken: 0.0096 seconds, Success: True\n",
      "Iteration 4: Time taken: 0.0035 seconds, Success: True\n",
      "Iteration 5: Time taken: 0.0074 seconds, Success: True\n",
      "Iteration 6: Time taken: 0.0026 seconds, Success: True\n",
      "Iteration 7: Time taken: 0.0044 seconds, Success: True\n",
      "Iteration 8: Time taken: 0.0096 seconds, Success: True\n",
      "Iteration 9: Time taken: 0.0026 seconds, Success: True\n",
      "Iteration 10: Time taken: 0.0076 seconds, Success: True\n",
      "Total time taken for all maps: 0.4300 seconds\n",
      "Map 1\n",
      "Iteration 1: Time taken: 0.0066 seconds, Success: True\n",
      "Iteration 2: Time taken: 0.0203 seconds, Success: True\n",
      "Iteration 3: Time taken: 0.0052 seconds, Success: True\n",
      "Iteration 4: Time taken: 0.0034 seconds, Success: True\n",
      "Iteration 5: Time taken: 0.0067 seconds, Success: True\n",
      "Iteration 6: Time taken: 0.0031 seconds, Success: True\n",
      "Iteration 7: Time taken: 0.0146 seconds, Success: True\n",
      "Iteration 8: Time taken: 0.0044 seconds, Success: True\n",
      "Iteration 9: Time taken: 0.0102 seconds, Success: True\n",
      "Iteration 10: Time taken: 0.0038 seconds, Success: True\n",
      "Map 2\n",
      "Iteration 1: Time taken: 0.0584 seconds, Success: True\n",
      "Iteration 2: Time taken: 0.0254 seconds, Success: True\n",
      "Iteration 3: Time taken: 0.0167 seconds, Success: True\n",
      "Iteration 4: Time taken: 0.0297 seconds, Success: True\n",
      "Iteration 5: Time taken: 0.0435 seconds, Success: True\n",
      "Iteration 6: Time taken: 0.0262 seconds, Success: True\n",
      "Iteration 7: Time taken: 0.0260 seconds, Success: True\n",
      "Iteration 8: Time taken: 0.0294 seconds, Success: True\n",
      "Iteration 9: Time taken: 0.0139 seconds, Success: True\n",
      "Iteration 10: Time taken: 0.0384 seconds, Success: True\n",
      "Map 3\n",
      "Iteration 1: Time taken: 0.0078 seconds, Success: True\n",
      "Iteration 2: Time taken: 0.0238 seconds, Success: True\n",
      "Iteration 3: Time taken: 0.0664 seconds, Success: True\n",
      "Iteration 4: Time taken: 0.0097 seconds, Success: True\n",
      "Iteration 5: Time taken: 0.0702 seconds, Success: True\n",
      "Iteration 6: Time taken: 0.0623 seconds, Success: True\n",
      "Iteration 7: Time taken: 0.1497 seconds, Success: True\n",
      "Iteration 8: Time taken: 0.0062 seconds, Success: True\n",
      "Iteration 9: Time taken: 0.0643 seconds, Success: True\n",
      "Iteration 10: Time taken: 0.0085 seconds, Success: True\n",
      "Total time taken for all maps: 0.8702 seconds\n",
      "Map 1\n",
      "Iteration 1: Time taken: 0.0093 seconds, Success: True\n",
      "Iteration 2: Time taken: 0.0038 seconds, Success: True\n",
      "Iteration 3: Time taken: 0.0106 seconds, Success: True\n",
      "Iteration 4: Time taken: 0.0046 seconds, Success: True\n",
      "Iteration 5: Time taken: 0.0038 seconds, Success: True\n",
      "Iteration 6: Time taken: 0.0079 seconds, Success: True\n",
      "Iteration 7: Time taken: 0.0057 seconds, Success: True\n",
      "Iteration 8: Time taken: 0.0117 seconds, Success: True\n",
      "Iteration 9: Time taken: 0.0066 seconds, Success: True\n",
      "Iteration 10: Time taken: 0.0427 seconds, Success: True\n",
      "Map 2\n",
      "Iteration 1: Time taken: 0.0338 seconds, Success: True\n",
      "Iteration 2: Time taken: 0.0291 seconds, Success: True\n",
      "Iteration 3: Time taken: 0.0233 seconds, Success: True\n",
      "Iteration 4: Time taken: 0.0250 seconds, Success: True\n",
      "Iteration 5: Time taken: 0.0151 seconds, Success: True\n",
      "Iteration 6: Time taken: 0.0160 seconds, Success: True\n",
      "Iteration 7: Time taken: 0.0197 seconds, Success: True\n",
      "Iteration 8: Time taken: 0.0265 seconds, Success: True\n",
      "Iteration 9: Time taken: 0.0308 seconds, Success: True\n",
      "Iteration 10: Time taken: 0.0190 seconds, Success: True\n",
      "Map 3\n",
      "Iteration 1: Time taken: 0.0115 seconds, Success: True\n",
      "Iteration 2: Time taken: 0.1610 seconds, Success: True\n",
      "Iteration 3: Time taken: 0.0057 seconds, Success: True\n",
      "Iteration 4: Time taken: 0.0044 seconds, Success: True\n",
      "Iteration 5: Time taken: 0.0152 seconds, Success: True\n",
      "Iteration 6: Time taken: 0.0072 seconds, Success: True\n",
      "Iteration 7: Time taken: 0.0050 seconds, Success: True\n",
      "Iteration 8: Time taken: 0.1613 seconds, Success: True\n",
      "Iteration 9: Time taken: 0.0039 seconds, Success: True\n",
      "Iteration 10: Time taken: 0.0143 seconds, Success: True\n",
      "Total time taken for all maps: 0.7473 seconds\n",
      "Map 1\n",
      "Iteration 1: Time taken: 0.0122 seconds, Success: True\n",
      "Iteration 2: Time taken: 0.0143 seconds, Success: True\n",
      "Iteration 3: Time taken: 0.0062 seconds, Success: True\n",
      "Iteration 4: Time taken: 0.0065 seconds, Success: True\n",
      "Iteration 5: Time taken: 0.0057 seconds, Success: True\n",
      "Iteration 6: Time taken: 0.0083 seconds, Success: True\n",
      "Iteration 7: Time taken: 0.0099 seconds, Success: True\n",
      "Iteration 8: Time taken: 0.0190 seconds, Success: True\n",
      "Iteration 9: Time taken: 0.0065 seconds, Success: True\n",
      "Iteration 10: Time taken: 0.0183 seconds, Success: True\n",
      "Map 2\n",
      "Iteration 1: Time taken: 0.0188 seconds, Success: True\n",
      "Iteration 2: Time taken: 0.0149 seconds, Success: True\n",
      "Iteration 3: Time taken: 0.0142 seconds, Success: True\n",
      "Iteration 4: Time taken: 0.0202 seconds, Success: True\n",
      "Iteration 5: Time taken: 0.0132 seconds, Success: True\n",
      "Iteration 6: Time taken: 0.0139 seconds, Success: True\n",
      "Iteration 7: Time taken: 0.0481 seconds, Success: True\n",
      "Iteration 8: Time taken: 0.0115 seconds, Success: True\n",
      "Iteration 9: Time taken: 0.0278 seconds, Success: True\n",
      "Iteration 10: Time taken: 0.0256 seconds, Success: True\n",
      "Map 3\n",
      "Iteration 1: Time taken: 0.0055 seconds, Success: True\n",
      "Iteration 2: Time taken: 0.0581 seconds, Success: True\n",
      "Iteration 3: Time taken: 0.0663 seconds, Success: True\n",
      "Iteration 4: Time taken: 0.0508 seconds, Success: True\n",
      "Iteration 5: Time taken: 0.0087 seconds, Success: True\n",
      "Iteration 6: Time taken: 0.0027 seconds, Success: True\n",
      "Iteration 7: Time taken: 0.0071 seconds, Success: True\n",
      "Iteration 8: Time taken: 0.0221 seconds, Success: True\n",
      "Iteration 9: Time taken: 0.0033 seconds, Success: True\n",
      "Iteration 10: Time taken: 0.0058 seconds, Success: True\n",
      "Total time taken for all maps: 0.5567 seconds\n",
      "Map 1\n",
      "Iteration 1: Time taken: 0.0056 seconds, Success: True\n",
      "Iteration 2: Time taken: 0.0028 seconds, Success: True\n",
      "Iteration 3: Time taken: 0.0050 seconds, Success: True\n",
      "Iteration 4: Time taken: 0.0035 seconds, Success: True\n",
      "Iteration 5: Time taken: 0.0027 seconds, Success: True\n",
      "Iteration 6: Time taken: 0.0017 seconds, Success: True\n",
      "Iteration 7: Time taken: 0.0026 seconds, Success: True\n",
      "Iteration 8: Time taken: 0.0094 seconds, Success: True\n",
      "Iteration 9: Time taken: 0.0021 seconds, Success: True\n",
      "Iteration 10: Time taken: 0.0048 seconds, Success: True\n",
      "Map 2\n",
      "Iteration 1: Time taken: 0.0104 seconds, Success: True\n",
      "Iteration 2: Time taken: 0.0131 seconds, Success: True\n",
      "Iteration 3: Time taken: 0.0092 seconds, Success: True\n",
      "Iteration 4: Time taken: 0.0157 seconds, Success: True\n",
      "Iteration 5: Time taken: 0.0071 seconds, Success: True\n",
      "Iteration 6: Time taken: 0.0096 seconds, Success: True\n",
      "Iteration 7: Time taken: 0.0138 seconds, Success: True\n",
      "Iteration 8: Time taken: 0.0155 seconds, Success: True\n",
      "Iteration 9: Time taken: 0.0216 seconds, Success: True\n",
      "Iteration 10: Time taken: 0.0148 seconds, Success: True\n",
      "Map 3\n",
      "Iteration 1: Time taken: 0.0213 seconds, Success: True\n",
      "Iteration 2: Time taken: 0.0080 seconds, Success: True\n",
      "Iteration 3: Time taken: 0.0516 seconds, Success: True\n",
      "Iteration 4: Time taken: 0.0088 seconds, Success: True\n",
      "Iteration 5: Time taken: 0.0109 seconds, Success: True\n",
      "Iteration 6: Time taken: 0.0113 seconds, Success: True\n",
      "Iteration 7: Time taken: 0.0091 seconds, Success: True\n",
      "Iteration 8: Time taken: 0.0851 seconds, Success: True\n",
      "Iteration 9: Time taken: 0.0348 seconds, Success: True\n",
      "Iteration 10: Time taken: 0.0023 seconds, Success: True\n",
      "Total time taken for all maps: 0.4338 seconds\n",
      "Map 1\n",
      "Iteration 1: Time taken: 0.0059 seconds, Success: True\n",
      "Iteration 2: Time taken: 0.0044 seconds, Success: True\n",
      "Iteration 3: Time taken: 0.0046 seconds, Success: True\n",
      "Iteration 4: Time taken: 0.0061 seconds, Success: True\n",
      "Iteration 5: Time taken: 0.0045 seconds, Success: True\n",
      "Iteration 6: Time taken: 0.0099 seconds, Success: True\n",
      "Iteration 7: Time taken: 0.0058 seconds, Success: True\n",
      "Iteration 8: Time taken: 0.0118 seconds, Success: True\n",
      "Iteration 9: Time taken: 0.0048 seconds, Success: True\n",
      "Iteration 10: Time taken: 0.0046 seconds, Success: True\n",
      "Map 2\n",
      "Iteration 1: Time taken: 0.0171 seconds, Success: True\n",
      "Iteration 2: Time taken: 0.0150 seconds, Success: True\n",
      "Iteration 3: Time taken: 0.0175 seconds, Success: True\n",
      "Iteration 4: Time taken: 0.0112 seconds, Success: True\n",
      "Iteration 5: Time taken: 0.0173 seconds, Success: True\n",
      "Iteration 6: Time taken: 0.0174 seconds, Success: True\n",
      "Iteration 7: Time taken: 0.0164 seconds, Success: True\n",
      "Iteration 8: Time taken: 0.0257 seconds, Success: True\n",
      "Iteration 9: Time taken: 0.0170 seconds, Success: True\n",
      "Iteration 10: Time taken: 0.0337 seconds, Success: True\n",
      "Map 3\n",
      "Iteration 1: Time taken: 0.1683 seconds, Success: True\n",
      "Iteration 2: Time taken: 0.0072 seconds, Success: True\n",
      "Iteration 3: Time taken: 0.0099 seconds, Success: True\n",
      "Iteration 4: Time taken: 0.0063 seconds, Success: True\n",
      "Iteration 5: Time taken: 0.0038 seconds, Success: True\n",
      "Iteration 6: Time taken: 0.2265 seconds, Success: True\n",
      "Iteration 7: Time taken: 0.0488 seconds, Success: True\n",
      "Iteration 8: Time taken: 0.0170 seconds, Success: True\n",
      "Iteration 9: Time taken: 0.0540 seconds, Success: True\n",
      "Iteration 10: Time taken: 0.0094 seconds, Success: True\n",
      "Total time taken for all maps: 0.8203 seconds\n"
     ]
    }
   ],
   "source": [
    "# ref_avg 앞에서 선언됨\n",
    "maps = [multi_obs_map, maze_map, narrow_map]\n",
    "benchmarker = MultiMapBenchmarker(maps=maps, iter=10)\n",
    "\n",
    "g_total_df = pd.DataFrame()\n",
    "\n",
    "for method in filtered_sorted_algorithms:\n",
    "    code_string = method['code']\n",
    "    namedf = pd.DataFrame()\n",
    "    namedf['alg_name'] = [method['objective']]* len(maps)\n",
    "    with warnings.catch_warnings():\n",
    "        warnings.simplefilter(\"ignore\")\n",
    "        planning_module = types.ModuleType(\"planning_module\")\n",
    "        exec(import_string+code_string, planning_module.__dict__)\n",
    "        sys.modules[planning_module.__name__] = planning_module\n",
    "        try:\n",
    "            planner = planning_module.Planner(max_iter=5000, step_size=5.0)\n",
    "        except:\n",
    "            continue\n",
    "        res, avg_rest = benchmarker.run(planner.plan)\n",
    "        imp_res = MultiMapBenchmarker.get_improvement(ref_avg, avg_rest)\n",
    "\n",
    "        res_df = pd.concat([namedf, avg_rest, imp_res], axis=1)\n",
    "        g_total_df = pd.concat([g_total_df, res_df], axis=0)\n",
    "\n",
    "# g_total_df\n",
    "res1 = g_total_df"
   ]
  },
  {
   "cell_type": "code",
   "execution_count": 22,
   "id": "d57a6003",
   "metadata": {},
   "outputs": [],
   "source": [
    "whole_df = pd.concat([total_df, g_total_df], axis=0)"
   ]
  },
  {
   "cell_type": "code",
   "execution_count": 23,
   "id": "1f0861fd",
   "metadata": {},
   "outputs": [
    {
     "data": {
      "text/html": [
       "<div>\n",
       "<style scoped>\n",
       "    .dataframe tbody tr th:only-of-type {\n",
       "        vertical-align: middle;\n",
       "    }\n",
       "\n",
       "    .dataframe tbody tr th {\n",
       "        vertical-align: top;\n",
       "    }\n",
       "\n",
       "    .dataframe thead th {\n",
       "        text-align: right;\n",
       "    }\n",
       "</style>\n",
       "<table border=\"1\" class=\"dataframe\">\n",
       "  <thead>\n",
       "    <tr style=\"text-align: right;\">\n",
       "      <th></th>\n",
       "      <th>map_id</th>\n",
       "      <th>success_rate</th>\n",
       "      <th>time_avg</th>\n",
       "      <th>num_nodes_avg</th>\n",
       "      <th>path_length_avg</th>\n",
       "      <th>success_improvement</th>\n",
       "      <th>time_improvement</th>\n",
       "      <th>length_improvement</th>\n",
       "      <th>objective_score</th>\n",
       "    </tr>\n",
       "    <tr>\n",
       "      <th>alg_name</th>\n",
       "      <th></th>\n",
       "      <th></th>\n",
       "      <th></th>\n",
       "      <th></th>\n",
       "      <th></th>\n",
       "      <th></th>\n",
       "      <th></th>\n",
       "      <th></th>\n",
       "      <th></th>\n",
       "    </tr>\n",
       "  </thead>\n",
       "  <tbody>\n",
       "    <tr>\n",
       "      <th>-15.03871</th>\n",
       "      <td>1.0</td>\n",
       "      <td>1.000000</td>\n",
       "      <td>0.008604</td>\n",
       "      <td>159.100000</td>\n",
       "      <td>204.043208</td>\n",
       "      <td>0.000000</td>\n",
       "      <td>76.213594</td>\n",
       "      <td>8.870378</td>\n",
       "      <td>24.638154</td>\n",
       "    </tr>\n",
       "    <tr>\n",
       "      <th>-14.13591</th>\n",
       "      <td>1.0</td>\n",
       "      <td>1.000000</td>\n",
       "      <td>0.013600</td>\n",
       "      <td>187.833333</td>\n",
       "      <td>199.432910</td>\n",
       "      <td>0.000000</td>\n",
       "      <td>65.339904</td>\n",
       "      <td>12.138289</td>\n",
       "      <td>22.029629</td>\n",
       "    </tr>\n",
       "    <tr>\n",
       "      <th>-11.35589</th>\n",
       "      <td>1.0</td>\n",
       "      <td>1.000000</td>\n",
       "      <td>0.016781</td>\n",
       "      <td>168.566667</td>\n",
       "      <td>200.654919</td>\n",
       "      <td>0.000000</td>\n",
       "      <td>55.041207</td>\n",
       "      <td>10.256080</td>\n",
       "      <td>18.563578</td>\n",
       "    </tr>\n",
       "    <tr>\n",
       "      <th>-10.57241</th>\n",
       "      <td>1.0</td>\n",
       "      <td>1.000000</td>\n",
       "      <td>0.010254</td>\n",
       "      <td>152.300000</td>\n",
       "      <td>175.668521</td>\n",
       "      <td>0.000000</td>\n",
       "      <td>72.630647</td>\n",
       "      <td>21.235157</td>\n",
       "      <td>26.036225</td>\n",
       "    </tr>\n",
       "    <tr>\n",
       "      <th>-9.55661</th>\n",
       "      <td>1.0</td>\n",
       "      <td>1.000000</td>\n",
       "      <td>0.009573</td>\n",
       "      <td>169.000000</td>\n",
       "      <td>199.482939</td>\n",
       "      <td>0.000000</td>\n",
       "      <td>74.549431</td>\n",
       "      <td>11.184416</td>\n",
       "      <td>24.601712</td>\n",
       "    </tr>\n",
       "    <tr>\n",
       "      <th>-9.23875</th>\n",
       "      <td>1.0</td>\n",
       "      <td>1.000000</td>\n",
       "      <td>0.012645</td>\n",
       "      <td>196.033333</td>\n",
       "      <td>209.707866</td>\n",
       "      <td>0.000000</td>\n",
       "      <td>67.748968</td>\n",
       "      <td>6.278594</td>\n",
       "      <td>21.580409</td>\n",
       "    </tr>\n",
       "    <tr>\n",
       "      <th>-8.93552</th>\n",
       "      <td>1.0</td>\n",
       "      <td>1.000000</td>\n",
       "      <td>0.015993</td>\n",
       "      <td>216.833333</td>\n",
       "      <td>199.990028</td>\n",
       "      <td>0.000000</td>\n",
       "      <td>56.844661</td>\n",
       "      <td>10.872224</td>\n",
       "      <td>19.227843</td>\n",
       "    </tr>\n",
       "    <tr>\n",
       "      <th>-8.86231</th>\n",
       "      <td>1.0</td>\n",
       "      <td>0.966667</td>\n",
       "      <td>0.014326</td>\n",
       "      <td>124.266667</td>\n",
       "      <td>209.325132</td>\n",
       "      <td>-3.333333</td>\n",
       "      <td>61.259962</td>\n",
       "      <td>7.045306</td>\n",
       "      <td>18.120383</td>\n",
       "    </tr>\n",
       "    <tr>\n",
       "      <th>-7.55322</th>\n",
       "      <td>1.0</td>\n",
       "      <td>1.000000</td>\n",
       "      <td>0.017287</td>\n",
       "      <td>154.033333</td>\n",
       "      <td>180.891690</td>\n",
       "      <td>0.000000</td>\n",
       "      <td>51.084518</td>\n",
       "      <td>18.307114</td>\n",
       "      <td>18.986778</td>\n",
       "    </tr>\n",
       "    <tr>\n",
       "      <th>-6.95653</th>\n",
       "      <td>1.0</td>\n",
       "      <td>1.000000</td>\n",
       "      <td>0.017640</td>\n",
       "      <td>151.300000</td>\n",
       "      <td>179.956320</td>\n",
       "      <td>0.000000</td>\n",
       "      <td>51.987820</td>\n",
       "      <td>19.100056</td>\n",
       "      <td>19.416357</td>\n",
       "    </tr>\n",
       "    <tr>\n",
       "      <th>-6.83895</th>\n",
       "      <td>1.0</td>\n",
       "      <td>1.000000</td>\n",
       "      <td>0.014129</td>\n",
       "      <td>123.766667</td>\n",
       "      <td>177.654032</td>\n",
       "      <td>0.000000</td>\n",
       "      <td>64.689232</td>\n",
       "      <td>20.048644</td>\n",
       "      <td>23.416499</td>\n",
       "    </tr>\n",
       "    <tr>\n",
       "      <th>-6.77813</th>\n",
       "      <td>1.0</td>\n",
       "      <td>1.000000</td>\n",
       "      <td>0.011281</td>\n",
       "      <td>185.233333</td>\n",
       "      <td>202.644616</td>\n",
       "      <td>0.000000</td>\n",
       "      <td>68.625477</td>\n",
       "      <td>9.724240</td>\n",
       "      <td>22.532491</td>\n",
       "    </tr>\n",
       "    <tr>\n",
       "      <th>-6.68311</th>\n",
       "      <td>1.0</td>\n",
       "      <td>0.833333</td>\n",
       "      <td>0.011564</td>\n",
       "      <td>184.466667</td>\n",
       "      <td>184.200102</td>\n",
       "      <td>-16.666667</td>\n",
       "      <td>66.223785</td>\n",
       "      <td>18.174266</td>\n",
       "      <td>15.168655</td>\n",
       "    </tr>\n",
       "    <tr>\n",
       "      <th>-6.65759</th>\n",
       "      <td>1.0</td>\n",
       "      <td>1.000000</td>\n",
       "      <td>0.013808</td>\n",
       "      <td>162.166667</td>\n",
       "      <td>175.724389</td>\n",
       "      <td>0.000000</td>\n",
       "      <td>67.696871</td>\n",
       "      <td>20.791716</td>\n",
       "      <td>24.467405</td>\n",
       "    </tr>\n",
       "    <tr>\n",
       "      <th>-6.65571</th>\n",
       "      <td>1.0</td>\n",
       "      <td>1.000000</td>\n",
       "      <td>0.028101</td>\n",
       "      <td>375.366667</td>\n",
       "      <td>178.916452</td>\n",
       "      <td>0.000000</td>\n",
       "      <td>22.888221</td>\n",
       "      <td>19.329296</td>\n",
       "      <td>10.732326</td>\n",
       "    </tr>\n",
       "    <tr>\n",
       "      <th>-6.52887</th>\n",
       "      <td>1.0</td>\n",
       "      <td>1.000000</td>\n",
       "      <td>0.025051</td>\n",
       "      <td>141.433333</td>\n",
       "      <td>179.337965</td>\n",
       "      <td>0.000000</td>\n",
       "      <td>24.669757</td>\n",
       "      <td>19.383993</td>\n",
       "      <td>11.277726</td>\n",
       "    </tr>\n",
       "    <tr>\n",
       "      <th>-6.3318</th>\n",
       "      <td>1.0</td>\n",
       "      <td>1.000000</td>\n",
       "      <td>0.018397</td>\n",
       "      <td>211.333333</td>\n",
       "      <td>173.243833</td>\n",
       "      <td>0.000000</td>\n",
       "      <td>44.911857</td>\n",
       "      <td>21.851153</td>\n",
       "      <td>17.843788</td>\n",
       "    </tr>\n",
       "    <tr>\n",
       "      <th>-6.15402</th>\n",
       "      <td>1.0</td>\n",
       "      <td>1.000000</td>\n",
       "      <td>0.013802</td>\n",
       "      <td>170.133333</td>\n",
       "      <td>195.720966</td>\n",
       "      <td>0.000000</td>\n",
       "      <td>60.536046</td>\n",
       "      <td>12.587984</td>\n",
       "      <td>20.678410</td>\n",
       "    </tr>\n",
       "    <tr>\n",
       "      <th>-6.02303</th>\n",
       "      <td>1.0</td>\n",
       "      <td>1.000000</td>\n",
       "      <td>0.025603</td>\n",
       "      <td>180.200000</td>\n",
       "      <td>177.616638</td>\n",
       "      <td>0.000000</td>\n",
       "      <td>22.699843</td>\n",
       "      <td>20.119507</td>\n",
       "      <td>10.833854</td>\n",
       "    </tr>\n",
       "    <tr>\n",
       "      <th>RRT</th>\n",
       "      <td>1.0</td>\n",
       "      <td>1.000000</td>\n",
       "      <td>0.056694</td>\n",
       "      <td>615.800000</td>\n",
       "      <td>224.282575</td>\n",
       "      <td>0.000000</td>\n",
       "      <td>0.000000</td>\n",
       "      <td>0.000000</td>\n",
       "      <td>0.000000</td>\n",
       "    </tr>\n",
       "  </tbody>\n",
       "</table>\n",
       "</div>"
      ],
      "text/plain": [
       "           map_id  success_rate  time_avg  num_nodes_avg  path_length_avg  \\\n",
       "alg_name                                                                    \n",
       "-15.03871     1.0      1.000000  0.008604     159.100000       204.043208   \n",
       "-14.13591     1.0      1.000000  0.013600     187.833333       199.432910   \n",
       "-11.35589     1.0      1.000000  0.016781     168.566667       200.654919   \n",
       "-10.57241     1.0      1.000000  0.010254     152.300000       175.668521   \n",
       "-9.55661      1.0      1.000000  0.009573     169.000000       199.482939   \n",
       "-9.23875      1.0      1.000000  0.012645     196.033333       209.707866   \n",
       "-8.93552      1.0      1.000000  0.015993     216.833333       199.990028   \n",
       "-8.86231      1.0      0.966667  0.014326     124.266667       209.325132   \n",
       "-7.55322      1.0      1.000000  0.017287     154.033333       180.891690   \n",
       "-6.95653      1.0      1.000000  0.017640     151.300000       179.956320   \n",
       "-6.83895      1.0      1.000000  0.014129     123.766667       177.654032   \n",
       "-6.77813      1.0      1.000000  0.011281     185.233333       202.644616   \n",
       "-6.68311      1.0      0.833333  0.011564     184.466667       184.200102   \n",
       "-6.65759      1.0      1.000000  0.013808     162.166667       175.724389   \n",
       "-6.65571      1.0      1.000000  0.028101     375.366667       178.916452   \n",
       "-6.52887      1.0      1.000000  0.025051     141.433333       179.337965   \n",
       "-6.3318       1.0      1.000000  0.018397     211.333333       173.243833   \n",
       "-6.15402      1.0      1.000000  0.013802     170.133333       195.720966   \n",
       "-6.02303      1.0      1.000000  0.025603     180.200000       177.616638   \n",
       " RRT          1.0      1.000000  0.056694     615.800000       224.282575   \n",
       "\n",
       "           success_improvement  time_improvement  length_improvement  \\\n",
       "alg_name                                                               \n",
       "-15.03871             0.000000         76.213594            8.870378   \n",
       "-14.13591             0.000000         65.339904           12.138289   \n",
       "-11.35589             0.000000         55.041207           10.256080   \n",
       "-10.57241             0.000000         72.630647           21.235157   \n",
       "-9.55661              0.000000         74.549431           11.184416   \n",
       "-9.23875              0.000000         67.748968            6.278594   \n",
       "-8.93552              0.000000         56.844661           10.872224   \n",
       "-8.86231             -3.333333         61.259962            7.045306   \n",
       "-7.55322              0.000000         51.084518           18.307114   \n",
       "-6.95653              0.000000         51.987820           19.100056   \n",
       "-6.83895              0.000000         64.689232           20.048644   \n",
       "-6.77813              0.000000         68.625477            9.724240   \n",
       "-6.68311            -16.666667         66.223785           18.174266   \n",
       "-6.65759              0.000000         67.696871           20.791716   \n",
       "-6.65571              0.000000         22.888221           19.329296   \n",
       "-6.52887              0.000000         24.669757           19.383993   \n",
       "-6.3318               0.000000         44.911857           21.851153   \n",
       "-6.15402              0.000000         60.536046           12.587984   \n",
       "-6.02303              0.000000         22.699843           20.119507   \n",
       " RRT                  0.000000          0.000000            0.000000   \n",
       "\n",
       "           objective_score  \n",
       "alg_name                    \n",
       "-15.03871        24.638154  \n",
       "-14.13591        22.029629  \n",
       "-11.35589        18.563578  \n",
       "-10.57241        26.036225  \n",
       "-9.55661         24.601712  \n",
       "-9.23875         21.580409  \n",
       "-8.93552         19.227843  \n",
       "-8.86231         18.120383  \n",
       "-7.55322         18.986778  \n",
       "-6.95653         19.416357  \n",
       "-6.83895         23.416499  \n",
       "-6.77813         22.532491  \n",
       "-6.68311         15.168655  \n",
       "-6.65759         24.467405  \n",
       "-6.65571         10.732326  \n",
       "-6.52887         11.277726  \n",
       "-6.3318          17.843788  \n",
       "-6.15402         20.678410  \n",
       "-6.02303         10.833854  \n",
       " RRT              0.000000  "
      ]
     },
     "execution_count": 23,
     "metadata": {},
     "output_type": "execute_result"
    }
   ],
   "source": [
    "grouped_avg = g_total_df.groupby('alg_name').mean()\n",
    "a = pd.DataFrame(grouped_avg)\n",
    "a"
   ]
  },
  {
   "cell_type": "code",
   "execution_count": 38,
   "id": "277f4858",
   "metadata": {},
   "outputs": [
    {
     "data": {
      "text/plain": [
       "17"
      ]
     },
     "execution_count": 38,
     "metadata": {},
     "output_type": "execute_result"
    }
   ],
   "source": [
    "pop_path = \"./path_planning/mobj1/results/pops/population_generation_10.json\"\n",
    "\n",
    "with open(pop_path, \"r\") as f:\n",
    "    data = json.load(f)\n",
    "    filtered_sorted_algorithms = sorted(\n",
    "    [alg for alg in data if alg.get('operator') != 'initial'],\n",
    "    key=lambda x: x.get('objective', float('inf'))\n",
    "    )\n",
    "\n",
    "len(filtered_sorted_algorithms)"
   ]
  },
  {
   "cell_type": "code",
   "execution_count": 39,
   "id": "93067eb5",
   "metadata": {},
   "outputs": [
    {
     "name": "stdout",
     "output_type": "stream",
     "text": [
      "Map 1\n",
      "Iteration 1: Time taken: 0.0196 seconds, Success: True\n",
      "Iteration 2: Time taken: 0.0058 seconds, Success: True\n",
      "Iteration 3: Time taken: 0.0086 seconds, Success: True\n",
      "Iteration 4: Time taken: 0.0072 seconds, Success: True\n",
      "Iteration 5: Time taken: 0.0065 seconds, Success: True\n",
      "Iteration 6: Time taken: 0.0065 seconds, Success: True\n",
      "Iteration 7: Time taken: 0.0064 seconds, Success: True\n",
      "Iteration 8: Time taken: 0.0076 seconds, Success: True\n",
      "Iteration 9: Time taken: 0.0037 seconds, Success: True\n",
      "Iteration 10: Time taken: 0.0056 seconds, Success: True\n",
      "Map 2\n",
      "Iteration 1: Time taken: 0.0188 seconds, Success: True\n",
      "Iteration 2: Time taken: 0.0178 seconds, Success: True\n",
      "Iteration 3: Time taken: 0.0138 seconds, Success: True\n",
      "Iteration 4: Time taken: 0.0108 seconds, Success: True\n",
      "Iteration 5: Time taken: 0.0125 seconds, Success: True\n",
      "Iteration 6: Time taken: 0.0119 seconds, Success: True\n",
      "Iteration 7: Time taken: 0.0082 seconds, Success: True\n",
      "Iteration 8: Time taken: 0.0113 seconds, Success: True\n",
      "Iteration 9: Time taken: 0.0179 seconds, Success: True\n",
      "Iteration 10: Time taken: 0.0198 seconds, Success: True\n",
      "Map 3\n",
      "Iteration 1: Time taken: 0.0096 seconds, Success: True\n",
      "Iteration 2: Time taken: 0.0269 seconds, Success: True\n",
      "Iteration 3: Time taken: 0.0064 seconds, Success: True\n",
      "Iteration 4: Time taken: 0.0068 seconds, Success: True\n",
      "Iteration 5: Time taken: 0.0138 seconds, Success: True\n",
      "Iteration 6: Time taken: 0.0303 seconds, Success: True\n",
      "Iteration 7: Time taken: 0.1296 seconds, Success: True\n",
      "Iteration 8: Time taken: 0.0067 seconds, Success: True\n",
      "Iteration 9: Time taken: 0.0232 seconds, Success: True\n",
      "Iteration 10: Time taken: 0.0068 seconds, Success: True\n",
      "Total time taken for all maps: 0.4956 seconds\n",
      "Map 1\n",
      "Iteration 1: Time taken: 0.0039 seconds, Success: True\n",
      "Iteration 2: Time taken: 0.0079 seconds, Success: True\n",
      "Iteration 3: Time taken: 0.0122 seconds, Success: True\n",
      "Iteration 4: Time taken: 0.0073 seconds, Success: True\n",
      "Iteration 5: Time taken: 0.0058 seconds, Success: True\n",
      "Iteration 6: Time taken: 0.0148 seconds, Success: True\n",
      "Iteration 7: Time taken: 0.0066 seconds, Success: True\n",
      "Iteration 8: Time taken: 0.0105 seconds, Success: True\n",
      "Iteration 9: Time taken: 0.0058 seconds, Success: True\n",
      "Iteration 10: Time taken: 0.0121 seconds, Success: True\n",
      "Map 2\n",
      "Iteration 1: Time taken: 0.0162 seconds, Success: True\n",
      "Iteration 2: Time taken: 0.0155 seconds, Success: True\n",
      "Iteration 3: Time taken: 0.0125 seconds, Success: True\n",
      "Iteration 4: Time taken: 0.0160 seconds, Success: True\n",
      "Iteration 5: Time taken: 0.0136 seconds, Success: True\n",
      "Iteration 6: Time taken: 0.0134 seconds, Success: True\n",
      "Iteration 7: Time taken: 0.0090 seconds, Success: True\n",
      "Iteration 8: Time taken: 0.0225 seconds, Success: True\n",
      "Iteration 9: Time taken: 0.0146 seconds, Success: True\n",
      "Iteration 10: Time taken: 0.0095 seconds, Success: True\n",
      "Map 3\n",
      "Iteration 1: Time taken: 0.0038 seconds, Success: True\n",
      "Iteration 2: Time taken: 0.0314 seconds, Success: True\n",
      "Iteration 3: Time taken: 0.0064 seconds, Success: True\n",
      "Iteration 4: Time taken: 0.0071 seconds, Success: True\n",
      "Iteration 5: Time taken: 0.1319 seconds, Success: True\n",
      "Iteration 6: Time taken: 0.0104 seconds, Success: True\n",
      "Iteration 7: Time taken: 0.0086 seconds, Success: True\n",
      "Iteration 8: Time taken: 0.0163 seconds, Success: True\n",
      "Iteration 9: Time taken: 0.0166 seconds, Success: True\n",
      "Iteration 10: Time taken: 0.0037 seconds, Success: True\n",
      "Total time taken for all maps: 0.4801 seconds\n",
      "Map 1\n",
      "Iteration 1: Time taken: 0.0089 seconds, Success: True\n",
      "Iteration 2: Time taken: 0.0088 seconds, Success: True\n",
      "Iteration 3: Time taken: 0.0070 seconds, Success: True\n",
      "Iteration 4: Time taken: 0.0083 seconds, Success: True\n",
      "Iteration 5: Time taken: 0.0091 seconds, Success: True\n",
      "Iteration 6: Time taken: 0.0045 seconds, Success: True\n",
      "Iteration 7: Time taken: 0.0053 seconds, Success: True\n",
      "Iteration 8: Time taken: 0.0048 seconds, Success: True\n",
      "Iteration 9: Time taken: 0.0307 seconds, Success: True\n",
      "Iteration 10: Time taken: 0.0034 seconds, Success: True\n",
      "Map 2\n",
      "Iteration 1: Time taken: 0.0584 seconds, Success: True\n",
      "Iteration 2: Time taken: 0.0091 seconds, Success: True\n",
      "Iteration 3: Time taken: 0.0205 seconds, Success: True\n",
      "Iteration 4: Time taken: 0.0206 seconds, Success: True\n",
      "Iteration 5: Time taken: 0.0163 seconds, Success: True\n",
      "Iteration 6: Time taken: 0.0124 seconds, Success: True\n",
      "Iteration 7: Time taken: 0.0268 seconds, Success: True\n",
      "Iteration 8: Time taken: 0.0268 seconds, Success: True\n",
      "Iteration 9: Time taken: 0.0128 seconds, Success: True\n",
      "Iteration 10: Time taken: 0.0116 seconds, Success: True\n",
      "Map 3\n",
      "Iteration 1: Time taken: 0.0028 seconds, Success: True\n",
      "Iteration 2: Time taken: 0.0044 seconds, Success: True\n",
      "Iteration 3: Time taken: 0.0116 seconds, Success: True\n",
      "Iteration 4: Time taken: 0.0087 seconds, Success: True\n",
      "Iteration 5: Time taken: 0.0061 seconds, Success: True\n",
      "Iteration 6: Time taken: 0.0043 seconds, Success: True\n",
      "Iteration 7: Time taken: 0.0113 seconds, Success: True\n",
      "Iteration 8: Time taken: 0.0043 seconds, Success: True\n",
      "Iteration 9: Time taken: 0.0043 seconds, Success: True\n",
      "Iteration 10: Time taken: 0.0087 seconds, Success: True\n",
      "Total time taken for all maps: 0.3856 seconds\n",
      "Map 1\n",
      "Iteration 1: Time taken: 0.0056 seconds, Success: True\n",
      "Iteration 2: Time taken: 0.0078 seconds, Success: True\n",
      "Iteration 3: Time taken: 0.0082 seconds, Success: True\n",
      "Iteration 4: Time taken: 0.0060 seconds, Success: True\n",
      "Iteration 5: Time taken: 0.0101 seconds, Success: True\n",
      "Iteration 6: Time taken: 0.0141 seconds, Success: True\n",
      "Iteration 7: Time taken: 0.0075 seconds, Success: True\n",
      "Iteration 8: Time taken: 0.0074 seconds, Success: True\n",
      "Iteration 9: Time taken: 0.0072 seconds, Success: True\n",
      "Iteration 10: Time taken: 0.0066 seconds, Success: True\n",
      "Map 2\n",
      "Iteration 1: Time taken: 0.0158 seconds, Success: True\n",
      "Iteration 2: Time taken: 0.0108 seconds, Success: True\n",
      "Iteration 3: Time taken: 0.0203 seconds, Success: True\n",
      "Iteration 4: Time taken: 0.0157 seconds, Success: True\n",
      "Iteration 5: Time taken: 0.0088 seconds, Success: True\n",
      "Iteration 6: Time taken: 0.0139 seconds, Success: True\n",
      "Iteration 7: Time taken: 0.0112 seconds, Success: True\n",
      "Iteration 8: Time taken: 0.0133 seconds, Success: True\n",
      "Iteration 9: Time taken: 0.0272 seconds, Success: True\n",
      "Iteration 10: Time taken: 0.0158 seconds, Success: True\n",
      "Map 3\n",
      "Iteration 1: Time taken: 0.0035 seconds, Success: True\n",
      "Iteration 2: Time taken: 0.0050 seconds, Success: True\n",
      "Iteration 3: Time taken: 0.0271 seconds, Success: True\n",
      "Iteration 4: Time taken: 0.0087 seconds, Success: True\n",
      "Iteration 5: Time taken: 0.0109 seconds, Success: True\n",
      "Iteration 6: Time taken: 0.0042 seconds, Success: True\n",
      "Iteration 7: Time taken: 0.0184 seconds, Success: True\n",
      "Iteration 8: Time taken: 0.0083 seconds, Success: True\n",
      "Iteration 9: Time taken: 0.0030 seconds, Success: True\n",
      "Iteration 10: Time taken: 0.0309 seconds, Success: True\n",
      "Total time taken for all maps: 0.3652 seconds\n",
      "Map 1\n",
      "Iteration 1: Time taken: 0.0133 seconds, Success: True\n",
      "Iteration 2: Time taken: 0.0055 seconds, Success: True\n",
      "Iteration 3: Time taken: 0.0099 seconds, Success: True\n",
      "Iteration 4: Time taken: 0.0070 seconds, Success: True\n",
      "Iteration 5: Time taken: 0.0056 seconds, Success: True\n",
      "Iteration 6: Time taken: 0.0076 seconds, Success: True\n",
      "Iteration 7: Time taken: 0.0072 seconds, Success: True\n",
      "Iteration 8: Time taken: 0.0073 seconds, Success: True\n",
      "Iteration 9: Time taken: 0.0058 seconds, Success: True\n",
      "Iteration 10: Time taken: 0.0054 seconds, Success: True\n",
      "Map 2\n",
      "Iteration 1: Time taken: 0.0131 seconds, Success: True\n",
      "Iteration 2: Time taken: 0.0123 seconds, Success: True\n",
      "Iteration 3: Time taken: 0.0129 seconds, Success: True\n",
      "Iteration 4: Time taken: 0.0112 seconds, Success: True\n",
      "Iteration 5: Time taken: 0.0284 seconds, Success: True\n",
      "Iteration 6: Time taken: 0.0224 seconds, Success: True\n",
      "Iteration 7: Time taken: 0.0238 seconds, Success: True\n",
      "Iteration 8: Time taken: 0.0187 seconds, Success: True\n",
      "Iteration 9: Time taken: 0.0158 seconds, Success: True\n",
      "Iteration 10: Time taken: 0.0244 seconds, Success: True\n",
      "Map 3\n",
      "Iteration 1: Time taken: 0.0037 seconds, Success: True\n",
      "Iteration 2: Time taken: 0.0301 seconds, Success: True\n",
      "Iteration 3: Time taken: 0.1039 seconds, Success: True\n",
      "Iteration 4: Time taken: 0.0242 seconds, Success: True\n",
      "Iteration 5: Time taken: 0.0185 seconds, Success: True\n",
      "Iteration 6: Time taken: 0.0093 seconds, Success: True\n",
      "Iteration 7: Time taken: 0.0153 seconds, Success: True\n",
      "Iteration 8: Time taken: 0.0090 seconds, Success: True\n",
      "Iteration 9: Time taken: 0.0033 seconds, Success: True\n",
      "Iteration 10: Time taken: 0.0033 seconds, Success: True\n",
      "Total time taken for all maps: 0.4898 seconds\n",
      "Map 1\n",
      "Iteration 1: Time taken: 0.0083 seconds, Success: True\n",
      "Iteration 2: Time taken: 0.0194 seconds, Success: True\n",
      "Iteration 3: Time taken: 0.0058 seconds, Success: True\n",
      "Iteration 4: Time taken: 0.0045 seconds, Success: True\n",
      "Iteration 5: Time taken: 0.0056 seconds, Success: True\n",
      "Iteration 6: Time taken: 0.0087 seconds, Success: True\n",
      "Iteration 7: Time taken: 0.0055 seconds, Success: True\n",
      "Iteration 8: Time taken: 0.0076 seconds, Success: True\n",
      "Iteration 9: Time taken: 0.0053 seconds, Success: True\n",
      "Iteration 10: Time taken: 0.0073 seconds, Success: True\n",
      "Map 2\n",
      "Iteration 1: Time taken: 0.0130 seconds, Success: True\n",
      "Iteration 2: Time taken: 0.0180 seconds, Success: True\n",
      "Iteration 3: Time taken: 0.0237 seconds, Success: True\n",
      "Iteration 4: Time taken: 0.0111 seconds, Success: True\n",
      "Iteration 5: Time taken: 0.0196 seconds, Success: True\n",
      "Iteration 6: Time taken: 0.0174 seconds, Success: True\n",
      "Iteration 7: Time taken: 0.0168 seconds, Success: True\n",
      "Iteration 8: Time taken: 0.0179 seconds, Success: True\n",
      "Iteration 9: Time taken: 0.0162 seconds, Success: True\n",
      "Iteration 10: Time taken: 0.0126 seconds, Success: True\n",
      "Map 3\n",
      "Iteration 1: Time taken: 0.0096 seconds, Success: True\n",
      "Iteration 2: Time taken: 0.0095 seconds, Success: True\n",
      "Iteration 3: Time taken: 0.0465 seconds, Success: True\n",
      "Iteration 4: Time taken: 0.0049 seconds, Success: True\n",
      "Iteration 5: Time taken: 0.0096 seconds, Success: True\n",
      "Iteration 6: Time taken: 0.0184 seconds, Success: True\n",
      "Iteration 7: Time taken: 0.0238 seconds, Success: True\n",
      "Iteration 8: Time taken: 0.0126 seconds, Success: True\n",
      "Iteration 9: Time taken: 0.0045 seconds, Success: True\n",
      "Iteration 10: Time taken: 0.0054 seconds, Success: True\n",
      "Total time taken for all maps: 0.4016 seconds\n",
      "Map 1\n",
      "Iteration 1: Time taken: 0.0059 seconds, Success: True\n",
      "Iteration 2: Time taken: 0.0090 seconds, Success: True\n",
      "Iteration 3: Time taken: 0.0091 seconds, Success: True\n",
      "Iteration 4: Time taken: 0.0066 seconds, Success: True\n",
      "Iteration 5: Time taken: 0.0183 seconds, Success: True\n",
      "Iteration 6: Time taken: 0.0046 seconds, Success: True\n",
      "Iteration 7: Time taken: 0.0201 seconds, Success: True\n",
      "Iteration 8: Time taken: 0.0055 seconds, Success: True\n",
      "Iteration 9: Time taken: 0.0049 seconds, Success: True\n",
      "Iteration 10: Time taken: 0.0108 seconds, Success: True\n",
      "Map 2\n",
      "Iteration 1: Time taken: 0.0237 seconds, Success: True\n",
      "Iteration 2: Time taken: 0.0233 seconds, Success: True\n",
      "Iteration 3: Time taken: 0.0244 seconds, Success: True\n",
      "Iteration 4: Time taken: 0.0244 seconds, Success: True\n",
      "Iteration 5: Time taken: 0.0160 seconds, Success: True\n",
      "Iteration 6: Time taken: 0.0212 seconds, Success: True\n",
      "Iteration 7: Time taken: 0.0133 seconds, Success: True\n",
      "Iteration 8: Time taken: 0.0174 seconds, Success: True\n",
      "Iteration 9: Time taken: 0.0318 seconds, Success: True\n",
      "Iteration 10: Time taken: 0.0141 seconds, Success: True\n",
      "Map 3\n",
      "Iteration 1: Time taken: 0.0473 seconds, Success: True\n",
      "Iteration 2: Time taken: 0.0095 seconds, Success: True\n",
      "Iteration 3: Time taken: 0.0628 seconds, Success: True\n",
      "Iteration 4: Time taken: 0.0422 seconds, Success: True\n",
      "Iteration 5: Time taken: 0.0056 seconds, Success: True\n",
      "Iteration 6: Time taken: 0.0091 seconds, Success: True\n",
      "Iteration 7: Time taken: 0.0054 seconds, Success: True\n",
      "Iteration 8: Time taken: 0.0287 seconds, Success: True\n",
      "Iteration 9: Time taken: 0.0049 seconds, Success: True\n",
      "Iteration 10: Time taken: 0.0071 seconds, Success: True\n",
      "Total time taken for all maps: 0.5396 seconds\n",
      "Map 1\n",
      "Iteration 1: Time taken: 0.0036 seconds, Success: True\n",
      "Iteration 2: Time taken: 0.0076 seconds, Success: True\n",
      "Iteration 3: Time taken: 0.0065 seconds, Success: True\n",
      "Iteration 4: Time taken: 0.0068 seconds, Success: True\n",
      "Iteration 5: Time taken: 0.0033 seconds, Success: True\n",
      "Iteration 6: Time taken: 0.0144 seconds, Success: True\n",
      "Iteration 7: Time taken: 0.0064 seconds, Success: True\n",
      "Iteration 8: Time taken: 0.0069 seconds, Success: True\n",
      "Iteration 9: Time taken: 0.0062 seconds, Success: True\n",
      "Iteration 10: Time taken: 0.0077 seconds, Success: True\n",
      "Map 2\n",
      "Iteration 1: Time taken: 0.0262 seconds, Success: True\n",
      "Iteration 2: Time taken: 0.0183 seconds, Success: True\n",
      "Iteration 3: Time taken: 0.0094 seconds, Success: True\n",
      "Iteration 4: Time taken: 0.0123 seconds, Success: True\n",
      "Iteration 5: Time taken: 0.0151 seconds, Success: True\n",
      "Iteration 6: Time taken: 0.0147 seconds, Success: True\n",
      "Iteration 7: Time taken: 0.0089 seconds, Success: True\n",
      "Iteration 8: Time taken: 0.0172 seconds, Success: True\n",
      "Iteration 9: Time taken: 0.0158 seconds, Success: True\n",
      "Iteration 10: Time taken: 0.0138 seconds, Success: True\n",
      "Map 3\n",
      "Iteration 1: Time taken: 0.0048 seconds, Success: True\n",
      "Iteration 2: Time taken: 0.0050 seconds, Success: True\n",
      "Iteration 3: Time taken: 0.0196 seconds, Success: True\n",
      "Iteration 4: Time taken: 0.0074 seconds, Success: True\n",
      "Iteration 5: Time taken: 0.0039 seconds, Success: True\n",
      "Iteration 6: Time taken: 0.0098 seconds, Success: True\n",
      "Iteration 7: Time taken: 0.0037 seconds, Success: True\n",
      "Iteration 8: Time taken: 0.0076 seconds, Success: True\n",
      "Iteration 9: Time taken: 0.0067 seconds, Success: True\n",
      "Iteration 10: Time taken: 0.0160 seconds, Success: True\n",
      "Total time taken for all maps: 0.3183 seconds\n",
      "Map 1\n",
      "Iteration 1: Time taken: 0.0068 seconds, Success: True\n",
      "Iteration 2: Time taken: 0.0251 seconds, Success: True\n",
      "Iteration 3: Time taken: 0.0059 seconds, Success: True\n",
      "Iteration 4: Time taken: 0.0052 seconds, Success: True\n",
      "Iteration 5: Time taken: 0.0054 seconds, Success: True\n",
      "Iteration 6: Time taken: 0.0057 seconds, Success: True\n",
      "Iteration 7: Time taken: 0.0052 seconds, Success: True\n",
      "Iteration 8: Time taken: 0.0034 seconds, Success: True\n",
      "Iteration 9: Time taken: 0.0040 seconds, Success: True\n",
      "Iteration 10: Time taken: 0.0069 seconds, Success: True\n",
      "Map 2\n",
      "Iteration 1: Time taken: 0.0131 seconds, Success: True\n",
      "Iteration 2: Time taken: 0.0185 seconds, Success: True\n",
      "Iteration 3: Time taken: 0.0174 seconds, Success: True\n",
      "Iteration 4: Time taken: 0.0187 seconds, Success: True\n",
      "Iteration 5: Time taken: 0.0080 seconds, Success: True\n",
      "Iteration 6: Time taken: 0.0149 seconds, Success: True\n",
      "Iteration 7: Time taken: 0.0111 seconds, Success: True\n",
      "Iteration 8: Time taken: 0.0178 seconds, Success: True\n",
      "Iteration 9: Time taken: 0.0165 seconds, Success: True\n",
      "Iteration 10: Time taken: 0.0139 seconds, Success: True\n",
      "Map 3\n",
      "Iteration 1: Time taken: 0.0113 seconds, Success: True\n",
      "Iteration 2: Time taken: 0.0125 seconds, Success: True\n",
      "Iteration 3: Time taken: 0.0027 seconds, Success: True\n",
      "Iteration 4: Time taken: 0.0043 seconds, Success: True\n",
      "Iteration 5: Time taken: 0.0076 seconds, Success: True\n",
      "Iteration 6: Time taken: 0.0041 seconds, Success: True\n",
      "Iteration 7: Time taken: 0.0098 seconds, Success: True\n",
      "Iteration 8: Time taken: 0.0042 seconds, Success: True\n",
      "Iteration 9: Time taken: 0.0077 seconds, Success: True\n",
      "Iteration 10: Time taken: 0.0030 seconds, Success: True\n",
      "Total time taken for all maps: 0.3231 seconds\n",
      "Map 1\n",
      "Iteration 1: Time taken: 0.0287 seconds, Success: True\n",
      "Iteration 2: Time taken: 0.0050 seconds, Success: True\n",
      "Iteration 3: Time taken: 0.0078 seconds, Success: True\n",
      "Iteration 4: Time taken: 0.0077 seconds, Success: True\n",
      "Iteration 5: Time taken: 0.0056 seconds, Success: True\n",
      "Iteration 6: Time taken: 0.0084 seconds, Success: True\n",
      "Iteration 7: Time taken: 0.0055 seconds, Success: True\n",
      "Iteration 8: Time taken: 0.0069 seconds, Success: True\n",
      "Iteration 9: Time taken: 0.0132 seconds, Success: True\n",
      "Iteration 10: Time taken: 0.0049 seconds, Success: True\n",
      "Map 2\n",
      "Iteration 1: Time taken: 0.0174 seconds, Success: True\n",
      "Iteration 2: Time taken: 0.0199 seconds, Success: True\n",
      "Iteration 3: Time taken: 0.0553 seconds, Success: True\n",
      "Iteration 4: Time taken: 0.0141 seconds, Success: True\n",
      "Iteration 5: Time taken: 0.0185 seconds, Success: True\n",
      "Iteration 6: Time taken: 0.0221 seconds, Success: True\n",
      "Iteration 7: Time taken: 0.0368 seconds, Success: True\n",
      "Iteration 8: Time taken: 0.0216 seconds, Success: True\n",
      "Iteration 9: Time taken: 0.0225 seconds, Success: True\n",
      "Iteration 10: Time taken: 0.0175 seconds, Success: True\n",
      "Map 3\n",
      "Iteration 1: Time taken: 0.0049 seconds, Success: True\n",
      "Iteration 2: Time taken: 0.0144 seconds, Success: True\n",
      "Iteration 3: Time taken: 0.0073 seconds, Success: True\n",
      "Iteration 4: Time taken: 0.0049 seconds, Success: True\n",
      "Iteration 5: Time taken: 0.0054 seconds, Success: True\n",
      "Iteration 6: Time taken: 0.0063 seconds, Success: True\n",
      "Iteration 7: Time taken: 0.0106 seconds, Success: True\n",
      "Iteration 8: Time taken: 0.0036 seconds, Success: True\n",
      "Iteration 9: Time taken: 0.0068 seconds, Success: True\n",
      "Iteration 10: Time taken: 0.0055 seconds, Success: True\n",
      "Total time taken for all maps: 0.4211 seconds\n",
      "Map 1\n",
      "Iteration 1: Time taken: 0.0060 seconds, Success: True\n",
      "Iteration 2: Time taken: 0.0106 seconds, Success: True\n",
      "Iteration 3: Time taken: 0.0063 seconds, Success: True\n",
      "Iteration 4: Time taken: 0.0078 seconds, Success: True\n",
      "Iteration 5: Time taken: 0.0056 seconds, Success: True\n",
      "Iteration 6: Time taken: 0.0064 seconds, Success: True\n",
      "Iteration 7: Time taken: 0.0051 seconds, Success: True\n",
      "Iteration 8: Time taken: 0.0115 seconds, Success: True\n",
      "Iteration 9: Time taken: 0.0097 seconds, Success: True\n",
      "Iteration 10: Time taken: 0.0057 seconds, Success: True\n",
      "Map 2\n",
      "Iteration 1: Time taken: 0.0364 seconds, Success: True\n",
      "Iteration 2: Time taken: 0.0232 seconds, Success: True\n",
      "Iteration 3: Time taken: 0.0217 seconds, Success: True\n",
      "Iteration 4: Time taken: 0.0265 seconds, Success: True\n",
      "Iteration 5: Time taken: 0.0152 seconds, Success: True\n",
      "Iteration 6: Time taken: 0.0169 seconds, Success: True\n",
      "Iteration 7: Time taken: 0.0175 seconds, Success: True\n",
      "Iteration 8: Time taken: 0.0163 seconds, Success: True\n",
      "Iteration 9: Time taken: 0.0146 seconds, Success: True\n",
      "Iteration 10: Time taken: 0.0118 seconds, Success: True\n",
      "Map 3\n",
      "Iteration 1: Time taken: 0.0205 seconds, Success: True\n",
      "Iteration 2: Time taken: 0.0106 seconds, Success: True\n",
      "Iteration 3: Time taken: 0.0147 seconds, Success: True\n",
      "Iteration 4: Time taken: 0.0120 seconds, Success: True\n",
      "Iteration 5: Time taken: 0.0085 seconds, Success: True\n",
      "Iteration 6: Time taken: 0.0049 seconds, Success: True\n",
      "Iteration 7: Time taken: 0.0126 seconds, Success: True\n",
      "Iteration 8: Time taken: 0.0067 seconds, Success: True\n",
      "Iteration 9: Time taken: 0.0073 seconds, Success: True\n",
      "Iteration 10: Time taken: 0.0039 seconds, Success: True\n",
      "Total time taken for all maps: 0.3883 seconds\n",
      "Map 1\n",
      "Iteration 1: Time taken: 0.0064 seconds, Success: True\n",
      "Iteration 2: Time taken: 0.0067 seconds, Success: True\n",
      "Iteration 3: Time taken: 0.0047 seconds, Success: True\n",
      "Iteration 4: Time taken: 0.0080 seconds, Success: True\n",
      "Iteration 5: Time taken: 0.0074 seconds, Success: True\n",
      "Iteration 6: Time taken: 0.0041 seconds, Success: True\n",
      "Iteration 7: Time taken: 0.0063 seconds, Success: True\n",
      "Iteration 8: Time taken: 0.0078 seconds, Success: True\n",
      "Iteration 9: Time taken: 0.0070 seconds, Success: True\n",
      "Iteration 10: Time taken: 0.0098 seconds, Success: True\n",
      "Map 2\n",
      "Iteration 1: Time taken: 0.0169 seconds, Success: True\n",
      "Iteration 2: Time taken: 0.0175 seconds, Success: True\n",
      "Iteration 3: Time taken: 0.0142 seconds, Success: True\n",
      "Iteration 4: Time taken: 0.0115 seconds, Success: True\n",
      "Iteration 5: Time taken: 0.0209 seconds, Success: True\n",
      "Iteration 6: Time taken: 0.0256 seconds, Success: True\n",
      "Iteration 7: Time taken: 0.0218 seconds, Success: True\n",
      "Iteration 8: Time taken: 0.0244 seconds, Success: True\n",
      "Iteration 9: Time taken: 0.0134 seconds, Success: True\n",
      "Iteration 10: Time taken: 0.0159 seconds, Success: True\n",
      "Map 3\n",
      "Iteration 1: Time taken: 0.0091 seconds, Success: True\n",
      "Iteration 2: Time taken: 0.0086 seconds, Success: True\n",
      "Iteration 3: Time taken: 0.0052 seconds, Success: True\n",
      "Iteration 4: Time taken: 0.0050 seconds, Success: True\n",
      "Iteration 5: Time taken: 0.0379 seconds, Success: True\n",
      "Iteration 6: Time taken: 0.0102 seconds, Success: True\n",
      "Iteration 7: Time taken: 0.0182 seconds, Success: True\n",
      "Iteration 8: Time taken: 0.0037 seconds, Success: True\n",
      "Iteration 9: Time taken: 0.0651 seconds, Success: True\n",
      "Iteration 10: Time taken: 0.0169 seconds, Success: True\n",
      "Total time taken for all maps: 0.4418 seconds\n",
      "Map 1\n",
      "Iteration 1: Time taken: 0.0045 seconds, Success: True\n",
      "Iteration 2: Time taken: 0.0080 seconds, Success: True\n",
      "Iteration 3: Time taken: 0.0066 seconds, Success: True\n",
      "Iteration 4: Time taken: 0.0077 seconds, Success: True\n",
      "Iteration 5: Time taken: 0.0055 seconds, Success: True\n",
      "Iteration 6: Time taken: 0.0045 seconds, Success: True\n",
      "Iteration 7: Time taken: 0.0215 seconds, Success: True\n",
      "Iteration 8: Time taken: 0.0064 seconds, Success: True\n",
      "Iteration 9: Time taken: 0.0051 seconds, Success: True\n",
      "Iteration 10: Time taken: 0.0083 seconds, Success: True\n",
      "Map 2\n",
      "Iteration 1: Time taken: 0.0155 seconds, Success: True\n",
      "Iteration 2: Time taken: 0.0190 seconds, Success: True\n",
      "Iteration 3: Time taken: 0.0264 seconds, Success: True\n",
      "Iteration 4: Time taken: 0.0176 seconds, Success: True\n",
      "Iteration 5: Time taken: 0.0192 seconds, Success: True\n",
      "Iteration 6: Time taken: 0.0121 seconds, Success: True\n",
      "Iteration 7: Time taken: 0.0203 seconds, Success: True\n",
      "Iteration 8: Time taken: 0.0123 seconds, Success: True\n",
      "Iteration 9: Time taken: 0.0231 seconds, Success: True\n",
      "Iteration 10: Time taken: 0.0213 seconds, Success: True\n",
      "Map 3\n",
      "Iteration 1: Time taken: 0.0214 seconds, Success: True\n",
      "Iteration 2: Time taken: 0.0053 seconds, Success: True\n",
      "Iteration 3: Time taken: 0.0083 seconds, Success: True\n",
      "Iteration 4: Time taken: 0.0136 seconds, Success: True\n",
      "Iteration 5: Time taken: 0.0150 seconds, Success: True\n",
      "Iteration 6: Time taken: 0.0035 seconds, Success: True\n",
      "Iteration 7: Time taken: 0.0067 seconds, Success: True\n",
      "Iteration 8: Time taken: 0.0232 seconds, Success: True\n",
      "Iteration 9: Time taken: 0.0138 seconds, Success: True\n",
      "Iteration 10: Time taken: 0.0111 seconds, Success: True\n",
      "Total time taken for all maps: 0.3986 seconds\n",
      "Map 1\n",
      "Iteration 1: Time taken: 0.0102 seconds, Success: True\n",
      "Iteration 2: Time taken: 0.0080 seconds, Success: True\n",
      "Iteration 3: Time taken: 0.0064 seconds, Success: True\n",
      "Iteration 4: Time taken: 0.0042 seconds, Success: True\n",
      "Iteration 5: Time taken: 0.0045 seconds, Success: True\n",
      "Iteration 6: Time taken: 0.0057 seconds, Success: True\n",
      "Iteration 7: Time taken: 0.0058 seconds, Success: True\n",
      "Iteration 8: Time taken: 0.0075 seconds, Success: True\n",
      "Iteration 9: Time taken: 0.0088 seconds, Success: True\n",
      "Iteration 10: Time taken: 0.0082 seconds, Success: True\n",
      "Map 2\n",
      "Iteration 1: Time taken: 0.0176 seconds, Success: True\n",
      "Iteration 2: Time taken: 0.0179 seconds, Success: True\n",
      "Iteration 3: Time taken: 0.0213 seconds, Success: True\n",
      "Iteration 4: Time taken: 0.0195 seconds, Success: True\n",
      "Iteration 5: Time taken: 0.0157 seconds, Success: True\n",
      "Iteration 6: Time taken: 0.0239 seconds, Success: True\n",
      "Iteration 7: Time taken: 0.0245 seconds, Success: True\n",
      "Iteration 8: Time taken: 0.0175 seconds, Success: True\n",
      "Iteration 9: Time taken: 0.0119 seconds, Success: True\n",
      "Iteration 10: Time taken: 0.0180 seconds, Success: True\n",
      "Map 3\n",
      "Iteration 1: Time taken: 0.0281 seconds, Success: True\n",
      "Iteration 2: Time taken: 0.0478 seconds, Success: True\n",
      "Iteration 3: Time taken: 0.0047 seconds, Success: True\n",
      "Iteration 4: Time taken: 0.0038 seconds, Success: True\n",
      "Iteration 5: Time taken: 0.1090 seconds, Success: True\n",
      "Iteration 6: Time taken: 0.0039 seconds, Success: True\n",
      "Iteration 7: Time taken: 0.0037 seconds, Success: True\n",
      "Iteration 8: Time taken: 0.0060 seconds, Success: True\n",
      "Iteration 9: Time taken: 0.0046 seconds, Success: True\n",
      "Iteration 10: Time taken: 0.0137 seconds, Success: True\n",
      "Total time taken for all maps: 0.4941 seconds\n",
      "Map 1\n",
      "Iteration 1: Time taken: 0.0087 seconds, Success: True\n",
      "Iteration 2: Time taken: 0.0053 seconds, Success: True\n",
      "Iteration 3: Time taken: 0.0056 seconds, Success: True\n",
      "Iteration 4: Time taken: 0.0095 seconds, Success: True\n",
      "Iteration 5: Time taken: 0.0156 seconds, Success: True\n",
      "Iteration 6: Time taken: 0.0061 seconds, Success: True\n",
      "Iteration 7: Time taken: 0.0057 seconds, Success: True\n",
      "Iteration 8: Time taken: 0.0080 seconds, Success: True\n",
      "Iteration 9: Time taken: 0.0085 seconds, Success: True\n",
      "Iteration 10: Time taken: 0.0046 seconds, Success: True\n",
      "Map 2\n",
      "Iteration 1: Time taken: 0.0163 seconds, Success: True\n",
      "Iteration 2: Time taken: 0.0303 seconds, Success: True\n",
      "Iteration 3: Time taken: 0.0166 seconds, Success: True\n",
      "Iteration 4: Time taken: 0.0213 seconds, Success: True\n",
      "Iteration 5: Time taken: 0.0107 seconds, Success: True\n",
      "Iteration 6: Time taken: 0.0200 seconds, Success: True\n",
      "Iteration 7: Time taken: 0.0125 seconds, Success: True\n",
      "Iteration 8: Time taken: 0.0252 seconds, Success: True\n",
      "Iteration 9: Time taken: 0.0262 seconds, Success: True\n",
      "Iteration 10: Time taken: 0.0220 seconds, Success: True\n",
      "Map 3\n",
      "Iteration 1: Time taken: 0.0033 seconds, Success: True\n",
      "Iteration 2: Time taken: 0.0126 seconds, Success: True\n",
      "Iteration 3: Time taken: 0.0049 seconds, Success: True\n",
      "Iteration 4: Time taken: 0.0045 seconds, Success: True\n",
      "Iteration 5: Time taken: 0.0241 seconds, Success: True\n",
      "Iteration 6: Time taken: 0.0093 seconds, Success: True\n",
      "Iteration 7: Time taken: 0.0119 seconds, Success: True\n",
      "Iteration 8: Time taken: 0.0376 seconds, Success: True\n",
      "Iteration 9: Time taken: 0.0642 seconds, Success: True\n",
      "Iteration 10: Time taken: 0.0215 seconds, Success: True\n",
      "Total time taken for all maps: 0.4847 seconds\n",
      "Map 1\n",
      "Iteration 1: Time taken: 0.0055 seconds, Success: True\n",
      "Iteration 2: Time taken: 0.0105 seconds, Success: True\n",
      "Iteration 3: Time taken: 0.0072 seconds, Success: True\n",
      "Iteration 4: Time taken: 0.0068 seconds, Success: True\n",
      "Iteration 5: Time taken: 0.0052 seconds, Success: True\n",
      "Iteration 6: Time taken: 0.0052 seconds, Success: True\n",
      "Iteration 7: Time taken: 0.0101 seconds, Success: True\n",
      "Iteration 8: Time taken: 0.0074 seconds, Success: True\n",
      "Iteration 9: Time taken: 0.0061 seconds, Success: True\n",
      "Iteration 10: Time taken: 0.0111 seconds, Success: True\n",
      "Map 2\n",
      "Iteration 1: Time taken: 0.0217 seconds, Success: True\n",
      "Iteration 2: Time taken: 0.0103 seconds, Success: True\n",
      "Iteration 3: Time taken: 0.0260 seconds, Success: True\n",
      "Iteration 4: Time taken: 0.0133 seconds, Success: True\n",
      "Iteration 5: Time taken: 0.0146 seconds, Success: True\n",
      "Iteration 6: Time taken: 0.0185 seconds, Success: True\n",
      "Iteration 7: Time taken: 0.0200 seconds, Success: True\n",
      "Iteration 8: Time taken: 0.0209 seconds, Success: True\n",
      "Iteration 9: Time taken: 0.0109 seconds, Success: True\n",
      "Iteration 10: Time taken: 0.0102 seconds, Success: True\n",
      "Map 3\n",
      "Iteration 1: Time taken: 0.0072 seconds, Success: True\n",
      "Iteration 2: Time taken: 0.0285 seconds, Success: True\n",
      "Iteration 3: Time taken: 0.0044 seconds, Success: True\n",
      "Iteration 4: Time taken: 0.0060 seconds, Success: True\n",
      "Iteration 5: Time taken: 0.0083 seconds, Success: True\n",
      "Iteration 6: Time taken: 0.0036 seconds, Success: True\n",
      "Iteration 7: Time taken: 0.0050 seconds, Success: True\n",
      "Iteration 8: Time taken: 0.0111 seconds, Success: True\n",
      "Iteration 9: Time taken: 0.0974 seconds, Success: True\n",
      "Iteration 10: Time taken: 0.0058 seconds, Success: True\n",
      "Total time taken for all maps: 0.4304 seconds\n",
      "Map 1\n",
      "Iteration 1: Time taken: 0.0158 seconds, Success: True\n",
      "Iteration 2: Time taken: 0.0064 seconds, Success: True\n",
      "Iteration 3: Time taken: 0.0083 seconds, Success: True\n",
      "Iteration 4: Time taken: 0.0122 seconds, Success: True\n",
      "Iteration 5: Time taken: 0.0051 seconds, Success: True\n",
      "Iteration 6: Time taken: 0.0083 seconds, Success: True\n",
      "Iteration 7: Time taken: 0.0093 seconds, Success: True\n",
      "Iteration 8: Time taken: 0.0054 seconds, Success: True\n",
      "Iteration 9: Time taken: 0.0052 seconds, Success: True\n",
      "Iteration 10: Time taken: 0.0054 seconds, Success: True\n",
      "Map 2\n",
      "Iteration 1: Time taken: 0.0148 seconds, Success: True\n",
      "Iteration 2: Time taken: 0.0318 seconds, Success: True\n",
      "Iteration 3: Time taken: 0.0165 seconds, Success: True\n",
      "Iteration 4: Time taken: 0.0202 seconds, Success: True\n",
      "Iteration 5: Time taken: 0.0140 seconds, Success: True\n",
      "Iteration 6: Time taken: 0.0074 seconds, Success: True\n",
      "Iteration 7: Time taken: 0.0089 seconds, Success: True\n",
      "Iteration 8: Time taken: 0.0205 seconds, Success: True\n",
      "Iteration 9: Time taken: 0.0149 seconds, Success: True\n",
      "Iteration 10: Time taken: 0.0182 seconds, Success: True\n",
      "Map 3\n",
      "Iteration 1: Time taken: 0.2007 seconds, Success: True\n",
      "Iteration 2: Time taken: 0.0033 seconds, Success: True\n",
      "Iteration 3: Time taken: 0.0753 seconds, Success: True\n",
      "Iteration 4: Time taken: 0.0046 seconds, Success: True\n",
      "Iteration 5: Time taken: 0.0505 seconds, Success: True\n",
      "Iteration 6: Time taken: 0.0101 seconds, Success: True\n",
      "Iteration 7: Time taken: 0.0039 seconds, Success: True\n",
      "Iteration 8: Time taken: 0.0501 seconds, Success: True\n",
      "Iteration 9: Time taken: 0.0256 seconds, Success: True\n",
      "Iteration 10: Time taken: 0.1216 seconds, Success: True\n",
      "Total time taken for all maps: 0.8068 seconds\n"
     ]
    }
   ],
   "source": [
    "# ref_avg 앞에서 선언됨\n",
    "maps = [multi_obs_map, maze_map, narrow_map]\n",
    "benchmarker = MultiMapBenchmarker(maps=maps, iter=10)\n",
    "\n",
    "g_total_df = pd.DataFrame()\n",
    "\n",
    "for method in filtered_sorted_algorithms:\n",
    "    code_string = method['code']\n",
    "    namedf = pd.DataFrame()\n",
    "    namedf['alg_name'] = [method['objective']]* len(maps)\n",
    "    with warnings.catch_warnings():\n",
    "        warnings.simplefilter(\"ignore\")\n",
    "        planning_module = types.ModuleType(\"planning_module\")\n",
    "        exec(import_string+code_string, planning_module.__dict__)\n",
    "        sys.modules[planning_module.__name__] = planning_module\n",
    "        try:\n",
    "            planner = planning_module.Planner(max_iter=5000, step_size=5.0)\n",
    "        except:\n",
    "            continue\n",
    "        res, avg_rest = benchmarker.run(planner.plan)\n",
    "        imp_res = MultiMapBenchmarker.get_improvement(ref_avg, avg_rest)\n",
    "\n",
    "        res_df = pd.concat([namedf, avg_rest, imp_res], axis=1)\n",
    "        g_total_df = pd.concat([g_total_df, res_df], axis=0)\n",
    "\n",
    "res2 = g_total_df"
   ]
  },
  {
   "cell_type": "code",
   "execution_count": 40,
   "id": "005dd98b",
   "metadata": {},
   "outputs": [],
   "source": [
    "total_df['cls_try'] = 0\n",
    "res1['cls_try'] = 1\n",
    "res2['cls_try'] = 2"
   ]
  },
  {
   "cell_type": "code",
   "execution_count": 41,
   "id": "f2533708",
   "metadata": {},
   "outputs": [],
   "source": [
    "whole_df = pd.concat([total_df, res1, res2], axis=0)"
   ]
  },
  {
   "cell_type": "code",
   "execution_count": 42,
   "id": "3b1a7544",
   "metadata": {},
   "outputs": [
    {
     "data": {
      "text/html": [
       "<div>\n",
       "<style scoped>\n",
       "    .dataframe tbody tr th:only-of-type {\n",
       "        vertical-align: middle;\n",
       "    }\n",
       "\n",
       "    .dataframe tbody tr th {\n",
       "        vertical-align: top;\n",
       "    }\n",
       "\n",
       "    .dataframe thead th {\n",
       "        text-align: right;\n",
       "    }\n",
       "</style>\n",
       "<table border=\"1\" class=\"dataframe\">\n",
       "  <thead>\n",
       "    <tr style=\"text-align: right;\">\n",
       "      <th></th>\n",
       "      <th>alg_name</th>\n",
       "      <th>map_id</th>\n",
       "      <th>success_rate</th>\n",
       "      <th>time_avg</th>\n",
       "      <th>num_nodes_avg</th>\n",
       "      <th>path_length_avg</th>\n",
       "      <th>smoothness_avg</th>\n",
       "      <th>success_improvement</th>\n",
       "      <th>time_improvement</th>\n",
       "      <th>length_improvement</th>\n",
       "      <th>smoothness_improvement</th>\n",
       "      <th>objective_score</th>\n",
       "      <th>cls_try</th>\n",
       "    </tr>\n",
       "  </thead>\n",
       "  <tbody>\n",
       "    <tr>\n",
       "      <th>0</th>\n",
       "      <td>RRT</td>\n",
       "      <td>0</td>\n",
       "      <td>1.0</td>\n",
       "      <td>0.015138</td>\n",
       "      <td>248.7</td>\n",
       "      <td>192.016007</td>\n",
       "      <td>0.010318</td>\n",
       "      <td>0.0</td>\n",
       "      <td>-0.000000</td>\n",
       "      <td>-0.000000</td>\n",
       "      <td>-0.000000</td>\n",
       "      <td>0.000000</td>\n",
       "      <td>0</td>\n",
       "    </tr>\n",
       "    <tr>\n",
       "      <th>1</th>\n",
       "      <td>RRT</td>\n",
       "      <td>1</td>\n",
       "      <td>1.0</td>\n",
       "      <td>0.130599</td>\n",
       "      <td>1099.1</td>\n",
       "      <td>320.395966</td>\n",
       "      <td>0.006042</td>\n",
       "      <td>0.0</td>\n",
       "      <td>-0.000000</td>\n",
       "      <td>-0.000000</td>\n",
       "      <td>-0.000000</td>\n",
       "      <td>0.000000</td>\n",
       "      <td>0</td>\n",
       "    </tr>\n",
       "    <tr>\n",
       "      <th>2</th>\n",
       "      <td>RRT</td>\n",
       "      <td>2</td>\n",
       "      <td>1.0</td>\n",
       "      <td>0.030586</td>\n",
       "      <td>499.6</td>\n",
       "      <td>160.435752</td>\n",
       "      <td>0.012195</td>\n",
       "      <td>0.0</td>\n",
       "      <td>-0.000000</td>\n",
       "      <td>-0.000000</td>\n",
       "      <td>-0.000000</td>\n",
       "      <td>0.000000</td>\n",
       "      <td>0</td>\n",
       "    </tr>\n",
       "    <tr>\n",
       "      <th>0</th>\n",
       "      <td>RRT*</td>\n",
       "      <td>0</td>\n",
       "      <td>1.0</td>\n",
       "      <td>0.051288</td>\n",
       "      <td>356.4</td>\n",
       "      <td>171.250880</td>\n",
       "      <td>0.015460</td>\n",
       "      <td>0.0</td>\n",
       "      <td>-238.809167</td>\n",
       "      <td>10.814269</td>\n",
       "      <td>-49.830198</td>\n",
       "      <td>-79.445936</td>\n",
       "      <td>0</td>\n",
       "    </tr>\n",
       "    <tr>\n",
       "      <th>1</th>\n",
       "      <td>RRT*</td>\n",
       "      <td>1</td>\n",
       "      <td>1.0</td>\n",
       "      <td>0.232562</td>\n",
       "      <td>1051.9</td>\n",
       "      <td>232.617256</td>\n",
       "      <td>0.011747</td>\n",
       "      <td>0.0</td>\n",
       "      <td>-78.073377</td>\n",
       "      <td>27.396946</td>\n",
       "      <td>-94.428761</td>\n",
       "      <td>-36.828376</td>\n",
       "      <td>0</td>\n",
       "    </tr>\n",
       "    <tr>\n",
       "      <th>...</th>\n",
       "      <td>...</td>\n",
       "      <td>...</td>\n",
       "      <td>...</td>\n",
       "      <td>...</td>\n",
       "      <td>...</td>\n",
       "      <td>...</td>\n",
       "      <td>...</td>\n",
       "      <td>...</td>\n",
       "      <td>...</td>\n",
       "      <td>...</td>\n",
       "      <td>...</td>\n",
       "      <td>...</td>\n",
       "      <td>...</td>\n",
       "    </tr>\n",
       "    <tr>\n",
       "      <th>1</th>\n",
       "      <td>-2.05071</td>\n",
       "      <td>1</td>\n",
       "      <td>1.0</td>\n",
       "      <td>0.016635</td>\n",
       "      <td>213.1</td>\n",
       "      <td>239.538400</td>\n",
       "      <td>0.106945</td>\n",
       "      <td>0.0</td>\n",
       "      <td>87.262714</td>\n",
       "      <td>25.236761</td>\n",
       "      <td>-1670.151864</td>\n",
       "      <td>-302.804206</td>\n",
       "      <td>2</td>\n",
       "    </tr>\n",
       "    <tr>\n",
       "      <th>2</th>\n",
       "      <td>-2.05071</td>\n",
       "      <td>2</td>\n",
       "      <td>1.0</td>\n",
       "      <td>0.017740</td>\n",
       "      <td>167.4</td>\n",
       "      <td>124.523413</td>\n",
       "      <td>0.106549</td>\n",
       "      <td>0.0</td>\n",
       "      <td>41.998503</td>\n",
       "      <td>22.384250</td>\n",
       "      <td>-773.685885</td>\n",
       "      <td>-137.660776</td>\n",
       "      <td>2</td>\n",
       "    </tr>\n",
       "    <tr>\n",
       "      <th>0</th>\n",
       "      <td>-1.99103</td>\n",
       "      <td>0</td>\n",
       "      <td>1.0</td>\n",
       "      <td>0.008143</td>\n",
       "      <td>77.4</td>\n",
       "      <td>165.910628</td>\n",
       "      <td>0.034140</td>\n",
       "      <td>0.0</td>\n",
       "      <td>46.204465</td>\n",
       "      <td>13.595418</td>\n",
       "      <td>-230.878655</td>\n",
       "      <td>-29.595308</td>\n",
       "      <td>2</td>\n",
       "    </tr>\n",
       "    <tr>\n",
       "      <th>1</th>\n",
       "      <td>-1.99103</td>\n",
       "      <td>1</td>\n",
       "      <td>1.0</td>\n",
       "      <td>0.016719</td>\n",
       "      <td>195.7</td>\n",
       "      <td>229.290488</td>\n",
       "      <td>0.103002</td>\n",
       "      <td>0.0</td>\n",
       "      <td>87.198071</td>\n",
       "      <td>28.435276</td>\n",
       "      <td>-1604.886471</td>\n",
       "      <td>-289.130818</td>\n",
       "      <td>2</td>\n",
       "    </tr>\n",
       "    <tr>\n",
       "      <th>2</th>\n",
       "      <td>-1.99103</td>\n",
       "      <td>2</td>\n",
       "      <td>1.0</td>\n",
       "      <td>0.054560</td>\n",
       "      <td>288.1</td>\n",
       "      <td>127.715733</td>\n",
       "      <td>0.113927</td>\n",
       "      <td>0.0</td>\n",
       "      <td>-78.383066</td>\n",
       "      <td>20.394468</td>\n",
       "      <td>-834.186962</td>\n",
       "      <td>-186.273419</td>\n",
       "      <td>2</td>\n",
       "    </tr>\n",
       "  </tbody>\n",
       "</table>\n",
       "<p>132 rows × 13 columns</p>\n",
       "</div>"
      ],
      "text/plain": [
       "   alg_name  map_id  success_rate  time_avg  num_nodes_avg  path_length_avg  \\\n",
       "0       RRT       0           1.0  0.015138          248.7       192.016007   \n",
       "1       RRT       1           1.0  0.130599         1099.1       320.395966   \n",
       "2       RRT       2           1.0  0.030586          499.6       160.435752   \n",
       "0      RRT*       0           1.0  0.051288          356.4       171.250880   \n",
       "1      RRT*       1           1.0  0.232562         1051.9       232.617256   \n",
       "..      ...     ...           ...       ...            ...              ...   \n",
       "1  -2.05071       1           1.0  0.016635          213.1       239.538400   \n",
       "2  -2.05071       2           1.0  0.017740          167.4       124.523413   \n",
       "0  -1.99103       0           1.0  0.008143           77.4       165.910628   \n",
       "1  -1.99103       1           1.0  0.016719          195.7       229.290488   \n",
       "2  -1.99103       2           1.0  0.054560          288.1       127.715733   \n",
       "\n",
       "    smoothness_avg  success_improvement  time_improvement  length_improvement  \\\n",
       "0         0.010318                  0.0         -0.000000           -0.000000   \n",
       "1         0.006042                  0.0         -0.000000           -0.000000   \n",
       "2         0.012195                  0.0         -0.000000           -0.000000   \n",
       "0         0.015460                  0.0       -238.809167           10.814269   \n",
       "1         0.011747                  0.0        -78.073377           27.396946   \n",
       "..             ...                  ...               ...                 ...   \n",
       "1         0.106945                  0.0         87.262714           25.236761   \n",
       "2         0.106549                  0.0         41.998503           22.384250   \n",
       "0         0.034140                  0.0         46.204465           13.595418   \n",
       "1         0.103002                  0.0         87.198071           28.435276   \n",
       "2         0.113927                  0.0        -78.383066           20.394468   \n",
       "\n",
       "    smoothness_improvement  objective_score  cls_try  \n",
       "0                -0.000000         0.000000        0  \n",
       "1                -0.000000         0.000000        0  \n",
       "2                -0.000000         0.000000        0  \n",
       "0               -49.830198       -79.445936        0  \n",
       "1               -94.428761       -36.828376        0  \n",
       "..                     ...              ...      ...  \n",
       "1             -1670.151864      -302.804206        2  \n",
       "2              -773.685885      -137.660776        2  \n",
       "0              -230.878655       -29.595308        2  \n",
       "1             -1604.886471      -289.130818        2  \n",
       "2              -834.186962      -186.273419        2  \n",
       "\n",
       "[132 rows x 13 columns]"
      ]
     },
     "execution_count": 42,
     "metadata": {},
     "output_type": "execute_result"
    }
   ],
   "source": [
    "whole_df"
   ]
  },
  {
   "cell_type": "code",
   "execution_count": 43,
   "id": "357d64e5",
   "metadata": {},
   "outputs": [
    {
     "data": {
      "text/html": [
       "<div>\n",
       "<style scoped>\n",
       "    .dataframe tbody tr th:only-of-type {\n",
       "        vertical-align: middle;\n",
       "    }\n",
       "\n",
       "    .dataframe tbody tr th {\n",
       "        vertical-align: top;\n",
       "    }\n",
       "\n",
       "    .dataframe thead th {\n",
       "        text-align: right;\n",
       "    }\n",
       "</style>\n",
       "<table border=\"1\" class=\"dataframe\">\n",
       "  <thead>\n",
       "    <tr style=\"text-align: right;\">\n",
       "      <th></th>\n",
       "      <th>map_id</th>\n",
       "      <th>success_rate</th>\n",
       "      <th>time_avg</th>\n",
       "      <th>num_nodes_avg</th>\n",
       "      <th>path_length_avg</th>\n",
       "      <th>smoothness_avg</th>\n",
       "      <th>success_improvement</th>\n",
       "      <th>time_improvement</th>\n",
       "      <th>length_improvement</th>\n",
       "      <th>smoothness_improvement</th>\n",
       "      <th>objective_score</th>\n",
       "      <th>cls_try</th>\n",
       "    </tr>\n",
       "    <tr>\n",
       "      <th>alg_name</th>\n",
       "      <th></th>\n",
       "      <th></th>\n",
       "      <th></th>\n",
       "      <th></th>\n",
       "      <th></th>\n",
       "      <th></th>\n",
       "      <th></th>\n",
       "      <th></th>\n",
       "      <th></th>\n",
       "      <th></th>\n",
       "      <th></th>\n",
       "      <th></th>\n",
       "    </tr>\n",
       "  </thead>\n",
       "  <tbody>\n",
       "    <tr>\n",
       "      <th>-15.03871</th>\n",
       "      <td>1.0</td>\n",
       "      <td>1.000000</td>\n",
       "      <td>0.008717</td>\n",
       "      <td>159.100000</td>\n",
       "      <td>204.043208</td>\n",
       "      <td>0.011024</td>\n",
       "      <td>0.000000</td>\n",
       "      <td>75.780380</td>\n",
       "      <td>8.870378</td>\n",
       "      <td>-15.308153</td>\n",
       "      <td>21.446559</td>\n",
       "      <td>1.0</td>\n",
       "    </tr>\n",
       "    <tr>\n",
       "      <th>-14.13591</th>\n",
       "      <td>1.0</td>\n",
       "      <td>1.000000</td>\n",
       "      <td>0.012726</td>\n",
       "      <td>187.833333</td>\n",
       "      <td>199.432910</td>\n",
       "      <td>0.014364</td>\n",
       "      <td>0.000000</td>\n",
       "      <td>68.951808</td>\n",
       "      <td>12.138289</td>\n",
       "      <td>-46.285125</td>\n",
       "      <td>13.856175</td>\n",
       "      <td>1.0</td>\n",
       "    </tr>\n",
       "    <tr>\n",
       "      <th>-11.35589</th>\n",
       "      <td>1.0</td>\n",
       "      <td>1.000000</td>\n",
       "      <td>0.018383</td>\n",
       "      <td>168.566667</td>\n",
       "      <td>200.654919</td>\n",
       "      <td>0.012071</td>\n",
       "      <td>0.000000</td>\n",
       "      <td>54.059898</td>\n",
       "      <td>10.256080</td>\n",
       "      <td>-26.085827</td>\n",
       "      <td>13.052020</td>\n",
       "      <td>1.0</td>\n",
       "    </tr>\n",
       "    <tr>\n",
       "      <th>-11.12807</th>\n",
       "      <td>1.0</td>\n",
       "      <td>1.000000</td>\n",
       "      <td>0.016015</td>\n",
       "      <td>169.066667</td>\n",
       "      <td>178.872845</td>\n",
       "      <td>0.071576</td>\n",
       "      <td>0.000000</td>\n",
       "      <td>50.953040</td>\n",
       "      <td>19.403655</td>\n",
       "      <td>-678.612633</td>\n",
       "      <td>-116.555884</td>\n",
       "      <td>2.0</td>\n",
       "    </tr>\n",
       "    <tr>\n",
       "      <th>-10.57241</th>\n",
       "      <td>1.0</td>\n",
       "      <td>1.000000</td>\n",
       "      <td>0.011115</td>\n",
       "      <td>152.300000</td>\n",
       "      <td>175.668521</td>\n",
       "      <td>0.066166</td>\n",
       "      <td>0.000000</td>\n",
       "      <td>66.898214</td>\n",
       "      <td>21.235157</td>\n",
       "      <td>-621.133706</td>\n",
       "      <td>-99.910246</td>\n",
       "      <td>1.0</td>\n",
       "    </tr>\n",
       "    <tr>\n",
       "      <th>-9.55661</th>\n",
       "      <td>1.0</td>\n",
       "      <td>1.000000</td>\n",
       "      <td>0.009738</td>\n",
       "      <td>169.000000</td>\n",
       "      <td>199.482939</td>\n",
       "      <td>0.013761</td>\n",
       "      <td>0.000000</td>\n",
       "      <td>74.313970</td>\n",
       "      <td>11.184416</td>\n",
       "      <td>-41.146114</td>\n",
       "      <td>16.301851</td>\n",
       "      <td>1.0</td>\n",
       "    </tr>\n",
       "    <tr>\n",
       "      <th>-9.23875</th>\n",
       "      <td>1.0</td>\n",
       "      <td>1.000000</td>\n",
       "      <td>0.012813</td>\n",
       "      <td>196.033333</td>\n",
       "      <td>209.707866</td>\n",
       "      <td>0.010682</td>\n",
       "      <td>0.000000</td>\n",
       "      <td>68.091916</td>\n",
       "      <td>6.278594</td>\n",
       "      <td>-11.965123</td>\n",
       "      <td>19.290269</td>\n",
       "      <td>1.0</td>\n",
       "    </tr>\n",
       "    <tr>\n",
       "      <th>-8.93552</th>\n",
       "      <td>1.0</td>\n",
       "      <td>1.000000</td>\n",
       "      <td>0.016177</td>\n",
       "      <td>216.833333</td>\n",
       "      <td>199.990028</td>\n",
       "      <td>0.012890</td>\n",
       "      <td>0.000000</td>\n",
       "      <td>57.620095</td>\n",
       "      <td>10.872224</td>\n",
       "      <td>-33.941516</td>\n",
       "      <td>12.672170</td>\n",
       "      <td>1.0</td>\n",
       "    </tr>\n",
       "    <tr>\n",
       "      <th>-8.86231</th>\n",
       "      <td>1.0</td>\n",
       "      <td>0.966667</td>\n",
       "      <td>0.013333</td>\n",
       "      <td>124.266667</td>\n",
       "      <td>209.325132</td>\n",
       "      <td>0.012041</td>\n",
       "      <td>-3.333333</td>\n",
       "      <td>69.325857</td>\n",
       "      <td>7.045306</td>\n",
       "      <td>-24.201514</td>\n",
       "      <td>0.699849</td>\n",
       "      <td>1.0</td>\n",
       "    </tr>\n",
       "    <tr>\n",
       "      <th>-7.55322</th>\n",
       "      <td>1.0</td>\n",
       "      <td>1.000000</td>\n",
       "      <td>0.018607</td>\n",
       "      <td>154.033333</td>\n",
       "      <td>180.891690</td>\n",
       "      <td>0.060086</td>\n",
       "      <td>0.000000</td>\n",
       "      <td>50.847443</td>\n",
       "      <td>18.307114</td>\n",
       "      <td>-579.997863</td>\n",
       "      <td>-97.083917</td>\n",
       "      <td>1.0</td>\n",
       "    </tr>\n",
       "    <tr>\n",
       "      <th>-7.23208</th>\n",
       "      <td>1.0</td>\n",
       "      <td>1.000000</td>\n",
       "      <td>0.015538</td>\n",
       "      <td>156.566667</td>\n",
       "      <td>176.656912</td>\n",
       "      <td>0.059395</td>\n",
       "      <td>0.000000</td>\n",
       "      <td>51.453598</td>\n",
       "      <td>20.114344</td>\n",
       "      <td>-566.820400</td>\n",
       "      <td>-93.905132</td>\n",
       "      <td>2.0</td>\n",
       "    </tr>\n",
       "    <tr>\n",
       "      <th>-7.12118</th>\n",
       "      <td>1.0</td>\n",
       "      <td>1.000000</td>\n",
       "      <td>0.012417</td>\n",
       "      <td>138.500000</td>\n",
       "      <td>179.551406</td>\n",
       "      <td>0.067572</td>\n",
       "      <td>0.000000</td>\n",
       "      <td>67.296413</td>\n",
       "      <td>18.676265</td>\n",
       "      <td>-658.132954</td>\n",
       "      <td>-107.702414</td>\n",
       "      <td>2.0</td>\n",
       "    </tr>\n",
       "    <tr>\n",
       "      <th>-6.95653</th>\n",
       "      <td>1.0</td>\n",
       "      <td>1.000000</td>\n",
       "      <td>0.017580</td>\n",
       "      <td>151.300000</td>\n",
       "      <td>179.956320</td>\n",
       "      <td>0.088223</td>\n",
       "      <td>0.000000</td>\n",
       "      <td>52.995199</td>\n",
       "      <td>19.100056</td>\n",
       "      <td>-930.181300</td>\n",
       "      <td>-166.317689</td>\n",
       "      <td>1.0</td>\n",
       "    </tr>\n",
       "    <tr>\n",
       "      <th>-6.83895</th>\n",
       "      <td>1.0</td>\n",
       "      <td>1.000000</td>\n",
       "      <td>0.014195</td>\n",
       "      <td>123.766667</td>\n",
       "      <td>177.654032</td>\n",
       "      <td>0.061562</td>\n",
       "      <td>0.000000</td>\n",
       "      <td>65.022212</td>\n",
       "      <td>20.048644</td>\n",
       "      <td>-595.964616</td>\n",
       "      <td>-95.676531</td>\n",
       "      <td>1.0</td>\n",
       "    </tr>\n",
       "    <tr>\n",
       "      <th>-6.77813</th>\n",
       "      <td>1.0</td>\n",
       "      <td>1.000000</td>\n",
       "      <td>0.011342</td>\n",
       "      <td>185.233333</td>\n",
       "      <td>202.644616</td>\n",
       "      <td>0.011699</td>\n",
       "      <td>0.000000</td>\n",
       "      <td>69.043831</td>\n",
       "      <td>9.724240</td>\n",
       "      <td>-22.082465</td>\n",
       "      <td>18.241504</td>\n",
       "      <td>1.0</td>\n",
       "    </tr>\n",
       "    <tr>\n",
       "      <th>-6.68311</th>\n",
       "      <td>1.0</td>\n",
       "      <td>0.833333</td>\n",
       "      <td>0.011599</td>\n",
       "      <td>184.466667</td>\n",
       "      <td>184.200102</td>\n",
       "      <td>0.017284</td>\n",
       "      <td>-16.666667</td>\n",
       "      <td>66.368535</td>\n",
       "      <td>18.174266</td>\n",
       "      <td>-78.330829</td>\n",
       "      <td>-75.454085</td>\n",
       "      <td>1.0</td>\n",
       "    </tr>\n",
       "    <tr>\n",
       "      <th>-6.65759</th>\n",
       "      <td>1.0</td>\n",
       "      <td>1.000000</td>\n",
       "      <td>0.013927</td>\n",
       "      <td>162.166667</td>\n",
       "      <td>175.724389</td>\n",
       "      <td>0.060565</td>\n",
       "      <td>0.000000</td>\n",
       "      <td>68.015171</td>\n",
       "      <td>20.791716</td>\n",
       "      <td>-570.482044</td>\n",
       "      <td>-89.533515</td>\n",
       "      <td>1.0</td>\n",
       "    </tr>\n",
       "    <tr>\n",
       "      <th>-6.65571</th>\n",
       "      <td>1.0</td>\n",
       "      <td>1.000000</td>\n",
       "      <td>0.028498</td>\n",
       "      <td>375.366667</td>\n",
       "      <td>178.916452</td>\n",
       "      <td>0.050363</td>\n",
       "      <td>0.000000</td>\n",
       "      <td>23.795048</td>\n",
       "      <td>19.329296</td>\n",
       "      <td>-483.126823</td>\n",
       "      <td>-85.620991</td>\n",
       "      <td>1.0</td>\n",
       "    </tr>\n",
       "    <tr>\n",
       "      <th>-6.52887</th>\n",
       "      <td>1.0</td>\n",
       "      <td>1.000000</td>\n",
       "      <td>0.024490</td>\n",
       "      <td>141.433333</td>\n",
       "      <td>179.337965</td>\n",
       "      <td>0.069180</td>\n",
       "      <td>0.000000</td>\n",
       "      <td>27.956466</td>\n",
       "      <td>19.383993</td>\n",
       "      <td>-723.184828</td>\n",
       "      <td>-132.373227</td>\n",
       "      <td>1.0</td>\n",
       "    </tr>\n",
       "    <tr>\n",
       "      <th>-6.4631</th>\n",
       "      <td>1.0</td>\n",
       "      <td>1.000000</td>\n",
       "      <td>0.011780</td>\n",
       "      <td>145.800000</td>\n",
       "      <td>176.450449</td>\n",
       "      <td>0.094685</td>\n",
       "      <td>0.000000</td>\n",
       "      <td>65.276595</td>\n",
       "      <td>20.636534</td>\n",
       "      <td>-1004.309593</td>\n",
       "      <td>-177.151633</td>\n",
       "      <td>2.0</td>\n",
       "    </tr>\n",
       "    <tr>\n",
       "      <th>-6.37314</th>\n",
       "      <td>1.0</td>\n",
       "      <td>1.000000</td>\n",
       "      <td>0.015941</td>\n",
       "      <td>150.966667</td>\n",
       "      <td>171.525618</td>\n",
       "      <td>0.090478</td>\n",
       "      <td>0.000000</td>\n",
       "      <td>54.878052</td>\n",
       "      <td>22.690346</td>\n",
       "      <td>-952.299593</td>\n",
       "      <td>-169.458434</td>\n",
       "      <td>2.0</td>\n",
       "    </tr>\n",
       "    <tr>\n",
       "      <th>-6.3318</th>\n",
       "      <td>1.0</td>\n",
       "      <td>1.000000</td>\n",
       "      <td>0.018185</td>\n",
       "      <td>211.333333</td>\n",
       "      <td>173.243833</td>\n",
       "      <td>0.102267</td>\n",
       "      <td>0.000000</td>\n",
       "      <td>46.050565</td>\n",
       "      <td>21.851153</td>\n",
       "      <td>-1133.445708</td>\n",
       "      <td>-208.503742</td>\n",
       "      <td>1.0</td>\n",
       "    </tr>\n",
       "    <tr>\n",
       "      <th>-6.15402</th>\n",
       "      <td>1.0</td>\n",
       "      <td>1.000000</td>\n",
       "      <td>0.013810</td>\n",
       "      <td>170.133333</td>\n",
       "      <td>195.720966</td>\n",
       "      <td>0.012281</td>\n",
       "      <td>0.000000</td>\n",
       "      <td>61.289005</td>\n",
       "      <td>12.587984</td>\n",
       "      <td>-28.336813</td>\n",
       "      <td>15.236936</td>\n",
       "      <td>1.0</td>\n",
       "    </tr>\n",
       "    <tr>\n",
       "      <th>-6.02303</th>\n",
       "      <td>1.0</td>\n",
       "      <td>1.000000</td>\n",
       "      <td>0.026722</td>\n",
       "      <td>180.200000</td>\n",
       "      <td>177.616638</td>\n",
       "      <td>0.058055</td>\n",
       "      <td>0.000000</td>\n",
       "      <td>21.384057</td>\n",
       "      <td>20.119507</td>\n",
       "      <td>-559.664754</td>\n",
       "      <td>-101.493832</td>\n",
       "      <td>1.0</td>\n",
       "    </tr>\n",
       "    <tr>\n",
       "      <th>-5.84788</th>\n",
       "      <td>1.0</td>\n",
       "      <td>1.000000</td>\n",
       "      <td>0.012967</td>\n",
       "      <td>148.466667</td>\n",
       "      <td>176.679617</td>\n",
       "      <td>0.062509</td>\n",
       "      <td>0.000000</td>\n",
       "      <td>62.833138</td>\n",
       "      <td>20.551825</td>\n",
       "      <td>-619.580677</td>\n",
       "      <td>-100.955829</td>\n",
       "      <td>2.0</td>\n",
       "    </tr>\n",
       "    <tr>\n",
       "      <th>-5.82745</th>\n",
       "      <td>1.0</td>\n",
       "      <td>1.000000</td>\n",
       "      <td>0.017561</td>\n",
       "      <td>165.466667</td>\n",
       "      <td>174.330491</td>\n",
       "      <td>0.080653</td>\n",
       "      <td>0.000000</td>\n",
       "      <td>49.565289</td>\n",
       "      <td>21.396271</td>\n",
       "      <td>-830.483970</td>\n",
       "      <td>-146.947953</td>\n",
       "      <td>2.0</td>\n",
       "    </tr>\n",
       "    <tr>\n",
       "      <th>-5.68873</th>\n",
       "      <td>1.0</td>\n",
       "      <td>1.000000</td>\n",
       "      <td>0.010188</td>\n",
       "      <td>133.033333</td>\n",
       "      <td>177.038015</td>\n",
       "      <td>0.062646</td>\n",
       "      <td>0.000000</td>\n",
       "      <td>71.620527</td>\n",
       "      <td>19.858323</td>\n",
       "      <td>-572.394721</td>\n",
       "      <td>-89.021122</td>\n",
       "      <td>2.0</td>\n",
       "    </tr>\n",
       "    <tr>\n",
       "      <th>-4.59249</th>\n",
       "      <td>1.0</td>\n",
       "      <td>1.000000</td>\n",
       "      <td>0.009694</td>\n",
       "      <td>139.466667</td>\n",
       "      <td>176.483368</td>\n",
       "      <td>0.070947</td>\n",
       "      <td>0.000000</td>\n",
       "      <td>72.619858</td>\n",
       "      <td>20.466260</td>\n",
       "      <td>-690.207176</td>\n",
       "      <td>-112.162226</td>\n",
       "      <td>2.0</td>\n",
       "    </tr>\n",
       "    <tr>\n",
       "      <th>-4.01111</th>\n",
       "      <td>1.0</td>\n",
       "      <td>1.000000</td>\n",
       "      <td>0.013640</td>\n",
       "      <td>137.066667</td>\n",
       "      <td>174.606088</td>\n",
       "      <td>0.088553</td>\n",
       "      <td>0.000000</td>\n",
       "      <td>65.494337</td>\n",
       "      <td>21.010688</td>\n",
       "      <td>-934.278642</td>\n",
       "      <td>-163.005290</td>\n",
       "      <td>2.0</td>\n",
       "    </tr>\n",
       "    <tr>\n",
       "      <th>-3.8343</th>\n",
       "      <td>1.0</td>\n",
       "      <td>1.000000</td>\n",
       "      <td>0.012556</td>\n",
       "      <td>136.666667</td>\n",
       "      <td>171.351726</td>\n",
       "      <td>0.086290</td>\n",
       "      <td>0.000000</td>\n",
       "      <td>67.338308</td>\n",
       "      <td>22.818443</td>\n",
       "      <td>-883.087968</td>\n",
       "      <td>-151.852413</td>\n",
       "      <td>2.0</td>\n",
       "    </tr>\n",
       "    <tr>\n",
       "      <th>-3.32505</th>\n",
       "      <td>1.0</td>\n",
       "      <td>1.000000</td>\n",
       "      <td>0.014335</td>\n",
       "      <td>147.733333</td>\n",
       "      <td>172.826838</td>\n",
       "      <td>0.075204</td>\n",
       "      <td>0.000000</td>\n",
       "      <td>60.748055</td>\n",
       "      <td>22.256090</td>\n",
       "      <td>-736.238025</td>\n",
       "      <td>-124.571970</td>\n",
       "      <td>2.0</td>\n",
       "    </tr>\n",
       "    <tr>\n",
       "      <th>-2.91188</th>\n",
       "      <td>1.0</td>\n",
       "      <td>1.000000</td>\n",
       "      <td>0.012898</td>\n",
       "      <td>143.233333</td>\n",
       "      <td>171.636359</td>\n",
       "      <td>0.087030</td>\n",
       "      <td>0.000000</td>\n",
       "      <td>64.715445</td>\n",
       "      <td>22.738956</td>\n",
       "      <td>-926.683922</td>\n",
       "      <td>-161.374360</td>\n",
       "      <td>2.0</td>\n",
       "    </tr>\n",
       "    <tr>\n",
       "      <th>-2.73225</th>\n",
       "      <td>1.0</td>\n",
       "      <td>1.000000</td>\n",
       "      <td>0.016079</td>\n",
       "      <td>151.366667</td>\n",
       "      <td>177.305213</td>\n",
       "      <td>0.087418</td>\n",
       "      <td>0.000000</td>\n",
       "      <td>55.404766</td>\n",
       "      <td>19.841437</td>\n",
       "      <td>-876.484559</td>\n",
       "      <td>-154.707195</td>\n",
       "      <td>2.0</td>\n",
       "    </tr>\n",
       "    <tr>\n",
       "      <th>-2.43652</th>\n",
       "      <td>1.0</td>\n",
       "      <td>1.000000</td>\n",
       "      <td>0.015759</td>\n",
       "      <td>150.233333</td>\n",
       "      <td>174.126122</td>\n",
       "      <td>0.085237</td>\n",
       "      <td>0.000000</td>\n",
       "      <td>56.623327</td>\n",
       "      <td>21.541353</td>\n",
       "      <td>-865.796381</td>\n",
       "      <td>-151.864008</td>\n",
       "      <td>2.0</td>\n",
       "    </tr>\n",
       "    <tr>\n",
       "      <th>-2.05071</th>\n",
       "      <td>1.0</td>\n",
       "      <td>1.000000</td>\n",
       "      <td>0.013963</td>\n",
       "      <td>149.166667</td>\n",
       "      <td>173.759593</td>\n",
       "      <td>0.086329</td>\n",
       "      <td>0.000000</td>\n",
       "      <td>59.871944</td>\n",
       "      <td>21.914667</td>\n",
       "      <td>-928.250403</td>\n",
       "      <td>-163.305564</td>\n",
       "      <td>2.0</td>\n",
       "    </tr>\n",
       "    <tr>\n",
       "      <th>-1.99103</th>\n",
       "      <td>1.0</td>\n",
       "      <td>1.000000</td>\n",
       "      <td>0.026474</td>\n",
       "      <td>187.066667</td>\n",
       "      <td>174.305616</td>\n",
       "      <td>0.083690</td>\n",
       "      <td>0.000000</td>\n",
       "      <td>18.339823</td>\n",
       "      <td>20.808387</td>\n",
       "      <td>-889.984029</td>\n",
       "      <td>-168.333181</td>\n",
       "      <td>2.0</td>\n",
       "    </tr>\n",
       "    <tr>\n",
       "      <th>BI-RRT</th>\n",
       "      <td>1.0</td>\n",
       "      <td>0.966667</td>\n",
       "      <td>0.004923</td>\n",
       "      <td>126.300000</td>\n",
       "      <td>209.299766</td>\n",
       "      <td>0.010204</td>\n",
       "      <td>-3.333333</td>\n",
       "      <td>86.595593</td>\n",
       "      <td>6.729690</td>\n",
       "      <td>-7.088457</td>\n",
       "      <td>9.240258</td>\n",
       "      <td>0.0</td>\n",
       "    </tr>\n",
       "    <tr>\n",
       "      <th>BI-RRT*</th>\n",
       "      <td>1.0</td>\n",
       "      <td>0.933333</td>\n",
       "      <td>0.010526</td>\n",
       "      <td>142.266667</td>\n",
       "      <td>172.039175</td>\n",
       "      <td>0.028472</td>\n",
       "      <td>-6.666667</td>\n",
       "      <td>68.738552</td>\n",
       "      <td>21.824934</td>\n",
       "      <td>-210.087100</td>\n",
       "      <td>-50.364201</td>\n",
       "      <td>0.0</td>\n",
       "    </tr>\n",
       "    <tr>\n",
       "      <th>Improved-RRT*-Connect</th>\n",
       "      <td>1.0</td>\n",
       "      <td>1.000000</td>\n",
       "      <td>1.629583</td>\n",
       "      <td>2580.533333</td>\n",
       "      <td>166.196498</td>\n",
       "      <td>0.015748</td>\n",
       "      <td>0.000000</td>\n",
       "      <td>-4948.382927</td>\n",
       "      <td>25.286808</td>\n",
       "      <td>-69.519727</td>\n",
       "      <td>-1493.361462</td>\n",
       "      <td>0.0</td>\n",
       "    </tr>\n",
       "    <tr>\n",
       "      <th>Informed-RRT*</th>\n",
       "      <td>1.0</td>\n",
       "      <td>1.000000</td>\n",
       "      <td>4.942214</td>\n",
       "      <td>3958.500000</td>\n",
       "      <td>156.745682</td>\n",
       "      <td>0.028156</td>\n",
       "      <td>0.000000</td>\n",
       "      <td>-17177.996880</td>\n",
       "      <td>29.642142</td>\n",
       "      <td>-196.388301</td>\n",
       "      <td>-5186.748296</td>\n",
       "      <td>0.0</td>\n",
       "    </tr>\n",
       "    <tr>\n",
       "      <th>RRT</th>\n",
       "      <td>1.0</td>\n",
       "      <td>1.000000</td>\n",
       "      <td>0.058774</td>\n",
       "      <td>615.800000</td>\n",
       "      <td>224.282575</td>\n",
       "      <td>0.009518</td>\n",
       "      <td>0.000000</td>\n",
       "      <td>0.000000</td>\n",
       "      <td>0.000000</td>\n",
       "      <td>0.000000</td>\n",
       "      <td>0.000000</td>\n",
       "      <td>0.0</td>\n",
       "    </tr>\n",
       "    <tr>\n",
       "      <th>RRT*</th>\n",
       "      <td>1.0</td>\n",
       "      <td>1.000000</td>\n",
       "      <td>0.127506</td>\n",
       "      <td>688.166667</td>\n",
       "      <td>174.648946</td>\n",
       "      <td>0.016593</td>\n",
       "      <td>0.000000</td>\n",
       "      <td>-179.824101</td>\n",
       "      <td>21.121954</td>\n",
       "      <td>-76.453529</td>\n",
       "      <td>-65.013545</td>\n",
       "      <td>0.0</td>\n",
       "    </tr>\n",
       "    <tr>\n",
       "      <th>RRT*-Connect</th>\n",
       "      <td>1.0</td>\n",
       "      <td>1.000000</td>\n",
       "      <td>0.020937</td>\n",
       "      <td>237.533333</td>\n",
       "      <td>192.077747</td>\n",
       "      <td>0.015952</td>\n",
       "      <td>0.000000</td>\n",
       "      <td>39.637332</td>\n",
       "      <td>13.745243</td>\n",
       "      <td>-68.834073</td>\n",
       "      <td>0.873434</td>\n",
       "      <td>0.0</td>\n",
       "    </tr>\n",
       "    <tr>\n",
       "      <th>RRT-Connect</th>\n",
       "      <td>1.0</td>\n",
       "      <td>1.000000</td>\n",
       "      <td>0.010697</td>\n",
       "      <td>175.300000</td>\n",
       "      <td>213.838372</td>\n",
       "      <td>0.011528</td>\n",
       "      <td>0.000000</td>\n",
       "      <td>70.228107</td>\n",
       "      <td>4.291755</td>\n",
       "      <td>-20.627314</td>\n",
       "      <td>17.801320</td>\n",
       "      <td>0.0</td>\n",
       "    </tr>\n",
       "  </tbody>\n",
       "</table>\n",
       "</div>"
      ],
      "text/plain": [
       "                        map_id  success_rate  time_avg  num_nodes_avg  \\\n",
       "alg_name                                                                \n",
       "-15.03871                  1.0      1.000000  0.008717     159.100000   \n",
       "-14.13591                  1.0      1.000000  0.012726     187.833333   \n",
       "-11.35589                  1.0      1.000000  0.018383     168.566667   \n",
       "-11.12807                  1.0      1.000000  0.016015     169.066667   \n",
       "-10.57241                  1.0      1.000000  0.011115     152.300000   \n",
       "-9.55661                   1.0      1.000000  0.009738     169.000000   \n",
       "-9.23875                   1.0      1.000000  0.012813     196.033333   \n",
       "-8.93552                   1.0      1.000000  0.016177     216.833333   \n",
       "-8.86231                   1.0      0.966667  0.013333     124.266667   \n",
       "-7.55322                   1.0      1.000000  0.018607     154.033333   \n",
       "-7.23208                   1.0      1.000000  0.015538     156.566667   \n",
       "-7.12118                   1.0      1.000000  0.012417     138.500000   \n",
       "-6.95653                   1.0      1.000000  0.017580     151.300000   \n",
       "-6.83895                   1.0      1.000000  0.014195     123.766667   \n",
       "-6.77813                   1.0      1.000000  0.011342     185.233333   \n",
       "-6.68311                   1.0      0.833333  0.011599     184.466667   \n",
       "-6.65759                   1.0      1.000000  0.013927     162.166667   \n",
       "-6.65571                   1.0      1.000000  0.028498     375.366667   \n",
       "-6.52887                   1.0      1.000000  0.024490     141.433333   \n",
       "-6.4631                    1.0      1.000000  0.011780     145.800000   \n",
       "-6.37314                   1.0      1.000000  0.015941     150.966667   \n",
       "-6.3318                    1.0      1.000000  0.018185     211.333333   \n",
       "-6.15402                   1.0      1.000000  0.013810     170.133333   \n",
       "-6.02303                   1.0      1.000000  0.026722     180.200000   \n",
       "-5.84788                   1.0      1.000000  0.012967     148.466667   \n",
       "-5.82745                   1.0      1.000000  0.017561     165.466667   \n",
       "-5.68873                   1.0      1.000000  0.010188     133.033333   \n",
       "-4.59249                   1.0      1.000000  0.009694     139.466667   \n",
       "-4.01111                   1.0      1.000000  0.013640     137.066667   \n",
       "-3.8343                    1.0      1.000000  0.012556     136.666667   \n",
       "-3.32505                   1.0      1.000000  0.014335     147.733333   \n",
       "-2.91188                   1.0      1.000000  0.012898     143.233333   \n",
       "-2.73225                   1.0      1.000000  0.016079     151.366667   \n",
       "-2.43652                   1.0      1.000000  0.015759     150.233333   \n",
       "-2.05071                   1.0      1.000000  0.013963     149.166667   \n",
       "-1.99103                   1.0      1.000000  0.026474     187.066667   \n",
       " BI-RRT                    1.0      0.966667  0.004923     126.300000   \n",
       " BI-RRT*                   1.0      0.933333  0.010526     142.266667   \n",
       " Improved-RRT*-Connect     1.0      1.000000  1.629583    2580.533333   \n",
       " Informed-RRT*             1.0      1.000000  4.942214    3958.500000   \n",
       " RRT                       1.0      1.000000  0.058774     615.800000   \n",
       " RRT*                      1.0      1.000000  0.127506     688.166667   \n",
       " RRT*-Connect              1.0      1.000000  0.020937     237.533333   \n",
       " RRT-Connect               1.0      1.000000  0.010697     175.300000   \n",
       "\n",
       "                        path_length_avg  smoothness_avg  success_improvement  \\\n",
       "alg_name                                                                       \n",
       "-15.03871                    204.043208        0.011024             0.000000   \n",
       "-14.13591                    199.432910        0.014364             0.000000   \n",
       "-11.35589                    200.654919        0.012071             0.000000   \n",
       "-11.12807                    178.872845        0.071576             0.000000   \n",
       "-10.57241                    175.668521        0.066166             0.000000   \n",
       "-9.55661                     199.482939        0.013761             0.000000   \n",
       "-9.23875                     209.707866        0.010682             0.000000   \n",
       "-8.93552                     199.990028        0.012890             0.000000   \n",
       "-8.86231                     209.325132        0.012041            -3.333333   \n",
       "-7.55322                     180.891690        0.060086             0.000000   \n",
       "-7.23208                     176.656912        0.059395             0.000000   \n",
       "-7.12118                     179.551406        0.067572             0.000000   \n",
       "-6.95653                     179.956320        0.088223             0.000000   \n",
       "-6.83895                     177.654032        0.061562             0.000000   \n",
       "-6.77813                     202.644616        0.011699             0.000000   \n",
       "-6.68311                     184.200102        0.017284           -16.666667   \n",
       "-6.65759                     175.724389        0.060565             0.000000   \n",
       "-6.65571                     178.916452        0.050363             0.000000   \n",
       "-6.52887                     179.337965        0.069180             0.000000   \n",
       "-6.4631                      176.450449        0.094685             0.000000   \n",
       "-6.37314                     171.525618        0.090478             0.000000   \n",
       "-6.3318                      173.243833        0.102267             0.000000   \n",
       "-6.15402                     195.720966        0.012281             0.000000   \n",
       "-6.02303                     177.616638        0.058055             0.000000   \n",
       "-5.84788                     176.679617        0.062509             0.000000   \n",
       "-5.82745                     174.330491        0.080653             0.000000   \n",
       "-5.68873                     177.038015        0.062646             0.000000   \n",
       "-4.59249                     176.483368        0.070947             0.000000   \n",
       "-4.01111                     174.606088        0.088553             0.000000   \n",
       "-3.8343                      171.351726        0.086290             0.000000   \n",
       "-3.32505                     172.826838        0.075204             0.000000   \n",
       "-2.91188                     171.636359        0.087030             0.000000   \n",
       "-2.73225                     177.305213        0.087418             0.000000   \n",
       "-2.43652                     174.126122        0.085237             0.000000   \n",
       "-2.05071                     173.759593        0.086329             0.000000   \n",
       "-1.99103                     174.305616        0.083690             0.000000   \n",
       " BI-RRT                      209.299766        0.010204            -3.333333   \n",
       " BI-RRT*                     172.039175        0.028472            -6.666667   \n",
       " Improved-RRT*-Connect       166.196498        0.015748             0.000000   \n",
       " Informed-RRT*               156.745682        0.028156             0.000000   \n",
       " RRT                         224.282575        0.009518             0.000000   \n",
       " RRT*                        174.648946        0.016593             0.000000   \n",
       " RRT*-Connect                192.077747        0.015952             0.000000   \n",
       " RRT-Connect                 213.838372        0.011528             0.000000   \n",
       "\n",
       "                        time_improvement  length_improvement  \\\n",
       "alg_name                                                       \n",
       "-15.03871                      75.780380            8.870378   \n",
       "-14.13591                      68.951808           12.138289   \n",
       "-11.35589                      54.059898           10.256080   \n",
       "-11.12807                      50.953040           19.403655   \n",
       "-10.57241                      66.898214           21.235157   \n",
       "-9.55661                       74.313970           11.184416   \n",
       "-9.23875                       68.091916            6.278594   \n",
       "-8.93552                       57.620095           10.872224   \n",
       "-8.86231                       69.325857            7.045306   \n",
       "-7.55322                       50.847443           18.307114   \n",
       "-7.23208                       51.453598           20.114344   \n",
       "-7.12118                       67.296413           18.676265   \n",
       "-6.95653                       52.995199           19.100056   \n",
       "-6.83895                       65.022212           20.048644   \n",
       "-6.77813                       69.043831            9.724240   \n",
       "-6.68311                       66.368535           18.174266   \n",
       "-6.65759                       68.015171           20.791716   \n",
       "-6.65571                       23.795048           19.329296   \n",
       "-6.52887                       27.956466           19.383993   \n",
       "-6.4631                        65.276595           20.636534   \n",
       "-6.37314                       54.878052           22.690346   \n",
       "-6.3318                        46.050565           21.851153   \n",
       "-6.15402                       61.289005           12.587984   \n",
       "-6.02303                       21.384057           20.119507   \n",
       "-5.84788                       62.833138           20.551825   \n",
       "-5.82745                       49.565289           21.396271   \n",
       "-5.68873                       71.620527           19.858323   \n",
       "-4.59249                       72.619858           20.466260   \n",
       "-4.01111                       65.494337           21.010688   \n",
       "-3.8343                        67.338308           22.818443   \n",
       "-3.32505                       60.748055           22.256090   \n",
       "-2.91188                       64.715445           22.738956   \n",
       "-2.73225                       55.404766           19.841437   \n",
       "-2.43652                       56.623327           21.541353   \n",
       "-2.05071                       59.871944           21.914667   \n",
       "-1.99103                       18.339823           20.808387   \n",
       " BI-RRT                        86.595593            6.729690   \n",
       " BI-RRT*                       68.738552           21.824934   \n",
       " Improved-RRT*-Connect      -4948.382927           25.286808   \n",
       " Informed-RRT*             -17177.996880           29.642142   \n",
       " RRT                            0.000000            0.000000   \n",
       " RRT*                        -179.824101           21.121954   \n",
       " RRT*-Connect                  39.637332           13.745243   \n",
       " RRT-Connect                   70.228107            4.291755   \n",
       "\n",
       "                        smoothness_improvement  objective_score  cls_try  \n",
       "alg_name                                                                  \n",
       "-15.03871                           -15.308153        21.446559      1.0  \n",
       "-14.13591                           -46.285125        13.856175      1.0  \n",
       "-11.35589                           -26.085827        13.052020      1.0  \n",
       "-11.12807                          -678.612633      -116.555884      2.0  \n",
       "-10.57241                          -621.133706       -99.910246      1.0  \n",
       "-9.55661                            -41.146114        16.301851      1.0  \n",
       "-9.23875                            -11.965123        19.290269      1.0  \n",
       "-8.93552                            -33.941516        12.672170      1.0  \n",
       "-8.86231                            -24.201514         0.699849      1.0  \n",
       "-7.55322                           -579.997863       -97.083917      1.0  \n",
       "-7.23208                           -566.820400       -93.905132      2.0  \n",
       "-7.12118                           -658.132954      -107.702414      2.0  \n",
       "-6.95653                           -930.181300      -166.317689      1.0  \n",
       "-6.83895                           -595.964616       -95.676531      1.0  \n",
       "-6.77813                            -22.082465        18.241504      1.0  \n",
       "-6.68311                            -78.330829       -75.454085      1.0  \n",
       "-6.65759                           -570.482044       -89.533515      1.0  \n",
       "-6.65571                           -483.126823       -85.620991      1.0  \n",
       "-6.52887                           -723.184828      -132.373227      1.0  \n",
       "-6.4631                           -1004.309593      -177.151633      2.0  \n",
       "-6.37314                           -952.299593      -169.458434      2.0  \n",
       "-6.3318                           -1133.445708      -208.503742      1.0  \n",
       "-6.15402                            -28.336813        15.236936      1.0  \n",
       "-6.02303                           -559.664754      -101.493832      1.0  \n",
       "-5.84788                           -619.580677      -100.955829      2.0  \n",
       "-5.82745                           -830.483970      -146.947953      2.0  \n",
       "-5.68873                           -572.394721       -89.021122      2.0  \n",
       "-4.59249                           -690.207176      -112.162226      2.0  \n",
       "-4.01111                           -934.278642      -163.005290      2.0  \n",
       "-3.8343                            -883.087968      -151.852413      2.0  \n",
       "-3.32505                           -736.238025      -124.571970      2.0  \n",
       "-2.91188                           -926.683922      -161.374360      2.0  \n",
       "-2.73225                           -876.484559      -154.707195      2.0  \n",
       "-2.43652                           -865.796381      -151.864008      2.0  \n",
       "-2.05071                           -928.250403      -163.305564      2.0  \n",
       "-1.99103                           -889.984029      -168.333181      2.0  \n",
       " BI-RRT                              -7.088457         9.240258      0.0  \n",
       " BI-RRT*                           -210.087100       -50.364201      0.0  \n",
       " Improved-RRT*-Connect              -69.519727     -1493.361462      0.0  \n",
       " Informed-RRT*                     -196.388301     -5186.748296      0.0  \n",
       " RRT                                  0.000000         0.000000      0.0  \n",
       " RRT*                               -76.453529       -65.013545      0.0  \n",
       " RRT*-Connect                       -68.834073         0.873434      0.0  \n",
       " RRT-Connect                        -20.627314        17.801320      0.0  "
      ]
     },
     "execution_count": 43,
     "metadata": {},
     "output_type": "execute_result"
    }
   ],
   "source": [
    "# alg_name 기준으로 groupby하여 평균값 계산\n",
    "grouped_avg = whole_df.groupby('alg_name').mean()\n",
    "aa = pd.DataFrame(grouped_avg)\n",
    "aa"
   ]
  },
  {
   "cell_type": "code",
   "execution_count": 34,
   "id": "0b096e31",
   "metadata": {},
   "outputs": [
    {
     "data": {
      "text/html": [
       "<div>\n",
       "<style scoped>\n",
       "    .dataframe tbody tr th:only-of-type {\n",
       "        vertical-align: middle;\n",
       "    }\n",
       "\n",
       "    .dataframe tbody tr th {\n",
       "        vertical-align: top;\n",
       "    }\n",
       "\n",
       "    .dataframe thead th {\n",
       "        text-align: right;\n",
       "    }\n",
       "</style>\n",
       "<table border=\"1\" class=\"dataframe\">\n",
       "  <thead>\n",
       "    <tr style=\"text-align: right;\">\n",
       "      <th></th>\n",
       "      <th>map_id</th>\n",
       "      <th>성공률 (Success Rate)</th>\n",
       "      <th>평균 시간 (Time Avg)</th>\n",
       "      <th>num_nodes_avg</th>\n",
       "      <th>평균 경로 길이 (Path Length Avg)</th>\n",
       "      <th>성공률 개선 (Success Improvement)</th>\n",
       "      <th>시간 개선 (%)</th>\n",
       "      <th>경로 개선 (%)</th>\n",
       "      <th>종합 점수 (Objective Score)</th>\n",
       "    </tr>\n",
       "    <tr>\n",
       "      <th>alg_name</th>\n",
       "      <th></th>\n",
       "      <th></th>\n",
       "      <th></th>\n",
       "      <th></th>\n",
       "      <th></th>\n",
       "      <th></th>\n",
       "      <th></th>\n",
       "      <th></th>\n",
       "      <th></th>\n",
       "    </tr>\n",
       "  </thead>\n",
       "  <tbody>\n",
       "    <tr>\n",
       "      <th>BI-RRT</th>\n",
       "      <td>1.0</td>\n",
       "      <td>0.967</td>\n",
       "      <td>0.004</td>\n",
       "      <td>126.300</td>\n",
       "      <td>209.300</td>\n",
       "      <td>-3.333</td>\n",
       "      <td>88.101</td>\n",
       "      <td>6.730</td>\n",
       "      <td>26.110</td>\n",
       "    </tr>\n",
       "    <tr>\n",
       "      <th>RRT-Connect</th>\n",
       "      <td>1.0</td>\n",
       "      <td>1.000</td>\n",
       "      <td>0.012</td>\n",
       "      <td>175.300</td>\n",
       "      <td>213.838</td>\n",
       "      <td>0.000</td>\n",
       "      <td>69.541</td>\n",
       "      <td>4.292</td>\n",
       "      <td>21.721</td>\n",
       "    </tr>\n",
       "    <tr>\n",
       "      <th>BI-RRT*</th>\n",
       "      <td>1.0</td>\n",
       "      <td>0.933</td>\n",
       "      <td>0.011</td>\n",
       "      <td>142.267</td>\n",
       "      <td>172.039</td>\n",
       "      <td>-6.667</td>\n",
       "      <td>68.539</td>\n",
       "      <td>21.825</td>\n",
       "      <td>21.593</td>\n",
       "    </tr>\n",
       "    <tr>\n",
       "      <th>15.44831</th>\n",
       "      <td>1.0</td>\n",
       "      <td>1.000</td>\n",
       "      <td>0.013</td>\n",
       "      <td>147.633</td>\n",
       "      <td>180.308</td>\n",
       "      <td>0.000</td>\n",
       "      <td>58.762</td>\n",
       "      <td>18.807</td>\n",
       "      <td>21.390</td>\n",
       "    </tr>\n",
       "    <tr>\n",
       "      <th>RRT*-Connect</th>\n",
       "      <td>1.0</td>\n",
       "      <td>1.000</td>\n",
       "      <td>0.020</td>\n",
       "      <td>237.533</td>\n",
       "      <td>192.078</td>\n",
       "      <td>0.000</td>\n",
       "      <td>40.091</td>\n",
       "      <td>13.745</td>\n",
       "      <td>14.776</td>\n",
       "    </tr>\n",
       "    <tr>\n",
       "      <th>RRT</th>\n",
       "      <td>1.0</td>\n",
       "      <td>1.000</td>\n",
       "      <td>0.055</td>\n",
       "      <td>615.800</td>\n",
       "      <td>224.283</td>\n",
       "      <td>0.000</td>\n",
       "      <td>0.000</td>\n",
       "      <td>0.000</td>\n",
       "      <td>0.000</td>\n",
       "    </tr>\n",
       "    <tr>\n",
       "      <th>RRT*</th>\n",
       "      <td>1.0</td>\n",
       "      <td>1.000</td>\n",
       "      <td>0.127</td>\n",
       "      <td>688.167</td>\n",
       "      <td>174.649</td>\n",
       "      <td>0.000</td>\n",
       "      <td>-192.159</td>\n",
       "      <td>21.122</td>\n",
       "      <td>-53.423</td>\n",
       "    </tr>\n",
       "    <tr>\n",
       "      <th>623.91658</th>\n",
       "      <td>1.0</td>\n",
       "      <td>1.000</td>\n",
       "      <td>0.141</td>\n",
       "      <td>703.067</td>\n",
       "      <td>217.119</td>\n",
       "      <td>0.000</td>\n",
       "      <td>-252.731</td>\n",
       "      <td>3.369</td>\n",
       "      <td>-75.146</td>\n",
       "    </tr>\n",
       "    <tr>\n",
       "      <th>2116.54822</th>\n",
       "      <td>1.0</td>\n",
       "      <td>0.900</td>\n",
       "      <td>0.150</td>\n",
       "      <td>645.033</td>\n",
       "      <td>166.335</td>\n",
       "      <td>-10.000</td>\n",
       "      <td>-271.184</td>\n",
       "      <td>24.860</td>\n",
       "      <td>-81.383</td>\n",
       "    </tr>\n",
       "    <tr>\n",
       "      <th>16137.02705</th>\n",
       "      <td>1.0</td>\n",
       "      <td>1.000</td>\n",
       "      <td>1.376</td>\n",
       "      <td>2508.767</td>\n",
       "      <td>164.832</td>\n",
       "      <td>0.000</td>\n",
       "      <td>-4721.088</td>\n",
       "      <td>26.099</td>\n",
       "      <td>-1411.107</td>\n",
       "    </tr>\n",
       "    <tr>\n",
       "      <th>Improved-RRT*-Connect</th>\n",
       "      <td>1.0</td>\n",
       "      <td>1.000</td>\n",
       "      <td>1.643</td>\n",
       "      <td>2580.533</td>\n",
       "      <td>166.196</td>\n",
       "      <td>0.000</td>\n",
       "      <td>-5016.229</td>\n",
       "      <td>25.287</td>\n",
       "      <td>-1499.811</td>\n",
       "    </tr>\n",
       "    <tr>\n",
       "      <th>14698.73309</th>\n",
       "      <td>1.0</td>\n",
       "      <td>1.000</td>\n",
       "      <td>1.508</td>\n",
       "      <td>3262.833</td>\n",
       "      <td>162.297</td>\n",
       "      <td>0.000</td>\n",
       "      <td>-5091.917</td>\n",
       "      <td>27.053</td>\n",
       "      <td>-1522.164</td>\n",
       "    </tr>\n",
       "    <tr>\n",
       "      <th>31366.25511</th>\n",
       "      <td>1.0</td>\n",
       "      <td>1.000</td>\n",
       "      <td>2.542</td>\n",
       "      <td>2518.900</td>\n",
       "      <td>179.305</td>\n",
       "      <td>0.000</td>\n",
       "      <td>-9095.545</td>\n",
       "      <td>20.804</td>\n",
       "      <td>-2724.503</td>\n",
       "    </tr>\n",
       "    <tr>\n",
       "      <th>31003.29177</th>\n",
       "      <td>1.0</td>\n",
       "      <td>1.000</td>\n",
       "      <td>2.562</td>\n",
       "      <td>2572.033</td>\n",
       "      <td>177.635</td>\n",
       "      <td>0.000</td>\n",
       "      <td>-9116.594</td>\n",
       "      <td>21.258</td>\n",
       "      <td>-2730.726</td>\n",
       "    </tr>\n",
       "    <tr>\n",
       "      <th>31258.82349</th>\n",
       "      <td>1.0</td>\n",
       "      <td>1.000</td>\n",
       "      <td>2.633</td>\n",
       "      <td>2539.733</td>\n",
       "      <td>176.026</td>\n",
       "      <td>0.000</td>\n",
       "      <td>-9194.336</td>\n",
       "      <td>21.701</td>\n",
       "      <td>-2753.961</td>\n",
       "    </tr>\n",
       "    <tr>\n",
       "      <th>Informed-RRT*</th>\n",
       "      <td>1.0</td>\n",
       "      <td>1.000</td>\n",
       "      <td>4.899</td>\n",
       "      <td>3958.500</td>\n",
       "      <td>156.746</td>\n",
       "      <td>0.000</td>\n",
       "      <td>-17185.802</td>\n",
       "      <td>29.642</td>\n",
       "      <td>-5149.812</td>\n",
       "    </tr>\n",
       "  </tbody>\n",
       "</table>\n",
       "</div>"
      ],
      "text/plain": [
       "                       map_id  성공률 (Success Rate)  평균 시간 (Time Avg)  \\\n",
       "alg_name                                                              \n",
       "BI-RRT                    1.0               0.967             0.004   \n",
       "RRT-Connect               1.0               1.000             0.012   \n",
       "BI-RRT*                   1.0               0.933             0.011   \n",
       "15.44831                  1.0               1.000             0.013   \n",
       "RRT*-Connect              1.0               1.000             0.020   \n",
       "RRT                       1.0               1.000             0.055   \n",
       "RRT*                      1.0               1.000             0.127   \n",
       "623.91658                 1.0               1.000             0.141   \n",
       "2116.54822                1.0               0.900             0.150   \n",
       "16137.02705               1.0               1.000             1.376   \n",
       "Improved-RRT*-Connect     1.0               1.000             1.643   \n",
       "14698.73309               1.0               1.000             1.508   \n",
       "31366.25511               1.0               1.000             2.542   \n",
       "31003.29177               1.0               1.000             2.562   \n",
       "31258.82349               1.0               1.000             2.633   \n",
       "Informed-RRT*             1.0               1.000             4.899   \n",
       "\n",
       "                       num_nodes_avg  평균 경로 길이 (Path Length Avg)  \\\n",
       "alg_name                                                           \n",
       "BI-RRT                       126.300                     209.300   \n",
       "RRT-Connect                  175.300                     213.838   \n",
       "BI-RRT*                      142.267                     172.039   \n",
       "15.44831                     147.633                     180.308   \n",
       "RRT*-Connect                 237.533                     192.078   \n",
       "RRT                          615.800                     224.283   \n",
       "RRT*                         688.167                     174.649   \n",
       "623.91658                    703.067                     217.119   \n",
       "2116.54822                   645.033                     166.335   \n",
       "16137.02705                 2508.767                     164.832   \n",
       "Improved-RRT*-Connect       2580.533                     166.196   \n",
       "14698.73309                 3262.833                     162.297   \n",
       "31366.25511                 2518.900                     179.305   \n",
       "31003.29177                 2572.033                     177.635   \n",
       "31258.82349                 2539.733                     176.026   \n",
       "Informed-RRT*               3958.500                     156.746   \n",
       "\n",
       "                       성공률 개선 (Success Improvement)  시간 개선 (%)  경로 개선 (%)  \\\n",
       "alg_name                                                                    \n",
       "BI-RRT                                       -3.333     88.101      6.730   \n",
       "RRT-Connect                                   0.000     69.541      4.292   \n",
       "BI-RRT*                                      -6.667     68.539     21.825   \n",
       "15.44831                                      0.000     58.762     18.807   \n",
       "RRT*-Connect                                  0.000     40.091     13.745   \n",
       "RRT                                           0.000      0.000      0.000   \n",
       "RRT*                                          0.000   -192.159     21.122   \n",
       "623.91658                                     0.000   -252.731      3.369   \n",
       "2116.54822                                  -10.000   -271.184     24.860   \n",
       "16137.02705                                   0.000  -4721.088     26.099   \n",
       "Improved-RRT*-Connect                         0.000  -5016.229     25.287   \n",
       "14698.73309                                   0.000  -5091.917     27.053   \n",
       "31366.25511                                   0.000  -9095.545     20.804   \n",
       "31003.29177                                   0.000  -9116.594     21.258   \n",
       "31258.82349                                   0.000  -9194.336     21.701   \n",
       "Informed-RRT*                                 0.000 -17185.802     29.642   \n",
       "\n",
       "                       종합 점수 (Objective Score)  \n",
       "alg_name                                        \n",
       "BI-RRT                                  26.110  \n",
       "RRT-Connect                             21.721  \n",
       "BI-RRT*                                 21.593  \n",
       "15.44831                                21.390  \n",
       "RRT*-Connect                            14.776  \n",
       "RRT                                      0.000  \n",
       "RRT*                                   -53.423  \n",
       "623.91658                              -75.146  \n",
       "2116.54822                             -81.383  \n",
       "16137.02705                          -1411.107  \n",
       "Improved-RRT*-Connect                -1499.811  \n",
       "14698.73309                          -1522.164  \n",
       "31366.25511                          -2724.503  \n",
       "31003.29177                          -2730.726  \n",
       "31258.82349                          -2753.961  \n",
       "Informed-RRT*                        -5149.812  "
      ]
     },
     "metadata": {},
     "output_type": "display_data"
    }
   ],
   "source": [
    "col_map = {\n",
    "    # \"map_id\": \"Map ID\",\n",
    "    \"success_rate\": \"성공률 (Success Rate)\",\n",
    "    \"time_avg\": \"평균 시간 (Time Avg)\",\n",
    "    # \"num_nodes_avg\": \"평균 노드 수 (Num Nodes Avg)\",\n",
    "    \"path_length_avg\": \"평균 경로 길이 (Path Length Avg)\",\n",
    "    \"success_improvement\": \"성공률 개선 (Success Improvement)\",\n",
    "    \"time_improvement\": \"시간 개선 (%)\",\n",
    "    \"length_improvement\": \"경로 개선 (%)\",\n",
    "    \"objective_score\": \"종합 점수 (Objective Score)\"\n",
    "}\n",
    "\n",
    "df_pretty = grouped_avg.rename(columns=col_map)\n",
    "df_pretty = df_pretty.round(3)\n",
    "df_pretty = df_pretty.sort_values(\"종합 점수 (Objective Score)\", ascending=False)\n",
    "display(df_pretty)"
   ]
  },
  {
   "cell_type": "markdown",
   "id": "7ee95171",
   "metadata": {},
   "source": [
    "### LM TEST"
   ]
  },
  {
   "cell_type": "code",
   "execution_count": 1,
   "id": "03a05ca0",
   "metadata": {},
   "outputs": [],
   "source": [
    "from eoh.llm.interface_LLM import InterfaceLLM\n",
    "from eoh.utils.getParas import Paras\n",
    "from eoh.methods.eoh.eoh_evolution import Evolution\n",
    "from eoh.problems.optimization.classic_benchmark_path_planning.utils.prompts import GetPrompts\n",
    "import re\n",
    "paras = Paras()"
   ]
  },
  {
   "cell_type": "code",
   "execution_count": 3,
   "id": "73e02a3d",
   "metadata": {},
   "outputs": [
    {
     "name": "stdout",
     "output_type": "stream",
     "text": [
      "- check LLM API\n",
      "remote llm api is used ...\n",
      "- check LLM API\n",
      "remote llm api is used ...\n"
     ]
    }
   ],
   "source": [
    "ee = Evolution(\"api.openai.com\", api_key, \"gpt-4.1-mini-2025-04-14\", False, None, True, GetPrompts())\n",
    "illm = InterfaceLLM(\"api.openai.com\", api_key, \"gpt-4.1-mini-2025-04-14\", False, None, True)"
   ]
  },
  {
   "cell_type": "code",
   "execution_count": 176,
   "id": "302e72c2",
   "metadata": {},
   "outputs": [],
   "source": [
    "pc = ee.get_prompt([result_data[3]], 'e1')"
   ]
  },
  {
   "cell_type": "code",
   "execution_count": 8,
   "id": "04a64afb",
   "metadata": {},
   "outputs": [],
   "source": [
    "gcode = illm.get_response(pc)"
   ]
  },
  {
   "cell_type": "code",
   "execution_count": 9,
   "id": "08b77fac",
   "metadata": {},
   "outputs": [
    {
     "name": "stdout",
     "output_type": "stream",
     "text": [
      "{This algorithm implements a Bidirectional Informed RRT* planner with heuristic-based informed sampling and path smoothing. It grows two trees from start and goal states, focusing samples in an ellipsoidal informed set to concentrate the search on promising regions, improving efficiency and solution quality. It applies rewiring to optimize paths and uses a post-processing smoothing step for path smoothness and shorter paths.}  \n",
      "(A random sample is drawn within an ellipsoid defined by the current best path cost to bias sampling, then nodes are extended towards samples from both trees. The two trees attempt to connect after each iteration, enabling quick discovery of a path. Rewiring improves local paths iteratively. When a path is found, path smoothing refines it by shortcutting unnecessary waypoints.)\n",
      "\n",
      "```python\n",
      "from typing import List, Tuple, NamedTuple, Optional\n",
      "from math import dist, sqrt, cos, sin, acos\n",
      "import random\n",
      "\n",
      "# --- Node class ---\n",
      "class Node:\n",
      "    def __init__(self, position: Tuple[float, ...], parent: Optional['Node'] = None, cost: float = 0.0):\n",
      "        self.position = position        # Tuple[float, ...] for 2D or 3D\n",
      "        self.parent = parent            # Node or None\n",
      "        self.cost = cost                # Cost from start node\n",
      "        self.children: List[Node] = []\n",
      "        self.valid = True               # For collision checking etc.\n",
      "\n",
      "    def add_child(self, child: 'Node'):\n",
      "        self.children.append(child)\n",
      "\n",
      "    def path(self) -> List[Tuple[float, ...]]:\n",
      "        node, p = self, []\n",
      "        while node:\n",
      "            p.append(node.position)\n",
      "            node = node.parent\n",
      "        return p[::-1]\n",
      "\n",
      "\n",
      "class PlannerResult(NamedTuple):\n",
      "    success: bool\n",
      "    path: List[Tuple[float, ...]]\n",
      "    nodes: List[Node]\n",
      "    edges: List[Tuple[Node, Node]]\n",
      "\n",
      "\n",
      "# --- Main Planner ---\n",
      "class Planner:\n",
      "    def __init__(self, max_iter: int = 5000, step_size: float = 1.0, goal_sample_rate: float = 0.05, rewire_radius: float = 5.0):\n",
      "        self.max_iter = max_iter\n",
      "        self.step_size = step_size\n",
      "        self.goal_sample_rate = goal_sample_rate\n",
      "        self.rewire_radius = rewire_radius\n",
      "\n",
      "    def plan(self, map) -> PlannerResult:\n",
      "        bounds: Tuple[int, ...] = map.size\n",
      "        start_pos: Tuple[float, ...] = map.start\n",
      "        goal_pos: Tuple[float, ...] = map.goal\n",
      "        obstacles = map.obstacles\n",
      "        is_3d = len(bounds) == 3\n",
      "        dim = 3 if is_3d else 2\n",
      "\n",
      "        tree_start: List[Node] = [Node(start_pos)]\n",
      "        tree_goal: List[Node] = [Node(goal_pos)]\n",
      "\n",
      "        nodes_all: List[Node] = tree_start + tree_goal\n",
      "\n",
      "        best_path_cost = float('inf')\n",
      "        best_path: List[Tuple[float, ...]] = []\n",
      "\n",
      "        # Precompute Euclidean distance function\n",
      "        def euclidean(a: Tuple[float, ...], b: Tuple[float, ...]) -> float:\n",
      "            return dist(a, b)\n",
      "\n",
      "        # Collision checking for a segment using discretized points\n",
      "        def collision_free(p1: Tuple[float, ...], p2: Tuple[float, ...]) -> bool:\n",
      "            steps = max(int(euclidean(p1, p2) / (self.step_size / 2)), 1)\n",
      "            for i in range(steps + 1):\n",
      "                interp = tuple(p1[j] + (p2[j] - p1[j]) * i / steps for j in range(dim))\n",
      "                if self._is_in_obstacle(interp, obstacles, is_3d):\n",
      "                    return False\n",
      "            return True\n",
      "\n",
      "        # Informed sampling within an ellipsoid covering start & goal with current best cost\n",
      "        def informed_sample():\n",
      "            if best_path_cost == float('inf'):\n",
      "                # Uniform random sampling\n",
      "                return tuple(random.uniform(0, bounds[i]) for i in range(dim))\n",
      "\n",
      "            c_min = euclidean(start_pos, goal_pos)\n",
      "            c_best = best_path_cost\n",
      "            if c_best < c_min:\n",
      "                c_best = c_min  # numerical stability\n",
      "\n",
      "            # Compute center of ellipsoid (midpoint)\n",
      "            center = tuple((s + g) / 2 for s, g in zip(start_pos, goal_pos))\n",
      "            # Unit vector from start to goal\n",
      "            unit_vec = tuple((g - s) / c_min for s, g in zip(start_pos, goal_pos))\n",
      "\n",
      "            # Create orthonormal basis with unit_vec as first vector\n",
      "            basis = [list(unit_vec)]\n",
      "            if dim == 2:\n",
      "                # Perp vector in 2D\n",
      "                basis.append([-unit_vec[1], unit_vec[0]])\n",
      "            else:\n",
      "                # Construct orthonormal basis in 3D using Gram-Schmidt\n",
      "                # Choose arbitrary vector not colinear\n",
      "                arbitrary = [1,0,0] if abs(unit_vec[0]) < 0.9 else [0,1,0]\n",
      "                v2 = [arbitrary[i] - unit_vec[i]*sum(unit_vec[j]*arbitrary[j] for j in range(3)) for i in range(3)]\n",
      "                norm_v2 = sqrt(sum(x*x for x in v2))\n",
      "                if norm_v2 < 1e-9:\n",
      "                    v2 = [0,0,0]\n",
      "                else:\n",
      "                    v2 = [x / norm_v2 for x in v2]\n",
      "                # Third basis vector by cross product\n",
      "                v3 = [unit_vec[1]*v2[2]-unit_vec[2]*v2[1],\n",
      "                      unit_vec[2]*v2[0]-unit_vec[0]*v2[2],\n",
      "                      unit_vec[0]*v2[1]-unit_vec[1]*v2[0]]\n",
      "                basis.extend([v2, v3])\n",
      "\n",
      "            # Ellipsoid radii\n",
      "            a1 = c_best / 2\n",
      "            if dim == 2:\n",
      "                a2 = sqrt(c_best**2 - c_min**2) / 2\n",
      "                radii = [a1, a2]\n",
      "            else:\n",
      "                a2 = sqrt(c_best**2 - c_min**2) / 2\n",
      "                radii = [a1, a2, a2]\n",
      "\n",
      "            # Sample random point in unit n-ball\n",
      "            while True:\n",
      "                sample_ball = [random.gauss(0,1) for _ in range(dim)]\n",
      "                norm_sample = sqrt(sum(x*x for x in sample_ball))\n",
      "                if norm_sample > 1e-9:\n",
      "                    unit_sample = [x / norm_sample for x in sample_ball]\n",
      "                    radius_ball = random.random() ** (1/dim)\n",
      "                    unit_sample = [x * radius_ball for x in unit_sample]\n",
      "                    break\n",
      "\n",
      "            # Map from unit ball to ellipsoid: scale by radii then rotate by basis then translate by center\n",
      "            scaled = [unit_sample[i]*radii[i] for i in range(dim)]\n",
      "            point = [0.0]*dim\n",
      "            for i in range(dim):\n",
      "                for j in range(dim):\n",
      "                    point[i] += basis[j][i]*scaled[j]\n",
      "            sample_in_ellipsoid = tuple(point[i] + center[i] for i in range(dim))\n",
      "\n",
      "            # Clamp sample inside bounds\n",
      "            clamped = tuple(\n",
      "                max(0, min(sample_in_ellipsoid[i], bounds[i]))\n",
      "                for i in range(dim)\n",
      "            )\n",
      "            return clamped\n",
      "\n",
      "        def steer(from_pos: Tuple[float, ...], to_pos: Tuple[float, ...]) -> Tuple[float, ...]:\n",
      "            d = euclidean(from_pos, to_pos)\n",
      "            if d <= self.step_size:\n",
      "                return to_pos\n",
      "            scale = self.step_size / d\n",
      "            return tuple(from_pos[i] + scale*(to_pos[i] - from_pos[i]) for i in range(dim))\n",
      "\n",
      "        def nearest(tree: List[Node], point: Tuple[float, ...]) -> Node:\n",
      "            return min(tree, key=lambda n: euclidean(n.position, point))\n",
      "\n",
      "        def near_nodes(tree: List[Node], node_pos: Tuple[float, ...], radius: float) -> List[Node]:\n",
      "            return [n for n in tree if euclidean(n.position, node_pos) <= radius]\n",
      "\n",
      "        def try_extend(tree: List[Node], sample: Tuple[float, ...]) -> Optional[Node]:\n",
      "            nearest_node = nearest(tree, sample)\n",
      "            new_pos = steer(nearest_node.position, sample)\n",
      "            if not collision_free(nearest_node.position, new_pos):\n",
      "                return None\n",
      "            new_cost = nearest_node.cost + euclidean(nearest_node.position, new_pos)\n",
      "            new_node = Node(new_pos, parent=nearest_node, cost=new_cost)\n",
      "            nearest_node.add_child(new_node)\n",
      "            tree.append(new_node)\n",
      "            nodes_all.append(new_node)\n",
      "\n",
      "            # Rewiring in RRT* style\n",
      "            neighbors = near_nodes(tree, new_pos, self.rewire_radius)\n",
      "            for nb in neighbors:\n",
      "                if nb is new_node.parent:\n",
      "                    continue\n",
      "                possible_cost = new_node.cost + euclidean(new_node.position, nb.position)\n",
      "                if possible_cost < nb.cost and collision_free(new_node.position, nb.position):\n",
      "                    # Rewire neighbor\n",
      "                    # Remove old parent's child link\n",
      "                    if nb.parent:\n",
      "                        try:\n",
      "                            nb.parent.children.remove(nb)\n",
      "                        except ValueError:\n",
      "                            pass\n",
      "                    nb.parent = new_node\n",
      "                    nb.cost = possible_cost\n",
      "                    new_node.add_child(nb)\n",
      "\n",
      "            return new_node\n",
      "\n",
      "        # Connect tries to connect tree to target by repeated steering steps\n",
      "        def try_connect(tree: List[Node], target: Tuple[float, ...]) -> Optional[Node]:\n",
      "            current = nearest(tree, target)\n",
      "            while True:\n",
      "                new_pos = steer(current.position, target)\n",
      "                if not collision_free(current.position, new_pos):\n",
      "                    return None\n",
      "                new_cost = current.cost + euclidean(current.position, new_pos)\n",
      "                new_node = Node(new_pos, parent=current, cost=new_cost)\n",
      "                current.add_child(new_node)\n",
      "                tree.append(new_node)\n",
      "                nodes_all.append(new_node)\n",
      "                if euclidean(new_pos, target) <= self.step_size:\n",
      "                    return new_node\n",
      "                current = new_node\n",
      "\n",
      "        # Attempt to connect two nodes, returns True if successful and the connecting nodes in trees\n",
      "        def attempt_connection(node_start: Node, tree_goal: List[Node]) -> Optional[Tuple[Node, Node]]:\n",
      "            nearest_goal_node = nearest(tree_goal, node_start.position)\n",
      "            # Try path from goal tree node to start tree node by stepping and collision checking (reverse from goal)\n",
      "            if collision_free(nearest_goal_node.position, node_start.position):\n",
      "                # Found connection, create connecting node for tree_goal if needed (direct connection)\n",
      "                # Link them by making goal node parent of node_start or vice versa, no tree modification needed here\n",
      "                # Return nodes for path extraction\n",
      "                return (node_start, nearest_goal_node)\n",
      "            else:\n",
      "                # Try extend goal tree towards start node to improve connection chance\n",
      "                new_goal_node = try_connect(tree_goal, node_start.position)\n",
      "                if new_goal_node:\n",
      "                    if euclidean(new_goal_node.position, node_start.position) <= self.step_size and collision_free(new_goal_node.position, node_start.position):\n",
      "                        return (node_start, new_goal_node)\n",
      "            return None\n",
      "\n",
      "        # Path smoothing postprocessing by shortcutting\n",
      "        def smooth_path(path: List[Tuple[float, ...]], max_attempts=100) -> List[Tuple[float, ...]]:\n",
      "            if len(path) <= 2:\n",
      "                return path\n",
      "            for _ in range(max_attempts):\n",
      "                if len(path) <= 2:\n",
      "                    break\n",
      "                i = random.randint(0, len(path)-3)\n",
      "                j = random.randint(i+2, len(path)-1)\n",
      "                if collision_free(path[i], path[j]):\n",
      "                    # Shortcut by removing intermediate nodes\n",
      "                    path = path[:i+1] + path[j:]\n",
      "            return path\n",
      "\n",
      "        # Main loop\n",
      "        for iter in range(self.max_iter):\n",
      "            # Alternate expanding trees to balance growth\n",
      "            if iter % 2 == 0:\n",
      "                tree_a, tree_b = tree_start, tree_goal\n",
      "            else:\n",
      "                tree_a, tree_b = tree_goal, tree_start\n",
      "\n",
      "            # Sampling (goal bias or informed sampling)\n",
      "            if random.random() < self.goal_sample_rate:\n",
      "                sample = goal_pos if tree_a is tree_start else start_pos\n",
      "            else:\n",
      "                sample = informed_sample()\n",
      "\n",
      "            new_node = try_extend(tree_a, sample)\n",
      "            if new_node is None:\n",
      "                continue\n",
      "\n",
      "            connection = attempt_connection(new_node, tree_b)\n",
      "            if connection:\n",
      "                # Reconstruct path from start to goal via connected nodes\n",
      "                node_from_start, node_from_goal = connection\n",
      "                # Identify which tree is start or goal for proper path extraction\n",
      "                if tree_a is tree_start:\n",
      "                    path_start = node_from_start.path()\n",
      "                    path_goal = node_from_goal.path()\n",
      "                    path_goal.reverse()\n",
      "                else:\n",
      "                    path_start = node_from_goal.path()\n",
      "                    path_goal = node_from_start.path()\n",
      "                    path_goal.reverse()\n",
      "\n",
      "                candidate_path = path_start + path_goal[1:]\n",
      "\n",
      "                candidate_cost = 0.0\n",
      "                for k in range(len(candidate_path) - 1):\n",
      "                    candidate_cost += euclidean(candidate_path[k], candidate_path[k+1])\n",
      "\n",
      "                if candidate_cost < best_path_cost:\n",
      "                    best_path_cost = candidate_cost\n",
      "                    best_path = candidate_path\n",
      "                    # Swap to tree_start and tree_goal for consistent variable usage\n",
      "                    if tree_a is tree_goal:\n",
      "                        tree_start, tree_goal = tree_goal, tree_start\n",
      "\n",
      "            # Swap trees for next iteration, not needed here since handled by iter%2\n",
      "\n",
      "        success = len(best_path) > 0\n",
      "\n",
      "        if success:\n",
      "            best_path = smooth_path(best_path, max_attempts=200)\n",
      "\n",
      "        edges = [(node.parent, node) for node in nodes_all if node.parent]\n",
      "\n",
      "        return PlannerResult(\n",
      "            success=success,\n",
      "            path=best_path,\n",
      "            nodes=nodes_all,\n",
      "            edges=edges\n",
      "        )\n",
      "\n",
      "\n",
      "    def _is_in_obstacle(self, pos: Tuple[float, ...], obstacles, is_3d: bool) -> bool:\n",
      "        if is_3d:\n",
      "            px, py, pz = pos\n",
      "            for x, y, z, w, h, d in obstacles:\n",
      "                if x <= px <= x + w and y <= py <= y + h and z <= pz <= z + d:\n",
      "                    return True\n",
      "        else:\n",
      "            px, py = pos\n",
      "            for x, y, w, h in obstacles:\n",
      "                if x <= px <= x + w and y <= py <= y + h:\n",
      "                    return True\n",
      "        return False\n",
      "```\n"
     ]
    }
   ],
   "source": [
    "print(gcode)"
   ]
  },
  {
   "cell_type": "code",
   "execution_count": 11,
   "id": "659735f5",
   "metadata": {},
   "outputs": [],
   "source": [
    "c, m, a = ee._extract_alg(gcode)"
   ]
  },
  {
   "cell_type": "code",
   "execution_count": 18,
   "id": "5691cdab",
   "metadata": {},
   "outputs": [],
   "source": [
    "response = ee.get_analysis(classic_method[0]['code'], classic_method[5]['code'], 'time')"
   ]
  },
  {
   "cell_type": "code",
   "execution_count": 17,
   "id": "665735c9",
   "metadata": {},
   "outputs": [
    {
     "data": {
      "text/plain": [
       "{'algorithm': 'RRT',\n",
       " 'algorithm_description': 'This algorithm is a sampling-based path planning algorithm that incrementally builds a space-filling tree rooted at the start position by randomly sampling the configuration space and extending the nearest existing node toward the sample. It continues this process until the goal is reached or a maximum number of iterations is exceeded.',\n",
       " 'planning_mechanism': 'The planner randomly samples free configurations, finds the nearest node in the current tree, attempts to extend toward the sample by a fixed step size, and adds the new node if the move is valid. This repeats until the goal is reached or iteration limit is hit.',\n",
       " 'code': '\\nclass Node:\\n    def __init__(self, position, parent=None, cost=0.0):\\n        self.position = position\\n        self.parent = parent\\n        self.cost = cost\\n        self.children = []\\n        self.valid = True\\n\\n    def add_child(self, child_node):\\n        self.children.append(child_node)\\n\\n\\nclass Planner:\\n    def __init__(self, max_iter: int = 5000, step_size: float = 3.0, goal_sample_rate: float = 0.05):\\n        self.max_iter = max_iter\\n        self.step_size = step_size\\n        self.goal_sample_rate = goal_sample_rate\\n\\n    def plan(self, map) -> PlannerResult:\\n        import random\\n        import math\\n\\n        bounds = map.size\\n        start_position = map.start\\n        goal_position = map.goal\\n        obstacles = map.obstacles\\n        is_3d = len(bounds) == 3\\n\\n        success_state = False\\n        extracted_path = []\\n        nodes = []\\n        edges = []\\n\\n        root = Node(start_position)\\n        nodes.append(root)\\n\\n        for _ in range(self.max_iter):\\n            # Goal biasing\\n            if random.random() < self.goal_sample_rate:\\n                sample = goal_position\\n            else:\\n                sample = tuple(random.uniform(0, bounds[d]) for d in range(len(bounds)))\\n\\n            # Find nearest node\\n            nearest_node = min(nodes, key=lambda n: math.dist(n.position, sample))\\n\\n            # Steer\\n            direction = tuple(sample[d] - nearest_node.position[d] for d in range(len(bounds)))\\n            length = math.dist(nearest_node.position, sample)\\n            if length == 0:\\n                continue\\n            unit = tuple(d / length for d in direction)\\n            new_position = tuple(nearest_node.position[d] + unit[d] * min(self.step_size, length) for d in range(len(bounds)))\\n\\n            if self._is_in_obstacle(new_position, obstacles, is_3d):\\n                continue\\n            if self._is_edge_in_obstacle(nearest_node.position, new_position, obstacles, is_3d):\\n                continue\\n\\n            new_node = Node(new_position, parent=nearest_node, cost=nearest_node.cost + math.dist(nearest_node.position, new_position))\\n            nearest_node.add_child(new_node)\\n            nodes.append(new_node)\\n            edges.append((nearest_node, new_node))\\n\\n            # Check if goal reached\\n            if math.dist(new_position, goal_position) <= self.step_size:\\n                if not self._is_edge_in_obstacle(new_position, goal_position, obstacles, is_3d) and not self._is_in_obstacle(goal_position, obstacles, is_3d):\\n                    goal_node = Node(goal_position, parent=new_node, cost=new_node.cost + math.dist(new_position, goal_position))\\n                    new_node.add_child(goal_node)\\n                    nodes.append(goal_node)\\n                    edges.append((new_node, goal_node))\\n                    success_state = True\\n                    break\\n\\n        if success_state:\\n            path = []\\n            node = nodes[-1]\\n            while node:\\n                path.append(node.position)\\n                node = node.parent\\n            extracted_path = path[::-1]\\n\\n        return PlannerResult(\\n            success=success_state,\\n            path=extracted_path,\\n            nodes=nodes,\\n            edges=edges\\n        )\\n\\n    def _is_in_obstacle(self, pos, obstacles, is_3d):\\n        for obs in obstacles:\\n            if is_3d:\\n                x, y, z, w, h, d = obs\\n                px, py, pz = pos\\n                if x <= px <= x + w and y <= py <= y + h and z <= pz <= z + d:\\n                    return True\\n            else:\\n                x, y, w, h = obs\\n                px, py = pos\\n                if x <= px <= x + w and y <= py <= y + h:\\n                    return True\\n        return False\\n\\n    def _is_edge_in_obstacle(self, from_pos, to_pos, obstacles, is_3d, resolution=1.0):\\n        import math\\n        distance = math.dist(from_pos, to_pos)\\n        steps = max(1, int(distance / resolution))\\n        for i in range(steps + 1):\\n            interp = tuple(from_pos[d] + (to_pos[d] - from_pos[d]) * (i / steps) for d in range(len(from_pos)))\\n            if self._is_in_obstacle(interp, obstacles, is_3d):\\n                return True\\n        return False\\n    '}"
      ]
     },
     "execution_count": 17,
     "metadata": {},
     "output_type": "execute_result"
    }
   ],
   "source": [
    "classic_method[0]"
   ]
  },
  {
   "cell_type": "code",
   "execution_count": 19,
   "id": "979eb95b",
   "metadata": {},
   "outputs": [
    {
     "name": "stdout",
     "output_type": "stream",
     "text": [
      "1. Summary of key changes:  \n",
      "   - alg1 implements a bidirectional search with two trees grown from start and goal, while alg2 uses a unidirectional single tree.  \n",
      "   - alg1 includes rewiring to optimize paths and maintain cost-minimizing parent-child relationships; alg2 lacks rewiring and cost optimization beyond simple parent assignment.  \n",
      "   - alg2 applies goal biasing (goal_sample_rate) to probabilistically sample the goal position, increasing the chances of connecting to the goal.  \n",
      "   - alg2 uses a smaller step_size (3.0 vs 5.0) potentially providing finer resolution in path expansion.  \n",
      "   - alg1 maintains and updates children lists and edges extensively during rewiring; alg2 manages simpler parent-child linkage without edge rewiring.\n",
      "\n",
      "2. Primary contributors to the performance improvement:  \n",
      "   - Introduction of goal biasing in sampling significantly speeds goal reachability.  \n",
      "   - Simpler unidirectional search reduces computational overhead compared to managing two trees and rewiring.  \n",
      "   - Avoiding rewiring and complex cost recalculations reduces per-iteration computation time.  \n",
      "   - Smaller step size enables more controlled incremental exploration and edge validation.\n",
      "\n",
      "3. Expected mechanism of impact:  \n",
      "   - Goal biasing directs sampling towards the goal, increasing successful connections earlier in the search.  \n",
      "   - Unidirectional growth reduces complexity and overhead, enabling faster iteration throughput.  \n",
      "   - Eliminating rewiring simplifies data structure updates, decreasing runtime costs per iteration.  \n",
      "   - Smaller step size supports finer navigation around obstacles, reducing invalid expansions and backtracking.\n"
     ]
    }
   ],
   "source": [
    "print(response)"
   ]
  },
  {
   "cell_type": "code",
   "execution_count": null,
   "id": "4d8a1298",
   "metadata": {},
   "outputs": [],
   "source": []
  }
 ],
 "metadata": {
  "kernelspec": {
   "display_name": "eohp",
   "language": "python",
   "name": "python3"
  },
  "language_info": {
   "codemirror_mode": {
    "name": "ipython",
    "version": 3
   },
   "file_extension": ".py",
   "mimetype": "text/x-python",
   "name": "python",
   "nbconvert_exporter": "python",
   "pygments_lexer": "ipython3",
   "version": "3.10.18"
  }
 },
 "nbformat": 4,
 "nbformat_minor": 5
}
