{
 "cells": [
  {
   "cell_type": "code",
   "execution_count": 43,
   "id": "c96b2583",
   "metadata": {},
   "outputs": [],
   "source": [
    "import numpy as np\n",
    "import random\n",
    "import math\n",
    "from typing import Tuple, Literal, Union, Optional, List, Dict, NamedTuple, Callable, Any, Set\n",
    "from queue import Queue\n",
    "import warnings\n",
    "import sys\n",
    "import json\n",
    "import time\n",
    "import types\n",
    "import pickle\n",
    "import plotly.graph_objs as go\n",
    "import plotly.express as px\n",
    "import pandas as pd\n",
    "import os"
   ]
  },
  {
   "cell_type": "code",
   "execution_count": 2,
   "id": "9abc538c",
   "metadata": {},
   "outputs": [],
   "source": [
    "class Map(NamedTuple):\n",
    "    grid: np.ndarray\n",
    "    start: Union[Tuple[float, float], Tuple[float, float, float]]\n",
    "    goal: Union[Tuple[float, float], Tuple[float, float, float]]\n",
    "    obstacles: List[Union[Tuple[float, float, float, float], Tuple[float, float, float, float, float, float]]] # x, y, width, height or x, y, z, width, height, dimension\n",
    "    size: Union[Tuple[int, int], Tuple[int, int, int]]\n",
    "\n",
    "class PlannerResult(NamedTuple):\n",
    "    success: bool\n",
    "    path: List[Union[Tuple[float, float], Tuple[float, float, float]]]\n",
    "    nodes: List[Union[Tuple[float, float], Tuple[float, float, float]]]\n",
    "    edges: List[Tuple[Tuple[float, ...], Tuple[float, ...]]]  # (parent, child)\n",
    "\n",
    "class Node:\n",
    "    def __init__(self, position, parent=None, cost=0.0):\n",
    "        self.position = position\n",
    "        self.parent = parent\n",
    "        self.cost = cost\n",
    "        self.children = []\n",
    "        self.valid = True  # 장애물 충돌 여부 등\n"
   ]
  },
  {
   "cell_type": "code",
   "execution_count": null,
   "id": "459d812a",
   "metadata": {},
   "outputs": [],
   "source": [
    "class MapGenerator:\n",
    "    def __init__(\n",
    "        self,\n",
    "        map_type: Literal[\"random\", \"multi_narrow\", \"maze\"] = \"random\",\n",
    "        map_size: Union[Tuple[int, int], Tuple[int, int, int]] = (50, 50),\n",
    "        obstacle_percent: float = 0.2,\n",
    "        min_obstacle_size: Union[Tuple[int, int], Tuple[int, int, int]] = (2, 2),\n",
    "        max_obstacle_size: Union[Tuple[int, int], Tuple[int, int, int]] = (5, 5),\n",
    "        max_obstacle_count: Optional[int] = None\n",
    "    ):\n",
    "        self.map_type = map_type\n",
    "        self.map_size = map_size\n",
    "        self.obstacle_percent = obstacle_percent\n",
    "        self.obstacle_list: List[Tuple[int, ...]] = []\n",
    "        self.min_size = min_obstacle_size\n",
    "        self.max_size = max_obstacle_size\n",
    "        self.max_count = max_obstacle_count\n",
    "        self.is_3d = len(map_size) == 3\n",
    "        self.map = self._init_map()\n",
    "        self.start = None\n",
    "        self.goal = None\n",
    "\n",
    "    def _init_map(self):\n",
    "        shape = self.map_size[::-1] if self.is_3d else (self.map_size[1], self.map_size[0])\n",
    "        return np.zeros(shape, dtype=np.uint8)\n",
    "\n",
    "    def generate(self, start: Tuple[int, ...], goal: Tuple[int, ...]) -> Dict[str, Union[np.ndarray, Tuple[int, ...], List[Tuple[int, ...]], Tuple[int, int]]]:\n",
    "        self.start = start\n",
    "        self.goal = goal\n",
    "        tries = 0\n",
    "        max_tries = 100\n",
    "\n",
    "        while tries < max_tries:\n",
    "            self.map = self._init_map()\n",
    "            self.obstacle_list.clear()\n",
    "\n",
    "            if self.map_type == \"maze\":\n",
    "                self.map = self._generate_maze()\n",
    "            elif self.map_type == \"random\":\n",
    "                self._generate_random_obstacles(start, goal)\n",
    "            elif self.map_type == \"multi_narrow\":\n",
    "                self._generate_multi_narrow(start, goal)\n",
    "\n",
    "            if self._path_exists(start, goal):\n",
    "                return Map(\n",
    "                    grid=self.map,\n",
    "                    start=start,\n",
    "                    goal=goal,\n",
    "                    obstacles=self.obstacle_list,\n",
    "                    size=self.map_size\n",
    "                )\n",
    "            tries += 1\n",
    "\n",
    "        raise RuntimeError(\"Failed to generate a connected map after multiple attempts.\")\n",
    "\n",
    "    def _add_obstacle(self, coords: Tuple[int, ...]):\n",
    "        self.obstacle_list.append(coords)\n",
    "\n",
    "    def _path_exists(self, start, goal):\n",
    "        visited = set()\n",
    "        q = Queue()\n",
    "        q.put(start)\n",
    "        visited.add(start)\n",
    "\n",
    "        dims = len(start)\n",
    "        neighbors = [(-1,0), (1,0), (0,-1), (0,1)] if dims == 2 else \\\n",
    "                    [(-1,0,0),(1,0,0),(0,-1,0),(0,1,0),(0,0,-1),(0,0,1)]\n",
    "\n",
    "        while not q.empty():\n",
    "            node = q.get()\n",
    "            if node == goal:\n",
    "                return True\n",
    "\n",
    "            for delta in neighbors:\n",
    "                neighbor = tuple(node[i] + delta[i] for i in range(dims))\n",
    "                if self._in_bounds(neighbor) and neighbor not in visited:\n",
    "                    if self._is_free(neighbor):\n",
    "                        visited.add(neighbor)\n",
    "                        q.put(neighbor)\n",
    "        return False\n",
    "\n",
    "    def _in_bounds(self, p):\n",
    "        if self.is_3d:\n",
    "            z, y, x = p\n",
    "            return 0 <= z < self.map.shape[0] and 0 <= y < self.map.shape[1] and 0 <= x < self.map.shape[2]\n",
    "        else:\n",
    "            y, x = p\n",
    "            return 0 <= y < self.map.shape[0] and 0 <= x < self.map.shape[1]\n",
    "\n",
    "    def _is_free(self, p):\n",
    "        if self.is_3d:\n",
    "            z, y, x = p\n",
    "            return self.map[z, y, x] == 0\n",
    "        else:\n",
    "            y, x = p\n",
    "            return self.map[y, x] == 0\n",
    "\n",
    "    def _is_inside(self, point, x, y, z, ow, oh, od):\n",
    "        px, py, *pz = point\n",
    "        if z is None:\n",
    "            return x <= px < x + ow and y <= py < y + oh\n",
    "        else:\n",
    "            pz = pz[0]\n",
    "            return x <= px < x + ow and y <= py < y + oh and z <= pz < z + od\n",
    "\n",
    "    def _generate_random_obstacles(self, start, goal):\n",
    "        if self.is_3d:\n",
    "            w, h, d = self.map_size\n",
    "            total_voxels = w * h * d\n",
    "            max_obs = int(total_voxels * self.obstacle_percent)\n",
    "            count = 0\n",
    "            for _ in range(10000):\n",
    "                ow = random.randint(self.min_size[0], self.max_size[0])\n",
    "                oh = random.randint(self.min_size[1], self.max_size[1])\n",
    "                od = random.randint(self.min_size[2], self.max_size[2])\n",
    "                x = random.randint(0, w - ow - 1)\n",
    "                y = random.randint(0, h - oh - 1)\n",
    "                z = random.randint(0, d - od - 1)\n",
    "                if np.any(self.map[z:z+od, y:y+oh, x:x+ow]):\n",
    "                    continue\n",
    "                if self._is_inside(start, x, y, z, ow, oh, od) or self._is_inside(goal, x, y, z, ow, oh, od):\n",
    "                    continue\n",
    "                self.map[z:z+od, y:y+oh, x:x+ow] = 1\n",
    "                self._add_obstacle((x, y, z, ow, oh, od))\n",
    "                count += ow * oh * od\n",
    "                if self.max_count and count >= self.max_count:\n",
    "                    break\n",
    "                if count >= max_obs:\n",
    "                    break\n",
    "        else:\n",
    "            w, h = self.map_size\n",
    "            total_cells = w * h\n",
    "            max_obs = int(total_cells * self.obstacle_percent)\n",
    "            count = 0\n",
    "            for _ in range(10000):\n",
    "                ow = random.randint(self.min_size[0], self.max_size[0])\n",
    "                oh = random.randint(self.min_size[1], self.max_size[1])\n",
    "                x = random.randint(0, w - ow - 1)\n",
    "                y = random.randint(0, h - oh - 1)\n",
    "                if np.any(self.map[y:y+oh, x:x+ow]):\n",
    "                    continue\n",
    "                if self._is_inside(start, x, y, None, ow, oh, None) or self._is_inside(goal, x, y, None, ow, oh, None):\n",
    "                    continue\n",
    "                self.map[y:y+oh, x:x+ow] = 1\n",
    "                self._add_obstacle((x, y, ow, oh))\n",
    "                count += ow * oh\n",
    "                if self.max_count and count >= self.max_count:\n",
    "                    break\n",
    "                if count >= max_obs:\n",
    "                    break\n",
    "\n",
    "    def _generate_multi_narrow(self, start, goal):\n",
    "        if self.is_3d:\n",
    "            self._generate_random_obstacles(start, goal)\n",
    "        else:\n",
    "            w, h = self.map_size\n",
    "            corridor_width = 2\n",
    "            spacing = 6\n",
    "            for i in range(spacing, h - spacing, spacing + corridor_width):\n",
    "                self.map[i:i+spacing, :] = 1\n",
    "            self._carve_corridor(start, goal)\n",
    "\n",
    "    def _carve_corridor(self, start, goal):\n",
    "        if not self.is_3d:\n",
    "            y0, x0 = start[1], start[0]\n",
    "            y1, x1 = goal[1], goal[0]\n",
    "            for x in range(min(x0, x1), max(x0, x1)+1):\n",
    "                self.map[y0, x] = 0\n",
    "            for y in range(min(y0, y1), max(y0, y1)+1):\n",
    "                self.map[y, x1] = 0\n",
    "\n",
    "    def _generate_maze(self):\n",
    "        width, height = self.map_size\n",
    "        if width % 2 == 0: width += 1\n",
    "        if height % 2 == 0: height += 1\n",
    "\n",
    "        maze = np.ones((height, width), dtype=np.uint8)\n",
    "        sx, sy = 1, 1\n",
    "        maze[sy, sx] = 0\n",
    "\n",
    "        walls = [(sx + dx, sy + dy) for dx, dy in [(-2, 0), (2, 0), (0, -2), (0, 2)]\n",
    "                 if 0 < sx + dx < width and 0 < sy + dy < height]\n",
    "\n",
    "        while walls:\n",
    "            wx, wy = walls.pop(random.randint(0, len(walls) - 1))\n",
    "            if maze[wy, wx] == 1:\n",
    "                neighbors = [(wx + dx, wy + dy) for dx, dy in [(-2, 0), (2, 0), (0, -2), (0, 2)]\n",
    "                             if 0 < wx + dx < width and 0 < wy + dy < height and maze[wy + dy, wx + dx] == 0]\n",
    "                if len(neighbors) == 1:\n",
    "                    nx, ny = neighbors[0]\n",
    "                    maze[(wy + ny) // 2, (wx + nx) // 2] = 0\n",
    "                    maze[wy, wx] = 0\n",
    "                    for dx, dy in [(-2, 0), (2, 0), (0, -2), (0, 2)]:\n",
    "                        nx, ny = wx + dx, wy + dy\n",
    "                        if 0 < nx < width and 0 < ny < height and maze[ny, nx] == 1:\n",
    "                            walls.append((nx, ny))\n",
    "\n",
    "        return maze\n",
    "\n"
   ]
  },
  {
   "cell_type": "code",
   "execution_count": 3,
   "id": "2ae55dce",
   "metadata": {},
   "outputs": [],
   "source": [
    "class MapIO:\n",
    "    @staticmethod\n",
    "    def save_map(map_data: Map, filename: str) -> None:\n",
    "        \"\"\"Save Map object to a binary file.\"\"\"\n",
    "        with open(filename, 'wb') as f:\n",
    "            pickle.dump(map_data, f)\n",
    "\n",
    "    @staticmethod\n",
    "    def load_map(filename: str) -> Map:\n",
    "        \"\"\"Load Map object from a binary file.\"\"\"\n",
    "        if not os.path.exists(filename):\n",
    "            raise FileNotFoundError(f\"Map file not found: {filename}\")\n",
    "        with open(filename, 'rb') as f:\n",
    "            return pickle.load(f)"
   ]
  },
  {
   "cell_type": "code",
   "execution_count": 4,
   "id": "09feaf00",
   "metadata": {},
   "outputs": [],
   "source": [
    "def visualize_map_shapes(\n",
    "    map_array: np.ndarray,\n",
    "    start: Optional[Tuple[int, ...]] = None,\n",
    "    goal: Optional[Tuple[int, ...]] = None,\n",
    "    obs:List[Tuple[int, ...]] = None,\n",
    "    path: Optional[List[Tuple[float, ...]]] = None,\n",
    "    nodes: Optional[List[Tuple[float, ...]]] = None,\n",
    "    edges: Optional[List[Tuple[float, ...]]] = None,\n",
    "    title: str = \"Map Visualization\"\n",
    "):\n",
    "    fig = go.Figure()\n",
    "\n",
    "    if map_array.ndim == 2:\n",
    "        height, width = map_array.shape\n",
    "        \n",
    "        for x, y, w, h in obs:\n",
    "                fig.add_shape(\n",
    "                    type=\"rect\",\n",
    "                    x0=x, x1=x+w, y0=y, y1=y+h,\n",
    "                    fillcolor=\"purple\",opacity=0.5,\n",
    "                    line=dict(width=0)\n",
    "                )\n",
    "\n",
    "        # 방문 노드\n",
    "        if nodes:\n",
    "            vx, vy = zip(*nodes)\n",
    "            fig.add_trace(go.Scatter(\n",
    "                x=vx, y=vy, mode=\"markers\",\n",
    "                marker=dict(size=4, color=\"blue\"),\n",
    "                name=\"nodes\"\n",
    "            ))\n",
    "\n",
    "        # 경로\n",
    "        if path:\n",
    "            px, py = zip(*path)\n",
    "            fig.add_trace(go.Scatter(\n",
    "                x=px, y=py, mode=\"lines+markers\",\n",
    "                line=dict(color=\"green\"),\n",
    "                marker=dict(size=6),\n",
    "                name=\"Path\"\n",
    "            ))\n",
    "\n",
    "        # 엣지 (연결 정보)\n",
    "        if edges:\n",
    "            for parent, child in edges:\n",
    "                fig.add_trace(go.Scatter(\n",
    "                    x=[parent.position[0], child.position[0]], y=[parent.position[1], child.position[1]],\n",
    "                    mode=\"lines\",\n",
    "                    line=dict(color=\"lightblue\", width=1),\n",
    "                    showlegend=False,\n",
    "                    hoverinfo=\"skip\"\n",
    "                ))\n",
    "\n",
    "\n",
    "        # 시작/목표\n",
    "        if start:\n",
    "            fig.add_trace(go.Scatter(\n",
    "                x=[start[0]], y=[start[1]], mode=\"markers\",\n",
    "                marker=dict(size=10, color=\"red\"),\n",
    "                name=\"Start\"\n",
    "            ))\n",
    "\n",
    "        if goal:\n",
    "            fig.add_trace(go.Scatter(\n",
    "                x=[goal[0]], y=[goal[1]], mode=\"markers\",\n",
    "                marker=dict(size=10, color=\"orange\"),\n",
    "                name=\"Goal\"\n",
    "            ))\n",
    "\n",
    "        fig.add_shape(\n",
    "            type=\"rect\",\n",
    "            x0=0, y0=0,\n",
    "            x1=width, y1=height,\n",
    "            line=dict(color=\"white\", width=3),\n",
    "            fillcolor=\"rgba(0,0,0,0)\",  # 투명 내부\n",
    "            layer=\"above\"\n",
    "        )\n",
    "\n",
    "        fig.update_layout(\n",
    "            title=title,\n",
    "            xaxis=dict(scaleanchor=\"y\", showgrid=False),\n",
    "            # yaxis=dict(showgrid=False, autorange=\"reversed\"),\n",
    "            yaxis=dict(showgrid=False),\n",
    "            height=600, width=600\n",
    "        )\n",
    "\n",
    "    elif map_array.ndim == 3:\n",
    "        z, y, x = map_array.nonzero()\n",
    "        x, y, z = list(x), list(y), list(z)\n",
    "\n",
    "        # for x,y,w,h in obs:\n",
    "        #     fig.add_trace(go.Mesh3d(\n",
    "        #         x=x, y=y, z=z,\n",
    "        #         color='black',\n",
    "        #         opacity=1.0,\n",
    "        #         alphahull=0,\n",
    "        #         name='Obstacles'\n",
    "        #     ))\n",
    "\n",
    "        fig.add_trace(go.Mesh3d(\n",
    "            x=x, y=y, z=z,\n",
    "            color='black',\n",
    "            opacity=1.0,\n",
    "            alphahull=0,\n",
    "            name='Obstacles'\n",
    "        ))\n",
    "\n",
    "        if nodes:\n",
    "            vx, vy, vz = zip(*nodes)\n",
    "            fig.add_trace(go.Scatter3d(\n",
    "                x=vx, y=vy, z=vz,\n",
    "                mode='markers',\n",
    "                marker=dict(size=2, color='blue'),\n",
    "                name='Visited'\n",
    "            ))\n",
    "\n",
    "        # 엣지 (연결 정보)\n",
    "        if edges:\n",
    "            for parent, child in edges:\n",
    "                fig.add_trace(go.Scatter3d(\n",
    "                    x=[parent.position[0], child.position[0]],\n",
    "                    y=[parent[1].position, child.position[1]],\n",
    "                    z=[parent[2].position, child.position[2]],\n",
    "                    mode='lines',\n",
    "                    line=dict(color='lightblue', width=2),\n",
    "                    showlegend=False,\n",
    "                    hoverinfo=\"skip\"\n",
    "                ))\n",
    "\n",
    "        if path:\n",
    "            px_, py_, pz_ = zip(*path)\n",
    "            fig.add_trace(go.Scatter3d(\n",
    "                x=px_, y=py_, z=pz_,\n",
    "                mode='lines+markers',\n",
    "                marker=dict(size=3, color='green'),\n",
    "                name='Path'\n",
    "            ))\n",
    "\n",
    "        if start:\n",
    "            fig.add_trace(go.Scatter3d(\n",
    "                x=[start[0]], y=[start[1]], z=[start[2]],\n",
    "                mode='markers',\n",
    "                marker=dict(size=5, color='red'),\n",
    "                name='Start'\n",
    "            ))\n",
    "\n",
    "        if goal:\n",
    "            fig.add_trace(go.Scatter3d(\n",
    "                x=[goal[0]], y=[goal[1]], z=[goal[2]],\n",
    "                mode='markers',\n",
    "                marker=dict(size=5, color='orange'),\n",
    "                name='Goal'\n",
    "            ))\n",
    "\n",
    "        fig.update_layout(\n",
    "            title=title,\n",
    "            scene=dict(aspectmode='data'),\n",
    "            height=700, width=700\n",
    "        )\n",
    "\n",
    "        \n",
    "\n",
    "    fig.show()\n"
   ]
  },
  {
   "cell_type": "code",
   "execution_count": null,
   "id": "f6e948da",
   "metadata": {},
   "outputs": [],
   "source": [
    "gen = MapGenerator(map_type=\"random\", map_size=(100, 100), min_obstacle_size=(5, 5), max_obstacle_size=(15, 15), obstacle_percent=0.32)\n",
    "m = gen.generate(start=(1, 1), goal=(99, 99))\n",
    "visualize_map_shapes(m.grid, obs=m.obstacles, start=m.start, goal=m.goal)"
   ]
  },
  {
   "cell_type": "code",
   "execution_count": null,
   "id": "766b01a4",
   "metadata": {},
   "outputs": [],
   "source": [
    "def generate_box_with_narrow_entry(width: int, height: int, entry_side: str = \"left\", entry_pos: int = 10, entry_width: int = 1) -> Map:\n",
    "    grid = np.zeros((height, width), dtype=np.uint8)\n",
    "    obstacles = []\n",
    "    start, goal = (80,50), (50,50)\n",
    "    \n",
    "\n",
    "    grid[27:30, 52:70] = 1  \n",
    "    obstacles.append((27, 52, 3, 18))\n",
    "    grid[27:30, 30:48] = 1  \n",
    "    obstacles.append((27, 30, 3, 18))\n",
    "    \n",
    "    grid[70:73, 30:70] = 1\n",
    "    obstacles.append((70, 30, 3, 40))\n",
    "\n",
    "    grid[30:70, 30:33] = 1\n",
    "    obstacles.append((30, 30, 40, 3))\n",
    "    grid[30:70, 67:70] = 1  \n",
    "    obstacles.append((30, 67, 40, 3))\n",
    "\n",
    "\n",
    "    # Obstacle extraction\n",
    "\n",
    "    return Map(\n",
    "        grid=grid,\n",
    "        start=start,\n",
    "        goal=goal,\n",
    "        obstacles=obstacles,\n",
    "        size=(width, height)\n",
    "    )"
   ]
  },
  {
   "cell_type": "code",
   "execution_count": null,
   "id": "f9ee8c9a",
   "metadata": {},
   "outputs": [],
   "source": [
    "def generate_box_with_narrow_entry(width: int, height: int, entry_side: str = \"left\", entry_pos: int = 10, entry_width: int = 1) -> Map:\n",
    "    grid = np.zeros((height, width), dtype=np.uint8)\n",
    "    obstacles = []\n",
    "    start, goal = (29,40), (90,10)\n",
    "    \n",
    "\n",
    "\n",
    "    grid[17:20, 20:80] = 1\n",
    "    obstacles.append((17, 20, 3, 60))\n",
    "    grid[37:40, 0:50] = 1\n",
    "    obstacles.append((37, 0, 3, 50))\n",
    "    grid[57:60, 20:100] = 1\n",
    "    obstacles.append((57, 20, 3, 80))\n",
    "    grid[77:80, 20:70] = 1\n",
    "    obstacles.append((77, 0, 3, 80))\n",
    "\n",
    "    grid[20:37, 47:60] = 1  \n",
    "    obstacles.append((20, 47, 17, 3))\n",
    "    grid[30:57, 62:65] = 1 \n",
    "    obstacles.append((30, 62, 27, 3))\n",
    "    grid[10:45, 80:83] = 1 \n",
    "    obstacles.append((10, 80, 35, 3))\n",
    "    grid[10:45, 80:83] = 1 \n",
    "    obstacles.append((70, 80, 20, 3))\n",
    "\n",
    "\n",
    "    # Obstacle extraction\n",
    "\n",
    "    return Map(\n",
    "        grid=grid,\n",
    "        start=start,\n",
    "        goal=goal,\n",
    "        obstacles=obstacles,\n",
    "        size=(width, height)\n",
    "    )"
   ]
  },
  {
   "cell_type": "code",
   "execution_count": 112,
   "id": "ff72ce05",
   "metadata": {},
   "outputs": [],
   "source": [
    "def generate_box_with_narrow_entry(width: int, height: int, entry_side: str = \"left\", entry_pos: int = 10, entry_width: int = 1) -> Map:\n",
    "    grid = np.zeros((height, width), dtype=np.uint8)\n",
    "    obstacles = []\n",
    "    start, goal = (29,10), (90,80)\n",
    "    \n",
    "    grid[27:30, 20:80] = 1\n",
    "    obstacles.append((27, 20, 3, 60))\n",
    "    grid[47:50, 0:50] = 1\n",
    "    obstacles.append((47, 0, 3, 50))\n",
    "    grid[77:80, 20:100] = 1\n",
    "    obstacles.append((77, 20, 3, 80))\n",
    "\n",
    "    grid[30:47, 47:50] = 1  \n",
    "    obstacles.append((30, 47, 17, 3))\n",
    "    grid[50:77, 72:65] = 1 \n",
    "    obstacles.append((50, 72, 27, 3))\n",
    "\n",
    "    # Obstacle extraction\n",
    "\n",
    "    return Map(\n",
    "        grid=grid,\n",
    "        start=start,\n",
    "        goal=goal,\n",
    "        obstacles=obstacles,\n",
    "        size=(width, height)\n",
    "    )"
   ]
  },
  {
   "cell_type": "code",
   "execution_count": 113,
   "id": "14b18069",
   "metadata": {},
   "outputs": [],
   "source": [
    "map_obj = generate_box_with_narrow_entry(width=100, height=100, entry_side=\"left\", entry_pos=25, entry_width=2)\n"
   ]
  },
  {
   "cell_type": "code",
   "execution_count": 114,
   "id": "f68e1103",
   "metadata": {},
   "outputs": [
    {
     "data": {
      "application/vnd.plotly.v1+json": {
       "config": {
        "plotlyServerURL": "https://plot.ly"
       },
       "data": [
        {
         "marker": {
          "color": "red",
          "size": 10
         },
         "mode": "markers",
         "name": "Start",
         "type": "scatter",
         "x": [
          29
         ],
         "y": [
          10
         ]
        },
        {
         "marker": {
          "color": "orange",
          "size": 10
         },
         "mode": "markers",
         "name": "Goal",
         "type": "scatter",
         "x": [
          90
         ],
         "y": [
          80
         ]
        }
       ],
       "layout": {
        "height": 600,
        "shapes": [
         {
          "fillcolor": "purple",
          "line": {
           "width": 0
          },
          "opacity": 0.5,
          "type": "rect",
          "x0": 27,
          "x1": 30,
          "y0": 20,
          "y1": 80
         },
         {
          "fillcolor": "purple",
          "line": {
           "width": 0
          },
          "opacity": 0.5,
          "type": "rect",
          "x0": 47,
          "x1": 50,
          "y0": 0,
          "y1": 50
         },
         {
          "fillcolor": "purple",
          "line": {
           "width": 0
          },
          "opacity": 0.5,
          "type": "rect",
          "x0": 77,
          "x1": 80,
          "y0": 20,
          "y1": 100
         },
         {
          "fillcolor": "purple",
          "line": {
           "width": 0
          },
          "opacity": 0.5,
          "type": "rect",
          "x0": 30,
          "x1": 47,
          "y0": 47,
          "y1": 50
         },
         {
          "fillcolor": "purple",
          "line": {
           "width": 0
          },
          "opacity": 0.5,
          "type": "rect",
          "x0": 50,
          "x1": 77,
          "y0": 72,
          "y1": 75
         },
         {
          "fillcolor": "rgba(0,0,0,0)",
          "layer": "above",
          "line": {
           "color": "white",
           "width": 3
          },
          "type": "rect",
          "x0": 0,
          "x1": 100,
          "y0": 0,
          "y1": 100
         }
        ],
        "template": {
         "data": {
          "bar": [
           {
            "error_x": {
             "color": "#2a3f5f"
            },
            "error_y": {
             "color": "#2a3f5f"
            },
            "marker": {
             "line": {
              "color": "#E5ECF6",
              "width": 0.5
             },
             "pattern": {
              "fillmode": "overlay",
              "size": 10,
              "solidity": 0.2
             }
            },
            "type": "bar"
           }
          ],
          "barpolar": [
           {
            "marker": {
             "line": {
              "color": "#E5ECF6",
              "width": 0.5
             },
             "pattern": {
              "fillmode": "overlay",
              "size": 10,
              "solidity": 0.2
             }
            },
            "type": "barpolar"
           }
          ],
          "carpet": [
           {
            "aaxis": {
             "endlinecolor": "#2a3f5f",
             "gridcolor": "white",
             "linecolor": "white",
             "minorgridcolor": "white",
             "startlinecolor": "#2a3f5f"
            },
            "baxis": {
             "endlinecolor": "#2a3f5f",
             "gridcolor": "white",
             "linecolor": "white",
             "minorgridcolor": "white",
             "startlinecolor": "#2a3f5f"
            },
            "type": "carpet"
           }
          ],
          "choropleth": [
           {
            "colorbar": {
             "outlinewidth": 0,
             "ticks": ""
            },
            "type": "choropleth"
           }
          ],
          "contour": [
           {
            "colorbar": {
             "outlinewidth": 0,
             "ticks": ""
            },
            "colorscale": [
             [
              0,
              "#0d0887"
             ],
             [
              0.1111111111111111,
              "#46039f"
             ],
             [
              0.2222222222222222,
              "#7201a8"
             ],
             [
              0.3333333333333333,
              "#9c179e"
             ],
             [
              0.4444444444444444,
              "#bd3786"
             ],
             [
              0.5555555555555556,
              "#d8576b"
             ],
             [
              0.6666666666666666,
              "#ed7953"
             ],
             [
              0.7777777777777778,
              "#fb9f3a"
             ],
             [
              0.8888888888888888,
              "#fdca26"
             ],
             [
              1,
              "#f0f921"
             ]
            ],
            "type": "contour"
           }
          ],
          "contourcarpet": [
           {
            "colorbar": {
             "outlinewidth": 0,
             "ticks": ""
            },
            "type": "contourcarpet"
           }
          ],
          "heatmap": [
           {
            "colorbar": {
             "outlinewidth": 0,
             "ticks": ""
            },
            "colorscale": [
             [
              0,
              "#0d0887"
             ],
             [
              0.1111111111111111,
              "#46039f"
             ],
             [
              0.2222222222222222,
              "#7201a8"
             ],
             [
              0.3333333333333333,
              "#9c179e"
             ],
             [
              0.4444444444444444,
              "#bd3786"
             ],
             [
              0.5555555555555556,
              "#d8576b"
             ],
             [
              0.6666666666666666,
              "#ed7953"
             ],
             [
              0.7777777777777778,
              "#fb9f3a"
             ],
             [
              0.8888888888888888,
              "#fdca26"
             ],
             [
              1,
              "#f0f921"
             ]
            ],
            "type": "heatmap"
           }
          ],
          "histogram": [
           {
            "marker": {
             "pattern": {
              "fillmode": "overlay",
              "size": 10,
              "solidity": 0.2
             }
            },
            "type": "histogram"
           }
          ],
          "histogram2d": [
           {
            "colorbar": {
             "outlinewidth": 0,
             "ticks": ""
            },
            "colorscale": [
             [
              0,
              "#0d0887"
             ],
             [
              0.1111111111111111,
              "#46039f"
             ],
             [
              0.2222222222222222,
              "#7201a8"
             ],
             [
              0.3333333333333333,
              "#9c179e"
             ],
             [
              0.4444444444444444,
              "#bd3786"
             ],
             [
              0.5555555555555556,
              "#d8576b"
             ],
             [
              0.6666666666666666,
              "#ed7953"
             ],
             [
              0.7777777777777778,
              "#fb9f3a"
             ],
             [
              0.8888888888888888,
              "#fdca26"
             ],
             [
              1,
              "#f0f921"
             ]
            ],
            "type": "histogram2d"
           }
          ],
          "histogram2dcontour": [
           {
            "colorbar": {
             "outlinewidth": 0,
             "ticks": ""
            },
            "colorscale": [
             [
              0,
              "#0d0887"
             ],
             [
              0.1111111111111111,
              "#46039f"
             ],
             [
              0.2222222222222222,
              "#7201a8"
             ],
             [
              0.3333333333333333,
              "#9c179e"
             ],
             [
              0.4444444444444444,
              "#bd3786"
             ],
             [
              0.5555555555555556,
              "#d8576b"
             ],
             [
              0.6666666666666666,
              "#ed7953"
             ],
             [
              0.7777777777777778,
              "#fb9f3a"
             ],
             [
              0.8888888888888888,
              "#fdca26"
             ],
             [
              1,
              "#f0f921"
             ]
            ],
            "type": "histogram2dcontour"
           }
          ],
          "mesh3d": [
           {
            "colorbar": {
             "outlinewidth": 0,
             "ticks": ""
            },
            "type": "mesh3d"
           }
          ],
          "parcoords": [
           {
            "line": {
             "colorbar": {
              "outlinewidth": 0,
              "ticks": ""
             }
            },
            "type": "parcoords"
           }
          ],
          "pie": [
           {
            "automargin": true,
            "type": "pie"
           }
          ],
          "scatter": [
           {
            "fillpattern": {
             "fillmode": "overlay",
             "size": 10,
             "solidity": 0.2
            },
            "type": "scatter"
           }
          ],
          "scatter3d": [
           {
            "line": {
             "colorbar": {
              "outlinewidth": 0,
              "ticks": ""
             }
            },
            "marker": {
             "colorbar": {
              "outlinewidth": 0,
              "ticks": ""
             }
            },
            "type": "scatter3d"
           }
          ],
          "scattercarpet": [
           {
            "marker": {
             "colorbar": {
              "outlinewidth": 0,
              "ticks": ""
             }
            },
            "type": "scattercarpet"
           }
          ],
          "scattergeo": [
           {
            "marker": {
             "colorbar": {
              "outlinewidth": 0,
              "ticks": ""
             }
            },
            "type": "scattergeo"
           }
          ],
          "scattergl": [
           {
            "marker": {
             "colorbar": {
              "outlinewidth": 0,
              "ticks": ""
             }
            },
            "type": "scattergl"
           }
          ],
          "scattermap": [
           {
            "marker": {
             "colorbar": {
              "outlinewidth": 0,
              "ticks": ""
             }
            },
            "type": "scattermap"
           }
          ],
          "scattermapbox": [
           {
            "marker": {
             "colorbar": {
              "outlinewidth": 0,
              "ticks": ""
             }
            },
            "type": "scattermapbox"
           }
          ],
          "scatterpolar": [
           {
            "marker": {
             "colorbar": {
              "outlinewidth": 0,
              "ticks": ""
             }
            },
            "type": "scatterpolar"
           }
          ],
          "scatterpolargl": [
           {
            "marker": {
             "colorbar": {
              "outlinewidth": 0,
              "ticks": ""
             }
            },
            "type": "scatterpolargl"
           }
          ],
          "scatterternary": [
           {
            "marker": {
             "colorbar": {
              "outlinewidth": 0,
              "ticks": ""
             }
            },
            "type": "scatterternary"
           }
          ],
          "surface": [
           {
            "colorbar": {
             "outlinewidth": 0,
             "ticks": ""
            },
            "colorscale": [
             [
              0,
              "#0d0887"
             ],
             [
              0.1111111111111111,
              "#46039f"
             ],
             [
              0.2222222222222222,
              "#7201a8"
             ],
             [
              0.3333333333333333,
              "#9c179e"
             ],
             [
              0.4444444444444444,
              "#bd3786"
             ],
             [
              0.5555555555555556,
              "#d8576b"
             ],
             [
              0.6666666666666666,
              "#ed7953"
             ],
             [
              0.7777777777777778,
              "#fb9f3a"
             ],
             [
              0.8888888888888888,
              "#fdca26"
             ],
             [
              1,
              "#f0f921"
             ]
            ],
            "type": "surface"
           }
          ],
          "table": [
           {
            "cells": {
             "fill": {
              "color": "#EBF0F8"
             },
             "line": {
              "color": "white"
             }
            },
            "header": {
             "fill": {
              "color": "#C8D4E3"
             },
             "line": {
              "color": "white"
             }
            },
            "type": "table"
           }
          ]
         },
         "layout": {
          "annotationdefaults": {
           "arrowcolor": "#2a3f5f",
           "arrowhead": 0,
           "arrowwidth": 1
          },
          "autotypenumbers": "strict",
          "coloraxis": {
           "colorbar": {
            "outlinewidth": 0,
            "ticks": ""
           }
          },
          "colorscale": {
           "diverging": [
            [
             0,
             "#8e0152"
            ],
            [
             0.1,
             "#c51b7d"
            ],
            [
             0.2,
             "#de77ae"
            ],
            [
             0.3,
             "#f1b6da"
            ],
            [
             0.4,
             "#fde0ef"
            ],
            [
             0.5,
             "#f7f7f7"
            ],
            [
             0.6,
             "#e6f5d0"
            ],
            [
             0.7,
             "#b8e186"
            ],
            [
             0.8,
             "#7fbc41"
            ],
            [
             0.9,
             "#4d9221"
            ],
            [
             1,
             "#276419"
            ]
           ],
           "sequential": [
            [
             0,
             "#0d0887"
            ],
            [
             0.1111111111111111,
             "#46039f"
            ],
            [
             0.2222222222222222,
             "#7201a8"
            ],
            [
             0.3333333333333333,
             "#9c179e"
            ],
            [
             0.4444444444444444,
             "#bd3786"
            ],
            [
             0.5555555555555556,
             "#d8576b"
            ],
            [
             0.6666666666666666,
             "#ed7953"
            ],
            [
             0.7777777777777778,
             "#fb9f3a"
            ],
            [
             0.8888888888888888,
             "#fdca26"
            ],
            [
             1,
             "#f0f921"
            ]
           ],
           "sequentialminus": [
            [
             0,
             "#0d0887"
            ],
            [
             0.1111111111111111,
             "#46039f"
            ],
            [
             0.2222222222222222,
             "#7201a8"
            ],
            [
             0.3333333333333333,
             "#9c179e"
            ],
            [
             0.4444444444444444,
             "#bd3786"
            ],
            [
             0.5555555555555556,
             "#d8576b"
            ],
            [
             0.6666666666666666,
             "#ed7953"
            ],
            [
             0.7777777777777778,
             "#fb9f3a"
            ],
            [
             0.8888888888888888,
             "#fdca26"
            ],
            [
             1,
             "#f0f921"
            ]
           ]
          },
          "colorway": [
           "#636efa",
           "#EF553B",
           "#00cc96",
           "#ab63fa",
           "#FFA15A",
           "#19d3f3",
           "#FF6692",
           "#B6E880",
           "#FF97FF",
           "#FECB52"
          ],
          "font": {
           "color": "#2a3f5f"
          },
          "geo": {
           "bgcolor": "white",
           "lakecolor": "white",
           "landcolor": "#E5ECF6",
           "showlakes": true,
           "showland": true,
           "subunitcolor": "white"
          },
          "hoverlabel": {
           "align": "left"
          },
          "hovermode": "closest",
          "mapbox": {
           "style": "light"
          },
          "paper_bgcolor": "white",
          "plot_bgcolor": "#E5ECF6",
          "polar": {
           "angularaxis": {
            "gridcolor": "white",
            "linecolor": "white",
            "ticks": ""
           },
           "bgcolor": "#E5ECF6",
           "radialaxis": {
            "gridcolor": "white",
            "linecolor": "white",
            "ticks": ""
           }
          },
          "scene": {
           "xaxis": {
            "backgroundcolor": "#E5ECF6",
            "gridcolor": "white",
            "gridwidth": 2,
            "linecolor": "white",
            "showbackground": true,
            "ticks": "",
            "zerolinecolor": "white"
           },
           "yaxis": {
            "backgroundcolor": "#E5ECF6",
            "gridcolor": "white",
            "gridwidth": 2,
            "linecolor": "white",
            "showbackground": true,
            "ticks": "",
            "zerolinecolor": "white"
           },
           "zaxis": {
            "backgroundcolor": "#E5ECF6",
            "gridcolor": "white",
            "gridwidth": 2,
            "linecolor": "white",
            "showbackground": true,
            "ticks": "",
            "zerolinecolor": "white"
           }
          },
          "shapedefaults": {
           "line": {
            "color": "#2a3f5f"
           }
          },
          "ternary": {
           "aaxis": {
            "gridcolor": "white",
            "linecolor": "white",
            "ticks": ""
           },
           "baxis": {
            "gridcolor": "white",
            "linecolor": "white",
            "ticks": ""
           },
           "bgcolor": "#E5ECF6",
           "caxis": {
            "gridcolor": "white",
            "linecolor": "white",
            "ticks": ""
           }
          },
          "title": {
           "x": 0.05
          },
          "xaxis": {
           "automargin": true,
           "gridcolor": "white",
           "linecolor": "white",
           "ticks": "",
           "title": {
            "standoff": 15
           },
           "zerolinecolor": "white",
           "zerolinewidth": 2
          },
          "yaxis": {
           "automargin": true,
           "gridcolor": "white",
           "linecolor": "white",
           "ticks": "",
           "title": {
            "standoff": 15
           },
           "zerolinecolor": "white",
           "zerolinewidth": 2
          }
         }
        },
        "title": {
         "text": "Map Visualization"
        },
        "width": 600,
        "xaxis": {
         "scaleanchor": "y",
         "showgrid": false
        },
        "yaxis": {
         "showgrid": false
        }
       }
      }
     },
     "metadata": {},
     "output_type": "display_data"
    }
   ],
   "source": [
    "visualize_map_shapes(map_obj.grid, obs=map_obj.obstacles, start=map_obj.start, goal=map_obj.goal)"
   ]
  },
  {
   "cell_type": "code",
   "execution_count": null,
   "id": "b1849782",
   "metadata": {},
   "outputs": [],
   "source": [
    "MapIO.save_map(map_obj, \"Maze_map_easy.pkl\")"
   ]
  },
  {
   "cell_type": "code",
   "execution_count": 5,
   "id": "a546e2cf",
   "metadata": {},
   "outputs": [
    {
     "name": "stdout",
     "output_type": "stream",
     "text": [
      "Start: (29, 10)\n",
      "Obstacles: 5\n",
      "(100, 100)\n"
     ]
    }
   ],
   "source": [
    "maze_map = MapIO.load_map(\"Maze_map_easy.pkl\")\n",
    "print(\"Start:\", maze_map.start)\n",
    "print(\"Obstacles:\", len(maze_map.obstacles))\n",
    "print(maze_map.grid.shape)"
   ]
  },
  {
   "cell_type": "code",
   "execution_count": null,
   "id": "96c42cb6",
   "metadata": {},
   "outputs": [],
   "source": [
    "maze_map = MapIO.load_map(\"Maze_map.pkl\")\n",
    "print(\"Start:\", maze_map.start)\n",
    "print(\"Obstacles:\", len(maze_map.obstacles))\n",
    "print(maze_map.grid.shape)"
   ]
  },
  {
   "cell_type": "code",
   "execution_count": 6,
   "id": "7704506e",
   "metadata": {},
   "outputs": [
    {
     "name": "stdout",
     "output_type": "stream",
     "text": [
      "Start: (80, 50)\n",
      "Obstacles: 5\n",
      "(100, 100)\n"
     ]
    }
   ],
   "source": [
    "narrow_map = MapIO.load_map(\"Narrow_map.pkl\")\n",
    "print(\"Start:\", narrow_map.start)\n",
    "print(\"Obstacles:\", len(narrow_map.obstacles))\n",
    "print(narrow_map.grid.shape)"
   ]
  },
  {
   "cell_type": "code",
   "execution_count": 7,
   "id": "9d427ae9",
   "metadata": {},
   "outputs": [
    {
     "name": "stdout",
     "output_type": "stream",
     "text": [
      "Start: (1, 1)\n",
      "Obstacles: 35\n",
      "(100, 100)\n"
     ]
    }
   ],
   "source": [
    "# 불러오기\n",
    "multi_obs_map = MapIO.load_map(\"Multi_obs_map.pkl\")\n",
    "print(\"Start:\", multi_obs_map.start)\n",
    "print(\"Obstacles:\", len(multi_obs_map.obstacles))\n",
    "print(multi_obs_map.grid.shape)"
   ]
  },
  {
   "cell_type": "code",
   "execution_count": 8,
   "id": "ad649024",
   "metadata": {},
   "outputs": [
    {
     "data": {
      "application/vnd.plotly.v1+json": {
       "config": {
        "plotlyServerURL": "https://plot.ly"
       },
       "data": [
        {
         "marker": {
          "color": "red",
          "size": 10
         },
         "mode": "markers",
         "name": "Start",
         "type": "scatter",
         "x": [
          1
         ],
         "y": [
          1
         ]
        },
        {
         "marker": {
          "color": "orange",
          "size": 10
         },
         "mode": "markers",
         "name": "Goal",
         "type": "scatter",
         "x": [
          99
         ],
         "y": [
          99
         ]
        }
       ],
       "layout": {
        "height": 600,
        "shapes": [
         {
          "fillcolor": "purple",
          "line": {
           "width": 0
          },
          "opacity": 0.5,
          "type": "rect",
          "x0": 48,
          "x1": 57,
          "y0": 70,
          "y1": 79
         },
         {
          "fillcolor": "purple",
          "line": {
           "width": 0
          },
          "opacity": 0.5,
          "type": "rect",
          "x0": 47,
          "x1": 52,
          "y0": 50,
          "y1": 64
         },
         {
          "fillcolor": "purple",
          "line": {
           "width": 0
          },
          "opacity": 0.5,
          "type": "rect",
          "x0": 79,
          "x1": 84,
          "y0": 71,
          "y1": 82
         },
         {
          "fillcolor": "purple",
          "line": {
           "width": 0
          },
          "opacity": 0.5,
          "type": "rect",
          "x0": 35,
          "x1": 42,
          "y0": 29,
          "y1": 41
         },
         {
          "fillcolor": "purple",
          "line": {
           "width": 0
          },
          "opacity": 0.5,
          "type": "rect",
          "x0": 18,
          "x1": 28,
          "y0": 67,
          "y1": 80
         },
         {
          "fillcolor": "purple",
          "line": {
           "width": 0
          },
          "opacity": 0.5,
          "type": "rect",
          "x0": 66,
          "x1": 75,
          "y0": 75,
          "y1": 82
         },
         {
          "fillcolor": "purple",
          "line": {
           "width": 0
          },
          "opacity": 0.5,
          "type": "rect",
          "x0": 68,
          "x1": 81,
          "y0": 83,
          "y1": 89
         },
         {
          "fillcolor": "purple",
          "line": {
           "width": 0
          },
          "opacity": 0.5,
          "type": "rect",
          "x0": 55,
          "x1": 67,
          "y0": 54,
          "y1": 60
         },
         {
          "fillcolor": "purple",
          "line": {
           "width": 0
          },
          "opacity": 0.5,
          "type": "rect",
          "x0": 49,
          "x1": 64,
          "y0": 22,
          "y1": 30
         },
         {
          "fillcolor": "purple",
          "line": {
           "width": 0
          },
          "opacity": 0.5,
          "type": "rect",
          "x0": 32,
          "x1": 47,
          "y0": 76,
          "y1": 86
         },
         {
          "fillcolor": "purple",
          "line": {
           "width": 0
          },
          "opacity": 0.5,
          "type": "rect",
          "x0": 41,
          "x1": 56,
          "y0": 0,
          "y1": 11
         },
         {
          "fillcolor": "purple",
          "line": {
           "width": 0
          },
          "opacity": 0.5,
          "type": "rect",
          "x0": 51,
          "x1": 63,
          "y0": 42,
          "y1": 47
         },
         {
          "fillcolor": "purple",
          "line": {
           "width": 0
          },
          "opacity": 0.5,
          "type": "rect",
          "x0": 14,
          "x1": 23,
          "y0": 46,
          "y1": 60
         },
         {
          "fillcolor": "purple",
          "line": {
           "width": 0
          },
          "opacity": 0.5,
          "type": "rect",
          "x0": 84,
          "x1": 91,
          "y0": 12,
          "y1": 24
         },
         {
          "fillcolor": "purple",
          "line": {
           "width": 0
          },
          "opacity": 0.5,
          "type": "rect",
          "x0": 20,
          "x1": 29,
          "y0": 17,
          "y1": 31
         },
         {
          "fillcolor": "purple",
          "line": {
           "width": 0
          },
          "opacity": 0.5,
          "type": "rect",
          "x0": 3,
          "x1": 12,
          "y0": 18,
          "y1": 32
         },
         {
          "fillcolor": "purple",
          "line": {
           "width": 0
          },
          "opacity": 0.5,
          "type": "rect",
          "x0": 9,
          "x1": 18,
          "y0": 66,
          "y1": 75
         },
         {
          "fillcolor": "purple",
          "line": {
           "width": 0
          },
          "opacity": 0.5,
          "type": "rect",
          "x0": 73,
          "x1": 80,
          "y0": 7,
          "y1": 14
         },
         {
          "fillcolor": "purple",
          "line": {
           "width": 0
          },
          "opacity": 0.5,
          "type": "rect",
          "x0": 32,
          "x1": 47,
          "y0": 11,
          "y1": 25
         },
         {
          "fillcolor": "purple",
          "line": {
           "width": 0
          },
          "opacity": 0.5,
          "type": "rect",
          "x0": 83,
          "x1": 94,
          "y0": 55,
          "y1": 68
         },
         {
          "fillcolor": "purple",
          "line": {
           "width": 0
          },
          "opacity": 0.5,
          "type": "rect",
          "x0": 30,
          "x1": 42,
          "y0": 51,
          "y1": 64
         },
         {
          "fillcolor": "purple",
          "line": {
           "width": 0
          },
          "opacity": 0.5,
          "type": "rect",
          "x0": 50,
          "x1": 62,
          "y0": 34,
          "y1": 42
         },
         {
          "fillcolor": "purple",
          "line": {
           "width": 0
          },
          "opacity": 0.5,
          "type": "rect",
          "x0": 34,
          "x1": 41,
          "y0": 69,
          "y1": 76
         },
         {
          "fillcolor": "purple",
          "line": {
           "width": 0
          },
          "opacity": 0.5,
          "type": "rect",
          "x0": 4,
          "x1": 16,
          "y0": 87,
          "y1": 96
         },
         {
          "fillcolor": "purple",
          "line": {
           "width": 0
          },
          "opacity": 0.5,
          "type": "rect",
          "x0": 78,
          "x1": 83,
          "y0": 23,
          "y1": 30
         },
         {
          "fillcolor": "purple",
          "line": {
           "width": 0
          },
          "opacity": 0.5,
          "type": "rect",
          "x0": 72,
          "x1": 79,
          "y0": 51,
          "y1": 60
         },
         {
          "fillcolor": "purple",
          "line": {
           "width": 0
          },
          "opacity": 0.5,
          "type": "rect",
          "x0": 48,
          "x1": 58,
          "y0": 16,
          "y1": 22
         },
         {
          "fillcolor": "purple",
          "line": {
           "width": 0
          },
          "opacity": 0.5,
          "type": "rect",
          "x0": 75,
          "x1": 88,
          "y0": 94,
          "y1": 99
         },
         {
          "fillcolor": "purple",
          "line": {
           "width": 0
          },
          "opacity": 0.5,
          "type": "rect",
          "x0": 62,
          "x1": 68,
          "y0": 82,
          "y1": 96
         },
         {
          "fillcolor": "purple",
          "line": {
           "width": 0
          },
          "opacity": 0.5,
          "type": "rect",
          "x0": 57,
          "x1": 62,
          "y0": 67,
          "y1": 78
         },
         {
          "fillcolor": "purple",
          "line": {
           "width": 0
          },
          "opacity": 0.5,
          "type": "rect",
          "x0": 2,
          "x1": 11,
          "y0": 33,
          "y1": 43
         },
         {
          "fillcolor": "purple",
          "line": {
           "width": 0
          },
          "opacity": 0.5,
          "type": "rect",
          "x0": 67,
          "x1": 76,
          "y0": 0,
          "y1": 7
         },
         {
          "fillcolor": "purple",
          "line": {
           "width": 0
          },
          "opacity": 0.5,
          "type": "rect",
          "x0": 28,
          "x1": 39,
          "y0": 42,
          "y1": 50
         },
         {
          "fillcolor": "purple",
          "line": {
           "width": 0
          },
          "opacity": 0.5,
          "type": "rect",
          "x0": 66,
          "x1": 71,
          "y0": 60,
          "y1": 72
         },
         {
          "fillcolor": "purple",
          "line": {
           "width": 0
          },
          "opacity": 0.5,
          "type": "rect",
          "x0": 7,
          "x1": 13,
          "y0": 52,
          "y1": 66
         },
         {
          "fillcolor": "rgba(0,0,0,0)",
          "layer": "above",
          "line": {
           "color": "white",
           "width": 3
          },
          "type": "rect",
          "x0": 0,
          "x1": 100,
          "y0": 0,
          "y1": 100
         }
        ],
        "template": {
         "data": {
          "bar": [
           {
            "error_x": {
             "color": "#2a3f5f"
            },
            "error_y": {
             "color": "#2a3f5f"
            },
            "marker": {
             "line": {
              "color": "#E5ECF6",
              "width": 0.5
             },
             "pattern": {
              "fillmode": "overlay",
              "size": 10,
              "solidity": 0.2
             }
            },
            "type": "bar"
           }
          ],
          "barpolar": [
           {
            "marker": {
             "line": {
              "color": "#E5ECF6",
              "width": 0.5
             },
             "pattern": {
              "fillmode": "overlay",
              "size": 10,
              "solidity": 0.2
             }
            },
            "type": "barpolar"
           }
          ],
          "carpet": [
           {
            "aaxis": {
             "endlinecolor": "#2a3f5f",
             "gridcolor": "white",
             "linecolor": "white",
             "minorgridcolor": "white",
             "startlinecolor": "#2a3f5f"
            },
            "baxis": {
             "endlinecolor": "#2a3f5f",
             "gridcolor": "white",
             "linecolor": "white",
             "minorgridcolor": "white",
             "startlinecolor": "#2a3f5f"
            },
            "type": "carpet"
           }
          ],
          "choropleth": [
           {
            "colorbar": {
             "outlinewidth": 0,
             "ticks": ""
            },
            "type": "choropleth"
           }
          ],
          "contour": [
           {
            "colorbar": {
             "outlinewidth": 0,
             "ticks": ""
            },
            "colorscale": [
             [
              0,
              "#0d0887"
             ],
             [
              0.1111111111111111,
              "#46039f"
             ],
             [
              0.2222222222222222,
              "#7201a8"
             ],
             [
              0.3333333333333333,
              "#9c179e"
             ],
             [
              0.4444444444444444,
              "#bd3786"
             ],
             [
              0.5555555555555556,
              "#d8576b"
             ],
             [
              0.6666666666666666,
              "#ed7953"
             ],
             [
              0.7777777777777778,
              "#fb9f3a"
             ],
             [
              0.8888888888888888,
              "#fdca26"
             ],
             [
              1,
              "#f0f921"
             ]
            ],
            "type": "contour"
           }
          ],
          "contourcarpet": [
           {
            "colorbar": {
             "outlinewidth": 0,
             "ticks": ""
            },
            "type": "contourcarpet"
           }
          ],
          "heatmap": [
           {
            "colorbar": {
             "outlinewidth": 0,
             "ticks": ""
            },
            "colorscale": [
             [
              0,
              "#0d0887"
             ],
             [
              0.1111111111111111,
              "#46039f"
             ],
             [
              0.2222222222222222,
              "#7201a8"
             ],
             [
              0.3333333333333333,
              "#9c179e"
             ],
             [
              0.4444444444444444,
              "#bd3786"
             ],
             [
              0.5555555555555556,
              "#d8576b"
             ],
             [
              0.6666666666666666,
              "#ed7953"
             ],
             [
              0.7777777777777778,
              "#fb9f3a"
             ],
             [
              0.8888888888888888,
              "#fdca26"
             ],
             [
              1,
              "#f0f921"
             ]
            ],
            "type": "heatmap"
           }
          ],
          "histogram": [
           {
            "marker": {
             "pattern": {
              "fillmode": "overlay",
              "size": 10,
              "solidity": 0.2
             }
            },
            "type": "histogram"
           }
          ],
          "histogram2d": [
           {
            "colorbar": {
             "outlinewidth": 0,
             "ticks": ""
            },
            "colorscale": [
             [
              0,
              "#0d0887"
             ],
             [
              0.1111111111111111,
              "#46039f"
             ],
             [
              0.2222222222222222,
              "#7201a8"
             ],
             [
              0.3333333333333333,
              "#9c179e"
             ],
             [
              0.4444444444444444,
              "#bd3786"
             ],
             [
              0.5555555555555556,
              "#d8576b"
             ],
             [
              0.6666666666666666,
              "#ed7953"
             ],
             [
              0.7777777777777778,
              "#fb9f3a"
             ],
             [
              0.8888888888888888,
              "#fdca26"
             ],
             [
              1,
              "#f0f921"
             ]
            ],
            "type": "histogram2d"
           }
          ],
          "histogram2dcontour": [
           {
            "colorbar": {
             "outlinewidth": 0,
             "ticks": ""
            },
            "colorscale": [
             [
              0,
              "#0d0887"
             ],
             [
              0.1111111111111111,
              "#46039f"
             ],
             [
              0.2222222222222222,
              "#7201a8"
             ],
             [
              0.3333333333333333,
              "#9c179e"
             ],
             [
              0.4444444444444444,
              "#bd3786"
             ],
             [
              0.5555555555555556,
              "#d8576b"
             ],
             [
              0.6666666666666666,
              "#ed7953"
             ],
             [
              0.7777777777777778,
              "#fb9f3a"
             ],
             [
              0.8888888888888888,
              "#fdca26"
             ],
             [
              1,
              "#f0f921"
             ]
            ],
            "type": "histogram2dcontour"
           }
          ],
          "mesh3d": [
           {
            "colorbar": {
             "outlinewidth": 0,
             "ticks": ""
            },
            "type": "mesh3d"
           }
          ],
          "parcoords": [
           {
            "line": {
             "colorbar": {
              "outlinewidth": 0,
              "ticks": ""
             }
            },
            "type": "parcoords"
           }
          ],
          "pie": [
           {
            "automargin": true,
            "type": "pie"
           }
          ],
          "scatter": [
           {
            "fillpattern": {
             "fillmode": "overlay",
             "size": 10,
             "solidity": 0.2
            },
            "type": "scatter"
           }
          ],
          "scatter3d": [
           {
            "line": {
             "colorbar": {
              "outlinewidth": 0,
              "ticks": ""
             }
            },
            "marker": {
             "colorbar": {
              "outlinewidth": 0,
              "ticks": ""
             }
            },
            "type": "scatter3d"
           }
          ],
          "scattercarpet": [
           {
            "marker": {
             "colorbar": {
              "outlinewidth": 0,
              "ticks": ""
             }
            },
            "type": "scattercarpet"
           }
          ],
          "scattergeo": [
           {
            "marker": {
             "colorbar": {
              "outlinewidth": 0,
              "ticks": ""
             }
            },
            "type": "scattergeo"
           }
          ],
          "scattergl": [
           {
            "marker": {
             "colorbar": {
              "outlinewidth": 0,
              "ticks": ""
             }
            },
            "type": "scattergl"
           }
          ],
          "scattermap": [
           {
            "marker": {
             "colorbar": {
              "outlinewidth": 0,
              "ticks": ""
             }
            },
            "type": "scattermap"
           }
          ],
          "scattermapbox": [
           {
            "marker": {
             "colorbar": {
              "outlinewidth": 0,
              "ticks": ""
             }
            },
            "type": "scattermapbox"
           }
          ],
          "scatterpolar": [
           {
            "marker": {
             "colorbar": {
              "outlinewidth": 0,
              "ticks": ""
             }
            },
            "type": "scatterpolar"
           }
          ],
          "scatterpolargl": [
           {
            "marker": {
             "colorbar": {
              "outlinewidth": 0,
              "ticks": ""
             }
            },
            "type": "scatterpolargl"
           }
          ],
          "scatterternary": [
           {
            "marker": {
             "colorbar": {
              "outlinewidth": 0,
              "ticks": ""
             }
            },
            "type": "scatterternary"
           }
          ],
          "surface": [
           {
            "colorbar": {
             "outlinewidth": 0,
             "ticks": ""
            },
            "colorscale": [
             [
              0,
              "#0d0887"
             ],
             [
              0.1111111111111111,
              "#46039f"
             ],
             [
              0.2222222222222222,
              "#7201a8"
             ],
             [
              0.3333333333333333,
              "#9c179e"
             ],
             [
              0.4444444444444444,
              "#bd3786"
             ],
             [
              0.5555555555555556,
              "#d8576b"
             ],
             [
              0.6666666666666666,
              "#ed7953"
             ],
             [
              0.7777777777777778,
              "#fb9f3a"
             ],
             [
              0.8888888888888888,
              "#fdca26"
             ],
             [
              1,
              "#f0f921"
             ]
            ],
            "type": "surface"
           }
          ],
          "table": [
           {
            "cells": {
             "fill": {
              "color": "#EBF0F8"
             },
             "line": {
              "color": "white"
             }
            },
            "header": {
             "fill": {
              "color": "#C8D4E3"
             },
             "line": {
              "color": "white"
             }
            },
            "type": "table"
           }
          ]
         },
         "layout": {
          "annotationdefaults": {
           "arrowcolor": "#2a3f5f",
           "arrowhead": 0,
           "arrowwidth": 1
          },
          "autotypenumbers": "strict",
          "coloraxis": {
           "colorbar": {
            "outlinewidth": 0,
            "ticks": ""
           }
          },
          "colorscale": {
           "diverging": [
            [
             0,
             "#8e0152"
            ],
            [
             0.1,
             "#c51b7d"
            ],
            [
             0.2,
             "#de77ae"
            ],
            [
             0.3,
             "#f1b6da"
            ],
            [
             0.4,
             "#fde0ef"
            ],
            [
             0.5,
             "#f7f7f7"
            ],
            [
             0.6,
             "#e6f5d0"
            ],
            [
             0.7,
             "#b8e186"
            ],
            [
             0.8,
             "#7fbc41"
            ],
            [
             0.9,
             "#4d9221"
            ],
            [
             1,
             "#276419"
            ]
           ],
           "sequential": [
            [
             0,
             "#0d0887"
            ],
            [
             0.1111111111111111,
             "#46039f"
            ],
            [
             0.2222222222222222,
             "#7201a8"
            ],
            [
             0.3333333333333333,
             "#9c179e"
            ],
            [
             0.4444444444444444,
             "#bd3786"
            ],
            [
             0.5555555555555556,
             "#d8576b"
            ],
            [
             0.6666666666666666,
             "#ed7953"
            ],
            [
             0.7777777777777778,
             "#fb9f3a"
            ],
            [
             0.8888888888888888,
             "#fdca26"
            ],
            [
             1,
             "#f0f921"
            ]
           ],
           "sequentialminus": [
            [
             0,
             "#0d0887"
            ],
            [
             0.1111111111111111,
             "#46039f"
            ],
            [
             0.2222222222222222,
             "#7201a8"
            ],
            [
             0.3333333333333333,
             "#9c179e"
            ],
            [
             0.4444444444444444,
             "#bd3786"
            ],
            [
             0.5555555555555556,
             "#d8576b"
            ],
            [
             0.6666666666666666,
             "#ed7953"
            ],
            [
             0.7777777777777778,
             "#fb9f3a"
            ],
            [
             0.8888888888888888,
             "#fdca26"
            ],
            [
             1,
             "#f0f921"
            ]
           ]
          },
          "colorway": [
           "#636efa",
           "#EF553B",
           "#00cc96",
           "#ab63fa",
           "#FFA15A",
           "#19d3f3",
           "#FF6692",
           "#B6E880",
           "#FF97FF",
           "#FECB52"
          ],
          "font": {
           "color": "#2a3f5f"
          },
          "geo": {
           "bgcolor": "white",
           "lakecolor": "white",
           "landcolor": "#E5ECF6",
           "showlakes": true,
           "showland": true,
           "subunitcolor": "white"
          },
          "hoverlabel": {
           "align": "left"
          },
          "hovermode": "closest",
          "mapbox": {
           "style": "light"
          },
          "paper_bgcolor": "white",
          "plot_bgcolor": "#E5ECF6",
          "polar": {
           "angularaxis": {
            "gridcolor": "white",
            "linecolor": "white",
            "ticks": ""
           },
           "bgcolor": "#E5ECF6",
           "radialaxis": {
            "gridcolor": "white",
            "linecolor": "white",
            "ticks": ""
           }
          },
          "scene": {
           "xaxis": {
            "backgroundcolor": "#E5ECF6",
            "gridcolor": "white",
            "gridwidth": 2,
            "linecolor": "white",
            "showbackground": true,
            "ticks": "",
            "zerolinecolor": "white"
           },
           "yaxis": {
            "backgroundcolor": "#E5ECF6",
            "gridcolor": "white",
            "gridwidth": 2,
            "linecolor": "white",
            "showbackground": true,
            "ticks": "",
            "zerolinecolor": "white"
           },
           "zaxis": {
            "backgroundcolor": "#E5ECF6",
            "gridcolor": "white",
            "gridwidth": 2,
            "linecolor": "white",
            "showbackground": true,
            "ticks": "",
            "zerolinecolor": "white"
           }
          },
          "shapedefaults": {
           "line": {
            "color": "#2a3f5f"
           }
          },
          "ternary": {
           "aaxis": {
            "gridcolor": "white",
            "linecolor": "white",
            "ticks": ""
           },
           "baxis": {
            "gridcolor": "white",
            "linecolor": "white",
            "ticks": ""
           },
           "bgcolor": "#E5ECF6",
           "caxis": {
            "gridcolor": "white",
            "linecolor": "white",
            "ticks": ""
           }
          },
          "title": {
           "x": 0.05
          },
          "xaxis": {
           "automargin": true,
           "gridcolor": "white",
           "linecolor": "white",
           "ticks": "",
           "title": {
            "standoff": 15
           },
           "zerolinecolor": "white",
           "zerolinewidth": 2
          },
          "yaxis": {
           "automargin": true,
           "gridcolor": "white",
           "linecolor": "white",
           "ticks": "",
           "title": {
            "standoff": 15
           },
           "zerolinecolor": "white",
           "zerolinewidth": 2
          }
         }
        },
        "title": {
         "text": "Map Visualization"
        },
        "width": 600,
        "xaxis": {
         "scaleanchor": "y",
         "showgrid": false
        },
        "yaxis": {
         "showgrid": false
        }
       }
      }
     },
     "metadata": {},
     "output_type": "display_data"
    }
   ],
   "source": [
    "visualize_map_shapes(multi_obs_map.grid, obs=multi_obs_map.obstacles, start=multi_obs_map.start, goal=multi_obs_map.goal)"
   ]
  },
  {
   "cell_type": "code",
   "execution_count": 10,
   "id": "56496d74",
   "metadata": {},
   "outputs": [],
   "source": [
    "class MultiMapBenchmarker:\n",
    "    def __init__(\n",
    "        self,\n",
    "        maps: List[np.ndarray],\n",
    "        name: str = \"Algorithm\",\n",
    "        iter = 10,\n",
    "        seed = 42,\n",
    "    ):\n",
    "        self.set_seed(seed)\n",
    "\n",
    "        self.maps = maps\n",
    "        self.name = name\n",
    "        self.results_df: pd.DataFrame = pd.DataFrame()\n",
    "        self.iter = iter\n",
    "\n",
    "    def run(self, algorithm) -> pd.DataFrame:\n",
    "        results = []\n",
    "        main_start_time = time.time()\n",
    "        for i, map_ in enumerate(self.maps):\n",
    "            for j in range(self.iter):\n",
    "                start_time = time.time()\n",
    "                try:\n",
    "                    output = algorithm(map_)\n",
    "                except Exception as e:\n",
    "                    output = {\"path\": [], \"nodes\": [], \"n_nodes\": 0}\n",
    "                end_time = time.time()\n",
    "\n",
    "                print(f\"Map {i+1}, Iteration {j+1}: Time taken: {end_time - start_time:.4f} seconds\")\n",
    "\n",
    "                path = output.path\n",
    "                nodes = output.nodes\n",
    "                num_nodes = len(nodes)\n",
    "                success = output.success\n",
    "                path_length = self._compute_path_length(path)\n",
    "\n",
    "                results.append({\n",
    "                    \"map_id\": i,\n",
    "                    \"iter\" : j,\n",
    "                    \"algorithm\": self.name,\n",
    "                    \"success\": success,\n",
    "                    \"time_taken\": end_time - start_time,\n",
    "                    \"num_nodes\": num_nodes,\n",
    "                    \"path_length\": path_length\n",
    "                })\n",
    "\n",
    "        print(f\"Total time taken for all maps: {time.time() - main_start_time:.4f} seconds\")\n",
    "\n",
    "        self.results_df = pd.DataFrame(results)\n",
    "        return self.results_df, self.get_avg()\n",
    "\n",
    "    def _compute_path_length(self, path: List[Tuple[float, ...]]) -> float:\n",
    "        if not path or len(path) < 2:\n",
    "            return 0.0\n",
    "        return sum(np.linalg.norm(np.array(path[i]) - np.array(path[i+1])) for i in range(len(path) - 1))\n",
    "\n",
    "    def save_results(self, filename: str):\n",
    "        if self.results_df.empty:\n",
    "            raise RuntimeError(\"No results to save. Run benchmark first.\")\n",
    "        self.results_df.to_csv(filename, index=False)\n",
    "\n",
    "    def plot_metrics(self, metric: str = \"time_taken\"):\n",
    "        if self.results_df.empty:\n",
    "            raise RuntimeError(\"No results to plot. Run benchmark first.\")\n",
    "        if metric not in self.results_df.columns:\n",
    "            raise ValueError(f\"Invalid metric: {metric}\")\n",
    "\n",
    "        fig = px.bar(\n",
    "            self.results_df,\n",
    "            x=\"map_id\",\n",
    "            y=metric,\n",
    "            color=\"success\",\n",
    "            title=f\"{self.name} - {metric} per map\",\n",
    "            labels={\"map_id\": \"Map ID\", metric: metric.replace('_', ' ').title()}\n",
    "        )\n",
    "        fig.show()\n",
    "\n",
    "    def get_avg(self):\n",
    "        if self.results_df.empty:\n",
    "            raise RuntimeError(\"No results to save. Run benchmark first.\")\n",
    "\n",
    "        classic_summary = self.results_df.groupby('map_id').agg({\n",
    "            'success': 'mean',           # 성공률\n",
    "            'time_taken': 'mean',        # 평균 소요 시간\n",
    "            'node_length': 'mean',      # 평균 노드 수\n",
    "            'path_length': lambda x: x[x > 0].mean()  # path=0 제외한 평균 경로 길이\n",
    "        }).rename(columns={\n",
    "            'success': 'success_rate',\n",
    "            'time_taken': 'time_avg',\n",
    "            'node_length': 'node_length_avg',\n",
    "            'path_length': 'path_length_avg'\n",
    "        }).reset_index()\n",
    "        return classic_summary\n",
    "    \n",
    "    @staticmethod\n",
    "    def get_improvement(reference_result:pd.DataFrame, results:pd.DataFrame) -> pd.DataFrame:\n",
    "        improvement_df = pd.DataFrame()\n",
    "        \n",
    "        improvement_df['success_improvement'] = (results['success_rate'] - reference_result['success_rate']) * 100 # percent point\n",
    "        improvement_df['time_improvement'] = (results['time_avg'] - reference_result['time_avg']) / reference_result['success_rate'] * 100\n",
    "        improvement_df['length_improvement'] = (results['path_length_avg'] - reference_result['path_length_avg']) / reference_result['success_rate'] * 100\n",
    "\n",
    "        improvement_df['objective_score'] = (\n",
    "            0.5 * improvement_df['success_improvement'] +\n",
    "            0.3 * improvement_df['time_improvement'] +\n",
    "            0.2 * improvement_df['length_improvement']\n",
    "            )\n",
    "\n",
    "        return improvement_df\n",
    "    \n",
    "    def set_seed(self, seed: int = 42):\n",
    "        random.seed(seed)                    # Python random\n",
    "        np.random.seed(seed)                 # NumPy"
   ]
  },
  {
   "cell_type": "markdown",
   "id": "88f151cd",
   "metadata": {},
   "source": [
    "## Generate templete"
   ]
  },
  {
   "cell_type": "code",
   "execution_count": null,
   "id": "2cf16c85",
   "metadata": {},
   "outputs": [],
   "source": [
    "# --- PlannerResult structure ---\n",
    "class PlannerResult(NamedTuple):\n",
    "    success: bool                       # Path navigation success or not\n",
    "    path: List[Tuple[float, ...]]       # Final path from start to goal\n",
    "    nodes: List[Node]                   # All explored nodes\n",
    "    edges: List[Tuple[Node, Node]]      # Parent-child connections\n",
    "\n",
    "\n",
    "# --- Node class ---\n",
    "class Node:\n",
    "    def __init__(self, position, parent=None, cost=0.0):\n",
    "        self.position = position        # Tuple[float, ...] → 2D: (x,y), 3D: (x,y,z)\n",
    "        self.parent = parent            # Node or None\n",
    "        self.cost = cost                # Path cost\n",
    "        self.children = []\n",
    "        self.valid = True               # For collision checking etc.\n",
    "\n",
    "    #### Create additional methods if needed ####\n",
    "\n",
    "# --- Main Planner ---\n",
    "class Planner:\n",
    "    def __init__(self, max_iter: int = 5000):\n",
    "        self.max_iter = max_iter\n",
    "\n",
    "    def plan(self, map: Map) -> PlannerResult:\n",
    "        bounds = map.size                  # Tuple[int, ...]: (W,H) or (W,H,D)\n",
    "        start_position = map.start         # Tuple[float, ...] (W,H) or (W,H,D)\n",
    "        goal_position = map.goal           # Tuple[float, ...] (W,H) or (W,H,D)\n",
    "        obstacles = map.obstacles          # Rectangular blocks: 2D=(x,y,w,h), 3D=(x,y,z,w,h,d)\n",
    "\n",
    "        is_3d = len(bounds) == 3\n",
    "\n",
    "        # Core data\n",
    "        success_state = False # Path navigation success or not\n",
    "        extracted_path: List[Tuple[float, ...]] = [] # Final path from start to goal\n",
    "        nodes: List[Node] = [] # All explored nodes\n",
    "        edges: List[Tuple[Node, Node]] = [] # Parent-child connections\n",
    "\n",
    "        #### Place holder: path planning logic ####\n",
    "\n",
    "        return PlannerResult(\n",
    "            success=success_state,\n",
    "            path=extracted_path,\n",
    "            nodes=nodes,\n",
    "            edges=edges\n",
    "        )\n",
    "    \n",
    "    def _is_in_obstacle(self, pos, obstacles, is_3d):\n",
    "        for obs in obstacles:\n",
    "            if is_3d:\n",
    "                x, y, z, w, h, d = obs\n",
    "                px, py, pz = pos\n",
    "                if x <= px <= x + w and y <= py <= y + h and z <= pz <= z + d:\n",
    "                    return True\n",
    "            else:\n",
    "                x, y, w, h = obs\n",
    "                px, py = pos\n",
    "                if x <= px <= x + w and y <= py <= y + h:\n",
    "                    return True\n",
    "        return False\n",
    "\n",
    "    def _is_edge_in_obstacle(self, from_pos, to_pos, obstacles, is_3d, resolution=1.0):\n",
    "        distance = math.dist(from_pos, to_pos)\n",
    "        steps = max(1, int(distance / resolution))\n",
    "        for i in range(steps + 1):\n",
    "            interp = tuple(from_pos[d] + (to_pos[d] - from_pos[d]) * (i / steps) for d in range(len(from_pos)))\n",
    "            if self._is_in_obstacle(interp, obstacles, is_3d):\n",
    "                return True\n",
    "        return False"
   ]
  },
  {
   "cell_type": "code",
   "execution_count": 12,
   "id": "6834b1fa",
   "metadata": {},
   "outputs": [],
   "source": [
    "# Classic RRT\n",
    "import random\n",
    "import math\n",
    "from typing import List, Tuple, Union, NamedTuple\n",
    "\n",
    "# --- Node class ---\n",
    "class Node:\n",
    "    def __init__(self, position, parent=None, cost=0.0):\n",
    "        self.position = position        # Tuple[float, ...] → 2D: (x,y), 3D: (x,y,z)\n",
    "        self.parent = parent            # Node or None\n",
    "        self.cost = cost                # Path cost\n",
    "        self.children = []\n",
    "        self.valid = True               # For collision checking etc.\n",
    "\n",
    "    def distance(self, other: 'Node') -> float:\n",
    "        return math.dist(self.position, other.position)\n",
    "\n",
    "\n",
    "# --- Planner class implementing basic RRT ---\n",
    "class Planner:\n",
    "    def __init__(self, max_iter: int = 5000, step_size: float = 1.0, goal_sample_rate: float = 0.05):\n",
    "        self.max_iter = max_iter\n",
    "        self.step_size = step_size\n",
    "        self.goal_sample_rate = goal_sample_rate\n",
    "\n",
    "    def plan(self, map: 'Map') -> 'PlannerResult':\n",
    "        bounds = map.size\n",
    "        start_position = map.start\n",
    "        goal_position = map.goal\n",
    "        obstacles = map.obstacles\n",
    "\n",
    "        is_3d = len(bounds) == 3\n",
    "        dim = 3 if is_3d else 2\n",
    "\n",
    "        root = Node(start_position)\n",
    "        nodes: List[Node] = [root]\n",
    "\n",
    "        for _ in range(self.max_iter):\n",
    "            # 1. Sample random point\n",
    "            if random.random() < self.goal_sample_rate:\n",
    "                sample = goal_position\n",
    "            else:\n",
    "                sample = tuple(random.uniform(0, bounds[i]) for i in range(dim))\n",
    "\n",
    "            # 2. Find nearest node\n",
    "            nearest = min(nodes, key=lambda n: math.dist(n.position, sample))\n",
    "\n",
    "            # 3. Steer\n",
    "            new_position = self._steer(nearest.position, sample, self.step_size)\n",
    "            new_node = Node(new_position, parent=nearest, cost=nearest.cost + math.dist(nearest.position, new_position))\n",
    "\n",
    "            # 4. Collision check\n",
    "            if not self._is_in_obstacle(new_position, obstacles, is_3d):\n",
    "                nearest.children.append(new_node)\n",
    "                nodes.append(new_node)\n",
    "\n",
    "                # 5. Check goal reached\n",
    "                if math.dist(new_position, goal_position) <= self.step_size:\n",
    "                    goal_node = Node(goal_position, parent=new_node, cost=new_node.cost + math.dist(new_position, goal_position))\n",
    "                    new_node.children.append(goal_node)\n",
    "                    nodes.append(goal_node)\n",
    "\n",
    "                    path = self._extract_path(goal_node)\n",
    "                    edges = [(node.parent, node) for node in nodes if node.parent]\n",
    "                    return PlannerResult(True, path, nodes, edges)\n",
    "\n",
    "        # No valid path\n",
    "        edges = [(node.parent, node) for node in nodes if node.parent]\n",
    "        return PlannerResult(False, [], nodes, edges)\n",
    "\n",
    "    def _steer(self, from_pos: Tuple[float, ...], to_pos: Tuple[float, ...], step_size: float) -> Tuple[float, ...]:\n",
    "        vec = [t - f for f, t in zip(from_pos, to_pos)]\n",
    "        dist = math.dist(from_pos, to_pos)\n",
    "        if dist <= step_size:\n",
    "            return to_pos\n",
    "        scale = step_size / dist\n",
    "        return tuple(f + scale * d for f, d in zip(from_pos, vec))\n",
    "\n",
    "    def _is_in_obstacle(self, pos: Tuple[float, ...], obstacles: List[Tuple], is_3d: bool) -> bool:\n",
    "        for obs in obstacles:\n",
    "            if is_3d:\n",
    "                x, y, z, w, h, d = obs\n",
    "                px, py, pz = pos\n",
    "                if x <= px <= x + w and y <= py <= y + h and z <= pz <= z + d:\n",
    "                    return True\n",
    "            else:\n",
    "                x, y, w, h = obs\n",
    "                px, py = pos\n",
    "                if x <= px <= x + w and y <= py <= y + h:\n",
    "                    return True\n",
    "        return False\n",
    "\n",
    "    def _extract_path(self, node: Node) -> List[Tuple[float, ...]]:\n",
    "        path = []\n",
    "        while node:\n",
    "            path.append(node.position)\n",
    "            node = node.parent\n",
    "        return path[::-1]"
   ]
  },
  {
   "cell_type": "code",
   "execution_count": 153,
   "id": "c8a70683",
   "metadata": {},
   "outputs": [],
   "source": [
    "# RRT_star\n",
    "# --- Node class ---\n",
    "class Node:\n",
    "    def __init__(self, position, parent=None, cost=0.0):\n",
    "        self.position = position        # Tuple[float, ...]\n",
    "        self.parent = parent            # Node or None\n",
    "        self.cost = cost                # Path cost from start\n",
    "        self.children = []             # List[Node]\n",
    "        self.valid = True              # For collision checking etc.\n",
    "\n",
    "    def distance(self, other: 'Node') -> float:\n",
    "        return math.dist(self.position, other.position)\n",
    "\n",
    "\n",
    "# --- Planner class implementing RRT* ---\n",
    "class Planner:\n",
    "    def __init__(self, max_iter: int = 5000, step_size: float = 1.0, goal_sample_rate: float = 0.05, neighbor_radius: float = 5.0):\n",
    "        self.max_iter = max_iter\n",
    "        self.step_size = step_size\n",
    "        self.goal_sample_rate = goal_sample_rate\n",
    "        self.neighbor_radius = neighbor_radius\n",
    "\n",
    "    def plan(self, map: 'Map') -> 'PlannerResult':\n",
    "        bounds = map.size\n",
    "        start_position = map.start\n",
    "        goal_position = map.goal\n",
    "        obstacles = map.obstacles\n",
    "\n",
    "        is_3d = len(bounds) == 3\n",
    "        dim = 3 if is_3d else 2\n",
    "\n",
    "        root = Node(start_position)\n",
    "        nodes: List[Node] = [root]\n",
    "\n",
    "        for _ in range(self.max_iter):\n",
    "            # 1. Sample\n",
    "            if random.random() < self.goal_sample_rate:\n",
    "                sample = goal_position\n",
    "            else:\n",
    "                sample = tuple(random.uniform(0, bounds[i]) for i in range(dim))\n",
    "\n",
    "            # 2. Nearest\n",
    "            nearest = min(nodes, key=lambda n: math.dist(n.position, sample))\n",
    "\n",
    "            # 3. Steer\n",
    "            new_pos = self._steer(nearest.position, sample, self.step_size)\n",
    "            if self._is_in_obstacle(new_pos, obstacles, is_3d):\n",
    "                continue\n",
    "\n",
    "            # 4. Create node\n",
    "            new_node = Node(new_pos)\n",
    "\n",
    "            # 5. Find near neighbors\n",
    "            neighbors = [n for n in nodes if math.dist(n.position, new_pos) <= self.neighbor_radius]\n",
    "\n",
    "            # 6. Choose parent with lowest cost\n",
    "            best_parent = nearest\n",
    "            min_cost = nearest.cost + math.dist(nearest.position, new_pos)\n",
    "            for neighbor in neighbors:\n",
    "                temp_cost = neighbor.cost + math.dist(neighbor.position, new_pos)\n",
    "                if temp_cost < min_cost and not self._is_edge_in_obstacle(neighbor.position, new_pos, obstacles, is_3d):\n",
    "                    best_parent = neighbor\n",
    "                    min_cost = temp_cost\n",
    "\n",
    "            new_node.parent = best_parent\n",
    "            new_node.cost = min_cost\n",
    "            best_parent.children.append(new_node)\n",
    "            nodes.append(new_node)\n",
    "\n",
    "            # 7. Rewire neighbors\n",
    "            for neighbor in neighbors:\n",
    "                potential_cost = new_node.cost + math.dist(new_node.position, neighbor.position)\n",
    "                if potential_cost < neighbor.cost and not self._is_edge_in_obstacle(new_node.position, neighbor.position, obstacles, is_3d):\n",
    "                    if neighbor.parent:\n",
    "                        neighbor.parent.children.remove(neighbor)\n",
    "                    neighbor.parent = new_node\n",
    "                    neighbor.cost = potential_cost\n",
    "                    new_node.children.append(neighbor)\n",
    "\n",
    "            # 8. Goal check\n",
    "            if math.dist(new_node.position, goal_position) <= self.step_size:\n",
    "                goal_node = Node(goal_position, parent=new_node, cost=new_node.cost + math.dist(new_node.position, goal_position))\n",
    "                new_node.children.append(goal_node)\n",
    "                nodes.append(goal_node)\n",
    "                path = self._extract_path(goal_node)\n",
    "                edges = [(n.parent, n) for n in nodes if n.parent]\n",
    "                return PlannerResult(True, path, nodes, edges)\n",
    "\n",
    "        # Failure\n",
    "        edges = [(n.parent, n) for n in nodes if n.parent]\n",
    "        return PlannerResult(False, [], nodes, edges)\n",
    "\n",
    "    def _steer(self, from_pos, to_pos, step_size):\n",
    "        vec = [t - f for f, t in zip(from_pos, to_pos)]\n",
    "        dist = math.dist(from_pos, to_pos)\n",
    "        if dist <= step_size:\n",
    "            return to_pos\n",
    "        scale = step_size / dist\n",
    "        return tuple(f + scale * d for f, d in zip(from_pos, vec))\n",
    "\n",
    "    def _is_in_obstacle(self, pos, obstacles, is_3d):\n",
    "        for obs in obstacles:\n",
    "            if is_3d:\n",
    "                x, y, z, w, h, d = obs\n",
    "                px, py, pz = pos\n",
    "                if x <= px <= x + w and y <= py <= y + h and z <= pz <= z + d:\n",
    "                    return True\n",
    "            else:\n",
    "                x, y, w, h = obs\n",
    "                px, py = pos\n",
    "                if x <= px <= x + w and y <= py <= y + h:\n",
    "                    return True\n",
    "        return False\n",
    "\n",
    "    # def _is_edge_in_obstacle(self, from_pos, to_pos, obstacles, is_3d, steps=20):\n",
    "    #     for i in range(steps + 1):\n",
    "    #         interp = tuple(from_pos[d] + (to_pos[d] - from_pos[d]) * (i / steps) for d in range(len(from_pos)))\n",
    "    #         if self._is_in_obstacle(interp, obstacles, is_3d):\n",
    "    #             return True\n",
    "    #     return False\n",
    "    \n",
    "    def _is_edge_in_obstacle(self, from_pos, to_pos, obstacles, is_3d, resolution=1.0):\n",
    "        distance = math.dist(from_pos, to_pos)\n",
    "        steps = max(1, int(distance / resolution))  # resolution 예: 0.5 또는 1.0\n",
    "        print(f\"Checking edge from {from_pos} to {to_pos} with {steps} steps\")\n",
    "        for i in range(steps + 1):\n",
    "            interp = tuple(from_pos[d] + (to_pos[d] - from_pos[d]) * (i / steps) for d in range(len(from_pos)))\n",
    "            if self._is_in_obstacle(interp, obstacles, is_3d):\n",
    "                print(f\"Edge from {from_pos} to {to_pos} intersects with obstacle at {interp}\")\n",
    "                return True\n",
    "        return False\n",
    "\n",
    "    def _extract_path(self, node: Node) -> List[Tuple[float, ...]]:\n",
    "        path = []\n",
    "        while node:\n",
    "            path.append(node.position)\n",
    "            node = node.parent\n",
    "        return path[::-1]\n"
   ]
  },
  {
   "cell_type": "code",
   "execution_count": 160,
   "id": "1c5359b5",
   "metadata": {},
   "outputs": [],
   "source": [
    "# RRT-Connect\n",
    "import random\n",
    "import math\n",
    "from typing import List, Tuple\n",
    "\n",
    "class Node:\n",
    "    def __init__(self, position, parent=None, cost=0.0):\n",
    "        self.position = position\n",
    "        self.parent = parent\n",
    "        self.cost = cost\n",
    "        self.children = []\n",
    "        self.valid = True\n",
    "\n",
    "    def distance(self, other: 'Node') -> float:\n",
    "        return math.dist(self.position, other.position)\n",
    "\n",
    "class Planner:\n",
    "    def __init__(self, max_iter: int = 5000, step_size: float = 1.0):\n",
    "        self.max_iter = max_iter\n",
    "        self.step_size = step_size\n",
    "\n",
    "    def plan(self, map: 'Map') -> 'PlannerResult':\n",
    "        bounds = map.size\n",
    "        start_position = map.start\n",
    "        goal_position = map.goal\n",
    "        obstacles = map.obstacles\n",
    "\n",
    "        is_3d = len(bounds) == 3\n",
    "        dim = 3 if is_3d else 2\n",
    "\n",
    "        tree_a: List[Node] = [Node(start_position)]\n",
    "        tree_b: List[Node] = [Node(goal_position)]\n",
    "\n",
    "        for _ in range(self.max_iter):\n",
    "            sample = tuple(random.uniform(0, bounds[i]) for i in range(dim))\n",
    "\n",
    "            if self._extend(tree_a, sample, obstacles, is_3d):\n",
    "                if self._connect(tree_b, tree_a[-1].position, obstacles, is_3d):\n",
    "                    path_a = self._extract_path(tree_a[-1])\n",
    "                    path_b = self._extract_path(tree_b[-1])\n",
    "                    full_path = path_a + path_b[::-1]\n",
    "                    nodes = tree_a + tree_b\n",
    "                    edges = [(n.parent, n) for n in nodes if n.parent]\n",
    "                    return PlannerResult(True, full_path, nodes, edges)\n",
    "\n",
    "            tree_a, tree_b = tree_b, tree_a\n",
    "\n",
    "        nodes = tree_a + tree_b\n",
    "        edges = [(n.parent, n) for n in nodes if n.parent]\n",
    "        return PlannerResult(False, [], nodes, edges)\n",
    "\n",
    "    def _extend(self, tree: List[Node], target: Tuple[float, ...], obstacles, is_3d: bool) -> bool:\n",
    "        nearest = min(tree, key=lambda n: math.dist(n.position, target))\n",
    "        new_pos = self._steer(nearest.position, target, self.step_size)\n",
    "        if not self._is_in_obstacle(new_pos, obstacles, is_3d):\n",
    "            new_node = Node(new_pos, parent=nearest, cost=nearest.cost + math.dist(nearest.position, new_pos))\n",
    "            nearest.children.append(new_node)\n",
    "            tree.append(new_node)\n",
    "            return True\n",
    "        return False\n",
    "\n",
    "    def _connect(self, tree: List[Node], target: Tuple[float, ...], obstacles, is_3d: bool) -> bool:\n",
    "        while True:\n",
    "            if not self._extend(tree, target, obstacles, is_3d):\n",
    "                return False\n",
    "            if math.dist(tree[-1].position, target) <= self.step_size:\n",
    "                return True\n",
    "\n",
    "    def _steer(self, from_pos: Tuple[float, ...], to_pos: Tuple[float, ...], step_size: float) -> Tuple[float, ...]:\n",
    "        vec = [t - f for f, t in zip(from_pos, to_pos)]\n",
    "        dist = math.dist(from_pos, to_pos)\n",
    "        if dist <= step_size:\n",
    "            return to_pos\n",
    "        scale = step_size / dist\n",
    "        return tuple(f + scale * d for f, d in zip(from_pos, vec))\n",
    "\n",
    "    def _is_in_obstacle(self, pos: Tuple[float, ...], obstacles: List[Tuple], is_3d: bool) -> bool:\n",
    "        for obs in obstacles:\n",
    "            if is_3d:\n",
    "                x, y, z, w, h, d = obs\n",
    "                px, py, pz = pos\n",
    "                if x <= px <= x + w and y <= py <= y + h and z <= pz <= z + d:\n",
    "                    return True\n",
    "            else:\n",
    "                x, y, w, h = obs\n",
    "                px, py = pos\n",
    "                if x <= px <= x + w and y <= py <= y + h:\n",
    "                    return True\n",
    "        return False\n",
    "\n",
    "    def _extract_path(self, node: Node) -> List[Tuple[float, ...]]:\n",
    "        path = []\n",
    "        while node:\n",
    "            path.append(node.position)\n",
    "            node = node.parent\n",
    "        return path[::-1]"
   ]
  },
  {
   "cell_type": "code",
   "execution_count": null,
   "id": "09ccdb69",
   "metadata": {},
   "outputs": [],
   "source": [
    "# RRT*-connect\n",
    "# --- Node class ---\n",
    "class Node:\n",
    "    def __init__(self, position, parent=None, cost=0.0):\n",
    "        self.position = position        # Tuple[float, ...] → 2D: (x,y), 3D: (x,y,z)\n",
    "        self.parent = parent            # Node or None\n",
    "        self.cost = cost                # Path cost\n",
    "        self.children = []\n",
    "        self.valid = True               # For collision checking etc.\n",
    "\n",
    "\n",
    "# --- Planner class implementing RRT*-Connect ---\n",
    "class Planner:\n",
    "    def __init__(self, max_iter: int = 5000, step_size: float = 1.0, goal_sample_rate: float = 0.05):\n",
    "        self.max_iter = max_iter\n",
    "        self.step_size = step_size\n",
    "        self.goal_sample_rate = goal_sample_rate\n",
    "\n",
    "    def plan(self, map: Map) -> PlannerResult:\n",
    "        from math import dist\n",
    "        import random\n",
    "\n",
    "        bounds = map.size\n",
    "        start_position = map.start\n",
    "        goal_position = map.goal\n",
    "        obstacles = map.obstacles\n",
    "\n",
    "        is_3d = len(bounds) == 3\n",
    "        dim = 3 if is_3d else 2\n",
    "\n",
    "        tree_start: List[Node] = [Node(start_position)]\n",
    "        tree_goal: List[Node] = [Node(goal_position)]\n",
    "\n",
    "        for _ in range(self.max_iter):\n",
    "            if random.random() < self.goal_sample_rate:\n",
    "                sample = goal_position\n",
    "            else:\n",
    "                sample = tuple(random.uniform(0, bounds[i]) for i in range(dim))\n",
    "\n",
    "            # Extend from start tree\n",
    "            new_node_start = self._extend(tree_start, sample, obstacles, is_3d)\n",
    "            if new_node_start is None:\n",
    "                continue\n",
    "\n",
    "            # Connect from goal tree to the new node\n",
    "            new_node_goal = self._connect(tree_goal, new_node_start.position, obstacles, is_3d)\n",
    "\n",
    "            if new_node_goal:\n",
    "                # Trees connected, build path\n",
    "                path_from_start = self._extract_path(new_node_start)\n",
    "                path_from_goal = self._extract_path(new_node_goal)[::-1]\n",
    "                full_path = path_from_start + path_from_goal\n",
    "                all_nodes = tree_start + tree_goal\n",
    "                edges = [(n.parent, n) for n in all_nodes if n.parent]\n",
    "                return PlannerResult(True, full_path, all_nodes, edges)\n",
    "\n",
    "            # Swap trees\n",
    "            tree_start, tree_goal = tree_goal, tree_start\n",
    "\n",
    "        all_nodes = tree_start + tree_goal\n",
    "        edges = [(n.parent, n) for n in all_nodes if n.parent]\n",
    "        return PlannerResult(False, [], all_nodes, edges)\n",
    "\n",
    "    def _extend(self, tree: List[Node], sample: Tuple[float, ...], obstacles, is_3d: bool) -> Node:\n",
    "        from math import dist\n",
    "\n",
    "        nearest = min(tree, key=lambda n: dist(n.position, sample))\n",
    "        new_pos = self._steer(nearest.position, sample, self.step_size)\n",
    "        if self._is_in_obstacle(new_pos, obstacles, is_3d):\n",
    "            return None\n",
    "\n",
    "        new_node = Node(new_pos, parent=nearest, cost=nearest.cost + dist(nearest.position, new_pos))\n",
    "        nearest.children.append(new_node)\n",
    "        tree.append(new_node)\n",
    "\n",
    "        # RRT* rewiring\n",
    "        near_nodes = [n for n in tree if dist(n.position, new_node.position) <= self.step_size * 2]\n",
    "        for neighbor in near_nodes:\n",
    "            potential_cost = new_node.cost + dist(new_node.position, neighbor.position)\n",
    "            if potential_cost < neighbor.cost and not self._is_in_obstacle(self._steer(new_node.position, neighbor.position, self.step_size), obstacles, is_3d):\n",
    "                neighbor.parent = new_node\n",
    "                neighbor.cost = potential_cost\n",
    "\n",
    "        return new_node\n",
    "\n",
    "    def _connect(self, tree: List[Node], target: Tuple[float, ...], obstacles, is_3d: bool) -> Node:\n",
    "        from math import dist\n",
    "\n",
    "        current = min(tree, key=lambda n: dist(n.position, target))\n",
    "        while True:\n",
    "            new_pos = self._steer(current.position, target, self.step_size)\n",
    "            if self._is_in_obstacle(new_pos, obstacles, is_3d):\n",
    "                return None\n",
    "            new_node = Node(new_pos, parent=current, cost=current.cost + dist(current.position, new_pos))\n",
    "            current.children.append(new_node)\n",
    "            tree.append(new_node)\n",
    "\n",
    "            if dist(new_pos, target) <= self.step_size:\n",
    "                return new_node\n",
    "            current = new_node\n",
    "\n",
    "    def _steer(self, from_pos: Tuple[float, ...], to_pos: Tuple[float, ...], step: float) -> Tuple[float, ...]:\n",
    "        from math import dist\n",
    "        vec = [t - f for f, t in zip(from_pos, to_pos)]\n",
    "        d = dist(from_pos, to_pos)\n",
    "        if d <= step:\n",
    "            return to_pos\n",
    "        scale = step / d\n",
    "        return tuple(f + scale * v for f, v in zip(from_pos, vec))\n",
    "\n",
    "    def _is_in_obstacle(self, pos: Tuple[float, ...], obstacles, is_3d: bool) -> bool:\n",
    "        if is_3d:\n",
    "            for x, y, z, w, h, d in obstacles:\n",
    "                px, py, pz = pos\n",
    "                if x <= px <= x + w and y <= py <= y + h and z <= pz <= z + d:\n",
    "                    return True\n",
    "        else:\n",
    "            for x, y, w, h in obstacles:\n",
    "                px, py = pos\n",
    "                if x <= px <= x + w and y <= py <= y + h:\n",
    "                    return True\n",
    "        return False\n",
    "\n",
    "    def _extract_path(self, node: Node) -> List[Tuple[float, ...]]:\n",
    "        path = []\n",
    "        while node:\n",
    "            path.append(node.position)\n",
    "            node = node.parent\n",
    "        return path[::-1]\n"
   ]
  },
  {
   "cell_type": "code",
   "execution_count": null,
   "id": "b003c850",
   "metadata": {},
   "outputs": [],
   "source": [
    "# Bi-RRT\n",
    "# --- Node class ---\n",
    "class Node:\n",
    "    def __init__(self, position, parent=None, cost=0.0):\n",
    "        self.position = position        # Tuple[float, ...]\n",
    "        self.parent = parent            # Node or None\n",
    "        self.cost = cost                # Path cost\n",
    "        self.children = []\n",
    "        self.valid = True               # For collision checking etc.\n",
    "\n",
    "    def distance(self, other: 'Node') -> float:\n",
    "        return math.dist(self.position, other.position)\n",
    "\n",
    "# --- Main Planner ---\n",
    "class Planner:\n",
    "    def __init__(self, max_iter: int = 5000, step_size: float = 1.0):\n",
    "        self.max_iter = max_iter\n",
    "        self.step_size = step_size\n",
    "\n",
    "    def plan(self, map: 'Map') -> PlannerResult:\n",
    "        bounds = map.size\n",
    "        start_position = map.start\n",
    "        goal_position = map.goal\n",
    "        obstacles = map.obstacles\n",
    "\n",
    "        is_3d = len(bounds) == 3\n",
    "        dim = 3 if is_3d else 2\n",
    "\n",
    "        tree_start: List[Node] = [Node(start_position)]\n",
    "        tree_goal: List[Node] = [Node(goal_position)]\n",
    "\n",
    "        for _ in range(self.max_iter):\n",
    "            sample = tuple(random.uniform(0, bounds[i]) for i in range(dim))\n",
    "\n",
    "            if self._try_extend(tree_start, sample, tree_goal, obstacles, is_3d):\n",
    "                path = self._extract_path(tree_start[-1]) + self._extract_path(tree_goal[-1])[::-1]\n",
    "                nodes = tree_start + tree_goal\n",
    "                edges = [(node.parent, node) for node in nodes if node.parent]\n",
    "                return PlannerResult(True, path, nodes, edges)\n",
    "\n",
    "            # Swap trees for next iteration\n",
    "            tree_start, tree_goal = tree_goal, tree_start\n",
    "\n",
    "        nodes = tree_start + tree_goal\n",
    "        edges = [(node.parent, node) for node in nodes if node.parent]\n",
    "        return PlannerResult(False, [], nodes, edges)\n",
    "\n",
    "    def _try_extend(self, tree: List[Node], sample: Tuple[float, ...], other_tree: List[Node], obstacles, is_3d) -> bool:\n",
    "        nearest = min(tree, key=lambda n: math.dist(n.position, sample))\n",
    "        new_position = self._steer(nearest.position, sample, self.step_size)\n",
    "\n",
    "        if self._is_in_obstacle(new_position, obstacles, is_3d):\n",
    "            return False\n",
    "\n",
    "        new_node = Node(new_position, parent=nearest, cost=nearest.cost + math.dist(nearest.position, new_position))\n",
    "        nearest.children.append(new_node)\n",
    "        tree.append(new_node)\n",
    "\n",
    "        # Try connecting to other tree\n",
    "        other_nearest = min(other_tree, key=lambda n: math.dist(n.position, new_node.position))\n",
    "        if math.dist(new_node.position, other_nearest.position) <= self.step_size:\n",
    "            final_node = Node(other_nearest.position, parent=new_node, cost=new_node.cost + math.dist(new_node.position, other_nearest.position))\n",
    "            new_node.children.append(final_node)\n",
    "            tree.append(final_node)\n",
    "            other_tree.append(other_nearest)  # Ensure it's captured if not already\n",
    "            return True\n",
    "        return False\n",
    "\n",
    "    def _steer(self, from_pos: Tuple[float, ...], to_pos: Tuple[float, ...], step_size: float) -> Tuple[float, ...]:\n",
    "        vec = [t - f for f, t in zip(from_pos, to_pos)]\n",
    "        dist = math.dist(from_pos, to_pos)\n",
    "        if dist <= step_size:\n",
    "            return to_pos\n",
    "        scale = step_size / dist\n",
    "        return tuple(f + scale * d for f, d in zip(from_pos, vec))\n",
    "\n",
    "    def _is_in_obstacle(self, pos: Tuple[float, ...], obstacles: List[Tuple], is_3d: bool) -> bool:\n",
    "        for obs in obstacles:\n",
    "            if is_3d:\n",
    "                x, y, z, w, h, d = obs\n",
    "                px, py, pz = pos\n",
    "                if x <= px <= x + w and y <= py <= y + h and z <= pz <= z + d:\n",
    "                    return True\n",
    "            else:\n",
    "                x, y, w, h = obs\n",
    "                px, py = pos\n",
    "                if x <= px <= x + w and y <= py <= y + h:\n",
    "                    return True\n",
    "        return False\n",
    "\n",
    "    def _extract_path(self, node: Node) -> List[Tuple[float, ...]]:\n",
    "        path = []\n",
    "        while node:\n",
    "            path.append(node.position)\n",
    "            node = node.parent\n",
    "        return path[::-1]"
   ]
  },
  {
   "cell_type": "code",
   "execution_count": null,
   "id": "f2ec138f",
   "metadata": {},
   "outputs": [],
   "source": [
    "# Bi-RRT*\n",
    "# --- Node class ---\n",
    "class Node:\n",
    "    def __init__(self, position, parent=None, cost=0.0):\n",
    "        self.position = position\n",
    "        self.parent = parent\n",
    "        self.cost = cost\n",
    "        self.children = []\n",
    "        self.valid = True\n",
    "\n",
    "# --- Bi-RRT* Planner ---\n",
    "class Planner:\n",
    "    def __init__(self, max_iter: int = 5000, step_size: float = 1.0, radius: float = 5.0):\n",
    "        self.max_iter = max_iter\n",
    "        self.step_size = step_size\n",
    "        self.radius = radius\n",
    "\n",
    "    def plan(self, map: 'Map') -> PlannerResult:\n",
    "        import random, math\n",
    "\n",
    "        bounds = map.size\n",
    "        start_position = map.start\n",
    "        goal_position = map.goal\n",
    "        obstacles = map.obstacles\n",
    "\n",
    "        is_3d = len(bounds) == 3\n",
    "        dim = 3 if is_3d else 2\n",
    "\n",
    "        tree_start: List[Node] = [Node(start_position)]\n",
    "        tree_goal: List[Node] = [Node(goal_position)]\n",
    "\n",
    "        success = False\n",
    "        connection_node = None\n",
    "\n",
    "        for _ in range(self.max_iter):\n",
    "            sample = tuple(random.uniform(0, bounds[i]) for i in range(dim))\n",
    "            for tree_a, tree_b in [(tree_start, tree_goal), (tree_goal, tree_start)]:\n",
    "                nearest = min(tree_a, key=lambda n: self._dist(n.position, sample))\n",
    "                new_pos = self._steer(nearest.position, sample)\n",
    "                if self._in_obstacle(new_pos, obstacles, is_3d):\n",
    "                    continue\n",
    "                new_node = Node(new_pos, parent=nearest, cost=nearest.cost + self._dist(nearest.position, new_pos))\n",
    "                near_nodes = [n for n in tree_a if self._dist(n.position, new_pos) <= self.radius]\n",
    "                best_parent = min(near_nodes, key=lambda n: n.cost + self._dist(n.position, new_pos), default=nearest)\n",
    "                new_node.parent = best_parent\n",
    "                new_node.cost = best_parent.cost + self._dist(best_parent.position, new_pos)\n",
    "                best_parent.children.append(new_node)\n",
    "                tree_a.append(new_node)\n",
    "\n",
    "                for near in near_nodes:\n",
    "                    new_cost = new_node.cost + self._dist(new_node.position, near.position)\n",
    "                    if new_cost < near.cost:\n",
    "                        near.parent = new_node\n",
    "                        near.cost = new_cost\n",
    "\n",
    "                # Try to connect the two trees\n",
    "                connect_node = self._try_connect(new_node, tree_b, is_3d, obstacles)\n",
    "                if connect_node:\n",
    "                    success = True\n",
    "                    connection_node = (new_node, connect_node)\n",
    "                    break\n",
    "            if success:\n",
    "                break\n",
    "\n",
    "        nodes = tree_start + tree_goal\n",
    "        edges = [(n.parent, n) for n in nodes if n.parent]\n",
    "        path = (\n",
    "            self._extract_path(connection_node[0])[:-1]\n",
    "            + self._extract_path(connection_node[1])[::-1]\n",
    "            if success else []\n",
    "        )\n",
    "\n",
    "        return PlannerResult(success, path, nodes, edges)\n",
    "\n",
    "    def _dist(self, a, b):\n",
    "        import math\n",
    "        return math.dist(a, b)\n",
    "\n",
    "    def _steer(self, from_pos, to_pos):\n",
    "        import math\n",
    "        vec = [t - f for f, t in zip(from_pos, to_pos)]\n",
    "        dist = math.dist(from_pos, to_pos)\n",
    "        if dist <= self.step_size:\n",
    "            return to_pos\n",
    "        scale = self.step_size / dist\n",
    "        return tuple(f + scale * v for f, v in zip(from_pos, vec))\n",
    "\n",
    "    def _in_obstacle(self, pos, obstacles, is_3d):\n",
    "        for obs in obstacles:\n",
    "            if is_3d:\n",
    "                x, y, z, w, h, d = obs\n",
    "                px, py, pz = pos\n",
    "                if x <= px <= x + w and y <= py <= y + h and z <= pz <= z + d:\n",
    "                    return True\n",
    "            else:\n",
    "                x, y, w, h = obs\n",
    "                px, py = pos\n",
    "                if x <= px <= x + w and y <= py <= y + h:\n",
    "                    return True\n",
    "        return False\n",
    "\n",
    "    def _try_connect(self, node, tree, is_3d, obstacles):\n",
    "        for n in tree:\n",
    "            if self._dist(n.position, node.position) <= self.step_size:\n",
    "                if not self._in_obstacle(n.position, obstacles, is_3d):\n",
    "                    return n\n",
    "        return None\n",
    "\n",
    "    def _extract_path(self, node: Node) -> List[Tuple[float, ...]]:\n",
    "        path = []\n",
    "        while node:\n",
    "            path.append(node.position)\n",
    "            node = node.parent\n",
    "        return path[::-1]"
   ]
  },
  {
   "cell_type": "code",
   "execution_count": null,
   "id": "5736102c",
   "metadata": {},
   "outputs": [],
   "source": [
    "# Informed RRT*\n",
    "\n",
    "class Node:\n",
    "    def __init__(self, position, parent=None, cost=0.0):\n",
    "        self.position = position\n",
    "        self.parent = parent\n",
    "        self.cost = cost\n",
    "        self.children = []\n",
    "        self.valid = True\n",
    "\n",
    "    def distance(self, other_pos) -> float:\n",
    "        return math.dist(self.position, other_pos)\n",
    "\n",
    "class Planner:\n",
    "    def __init__(self, max_iter: int = 5000, step_size: float = 1.0):\n",
    "        self.max_iter = max_iter\n",
    "        self.step_size = step_size\n",
    "\n",
    "    def plan(self, map: Map) -> PlannerResult:\n",
    "        bounds = map.size\n",
    "        start_pos = map.start\n",
    "        goal_pos = map.goal\n",
    "        obstacles = map.obstacles\n",
    "        is_3d = len(bounds) == 3\n",
    "\n",
    "        nodes: List[Node] = []\n",
    "        edges: List[Tuple[Node, Node]] = []\n",
    "        success_state = False\n",
    "        extracted_path: List[Tuple[float, ...]] = []\n",
    "\n",
    "        start_node = Node(start_pos)\n",
    "        goal_node = Node(goal_pos)\n",
    "        nodes.append(start_node)\n",
    "        best_cost = float(\"inf\")\n",
    "        c_best = float(\"inf\")\n",
    "\n",
    "        for _ in range(self.max_iter):\n",
    "            if c_best < float(\"inf\"):\n",
    "                sample = self._sample_in_ellipse(start_pos, goal_pos, c_best, bounds)\n",
    "            else:\n",
    "                sample = self._sample_uniform(bounds)\n",
    "\n",
    "            nearest = self._nearest_node(nodes, sample)\n",
    "            new_pos = self._steer(nearest.position, sample)\n",
    "            if not self._collision(nearest.position, new_pos, obstacles, is_3d):\n",
    "                new_node = Node(new_pos)\n",
    "                near_nodes = self._find_near(nodes, new_node, radius=5.0)\n",
    "                min_cost = nearest.cost + nearest.distance(new_pos)\n",
    "                min_parent = nearest\n",
    "\n",
    "                for near in near_nodes:\n",
    "                    if not self._collision(near.position, new_pos, obstacles, is_3d):\n",
    "                        cost = near.cost + near.distance(new_pos)\n",
    "                        if cost < min_cost:\n",
    "                            min_cost = cost\n",
    "                            min_parent = near\n",
    "\n",
    "                new_node.cost = min_cost\n",
    "                new_node.parent = min_parent\n",
    "                min_parent.children.append(new_node)\n",
    "                nodes.append(new_node)\n",
    "                edges.append((min_parent, new_node))\n",
    "\n",
    "                for near in near_nodes:\n",
    "                    if not self._collision(new_pos, near.position, obstacles, is_3d):\n",
    "                        new_cost = new_node.cost + new_node.distance(near.position)\n",
    "                        if new_cost < near.cost:\n",
    "                            if near.parent:\n",
    "                                near.parent.children.remove(near)\n",
    "                            near.parent = new_node\n",
    "                            new_node.children.append(near)\n",
    "                            near.cost = new_cost\n",
    "                            edges.append((new_node, near))\n",
    "\n",
    "                if new_node.distance(goal_pos) <= self.step_size:\n",
    "                    if not self._collision(new_node.position, goal_pos, obstacles, is_3d):\n",
    "                        goal_node.parent = new_node\n",
    "                        goal_node.cost = new_node.cost + new_node.distance(goal_pos)\n",
    "                        new_node.children.append(goal_node)\n",
    "                        nodes.append(goal_node)\n",
    "                        edges.append((new_node, goal_node))\n",
    "                        success_state = True\n",
    "                        c_best = goal_node.cost\n",
    "                        extracted_path = self._extract_path(goal_node)\n",
    "\n",
    "        return PlannerResult(\n",
    "            success=success_state,\n",
    "            path=extracted_path,\n",
    "            nodes=nodes,\n",
    "            edges=edges\n",
    "        )\n",
    "\n",
    "    def _sample_uniform(self, bounds):\n",
    "        return tuple(random.uniform(0, b) for b in bounds)\n",
    "\n",
    "    def _sample_in_ellipse(self, start, goal, c_best, bounds):\n",
    "        c_min = math.dist(start, goal)\n",
    "        if c_min == 0:\n",
    "            return self._sample_uniform(bounds)\n",
    "\n",
    "        center = tuple((s + g) / 2 for s, g in zip(start, goal))\n",
    "        a = c_best / 2\n",
    "        b = math.sqrt(a**2 - (c_min / 2)**2)\n",
    "        while True:\n",
    "            x = random.uniform(-1, 1)\n",
    "            y = random.uniform(-1, 1)\n",
    "            if x**2 + y**2 <= 1:\n",
    "                break\n",
    "        sample = (\n",
    "            b * x + center[0],\n",
    "            a * y + center[1]\n",
    "        )\n",
    "        return self._clip_to_bounds(sample, bounds)\n",
    "\n",
    "    def _clip_to_bounds(self, sample, bounds):\n",
    "        return tuple(max(0, min(s, b)) for s, b in zip(sample, bounds))\n",
    "\n",
    "    def _nearest_node(self, nodes, point):\n",
    "        return min(nodes, key=lambda n: math.dist(n.position, point))\n",
    "\n",
    "    def _steer(self, from_pos, to_pos):\n",
    "        vec = tuple(t - f for f, t in zip(from_pos, to_pos))\n",
    "        dist = math.dist(from_pos, to_pos)\n",
    "        if dist <= self.step_size:\n",
    "            return to_pos\n",
    "        ratio = self.step_size / dist\n",
    "        return tuple(f + ratio * (t - f) for f, t in zip(from_pos, to_pos))\n",
    "\n",
    "    def _collision(self, from_pos, to_pos, obstacles, is_3d):\n",
    "        steps = int(math.dist(from_pos, to_pos) / 0.5)\n",
    "        if steps == 0:\n",
    "            steps = 1\n",
    "        for i in range(steps + 1):\n",
    "            inter = tuple(f + (t - f) * i / steps for f, t in zip(from_pos, to_pos))\n",
    "            if self._in_obstacle(inter, obstacles, is_3d):\n",
    "                return True\n",
    "        return False\n",
    "\n",
    "    def _in_obstacle(self, pos, obstacles, is_3d):\n",
    "        for obs in obstacles:\n",
    "            if is_3d:\n",
    "                x, y, z, w, h, d = obs\n",
    "                if x <= pos[0] <= x + w and y <= pos[1] <= y + h and z <= pos[2] <= z + d:\n",
    "                    return True\n",
    "            else:\n",
    "                x, y, w, h = obs\n",
    "                if x <= pos[0] <= x + w and y <= pos[1] <= y + h:\n",
    "                    return True\n",
    "        return False\n",
    "\n",
    "    def _find_near(self, nodes, new_node, radius):\n",
    "        return [node for node in nodes if node.distance(new_node.position) <= radius]\n",
    "\n",
    "    def _extract_path(self, goal_node):\n",
    "        path = []\n",
    "        current = goal_node\n",
    "        while current:\n",
    "            path.append(current.position)\n",
    "            current = current.parent\n",
    "        return path[::-1]"
   ]
  },
  {
   "cell_type": "code",
   "execution_count": null,
   "id": "68765888",
   "metadata": {},
   "outputs": [],
   "source": [
    "# Irrt*connect\n",
    "import math\n",
    "import random\n",
    "from typing import List, Tuple, NamedTuple, Union\n",
    "\n",
    "class Node:\n",
    "    def __init__(self, position, parent=None, cost=0.0):\n",
    "        self.position = position\n",
    "        self.parent = parent\n",
    "        self.cost = cost\n",
    "        self.children = []\n",
    "        self.valid = True\n",
    "\n",
    "    def distance(self, other_pos):\n",
    "        return math.dist(self.position, other_pos)\n",
    "\n",
    "\n",
    "class Planner:\n",
    "    def __init__(self, max_iter: int = 5000, step_size: float = 1.0):\n",
    "        self.max_iter = max_iter\n",
    "        self.step_size = step_size\n",
    "\n",
    "    def plan(self, map: Map) -> PlannerResult:\n",
    "        bounds = map.size\n",
    "        start_pos = map.start\n",
    "        goal_pos = map.goal\n",
    "        obstacles = map.obstacles\n",
    "        is_3d = len(bounds) == 3\n",
    "\n",
    "        nodes = [Node(start_pos)]\n",
    "        edges = []\n",
    "        c_best = float(\"inf\")\n",
    "        solution_set = []\n",
    "\n",
    "        for _ in range(self.max_iter):\n",
    "            if c_best < float(\"inf\"):\n",
    "                sample = self._informed_sample(start_pos, goal_pos, c_best, bounds)\n",
    "            else:\n",
    "                sample = self._random_sample(bounds)\n",
    "\n",
    "            nearest = self._nearest(nodes, sample)\n",
    "            new_pos = self._steer(nearest.position, sample)\n",
    "\n",
    "            if self._collision(nearest.position, new_pos, obstacles, is_3d):\n",
    "                continue\n",
    "\n",
    "            new_node = Node(new_pos, parent=nearest, cost=nearest.cost + nearest.distance(new_pos))\n",
    "            nodes.append(new_node)\n",
    "            nearest.children.append(new_node)\n",
    "            edges.append((nearest, new_node))\n",
    "\n",
    "            # Check if we reached the goal region\n",
    "            if new_node.distance(goal_pos) < self.step_size:\n",
    "                goal_node = Node(goal_pos, parent=new_node, cost=new_node.cost + new_node.distance(goal_pos))\n",
    "                nodes.append(goal_node)\n",
    "                new_node.children.append(goal_node)\n",
    "                edges.append((new_node, goal_node))\n",
    "                solution_set.append(goal_node)\n",
    "                c_best = min(c_best, goal_node.cost)\n",
    "\n",
    "        if not solution_set:\n",
    "            return PlannerResult(False, [], nodes, edges)\n",
    "\n",
    "        best_goal = min(solution_set, key=lambda n: n.cost)\n",
    "        path = self._extract_path(best_goal)\n",
    "        return PlannerResult(True, path, nodes, edges)\n",
    "\n",
    "    def _extract_path(self, node):\n",
    "        path = []\n",
    "        while node:\n",
    "            path.append(node.position)\n",
    "            node = node.parent\n",
    "        return path[::-1]\n",
    "\n",
    "    def _random_sample(self, bounds):\n",
    "        return tuple(random.uniform(0, b) for b in bounds)\n",
    "\n",
    "    def _nearest(self, nodes, sample_pos):\n",
    "        return min(nodes, key=lambda n: math.dist(n.position, sample_pos))\n",
    "\n",
    "    def _steer(self, from_pos, to_pos):\n",
    "        direction = [t - f for f, t in zip(from_pos, to_pos)]\n",
    "        dist = math.dist(from_pos, to_pos)\n",
    "        if dist == 0:\n",
    "            return from_pos\n",
    "        ratio = self.step_size / dist\n",
    "        return tuple(f + d * ratio for f, d in zip(from_pos, direction))\n",
    "\n",
    "    def _collision(self, from_pos, to_pos, obstacles, is_3d, resolution=0.5):\n",
    "        dist = math.dist(from_pos, to_pos)\n",
    "        steps = max(int(dist / resolution), 1)\n",
    "        for i in range(steps + 1):\n",
    "            intermediate = tuple(f + (t - f) * i / steps for f, t in zip(from_pos, to_pos))\n",
    "            if self._is_in_obstacle(intermediate, obstacles, is_3d):\n",
    "                return True\n",
    "        return False\n",
    "\n",
    "    def _is_in_obstacle(self, pos, obstacles, is_3d):\n",
    "        for obs in obstacles:\n",
    "            if is_3d:\n",
    "                x, y, z, w, h, d = obs\n",
    "                if x <= pos[0] <= x + w and y <= pos[1] <= y + h and z <= pos[2] <= z + d:\n",
    "                    return True\n",
    "            else:\n",
    "                x, y, w, h = obs\n",
    "                if x <= pos[0] <= x + w and y <= pos[1] <= y + h:\n",
    "                    return True\n",
    "        return False\n",
    "\n",
    "    def _informed_sample(self, start, goal, c_max, bounds):\n",
    "        c_min = math.dist(start, goal)\n",
    "        if c_max < c_min:\n",
    "            return self._random_sample(bounds)\n",
    "\n",
    "        # Construct rotation matrix\n",
    "        a1 = [(g - s) / c_min for s, g in zip(start, goal)]\n",
    "        C = self._orthonormal_basis(a1, len(bounds))\n",
    "\n",
    "        # Sample in unit ball\n",
    "        while True:\n",
    "            if len(bounds) == 2:\n",
    "                x_ball = self._sample_unit_ball_2d()\n",
    "            else:\n",
    "                x_ball = self._sample_unit_ball_3d()\n",
    "            L = [c_max / 2.0] + [math.sqrt(c_max**2 - c_min**2) / 2.0] * (len(bounds) - 1)\n",
    "            scale = tuple(l * x for l, x in zip(L, x_ball))\n",
    "            rotated = self._matvec(C, scale)\n",
    "            x_rand = tuple(c + s for c, s in zip([(s + g) / 2.0 for s, g in zip(start, goal)], rotated))\n",
    "\n",
    "            # Clamp to bounds\n",
    "            if all(0 <= x_rand[i] <= bounds[i] for i in range(len(bounds))):\n",
    "                return x_rand\n",
    "\n",
    "    def _orthonormal_basis(self, a1, dim):\n",
    "        import numpy as np\n",
    "        a1 = np.array(a1)\n",
    "        I = np.eye(dim)\n",
    "        if np.allclose(a1, I[:, 0]):\n",
    "            return I\n",
    "        v = a1 + np.sign(a1[0]) * np.linalg.norm(a1) * I[:, 0]\n",
    "        v /= np.linalg.norm(v)\n",
    "        H = I - 2.0 * np.outer(v, v)\n",
    "        return H @ I\n",
    "\n",
    "    def _matvec(self, mat, vec):\n",
    "        return tuple(sum(m * v for m, v in zip(row, vec)) for row in mat)\n",
    "\n",
    "    def _sample_unit_ball_2d(self):\n",
    "        r = math.sqrt(random.random())\n",
    "        theta = random.uniform(0, 2 * math.pi)\n",
    "        return (r * math.cos(theta), r * math.sin(theta))\n",
    "\n",
    "    def _sample_unit_ball_3d(self):\n",
    "        while True:\n",
    "            x, y, z = random.uniform(-1, 1), random.uniform(-1, 1), random.uniform(-1, 1)\n",
    "            if x**2 + y**2 + z**2 <= 1:\n",
    "                return (x, y, z)"
   ]
  },
  {
   "cell_type": "code",
   "execution_count": 14,
   "id": "d5b1a266",
   "metadata": {},
   "outputs": [],
   "source": [
    "json_path = './eoh/src/eoh/problems/optimization/classic_benchmark_path_planning/utils/classic_method.json'"
   ]
  },
  {
   "cell_type": "code",
   "execution_count": null,
   "id": "c92d2b7f",
   "metadata": {},
   "outputs": [],
   "source": [
    "result = {\n",
    "    \"algorithm\": \"Informed-RRT*\",\n",
    "    \"algorithm_description\": \"Informed RRT* is an optimal sampling-based motion planning algorithm that improves the efficiency of RRT* by focusing the search space. Once a feasible solution is found, it restricts sampling to a prolate hyperspheroid (ellipsoid in 2D/3D) defined by the start and goal states and the cost of the current best solution. This results in faster convergence toward an optimal solution.\",\n",
    "    \"planning_mechanism\": '''\n",
    "1.\tInitialization: Start with the root node at the start position.\n",
    "2.\tSampling:\n",
    "\t•\tBefore a solution is found: sample uniformly within the search space.\n",
    "\t•\tAfter a solution is found: sample within the informed ellipsoid (heuristic-based subset).\n",
    "3.\tNearest Node: Find the node in the tree closest to the sampled point.\n",
    "4.\tSteering: Move toward the sample, limited by a step size.\n",
    "5.\tCollision Check: Ensure the new edge is obstacle-free.\n",
    "6.\tAdd Node: Add the new node to the tree.\n",
    "7.\tRewire: Improve nearby nodes’ paths by rewiring through the new node if it reduces cost.\n",
    "8.\tUpdate Best Path: If the new node reaches the goal and has a lower cost, update the best solution.\n",
    "9.\tRepeat until iteration or time limit is reached.\n",
    "''',\n",
    "    \"code\": '''\n",
    "class Node:\n",
    "    def __init__(self, position, parent=None, cost=0.0):\n",
    "        self.position = position\n",
    "        self.parent = parent\n",
    "        self.cost = cost\n",
    "        self.children = []\n",
    "        self.valid = True\n",
    "\n",
    "    def distance(self, other_pos) -> float:\n",
    "        return math.dist(self.position, other_pos)\n",
    "\n",
    "class Planner:\n",
    "    def __init__(self, max_iter: int = 5000, step_size: float = 1.0):\n",
    "        self.max_iter = max_iter\n",
    "        self.step_size = step_size\n",
    "\n",
    "    def plan(self, map: Map) -> PlannerResult:\n",
    "        bounds = map.size\n",
    "        start_pos = map.start\n",
    "        goal_pos = map.goal\n",
    "        obstacles = map.obstacles\n",
    "        is_3d = len(bounds) == 3\n",
    "\n",
    "        nodes: List[Node] = []\n",
    "        edges: List[Tuple[Node, Node]] = []\n",
    "        success_state = False\n",
    "        extracted_path: List[Tuple[float, ...]] = []\n",
    "\n",
    "        start_node = Node(start_pos)\n",
    "        goal_node = Node(goal_pos)\n",
    "        nodes.append(start_node)\n",
    "        best_cost = float(\"inf\")\n",
    "        c_best = float(\"inf\")\n",
    "\n",
    "        for _ in range(self.max_iter):\n",
    "            if c_best < float(\"inf\"):\n",
    "                sample = self._sample_in_ellipse(start_pos, goal_pos, c_best, bounds)\n",
    "            else:\n",
    "                sample = self._sample_uniform(bounds)\n",
    "\n",
    "            nearest = self._nearest_node(nodes, sample)\n",
    "            new_pos = self._steer(nearest.position, sample)\n",
    "            if not self._collision(nearest.position, new_pos, obstacles, is_3d):\n",
    "                new_node = Node(new_pos)\n",
    "                near_nodes = self._find_near(nodes, new_node, radius=5.0)\n",
    "                min_cost = nearest.cost + nearest.distance(new_pos)\n",
    "                min_parent = nearest\n",
    "\n",
    "                for near in near_nodes:\n",
    "                    if not self._collision(near.position, new_pos, obstacles, is_3d):\n",
    "                        cost = near.cost + near.distance(new_pos)\n",
    "                        if cost < min_cost:\n",
    "                            min_cost = cost\n",
    "                            min_parent = near\n",
    "\n",
    "                new_node.cost = min_cost\n",
    "                new_node.parent = min_parent\n",
    "                min_parent.children.append(new_node)\n",
    "                nodes.append(new_node)\n",
    "                edges.append((min_parent, new_node))\n",
    "\n",
    "                for near in near_nodes:\n",
    "                    if not self._collision(new_pos, near.position, obstacles, is_3d):\n",
    "                        new_cost = new_node.cost + new_node.distance(near.position)\n",
    "                        if new_cost < near.cost:\n",
    "                            if near.parent:\n",
    "                                near.parent.children.remove(near)\n",
    "                            near.parent = new_node\n",
    "                            new_node.children.append(near)\n",
    "                            near.cost = new_cost\n",
    "                            edges.append((new_node, near))\n",
    "\n",
    "                if new_node.distance(goal_pos) <= self.step_size:\n",
    "                    if not self._collision(new_node.position, goal_pos, obstacles, is_3d):\n",
    "                        goal_node.parent = new_node\n",
    "                        goal_node.cost = new_node.cost + new_node.distance(goal_pos)\n",
    "                        new_node.children.append(goal_node)\n",
    "                        nodes.append(goal_node)\n",
    "                        edges.append((new_node, goal_node))\n",
    "                        success_state = True\n",
    "                        c_best = goal_node.cost\n",
    "                        extracted_path = self._extract_path(goal_node)\n",
    "\n",
    "        return PlannerResult(\n",
    "            success=success_state,\n",
    "            path=extracted_path,\n",
    "            nodes=nodes,\n",
    "            edges=edges\n",
    "        )\n",
    "\n",
    "    def _sample_uniform(self, bounds):\n",
    "        return tuple(random.uniform(0, b) for b in bounds)\n",
    "\n",
    "    def _sample_in_ellipse(self, start, goal, c_best, bounds):\n",
    "        c_min = math.dist(start, goal)\n",
    "        if c_min == 0:\n",
    "            return self._sample_uniform(bounds)\n",
    "\n",
    "        center = tuple((s + g) / 2 for s, g in zip(start, goal))\n",
    "        a = c_best / 2\n",
    "        b = math.sqrt(a**2 - (c_min / 2)**2)\n",
    "        while True:\n",
    "            x = random.uniform(-1, 1)\n",
    "            y = random.uniform(-1, 1)\n",
    "            if x**2 + y**2 <= 1:\n",
    "                break\n",
    "        sample = (\n",
    "            b * x + center[0],\n",
    "            a * y + center[1]\n",
    "        )\n",
    "        return self._clip_to_bounds(sample, bounds)\n",
    "\n",
    "    def _clip_to_bounds(self, sample, bounds):\n",
    "        return tuple(max(0, min(s, b)) for s, b in zip(sample, bounds))\n",
    "\n",
    "    def _nearest_node(self, nodes, point):\n",
    "        return min(nodes, key=lambda n: math.dist(n.position, point))\n",
    "\n",
    "    def _steer(self, from_pos, to_pos):\n",
    "        vec = tuple(t - f for f, t in zip(from_pos, to_pos))\n",
    "        dist = math.dist(from_pos, to_pos)\n",
    "        if dist <= self.step_size:\n",
    "            return to_pos\n",
    "        ratio = self.step_size / dist\n",
    "        return tuple(f + ratio * (t - f) for f, t in zip(from_pos, to_pos))\n",
    "\n",
    "    def _collision(self, from_pos, to_pos, obstacles, is_3d):\n",
    "        steps = int(math.dist(from_pos, to_pos) / 0.5)\n",
    "        if steps == 0:\n",
    "            steps = 1\n",
    "        for i in range(steps + 1):\n",
    "            inter = tuple(f + (t - f) * i / steps for f, t in zip(from_pos, to_pos))\n",
    "            if self._in_obstacle(inter, obstacles, is_3d):\n",
    "                return True\n",
    "        return False\n",
    "\n",
    "    def _in_obstacle(self, pos, obstacles, is_3d):\n",
    "        for obs in obstacles:\n",
    "            if is_3d:\n",
    "                x, y, z, w, h, d = obs\n",
    "                if x <= pos[0] <= x + w and y <= pos[1] <= y + h and z <= pos[2] <= z + d:\n",
    "                    return True\n",
    "            else:\n",
    "                x, y, w, h = obs\n",
    "                if x <= pos[0] <= x + w and y <= pos[1] <= y + h:\n",
    "                    return True\n",
    "        return False\n",
    "\n",
    "    def _find_near(self, nodes, new_node, radius):\n",
    "        return [node for node in nodes if node.distance(new_node.position) <= radius]\n",
    "\n",
    "    def _extract_path(self, goal_node):\n",
    "        path = []\n",
    "        current = goal_node\n",
    "        while current:\n",
    "            path.append(current.position)\n",
    "            current = current.parent\n",
    "        return path[::-1]\n",
    "    '''\n",
    "}\n",
    "\n",
    "# 저장\n",
    "with open(json_path, \"a\") as f:\n",
    "    json.dump(result, f, indent=4)"
   ]
  },
  {
   "cell_type": "code",
   "execution_count": 175,
   "id": "8ff23a4e",
   "metadata": {},
   "outputs": [
    {
     "name": "stdout",
     "output_type": "stream",
     "text": [
      "dict_keys(['algorithm', 'algorithm_description', 'planning_mechanism', 'code'])\n"
     ]
    }
   ],
   "source": [
    "with open(json_path, \"r\") as f:\n",
    "    result_data = json.load(f)\n",
    "\n",
    "print(result_data[0].keys())"
   ]
  },
  {
   "cell_type": "code",
   "execution_count": 24,
   "id": "b1015b34",
   "metadata": {},
   "outputs": [],
   "source": [
    "import_string = '''\n",
    "from typing import Tuple, Literal, Union, Optional, List, Dict, NamedTuple, Callable, Any, Set, TYPE_CHECKING, Type\n",
    "import time\n",
    "from queue import Queue\n",
    "import numpy as np\n",
    "import random\n",
    "import math\n",
    "import sys\n",
    "import os\n",
    "\n",
    "from eoh.problems.optimization.classic_benchmark_path_planning.utils.architecture_utils import PlannerResult, Map\n",
    "'''\n",
    "\n",
    "with warnings.catch_warnings():\n",
    "    warnings.simplefilter(\"ignore\")\n",
    "    planning_module = types.ModuleType(\"planning_module\")\n",
    "    exec(import_string+result_data[0]['code'], planning_module.__dict__)\n",
    "    sys.modules[planning_module.__name__] = planning_module"
   ]
  },
  {
   "cell_type": "code",
   "execution_count": 161,
   "id": "80c613a0",
   "metadata": {},
   "outputs": [],
   "source": [
    "p = Planner(max_iter=5000, step_size=10)\n",
    "# p = planning_module.Planner()"
   ]
  },
  {
   "cell_type": "code",
   "execution_count": 163,
   "id": "4cb021ba",
   "metadata": {},
   "outputs": [],
   "source": [
    "result = p.plan(map=multi_obs_map)"
   ]
  },
  {
   "cell_type": "code",
   "execution_count": 164,
   "id": "d502c93b",
   "metadata": {},
   "outputs": [],
   "source": [
    "result2 = p.plan(map=maze_map)"
   ]
  },
  {
   "cell_type": "code",
   "execution_count": 165,
   "id": "6f02af64",
   "metadata": {},
   "outputs": [],
   "source": [
    "result3 = p.plan(map=narrow_map)"
   ]
  },
  {
   "cell_type": "code",
   "execution_count": 166,
   "id": "b4c7cc33",
   "metadata": {},
   "outputs": [
    {
     "data": {
      "application/vnd.plotly.v1+json": {
       "config": {
        "plotlyServerURL": "https://plot.ly"
       },
       "data": [
        {
         "marker": {
          "color": "blue",
          "size": 4
         },
         "mode": "markers",
         "name": "nodes",
         "type": "scatter",
         "x": [
          1,
          5.483604636309052,
          13.342542578429905,
          12.06132072410596,
          18.179751826725344,
          18.693498351611744,
          27.976180094432088,
          36.683429254970065,
          99,
          91.75855254882373,
          84.51710509764746,
          77.27565764647119,
          80.24260164679147,
          72.79989593622975,
          68.94781065714218,
          65.06391711909589,
          63.58143296670109,
          53.88004787886233,
          44.17866279102357
         ],
         "y": [
          1,
          9.93852837245975,
          16.122143368713417,
          26.039727276097448,
          33.949518729890634,
          43.936313236045606,
          31.942034434640416,
          27.024330493133693,
          99,
          92.10351982444286,
          85.20703964888571,
          78.31055947332857,
          68.760834697244,
          62.08205249492808,
          52.853756931681474,
          43.63880327009846,
          33.749301728670886,
          31.323785829432186,
          28.89826993019349
         ]
        },
        {
         "line": {
          "color": "green"
         },
         "marker": {
          "size": 6
         },
         "mode": "lines+markers",
         "name": "Path",
         "type": "scatter",
         "x": [
          1,
          5.483604636309052,
          13.342542578429905,
          12.06132072410596,
          18.179751826725344,
          27.976180094432088,
          36.683429254970065,
          44.17866279102357,
          53.88004787886233,
          63.58143296670109,
          65.06391711909589,
          68.94781065714218,
          72.79989593622975,
          80.24260164679147,
          77.27565764647119,
          84.51710509764746,
          91.75855254882373,
          99
         ],
         "y": [
          1,
          9.93852837245975,
          16.122143368713417,
          26.039727276097448,
          33.949518729890634,
          31.942034434640416,
          27.024330493133693,
          28.89826993019349,
          31.323785829432186,
          33.749301728670886,
          43.63880327009846,
          52.853756931681474,
          62.08205249492808,
          68.760834697244,
          78.31055947332857,
          85.20703964888571,
          92.10351982444286,
          99
         ]
        },
        {
         "hoverinfo": "skip",
         "line": {
          "color": "lightblue",
          "width": 1
         },
         "mode": "lines",
         "showlegend": false,
         "type": "scatter",
         "x": [
          1,
          5.483604636309052
         ],
         "y": [
          1,
          9.93852837245975
         ]
        },
        {
         "hoverinfo": "skip",
         "line": {
          "color": "lightblue",
          "width": 1
         },
         "mode": "lines",
         "showlegend": false,
         "type": "scatter",
         "x": [
          5.483604636309052,
          13.342542578429905
         ],
         "y": [
          9.93852837245975,
          16.122143368713417
         ]
        },
        {
         "hoverinfo": "skip",
         "line": {
          "color": "lightblue",
          "width": 1
         },
         "mode": "lines",
         "showlegend": false,
         "type": "scatter",
         "x": [
          13.342542578429905,
          12.06132072410596
         ],
         "y": [
          16.122143368713417,
          26.039727276097448
         ]
        },
        {
         "hoverinfo": "skip",
         "line": {
          "color": "lightblue",
          "width": 1
         },
         "mode": "lines",
         "showlegend": false,
         "type": "scatter",
         "x": [
          12.06132072410596,
          18.179751826725344
         ],
         "y": [
          26.039727276097448,
          33.949518729890634
         ]
        },
        {
         "hoverinfo": "skip",
         "line": {
          "color": "lightblue",
          "width": 1
         },
         "mode": "lines",
         "showlegend": false,
         "type": "scatter",
         "x": [
          18.179751826725344,
          18.693498351611744
         ],
         "y": [
          33.949518729890634,
          43.936313236045606
         ]
        },
        {
         "hoverinfo": "skip",
         "line": {
          "color": "lightblue",
          "width": 1
         },
         "mode": "lines",
         "showlegend": false,
         "type": "scatter",
         "x": [
          18.179751826725344,
          27.976180094432088
         ],
         "y": [
          33.949518729890634,
          31.942034434640416
         ]
        },
        {
         "hoverinfo": "skip",
         "line": {
          "color": "lightblue",
          "width": 1
         },
         "mode": "lines",
         "showlegend": false,
         "type": "scatter",
         "x": [
          27.976180094432088,
          36.683429254970065
         ],
         "y": [
          31.942034434640416,
          27.024330493133693
         ]
        },
        {
         "hoverinfo": "skip",
         "line": {
          "color": "lightblue",
          "width": 1
         },
         "mode": "lines",
         "showlegend": false,
         "type": "scatter",
         "x": [
          99,
          91.75855254882373
         ],
         "y": [
          99,
          92.10351982444286
         ]
        },
        {
         "hoverinfo": "skip",
         "line": {
          "color": "lightblue",
          "width": 1
         },
         "mode": "lines",
         "showlegend": false,
         "type": "scatter",
         "x": [
          91.75855254882373,
          84.51710509764746
         ],
         "y": [
          92.10351982444286,
          85.20703964888571
         ]
        },
        {
         "hoverinfo": "skip",
         "line": {
          "color": "lightblue",
          "width": 1
         },
         "mode": "lines",
         "showlegend": false,
         "type": "scatter",
         "x": [
          84.51710509764746,
          77.27565764647119
         ],
         "y": [
          85.20703964888571,
          78.31055947332857
         ]
        },
        {
         "hoverinfo": "skip",
         "line": {
          "color": "lightblue",
          "width": 1
         },
         "mode": "lines",
         "showlegend": false,
         "type": "scatter",
         "x": [
          77.27565764647119,
          80.24260164679147
         ],
         "y": [
          78.31055947332857,
          68.760834697244
         ]
        },
        {
         "hoverinfo": "skip",
         "line": {
          "color": "lightblue",
          "width": 1
         },
         "mode": "lines",
         "showlegend": false,
         "type": "scatter",
         "x": [
          80.24260164679147,
          72.79989593622975
         ],
         "y": [
          68.760834697244,
          62.08205249492808
         ]
        },
        {
         "hoverinfo": "skip",
         "line": {
          "color": "lightblue",
          "width": 1
         },
         "mode": "lines",
         "showlegend": false,
         "type": "scatter",
         "x": [
          72.79989593622975,
          68.94781065714218
         ],
         "y": [
          62.08205249492808,
          52.853756931681474
         ]
        },
        {
         "hoverinfo": "skip",
         "line": {
          "color": "lightblue",
          "width": 1
         },
         "mode": "lines",
         "showlegend": false,
         "type": "scatter",
         "x": [
          68.94781065714218,
          65.06391711909589
         ],
         "y": [
          52.853756931681474,
          43.63880327009846
         ]
        },
        {
         "hoverinfo": "skip",
         "line": {
          "color": "lightblue",
          "width": 1
         },
         "mode": "lines",
         "showlegend": false,
         "type": "scatter",
         "x": [
          65.06391711909589,
          63.58143296670109
         ],
         "y": [
          43.63880327009846,
          33.749301728670886
         ]
        },
        {
         "hoverinfo": "skip",
         "line": {
          "color": "lightblue",
          "width": 1
         },
         "mode": "lines",
         "showlegend": false,
         "type": "scatter",
         "x": [
          63.58143296670109,
          53.88004787886233
         ],
         "y": [
          33.749301728670886,
          31.323785829432186
         ]
        },
        {
         "hoverinfo": "skip",
         "line": {
          "color": "lightblue",
          "width": 1
         },
         "mode": "lines",
         "showlegend": false,
         "type": "scatter",
         "x": [
          53.88004787886233,
          44.17866279102357
         ],
         "y": [
          31.323785829432186,
          28.89826993019349
         ]
        },
        {
         "marker": {
          "color": "red",
          "size": 10
         },
         "mode": "markers",
         "name": "Start",
         "type": "scatter",
         "x": [
          1
         ],
         "y": [
          1
         ]
        },
        {
         "marker": {
          "color": "orange",
          "size": 10
         },
         "mode": "markers",
         "name": "Goal",
         "type": "scatter",
         "x": [
          99
         ],
         "y": [
          99
         ]
        }
       ],
       "layout": {
        "height": 600,
        "shapes": [
         {
          "fillcolor": "purple",
          "line": {
           "width": 0
          },
          "opacity": 0.5,
          "type": "rect",
          "x0": 48,
          "x1": 57,
          "y0": 70,
          "y1": 79
         },
         {
          "fillcolor": "purple",
          "line": {
           "width": 0
          },
          "opacity": 0.5,
          "type": "rect",
          "x0": 47,
          "x1": 52,
          "y0": 50,
          "y1": 64
         },
         {
          "fillcolor": "purple",
          "line": {
           "width": 0
          },
          "opacity": 0.5,
          "type": "rect",
          "x0": 79,
          "x1": 84,
          "y0": 71,
          "y1": 82
         },
         {
          "fillcolor": "purple",
          "line": {
           "width": 0
          },
          "opacity": 0.5,
          "type": "rect",
          "x0": 35,
          "x1": 42,
          "y0": 29,
          "y1": 41
         },
         {
          "fillcolor": "purple",
          "line": {
           "width": 0
          },
          "opacity": 0.5,
          "type": "rect",
          "x0": 18,
          "x1": 28,
          "y0": 67,
          "y1": 80
         },
         {
          "fillcolor": "purple",
          "line": {
           "width": 0
          },
          "opacity": 0.5,
          "type": "rect",
          "x0": 66,
          "x1": 75,
          "y0": 75,
          "y1": 82
         },
         {
          "fillcolor": "purple",
          "line": {
           "width": 0
          },
          "opacity": 0.5,
          "type": "rect",
          "x0": 68,
          "x1": 81,
          "y0": 83,
          "y1": 89
         },
         {
          "fillcolor": "purple",
          "line": {
           "width": 0
          },
          "opacity": 0.5,
          "type": "rect",
          "x0": 55,
          "x1": 67,
          "y0": 54,
          "y1": 60
         },
         {
          "fillcolor": "purple",
          "line": {
           "width": 0
          },
          "opacity": 0.5,
          "type": "rect",
          "x0": 49,
          "x1": 64,
          "y0": 22,
          "y1": 30
         },
         {
          "fillcolor": "purple",
          "line": {
           "width": 0
          },
          "opacity": 0.5,
          "type": "rect",
          "x0": 32,
          "x1": 47,
          "y0": 76,
          "y1": 86
         },
         {
          "fillcolor": "purple",
          "line": {
           "width": 0
          },
          "opacity": 0.5,
          "type": "rect",
          "x0": 41,
          "x1": 56,
          "y0": 0,
          "y1": 11
         },
         {
          "fillcolor": "purple",
          "line": {
           "width": 0
          },
          "opacity": 0.5,
          "type": "rect",
          "x0": 51,
          "x1": 63,
          "y0": 42,
          "y1": 47
         },
         {
          "fillcolor": "purple",
          "line": {
           "width": 0
          },
          "opacity": 0.5,
          "type": "rect",
          "x0": 14,
          "x1": 23,
          "y0": 46,
          "y1": 60
         },
         {
          "fillcolor": "purple",
          "line": {
           "width": 0
          },
          "opacity": 0.5,
          "type": "rect",
          "x0": 84,
          "x1": 91,
          "y0": 12,
          "y1": 24
         },
         {
          "fillcolor": "purple",
          "line": {
           "width": 0
          },
          "opacity": 0.5,
          "type": "rect",
          "x0": 20,
          "x1": 29,
          "y0": 17,
          "y1": 31
         },
         {
          "fillcolor": "purple",
          "line": {
           "width": 0
          },
          "opacity": 0.5,
          "type": "rect",
          "x0": 3,
          "x1": 12,
          "y0": 18,
          "y1": 32
         },
         {
          "fillcolor": "purple",
          "line": {
           "width": 0
          },
          "opacity": 0.5,
          "type": "rect",
          "x0": 9,
          "x1": 18,
          "y0": 66,
          "y1": 75
         },
         {
          "fillcolor": "purple",
          "line": {
           "width": 0
          },
          "opacity": 0.5,
          "type": "rect",
          "x0": 73,
          "x1": 80,
          "y0": 7,
          "y1": 14
         },
         {
          "fillcolor": "purple",
          "line": {
           "width": 0
          },
          "opacity": 0.5,
          "type": "rect",
          "x0": 32,
          "x1": 47,
          "y0": 11,
          "y1": 25
         },
         {
          "fillcolor": "purple",
          "line": {
           "width": 0
          },
          "opacity": 0.5,
          "type": "rect",
          "x0": 83,
          "x1": 94,
          "y0": 55,
          "y1": 68
         },
         {
          "fillcolor": "purple",
          "line": {
           "width": 0
          },
          "opacity": 0.5,
          "type": "rect",
          "x0": 30,
          "x1": 42,
          "y0": 51,
          "y1": 64
         },
         {
          "fillcolor": "purple",
          "line": {
           "width": 0
          },
          "opacity": 0.5,
          "type": "rect",
          "x0": 50,
          "x1": 62,
          "y0": 34,
          "y1": 42
         },
         {
          "fillcolor": "purple",
          "line": {
           "width": 0
          },
          "opacity": 0.5,
          "type": "rect",
          "x0": 34,
          "x1": 41,
          "y0": 69,
          "y1": 76
         },
         {
          "fillcolor": "purple",
          "line": {
           "width": 0
          },
          "opacity": 0.5,
          "type": "rect",
          "x0": 4,
          "x1": 16,
          "y0": 87,
          "y1": 96
         },
         {
          "fillcolor": "purple",
          "line": {
           "width": 0
          },
          "opacity": 0.5,
          "type": "rect",
          "x0": 78,
          "x1": 83,
          "y0": 23,
          "y1": 30
         },
         {
          "fillcolor": "purple",
          "line": {
           "width": 0
          },
          "opacity": 0.5,
          "type": "rect",
          "x0": 72,
          "x1": 79,
          "y0": 51,
          "y1": 60
         },
         {
          "fillcolor": "purple",
          "line": {
           "width": 0
          },
          "opacity": 0.5,
          "type": "rect",
          "x0": 48,
          "x1": 58,
          "y0": 16,
          "y1": 22
         },
         {
          "fillcolor": "purple",
          "line": {
           "width": 0
          },
          "opacity": 0.5,
          "type": "rect",
          "x0": 75,
          "x1": 88,
          "y0": 94,
          "y1": 99
         },
         {
          "fillcolor": "purple",
          "line": {
           "width": 0
          },
          "opacity": 0.5,
          "type": "rect",
          "x0": 62,
          "x1": 68,
          "y0": 82,
          "y1": 96
         },
         {
          "fillcolor": "purple",
          "line": {
           "width": 0
          },
          "opacity": 0.5,
          "type": "rect",
          "x0": 57,
          "x1": 62,
          "y0": 67,
          "y1": 78
         },
         {
          "fillcolor": "purple",
          "line": {
           "width": 0
          },
          "opacity": 0.5,
          "type": "rect",
          "x0": 2,
          "x1": 11,
          "y0": 33,
          "y1": 43
         },
         {
          "fillcolor": "purple",
          "line": {
           "width": 0
          },
          "opacity": 0.5,
          "type": "rect",
          "x0": 67,
          "x1": 76,
          "y0": 0,
          "y1": 7
         },
         {
          "fillcolor": "purple",
          "line": {
           "width": 0
          },
          "opacity": 0.5,
          "type": "rect",
          "x0": 28,
          "x1": 39,
          "y0": 42,
          "y1": 50
         },
         {
          "fillcolor": "purple",
          "line": {
           "width": 0
          },
          "opacity": 0.5,
          "type": "rect",
          "x0": 66,
          "x1": 71,
          "y0": 60,
          "y1": 72
         },
         {
          "fillcolor": "purple",
          "line": {
           "width": 0
          },
          "opacity": 0.5,
          "type": "rect",
          "x0": 7,
          "x1": 13,
          "y0": 52,
          "y1": 66
         },
         {
          "fillcolor": "rgba(0,0,0,0)",
          "layer": "above",
          "line": {
           "color": "white",
           "width": 3
          },
          "type": "rect",
          "x0": 0,
          "x1": 100,
          "y0": 0,
          "y1": 100
         }
        ],
        "template": {
         "data": {
          "bar": [
           {
            "error_x": {
             "color": "#2a3f5f"
            },
            "error_y": {
             "color": "#2a3f5f"
            },
            "marker": {
             "line": {
              "color": "#E5ECF6",
              "width": 0.5
             },
             "pattern": {
              "fillmode": "overlay",
              "size": 10,
              "solidity": 0.2
             }
            },
            "type": "bar"
           }
          ],
          "barpolar": [
           {
            "marker": {
             "line": {
              "color": "#E5ECF6",
              "width": 0.5
             },
             "pattern": {
              "fillmode": "overlay",
              "size": 10,
              "solidity": 0.2
             }
            },
            "type": "barpolar"
           }
          ],
          "carpet": [
           {
            "aaxis": {
             "endlinecolor": "#2a3f5f",
             "gridcolor": "white",
             "linecolor": "white",
             "minorgridcolor": "white",
             "startlinecolor": "#2a3f5f"
            },
            "baxis": {
             "endlinecolor": "#2a3f5f",
             "gridcolor": "white",
             "linecolor": "white",
             "minorgridcolor": "white",
             "startlinecolor": "#2a3f5f"
            },
            "type": "carpet"
           }
          ],
          "choropleth": [
           {
            "colorbar": {
             "outlinewidth": 0,
             "ticks": ""
            },
            "type": "choropleth"
           }
          ],
          "contour": [
           {
            "colorbar": {
             "outlinewidth": 0,
             "ticks": ""
            },
            "colorscale": [
             [
              0,
              "#0d0887"
             ],
             [
              0.1111111111111111,
              "#46039f"
             ],
             [
              0.2222222222222222,
              "#7201a8"
             ],
             [
              0.3333333333333333,
              "#9c179e"
             ],
             [
              0.4444444444444444,
              "#bd3786"
             ],
             [
              0.5555555555555556,
              "#d8576b"
             ],
             [
              0.6666666666666666,
              "#ed7953"
             ],
             [
              0.7777777777777778,
              "#fb9f3a"
             ],
             [
              0.8888888888888888,
              "#fdca26"
             ],
             [
              1,
              "#f0f921"
             ]
            ],
            "type": "contour"
           }
          ],
          "contourcarpet": [
           {
            "colorbar": {
             "outlinewidth": 0,
             "ticks": ""
            },
            "type": "contourcarpet"
           }
          ],
          "heatmap": [
           {
            "colorbar": {
             "outlinewidth": 0,
             "ticks": ""
            },
            "colorscale": [
             [
              0,
              "#0d0887"
             ],
             [
              0.1111111111111111,
              "#46039f"
             ],
             [
              0.2222222222222222,
              "#7201a8"
             ],
             [
              0.3333333333333333,
              "#9c179e"
             ],
             [
              0.4444444444444444,
              "#bd3786"
             ],
             [
              0.5555555555555556,
              "#d8576b"
             ],
             [
              0.6666666666666666,
              "#ed7953"
             ],
             [
              0.7777777777777778,
              "#fb9f3a"
             ],
             [
              0.8888888888888888,
              "#fdca26"
             ],
             [
              1,
              "#f0f921"
             ]
            ],
            "type": "heatmap"
           }
          ],
          "histogram": [
           {
            "marker": {
             "pattern": {
              "fillmode": "overlay",
              "size": 10,
              "solidity": 0.2
             }
            },
            "type": "histogram"
           }
          ],
          "histogram2d": [
           {
            "colorbar": {
             "outlinewidth": 0,
             "ticks": ""
            },
            "colorscale": [
             [
              0,
              "#0d0887"
             ],
             [
              0.1111111111111111,
              "#46039f"
             ],
             [
              0.2222222222222222,
              "#7201a8"
             ],
             [
              0.3333333333333333,
              "#9c179e"
             ],
             [
              0.4444444444444444,
              "#bd3786"
             ],
             [
              0.5555555555555556,
              "#d8576b"
             ],
             [
              0.6666666666666666,
              "#ed7953"
             ],
             [
              0.7777777777777778,
              "#fb9f3a"
             ],
             [
              0.8888888888888888,
              "#fdca26"
             ],
             [
              1,
              "#f0f921"
             ]
            ],
            "type": "histogram2d"
           }
          ],
          "histogram2dcontour": [
           {
            "colorbar": {
             "outlinewidth": 0,
             "ticks": ""
            },
            "colorscale": [
             [
              0,
              "#0d0887"
             ],
             [
              0.1111111111111111,
              "#46039f"
             ],
             [
              0.2222222222222222,
              "#7201a8"
             ],
             [
              0.3333333333333333,
              "#9c179e"
             ],
             [
              0.4444444444444444,
              "#bd3786"
             ],
             [
              0.5555555555555556,
              "#d8576b"
             ],
             [
              0.6666666666666666,
              "#ed7953"
             ],
             [
              0.7777777777777778,
              "#fb9f3a"
             ],
             [
              0.8888888888888888,
              "#fdca26"
             ],
             [
              1,
              "#f0f921"
             ]
            ],
            "type": "histogram2dcontour"
           }
          ],
          "mesh3d": [
           {
            "colorbar": {
             "outlinewidth": 0,
             "ticks": ""
            },
            "type": "mesh3d"
           }
          ],
          "parcoords": [
           {
            "line": {
             "colorbar": {
              "outlinewidth": 0,
              "ticks": ""
             }
            },
            "type": "parcoords"
           }
          ],
          "pie": [
           {
            "automargin": true,
            "type": "pie"
           }
          ],
          "scatter": [
           {
            "fillpattern": {
             "fillmode": "overlay",
             "size": 10,
             "solidity": 0.2
            },
            "type": "scatter"
           }
          ],
          "scatter3d": [
           {
            "line": {
             "colorbar": {
              "outlinewidth": 0,
              "ticks": ""
             }
            },
            "marker": {
             "colorbar": {
              "outlinewidth": 0,
              "ticks": ""
             }
            },
            "type": "scatter3d"
           }
          ],
          "scattercarpet": [
           {
            "marker": {
             "colorbar": {
              "outlinewidth": 0,
              "ticks": ""
             }
            },
            "type": "scattercarpet"
           }
          ],
          "scattergeo": [
           {
            "marker": {
             "colorbar": {
              "outlinewidth": 0,
              "ticks": ""
             }
            },
            "type": "scattergeo"
           }
          ],
          "scattergl": [
           {
            "marker": {
             "colorbar": {
              "outlinewidth": 0,
              "ticks": ""
             }
            },
            "type": "scattergl"
           }
          ],
          "scattermap": [
           {
            "marker": {
             "colorbar": {
              "outlinewidth": 0,
              "ticks": ""
             }
            },
            "type": "scattermap"
           }
          ],
          "scattermapbox": [
           {
            "marker": {
             "colorbar": {
              "outlinewidth": 0,
              "ticks": ""
             }
            },
            "type": "scattermapbox"
           }
          ],
          "scatterpolar": [
           {
            "marker": {
             "colorbar": {
              "outlinewidth": 0,
              "ticks": ""
             }
            },
            "type": "scatterpolar"
           }
          ],
          "scatterpolargl": [
           {
            "marker": {
             "colorbar": {
              "outlinewidth": 0,
              "ticks": ""
             }
            },
            "type": "scatterpolargl"
           }
          ],
          "scatterternary": [
           {
            "marker": {
             "colorbar": {
              "outlinewidth": 0,
              "ticks": ""
             }
            },
            "type": "scatterternary"
           }
          ],
          "surface": [
           {
            "colorbar": {
             "outlinewidth": 0,
             "ticks": ""
            },
            "colorscale": [
             [
              0,
              "#0d0887"
             ],
             [
              0.1111111111111111,
              "#46039f"
             ],
             [
              0.2222222222222222,
              "#7201a8"
             ],
             [
              0.3333333333333333,
              "#9c179e"
             ],
             [
              0.4444444444444444,
              "#bd3786"
             ],
             [
              0.5555555555555556,
              "#d8576b"
             ],
             [
              0.6666666666666666,
              "#ed7953"
             ],
             [
              0.7777777777777778,
              "#fb9f3a"
             ],
             [
              0.8888888888888888,
              "#fdca26"
             ],
             [
              1,
              "#f0f921"
             ]
            ],
            "type": "surface"
           }
          ],
          "table": [
           {
            "cells": {
             "fill": {
              "color": "#EBF0F8"
             },
             "line": {
              "color": "white"
             }
            },
            "header": {
             "fill": {
              "color": "#C8D4E3"
             },
             "line": {
              "color": "white"
             }
            },
            "type": "table"
           }
          ]
         },
         "layout": {
          "annotationdefaults": {
           "arrowcolor": "#2a3f5f",
           "arrowhead": 0,
           "arrowwidth": 1
          },
          "autotypenumbers": "strict",
          "coloraxis": {
           "colorbar": {
            "outlinewidth": 0,
            "ticks": ""
           }
          },
          "colorscale": {
           "diverging": [
            [
             0,
             "#8e0152"
            ],
            [
             0.1,
             "#c51b7d"
            ],
            [
             0.2,
             "#de77ae"
            ],
            [
             0.3,
             "#f1b6da"
            ],
            [
             0.4,
             "#fde0ef"
            ],
            [
             0.5,
             "#f7f7f7"
            ],
            [
             0.6,
             "#e6f5d0"
            ],
            [
             0.7,
             "#b8e186"
            ],
            [
             0.8,
             "#7fbc41"
            ],
            [
             0.9,
             "#4d9221"
            ],
            [
             1,
             "#276419"
            ]
           ],
           "sequential": [
            [
             0,
             "#0d0887"
            ],
            [
             0.1111111111111111,
             "#46039f"
            ],
            [
             0.2222222222222222,
             "#7201a8"
            ],
            [
             0.3333333333333333,
             "#9c179e"
            ],
            [
             0.4444444444444444,
             "#bd3786"
            ],
            [
             0.5555555555555556,
             "#d8576b"
            ],
            [
             0.6666666666666666,
             "#ed7953"
            ],
            [
             0.7777777777777778,
             "#fb9f3a"
            ],
            [
             0.8888888888888888,
             "#fdca26"
            ],
            [
             1,
             "#f0f921"
            ]
           ],
           "sequentialminus": [
            [
             0,
             "#0d0887"
            ],
            [
             0.1111111111111111,
             "#46039f"
            ],
            [
             0.2222222222222222,
             "#7201a8"
            ],
            [
             0.3333333333333333,
             "#9c179e"
            ],
            [
             0.4444444444444444,
             "#bd3786"
            ],
            [
             0.5555555555555556,
             "#d8576b"
            ],
            [
             0.6666666666666666,
             "#ed7953"
            ],
            [
             0.7777777777777778,
             "#fb9f3a"
            ],
            [
             0.8888888888888888,
             "#fdca26"
            ],
            [
             1,
             "#f0f921"
            ]
           ]
          },
          "colorway": [
           "#636efa",
           "#EF553B",
           "#00cc96",
           "#ab63fa",
           "#FFA15A",
           "#19d3f3",
           "#FF6692",
           "#B6E880",
           "#FF97FF",
           "#FECB52"
          ],
          "font": {
           "color": "#2a3f5f"
          },
          "geo": {
           "bgcolor": "white",
           "lakecolor": "white",
           "landcolor": "#E5ECF6",
           "showlakes": true,
           "showland": true,
           "subunitcolor": "white"
          },
          "hoverlabel": {
           "align": "left"
          },
          "hovermode": "closest",
          "mapbox": {
           "style": "light"
          },
          "paper_bgcolor": "white",
          "plot_bgcolor": "#E5ECF6",
          "polar": {
           "angularaxis": {
            "gridcolor": "white",
            "linecolor": "white",
            "ticks": ""
           },
           "bgcolor": "#E5ECF6",
           "radialaxis": {
            "gridcolor": "white",
            "linecolor": "white",
            "ticks": ""
           }
          },
          "scene": {
           "xaxis": {
            "backgroundcolor": "#E5ECF6",
            "gridcolor": "white",
            "gridwidth": 2,
            "linecolor": "white",
            "showbackground": true,
            "ticks": "",
            "zerolinecolor": "white"
           },
           "yaxis": {
            "backgroundcolor": "#E5ECF6",
            "gridcolor": "white",
            "gridwidth": 2,
            "linecolor": "white",
            "showbackground": true,
            "ticks": "",
            "zerolinecolor": "white"
           },
           "zaxis": {
            "backgroundcolor": "#E5ECF6",
            "gridcolor": "white",
            "gridwidth": 2,
            "linecolor": "white",
            "showbackground": true,
            "ticks": "",
            "zerolinecolor": "white"
           }
          },
          "shapedefaults": {
           "line": {
            "color": "#2a3f5f"
           }
          },
          "ternary": {
           "aaxis": {
            "gridcolor": "white",
            "linecolor": "white",
            "ticks": ""
           },
           "baxis": {
            "gridcolor": "white",
            "linecolor": "white",
            "ticks": ""
           },
           "bgcolor": "#E5ECF6",
           "caxis": {
            "gridcolor": "white",
            "linecolor": "white",
            "ticks": ""
           }
          },
          "title": {
           "x": 0.05
          },
          "xaxis": {
           "automargin": true,
           "gridcolor": "white",
           "linecolor": "white",
           "ticks": "",
           "title": {
            "standoff": 15
           },
           "zerolinecolor": "white",
           "zerolinewidth": 2
          },
          "yaxis": {
           "automargin": true,
           "gridcolor": "white",
           "linecolor": "white",
           "ticks": "",
           "title": {
            "standoff": 15
           },
           "zerolinecolor": "white",
           "zerolinewidth": 2
          }
         }
        },
        "title": {
         "text": "Map Visualization"
        },
        "width": 600,
        "xaxis": {
         "scaleanchor": "y",
         "showgrid": false
        },
        "yaxis": {
         "showgrid": false
        }
       }
      }
     },
     "metadata": {},
     "output_type": "display_data"
    }
   ],
   "source": [
    "visualize_map_shapes(multi_obs_map.grid, obs=multi_obs_map.obstacles, start=multi_obs_map.start, goal=multi_obs_map.goal,\n",
    "                      path=result.path, nodes=list(map(lambda x: x.position, result.nodes)), edges=result.edges)"
   ]
  },
  {
   "cell_type": "code",
   "execution_count": 167,
   "id": "5fc2faa6",
   "metadata": {},
   "outputs": [
    {
     "data": {
      "application/vnd.plotly.v1+json": {
       "config": {
        "plotlyServerURL": "https://plot.ly"
       },
       "data": [
        {
         "marker": {
          "color": "blue",
          "size": 4
         },
         "mode": "markers",
         "name": "nodes",
         "type": "scatter",
         "x": [
          29,
          23.1482631939906,
          90,
          82.66190975258922,
          75.32381950517845,
          67.98572925776767,
          60.64763901035689,
          53.30954876294611,
          45.971458515535325,
          38.63336826812454,
          31.29527802071376,
          23.957187773302977
         ],
         "y": [
          10,
          18.109079870934487,
          80,
          73.20644191009933,
          66.41288382019866,
          59.619325730297994,
          52.82576764039733,
          46.03220955049667,
          39.238651460596,
          32.44509337069534,
          25.651535280794675,
          18.85797719089401
         ]
        },
        {
         "line": {
          "color": "green"
         },
         "marker": {
          "size": 6
         },
         "mode": "lines+markers",
         "name": "Path",
         "type": "scatter",
         "x": [
          29,
          23.1482631939906,
          23.957187773302977,
          31.29527802071376,
          38.63336826812454,
          45.971458515535325,
          53.30954876294611,
          60.64763901035689,
          67.98572925776767,
          75.32381950517845,
          82.66190975258922,
          90
         ],
         "y": [
          10,
          18.109079870934487,
          18.85797719089401,
          25.651535280794675,
          32.44509337069534,
          39.238651460596,
          46.03220955049667,
          52.82576764039733,
          59.619325730297994,
          66.41288382019866,
          73.20644191009933,
          80
         ]
        },
        {
         "hoverinfo": "skip",
         "line": {
          "color": "lightblue",
          "width": 1
         },
         "mode": "lines",
         "showlegend": false,
         "type": "scatter",
         "x": [
          29,
          23.1482631939906
         ],
         "y": [
          10,
          18.109079870934487
         ]
        },
        {
         "hoverinfo": "skip",
         "line": {
          "color": "lightblue",
          "width": 1
         },
         "mode": "lines",
         "showlegend": false,
         "type": "scatter",
         "x": [
          90,
          82.66190975258922
         ],
         "y": [
          80,
          73.20644191009933
         ]
        },
        {
         "hoverinfo": "skip",
         "line": {
          "color": "lightblue",
          "width": 1
         },
         "mode": "lines",
         "showlegend": false,
         "type": "scatter",
         "x": [
          82.66190975258922,
          75.32381950517845
         ],
         "y": [
          73.20644191009933,
          66.41288382019866
         ]
        },
        {
         "hoverinfo": "skip",
         "line": {
          "color": "lightblue",
          "width": 1
         },
         "mode": "lines",
         "showlegend": false,
         "type": "scatter",
         "x": [
          75.32381950517845,
          67.98572925776767
         ],
         "y": [
          66.41288382019866,
          59.619325730297994
         ]
        },
        {
         "hoverinfo": "skip",
         "line": {
          "color": "lightblue",
          "width": 1
         },
         "mode": "lines",
         "showlegend": false,
         "type": "scatter",
         "x": [
          67.98572925776767,
          60.64763901035689
         ],
         "y": [
          59.619325730297994,
          52.82576764039733
         ]
        },
        {
         "hoverinfo": "skip",
         "line": {
          "color": "lightblue",
          "width": 1
         },
         "mode": "lines",
         "showlegend": false,
         "type": "scatter",
         "x": [
          60.64763901035689,
          53.30954876294611
         ],
         "y": [
          52.82576764039733,
          46.03220955049667
         ]
        },
        {
         "hoverinfo": "skip",
         "line": {
          "color": "lightblue",
          "width": 1
         },
         "mode": "lines",
         "showlegend": false,
         "type": "scatter",
         "x": [
          53.30954876294611,
          45.971458515535325
         ],
         "y": [
          46.03220955049667,
          39.238651460596
         ]
        },
        {
         "hoverinfo": "skip",
         "line": {
          "color": "lightblue",
          "width": 1
         },
         "mode": "lines",
         "showlegend": false,
         "type": "scatter",
         "x": [
          45.971458515535325,
          38.63336826812454
         ],
         "y": [
          39.238651460596,
          32.44509337069534
         ]
        },
        {
         "hoverinfo": "skip",
         "line": {
          "color": "lightblue",
          "width": 1
         },
         "mode": "lines",
         "showlegend": false,
         "type": "scatter",
         "x": [
          38.63336826812454,
          31.29527802071376
         ],
         "y": [
          32.44509337069534,
          25.651535280794675
         ]
        },
        {
         "hoverinfo": "skip",
         "line": {
          "color": "lightblue",
          "width": 1
         },
         "mode": "lines",
         "showlegend": false,
         "type": "scatter",
         "x": [
          31.29527802071376,
          23.957187773302977
         ],
         "y": [
          25.651535280794675,
          18.85797719089401
         ]
        },
        {
         "marker": {
          "color": "red",
          "size": 10
         },
         "mode": "markers",
         "name": "Start",
         "type": "scatter",
         "x": [
          29
         ],
         "y": [
          10
         ]
        },
        {
         "marker": {
          "color": "orange",
          "size": 10
         },
         "mode": "markers",
         "name": "Goal",
         "type": "scatter",
         "x": [
          90
         ],
         "y": [
          80
         ]
        }
       ],
       "layout": {
        "height": 600,
        "shapes": [
         {
          "fillcolor": "purple",
          "line": {
           "width": 0
          },
          "opacity": 0.5,
          "type": "rect",
          "x0": 27,
          "x1": 30,
          "y0": 20,
          "y1": 80
         },
         {
          "fillcolor": "purple",
          "line": {
           "width": 0
          },
          "opacity": 0.5,
          "type": "rect",
          "x0": 47,
          "x1": 50,
          "y0": 0,
          "y1": 50
         },
         {
          "fillcolor": "purple",
          "line": {
           "width": 0
          },
          "opacity": 0.5,
          "type": "rect",
          "x0": 77,
          "x1": 80,
          "y0": 20,
          "y1": 100
         },
         {
          "fillcolor": "purple",
          "line": {
           "width": 0
          },
          "opacity": 0.5,
          "type": "rect",
          "x0": 30,
          "x1": 47,
          "y0": 47,
          "y1": 50
         },
         {
          "fillcolor": "purple",
          "line": {
           "width": 0
          },
          "opacity": 0.5,
          "type": "rect",
          "x0": 50,
          "x1": 77,
          "y0": 72,
          "y1": 75
         },
         {
          "fillcolor": "rgba(0,0,0,0)",
          "layer": "above",
          "line": {
           "color": "white",
           "width": 3
          },
          "type": "rect",
          "x0": 0,
          "x1": 100,
          "y0": 0,
          "y1": 100
         }
        ],
        "template": {
         "data": {
          "bar": [
           {
            "error_x": {
             "color": "#2a3f5f"
            },
            "error_y": {
             "color": "#2a3f5f"
            },
            "marker": {
             "line": {
              "color": "#E5ECF6",
              "width": 0.5
             },
             "pattern": {
              "fillmode": "overlay",
              "size": 10,
              "solidity": 0.2
             }
            },
            "type": "bar"
           }
          ],
          "barpolar": [
           {
            "marker": {
             "line": {
              "color": "#E5ECF6",
              "width": 0.5
             },
             "pattern": {
              "fillmode": "overlay",
              "size": 10,
              "solidity": 0.2
             }
            },
            "type": "barpolar"
           }
          ],
          "carpet": [
           {
            "aaxis": {
             "endlinecolor": "#2a3f5f",
             "gridcolor": "white",
             "linecolor": "white",
             "minorgridcolor": "white",
             "startlinecolor": "#2a3f5f"
            },
            "baxis": {
             "endlinecolor": "#2a3f5f",
             "gridcolor": "white",
             "linecolor": "white",
             "minorgridcolor": "white",
             "startlinecolor": "#2a3f5f"
            },
            "type": "carpet"
           }
          ],
          "choropleth": [
           {
            "colorbar": {
             "outlinewidth": 0,
             "ticks": ""
            },
            "type": "choropleth"
           }
          ],
          "contour": [
           {
            "colorbar": {
             "outlinewidth": 0,
             "ticks": ""
            },
            "colorscale": [
             [
              0,
              "#0d0887"
             ],
             [
              0.1111111111111111,
              "#46039f"
             ],
             [
              0.2222222222222222,
              "#7201a8"
             ],
             [
              0.3333333333333333,
              "#9c179e"
             ],
             [
              0.4444444444444444,
              "#bd3786"
             ],
             [
              0.5555555555555556,
              "#d8576b"
             ],
             [
              0.6666666666666666,
              "#ed7953"
             ],
             [
              0.7777777777777778,
              "#fb9f3a"
             ],
             [
              0.8888888888888888,
              "#fdca26"
             ],
             [
              1,
              "#f0f921"
             ]
            ],
            "type": "contour"
           }
          ],
          "contourcarpet": [
           {
            "colorbar": {
             "outlinewidth": 0,
             "ticks": ""
            },
            "type": "contourcarpet"
           }
          ],
          "heatmap": [
           {
            "colorbar": {
             "outlinewidth": 0,
             "ticks": ""
            },
            "colorscale": [
             [
              0,
              "#0d0887"
             ],
             [
              0.1111111111111111,
              "#46039f"
             ],
             [
              0.2222222222222222,
              "#7201a8"
             ],
             [
              0.3333333333333333,
              "#9c179e"
             ],
             [
              0.4444444444444444,
              "#bd3786"
             ],
             [
              0.5555555555555556,
              "#d8576b"
             ],
             [
              0.6666666666666666,
              "#ed7953"
             ],
             [
              0.7777777777777778,
              "#fb9f3a"
             ],
             [
              0.8888888888888888,
              "#fdca26"
             ],
             [
              1,
              "#f0f921"
             ]
            ],
            "type": "heatmap"
           }
          ],
          "histogram": [
           {
            "marker": {
             "pattern": {
              "fillmode": "overlay",
              "size": 10,
              "solidity": 0.2
             }
            },
            "type": "histogram"
           }
          ],
          "histogram2d": [
           {
            "colorbar": {
             "outlinewidth": 0,
             "ticks": ""
            },
            "colorscale": [
             [
              0,
              "#0d0887"
             ],
             [
              0.1111111111111111,
              "#46039f"
             ],
             [
              0.2222222222222222,
              "#7201a8"
             ],
             [
              0.3333333333333333,
              "#9c179e"
             ],
             [
              0.4444444444444444,
              "#bd3786"
             ],
             [
              0.5555555555555556,
              "#d8576b"
             ],
             [
              0.6666666666666666,
              "#ed7953"
             ],
             [
              0.7777777777777778,
              "#fb9f3a"
             ],
             [
              0.8888888888888888,
              "#fdca26"
             ],
             [
              1,
              "#f0f921"
             ]
            ],
            "type": "histogram2d"
           }
          ],
          "histogram2dcontour": [
           {
            "colorbar": {
             "outlinewidth": 0,
             "ticks": ""
            },
            "colorscale": [
             [
              0,
              "#0d0887"
             ],
             [
              0.1111111111111111,
              "#46039f"
             ],
             [
              0.2222222222222222,
              "#7201a8"
             ],
             [
              0.3333333333333333,
              "#9c179e"
             ],
             [
              0.4444444444444444,
              "#bd3786"
             ],
             [
              0.5555555555555556,
              "#d8576b"
             ],
             [
              0.6666666666666666,
              "#ed7953"
             ],
             [
              0.7777777777777778,
              "#fb9f3a"
             ],
             [
              0.8888888888888888,
              "#fdca26"
             ],
             [
              1,
              "#f0f921"
             ]
            ],
            "type": "histogram2dcontour"
           }
          ],
          "mesh3d": [
           {
            "colorbar": {
             "outlinewidth": 0,
             "ticks": ""
            },
            "type": "mesh3d"
           }
          ],
          "parcoords": [
           {
            "line": {
             "colorbar": {
              "outlinewidth": 0,
              "ticks": ""
             }
            },
            "type": "parcoords"
           }
          ],
          "pie": [
           {
            "automargin": true,
            "type": "pie"
           }
          ],
          "scatter": [
           {
            "fillpattern": {
             "fillmode": "overlay",
             "size": 10,
             "solidity": 0.2
            },
            "type": "scatter"
           }
          ],
          "scatter3d": [
           {
            "line": {
             "colorbar": {
              "outlinewidth": 0,
              "ticks": ""
             }
            },
            "marker": {
             "colorbar": {
              "outlinewidth": 0,
              "ticks": ""
             }
            },
            "type": "scatter3d"
           }
          ],
          "scattercarpet": [
           {
            "marker": {
             "colorbar": {
              "outlinewidth": 0,
              "ticks": ""
             }
            },
            "type": "scattercarpet"
           }
          ],
          "scattergeo": [
           {
            "marker": {
             "colorbar": {
              "outlinewidth": 0,
              "ticks": ""
             }
            },
            "type": "scattergeo"
           }
          ],
          "scattergl": [
           {
            "marker": {
             "colorbar": {
              "outlinewidth": 0,
              "ticks": ""
             }
            },
            "type": "scattergl"
           }
          ],
          "scattermap": [
           {
            "marker": {
             "colorbar": {
              "outlinewidth": 0,
              "ticks": ""
             }
            },
            "type": "scattermap"
           }
          ],
          "scattermapbox": [
           {
            "marker": {
             "colorbar": {
              "outlinewidth": 0,
              "ticks": ""
             }
            },
            "type": "scattermapbox"
           }
          ],
          "scatterpolar": [
           {
            "marker": {
             "colorbar": {
              "outlinewidth": 0,
              "ticks": ""
             }
            },
            "type": "scatterpolar"
           }
          ],
          "scatterpolargl": [
           {
            "marker": {
             "colorbar": {
              "outlinewidth": 0,
              "ticks": ""
             }
            },
            "type": "scatterpolargl"
           }
          ],
          "scatterternary": [
           {
            "marker": {
             "colorbar": {
              "outlinewidth": 0,
              "ticks": ""
             }
            },
            "type": "scatterternary"
           }
          ],
          "surface": [
           {
            "colorbar": {
             "outlinewidth": 0,
             "ticks": ""
            },
            "colorscale": [
             [
              0,
              "#0d0887"
             ],
             [
              0.1111111111111111,
              "#46039f"
             ],
             [
              0.2222222222222222,
              "#7201a8"
             ],
             [
              0.3333333333333333,
              "#9c179e"
             ],
             [
              0.4444444444444444,
              "#bd3786"
             ],
             [
              0.5555555555555556,
              "#d8576b"
             ],
             [
              0.6666666666666666,
              "#ed7953"
             ],
             [
              0.7777777777777778,
              "#fb9f3a"
             ],
             [
              0.8888888888888888,
              "#fdca26"
             ],
             [
              1,
              "#f0f921"
             ]
            ],
            "type": "surface"
           }
          ],
          "table": [
           {
            "cells": {
             "fill": {
              "color": "#EBF0F8"
             },
             "line": {
              "color": "white"
             }
            },
            "header": {
             "fill": {
              "color": "#C8D4E3"
             },
             "line": {
              "color": "white"
             }
            },
            "type": "table"
           }
          ]
         },
         "layout": {
          "annotationdefaults": {
           "arrowcolor": "#2a3f5f",
           "arrowhead": 0,
           "arrowwidth": 1
          },
          "autotypenumbers": "strict",
          "coloraxis": {
           "colorbar": {
            "outlinewidth": 0,
            "ticks": ""
           }
          },
          "colorscale": {
           "diverging": [
            [
             0,
             "#8e0152"
            ],
            [
             0.1,
             "#c51b7d"
            ],
            [
             0.2,
             "#de77ae"
            ],
            [
             0.3,
             "#f1b6da"
            ],
            [
             0.4,
             "#fde0ef"
            ],
            [
             0.5,
             "#f7f7f7"
            ],
            [
             0.6,
             "#e6f5d0"
            ],
            [
             0.7,
             "#b8e186"
            ],
            [
             0.8,
             "#7fbc41"
            ],
            [
             0.9,
             "#4d9221"
            ],
            [
             1,
             "#276419"
            ]
           ],
           "sequential": [
            [
             0,
             "#0d0887"
            ],
            [
             0.1111111111111111,
             "#46039f"
            ],
            [
             0.2222222222222222,
             "#7201a8"
            ],
            [
             0.3333333333333333,
             "#9c179e"
            ],
            [
             0.4444444444444444,
             "#bd3786"
            ],
            [
             0.5555555555555556,
             "#d8576b"
            ],
            [
             0.6666666666666666,
             "#ed7953"
            ],
            [
             0.7777777777777778,
             "#fb9f3a"
            ],
            [
             0.8888888888888888,
             "#fdca26"
            ],
            [
             1,
             "#f0f921"
            ]
           ],
           "sequentialminus": [
            [
             0,
             "#0d0887"
            ],
            [
             0.1111111111111111,
             "#46039f"
            ],
            [
             0.2222222222222222,
             "#7201a8"
            ],
            [
             0.3333333333333333,
             "#9c179e"
            ],
            [
             0.4444444444444444,
             "#bd3786"
            ],
            [
             0.5555555555555556,
             "#d8576b"
            ],
            [
             0.6666666666666666,
             "#ed7953"
            ],
            [
             0.7777777777777778,
             "#fb9f3a"
            ],
            [
             0.8888888888888888,
             "#fdca26"
            ],
            [
             1,
             "#f0f921"
            ]
           ]
          },
          "colorway": [
           "#636efa",
           "#EF553B",
           "#00cc96",
           "#ab63fa",
           "#FFA15A",
           "#19d3f3",
           "#FF6692",
           "#B6E880",
           "#FF97FF",
           "#FECB52"
          ],
          "font": {
           "color": "#2a3f5f"
          },
          "geo": {
           "bgcolor": "white",
           "lakecolor": "white",
           "landcolor": "#E5ECF6",
           "showlakes": true,
           "showland": true,
           "subunitcolor": "white"
          },
          "hoverlabel": {
           "align": "left"
          },
          "hovermode": "closest",
          "mapbox": {
           "style": "light"
          },
          "paper_bgcolor": "white",
          "plot_bgcolor": "#E5ECF6",
          "polar": {
           "angularaxis": {
            "gridcolor": "white",
            "linecolor": "white",
            "ticks": ""
           },
           "bgcolor": "#E5ECF6",
           "radialaxis": {
            "gridcolor": "white",
            "linecolor": "white",
            "ticks": ""
           }
          },
          "scene": {
           "xaxis": {
            "backgroundcolor": "#E5ECF6",
            "gridcolor": "white",
            "gridwidth": 2,
            "linecolor": "white",
            "showbackground": true,
            "ticks": "",
            "zerolinecolor": "white"
           },
           "yaxis": {
            "backgroundcolor": "#E5ECF6",
            "gridcolor": "white",
            "gridwidth": 2,
            "linecolor": "white",
            "showbackground": true,
            "ticks": "",
            "zerolinecolor": "white"
           },
           "zaxis": {
            "backgroundcolor": "#E5ECF6",
            "gridcolor": "white",
            "gridwidth": 2,
            "linecolor": "white",
            "showbackground": true,
            "ticks": "",
            "zerolinecolor": "white"
           }
          },
          "shapedefaults": {
           "line": {
            "color": "#2a3f5f"
           }
          },
          "ternary": {
           "aaxis": {
            "gridcolor": "white",
            "linecolor": "white",
            "ticks": ""
           },
           "baxis": {
            "gridcolor": "white",
            "linecolor": "white",
            "ticks": ""
           },
           "bgcolor": "#E5ECF6",
           "caxis": {
            "gridcolor": "white",
            "linecolor": "white",
            "ticks": ""
           }
          },
          "title": {
           "x": 0.05
          },
          "xaxis": {
           "automargin": true,
           "gridcolor": "white",
           "linecolor": "white",
           "ticks": "",
           "title": {
            "standoff": 15
           },
           "zerolinecolor": "white",
           "zerolinewidth": 2
          },
          "yaxis": {
           "automargin": true,
           "gridcolor": "white",
           "linecolor": "white",
           "ticks": "",
           "title": {
            "standoff": 15
           },
           "zerolinecolor": "white",
           "zerolinewidth": 2
          }
         }
        },
        "title": {
         "text": "Map Visualization"
        },
        "width": 600,
        "xaxis": {
         "scaleanchor": "y",
         "showgrid": false
        },
        "yaxis": {
         "showgrid": false
        }
       }
      }
     },
     "metadata": {},
     "output_type": "display_data"
    }
   ],
   "source": [
    "visualize_map_shapes(maze_map.grid, obs=maze_map.obstacles, start=maze_map.start, goal=maze_map.goal, path=result2.path, nodes=list(map(lambda x: x.position, result2.nodes)), edges=result2.edges)"
   ]
  },
  {
   "cell_type": "code",
   "execution_count": 168,
   "id": "c1b38b0a",
   "metadata": {},
   "outputs": [
    {
     "data": {
      "application/vnd.plotly.v1+json": {
       "config": {
        "plotlyServerURL": "https://plot.ly"
       },
       "data": [
        {
         "marker": {
          "color": "blue",
          "size": 4
         },
         "mode": "markers",
         "name": "nodes",
         "type": "scatter",
         "x": [
          80,
          76.36794213548673,
          50,
          59.42869551261718,
          68.85739102523436
         ],
         "y": [
          50,
          59.317089441924836,
          50,
          53.33162136659505,
          56.66324273319011
         ]
        },
        {
         "line": {
          "color": "green"
         },
         "marker": {
          "size": 6
         },
         "mode": "lines+markers",
         "name": "Path",
         "type": "scatter",
         "x": [
          80,
          76.36794213548673,
          68.85739102523436,
          59.42869551261718,
          50
         ],
         "y": [
          50,
          59.317089441924836,
          56.66324273319011,
          53.33162136659505,
          50
         ]
        },
        {
         "hoverinfo": "skip",
         "line": {
          "color": "lightblue",
          "width": 1
         },
         "mode": "lines",
         "showlegend": false,
         "type": "scatter",
         "x": [
          80,
          76.36794213548673
         ],
         "y": [
          50,
          59.317089441924836
         ]
        },
        {
         "hoverinfo": "skip",
         "line": {
          "color": "lightblue",
          "width": 1
         },
         "mode": "lines",
         "showlegend": false,
         "type": "scatter",
         "x": [
          50,
          59.42869551261718
         ],
         "y": [
          50,
          53.33162136659505
         ]
        },
        {
         "hoverinfo": "skip",
         "line": {
          "color": "lightblue",
          "width": 1
         },
         "mode": "lines",
         "showlegend": false,
         "type": "scatter",
         "x": [
          59.42869551261718,
          68.85739102523436
         ],
         "y": [
          53.33162136659505,
          56.66324273319011
         ]
        },
        {
         "marker": {
          "color": "red",
          "size": 10
         },
         "mode": "markers",
         "name": "Start",
         "type": "scatter",
         "x": [
          80
         ],
         "y": [
          50
         ]
        },
        {
         "marker": {
          "color": "orange",
          "size": 10
         },
         "mode": "markers",
         "name": "Goal",
         "type": "scatter",
         "x": [
          50
         ],
         "y": [
          50
         ]
        }
       ],
       "layout": {
        "height": 600,
        "shapes": [
         {
          "fillcolor": "purple",
          "line": {
           "width": 0
          },
          "opacity": 0.5,
          "type": "rect",
          "x0": 27,
          "x1": 30,
          "y0": 52,
          "y1": 70
         },
         {
          "fillcolor": "purple",
          "line": {
           "width": 0
          },
          "opacity": 0.5,
          "type": "rect",
          "x0": 27,
          "x1": 30,
          "y0": 30,
          "y1": 48
         },
         {
          "fillcolor": "purple",
          "line": {
           "width": 0
          },
          "opacity": 0.5,
          "type": "rect",
          "x0": 70,
          "x1": 73,
          "y0": 30,
          "y1": 70
         },
         {
          "fillcolor": "purple",
          "line": {
           "width": 0
          },
          "opacity": 0.5,
          "type": "rect",
          "x0": 30,
          "x1": 70,
          "y0": 30,
          "y1": 33
         },
         {
          "fillcolor": "purple",
          "line": {
           "width": 0
          },
          "opacity": 0.5,
          "type": "rect",
          "x0": 30,
          "x1": 70,
          "y0": 67,
          "y1": 70
         },
         {
          "fillcolor": "rgba(0,0,0,0)",
          "layer": "above",
          "line": {
           "color": "white",
           "width": 3
          },
          "type": "rect",
          "x0": 0,
          "x1": 100,
          "y0": 0,
          "y1": 100
         }
        ],
        "template": {
         "data": {
          "bar": [
           {
            "error_x": {
             "color": "#2a3f5f"
            },
            "error_y": {
             "color": "#2a3f5f"
            },
            "marker": {
             "line": {
              "color": "#E5ECF6",
              "width": 0.5
             },
             "pattern": {
              "fillmode": "overlay",
              "size": 10,
              "solidity": 0.2
             }
            },
            "type": "bar"
           }
          ],
          "barpolar": [
           {
            "marker": {
             "line": {
              "color": "#E5ECF6",
              "width": 0.5
             },
             "pattern": {
              "fillmode": "overlay",
              "size": 10,
              "solidity": 0.2
             }
            },
            "type": "barpolar"
           }
          ],
          "carpet": [
           {
            "aaxis": {
             "endlinecolor": "#2a3f5f",
             "gridcolor": "white",
             "linecolor": "white",
             "minorgridcolor": "white",
             "startlinecolor": "#2a3f5f"
            },
            "baxis": {
             "endlinecolor": "#2a3f5f",
             "gridcolor": "white",
             "linecolor": "white",
             "minorgridcolor": "white",
             "startlinecolor": "#2a3f5f"
            },
            "type": "carpet"
           }
          ],
          "choropleth": [
           {
            "colorbar": {
             "outlinewidth": 0,
             "ticks": ""
            },
            "type": "choropleth"
           }
          ],
          "contour": [
           {
            "colorbar": {
             "outlinewidth": 0,
             "ticks": ""
            },
            "colorscale": [
             [
              0,
              "#0d0887"
             ],
             [
              0.1111111111111111,
              "#46039f"
             ],
             [
              0.2222222222222222,
              "#7201a8"
             ],
             [
              0.3333333333333333,
              "#9c179e"
             ],
             [
              0.4444444444444444,
              "#bd3786"
             ],
             [
              0.5555555555555556,
              "#d8576b"
             ],
             [
              0.6666666666666666,
              "#ed7953"
             ],
             [
              0.7777777777777778,
              "#fb9f3a"
             ],
             [
              0.8888888888888888,
              "#fdca26"
             ],
             [
              1,
              "#f0f921"
             ]
            ],
            "type": "contour"
           }
          ],
          "contourcarpet": [
           {
            "colorbar": {
             "outlinewidth": 0,
             "ticks": ""
            },
            "type": "contourcarpet"
           }
          ],
          "heatmap": [
           {
            "colorbar": {
             "outlinewidth": 0,
             "ticks": ""
            },
            "colorscale": [
             [
              0,
              "#0d0887"
             ],
             [
              0.1111111111111111,
              "#46039f"
             ],
             [
              0.2222222222222222,
              "#7201a8"
             ],
             [
              0.3333333333333333,
              "#9c179e"
             ],
             [
              0.4444444444444444,
              "#bd3786"
             ],
             [
              0.5555555555555556,
              "#d8576b"
             ],
             [
              0.6666666666666666,
              "#ed7953"
             ],
             [
              0.7777777777777778,
              "#fb9f3a"
             ],
             [
              0.8888888888888888,
              "#fdca26"
             ],
             [
              1,
              "#f0f921"
             ]
            ],
            "type": "heatmap"
           }
          ],
          "histogram": [
           {
            "marker": {
             "pattern": {
              "fillmode": "overlay",
              "size": 10,
              "solidity": 0.2
             }
            },
            "type": "histogram"
           }
          ],
          "histogram2d": [
           {
            "colorbar": {
             "outlinewidth": 0,
             "ticks": ""
            },
            "colorscale": [
             [
              0,
              "#0d0887"
             ],
             [
              0.1111111111111111,
              "#46039f"
             ],
             [
              0.2222222222222222,
              "#7201a8"
             ],
             [
              0.3333333333333333,
              "#9c179e"
             ],
             [
              0.4444444444444444,
              "#bd3786"
             ],
             [
              0.5555555555555556,
              "#d8576b"
             ],
             [
              0.6666666666666666,
              "#ed7953"
             ],
             [
              0.7777777777777778,
              "#fb9f3a"
             ],
             [
              0.8888888888888888,
              "#fdca26"
             ],
             [
              1,
              "#f0f921"
             ]
            ],
            "type": "histogram2d"
           }
          ],
          "histogram2dcontour": [
           {
            "colorbar": {
             "outlinewidth": 0,
             "ticks": ""
            },
            "colorscale": [
             [
              0,
              "#0d0887"
             ],
             [
              0.1111111111111111,
              "#46039f"
             ],
             [
              0.2222222222222222,
              "#7201a8"
             ],
             [
              0.3333333333333333,
              "#9c179e"
             ],
             [
              0.4444444444444444,
              "#bd3786"
             ],
             [
              0.5555555555555556,
              "#d8576b"
             ],
             [
              0.6666666666666666,
              "#ed7953"
             ],
             [
              0.7777777777777778,
              "#fb9f3a"
             ],
             [
              0.8888888888888888,
              "#fdca26"
             ],
             [
              1,
              "#f0f921"
             ]
            ],
            "type": "histogram2dcontour"
           }
          ],
          "mesh3d": [
           {
            "colorbar": {
             "outlinewidth": 0,
             "ticks": ""
            },
            "type": "mesh3d"
           }
          ],
          "parcoords": [
           {
            "line": {
             "colorbar": {
              "outlinewidth": 0,
              "ticks": ""
             }
            },
            "type": "parcoords"
           }
          ],
          "pie": [
           {
            "automargin": true,
            "type": "pie"
           }
          ],
          "scatter": [
           {
            "fillpattern": {
             "fillmode": "overlay",
             "size": 10,
             "solidity": 0.2
            },
            "type": "scatter"
           }
          ],
          "scatter3d": [
           {
            "line": {
             "colorbar": {
              "outlinewidth": 0,
              "ticks": ""
             }
            },
            "marker": {
             "colorbar": {
              "outlinewidth": 0,
              "ticks": ""
             }
            },
            "type": "scatter3d"
           }
          ],
          "scattercarpet": [
           {
            "marker": {
             "colorbar": {
              "outlinewidth": 0,
              "ticks": ""
             }
            },
            "type": "scattercarpet"
           }
          ],
          "scattergeo": [
           {
            "marker": {
             "colorbar": {
              "outlinewidth": 0,
              "ticks": ""
             }
            },
            "type": "scattergeo"
           }
          ],
          "scattergl": [
           {
            "marker": {
             "colorbar": {
              "outlinewidth": 0,
              "ticks": ""
             }
            },
            "type": "scattergl"
           }
          ],
          "scattermap": [
           {
            "marker": {
             "colorbar": {
              "outlinewidth": 0,
              "ticks": ""
             }
            },
            "type": "scattermap"
           }
          ],
          "scattermapbox": [
           {
            "marker": {
             "colorbar": {
              "outlinewidth": 0,
              "ticks": ""
             }
            },
            "type": "scattermapbox"
           }
          ],
          "scatterpolar": [
           {
            "marker": {
             "colorbar": {
              "outlinewidth": 0,
              "ticks": ""
             }
            },
            "type": "scatterpolar"
           }
          ],
          "scatterpolargl": [
           {
            "marker": {
             "colorbar": {
              "outlinewidth": 0,
              "ticks": ""
             }
            },
            "type": "scatterpolargl"
           }
          ],
          "scatterternary": [
           {
            "marker": {
             "colorbar": {
              "outlinewidth": 0,
              "ticks": ""
             }
            },
            "type": "scatterternary"
           }
          ],
          "surface": [
           {
            "colorbar": {
             "outlinewidth": 0,
             "ticks": ""
            },
            "colorscale": [
             [
              0,
              "#0d0887"
             ],
             [
              0.1111111111111111,
              "#46039f"
             ],
             [
              0.2222222222222222,
              "#7201a8"
             ],
             [
              0.3333333333333333,
              "#9c179e"
             ],
             [
              0.4444444444444444,
              "#bd3786"
             ],
             [
              0.5555555555555556,
              "#d8576b"
             ],
             [
              0.6666666666666666,
              "#ed7953"
             ],
             [
              0.7777777777777778,
              "#fb9f3a"
             ],
             [
              0.8888888888888888,
              "#fdca26"
             ],
             [
              1,
              "#f0f921"
             ]
            ],
            "type": "surface"
           }
          ],
          "table": [
           {
            "cells": {
             "fill": {
              "color": "#EBF0F8"
             },
             "line": {
              "color": "white"
             }
            },
            "header": {
             "fill": {
              "color": "#C8D4E3"
             },
             "line": {
              "color": "white"
             }
            },
            "type": "table"
           }
          ]
         },
         "layout": {
          "annotationdefaults": {
           "arrowcolor": "#2a3f5f",
           "arrowhead": 0,
           "arrowwidth": 1
          },
          "autotypenumbers": "strict",
          "coloraxis": {
           "colorbar": {
            "outlinewidth": 0,
            "ticks": ""
           }
          },
          "colorscale": {
           "diverging": [
            [
             0,
             "#8e0152"
            ],
            [
             0.1,
             "#c51b7d"
            ],
            [
             0.2,
             "#de77ae"
            ],
            [
             0.3,
             "#f1b6da"
            ],
            [
             0.4,
             "#fde0ef"
            ],
            [
             0.5,
             "#f7f7f7"
            ],
            [
             0.6,
             "#e6f5d0"
            ],
            [
             0.7,
             "#b8e186"
            ],
            [
             0.8,
             "#7fbc41"
            ],
            [
             0.9,
             "#4d9221"
            ],
            [
             1,
             "#276419"
            ]
           ],
           "sequential": [
            [
             0,
             "#0d0887"
            ],
            [
             0.1111111111111111,
             "#46039f"
            ],
            [
             0.2222222222222222,
             "#7201a8"
            ],
            [
             0.3333333333333333,
             "#9c179e"
            ],
            [
             0.4444444444444444,
             "#bd3786"
            ],
            [
             0.5555555555555556,
             "#d8576b"
            ],
            [
             0.6666666666666666,
             "#ed7953"
            ],
            [
             0.7777777777777778,
             "#fb9f3a"
            ],
            [
             0.8888888888888888,
             "#fdca26"
            ],
            [
             1,
             "#f0f921"
            ]
           ],
           "sequentialminus": [
            [
             0,
             "#0d0887"
            ],
            [
             0.1111111111111111,
             "#46039f"
            ],
            [
             0.2222222222222222,
             "#7201a8"
            ],
            [
             0.3333333333333333,
             "#9c179e"
            ],
            [
             0.4444444444444444,
             "#bd3786"
            ],
            [
             0.5555555555555556,
             "#d8576b"
            ],
            [
             0.6666666666666666,
             "#ed7953"
            ],
            [
             0.7777777777777778,
             "#fb9f3a"
            ],
            [
             0.8888888888888888,
             "#fdca26"
            ],
            [
             1,
             "#f0f921"
            ]
           ]
          },
          "colorway": [
           "#636efa",
           "#EF553B",
           "#00cc96",
           "#ab63fa",
           "#FFA15A",
           "#19d3f3",
           "#FF6692",
           "#B6E880",
           "#FF97FF",
           "#FECB52"
          ],
          "font": {
           "color": "#2a3f5f"
          },
          "geo": {
           "bgcolor": "white",
           "lakecolor": "white",
           "landcolor": "#E5ECF6",
           "showlakes": true,
           "showland": true,
           "subunitcolor": "white"
          },
          "hoverlabel": {
           "align": "left"
          },
          "hovermode": "closest",
          "mapbox": {
           "style": "light"
          },
          "paper_bgcolor": "white",
          "plot_bgcolor": "#E5ECF6",
          "polar": {
           "angularaxis": {
            "gridcolor": "white",
            "linecolor": "white",
            "ticks": ""
           },
           "bgcolor": "#E5ECF6",
           "radialaxis": {
            "gridcolor": "white",
            "linecolor": "white",
            "ticks": ""
           }
          },
          "scene": {
           "xaxis": {
            "backgroundcolor": "#E5ECF6",
            "gridcolor": "white",
            "gridwidth": 2,
            "linecolor": "white",
            "showbackground": true,
            "ticks": "",
            "zerolinecolor": "white"
           },
           "yaxis": {
            "backgroundcolor": "#E5ECF6",
            "gridcolor": "white",
            "gridwidth": 2,
            "linecolor": "white",
            "showbackground": true,
            "ticks": "",
            "zerolinecolor": "white"
           },
           "zaxis": {
            "backgroundcolor": "#E5ECF6",
            "gridcolor": "white",
            "gridwidth": 2,
            "linecolor": "white",
            "showbackground": true,
            "ticks": "",
            "zerolinecolor": "white"
           }
          },
          "shapedefaults": {
           "line": {
            "color": "#2a3f5f"
           }
          },
          "ternary": {
           "aaxis": {
            "gridcolor": "white",
            "linecolor": "white",
            "ticks": ""
           },
           "baxis": {
            "gridcolor": "white",
            "linecolor": "white",
            "ticks": ""
           },
           "bgcolor": "#E5ECF6",
           "caxis": {
            "gridcolor": "white",
            "linecolor": "white",
            "ticks": ""
           }
          },
          "title": {
           "x": 0.05
          },
          "xaxis": {
           "automargin": true,
           "gridcolor": "white",
           "linecolor": "white",
           "ticks": "",
           "title": {
            "standoff": 15
           },
           "zerolinecolor": "white",
           "zerolinewidth": 2
          },
          "yaxis": {
           "automargin": true,
           "gridcolor": "white",
           "linecolor": "white",
           "ticks": "",
           "title": {
            "standoff": 15
           },
           "zerolinecolor": "white",
           "zerolinewidth": 2
          }
         }
        },
        "title": {
         "text": "Map Visualization"
        },
        "width": 600,
        "xaxis": {
         "scaleanchor": "y",
         "showgrid": false
        },
        "yaxis": {
         "showgrid": false
        }
       }
      }
     },
     "metadata": {},
     "output_type": "display_data"
    }
   ],
   "source": [
    "visualize_map_shapes(narrow_map.grid, obs=narrow_map.obstacles, start=narrow_map.start, goal=narrow_map.goal, path=result3.path, nodes=list(map(lambda x: x.position, result3.nodes)), edges=result3.edges)"
   ]
  },
  {
   "cell_type": "code",
   "execution_count": null,
   "id": "45334152",
   "metadata": {},
   "outputs": [],
   "source": [
    "def my_dummy_planner(map_array, start, goal):\n",
    "    return {\n",
    "        \"path\": [start, goal],\n",
    "        \"visited\": [start],\n",
    "        \"nodes\": 2\n",
    "    }\n",
    "\n",
    "bench = MultiMapBenchmarker(\n",
    "    maps=[multi_obs_map, maze_map, narrow_map],\n",
    "    algorithm=p.plan,\n",
    "    name=\"MyRRT\"\n",
    ")\n",
    "\n",
    "\n",
    "df = bench.run()\n",
    "print(df)"
   ]
  },
  {
   "cell_type": "code",
   "execution_count": null,
   "id": "c4240b1d",
   "metadata": {},
   "outputs": [],
   "source": [
    "df2 = bench.get_avg()\n",
    "print(df2)"
   ]
  },
  {
   "cell_type": "code",
   "execution_count": 29,
   "id": "c781d970",
   "metadata": {},
   "outputs": [],
   "source": [
    "p = Planner(max_iter=10000)\n",
    "\n",
    "bench2 = MultiMapBenchmarker(\n",
    "    maps=[multi_obs_map, maze_map, narrow_map],\n",
    "    algorithm=p.plan,\n",
    "    name=\"MyRRT\"\n",
    ")"
   ]
  },
  {
   "cell_type": "code",
   "execution_count": 30,
   "id": "482c0de9",
   "metadata": {},
   "outputs": [],
   "source": [
    "df3 = bench2.run()"
   ]
  },
  {
   "cell_type": "code",
   "execution_count": 31,
   "id": "16d79510",
   "metadata": {},
   "outputs": [],
   "source": [
    "df4 = bench2.get_avg()"
   ]
  },
  {
   "cell_type": "code",
   "execution_count": 34,
   "id": "d684559f",
   "metadata": {},
   "outputs": [
    {
     "data": {
      "text/html": [
       "<div>\n",
       "<style scoped>\n",
       "    .dataframe tbody tr th:only-of-type {\n",
       "        vertical-align: middle;\n",
       "    }\n",
       "\n",
       "    .dataframe tbody tr th {\n",
       "        vertical-align: top;\n",
       "    }\n",
       "\n",
       "    .dataframe thead th {\n",
       "        text-align: right;\n",
       "    }\n",
       "</style>\n",
       "<table border=\"1\" class=\"dataframe\">\n",
       "  <thead>\n",
       "    <tr style=\"text-align: right;\">\n",
       "      <th></th>\n",
       "      <th>map_id</th>\n",
       "      <th>success_rate</th>\n",
       "      <th>time_avg</th>\n",
       "      <th>path_length_avg</th>\n",
       "    </tr>\n",
       "  </thead>\n",
       "  <tbody>\n",
       "    <tr>\n",
       "      <th>0</th>\n",
       "      <td>0</td>\n",
       "      <td>1.0</td>\n",
       "      <td>0.113167</td>\n",
       "      <td>178.205710</td>\n",
       "    </tr>\n",
       "    <tr>\n",
       "      <th>1</th>\n",
       "      <td>1</td>\n",
       "      <td>1.0</td>\n",
       "      <td>1.821893</td>\n",
       "      <td>310.468351</td>\n",
       "    </tr>\n",
       "    <tr>\n",
       "      <th>2</th>\n",
       "      <td>2</td>\n",
       "      <td>1.0</td>\n",
       "      <td>0.617888</td>\n",
       "      <td>142.911073</td>\n",
       "    </tr>\n",
       "  </tbody>\n",
       "</table>\n",
       "</div>"
      ],
      "text/plain": [
       "   map_id  success_rate  time_avg  path_length_avg\n",
       "0       0           1.0  0.113167       178.205710\n",
       "1       1           1.0  1.821893       310.468351\n",
       "2       2           1.0  0.617888       142.911073"
      ]
     },
     "execution_count": 34,
     "metadata": {},
     "output_type": "execute_result"
    }
   ],
   "source": [
    "df4"
   ]
  },
  {
   "cell_type": "code",
   "execution_count": 37,
   "id": "77e94202",
   "metadata": {},
   "outputs": [],
   "source": [
    "df5 = MultiMapBenchmarker.get_improvement(df4, df4)"
   ]
  },
  {
   "cell_type": "code",
   "execution_count": 38,
   "id": "3c4c0532",
   "metadata": {},
   "outputs": [
    {
     "data": {
      "text/html": [
       "<div>\n",
       "<style scoped>\n",
       "    .dataframe tbody tr th:only-of-type {\n",
       "        vertical-align: middle;\n",
       "    }\n",
       "\n",
       "    .dataframe tbody tr th {\n",
       "        vertical-align: top;\n",
       "    }\n",
       "\n",
       "    .dataframe thead th {\n",
       "        text-align: right;\n",
       "    }\n",
       "</style>\n",
       "<table border=\"1\" class=\"dataframe\">\n",
       "  <thead>\n",
       "    <tr style=\"text-align: right;\">\n",
       "      <th></th>\n",
       "      <th>map_id</th>\n",
       "      <th>success_rate</th>\n",
       "      <th>time_avg</th>\n",
       "      <th>path_length_avg</th>\n",
       "      <th>success_improvement</th>\n",
       "      <th>time_improvement</th>\n",
       "      <th>length_improvement</th>\n",
       "      <th>objective_score</th>\n",
       "    </tr>\n",
       "  </thead>\n",
       "  <tbody>\n",
       "    <tr>\n",
       "      <th>0</th>\n",
       "      <td>0</td>\n",
       "      <td>1.0</td>\n",
       "      <td>0.113167</td>\n",
       "      <td>178.205710</td>\n",
       "      <td>0.0</td>\n",
       "      <td>0.0</td>\n",
       "      <td>0.0</td>\n",
       "      <td>0.0</td>\n",
       "    </tr>\n",
       "    <tr>\n",
       "      <th>1</th>\n",
       "      <td>1</td>\n",
       "      <td>1.0</td>\n",
       "      <td>1.821893</td>\n",
       "      <td>310.468351</td>\n",
       "      <td>0.0</td>\n",
       "      <td>0.0</td>\n",
       "      <td>0.0</td>\n",
       "      <td>0.0</td>\n",
       "    </tr>\n",
       "    <tr>\n",
       "      <th>2</th>\n",
       "      <td>2</td>\n",
       "      <td>1.0</td>\n",
       "      <td>0.617888</td>\n",
       "      <td>142.911073</td>\n",
       "      <td>0.0</td>\n",
       "      <td>0.0</td>\n",
       "      <td>0.0</td>\n",
       "      <td>0.0</td>\n",
       "    </tr>\n",
       "  </tbody>\n",
       "</table>\n",
       "</div>"
      ],
      "text/plain": [
       "   map_id  success_rate  time_avg  path_length_avg  success_improvement  \\\n",
       "0       0           1.0  0.113167       178.205710                  0.0   \n",
       "1       1           1.0  1.821893       310.468351                  0.0   \n",
       "2       2           1.0  0.617888       142.911073                  0.0   \n",
       "\n",
       "   time_improvement  length_improvement  objective_score  \n",
       "0               0.0                 0.0              0.0  \n",
       "1               0.0                 0.0              0.0  \n",
       "2               0.0                 0.0              0.0  "
      ]
     },
     "execution_count": 38,
     "metadata": {},
     "output_type": "execute_result"
    }
   ],
   "source": [
    "pd.concat([df4, df5], axis=1)"
   ]
  },
  {
   "cell_type": "code",
   "execution_count": 35,
   "id": "9703c9ce",
   "metadata": {},
   "outputs": [
    {
     "data": {
      "text/plain": [
       "0    0.0\n",
       "1    0.0\n",
       "2    0.0\n",
       "Name: objective_score, dtype: float64"
      ]
     },
     "execution_count": 35,
     "metadata": {},
     "output_type": "execute_result"
    }
   ],
   "source": [
    "MultiMapBenchmarker.get_improvement(df4, df4)['objective_score']"
   ]
  },
  {
   "cell_type": "code",
   "execution_count": null,
   "id": "03a05ca0",
   "metadata": {},
   "outputs": [],
   "source": [
    "from eoh.llm.interface_LLM import InterfaceLLM\n",
    "from eoh.utils.getParas import Paras\n",
    "from eoh.methods.eoh.eoh_evolution import Evolution\n",
    "from eoh.problems.optimization.classic_benchmark_path_planning.utils.prompts import GetPrompts\n",
    "import re\n",
    "paras = Paras()\n"
   ]
  },
  {
   "cell_type": "code",
   "execution_count": 170,
   "id": "73e02a3d",
   "metadata": {},
   "outputs": [
    {
     "name": "stdout",
     "output_type": "stream",
     "text": [
      "- check LLM API\n",
      "remote llm api is used ...\n",
      "- check LLM API\n",
      "remote llm api is used ...\n"
     ]
    }
   ],
   "source": [
    "ee = Evolution(\"api.openai.com\", api_key, \"gpt-4.1-mini-2025-04-14\", False, None, True, GetPrompts())\n",
    "illm = InterfaceLLM(\"api.openai.com\", api_key, \"gpt-4.1-mini-2025-04-14\", False, None, True)"
   ]
  },
  {
   "cell_type": "code",
   "execution_count": 171,
   "id": "45bab7fb",
   "metadata": {},
   "outputs": [
    {
     "data": {
      "text/plain": [
       "{'algorithm': 'RRT*-Connect',\n",
       " 'algorithm_description': 'RRT*-Connect is a hybrid sampling-based motion planning algorithm that merges the strengths of RRT* and RRT-Connect. It grows two trees from the start and goal positions, extending them toward randomly sampled points. At each iteration, it attempts to connect the two trees. Additionally, it performs rewiring to improve path quality, as in RRT*, leading to an asymptotically optimal solution.',\n",
       " 'planning mechanism': '\\n1.\\tInitialization\\n\\t•\\tInitialize two trees: one rooted at the start and the other at the goal.\\n\\t•\\tInsert the root nodes (start and goal) into their respective trees.\\n2.\\tSampling\\n\\t•\\tGenerate a random sample from the configuration space.\\n\\t•\\tWith a small probability (goal bias), use the opposite tree’s root as the sample.\\n3.\\tExtension\\n\\t•\\tFor the active tree, find the nearest node to the sample.\\n\\t•\\tSteer toward the sample up to a fixed step size and create a new node.\\n\\t•\\tIf the new node is collision-free, add it to the tree.\\n4.\\tRewiring\\n\\t•\\tSearch nearby nodes within a radius.\\n\\t•\\tRewire to minimize cost-to-come by changing parents if a cheaper path is found.\\n\\t•\\tUpdate child-parent relationships accordingly.\\n5.\\tConnection Attempt\\n\\t•\\tAttempt to connect the newly added node to the other tree by greedy extension (repeated steering and validation).\\n\\t•\\tIf successful and a continuous collision-free path is formed, proceed to extract the full path.\\n6.\\tPath Extraction\\n\\t•\\tIf both trees are connected, extract the path by tracing from the connection point to the start and goal.\\n\\t•\\tMerge and return the complete path as the solution.\\n7.\\tTermination\\n\\t•\\tStop when a connection is made and optionally continue for a while to refine the solution further.\\n\\t•\\tIf max iterations are reached without a connection, return failure.\\n',\n",
       " 'code': '\\n# --- Node class ---\\nclass Node:\\n    def __init__(self, position, parent=None, cost=0.0):\\n        self.position = position        # Tuple[float, ...] → 2D: (x,y), 3D: (x,y,z)\\n        self.parent = parent            # Node or None\\n        self.cost = cost                # Path cost\\n        self.children = []\\n        self.valid = True               # For collision checking etc.\\n\\n\\n# --- Planner class implementing RRT*-Connect ---\\nclass Planner:\\n    def __init__(self, max_iter: int = 5000, step_size: float = 1.0, goal_sample_rate: float = 0.05):\\n        self.max_iter = max_iter\\n        self.step_size = step_size\\n        self.goal_sample_rate = goal_sample_rate\\n\\n    def plan(self, map: Map) -> PlannerResult:\\n        from math import dist\\n        import random\\n\\n        bounds = map.size\\n        start_position = map.start\\n        goal_position = map.goal\\n        obstacles = map.obstacles\\n\\n        is_3d = len(bounds) == 3\\n        dim = 3 if is_3d else 2\\n\\n        tree_start: List[Node] = [Node(start_position)]\\n        tree_goal: List[Node] = [Node(goal_position)]\\n\\n        for _ in range(self.max_iter):\\n            if random.random() < self.goal_sample_rate:\\n                sample = goal_position\\n            else:\\n                sample = tuple(random.uniform(0, bounds[i]) for i in range(dim))\\n\\n            # Extend from start tree\\n            new_node_start = self._extend(tree_start, sample, obstacles, is_3d)\\n            if new_node_start is None:\\n                continue\\n\\n            # Connect from goal tree to the new node\\n            new_node_goal = self._connect(tree_goal, new_node_start.position, obstacles, is_3d)\\n\\n            if new_node_goal:\\n                # Trees connected, build path\\n                path_from_start = self._extract_path(new_node_start)\\n                path_from_goal = self._extract_path(new_node_goal)[::-1]\\n                full_path = path_from_start + path_from_goal\\n                all_nodes = tree_start + tree_goal\\n                edges = [(n.parent, n) for n in all_nodes if n.parent]\\n                return PlannerResult(True, full_path, all_nodes, edges)\\n\\n            # Swap trees\\n            tree_start, tree_goal = tree_goal, tree_start\\n\\n        all_nodes = tree_start + tree_goal\\n        edges = [(n.parent, n) for n in all_nodes if n.parent]\\n        return PlannerResult(False, [], all_nodes, edges)\\n\\n    def _extend(self, tree: List[Node], sample: Tuple[float, ...], obstacles, is_3d: bool) -> Node:\\n        from math import dist\\n\\n        nearest = min(tree, key=lambda n: dist(n.position, sample))\\n        new_pos = self._steer(nearest.position, sample, self.step_size)\\n        if self._is_in_obstacle(new_pos, obstacles, is_3d):\\n            return None\\n\\n        new_node = Node(new_pos, parent=nearest, cost=nearest.cost + dist(nearest.position, new_pos))\\n        nearest.children.append(new_node)\\n        tree.append(new_node)\\n\\n        # RRT* rewiring\\n        near_nodes = [n for n in tree if dist(n.position, new_node.position) <= self.step_size * 2]\\n        for neighbor in near_nodes:\\n            potential_cost = new_node.cost + dist(new_node.position, neighbor.position)\\n            if potential_cost < neighbor.cost and not self._is_in_obstacle(self._steer(new_node.position, neighbor.position, self.step_size), obstacles, is_3d):\\n                neighbor.parent = new_node\\n                neighbor.cost = potential_cost\\n\\n        return new_node\\n\\n    def _connect(self, tree: List[Node], target: Tuple[float, ...], obstacles, is_3d: bool) -> Node:\\n        from math import dist\\n\\n        current = min(tree, key=lambda n: dist(n.position, target))\\n        while True:\\n            new_pos = self._steer(current.position, target, self.step_size)\\n            if self._is_in_obstacle(new_pos, obstacles, is_3d):\\n                return None\\n            new_node = Node(new_pos, parent=current, cost=current.cost + dist(current.position, new_pos))\\n            current.children.append(new_node)\\n            tree.append(new_node)\\n\\n            if dist(new_pos, target) <= self.step_size:\\n                return new_node\\n            current = new_node\\n\\n    def _steer(self, from_pos: Tuple[float, ...], to_pos: Tuple[float, ...], step: float) -> Tuple[float, ...]:\\n        from math import dist\\n        vec = [t - f for f, t in zip(from_pos, to_pos)]\\n        d = dist(from_pos, to_pos)\\n        if d <= step:\\n            return to_pos\\n        scale = step / d\\n        return tuple(f + scale * v for f, v in zip(from_pos, vec))\\n\\n    def _is_in_obstacle(self, pos: Tuple[float, ...], obstacles, is_3d: bool) -> bool:\\n        if is_3d:\\n            for x, y, z, w, h, d in obstacles:\\n                px, py, pz = pos\\n                if x <= px <= x + w and y <= py <= y + h and z <= pz <= z + d:\\n                    return True\\n        else:\\n            for x, y, w, h in obstacles:\\n                px, py = pos\\n                if x <= px <= x + w and y <= py <= y + h:\\n                    return True\\n        return False\\n\\n    def _extract_path(self, node: Node) -> List[Tuple[float, ...]]:\\n        path = []\\n        while node:\\n            path.append(node.position)\\n            node = node.parent\\n        return path[::-1]\\n\\n    '}"
      ]
     },
     "execution_count": 171,
     "metadata": {},
     "output_type": "execute_result"
    }
   ],
   "source": [
    "result_data[3]"
   ]
  },
  {
   "cell_type": "code",
   "execution_count": 176,
   "id": "302e72c2",
   "metadata": {},
   "outputs": [],
   "source": [
    "pc = ee.get_prompt([result_data[3]], 'e1')"
   ]
  },
  {
   "cell_type": "code",
   "execution_count": 177,
   "id": "775fa2e1",
   "metadata": {},
   "outputs": [
    {
     "name": "stdout",
     "output_type": "stream",
     "text": [
      "Your task is to design and implement Path planning algorithm. Main objective is to improve the path planning performance below.\n",
      "Reference Implementation:\n",
      "Algorithm description: RRT*-Connect is a hybrid sampling-based motion planning algorithm that merges the strengths of RRT* and RRT-Connect. It grows two trees from the start and goal positions, extending them toward randomly sampled points. At each iteration, it attempts to connect the two trees. Additionally, it performs rewiring to improve path quality, as in RRT*, leading to an asymptotically optimal solution.\n",
      "Planning Mechanism:\n",
      "\n",
      "1.Initialization\n",
      "\t•\tInitialize two trees: one rooted at the start and the other at the goal.\n",
      "\t•\tInsert the root nodes (start and goal) into their respective trees.\n",
      "2.Sampling\n",
      "\t•\tGenerate a random sample from the configuration space.\n",
      "\t•\tWith a small probability (goal bias), use the opposite tree’s root as the sample.\n",
      "3.Extension\n",
      "\t•\tFor the active tree, find the nearest node to the sample.\n",
      "\t•\tSteer toward the sample up to a fixed step size and create a new node.\n",
      "\t•\tIf the new node is collision-free, add it to the tree.\n",
      "4.Rewiring\n",
      "\t•\tSearch nearby nodes within a radius.\n",
      "\t•\tRewire to minimize cost-to-come by changing parents if a cheaper path is found.\n",
      "\t•\tUpdate child-parent relationships accordingly.\n",
      "5.Connection Attempt\n",
      "\t•\tAttempt to connect the newly added node to the other tree by greedy extension (repeated steering and validation).\n",
      "\t•\tIf successful and a continuous collision-free path is formed, proceed to extract the full path.\n",
      "6.Path Extraction\n",
      "\t•\tIf both trees are connected, extract the path by tracing from the connection point to the start and goal.\n",
      "\t•\tMerge and return the complete path as the solution.\n",
      "7.Termination\n",
      "\t•\tStop when a connection is made and optionally continue for a while to refine the solution further.\n",
      "\t•\tIf max iterations are reached without a connection, return failure.\n",
      "\n",
      "Code:\n",
      "\n",
      "# --- Node class ---\n",
      "class Node:\n",
      "    def __init__(self, position, parent=None, cost=0.0):\n",
      "        self.position = position        # Tuple[float, ...] → 2D: (x,y), 3D: (x,y,z)\n",
      "        self.parent = parent            # Node or None\n",
      "        self.cost = cost                # Path cost\n",
      "        self.children = []\n",
      "        self.valid = True               # For collision checking etc.\n",
      "\n",
      "\n",
      "# --- Planner class implementing RRT*-Connect ---\n",
      "class Planner:\n",
      "    def __init__(self, max_iter: int = 5000, step_size: float = 1.0, goal_sample_rate: float = 0.05):\n",
      "        self.max_iter = max_iter\n",
      "        self.step_size = step_size\n",
      "        self.goal_sample_rate = goal_sample_rate\n",
      "\n",
      "    def plan(self, map: Map) -> PlannerResult:\n",
      "        from math import dist\n",
      "        import random\n",
      "\n",
      "        bounds = map.size\n",
      "        start_position = map.start\n",
      "        goal_position = map.goal\n",
      "        obstacles = map.obstacles\n",
      "\n",
      "        is_3d = len(bounds) == 3\n",
      "        dim = 3 if is_3d else 2\n",
      "\n",
      "        tree_start: List[Node] = [Node(start_position)]\n",
      "        tree_goal: List[Node] = [Node(goal_position)]\n",
      "\n",
      "        for _ in range(self.max_iter):\n",
      "            if random.random() < self.goal_sample_rate:\n",
      "                sample = goal_position\n",
      "            else:\n",
      "                sample = tuple(random.uniform(0, bounds[i]) for i in range(dim))\n",
      "\n",
      "            # Extend from start tree\n",
      "            new_node_start = self._extend(tree_start, sample, obstacles, is_3d)\n",
      "            if new_node_start is None:\n",
      "                continue\n",
      "\n",
      "            # Connect from goal tree to the new node\n",
      "            new_node_goal = self._connect(tree_goal, new_node_start.position, obstacles, is_3d)\n",
      "\n",
      "            if new_node_goal:\n",
      "                # Trees connected, build path\n",
      "                path_from_start = self._extract_path(new_node_start)\n",
      "                path_from_goal = self._extract_path(new_node_goal)[::-1]\n",
      "                full_path = path_from_start + path_from_goal\n",
      "                all_nodes = tree_start + tree_goal\n",
      "                edges = [(n.parent, n) for n in all_nodes if n.parent]\n",
      "                return PlannerResult(True, full_path, all_nodes, edges)\n",
      "\n",
      "            # Swap trees\n",
      "            tree_start, tree_goal = tree_goal, tree_start\n",
      "\n",
      "        all_nodes = tree_start + tree_goal\n",
      "        edges = [(n.parent, n) for n in all_nodes if n.parent]\n",
      "        return PlannerResult(False, [], all_nodes, edges)\n",
      "\n",
      "    def _extend(self, tree: List[Node], sample: Tuple[float, ...], obstacles, is_3d: bool) -> Node:\n",
      "        from math import dist\n",
      "\n",
      "        nearest = min(tree, key=lambda n: dist(n.position, sample))\n",
      "        new_pos = self._steer(nearest.position, sample, self.step_size)\n",
      "        if self._is_in_obstacle(new_pos, obstacles, is_3d):\n",
      "            return None\n",
      "\n",
      "        new_node = Node(new_pos, parent=nearest, cost=nearest.cost + dist(nearest.position, new_pos))\n",
      "        nearest.children.append(new_node)\n",
      "        tree.append(new_node)\n",
      "\n",
      "        # RRT* rewiring\n",
      "        near_nodes = [n for n in tree if dist(n.position, new_node.position) <= self.step_size * 2]\n",
      "        for neighbor in near_nodes:\n",
      "            potential_cost = new_node.cost + dist(new_node.position, neighbor.position)\n",
      "            if potential_cost < neighbor.cost and not self._is_in_obstacle(self._steer(new_node.position, neighbor.position, self.step_size), obstacles, is_3d):\n",
      "                neighbor.parent = new_node\n",
      "                neighbor.cost = potential_cost\n",
      "\n",
      "        return new_node\n",
      "\n",
      "    def _connect(self, tree: List[Node], target: Tuple[float, ...], obstacles, is_3d: bool) -> Node:\n",
      "        from math import dist\n",
      "\n",
      "        current = min(tree, key=lambda n: dist(n.position, target))\n",
      "        while True:\n",
      "            new_pos = self._steer(current.position, target, self.step_size)\n",
      "            if self._is_in_obstacle(new_pos, obstacles, is_3d):\n",
      "                return None\n",
      "            new_node = Node(new_pos, parent=current, cost=current.cost + dist(current.position, new_pos))\n",
      "            current.children.append(new_node)\n",
      "            tree.append(new_node)\n",
      "\n",
      "            if dist(new_pos, target) <= self.step_size:\n",
      "                return new_node\n",
      "            current = new_node\n",
      "\n",
      "    def _steer(self, from_pos: Tuple[float, ...], to_pos: Tuple[float, ...], step: float) -> Tuple[float, ...]:\n",
      "        from math import dist\n",
      "        vec = [t - f for f, t in zip(from_pos, to_pos)]\n",
      "        d = dist(from_pos, to_pos)\n",
      "        if d <= step:\n",
      "            return to_pos\n",
      "        scale = step / d\n",
      "        return tuple(f + scale * v for f, v in zip(from_pos, vec))\n",
      "\n",
      "    def _is_in_obstacle(self, pos: Tuple[float, ...], obstacles, is_3d: bool) -> bool:\n",
      "        if is_3d:\n",
      "            for x, y, z, w, h, d in obstacles:\n",
      "                px, py, pz = pos\n",
      "                if x <= px <= x + w and y <= py <= y + h and z <= pz <= z + d:\n",
      "                    return True\n",
      "        else:\n",
      "            for x, y, w, h in obstacles:\n",
      "                px, py = pos\n",
      "                if x <= px <= x + w and y <= py <= y + h:\n",
      "                    return True\n",
      "        return False\n",
      "\n",
      "    def _extract_path(self, node: Node) -> List[Tuple[float, ...]]:\n",
      "        path = []\n",
      "        while node:\n",
      "            path.append(node.position)\n",
      "            node = node.parent\n",
      "        return path[::-1]\n",
      "\n",
      "    \n",
      "Instruction : Design a brand new algorithm from scratch.\n",
      "\n",
      "Refer to below architecture:\n",
      "!!!!!generate Only class Node and Planner!!!!!!\n",
      "# --- Node class ---\n",
      "class Node:\n",
      "    def __init__(self, position, parent=None, cost=0.0):\n",
      "        self.position = position        # Tuple[float, ...] → 2D: (x,y), 3D: (x,y,z)\n",
      "        self.parent = parent            # Node or None\n",
      "        self.cost = cost                # Path cost\n",
      "        self.children = []\n",
      "        self.valid = True               # For collision checking etc.\n",
      "\n",
      "    #### Create additional methods if needed ####\n",
      "\n",
      "# --- PlannerResult structure ---\n",
      "class PlannerResult(NamedTuple):\n",
      "    success: bool                       # Path navigation success or not\n",
      "    path: List[Tuple[float, ...]]       # Final path from start to goal\n",
      "    nodes: List[Node]                   # All explored nodes\n",
      "    edges: List[Tuple[Node, Node]]      # Parent-child connections\n",
      "\n",
      "# --- Main Planner ---\n",
      "class Planner:\n",
      "    def __init__(self, max_iter: int = 5000):\n",
      "        self.max_iter = max_iter\n",
      "\n",
      "    def plan(self, map: Map) -> PlannerResult:\n",
      "        bounds = map.size                  # Tuple[int, ...]: (W,H) or (W,H,D)\n",
      "        start_position = map.start         # Tuple[float, ...] (W,H) or (W,H,D)\n",
      "        goal_position = map.goal           # Tuple[float, ...] (W,H) or (W,H,D)\n",
      "        obstacles = map.obstacles          # Rectangular blocks: 2D=(x,y,w,h), 3D=(x,y,z,w,h,d)\n",
      "\n",
      "        is_3d = len(bounds) == 3\n",
      "\n",
      "        # Core data\n",
      "        success_state = False # Path navigation success or not\n",
      "        extracted_path: List[Tuple[float, ...]] = [] # Final path from start to goal\n",
      "        nodes: List[Node] = [] # All explored nodes\n",
      "        edges: List[Tuple[Node, Node]] = [] # Parent-child connections\n",
      "\n",
      "        #### Place holder: path planning logic ####\n",
      "\n",
      "        return PlannerResult(\n",
      "            success=success_state,\n",
      "            path=extracted_path,\n",
      "            nodes=nodes,\n",
      "            edges=edges\n",
      "        )\n",
      "\n",
      "### Objective:\n",
      "- Improve path planning performance in terms of:\n",
      "  - Planning efficiency\n",
      "  - Path quality\n",
      "  - Robustness\n",
      "  - Success rate\n",
      "  - Path smoothness\n",
      "  - Path lengths\n",
      "  - Reduce search time\n",
      "\n",
      "### Constraints:\n",
      "- Implement it in Python.\n",
      "- You DO NOT NEED to declare the any imports.\n",
      "- When connecting nodes and adding edges in the planner, always perform two critical checks:\n",
      "1.Collision check for the node position: Ensure that the new node itself does not lie inside any obstacle.\n",
      "2.Edge-obstacle intersection check: Before adding an edge between two nodes, verify that the straight-line path between them does not intersect or pass through any obstacle.\n",
      "- After code generation, you must review the code to ensure it is syntactically correct, logically coherent, and executable within the expected environment.\n",
      "- At the top of your response, write an description of the algorithm in curly braces {}, followed by a concise explanation of the planning mechanism in round parentheses ().\n",
      "- Both the description and the planning mechanism should be placed outside and above the code block.\n",
      "- Output the code block containing the implementation only.\n",
      "⚠️ Do not give additional explanations.\n",
      "\n"
     ]
    }
   ],
   "source": [
    "print(pc)"
   ]
  },
  {
   "cell_type": "code",
   "execution_count": 8,
   "id": "04a64afb",
   "metadata": {},
   "outputs": [],
   "source": [
    "gcode = illm.get_response(pc)"
   ]
  },
  {
   "cell_type": "code",
   "execution_count": 9,
   "id": "08b77fac",
   "metadata": {},
   "outputs": [
    {
     "name": "stdout",
     "output_type": "stream",
     "text": [
      "{This algorithm implements a Bidirectional Informed RRT* planner with heuristic-based informed sampling and path smoothing. It grows two trees from start and goal states, focusing samples in an ellipsoidal informed set to concentrate the search on promising regions, improving efficiency and solution quality. It applies rewiring to optimize paths and uses a post-processing smoothing step for path smoothness and shorter paths.}  \n",
      "(A random sample is drawn within an ellipsoid defined by the current best path cost to bias sampling, then nodes are extended towards samples from both trees. The two trees attempt to connect after each iteration, enabling quick discovery of a path. Rewiring improves local paths iteratively. When a path is found, path smoothing refines it by shortcutting unnecessary waypoints.)\n",
      "\n",
      "```python\n",
      "from typing import List, Tuple, NamedTuple, Optional\n",
      "from math import dist, sqrt, cos, sin, acos\n",
      "import random\n",
      "\n",
      "# --- Node class ---\n",
      "class Node:\n",
      "    def __init__(self, position: Tuple[float, ...], parent: Optional['Node'] = None, cost: float = 0.0):\n",
      "        self.position = position        # Tuple[float, ...] for 2D or 3D\n",
      "        self.parent = parent            # Node or None\n",
      "        self.cost = cost                # Cost from start node\n",
      "        self.children: List[Node] = []\n",
      "        self.valid = True               # For collision checking etc.\n",
      "\n",
      "    def add_child(self, child: 'Node'):\n",
      "        self.children.append(child)\n",
      "\n",
      "    def path(self) -> List[Tuple[float, ...]]:\n",
      "        node, p = self, []\n",
      "        while node:\n",
      "            p.append(node.position)\n",
      "            node = node.parent\n",
      "        return p[::-1]\n",
      "\n",
      "\n",
      "class PlannerResult(NamedTuple):\n",
      "    success: bool\n",
      "    path: List[Tuple[float, ...]]\n",
      "    nodes: List[Node]\n",
      "    edges: List[Tuple[Node, Node]]\n",
      "\n",
      "\n",
      "# --- Main Planner ---\n",
      "class Planner:\n",
      "    def __init__(self, max_iter: int = 5000, step_size: float = 1.0, goal_sample_rate: float = 0.05, rewire_radius: float = 5.0):\n",
      "        self.max_iter = max_iter\n",
      "        self.step_size = step_size\n",
      "        self.goal_sample_rate = goal_sample_rate\n",
      "        self.rewire_radius = rewire_radius\n",
      "\n",
      "    def plan(self, map) -> PlannerResult:\n",
      "        bounds: Tuple[int, ...] = map.size\n",
      "        start_pos: Tuple[float, ...] = map.start\n",
      "        goal_pos: Tuple[float, ...] = map.goal\n",
      "        obstacles = map.obstacles\n",
      "        is_3d = len(bounds) == 3\n",
      "        dim = 3 if is_3d else 2\n",
      "\n",
      "        tree_start: List[Node] = [Node(start_pos)]\n",
      "        tree_goal: List[Node] = [Node(goal_pos)]\n",
      "\n",
      "        nodes_all: List[Node] = tree_start + tree_goal\n",
      "\n",
      "        best_path_cost = float('inf')\n",
      "        best_path: List[Tuple[float, ...]] = []\n",
      "\n",
      "        # Precompute Euclidean distance function\n",
      "        def euclidean(a: Tuple[float, ...], b: Tuple[float, ...]) -> float:\n",
      "            return dist(a, b)\n",
      "\n",
      "        # Collision checking for a segment using discretized points\n",
      "        def collision_free(p1: Tuple[float, ...], p2: Tuple[float, ...]) -> bool:\n",
      "            steps = max(int(euclidean(p1, p2) / (self.step_size / 2)), 1)\n",
      "            for i in range(steps + 1):\n",
      "                interp = tuple(p1[j] + (p2[j] - p1[j]) * i / steps for j in range(dim))\n",
      "                if self._is_in_obstacle(interp, obstacles, is_3d):\n",
      "                    return False\n",
      "            return True\n",
      "\n",
      "        # Informed sampling within an ellipsoid covering start & goal with current best cost\n",
      "        def informed_sample():\n",
      "            if best_path_cost == float('inf'):\n",
      "                # Uniform random sampling\n",
      "                return tuple(random.uniform(0, bounds[i]) for i in range(dim))\n",
      "\n",
      "            c_min = euclidean(start_pos, goal_pos)\n",
      "            c_best = best_path_cost\n",
      "            if c_best < c_min:\n",
      "                c_best = c_min  # numerical stability\n",
      "\n",
      "            # Compute center of ellipsoid (midpoint)\n",
      "            center = tuple((s + g) / 2 for s, g in zip(start_pos, goal_pos))\n",
      "            # Unit vector from start to goal\n",
      "            unit_vec = tuple((g - s) / c_min for s, g in zip(start_pos, goal_pos))\n",
      "\n",
      "            # Create orthonormal basis with unit_vec as first vector\n",
      "            basis = [list(unit_vec)]\n",
      "            if dim == 2:\n",
      "                # Perp vector in 2D\n",
      "                basis.append([-unit_vec[1], unit_vec[0]])\n",
      "            else:\n",
      "                # Construct orthonormal basis in 3D using Gram-Schmidt\n",
      "                # Choose arbitrary vector not colinear\n",
      "                arbitrary = [1,0,0] if abs(unit_vec[0]) < 0.9 else [0,1,0]\n",
      "                v2 = [arbitrary[i] - unit_vec[i]*sum(unit_vec[j]*arbitrary[j] for j in range(3)) for i in range(3)]\n",
      "                norm_v2 = sqrt(sum(x*x for x in v2))\n",
      "                if norm_v2 < 1e-9:\n",
      "                    v2 = [0,0,0]\n",
      "                else:\n",
      "                    v2 = [x / norm_v2 for x in v2]\n",
      "                # Third basis vector by cross product\n",
      "                v3 = [unit_vec[1]*v2[2]-unit_vec[2]*v2[1],\n",
      "                      unit_vec[2]*v2[0]-unit_vec[0]*v2[2],\n",
      "                      unit_vec[0]*v2[1]-unit_vec[1]*v2[0]]\n",
      "                basis.extend([v2, v3])\n",
      "\n",
      "            # Ellipsoid radii\n",
      "            a1 = c_best / 2\n",
      "            if dim == 2:\n",
      "                a2 = sqrt(c_best**2 - c_min**2) / 2\n",
      "                radii = [a1, a2]\n",
      "            else:\n",
      "                a2 = sqrt(c_best**2 - c_min**2) / 2\n",
      "                radii = [a1, a2, a2]\n",
      "\n",
      "            # Sample random point in unit n-ball\n",
      "            while True:\n",
      "                sample_ball = [random.gauss(0,1) for _ in range(dim)]\n",
      "                norm_sample = sqrt(sum(x*x for x in sample_ball))\n",
      "                if norm_sample > 1e-9:\n",
      "                    unit_sample = [x / norm_sample for x in sample_ball]\n",
      "                    radius_ball = random.random() ** (1/dim)\n",
      "                    unit_sample = [x * radius_ball for x in unit_sample]\n",
      "                    break\n",
      "\n",
      "            # Map from unit ball to ellipsoid: scale by radii then rotate by basis then translate by center\n",
      "            scaled = [unit_sample[i]*radii[i] for i in range(dim)]\n",
      "            point = [0.0]*dim\n",
      "            for i in range(dim):\n",
      "                for j in range(dim):\n",
      "                    point[i] += basis[j][i]*scaled[j]\n",
      "            sample_in_ellipsoid = tuple(point[i] + center[i] for i in range(dim))\n",
      "\n",
      "            # Clamp sample inside bounds\n",
      "            clamped = tuple(\n",
      "                max(0, min(sample_in_ellipsoid[i], bounds[i]))\n",
      "                for i in range(dim)\n",
      "            )\n",
      "            return clamped\n",
      "\n",
      "        def steer(from_pos: Tuple[float, ...], to_pos: Tuple[float, ...]) -> Tuple[float, ...]:\n",
      "            d = euclidean(from_pos, to_pos)\n",
      "            if d <= self.step_size:\n",
      "                return to_pos\n",
      "            scale = self.step_size / d\n",
      "            return tuple(from_pos[i] + scale*(to_pos[i] - from_pos[i]) for i in range(dim))\n",
      "\n",
      "        def nearest(tree: List[Node], point: Tuple[float, ...]) -> Node:\n",
      "            return min(tree, key=lambda n: euclidean(n.position, point))\n",
      "\n",
      "        def near_nodes(tree: List[Node], node_pos: Tuple[float, ...], radius: float) -> List[Node]:\n",
      "            return [n for n in tree if euclidean(n.position, node_pos) <= radius]\n",
      "\n",
      "        def try_extend(tree: List[Node], sample: Tuple[float, ...]) -> Optional[Node]:\n",
      "            nearest_node = nearest(tree, sample)\n",
      "            new_pos = steer(nearest_node.position, sample)\n",
      "            if not collision_free(nearest_node.position, new_pos):\n",
      "                return None\n",
      "            new_cost = nearest_node.cost + euclidean(nearest_node.position, new_pos)\n",
      "            new_node = Node(new_pos, parent=nearest_node, cost=new_cost)\n",
      "            nearest_node.add_child(new_node)\n",
      "            tree.append(new_node)\n",
      "            nodes_all.append(new_node)\n",
      "\n",
      "            # Rewiring in RRT* style\n",
      "            neighbors = near_nodes(tree, new_pos, self.rewire_radius)\n",
      "            for nb in neighbors:\n",
      "                if nb is new_node.parent:\n",
      "                    continue\n",
      "                possible_cost = new_node.cost + euclidean(new_node.position, nb.position)\n",
      "                if possible_cost < nb.cost and collision_free(new_node.position, nb.position):\n",
      "                    # Rewire neighbor\n",
      "                    # Remove old parent's child link\n",
      "                    if nb.parent:\n",
      "                        try:\n",
      "                            nb.parent.children.remove(nb)\n",
      "                        except ValueError:\n",
      "                            pass\n",
      "                    nb.parent = new_node\n",
      "                    nb.cost = possible_cost\n",
      "                    new_node.add_child(nb)\n",
      "\n",
      "            return new_node\n",
      "\n",
      "        # Connect tries to connect tree to target by repeated steering steps\n",
      "        def try_connect(tree: List[Node], target: Tuple[float, ...]) -> Optional[Node]:\n",
      "            current = nearest(tree, target)\n",
      "            while True:\n",
      "                new_pos = steer(current.position, target)\n",
      "                if not collision_free(current.position, new_pos):\n",
      "                    return None\n",
      "                new_cost = current.cost + euclidean(current.position, new_pos)\n",
      "                new_node = Node(new_pos, parent=current, cost=new_cost)\n",
      "                current.add_child(new_node)\n",
      "                tree.append(new_node)\n",
      "                nodes_all.append(new_node)\n",
      "                if euclidean(new_pos, target) <= self.step_size:\n",
      "                    return new_node\n",
      "                current = new_node\n",
      "\n",
      "        # Attempt to connect two nodes, returns True if successful and the connecting nodes in trees\n",
      "        def attempt_connection(node_start: Node, tree_goal: List[Node]) -> Optional[Tuple[Node, Node]]:\n",
      "            nearest_goal_node = nearest(tree_goal, node_start.position)\n",
      "            # Try path from goal tree node to start tree node by stepping and collision checking (reverse from goal)\n",
      "            if collision_free(nearest_goal_node.position, node_start.position):\n",
      "                # Found connection, create connecting node for tree_goal if needed (direct connection)\n",
      "                # Link them by making goal node parent of node_start or vice versa, no tree modification needed here\n",
      "                # Return nodes for path extraction\n",
      "                return (node_start, nearest_goal_node)\n",
      "            else:\n",
      "                # Try extend goal tree towards start node to improve connection chance\n",
      "                new_goal_node = try_connect(tree_goal, node_start.position)\n",
      "                if new_goal_node:\n",
      "                    if euclidean(new_goal_node.position, node_start.position) <= self.step_size and collision_free(new_goal_node.position, node_start.position):\n",
      "                        return (node_start, new_goal_node)\n",
      "            return None\n",
      "\n",
      "        # Path smoothing postprocessing by shortcutting\n",
      "        def smooth_path(path: List[Tuple[float, ...]], max_attempts=100) -> List[Tuple[float, ...]]:\n",
      "            if len(path) <= 2:\n",
      "                return path\n",
      "            for _ in range(max_attempts):\n",
      "                if len(path) <= 2:\n",
      "                    break\n",
      "                i = random.randint(0, len(path)-3)\n",
      "                j = random.randint(i+2, len(path)-1)\n",
      "                if collision_free(path[i], path[j]):\n",
      "                    # Shortcut by removing intermediate nodes\n",
      "                    path = path[:i+1] + path[j:]\n",
      "            return path\n",
      "\n",
      "        # Main loop\n",
      "        for iter in range(self.max_iter):\n",
      "            # Alternate expanding trees to balance growth\n",
      "            if iter % 2 == 0:\n",
      "                tree_a, tree_b = tree_start, tree_goal\n",
      "            else:\n",
      "                tree_a, tree_b = tree_goal, tree_start\n",
      "\n",
      "            # Sampling (goal bias or informed sampling)\n",
      "            if random.random() < self.goal_sample_rate:\n",
      "                sample = goal_pos if tree_a is tree_start else start_pos\n",
      "            else:\n",
      "                sample = informed_sample()\n",
      "\n",
      "            new_node = try_extend(tree_a, sample)\n",
      "            if new_node is None:\n",
      "                continue\n",
      "\n",
      "            connection = attempt_connection(new_node, tree_b)\n",
      "            if connection:\n",
      "                # Reconstruct path from start to goal via connected nodes\n",
      "                node_from_start, node_from_goal = connection\n",
      "                # Identify which tree is start or goal for proper path extraction\n",
      "                if tree_a is tree_start:\n",
      "                    path_start = node_from_start.path()\n",
      "                    path_goal = node_from_goal.path()\n",
      "                    path_goal.reverse()\n",
      "                else:\n",
      "                    path_start = node_from_goal.path()\n",
      "                    path_goal = node_from_start.path()\n",
      "                    path_goal.reverse()\n",
      "\n",
      "                candidate_path = path_start + path_goal[1:]\n",
      "\n",
      "                candidate_cost = 0.0\n",
      "                for k in range(len(candidate_path) - 1):\n",
      "                    candidate_cost += euclidean(candidate_path[k], candidate_path[k+1])\n",
      "\n",
      "                if candidate_cost < best_path_cost:\n",
      "                    best_path_cost = candidate_cost\n",
      "                    best_path = candidate_path\n",
      "                    # Swap to tree_start and tree_goal for consistent variable usage\n",
      "                    if tree_a is tree_goal:\n",
      "                        tree_start, tree_goal = tree_goal, tree_start\n",
      "\n",
      "            # Swap trees for next iteration, not needed here since handled by iter%2\n",
      "\n",
      "        success = len(best_path) > 0\n",
      "\n",
      "        if success:\n",
      "            best_path = smooth_path(best_path, max_attempts=200)\n",
      "\n",
      "        edges = [(node.parent, node) for node in nodes_all if node.parent]\n",
      "\n",
      "        return PlannerResult(\n",
      "            success=success,\n",
      "            path=best_path,\n",
      "            nodes=nodes_all,\n",
      "            edges=edges\n",
      "        )\n",
      "\n",
      "\n",
      "    def _is_in_obstacle(self, pos: Tuple[float, ...], obstacles, is_3d: bool) -> bool:\n",
      "        if is_3d:\n",
      "            px, py, pz = pos\n",
      "            for x, y, z, w, h, d in obstacles:\n",
      "                if x <= px <= x + w and y <= py <= y + h and z <= pz <= z + d:\n",
      "                    return True\n",
      "        else:\n",
      "            px, py = pos\n",
      "            for x, y, w, h in obstacles:\n",
      "                if x <= px <= x + w and y <= py <= y + h:\n",
      "                    return True\n",
      "        return False\n",
      "```\n"
     ]
    }
   ],
   "source": [
    "print(gcode)"
   ]
  },
  {
   "cell_type": "code",
   "execution_count": 11,
   "id": "659735f5",
   "metadata": {},
   "outputs": [],
   "source": [
    "c, m, a = ee._extract_alg(gcode)"
   ]
  },
  {
   "cell_type": "code",
   "execution_count": 16,
   "id": "37e6a2f6",
   "metadata": {},
   "outputs": [
    {
     "name": "stdout",
     "output_type": "stream",
     "text": [
      "class Node:\n",
      "    def __init__(self, position: Tuple[float, ...], parent: Optional['Node'] = None, cost: float = 0.0):\n",
      "        self.position = position        # Tuple[float, ...] for 2D or 3D\n",
      "        self.parent = parent            # Node or None\n",
      "        self.cost = cost                # Cost from start node\n",
      "        self.children: List[Node] = []\n",
      "        self.valid = True               # For collision checking etc.\n",
      "\n",
      "    def add_child(self, child: 'Node'):\n",
      "        self.children.append(child)\n",
      "\n",
      "    def path(self) -> List[Tuple[float, ...]]:\n",
      "        node, p = self, []\n",
      "        while node:\n",
      "            p.append(node.position)\n",
      "            node = node.parent\n",
      "        return p[::-1]\n",
      "class Planner:\n",
      "    def __init__(self, max_iter: int = 5000, step_size: float = 1.0, goal_sample_rate: float = 0.05, rewire_radius: float = 5.0):\n",
      "        self.max_iter = max_iter\n",
      "        self.step_size = step_size\n",
      "        self.goal_sample_rate = goal_sample_rate\n",
      "        self.rewire_radius = rewire_radius\n",
      "\n",
      "    def plan(self, map) -> PlannerResult:\n",
      "        bounds: Tuple[int, ...] = map.size\n",
      "        start_pos: Tuple[float, ...] = map.start\n",
      "        goal_pos: Tuple[float, ...] = map.goal\n",
      "        obstacles = map.obstacles\n",
      "        is_3d = len(bounds) == 3\n",
      "        dim = 3 if is_3d else 2\n",
      "\n",
      "        tree_start: List[Node] = [Node(start_pos)]\n",
      "        tree_goal: List[Node] = [Node(goal_pos)]\n",
      "\n",
      "        nodes_all: List[Node] = tree_start + tree_goal\n",
      "\n",
      "        best_path_cost = float('inf')\n",
      "        best_path: List[Tuple[float, ...]] = []\n",
      "\n",
      "        # Precompute Euclidean distance function\n",
      "        def euclidean(a: Tuple[float, ...], b: Tuple[float, ...]) -> float:\n",
      "            return dist(a, b)\n",
      "\n",
      "        # Collision checking for a segment using discretized points\n",
      "        def collision_free(p1: Tuple[float, ...], p2: Tuple[float, ...]) -> bool:\n",
      "            steps = max(int(euclidean(p1, p2) / (self.step_size / 2)), 1)\n",
      "            for i in range(steps + 1):\n",
      "                interp = tuple(p1[j] + (p2[j] - p1[j]) * i / steps for j in range(dim))\n",
      "                if self._is_in_obstacle(interp, obstacles, is_3d):\n",
      "                    return False\n",
      "            return True\n",
      "\n",
      "        # Informed sampling within an ellipsoid covering start & goal with current best cost\n",
      "        def informed_sample():\n",
      "            if best_path_cost == float('inf'):\n",
      "                # Uniform random sampling\n",
      "                return tuple(random.uniform(0, bounds[i]) for i in range(dim))\n",
      "\n",
      "            c_min = euclidean(start_pos, goal_pos)\n",
      "            c_best = best_path_cost\n",
      "            if c_best < c_min:\n",
      "                c_best = c_min  # numerical stability\n",
      "\n",
      "            # Compute center of ellipsoid (midpoint)\n",
      "            center = tuple((s + g) / 2 for s, g in zip(start_pos, goal_pos))\n",
      "            # Unit vector from start to goal\n",
      "            unit_vec = tuple((g - s) / c_min for s, g in zip(start_pos, goal_pos))\n",
      "\n",
      "            # Create orthonormal basis with unit_vec as first vector\n",
      "            basis = [list(unit_vec)]\n",
      "            if dim == 2:\n",
      "                # Perp vector in 2D\n",
      "                basis.append([-unit_vec[1], unit_vec[0]])\n",
      "            else:\n",
      "                # Construct orthonormal basis in 3D using Gram-Schmidt\n",
      "                # Choose arbitrary vector not colinear\n",
      "                arbitrary = [1,0,0] if abs(unit_vec[0]) < 0.9 else [0,1,0]\n",
      "                v2 = [arbitrary[i] - unit_vec[i]*sum(unit_vec[j]*arbitrary[j] for j in range(3)) for i in range(3)]\n",
      "                norm_v2 = sqrt(sum(x*x for x in v2))\n",
      "                if norm_v2 < 1e-9:\n",
      "                    v2 = [0,0,0]\n",
      "                else:\n",
      "                    v2 = [x / norm_v2 for x in v2]\n",
      "                # Third basis vector by cross product\n",
      "                v3 = [unit_vec[1]*v2[2]-unit_vec[2]*v2[1],\n",
      "                      unit_vec[2]*v2[0]-unit_vec[0]*v2[2],\n",
      "                      unit_vec[0]*v2[1]-unit_vec[1]*v2[0]]\n",
      "                basis.extend([v2, v3])\n",
      "\n",
      "            # Ellipsoid radii\n",
      "            a1 = c_best / 2\n",
      "            if dim == 2:\n",
      "                a2 = sqrt(c_best**2 - c_min**2) / 2\n",
      "                radii = [a1, a2]\n",
      "            else:\n",
      "                a2 = sqrt(c_best**2 - c_min**2) / 2\n",
      "                radii = [a1, a2, a2]\n",
      "\n",
      "            # Sample random point in unit n-ball\n",
      "            while True:\n",
      "                sample_ball = [random.gauss(0,1) for _ in range(dim)]\n",
      "                norm_sample = sqrt(sum(x*x for x in sample_ball))\n",
      "                if norm_sample > 1e-9:\n",
      "                    unit_sample = [x / norm_sample for x in sample_ball]\n",
      "                    radius_ball = random.random() ** (1/dim)\n",
      "                    unit_sample = [x * radius_ball for x in unit_sample]\n",
      "                    break\n",
      "\n",
      "            # Map from unit ball to ellipsoid: scale by radii then rotate by basis then translate by center\n",
      "            scaled = [unit_sample[i]*radii[i] for i in range(dim)]\n",
      "            point = [0.0]*dim\n",
      "            for i in range(dim):\n",
      "                for j in range(dim):\n",
      "                    point[i] += basis[j][i]*scaled[j]\n",
      "            sample_in_ellipsoid = tuple(point[i] + center[i] for i in range(dim))\n",
      "\n",
      "            # Clamp sample inside bounds\n",
      "            clamped = tuple(\n",
      "                max(0, min(sample_in_ellipsoid[i], bounds[i]))\n",
      "                for i in range(dim)\n",
      "            )\n",
      "            return clamped\n",
      "\n",
      "        def steer(from_pos: Tuple[float, ...], to_pos: Tuple[float, ...]) -> Tuple[float, ...]:\n",
      "            d = euclidean(from_pos, to_pos)\n",
      "            if d <= self.step_size:\n",
      "                return to_pos\n",
      "            scale = self.step_size / d\n",
      "            return tuple(from_pos[i] + scale*(to_pos[i] - from_pos[i]) for i in range(dim))\n",
      "\n",
      "        def nearest(tree: List[Node], point: Tuple[float, ...]) -> Node:\n",
      "            return min(tree, key=lambda n: euclidean(n.position, point))\n",
      "\n",
      "        def near_nodes(tree: List[Node], node_pos: Tuple[float, ...], radius: float) -> List[Node]:\n",
      "            return [n for n in tree if euclidean(n.position, node_pos) <= radius]\n",
      "\n",
      "        def try_extend(tree: List[Node], sample: Tuple[float, ...]) -> Optional[Node]:\n",
      "            nearest_node = nearest(tree, sample)\n",
      "            new_pos = steer(nearest_node.position, sample)\n",
      "            if not collision_free(nearest_node.position, new_pos):\n",
      "                return None\n",
      "            new_cost = nearest_node.cost + euclidean(nearest_node.position, new_pos)\n",
      "            new_node = Node(new_pos, parent=nearest_node, cost=new_cost)\n",
      "            nearest_node.add_child(new_node)\n",
      "            tree.append(new_node)\n",
      "            nodes_all.append(new_node)\n",
      "\n",
      "            # Rewiring in RRT* style\n",
      "            neighbors = near_nodes(tree, new_pos, self.rewire_radius)\n",
      "            for nb in neighbors:\n",
      "                if nb is new_node.parent:\n",
      "                    continue\n",
      "                possible_cost = new_node.cost + euclidean(new_node.position, nb.position)\n",
      "                if possible_cost < nb.cost and collision_free(new_node.position, nb.position):\n",
      "                    # Rewire neighbor\n",
      "                    # Remove old parent's child link\n",
      "                    if nb.parent:\n",
      "                        try:\n",
      "                            nb.parent.children.remove(nb)\n",
      "                        except ValueError:\n",
      "                            pass\n",
      "                    nb.parent = new_node\n",
      "                    nb.cost = possible_cost\n",
      "                    new_node.add_child(nb)\n",
      "\n",
      "            return new_node\n",
      "\n",
      "        # Connect tries to connect tree to target by repeated steering steps\n",
      "        def try_connect(tree: List[Node], target: Tuple[float, ...]) -> Optional[Node]:\n",
      "            current = nearest(tree, target)\n",
      "            while True:\n",
      "                new_pos = steer(current.position, target)\n",
      "                if not collision_free(current.position, new_pos):\n",
      "                    return None\n",
      "                new_cost = current.cost + euclidean(current.position, new_pos)\n",
      "                new_node = Node(new_pos, parent=current, cost=new_cost)\n",
      "                current.add_child(new_node)\n",
      "                tree.append(new_node)\n",
      "                nodes_all.append(new_node)\n",
      "                if euclidean(new_pos, target) <= self.step_size:\n",
      "                    return new_node\n",
      "                current = new_node\n",
      "\n",
      "        # Attempt to connect two nodes, returns True if successful and the connecting nodes in trees\n",
      "        def attempt_connection(node_start: Node, tree_goal: List[Node]) -> Optional[Tuple[Node, Node]]:\n",
      "            nearest_goal_node = nearest(tree_goal, node_start.position)\n",
      "            # Try path from goal tree node to start tree node by stepping and collision checking (reverse from goal)\n",
      "            if collision_free(nearest_goal_node.position, node_start.position):\n",
      "                # Found connection, create connecting node for tree_goal if needed (direct connection)\n",
      "                # Link them by making goal node parent of node_start or vice versa, no tree modification needed here\n",
      "                # Return nodes for path extraction\n",
      "                return (node_start, nearest_goal_node)\n",
      "            else:\n",
      "                # Try extend goal tree towards start node to improve connection chance\n",
      "                new_goal_node = try_connect(tree_goal, node_start.position)\n",
      "                if new_goal_node:\n",
      "                    if euclidean(new_goal_node.position, node_start.position) <= self.step_size and collision_free(new_goal_node.position, node_start.position):\n",
      "                        return (node_start, new_goal_node)\n",
      "            return None\n",
      "\n",
      "        # Path smoothing postprocessing by shortcutting\n",
      "        def smooth_path(path: List[Tuple[float, ...]], max_attempts=100) -> List[Tuple[float, ...]]:\n",
      "            if len(path) <= 2:\n",
      "                return path\n",
      "            for _ in range(max_attempts):\n",
      "                if len(path) <= 2:\n",
      "                    break\n",
      "                i = random.randint(0, len(path)-3)\n",
      "                j = random.randint(i+2, len(path)-1)\n",
      "                if collision_free(path[i], path[j]):\n",
      "                    # Shortcut by removing intermediate nodes\n",
      "                    path = path[:i+1] + path[j:]\n",
      "            return path\n",
      "\n",
      "        # Main loop\n",
      "        for iter in range(self.max_iter):\n",
      "            # Alternate expanding trees to balance growth\n",
      "            if iter % 2 == 0:\n",
      "                tree_a, tree_b = tree_start, tree_goal\n",
      "            else:\n",
      "                tree_a, tree_b = tree_goal, tree_start\n",
      "\n",
      "            # Sampling (goal bias or informed sampling)\n",
      "            if random.random() < self.goal_sample_rate:\n",
      "                sample = goal_pos if tree_a is tree_start else start_pos\n",
      "            else:\n",
      "                sample = informed_sample()\n",
      "\n",
      "            new_node = try_extend(tree_a, sample)\n",
      "            if new_node is None:\n",
      "                continue\n",
      "\n",
      "            connection = attempt_connection(new_node, tree_b)\n",
      "            if connection:\n",
      "                # Reconstruct path from start to goal via connected nodes\n",
      "                node_from_start, node_from_goal = connection\n",
      "                # Identify which tree is start or goal for proper path extraction\n",
      "                if tree_a is tree_start:\n",
      "                    path_start = node_from_start.path()\n",
      "                    path_goal = node_from_goal.path()\n",
      "                    path_goal.reverse()\n",
      "                else:\n",
      "                    path_start = node_from_goal.path()\n",
      "                    path_goal = node_from_start.path()\n",
      "                    path_goal.reverse()\n",
      "\n",
      "                candidate_path = path_start + path_goal[1:]\n",
      "\n",
      "                candidate_cost = 0.0\n",
      "                for k in range(len(candidate_path) - 1):\n",
      "                    candidate_cost += euclidean(candidate_path[k], candidate_path[k+1])\n",
      "\n",
      "                if candidate_cost < best_path_cost:\n",
      "                    best_path_cost = candidate_cost\n",
      "                    best_path = candidate_path\n",
      "                    # Swap to tree_start and tree_goal for consistent variable usage\n",
      "                    if tree_a is tree_goal:\n",
      "                        tree_start, tree_goal = tree_goal, tree_start\n",
      "\n",
      "            # Swap trees for next iteration, not needed here since handled by iter%2\n",
      "\n",
      "        success = len(best_path) > 0\n",
      "\n",
      "        if success:\n",
      "            best_path = smooth_path(best_path, max_attempts=200)\n",
      "\n",
      "        edges = [(node.parent, node) for node in nodes_all if node.parent]\n",
      "\n",
      "        return PlannerResult(\n",
      "            success=success,\n",
      "            path=best_path,\n",
      "            nodes=nodes_all,\n",
      "            edges=edges\n",
      "        )\n",
      "\n",
      "\n",
      "    def _is_in_obstacle(self, pos: Tuple[float, ...], obstacles, is_3d: bool) -> bool:\n",
      "        if is_3d:\n",
      "            px, py, pz = pos\n",
      "            for x, y, z, w, h, d in obstacles:\n",
      "                if x <= px <= x + w and y <= py <= y + h and z <= pz <= z + d:\n",
      "                    return True\n",
      "        else:\n",
      "            px, py = pos\n",
      "            for x, y, w, h in obstacles:\n",
      "                if x <= px <= x + w and y <= py <= y + h:\n",
      "                    return True\n",
      "        return False\n"
     ]
    }
   ],
   "source": [
    "print(a)"
   ]
  },
  {
   "cell_type": "code",
   "execution_count": null,
   "id": "a39de257",
   "metadata": {},
   "outputs": [],
   "source": []
  }
 ],
 "metadata": {
  "kernelspec": {
   "display_name": "peoh",
   "language": "python",
   "name": "python3"
  },
  "language_info": {
   "codemirror_mode": {
    "name": "ipython",
    "version": 3
   },
   "file_extension": ".py",
   "mimetype": "text/x-python",
   "name": "python",
   "nbconvert_exporter": "python",
   "pygments_lexer": "ipython3",
   "version": "3.10.18"
  }
 },
 "nbformat": 4,
 "nbformat_minor": 5
}
