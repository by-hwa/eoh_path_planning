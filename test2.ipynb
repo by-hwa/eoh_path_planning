{
 "cells": [
  {
   "cell_type": "code",
   "execution_count": 18,
   "id": "c96b2583",
   "metadata": {},
   "outputs": [],
   "source": [
    "import numpy as np\n",
    "import random\n",
    "from typing import Tuple, Literal, Union, Optional, List, Dict, NamedTuple, Callable, Any\n",
    "from queue import Queue\n",
    "import time\n",
    "import pickle\n",
    "import plotly.graph_objs as go\n",
    "import plotly.express as px\n",
    "import pandas as pd\n",
    "import os"
   ]
  },
  {
   "cell_type": "code",
   "execution_count": null,
   "id": "9abc538c",
   "metadata": {},
   "outputs": [],
   "source": [
    "class Map(NamedTuple):\n",
    "    grid: np.ndarray\n",
    "    start: Union[Tuple[float, float], Tuple[float, float, float]]\n",
    "    goal: Union[Tuple[float, float], Tuple[float, float, float]]\n",
    "    obstacles: List[Union[Tuple[float, float, float, float], Tuple[float, float, float, float, float, float]]] # x, y, width, height or x, y, z, width, height, dimension\n",
    "    size: Union[Tuple[int, int], Tuple[int, int, int]]\n",
    "\n",
    "class PlannerResult(NamedTuple):\n",
    "    success: bool\n",
    "    path: List[Union[Tuple[float, float], Tuple[float, float, float]]]\n",
    "    nodes: List[Union[Tuple[float, float], Tuple[float, float, float]]]\n",
    "    edges: List[Tuple[Tuple[float, ...], Tuple[float, ...]]]  # (parent, child)\n",
    "\n",
    "class Node:\n",
    "    def __init__(self, position, parent=None, cost=0.0):\n",
    "        self.position = position\n",
    "        self.parent = parent\n",
    "        self.cost = cost\n",
    "        self.children = []\n",
    "        self.valid = True  # 장애물 충돌 여부 등\n"
   ]
  },
  {
   "cell_type": "code",
   "execution_count": 3,
   "id": "459d812a",
   "metadata": {},
   "outputs": [],
   "source": [
    "class MapGenerator:\n",
    "    def __init__(\n",
    "        self,\n",
    "        map_type: Literal[\"random\", \"multi_narrow\", \"maze\"] = \"random\",\n",
    "        map_size: Union[Tuple[int, int], Tuple[int, int, int]] = (50, 50),\n",
    "        obstacle_percent: float = 0.2,\n",
    "        min_obstacle_size: Union[Tuple[int, int], Tuple[int, int, int]] = (2, 2),\n",
    "        max_obstacle_size: Union[Tuple[int, int], Tuple[int, int, int]] = (5, 5),\n",
    "        max_obstacle_count: Optional[int] = None\n",
    "    ):\n",
    "        self.map_type = map_type\n",
    "        self.map_size = map_size\n",
    "        self.obstacle_percent = obstacle_percent\n",
    "        self.obstacle_list: List[Tuple[int, ...]] = []\n",
    "        self.min_size = min_obstacle_size\n",
    "        self.max_size = max_obstacle_size\n",
    "        self.max_count = max_obstacle_count\n",
    "        self.is_3d = len(map_size) == 3\n",
    "        self.map = self._init_map()\n",
    "        self.start = None\n",
    "        self.goal = None\n",
    "\n",
    "    def _init_map(self):\n",
    "        shape = self.map_size[::-1] if self.is_3d else (self.map_size[1], self.map_size[0])\n",
    "        return np.zeros(shape, dtype=np.uint8)\n",
    "\n",
    "    def generate(self, start: Tuple[int, ...], goal: Tuple[int, ...]) -> Dict[str, Union[np.ndarray, Tuple[int, ...], List[Tuple[int, ...]], Tuple[int, int]]]:\n",
    "        self.start = start\n",
    "        self.goal = goal\n",
    "        tries = 0\n",
    "        max_tries = 100\n",
    "\n",
    "        while tries < max_tries:\n",
    "            self.map = self._init_map()\n",
    "            self.obstacle_list.clear()\n",
    "\n",
    "            if self.map_type == \"maze\":\n",
    "                self.map = self._generate_maze()\n",
    "            elif self.map_type == \"random\":\n",
    "                self._generate_random_obstacles(start, goal)\n",
    "            elif self.map_type == \"multi_narrow\":\n",
    "                self._generate_multi_narrow(start, goal)\n",
    "\n",
    "            if self._path_exists(start, goal):\n",
    "                return Map(\n",
    "                    grid=self.map,\n",
    "                    start=start,\n",
    "                    goal=goal,\n",
    "                    obstacles=self.obstacle_list,\n",
    "                    size=self.map_size\n",
    "                )\n",
    "            tries += 1\n",
    "\n",
    "        raise RuntimeError(\"Failed to generate a connected map after multiple attempts.\")\n",
    "\n",
    "    def _add_obstacle(self, coords: Tuple[int, ...]):\n",
    "        self.obstacle_list.append(coords)\n",
    "\n",
    "    def _path_exists(self, start, goal):\n",
    "        visited = set()\n",
    "        q = Queue()\n",
    "        q.put(start)\n",
    "        visited.add(start)\n",
    "\n",
    "        dims = len(start)\n",
    "        neighbors = [(-1,0), (1,0), (0,-1), (0,1)] if dims == 2 else \\\n",
    "                    [(-1,0,0),(1,0,0),(0,-1,0),(0,1,0),(0,0,-1),(0,0,1)]\n",
    "\n",
    "        while not q.empty():\n",
    "            node = q.get()\n",
    "            if node == goal:\n",
    "                return True\n",
    "\n",
    "            for delta in neighbors:\n",
    "                neighbor = tuple(node[i] + delta[i] for i in range(dims))\n",
    "                if self._in_bounds(neighbor) and neighbor not in visited:\n",
    "                    if self._is_free(neighbor):\n",
    "                        visited.add(neighbor)\n",
    "                        q.put(neighbor)\n",
    "        return False\n",
    "\n",
    "    def _in_bounds(self, p):\n",
    "        if self.is_3d:\n",
    "            z, y, x = p\n",
    "            return 0 <= z < self.map.shape[0] and 0 <= y < self.map.shape[1] and 0 <= x < self.map.shape[2]\n",
    "        else:\n",
    "            y, x = p\n",
    "            return 0 <= y < self.map.shape[0] and 0 <= x < self.map.shape[1]\n",
    "\n",
    "    def _is_free(self, p):\n",
    "        if self.is_3d:\n",
    "            z, y, x = p\n",
    "            return self.map[z, y, x] == 0\n",
    "        else:\n",
    "            y, x = p\n",
    "            return self.map[y, x] == 0\n",
    "\n",
    "    def _is_inside(self, point, x, y, z, ow, oh, od):\n",
    "        px, py, *pz = point\n",
    "        if z is None:\n",
    "            return x <= px < x + ow and y <= py < y + oh\n",
    "        else:\n",
    "            pz = pz[0]\n",
    "            return x <= px < x + ow and y <= py < y + oh and z <= pz < z + od\n",
    "\n",
    "    def _generate_random_obstacles(self, start, goal):\n",
    "        if self.is_3d:\n",
    "            w, h, d = self.map_size\n",
    "            total_voxels = w * h * d\n",
    "            max_obs = int(total_voxels * self.obstacle_percent)\n",
    "            count = 0\n",
    "            for _ in range(10000):\n",
    "                ow = random.randint(self.min_size[0], self.max_size[0])\n",
    "                oh = random.randint(self.min_size[1], self.max_size[1])\n",
    "                od = random.randint(self.min_size[2], self.max_size[2])\n",
    "                x = random.randint(0, w - ow - 1)\n",
    "                y = random.randint(0, h - oh - 1)\n",
    "                z = random.randint(0, d - od - 1)\n",
    "                if np.any(self.map[z:z+od, y:y+oh, x:x+ow]):\n",
    "                    continue\n",
    "                if self._is_inside(start, x, y, z, ow, oh, od) or self._is_inside(goal, x, y, z, ow, oh, od):\n",
    "                    continue\n",
    "                self.map[z:z+od, y:y+oh, x:x+ow] = 1\n",
    "                self._add_obstacle((x, y, z, ow, oh, od))\n",
    "                count += ow * oh * od\n",
    "                if self.max_count and count >= self.max_count:\n",
    "                    break\n",
    "                if count >= max_obs:\n",
    "                    break\n",
    "        else:\n",
    "            w, h = self.map_size\n",
    "            total_cells = w * h\n",
    "            max_obs = int(total_cells * self.obstacle_percent)\n",
    "            count = 0\n",
    "            for _ in range(10000):\n",
    "                ow = random.randint(self.min_size[0], self.max_size[0])\n",
    "                oh = random.randint(self.min_size[1], self.max_size[1])\n",
    "                x = random.randint(0, w - ow - 1)\n",
    "                y = random.randint(0, h - oh - 1)\n",
    "                if np.any(self.map[y:y+oh, x:x+ow]):\n",
    "                    continue\n",
    "                if self._is_inside(start, x, y, None, ow, oh, None) or self._is_inside(goal, x, y, None, ow, oh, None):\n",
    "                    continue\n",
    "                self.map[y:y+oh, x:x+ow] = 1\n",
    "                self._add_obstacle((x, y, ow, oh))\n",
    "                count += ow * oh\n",
    "                if self.max_count and count >= self.max_count:\n",
    "                    break\n",
    "                if count >= max_obs:\n",
    "                    break\n",
    "\n",
    "    def _generate_multi_narrow(self, start, goal):\n",
    "        if self.is_3d:\n",
    "            self._generate_random_obstacles(start, goal)\n",
    "        else:\n",
    "            w, h = self.map_size\n",
    "            corridor_width = 2\n",
    "            spacing = 6\n",
    "            for i in range(spacing, h - spacing, spacing + corridor_width):\n",
    "                self.map[i:i+spacing, :] = 1\n",
    "            self._carve_corridor(start, goal)\n",
    "\n",
    "    def _carve_corridor(self, start, goal):\n",
    "        if not self.is_3d:\n",
    "            y0, x0 = start[1], start[0]\n",
    "            y1, x1 = goal[1], goal[0]\n",
    "            for x in range(min(x0, x1), max(x0, x1)+1):\n",
    "                self.map[y0, x] = 0\n",
    "            for y in range(min(y0, y1), max(y0, y1)+1):\n",
    "                self.map[y, x1] = 0\n",
    "\n",
    "    def _generate_maze(self):\n",
    "        width, height = self.map_size\n",
    "        if width % 2 == 0: width += 1\n",
    "        if height % 2 == 0: height += 1\n",
    "\n",
    "        maze = np.ones((height, width), dtype=np.uint8)\n",
    "        sx, sy = 1, 1\n",
    "        maze[sy, sx] = 0\n",
    "\n",
    "        walls = [(sx + dx, sy + dy) for dx, dy in [(-2, 0), (2, 0), (0, -2), (0, 2)]\n",
    "                 if 0 < sx + dx < width and 0 < sy + dy < height]\n",
    "\n",
    "        while walls:\n",
    "            wx, wy = walls.pop(random.randint(0, len(walls) - 1))\n",
    "            if maze[wy, wx] == 1:\n",
    "                neighbors = [(wx + dx, wy + dy) for dx, dy in [(-2, 0), (2, 0), (0, -2), (0, 2)]\n",
    "                             if 0 < wx + dx < width and 0 < wy + dy < height and maze[wy + dy, wx + dx] == 0]\n",
    "                if len(neighbors) == 1:\n",
    "                    nx, ny = neighbors[0]\n",
    "                    maze[(wy + ny) // 2, (wx + nx) // 2] = 0\n",
    "                    maze[wy, wx] = 0\n",
    "                    for dx, dy in [(-2, 0), (2, 0), (0, -2), (0, 2)]:\n",
    "                        nx, ny = wx + dx, wy + dy\n",
    "                        if 0 < nx < width and 0 < ny < height and maze[ny, nx] == 1:\n",
    "                            walls.append((nx, ny))\n",
    "\n",
    "        return maze\n",
    "\n"
   ]
  },
  {
   "cell_type": "code",
   "execution_count": 4,
   "id": "2ae55dce",
   "metadata": {},
   "outputs": [],
   "source": [
    "class MapIO:\n",
    "    @staticmethod\n",
    "    def save_map(map_data: Map, filename: str) -> None:\n",
    "        \"\"\"Save Map object to a binary file.\"\"\"\n",
    "        with open(filename, 'wb') as f:\n",
    "            pickle.dump(map_data, f)\n",
    "\n",
    "    @staticmethod\n",
    "    def load_map(filename: str) -> Map:\n",
    "        \"\"\"Load Map object from a binary file.\"\"\"\n",
    "        if not os.path.exists(filename):\n",
    "            raise FileNotFoundError(f\"Map file not found: {filename}\")\n",
    "        with open(filename, 'rb') as f:\n",
    "            return pickle.load(f)"
   ]
  },
  {
   "cell_type": "code",
   "execution_count": null,
   "id": "09feaf00",
   "metadata": {},
   "outputs": [],
   "source": [
    "def visualize_map_shapes(\n",
    "    map_array: np.ndarray,\n",
    "    start: Optional[Tuple[int, ...]] = None,\n",
    "    goal: Optional[Tuple[int, ...]] = None,\n",
    "    obs:List[Tuple[int, ...]] = None,\n",
    "    path: Optional[List[Tuple[float, ...]]] = None,\n",
    "    nodes: Optional[List[Tuple[float, ...]]] = None,\n",
    "    edges: Optional[List[Tuple[float, ...]]] = None,\n",
    "    title: str = \"Map Visualization\"\n",
    "):\n",
    "    fig = go.Figure()\n",
    "\n",
    "    if map_array.ndim == 2:\n",
    "        height, width = map_array.shape\n",
    "        \n",
    "        for x, y, w, h in obs:\n",
    "                fig.add_shape(\n",
    "                    type=\"rect\",\n",
    "                    x0=x, x1=x+w, y0=y, y1=y+h,\n",
    "                    fillcolor=\"purple\",opacity=0.5,\n",
    "                    line=dict(width=0)\n",
    "                )\n",
    "        # 엣지 (연결 정보)\n",
    "        if edges:\n",
    "            for parent, child in edges:\n",
    "                fig.add_trace(go.Scatter(\n",
    "                    x=[parent.position[0], child.position[0]], y=[parent.position[1], child.position[1]],\n",
    "                    mode=\"lines\",\n",
    "                    line=dict(color=\"lightblue\", width=1),\n",
    "                    showlegend=False,\n",
    "                    hoverinfo=\"skip\"\n",
    "                ))\n",
    "\n",
    "                # 방문 노드\n",
    "        if nodes:\n",
    "            vx, vy = zip(*nodes)\n",
    "            fig.add_trace(go.Scatter(\n",
    "                x=vx, y=vy, mode=\"markers\",\n",
    "                marker=dict(size=4, color=\"blue\"),\n",
    "                name=\"Visited\"\n",
    "            ))\n",
    "            \n",
    "        # 경로\n",
    "        if path:\n",
    "            px, py = zip(*path)\n",
    "            fig.add_trace(go.Scatter(\n",
    "                x=px, y=py, mode=\"lines+markers\",\n",
    "                line=dict(color=\"green\"),\n",
    "                marker=dict(size=6),\n",
    "                name=\"Path\"\n",
    "            ))\n",
    "\n",
    "\n",
    "\n",
    "\n",
    "\n",
    "        # 시작/목표\n",
    "        if start:\n",
    "            fig.add_trace(go.Scatter(\n",
    "                x=[start[0]], y=[start[1]], mode=\"markers\",\n",
    "                marker=dict(size=10, color=\"red\"),\n",
    "                name=\"Start\"\n",
    "            ))\n",
    "\n",
    "        if goal:\n",
    "            fig.add_trace(go.Scatter(\n",
    "                x=[goal[0]], y=[goal[1]], mode=\"markers\",\n",
    "                marker=dict(size=10, color=\"orange\"),\n",
    "                name=\"Goal\"\n",
    "            ))\n",
    "\n",
    "        fig.add_shape(\n",
    "            type=\"rect\",\n",
    "            x0=0, y0=0,\n",
    "            x1=width, y1=height,\n",
    "            line=dict(color=\"white\", width=3),\n",
    "            fillcolor=\"rgba(0,0,0,0)\",  # 투명 내부\n",
    "            layer=\"above\"\n",
    "        )\n",
    "\n",
    "        fig.update_layout(\n",
    "            title=title,\n",
    "            xaxis=dict(scaleanchor=\"y\", showgrid=False),\n",
    "            # yaxis=dict(showgrid=False, autorange=\"reversed\"),\n",
    "            yaxis=dict(showgrid=False),\n",
    "            height=600, width=600\n",
    "        )\n",
    "\n",
    "    elif map_array.ndim == 3:\n",
    "        z, y, x = map_array.nonzero()\n",
    "        x, y, z = list(x), list(y), list(z)\n",
    "\n",
    "        # for x,y,w,h in obs:\n",
    "        #     fig.add_trace(go.Mesh3d(\n",
    "        #         x=x, y=y, z=z,\n",
    "        #         color='black',\n",
    "        #         opacity=1.0,\n",
    "        #         alphahull=0,\n",
    "        #         name='Obstacles'\n",
    "        #     ))\n",
    "\n",
    "        fig.add_trace(go.Mesh3d(\n",
    "            x=x, y=y, z=z,\n",
    "            color='black',\n",
    "            opacity=1.0,\n",
    "            alphahull=0,\n",
    "            name='Obstacles'\n",
    "        ))\n",
    "\n",
    "        if nodes:\n",
    "            vx, vy, vz = zip(*nodes)\n",
    "            fig.add_trace(go.Scatter3d(\n",
    "                x=vx, y=vy, z=vz,\n",
    "                mode='markers',\n",
    "                marker=dict(size=2, color='blue'),\n",
    "                name='Visited'\n",
    "            ))\n",
    "\n",
    "        # 엣지 (연결 정보)\n",
    "        if edges:\n",
    "            for parent, child in edges:\n",
    "                fig.add_trace(go.Scatter3d(\n",
    "                    x=[parent.position[0], child.position[0]],\n",
    "                    y=[parent[1].position, child.position[1]],\n",
    "                    z=[parent[2].position, child.position[2]],\n",
    "                    mode='lines',\n",
    "                    line=dict(color='lightblue', width=2),\n",
    "                    showlegend=False,\n",
    "                    hoverinfo=\"skip\"\n",
    "                ))\n",
    "\n",
    "        if path:\n",
    "            px_, py_, pz_ = zip(*path)\n",
    "            fig.add_trace(go.Scatter3d(\n",
    "                x=px_, y=py_, z=pz_,\n",
    "                mode='lines+markers',\n",
    "                marker=dict(size=3, color='green'),\n",
    "                name='Path'\n",
    "            ))\n",
    "\n",
    "        if start:\n",
    "            fig.add_trace(go.Scatter3d(\n",
    "                x=[start[0]], y=[start[1]], z=[start[2]],\n",
    "                mode='markers',\n",
    "                marker=dict(size=5, color='red'),\n",
    "                name='Start'\n",
    "            ))\n",
    "\n",
    "        if goal:\n",
    "            fig.add_trace(go.Scatter3d(\n",
    "                x=[goal[0]], y=[goal[1]], z=[goal[2]],\n",
    "                mode='markers',\n",
    "                marker=dict(size=5, color='orange'),\n",
    "                name='Goal'\n",
    "            ))\n",
    "\n",
    "        fig.update_layout(\n",
    "            title=title,\n",
    "            scene=dict(aspectmode='data'),\n",
    "            height=700, width=700\n",
    "        )\n",
    "\n",
    "        \n",
    "\n",
    "    fig.show()\n"
   ]
  },
  {
   "cell_type": "code",
   "execution_count": 5,
   "id": "f6e948da",
   "metadata": {},
   "outputs": [
    {
     "data": {
      "application/vnd.plotly.v1+json": {
       "config": {
        "plotlyServerURL": "https://plot.ly"
       },
       "data": [
        {
         "marker": {
          "color": "red",
          "size": 10
         },
         "mode": "markers",
         "name": "Start",
         "type": "scatter",
         "x": [
          1
         ],
         "y": [
          1
         ]
        },
        {
         "marker": {
          "color": "orange",
          "size": 10
         },
         "mode": "markers",
         "name": "Goal",
         "type": "scatter",
         "x": [
          99
         ],
         "y": [
          99
         ]
        }
       ],
       "layout": {
        "height": 600,
        "shapes": [
         {
          "fillcolor": "purple",
          "line": {
           "width": 0
          },
          "opacity": 0.5,
          "type": "rect",
          "x0": 37,
          "x1": 47,
          "y0": 57,
          "y1": 71
         },
         {
          "fillcolor": "purple",
          "line": {
           "width": 0
          },
          "opacity": 0.5,
          "type": "rect",
          "x0": 49,
          "x1": 56,
          "y0": 30,
          "y1": 36
         },
         {
          "fillcolor": "purple",
          "line": {
           "width": 0
          },
          "opacity": 0.5,
          "type": "rect",
          "x0": 5,
          "x1": 18,
          "y0": 38,
          "y1": 45
         },
         {
          "fillcolor": "purple",
          "line": {
           "width": 0
          },
          "opacity": 0.5,
          "type": "rect",
          "x0": 5,
          "x1": 19,
          "y0": 71,
          "y1": 77
         },
         {
          "fillcolor": "purple",
          "line": {
           "width": 0
          },
          "opacity": 0.5,
          "type": "rect",
          "x0": 43,
          "x1": 57,
          "y0": 36,
          "y1": 43
         },
         {
          "fillcolor": "purple",
          "line": {
           "width": 0
          },
          "opacity": 0.5,
          "type": "rect",
          "x0": 63,
          "x1": 68,
          "y0": 48,
          "y1": 63
         },
         {
          "fillcolor": "purple",
          "line": {
           "width": 0
          },
          "opacity": 0.5,
          "type": "rect",
          "x0": 51,
          "x1": 59,
          "y0": 49,
          "y1": 61
         },
         {
          "fillcolor": "purple",
          "line": {
           "width": 0
          },
          "opacity": 0.5,
          "type": "rect",
          "x0": 8,
          "x1": 20,
          "y0": 46,
          "y1": 54
         },
         {
          "fillcolor": "purple",
          "line": {
           "width": 0
          },
          "opacity": 0.5,
          "type": "rect",
          "x0": 80,
          "x1": 95,
          "y0": 45,
          "y1": 57
         },
         {
          "fillcolor": "purple",
          "line": {
           "width": 0
          },
          "opacity": 0.5,
          "type": "rect",
          "x0": 33,
          "x1": 46,
          "y0": 74,
          "y1": 85
         },
         {
          "fillcolor": "purple",
          "line": {
           "width": 0
          },
          "opacity": 0.5,
          "type": "rect",
          "x0": 7,
          "x1": 20,
          "y0": 88,
          "y1": 96
         },
         {
          "fillcolor": "purple",
          "line": {
           "width": 0
          },
          "opacity": 0.5,
          "type": "rect",
          "x0": 86,
          "x1": 94,
          "y0": 66,
          "y1": 71
         },
         {
          "fillcolor": "purple",
          "line": {
           "width": 0
          },
          "opacity": 0.5,
          "type": "rect",
          "x0": 56,
          "x1": 67,
          "y0": 72,
          "y1": 87
         },
         {
          "fillcolor": "purple",
          "line": {
           "width": 0
          },
          "opacity": 0.5,
          "type": "rect",
          "x0": 39,
          "x1": 54,
          "y0": 23,
          "y1": 29
         },
         {
          "fillcolor": "purple",
          "line": {
           "width": 0
          },
          "opacity": 0.5,
          "type": "rect",
          "x0": 90,
          "x1": 98,
          "y0": 81,
          "y1": 91
         },
         {
          "fillcolor": "purple",
          "line": {
           "width": 0
          },
          "opacity": 0.5,
          "type": "rect",
          "x0": 70,
          "x1": 81,
          "y0": 80,
          "y1": 86
         },
         {
          "fillcolor": "purple",
          "line": {
           "width": 0
          },
          "opacity": 0.5,
          "type": "rect",
          "x0": 11,
          "x1": 25,
          "y0": 8,
          "y1": 18
         },
         {
          "fillcolor": "purple",
          "line": {
           "width": 0
          },
          "opacity": 0.5,
          "type": "rect",
          "x0": 71,
          "x1": 76,
          "y0": 36,
          "y1": 51
         },
         {
          "fillcolor": "purple",
          "line": {
           "width": 0
          },
          "opacity": 0.5,
          "type": "rect",
          "x0": 5,
          "x1": 15,
          "y0": 25,
          "y1": 33
         },
         {
          "fillcolor": "purple",
          "line": {
           "width": 0
          },
          "opacity": 0.5,
          "type": "rect",
          "x0": 82,
          "x1": 87,
          "y0": 20,
          "y1": 35
         },
         {
          "fillcolor": "purple",
          "line": {
           "width": 0
          },
          "opacity": 0.5,
          "type": "rect",
          "x0": 91,
          "x1": 99,
          "y0": 8,
          "y1": 23
         },
         {
          "fillcolor": "purple",
          "line": {
           "width": 0
          },
          "opacity": 0.5,
          "type": "rect",
          "x0": 68,
          "x1": 80,
          "y0": 58,
          "y1": 71
         },
         {
          "fillcolor": "purple",
          "line": {
           "width": 0
          },
          "opacity": 0.5,
          "type": "rect",
          "x0": 30,
          "x1": 45,
          "y0": 4,
          "y1": 9
         },
         {
          "fillcolor": "purple",
          "line": {
           "width": 0
          },
          "opacity": 0.5,
          "type": "rect",
          "x0": 44,
          "x1": 59,
          "y0": 10,
          "y1": 20
         },
         {
          "fillcolor": "purple",
          "line": {
           "width": 0
          },
          "opacity": 0.5,
          "type": "rect",
          "x0": 64,
          "x1": 73,
          "y0": 1,
          "y1": 7
         },
         {
          "fillcolor": "purple",
          "line": {
           "width": 0
          },
          "opacity": 0.5,
          "type": "rect",
          "x0": 0,
          "x1": 11,
          "y0": 8,
          "y1": 19
         },
         {
          "fillcolor": "purple",
          "line": {
           "width": 0
          },
          "opacity": 0.5,
          "type": "rect",
          "x0": 31,
          "x1": 43,
          "y0": 37,
          "y1": 50
         },
         {
          "fillcolor": "purple",
          "line": {
           "width": 0
          },
          "opacity": 0.5,
          "type": "rect",
          "x0": 60,
          "x1": 72,
          "y0": 19,
          "y1": 30
         },
         {
          "fillcolor": "purple",
          "line": {
           "width": 0
          },
          "opacity": 0.5,
          "type": "rect",
          "x0": 12,
          "x1": 19,
          "y0": 54,
          "y1": 63
         },
         {
          "fillcolor": "purple",
          "line": {
           "width": 0
          },
          "opacity": 0.5,
          "type": "rect",
          "x0": 78,
          "x1": 85,
          "y0": 90,
          "y1": 96
         },
         {
          "fillcolor": "purple",
          "line": {
           "width": 0
          },
          "opacity": 0.5,
          "type": "rect",
          "x0": 21,
          "x1": 26,
          "y0": 63,
          "y1": 69
         },
         {
          "fillcolor": "purple",
          "line": {
           "width": 0
          },
          "opacity": 0.5,
          "type": "rect",
          "x0": 27,
          "x1": 38,
          "y0": 28,
          "y1": 37
         },
         {
          "fillcolor": "purple",
          "line": {
           "width": 0
          },
          "opacity": 0.5,
          "type": "rect",
          "x0": 74,
          "x1": 82,
          "y0": 29,
          "y1": 36
         },
         {
          "fillcolor": "rgba(0,0,0,0)",
          "layer": "above",
          "line": {
           "color": "white",
           "width": 3
          },
          "type": "rect",
          "x0": 0,
          "x1": 100,
          "y0": 0,
          "y1": 100
         }
        ],
        "template": {
         "data": {
          "bar": [
           {
            "error_x": {
             "color": "#2a3f5f"
            },
            "error_y": {
             "color": "#2a3f5f"
            },
            "marker": {
             "line": {
              "color": "#E5ECF6",
              "width": 0.5
             },
             "pattern": {
              "fillmode": "overlay",
              "size": 10,
              "solidity": 0.2
             }
            },
            "type": "bar"
           }
          ],
          "barpolar": [
           {
            "marker": {
             "line": {
              "color": "#E5ECF6",
              "width": 0.5
             },
             "pattern": {
              "fillmode": "overlay",
              "size": 10,
              "solidity": 0.2
             }
            },
            "type": "barpolar"
           }
          ],
          "carpet": [
           {
            "aaxis": {
             "endlinecolor": "#2a3f5f",
             "gridcolor": "white",
             "linecolor": "white",
             "minorgridcolor": "white",
             "startlinecolor": "#2a3f5f"
            },
            "baxis": {
             "endlinecolor": "#2a3f5f",
             "gridcolor": "white",
             "linecolor": "white",
             "minorgridcolor": "white",
             "startlinecolor": "#2a3f5f"
            },
            "type": "carpet"
           }
          ],
          "choropleth": [
           {
            "colorbar": {
             "outlinewidth": 0,
             "ticks": ""
            },
            "type": "choropleth"
           }
          ],
          "contour": [
           {
            "colorbar": {
             "outlinewidth": 0,
             "ticks": ""
            },
            "colorscale": [
             [
              0,
              "#0d0887"
             ],
             [
              0.1111111111111111,
              "#46039f"
             ],
             [
              0.2222222222222222,
              "#7201a8"
             ],
             [
              0.3333333333333333,
              "#9c179e"
             ],
             [
              0.4444444444444444,
              "#bd3786"
             ],
             [
              0.5555555555555556,
              "#d8576b"
             ],
             [
              0.6666666666666666,
              "#ed7953"
             ],
             [
              0.7777777777777778,
              "#fb9f3a"
             ],
             [
              0.8888888888888888,
              "#fdca26"
             ],
             [
              1,
              "#f0f921"
             ]
            ],
            "type": "contour"
           }
          ],
          "contourcarpet": [
           {
            "colorbar": {
             "outlinewidth": 0,
             "ticks": ""
            },
            "type": "contourcarpet"
           }
          ],
          "heatmap": [
           {
            "colorbar": {
             "outlinewidth": 0,
             "ticks": ""
            },
            "colorscale": [
             [
              0,
              "#0d0887"
             ],
             [
              0.1111111111111111,
              "#46039f"
             ],
             [
              0.2222222222222222,
              "#7201a8"
             ],
             [
              0.3333333333333333,
              "#9c179e"
             ],
             [
              0.4444444444444444,
              "#bd3786"
             ],
             [
              0.5555555555555556,
              "#d8576b"
             ],
             [
              0.6666666666666666,
              "#ed7953"
             ],
             [
              0.7777777777777778,
              "#fb9f3a"
             ],
             [
              0.8888888888888888,
              "#fdca26"
             ],
             [
              1,
              "#f0f921"
             ]
            ],
            "type": "heatmap"
           }
          ],
          "histogram": [
           {
            "marker": {
             "pattern": {
              "fillmode": "overlay",
              "size": 10,
              "solidity": 0.2
             }
            },
            "type": "histogram"
           }
          ],
          "histogram2d": [
           {
            "colorbar": {
             "outlinewidth": 0,
             "ticks": ""
            },
            "colorscale": [
             [
              0,
              "#0d0887"
             ],
             [
              0.1111111111111111,
              "#46039f"
             ],
             [
              0.2222222222222222,
              "#7201a8"
             ],
             [
              0.3333333333333333,
              "#9c179e"
             ],
             [
              0.4444444444444444,
              "#bd3786"
             ],
             [
              0.5555555555555556,
              "#d8576b"
             ],
             [
              0.6666666666666666,
              "#ed7953"
             ],
             [
              0.7777777777777778,
              "#fb9f3a"
             ],
             [
              0.8888888888888888,
              "#fdca26"
             ],
             [
              1,
              "#f0f921"
             ]
            ],
            "type": "histogram2d"
           }
          ],
          "histogram2dcontour": [
           {
            "colorbar": {
             "outlinewidth": 0,
             "ticks": ""
            },
            "colorscale": [
             [
              0,
              "#0d0887"
             ],
             [
              0.1111111111111111,
              "#46039f"
             ],
             [
              0.2222222222222222,
              "#7201a8"
             ],
             [
              0.3333333333333333,
              "#9c179e"
             ],
             [
              0.4444444444444444,
              "#bd3786"
             ],
             [
              0.5555555555555556,
              "#d8576b"
             ],
             [
              0.6666666666666666,
              "#ed7953"
             ],
             [
              0.7777777777777778,
              "#fb9f3a"
             ],
             [
              0.8888888888888888,
              "#fdca26"
             ],
             [
              1,
              "#f0f921"
             ]
            ],
            "type": "histogram2dcontour"
           }
          ],
          "mesh3d": [
           {
            "colorbar": {
             "outlinewidth": 0,
             "ticks": ""
            },
            "type": "mesh3d"
           }
          ],
          "parcoords": [
           {
            "line": {
             "colorbar": {
              "outlinewidth": 0,
              "ticks": ""
             }
            },
            "type": "parcoords"
           }
          ],
          "pie": [
           {
            "automargin": true,
            "type": "pie"
           }
          ],
          "scatter": [
           {
            "fillpattern": {
             "fillmode": "overlay",
             "size": 10,
             "solidity": 0.2
            },
            "type": "scatter"
           }
          ],
          "scatter3d": [
           {
            "line": {
             "colorbar": {
              "outlinewidth": 0,
              "ticks": ""
             }
            },
            "marker": {
             "colorbar": {
              "outlinewidth": 0,
              "ticks": ""
             }
            },
            "type": "scatter3d"
           }
          ],
          "scattercarpet": [
           {
            "marker": {
             "colorbar": {
              "outlinewidth": 0,
              "ticks": ""
             }
            },
            "type": "scattercarpet"
           }
          ],
          "scattergeo": [
           {
            "marker": {
             "colorbar": {
              "outlinewidth": 0,
              "ticks": ""
             }
            },
            "type": "scattergeo"
           }
          ],
          "scattergl": [
           {
            "marker": {
             "colorbar": {
              "outlinewidth": 0,
              "ticks": ""
             }
            },
            "type": "scattergl"
           }
          ],
          "scattermap": [
           {
            "marker": {
             "colorbar": {
              "outlinewidth": 0,
              "ticks": ""
             }
            },
            "type": "scattermap"
           }
          ],
          "scattermapbox": [
           {
            "marker": {
             "colorbar": {
              "outlinewidth": 0,
              "ticks": ""
             }
            },
            "type": "scattermapbox"
           }
          ],
          "scatterpolar": [
           {
            "marker": {
             "colorbar": {
              "outlinewidth": 0,
              "ticks": ""
             }
            },
            "type": "scatterpolar"
           }
          ],
          "scatterpolargl": [
           {
            "marker": {
             "colorbar": {
              "outlinewidth": 0,
              "ticks": ""
             }
            },
            "type": "scatterpolargl"
           }
          ],
          "scatterternary": [
           {
            "marker": {
             "colorbar": {
              "outlinewidth": 0,
              "ticks": ""
             }
            },
            "type": "scatterternary"
           }
          ],
          "surface": [
           {
            "colorbar": {
             "outlinewidth": 0,
             "ticks": ""
            },
            "colorscale": [
             [
              0,
              "#0d0887"
             ],
             [
              0.1111111111111111,
              "#46039f"
             ],
             [
              0.2222222222222222,
              "#7201a8"
             ],
             [
              0.3333333333333333,
              "#9c179e"
             ],
             [
              0.4444444444444444,
              "#bd3786"
             ],
             [
              0.5555555555555556,
              "#d8576b"
             ],
             [
              0.6666666666666666,
              "#ed7953"
             ],
             [
              0.7777777777777778,
              "#fb9f3a"
             ],
             [
              0.8888888888888888,
              "#fdca26"
             ],
             [
              1,
              "#f0f921"
             ]
            ],
            "type": "surface"
           }
          ],
          "table": [
           {
            "cells": {
             "fill": {
              "color": "#EBF0F8"
             },
             "line": {
              "color": "white"
             }
            },
            "header": {
             "fill": {
              "color": "#C8D4E3"
             },
             "line": {
              "color": "white"
             }
            },
            "type": "table"
           }
          ]
         },
         "layout": {
          "annotationdefaults": {
           "arrowcolor": "#2a3f5f",
           "arrowhead": 0,
           "arrowwidth": 1
          },
          "autotypenumbers": "strict",
          "coloraxis": {
           "colorbar": {
            "outlinewidth": 0,
            "ticks": ""
           }
          },
          "colorscale": {
           "diverging": [
            [
             0,
             "#8e0152"
            ],
            [
             0.1,
             "#c51b7d"
            ],
            [
             0.2,
             "#de77ae"
            ],
            [
             0.3,
             "#f1b6da"
            ],
            [
             0.4,
             "#fde0ef"
            ],
            [
             0.5,
             "#f7f7f7"
            ],
            [
             0.6,
             "#e6f5d0"
            ],
            [
             0.7,
             "#b8e186"
            ],
            [
             0.8,
             "#7fbc41"
            ],
            [
             0.9,
             "#4d9221"
            ],
            [
             1,
             "#276419"
            ]
           ],
           "sequential": [
            [
             0,
             "#0d0887"
            ],
            [
             0.1111111111111111,
             "#46039f"
            ],
            [
             0.2222222222222222,
             "#7201a8"
            ],
            [
             0.3333333333333333,
             "#9c179e"
            ],
            [
             0.4444444444444444,
             "#bd3786"
            ],
            [
             0.5555555555555556,
             "#d8576b"
            ],
            [
             0.6666666666666666,
             "#ed7953"
            ],
            [
             0.7777777777777778,
             "#fb9f3a"
            ],
            [
             0.8888888888888888,
             "#fdca26"
            ],
            [
             1,
             "#f0f921"
            ]
           ],
           "sequentialminus": [
            [
             0,
             "#0d0887"
            ],
            [
             0.1111111111111111,
             "#46039f"
            ],
            [
             0.2222222222222222,
             "#7201a8"
            ],
            [
             0.3333333333333333,
             "#9c179e"
            ],
            [
             0.4444444444444444,
             "#bd3786"
            ],
            [
             0.5555555555555556,
             "#d8576b"
            ],
            [
             0.6666666666666666,
             "#ed7953"
            ],
            [
             0.7777777777777778,
             "#fb9f3a"
            ],
            [
             0.8888888888888888,
             "#fdca26"
            ],
            [
             1,
             "#f0f921"
            ]
           ]
          },
          "colorway": [
           "#636efa",
           "#EF553B",
           "#00cc96",
           "#ab63fa",
           "#FFA15A",
           "#19d3f3",
           "#FF6692",
           "#B6E880",
           "#FF97FF",
           "#FECB52"
          ],
          "font": {
           "color": "#2a3f5f"
          },
          "geo": {
           "bgcolor": "white",
           "lakecolor": "white",
           "landcolor": "#E5ECF6",
           "showlakes": true,
           "showland": true,
           "subunitcolor": "white"
          },
          "hoverlabel": {
           "align": "left"
          },
          "hovermode": "closest",
          "mapbox": {
           "style": "light"
          },
          "paper_bgcolor": "white",
          "plot_bgcolor": "#E5ECF6",
          "polar": {
           "angularaxis": {
            "gridcolor": "white",
            "linecolor": "white",
            "ticks": ""
           },
           "bgcolor": "#E5ECF6",
           "radialaxis": {
            "gridcolor": "white",
            "linecolor": "white",
            "ticks": ""
           }
          },
          "scene": {
           "xaxis": {
            "backgroundcolor": "#E5ECF6",
            "gridcolor": "white",
            "gridwidth": 2,
            "linecolor": "white",
            "showbackground": true,
            "ticks": "",
            "zerolinecolor": "white"
           },
           "yaxis": {
            "backgroundcolor": "#E5ECF6",
            "gridcolor": "white",
            "gridwidth": 2,
            "linecolor": "white",
            "showbackground": true,
            "ticks": "",
            "zerolinecolor": "white"
           },
           "zaxis": {
            "backgroundcolor": "#E5ECF6",
            "gridcolor": "white",
            "gridwidth": 2,
            "linecolor": "white",
            "showbackground": true,
            "ticks": "",
            "zerolinecolor": "white"
           }
          },
          "shapedefaults": {
           "line": {
            "color": "#2a3f5f"
           }
          },
          "ternary": {
           "aaxis": {
            "gridcolor": "white",
            "linecolor": "white",
            "ticks": ""
           },
           "baxis": {
            "gridcolor": "white",
            "linecolor": "white",
            "ticks": ""
           },
           "bgcolor": "#E5ECF6",
           "caxis": {
            "gridcolor": "white",
            "linecolor": "white",
            "ticks": ""
           }
          },
          "title": {
           "x": 0.05
          },
          "xaxis": {
           "automargin": true,
           "gridcolor": "white",
           "linecolor": "white",
           "ticks": "",
           "title": {
            "standoff": 15
           },
           "zerolinecolor": "white",
           "zerolinewidth": 2
          },
          "yaxis": {
           "automargin": true,
           "gridcolor": "white",
           "linecolor": "white",
           "ticks": "",
           "title": {
            "standoff": 15
           },
           "zerolinecolor": "white",
           "zerolinewidth": 2
          }
         }
        },
        "title": {
         "text": "Map Visualization"
        },
        "width": 600,
        "xaxis": {
         "scaleanchor": "y",
         "showgrid": false
        },
        "yaxis": {
         "showgrid": false
        }
       }
      }
     },
     "metadata": {},
     "output_type": "display_data"
    }
   ],
   "source": [
    "gen = MapGenerator(map_type=\"random\", map_size=(100, 100), min_obstacle_size=(5, 5), max_obstacle_size=(15, 15), obstacle_percent=0.32)\n",
    "m = gen.generate(start=(1, 1), goal=(99, 99))\n",
    "visualize_map_shapes(m.grid, obs=m.obstacles, start=m.start, goal=m.goal)"
   ]
  },
  {
   "cell_type": "code",
   "execution_count": null,
   "id": "9d427ae9",
   "metadata": {},
   "outputs": [
    {
     "name": "stdout",
     "output_type": "stream",
     "text": [
      "Start: (1, 1)\n",
      "Obstacles: 35\n",
      "(100, 100)\n"
     ]
    }
   ],
   "source": [
    "# MapIO.save_map(m, \"random_map.pkl\")\n",
    "\n",
    "# 불러오기\n",
    "loaded_map = MapIO.load_map(\"random_map.pkl\")\n",
    "print(\"Start:\", loaded_map.start)\n",
    "print(\"Obstacles:\", len(loaded_map.obstacles))\n",
    "print(loaded_map.grid.shape)"
   ]
  },
  {
   "cell_type": "code",
   "execution_count": 6,
   "id": "ad649024",
   "metadata": {},
   "outputs": [
    {
     "data": {
      "application/vnd.plotly.v1+json": {
       "config": {
        "plotlyServerURL": "https://plot.ly"
       },
       "data": [
        {
         "marker": {
          "color": "red",
          "size": 10
         },
         "mode": "markers",
         "name": "Start",
         "type": "scatter",
         "x": [
          1
         ],
         "y": [
          1
         ]
        },
        {
         "marker": {
          "color": "orange",
          "size": 10
         },
         "mode": "markers",
         "name": "Goal",
         "type": "scatter",
         "x": [
          99
         ],
         "y": [
          99
         ]
        }
       ],
       "layout": {
        "height": 600,
        "shapes": [
         {
          "fillcolor": "purple",
          "line": {
           "width": 0
          },
          "opacity": 0.5,
          "type": "rect",
          "x0": 48,
          "x1": 57,
          "y0": 70,
          "y1": 79
         },
         {
          "fillcolor": "purple",
          "line": {
           "width": 0
          },
          "opacity": 0.5,
          "type": "rect",
          "x0": 47,
          "x1": 52,
          "y0": 50,
          "y1": 64
         },
         {
          "fillcolor": "purple",
          "line": {
           "width": 0
          },
          "opacity": 0.5,
          "type": "rect",
          "x0": 79,
          "x1": 84,
          "y0": 71,
          "y1": 82
         },
         {
          "fillcolor": "purple",
          "line": {
           "width": 0
          },
          "opacity": 0.5,
          "type": "rect",
          "x0": 35,
          "x1": 42,
          "y0": 29,
          "y1": 41
         },
         {
          "fillcolor": "purple",
          "line": {
           "width": 0
          },
          "opacity": 0.5,
          "type": "rect",
          "x0": 18,
          "x1": 28,
          "y0": 67,
          "y1": 80
         },
         {
          "fillcolor": "purple",
          "line": {
           "width": 0
          },
          "opacity": 0.5,
          "type": "rect",
          "x0": 66,
          "x1": 75,
          "y0": 75,
          "y1": 82
         },
         {
          "fillcolor": "purple",
          "line": {
           "width": 0
          },
          "opacity": 0.5,
          "type": "rect",
          "x0": 68,
          "x1": 81,
          "y0": 83,
          "y1": 89
         },
         {
          "fillcolor": "purple",
          "line": {
           "width": 0
          },
          "opacity": 0.5,
          "type": "rect",
          "x0": 55,
          "x1": 67,
          "y0": 54,
          "y1": 60
         },
         {
          "fillcolor": "purple",
          "line": {
           "width": 0
          },
          "opacity": 0.5,
          "type": "rect",
          "x0": 49,
          "x1": 64,
          "y0": 22,
          "y1": 30
         },
         {
          "fillcolor": "purple",
          "line": {
           "width": 0
          },
          "opacity": 0.5,
          "type": "rect",
          "x0": 32,
          "x1": 47,
          "y0": 76,
          "y1": 86
         },
         {
          "fillcolor": "purple",
          "line": {
           "width": 0
          },
          "opacity": 0.5,
          "type": "rect",
          "x0": 41,
          "x1": 56,
          "y0": 0,
          "y1": 11
         },
         {
          "fillcolor": "purple",
          "line": {
           "width": 0
          },
          "opacity": 0.5,
          "type": "rect",
          "x0": 51,
          "x1": 63,
          "y0": 42,
          "y1": 47
         },
         {
          "fillcolor": "purple",
          "line": {
           "width": 0
          },
          "opacity": 0.5,
          "type": "rect",
          "x0": 14,
          "x1": 23,
          "y0": 46,
          "y1": 60
         },
         {
          "fillcolor": "purple",
          "line": {
           "width": 0
          },
          "opacity": 0.5,
          "type": "rect",
          "x0": 84,
          "x1": 91,
          "y0": 12,
          "y1": 24
         },
         {
          "fillcolor": "purple",
          "line": {
           "width": 0
          },
          "opacity": 0.5,
          "type": "rect",
          "x0": 20,
          "x1": 29,
          "y0": 17,
          "y1": 31
         },
         {
          "fillcolor": "purple",
          "line": {
           "width": 0
          },
          "opacity": 0.5,
          "type": "rect",
          "x0": 3,
          "x1": 12,
          "y0": 18,
          "y1": 32
         },
         {
          "fillcolor": "purple",
          "line": {
           "width": 0
          },
          "opacity": 0.5,
          "type": "rect",
          "x0": 9,
          "x1": 18,
          "y0": 66,
          "y1": 75
         },
         {
          "fillcolor": "purple",
          "line": {
           "width": 0
          },
          "opacity": 0.5,
          "type": "rect",
          "x0": 73,
          "x1": 80,
          "y0": 7,
          "y1": 14
         },
         {
          "fillcolor": "purple",
          "line": {
           "width": 0
          },
          "opacity": 0.5,
          "type": "rect",
          "x0": 32,
          "x1": 47,
          "y0": 11,
          "y1": 25
         },
         {
          "fillcolor": "purple",
          "line": {
           "width": 0
          },
          "opacity": 0.5,
          "type": "rect",
          "x0": 83,
          "x1": 94,
          "y0": 55,
          "y1": 68
         },
         {
          "fillcolor": "purple",
          "line": {
           "width": 0
          },
          "opacity": 0.5,
          "type": "rect",
          "x0": 30,
          "x1": 42,
          "y0": 51,
          "y1": 64
         },
         {
          "fillcolor": "purple",
          "line": {
           "width": 0
          },
          "opacity": 0.5,
          "type": "rect",
          "x0": 50,
          "x1": 62,
          "y0": 34,
          "y1": 42
         },
         {
          "fillcolor": "purple",
          "line": {
           "width": 0
          },
          "opacity": 0.5,
          "type": "rect",
          "x0": 34,
          "x1": 41,
          "y0": 69,
          "y1": 76
         },
         {
          "fillcolor": "purple",
          "line": {
           "width": 0
          },
          "opacity": 0.5,
          "type": "rect",
          "x0": 4,
          "x1": 16,
          "y0": 87,
          "y1": 96
         },
         {
          "fillcolor": "purple",
          "line": {
           "width": 0
          },
          "opacity": 0.5,
          "type": "rect",
          "x0": 78,
          "x1": 83,
          "y0": 23,
          "y1": 30
         },
         {
          "fillcolor": "purple",
          "line": {
           "width": 0
          },
          "opacity": 0.5,
          "type": "rect",
          "x0": 72,
          "x1": 79,
          "y0": 51,
          "y1": 60
         },
         {
          "fillcolor": "purple",
          "line": {
           "width": 0
          },
          "opacity": 0.5,
          "type": "rect",
          "x0": 48,
          "x1": 58,
          "y0": 16,
          "y1": 22
         },
         {
          "fillcolor": "purple",
          "line": {
           "width": 0
          },
          "opacity": 0.5,
          "type": "rect",
          "x0": 75,
          "x1": 88,
          "y0": 94,
          "y1": 99
         },
         {
          "fillcolor": "purple",
          "line": {
           "width": 0
          },
          "opacity": 0.5,
          "type": "rect",
          "x0": 62,
          "x1": 68,
          "y0": 82,
          "y1": 96
         },
         {
          "fillcolor": "purple",
          "line": {
           "width": 0
          },
          "opacity": 0.5,
          "type": "rect",
          "x0": 57,
          "x1": 62,
          "y0": 67,
          "y1": 78
         },
         {
          "fillcolor": "purple",
          "line": {
           "width": 0
          },
          "opacity": 0.5,
          "type": "rect",
          "x0": 2,
          "x1": 11,
          "y0": 33,
          "y1": 43
         },
         {
          "fillcolor": "purple",
          "line": {
           "width": 0
          },
          "opacity": 0.5,
          "type": "rect",
          "x0": 67,
          "x1": 76,
          "y0": 0,
          "y1": 7
         },
         {
          "fillcolor": "purple",
          "line": {
           "width": 0
          },
          "opacity": 0.5,
          "type": "rect",
          "x0": 28,
          "x1": 39,
          "y0": 42,
          "y1": 50
         },
         {
          "fillcolor": "purple",
          "line": {
           "width": 0
          },
          "opacity": 0.5,
          "type": "rect",
          "x0": 66,
          "x1": 71,
          "y0": 60,
          "y1": 72
         },
         {
          "fillcolor": "purple",
          "line": {
           "width": 0
          },
          "opacity": 0.5,
          "type": "rect",
          "x0": 7,
          "x1": 13,
          "y0": 52,
          "y1": 66
         },
         {
          "fillcolor": "rgba(0,0,0,0)",
          "layer": "above",
          "line": {
           "color": "white",
           "width": 3
          },
          "type": "rect",
          "x0": 0,
          "x1": 100,
          "y0": 0,
          "y1": 100
         }
        ],
        "template": {
         "data": {
          "bar": [
           {
            "error_x": {
             "color": "#2a3f5f"
            },
            "error_y": {
             "color": "#2a3f5f"
            },
            "marker": {
             "line": {
              "color": "#E5ECF6",
              "width": 0.5
             },
             "pattern": {
              "fillmode": "overlay",
              "size": 10,
              "solidity": 0.2
             }
            },
            "type": "bar"
           }
          ],
          "barpolar": [
           {
            "marker": {
             "line": {
              "color": "#E5ECF6",
              "width": 0.5
             },
             "pattern": {
              "fillmode": "overlay",
              "size": 10,
              "solidity": 0.2
             }
            },
            "type": "barpolar"
           }
          ],
          "carpet": [
           {
            "aaxis": {
             "endlinecolor": "#2a3f5f",
             "gridcolor": "white",
             "linecolor": "white",
             "minorgridcolor": "white",
             "startlinecolor": "#2a3f5f"
            },
            "baxis": {
             "endlinecolor": "#2a3f5f",
             "gridcolor": "white",
             "linecolor": "white",
             "minorgridcolor": "white",
             "startlinecolor": "#2a3f5f"
            },
            "type": "carpet"
           }
          ],
          "choropleth": [
           {
            "colorbar": {
             "outlinewidth": 0,
             "ticks": ""
            },
            "type": "choropleth"
           }
          ],
          "contour": [
           {
            "colorbar": {
             "outlinewidth": 0,
             "ticks": ""
            },
            "colorscale": [
             [
              0,
              "#0d0887"
             ],
             [
              0.1111111111111111,
              "#46039f"
             ],
             [
              0.2222222222222222,
              "#7201a8"
             ],
             [
              0.3333333333333333,
              "#9c179e"
             ],
             [
              0.4444444444444444,
              "#bd3786"
             ],
             [
              0.5555555555555556,
              "#d8576b"
             ],
             [
              0.6666666666666666,
              "#ed7953"
             ],
             [
              0.7777777777777778,
              "#fb9f3a"
             ],
             [
              0.8888888888888888,
              "#fdca26"
             ],
             [
              1,
              "#f0f921"
             ]
            ],
            "type": "contour"
           }
          ],
          "contourcarpet": [
           {
            "colorbar": {
             "outlinewidth": 0,
             "ticks": ""
            },
            "type": "contourcarpet"
           }
          ],
          "heatmap": [
           {
            "colorbar": {
             "outlinewidth": 0,
             "ticks": ""
            },
            "colorscale": [
             [
              0,
              "#0d0887"
             ],
             [
              0.1111111111111111,
              "#46039f"
             ],
             [
              0.2222222222222222,
              "#7201a8"
             ],
             [
              0.3333333333333333,
              "#9c179e"
             ],
             [
              0.4444444444444444,
              "#bd3786"
             ],
             [
              0.5555555555555556,
              "#d8576b"
             ],
             [
              0.6666666666666666,
              "#ed7953"
             ],
             [
              0.7777777777777778,
              "#fb9f3a"
             ],
             [
              0.8888888888888888,
              "#fdca26"
             ],
             [
              1,
              "#f0f921"
             ]
            ],
            "type": "heatmap"
           }
          ],
          "histogram": [
           {
            "marker": {
             "pattern": {
              "fillmode": "overlay",
              "size": 10,
              "solidity": 0.2
             }
            },
            "type": "histogram"
           }
          ],
          "histogram2d": [
           {
            "colorbar": {
             "outlinewidth": 0,
             "ticks": ""
            },
            "colorscale": [
             [
              0,
              "#0d0887"
             ],
             [
              0.1111111111111111,
              "#46039f"
             ],
             [
              0.2222222222222222,
              "#7201a8"
             ],
             [
              0.3333333333333333,
              "#9c179e"
             ],
             [
              0.4444444444444444,
              "#bd3786"
             ],
             [
              0.5555555555555556,
              "#d8576b"
             ],
             [
              0.6666666666666666,
              "#ed7953"
             ],
             [
              0.7777777777777778,
              "#fb9f3a"
             ],
             [
              0.8888888888888888,
              "#fdca26"
             ],
             [
              1,
              "#f0f921"
             ]
            ],
            "type": "histogram2d"
           }
          ],
          "histogram2dcontour": [
           {
            "colorbar": {
             "outlinewidth": 0,
             "ticks": ""
            },
            "colorscale": [
             [
              0,
              "#0d0887"
             ],
             [
              0.1111111111111111,
              "#46039f"
             ],
             [
              0.2222222222222222,
              "#7201a8"
             ],
             [
              0.3333333333333333,
              "#9c179e"
             ],
             [
              0.4444444444444444,
              "#bd3786"
             ],
             [
              0.5555555555555556,
              "#d8576b"
             ],
             [
              0.6666666666666666,
              "#ed7953"
             ],
             [
              0.7777777777777778,
              "#fb9f3a"
             ],
             [
              0.8888888888888888,
              "#fdca26"
             ],
             [
              1,
              "#f0f921"
             ]
            ],
            "type": "histogram2dcontour"
           }
          ],
          "mesh3d": [
           {
            "colorbar": {
             "outlinewidth": 0,
             "ticks": ""
            },
            "type": "mesh3d"
           }
          ],
          "parcoords": [
           {
            "line": {
             "colorbar": {
              "outlinewidth": 0,
              "ticks": ""
             }
            },
            "type": "parcoords"
           }
          ],
          "pie": [
           {
            "automargin": true,
            "type": "pie"
           }
          ],
          "scatter": [
           {
            "fillpattern": {
             "fillmode": "overlay",
             "size": 10,
             "solidity": 0.2
            },
            "type": "scatter"
           }
          ],
          "scatter3d": [
           {
            "line": {
             "colorbar": {
              "outlinewidth": 0,
              "ticks": ""
             }
            },
            "marker": {
             "colorbar": {
              "outlinewidth": 0,
              "ticks": ""
             }
            },
            "type": "scatter3d"
           }
          ],
          "scattercarpet": [
           {
            "marker": {
             "colorbar": {
              "outlinewidth": 0,
              "ticks": ""
             }
            },
            "type": "scattercarpet"
           }
          ],
          "scattergeo": [
           {
            "marker": {
             "colorbar": {
              "outlinewidth": 0,
              "ticks": ""
             }
            },
            "type": "scattergeo"
           }
          ],
          "scattergl": [
           {
            "marker": {
             "colorbar": {
              "outlinewidth": 0,
              "ticks": ""
             }
            },
            "type": "scattergl"
           }
          ],
          "scattermap": [
           {
            "marker": {
             "colorbar": {
              "outlinewidth": 0,
              "ticks": ""
             }
            },
            "type": "scattermap"
           }
          ],
          "scattermapbox": [
           {
            "marker": {
             "colorbar": {
              "outlinewidth": 0,
              "ticks": ""
             }
            },
            "type": "scattermapbox"
           }
          ],
          "scatterpolar": [
           {
            "marker": {
             "colorbar": {
              "outlinewidth": 0,
              "ticks": ""
             }
            },
            "type": "scatterpolar"
           }
          ],
          "scatterpolargl": [
           {
            "marker": {
             "colorbar": {
              "outlinewidth": 0,
              "ticks": ""
             }
            },
            "type": "scatterpolargl"
           }
          ],
          "scatterternary": [
           {
            "marker": {
             "colorbar": {
              "outlinewidth": 0,
              "ticks": ""
             }
            },
            "type": "scatterternary"
           }
          ],
          "surface": [
           {
            "colorbar": {
             "outlinewidth": 0,
             "ticks": ""
            },
            "colorscale": [
             [
              0,
              "#0d0887"
             ],
             [
              0.1111111111111111,
              "#46039f"
             ],
             [
              0.2222222222222222,
              "#7201a8"
             ],
             [
              0.3333333333333333,
              "#9c179e"
             ],
             [
              0.4444444444444444,
              "#bd3786"
             ],
             [
              0.5555555555555556,
              "#d8576b"
             ],
             [
              0.6666666666666666,
              "#ed7953"
             ],
             [
              0.7777777777777778,
              "#fb9f3a"
             ],
             [
              0.8888888888888888,
              "#fdca26"
             ],
             [
              1,
              "#f0f921"
             ]
            ],
            "type": "surface"
           }
          ],
          "table": [
           {
            "cells": {
             "fill": {
              "color": "#EBF0F8"
             },
             "line": {
              "color": "white"
             }
            },
            "header": {
             "fill": {
              "color": "#C8D4E3"
             },
             "line": {
              "color": "white"
             }
            },
            "type": "table"
           }
          ]
         },
         "layout": {
          "annotationdefaults": {
           "arrowcolor": "#2a3f5f",
           "arrowhead": 0,
           "arrowwidth": 1
          },
          "autotypenumbers": "strict",
          "coloraxis": {
           "colorbar": {
            "outlinewidth": 0,
            "ticks": ""
           }
          },
          "colorscale": {
           "diverging": [
            [
             0,
             "#8e0152"
            ],
            [
             0.1,
             "#c51b7d"
            ],
            [
             0.2,
             "#de77ae"
            ],
            [
             0.3,
             "#f1b6da"
            ],
            [
             0.4,
             "#fde0ef"
            ],
            [
             0.5,
             "#f7f7f7"
            ],
            [
             0.6,
             "#e6f5d0"
            ],
            [
             0.7,
             "#b8e186"
            ],
            [
             0.8,
             "#7fbc41"
            ],
            [
             0.9,
             "#4d9221"
            ],
            [
             1,
             "#276419"
            ]
           ],
           "sequential": [
            [
             0,
             "#0d0887"
            ],
            [
             0.1111111111111111,
             "#46039f"
            ],
            [
             0.2222222222222222,
             "#7201a8"
            ],
            [
             0.3333333333333333,
             "#9c179e"
            ],
            [
             0.4444444444444444,
             "#bd3786"
            ],
            [
             0.5555555555555556,
             "#d8576b"
            ],
            [
             0.6666666666666666,
             "#ed7953"
            ],
            [
             0.7777777777777778,
             "#fb9f3a"
            ],
            [
             0.8888888888888888,
             "#fdca26"
            ],
            [
             1,
             "#f0f921"
            ]
           ],
           "sequentialminus": [
            [
             0,
             "#0d0887"
            ],
            [
             0.1111111111111111,
             "#46039f"
            ],
            [
             0.2222222222222222,
             "#7201a8"
            ],
            [
             0.3333333333333333,
             "#9c179e"
            ],
            [
             0.4444444444444444,
             "#bd3786"
            ],
            [
             0.5555555555555556,
             "#d8576b"
            ],
            [
             0.6666666666666666,
             "#ed7953"
            ],
            [
             0.7777777777777778,
             "#fb9f3a"
            ],
            [
             0.8888888888888888,
             "#fdca26"
            ],
            [
             1,
             "#f0f921"
            ]
           ]
          },
          "colorway": [
           "#636efa",
           "#EF553B",
           "#00cc96",
           "#ab63fa",
           "#FFA15A",
           "#19d3f3",
           "#FF6692",
           "#B6E880",
           "#FF97FF",
           "#FECB52"
          ],
          "font": {
           "color": "#2a3f5f"
          },
          "geo": {
           "bgcolor": "white",
           "lakecolor": "white",
           "landcolor": "#E5ECF6",
           "showlakes": true,
           "showland": true,
           "subunitcolor": "white"
          },
          "hoverlabel": {
           "align": "left"
          },
          "hovermode": "closest",
          "mapbox": {
           "style": "light"
          },
          "paper_bgcolor": "white",
          "plot_bgcolor": "#E5ECF6",
          "polar": {
           "angularaxis": {
            "gridcolor": "white",
            "linecolor": "white",
            "ticks": ""
           },
           "bgcolor": "#E5ECF6",
           "radialaxis": {
            "gridcolor": "white",
            "linecolor": "white",
            "ticks": ""
           }
          },
          "scene": {
           "xaxis": {
            "backgroundcolor": "#E5ECF6",
            "gridcolor": "white",
            "gridwidth": 2,
            "linecolor": "white",
            "showbackground": true,
            "ticks": "",
            "zerolinecolor": "white"
           },
           "yaxis": {
            "backgroundcolor": "#E5ECF6",
            "gridcolor": "white",
            "gridwidth": 2,
            "linecolor": "white",
            "showbackground": true,
            "ticks": "",
            "zerolinecolor": "white"
           },
           "zaxis": {
            "backgroundcolor": "#E5ECF6",
            "gridcolor": "white",
            "gridwidth": 2,
            "linecolor": "white",
            "showbackground": true,
            "ticks": "",
            "zerolinecolor": "white"
           }
          },
          "shapedefaults": {
           "line": {
            "color": "#2a3f5f"
           }
          },
          "ternary": {
           "aaxis": {
            "gridcolor": "white",
            "linecolor": "white",
            "ticks": ""
           },
           "baxis": {
            "gridcolor": "white",
            "linecolor": "white",
            "ticks": ""
           },
           "bgcolor": "#E5ECF6",
           "caxis": {
            "gridcolor": "white",
            "linecolor": "white",
            "ticks": ""
           }
          },
          "title": {
           "x": 0.05
          },
          "xaxis": {
           "automargin": true,
           "gridcolor": "white",
           "linecolor": "white",
           "ticks": "",
           "title": {
            "standoff": 15
           },
           "zerolinecolor": "white",
           "zerolinewidth": 2
          },
          "yaxis": {
           "automargin": true,
           "gridcolor": "white",
           "linecolor": "white",
           "ticks": "",
           "title": {
            "standoff": 15
           },
           "zerolinecolor": "white",
           "zerolinewidth": 2
          }
         }
        },
        "title": {
         "text": "Map Visualization"
        },
        "width": 600,
        "xaxis": {
         "scaleanchor": "y",
         "showgrid": false
        },
        "yaxis": {
         "showgrid": false
        }
       }
      }
     },
     "metadata": {},
     "output_type": "display_data"
    }
   ],
   "source": [
    "m = MapIO.load_map(\"random_map.pkl\")\n",
    "visualize_map_shapes(m.grid, obs=m.obstacles, start=m.start, goal=m.goal)"
   ]
  },
  {
   "cell_type": "code",
   "execution_count": 50,
   "id": "56496d74",
   "metadata": {},
   "outputs": [],
   "source": [
    "class MultiMapBenchmarker:\n",
    "    def __init__(\n",
    "        self,\n",
    "        maps: List[np.ndarray],\n",
    "        algorithm,\n",
    "        name: str = \"Algorithm\",\n",
    "    ):\n",
    "        self.maps = maps\n",
    "        self.algorithm = algorithm\n",
    "        self.name = name\n",
    "        self.results_df: pd.DataFrame = pd.DataFrame()\n",
    "\n",
    "    def run(self) -> pd.DataFrame:\n",
    "        results = []\n",
    "        for i, map_ in enumerate(self.maps):\n",
    "            start_time = time.time()\n",
    "            try:\n",
    "                output = self.algorithm(map_)\n",
    "            except Exception as e:\n",
    "                output = {\"path\": [], \"nodes\": [], \"n_nodes\": 0}\n",
    "            end_time = time.time()\n",
    "\n",
    "            path = output.path\n",
    "            nodes = output.nodes\n",
    "            num_nodes = len(nodes)\n",
    "            success = output.success\n",
    "            path_length = self._compute_path_length(path)\n",
    "\n",
    "            results.append({\n",
    "                \"map_id\": i,\n",
    "                \"algorithm\": self.name,\n",
    "                \"success\": success,\n",
    "                \"time_taken\": end_time - start_time,\n",
    "                \"num_nodes\": num_nodes,\n",
    "                \"path_length\": path_length\n",
    "            })\n",
    "\n",
    "        self.results_df = pd.DataFrame(results)\n",
    "        return self.results_df\n",
    "\n",
    "    def _compute_path_length(self, path: List[Tuple[float, ...]]) -> float:\n",
    "        if not path or len(path) < 2:\n",
    "            return 0.0\n",
    "        return sum(np.linalg.norm(np.array(path[i]) - np.array(path[i+1])) for i in range(len(path) - 1))\n",
    "\n",
    "    def save_results(self, filename: str):\n",
    "        if self.results_df.empty:\n",
    "            raise RuntimeError(\"No results to save. Run benchmark first.\")\n",
    "        self.results_df.to_csv(filename, index=False)\n",
    "\n",
    "    def plot_metrics(self, metric: str = \"time_taken\"):\n",
    "        if self.results_df.empty:\n",
    "            raise RuntimeError(\"No results to plot. Run benchmark first.\")\n",
    "        if metric not in self.results_df.columns:\n",
    "            raise ValueError(f\"Invalid metric: {metric}\")\n",
    "\n",
    "        fig = px.bar(\n",
    "            self.results_df,\n",
    "            x=\"map_id\",\n",
    "            y=metric,\n",
    "            color=\"success\",\n",
    "            title=f\"{self.name} - {metric} per map\",\n",
    "            labels={\"map_id\": \"Map ID\", metric: metric.replace('_', ' ').title()}\n",
    "        )\n",
    "        fig.show()\n"
   ]
  },
  {
   "cell_type": "code",
   "execution_count": null,
   "id": "2cf16c85",
   "metadata": {},
   "outputs": [],
   "source": [
    "# --- Node class ---\n",
    "class Node:\n",
    "    def __init__(self, position, parent=None, cost=0.0):\n",
    "        self.position = position        # Tuple[float, ...] → 2D: (x,y), 3D: (x,y,z)\n",
    "        self.parent = parent            # Node or None\n",
    "        self.cost = cost                # Path cost\n",
    "        self.children = []\n",
    "        self.valid = True               # For collision checking etc.\n",
    "\n",
    "    #### Create additional methods if needed ####\n",
    "\n",
    "# --- PlannerResult structure ---\n",
    "class PlannerResult(NamedTuple):\n",
    "    success: bool                       # Path navigation success or not\n",
    "    path: List[Tuple[float, ...]]       # Final path from start to goal\n",
    "    nodes: List[Node]                   # All explored nodes\n",
    "    edges: List[Tuple[Node, Node]]      # Parent-child connections\n",
    "\n",
    "# --- Main Planner ---\n",
    "class Planner:\n",
    "    def __init__(self, max_iter: int = 5000):\n",
    "        self.max_iter = max_iter\n",
    "\n",
    "    def plan(self, map: Map) -> PlannerResult:\n",
    "        bounds = map.size                  # Tuple[int, ...]: (W,H) or (W,H,D)\n",
    "        start_position = map.start         # Tuple[float, ...] (W,H) or (W,H,D)\n",
    "        goal_position = map.goal           # Tuple[float, ...] (W,H) or (W,H,D)\n",
    "        obstacles = map.obstacles          # Rectangular blocks: 2D=(x,y,w,h), 3D=(x,y,z,w,h,d)\n",
    "\n",
    "        is_3d = len(bounds) == 3\n",
    "\n",
    "        # Core data\n",
    "        success_state = False # Path navigation success or not\n",
    "        extracted_path: List[Tuple[float, ...]] = [] # Final path from start to goal\n",
    "        nodes: List[Node] = [] # All explored nodes\n",
    "        edges: List[Tuple[Node, Node]] = [] # Parent-child connections\n",
    "\n",
    "        #### Place holder: path planning logic ####\n",
    "\n",
    "        return PlannerResult(\n",
    "            success=success_state,\n",
    "            path=extracted_path,\n",
    "            nodes=nodes,\n",
    "            edges=edges\n",
    "        )"
   ]
  },
  {
   "cell_type": "code",
   "execution_count": 28,
   "id": "6834b1fa",
   "metadata": {},
   "outputs": [],
   "source": [
    "import random\n",
    "import math\n",
    "from typing import List, Tuple, Union, NamedTuple\n",
    "\n",
    "# --- Node class ---\n",
    "class Node:\n",
    "    def __init__(self, position, parent=None, cost=0.0):\n",
    "        self.position = position        # Tuple[float, ...] → 2D: (x,y), 3D: (x,y,z)\n",
    "        self.parent = parent            # Node or None\n",
    "        self.cost = cost                # Path cost\n",
    "        self.children = []\n",
    "        self.valid = True               # For collision checking etc.\n",
    "\n",
    "    def distance(self, other: 'Node') -> float:\n",
    "        return math.dist(self.position, other.position)\n",
    "\n",
    "\n",
    "# --- Planner class implementing basic RRT ---\n",
    "class Planner:\n",
    "    def __init__(self, max_iter: int = 5000, step_size: float = 1.0, goal_sample_rate: float = 0.05):\n",
    "        self.max_iter = max_iter\n",
    "        self.step_size = step_size\n",
    "        self.goal_sample_rate = goal_sample_rate\n",
    "\n",
    "    def plan(self, map: 'Map') -> 'PlannerResult':\n",
    "        bounds = map.size\n",
    "        start_position = map.start\n",
    "        goal_position = map.goal\n",
    "        obstacles = map.obstacles\n",
    "\n",
    "        is_3d = len(bounds) == 3\n",
    "        dim = 3 if is_3d else 2\n",
    "\n",
    "        root = Node(start_position)\n",
    "        nodes: List[Node] = [root]\n",
    "\n",
    "        for _ in range(self.max_iter):\n",
    "            # 1. Sample random point\n",
    "            if random.random() < self.goal_sample_rate:\n",
    "                sample = goal_position\n",
    "            else:\n",
    "                sample = tuple(random.uniform(0, bounds[i]) for i in range(dim))\n",
    "\n",
    "            # 2. Find nearest node\n",
    "            nearest = min(nodes, key=lambda n: math.dist(n.position, sample))\n",
    "\n",
    "            # 3. Steer\n",
    "            new_position = self._steer(nearest.position, sample, self.step_size)\n",
    "            new_node = Node(new_position, parent=nearest, cost=nearest.cost + math.dist(nearest.position, new_position))\n",
    "\n",
    "            # 4. Collision check\n",
    "            if not self._is_in_obstacle(new_position, obstacles, is_3d):\n",
    "                nearest.children.append(new_node)\n",
    "                nodes.append(new_node)\n",
    "\n",
    "                # 5. Check goal reached\n",
    "                if math.dist(new_position, goal_position) <= self.step_size:\n",
    "                    goal_node = Node(goal_position, parent=new_node, cost=new_node.cost + math.dist(new_position, goal_position))\n",
    "                    new_node.children.append(goal_node)\n",
    "                    nodes.append(goal_node)\n",
    "\n",
    "                    path = self._extract_path(goal_node)\n",
    "                    edges = [(node.parent, node) for node in nodes if node.parent]\n",
    "                    return PlannerResult(True, path, nodes, edges)\n",
    "\n",
    "        # No valid path\n",
    "        edges = [(node.parent, node) for node in nodes if node.parent]\n",
    "        return PlannerResult(False, [], nodes, edges)\n",
    "\n",
    "    def _steer(self, from_pos: Tuple[float, ...], to_pos: Tuple[float, ...], step_size: float) -> Tuple[float, ...]:\n",
    "        vec = [t - f for f, t in zip(from_pos, to_pos)]\n",
    "        dist = math.dist(from_pos, to_pos)\n",
    "        if dist <= step_size:\n",
    "            return to_pos\n",
    "        scale = step_size / dist\n",
    "        return tuple(f + scale * d for f, d in zip(from_pos, vec))\n",
    "\n",
    "    def _is_in_obstacle(self, pos: Tuple[float, ...], obstacles: List[Tuple], is_3d: bool) -> bool:\n",
    "        for obs in obstacles:\n",
    "            if is_3d:\n",
    "                x, y, z, w, h, d = obs\n",
    "                px, py, pz = pos\n",
    "                if x <= px <= x + w and y <= py <= y + h and z <= pz <= z + d:\n",
    "                    return True\n",
    "            else:\n",
    "                x, y, w, h = obs\n",
    "                px, py = pos\n",
    "                if x <= px <= x + w and y <= py <= y + h:\n",
    "                    return True\n",
    "        return False\n",
    "\n",
    "    def _extract_path(self, node: Node) -> List[Tuple[float, ...]]:\n",
    "        path = []\n",
    "        while node:\n",
    "            path.append(node.position)\n",
    "            node = node.parent\n",
    "        return path[::-1]"
   ]
  },
  {
   "cell_type": "code",
   "execution_count": 33,
   "id": "80c613a0",
   "metadata": {},
   "outputs": [],
   "source": [
    "p = Planner()"
   ]
  },
  {
   "cell_type": "code",
   "execution_count": 36,
   "id": "4cb021ba",
   "metadata": {},
   "outputs": [],
   "source": [
    "result = p.plan(map=m)"
   ]
  },
  {
   "cell_type": "code",
   "execution_count": 39,
   "id": "0fdf5bdc",
   "metadata": {},
   "outputs": [
    {
     "data": {
      "text/plain": [
       "[(1, 1),\n",
       " (1.9960979474619829, 1.0882546262924753),\n",
       " (1.977113501081825, 2.0880744054505187),\n",
       " (2.846706791827945, 2.581843084782586),\n",
       " (3.3668879975181545, 3.4358990040564237),\n",
       " (3.511354282053934, 4.42540872742069),\n",
       " (4.456861859064107, 4.751008822347505),\n",
       " (5.308892131723407, 5.274501338504249),\n",
       " (5.679503954122163, 6.203289192159901),\n",
       " (6.388597921080841, 6.908403187215173),\n",
       " (6.775030856836073, 7.830720695540583),\n",
       " (7.637785354104218, 8.336343754195537),\n",
       " (8.197269605990455, 9.165184735259636),\n",
       " (8.987917521510722, 9.777455813854287),\n",
       " (9.621524432698456, 10.551110958020692),\n",
       " (10.610985542266619, 10.695909827671459),\n",
       " (11.306739121188956, 11.414190383872697),\n",
       " (11.953323721244308, 12.177032670961752),\n",
       " (12.356494870636386, 13.092157265920203),\n",
       " (13.19601848012355, 13.635480474621655),\n",
       " (13.296538169813834, 14.63041554385209),\n",
       " (14.169634926346582, 13.407289730628749),\n",
       " (13.632347931810902, 15.572345373376281),\n",
       " (13.77793086921018, 16.561691424229167),\n",
       " (15.089483222261107, 13.015015448393546),\n",
       " (14.623859248671815, 17.094987942895298),\n",
       " (14.640978844343257, 18.09484139187872),\n",
       " (14.943453685775864, 19.047998760994815),\n",
       " (14.650366447410576, 20.004084463590253),\n",
       " (14.653524699070795, 21.00407947630104),\n",
       " (15.437898535791426, 21.624367864285336),\n",
       " (15.199576222662733, 22.595553981909035),\n",
       " (15.537153513452788, 23.536851794900677),\n",
       " (16.533447459353663, 23.622865592405883),\n",
       " (17.103673248146514, 24.444353601932235),\n",
       " (18.040825015743554, 24.79327560537963),\n",
       " (18.033893725140828, 25.7932515836964),\n",
       " (18.775649607134934, 26.463921555834073),\n",
       " (19.770714501307786, 26.56314784461266),\n",
       " (19.905492665970915, 27.55402364224324),\n",
       " (19.841852504886607, 28.551996552645704),\n",
       " (16.031286140741347, 12.678849919610329),\n",
       " (19.729764393028557, 29.545694824345972),\n",
       " (17.025360636555174, 12.570148968499097),\n",
       " (19.901323341106046, 30.530868680746224),\n",
       " (20.060685851619187, 31.518088813362525),\n",
       " (20.509308953673425, 32.411809861734575),\n",
       " (18.024764273385514, 12.535618247535163),\n",
       " (21.460264338998012, 32.721137932109976),\n",
       " (22.358047502693232, 33.16157565867913),\n",
       " (22.727472201788277, 34.090836328081714),\n",
       " (22.415030101822804, 35.04077313343729),\n",
       " (22.69100934386554, 36.00193672927388),\n",
       " (3.201919484828862, 5.376329389866448),\n",
       " (23.727468000891445, 34.09373490980629),\n",
       " (24.638293993939584, 34.50652542615553),\n",
       " (25.551643394470815, 34.91370213539764),\n",
       " (1.496891721669565, 2.9652215097483796),\n",
       " (26.22141121204977, 35.65627271826201),\n",
       " (26.820975597610627, 36.456599243854555),\n",
       " (27.56258293709646, 37.12743346631249),\n",
       " (27.347720027732876, 38.104077685145434),\n",
       " (27.996705852345787, 38.864878184259034),\n",
       " (28.8683852387392, 39.35495475719107),\n",
       " (14.8529776130768, 24.26616882976597),\n",
       " (22.003997897620888, 36.72858332338193),\n",
       " (29.52650758618076, 40.10786575843757),\n",
       " (28.350491625720714, 36.51164137608202),\n",
       " (30.28931494265902, 40.75449156746676),\n",
       " (30.942291518420294, 41.511869670864975),\n",
       " (11.479369083549573, 12.431181349645893),\n",
       " (31.780937232258243, 40.96719236579229),\n",
       " (32.40957204517513, 41.74489299713378),\n",
       " (33.40572021702083, 41.83257891235664),\n",
       " (34.15122028153654, 41.16607335813591),\n",
       " (35.007538256094264, 41.68252231635865),\n",
       " (35.951864064472176, 41.353510511659486),\n",
       " (36.739534799069304, 41.96960694393224),\n",
       " (19.01787901534773, 12.418472571996872),\n",
       " (19.961247836565775, 12.086726785055008),\n",
       " (21.196035540988017, 37.317817428186004),\n",
       " (13.678823364690718, 21.22759079314584),\n",
       " (14.276677880825384, 21.977326700991284),\n",
       " (20.96440058777117, 38.29062020801768),\n",
       " (5.784538767670181, 7.968290391694152),\n",
       " (37.66367786386395, 41.587560355422475),\n",
       " (38.64667479192408, 41.40393835395107),\n",
       " (39.2640849447441, 42.19057976094333),\n",
       " (20.106315777617695, 38.804128200734326),\n",
       " (28.702048818932663, 40.67378778584749),\n",
       " (39.219273122419246, 43.18957520666865),\n",
       " (40.2244120763575, 41.91170380233955),\n",
       " (39.95023641014364, 43.871991994269266),\n",
       " (28.811924818070644, 35.62446641645018),\n",
       " (40.66994060214183, 44.56627282795275),\n",
       " (41.20880378479881, 41.735712426550855),\n",
       " (40.99706743818982, 45.511253268563685),\n",
       " (42.042116694318466, 41.182910839335435),\n",
       " (41.86968019501856, 45.999665979925446),\n",
       " (42.744414747776176, 40.4710278123503),\n",
       " (41.94921949275457, 46.996497711019344),\n",
       " (43.570654101038414, 39.90770860344579),\n",
       " (42.50655866976022, 47.82678262704195),\n",
       " (42.01597190651182, 48.69817497709184),\n",
       " (41.51575703071138, 49.56407628672703),\n",
       " (41.14734317268829, 50.49373817645713),\n",
       " (19.062945131334246, 31.585271066117908),\n",
       " (44.38185371485667, 39.32293925871137),\n",
       " (42.89431583243909, 49.1762042102844),\n",
       " (43.60850274512893, 49.87615924722789),\n",
       " (14.108588968867904, 24.93391544815714),\n",
       " (44.57397936410753, 50.136648974867306),\n",
       " (45.318089201115924, 50.80470627066411),\n",
       " (45.03939817415099, 38.569523514217444),\n",
       " (45.36066359901605, 51.80379956993273),\n",
       " (13.355731201320447, 25.592098691519855),\n",
       " (45.25241537242342, 52.79792346635588),\n",
       " (46.03052157488954, 38.43657839580968),\n",
       " (46.05187544931519, 53.39864268983405),\n",
       " (12.414056740302673, 25.255573492661156),\n",
       " (40.346684108904626, 45.80336301074027),\n",
       " (22.801861283689114, 32.26545662205613),\n",
       " (46.38860483285893, 54.340244156622546),\n",
       " (46.71680300335781, 37.70924229678836),\n",
       " (46.85568517754882, 55.224459035260296),\n",
       " (47.71649555634077, 37.734037447733904),\n",
       " (47.97922012544631, 36.769166575135756),\n",
       " (20.389562055576235, 11.183096921784951),\n",
       " (48.10726608711998, 35.777398340264796),\n",
       " (46.999852501823156, 53.08030402124616),\n",
       " (8.282604705866559, 10.486352020705546),\n",
       " (48.66785849728243, 34.94930646754278),\n",
       " (29.681651491325145, 35.13093271564581),\n",
       " (48.73677502041, 33.95168403754233),\n",
       " (7.566820860558099, 11.184673928421061),\n",
       " (49.57076057301834, 33.399897758227084),\n",
       " (50.5266613311615, 33.69358762965838),\n",
       " (21.2138612994031, 10.616942564187607),\n",
       " (46.5987574062393, 56.19088964338999),\n",
       " (51.456797409036575, 33.326372601867895),\n",
       " (52.45316282472602, 33.411554515546776),\n",
       " (45.98112737104145, 50.05612068088709),\n",
       " (46.21001717437106, 57.11223704373745),\n",
       " (52.985149522147466, 32.56480180444003),\n",
       " (46.378891564766576, 58.097874624326046),\n",
       " (28.405962113191265, 41.62894885220395),\n",
       " (19.155874703612426, 39.115032952778606),\n",
       " (53.633148532388674, 31.80316062729267),\n",
       " (54.5518912498722, 31.408303920282414),\n",
       " (55.546693629530544, 31.510128403713917),\n",
       " (22.058989620633042, 10.082379078102875),\n",
       " (46.750211096508345, 59.02637976989449),\n",
       " (22.773392562103822, 31.49236131059959),\n",
       " (23.489073667778314, 31.8536311009495),\n",
       " (56.49310369544406, 31.83309587442509),\n",
       " (8.491469170809141, 7.815552105744725),\n",
       " (2.134530539383339, 0.1473471361154055),\n",
       " (19.85484610628534, 28.954316113154178),\n",
       " (46.044736301892016, 59.735114779726125),\n",
       " (57.17651990079221, 31.10306690906307),\n",
       " (45.08737189540751, 60.02399778925865),\n",
       " (39.50395960620873, 46.34170807903379),\n",
       " (46.776757873855544, 49.450338456823204),\n",
       " (57.72072689618662, 30.264115929467845),\n",
       " (58.715666674180284, 30.364589001312577),\n",
       " (44.41420383275632, 60.763487315503916),\n",
       " (43.56560049366698, 61.292516967684605),\n",
       " (56.76517145518175, 32.795373970461426),\n",
       " (52.90963092879714, 31.112854697075374),\n",
       " (43.356158261578706, 62.270337989864984),\n",
       " (43.21448093979082, 63.26025088325056),\n",
       " (42.589848746020834, 64.04116997157284),\n",
       " (43.27166394632467, 64.77269442956084),\n",
       " (44.123779586315976, 65.2960479774443),\n",
       " (18.42951385781017, 39.80234650690469),\n",
       " (24.180078092912396, 31.130780573907348),\n",
       " (44.42766543551283, 66.24875642742148),\n",
       " (41.75342827204258, 64.58925827714958),\n",
       " (18.047637184847982, 40.72655979757267),\n",
       " (40.760242155446576, 64.47271928023883),\n",
       " (48.89813547975046, 37.16362135280246),\n",
       " (17.187985916161274, 41.23744109126557),\n",
       " (23.034669625402124, 9.863179332907302),\n",
       " (16.731272999449104, 42.12705522767993),\n",
       " (30.549342481735913, 34.633828757544514),\n",
       " (40.1148678733167, 65.23658578425989),\n",
       " (44.18200276752019, 67.21811180784434),\n",
       " (15.791907220648895, 42.46997203044567),\n",
       " (10.876905886599825, 13.229328013061265),\n",
       " (59.4960508109541, 30.98988940837448),\n",
       " (60.114564569179365, 30.204115439038475),\n",
       " (31.533386138585257, 34.4559015774551),\n",
       " (52.04405971176913, 30.613643734134854),\n",
       " (45.05661185511702, 67.70294058575777),\n",
       " (60.93465471816492, 30.776349785732947),\n",
       " (45.88440682019633, 68.26397132982564),\n",
       " (46.745690552368146, 68.77209565781654),\n",
       " (47.511285677794014, 69.4154183637147),\n",
       " (48.378347877265455, 69.91361826560926),\n",
       " (25.116545592385428, 33.628302556615004),\n",
       " (61.90798374940013, 30.54693619207571),\n",
       " (15.644189276284049, 43.459001559283216),\n",
       " (39.306663921788264, 65.82548846954315),\n",
       " (38.707082261128285, 66.62580205320909),\n",
       " (37.8198380157739, 66.16450209755602),\n",
       " (7.162767972265379, 12.09940955332167),\n",
       " (18.877175528376245, 41.28500955951763),\n",
       " (15.560055370596737, 44.45545601680438),\n",
       " (36.84716901192514, 66.39669815469709),\n",
       " (36.00151720434775, 66.93043312670201),\n",
       " (62.532680661391346, 31.327803509965655),\n",
       " (63.41031271137196, 31.807138450113797),\n",
       " (14.599416101750329, 44.73325485616524),\n",
       " (35.00626126615093, 66.83314172171697),\n",
       " (9.949129094880291, 12.856192347724102),\n",
       " (40.56546670185761, 66.12931233574),\n",
       " (22.503391123724192, 32.55821943908679),\n",
       " (24.02359441957592, 10.011596823346634),\n",
       " (49.49751374436438, 37.964087277066824),\n",
       " (64.31140528469847, 31.373511681687535),\n",
       " (47.7749515545396, 49.39026037560862),\n",
       " (49.36113324675573, 69.72886730481103),\n",
       " (63.55954374436695, 32.795940805891355),\n",
       " (65.27624815016544, 31.11068427642415),\n",
       " (13.82045314096621, 45.360324793035474),\n",
       " (65.97770673122818, 31.823394497378953),\n",
       " (66.80087325428016, 32.39119452848718),\n",
       " (67.7985322088089, 32.32280878107855),\n",
       " (34.38158697586264, 67.61402713652046),\n",
       " (49.31365310711156, 38.94703959842783),\n",
       " (68.67686299807201, 32.80086215114556),\n",
       " (33.38210104705414, 67.64608767478501),\n",
       " (20.17218425322348, 10.766786471175415),\n",
       " (69.62404927504826, 32.48017826207744),\n",
       " (70.26046055920114, 31.708828356131445),\n",
       " (26.35001692030537, 38.17181622240083),\n",
       " (13.5810120493854, 46.331235686816456),\n",
       " (25.70685252217946, 36.51372788016784),\n",
       " (71.1270952539715, 32.20777154510216),\n",
       " (44.289191958771724, 53.06662526276442),\n",
       " (32.824732656857954, 68.47635298034108),\n",
       " (31.986620410134975, 67.93085516926118),\n",
       " (31.434598792997352, 68.76468496856843),\n",
       " (31.256926976481488, 67.24708072334865),\n",
       " (30.591130363208787, 69.3018637171708),\n",
       " (32.01432236642542, 33.57914599877261),\n",
       " (71.95345942125206, 32.770907641472036),\n",
       " (23.75382828107491, 10.97452269303664),\n",
       " (29.61465010444689, 69.51747054509677),\n",
       " (28.72734760733158, 69.97865844456177),\n",
       " (72.87705590215768, 32.38754157560449),\n",
       " (28.063801898688673, 70.72679418929103),\n",
       " (50.344081567070994, 69.91274933109257),\n",
       " (73.78143366199495, 32.81427435793051),\n",
       " (16.197396484221322, 45.22603781316592),\n",
       " (4.125011561079455, 2.7837880760900884),\n",
       " (51.23528315462832, 69.45914186826232),\n",
       " (52.21581147888436, 69.6555195791453),\n",
       " (19.79414297669945, 9.840997730023265),\n",
       " (74.50871405473639, 32.12793389552583),\n",
       " (65.85324582194957, 30.293938485644855),\n",
       " (75.14485818359087, 32.89950414334775),\n",
       " (75.5895238205457, 33.79520078357342),\n",
       " (75.99749123076147, 34.708197274367244),\n",
       " (20.291095734760685, 13.030760875571024),\n",
       " (48.77487172972379, 49.402895376978485),\n",
       " (28.17631748742, 71.72044414893097),\n",
       " (13.3205048682119, 44.4942695265715),\n",
       " (65.85908181111556, 29.29395551517463),\n",
       " (51.26272515950247, 30.07493193785399),\n",
       " (30.622890280390703, 66.47377776330627),\n",
       " (76.9611288942168, 34.97540964977369),\n",
       " (24.783272593990354, 9.361297606586874),\n",
       " (53.21222069773124, 69.74018756953696),\n",
       " (54.155451259334605, 69.40804888215261),\n",
       " (66.04313456379357, 28.311039148319523),\n",
       " (55.10516575519391, 69.72116607483724),\n",
       " (66.27979148790297, 27.33944586907605),\n",
       " (24.37706084869482, 8.447518630037317),\n",
       " (77.27938575927958, 35.923414168666085),\n",
       " (49.7730836163255, 49.46267019983108),\n",
       " (77.68322582667756, 34.283617759006844),\n",
       " (55.993633918540695, 69.26222781894742),\n",
       " (77.7598301875252, 36.80043934012226),\n",
       " (27.972671706598675, 42.53020321338886),\n",
       " (56.942414565125006, 69.57816338938395),\n",
       " (6.267362149323483, 4.989308026237449),\n",
       " (77.0194484569716, 37.47262599058659),\n",
       " (30.35122848706236, 65.5113849796438),\n",
       " (66.96774558520623, 26.61369166825896),\n",
       " (54.13865739670976, 68.40818990900783),\n",
       " (66.77783057708308, 25.631891133685066),\n",
       " (71.86221143752933, 33.76673584225093),\n",
       " (76.52545464559662, 38.34209140929122),\n",
       " (67.75707100109364, 25.429188908774655),\n",
       " (78.71970965071505, 37.080852278743805),\n",
       " (18.49472579482473, 32.408148204952546),\n",
       " (6.760103544493969, 13.014757224213733),\n",
       " (9.016540743369593, 13.217134125060223),\n",
       " (67.73079724400262, 24.429534123517104),\n",
       " (13.054419188629891, 47.181353301621215),\n",
       " (67.94080273666495, 23.451833917394772),\n",
       " (68.9399966896812, 23.491976715700073),\n",
       " (30.028425693185877, 64.56491873287874),\n",
       " (17.639047411577902, 39.18984116212725),\n",
       " (69.72081371503464, 22.86721694353304),\n",
       " (14.029318528904543, 45.36641413561489),\n",
       " (28.56803171535454, 72.64053108158116),\n",
       " (28.7853330320535, 73.61663565474989),\n",
       " (50.97099008385852, 68.49469945279986),\n",
       " (67.27639235421424, 22.704465973412887),\n",
       " (12.933143521671239, 21.893895206844597),\n",
       " (66.85132571113476, 29.16964926885261),\n",
       " (70.49097413305907, 22.2293667020904),\n",
       " (25.200295462895667, 7.87981732654966),\n",
       " (71.47290946778315, 22.04014989940023),\n",
       " (28.771938521161296, 74.61654594426489),\n",
       " (50.61918429413315, 49.99569331660317),\n",
       " (76.86733997641697, 39.28183308686536),\n",
       " (51.55297447810315, 49.63787228267523),\n",
       " (79.71166550492896, 36.954267985520865),\n",
       " (77.18576651021408, 40.22978062896564),\n",
       " (37.42843450051868, 65.24428294526356),\n",
       " (12.395888992323083, 44.113368644379875),\n",
       " (37.94087781001947, 41.560288820830216),\n",
       " (72.34169437467989, 21.544960253356976),\n",
       " (73.34145225088233, 21.522955958976418),\n",
       " (66.27884163706352, 22.634519088477937),\n",
       " (74.02437765200207, 20.79246783689267),\n",
       " (77.65674043881585, 41.11192775874469),\n",
       " (28.843783770077682, 75.61396173530098),\n",
       " (78.19332623155265, 41.955773530810305),\n",
       " (11.61480745648577, 43.488939597670786),\n",
       " (12.531478760734172, 48.033722534332156),\n",
       " (80.68830201153877, 36.73937002378789),\n",
       " (78.64787897922879, 42.846493351842746),\n",
       " (10.635863684964487, 43.284809511207065),\n",
       " (63.627775383742524, 33.793610311984494),\n",
       " (48.17796317103041, 38.11490270166985),\n",
       " (40.268476649283926, 50.970805922211476),\n",
       " (16.34953932977451, 21.21337995358006),\n",
       " (29.693429655817916, 76.14131538214974),\n",
       " (71.2918419973654, 34.588124119332534),\n",
       " (29.94349678315063, 77.10954388401672),\n",
       " (48.70084031540648, 39.737267718860544),\n",
       " (79.23209289090514, 43.65809307178098),\n",
       " (65.65638843623594, 21.851862067312535),\n",
       " (30.10463328671867, 78.09647601299919),\n",
       " (81.17186633737164, 35.86406119669782),\n",
       " (26.194058124873116, 7.768301535472827),\n",
       " (75.02382213569268, 20.759140310425714),\n",
       " (52.55297352371265, 49.63925386875194),\n",
       " (79.5596242087947, 44.602933394693544),\n",
       " (12.553923438519295, 49.03347062082151),\n",
       " (80.55308345339122, 44.71712065022456),\n",
       " (7.1558988699298824, 4.530502516098322),\n",
       " (27.172254507523814, 7.560619478065143),\n",
       " (30.034247537903486, 79.0939958606031),\n",
       " (81.44518559292806, 45.16895443894979),\n",
       " (82.01888558557897, 35.332498977229314),\n",
       " (14.599889736889015, 44.99738399388723),\n",
       " (27.862739075205678, 37.52137973377858),\n",
       " (28.162609269898383, 7.422064634620347),\n",
       " (82.93442101079293, 34.930261627921354),\n",
       " (33.96635384121967, 66.70431210207585),\n",
       " (63.860265735725655, 34.766209014551364),\n",
       " (65.15503354505873, 20.986620324738425),\n",
       " (75.92840905740667, 20.332851088108264),\n",
       " (77.94321407667107, 33.31800597890818),\n",
       " (20.840729620307766, 13.866166520667116),\n",
       " (47.85714536210425, 33.476024848385954),\n",
       " (83.9108870111604, 34.71459023406864),\n",
       " (30.870430445481684, 79.64244653757785),\n",
       " (32.081773556046606, 32.581423423595176),\n",
       " (31.58873982188145, 80.33817036193359),\n",
       " (82.38284023597625, 44.821386071041886),\n",
       " (12.242391033621262, 49.98370614988704),\n",
       " (81.77179311620215, 46.11411449192535),\n",
       " (37.45983633804065, 66.42204044010201),\n",
       " (47.87152565595637, 70.77566886504488),\n",
       " (4.885789556603257, 7.529827330984837),\n",
       " (27.4511706210518, 43.3834538317733),\n",
       " (17.126728623500384, 45.595282684359816),\n",
       " (76.8831742430364, 20.03549029662854),\n",
       " (29.31303262630281, 79.78670723721304),\n",
       " (62.947467813543426, 32.644915817557376),\n",
       " (75.54644547287286, 38.545907600313264),\n",
       " (28.00271248752349, 6.4349308954612825),\n",
       " (16.592156630166098, 41.49577294873793),\n",
       " (73.69638739917073, 19.847786729826566),\n",
       " (71.68800995800062, 23.016741819860464),\n",
       " (81.9578735097119, 47.09664901404213),\n",
       " (11.889796464591281, 50.91948233567644),\n",
       " (84.90711983529422, 34.62787137730526),\n",
       " (77.8670117112225, 19.856426519741245),\n",
       " (85.48869728827002, 33.81438034097469),\n",
       " (82.61987501082416, 47.84615152406135),\n",
       " (29.15041421582297, 64.08627915488816),\n",
       " (83.53117480267082, 33.78948557040946),\n",
       " (73.11446314949448, 19.034543735612203),\n",
       " (86.3343854515999, 34.348057706434126),\n",
       " (29.323423643724258, 80.78665324913415),\n",
       " (28.493698692317015, 81.34482571801115),\n",
       " (28.701001928807706, 8.264758733823935),\n",
       " (75.37439833803387, 21.695674520346543),\n",
       " (74.68328032635353, 39.05082930695128),\n",
       " (83.45904407840662, 48.390022166781456),\n",
       " (11.26510412580871, 51.70035331212925),\n",
       " (83.85053539005324, 49.31020397104908),\n",
       " (29.59158466739684, 8.719580001716148),\n",
       " (42.76040435598767, 49.43593065256188),\n",
       " (28.418080838357575, 82.34196258933954),\n",
       " (83.46827349413077, 50.234257997026866),\n",
       " (32.49371456063066, 31.670212905250327),\n",
       " (83.27397890325958, 51.21520122268174),\n",
       " (78.84857166376075, 20.04758106343064),\n",
       " (27.438648528170962, 5.609199795308484),\n",
       " (37.384987353677296, 64.24522721837374),\n",
       " (84.83434989719443, 49.489393857869004),\n",
       " (27.503776879596487, 82.74699131794259),\n",
       " (68.12632379371058, 33.635671461384185),\n",
       " (51.144422057140424, 67.50985360159088),\n",
       " (79.80931908605145, 19.77015649609426),\n",
       " (32.68740279687324, 30.68914977418218),\n",
       " (19.004077844425993, 29.20185013133445),\n",
       " (31.29153197151655, 70.0156126836008),\n",
       " (85.8050414634804, 49.729722555991515),\n",
       " (64.5891199949202, 20.162155738616253),\n",
       " (64.86846905990491, 19.201966121982036),\n",
       " (73.34495124815275, 18.06146859135206),\n",
       " (26.52362465247122, 82.54874497709015),\n",
       " (26.00946744639607, 83.40644094154433),\n",
       " (83.58658610093083, 52.165083710131704),\n",
       " (27.895401079818452, 83.66711657343801),\n",
       " (86.0485259660568, 32.98577195848782),\n",
       " (20.604787881015596, 39.255138910065234),\n",
       " (13.49951315098106, 49.35883210546048),\n",
       " (34.24567136438871, 40.17054385433),\n",
       " (73.75319494722125, 17.148595608856205),\n",
       " (10.310799561485778, 51.401517573783885),\n",
       " (53.54642719867859, 49.52501816637888),\n",
       " (25.430430574666776, 84.22174229759494),\n",
       " (51.38801154814298, 66.96892535453397),\n",
       " (83.04423219202707, 53.005233838083136),\n",
       " (84.32832957474847, 52.83576740536288),\n",
       " (12.825600710956646, 16.86676071091794),\n",
       " (28.45383773881285, 63.368796603409606),\n",
       " (30.61908814856679, 75.76295529598593),\n",
       " (28.66275931887656, 84.3083352046003),\n",
       " (65.02921575718624, 18.21497042831709),\n",
       " (84.47100551067093, 53.82553686200854),\n",
       " (82.15274723796873, 53.45828414068495),\n",
       " (47.269461390583835, 71.57411649661594),\n",
       " (84.77717954481533, 54.77751241884587),\n",
       " (66.18757918141827, 29.256788332135375),\n",
       " (24.59656813184225, 84.77371460346428),\n",
       " (28.8309963062751, 5.874622127375106),\n",
       " (28.80333999676587, 85.29840443096994),\n",
       " (54.524400504925815, 49.3162881678931),\n",
       " (78.14115775899583, 18.89473844947612),\n",
       " (31.54130424122077, 76.14963019619285),\n",
       " (30.432071554986052, 9.261411886889586),\n",
       " (28.537948348223654, 86.26254512240664),\n",
       " (57.28503194366298, 33.64962514694061),\n",
       " (31.425108745590173, 9.37921315206564),\n",
       " (47.838024281971514, 72.39675629539599),\n",
       " (23.669557597383225, 84.39867931312217),\n",
       " (28.460324114191092, 62.368817640163655),\n",
       " (80.80401036576562, 19.873060616811394),\n",
       " (73.83758941669848, 39.58450232044065),\n",
       " (23.007046170323676, 85.14773111975208),\n",
       " (46.95174905277814, 33.05145739431221),\n",
       " (64.27129082455289, 17.56262864942144),\n",
       " (63.291149644095114, 35.588466197096565),\n",
       " (29.966894333241253, 10.146629460353754),\n",
       " (78.46177547665006, 17.94752977176767),\n",
       " (81.42124137207696, 19.08627863630607),\n",
       " (22.470914960870076, 85.99186578095835),\n",
       " (22.26484637570129, 86.97040333169748),\n",
       " (63.27719266337404, 17.671112961378586),\n",
       " (27.766571773108474, 61.648603998774945),\n",
       " (9.721060315615725, 43.68870899799574),\n",
       " (22.180126854314842, 87.96680817045332),\n",
       " (73.41486436483635, 16.207568288836697),\n",
       " (87.29111981040548, 34.63902053340843),\n",
       " (88.2713801694814, 34.836731505345554),\n",
       " (62.410917065737664, 17.171546560446995),\n",
       " (29.447031554694586, 86.6791597209417),\n",
       " (12.237496930301589, 51.93370333627855),\n",
       " (44.45558191803281, 66.42830864693569),\n",
       " (29.988496872457244, 87.51988280832552),\n",
       " (10.228642144178346, 13.119337385769903),\n",
       " (70.12083558912008, 31.64268162507571),\n",
       " (78.60586189582067, 16.95796466334347),\n",
       " (55.38213847997019, 49.830375287131446),\n",
       " (52.2891192269772, 50.603816417316956),\n",
       " (50.52232490959672, 49.36350883160221),\n",
       " (86.00957728628177, 31.986530746195317),\n",
       " (56.36346059008487, 49.63800346954876),\n",
       " (12.69791368745098, 12.71036923358868),\n",
       " (28.819490878099085, 79.82161807890914),\n",
       " (17.348082427398413, 21.15941994813472),\n",
       " (82.28499091557066, 18.582357287170677),\n",
       " (21.425929595348514, 88.62345609329148),\n",
       " (30.903987064863056, 87.92222309664969),\n",
       " (12.242380248613724, 16.05444679850199),\n",
       " (8.729552645921043, 43.81875722342239),\n",
       " (60.60430368893163, 30.704149997386708),\n",
       " (82.90472965493319, 17.79754909727117),\n",
       " (2.53154809332212, 6.11835512894112),\n",
       " (86.56809828129751, 50.376053966943225),\n",
       " (21.601976689242797, 85.49694530239498),\n",
       " (20.602182877723592, 85.51725132238671),\n",
       " (12.451893187150862, 42.941867866069806),\n",
       " (56.64209866675679, 50.598399649376944),\n",
       " (32.42411066218855, 9.423880485014491),\n",
       " (32.423831568571664, 29.724509837412196),\n",
       " (33.4233027192471, 9.46407044783004),\n",
       " (57.64013161800475, 50.661091181686125),\n",
       " (87.47317935677823, 50.80129301360599),\n",
       " (31.18686959117516, 74.95366113888471),\n",
       " (8.065254856942225, 4.11448365969298),\n",
       " (65.99237520932121, 18.483901404151137),\n",
       " (12.420483334656184, 14.677179146475483),\n",
       " (16.61790313080067, 12.222917500605835),\n",
       " (30.859574983414383, 69.11488256055213),\n",
       " (18.736841391849964, 42.27511376116785),\n",
       " (24.359974197977582, 11.769876153720768),\n",
       " (19.602339076544965, 85.49957723840275),\n",
       " (18.583177919417015, 43.25696421533857),\n",
       " (34.07794051376778, 8.708127752921824),\n",
       " (45.952173090588666, 33.08057604491609),\n",
       " (83.37339775419035, 16.914174763968077),\n",
       " (18.69321078855621, 85.916093451747),\n",
       " (73.30792610710533, 31.805249003887248),\n",
       " (26.815784098081064, 61.95844718010378),\n",
       " (18.41088355547017, 84.95677529104223),\n",
       " (52.17253778390697, 48.892521377140994),\n",
       " (18.212872801395562, 33.36760580698351),\n",
       " (83.80629749390067, 16.012732688536307),\n",
       " (34.998742717073945, 8.318097879211475),\n",
       " (30.25652634837227, 11.103767535978765),\n",
       " (25.985024060583754, 62.51507790158569),\n",
       " (18.164674649272254, 86.76500425358122),\n",
       " (35.841772907328576, 7.780231633459581),\n",
       " (81.46142669733639, 54.1808323467583),\n",
       " (1.8414775438381326, 3.0028667879522852),\n",
       " (78.19345447910742, 41.737541914883316),\n",
       " (6.410538174248831, 13.951669200829135),\n",
       " (30.500116886129753, 12.0736456983863),\n",
       " (8.299878403579388, 44.72174119087038),\n",
       " (56.32455754556199, 68.31857027879894),\n",
       " (9.47993608219337, 7.6641151053170775),\n",
       " (82.56940246426942, 33.515635302770555),\n",
       " (5.440534409842831, 14.194759095802556),\n",
       " (30.61676392659651, 88.88008679720646),\n",
       " (31.48421808389917, 89.37760391749312),\n",
       " (81.0880406483414, 55.10850839927659),\n",
       " (80.10858377451993, 20.382904980969883),\n",
       " (32.0158626523126, 90.22457148055354),\n",
       " (83.62809107092512, 15.028739563148603),\n",
       " (63.2367276820204, 36.5869842239964),\n",
       " (86.88821315597417, 31.509038328988645),\n",
       " (26.63538448751571, 5.0135766921717755),\n",
       " (28.453472385521973, 38.94090205869257),\n",
       " (77.65513185776533, 42.96671461795659),\n",
       " (39.273554773669495, 50.87015572884919),\n",
       " (58.23219187969552, 51.46698487599491),\n",
       " (19.291635212035718, 43.962717900795035),\n",
       " (80.63269386139378, 55.998822559343964),\n",
       " (47.28044759941626, 37.34995259158116),\n",
       " (28.999351387720186, 75.71611574631515),\n",
       " (58.90791454172258, 52.20414081880691),\n",
       " (12.766038389945955, 12.176041384542858),\n",
       " (32.128057154649426, 89.5028428100719),\n",
       " (87.73341409638695, 30.97458966884872),\n",
       " (51.81138552247783, 31.14446955404484),\n",
       " (83.50020311137088, 14.036950941616245),\n",
       " (80.82714073128967, 37.729685029176544),\n",
       " (21.013679337230524, 89.53452674076162),\n",
       " (80.4841160823901, 56.98772328418258),\n",
       " (31.659358934937845, 35.44793527374728),\n",
       " (56.10234297855331, 51.440221362717715),\n",
       " (66.2875162409511, 23.63448146339381),\n",
       " (31.35654791780834, 12.589907151506667),\n",
       " (9.49673905595744, 51.98229764690877),\n",
       " (65.70999562165451, 21.475965783415162),\n",
       " (46.304633635137506, 71.83699936467774),\n",
       " (26.098079549482122, 81.88745826263299),\n",
       " (79.52482399534097, 57.270139097700344),\n",
       " (61.41469339543162, 17.08472260798023),\n",
       " (8.506838224806181, 51.8405360707111),\n",
       " (45.76378264448848, 32.098481833641955),\n",
       " (7.346618373961686, 44.41959004337421),\n",
       " (36.740915774135566, 7.342576398062913),\n",
       " (80.88741086600938, 57.90279340035155),\n",
       " (2.306507445862749, 3.168319946044329),\n",
       " (81.22994637560808, 58.84229828307647),\n",
       " (45.46209926956808, 72.37564195752991),\n",
       " (25.68336955481517, 63.46849520746466),\n",
       " (73.16353342202149, 15.239667076323872),\n",
       " (10.45319443841455, 7.434401866591818),\n",
       " (77.96200040282714, 34.12705720397108),\n",
       " (74.11881775087878, 20.01318491990991),\n",
       " (19.015008544344106, 10.467854600702937),\n",
       " (33.1278297813295, 89.52416638719265),\n",
       " (34.02856432935314, 89.95853636082879),\n",
       " (21.554353320490943, 90.37575895830045),\n",
       " (34.995962793815316, 89.70527718339149),\n",
       " (81.6346046231126, 59.75676627197852),\n",
       " (88.46898324515637, 30.29714001951776),\n",
       " (40.584051049410654, 49.20086289984756),\n",
       " (82.17508945276516, 60.59812003165125),\n",
       " (19.218222798860406, 9.023491798082802),\n",
       " (78.91778612578194, 33.09393161381517),\n",
       " (72.36448841906142, 22.548638351425765),\n",
       " (31.615503586930647, 13.555796359143557),\n",
       " (88.24412783206598, 51.43819053161928),\n",
       " (1.4333663236493988, 0.4891192787256027),\n",
       " (6.4337169338957505, 44.01140998417785),\n",
       " (51.89147920999506, 47.932830761353486),\n",
       " (1.137194437183664, 2.1852500803977826),\n",
       " (28.136687141911285, 9.090318435656606),\n",
       " (37.7296845715603, 7.193123177156665),\n",
       " (13.692332280447083, 20.233921121912392),\n",
       " (82.57639046707557, 61.514066261466866),\n",
       " (21.007360687354026, 84.66263890796678),\n",
       " (82.36937113166235, 62.4924031128453),\n",
       " (62.485677499858674, 16.174345037438712),\n",
       " (47.83983889789092, 73.39675464897917),\n",
       " (43.77453449419054, 68.13133117154057),\n",
       " (82.78392315742481, 63.40242872673551),\n",
       " (89.13515806625315, 51.892134494861835),\n",
       " (73.38841598438897, 14.265281201455485),\n",
       " (24.867391785585742, 64.04657848876882),\n",
       " (19.925806943728514, 44.73591012445081),\n",
       " (11.544519375796733, 47.87275305746181),\n",
       " (89.80827496623917, 51.152598397735254),\n",
       " (18.282959770101076, 83.96499128979154),\n",
       " (53.42050952387994, 32.58040657999622),\n",
       " (17.436094115704947, 39.850895550291355),\n",
       " (35.49879043125544, 88.84089048345541),\n",
       " (78.86790278907918, 45.325097834074725),\n",
       " (46.13080305627957, 54.69520601147118),\n",
       " (17.600611375459305, 83.23396415737456),\n",
       " (16.761530221861637, 82.68995789116322),\n",
       " (32.54407509152443, 8.488460242495233),\n",
       " (23.86823374581199, 64.0055515274449),\n",
       " (67.89160986169632, 26.996411929841024),\n",
       " (83.91423248689364, 49.18100955735556),\n",
       " (21.772454265366804, 14.22933202810086),\n",
       " (90.80053182839579, 51.27680113322485),\n",
       " (47.37180293039672, 74.2804640656608),\n",
       " (81.39324625664005, 62.70961321473451),\n",
       " (41.07373220835927, 65.1374903751013),\n",
       " (80.53471690390263, 53.805054541727245),\n",
       " (35.59667839482772, 9.119641967374527),\n",
       " (28.17182674707141, 60.73440029823644),\n",
       " (15.89533342801434, 82.19025486502804),\n",
       " (36.47291421699301, 89.066905637948),\n",
       " (89.15998817342735, 35.295398939684645),\n",
       " (37.1526916673333, 89.80032408468142),\n",
       " (77.12158917504662, 39.213128427066444),\n",
       " (59.86014193626343, 51.89875092197674),\n",
       " (82.80394314314806, 64.40222830673724),\n",
       " (60.26075050391753, 50.98250162428417),\n",
       " (72.70364213899805, 13.536525562939708),\n",
       " (27.594096811485436, 39.33747730906766),\n",
       " (22.00229716439167, 91.26982065231907),\n",
       " (78.01163626465467, 45.84163209155428),\n",
       " (77.6061109732999, 16.980282658748134),\n",
       " (4.629601774564691, 14.779898618515602),\n",
       " (14.901813191337318, 82.07659951181829),\n",
       " (62.34963137356535, 37.048568603634),\n",
       " (21.45253911433208, 91.82657186224972),\n",
       " (5.529810536926507, 44.43914030285784),\n",
       " (62.470658753898945, 16.35582194697044),\n",
       " (38.33875099205702, 6.400003958234749),\n",
       " (7.51853883357534, 3.277165566138386),\n",
       " (71.90377423774447, 12.936349471659668),\n",
       " (37.030635421762454, 88.2368772903896),\n",
       " (47.711630755435095, 70.25256584985468),\n",
       " (82.79417017226528, 65.40218055011695),\n",
       " (11.396535759158528, 7.10257788828855),\n",
       " (66.99237142401515, 18.48114993221827),\n",
       " (13.966023739100619, 81.72404015357837),\n",
       " (38.27385218036456, 50.89454271183982),\n",
       " (47.374676760311345, 32.1452939685436),\n",
       " (12.396367074697013, 49.63628410835413),\n",
       " (82.62197502098402, 66.38724340591612),\n",
       " (51.25640611159737, 68.01976099051531),\n",
       " (73.53055920220976, 40.536202087904634),\n",
       " (7.577708472410432, 2.2789176240718247),\n",
       " (38.03063538902259, 88.23713318044598),\n",
       " (16.02894283415588, 81.1992207956891),\n",
       " (81.94795230308647, 67.12595402297669),\n",
       " (60.67632214819777, 16.41032813791221),\n",
       " (59.82074253762533, 16.927999394572947),\n",
       " (82.4196720789688, 68.00770254327118),\n",
       " (22.064820860305833, 92.61721151692645),\n",
       " (19.945981683570146, 29.650440307474046),\n",
       " (72.45037665080238, 19.34188946072003),\n",
       " (89.35738486623748, 29.838072965961903),\n",
       " (80.94798360100535, 67.11804233174225),\n",
       " (39.028654313686125, 88.3000476145088),\n",
       " (82.89139185485114, 68.88945106356567),\n",
       " (52.28315216034532, 47.012726256439),\n",
       " (88.9437271483554, 28.92764049046655),\n",
       " (4.7081525133964, 45.009121085313346),\n",
       " (15.928440972009575, 80.20428392547817),\n",
       " (83.42408480365214, 13.039852148501925),\n",
       " (83.89127665595886, 68.90462948620309),\n",
       " (19.677870677966624, 8.135390549782162),\n",
       " (31.774869948686323, 36.37195859141207),\n",
       " (27.811712480376965, 59.80149209539807),\n",
       " (45.29998694058955, 56.69769515972141),\n",
       " (61.18164266957341, 51.37231904210131),\n",
       " (36.58622222155142, 87.34105537311018),\n",
       " (38.20507901347944, 5.408978326808823),\n",
       " (28.619309360689915, 62.676910455676605),\n",
       " (91.51753810614832, 51.97386784284701),\n",
       " (22.587566226618367, 14.808635481072296),\n",
       " (48.42200958058732, 33.365898572748605),\n",
       " (15.61022205577923, 79.25626666753759),\n",
       " (46.157669547271, 70.84785753618317),\n",
       " (84.33993971531513, 69.79833047600286),\n",
       " (37.507986509470996, 50.25154210985973),\n",
       " (45.16618605208742, 31.296684906265305),\n",
       " (23.246607352206052, 64.78886540244805),\n",
       " (16.64313087110818, 20.6213368193101),\n",
       " (31.767407011603925, 74.13942757074722),\n",
       " (84.68043233246397, 70.73857766566478),\n",
       " (60.18010040200843, 52.8461824921696),\n",
       " (33.16280989317896, 7.702860315546709),\n",
       " (15.616110238086486, 17.219237586780523),\n",
       " (33.730953950623174, 41.11148499528221),\n",
       " (85.17006816400553, 71.61050469957908),\n",
       " (38.432982260317786, 7.904018641334327),\n",
       " (40.00956247323899, 88.49451916132895),\n",
       " (60.262479881418166, 15.499979535328167),\n",
       " (56.399925805542885, 67.88878890112),\n",
       " (15.02598054081033, 78.44468681799299),\n",
       " (79.0650997971748, 16.069651345893007),\n",
       " (4.0888361276361795, 15.621071915227992),\n",
       " (89.86524156890798, 36.004354261382026),\n",
       " (47.86469797129953, 75.15055284196664),\n",
       " (31.357875353389947, 14.52204047596016),\n",
       " (40.92056958026125, 88.90690981466014),\n",
       " (89.94239463282985, 50.161633254537165),\n",
       " (39.432871941530685, 7.918872105710172),\n",
       " (39.141414317715885, 5.05787122343373),\n",
       " (60.29262023523015, 14.500433858997122),\n",
       " (15.424014190276464, 77.52731600207792),\n",
       " (23.544230289320495, 83.40656386326074),\n",
       " (85.92800869467476, 72.26282835541937),\n",
       " (80.8614138437439, 60.390939764564926),\n",
       " (78.15378737242531, 46.83147706050628),\n",
       " (14.79740823781432, 76.74797975863802),\n",
       " (5.064709669043787, 43.55388261003911),\n",
       " (22.24809469751906, 64.84338584292628),\n",
       " (3.3868786562059103, 16.333290777870104),\n",
       " (26.472410674809055, 4.026946297154545),\n",
       " (31.54886739648231, 66.09619812869303),\n",
       " (48.08879524342612, 40.01332373023715),\n",
       " (25.339430665794566, 61.75139657498109),\n",
       " (4.014514798789837, 8.020622905941629),\n",
       " (41.84985423719718, 89.27627416917134),\n",
       " (44.71573622756615, 30.40388316142564),\n",
       " (42.789634968771104, 89.61805213300514),\n",
       " (21.564892191942725, 65.57361480453642),\n",
       " (81.16874097130605, 66.60857624421237),\n",
       " (56.101655235322546, 52.44022112622231),\n",
       " (86.36723198373036, 73.16120628388332),\n",
       " (25.109689782228383, 85.6320304963062),\n",
       " (4.071456369151686, 43.437917605604795),\n",
       " (3.5219087906390087, 17.32413227013563),\n",
       " (40.421677328576486, 87.58338725759045),\n",
       " (29.04231793676939, 60.24221629945326),\n",
       " (19.473150729465644, 7.156569962194347),\n",
       " (85.77820109483109, 73.96931680350457),\n",
       " (80.13103984097434, 67.69475967407416),\n",
       " (43.49113163090162, 88.90537939393077),\n",
       " (86.3617358631553, 74.78140496014571),\n",
       " (50.79727809226875, 66.16205858479383),\n",
       " (87.1728492669544, 75.36629387795612),\n",
       " (79.56591387251758, 53.55722256965918),\n",
       " (60.1966789862491, 13.505046860516654),\n",
       " (37.32997963799957, 90.78448310407668),\n",
       " (92.44704492961323, 51.60506292811271),\n",
       " (44.24117155411266, 89.56677195027653),\n",
       " (24.73260434965116, 60.95656211294775),\n",
       " (87.29558638654864, 72.78951003320552),\n",
       " (88.21919286580285, 72.40616805601069),\n",
       " (90.70476833564271, 35.4610359311778),\n",
       " (79.31718239950993, 68.27582427028788),\n",
       " (52.17825865585864, 51.59765238656503),\n",
       " (21.155734233152206, 40.089679572386345),\n",
       " (43.999632465034956, 64.97963269014105),\n",
       " (74.92457227579463, 31.218504437030955),\n",
       " (15.173842227622382, 75.82153631658817),\n",
       " (18.754485650107913, 24.092783993039653),\n",
       " (87.6203745566048, 76.26056515398109),\n",
       " (44.621309822576166, 72.91700422609601),\n",
       " (87.04597815430145, 77.07914243989914),\n",
       " (45.16078982593828, 89.95958518086387),\n",
       " (47.626904017076136, 76.12186846283085),\n",
       " (29.595144994929434, 83.94687019786878),\n",
       " (67.73416850776354, 19.15177433271558),\n",
       " (23.89255503394151, 60.41405206956077),\n",
       " (63.8177378430031, 37.40088052748651),\n",
       " (41.518672940872385, 90.21984130984795),\n",
       " (12.1870282890999, 14.80233809854835),\n",
       " (81.8044828374172, 37.9413508213826),\n",
       " (59.229604800157205, 13.250552226791891),\n",
       " (89.17586218405648, 72.11499145064526),\n",
       " (78.79636141448941, 69.12949018946368),\n",
       " (77.41708616782081, 47.5076954683704),\n",
       " (30.368670915057027, 14.668582549039725),\n",
       " (13.19908904612122, 82.36576531024951),\n",
       " (40.08249419448412, 8.679129251988787),\n",
       " (86.46294487160557, 77.89159070980244),\n",
       " (82.46507171410889, 43.824772814053944),\n",
       " (13.240930423961128, 14.840458669726253),\n",
       " (46.03010741876525, 90.4538390860599),\n",
       " (85.51181086758596, 78.20036911966564),\n",
       " (26.91440687429828, 36.80545150050639),\n",
       " (9.399275484503377, 12.98974969873673),\n",
       " (62.604945197673835, 16.88348868507902),\n",
       " (59.14889820003295, 12.25381432508634),\n",
       " (20.599891111876538, 92.34905763613125),\n",
       " (78.83294735122072, 70.12882069997234),\n",
       " (16.484160464964187, 39.54459124965656),\n",
       " (86.97360218741078, 78.7513750466071),\n",
       " (41.73775570916848, 91.19554758769786),\n",
       " (87.48425950321598, 79.61115938341175),\n",
       " (33.44138558078557, 31.989461456630835),\n",
       " (72.54147709560063, 40.388836602170564),\n",
       " (22.519458043505825, 93.14403525584589),\n",
       " (87.99491681902119, 80.4709437202164),\n",
       " (83.05827019652686, 12.109164406445661),\n",
       " (83.43240595011301, 11.181790459276275),\n",
       " (91.61952975413838, 52.96865309793489),\n",
       " (40.13633096132412, 5.158573121485971),\n",
       " (84.42553921426187, 11.064801914362645),\n",
       " (85.7540473616644, 54.991356447063886),\n",
       " (88.50557413482639, 81.33072805702105),\n",
       " (84.84597602890491, 78.94646828706806),\n",
       " (22.267807225093726, 15.756134389221517),\n",
       " (62.90834957952052, 35.75084723155347),\n",
       " (17.202354083509597, 87.03692175708227),\n",
       " (90.12179356079602, 71.79062463591288),\n",
       " (52.50875999900468, 52.54145790794041),\n",
       " (13.410786412510433, 12.838150975750573),\n",
       " (8.32488894218706, 1.614296419486553),\n",
       " (61.537944848796485, 50.43794826072976),\n",
       " (91.61573705403738, 35.87351137784873),\n",
       " (46.95683302651132, 90.07810028323583),\n",
       " (47.956116079392125, 90.11596029149275),\n",
       " (41.35788044244716, 66.73929632218953),\n",
       " (29.55354594787377, 5.183303087115375),\n",
       " (85.32592389031142, 10.629707171651173),\n",
       " (34.26255594556092, 31.41877832912948),\n",
       " (47.92050859253732, 35.58684697437423),\n",
       " (13.038017872054908, 82.5563714271004),\n",
       " (83.75266565579098, 54.323301143683125),\n",
       " (89.08076969014617, 82.14874399399316),\n",
       " (83.68721921493933, 70.85488632044591),\n",
       " (89.58804537116558, 83.01052783199798),\n",
       " (77.82462165877828, 68.89343543486112),\n",
       " (44.433654347900415, 37.77386377729511),\n",
       " (48.955119824618876, 90.07133387529203),\n",
       " (30.20529057141374, 15.655145706324143),\n",
       " (76.88217910842125, 68.55906731545298),\n",
       " (89.3142062754508, 83.97230335136729),\n",
       " (58.82639162943705, 16.821856701064927),\n",
       " (89.85595811863156, 84.81284183377618),\n",
       " (76.93794902821116, 48.38543552182968),\n",
       " (13.219582181754792, 52.12214048462807),\n",
       " (89.57802321654532, 34.38696803822578),\n",
       " (25.07060101731736, 64.10010568952568),\n",
       " (90.17261029135558, 30.417216735885244),\n",
       " (75.94054036302363, 48.45737962936337),\n",
       " (33.086062347693584, 28.9752099006822),\n",
       " (16.202435033875453, 87.0496455214132),\n",
       " (43.29490094682912, 52.95992294990217),\n",
       " (67.12861579693065, 17.49047467218153),\n",
       " (42.3082125232811, 92.01687518569544),\n",
       " (49.95299275394738, 90.00614478944662),\n",
       " (85.02622961920873, 78.61653775897462),\n",
       " (50.541606691790925, 89.19773051930024),\n",
       " (44.89572726116334, 29.420214910527697),\n",
       " (29.603305424963175, 59.41439201973562),\n",
       " (43.13343070375118, 60.39072471184952),\n",
       " (31.74937716715278, 69.517980461324),\n",
       " (12.051593999155378, 82.72059061895656),\n",
       " (90.39770996181232, 85.65338031618506),\n",
       " (17.225073291229087, 33.52333675353836),\n",
       " (64.23685528092362, 38.30881255866006),\n",
       " (53.137347083424544, 50.559290279437086),\n",
       " (11.051799156891272, 82.70033541266054),\n",
       " (51.372660971894405, 89.7539218384717),\n",
       " (10.696255127790327, 81.76567587926313),\n",
       " (60.16127388258516, 53.84600525754675),\n",
       " (23.178607485576073, 93.89604723249153),\n",
       " (33.508819086832254, 28.06896669959717),\n",
       " (58.9078549108878, 11.283299960041656),\n",
       " (21.047395090828466, 66.42929976428407),\n",
       " (52.09445762523353, 89.06181665049198),\n",
       " (91.38982210442566, 85.77873380229205),\n",
       " (30.79525509965325, 16.462574870659402),\n",
       " (36.38355804370199, 67.85457856821299),\n",
       " (76.0467047983503, 69.10859682076773),\n",
       " (86.26245046130141, 10.279110563239577),\n",
       " (24.096474380963606, 7.811991346860891),\n",
       " (26.81722282814017, 44.15682967563092),\n",
       " (20.61400796644035, 9.88595834849365),\n",
       " (91.88868481913369, 86.64541482312622),\n",
       " (75.13448270346308, 69.51829286614719),\n",
       " (71.59043510364386, 11.986708177780196),\n",
       " (34.50260054624614, 27.95761854772563),\n",
       " (4.396764130272979, 17.808516554267488),\n",
       " (36.37319759857479, 68.85452489736109),\n",
       " (44.64133721689243, 73.91680365772062),\n",
       " (92.64637668695413, 87.29802729116432),\n",
       " (92.25505968485909, 88.21828323592716),\n",
       " (14.210493320308464, 75.55328478765108),\n",
       " (54.33453038728007, 67.83152360064898),\n",
       " (31.57580690792772, 17.08766596370061),\n",
       " (10.359883057410912, 83.4223133287216),\n",
       " (4.694469737092567, 16.41681554925646),\n",
       " (30.088361100069537, 11.440944315165535),\n",
       " (29.319814357352858, 35.065816490232834),\n",
       " (75.03355072398331, 48.87853256438047),\n",
       " (36.59405033069025, 86.34108601322593),\n",
       " (92.02170784216166, 85.00367224702961),\n",
       " (43.71200051024873, 69.12937400671969),\n",
       " (57.12684909185288, 51.47524595188205),\n",
       " (7.5141242019485395, 5.4641376758369224),\n",
       " (60.711666832089804, 31.726728394645654),\n",
       " (25.37220442936338, 65.05353915959174),\n",
       " (53.061550546840245, 89.31624007900868),\n",
       " (37.862744579898475, 41.0013904882611),\n",
       " (90.55517134550169, 70.88941228817035),\n",
       " (61.81561102325185, 49.47727063760985),\n",
       " (43.89783706586953, 29.355290661309912),\n",
       " (60.91627498848431, 17.86002130210227),\n",
       " (63.00854261483363, 35.70448186892654),\n",
       " (13.327389792400044, 75.08410661361087),\n",
       " (83.92486206181677, 47.50514160629224),\n",
       " (72.28163129919828, 13.204274597246457),\n",
       " (40.228249235758824, 9.668449962346662),\n",
       " (82.52178468504437, 10.768548506414765),\n",
       " (40.897472828252425, 90.6863868319122),\n",
       " (43.62431689291035, 72.9944967947486),\n",
       " (70.51350601700734, 35.21597211182758),\n",
       " (13.3614297353276, 17.236379990088157),\n",
       " (1.67578588346593, 6.458640132932548),\n",
       " (82.42436394170987, 13.016225930069703),\n",
       " (58.193533694229146, 52.90389792290416),\n",
       " (93.35270991168645, 51.18106889484535),\n",
       " (82.48613770049087, 42.824994726567645),\n",
       " (46.907519077359225, 53.31531174538823),\n",
       " (53.47254779162479, 90.2278766649241),\n",
       " (87.23615381832865, 10.051290958038692),\n",
       " (92.7854186078594, 89.06605644427593),\n",
       " (54.44816692774928, 90.44734716687756),\n",
       " (43.076506887444445, 28.78483756244181),\n",
       " (93.31577753085969, 89.9138296526247),\n",
       " (58.79679729341933, 10.289485990728371),\n",
       " (55.21637358017885, 91.08754911873568),\n",
       " (75.22103918950255, 70.51453981079722),\n",
       " (25.424723129789335, 81.1481402444172),\n",
       " (3.252590739712824, 43.87027666660788),\n",
       " (60.79649391502153, 12.704908090538769),\n",
       " (56.213323331071166, 91.00950301572115),\n",
       " (48.96955714448572, 91.07122965175829),\n",
       " (12.840379211906466, 45.55895785568466),\n",
       " (37.29085166877834, 5.003776695271179),\n",
       " (15.586486820481149, 12.076795741038893),\n",
       " (90.73850273407028, 69.9063611186143),\n",
       " (44.952022298246995, 28.421800733545144),\n",
       " (2.511585199659816, 5.720298110547062),\n",
       " (44.307429035568575, 31.80906795299856),\n",
       " (83.69980805688496, 18.40405576232097),\n",
       " (71.52558866152069, 10.988812923285032),\n",
       " (93.84613645386, 90.76160286097347),\n",
       " (89.02584352024923, 85.37043465434736),\n",
       " (40.48377691481541, 7.763175007299939),\n",
       " (19.0973240175219, 6.229880001857259),\n",
       " (15.140096626943844, 81.42421518928785),\n",
       " (84.06800951071065, 79.57477402201617),\n",
       " (78.90264630254403, 46.23637791773633),\n",
       " (35.37402181961073, 68.89511754117216),\n",
       " (88.17335680020472, 85.89318353492746),\n",
       " (87.45924770539959, 86.59321796316411),\n",
       " (91.30366172565448, 86.31057772933892),\n",
       " (12.140888924136762, 41.99145934949019),\n",
       " (90.0079363125472, 36.8136405897359),\n",
       " (4.271607119680476, 45.90880331767398),\n",
       " (50.82273957357833, 32.58405756073658),\n",
       " ...]"
      ]
     },
     "execution_count": 39,
     "metadata": {},
     "output_type": "execute_result"
    }
   ],
   "source": [
    "list(map(lambda x: x.position, result.nodes))"
   ]
  },
  {
   "cell_type": "code",
   "execution_count": 44,
   "id": "b4c7cc33",
   "metadata": {},
   "outputs": [
    {
     "data": {
      "application/vnd.plotly.v1+json": {
       "config": {
        "plotlyServerURL": "https://plot.ly"
       },
       "data": [
        {
         "line": {
          "color": "green"
         },
         "marker": {
          "size": 6
         },
         "mode": "lines+markers",
         "name": "Path",
         "type": "scatter",
         "x": [
          1,
          1.9960979474619829,
          1.977113501081825,
          2.846706791827945,
          3.3668879975181545,
          3.511354282053934,
          4.456861859064107,
          5.308892131723407,
          5.679503954122163,
          6.388597921080841,
          6.775030856836073,
          7.637785354104218,
          8.197269605990455,
          8.987917521510722,
          9.621524432698456,
          10.610985542266619,
          11.306739121188956,
          11.953323721244308,
          12.356494870636386,
          13.19601848012355,
          13.296538169813834,
          13.632347931810902,
          13.77793086921018,
          14.623859248671815,
          14.640978844343257,
          14.943453685775864,
          14.650366447410576,
          14.653524699070795,
          15.437898535791426,
          15.199576222662733,
          15.537153513452788,
          16.533447459353663,
          17.103673248146514,
          18.040825015743554,
          18.033893725140828,
          18.775649607134934,
          19.770714501307786,
          19.905492665970915,
          19.841852504886607,
          19.729764393028557,
          19.901323341106046,
          20.060685851619187,
          20.509308953673425,
          21.460264338998012,
          22.358047502693232,
          22.727472201788277,
          23.727468000891445,
          24.638293993939584,
          25.551643394470815,
          26.22141121204977,
          26.820975597610627,
          27.56258293709646,
          27.347720027732876,
          27.996705852345787,
          28.8683852387392,
          29.52650758618076,
          30.28931494265902,
          30.942291518420294,
          31.780937232258243,
          32.40957204517513,
          33.40572021702083,
          34.15122028153654,
          35.007538256094264,
          35.951864064472176,
          36.739534799069304,
          37.66367786386395,
          38.64667479192408,
          39.2640849447441,
          40.2244120763575,
          41.20880378479881,
          42.042116694318466,
          42.744414747776176,
          43.570654101038414,
          44.38185371485667,
          45.03939817415099,
          46.03052157488954,
          46.71680300335781,
          47.71649555634077,
          47.97922012544631,
          48.10726608711998,
          48.66785849728243,
          48.73677502041,
          49.57076057301834,
          50.5266613311615,
          51.456797409036575,
          52.45316282472602,
          52.985149522147466,
          53.633148532388674,
          54.5518912498722,
          55.546693629530544,
          56.49310369544406,
          57.17651990079221,
          57.72072689618662,
          58.715666674180284,
          59.4960508109541,
          60.114564569179365,
          60.93465471816492,
          61.90798374940013,
          62.532680661391346,
          63.41031271137196,
          64.31140528469847,
          65.27624815016544,
          65.97770673122818,
          66.80087325428016,
          67.7985322088089,
          68.67686299807201,
          69.62404927504826,
          70.26046055920114,
          71.1270952539715,
          71.95345942125206,
          72.87705590215768,
          73.78143366199495,
          74.50871405473639,
          75.14485818359087,
          75.5895238205457,
          75.99749123076147,
          76.9611288942168,
          77.27938575927958,
          77.7598301875252,
          77.0194484569716,
          76.52545464559662,
          76.86733997641697,
          77.18576651021408,
          77.65674043881585,
          78.19332623155265,
          78.64787897922879,
          79.23209289090514,
          79.5596242087947,
          80.55308345339122,
          81.44518559292806,
          81.77179311620215,
          81.9578735097119,
          82.61987501082416,
          83.45904407840662,
          83.85053539005324,
          83.46827349413077,
          83.27397890325958,
          83.58658610093083,
          83.04423219202707,
          82.15274723796873,
          81.46142669733639,
          81.0880406483414,
          80.63269386139378,
          80.4841160823901,
          80.88741086600938,
          81.22994637560808,
          81.6346046231126,
          82.17508945276516,
          82.57639046707557,
          82.36937113166235,
          82.78392315742481,
          82.80394314314806,
          82.79417017226528,
          82.62197502098402,
          81.94795230308647,
          82.4196720789688,
          82.89139185485114,
          83.89127665595886,
          84.33993971531513,
          84.68043233246397,
          85.17006816400553,
          85.92800869467476,
          86.36723198373036,
          85.77820109483109,
          86.3617358631553,
          87.1728492669544,
          87.6203745566048,
          87.04597815430145,
          86.46294487160557,
          86.97360218741078,
          87.48425950321598,
          87.99491681902119,
          88.50557413482639,
          89.08076969014617,
          89.58804537116558,
          89.3142062754508,
          89.85595811863156,
          90.39770996181232,
          91.38982210442566,
          91.88868481913369,
          92.64637668695413,
          92.25505968485909,
          92.7854186078594,
          93.31577753085969,
          93.84613645386,
          93.85403244816948,
          94.4334545830408,
          94.90813056406398,
          95.50202329057807,
          96.09591601709215,
          96.68980874360624,
          97.28370147012032,
          97.8775941966344,
          98.47148692314849,
          99
         ],
         "y": [
          1,
          1.0882546262924753,
          2.0880744054505187,
          2.581843084782586,
          3.4358990040564237,
          4.42540872742069,
          4.751008822347505,
          5.274501338504249,
          6.203289192159901,
          6.908403187215173,
          7.830720695540583,
          8.336343754195537,
          9.165184735259636,
          9.777455813854287,
          10.551110958020692,
          10.695909827671459,
          11.414190383872697,
          12.177032670961752,
          13.092157265920203,
          13.635480474621655,
          14.63041554385209,
          15.572345373376281,
          16.561691424229167,
          17.094987942895298,
          18.09484139187872,
          19.047998760994815,
          20.004084463590253,
          21.00407947630104,
          21.624367864285336,
          22.595553981909035,
          23.536851794900677,
          23.622865592405883,
          24.444353601932235,
          24.79327560537963,
          25.7932515836964,
          26.463921555834073,
          26.56314784461266,
          27.55402364224324,
          28.551996552645704,
          29.545694824345972,
          30.530868680746224,
          31.518088813362525,
          32.411809861734575,
          32.721137932109976,
          33.16157565867913,
          34.090836328081714,
          34.09373490980629,
          34.50652542615553,
          34.91370213539764,
          35.65627271826201,
          36.456599243854555,
          37.12743346631249,
          38.104077685145434,
          38.864878184259034,
          39.35495475719107,
          40.10786575843757,
          40.75449156746676,
          41.511869670864975,
          40.96719236579229,
          41.74489299713378,
          41.83257891235664,
          41.16607335813591,
          41.68252231635865,
          41.353510511659486,
          41.96960694393224,
          41.587560355422475,
          41.40393835395107,
          42.19057976094333,
          41.91170380233955,
          41.735712426550855,
          41.182910839335435,
          40.4710278123503,
          39.90770860344579,
          39.32293925871137,
          38.569523514217444,
          38.43657839580968,
          37.70924229678836,
          37.734037447733904,
          36.769166575135756,
          35.777398340264796,
          34.94930646754278,
          33.95168403754233,
          33.399897758227084,
          33.69358762965838,
          33.326372601867895,
          33.411554515546776,
          32.56480180444003,
          31.80316062729267,
          31.408303920282414,
          31.510128403713917,
          31.83309587442509,
          31.10306690906307,
          30.264115929467845,
          30.364589001312577,
          30.98988940837448,
          30.204115439038475,
          30.776349785732947,
          30.54693619207571,
          31.327803509965655,
          31.807138450113797,
          31.373511681687535,
          31.11068427642415,
          31.823394497378953,
          32.39119452848718,
          32.32280878107855,
          32.80086215114556,
          32.48017826207744,
          31.708828356131445,
          32.20777154510216,
          32.770907641472036,
          32.38754157560449,
          32.81427435793051,
          32.12793389552583,
          32.89950414334775,
          33.79520078357342,
          34.708197274367244,
          34.97540964977369,
          35.923414168666085,
          36.80043934012226,
          37.47262599058659,
          38.34209140929122,
          39.28183308686536,
          40.22978062896564,
          41.11192775874469,
          41.955773530810305,
          42.846493351842746,
          43.65809307178098,
          44.602933394693544,
          44.71712065022456,
          45.16895443894979,
          46.11411449192535,
          47.09664901404213,
          47.84615152406135,
          48.390022166781456,
          49.31020397104908,
          50.234257997026866,
          51.21520122268174,
          52.165083710131704,
          53.005233838083136,
          53.45828414068495,
          54.1808323467583,
          55.10850839927659,
          55.998822559343964,
          56.98772328418258,
          57.90279340035155,
          58.84229828307647,
          59.75676627197852,
          60.59812003165125,
          61.514066261466866,
          62.4924031128453,
          63.40242872673551,
          64.40222830673724,
          65.40218055011695,
          66.38724340591612,
          67.12595402297669,
          68.00770254327118,
          68.88945106356567,
          68.90462948620309,
          69.79833047600286,
          70.73857766566478,
          71.61050469957908,
          72.26282835541937,
          73.16120628388332,
          73.96931680350457,
          74.78140496014571,
          75.36629387795612,
          76.26056515398109,
          77.07914243989914,
          77.89159070980244,
          78.7513750466071,
          79.61115938341175,
          80.4709437202164,
          81.33072805702105,
          82.14874399399316,
          83.01052783199798,
          83.97230335136729,
          84.81284183377618,
          85.65338031618506,
          85.77873380229205,
          86.64541482312622,
          87.29802729116432,
          88.21828323592716,
          89.06605644427593,
          89.9138296526247,
          90.76160286097347,
          91.7615716871245,
          92.57659928765172,
          93.45675990540263,
          94.26130414246711,
          95.06584837953159,
          95.87039261659606,
          96.67493685366054,
          97.47948109072503,
          98.28402532778952,
          99
         ]
        },
        {
         "marker": {
          "color": "blue",
          "size": 4
         },
         "mode": "markers",
         "name": "Visited",
         "type": "scatter",
         "x": [
          1,
          1.9960979474619829,
          1.977113501081825,
          2.846706791827945,
          3.3668879975181545,
          3.511354282053934,
          4.456861859064107,
          5.308892131723407,
          5.679503954122163,
          6.388597921080841,
          6.775030856836073,
          7.637785354104218,
          8.197269605990455,
          8.987917521510722,
          9.621524432698456,
          10.610985542266619,
          11.306739121188956,
          11.953323721244308,
          12.356494870636386,
          13.19601848012355,
          13.296538169813834,
          14.169634926346582,
          13.632347931810902,
          13.77793086921018,
          15.089483222261107,
          14.623859248671815,
          14.640978844343257,
          14.943453685775864,
          14.650366447410576,
          14.653524699070795,
          15.437898535791426,
          15.199576222662733,
          15.537153513452788,
          16.533447459353663,
          17.103673248146514,
          18.040825015743554,
          18.033893725140828,
          18.775649607134934,
          19.770714501307786,
          19.905492665970915,
          19.841852504886607,
          16.031286140741347,
          19.729764393028557,
          17.025360636555174,
          19.901323341106046,
          20.060685851619187,
          20.509308953673425,
          18.024764273385514,
          21.460264338998012,
          22.358047502693232,
          22.727472201788277,
          22.415030101822804,
          22.69100934386554,
          3.201919484828862,
          23.727468000891445,
          24.638293993939584,
          25.551643394470815,
          1.496891721669565,
          26.22141121204977,
          26.820975597610627,
          27.56258293709646,
          27.347720027732876,
          27.996705852345787,
          28.8683852387392,
          14.8529776130768,
          22.003997897620888,
          29.52650758618076,
          28.350491625720714,
          30.28931494265902,
          30.942291518420294,
          11.479369083549573,
          31.780937232258243,
          32.40957204517513,
          33.40572021702083,
          34.15122028153654,
          35.007538256094264,
          35.951864064472176,
          36.739534799069304,
          19.01787901534773,
          19.961247836565775,
          21.196035540988017,
          13.678823364690718,
          14.276677880825384,
          20.96440058777117,
          5.784538767670181,
          37.66367786386395,
          38.64667479192408,
          39.2640849447441,
          20.106315777617695,
          28.702048818932663,
          39.219273122419246,
          40.2244120763575,
          39.95023641014364,
          28.811924818070644,
          40.66994060214183,
          41.20880378479881,
          40.99706743818982,
          42.042116694318466,
          41.86968019501856,
          42.744414747776176,
          41.94921949275457,
          43.570654101038414,
          42.50655866976022,
          42.01597190651182,
          41.51575703071138,
          41.14734317268829,
          19.062945131334246,
          44.38185371485667,
          42.89431583243909,
          43.60850274512893,
          14.108588968867904,
          44.57397936410753,
          45.318089201115924,
          45.03939817415099,
          45.36066359901605,
          13.355731201320447,
          45.25241537242342,
          46.03052157488954,
          46.05187544931519,
          12.414056740302673,
          40.346684108904626,
          22.801861283689114,
          46.38860483285893,
          46.71680300335781,
          46.85568517754882,
          47.71649555634077,
          47.97922012544631,
          20.389562055576235,
          48.10726608711998,
          46.999852501823156,
          8.282604705866559,
          48.66785849728243,
          29.681651491325145,
          48.73677502041,
          7.566820860558099,
          49.57076057301834,
          50.5266613311615,
          21.2138612994031,
          46.5987574062393,
          51.456797409036575,
          52.45316282472602,
          45.98112737104145,
          46.21001717437106,
          52.985149522147466,
          46.378891564766576,
          28.405962113191265,
          19.155874703612426,
          53.633148532388674,
          54.5518912498722,
          55.546693629530544,
          22.058989620633042,
          46.750211096508345,
          22.773392562103822,
          23.489073667778314,
          56.49310369544406,
          8.491469170809141,
          2.134530539383339,
          19.85484610628534,
          46.044736301892016,
          57.17651990079221,
          45.08737189540751,
          39.50395960620873,
          46.776757873855544,
          57.72072689618662,
          58.715666674180284,
          44.41420383275632,
          43.56560049366698,
          56.76517145518175,
          52.90963092879714,
          43.356158261578706,
          43.21448093979082,
          42.589848746020834,
          43.27166394632467,
          44.123779586315976,
          18.42951385781017,
          24.180078092912396,
          44.42766543551283,
          41.75342827204258,
          18.047637184847982,
          40.760242155446576,
          48.89813547975046,
          17.187985916161274,
          23.034669625402124,
          16.731272999449104,
          30.549342481735913,
          40.1148678733167,
          44.18200276752019,
          15.791907220648895,
          10.876905886599825,
          59.4960508109541,
          60.114564569179365,
          31.533386138585257,
          52.04405971176913,
          45.05661185511702,
          60.93465471816492,
          45.88440682019633,
          46.745690552368146,
          47.511285677794014,
          48.378347877265455,
          25.116545592385428,
          61.90798374940013,
          15.644189276284049,
          39.306663921788264,
          38.707082261128285,
          37.8198380157739,
          7.162767972265379,
          18.877175528376245,
          15.560055370596737,
          36.84716901192514,
          36.00151720434775,
          62.532680661391346,
          63.41031271137196,
          14.599416101750329,
          35.00626126615093,
          9.949129094880291,
          40.56546670185761,
          22.503391123724192,
          24.02359441957592,
          49.49751374436438,
          64.31140528469847,
          47.7749515545396,
          49.36113324675573,
          63.55954374436695,
          65.27624815016544,
          13.82045314096621,
          65.97770673122818,
          66.80087325428016,
          67.7985322088089,
          34.38158697586264,
          49.31365310711156,
          68.67686299807201,
          33.38210104705414,
          20.17218425322348,
          69.62404927504826,
          70.26046055920114,
          26.35001692030537,
          13.5810120493854,
          25.70685252217946,
          71.1270952539715,
          44.289191958771724,
          32.824732656857954,
          31.986620410134975,
          31.434598792997352,
          31.256926976481488,
          30.591130363208787,
          32.01432236642542,
          71.95345942125206,
          23.75382828107491,
          29.61465010444689,
          28.72734760733158,
          72.87705590215768,
          28.063801898688673,
          50.344081567070994,
          73.78143366199495,
          16.197396484221322,
          4.125011561079455,
          51.23528315462832,
          52.21581147888436,
          19.79414297669945,
          74.50871405473639,
          65.85324582194957,
          75.14485818359087,
          75.5895238205457,
          75.99749123076147,
          20.291095734760685,
          48.77487172972379,
          28.17631748742,
          13.3205048682119,
          65.85908181111556,
          51.26272515950247,
          30.622890280390703,
          76.9611288942168,
          24.783272593990354,
          53.21222069773124,
          54.155451259334605,
          66.04313456379357,
          55.10516575519391,
          66.27979148790297,
          24.37706084869482,
          77.27938575927958,
          49.7730836163255,
          77.68322582667756,
          55.993633918540695,
          77.7598301875252,
          27.972671706598675,
          56.942414565125006,
          6.267362149323483,
          77.0194484569716,
          30.35122848706236,
          66.96774558520623,
          54.13865739670976,
          66.77783057708308,
          71.86221143752933,
          76.52545464559662,
          67.75707100109364,
          78.71970965071505,
          18.49472579482473,
          6.760103544493969,
          9.016540743369593,
          67.73079724400262,
          13.054419188629891,
          67.94080273666495,
          68.9399966896812,
          30.028425693185877,
          17.639047411577902,
          69.72081371503464,
          14.029318528904543,
          28.56803171535454,
          28.7853330320535,
          50.97099008385852,
          67.27639235421424,
          12.933143521671239,
          66.85132571113476,
          70.49097413305907,
          25.200295462895667,
          71.47290946778315,
          28.771938521161296,
          50.61918429413315,
          76.86733997641697,
          51.55297447810315,
          79.71166550492896,
          77.18576651021408,
          37.42843450051868,
          12.395888992323083,
          37.94087781001947,
          72.34169437467989,
          73.34145225088233,
          66.27884163706352,
          74.02437765200207,
          77.65674043881585,
          28.843783770077682,
          78.19332623155265,
          11.61480745648577,
          12.531478760734172,
          80.68830201153877,
          78.64787897922879,
          10.635863684964487,
          63.627775383742524,
          48.17796317103041,
          40.268476649283926,
          16.34953932977451,
          29.693429655817916,
          71.2918419973654,
          29.94349678315063,
          48.70084031540648,
          79.23209289090514,
          65.65638843623594,
          30.10463328671867,
          81.17186633737164,
          26.194058124873116,
          75.02382213569268,
          52.55297352371265,
          79.5596242087947,
          12.553923438519295,
          80.55308345339122,
          7.1558988699298824,
          27.172254507523814,
          30.034247537903486,
          81.44518559292806,
          82.01888558557897,
          14.599889736889015,
          27.862739075205678,
          28.162609269898383,
          82.93442101079293,
          33.96635384121967,
          63.860265735725655,
          65.15503354505873,
          75.92840905740667,
          77.94321407667107,
          20.840729620307766,
          47.85714536210425,
          83.9108870111604,
          30.870430445481684,
          32.081773556046606,
          31.58873982188145,
          82.38284023597625,
          12.242391033621262,
          81.77179311620215,
          37.45983633804065,
          47.87152565595637,
          4.885789556603257,
          27.4511706210518,
          17.126728623500384,
          76.8831742430364,
          29.31303262630281,
          62.947467813543426,
          75.54644547287286,
          28.00271248752349,
          16.592156630166098,
          73.69638739917073,
          71.68800995800062,
          81.9578735097119,
          11.889796464591281,
          84.90711983529422,
          77.8670117112225,
          85.48869728827002,
          82.61987501082416,
          29.15041421582297,
          83.53117480267082,
          73.11446314949448,
          86.3343854515999,
          29.323423643724258,
          28.493698692317015,
          28.701001928807706,
          75.37439833803387,
          74.68328032635353,
          83.45904407840662,
          11.26510412580871,
          83.85053539005324,
          29.59158466739684,
          42.76040435598767,
          28.418080838357575,
          83.46827349413077,
          32.49371456063066,
          83.27397890325958,
          78.84857166376075,
          27.438648528170962,
          37.384987353677296,
          84.83434989719443,
          27.503776879596487,
          68.12632379371058,
          51.144422057140424,
          79.80931908605145,
          32.68740279687324,
          19.004077844425993,
          31.29153197151655,
          85.8050414634804,
          64.5891199949202,
          64.86846905990491,
          73.34495124815275,
          26.52362465247122,
          26.00946744639607,
          83.58658610093083,
          27.895401079818452,
          86.0485259660568,
          20.604787881015596,
          13.49951315098106,
          34.24567136438871,
          73.75319494722125,
          10.310799561485778,
          53.54642719867859,
          25.430430574666776,
          51.38801154814298,
          83.04423219202707,
          84.32832957474847,
          12.825600710956646,
          28.45383773881285,
          30.61908814856679,
          28.66275931887656,
          65.02921575718624,
          84.47100551067093,
          82.15274723796873,
          47.269461390583835,
          84.77717954481533,
          66.18757918141827,
          24.59656813184225,
          28.8309963062751,
          28.80333999676587,
          54.524400504925815,
          78.14115775899583,
          31.54130424122077,
          30.432071554986052,
          28.537948348223654,
          57.28503194366298,
          31.425108745590173,
          47.838024281971514,
          23.669557597383225,
          28.460324114191092,
          80.80401036576562,
          73.83758941669848,
          23.007046170323676,
          46.95174905277814,
          64.27129082455289,
          63.291149644095114,
          29.966894333241253,
          78.46177547665006,
          81.42124137207696,
          22.470914960870076,
          22.26484637570129,
          63.27719266337404,
          27.766571773108474,
          9.721060315615725,
          22.180126854314842,
          73.41486436483635,
          87.29111981040548,
          88.2713801694814,
          62.410917065737664,
          29.447031554694586,
          12.237496930301589,
          44.45558191803281,
          29.988496872457244,
          10.228642144178346,
          70.12083558912008,
          78.60586189582067,
          55.38213847997019,
          52.2891192269772,
          50.52232490959672,
          86.00957728628177,
          56.36346059008487,
          12.69791368745098,
          28.819490878099085,
          17.348082427398413,
          82.28499091557066,
          21.425929595348514,
          30.903987064863056,
          12.242380248613724,
          8.729552645921043,
          60.60430368893163,
          82.90472965493319,
          2.53154809332212,
          86.56809828129751,
          21.601976689242797,
          20.602182877723592,
          12.451893187150862,
          56.64209866675679,
          32.42411066218855,
          32.423831568571664,
          33.4233027192471,
          57.64013161800475,
          87.47317935677823,
          31.18686959117516,
          8.065254856942225,
          65.99237520932121,
          12.420483334656184,
          16.61790313080067,
          30.859574983414383,
          18.736841391849964,
          24.359974197977582,
          19.602339076544965,
          18.583177919417015,
          34.07794051376778,
          45.952173090588666,
          83.37339775419035,
          18.69321078855621,
          73.30792610710533,
          26.815784098081064,
          18.41088355547017,
          52.17253778390697,
          18.212872801395562,
          83.80629749390067,
          34.998742717073945,
          30.25652634837227,
          25.985024060583754,
          18.164674649272254,
          35.841772907328576,
          81.46142669733639,
          1.8414775438381326,
          78.19345447910742,
          6.410538174248831,
          30.500116886129753,
          8.299878403579388,
          56.32455754556199,
          9.47993608219337,
          82.56940246426942,
          5.440534409842831,
          30.61676392659651,
          31.48421808389917,
          81.0880406483414,
          80.10858377451993,
          32.0158626523126,
          83.62809107092512,
          63.2367276820204,
          86.88821315597417,
          26.63538448751571,
          28.453472385521973,
          77.65513185776533,
          39.273554773669495,
          58.23219187969552,
          19.291635212035718,
          80.63269386139378,
          47.28044759941626,
          28.999351387720186,
          58.90791454172258,
          12.766038389945955,
          32.128057154649426,
          87.73341409638695,
          51.81138552247783,
          83.50020311137088,
          80.82714073128967,
          21.013679337230524,
          80.4841160823901,
          31.659358934937845,
          56.10234297855331,
          66.2875162409511,
          31.35654791780834,
          9.49673905595744,
          65.70999562165451,
          46.304633635137506,
          26.098079549482122,
          79.52482399534097,
          61.41469339543162,
          8.506838224806181,
          45.76378264448848,
          7.346618373961686,
          36.740915774135566,
          80.88741086600938,
          2.306507445862749,
          81.22994637560808,
          45.46209926956808,
          25.68336955481517,
          73.16353342202149,
          10.45319443841455,
          77.96200040282714,
          74.11881775087878,
          19.015008544344106,
          33.1278297813295,
          34.02856432935314,
          21.554353320490943,
          34.995962793815316,
          81.6346046231126,
          88.46898324515637,
          40.584051049410654,
          82.17508945276516,
          19.218222798860406,
          78.91778612578194,
          72.36448841906142,
          31.615503586930647,
          88.24412783206598,
          1.4333663236493988,
          6.4337169338957505,
          51.89147920999506,
          1.137194437183664,
          28.136687141911285,
          37.7296845715603,
          13.692332280447083,
          82.57639046707557,
          21.007360687354026,
          82.36937113166235,
          62.485677499858674,
          47.83983889789092,
          43.77453449419054,
          82.78392315742481,
          89.13515806625315,
          73.38841598438897,
          24.867391785585742,
          19.925806943728514,
          11.544519375796733,
          89.80827496623917,
          18.282959770101076,
          53.42050952387994,
          17.436094115704947,
          35.49879043125544,
          78.86790278907918,
          46.13080305627957,
          17.600611375459305,
          16.761530221861637,
          32.54407509152443,
          23.86823374581199,
          67.89160986169632,
          83.91423248689364,
          21.772454265366804,
          90.80053182839579,
          47.37180293039672,
          81.39324625664005,
          41.07373220835927,
          80.53471690390263,
          35.59667839482772,
          28.17182674707141,
          15.89533342801434,
          36.47291421699301,
          89.15998817342735,
          37.1526916673333,
          77.12158917504662,
          59.86014193626343,
          82.80394314314806,
          60.26075050391753,
          72.70364213899805,
          27.594096811485436,
          22.00229716439167,
          78.01163626465467,
          77.6061109732999,
          4.629601774564691,
          14.901813191337318,
          62.34963137356535,
          21.45253911433208,
          5.529810536926507,
          62.470658753898945,
          38.33875099205702,
          7.51853883357534,
          71.90377423774447,
          37.030635421762454,
          47.711630755435095,
          82.79417017226528,
          11.396535759158528,
          66.99237142401515,
          13.966023739100619,
          38.27385218036456,
          47.374676760311345,
          12.396367074697013,
          82.62197502098402,
          51.25640611159737,
          73.53055920220976,
          7.577708472410432,
          38.03063538902259,
          16.02894283415588,
          81.94795230308647,
          60.67632214819777,
          59.82074253762533,
          82.4196720789688,
          22.064820860305833,
          19.945981683570146,
          72.45037665080238,
          89.35738486623748,
          80.94798360100535,
          39.028654313686125,
          82.89139185485114,
          52.28315216034532,
          88.9437271483554,
          4.7081525133964,
          15.928440972009575,
          83.42408480365214,
          83.89127665595886,
          19.677870677966624,
          31.774869948686323,
          27.811712480376965,
          45.29998694058955,
          61.18164266957341,
          36.58622222155142,
          38.20507901347944,
          28.619309360689915,
          91.51753810614832,
          22.587566226618367,
          48.42200958058732,
          15.61022205577923,
          46.157669547271,
          84.33993971531513,
          37.507986509470996,
          45.16618605208742,
          23.246607352206052,
          16.64313087110818,
          31.767407011603925,
          84.68043233246397,
          60.18010040200843,
          33.16280989317896,
          15.616110238086486,
          33.730953950623174,
          85.17006816400553,
          38.432982260317786,
          40.00956247323899,
          60.262479881418166,
          56.399925805542885,
          15.02598054081033,
          79.0650997971748,
          4.0888361276361795,
          89.86524156890798,
          47.86469797129953,
          31.357875353389947,
          40.92056958026125,
          89.94239463282985,
          39.432871941530685,
          39.141414317715885,
          60.29262023523015,
          15.424014190276464,
          23.544230289320495,
          85.92800869467476,
          80.8614138437439,
          78.15378737242531,
          14.79740823781432,
          5.064709669043787,
          22.24809469751906,
          3.3868786562059103,
          26.472410674809055,
          31.54886739648231,
          48.08879524342612,
          25.339430665794566,
          4.014514798789837,
          41.84985423719718,
          44.71573622756615,
          42.789634968771104,
          21.564892191942725,
          81.16874097130605,
          56.101655235322546,
          86.36723198373036,
          25.109689782228383,
          4.071456369151686,
          3.5219087906390087,
          40.421677328576486,
          29.04231793676939,
          19.473150729465644,
          85.77820109483109,
          80.13103984097434,
          43.49113163090162,
          86.3617358631553,
          50.79727809226875,
          87.1728492669544,
          79.56591387251758,
          60.1966789862491,
          37.32997963799957,
          92.44704492961323,
          44.24117155411266,
          24.73260434965116,
          87.29558638654864,
          88.21919286580285,
          90.70476833564271,
          79.31718239950993,
          52.17825865585864,
          21.155734233152206,
          43.999632465034956,
          74.92457227579463,
          15.173842227622382,
          18.754485650107913,
          87.6203745566048,
          44.621309822576166,
          87.04597815430145,
          45.16078982593828,
          47.626904017076136,
          29.595144994929434,
          67.73416850776354,
          23.89255503394151,
          63.8177378430031,
          41.518672940872385,
          12.1870282890999,
          81.8044828374172,
          59.229604800157205,
          89.17586218405648,
          78.79636141448941,
          77.41708616782081,
          30.368670915057027,
          13.19908904612122,
          40.08249419448412,
          86.46294487160557,
          82.46507171410889,
          13.240930423961128,
          46.03010741876525,
          85.51181086758596,
          26.91440687429828,
          9.399275484503377,
          62.604945197673835,
          59.14889820003295,
          20.599891111876538,
          78.83294735122072,
          16.484160464964187,
          86.97360218741078,
          41.73775570916848,
          87.48425950321598,
          33.44138558078557,
          72.54147709560063,
          22.519458043505825,
          87.99491681902119,
          83.05827019652686,
          83.43240595011301,
          91.61952975413838,
          40.13633096132412,
          84.42553921426187,
          85.7540473616644,
          88.50557413482639,
          84.84597602890491,
          22.267807225093726,
          62.90834957952052,
          17.202354083509597,
          90.12179356079602,
          52.50875999900468,
          13.410786412510433,
          8.32488894218706,
          61.537944848796485,
          91.61573705403738,
          46.95683302651132,
          47.956116079392125,
          41.35788044244716,
          29.55354594787377,
          85.32592389031142,
          34.26255594556092,
          47.92050859253732,
          13.038017872054908,
          83.75266565579098,
          89.08076969014617,
          83.68721921493933,
          89.58804537116558,
          77.82462165877828,
          44.433654347900415,
          48.955119824618876,
          30.20529057141374,
          76.88217910842125,
          89.3142062754508,
          58.82639162943705,
          89.85595811863156,
          76.93794902821116,
          13.219582181754792,
          89.57802321654532,
          25.07060101731736,
          90.17261029135558,
          75.94054036302363,
          33.086062347693584,
          16.202435033875453,
          43.29490094682912,
          67.12861579693065,
          42.3082125232811,
          49.95299275394738,
          85.02622961920873,
          50.541606691790925,
          44.89572726116334,
          29.603305424963175,
          43.13343070375118,
          31.74937716715278,
          12.051593999155378,
          90.39770996181232,
          17.225073291229087,
          64.23685528092362,
          53.137347083424544,
          11.051799156891272,
          51.372660971894405,
          10.696255127790327,
          60.16127388258516,
          23.178607485576073,
          33.508819086832254,
          58.9078549108878,
          21.047395090828466,
          52.09445762523353,
          91.38982210442566,
          30.79525509965325,
          36.38355804370199,
          76.0467047983503,
          86.26245046130141,
          24.096474380963606,
          26.81722282814017,
          20.61400796644035,
          91.88868481913369,
          75.13448270346308,
          71.59043510364386,
          34.50260054624614,
          4.396764130272979,
          36.37319759857479,
          44.64133721689243,
          92.64637668695413,
          92.25505968485909,
          14.210493320308464,
          54.33453038728007,
          31.57580690792772,
          10.359883057410912,
          4.694469737092567,
          30.088361100069537,
          29.319814357352858,
          75.03355072398331,
          36.59405033069025,
          92.02170784216166,
          43.71200051024873,
          57.12684909185288,
          7.5141242019485395,
          60.711666832089804,
          25.37220442936338,
          53.061550546840245,
          37.862744579898475,
          90.55517134550169,
          61.81561102325185,
          43.89783706586953,
          60.91627498848431,
          63.00854261483363,
          13.327389792400044,
          83.92486206181677,
          72.28163129919828,
          40.228249235758824,
          82.52178468504437,
          40.897472828252425,
          43.62431689291035,
          70.51350601700734,
          13.3614297353276,
          1.67578588346593,
          82.42436394170987,
          58.193533694229146,
          93.35270991168645,
          82.48613770049087,
          46.907519077359225,
          53.47254779162479,
          87.23615381832865,
          92.7854186078594,
          54.44816692774928,
          43.076506887444445,
          93.31577753085969,
          58.79679729341933,
          55.21637358017885,
          75.22103918950255,
          25.424723129789335,
          3.252590739712824,
          60.79649391502153,
          56.213323331071166,
          48.96955714448572,
          12.840379211906466,
          37.29085166877834,
          15.586486820481149,
          90.73850273407028,
          44.952022298246995,
          2.511585199659816,
          44.307429035568575,
          83.69980805688496,
          71.52558866152069,
          93.84613645386,
          89.02584352024923,
          40.48377691481541,
          19.0973240175219,
          15.140096626943844,
          84.06800951071065,
          78.90264630254403,
          35.37402181961073,
          88.17335680020472,
          87.45924770539959,
          91.30366172565448,
          12.140888924136762,
          90.0079363125472,
          4.271607119680476,
          50.82273957357833,
          93.85403244816948,
          92.85371054331199,
          71.81616045029661,
          94.4334545830408,
          46.22375746524221,
          56.95402864666367,
          32.64175468652628,
          59.35848172938755,
          42.447644867106696,
          75.46083046981462,
          45.58871838183509,
          87.95588942223083,
          59.85453228000184,
          24.564268625105033,
          4.01569051779992,
          32.04301041908783,
          53.22527042546546,
          22.224739126895575,
          18.162281002224734,
          58.976122087133945,
          19.993705247448542,
          87.53507785747377,
          93.27910330557785,
          32.61087377493608,
          2.5813089082153504,
          87.18323807359269,
          39.738116954692316,
          12.327502370637172,
          53.064694353398025,
          8.46892454611774,
          57.95379346410536,
          10.257512061898868,
          63.435207787554006,
          32.7506913045178,
          66.49218062701772,
          12.089015801426106,
          25.222471888914217,
          90.439752289661,
          25.830213900822706,
          18.517710091962556,
          94.90813056406398,
          94.84250087767256,
          67.71128648462793,
          88.3771012791021,
          4.065607537881688,
          81.76071187215395,
          50.0317341648931,
          5.268676395900654,
          71.6070177205555,
          93.93517176244748,
          55.15855724519943,
          16.057678254606284,
          45.261421067547325,
          13.916587537739556,
          23.041914678722563,
          42.574460675728176,
          17.911373827006326,
          84.08235192119363,
          17.628795092793858,
          60.763043139386966,
          31.762650860625776,
          62.135268457070495,
          77.26610865680811,
          89.42924578298918,
          95.50202329057807,
          9.748690181313142,
          8.869096850298323,
          45.657320524503056,
          91.03127891631473,
          92.38438270373409,
          96.09591601709215,
          96.68980874360624,
          50.215570438141306,
          76.1233169593074,
          1.477630268490294,
          53.687803620829975,
          13.904891389101744,
          9.108046437081198,
          92.02548214952584,
          31.88298842043306,
          13.528354638203776,
          31.426762645064535,
          27.47337772103456,
          89.7375718695784,
          23.86720150156676,
          13.457049049774527,
          49.045021943506406,
          55.525980229261414,
          20.058230494308187,
          34.793306710333226,
          51.44392680134812,
          90.02538868633356,
          29.764938268800986,
          21.3802120334609,
          29.728423172019134,
          1.6791027777127483,
          20.64779105335923,
          93.78940091371906,
          18.66059531033618,
          74.48860174218218,
          89.31997437601191,
          22.979809981236432,
          19.286767786805182,
          97.28370147012032,
          63.76350999592753,
          11.294245909386927,
          97.8775941966344,
          30.777899205527117,
          27.040750512687858,
          81.32456386375137,
          7.679069545607686,
          42.395171040851,
          8.092816289693541,
          79.89058029584828,
          57.98455922533357,
          31.061592691222728,
          74.30931852413924,
          81.16310148060936,
          15.84280617386434,
          18.02624973236843,
          61.80594078919612,
          89.77115601400361,
          83.03578798255091,
          43.753522935023796,
          74.28069238638687,
          47.79363878587466,
          94.17721821756983,
          61.952004880033726,
          32.22661071726116,
          17.95669653884523,
          48.14923221547849,
          58.85491161808686,
          86.53135126424088,
          43.0127101521468,
          87.23914026705,
          16.608567765000792,
          37.89917386906425,
          72.18227363833086,
          82.94056944716753,
          73.6758523144213,
          91.27483533723958,
          79.26707535688956,
          59.284932312489595,
          90.27107166165766,
          11.797870308249758,
          51.01944565049769,
          42.86475663488907,
          35.21000142062167,
          91.18547520958737,
          58.61065265115003,
          79.6911263766038,
          33.73337182638109,
          38.489909531705734,
          20.26734184305009,
          9.465040563164436,
          93.1833551191336,
          56.57182779783704,
          50.15062334476638,
          75.4839911795772,
          45.12321993626511,
          86.28651446398915,
          71.43666687945938,
          57.09242698845023,
          74.67445531043944,
          9.822277752051823,
          98.47148692314849,
          99
         ],
         "y": [
          1,
          1.0882546262924753,
          2.0880744054505187,
          2.581843084782586,
          3.4358990040564237,
          4.42540872742069,
          4.751008822347505,
          5.274501338504249,
          6.203289192159901,
          6.908403187215173,
          7.830720695540583,
          8.336343754195537,
          9.165184735259636,
          9.777455813854287,
          10.551110958020692,
          10.695909827671459,
          11.414190383872697,
          12.177032670961752,
          13.092157265920203,
          13.635480474621655,
          14.63041554385209,
          13.407289730628749,
          15.572345373376281,
          16.561691424229167,
          13.015015448393546,
          17.094987942895298,
          18.09484139187872,
          19.047998760994815,
          20.004084463590253,
          21.00407947630104,
          21.624367864285336,
          22.595553981909035,
          23.536851794900677,
          23.622865592405883,
          24.444353601932235,
          24.79327560537963,
          25.7932515836964,
          26.463921555834073,
          26.56314784461266,
          27.55402364224324,
          28.551996552645704,
          12.678849919610329,
          29.545694824345972,
          12.570148968499097,
          30.530868680746224,
          31.518088813362525,
          32.411809861734575,
          12.535618247535163,
          32.721137932109976,
          33.16157565867913,
          34.090836328081714,
          35.04077313343729,
          36.00193672927388,
          5.376329389866448,
          34.09373490980629,
          34.50652542615553,
          34.91370213539764,
          2.9652215097483796,
          35.65627271826201,
          36.456599243854555,
          37.12743346631249,
          38.104077685145434,
          38.864878184259034,
          39.35495475719107,
          24.26616882976597,
          36.72858332338193,
          40.10786575843757,
          36.51164137608202,
          40.75449156746676,
          41.511869670864975,
          12.431181349645893,
          40.96719236579229,
          41.74489299713378,
          41.83257891235664,
          41.16607335813591,
          41.68252231635865,
          41.353510511659486,
          41.96960694393224,
          12.418472571996872,
          12.086726785055008,
          37.317817428186004,
          21.22759079314584,
          21.977326700991284,
          38.29062020801768,
          7.968290391694152,
          41.587560355422475,
          41.40393835395107,
          42.19057976094333,
          38.804128200734326,
          40.67378778584749,
          43.18957520666865,
          41.91170380233955,
          43.871991994269266,
          35.62446641645018,
          44.56627282795275,
          41.735712426550855,
          45.511253268563685,
          41.182910839335435,
          45.999665979925446,
          40.4710278123503,
          46.996497711019344,
          39.90770860344579,
          47.82678262704195,
          48.69817497709184,
          49.56407628672703,
          50.49373817645713,
          31.585271066117908,
          39.32293925871137,
          49.1762042102844,
          49.87615924722789,
          24.93391544815714,
          50.136648974867306,
          50.80470627066411,
          38.569523514217444,
          51.80379956993273,
          25.592098691519855,
          52.79792346635588,
          38.43657839580968,
          53.39864268983405,
          25.255573492661156,
          45.80336301074027,
          32.26545662205613,
          54.340244156622546,
          37.70924229678836,
          55.224459035260296,
          37.734037447733904,
          36.769166575135756,
          11.183096921784951,
          35.777398340264796,
          53.08030402124616,
          10.486352020705546,
          34.94930646754278,
          35.13093271564581,
          33.95168403754233,
          11.184673928421061,
          33.399897758227084,
          33.69358762965838,
          10.616942564187607,
          56.19088964338999,
          33.326372601867895,
          33.411554515546776,
          50.05612068088709,
          57.11223704373745,
          32.56480180444003,
          58.097874624326046,
          41.62894885220395,
          39.115032952778606,
          31.80316062729267,
          31.408303920282414,
          31.510128403713917,
          10.082379078102875,
          59.02637976989449,
          31.49236131059959,
          31.8536311009495,
          31.83309587442509,
          7.815552105744725,
          0.1473471361154055,
          28.954316113154178,
          59.735114779726125,
          31.10306690906307,
          60.02399778925865,
          46.34170807903379,
          49.450338456823204,
          30.264115929467845,
          30.364589001312577,
          60.763487315503916,
          61.292516967684605,
          32.795373970461426,
          31.112854697075374,
          62.270337989864984,
          63.26025088325056,
          64.04116997157284,
          64.77269442956084,
          65.2960479774443,
          39.80234650690469,
          31.130780573907348,
          66.24875642742148,
          64.58925827714958,
          40.72655979757267,
          64.47271928023883,
          37.16362135280246,
          41.23744109126557,
          9.863179332907302,
          42.12705522767993,
          34.633828757544514,
          65.23658578425989,
          67.21811180784434,
          42.46997203044567,
          13.229328013061265,
          30.98988940837448,
          30.204115439038475,
          34.4559015774551,
          30.613643734134854,
          67.70294058575777,
          30.776349785732947,
          68.26397132982564,
          68.77209565781654,
          69.4154183637147,
          69.91361826560926,
          33.628302556615004,
          30.54693619207571,
          43.459001559283216,
          65.82548846954315,
          66.62580205320909,
          66.16450209755602,
          12.09940955332167,
          41.28500955951763,
          44.45545601680438,
          66.39669815469709,
          66.93043312670201,
          31.327803509965655,
          31.807138450113797,
          44.73325485616524,
          66.83314172171697,
          12.856192347724102,
          66.12931233574,
          32.55821943908679,
          10.011596823346634,
          37.964087277066824,
          31.373511681687535,
          49.39026037560862,
          69.72886730481103,
          32.795940805891355,
          31.11068427642415,
          45.360324793035474,
          31.823394497378953,
          32.39119452848718,
          32.32280878107855,
          67.61402713652046,
          38.94703959842783,
          32.80086215114556,
          67.64608767478501,
          10.766786471175415,
          32.48017826207744,
          31.708828356131445,
          38.17181622240083,
          46.331235686816456,
          36.51372788016784,
          32.20777154510216,
          53.06662526276442,
          68.47635298034108,
          67.93085516926118,
          68.76468496856843,
          67.24708072334865,
          69.3018637171708,
          33.57914599877261,
          32.770907641472036,
          10.97452269303664,
          69.51747054509677,
          69.97865844456177,
          32.38754157560449,
          70.72679418929103,
          69.91274933109257,
          32.81427435793051,
          45.22603781316592,
          2.7837880760900884,
          69.45914186826232,
          69.6555195791453,
          9.840997730023265,
          32.12793389552583,
          30.293938485644855,
          32.89950414334775,
          33.79520078357342,
          34.708197274367244,
          13.030760875571024,
          49.402895376978485,
          71.72044414893097,
          44.4942695265715,
          29.29395551517463,
          30.07493193785399,
          66.47377776330627,
          34.97540964977369,
          9.361297606586874,
          69.74018756953696,
          69.40804888215261,
          28.311039148319523,
          69.72116607483724,
          27.33944586907605,
          8.447518630037317,
          35.923414168666085,
          49.46267019983108,
          34.283617759006844,
          69.26222781894742,
          36.80043934012226,
          42.53020321338886,
          69.57816338938395,
          4.989308026237449,
          37.47262599058659,
          65.5113849796438,
          26.61369166825896,
          68.40818990900783,
          25.631891133685066,
          33.76673584225093,
          38.34209140929122,
          25.429188908774655,
          37.080852278743805,
          32.408148204952546,
          13.014757224213733,
          13.217134125060223,
          24.429534123517104,
          47.181353301621215,
          23.451833917394772,
          23.491976715700073,
          64.56491873287874,
          39.18984116212725,
          22.86721694353304,
          45.36641413561489,
          72.64053108158116,
          73.61663565474989,
          68.49469945279986,
          22.704465973412887,
          21.893895206844597,
          29.16964926885261,
          22.2293667020904,
          7.87981732654966,
          22.04014989940023,
          74.61654594426489,
          49.99569331660317,
          39.28183308686536,
          49.63787228267523,
          36.954267985520865,
          40.22978062896564,
          65.24428294526356,
          44.113368644379875,
          41.560288820830216,
          21.544960253356976,
          21.522955958976418,
          22.634519088477937,
          20.79246783689267,
          41.11192775874469,
          75.61396173530098,
          41.955773530810305,
          43.488939597670786,
          48.033722534332156,
          36.73937002378789,
          42.846493351842746,
          43.284809511207065,
          33.793610311984494,
          38.11490270166985,
          50.970805922211476,
          21.21337995358006,
          76.14131538214974,
          34.588124119332534,
          77.10954388401672,
          39.737267718860544,
          43.65809307178098,
          21.851862067312535,
          78.09647601299919,
          35.86406119669782,
          7.768301535472827,
          20.759140310425714,
          49.63925386875194,
          44.602933394693544,
          49.03347062082151,
          44.71712065022456,
          4.530502516098322,
          7.560619478065143,
          79.0939958606031,
          45.16895443894979,
          35.332498977229314,
          44.99738399388723,
          37.52137973377858,
          7.422064634620347,
          34.930261627921354,
          66.70431210207585,
          34.766209014551364,
          20.986620324738425,
          20.332851088108264,
          33.31800597890818,
          13.866166520667116,
          33.476024848385954,
          34.71459023406864,
          79.64244653757785,
          32.581423423595176,
          80.33817036193359,
          44.821386071041886,
          49.98370614988704,
          46.11411449192535,
          66.42204044010201,
          70.77566886504488,
          7.529827330984837,
          43.3834538317733,
          45.595282684359816,
          20.03549029662854,
          79.78670723721304,
          32.644915817557376,
          38.545907600313264,
          6.4349308954612825,
          41.49577294873793,
          19.847786729826566,
          23.016741819860464,
          47.09664901404213,
          50.91948233567644,
          34.62787137730526,
          19.856426519741245,
          33.81438034097469,
          47.84615152406135,
          64.08627915488816,
          33.78948557040946,
          19.034543735612203,
          34.348057706434126,
          80.78665324913415,
          81.34482571801115,
          8.264758733823935,
          21.695674520346543,
          39.05082930695128,
          48.390022166781456,
          51.70035331212925,
          49.31020397104908,
          8.719580001716148,
          49.43593065256188,
          82.34196258933954,
          50.234257997026866,
          31.670212905250327,
          51.21520122268174,
          20.04758106343064,
          5.609199795308484,
          64.24522721837374,
          49.489393857869004,
          82.74699131794259,
          33.635671461384185,
          67.50985360159088,
          19.77015649609426,
          30.68914977418218,
          29.20185013133445,
          70.0156126836008,
          49.729722555991515,
          20.162155738616253,
          19.201966121982036,
          18.06146859135206,
          82.54874497709015,
          83.40644094154433,
          52.165083710131704,
          83.66711657343801,
          32.98577195848782,
          39.255138910065234,
          49.35883210546048,
          40.17054385433,
          17.148595608856205,
          51.401517573783885,
          49.52501816637888,
          84.22174229759494,
          66.96892535453397,
          53.005233838083136,
          52.83576740536288,
          16.86676071091794,
          63.368796603409606,
          75.76295529598593,
          84.3083352046003,
          18.21497042831709,
          53.82553686200854,
          53.45828414068495,
          71.57411649661594,
          54.77751241884587,
          29.256788332135375,
          84.77371460346428,
          5.874622127375106,
          85.29840443096994,
          49.3162881678931,
          18.89473844947612,
          76.14963019619285,
          9.261411886889586,
          86.26254512240664,
          33.64962514694061,
          9.37921315206564,
          72.39675629539599,
          84.39867931312217,
          62.368817640163655,
          19.873060616811394,
          39.58450232044065,
          85.14773111975208,
          33.05145739431221,
          17.56262864942144,
          35.588466197096565,
          10.146629460353754,
          17.94752977176767,
          19.08627863630607,
          85.99186578095835,
          86.97040333169748,
          17.671112961378586,
          61.648603998774945,
          43.68870899799574,
          87.96680817045332,
          16.207568288836697,
          34.63902053340843,
          34.836731505345554,
          17.171546560446995,
          86.6791597209417,
          51.93370333627855,
          66.42830864693569,
          87.51988280832552,
          13.119337385769903,
          31.64268162507571,
          16.95796466334347,
          49.830375287131446,
          50.603816417316956,
          49.36350883160221,
          31.986530746195317,
          49.63800346954876,
          12.71036923358868,
          79.82161807890914,
          21.15941994813472,
          18.582357287170677,
          88.62345609329148,
          87.92222309664969,
          16.05444679850199,
          43.81875722342239,
          30.704149997386708,
          17.79754909727117,
          6.11835512894112,
          50.376053966943225,
          85.49694530239498,
          85.51725132238671,
          42.941867866069806,
          50.598399649376944,
          9.423880485014491,
          29.724509837412196,
          9.46407044783004,
          50.661091181686125,
          50.80129301360599,
          74.95366113888471,
          4.11448365969298,
          18.483901404151137,
          14.677179146475483,
          12.222917500605835,
          69.11488256055213,
          42.27511376116785,
          11.769876153720768,
          85.49957723840275,
          43.25696421533857,
          8.708127752921824,
          33.08057604491609,
          16.914174763968077,
          85.916093451747,
          31.805249003887248,
          61.95844718010378,
          84.95677529104223,
          48.892521377140994,
          33.36760580698351,
          16.012732688536307,
          8.318097879211475,
          11.103767535978765,
          62.51507790158569,
          86.76500425358122,
          7.780231633459581,
          54.1808323467583,
          3.0028667879522852,
          41.737541914883316,
          13.951669200829135,
          12.0736456983863,
          44.72174119087038,
          68.31857027879894,
          7.6641151053170775,
          33.515635302770555,
          14.194759095802556,
          88.88008679720646,
          89.37760391749312,
          55.10850839927659,
          20.382904980969883,
          90.22457148055354,
          15.028739563148603,
          36.5869842239964,
          31.509038328988645,
          5.0135766921717755,
          38.94090205869257,
          42.96671461795659,
          50.87015572884919,
          51.46698487599491,
          43.962717900795035,
          55.998822559343964,
          37.34995259158116,
          75.71611574631515,
          52.20414081880691,
          12.176041384542858,
          89.5028428100719,
          30.97458966884872,
          31.14446955404484,
          14.036950941616245,
          37.729685029176544,
          89.53452674076162,
          56.98772328418258,
          35.44793527374728,
          51.440221362717715,
          23.63448146339381,
          12.589907151506667,
          51.98229764690877,
          21.475965783415162,
          71.83699936467774,
          81.88745826263299,
          57.270139097700344,
          17.08472260798023,
          51.8405360707111,
          32.098481833641955,
          44.41959004337421,
          7.342576398062913,
          57.90279340035155,
          3.168319946044329,
          58.84229828307647,
          72.37564195752991,
          63.46849520746466,
          15.239667076323872,
          7.434401866591818,
          34.12705720397108,
          20.01318491990991,
          10.467854600702937,
          89.52416638719265,
          89.95853636082879,
          90.37575895830045,
          89.70527718339149,
          59.75676627197852,
          30.29714001951776,
          49.20086289984756,
          60.59812003165125,
          9.023491798082802,
          33.09393161381517,
          22.548638351425765,
          13.555796359143557,
          51.43819053161928,
          0.4891192787256027,
          44.01140998417785,
          47.932830761353486,
          2.1852500803977826,
          9.090318435656606,
          7.193123177156665,
          20.233921121912392,
          61.514066261466866,
          84.66263890796678,
          62.4924031128453,
          16.174345037438712,
          73.39675464897917,
          68.13133117154057,
          63.40242872673551,
          51.892134494861835,
          14.265281201455485,
          64.04657848876882,
          44.73591012445081,
          47.87275305746181,
          51.152598397735254,
          83.96499128979154,
          32.58040657999622,
          39.850895550291355,
          88.84089048345541,
          45.325097834074725,
          54.69520601147118,
          83.23396415737456,
          82.68995789116322,
          8.488460242495233,
          64.0055515274449,
          26.996411929841024,
          49.18100955735556,
          14.22933202810086,
          51.27680113322485,
          74.2804640656608,
          62.70961321473451,
          65.1374903751013,
          53.805054541727245,
          9.119641967374527,
          60.73440029823644,
          82.19025486502804,
          89.066905637948,
          35.295398939684645,
          89.80032408468142,
          39.213128427066444,
          51.89875092197674,
          64.40222830673724,
          50.98250162428417,
          13.536525562939708,
          39.33747730906766,
          91.26982065231907,
          45.84163209155428,
          16.980282658748134,
          14.779898618515602,
          82.07659951181829,
          37.048568603634,
          91.82657186224972,
          44.43914030285784,
          16.35582194697044,
          6.400003958234749,
          3.277165566138386,
          12.936349471659668,
          88.2368772903896,
          70.25256584985468,
          65.40218055011695,
          7.10257788828855,
          18.48114993221827,
          81.72404015357837,
          50.89454271183982,
          32.1452939685436,
          49.63628410835413,
          66.38724340591612,
          68.01976099051531,
          40.536202087904634,
          2.2789176240718247,
          88.23713318044598,
          81.1992207956891,
          67.12595402297669,
          16.41032813791221,
          16.927999394572947,
          68.00770254327118,
          92.61721151692645,
          29.650440307474046,
          19.34188946072003,
          29.838072965961903,
          67.11804233174225,
          88.3000476145088,
          68.88945106356567,
          47.012726256439,
          28.92764049046655,
          45.009121085313346,
          80.20428392547817,
          13.039852148501925,
          68.90462948620309,
          8.135390549782162,
          36.37195859141207,
          59.80149209539807,
          56.69769515972141,
          51.37231904210131,
          87.34105537311018,
          5.408978326808823,
          62.676910455676605,
          51.97386784284701,
          14.808635481072296,
          33.365898572748605,
          79.25626666753759,
          70.84785753618317,
          69.79833047600286,
          50.25154210985973,
          31.296684906265305,
          64.78886540244805,
          20.6213368193101,
          74.13942757074722,
          70.73857766566478,
          52.8461824921696,
          7.702860315546709,
          17.219237586780523,
          41.11148499528221,
          71.61050469957908,
          7.904018641334327,
          88.49451916132895,
          15.499979535328167,
          67.88878890112,
          78.44468681799299,
          16.069651345893007,
          15.621071915227992,
          36.004354261382026,
          75.15055284196664,
          14.52204047596016,
          88.90690981466014,
          50.161633254537165,
          7.918872105710172,
          5.05787122343373,
          14.500433858997122,
          77.52731600207792,
          83.40656386326074,
          72.26282835541937,
          60.390939764564926,
          46.83147706050628,
          76.74797975863802,
          43.55388261003911,
          64.84338584292628,
          16.333290777870104,
          4.026946297154545,
          66.09619812869303,
          40.01332373023715,
          61.75139657498109,
          8.020622905941629,
          89.27627416917134,
          30.40388316142564,
          89.61805213300514,
          65.57361480453642,
          66.60857624421237,
          52.44022112622231,
          73.16120628388332,
          85.6320304963062,
          43.437917605604795,
          17.32413227013563,
          87.58338725759045,
          60.24221629945326,
          7.156569962194347,
          73.96931680350457,
          67.69475967407416,
          88.90537939393077,
          74.78140496014571,
          66.16205858479383,
          75.36629387795612,
          53.55722256965918,
          13.505046860516654,
          90.78448310407668,
          51.60506292811271,
          89.56677195027653,
          60.95656211294775,
          72.78951003320552,
          72.40616805601069,
          35.4610359311778,
          68.27582427028788,
          51.59765238656503,
          40.089679572386345,
          64.97963269014105,
          31.218504437030955,
          75.82153631658817,
          24.092783993039653,
          76.26056515398109,
          72.91700422609601,
          77.07914243989914,
          89.95958518086387,
          76.12186846283085,
          83.94687019786878,
          19.15177433271558,
          60.41405206956077,
          37.40088052748651,
          90.21984130984795,
          14.80233809854835,
          37.9413508213826,
          13.250552226791891,
          72.11499145064526,
          69.12949018946368,
          47.5076954683704,
          14.668582549039725,
          82.36576531024951,
          8.679129251988787,
          77.89159070980244,
          43.824772814053944,
          14.840458669726253,
          90.4538390860599,
          78.20036911966564,
          36.80545150050639,
          12.98974969873673,
          16.88348868507902,
          12.25381432508634,
          92.34905763613125,
          70.12882069997234,
          39.54459124965656,
          78.7513750466071,
          91.19554758769786,
          79.61115938341175,
          31.989461456630835,
          40.388836602170564,
          93.14403525584589,
          80.4709437202164,
          12.109164406445661,
          11.181790459276275,
          52.96865309793489,
          5.158573121485971,
          11.064801914362645,
          54.991356447063886,
          81.33072805702105,
          78.94646828706806,
          15.756134389221517,
          35.75084723155347,
          87.03692175708227,
          71.79062463591288,
          52.54145790794041,
          12.838150975750573,
          1.614296419486553,
          50.43794826072976,
          35.87351137784873,
          90.07810028323583,
          90.11596029149275,
          66.73929632218953,
          5.183303087115375,
          10.629707171651173,
          31.41877832912948,
          35.58684697437423,
          82.5563714271004,
          54.323301143683125,
          82.14874399399316,
          70.85488632044591,
          83.01052783199798,
          68.89343543486112,
          37.77386377729511,
          90.07133387529203,
          15.655145706324143,
          68.55906731545298,
          83.97230335136729,
          16.821856701064927,
          84.81284183377618,
          48.38543552182968,
          52.12214048462807,
          34.38696803822578,
          64.10010568952568,
          30.417216735885244,
          48.45737962936337,
          28.9752099006822,
          87.0496455214132,
          52.95992294990217,
          17.49047467218153,
          92.01687518569544,
          90.00614478944662,
          78.61653775897462,
          89.19773051930024,
          29.420214910527697,
          59.41439201973562,
          60.39072471184952,
          69.517980461324,
          82.72059061895656,
          85.65338031618506,
          33.52333675353836,
          38.30881255866006,
          50.559290279437086,
          82.70033541266054,
          89.7539218384717,
          81.76567587926313,
          53.84600525754675,
          93.89604723249153,
          28.06896669959717,
          11.283299960041656,
          66.42929976428407,
          89.06181665049198,
          85.77873380229205,
          16.462574870659402,
          67.85457856821299,
          69.10859682076773,
          10.279110563239577,
          7.811991346860891,
          44.15682967563092,
          9.88595834849365,
          86.64541482312622,
          69.51829286614719,
          11.986708177780196,
          27.95761854772563,
          17.808516554267488,
          68.85452489736109,
          73.91680365772062,
          87.29802729116432,
          88.21828323592716,
          75.55328478765108,
          67.83152360064898,
          17.08766596370061,
          83.4223133287216,
          16.41681554925646,
          11.440944315165535,
          35.065816490232834,
          48.87853256438047,
          86.34108601322593,
          85.00367224702961,
          69.12937400671969,
          51.47524595188205,
          5.4641376758369224,
          31.726728394645654,
          65.05353915959174,
          89.31624007900868,
          41.0013904882611,
          70.88941228817035,
          49.47727063760985,
          29.355290661309912,
          17.86002130210227,
          35.70448186892654,
          75.08410661361087,
          47.50514160629224,
          13.204274597246457,
          9.668449962346662,
          10.768548506414765,
          90.6863868319122,
          72.9944967947486,
          35.21597211182758,
          17.236379990088157,
          6.458640132932548,
          13.016225930069703,
          52.90389792290416,
          51.18106889484535,
          42.824994726567645,
          53.31531174538823,
          90.2278766649241,
          10.051290958038692,
          89.06605644427593,
          90.44734716687756,
          28.78483756244181,
          89.9138296526247,
          10.289485990728371,
          91.08754911873568,
          70.51453981079722,
          81.1481402444172,
          43.87027666660788,
          12.704908090538769,
          91.00950301572115,
          91.07122965175829,
          45.55895785568466,
          5.003776695271179,
          12.076795741038893,
          69.9063611186143,
          28.421800733545144,
          5.720298110547062,
          31.80906795299856,
          18.40405576232097,
          10.988812923285032,
          90.76160286097347,
          85.37043465434736,
          7.763175007299939,
          6.229880001857259,
          81.42421518928785,
          79.57477402201617,
          46.23637791773633,
          68.89511754117216,
          85.89318353492746,
          86.59321796316411,
          86.31057772933892,
          41.99145934949019,
          36.8136405897359,
          45.90880331767398,
          32.58405756073658,
          91.7615716871245,
          84.44890066765792,
          18.568733712493312,
          92.57659928765172,
          38.13162532590341,
          91.681333080137,
          27.57077062803292,
          9.462134436435358,
          48.12278319322818,
          71.48536427581975,
          34.01218791403588,
          28.772152140919022,
          8.593840792997115,
          80.6386129680438,
          3.4545228829611974,
          91.2242029120117,
          53.23903428997537,
          16.755206528217293,
          87.51885707777808,
          13.749038154353121,
          5.786596017671953,
          11.005567866918483,
          83.54389182913101,
          6.868973919579618,
          15.740789823337181,
          77.07914043327946,
          66.51642567387655,
          75.09911140619174,
          89.78817458049927,
          51.82631507147517,
          91.70301970748643,
          84.41705961762037,
          32.52004620991501,
          74.32150447567716,
          16.71914447408353,
          45.46110727870577,
          11.26381515628175,
          49.294087658506946,
          11.225871313458613,
          7.451753275082618,
          93.45675990540263,
          90.67640934619294,
          19.025917637806124,
          11.545008834429577,
          13.954119894529354,
          10.119882048611478,
          65.51867495486665,
          45.98530729415737,
          40.03276683879507,
          89.74401159502469,
          52.24446498947361,
          88.03911278962151,
          27.470868348169905,
          43.73604769965319,
          59.88830404429297,
          90.75392622190957,
          45.67734820512661,
          47.80089267504499,
          26.707524572508063,
          50.63445392760786,
          27.094140306623245,
          51.67331382182441,
          68.85850793050534,
          37.62918781154458,
          94.26130414246711,
          81.44611262698325,
          80.97038626442358,
          26.55257448453901,
          72.20636059550384,
          53.61285800748988,
          95.06584837953159,
          95.87039261659606,
          64.53571807654583,
          72.2344381381588,
          7.438810705972581,
          91.17753470805913,
          26.427815801645053,
          14.212938678182148,
          72.09884347559924,
          92.21131636037848,
          11.664770960914383,
          29.648001264191034,
          58.86046627714401,
          28.319519977256892,
          10.027737467576891,
          49.7070231329014,
          40.67617080591399,
          30.510342949204155,
          66.28248899836115,
          39.33382674092056,
          69.81280170170109,
          27.361834496531134,
          70.50611277950469,
          64.34661659928562,
          86.28823830314144,
          8.418304875443543,
          89.5158072582847,
          84.80172290438269,
          6.083974900888789,
          71.71939696833557,
          11.211856732344504,
          63.54652732924028,
          65.64621445782684,
          96.67493685366054,
          30.53696475978619,
          80.96417290040061,
          97.47948109072503,
          26.92017428183549,
          45.1315272565455,
          9.220007104651785,
          5.662281514189493,
          92.87030267955862,
          80.33999869218954,
          44.118460367857935,
          13.619411416763038,
          16.310030809836164,
          14.655074110936269,
          8.233128237297688,
          75.07824146349931,
          5.310925298526326,
          48.647233381321584,
          38.56892042986091,
          51.86063683462808,
          59.74123232926052,
          69.54486762392253,
          77.10787024623374,
          83.104130979512,
          47.95025608328331,
          73.9067638492441,
          45.266189913325604,
          89.13478438576378,
          91.26944610062715,
          86.96605599030859,
          73.78565872169693,
          79.9388595420575,
          17.341826563736593,
          91.60668619779665,
          41.32209587819489,
          17.375226342574944,
          68.74852065975132,
          49.4419378120188,
          52.60291887503297,
          7.771918730384092,
          10.902965241303901,
          15.35441241237886,
          47.44338467534366,
          93.75318963147937,
          27.25080598209544,
          11.307769084583029,
          7.033442638486863,
          46.53437233254556,
          74.5068123059232,
          88.96541301693111,
          4.8247628650162575,
          6.664226049714978,
          54.21422568157179,
          90.07597500472795,
          46.948260649402954,
          73.00337412208226,
          65.26259671598007,
          48.8532616328574,
          23.98463988105772,
          92.67170972515177,
          73.59044454083914,
          85.31737683701138,
          98.28402532778952,
          99
         ]
        },
        {
         "hoverinfo": "skip",
         "line": {
          "color": "lightblue",
          "width": 1
         },
         "mode": "lines",
         "showlegend": false,
         "type": "scatter",
         "x": [
          1,
          1.9960979474619829
         ],
         "y": [
          1,
          1.0882546262924753
         ]
        },
        {
         "hoverinfo": "skip",
         "line": {
          "color": "lightblue",
          "width": 1
         },
         "mode": "lines",
         "showlegend": false,
         "type": "scatter",
         "x": [
          1.9960979474619829,
          1.977113501081825
         ],
         "y": [
          1.0882546262924753,
          2.0880744054505187
         ]
        },
        {
         "hoverinfo": "skip",
         "line": {
          "color": "lightblue",
          "width": 1
         },
         "mode": "lines",
         "showlegend": false,
         "type": "scatter",
         "x": [
          1.977113501081825,
          2.846706791827945
         ],
         "y": [
          2.0880744054505187,
          2.581843084782586
         ]
        },
        {
         "hoverinfo": "skip",
         "line": {
          "color": "lightblue",
          "width": 1
         },
         "mode": "lines",
         "showlegend": false,
         "type": "scatter",
         "x": [
          2.846706791827945,
          3.3668879975181545
         ],
         "y": [
          2.581843084782586,
          3.4358990040564237
         ]
        },
        {
         "hoverinfo": "skip",
         "line": {
          "color": "lightblue",
          "width": 1
         },
         "mode": "lines",
         "showlegend": false,
         "type": "scatter",
         "x": [
          3.3668879975181545,
          3.511354282053934
         ],
         "y": [
          3.4358990040564237,
          4.42540872742069
         ]
        },
        {
         "hoverinfo": "skip",
         "line": {
          "color": "lightblue",
          "width": 1
         },
         "mode": "lines",
         "showlegend": false,
         "type": "scatter",
         "x": [
          3.511354282053934,
          4.456861859064107
         ],
         "y": [
          4.42540872742069,
          4.751008822347505
         ]
        },
        {
         "hoverinfo": "skip",
         "line": {
          "color": "lightblue",
          "width": 1
         },
         "mode": "lines",
         "showlegend": false,
         "type": "scatter",
         "x": [
          4.456861859064107,
          5.308892131723407
         ],
         "y": [
          4.751008822347505,
          5.274501338504249
         ]
        },
        {
         "hoverinfo": "skip",
         "line": {
          "color": "lightblue",
          "width": 1
         },
         "mode": "lines",
         "showlegend": false,
         "type": "scatter",
         "x": [
          5.308892131723407,
          5.679503954122163
         ],
         "y": [
          5.274501338504249,
          6.203289192159901
         ]
        },
        {
         "hoverinfo": "skip",
         "line": {
          "color": "lightblue",
          "width": 1
         },
         "mode": "lines",
         "showlegend": false,
         "type": "scatter",
         "x": [
          5.679503954122163,
          6.388597921080841
         ],
         "y": [
          6.203289192159901,
          6.908403187215173
         ]
        },
        {
         "hoverinfo": "skip",
         "line": {
          "color": "lightblue",
          "width": 1
         },
         "mode": "lines",
         "showlegend": false,
         "type": "scatter",
         "x": [
          6.388597921080841,
          6.775030856836073
         ],
         "y": [
          6.908403187215173,
          7.830720695540583
         ]
        },
        {
         "hoverinfo": "skip",
         "line": {
          "color": "lightblue",
          "width": 1
         },
         "mode": "lines",
         "showlegend": false,
         "type": "scatter",
         "x": [
          6.775030856836073,
          7.637785354104218
         ],
         "y": [
          7.830720695540583,
          8.336343754195537
         ]
        },
        {
         "hoverinfo": "skip",
         "line": {
          "color": "lightblue",
          "width": 1
         },
         "mode": "lines",
         "showlegend": false,
         "type": "scatter",
         "x": [
          7.637785354104218,
          8.197269605990455
         ],
         "y": [
          8.336343754195537,
          9.165184735259636
         ]
        },
        {
         "hoverinfo": "skip",
         "line": {
          "color": "lightblue",
          "width": 1
         },
         "mode": "lines",
         "showlegend": false,
         "type": "scatter",
         "x": [
          8.197269605990455,
          8.987917521510722
         ],
         "y": [
          9.165184735259636,
          9.777455813854287
         ]
        },
        {
         "hoverinfo": "skip",
         "line": {
          "color": "lightblue",
          "width": 1
         },
         "mode": "lines",
         "showlegend": false,
         "type": "scatter",
         "x": [
          8.987917521510722,
          9.621524432698456
         ],
         "y": [
          9.777455813854287,
          10.551110958020692
         ]
        },
        {
         "hoverinfo": "skip",
         "line": {
          "color": "lightblue",
          "width": 1
         },
         "mode": "lines",
         "showlegend": false,
         "type": "scatter",
         "x": [
          9.621524432698456,
          10.610985542266619
         ],
         "y": [
          10.551110958020692,
          10.695909827671459
         ]
        },
        {
         "hoverinfo": "skip",
         "line": {
          "color": "lightblue",
          "width": 1
         },
         "mode": "lines",
         "showlegend": false,
         "type": "scatter",
         "x": [
          10.610985542266619,
          11.306739121188956
         ],
         "y": [
          10.695909827671459,
          11.414190383872697
         ]
        },
        {
         "hoverinfo": "skip",
         "line": {
          "color": "lightblue",
          "width": 1
         },
         "mode": "lines",
         "showlegend": false,
         "type": "scatter",
         "x": [
          11.306739121188956,
          11.953323721244308
         ],
         "y": [
          11.414190383872697,
          12.177032670961752
         ]
        },
        {
         "hoverinfo": "skip",
         "line": {
          "color": "lightblue",
          "width": 1
         },
         "mode": "lines",
         "showlegend": false,
         "type": "scatter",
         "x": [
          11.953323721244308,
          12.356494870636386
         ],
         "y": [
          12.177032670961752,
          13.092157265920203
         ]
        },
        {
         "hoverinfo": "skip",
         "line": {
          "color": "lightblue",
          "width": 1
         },
         "mode": "lines",
         "showlegend": false,
         "type": "scatter",
         "x": [
          12.356494870636386,
          13.19601848012355
         ],
         "y": [
          13.092157265920203,
          13.635480474621655
         ]
        },
        {
         "hoverinfo": "skip",
         "line": {
          "color": "lightblue",
          "width": 1
         },
         "mode": "lines",
         "showlegend": false,
         "type": "scatter",
         "x": [
          13.19601848012355,
          13.296538169813834
         ],
         "y": [
          13.635480474621655,
          14.63041554385209
         ]
        },
        {
         "hoverinfo": "skip",
         "line": {
          "color": "lightblue",
          "width": 1
         },
         "mode": "lines",
         "showlegend": false,
         "type": "scatter",
         "x": [
          13.19601848012355,
          14.169634926346582
         ],
         "y": [
          13.635480474621655,
          13.407289730628749
         ]
        },
        {
         "hoverinfo": "skip",
         "line": {
          "color": "lightblue",
          "width": 1
         },
         "mode": "lines",
         "showlegend": false,
         "type": "scatter",
         "x": [
          13.296538169813834,
          13.632347931810902
         ],
         "y": [
          14.63041554385209,
          15.572345373376281
         ]
        },
        {
         "hoverinfo": "skip",
         "line": {
          "color": "lightblue",
          "width": 1
         },
         "mode": "lines",
         "showlegend": false,
         "type": "scatter",
         "x": [
          13.632347931810902,
          13.77793086921018
         ],
         "y": [
          15.572345373376281,
          16.561691424229167
         ]
        },
        {
         "hoverinfo": "skip",
         "line": {
          "color": "lightblue",
          "width": 1
         },
         "mode": "lines",
         "showlegend": false,
         "type": "scatter",
         "x": [
          14.169634926346582,
          15.089483222261107
         ],
         "y": [
          13.407289730628749,
          13.015015448393546
         ]
        },
        {
         "hoverinfo": "skip",
         "line": {
          "color": "lightblue",
          "width": 1
         },
         "mode": "lines",
         "showlegend": false,
         "type": "scatter",
         "x": [
          13.77793086921018,
          14.623859248671815
         ],
         "y": [
          16.561691424229167,
          17.094987942895298
         ]
        },
        {
         "hoverinfo": "skip",
         "line": {
          "color": "lightblue",
          "width": 1
         },
         "mode": "lines",
         "showlegend": false,
         "type": "scatter",
         "x": [
          14.623859248671815,
          14.640978844343257
         ],
         "y": [
          17.094987942895298,
          18.09484139187872
         ]
        },
        {
         "hoverinfo": "skip",
         "line": {
          "color": "lightblue",
          "width": 1
         },
         "mode": "lines",
         "showlegend": false,
         "type": "scatter",
         "x": [
          14.640978844343257,
          14.943453685775864
         ],
         "y": [
          18.09484139187872,
          19.047998760994815
         ]
        },
        {
         "hoverinfo": "skip",
         "line": {
          "color": "lightblue",
          "width": 1
         },
         "mode": "lines",
         "showlegend": false,
         "type": "scatter",
         "x": [
          14.943453685775864,
          14.650366447410576
         ],
         "y": [
          19.047998760994815,
          20.004084463590253
         ]
        },
        {
         "hoverinfo": "skip",
         "line": {
          "color": "lightblue",
          "width": 1
         },
         "mode": "lines",
         "showlegend": false,
         "type": "scatter",
         "x": [
          14.650366447410576,
          14.653524699070795
         ],
         "y": [
          20.004084463590253,
          21.00407947630104
         ]
        },
        {
         "hoverinfo": "skip",
         "line": {
          "color": "lightblue",
          "width": 1
         },
         "mode": "lines",
         "showlegend": false,
         "type": "scatter",
         "x": [
          14.653524699070795,
          15.437898535791426
         ],
         "y": [
          21.00407947630104,
          21.624367864285336
         ]
        },
        {
         "hoverinfo": "skip",
         "line": {
          "color": "lightblue",
          "width": 1
         },
         "mode": "lines",
         "showlegend": false,
         "type": "scatter",
         "x": [
          15.437898535791426,
          15.199576222662733
         ],
         "y": [
          21.624367864285336,
          22.595553981909035
         ]
        },
        {
         "hoverinfo": "skip",
         "line": {
          "color": "lightblue",
          "width": 1
         },
         "mode": "lines",
         "showlegend": false,
         "type": "scatter",
         "x": [
          15.199576222662733,
          15.537153513452788
         ],
         "y": [
          22.595553981909035,
          23.536851794900677
         ]
        },
        {
         "hoverinfo": "skip",
         "line": {
          "color": "lightblue",
          "width": 1
         },
         "mode": "lines",
         "showlegend": false,
         "type": "scatter",
         "x": [
          15.537153513452788,
          16.533447459353663
         ],
         "y": [
          23.536851794900677,
          23.622865592405883
         ]
        },
        {
         "hoverinfo": "skip",
         "line": {
          "color": "lightblue",
          "width": 1
         },
         "mode": "lines",
         "showlegend": false,
         "type": "scatter",
         "x": [
          16.533447459353663,
          17.103673248146514
         ],
         "y": [
          23.622865592405883,
          24.444353601932235
         ]
        },
        {
         "hoverinfo": "skip",
         "line": {
          "color": "lightblue",
          "width": 1
         },
         "mode": "lines",
         "showlegend": false,
         "type": "scatter",
         "x": [
          17.103673248146514,
          18.040825015743554
         ],
         "y": [
          24.444353601932235,
          24.79327560537963
         ]
        },
        {
         "hoverinfo": "skip",
         "line": {
          "color": "lightblue",
          "width": 1
         },
         "mode": "lines",
         "showlegend": false,
         "type": "scatter",
         "x": [
          18.040825015743554,
          18.033893725140828
         ],
         "y": [
          24.79327560537963,
          25.7932515836964
         ]
        },
        {
         "hoverinfo": "skip",
         "line": {
          "color": "lightblue",
          "width": 1
         },
         "mode": "lines",
         "showlegend": false,
         "type": "scatter",
         "x": [
          18.033893725140828,
          18.775649607134934
         ],
         "y": [
          25.7932515836964,
          26.463921555834073
         ]
        },
        {
         "hoverinfo": "skip",
         "line": {
          "color": "lightblue",
          "width": 1
         },
         "mode": "lines",
         "showlegend": false,
         "type": "scatter",
         "x": [
          18.775649607134934,
          19.770714501307786
         ],
         "y": [
          26.463921555834073,
          26.56314784461266
         ]
        },
        {
         "hoverinfo": "skip",
         "line": {
          "color": "lightblue",
          "width": 1
         },
         "mode": "lines",
         "showlegend": false,
         "type": "scatter",
         "x": [
          19.770714501307786,
          19.905492665970915
         ],
         "y": [
          26.56314784461266,
          27.55402364224324
         ]
        },
        {
         "hoverinfo": "skip",
         "line": {
          "color": "lightblue",
          "width": 1
         },
         "mode": "lines",
         "showlegend": false,
         "type": "scatter",
         "x": [
          19.905492665970915,
          19.841852504886607
         ],
         "y": [
          27.55402364224324,
          28.551996552645704
         ]
        },
        {
         "hoverinfo": "skip",
         "line": {
          "color": "lightblue",
          "width": 1
         },
         "mode": "lines",
         "showlegend": false,
         "type": "scatter",
         "x": [
          15.089483222261107,
          16.031286140741347
         ],
         "y": [
          13.015015448393546,
          12.678849919610329
         ]
        },
        {
         "hoverinfo": "skip",
         "line": {
          "color": "lightblue",
          "width": 1
         },
         "mode": "lines",
         "showlegend": false,
         "type": "scatter",
         "x": [
          19.841852504886607,
          19.729764393028557
         ],
         "y": [
          28.551996552645704,
          29.545694824345972
         ]
        },
        {
         "hoverinfo": "skip",
         "line": {
          "color": "lightblue",
          "width": 1
         },
         "mode": "lines",
         "showlegend": false,
         "type": "scatter",
         "x": [
          16.031286140741347,
          17.025360636555174
         ],
         "y": [
          12.678849919610329,
          12.570148968499097
         ]
        },
        {
         "hoverinfo": "skip",
         "line": {
          "color": "lightblue",
          "width": 1
         },
         "mode": "lines",
         "showlegend": false,
         "type": "scatter",
         "x": [
          19.729764393028557,
          19.901323341106046
         ],
         "y": [
          29.545694824345972,
          30.530868680746224
         ]
        },
        {
         "hoverinfo": "skip",
         "line": {
          "color": "lightblue",
          "width": 1
         },
         "mode": "lines",
         "showlegend": false,
         "type": "scatter",
         "x": [
          19.901323341106046,
          20.060685851619187
         ],
         "y": [
          30.530868680746224,
          31.518088813362525
         ]
        },
        {
         "hoverinfo": "skip",
         "line": {
          "color": "lightblue",
          "width": 1
         },
         "mode": "lines",
         "showlegend": false,
         "type": "scatter",
         "x": [
          20.060685851619187,
          20.509308953673425
         ],
         "y": [
          31.518088813362525,
          32.411809861734575
         ]
        },
        {
         "hoverinfo": "skip",
         "line": {
          "color": "lightblue",
          "width": 1
         },
         "mode": "lines",
         "showlegend": false,
         "type": "scatter",
         "x": [
          17.025360636555174,
          18.024764273385514
         ],
         "y": [
          12.570148968499097,
          12.535618247535163
         ]
        },
        {
         "hoverinfo": "skip",
         "line": {
          "color": "lightblue",
          "width": 1
         },
         "mode": "lines",
         "showlegend": false,
         "type": "scatter",
         "x": [
          20.509308953673425,
          21.460264338998012
         ],
         "y": [
          32.411809861734575,
          32.721137932109976
         ]
        },
        {
         "hoverinfo": "skip",
         "line": {
          "color": "lightblue",
          "width": 1
         },
         "mode": "lines",
         "showlegend": false,
         "type": "scatter",
         "x": [
          21.460264338998012,
          22.358047502693232
         ],
         "y": [
          32.721137932109976,
          33.16157565867913
         ]
        },
        {
         "hoverinfo": "skip",
         "line": {
          "color": "lightblue",
          "width": 1
         },
         "mode": "lines",
         "showlegend": false,
         "type": "scatter",
         "x": [
          22.358047502693232,
          22.727472201788277
         ],
         "y": [
          33.16157565867913,
          34.090836328081714
         ]
        },
        {
         "hoverinfo": "skip",
         "line": {
          "color": "lightblue",
          "width": 1
         },
         "mode": "lines",
         "showlegend": false,
         "type": "scatter",
         "x": [
          22.727472201788277,
          22.415030101822804
         ],
         "y": [
          34.090836328081714,
          35.04077313343729
         ]
        },
        {
         "hoverinfo": "skip",
         "line": {
          "color": "lightblue",
          "width": 1
         },
         "mode": "lines",
         "showlegend": false,
         "type": "scatter",
         "x": [
          22.415030101822804,
          22.69100934386554
         ],
         "y": [
          35.04077313343729,
          36.00193672927388
         ]
        },
        {
         "hoverinfo": "skip",
         "line": {
          "color": "lightblue",
          "width": 1
         },
         "mode": "lines",
         "showlegend": false,
         "type": "scatter",
         "x": [
          3.511354282053934,
          3.201919484828862
         ],
         "y": [
          4.42540872742069,
          5.376329389866448
         ]
        },
        {
         "hoverinfo": "skip",
         "line": {
          "color": "lightblue",
          "width": 1
         },
         "mode": "lines",
         "showlegend": false,
         "type": "scatter",
         "x": [
          22.727472201788277,
          23.727468000891445
         ],
         "y": [
          34.090836328081714,
          34.09373490980629
         ]
        },
        {
         "hoverinfo": "skip",
         "line": {
          "color": "lightblue",
          "width": 1
         },
         "mode": "lines",
         "showlegend": false,
         "type": "scatter",
         "x": [
          23.727468000891445,
          24.638293993939584
         ],
         "y": [
          34.09373490980629,
          34.50652542615553
         ]
        },
        {
         "hoverinfo": "skip",
         "line": {
          "color": "lightblue",
          "width": 1
         },
         "mode": "lines",
         "showlegend": false,
         "type": "scatter",
         "x": [
          24.638293993939584,
          25.551643394470815
         ],
         "y": [
          34.50652542615553,
          34.91370213539764
         ]
        },
        {
         "hoverinfo": "skip",
         "line": {
          "color": "lightblue",
          "width": 1
         },
         "mode": "lines",
         "showlegend": false,
         "type": "scatter",
         "x": [
          1.977113501081825,
          1.496891721669565
         ],
         "y": [
          2.0880744054505187,
          2.9652215097483796
         ]
        },
        {
         "hoverinfo": "skip",
         "line": {
          "color": "lightblue",
          "width": 1
         },
         "mode": "lines",
         "showlegend": false,
         "type": "scatter",
         "x": [
          25.551643394470815,
          26.22141121204977
         ],
         "y": [
          34.91370213539764,
          35.65627271826201
         ]
        },
        {
         "hoverinfo": "skip",
         "line": {
          "color": "lightblue",
          "width": 1
         },
         "mode": "lines",
         "showlegend": false,
         "type": "scatter",
         "x": [
          26.22141121204977,
          26.820975597610627
         ],
         "y": [
          35.65627271826201,
          36.456599243854555
         ]
        },
        {
         "hoverinfo": "skip",
         "line": {
          "color": "lightblue",
          "width": 1
         },
         "mode": "lines",
         "showlegend": false,
         "type": "scatter",
         "x": [
          26.820975597610627,
          27.56258293709646
         ],
         "y": [
          36.456599243854555,
          37.12743346631249
         ]
        },
        {
         "hoverinfo": "skip",
         "line": {
          "color": "lightblue",
          "width": 1
         },
         "mode": "lines",
         "showlegend": false,
         "type": "scatter",
         "x": [
          27.56258293709646,
          27.347720027732876
         ],
         "y": [
          37.12743346631249,
          38.104077685145434
         ]
        },
        {
         "hoverinfo": "skip",
         "line": {
          "color": "lightblue",
          "width": 1
         },
         "mode": "lines",
         "showlegend": false,
         "type": "scatter",
         "x": [
          27.347720027732876,
          27.996705852345787
         ],
         "y": [
          38.104077685145434,
          38.864878184259034
         ]
        },
        {
         "hoverinfo": "skip",
         "line": {
          "color": "lightblue",
          "width": 1
         },
         "mode": "lines",
         "showlegend": false,
         "type": "scatter",
         "x": [
          27.996705852345787,
          28.8683852387392
         ],
         "y": [
          38.864878184259034,
          39.35495475719107
         ]
        },
        {
         "hoverinfo": "skip",
         "line": {
          "color": "lightblue",
          "width": 1
         },
         "mode": "lines",
         "showlegend": false,
         "type": "scatter",
         "x": [
          15.537153513452788,
          14.8529776130768
         ],
         "y": [
          23.536851794900677,
          24.26616882976597
         ]
        },
        {
         "hoverinfo": "skip",
         "line": {
          "color": "lightblue",
          "width": 1
         },
         "mode": "lines",
         "showlegend": false,
         "type": "scatter",
         "x": [
          22.69100934386554,
          22.003997897620888
         ],
         "y": [
          36.00193672927388,
          36.72858332338193
         ]
        },
        {
         "hoverinfo": "skip",
         "line": {
          "color": "lightblue",
          "width": 1
         },
         "mode": "lines",
         "showlegend": false,
         "type": "scatter",
         "x": [
          28.8683852387392,
          29.52650758618076
         ],
         "y": [
          39.35495475719107,
          40.10786575843757
         ]
        },
        {
         "hoverinfo": "skip",
         "line": {
          "color": "lightblue",
          "width": 1
         },
         "mode": "lines",
         "showlegend": false,
         "type": "scatter",
         "x": [
          27.56258293709646,
          28.350491625720714
         ],
         "y": [
          37.12743346631249,
          36.51164137608202
         ]
        },
        {
         "hoverinfo": "skip",
         "line": {
          "color": "lightblue",
          "width": 1
         },
         "mode": "lines",
         "showlegend": false,
         "type": "scatter",
         "x": [
          29.52650758618076,
          30.28931494265902
         ],
         "y": [
          40.10786575843757,
          40.75449156746676
         ]
        },
        {
         "hoverinfo": "skip",
         "line": {
          "color": "lightblue",
          "width": 1
         },
         "mode": "lines",
         "showlegend": false,
         "type": "scatter",
         "x": [
          30.28931494265902,
          30.942291518420294
         ],
         "y": [
          40.75449156746676,
          41.511869670864975
         ]
        },
        {
         "hoverinfo": "skip",
         "line": {
          "color": "lightblue",
          "width": 1
         },
         "mode": "lines",
         "showlegend": false,
         "type": "scatter",
         "x": [
          11.953323721244308,
          11.479369083549573
         ],
         "y": [
          12.177032670961752,
          12.431181349645893
         ]
        },
        {
         "hoverinfo": "skip",
         "line": {
          "color": "lightblue",
          "width": 1
         },
         "mode": "lines",
         "showlegend": false,
         "type": "scatter",
         "x": [
          30.942291518420294,
          31.780937232258243
         ],
         "y": [
          41.511869670864975,
          40.96719236579229
         ]
        },
        {
         "hoverinfo": "skip",
         "line": {
          "color": "lightblue",
          "width": 1
         },
         "mode": "lines",
         "showlegend": false,
         "type": "scatter",
         "x": [
          31.780937232258243,
          32.40957204517513
         ],
         "y": [
          40.96719236579229,
          41.74489299713378
         ]
        },
        {
         "hoverinfo": "skip",
         "line": {
          "color": "lightblue",
          "width": 1
         },
         "mode": "lines",
         "showlegend": false,
         "type": "scatter",
         "x": [
          32.40957204517513,
          33.40572021702083
         ],
         "y": [
          41.74489299713378,
          41.83257891235664
         ]
        },
        {
         "hoverinfo": "skip",
         "line": {
          "color": "lightblue",
          "width": 1
         },
         "mode": "lines",
         "showlegend": false,
         "type": "scatter",
         "x": [
          33.40572021702083,
          34.15122028153654
         ],
         "y": [
          41.83257891235664,
          41.16607335813591
         ]
        },
        {
         "hoverinfo": "skip",
         "line": {
          "color": "lightblue",
          "width": 1
         },
         "mode": "lines",
         "showlegend": false,
         "type": "scatter",
         "x": [
          34.15122028153654,
          35.007538256094264
         ],
         "y": [
          41.16607335813591,
          41.68252231635865
         ]
        },
        {
         "hoverinfo": "skip",
         "line": {
          "color": "lightblue",
          "width": 1
         },
         "mode": "lines",
         "showlegend": false,
         "type": "scatter",
         "x": [
          35.007538256094264,
          35.951864064472176
         ],
         "y": [
          41.68252231635865,
          41.353510511659486
         ]
        },
        {
         "hoverinfo": "skip",
         "line": {
          "color": "lightblue",
          "width": 1
         },
         "mode": "lines",
         "showlegend": false,
         "type": "scatter",
         "x": [
          35.951864064472176,
          36.739534799069304
         ],
         "y": [
          41.353510511659486,
          41.96960694393224
         ]
        },
        {
         "hoverinfo": "skip",
         "line": {
          "color": "lightblue",
          "width": 1
         },
         "mode": "lines",
         "showlegend": false,
         "type": "scatter",
         "x": [
          18.024764273385514,
          19.01787901534773
         ],
         "y": [
          12.535618247535163,
          12.418472571996872
         ]
        },
        {
         "hoverinfo": "skip",
         "line": {
          "color": "lightblue",
          "width": 1
         },
         "mode": "lines",
         "showlegend": false,
         "type": "scatter",
         "x": [
          19.01787901534773,
          19.961247836565775
         ],
         "y": [
          12.418472571996872,
          12.086726785055008
         ]
        },
        {
         "hoverinfo": "skip",
         "line": {
          "color": "lightblue",
          "width": 1
         },
         "mode": "lines",
         "showlegend": false,
         "type": "scatter",
         "x": [
          22.003997897620888,
          21.196035540988017
         ],
         "y": [
          36.72858332338193,
          37.317817428186004
         ]
        },
        {
         "hoverinfo": "skip",
         "line": {
          "color": "lightblue",
          "width": 1
         },
         "mode": "lines",
         "showlegend": false,
         "type": "scatter",
         "x": [
          14.653524699070795,
          13.678823364690718
         ],
         "y": [
          21.00407947630104,
          21.22759079314584
         ]
        },
        {
         "hoverinfo": "skip",
         "line": {
          "color": "lightblue",
          "width": 1
         },
         "mode": "lines",
         "showlegend": false,
         "type": "scatter",
         "x": [
          13.678823364690718,
          14.276677880825384
         ],
         "y": [
          21.22759079314584,
          21.977326700991284
         ]
        },
        {
         "hoverinfo": "skip",
         "line": {
          "color": "lightblue",
          "width": 1
         },
         "mode": "lines",
         "showlegend": false,
         "type": "scatter",
         "x": [
          21.196035540988017,
          20.96440058777117
         ],
         "y": [
          37.317817428186004,
          38.29062020801768
         ]
        },
        {
         "hoverinfo": "skip",
         "line": {
          "color": "lightblue",
          "width": 1
         },
         "mode": "lines",
         "showlegend": false,
         "type": "scatter",
         "x": [
          6.775030856836073,
          5.784538767670181
         ],
         "y": [
          7.830720695540583,
          7.968290391694152
         ]
        },
        {
         "hoverinfo": "skip",
         "line": {
          "color": "lightblue",
          "width": 1
         },
         "mode": "lines",
         "showlegend": false,
         "type": "scatter",
         "x": [
          36.739534799069304,
          37.66367786386395
         ],
         "y": [
          41.96960694393224,
          41.587560355422475
         ]
        },
        {
         "hoverinfo": "skip",
         "line": {
          "color": "lightblue",
          "width": 1
         },
         "mode": "lines",
         "showlegend": false,
         "type": "scatter",
         "x": [
          37.66367786386395,
          38.64667479192408
         ],
         "y": [
          41.587560355422475,
          41.40393835395107
         ]
        },
        {
         "hoverinfo": "skip",
         "line": {
          "color": "lightblue",
          "width": 1
         },
         "mode": "lines",
         "showlegend": false,
         "type": "scatter",
         "x": [
          38.64667479192408,
          39.2640849447441
         ],
         "y": [
          41.40393835395107,
          42.19057976094333
         ]
        },
        {
         "hoverinfo": "skip",
         "line": {
          "color": "lightblue",
          "width": 1
         },
         "mode": "lines",
         "showlegend": false,
         "type": "scatter",
         "x": [
          20.96440058777117,
          20.106315777617695
         ],
         "y": [
          38.29062020801768,
          38.804128200734326
         ]
        },
        {
         "hoverinfo": "skip",
         "line": {
          "color": "lightblue",
          "width": 1
         },
         "mode": "lines",
         "showlegend": false,
         "type": "scatter",
         "x": [
          29.52650758618076,
          28.702048818932663
         ],
         "y": [
          40.10786575843757,
          40.67378778584749
         ]
        },
        {
         "hoverinfo": "skip",
         "line": {
          "color": "lightblue",
          "width": 1
         },
         "mode": "lines",
         "showlegend": false,
         "type": "scatter",
         "x": [
          39.2640849447441,
          39.219273122419246
         ],
         "y": [
          42.19057976094333,
          43.18957520666865
         ]
        },
        {
         "hoverinfo": "skip",
         "line": {
          "color": "lightblue",
          "width": 1
         },
         "mode": "lines",
         "showlegend": false,
         "type": "scatter",
         "x": [
          39.2640849447441,
          40.2244120763575
         ],
         "y": [
          42.19057976094333,
          41.91170380233955
         ]
        },
        {
         "hoverinfo": "skip",
         "line": {
          "color": "lightblue",
          "width": 1
         },
         "mode": "lines",
         "showlegend": false,
         "type": "scatter",
         "x": [
          39.219273122419246,
          39.95023641014364
         ],
         "y": [
          43.18957520666865,
          43.871991994269266
         ]
        },
        {
         "hoverinfo": "skip",
         "line": {
          "color": "lightblue",
          "width": 1
         },
         "mode": "lines",
         "showlegend": false,
         "type": "scatter",
         "x": [
          28.350491625720714,
          28.811924818070644
         ],
         "y": [
          36.51164137608202,
          35.62446641645018
         ]
        },
        {
         "hoverinfo": "skip",
         "line": {
          "color": "lightblue",
          "width": 1
         },
         "mode": "lines",
         "showlegend": false,
         "type": "scatter",
         "x": [
          39.95023641014364,
          40.66994060214183
         ],
         "y": [
          43.871991994269266,
          44.56627282795275
         ]
        },
        {
         "hoverinfo": "skip",
         "line": {
          "color": "lightblue",
          "width": 1
         },
         "mode": "lines",
         "showlegend": false,
         "type": "scatter",
         "x": [
          40.2244120763575,
          41.20880378479881
         ],
         "y": [
          41.91170380233955,
          41.735712426550855
         ]
        },
        {
         "hoverinfo": "skip",
         "line": {
          "color": "lightblue",
          "width": 1
         },
         "mode": "lines",
         "showlegend": false,
         "type": "scatter",
         "x": [
          40.66994060214183,
          40.99706743818982
         ],
         "y": [
          44.56627282795275,
          45.511253268563685
         ]
        },
        {
         "hoverinfo": "skip",
         "line": {
          "color": "lightblue",
          "width": 1
         },
         "mode": "lines",
         "showlegend": false,
         "type": "scatter",
         "x": [
          41.20880378479881,
          42.042116694318466
         ],
         "y": [
          41.735712426550855,
          41.182910839335435
         ]
        },
        {
         "hoverinfo": "skip",
         "line": {
          "color": "lightblue",
          "width": 1
         },
         "mode": "lines",
         "showlegend": false,
         "type": "scatter",
         "x": [
          40.99706743818982,
          41.86968019501856
         ],
         "y": [
          45.511253268563685,
          45.999665979925446
         ]
        },
        {
         "hoverinfo": "skip",
         "line": {
          "color": "lightblue",
          "width": 1
         },
         "mode": "lines",
         "showlegend": false,
         "type": "scatter",
         "x": [
          42.042116694318466,
          42.744414747776176
         ],
         "y": [
          41.182910839335435,
          40.4710278123503
         ]
        },
        {
         "hoverinfo": "skip",
         "line": {
          "color": "lightblue",
          "width": 1
         },
         "mode": "lines",
         "showlegend": false,
         "type": "scatter",
         "x": [
          41.86968019501856,
          41.94921949275457
         ],
         "y": [
          45.999665979925446,
          46.996497711019344
         ]
        },
        {
         "hoverinfo": "skip",
         "line": {
          "color": "lightblue",
          "width": 1
         },
         "mode": "lines",
         "showlegend": false,
         "type": "scatter",
         "x": [
          42.744414747776176,
          43.570654101038414
         ],
         "y": [
          40.4710278123503,
          39.90770860344579
         ]
        },
        {
         "hoverinfo": "skip",
         "line": {
          "color": "lightblue",
          "width": 1
         },
         "mode": "lines",
         "showlegend": false,
         "type": "scatter",
         "x": [
          41.94921949275457,
          42.50655866976022
         ],
         "y": [
          46.996497711019344,
          47.82678262704195
         ]
        },
        {
         "hoverinfo": "skip",
         "line": {
          "color": "lightblue",
          "width": 1
         },
         "mode": "lines",
         "showlegend": false,
         "type": "scatter",
         "x": [
          42.50655866976022,
          42.01597190651182
         ],
         "y": [
          47.82678262704195,
          48.69817497709184
         ]
        },
        {
         "hoverinfo": "skip",
         "line": {
          "color": "lightblue",
          "width": 1
         },
         "mode": "lines",
         "showlegend": false,
         "type": "scatter",
         "x": [
          42.01597190651182,
          41.51575703071138
         ],
         "y": [
          48.69817497709184,
          49.56407628672703
         ]
        },
        {
         "hoverinfo": "skip",
         "line": {
          "color": "lightblue",
          "width": 1
         },
         "mode": "lines",
         "showlegend": false,
         "type": "scatter",
         "x": [
          41.51575703071138,
          41.14734317268829
         ],
         "y": [
          49.56407628672703,
          50.49373817645713
         ]
        },
        {
         "hoverinfo": "skip",
         "line": {
          "color": "lightblue",
          "width": 1
         },
         "mode": "lines",
         "showlegend": false,
         "type": "scatter",
         "x": [
          20.060685851619187,
          19.062945131334246
         ],
         "y": [
          31.518088813362525,
          31.585271066117908
         ]
        },
        {
         "hoverinfo": "skip",
         "line": {
          "color": "lightblue",
          "width": 1
         },
         "mode": "lines",
         "showlegend": false,
         "type": "scatter",
         "x": [
          43.570654101038414,
          44.38185371485667
         ],
         "y": [
          39.90770860344579,
          39.32293925871137
         ]
        },
        {
         "hoverinfo": "skip",
         "line": {
          "color": "lightblue",
          "width": 1
         },
         "mode": "lines",
         "showlegend": false,
         "type": "scatter",
         "x": [
          42.01597190651182,
          42.89431583243909
         ],
         "y": [
          48.69817497709184,
          49.1762042102844
         ]
        },
        {
         "hoverinfo": "skip",
         "line": {
          "color": "lightblue",
          "width": 1
         },
         "mode": "lines",
         "showlegend": false,
         "type": "scatter",
         "x": [
          42.89431583243909,
          43.60850274512893
         ],
         "y": [
          49.1762042102844,
          49.87615924722789
         ]
        },
        {
         "hoverinfo": "skip",
         "line": {
          "color": "lightblue",
          "width": 1
         },
         "mode": "lines",
         "showlegend": false,
         "type": "scatter",
         "x": [
          14.8529776130768,
          14.108588968867904
         ],
         "y": [
          24.26616882976597,
          24.93391544815714
         ]
        },
        {
         "hoverinfo": "skip",
         "line": {
          "color": "lightblue",
          "width": 1
         },
         "mode": "lines",
         "showlegend": false,
         "type": "scatter",
         "x": [
          43.60850274512893,
          44.57397936410753
         ],
         "y": [
          49.87615924722789,
          50.136648974867306
         ]
        },
        {
         "hoverinfo": "skip",
         "line": {
          "color": "lightblue",
          "width": 1
         },
         "mode": "lines",
         "showlegend": false,
         "type": "scatter",
         "x": [
          44.57397936410753,
          45.318089201115924
         ],
         "y": [
          50.136648974867306,
          50.80470627066411
         ]
        },
        {
         "hoverinfo": "skip",
         "line": {
          "color": "lightblue",
          "width": 1
         },
         "mode": "lines",
         "showlegend": false,
         "type": "scatter",
         "x": [
          44.38185371485667,
          45.03939817415099
         ],
         "y": [
          39.32293925871137,
          38.569523514217444
         ]
        },
        {
         "hoverinfo": "skip",
         "line": {
          "color": "lightblue",
          "width": 1
         },
         "mode": "lines",
         "showlegend": false,
         "type": "scatter",
         "x": [
          45.318089201115924,
          45.36066359901605
         ],
         "y": [
          50.80470627066411,
          51.80379956993273
         ]
        },
        {
         "hoverinfo": "skip",
         "line": {
          "color": "lightblue",
          "width": 1
         },
         "mode": "lines",
         "showlegend": false,
         "type": "scatter",
         "x": [
          14.108588968867904,
          13.355731201320447
         ],
         "y": [
          24.93391544815714,
          25.592098691519855
         ]
        },
        {
         "hoverinfo": "skip",
         "line": {
          "color": "lightblue",
          "width": 1
         },
         "mode": "lines",
         "showlegend": false,
         "type": "scatter",
         "x": [
          45.36066359901605,
          45.25241537242342
         ],
         "y": [
          51.80379956993273,
          52.79792346635588
         ]
        },
        {
         "hoverinfo": "skip",
         "line": {
          "color": "lightblue",
          "width": 1
         },
         "mode": "lines",
         "showlegend": false,
         "type": "scatter",
         "x": [
          45.03939817415099,
          46.03052157488954
         ],
         "y": [
          38.569523514217444,
          38.43657839580968
         ]
        },
        {
         "hoverinfo": "skip",
         "line": {
          "color": "lightblue",
          "width": 1
         },
         "mode": "lines",
         "showlegend": false,
         "type": "scatter",
         "x": [
          45.25241537242342,
          46.05187544931519
         ],
         "y": [
          52.79792346635588,
          53.39864268983405
         ]
        },
        {
         "hoverinfo": "skip",
         "line": {
          "color": "lightblue",
          "width": 1
         },
         "mode": "lines",
         "showlegend": false,
         "type": "scatter",
         "x": [
          13.355731201320447,
          12.414056740302673
         ],
         "y": [
          25.592098691519855,
          25.255573492661156
         ]
        },
        {
         "hoverinfo": "skip",
         "line": {
          "color": "lightblue",
          "width": 1
         },
         "mode": "lines",
         "showlegend": false,
         "type": "scatter",
         "x": [
          40.99706743818982,
          40.346684108904626
         ],
         "y": [
          45.511253268563685,
          45.80336301074027
         ]
        },
        {
         "hoverinfo": "skip",
         "line": {
          "color": "lightblue",
          "width": 1
         },
         "mode": "lines",
         "showlegend": false,
         "type": "scatter",
         "x": [
          22.358047502693232,
          22.801861283689114
         ],
         "y": [
          33.16157565867913,
          32.26545662205613
         ]
        },
        {
         "hoverinfo": "skip",
         "line": {
          "color": "lightblue",
          "width": 1
         },
         "mode": "lines",
         "showlegend": false,
         "type": "scatter",
         "x": [
          46.05187544931519,
          46.38860483285893
         ],
         "y": [
          53.39864268983405,
          54.340244156622546
         ]
        },
        {
         "hoverinfo": "skip",
         "line": {
          "color": "lightblue",
          "width": 1
         },
         "mode": "lines",
         "showlegend": false,
         "type": "scatter",
         "x": [
          46.03052157488954,
          46.71680300335781
         ],
         "y": [
          38.43657839580968,
          37.70924229678836
         ]
        },
        {
         "hoverinfo": "skip",
         "line": {
          "color": "lightblue",
          "width": 1
         },
         "mode": "lines",
         "showlegend": false,
         "type": "scatter",
         "x": [
          46.38860483285893,
          46.85568517754882
         ],
         "y": [
          54.340244156622546,
          55.224459035260296
         ]
        },
        {
         "hoverinfo": "skip",
         "line": {
          "color": "lightblue",
          "width": 1
         },
         "mode": "lines",
         "showlegend": false,
         "type": "scatter",
         "x": [
          46.71680300335781,
          47.71649555634077
         ],
         "y": [
          37.70924229678836,
          37.734037447733904
         ]
        },
        {
         "hoverinfo": "skip",
         "line": {
          "color": "lightblue",
          "width": 1
         },
         "mode": "lines",
         "showlegend": false,
         "type": "scatter",
         "x": [
          47.71649555634077,
          47.97922012544631
         ],
         "y": [
          37.734037447733904,
          36.769166575135756
         ]
        },
        {
         "hoverinfo": "skip",
         "line": {
          "color": "lightblue",
          "width": 1
         },
         "mode": "lines",
         "showlegend": false,
         "type": "scatter",
         "x": [
          19.961247836565775,
          20.389562055576235
         ],
         "y": [
          12.086726785055008,
          11.183096921784951
         ]
        },
        {
         "hoverinfo": "skip",
         "line": {
          "color": "lightblue",
          "width": 1
         },
         "mode": "lines",
         "showlegend": false,
         "type": "scatter",
         "x": [
          47.97922012544631,
          48.10726608711998
         ],
         "y": [
          36.769166575135756,
          35.777398340264796
         ]
        },
        {
         "hoverinfo": "skip",
         "line": {
          "color": "lightblue",
          "width": 1
         },
         "mode": "lines",
         "showlegend": false,
         "type": "scatter",
         "x": [
          46.05187544931519,
          46.999852501823156
         ],
         "y": [
          53.39864268983405,
          53.08030402124616
         ]
        },
        {
         "hoverinfo": "skip",
         "line": {
          "color": "lightblue",
          "width": 1
         },
         "mode": "lines",
         "showlegend": false,
         "type": "scatter",
         "x": [
          8.987917521510722,
          8.282604705866559
         ],
         "y": [
          9.777455813854287,
          10.486352020705546
         ]
        },
        {
         "hoverinfo": "skip",
         "line": {
          "color": "lightblue",
          "width": 1
         },
         "mode": "lines",
         "showlegend": false,
         "type": "scatter",
         "x": [
          48.10726608711998,
          48.66785849728243
         ],
         "y": [
          35.777398340264796,
          34.94930646754278
         ]
        },
        {
         "hoverinfo": "skip",
         "line": {
          "color": "lightblue",
          "width": 1
         },
         "mode": "lines",
         "showlegend": false,
         "type": "scatter",
         "x": [
          28.811924818070644,
          29.681651491325145
         ],
         "y": [
          35.62446641645018,
          35.13093271564581
         ]
        },
        {
         "hoverinfo": "skip",
         "line": {
          "color": "lightblue",
          "width": 1
         },
         "mode": "lines",
         "showlegend": false,
         "type": "scatter",
         "x": [
          48.66785849728243,
          48.73677502041
         ],
         "y": [
          34.94930646754278,
          33.95168403754233
         ]
        },
        {
         "hoverinfo": "skip",
         "line": {
          "color": "lightblue",
          "width": 1
         },
         "mode": "lines",
         "showlegend": false,
         "type": "scatter",
         "x": [
          8.282604705866559,
          7.566820860558099
         ],
         "y": [
          10.486352020705546,
          11.184673928421061
         ]
        },
        {
         "hoverinfo": "skip",
         "line": {
          "color": "lightblue",
          "width": 1
         },
         "mode": "lines",
         "showlegend": false,
         "type": "scatter",
         "x": [
          48.73677502041,
          49.57076057301834
         ],
         "y": [
          33.95168403754233,
          33.399897758227084
         ]
        },
        {
         "hoverinfo": "skip",
         "line": {
          "color": "lightblue",
          "width": 1
         },
         "mode": "lines",
         "showlegend": false,
         "type": "scatter",
         "x": [
          49.57076057301834,
          50.5266613311615
         ],
         "y": [
          33.399897758227084,
          33.69358762965838
         ]
        },
        {
         "hoverinfo": "skip",
         "line": {
          "color": "lightblue",
          "width": 1
         },
         "mode": "lines",
         "showlegend": false,
         "type": "scatter",
         "x": [
          20.389562055576235,
          21.2138612994031
         ],
         "y": [
          11.183096921784951,
          10.616942564187607
         ]
        },
        {
         "hoverinfo": "skip",
         "line": {
          "color": "lightblue",
          "width": 1
         },
         "mode": "lines",
         "showlegend": false,
         "type": "scatter",
         "x": [
          46.85568517754882,
          46.5987574062393
         ],
         "y": [
          55.224459035260296,
          56.19088964338999
         ]
        },
        {
         "hoverinfo": "skip",
         "line": {
          "color": "lightblue",
          "width": 1
         },
         "mode": "lines",
         "showlegend": false,
         "type": "scatter",
         "x": [
          50.5266613311615,
          51.456797409036575
         ],
         "y": [
          33.69358762965838,
          33.326372601867895
         ]
        },
        {
         "hoverinfo": "skip",
         "line": {
          "color": "lightblue",
          "width": 1
         },
         "mode": "lines",
         "showlegend": false,
         "type": "scatter",
         "x": [
          51.456797409036575,
          52.45316282472602
         ],
         "y": [
          33.326372601867895,
          33.411554515546776
         ]
        },
        {
         "hoverinfo": "skip",
         "line": {
          "color": "lightblue",
          "width": 1
         },
         "mode": "lines",
         "showlegend": false,
         "type": "scatter",
         "x": [
          45.318089201115924,
          45.98112737104145
         ],
         "y": [
          50.80470627066411,
          50.05612068088709
         ]
        },
        {
         "hoverinfo": "skip",
         "line": {
          "color": "lightblue",
          "width": 1
         },
         "mode": "lines",
         "showlegend": false,
         "type": "scatter",
         "x": [
          46.5987574062393,
          46.21001717437106
         ],
         "y": [
          56.19088964338999,
          57.11223704373745
         ]
        },
        {
         "hoverinfo": "skip",
         "line": {
          "color": "lightblue",
          "width": 1
         },
         "mode": "lines",
         "showlegend": false,
         "type": "scatter",
         "x": [
          52.45316282472602,
          52.985149522147466
         ],
         "y": [
          33.411554515546776,
          32.56480180444003
         ]
        },
        {
         "hoverinfo": "skip",
         "line": {
          "color": "lightblue",
          "width": 1
         },
         "mode": "lines",
         "showlegend": false,
         "type": "scatter",
         "x": [
          46.21001717437106,
          46.378891564766576
         ],
         "y": [
          57.11223704373745,
          58.097874624326046
         ]
        },
        {
         "hoverinfo": "skip",
         "line": {
          "color": "lightblue",
          "width": 1
         },
         "mode": "lines",
         "showlegend": false,
         "type": "scatter",
         "x": [
          28.702048818932663,
          28.405962113191265
         ],
         "y": [
          40.67378778584749,
          41.62894885220395
         ]
        },
        {
         "hoverinfo": "skip",
         "line": {
          "color": "lightblue",
          "width": 1
         },
         "mode": "lines",
         "showlegend": false,
         "type": "scatter",
         "x": [
          20.106315777617695,
          19.155874703612426
         ],
         "y": [
          38.804128200734326,
          39.115032952778606
         ]
        },
        {
         "hoverinfo": "skip",
         "line": {
          "color": "lightblue",
          "width": 1
         },
         "mode": "lines",
         "showlegend": false,
         "type": "scatter",
         "x": [
          52.985149522147466,
          53.633148532388674
         ],
         "y": [
          32.56480180444003,
          31.80316062729267
         ]
        },
        {
         "hoverinfo": "skip",
         "line": {
          "color": "lightblue",
          "width": 1
         },
         "mode": "lines",
         "showlegend": false,
         "type": "scatter",
         "x": [
          53.633148532388674,
          54.5518912498722
         ],
         "y": [
          31.80316062729267,
          31.408303920282414
         ]
        },
        {
         "hoverinfo": "skip",
         "line": {
          "color": "lightblue",
          "width": 1
         },
         "mode": "lines",
         "showlegend": false,
         "type": "scatter",
         "x": [
          54.5518912498722,
          55.546693629530544
         ],
         "y": [
          31.408303920282414,
          31.510128403713917
         ]
        },
        {
         "hoverinfo": "skip",
         "line": {
          "color": "lightblue",
          "width": 1
         },
         "mode": "lines",
         "showlegend": false,
         "type": "scatter",
         "x": [
          21.2138612994031,
          22.058989620633042
         ],
         "y": [
          10.616942564187607,
          10.082379078102875
         ]
        },
        {
         "hoverinfo": "skip",
         "line": {
          "color": "lightblue",
          "width": 1
         },
         "mode": "lines",
         "showlegend": false,
         "type": "scatter",
         "x": [
          46.378891564766576,
          46.750211096508345
         ],
         "y": [
          58.097874624326046,
          59.02637976989449
         ]
        },
        {
         "hoverinfo": "skip",
         "line": {
          "color": "lightblue",
          "width": 1
         },
         "mode": "lines",
         "showlegend": false,
         "type": "scatter",
         "x": [
          22.801861283689114,
          22.773392562103822
         ],
         "y": [
          32.26545662205613,
          31.49236131059959
         ]
        },
        {
         "hoverinfo": "skip",
         "line": {
          "color": "lightblue",
          "width": 1
         },
         "mode": "lines",
         "showlegend": false,
         "type": "scatter",
         "x": [
          22.801861283689114,
          23.489073667778314
         ],
         "y": [
          32.26545662205613,
          31.8536311009495
         ]
        },
        {
         "hoverinfo": "skip",
         "line": {
          "color": "lightblue",
          "width": 1
         },
         "mode": "lines",
         "showlegend": false,
         "type": "scatter",
         "x": [
          55.546693629530544,
          56.49310369544406
         ],
         "y": [
          31.510128403713917,
          31.83309587442509
         ]
        },
        {
         "hoverinfo": "skip",
         "line": {
          "color": "lightblue",
          "width": 1
         },
         "mode": "lines",
         "showlegend": false,
         "type": "scatter",
         "x": [
          7.637785354104218,
          8.491469170809141
         ],
         "y": [
          8.336343754195537,
          7.815552105744725
         ]
        },
        {
         "hoverinfo": "skip",
         "line": {
          "color": "lightblue",
          "width": 1
         },
         "mode": "lines",
         "showlegend": false,
         "type": "scatter",
         "x": [
          1.9960979474619829,
          2.134530539383339
         ],
         "y": [
          1.0882546262924753,
          0.1473471361154055
         ]
        },
        {
         "hoverinfo": "skip",
         "line": {
          "color": "lightblue",
          "width": 1
         },
         "mode": "lines",
         "showlegend": false,
         "type": "scatter",
         "x": [
          19.841852504886607,
          19.85484610628534
         ],
         "y": [
          28.551996552645704,
          28.954316113154178
         ]
        },
        {
         "hoverinfo": "skip",
         "line": {
          "color": "lightblue",
          "width": 1
         },
         "mode": "lines",
         "showlegend": false,
         "type": "scatter",
         "x": [
          46.750211096508345,
          46.044736301892016
         ],
         "y": [
          59.02637976989449,
          59.735114779726125
         ]
        },
        {
         "hoverinfo": "skip",
         "line": {
          "color": "lightblue",
          "width": 1
         },
         "mode": "lines",
         "showlegend": false,
         "type": "scatter",
         "x": [
          56.49310369544406,
          57.17651990079221
         ],
         "y": [
          31.83309587442509,
          31.10306690906307
         ]
        },
        {
         "hoverinfo": "skip",
         "line": {
          "color": "lightblue",
          "width": 1
         },
         "mode": "lines",
         "showlegend": false,
         "type": "scatter",
         "x": [
          46.044736301892016,
          45.08737189540751
         ],
         "y": [
          59.735114779726125,
          60.02399778925865
         ]
        },
        {
         "hoverinfo": "skip",
         "line": {
          "color": "lightblue",
          "width": 1
         },
         "mode": "lines",
         "showlegend": false,
         "type": "scatter",
         "x": [
          40.346684108904626,
          39.50395960620873
         ],
         "y": [
          45.80336301074027,
          46.34170807903379
         ]
        },
        {
         "hoverinfo": "skip",
         "line": {
          "color": "lightblue",
          "width": 1
         },
         "mode": "lines",
         "showlegend": false,
         "type": "scatter",
         "x": [
          45.98112737104145,
          46.776757873855544
         ],
         "y": [
          50.05612068088709,
          49.450338456823204
         ]
        },
        {
         "hoverinfo": "skip",
         "line": {
          "color": "lightblue",
          "width": 1
         },
         "mode": "lines",
         "showlegend": false,
         "type": "scatter",
         "x": [
          57.17651990079221,
          57.72072689618662
         ],
         "y": [
          31.10306690906307,
          30.264115929467845
         ]
        },
        {
         "hoverinfo": "skip",
         "line": {
          "color": "lightblue",
          "width": 1
         },
         "mode": "lines",
         "showlegend": false,
         "type": "scatter",
         "x": [
          57.72072689618662,
          58.715666674180284
         ],
         "y": [
          30.264115929467845,
          30.364589001312577
         ]
        },
        {
         "hoverinfo": "skip",
         "line": {
          "color": "lightblue",
          "width": 1
         },
         "mode": "lines",
         "showlegend": false,
         "type": "scatter",
         "x": [
          45.08737189540751,
          44.41420383275632
         ],
         "y": [
          60.02399778925865,
          60.763487315503916
         ]
        },
        {
         "hoverinfo": "skip",
         "line": {
          "color": "lightblue",
          "width": 1
         },
         "mode": "lines",
         "showlegend": false,
         "type": "scatter",
         "x": [
          44.41420383275632,
          43.56560049366698
         ],
         "y": [
          60.763487315503916,
          61.292516967684605
         ]
        },
        {
         "hoverinfo": "skip",
         "line": {
          "color": "lightblue",
          "width": 1
         },
         "mode": "lines",
         "showlegend": false,
         "type": "scatter",
         "x": [
          56.49310369544406,
          56.76517145518175
         ],
         "y": [
          31.83309587442509,
          32.795373970461426
         ]
        },
        {
         "hoverinfo": "skip",
         "line": {
          "color": "lightblue",
          "width": 1
         },
         "mode": "lines",
         "showlegend": false,
         "type": "scatter",
         "x": [
          53.633148532388674,
          52.90963092879714
         ],
         "y": [
          31.80316062729267,
          31.112854697075374
         ]
        },
        {
         "hoverinfo": "skip",
         "line": {
          "color": "lightblue",
          "width": 1
         },
         "mode": "lines",
         "showlegend": false,
         "type": "scatter",
         "x": [
          43.56560049366698,
          43.356158261578706
         ],
         "y": [
          61.292516967684605,
          62.270337989864984
         ]
        },
        {
         "hoverinfo": "skip",
         "line": {
          "color": "lightblue",
          "width": 1
         },
         "mode": "lines",
         "showlegend": false,
         "type": "scatter",
         "x": [
          43.356158261578706,
          43.21448093979082
         ],
         "y": [
          62.270337989864984,
          63.26025088325056
         ]
        },
        {
         "hoverinfo": "skip",
         "line": {
          "color": "lightblue",
          "width": 1
         },
         "mode": "lines",
         "showlegend": false,
         "type": "scatter",
         "x": [
          43.21448093979082,
          42.589848746020834
         ],
         "y": [
          63.26025088325056,
          64.04116997157284
         ]
        },
        {
         "hoverinfo": "skip",
         "line": {
          "color": "lightblue",
          "width": 1
         },
         "mode": "lines",
         "showlegend": false,
         "type": "scatter",
         "x": [
          42.589848746020834,
          43.27166394632467
         ],
         "y": [
          64.04116997157284,
          64.77269442956084
         ]
        },
        {
         "hoverinfo": "skip",
         "line": {
          "color": "lightblue",
          "width": 1
         },
         "mode": "lines",
         "showlegend": false,
         "type": "scatter",
         "x": [
          43.27166394632467,
          44.123779586315976
         ],
         "y": [
          64.77269442956084,
          65.2960479774443
         ]
        },
        {
         "hoverinfo": "skip",
         "line": {
          "color": "lightblue",
          "width": 1
         },
         "mode": "lines",
         "showlegend": false,
         "type": "scatter",
         "x": [
          19.155874703612426,
          18.42951385781017
         ],
         "y": [
          39.115032952778606,
          39.80234650690469
         ]
        },
        {
         "hoverinfo": "skip",
         "line": {
          "color": "lightblue",
          "width": 1
         },
         "mode": "lines",
         "showlegend": false,
         "type": "scatter",
         "x": [
          23.489073667778314,
          24.180078092912396
         ],
         "y": [
          31.8536311009495,
          31.130780573907348
         ]
        },
        {
         "hoverinfo": "skip",
         "line": {
          "color": "lightblue",
          "width": 1
         },
         "mode": "lines",
         "showlegend": false,
         "type": "scatter",
         "x": [
          44.123779586315976,
          44.42766543551283
         ],
         "y": [
          65.2960479774443,
          66.24875642742148
         ]
        },
        {
         "hoverinfo": "skip",
         "line": {
          "color": "lightblue",
          "width": 1
         },
         "mode": "lines",
         "showlegend": false,
         "type": "scatter",
         "x": [
          42.589848746020834,
          41.75342827204258
         ],
         "y": [
          64.04116997157284,
          64.58925827714958
         ]
        },
        {
         "hoverinfo": "skip",
         "line": {
          "color": "lightblue",
          "width": 1
         },
         "mode": "lines",
         "showlegend": false,
         "type": "scatter",
         "x": [
          18.42951385781017,
          18.047637184847982
         ],
         "y": [
          39.80234650690469,
          40.72655979757267
         ]
        },
        {
         "hoverinfo": "skip",
         "line": {
          "color": "lightblue",
          "width": 1
         },
         "mode": "lines",
         "showlegend": false,
         "type": "scatter",
         "x": [
          41.75342827204258,
          40.760242155446576
         ],
         "y": [
          64.58925827714958,
          64.47271928023883
         ]
        },
        {
         "hoverinfo": "skip",
         "line": {
          "color": "lightblue",
          "width": 1
         },
         "mode": "lines",
         "showlegend": false,
         "type": "scatter",
         "x": [
          47.97922012544631,
          48.89813547975046
         ],
         "y": [
          36.769166575135756,
          37.16362135280246
         ]
        },
        {
         "hoverinfo": "skip",
         "line": {
          "color": "lightblue",
          "width": 1
         },
         "mode": "lines",
         "showlegend": false,
         "type": "scatter",
         "x": [
          18.047637184847982,
          17.187985916161274
         ],
         "y": [
          40.72655979757267,
          41.23744109126557
         ]
        },
        {
         "hoverinfo": "skip",
         "line": {
          "color": "lightblue",
          "width": 1
         },
         "mode": "lines",
         "showlegend": false,
         "type": "scatter",
         "x": [
          22.058989620633042,
          23.034669625402124
         ],
         "y": [
          10.082379078102875,
          9.863179332907302
         ]
        },
        {
         "hoverinfo": "skip",
         "line": {
          "color": "lightblue",
          "width": 1
         },
         "mode": "lines",
         "showlegend": false,
         "type": "scatter",
         "x": [
          17.187985916161274,
          16.731272999449104
         ],
         "y": [
          41.23744109126557,
          42.12705522767993
         ]
        },
        {
         "hoverinfo": "skip",
         "line": {
          "color": "lightblue",
          "width": 1
         },
         "mode": "lines",
         "showlegend": false,
         "type": "scatter",
         "x": [
          29.681651491325145,
          30.549342481735913
         ],
         "y": [
          35.13093271564581,
          34.633828757544514
         ]
        },
        {
         "hoverinfo": "skip",
         "line": {
          "color": "lightblue",
          "width": 1
         },
         "mode": "lines",
         "showlegend": false,
         "type": "scatter",
         "x": [
          40.760242155446576,
          40.1148678733167
         ],
         "y": [
          64.47271928023883,
          65.23658578425989
         ]
        },
        {
         "hoverinfo": "skip",
         "line": {
          "color": "lightblue",
          "width": 1
         },
         "mode": "lines",
         "showlegend": false,
         "type": "scatter",
         "x": [
          44.42766543551283,
          44.18200276752019
         ],
         "y": [
          66.24875642742148,
          67.21811180784434
         ]
        },
        {
         "hoverinfo": "skip",
         "line": {
          "color": "lightblue",
          "width": 1
         },
         "mode": "lines",
         "showlegend": false,
         "type": "scatter",
         "x": [
          16.731272999449104,
          15.791907220648895
         ],
         "y": [
          42.12705522767993,
          42.46997203044567
         ]
        },
        {
         "hoverinfo": "skip",
         "line": {
          "color": "lightblue",
          "width": 1
         },
         "mode": "lines",
         "showlegend": false,
         "type": "scatter",
         "x": [
          11.479369083549573,
          10.876905886599825
         ],
         "y": [
          12.431181349645893,
          13.229328013061265
         ]
        },
        {
         "hoverinfo": "skip",
         "line": {
          "color": "lightblue",
          "width": 1
         },
         "mode": "lines",
         "showlegend": false,
         "type": "scatter",
         "x": [
          58.715666674180284,
          59.4960508109541
         ],
         "y": [
          30.364589001312577,
          30.98988940837448
         ]
        },
        {
         "hoverinfo": "skip",
         "line": {
          "color": "lightblue",
          "width": 1
         },
         "mode": "lines",
         "showlegend": false,
         "type": "scatter",
         "x": [
          59.4960508109541,
          60.114564569179365
         ],
         "y": [
          30.98988940837448,
          30.204115439038475
         ]
        },
        {
         "hoverinfo": "skip",
         "line": {
          "color": "lightblue",
          "width": 1
         },
         "mode": "lines",
         "showlegend": false,
         "type": "scatter",
         "x": [
          30.549342481735913,
          31.533386138585257
         ],
         "y": [
          34.633828757544514,
          34.4559015774551
         ]
        },
        {
         "hoverinfo": "skip",
         "line": {
          "color": "lightblue",
          "width": 1
         },
         "mode": "lines",
         "showlegend": false,
         "type": "scatter",
         "x": [
          52.90963092879714,
          52.04405971176913
         ],
         "y": [
          31.112854697075374,
          30.613643734134854
         ]
        },
        {
         "hoverinfo": "skip",
         "line": {
          "color": "lightblue",
          "width": 1
         },
         "mode": "lines",
         "showlegend": false,
         "type": "scatter",
         "x": [
          44.18200276752019,
          45.05661185511702
         ],
         "y": [
          67.21811180784434,
          67.70294058575777
         ]
        },
        {
         "hoverinfo": "skip",
         "line": {
          "color": "lightblue",
          "width": 1
         },
         "mode": "lines",
         "showlegend": false,
         "type": "scatter",
         "x": [
          60.114564569179365,
          60.93465471816492
         ],
         "y": [
          30.204115439038475,
          30.776349785732947
         ]
        },
        {
         "hoverinfo": "skip",
         "line": {
          "color": "lightblue",
          "width": 1
         },
         "mode": "lines",
         "showlegend": false,
         "type": "scatter",
         "x": [
          45.05661185511702,
          45.88440682019633
         ],
         "y": [
          67.70294058575777,
          68.26397132982564
         ]
        },
        {
         "hoverinfo": "skip",
         "line": {
          "color": "lightblue",
          "width": 1
         },
         "mode": "lines",
         "showlegend": false,
         "type": "scatter",
         "x": [
          45.88440682019633,
          46.745690552368146
         ],
         "y": [
          68.26397132982564,
          68.77209565781654
         ]
        },
        {
         "hoverinfo": "skip",
         "line": {
          "color": "lightblue",
          "width": 1
         },
         "mode": "lines",
         "showlegend": false,
         "type": "scatter",
         "x": [
          46.745690552368146,
          47.511285677794014
         ],
         "y": [
          68.77209565781654,
          69.4154183637147
         ]
        },
        {
         "hoverinfo": "skip",
         "line": {
          "color": "lightblue",
          "width": 1
         },
         "mode": "lines",
         "showlegend": false,
         "type": "scatter",
         "x": [
          47.511285677794014,
          48.378347877265455
         ],
         "y": [
          69.4154183637147,
          69.91361826560926
         ]
        },
        {
         "hoverinfo": "skip",
         "line": {
          "color": "lightblue",
          "width": 1
         },
         "mode": "lines",
         "showlegend": false,
         "type": "scatter",
         "x": [
          24.638293993939584,
          25.116545592385428
         ],
         "y": [
          34.50652542615553,
          33.628302556615004
         ]
        },
        {
         "hoverinfo": "skip",
         "line": {
          "color": "lightblue",
          "width": 1
         },
         "mode": "lines",
         "showlegend": false,
         "type": "scatter",
         "x": [
          60.93465471816492,
          61.90798374940013
         ],
         "y": [
          30.776349785732947,
          30.54693619207571
         ]
        },
        {
         "hoverinfo": "skip",
         "line": {
          "color": "lightblue",
          "width": 1
         },
         "mode": "lines",
         "showlegend": false,
         "type": "scatter",
         "x": [
          15.791907220648895,
          15.644189276284049
         ],
         "y": [
          42.46997203044567,
          43.459001559283216
         ]
        },
        {
         "hoverinfo": "skip",
         "line": {
          "color": "lightblue",
          "width": 1
         },
         "mode": "lines",
         "showlegend": false,
         "type": "scatter",
         "x": [
          40.1148678733167,
          39.306663921788264
         ],
         "y": [
          65.23658578425989,
          65.82548846954315
         ]
        },
        {
         "hoverinfo": "skip",
         "line": {
          "color": "lightblue",
          "width": 1
         },
         "mode": "lines",
         "showlegend": false,
         "type": "scatter",
         "x": [
          39.306663921788264,
          38.707082261128285
         ],
         "y": [
          65.82548846954315,
          66.62580205320909
         ]
        },
        {
         "hoverinfo": "skip",
         "line": {
          "color": "lightblue",
          "width": 1
         },
         "mode": "lines",
         "showlegend": false,
         "type": "scatter",
         "x": [
          38.707082261128285,
          37.8198380157739
         ],
         "y": [
          66.62580205320909,
          66.16450209755602
         ]
        },
        {
         "hoverinfo": "skip",
         "line": {
          "color": "lightblue",
          "width": 1
         },
         "mode": "lines",
         "showlegend": false,
         "type": "scatter",
         "x": [
          7.566820860558099,
          7.162767972265379
         ],
         "y": [
          11.184673928421061,
          12.09940955332167
         ]
        },
        {
         "hoverinfo": "skip",
         "line": {
          "color": "lightblue",
          "width": 1
         },
         "mode": "lines",
         "showlegend": false,
         "type": "scatter",
         "x": [
          18.047637184847982,
          18.877175528376245
         ],
         "y": [
          40.72655979757267,
          41.28500955951763
         ]
        },
        {
         "hoverinfo": "skip",
         "line": {
          "color": "lightblue",
          "width": 1
         },
         "mode": "lines",
         "showlegend": false,
         "type": "scatter",
         "x": [
          15.644189276284049,
          15.560055370596737
         ],
         "y": [
          43.459001559283216,
          44.45545601680438
         ]
        },
        {
         "hoverinfo": "skip",
         "line": {
          "color": "lightblue",
          "width": 1
         },
         "mode": "lines",
         "showlegend": false,
         "type": "scatter",
         "x": [
          37.8198380157739,
          36.84716901192514
         ],
         "y": [
          66.16450209755602,
          66.39669815469709
         ]
        },
        {
         "hoverinfo": "skip",
         "line": {
          "color": "lightblue",
          "width": 1
         },
         "mode": "lines",
         "showlegend": false,
         "type": "scatter",
         "x": [
          36.84716901192514,
          36.00151720434775
         ],
         "y": [
          66.39669815469709,
          66.93043312670201
         ]
        },
        {
         "hoverinfo": "skip",
         "line": {
          "color": "lightblue",
          "width": 1
         },
         "mode": "lines",
         "showlegend": false,
         "type": "scatter",
         "x": [
          61.90798374940013,
          62.532680661391346
         ],
         "y": [
          30.54693619207571,
          31.327803509965655
         ]
        },
        {
         "hoverinfo": "skip",
         "line": {
          "color": "lightblue",
          "width": 1
         },
         "mode": "lines",
         "showlegend": false,
         "type": "scatter",
         "x": [
          62.532680661391346,
          63.41031271137196
         ],
         "y": [
          31.327803509965655,
          31.807138450113797
         ]
        },
        {
         "hoverinfo": "skip",
         "line": {
          "color": "lightblue",
          "width": 1
         },
         "mode": "lines",
         "showlegend": false,
         "type": "scatter",
         "x": [
          15.560055370596737,
          14.599416101750329
         ],
         "y": [
          44.45545601680438,
          44.73325485616524
         ]
        },
        {
         "hoverinfo": "skip",
         "line": {
          "color": "lightblue",
          "width": 1
         },
         "mode": "lines",
         "showlegend": false,
         "type": "scatter",
         "x": [
          36.00151720434775,
          35.00626126615093
         ],
         "y": [
          66.93043312670201,
          66.83314172171697
         ]
        },
        {
         "hoverinfo": "skip",
         "line": {
          "color": "lightblue",
          "width": 1
         },
         "mode": "lines",
         "showlegend": false,
         "type": "scatter",
         "x": [
          10.876905886599825,
          9.949129094880291
         ],
         "y": [
          13.229328013061265,
          12.856192347724102
         ]
        },
        {
         "hoverinfo": "skip",
         "line": {
          "color": "lightblue",
          "width": 1
         },
         "mode": "lines",
         "showlegend": false,
         "type": "scatter",
         "x": [
          40.1148678733167,
          40.56546670185761
         ],
         "y": [
          65.23658578425989,
          66.12931233574
         ]
        },
        {
         "hoverinfo": "skip",
         "line": {
          "color": "lightblue",
          "width": 1
         },
         "mode": "lines",
         "showlegend": false,
         "type": "scatter",
         "x": [
          22.801861283689114,
          22.503391123724192
         ],
         "y": [
          32.26545662205613,
          32.55821943908679
         ]
        },
        {
         "hoverinfo": "skip",
         "line": {
          "color": "lightblue",
          "width": 1
         },
         "mode": "lines",
         "showlegend": false,
         "type": "scatter",
         "x": [
          23.034669625402124,
          24.02359441957592
         ],
         "y": [
          9.863179332907302,
          10.011596823346634
         ]
        },
        {
         "hoverinfo": "skip",
         "line": {
          "color": "lightblue",
          "width": 1
         },
         "mode": "lines",
         "showlegend": false,
         "type": "scatter",
         "x": [
          48.89813547975046,
          49.49751374436438
         ],
         "y": [
          37.16362135280246,
          37.964087277066824
         ]
        },
        {
         "hoverinfo": "skip",
         "line": {
          "color": "lightblue",
          "width": 1
         },
         "mode": "lines",
         "showlegend": false,
         "type": "scatter",
         "x": [
          63.41031271137196,
          64.31140528469847
         ],
         "y": [
          31.807138450113797,
          31.373511681687535
         ]
        },
        {
         "hoverinfo": "skip",
         "line": {
          "color": "lightblue",
          "width": 1
         },
         "mode": "lines",
         "showlegend": false,
         "type": "scatter",
         "x": [
          46.776757873855544,
          47.7749515545396
         ],
         "y": [
          49.450338456823204,
          49.39026037560862
         ]
        },
        {
         "hoverinfo": "skip",
         "line": {
          "color": "lightblue",
          "width": 1
         },
         "mode": "lines",
         "showlegend": false,
         "type": "scatter",
         "x": [
          48.378347877265455,
          49.36113324675573
         ],
         "y": [
          69.91361826560926,
          69.72886730481103
         ]
        },
        {
         "hoverinfo": "skip",
         "line": {
          "color": "lightblue",
          "width": 1
         },
         "mode": "lines",
         "showlegend": false,
         "type": "scatter",
         "x": [
          63.41031271137196,
          63.55954374436695
         ],
         "y": [
          31.807138450113797,
          32.795940805891355
         ]
        },
        {
         "hoverinfo": "skip",
         "line": {
          "color": "lightblue",
          "width": 1
         },
         "mode": "lines",
         "showlegend": false,
         "type": "scatter",
         "x": [
          64.31140528469847,
          65.27624815016544
         ],
         "y": [
          31.373511681687535,
          31.11068427642415
         ]
        },
        {
         "hoverinfo": "skip",
         "line": {
          "color": "lightblue",
          "width": 1
         },
         "mode": "lines",
         "showlegend": false,
         "type": "scatter",
         "x": [
          14.599416101750329,
          13.82045314096621
         ],
         "y": [
          44.73325485616524,
          45.360324793035474
         ]
        },
        {
         "hoverinfo": "skip",
         "line": {
          "color": "lightblue",
          "width": 1
         },
         "mode": "lines",
         "showlegend": false,
         "type": "scatter",
         "x": [
          65.27624815016544,
          65.97770673122818
         ],
         "y": [
          31.11068427642415,
          31.823394497378953
         ]
        },
        {
         "hoverinfo": "skip",
         "line": {
          "color": "lightblue",
          "width": 1
         },
         "mode": "lines",
         "showlegend": false,
         "type": "scatter",
         "x": [
          65.97770673122818,
          66.80087325428016
         ],
         "y": [
          31.823394497378953,
          32.39119452848718
         ]
        },
        {
         "hoverinfo": "skip",
         "line": {
          "color": "lightblue",
          "width": 1
         },
         "mode": "lines",
         "showlegend": false,
         "type": "scatter",
         "x": [
          66.80087325428016,
          67.7985322088089
         ],
         "y": [
          32.39119452848718,
          32.32280878107855
         ]
        },
        {
         "hoverinfo": "skip",
         "line": {
          "color": "lightblue",
          "width": 1
         },
         "mode": "lines",
         "showlegend": false,
         "type": "scatter",
         "x": [
          35.00626126615093,
          34.38158697586264
         ],
         "y": [
          66.83314172171697,
          67.61402713652046
         ]
        },
        {
         "hoverinfo": "skip",
         "line": {
          "color": "lightblue",
          "width": 1
         },
         "mode": "lines",
         "showlegend": false,
         "type": "scatter",
         "x": [
          49.49751374436438,
          49.31365310711156
         ],
         "y": [
          37.964087277066824,
          38.94703959842783
         ]
        },
        {
         "hoverinfo": "skip",
         "line": {
          "color": "lightblue",
          "width": 1
         },
         "mode": "lines",
         "showlegend": false,
         "type": "scatter",
         "x": [
          67.7985322088089,
          68.67686299807201
         ],
         "y": [
          32.32280878107855,
          32.80086215114556
         ]
        },
        {
         "hoverinfo": "skip",
         "line": {
          "color": "lightblue",
          "width": 1
         },
         "mode": "lines",
         "showlegend": false,
         "type": "scatter",
         "x": [
          34.38158697586264,
          33.38210104705414
         ],
         "y": [
          67.61402713652046,
          67.64608767478501
         ]
        },
        {
         "hoverinfo": "skip",
         "line": {
          "color": "lightblue",
          "width": 1
         },
         "mode": "lines",
         "showlegend": false,
         "type": "scatter",
         "x": [
          20.389562055576235,
          20.17218425322348
         ],
         "y": [
          11.183096921784951,
          10.766786471175415
         ]
        },
        {
         "hoverinfo": "skip",
         "line": {
          "color": "lightblue",
          "width": 1
         },
         "mode": "lines",
         "showlegend": false,
         "type": "scatter",
         "x": [
          68.67686299807201,
          69.62404927504826
         ],
         "y": [
          32.80086215114556,
          32.48017826207744
         ]
        },
        {
         "hoverinfo": "skip",
         "line": {
          "color": "lightblue",
          "width": 1
         },
         "mode": "lines",
         "showlegend": false,
         "type": "scatter",
         "x": [
          69.62404927504826,
          70.26046055920114
         ],
         "y": [
          32.48017826207744,
          31.708828356131445
         ]
        },
        {
         "hoverinfo": "skip",
         "line": {
          "color": "lightblue",
          "width": 1
         },
         "mode": "lines",
         "showlegend": false,
         "type": "scatter",
         "x": [
          27.347720027732876,
          26.35001692030537
         ],
         "y": [
          38.104077685145434,
          38.17181622240083
         ]
        },
        {
         "hoverinfo": "skip",
         "line": {
          "color": "lightblue",
          "width": 1
         },
         "mode": "lines",
         "showlegend": false,
         "type": "scatter",
         "x": [
          13.82045314096621,
          13.5810120493854
         ],
         "y": [
          45.360324793035474,
          46.331235686816456
         ]
        },
        {
         "hoverinfo": "skip",
         "line": {
          "color": "lightblue",
          "width": 1
         },
         "mode": "lines",
         "showlegend": false,
         "type": "scatter",
         "x": [
          26.22141121204977,
          25.70685252217946
         ],
         "y": [
          35.65627271826201,
          36.51372788016784
         ]
        },
        {
         "hoverinfo": "skip",
         "line": {
          "color": "lightblue",
          "width": 1
         },
         "mode": "lines",
         "showlegend": false,
         "type": "scatter",
         "x": [
          70.26046055920114,
          71.1270952539715
         ],
         "y": [
          31.708828356131445,
          32.20777154510216
         ]
        },
        {
         "hoverinfo": "skip",
         "line": {
          "color": "lightblue",
          "width": 1
         },
         "mode": "lines",
         "showlegend": false,
         "type": "scatter",
         "x": [
          45.25241537242342,
          44.289191958771724
         ],
         "y": [
          52.79792346635588,
          53.06662526276442
         ]
        },
        {
         "hoverinfo": "skip",
         "line": {
          "color": "lightblue",
          "width": 1
         },
         "mode": "lines",
         "showlegend": false,
         "type": "scatter",
         "x": [
          33.38210104705414,
          32.824732656857954
         ],
         "y": [
          67.64608767478501,
          68.47635298034108
         ]
        },
        {
         "hoverinfo": "skip",
         "line": {
          "color": "lightblue",
          "width": 1
         },
         "mode": "lines",
         "showlegend": false,
         "type": "scatter",
         "x": [
          32.824732656857954,
          31.986620410134975
         ],
         "y": [
          68.47635298034108,
          67.93085516926118
         ]
        },
        {
         "hoverinfo": "skip",
         "line": {
          "color": "lightblue",
          "width": 1
         },
         "mode": "lines",
         "showlegend": false,
         "type": "scatter",
         "x": [
          31.986620410134975,
          31.434598792997352
         ],
         "y": [
          67.93085516926118,
          68.76468496856843
         ]
        },
        {
         "hoverinfo": "skip",
         "line": {
          "color": "lightblue",
          "width": 1
         },
         "mode": "lines",
         "showlegend": false,
         "type": "scatter",
         "x": [
          31.986620410134975,
          31.256926976481488
         ],
         "y": [
          67.93085516926118,
          67.24708072334865
         ]
        },
        {
         "hoverinfo": "skip",
         "line": {
          "color": "lightblue",
          "width": 1
         },
         "mode": "lines",
         "showlegend": false,
         "type": "scatter",
         "x": [
          31.434598792997352,
          30.591130363208787
         ],
         "y": [
          68.76468496856843,
          69.3018637171708
         ]
        },
        {
         "hoverinfo": "skip",
         "line": {
          "color": "lightblue",
          "width": 1
         },
         "mode": "lines",
         "showlegend": false,
         "type": "scatter",
         "x": [
          31.533386138585257,
          32.01432236642542
         ],
         "y": [
          34.4559015774551,
          33.57914599877261
         ]
        },
        {
         "hoverinfo": "skip",
         "line": {
          "color": "lightblue",
          "width": 1
         },
         "mode": "lines",
         "showlegend": false,
         "type": "scatter",
         "x": [
          71.1270952539715,
          71.95345942125206
         ],
         "y": [
          32.20777154510216,
          32.770907641472036
         ]
        },
        {
         "hoverinfo": "skip",
         "line": {
          "color": "lightblue",
          "width": 1
         },
         "mode": "lines",
         "showlegend": false,
         "type": "scatter",
         "x": [
          24.02359441957592,
          23.75382828107491
         ],
         "y": [
          10.011596823346634,
          10.97452269303664
         ]
        },
        {
         "hoverinfo": "skip",
         "line": {
          "color": "lightblue",
          "width": 1
         },
         "mode": "lines",
         "showlegend": false,
         "type": "scatter",
         "x": [
          30.591130363208787,
          29.61465010444689
         ],
         "y": [
          69.3018637171708,
          69.51747054509677
         ]
        },
        {
         "hoverinfo": "skip",
         "line": {
          "color": "lightblue",
          "width": 1
         },
         "mode": "lines",
         "showlegend": false,
         "type": "scatter",
         "x": [
          29.61465010444689,
          28.72734760733158
         ],
         "y": [
          69.51747054509677,
          69.97865844456177
         ]
        },
        {
         "hoverinfo": "skip",
         "line": {
          "color": "lightblue",
          "width": 1
         },
         "mode": "lines",
         "showlegend": false,
         "type": "scatter",
         "x": [
          71.95345942125206,
          72.87705590215768
         ],
         "y": [
          32.770907641472036,
          32.38754157560449
         ]
        },
        {
         "hoverinfo": "skip",
         "line": {
          "color": "lightblue",
          "width": 1
         },
         "mode": "lines",
         "showlegend": false,
         "type": "scatter",
         "x": [
          28.72734760733158,
          28.063801898688673
         ],
         "y": [
          69.97865844456177,
          70.72679418929103
         ]
        },
        {
         "hoverinfo": "skip",
         "line": {
          "color": "lightblue",
          "width": 1
         },
         "mode": "lines",
         "showlegend": false,
         "type": "scatter",
         "x": [
          49.36113324675573,
          50.344081567070994
         ],
         "y": [
          69.72886730481103,
          69.91274933109257
         ]
        },
        {
         "hoverinfo": "skip",
         "line": {
          "color": "lightblue",
          "width": 1
         },
         "mode": "lines",
         "showlegend": false,
         "type": "scatter",
         "x": [
          72.87705590215768,
          73.78143366199495
         ],
         "y": [
          32.38754157560449,
          32.81427435793051
         ]
        },
        {
         "hoverinfo": "skip",
         "line": {
          "color": "lightblue",
          "width": 1
         },
         "mode": "lines",
         "showlegend": false,
         "type": "scatter",
         "x": [
          15.560055370596737,
          16.197396484221322
         ],
         "y": [
          44.45545601680438,
          45.22603781316592
         ]
        },
        {
         "hoverinfo": "skip",
         "line": {
          "color": "lightblue",
          "width": 1
         },
         "mode": "lines",
         "showlegend": false,
         "type": "scatter",
         "x": [
          3.3668879975181545,
          4.125011561079455
         ],
         "y": [
          3.4358990040564237,
          2.7837880760900884
         ]
        },
        {
         "hoverinfo": "skip",
         "line": {
          "color": "lightblue",
          "width": 1
         },
         "mode": "lines",
         "showlegend": false,
         "type": "scatter",
         "x": [
          50.344081567070994,
          51.23528315462832
         ],
         "y": [
          69.91274933109257,
          69.45914186826232
         ]
        },
        {
         "hoverinfo": "skip",
         "line": {
          "color": "lightblue",
          "width": 1
         },
         "mode": "lines",
         "showlegend": false,
         "type": "scatter",
         "x": [
          51.23528315462832,
          52.21581147888436
         ],
         "y": [
          69.45914186826232,
          69.6555195791453
         ]
        },
        {
         "hoverinfo": "skip",
         "line": {
          "color": "lightblue",
          "width": 1
         },
         "mode": "lines",
         "showlegend": false,
         "type": "scatter",
         "x": [
          20.17218425322348,
          19.79414297669945
         ],
         "y": [
          10.766786471175415,
          9.840997730023265
         ]
        },
        {
         "hoverinfo": "skip",
         "line": {
          "color": "lightblue",
          "width": 1
         },
         "mode": "lines",
         "showlegend": false,
         "type": "scatter",
         "x": [
          73.78143366199495,
          74.50871405473639
         ],
         "y": [
          32.81427435793051,
          32.12793389552583
         ]
        },
        {
         "hoverinfo": "skip",
         "line": {
          "color": "lightblue",
          "width": 1
         },
         "mode": "lines",
         "showlegend": false,
         "type": "scatter",
         "x": [
          65.27624815016544,
          65.85324582194957
         ],
         "y": [
          31.11068427642415,
          30.293938485644855
         ]
        },
        {
         "hoverinfo": "skip",
         "line": {
          "color": "lightblue",
          "width": 1
         },
         "mode": "lines",
         "showlegend": false,
         "type": "scatter",
         "x": [
          74.50871405473639,
          75.14485818359087
         ],
         "y": [
          32.12793389552583,
          32.89950414334775
         ]
        },
        {
         "hoverinfo": "skip",
         "line": {
          "color": "lightblue",
          "width": 1
         },
         "mode": "lines",
         "showlegend": false,
         "type": "scatter",
         "x": [
          75.14485818359087,
          75.5895238205457
         ],
         "y": [
          32.89950414334775,
          33.79520078357342
         ]
        },
        {
         "hoverinfo": "skip",
         "line": {
          "color": "lightblue",
          "width": 1
         },
         "mode": "lines",
         "showlegend": false,
         "type": "scatter",
         "x": [
          75.5895238205457,
          75.99749123076147
         ],
         "y": [
          33.79520078357342,
          34.708197274367244
         ]
        },
        {
         "hoverinfo": "skip",
         "line": {
          "color": "lightblue",
          "width": 1
         },
         "mode": "lines",
         "showlegend": false,
         "type": "scatter",
         "x": [
          19.961247836565775,
          20.291095734760685
         ],
         "y": [
          12.086726785055008,
          13.030760875571024
         ]
        },
        {
         "hoverinfo": "skip",
         "line": {
          "color": "lightblue",
          "width": 1
         },
         "mode": "lines",
         "showlegend": false,
         "type": "scatter",
         "x": [
          47.7749515545396,
          48.77487172972379
         ],
         "y": [
          49.39026037560862,
          49.402895376978485
         ]
        },
        {
         "hoverinfo": "skip",
         "line": {
          "color": "lightblue",
          "width": 1
         },
         "mode": "lines",
         "showlegend": false,
         "type": "scatter",
         "x": [
          28.063801898688673,
          28.17631748742
         ],
         "y": [
          70.72679418929103,
          71.72044414893097
         ]
        },
        {
         "hoverinfo": "skip",
         "line": {
          "color": "lightblue",
          "width": 1
         },
         "mode": "lines",
         "showlegend": false,
         "type": "scatter",
         "x": [
          13.82045314096621,
          13.3205048682119
         ],
         "y": [
          45.360324793035474,
          44.4942695265715
         ]
        },
        {
         "hoverinfo": "skip",
         "line": {
          "color": "lightblue",
          "width": 1
         },
         "mode": "lines",
         "showlegend": false,
         "type": "scatter",
         "x": [
          65.85324582194957,
          65.85908181111556
         ],
         "y": [
          30.293938485644855,
          29.29395551517463
         ]
        },
        {
         "hoverinfo": "skip",
         "line": {
          "color": "lightblue",
          "width": 1
         },
         "mode": "lines",
         "showlegend": false,
         "type": "scatter",
         "x": [
          52.04405971176913,
          51.26272515950247
         ],
         "y": [
          30.613643734134854,
          30.07493193785399
         ]
        },
        {
         "hoverinfo": "skip",
         "line": {
          "color": "lightblue",
          "width": 1
         },
         "mode": "lines",
         "showlegend": false,
         "type": "scatter",
         "x": [
          31.256926976481488,
          30.622890280390703
         ],
         "y": [
          67.24708072334865,
          66.47377776330627
         ]
        },
        {
         "hoverinfo": "skip",
         "line": {
          "color": "lightblue",
          "width": 1
         },
         "mode": "lines",
         "showlegend": false,
         "type": "scatter",
         "x": [
          75.99749123076147,
          76.9611288942168
         ],
         "y": [
          34.708197274367244,
          34.97540964977369
         ]
        },
        {
         "hoverinfo": "skip",
         "line": {
          "color": "lightblue",
          "width": 1
         },
         "mode": "lines",
         "showlegend": false,
         "type": "scatter",
         "x": [
          24.02359441957592,
          24.783272593990354
         ],
         "y": [
          10.011596823346634,
          9.361297606586874
         ]
        },
        {
         "hoverinfo": "skip",
         "line": {
          "color": "lightblue",
          "width": 1
         },
         "mode": "lines",
         "showlegend": false,
         "type": "scatter",
         "x": [
          52.21581147888436,
          53.21222069773124
         ],
         "y": [
          69.6555195791453,
          69.74018756953696
         ]
        },
        {
         "hoverinfo": "skip",
         "line": {
          "color": "lightblue",
          "width": 1
         },
         "mode": "lines",
         "showlegend": false,
         "type": "scatter",
         "x": [
          53.21222069773124,
          54.155451259334605
         ],
         "y": [
          69.74018756953696,
          69.40804888215261
         ]
        },
        {
         "hoverinfo": "skip",
         "line": {
          "color": "lightblue",
          "width": 1
         },
         "mode": "lines",
         "showlegend": false,
         "type": "scatter",
         "x": [
          65.85908181111556,
          66.04313456379357
         ],
         "y": [
          29.29395551517463,
          28.311039148319523
         ]
        },
        {
         "hoverinfo": "skip",
         "line": {
          "color": "lightblue",
          "width": 1
         },
         "mode": "lines",
         "showlegend": false,
         "type": "scatter",
         "x": [
          54.155451259334605,
          55.10516575519391
         ],
         "y": [
          69.40804888215261,
          69.72116607483724
         ]
        },
        {
         "hoverinfo": "skip",
         "line": {
          "color": "lightblue",
          "width": 1
         },
         "mode": "lines",
         "showlegend": false,
         "type": "scatter",
         "x": [
          66.04313456379357,
          66.27979148790297
         ],
         "y": [
          28.311039148319523,
          27.33944586907605
         ]
        },
        {
         "hoverinfo": "skip",
         "line": {
          "color": "lightblue",
          "width": 1
         },
         "mode": "lines",
         "showlegend": false,
         "type": "scatter",
         "x": [
          24.783272593990354,
          24.37706084869482
         ],
         "y": [
          9.361297606586874,
          8.447518630037317
         ]
        },
        {
         "hoverinfo": "skip",
         "line": {
          "color": "lightblue",
          "width": 1
         },
         "mode": "lines",
         "showlegend": false,
         "type": "scatter",
         "x": [
          76.9611288942168,
          77.27938575927958
         ],
         "y": [
          34.97540964977369,
          35.923414168666085
         ]
        },
        {
         "hoverinfo": "skip",
         "line": {
          "color": "lightblue",
          "width": 1
         },
         "mode": "lines",
         "showlegend": false,
         "type": "scatter",
         "x": [
          48.77487172972379,
          49.7730836163255
         ],
         "y": [
          49.402895376978485,
          49.46267019983108
         ]
        },
        {
         "hoverinfo": "skip",
         "line": {
          "color": "lightblue",
          "width": 1
         },
         "mode": "lines",
         "showlegend": false,
         "type": "scatter",
         "x": [
          76.9611288942168,
          77.68322582667756
         ],
         "y": [
          34.97540964977369,
          34.283617759006844
         ]
        },
        {
         "hoverinfo": "skip",
         "line": {
          "color": "lightblue",
          "width": 1
         },
         "mode": "lines",
         "showlegend": false,
         "type": "scatter",
         "x": [
          55.10516575519391,
          55.993633918540695
         ],
         "y": [
          69.72116607483724,
          69.26222781894742
         ]
        },
        {
         "hoverinfo": "skip",
         "line": {
          "color": "lightblue",
          "width": 1
         },
         "mode": "lines",
         "showlegend": false,
         "type": "scatter",
         "x": [
          77.27938575927958,
          77.7598301875252
         ],
         "y": [
          35.923414168666085,
          36.80043934012226
         ]
        },
        {
         "hoverinfo": "skip",
         "line": {
          "color": "lightblue",
          "width": 1
         },
         "mode": "lines",
         "showlegend": false,
         "type": "scatter",
         "x": [
          28.405962113191265,
          27.972671706598675
         ],
         "y": [
          41.62894885220395,
          42.53020321338886
         ]
        },
        {
         "hoverinfo": "skip",
         "line": {
          "color": "lightblue",
          "width": 1
         },
         "mode": "lines",
         "showlegend": false,
         "type": "scatter",
         "x": [
          55.993633918540695,
          56.942414565125006
         ],
         "y": [
          69.26222781894742,
          69.57816338938395
         ]
        },
        {
         "hoverinfo": "skip",
         "line": {
          "color": "lightblue",
          "width": 1
         },
         "mode": "lines",
         "showlegend": false,
         "type": "scatter",
         "x": [
          5.308892131723407,
          6.267362149323483
         ],
         "y": [
          5.274501338504249,
          4.989308026237449
         ]
        },
        {
         "hoverinfo": "skip",
         "line": {
          "color": "lightblue",
          "width": 1
         },
         "mode": "lines",
         "showlegend": false,
         "type": "scatter",
         "x": [
          77.7598301875252,
          77.0194484569716
         ],
         "y": [
          36.80043934012226,
          37.47262599058659
         ]
        },
        {
         "hoverinfo": "skip",
         "line": {
          "color": "lightblue",
          "width": 1
         },
         "mode": "lines",
         "showlegend": false,
         "type": "scatter",
         "x": [
          30.622890280390703,
          30.35122848706236
         ],
         "y": [
          66.47377776330627,
          65.5113849796438
         ]
        },
        {
         "hoverinfo": "skip",
         "line": {
          "color": "lightblue",
          "width": 1
         },
         "mode": "lines",
         "showlegend": false,
         "type": "scatter",
         "x": [
          66.27979148790297,
          66.96774558520623
         ],
         "y": [
          27.33944586907605,
          26.61369166825896
         ]
        },
        {
         "hoverinfo": "skip",
         "line": {
          "color": "lightblue",
          "width": 1
         },
         "mode": "lines",
         "showlegend": false,
         "type": "scatter",
         "x": [
          54.155451259334605,
          54.13865739670976
         ],
         "y": [
          69.40804888215261,
          68.40818990900783
         ]
        },
        {
         "hoverinfo": "skip",
         "line": {
          "color": "lightblue",
          "width": 1
         },
         "mode": "lines",
         "showlegend": false,
         "type": "scatter",
         "x": [
          66.96774558520623,
          66.77783057708308
         ],
         "y": [
          26.61369166825896,
          25.631891133685066
         ]
        },
        {
         "hoverinfo": "skip",
         "line": {
          "color": "lightblue",
          "width": 1
         },
         "mode": "lines",
         "showlegend": false,
         "type": "scatter",
         "x": [
          71.95345942125206,
          71.86221143752933
         ],
         "y": [
          32.770907641472036,
          33.76673584225093
         ]
        },
        {
         "hoverinfo": "skip",
         "line": {
          "color": "lightblue",
          "width": 1
         },
         "mode": "lines",
         "showlegend": false,
         "type": "scatter",
         "x": [
          77.0194484569716,
          76.52545464559662
         ],
         "y": [
          37.47262599058659,
          38.34209140929122
         ]
        },
        {
         "hoverinfo": "skip",
         "line": {
          "color": "lightblue",
          "width": 1
         },
         "mode": "lines",
         "showlegend": false,
         "type": "scatter",
         "x": [
          66.77783057708308,
          67.75707100109364
         ],
         "y": [
          25.631891133685066,
          25.429188908774655
         ]
        },
        {
         "hoverinfo": "skip",
         "line": {
          "color": "lightblue",
          "width": 1
         },
         "mode": "lines",
         "showlegend": false,
         "type": "scatter",
         "x": [
          77.7598301875252,
          78.71970965071505
         ],
         "y": [
          36.80043934012226,
          37.080852278743805
         ]
        },
        {
         "hoverinfo": "skip",
         "line": {
          "color": "lightblue",
          "width": 1
         },
         "mode": "lines",
         "showlegend": false,
         "type": "scatter",
         "x": [
          19.062945131334246,
          18.49472579482473
         ],
         "y": [
          31.585271066117908,
          32.408148204952546
         ]
        },
        {
         "hoverinfo": "skip",
         "line": {
          "color": "lightblue",
          "width": 1
         },
         "mode": "lines",
         "showlegend": false,
         "type": "scatter",
         "x": [
          7.162767972265379,
          6.760103544493969
         ],
         "y": [
          12.09940955332167,
          13.014757224213733
         ]
        },
        {
         "hoverinfo": "skip",
         "line": {
          "color": "lightblue",
          "width": 1
         },
         "mode": "lines",
         "showlegend": false,
         "type": "scatter",
         "x": [
          9.949129094880291,
          9.016540743369593
         ],
         "y": [
          12.856192347724102,
          13.217134125060223
         ]
        },
        {
         "hoverinfo": "skip",
         "line": {
          "color": "lightblue",
          "width": 1
         },
         "mode": "lines",
         "showlegend": false,
         "type": "scatter",
         "x": [
          67.75707100109364,
          67.73079724400262
         ],
         "y": [
          25.429188908774655,
          24.429534123517104
         ]
        },
        {
         "hoverinfo": "skip",
         "line": {
          "color": "lightblue",
          "width": 1
         },
         "mode": "lines",
         "showlegend": false,
         "type": "scatter",
         "x": [
          13.5810120493854,
          13.054419188629891
         ],
         "y": [
          46.331235686816456,
          47.181353301621215
         ]
        },
        {
         "hoverinfo": "skip",
         "line": {
          "color": "lightblue",
          "width": 1
         },
         "mode": "lines",
         "showlegend": false,
         "type": "scatter",
         "x": [
          67.73079724400262,
          67.94080273666495
         ],
         "y": [
          24.429534123517104,
          23.451833917394772
         ]
        },
        {
         "hoverinfo": "skip",
         "line": {
          "color": "lightblue",
          "width": 1
         },
         "mode": "lines",
         "showlegend": false,
         "type": "scatter",
         "x": [
          67.94080273666495,
          68.9399966896812
         ],
         "y": [
          23.451833917394772,
          23.491976715700073
         ]
        },
        {
         "hoverinfo": "skip",
         "line": {
          "color": "lightblue",
          "width": 1
         },
         "mode": "lines",
         "showlegend": false,
         "type": "scatter",
         "x": [
          30.35122848706236,
          30.028425693185877
         ],
         "y": [
          65.5113849796438,
          64.56491873287874
         ]
        },
        {
         "hoverinfo": "skip",
         "line": {
          "color": "lightblue",
          "width": 1
         },
         "mode": "lines",
         "showlegend": false,
         "type": "scatter",
         "x": [
          18.42951385781017,
          17.639047411577902
         ],
         "y": [
          39.80234650690469,
          39.18984116212725
         ]
        },
        {
         "hoverinfo": "skip",
         "line": {
          "color": "lightblue",
          "width": 1
         },
         "mode": "lines",
         "showlegend": false,
         "type": "scatter",
         "x": [
          68.9399966896812,
          69.72081371503464
         ],
         "y": [
          23.491976715700073,
          22.86721694353304
         ]
        },
        {
         "hoverinfo": "skip",
         "line": {
          "color": "lightblue",
          "width": 1
         },
         "mode": "lines",
         "showlegend": false,
         "type": "scatter",
         "x": [
          13.82045314096621,
          14.029318528904543
         ],
         "y": [
          45.360324793035474,
          45.36641413561489
         ]
        },
        {
         "hoverinfo": "skip",
         "line": {
          "color": "lightblue",
          "width": 1
         },
         "mode": "lines",
         "showlegend": false,
         "type": "scatter",
         "x": [
          28.17631748742,
          28.56803171535454
         ],
         "y": [
          71.72044414893097,
          72.64053108158116
         ]
        },
        {
         "hoverinfo": "skip",
         "line": {
          "color": "lightblue",
          "width": 1
         },
         "mode": "lines",
         "showlegend": false,
         "type": "scatter",
         "x": [
          28.56803171535454,
          28.7853330320535
         ],
         "y": [
          72.64053108158116,
          73.61663565474989
         ]
        },
        {
         "hoverinfo": "skip",
         "line": {
          "color": "lightblue",
          "width": 1
         },
         "mode": "lines",
         "showlegend": false,
         "type": "scatter",
         "x": [
          51.23528315462832,
          50.97099008385852
         ],
         "y": [
          69.45914186826232,
          68.49469945279986
         ]
        },
        {
         "hoverinfo": "skip",
         "line": {
          "color": "lightblue",
          "width": 1
         },
         "mode": "lines",
         "showlegend": false,
         "type": "scatter",
         "x": [
          67.94080273666495,
          67.27639235421424
         ],
         "y": [
          23.451833917394772,
          22.704465973412887
         ]
        },
        {
         "hoverinfo": "skip",
         "line": {
          "color": "lightblue",
          "width": 1
         },
         "mode": "lines",
         "showlegend": false,
         "type": "scatter",
         "x": [
          13.678823364690718,
          12.933143521671239
         ],
         "y": [
          21.22759079314584,
          21.893895206844597
         ]
        },
        {
         "hoverinfo": "skip",
         "line": {
          "color": "lightblue",
          "width": 1
         },
         "mode": "lines",
         "showlegend": false,
         "type": "scatter",
         "x": [
          65.85908181111556,
          66.85132571113476
         ],
         "y": [
          29.29395551517463,
          29.16964926885261
         ]
        },
        {
         "hoverinfo": "skip",
         "line": {
          "color": "lightblue",
          "width": 1
         },
         "mode": "lines",
         "showlegend": false,
         "type": "scatter",
         "x": [
          69.72081371503464,
          70.49097413305907
         ],
         "y": [
          22.86721694353304,
          22.2293667020904
         ]
        },
        {
         "hoverinfo": "skip",
         "line": {
          "color": "lightblue",
          "width": 1
         },
         "mode": "lines",
         "showlegend": false,
         "type": "scatter",
         "x": [
          24.37706084869482,
          25.200295462895667
         ],
         "y": [
          8.447518630037317,
          7.87981732654966
         ]
        },
        {
         "hoverinfo": "skip",
         "line": {
          "color": "lightblue",
          "width": 1
         },
         "mode": "lines",
         "showlegend": false,
         "type": "scatter",
         "x": [
          70.49097413305907,
          71.47290946778315
         ],
         "y": [
          22.2293667020904,
          22.04014989940023
         ]
        },
        {
         "hoverinfo": "skip",
         "line": {
          "color": "lightblue",
          "width": 1
         },
         "mode": "lines",
         "showlegend": false,
         "type": "scatter",
         "x": [
          28.7853330320535,
          28.771938521161296
         ],
         "y": [
          73.61663565474989,
          74.61654594426489
         ]
        },
        {
         "hoverinfo": "skip",
         "line": {
          "color": "lightblue",
          "width": 1
         },
         "mode": "lines",
         "showlegend": false,
         "type": "scatter",
         "x": [
          49.7730836163255,
          50.61918429413315
         ],
         "y": [
          49.46267019983108,
          49.99569331660317
         ]
        },
        {
         "hoverinfo": "skip",
         "line": {
          "color": "lightblue",
          "width": 1
         },
         "mode": "lines",
         "showlegend": false,
         "type": "scatter",
         "x": [
          76.52545464559662,
          76.86733997641697
         ],
         "y": [
          38.34209140929122,
          39.28183308686536
         ]
        },
        {
         "hoverinfo": "skip",
         "line": {
          "color": "lightblue",
          "width": 1
         },
         "mode": "lines",
         "showlegend": false,
         "type": "scatter",
         "x": [
          50.61918429413315,
          51.55297447810315
         ],
         "y": [
          49.99569331660317,
          49.63787228267523
         ]
        },
        {
         "hoverinfo": "skip",
         "line": {
          "color": "lightblue",
          "width": 1
         },
         "mode": "lines",
         "showlegend": false,
         "type": "scatter",
         "x": [
          78.71970965071505,
          79.71166550492896
         ],
         "y": [
          37.080852278743805,
          36.954267985520865
         ]
        },
        {
         "hoverinfo": "skip",
         "line": {
          "color": "lightblue",
          "width": 1
         },
         "mode": "lines",
         "showlegend": false,
         "type": "scatter",
         "x": [
          76.86733997641697,
          77.18576651021408
         ],
         "y": [
          39.28183308686536,
          40.22978062896564
         ]
        },
        {
         "hoverinfo": "skip",
         "line": {
          "color": "lightblue",
          "width": 1
         },
         "mode": "lines",
         "showlegend": false,
         "type": "scatter",
         "x": [
          37.8198380157739,
          37.42843450051868
         ],
         "y": [
          66.16450209755602,
          65.24428294526356
         ]
        },
        {
         "hoverinfo": "skip",
         "line": {
          "color": "lightblue",
          "width": 1
         },
         "mode": "lines",
         "showlegend": false,
         "type": "scatter",
         "x": [
          13.3205048682119,
          12.395888992323083
         ],
         "y": [
          44.4942695265715,
          44.113368644379875
         ]
        },
        {
         "hoverinfo": "skip",
         "line": {
          "color": "lightblue",
          "width": 1
         },
         "mode": "lines",
         "showlegend": false,
         "type": "scatter",
         "x": [
          37.66367786386395,
          37.94087781001947
         ],
         "y": [
          41.587560355422475,
          41.560288820830216
         ]
        },
        {
         "hoverinfo": "skip",
         "line": {
          "color": "lightblue",
          "width": 1
         },
         "mode": "lines",
         "showlegend": false,
         "type": "scatter",
         "x": [
          71.47290946778315,
          72.34169437467989
         ],
         "y": [
          22.04014989940023,
          21.544960253356976
         ]
        },
        {
         "hoverinfo": "skip",
         "line": {
          "color": "lightblue",
          "width": 1
         },
         "mode": "lines",
         "showlegend": false,
         "type": "scatter",
         "x": [
          72.34169437467989,
          73.34145225088233
         ],
         "y": [
          21.544960253356976,
          21.522955958976418
         ]
        },
        {
         "hoverinfo": "skip",
         "line": {
          "color": "lightblue",
          "width": 1
         },
         "mode": "lines",
         "showlegend": false,
         "type": "scatter",
         "x": [
          67.27639235421424,
          66.27884163706352
         ],
         "y": [
          22.704465973412887,
          22.634519088477937
         ]
        },
        {
         "hoverinfo": "skip",
         "line": {
          "color": "lightblue",
          "width": 1
         },
         "mode": "lines",
         "showlegend": false,
         "type": "scatter",
         "x": [
          73.34145225088233,
          74.02437765200207
         ],
         "y": [
          21.522955958976418,
          20.79246783689267
         ]
        },
        {
         "hoverinfo": "skip",
         "line": {
          "color": "lightblue",
          "width": 1
         },
         "mode": "lines",
         "showlegend": false,
         "type": "scatter",
         "x": [
          77.18576651021408,
          77.65674043881585
         ],
         "y": [
          40.22978062896564,
          41.11192775874469
         ]
        },
        {
         "hoverinfo": "skip",
         "line": {
          "color": "lightblue",
          "width": 1
         },
         "mode": "lines",
         "showlegend": false,
         "type": "scatter",
         "x": [
          28.771938521161296,
          28.843783770077682
         ],
         "y": [
          74.61654594426489,
          75.61396173530098
         ]
        },
        {
         "hoverinfo": "skip",
         "line": {
          "color": "lightblue",
          "width": 1
         },
         "mode": "lines",
         "showlegend": false,
         "type": "scatter",
         "x": [
          77.65674043881585,
          78.19332623155265
         ],
         "y": [
          41.11192775874469,
          41.955773530810305
         ]
        },
        {
         "hoverinfo": "skip",
         "line": {
          "color": "lightblue",
          "width": 1
         },
         "mode": "lines",
         "showlegend": false,
         "type": "scatter",
         "x": [
          12.395888992323083,
          11.61480745648577
         ],
         "y": [
          44.113368644379875,
          43.488939597670786
         ]
        },
        {
         "hoverinfo": "skip",
         "line": {
          "color": "lightblue",
          "width": 1
         },
         "mode": "lines",
         "showlegend": false,
         "type": "scatter",
         "x": [
          13.054419188629891,
          12.531478760734172
         ],
         "y": [
          47.181353301621215,
          48.033722534332156
         ]
        },
        {
         "hoverinfo": "skip",
         "line": {
          "color": "lightblue",
          "width": 1
         },
         "mode": "lines",
         "showlegend": false,
         "type": "scatter",
         "x": [
          79.71166550492896,
          80.68830201153877
         ],
         "y": [
          36.954267985520865,
          36.73937002378789
         ]
        },
        {
         "hoverinfo": "skip",
         "line": {
          "color": "lightblue",
          "width": 1
         },
         "mode": "lines",
         "showlegend": false,
         "type": "scatter",
         "x": [
          78.19332623155265,
          78.64787897922879
         ],
         "y": [
          41.955773530810305,
          42.846493351842746
         ]
        },
        {
         "hoverinfo": "skip",
         "line": {
          "color": "lightblue",
          "width": 1
         },
         "mode": "lines",
         "showlegend": false,
         "type": "scatter",
         "x": [
          11.61480745648577,
          10.635863684964487
         ],
         "y": [
          43.488939597670786,
          43.284809511207065
         ]
        },
        {
         "hoverinfo": "skip",
         "line": {
          "color": "lightblue",
          "width": 1
         },
         "mode": "lines",
         "showlegend": false,
         "type": "scatter",
         "x": [
          63.55954374436695,
          63.627775383742524
         ],
         "y": [
          32.795940805891355,
          33.793610311984494
         ]
        },
        {
         "hoverinfo": "skip",
         "line": {
          "color": "lightblue",
          "width": 1
         },
         "mode": "lines",
         "showlegend": false,
         "type": "scatter",
         "x": [
          47.71649555634077,
          48.17796317103041
         ],
         "y": [
          37.734037447733904,
          38.11490270166985
         ]
        },
        {
         "hoverinfo": "skip",
         "line": {
          "color": "lightblue",
          "width": 1
         },
         "mode": "lines",
         "showlegend": false,
         "type": "scatter",
         "x": [
          41.14734317268829,
          40.268476649283926
         ],
         "y": [
          50.49373817645713,
          50.970805922211476
         ]
        },
        {
         "hoverinfo": "skip",
         "line": {
          "color": "lightblue",
          "width": 1
         },
         "mode": "lines",
         "showlegend": false,
         "type": "scatter",
         "x": [
          15.437898535791426,
          16.34953932977451
         ],
         "y": [
          21.624367864285336,
          21.21337995358006
         ]
        },
        {
         "hoverinfo": "skip",
         "line": {
          "color": "lightblue",
          "width": 1
         },
         "mode": "lines",
         "showlegend": false,
         "type": "scatter",
         "x": [
          28.843783770077682,
          29.693429655817916
         ],
         "y": [
          75.61396173530098,
          76.14131538214974
         ]
        },
        {
         "hoverinfo": "skip",
         "line": {
          "color": "lightblue",
          "width": 1
         },
         "mode": "lines",
         "showlegend": false,
         "type": "scatter",
         "x": [
          71.86221143752933,
          71.2918419973654
         ],
         "y": [
          33.76673584225093,
          34.588124119332534
         ]
        },
        {
         "hoverinfo": "skip",
         "line": {
          "color": "lightblue",
          "width": 1
         },
         "mode": "lines",
         "showlegend": false,
         "type": "scatter",
         "x": [
          29.693429655817916,
          29.94349678315063
         ],
         "y": [
          76.14131538214974,
          77.10954388401672
         ]
        },
        {
         "hoverinfo": "skip",
         "line": {
          "color": "lightblue",
          "width": 1
         },
         "mode": "lines",
         "showlegend": false,
         "type": "scatter",
         "x": [
          49.31365310711156,
          48.70084031540648
         ],
         "y": [
          38.94703959842783,
          39.737267718860544
         ]
        },
        {
         "hoverinfo": "skip",
         "line": {
          "color": "lightblue",
          "width": 1
         },
         "mode": "lines",
         "showlegend": false,
         "type": "scatter",
         "x": [
          78.64787897922879,
          79.23209289090514
         ],
         "y": [
          42.846493351842746,
          43.65809307178098
         ]
        },
        {
         "hoverinfo": "skip",
         "line": {
          "color": "lightblue",
          "width": 1
         },
         "mode": "lines",
         "showlegend": false,
         "type": "scatter",
         "x": [
          66.27884163706352,
          65.65638843623594
         ],
         "y": [
          22.634519088477937,
          21.851862067312535
         ]
        },
        {
         "hoverinfo": "skip",
         "line": {
          "color": "lightblue",
          "width": 1
         },
         "mode": "lines",
         "showlegend": false,
         "type": "scatter",
         "x": [
          29.94349678315063,
          30.10463328671867
         ],
         "y": [
          77.10954388401672,
          78.09647601299919
         ]
        },
        {
         "hoverinfo": "skip",
         "line": {
          "color": "lightblue",
          "width": 1
         },
         "mode": "lines",
         "showlegend": false,
         "type": "scatter",
         "x": [
          80.68830201153877,
          81.17186633737164
         ],
         "y": [
          36.73937002378789,
          35.86406119669782
         ]
        },
        {
         "hoverinfo": "skip",
         "line": {
          "color": "lightblue",
          "width": 1
         },
         "mode": "lines",
         "showlegend": false,
         "type": "scatter",
         "x": [
          25.200295462895667,
          26.194058124873116
         ],
         "y": [
          7.87981732654966,
          7.768301535472827
         ]
        },
        {
         "hoverinfo": "skip",
         "line": {
          "color": "lightblue",
          "width": 1
         },
         "mode": "lines",
         "showlegend": false,
         "type": "scatter",
         "x": [
          74.02437765200207,
          75.02382213569268
         ],
         "y": [
          20.79246783689267,
          20.759140310425714
         ]
        },
        {
         "hoverinfo": "skip",
         "line": {
          "color": "lightblue",
          "width": 1
         },
         "mode": "lines",
         "showlegend": false,
         "type": "scatter",
         "x": [
          51.55297447810315,
          52.55297352371265
         ],
         "y": [
          49.63787228267523,
          49.63925386875194
         ]
        },
        {
         "hoverinfo": "skip",
         "line": {
          "color": "lightblue",
          "width": 1
         },
         "mode": "lines",
         "showlegend": false,
         "type": "scatter",
         "x": [
          79.23209289090514,
          79.5596242087947
         ],
         "y": [
          43.65809307178098,
          44.602933394693544
         ]
        },
        {
         "hoverinfo": "skip",
         "line": {
          "color": "lightblue",
          "width": 1
         },
         "mode": "lines",
         "showlegend": false,
         "type": "scatter",
         "x": [
          12.531478760734172,
          12.553923438519295
         ],
         "y": [
          48.033722534332156,
          49.03347062082151
         ]
        },
        {
         "hoverinfo": "skip",
         "line": {
          "color": "lightblue",
          "width": 1
         },
         "mode": "lines",
         "showlegend": false,
         "type": "scatter",
         "x": [
          79.5596242087947,
          80.55308345339122
         ],
         "y": [
          44.602933394693544,
          44.71712065022456
         ]
        },
        {
         "hoverinfo": "skip",
         "line": {
          "color": "lightblue",
          "width": 1
         },
         "mode": "lines",
         "showlegend": false,
         "type": "scatter",
         "x": [
          6.267362149323483,
          7.1558988699298824
         ],
         "y": [
          4.989308026237449,
          4.530502516098322
         ]
        },
        {
         "hoverinfo": "skip",
         "line": {
          "color": "lightblue",
          "width": 1
         },
         "mode": "lines",
         "showlegend": false,
         "type": "scatter",
         "x": [
          26.194058124873116,
          27.172254507523814
         ],
         "y": [
          7.768301535472827,
          7.560619478065143
         ]
        },
        {
         "hoverinfo": "skip",
         "line": {
          "color": "lightblue",
          "width": 1
         },
         "mode": "lines",
         "showlegend": false,
         "type": "scatter",
         "x": [
          30.10463328671867,
          30.034247537903486
         ],
         "y": [
          78.09647601299919,
          79.0939958606031
         ]
        },
        {
         "hoverinfo": "skip",
         "line": {
          "color": "lightblue",
          "width": 1
         },
         "mode": "lines",
         "showlegend": false,
         "type": "scatter",
         "x": [
          80.55308345339122,
          81.44518559292806
         ],
         "y": [
          44.71712065022456,
          45.16895443894979
         ]
        },
        {
         "hoverinfo": "skip",
         "line": {
          "color": "lightblue",
          "width": 1
         },
         "mode": "lines",
         "showlegend": false,
         "type": "scatter",
         "x": [
          81.17186633737164,
          82.01888558557897
         ],
         "y": [
          35.86406119669782,
          35.332498977229314
         ]
        },
        {
         "hoverinfo": "skip",
         "line": {
          "color": "lightblue",
          "width": 1
         },
         "mode": "lines",
         "showlegend": false,
         "type": "scatter",
         "x": [
          14.599416101750329,
          14.599889736889015
         ],
         "y": [
          44.73325485616524,
          44.99738399388723
         ]
        },
        {
         "hoverinfo": "skip",
         "line": {
          "color": "lightblue",
          "width": 1
         },
         "mode": "lines",
         "showlegend": false,
         "type": "scatter",
         "x": [
          27.56258293709646,
          27.862739075205678
         ],
         "y": [
          37.12743346631249,
          37.52137973377858
         ]
        },
        {
         "hoverinfo": "skip",
         "line": {
          "color": "lightblue",
          "width": 1
         },
         "mode": "lines",
         "showlegend": false,
         "type": "scatter",
         "x": [
          27.172254507523814,
          28.162609269898383
         ],
         "y": [
          7.560619478065143,
          7.422064634620347
         ]
        },
        {
         "hoverinfo": "skip",
         "line": {
          "color": "lightblue",
          "width": 1
         },
         "mode": "lines",
         "showlegend": false,
         "type": "scatter",
         "x": [
          82.01888558557897,
          82.93442101079293
         ],
         "y": [
          35.332498977229314,
          34.930261627921354
         ]
        },
        {
         "hoverinfo": "skip",
         "line": {
          "color": "lightblue",
          "width": 1
         },
         "mode": "lines",
         "showlegend": false,
         "type": "scatter",
         "x": [
          34.38158697586264,
          33.96635384121967
         ],
         "y": [
          67.61402713652046,
          66.70431210207585
         ]
        },
        {
         "hoverinfo": "skip",
         "line": {
          "color": "lightblue",
          "width": 1
         },
         "mode": "lines",
         "showlegend": false,
         "type": "scatter",
         "x": [
          63.627775383742524,
          63.860265735725655
         ],
         "y": [
          33.793610311984494,
          34.766209014551364
         ]
        },
        {
         "hoverinfo": "skip",
         "line": {
          "color": "lightblue",
          "width": 1
         },
         "mode": "lines",
         "showlegend": false,
         "type": "scatter",
         "x": [
          65.65638843623594,
          65.15503354505873
         ],
         "y": [
          21.851862067312535,
          20.986620324738425
         ]
        },
        {
         "hoverinfo": "skip",
         "line": {
          "color": "lightblue",
          "width": 1
         },
         "mode": "lines",
         "showlegend": false,
         "type": "scatter",
         "x": [
          75.02382213569268,
          75.92840905740667
         ],
         "y": [
          20.759140310425714,
          20.332851088108264
         ]
        },
        {
         "hoverinfo": "skip",
         "line": {
          "color": "lightblue",
          "width": 1
         },
         "mode": "lines",
         "showlegend": false,
         "type": "scatter",
         "x": [
          77.68322582667756,
          77.94321407667107
         ],
         "y": [
          34.283617759006844,
          33.31800597890818
         ]
        },
        {
         "hoverinfo": "skip",
         "line": {
          "color": "lightblue",
          "width": 1
         },
         "mode": "lines",
         "showlegend": false,
         "type": "scatter",
         "x": [
          20.291095734760685,
          20.840729620307766
         ],
         "y": [
          13.030760875571024,
          13.866166520667116
         ]
        },
        {
         "hoverinfo": "skip",
         "line": {
          "color": "lightblue",
          "width": 1
         },
         "mode": "lines",
         "showlegend": false,
         "type": "scatter",
         "x": [
          48.73677502041,
          47.85714536210425
         ],
         "y": [
          33.95168403754233,
          33.476024848385954
         ]
        },
        {
         "hoverinfo": "skip",
         "line": {
          "color": "lightblue",
          "width": 1
         },
         "mode": "lines",
         "showlegend": false,
         "type": "scatter",
         "x": [
          82.93442101079293,
          83.9108870111604
         ],
         "y": [
          34.930261627921354,
          34.71459023406864
         ]
        },
        {
         "hoverinfo": "skip",
         "line": {
          "color": "lightblue",
          "width": 1
         },
         "mode": "lines",
         "showlegend": false,
         "type": "scatter",
         "x": [
          30.034247537903486,
          30.870430445481684
         ],
         "y": [
          79.0939958606031,
          79.64244653757785
         ]
        },
        {
         "hoverinfo": "skip",
         "line": {
          "color": "lightblue",
          "width": 1
         },
         "mode": "lines",
         "showlegend": false,
         "type": "scatter",
         "x": [
          32.01432236642542,
          32.081773556046606
         ],
         "y": [
          33.57914599877261,
          32.581423423595176
         ]
        },
        {
         "hoverinfo": "skip",
         "line": {
          "color": "lightblue",
          "width": 1
         },
         "mode": "lines",
         "showlegend": false,
         "type": "scatter",
         "x": [
          30.870430445481684,
          31.58873982188145
         ],
         "y": [
          79.64244653757785,
          80.33817036193359
         ]
        },
        {
         "hoverinfo": "skip",
         "line": {
          "color": "lightblue",
          "width": 1
         },
         "mode": "lines",
         "showlegend": false,
         "type": "scatter",
         "x": [
          81.44518559292806,
          82.38284023597625
         ],
         "y": [
          45.16895443894979,
          44.821386071041886
         ]
        },
        {
         "hoverinfo": "skip",
         "line": {
          "color": "lightblue",
          "width": 1
         },
         "mode": "lines",
         "showlegend": false,
         "type": "scatter",
         "x": [
          12.553923438519295,
          12.242391033621262
         ],
         "y": [
          49.03347062082151,
          49.98370614988704
         ]
        },
        {
         "hoverinfo": "skip",
         "line": {
          "color": "lightblue",
          "width": 1
         },
         "mode": "lines",
         "showlegend": false,
         "type": "scatter",
         "x": [
          81.44518559292806,
          81.77179311620215
         ],
         "y": [
          45.16895443894979,
          46.11411449192535
         ]
        },
        {
         "hoverinfo": "skip",
         "line": {
          "color": "lightblue",
          "width": 1
         },
         "mode": "lines",
         "showlegend": false,
         "type": "scatter",
         "x": [
          37.8198380157739,
          37.45983633804065
         ],
         "y": [
          66.16450209755602,
          66.42204044010201
         ]
        },
        {
         "hoverinfo": "skip",
         "line": {
          "color": "lightblue",
          "width": 1
         },
         "mode": "lines",
         "showlegend": false,
         "type": "scatter",
         "x": [
          48.378347877265455,
          47.87152565595637
         ],
         "y": [
          69.91361826560926,
          70.77566886504488
         ]
        },
        {
         "hoverinfo": "skip",
         "line": {
          "color": "lightblue",
          "width": 1
         },
         "mode": "lines",
         "showlegend": false,
         "type": "scatter",
         "x": [
          5.784538767670181,
          4.885789556603257
         ],
         "y": [
          7.968290391694152,
          7.529827330984837
         ]
        },
        {
         "hoverinfo": "skip",
         "line": {
          "color": "lightblue",
          "width": 1
         },
         "mode": "lines",
         "showlegend": false,
         "type": "scatter",
         "x": [
          27.972671706598675,
          27.4511706210518
         ],
         "y": [
          42.53020321338886,
          43.3834538317733
         ]
        },
        {
         "hoverinfo": "skip",
         "line": {
          "color": "lightblue",
          "width": 1
         },
         "mode": "lines",
         "showlegend": false,
         "type": "scatter",
         "x": [
          16.197396484221322,
          17.126728623500384
         ],
         "y": [
          45.22603781316592,
          45.595282684359816
         ]
        },
        {
         "hoverinfo": "skip",
         "line": {
          "color": "lightblue",
          "width": 1
         },
         "mode": "lines",
         "showlegend": false,
         "type": "scatter",
         "x": [
          75.92840905740667,
          76.8831742430364
         ],
         "y": [
          20.332851088108264,
          20.03549029662854
         ]
        },
        {
         "hoverinfo": "skip",
         "line": {
          "color": "lightblue",
          "width": 1
         },
         "mode": "lines",
         "showlegend": false,
         "type": "scatter",
         "x": [
          30.034247537903486,
          29.31303262630281
         ],
         "y": [
          79.0939958606031,
          79.78670723721304
         ]
        },
        {
         "hoverinfo": "skip",
         "line": {
          "color": "lightblue",
          "width": 1
         },
         "mode": "lines",
         "showlegend": false,
         "type": "scatter",
         "x": [
          63.55954374436695,
          62.947467813543426
         ],
         "y": [
          32.795940805891355,
          32.644915817557376
         ]
        },
        {
         "hoverinfo": "skip",
         "line": {
          "color": "lightblue",
          "width": 1
         },
         "mode": "lines",
         "showlegend": false,
         "type": "scatter",
         "x": [
          76.52545464559662,
          75.54644547287286
         ],
         "y": [
          38.34209140929122,
          38.545907600313264
         ]
        },
        {
         "hoverinfo": "skip",
         "line": {
          "color": "lightblue",
          "width": 1
         },
         "mode": "lines",
         "showlegend": false,
         "type": "scatter",
         "x": [
          28.162609269898383,
          28.00271248752349
         ],
         "y": [
          7.422064634620347,
          6.4349308954612825
         ]
        },
        {
         "hoverinfo": "skip",
         "line": {
          "color": "lightblue",
          "width": 1
         },
         "mode": "lines",
         "showlegend": false,
         "type": "scatter",
         "x": [
          16.731272999449104,
          16.592156630166098
         ],
         "y": [
          42.12705522767993,
          41.49577294873793
         ]
        },
        {
         "hoverinfo": "skip",
         "line": {
          "color": "lightblue",
          "width": 1
         },
         "mode": "lines",
         "showlegend": false,
         "type": "scatter",
         "x": [
          74.02437765200207,
          73.69638739917073
         ],
         "y": [
          20.79246783689267,
          19.847786729826566
         ]
        },
        {
         "hoverinfo": "skip",
         "line": {
          "color": "lightblue",
          "width": 1
         },
         "mode": "lines",
         "showlegend": false,
         "type": "scatter",
         "x": [
          71.47290946778315,
          71.68800995800062
         ],
         "y": [
          22.04014989940023,
          23.016741819860464
         ]
        },
        {
         "hoverinfo": "skip",
         "line": {
          "color": "lightblue",
          "width": 1
         },
         "mode": "lines",
         "showlegend": false,
         "type": "scatter",
         "x": [
          81.77179311620215,
          81.9578735097119
         ],
         "y": [
          46.11411449192535,
          47.09664901404213
         ]
        },
        {
         "hoverinfo": "skip",
         "line": {
          "color": "lightblue",
          "width": 1
         },
         "mode": "lines",
         "showlegend": false,
         "type": "scatter",
         "x": [
          12.242391033621262,
          11.889796464591281
         ],
         "y": [
          49.98370614988704,
          50.91948233567644
         ]
        },
        {
         "hoverinfo": "skip",
         "line": {
          "color": "lightblue",
          "width": 1
         },
         "mode": "lines",
         "showlegend": false,
         "type": "scatter",
         "x": [
          83.9108870111604,
          84.90711983529422
         ],
         "y": [
          34.71459023406864,
          34.62787137730526
         ]
        },
        {
         "hoverinfo": "skip",
         "line": {
          "color": "lightblue",
          "width": 1
         },
         "mode": "lines",
         "showlegend": false,
         "type": "scatter",
         "x": [
          76.8831742430364,
          77.8670117112225
         ],
         "y": [
          20.03549029662854,
          19.856426519741245
         ]
        },
        {
         "hoverinfo": "skip",
         "line": {
          "color": "lightblue",
          "width": 1
         },
         "mode": "lines",
         "showlegend": false,
         "type": "scatter",
         "x": [
          84.90711983529422,
          85.48869728827002
         ],
         "y": [
          34.62787137730526,
          33.81438034097469
         ]
        },
        {
         "hoverinfo": "skip",
         "line": {
          "color": "lightblue",
          "width": 1
         },
         "mode": "lines",
         "showlegend": false,
         "type": "scatter",
         "x": [
          81.9578735097119,
          82.61987501082416
         ],
         "y": [
          47.09664901404213,
          47.84615152406135
         ]
        },
        {
         "hoverinfo": "skip",
         "line": {
          "color": "lightblue",
          "width": 1
         },
         "mode": "lines",
         "showlegend": false,
         "type": "scatter",
         "x": [
          30.028425693185877,
          29.15041421582297
         ],
         "y": [
          64.56491873287874,
          64.08627915488816
         ]
        },
        {
         "hoverinfo": "skip",
         "line": {
          "color": "lightblue",
          "width": 1
         },
         "mode": "lines",
         "showlegend": false,
         "type": "scatter",
         "x": [
          83.9108870111604,
          83.53117480267082
         ],
         "y": [
          34.71459023406864,
          33.78948557040946
         ]
        },
        {
         "hoverinfo": "skip",
         "line": {
          "color": "lightblue",
          "width": 1
         },
         "mode": "lines",
         "showlegend": false,
         "type": "scatter",
         "x": [
          73.69638739917073,
          73.11446314949448
         ],
         "y": [
          19.847786729826566,
          19.034543735612203
         ]
        },
        {
         "hoverinfo": "skip",
         "line": {
          "color": "lightblue",
          "width": 1
         },
         "mode": "lines",
         "showlegend": false,
         "type": "scatter",
         "x": [
          85.48869728827002,
          86.3343854515999
         ],
         "y": [
          33.81438034097469,
          34.348057706434126
         ]
        },
        {
         "hoverinfo": "skip",
         "line": {
          "color": "lightblue",
          "width": 1
         },
         "mode": "lines",
         "showlegend": false,
         "type": "scatter",
         "x": [
          29.31303262630281,
          29.323423643724258
         ],
         "y": [
          79.78670723721304,
          80.78665324913415
         ]
        },
        {
         "hoverinfo": "skip",
         "line": {
          "color": "lightblue",
          "width": 1
         },
         "mode": "lines",
         "showlegend": false,
         "type": "scatter",
         "x": [
          29.323423643724258,
          28.493698692317015
         ],
         "y": [
          80.78665324913415,
          81.34482571801115
         ]
        },
        {
         "hoverinfo": "skip",
         "line": {
          "color": "lightblue",
          "width": 1
         },
         "mode": "lines",
         "showlegend": false,
         "type": "scatter",
         "x": [
          28.162609269898383,
          28.701001928807706
         ],
         "y": [
          7.422064634620347,
          8.264758733823935
         ]
        },
        {
         "hoverinfo": "skip",
         "line": {
          "color": "lightblue",
          "width": 1
         },
         "mode": "lines",
         "showlegend": false,
         "type": "scatter",
         "x": [
          75.02382213569268,
          75.37439833803387
         ],
         "y": [
          20.759140310425714,
          21.695674520346543
         ]
        },
        {
         "hoverinfo": "skip",
         "line": {
          "color": "lightblue",
          "width": 1
         },
         "mode": "lines",
         "showlegend": false,
         "type": "scatter",
         "x": [
          75.54644547287286,
          74.68328032635353
         ],
         "y": [
          38.545907600313264,
          39.05082930695128
         ]
        },
        {
         "hoverinfo": "skip",
         "line": {
          "color": "lightblue",
          "width": 1
         },
         "mode": "lines",
         "showlegend": false,
         "type": "scatter",
         "x": [
          82.61987501082416,
          83.45904407840662
         ],
         "y": [
          47.84615152406135,
          48.390022166781456
         ]
        },
        {
         "hoverinfo": "skip",
         "line": {
          "color": "lightblue",
          "width": 1
         },
         "mode": "lines",
         "showlegend": false,
         "type": "scatter",
         "x": [
          11.889796464591281,
          11.26510412580871
         ],
         "y": [
          50.91948233567644,
          51.70035331212925
         ]
        },
        {
         "hoverinfo": "skip",
         "line": {
          "color": "lightblue",
          "width": 1
         },
         "mode": "lines",
         "showlegend": false,
         "type": "scatter",
         "x": [
          83.45904407840662,
          83.85053539005324
         ],
         "y": [
          48.390022166781456,
          49.31020397104908
         ]
        },
        {
         "hoverinfo": "skip",
         "line": {
          "color": "lightblue",
          "width": 1
         },
         "mode": "lines",
         "showlegend": false,
         "type": "scatter",
         "x": [
          28.701001928807706,
          29.59158466739684
         ],
         "y": [
          8.264758733823935,
          8.719580001716148
         ]
        },
        {
         "hoverinfo": "skip",
         "line": {
          "color": "lightblue",
          "width": 1
         },
         "mode": "lines",
         "showlegend": false,
         "type": "scatter",
         "x": [
          42.89431583243909,
          42.76040435598767
         ],
         "y": [
          49.1762042102844,
          49.43593065256188
         ]
        },
        {
         "hoverinfo": "skip",
         "line": {
          "color": "lightblue",
          "width": 1
         },
         "mode": "lines",
         "showlegend": false,
         "type": "scatter",
         "x": [
          28.493698692317015,
          28.418080838357575
         ],
         "y": [
          81.34482571801115,
          82.34196258933954
         ]
        },
        {
         "hoverinfo": "skip",
         "line": {
          "color": "lightblue",
          "width": 1
         },
         "mode": "lines",
         "showlegend": false,
         "type": "scatter",
         "x": [
          83.85053539005324,
          83.46827349413077
         ],
         "y": [
          49.31020397104908,
          50.234257997026866
         ]
        },
        {
         "hoverinfo": "skip",
         "line": {
          "color": "lightblue",
          "width": 1
         },
         "mode": "lines",
         "showlegend": false,
         "type": "scatter",
         "x": [
          32.081773556046606,
          32.49371456063066
         ],
         "y": [
          32.581423423595176,
          31.670212905250327
         ]
        },
        {
         "hoverinfo": "skip",
         "line": {
          "color": "lightblue",
          "width": 1
         },
         "mode": "lines",
         "showlegend": false,
         "type": "scatter",
         "x": [
          83.46827349413077,
          83.27397890325958
         ],
         "y": [
          50.234257997026866,
          51.21520122268174
         ]
        },
        {
         "hoverinfo": "skip",
         "line": {
          "color": "lightblue",
          "width": 1
         },
         "mode": "lines",
         "showlegend": false,
         "type": "scatter",
         "x": [
          77.8670117112225,
          78.84857166376075
         ],
         "y": [
          19.856426519741245,
          20.04758106343064
         ]
        },
        {
         "hoverinfo": "skip",
         "line": {
          "color": "lightblue",
          "width": 1
         },
         "mode": "lines",
         "showlegend": false,
         "type": "scatter",
         "x": [
          28.00271248752349,
          27.438648528170962
         ],
         "y": [
          6.4349308954612825,
          5.609199795308484
         ]
        },
        {
         "hoverinfo": "skip",
         "line": {
          "color": "lightblue",
          "width": 1
         },
         "mode": "lines",
         "showlegend": false,
         "type": "scatter",
         "x": [
          37.42843450051868,
          37.384987353677296
         ],
         "y": [
          65.24428294526356,
          64.24522721837374
         ]
        },
        {
         "hoverinfo": "skip",
         "line": {
          "color": "lightblue",
          "width": 1
         },
         "mode": "lines",
         "showlegend": false,
         "type": "scatter",
         "x": [
          83.85053539005324,
          84.83434989719443
         ],
         "y": [
          49.31020397104908,
          49.489393857869004
         ]
        },
        {
         "hoverinfo": "skip",
         "line": {
          "color": "lightblue",
          "width": 1
         },
         "mode": "lines",
         "showlegend": false,
         "type": "scatter",
         "x": [
          28.418080838357575,
          27.503776879596487
         ],
         "y": [
          82.34196258933954,
          82.74699131794259
         ]
        },
        {
         "hoverinfo": "skip",
         "line": {
          "color": "lightblue",
          "width": 1
         },
         "mode": "lines",
         "showlegend": false,
         "type": "scatter",
         "x": [
          68.67686299807201,
          68.12632379371058
         ],
         "y": [
          32.80086215114556,
          33.635671461384185
         ]
        },
        {
         "hoverinfo": "skip",
         "line": {
          "color": "lightblue",
          "width": 1
         },
         "mode": "lines",
         "showlegend": false,
         "type": "scatter",
         "x": [
          50.97099008385852,
          51.144422057140424
         ],
         "y": [
          68.49469945279986,
          67.50985360159088
         ]
        },
        {
         "hoverinfo": "skip",
         "line": {
          "color": "lightblue",
          "width": 1
         },
         "mode": "lines",
         "showlegend": false,
         "type": "scatter",
         "x": [
          78.84857166376075,
          79.80931908605145
         ],
         "y": [
          20.04758106343064,
          19.77015649609426
         ]
        },
        {
         "hoverinfo": "skip",
         "line": {
          "color": "lightblue",
          "width": 1
         },
         "mode": "lines",
         "showlegend": false,
         "type": "scatter",
         "x": [
          32.49371456063066,
          32.68740279687324
         ],
         "y": [
          31.670212905250327,
          30.68914977418218
         ]
        },
        {
         "hoverinfo": "skip",
         "line": {
          "color": "lightblue",
          "width": 1
         },
         "mode": "lines",
         "showlegend": false,
         "type": "scatter",
         "x": [
          19.729764393028557,
          19.004077844425993
         ],
         "y": [
          29.545694824345972,
          29.20185013133445
         ]
        },
        {
         "hoverinfo": "skip",
         "line": {
          "color": "lightblue",
          "width": 1
         },
         "mode": "lines",
         "showlegend": false,
         "type": "scatter",
         "x": [
          30.591130363208787,
          31.29153197151655
         ],
         "y": [
          69.3018637171708,
          70.0156126836008
         ]
        },
        {
         "hoverinfo": "skip",
         "line": {
          "color": "lightblue",
          "width": 1
         },
         "mode": "lines",
         "showlegend": false,
         "type": "scatter",
         "x": [
          84.83434989719443,
          85.8050414634804
         ],
         "y": [
          49.489393857869004,
          49.729722555991515
         ]
        },
        {
         "hoverinfo": "skip",
         "line": {
          "color": "lightblue",
          "width": 1
         },
         "mode": "lines",
         "showlegend": false,
         "type": "scatter",
         "x": [
          65.15503354505873,
          64.5891199949202
         ],
         "y": [
          20.986620324738425,
          20.162155738616253
         ]
        },
        {
         "hoverinfo": "skip",
         "line": {
          "color": "lightblue",
          "width": 1
         },
         "mode": "lines",
         "showlegend": false,
         "type": "scatter",
         "x": [
          64.5891199949202,
          64.86846905990491
         ],
         "y": [
          20.162155738616253,
          19.201966121982036
         ]
        },
        {
         "hoverinfo": "skip",
         "line": {
          "color": "lightblue",
          "width": 1
         },
         "mode": "lines",
         "showlegend": false,
         "type": "scatter",
         "x": [
          73.11446314949448,
          73.34495124815275
         ],
         "y": [
          19.034543735612203,
          18.06146859135206
         ]
        },
        {
         "hoverinfo": "skip",
         "line": {
          "color": "lightblue",
          "width": 1
         },
         "mode": "lines",
         "showlegend": false,
         "type": "scatter",
         "x": [
          27.503776879596487,
          26.52362465247122
         ],
         "y": [
          82.74699131794259,
          82.54874497709015
         ]
        },
        {
         "hoverinfo": "skip",
         "line": {
          "color": "lightblue",
          "width": 1
         },
         "mode": "lines",
         "showlegend": false,
         "type": "scatter",
         "x": [
          26.52362465247122,
          26.00946744639607
         ],
         "y": [
          82.54874497709015,
          83.40644094154433
         ]
        },
        {
         "hoverinfo": "skip",
         "line": {
          "color": "lightblue",
          "width": 1
         },
         "mode": "lines",
         "showlegend": false,
         "type": "scatter",
         "x": [
          83.27397890325958,
          83.58658610093083
         ],
         "y": [
          51.21520122268174,
          52.165083710131704
         ]
        },
        {
         "hoverinfo": "skip",
         "line": {
          "color": "lightblue",
          "width": 1
         },
         "mode": "lines",
         "showlegend": false,
         "type": "scatter",
         "x": [
          27.503776879596487,
          27.895401079818452
         ],
         "y": [
          82.74699131794259,
          83.66711657343801
         ]
        },
        {
         "hoverinfo": "skip",
         "line": {
          "color": "lightblue",
          "width": 1
         },
         "mode": "lines",
         "showlegend": false,
         "type": "scatter",
         "x": [
          85.48869728827002,
          86.0485259660568
         ],
         "y": [
          33.81438034097469,
          32.98577195848782
         ]
        },
        {
         "hoverinfo": "skip",
         "line": {
          "color": "lightblue",
          "width": 1
         },
         "mode": "lines",
         "showlegend": false,
         "type": "scatter",
         "x": [
          20.106315777617695,
          20.604787881015596
         ],
         "y": [
          38.804128200734326,
          39.255138910065234
         ]
        },
        {
         "hoverinfo": "skip",
         "line": {
          "color": "lightblue",
          "width": 1
         },
         "mode": "lines",
         "showlegend": false,
         "type": "scatter",
         "x": [
          12.553923438519295,
          13.49951315098106
         ],
         "y": [
          49.03347062082151,
          49.35883210546048
         ]
        },
        {
         "hoverinfo": "skip",
         "line": {
          "color": "lightblue",
          "width": 1
         },
         "mode": "lines",
         "showlegend": false,
         "type": "scatter",
         "x": [
          34.15122028153654,
          34.24567136438871
         ],
         "y": [
          41.16607335813591,
          40.17054385433
         ]
        },
        {
         "hoverinfo": "skip",
         "line": {
          "color": "lightblue",
          "width": 1
         },
         "mode": "lines",
         "showlegend": false,
         "type": "scatter",
         "x": [
          73.34495124815275,
          73.75319494722125
         ],
         "y": [
          18.06146859135206,
          17.148595608856205
         ]
        },
        {
         "hoverinfo": "skip",
         "line": {
          "color": "lightblue",
          "width": 1
         },
         "mode": "lines",
         "showlegend": false,
         "type": "scatter",
         "x": [
          11.26510412580871,
          10.310799561485778
         ],
         "y": [
          51.70035331212925,
          51.401517573783885
         ]
        },
        {
         "hoverinfo": "skip",
         "line": {
          "color": "lightblue",
          "width": 1
         },
         "mode": "lines",
         "showlegend": false,
         "type": "scatter",
         "x": [
          52.55297352371265,
          53.54642719867859
         ],
         "y": [
          49.63925386875194,
          49.52501816637888
         ]
        },
        {
         "hoverinfo": "skip",
         "line": {
          "color": "lightblue",
          "width": 1
         },
         "mode": "lines",
         "showlegend": false,
         "type": "scatter",
         "x": [
          26.00946744639607,
          25.430430574666776
         ],
         "y": [
          83.40644094154433,
          84.22174229759494
         ]
        },
        {
         "hoverinfo": "skip",
         "line": {
          "color": "lightblue",
          "width": 1
         },
         "mode": "lines",
         "showlegend": false,
         "type": "scatter",
         "x": [
          51.144422057140424,
          51.38801154814298
         ],
         "y": [
          67.50985360159088,
          66.96892535453397
         ]
        },
        {
         "hoverinfo": "skip",
         "line": {
          "color": "lightblue",
          "width": 1
         },
         "mode": "lines",
         "showlegend": false,
         "type": "scatter",
         "x": [
          83.58658610093083,
          83.04423219202707
         ],
         "y": [
          52.165083710131704,
          53.005233838083136
         ]
        },
        {
         "hoverinfo": "skip",
         "line": {
          "color": "lightblue",
          "width": 1
         },
         "mode": "lines",
         "showlegend": false,
         "type": "scatter",
         "x": [
          83.58658610093083,
          84.32832957474847
         ],
         "y": [
          52.165083710131704,
          52.83576740536288
         ]
        },
        {
         "hoverinfo": "skip",
         "line": {
          "color": "lightblue",
          "width": 1
         },
         "mode": "lines",
         "showlegend": false,
         "type": "scatter",
         "x": [
          13.77793086921018,
          12.825600710956646
         ],
         "y": [
          16.561691424229167,
          16.86676071091794
         ]
        },
        {
         "hoverinfo": "skip",
         "line": {
          "color": "lightblue",
          "width": 1
         },
         "mode": "lines",
         "showlegend": false,
         "type": "scatter",
         "x": [
          29.15041421582297,
          28.45383773881285
         ],
         "y": [
          64.08627915488816,
          63.368796603409606
         ]
        },
        {
         "hoverinfo": "skip",
         "line": {
          "color": "lightblue",
          "width": 1
         },
         "mode": "lines",
         "showlegend": false,
         "type": "scatter",
         "x": [
          29.693429655817916,
          30.61908814856679
         ],
         "y": [
          76.14131538214974,
          75.76295529598593
         ]
        },
        {
         "hoverinfo": "skip",
         "line": {
          "color": "lightblue",
          "width": 1
         },
         "mode": "lines",
         "showlegend": false,
         "type": "scatter",
         "x": [
          27.895401079818452,
          28.66275931887656
         ],
         "y": [
          83.66711657343801,
          84.3083352046003
         ]
        },
        {
         "hoverinfo": "skip",
         "line": {
          "color": "lightblue",
          "width": 1
         },
         "mode": "lines",
         "showlegend": false,
         "type": "scatter",
         "x": [
          64.86846905990491,
          65.02921575718624
         ],
         "y": [
          19.201966121982036,
          18.21497042831709
         ]
        },
        {
         "hoverinfo": "skip",
         "line": {
          "color": "lightblue",
          "width": 1
         },
         "mode": "lines",
         "showlegend": false,
         "type": "scatter",
         "x": [
          84.32832957474847,
          84.47100551067093
         ],
         "y": [
          52.83576740536288,
          53.82553686200854
         ]
        },
        {
         "hoverinfo": "skip",
         "line": {
          "color": "lightblue",
          "width": 1
         },
         "mode": "lines",
         "showlegend": false,
         "type": "scatter",
         "x": [
          83.04423219202707,
          82.15274723796873
         ],
         "y": [
          53.005233838083136,
          53.45828414068495
         ]
        },
        {
         "hoverinfo": "skip",
         "line": {
          "color": "lightblue",
          "width": 1
         },
         "mode": "lines",
         "showlegend": false,
         "type": "scatter",
         "x": [
          47.87152565595637,
          47.269461390583835
         ],
         "y": [
          70.77566886504488,
          71.57411649661594
         ]
        },
        {
         "hoverinfo": "skip",
         "line": {
          "color": "lightblue",
          "width": 1
         },
         "mode": "lines",
         "showlegend": false,
         "type": "scatter",
         "x": [
          84.47100551067093,
          84.77717954481533
         ],
         "y": [
          53.82553686200854,
          54.77751241884587
         ]
        },
        {
         "hoverinfo": "skip",
         "line": {
          "color": "lightblue",
          "width": 1
         },
         "mode": "lines",
         "showlegend": false,
         "type": "scatter",
         "x": [
          65.85908181111556,
          66.18757918141827
         ],
         "y": [
          29.29395551517463,
          29.256788332135375
         ]
        },
        {
         "hoverinfo": "skip",
         "line": {
          "color": "lightblue",
          "width": 1
         },
         "mode": "lines",
         "showlegend": false,
         "type": "scatter",
         "x": [
          25.430430574666776,
          24.59656813184225
         ],
         "y": [
          84.22174229759494,
          84.77371460346428
         ]
        },
        {
         "hoverinfo": "skip",
         "line": {
          "color": "lightblue",
          "width": 1
         },
         "mode": "lines",
         "showlegend": false,
         "type": "scatter",
         "x": [
          28.00271248752349,
          28.8309963062751
         ],
         "y": [
          6.4349308954612825,
          5.874622127375106
         ]
        },
        {
         "hoverinfo": "skip",
         "line": {
          "color": "lightblue",
          "width": 1
         },
         "mode": "lines",
         "showlegend": false,
         "type": "scatter",
         "x": [
          28.66275931887656,
          28.80333999676587
         ],
         "y": [
          84.3083352046003,
          85.29840443096994
         ]
        },
        {
         "hoverinfo": "skip",
         "line": {
          "color": "lightblue",
          "width": 1
         },
         "mode": "lines",
         "showlegend": false,
         "type": "scatter",
         "x": [
          53.54642719867859,
          54.524400504925815
         ],
         "y": [
          49.52501816637888,
          49.3162881678931
         ]
        },
        {
         "hoverinfo": "skip",
         "line": {
          "color": "lightblue",
          "width": 1
         },
         "mode": "lines",
         "showlegend": false,
         "type": "scatter",
         "x": [
          77.8670117112225,
          78.14115775899583
         ],
         "y": [
          19.856426519741245,
          18.89473844947612
         ]
        },
        {
         "hoverinfo": "skip",
         "line": {
          "color": "lightblue",
          "width": 1
         },
         "mode": "lines",
         "showlegend": false,
         "type": "scatter",
         "x": [
          30.61908814856679,
          31.54130424122077
         ],
         "y": [
          75.76295529598593,
          76.14963019619285
         ]
        },
        {
         "hoverinfo": "skip",
         "line": {
          "color": "lightblue",
          "width": 1
         },
         "mode": "lines",
         "showlegend": false,
         "type": "scatter",
         "x": [
          29.59158466739684,
          30.432071554986052
         ],
         "y": [
          8.719580001716148,
          9.261411886889586
         ]
        },
        {
         "hoverinfo": "skip",
         "line": {
          "color": "lightblue",
          "width": 1
         },
         "mode": "lines",
         "showlegend": false,
         "type": "scatter",
         "x": [
          28.80333999676587,
          28.537948348223654
         ],
         "y": [
          85.29840443096994,
          86.26254512240664
         ]
        },
        {
         "hoverinfo": "skip",
         "line": {
          "color": "lightblue",
          "width": 1
         },
         "mode": "lines",
         "showlegend": false,
         "type": "scatter",
         "x": [
          56.76517145518175,
          57.28503194366298
         ],
         "y": [
          32.795373970461426,
          33.64962514694061
         ]
        },
        {
         "hoverinfo": "skip",
         "line": {
          "color": "lightblue",
          "width": 1
         },
         "mode": "lines",
         "showlegend": false,
         "type": "scatter",
         "x": [
          30.432071554986052,
          31.425108745590173
         ],
         "y": [
          9.261411886889586,
          9.37921315206564
         ]
        },
        {
         "hoverinfo": "skip",
         "line": {
          "color": "lightblue",
          "width": 1
         },
         "mode": "lines",
         "showlegend": false,
         "type": "scatter",
         "x": [
          47.269461390583835,
          47.838024281971514
         ],
         "y": [
          71.57411649661594,
          72.39675629539599
         ]
        },
        {
         "hoverinfo": "skip",
         "line": {
          "color": "lightblue",
          "width": 1
         },
         "mode": "lines",
         "showlegend": false,
         "type": "scatter",
         "x": [
          24.59656813184225,
          23.669557597383225
         ],
         "y": [
          84.77371460346428,
          84.39867931312217
         ]
        },
        {
         "hoverinfo": "skip",
         "line": {
          "color": "lightblue",
          "width": 1
         },
         "mode": "lines",
         "showlegend": false,
         "type": "scatter",
         "x": [
          28.45383773881285,
          28.460324114191092
         ],
         "y": [
          63.368796603409606,
          62.368817640163655
         ]
        },
        {
         "hoverinfo": "skip",
         "line": {
          "color": "lightblue",
          "width": 1
         },
         "mode": "lines",
         "showlegend": false,
         "type": "scatter",
         "x": [
          79.80931908605145,
          80.80401036576562
         ],
         "y": [
          19.77015649609426,
          19.873060616811394
         ]
        },
        {
         "hoverinfo": "skip",
         "line": {
          "color": "lightblue",
          "width": 1
         },
         "mode": "lines",
         "showlegend": false,
         "type": "scatter",
         "x": [
          74.68328032635353,
          73.83758941669848
         ],
         "y": [
          39.05082930695128,
          39.58450232044065
         ]
        },
        {
         "hoverinfo": "skip",
         "line": {
          "color": "lightblue",
          "width": 1
         },
         "mode": "lines",
         "showlegend": false,
         "type": "scatter",
         "x": [
          23.669557597383225,
          23.007046170323676
         ],
         "y": [
          84.39867931312217,
          85.14773111975208
         ]
        },
        {
         "hoverinfo": "skip",
         "line": {
          "color": "lightblue",
          "width": 1
         },
         "mode": "lines",
         "showlegend": false,
         "type": "scatter",
         "x": [
          47.85714536210425,
          46.95174905277814
         ],
         "y": [
          33.476024848385954,
          33.05145739431221
         ]
        },
        {
         "hoverinfo": "skip",
         "line": {
          "color": "lightblue",
          "width": 1
         },
         "mode": "lines",
         "showlegend": false,
         "type": "scatter",
         "x": [
          65.02921575718624,
          64.27129082455289
         ],
         "y": [
          18.21497042831709,
          17.56262864942144
         ]
        },
        {
         "hoverinfo": "skip",
         "line": {
          "color": "lightblue",
          "width": 1
         },
         "mode": "lines",
         "showlegend": false,
         "type": "scatter",
         "x": [
          63.860265735725655,
          63.291149644095114
         ],
         "y": [
          34.766209014551364,
          35.588466197096565
         ]
        },
        {
         "hoverinfo": "skip",
         "line": {
          "color": "lightblue",
          "width": 1
         },
         "mode": "lines",
         "showlegend": false,
         "type": "scatter",
         "x": [
          30.432071554986052,
          29.966894333241253
         ],
         "y": [
          9.261411886889586,
          10.146629460353754
         ]
        },
        {
         "hoverinfo": "skip",
         "line": {
          "color": "lightblue",
          "width": 1
         },
         "mode": "lines",
         "showlegend": false,
         "type": "scatter",
         "x": [
          78.14115775899583,
          78.46177547665006
         ],
         "y": [
          18.89473844947612,
          17.94752977176767
         ]
        },
        {
         "hoverinfo": "skip",
         "line": {
          "color": "lightblue",
          "width": 1
         },
         "mode": "lines",
         "showlegend": false,
         "type": "scatter",
         "x": [
          80.80401036576562,
          81.42124137207696
         ],
         "y": [
          19.873060616811394,
          19.08627863630607
         ]
        },
        {
         "hoverinfo": "skip",
         "line": {
          "color": "lightblue",
          "width": 1
         },
         "mode": "lines",
         "showlegend": false,
         "type": "scatter",
         "x": [
          23.007046170323676,
          22.470914960870076
         ],
         "y": [
          85.14773111975208,
          85.99186578095835
         ]
        },
        {
         "hoverinfo": "skip",
         "line": {
          "color": "lightblue",
          "width": 1
         },
         "mode": "lines",
         "showlegend": false,
         "type": "scatter",
         "x": [
          22.470914960870076,
          22.26484637570129
         ],
         "y": [
          85.99186578095835,
          86.97040333169748
         ]
        },
        {
         "hoverinfo": "skip",
         "line": {
          "color": "lightblue",
          "width": 1
         },
         "mode": "lines",
         "showlegend": false,
         "type": "scatter",
         "x": [
          64.27129082455289,
          63.27719266337404
         ],
         "y": [
          17.56262864942144,
          17.671112961378586
         ]
        },
        {
         "hoverinfo": "skip",
         "line": {
          "color": "lightblue",
          "width": 1
         },
         "mode": "lines",
         "showlegend": false,
         "type": "scatter",
         "x": [
          28.460324114191092,
          27.766571773108474
         ],
         "y": [
          62.368817640163655,
          61.648603998774945
         ]
        },
        {
         "hoverinfo": "skip",
         "line": {
          "color": "lightblue",
          "width": 1
         },
         "mode": "lines",
         "showlegend": false,
         "type": "scatter",
         "x": [
          10.635863684964487,
          9.721060315615725
         ],
         "y": [
          43.284809511207065,
          43.68870899799574
         ]
        },
        {
         "hoverinfo": "skip",
         "line": {
          "color": "lightblue",
          "width": 1
         },
         "mode": "lines",
         "showlegend": false,
         "type": "scatter",
         "x": [
          22.26484637570129,
          22.180126854314842
         ],
         "y": [
          86.97040333169748,
          87.96680817045332
         ]
        },
        {
         "hoverinfo": "skip",
         "line": {
          "color": "lightblue",
          "width": 1
         },
         "mode": "lines",
         "showlegend": false,
         "type": "scatter",
         "x": [
          73.75319494722125,
          73.41486436483635
         ],
         "y": [
          17.148595608856205,
          16.207568288836697
         ]
        },
        {
         "hoverinfo": "skip",
         "line": {
          "color": "lightblue",
          "width": 1
         },
         "mode": "lines",
         "showlegend": false,
         "type": "scatter",
         "x": [
          86.3343854515999,
          87.29111981040548
         ],
         "y": [
          34.348057706434126,
          34.63902053340843
         ]
        },
        {
         "hoverinfo": "skip",
         "line": {
          "color": "lightblue",
          "width": 1
         },
         "mode": "lines",
         "showlegend": false,
         "type": "scatter",
         "x": [
          87.29111981040548,
          88.2713801694814
         ],
         "y": [
          34.63902053340843,
          34.836731505345554
         ]
        },
        {
         "hoverinfo": "skip",
         "line": {
          "color": "lightblue",
          "width": 1
         },
         "mode": "lines",
         "showlegend": false,
         "type": "scatter",
         "x": [
          63.27719266337404,
          62.410917065737664
         ],
         "y": [
          17.671112961378586,
          17.171546560446995
         ]
        },
        {
         "hoverinfo": "skip",
         "line": {
          "color": "lightblue",
          "width": 1
         },
         "mode": "lines",
         "showlegend": false,
         "type": "scatter",
         "x": [
          28.537948348223654,
          29.447031554694586
         ],
         "y": [
          86.26254512240664,
          86.6791597209417
         ]
        },
        {
         "hoverinfo": "skip",
         "line": {
          "color": "lightblue",
          "width": 1
         },
         "mode": "lines",
         "showlegend": false,
         "type": "scatter",
         "x": [
          11.26510412580871,
          12.237496930301589
         ],
         "y": [
          51.70035331212925,
          51.93370333627855
         ]
        },
        {
         "hoverinfo": "skip",
         "line": {
          "color": "lightblue",
          "width": 1
         },
         "mode": "lines",
         "showlegend": false,
         "type": "scatter",
         "x": [
          44.42766543551283,
          44.45558191803281
         ],
         "y": [
          66.24875642742148,
          66.42830864693569
         ]
        },
        {
         "hoverinfo": "skip",
         "line": {
          "color": "lightblue",
          "width": 1
         },
         "mode": "lines",
         "showlegend": false,
         "type": "scatter",
         "x": [
          29.447031554694586,
          29.988496872457244
         ],
         "y": [
          86.6791597209417,
          87.51988280832552
         ]
        },
        {
         "hoverinfo": "skip",
         "line": {
          "color": "lightblue",
          "width": 1
         },
         "mode": "lines",
         "showlegend": false,
         "type": "scatter",
         "x": [
          9.949129094880291,
          10.228642144178346
         ],
         "y": [
          12.856192347724102,
          13.119337385769903
         ]
        },
        {
         "hoverinfo": "skip",
         "line": {
          "color": "lightblue",
          "width": 1
         },
         "mode": "lines",
         "showlegend": false,
         "type": "scatter",
         "x": [
          70.26046055920114,
          70.12083558912008
         ],
         "y": [
          31.708828356131445,
          31.64268162507571
         ]
        },
        {
         "hoverinfo": "skip",
         "line": {
          "color": "lightblue",
          "width": 1
         },
         "mode": "lines",
         "showlegend": false,
         "type": "scatter",
         "x": [
          78.46177547665006,
          78.60586189582067
         ],
         "y": [
          17.94752977176767,
          16.95796466334347
         ]
        },
        {
         "hoverinfo": "skip",
         "line": {
          "color": "lightblue",
          "width": 1
         },
         "mode": "lines",
         "showlegend": false,
         "type": "scatter",
         "x": [
          54.524400504925815,
          55.38213847997019
         ],
         "y": [
          49.3162881678931,
          49.830375287131446
         ]
        },
        {
         "hoverinfo": "skip",
         "line": {
          "color": "lightblue",
          "width": 1
         },
         "mode": "lines",
         "showlegend": false,
         "type": "scatter",
         "x": [
          52.55297352371265,
          52.2891192269772
         ],
         "y": [
          49.63925386875194,
          50.603816417316956
         ]
        },
        {
         "hoverinfo": "skip",
         "line": {
          "color": "lightblue",
          "width": 1
         },
         "mode": "lines",
         "showlegend": false,
         "type": "scatter",
         "x": [
          50.61918429413315,
          50.52232490959672
         ],
         "y": [
          49.99569331660317,
          49.36350883160221
         ]
        },
        {
         "hoverinfo": "skip",
         "line": {
          "color": "lightblue",
          "width": 1
         },
         "mode": "lines",
         "showlegend": false,
         "type": "scatter",
         "x": [
          86.0485259660568,
          86.00957728628177
         ],
         "y": [
          32.98577195848782,
          31.986530746195317
         ]
        },
        {
         "hoverinfo": "skip",
         "line": {
          "color": "lightblue",
          "width": 1
         },
         "mode": "lines",
         "showlegend": false,
         "type": "scatter",
         "x": [
          55.38213847997019,
          56.36346059008487
         ],
         "y": [
          49.830375287131446,
          49.63800346954876
         ]
        },
        {
         "hoverinfo": "skip",
         "line": {
          "color": "lightblue",
          "width": 1
         },
         "mode": "lines",
         "showlegend": false,
         "type": "scatter",
         "x": [
          12.356494870636386,
          12.69791368745098
         ],
         "y": [
          13.092157265920203,
          12.71036923358868
         ]
        },
        {
         "hoverinfo": "skip",
         "line": {
          "color": "lightblue",
          "width": 1
         },
         "mode": "lines",
         "showlegend": false,
         "type": "scatter",
         "x": [
          29.31303262630281,
          28.819490878099085
         ],
         "y": [
          79.78670723721304,
          79.82161807890914
         ]
        },
        {
         "hoverinfo": "skip",
         "line": {
          "color": "lightblue",
          "width": 1
         },
         "mode": "lines",
         "showlegend": false,
         "type": "scatter",
         "x": [
          16.34953932977451,
          17.348082427398413
         ],
         "y": [
          21.21337995358006,
          21.15941994813472
         ]
        },
        {
         "hoverinfo": "skip",
         "line": {
          "color": "lightblue",
          "width": 1
         },
         "mode": "lines",
         "showlegend": false,
         "type": "scatter",
         "x": [
          81.42124137207696,
          82.28499091557066
         ],
         "y": [
          19.08627863630607,
          18.582357287170677
         ]
        },
        {
         "hoverinfo": "skip",
         "line": {
          "color": "lightblue",
          "width": 1
         },
         "mode": "lines",
         "showlegend": false,
         "type": "scatter",
         "x": [
          22.180126854314842,
          21.425929595348514
         ],
         "y": [
          87.96680817045332,
          88.62345609329148
         ]
        },
        {
         "hoverinfo": "skip",
         "line": {
          "color": "lightblue",
          "width": 1
         },
         "mode": "lines",
         "showlegend": false,
         "type": "scatter",
         "x": [
          29.988496872457244,
          30.903987064863056
         ],
         "y": [
          87.51988280832552,
          87.92222309664969
         ]
        },
        {
         "hoverinfo": "skip",
         "line": {
          "color": "lightblue",
          "width": 1
         },
         "mode": "lines",
         "showlegend": false,
         "type": "scatter",
         "x": [
          12.825600710956646,
          12.242380248613724
         ],
         "y": [
          16.86676071091794,
          16.05444679850199
         ]
        },
        {
         "hoverinfo": "skip",
         "line": {
          "color": "lightblue",
          "width": 1
         },
         "mode": "lines",
         "showlegend": false,
         "type": "scatter",
         "x": [
          9.721060315615725,
          8.729552645921043
         ],
         "y": [
          43.68870899799574,
          43.81875722342239
         ]
        },
        {
         "hoverinfo": "skip",
         "line": {
          "color": "lightblue",
          "width": 1
         },
         "mode": "lines",
         "showlegend": false,
         "type": "scatter",
         "x": [
          60.93465471816492,
          60.60430368893163
         ],
         "y": [
          30.776349785732947,
          30.704149997386708
         ]
        },
        {
         "hoverinfo": "skip",
         "line": {
          "color": "lightblue",
          "width": 1
         },
         "mode": "lines",
         "showlegend": false,
         "type": "scatter",
         "x": [
          82.28499091557066,
          82.90472965493319
         ],
         "y": [
          18.582357287170677,
          17.79754909727117
         ]
        },
        {
         "hoverinfo": "skip",
         "line": {
          "color": "lightblue",
          "width": 1
         },
         "mode": "lines",
         "showlegend": false,
         "type": "scatter",
         "x": [
          3.201919484828862,
          2.53154809332212
         ],
         "y": [
          5.376329389866448,
          6.11835512894112
         ]
        },
        {
         "hoverinfo": "skip",
         "line": {
          "color": "lightblue",
          "width": 1
         },
         "mode": "lines",
         "showlegend": false,
         "type": "scatter",
         "x": [
          85.8050414634804,
          86.56809828129751
         ],
         "y": [
          49.729722555991515,
          50.376053966943225
         ]
        },
        {
         "hoverinfo": "skip",
         "line": {
          "color": "lightblue",
          "width": 1
         },
         "mode": "lines",
         "showlegend": false,
         "type": "scatter",
         "x": [
          22.470914960870076,
          21.601976689242797
         ],
         "y": [
          85.99186578095835,
          85.49694530239498
         ]
        },
        {
         "hoverinfo": "skip",
         "line": {
          "color": "lightblue",
          "width": 1
         },
         "mode": "lines",
         "showlegend": false,
         "type": "scatter",
         "x": [
          21.601976689242797,
          20.602182877723592
         ],
         "y": [
          85.49694530239498,
          85.51725132238671
         ]
        },
        {
         "hoverinfo": "skip",
         "line": {
          "color": "lightblue",
          "width": 1
         },
         "mode": "lines",
         "showlegend": false,
         "type": "scatter",
         "x": [
          11.61480745648577,
          12.451893187150862
         ],
         "y": [
          43.488939597670786,
          42.941867866069806
         ]
        },
        {
         "hoverinfo": "skip",
         "line": {
          "color": "lightblue",
          "width": 1
         },
         "mode": "lines",
         "showlegend": false,
         "type": "scatter",
         "x": [
          56.36346059008487,
          56.64209866675679
         ],
         "y": [
          49.63800346954876,
          50.598399649376944
         ]
        },
        {
         "hoverinfo": "skip",
         "line": {
          "color": "lightblue",
          "width": 1
         },
         "mode": "lines",
         "showlegend": false,
         "type": "scatter",
         "x": [
          31.425108745590173,
          32.42411066218855
         ],
         "y": [
          9.37921315206564,
          9.423880485014491
         ]
        },
        {
         "hoverinfo": "skip",
         "line": {
          "color": "lightblue",
          "width": 1
         },
         "mode": "lines",
         "showlegend": false,
         "type": "scatter",
         "x": [
          32.68740279687324,
          32.423831568571664
         ],
         "y": [
          30.68914977418218,
          29.724509837412196
         ]
        },
        {
         "hoverinfo": "skip",
         "line": {
          "color": "lightblue",
          "width": 1
         },
         "mode": "lines",
         "showlegend": false,
         "type": "scatter",
         "x": [
          32.42411066218855,
          33.4233027192471
         ],
         "y": [
          9.423880485014491,
          9.46407044783004
         ]
        },
        {
         "hoverinfo": "skip",
         "line": {
          "color": "lightblue",
          "width": 1
         },
         "mode": "lines",
         "showlegend": false,
         "type": "scatter",
         "x": [
          56.64209866675679,
          57.64013161800475
         ],
         "y": [
          50.598399649376944,
          50.661091181686125
         ]
        },
        {
         "hoverinfo": "skip",
         "line": {
          "color": "lightblue",
          "width": 1
         },
         "mode": "lines",
         "showlegend": false,
         "type": "scatter",
         "x": [
          86.56809828129751,
          87.47317935677823
         ],
         "y": [
          50.376053966943225,
          50.80129301360599
         ]
        },
        {
         "hoverinfo": "skip",
         "line": {
          "color": "lightblue",
          "width": 1
         },
         "mode": "lines",
         "showlegend": false,
         "type": "scatter",
         "x": [
          30.61908814856679,
          31.18686959117516
         ],
         "y": [
          75.76295529598593,
          74.95366113888471
         ]
        },
        {
         "hoverinfo": "skip",
         "line": {
          "color": "lightblue",
          "width": 1
         },
         "mode": "lines",
         "showlegend": false,
         "type": "scatter",
         "x": [
          7.1558988699298824,
          8.065254856942225
         ],
         "y": [
          4.530502516098322,
          4.11448365969298
         ]
        },
        {
         "hoverinfo": "skip",
         "line": {
          "color": "lightblue",
          "width": 1
         },
         "mode": "lines",
         "showlegend": false,
         "type": "scatter",
         "x": [
          65.02921575718624,
          65.99237520932121
         ],
         "y": [
          18.21497042831709,
          18.483901404151137
         ]
        },
        {
         "hoverinfo": "skip",
         "line": {
          "color": "lightblue",
          "width": 1
         },
         "mode": "lines",
         "showlegend": false,
         "type": "scatter",
         "x": [
          13.296538169813834,
          12.420483334656184
         ],
         "y": [
          14.63041554385209,
          14.677179146475483
         ]
        },
        {
         "hoverinfo": "skip",
         "line": {
          "color": "lightblue",
          "width": 1
         },
         "mode": "lines",
         "showlegend": false,
         "type": "scatter",
         "x": [
          17.025360636555174,
          16.61790313080067
         ],
         "y": [
          12.570148968499097,
          12.222917500605835
         ]
        },
        {
         "hoverinfo": "skip",
         "line": {
          "color": "lightblue",
          "width": 1
         },
         "mode": "lines",
         "showlegend": false,
         "type": "scatter",
         "x": [
          30.591130363208787,
          30.859574983414383
         ],
         "y": [
          69.3018637171708,
          69.11488256055213
         ]
        },
        {
         "hoverinfo": "skip",
         "line": {
          "color": "lightblue",
          "width": 1
         },
         "mode": "lines",
         "showlegend": false,
         "type": "scatter",
         "x": [
          18.877175528376245,
          18.736841391849964
         ],
         "y": [
          41.28500955951763,
          42.27511376116785
         ]
        },
        {
         "hoverinfo": "skip",
         "line": {
          "color": "lightblue",
          "width": 1
         },
         "mode": "lines",
         "showlegend": false,
         "type": "scatter",
         "x": [
          23.75382828107491,
          24.359974197977582
         ],
         "y": [
          10.97452269303664,
          11.769876153720768
         ]
        },
        {
         "hoverinfo": "skip",
         "line": {
          "color": "lightblue",
          "width": 1
         },
         "mode": "lines",
         "showlegend": false,
         "type": "scatter",
         "x": [
          20.602182877723592,
          19.602339076544965
         ],
         "y": [
          85.51725132238671,
          85.49957723840275
         ]
        },
        {
         "hoverinfo": "skip",
         "line": {
          "color": "lightblue",
          "width": 1
         },
         "mode": "lines",
         "showlegend": false,
         "type": "scatter",
         "x": [
          18.736841391849964,
          18.583177919417015
         ],
         "y": [
          42.27511376116785,
          43.25696421533857
         ]
        },
        {
         "hoverinfo": "skip",
         "line": {
          "color": "lightblue",
          "width": 1
         },
         "mode": "lines",
         "showlegend": false,
         "type": "scatter",
         "x": [
          33.4233027192471,
          34.07794051376778
         ],
         "y": [
          9.46407044783004,
          8.708127752921824
         ]
        },
        {
         "hoverinfo": "skip",
         "line": {
          "color": "lightblue",
          "width": 1
         },
         "mode": "lines",
         "showlegend": false,
         "type": "scatter",
         "x": [
          46.95174905277814,
          45.952173090588666
         ],
         "y": [
          33.05145739431221,
          33.08057604491609
         ]
        },
        {
         "hoverinfo": "skip",
         "line": {
          "color": "lightblue",
          "width": 1
         },
         "mode": "lines",
         "showlegend": false,
         "type": "scatter",
         "x": [
          82.90472965493319,
          83.37339775419035
         ],
         "y": [
          17.79754909727117,
          16.914174763968077
         ]
        },
        {
         "hoverinfo": "skip",
         "line": {
          "color": "lightblue",
          "width": 1
         },
         "mode": "lines",
         "showlegend": false,
         "type": "scatter",
         "x": [
          19.602339076544965,
          18.69321078855621
         ],
         "y": [
          85.49957723840275,
          85.916093451747
         ]
        },
        {
         "hoverinfo": "skip",
         "line": {
          "color": "lightblue",
          "width": 1
         },
         "mode": "lines",
         "showlegend": false,
         "type": "scatter",
         "x": [
          72.87705590215768,
          73.30792610710533
         ],
         "y": [
          32.38754157560449,
          31.805249003887248
         ]
        },
        {
         "hoverinfo": "skip",
         "line": {
          "color": "lightblue",
          "width": 1
         },
         "mode": "lines",
         "showlegend": false,
         "type": "scatter",
         "x": [
          27.766571773108474,
          26.815784098081064
         ],
         "y": [
          61.648603998774945,
          61.95844718010378
         ]
        },
        {
         "hoverinfo": "skip",
         "line": {
          "color": "lightblue",
          "width": 1
         },
         "mode": "lines",
         "showlegend": false,
         "type": "scatter",
         "x": [
          18.69321078855621,
          18.41088355547017
         ],
         "y": [
          85.916093451747,
          84.95677529104223
         ]
        },
        {
         "hoverinfo": "skip",
         "line": {
          "color": "lightblue",
          "width": 1
         },
         "mode": "lines",
         "showlegend": false,
         "type": "scatter",
         "x": [
          52.55297352371265,
          52.17253778390697
         ],
         "y": [
          49.63925386875194,
          48.892521377140994
         ]
        },
        {
         "hoverinfo": "skip",
         "line": {
          "color": "lightblue",
          "width": 1
         },
         "mode": "lines",
         "showlegend": false,
         "type": "scatter",
         "x": [
          18.49472579482473,
          18.212872801395562
         ],
         "y": [
          32.408148204952546,
          33.36760580698351
         ]
        },
        {
         "hoverinfo": "skip",
         "line": {
          "color": "lightblue",
          "width": 1
         },
         "mode": "lines",
         "showlegend": false,
         "type": "scatter",
         "x": [
          83.37339775419035,
          83.80629749390067
         ],
         "y": [
          16.914174763968077,
          16.012732688536307
         ]
        },
        {
         "hoverinfo": "skip",
         "line": {
          "color": "lightblue",
          "width": 1
         },
         "mode": "lines",
         "showlegend": false,
         "type": "scatter",
         "x": [
          34.07794051376778,
          34.998742717073945
         ],
         "y": [
          8.708127752921824,
          8.318097879211475
         ]
        },
        {
         "hoverinfo": "skip",
         "line": {
          "color": "lightblue",
          "width": 1
         },
         "mode": "lines",
         "showlegend": false,
         "type": "scatter",
         "x": [
          29.966894333241253,
          30.25652634837227
         ],
         "y": [
          10.146629460353754,
          11.103767535978765
         ]
        },
        {
         "hoverinfo": "skip",
         "line": {
          "color": "lightblue",
          "width": 1
         },
         "mode": "lines",
         "showlegend": false,
         "type": "scatter",
         "x": [
          26.815784098081064,
          25.985024060583754
         ],
         "y": [
          61.95844718010378,
          62.51507790158569
         ]
        },
        {
         "hoverinfo": "skip",
         "line": {
          "color": "lightblue",
          "width": 1
         },
         "mode": "lines",
         "showlegend": false,
         "type": "scatter",
         "x": [
          18.69321078855621,
          18.164674649272254
         ],
         "y": [
          85.916093451747,
          86.76500425358122
         ]
        },
        {
         "hoverinfo": "skip",
         "line": {
          "color": "lightblue",
          "width": 1
         },
         "mode": "lines",
         "showlegend": false,
         "type": "scatter",
         "x": [
          34.998742717073945,
          35.841772907328576
         ],
         "y": [
          8.318097879211475,
          7.780231633459581
         ]
        },
        {
         "hoverinfo": "skip",
         "line": {
          "color": "lightblue",
          "width": 1
         },
         "mode": "lines",
         "showlegend": false,
         "type": "scatter",
         "x": [
          82.15274723796873,
          81.46142669733639
         ],
         "y": [
          53.45828414068495,
          54.1808323467583
         ]
        },
        {
         "hoverinfo": "skip",
         "line": {
          "color": "lightblue",
          "width": 1
         },
         "mode": "lines",
         "showlegend": false,
         "type": "scatter",
         "x": [
          1.496891721669565,
          1.8414775438381326
         ],
         "y": [
          2.9652215097483796,
          3.0028667879522852
         ]
        },
        {
         "hoverinfo": "skip",
         "line": {
          "color": "lightblue",
          "width": 1
         },
         "mode": "lines",
         "showlegend": false,
         "type": "scatter",
         "x": [
          78.19332623155265,
          78.19345447910742
         ],
         "y": [
          41.955773530810305,
          41.737541914883316
         ]
        },
        {
         "hoverinfo": "skip",
         "line": {
          "color": "lightblue",
          "width": 1
         },
         "mode": "lines",
         "showlegend": false,
         "type": "scatter",
         "x": [
          6.760103544493969,
          6.410538174248831
         ],
         "y": [
          13.014757224213733,
          13.951669200829135
         ]
        },
        {
         "hoverinfo": "skip",
         "line": {
          "color": "lightblue",
          "width": 1
         },
         "mode": "lines",
         "showlegend": false,
         "type": "scatter",
         "x": [
          30.25652634837227,
          30.500116886129753
         ],
         "y": [
          11.103767535978765,
          12.0736456983863
         ]
        },
        {
         "hoverinfo": "skip",
         "line": {
          "color": "lightblue",
          "width": 1
         },
         "mode": "lines",
         "showlegend": false,
         "type": "scatter",
         "x": [
          8.729552645921043,
          8.299878403579388
         ],
         "y": [
          43.81875722342239,
          44.72174119087038
         ]
        },
        {
         "hoverinfo": "skip",
         "line": {
          "color": "lightblue",
          "width": 1
         },
         "mode": "lines",
         "showlegend": false,
         "type": "scatter",
         "x": [
          55.993633918540695,
          56.32455754556199
         ],
         "y": [
          69.26222781894742,
          68.31857027879894
         ]
        },
        {
         "hoverinfo": "skip",
         "line": {
          "color": "lightblue",
          "width": 1
         },
         "mode": "lines",
         "showlegend": false,
         "type": "scatter",
         "x": [
          8.491469170809141,
          9.47993608219337
         ],
         "y": [
          7.815552105744725,
          7.6641151053170775
         ]
        },
        {
         "hoverinfo": "skip",
         "line": {
          "color": "lightblue",
          "width": 1
         },
         "mode": "lines",
         "showlegend": false,
         "type": "scatter",
         "x": [
          83.53117480267082,
          82.56940246426942
         ],
         "y": [
          33.78948557040946,
          33.515635302770555
         ]
        },
        {
         "hoverinfo": "skip",
         "line": {
          "color": "lightblue",
          "width": 1
         },
         "mode": "lines",
         "showlegend": false,
         "type": "scatter",
         "x": [
          6.410538174248831,
          5.440534409842831
         ],
         "y": [
          13.951669200829135,
          14.194759095802556
         ]
        },
        {
         "hoverinfo": "skip",
         "line": {
          "color": "lightblue",
          "width": 1
         },
         "mode": "lines",
         "showlegend": false,
         "type": "scatter",
         "x": [
          30.903987064863056,
          30.61676392659651
         ],
         "y": [
          87.92222309664969,
          88.88008679720646
         ]
        },
        {
         "hoverinfo": "skip",
         "line": {
          "color": "lightblue",
          "width": 1
         },
         "mode": "lines",
         "showlegend": false,
         "type": "scatter",
         "x": [
          30.61676392659651,
          31.48421808389917
         ],
         "y": [
          88.88008679720646,
          89.37760391749312
         ]
        },
        {
         "hoverinfo": "skip",
         "line": {
          "color": "lightblue",
          "width": 1
         },
         "mode": "lines",
         "showlegend": false,
         "type": "scatter",
         "x": [
          81.46142669733639,
          81.0880406483414
         ],
         "y": [
          54.1808323467583,
          55.10850839927659
         ]
        },
        {
         "hoverinfo": "skip",
         "line": {
          "color": "lightblue",
          "width": 1
         },
         "mode": "lines",
         "showlegend": false,
         "type": "scatter",
         "x": [
          79.80931908605145,
          80.10858377451993
         ],
         "y": [
          19.77015649609426,
          20.382904980969883
         ]
        },
        {
         "hoverinfo": "skip",
         "line": {
          "color": "lightblue",
          "width": 1
         },
         "mode": "lines",
         "showlegend": false,
         "type": "scatter",
         "x": [
          31.48421808389917,
          32.0158626523126
         ],
         "y": [
          89.37760391749312,
          90.22457148055354
         ]
        },
        {
         "hoverinfo": "skip",
         "line": {
          "color": "lightblue",
          "width": 1
         },
         "mode": "lines",
         "showlegend": false,
         "type": "scatter",
         "x": [
          83.80629749390067,
          83.62809107092512
         ],
         "y": [
          16.012732688536307,
          15.028739563148603
         ]
        },
        {
         "hoverinfo": "skip",
         "line": {
          "color": "lightblue",
          "width": 1
         },
         "mode": "lines",
         "showlegend": false,
         "type": "scatter",
         "x": [
          63.291149644095114,
          63.2367276820204
         ],
         "y": [
          35.588466197096565,
          36.5869842239964
         ]
        },
        {
         "hoverinfo": "skip",
         "line": {
          "color": "lightblue",
          "width": 1
         },
         "mode": "lines",
         "showlegend": false,
         "type": "scatter",
         "x": [
          86.00957728628177,
          86.88821315597417
         ],
         "y": [
          31.986530746195317,
          31.509038328988645
         ]
        },
        {
         "hoverinfo": "skip",
         "line": {
          "color": "lightblue",
          "width": 1
         },
         "mode": "lines",
         "showlegend": false,
         "type": "scatter",
         "x": [
          27.438648528170962,
          26.63538448751571
         ],
         "y": [
          5.609199795308484,
          5.0135766921717755
         ]
        },
        {
         "hoverinfo": "skip",
         "line": {
          "color": "lightblue",
          "width": 1
         },
         "mode": "lines",
         "showlegend": false,
         "type": "scatter",
         "x": [
          27.996705852345787,
          28.453472385521973
         ],
         "y": [
          38.864878184259034,
          38.94090205869257
         ]
        },
        {
         "hoverinfo": "skip",
         "line": {
          "color": "lightblue",
          "width": 1
         },
         "mode": "lines",
         "showlegend": false,
         "type": "scatter",
         "x": [
          78.64787897922879,
          77.65513185776533
         ],
         "y": [
          42.846493351842746,
          42.96671461795659
         ]
        },
        {
         "hoverinfo": "skip",
         "line": {
          "color": "lightblue",
          "width": 1
         },
         "mode": "lines",
         "showlegend": false,
         "type": "scatter",
         "x": [
          40.268476649283926,
          39.273554773669495
         ],
         "y": [
          50.970805922211476,
          50.87015572884919
         ]
        },
        {
         "hoverinfo": "skip",
         "line": {
          "color": "lightblue",
          "width": 1
         },
         "mode": "lines",
         "showlegend": false,
         "type": "scatter",
         "x": [
          57.64013161800475,
          58.23219187969552
         ],
         "y": [
          50.661091181686125,
          51.46698487599491
         ]
        },
        {
         "hoverinfo": "skip",
         "line": {
          "color": "lightblue",
          "width": 1
         },
         "mode": "lines",
         "showlegend": false,
         "type": "scatter",
         "x": [
          18.583177919417015,
          19.291635212035718
         ],
         "y": [
          43.25696421533857,
          43.962717900795035
         ]
        },
        {
         "hoverinfo": "skip",
         "line": {
          "color": "lightblue",
          "width": 1
         },
         "mode": "lines",
         "showlegend": false,
         "type": "scatter",
         "x": [
          81.0880406483414,
          80.63269386139378
         ],
         "y": [
          55.10850839927659,
          55.998822559343964
         ]
        },
        {
         "hoverinfo": "skip",
         "line": {
          "color": "lightblue",
          "width": 1
         },
         "mode": "lines",
         "showlegend": false,
         "type": "scatter",
         "x": [
          47.71649555634077,
          47.28044759941626
         ],
         "y": [
          37.734037447733904,
          37.34995259158116
         ]
        },
        {
         "hoverinfo": "skip",
         "line": {
          "color": "lightblue",
          "width": 1
         },
         "mode": "lines",
         "showlegend": false,
         "type": "scatter",
         "x": [
          28.843783770077682,
          28.999351387720186
         ],
         "y": [
          75.61396173530098,
          75.71611574631515
         ]
        },
        {
         "hoverinfo": "skip",
         "line": {
          "color": "lightblue",
          "width": 1
         },
         "mode": "lines",
         "showlegend": false,
         "type": "scatter",
         "x": [
          58.23219187969552,
          58.90791454172258
         ],
         "y": [
          51.46698487599491,
          52.20414081880691
         ]
        },
        {
         "hoverinfo": "skip",
         "line": {
          "color": "lightblue",
          "width": 1
         },
         "mode": "lines",
         "showlegend": false,
         "type": "scatter",
         "x": [
          12.69791368745098,
          12.766038389945955
         ],
         "y": [
          12.71036923358868,
          12.176041384542858
         ]
        },
        {
         "hoverinfo": "skip",
         "line": {
          "color": "lightblue",
          "width": 1
         },
         "mode": "lines",
         "showlegend": false,
         "type": "scatter",
         "x": [
          31.48421808389917,
          32.128057154649426
         ],
         "y": [
          89.37760391749312,
          89.5028428100719
         ]
        },
        {
         "hoverinfo": "skip",
         "line": {
          "color": "lightblue",
          "width": 1
         },
         "mode": "lines",
         "showlegend": false,
         "type": "scatter",
         "x": [
          86.88821315597417,
          87.73341409638695
         ],
         "y": [
          31.509038328988645,
          30.97458966884872
         ]
        },
        {
         "hoverinfo": "skip",
         "line": {
          "color": "lightblue",
          "width": 1
         },
         "mode": "lines",
         "showlegend": false,
         "type": "scatter",
         "x": [
          52.04405971176913,
          51.81138552247783
         ],
         "y": [
          30.613643734134854,
          31.14446955404484
         ]
        },
        {
         "hoverinfo": "skip",
         "line": {
          "color": "lightblue",
          "width": 1
         },
         "mode": "lines",
         "showlegend": false,
         "type": "scatter",
         "x": [
          83.62809107092512,
          83.50020311137088
         ],
         "y": [
          15.028739563148603,
          14.036950941616245
         ]
        },
        {
         "hoverinfo": "skip",
         "line": {
          "color": "lightblue",
          "width": 1
         },
         "mode": "lines",
         "showlegend": false,
         "type": "scatter",
         "x": [
          80.68830201153877,
          80.82714073128967
         ],
         "y": [
          36.73937002378789,
          37.729685029176544
         ]
        },
        {
         "hoverinfo": "skip",
         "line": {
          "color": "lightblue",
          "width": 1
         },
         "mode": "lines",
         "showlegend": false,
         "type": "scatter",
         "x": [
          21.425929595348514,
          21.013679337230524
         ],
         "y": [
          88.62345609329148,
          89.53452674076162
         ]
        },
        {
         "hoverinfo": "skip",
         "line": {
          "color": "lightblue",
          "width": 1
         },
         "mode": "lines",
         "showlegend": false,
         "type": "scatter",
         "x": [
          80.63269386139378,
          80.4841160823901
         ],
         "y": [
          55.998822559343964,
          56.98772328418258
         ]
        },
        {
         "hoverinfo": "skip",
         "line": {
          "color": "lightblue",
          "width": 1
         },
         "mode": "lines",
         "showlegend": false,
         "type": "scatter",
         "x": [
          31.533386138585257,
          31.659358934937845
         ],
         "y": [
          34.4559015774551,
          35.44793527374728
         ]
        },
        {
         "hoverinfo": "skip",
         "line": {
          "color": "lightblue",
          "width": 1
         },
         "mode": "lines",
         "showlegend": false,
         "type": "scatter",
         "x": [
          56.64209866675679,
          56.10234297855331
         ],
         "y": [
          50.598399649376944,
          51.440221362717715
         ]
        },
        {
         "hoverinfo": "skip",
         "line": {
          "color": "lightblue",
          "width": 1
         },
         "mode": "lines",
         "showlegend": false,
         "type": "scatter",
         "x": [
          66.27884163706352,
          66.2875162409511
         ],
         "y": [
          22.634519088477937,
          23.63448146339381
         ]
        },
        {
         "hoverinfo": "skip",
         "line": {
          "color": "lightblue",
          "width": 1
         },
         "mode": "lines",
         "showlegend": false,
         "type": "scatter",
         "x": [
          30.500116886129753,
          31.35654791780834
         ],
         "y": [
          12.0736456983863,
          12.589907151506667
         ]
        },
        {
         "hoverinfo": "skip",
         "line": {
          "color": "lightblue",
          "width": 1
         },
         "mode": "lines",
         "showlegend": false,
         "type": "scatter",
         "x": [
          10.310799561485778,
          9.49673905595744
         ],
         "y": [
          51.401517573783885,
          51.98229764690877
         ]
        },
        {
         "hoverinfo": "skip",
         "line": {
          "color": "lightblue",
          "width": 1
         },
         "mode": "lines",
         "showlegend": false,
         "type": "scatter",
         "x": [
          65.65638843623594,
          65.70999562165451
         ],
         "y": [
          21.851862067312535,
          21.475965783415162
         ]
        },
        {
         "hoverinfo": "skip",
         "line": {
          "color": "lightblue",
          "width": 1
         },
         "mode": "lines",
         "showlegend": false,
         "type": "scatter",
         "x": [
          47.269461390583835,
          46.304633635137506
         ],
         "y": [
          71.57411649661594,
          71.83699936467774
         ]
        },
        {
         "hoverinfo": "skip",
         "line": {
          "color": "lightblue",
          "width": 1
         },
         "mode": "lines",
         "showlegend": false,
         "type": "scatter",
         "x": [
          26.52362465247122,
          26.098079549482122
         ],
         "y": [
          82.54874497709015,
          81.88745826263299
         ]
        },
        {
         "hoverinfo": "skip",
         "line": {
          "color": "lightblue",
          "width": 1
         },
         "mode": "lines",
         "showlegend": false,
         "type": "scatter",
         "x": [
          80.4841160823901,
          79.52482399534097
         ],
         "y": [
          56.98772328418258,
          57.270139097700344
         ]
        },
        {
         "hoverinfo": "skip",
         "line": {
          "color": "lightblue",
          "width": 1
         },
         "mode": "lines",
         "showlegend": false,
         "type": "scatter",
         "x": [
          62.410917065737664,
          61.41469339543162
         ],
         "y": [
          17.171546560446995,
          17.08472260798023
         ]
        },
        {
         "hoverinfo": "skip",
         "line": {
          "color": "lightblue",
          "width": 1
         },
         "mode": "lines",
         "showlegend": false,
         "type": "scatter",
         "x": [
          9.49673905595744,
          8.506838224806181
         ],
         "y": [
          51.98229764690877,
          51.8405360707111
         ]
        },
        {
         "hoverinfo": "skip",
         "line": {
          "color": "lightblue",
          "width": 1
         },
         "mode": "lines",
         "showlegend": false,
         "type": "scatter",
         "x": [
          45.952173090588666,
          45.76378264448848
         ],
         "y": [
          33.08057604491609,
          32.098481833641955
         ]
        },
        {
         "hoverinfo": "skip",
         "line": {
          "color": "lightblue",
          "width": 1
         },
         "mode": "lines",
         "showlegend": false,
         "type": "scatter",
         "x": [
          8.299878403579388,
          7.346618373961686
         ],
         "y": [
          44.72174119087038,
          44.41959004337421
         ]
        },
        {
         "hoverinfo": "skip",
         "line": {
          "color": "lightblue",
          "width": 1
         },
         "mode": "lines",
         "showlegend": false,
         "type": "scatter",
         "x": [
          35.841772907328576,
          36.740915774135566
         ],
         "y": [
          7.780231633459581,
          7.342576398062913
         ]
        },
        {
         "hoverinfo": "skip",
         "line": {
          "color": "lightblue",
          "width": 1
         },
         "mode": "lines",
         "showlegend": false,
         "type": "scatter",
         "x": [
          80.4841160823901,
          80.88741086600938
         ],
         "y": [
          56.98772328418258,
          57.90279340035155
         ]
        },
        {
         "hoverinfo": "skip",
         "line": {
          "color": "lightblue",
          "width": 1
         },
         "mode": "lines",
         "showlegend": false,
         "type": "scatter",
         "x": [
          1.8414775438381326,
          2.306507445862749
         ],
         "y": [
          3.0028667879522852,
          3.168319946044329
         ]
        },
        {
         "hoverinfo": "skip",
         "line": {
          "color": "lightblue",
          "width": 1
         },
         "mode": "lines",
         "showlegend": false,
         "type": "scatter",
         "x": [
          80.88741086600938,
          81.22994637560808
         ],
         "y": [
          57.90279340035155,
          58.84229828307647
         ]
        },
        {
         "hoverinfo": "skip",
         "line": {
          "color": "lightblue",
          "width": 1
         },
         "mode": "lines",
         "showlegend": false,
         "type": "scatter",
         "x": [
          46.304633635137506,
          45.46209926956808
         ],
         "y": [
          71.83699936467774,
          72.37564195752991
         ]
        },
        {
         "hoverinfo": "skip",
         "line": {
          "color": "lightblue",
          "width": 1
         },
         "mode": "lines",
         "showlegend": false,
         "type": "scatter",
         "x": [
          25.985024060583754,
          25.68336955481517
         ],
         "y": [
          62.51507790158569,
          63.46849520746466
         ]
        },
        {
         "hoverinfo": "skip",
         "line": {
          "color": "lightblue",
          "width": 1
         },
         "mode": "lines",
         "showlegend": false,
         "type": "scatter",
         "x": [
          73.41486436483635,
          73.16353342202149
         ],
         "y": [
          16.207568288836697,
          15.239667076323872
         ]
        },
        {
         "hoverinfo": "skip",
         "line": {
          "color": "lightblue",
          "width": 1
         },
         "mode": "lines",
         "showlegend": false,
         "type": "scatter",
         "x": [
          9.47993608219337,
          10.45319443841455
         ],
         "y": [
          7.6641151053170775,
          7.434401866591818
         ]
        },
        {
         "hoverinfo": "skip",
         "line": {
          "color": "lightblue",
          "width": 1
         },
         "mode": "lines",
         "showlegend": false,
         "type": "scatter",
         "x": [
          77.68322582667756,
          77.96200040282714
         ],
         "y": [
          34.283617759006844,
          34.12705720397108
         ]
        },
        {
         "hoverinfo": "skip",
         "line": {
          "color": "lightblue",
          "width": 1
         },
         "mode": "lines",
         "showlegend": false,
         "type": "scatter",
         "x": [
          73.69638739917073,
          74.11881775087878
         ],
         "y": [
          19.847786729826566,
          20.01318491990991
         ]
        },
        {
         "hoverinfo": "skip",
         "line": {
          "color": "lightblue",
          "width": 1
         },
         "mode": "lines",
         "showlegend": false,
         "type": "scatter",
         "x": [
          19.79414297669945,
          19.015008544344106
         ],
         "y": [
          9.840997730023265,
          10.467854600702937
         ]
        },
        {
         "hoverinfo": "skip",
         "line": {
          "color": "lightblue",
          "width": 1
         },
         "mode": "lines",
         "showlegend": false,
         "type": "scatter",
         "x": [
          32.128057154649426,
          33.1278297813295
         ],
         "y": [
          89.5028428100719,
          89.52416638719265
         ]
        },
        {
         "hoverinfo": "skip",
         "line": {
          "color": "lightblue",
          "width": 1
         },
         "mode": "lines",
         "showlegend": false,
         "type": "scatter",
         "x": [
          33.1278297813295,
          34.02856432935314
         ],
         "y": [
          89.52416638719265,
          89.95853636082879
         ]
        },
        {
         "hoverinfo": "skip",
         "line": {
          "color": "lightblue",
          "width": 1
         },
         "mode": "lines",
         "showlegend": false,
         "type": "scatter",
         "x": [
          21.013679337230524,
          21.554353320490943
         ],
         "y": [
          89.53452674076162,
          90.37575895830045
         ]
        },
        {
         "hoverinfo": "skip",
         "line": {
          "color": "lightblue",
          "width": 1
         },
         "mode": "lines",
         "showlegend": false,
         "type": "scatter",
         "x": [
          34.02856432935314,
          34.995962793815316
         ],
         "y": [
          89.95853636082879,
          89.70527718339149
         ]
        },
        {
         "hoverinfo": "skip",
         "line": {
          "color": "lightblue",
          "width": 1
         },
         "mode": "lines",
         "showlegend": false,
         "type": "scatter",
         "x": [
          81.22994637560808,
          81.6346046231126
         ],
         "y": [
          58.84229828307647,
          59.75676627197852
         ]
        },
        {
         "hoverinfo": "skip",
         "line": {
          "color": "lightblue",
          "width": 1
         },
         "mode": "lines",
         "showlegend": false,
         "type": "scatter",
         "x": [
          87.73341409638695,
          88.46898324515637
         ],
         "y": [
          30.97458966884872,
          30.29714001951776
         ]
        },
        {
         "hoverinfo": "skip",
         "line": {
          "color": "lightblue",
          "width": 1
         },
         "mode": "lines",
         "showlegend": false,
         "type": "scatter",
         "x": [
          41.51575703071138,
          40.584051049410654
         ],
         "y": [
          49.56407628672703,
          49.20086289984756
         ]
        },
        {
         "hoverinfo": "skip",
         "line": {
          "color": "lightblue",
          "width": 1
         },
         "mode": "lines",
         "showlegend": false,
         "type": "scatter",
         "x": [
          81.6346046231126,
          82.17508945276516
         ],
         "y": [
          59.75676627197852,
          60.59812003165125
         ]
        },
        {
         "hoverinfo": "skip",
         "line": {
          "color": "lightblue",
          "width": 1
         },
         "mode": "lines",
         "showlegend": false,
         "type": "scatter",
         "x": [
          19.79414297669945,
          19.218222798860406
         ],
         "y": [
          9.840997730023265,
          9.023491798082802
         ]
        },
        {
         "hoverinfo": "skip",
         "line": {
          "color": "lightblue",
          "width": 1
         },
         "mode": "lines",
         "showlegend": false,
         "type": "scatter",
         "x": [
          77.94321407667107,
          78.91778612578194
         ],
         "y": [
          33.31800597890818,
          33.09393161381517
         ]
        },
        {
         "hoverinfo": "skip",
         "line": {
          "color": "lightblue",
          "width": 1
         },
         "mode": "lines",
         "showlegend": false,
         "type": "scatter",
         "x": [
          71.68800995800062,
          72.36448841906142
         ],
         "y": [
          23.016741819860464,
          22.548638351425765
         ]
        },
        {
         "hoverinfo": "skip",
         "line": {
          "color": "lightblue",
          "width": 1
         },
         "mode": "lines",
         "showlegend": false,
         "type": "scatter",
         "x": [
          31.35654791780834,
          31.615503586930647
         ],
         "y": [
          12.589907151506667,
          13.555796359143557
         ]
        },
        {
         "hoverinfo": "skip",
         "line": {
          "color": "lightblue",
          "width": 1
         },
         "mode": "lines",
         "showlegend": false,
         "type": "scatter",
         "x": [
          87.47317935677823,
          88.24412783206598
         ],
         "y": [
          50.80129301360599,
          51.43819053161928
         ]
        },
        {
         "hoverinfo": "skip",
         "line": {
          "color": "lightblue",
          "width": 1
         },
         "mode": "lines",
         "showlegend": false,
         "type": "scatter",
         "x": [
          1,
          1.4333663236493988
         ],
         "y": [
          1,
          0.4891192787256027
         ]
        },
        {
         "hoverinfo": "skip",
         "line": {
          "color": "lightblue",
          "width": 1
         },
         "mode": "lines",
         "showlegend": false,
         "type": "scatter",
         "x": [
          7.346618373961686,
          6.4337169338957505
         ],
         "y": [
          44.41959004337421,
          44.01140998417785
         ]
        },
        {
         "hoverinfo": "skip",
         "line": {
          "color": "lightblue",
          "width": 1
         },
         "mode": "lines",
         "showlegend": false,
         "type": "scatter",
         "x": [
          52.17253778390697,
          51.89147920999506
         ],
         "y": [
          48.892521377140994,
          47.932830761353486
         ]
        },
        {
         "hoverinfo": "skip",
         "line": {
          "color": "lightblue",
          "width": 1
         },
         "mode": "lines",
         "showlegend": false,
         "type": "scatter",
         "x": [
          1.977113501081825,
          1.137194437183664
         ],
         "y": [
          2.0880744054505187,
          2.1852500803977826
         ]
        },
        {
         "hoverinfo": "skip",
         "line": {
          "color": "lightblue",
          "width": 1
         },
         "mode": "lines",
         "showlegend": false,
         "type": "scatter",
         "x": [
          28.701001928807706,
          28.136687141911285
         ],
         "y": [
          8.264758733823935,
          9.090318435656606
         ]
        },
        {
         "hoverinfo": "skip",
         "line": {
          "color": "lightblue",
          "width": 1
         },
         "mode": "lines",
         "showlegend": false,
         "type": "scatter",
         "x": [
          36.740915774135566,
          37.7296845715603
         ],
         "y": [
          7.342576398062913,
          7.193123177156665
         ]
        },
        {
         "hoverinfo": "skip",
         "line": {
          "color": "lightblue",
          "width": 1
         },
         "mode": "lines",
         "showlegend": false,
         "type": "scatter",
         "x": [
          14.650366447410576,
          13.692332280447083
         ],
         "y": [
          20.004084463590253,
          20.233921121912392
         ]
        },
        {
         "hoverinfo": "skip",
         "line": {
          "color": "lightblue",
          "width": 1
         },
         "mode": "lines",
         "showlegend": false,
         "type": "scatter",
         "x": [
          82.17508945276516,
          82.57639046707557
         ],
         "y": [
          60.59812003165125,
          61.514066261466866
         ]
        },
        {
         "hoverinfo": "skip",
         "line": {
          "color": "lightblue",
          "width": 1
         },
         "mode": "lines",
         "showlegend": false,
         "type": "scatter",
         "x": [
          20.602182877723592,
          21.007360687354026
         ],
         "y": [
          85.51725132238671,
          84.66263890796678
         ]
        },
        {
         "hoverinfo": "skip",
         "line": {
          "color": "lightblue",
          "width": 1
         },
         "mode": "lines",
         "showlegend": false,
         "type": "scatter",
         "x": [
          82.57639046707557,
          82.36937113166235
         ],
         "y": [
          61.514066261466866,
          62.4924031128453
         ]
        },
        {
         "hoverinfo": "skip",
         "line": {
          "color": "lightblue",
          "width": 1
         },
         "mode": "lines",
         "showlegend": false,
         "type": "scatter",
         "x": [
          62.410917065737664,
          62.485677499858674
         ],
         "y": [
          17.171546560446995,
          16.174345037438712
         ]
        },
        {
         "hoverinfo": "skip",
         "line": {
          "color": "lightblue",
          "width": 1
         },
         "mode": "lines",
         "showlegend": false,
         "type": "scatter",
         "x": [
          47.838024281971514,
          47.83983889789092
         ],
         "y": [
          72.39675629539599,
          73.39675464897917
         ]
        },
        {
         "hoverinfo": "skip",
         "line": {
          "color": "lightblue",
          "width": 1
         },
         "mode": "lines",
         "showlegend": false,
         "type": "scatter",
         "x": [
          44.18200276752019,
          43.77453449419054
         ],
         "y": [
          67.21811180784434,
          68.13133117154057
         ]
        },
        {
         "hoverinfo": "skip",
         "line": {
          "color": "lightblue",
          "width": 1
         },
         "mode": "lines",
         "showlegend": false,
         "type": "scatter",
         "x": [
          82.36937113166235,
          82.78392315742481
         ],
         "y": [
          62.4924031128453,
          63.40242872673551
         ]
        },
        {
         "hoverinfo": "skip",
         "line": {
          "color": "lightblue",
          "width": 1
         },
         "mode": "lines",
         "showlegend": false,
         "type": "scatter",
         "x": [
          88.24412783206598,
          89.13515806625315
         ],
         "y": [
          51.43819053161928,
          51.892134494861835
         ]
        },
        {
         "hoverinfo": "skip",
         "line": {
          "color": "lightblue",
          "width": 1
         },
         "mode": "lines",
         "showlegend": false,
         "type": "scatter",
         "x": [
          73.16353342202149,
          73.38841598438897
         ],
         "y": [
          15.239667076323872,
          14.265281201455485
         ]
        },
        {
         "hoverinfo": "skip",
         "line": {
          "color": "lightblue",
          "width": 1
         },
         "mode": "lines",
         "showlegend": false,
         "type": "scatter",
         "x": [
          25.68336955481517,
          24.867391785585742
         ],
         "y": [
          63.46849520746466,
          64.04657848876882
         ]
        },
        {
         "hoverinfo": "skip",
         "line": {
          "color": "lightblue",
          "width": 1
         },
         "mode": "lines",
         "showlegend": false,
         "type": "scatter",
         "x": [
          19.291635212035718,
          19.925806943728514
         ],
         "y": [
          43.962717900795035,
          44.73591012445081
         ]
        },
        {
         "hoverinfo": "skip",
         "line": {
          "color": "lightblue",
          "width": 1
         },
         "mode": "lines",
         "showlegend": false,
         "type": "scatter",
         "x": [
          12.531478760734172,
          11.544519375796733
         ],
         "y": [
          48.033722534332156,
          47.87275305746181
         ]
        },
        {
         "hoverinfo": "skip",
         "line": {
          "color": "lightblue",
          "width": 1
         },
         "mode": "lines",
         "showlegend": false,
         "type": "scatter",
         "x": [
          89.13515806625315,
          89.80827496623917
         ],
         "y": [
          51.892134494861835,
          51.152598397735254
         ]
        },
        {
         "hoverinfo": "skip",
         "line": {
          "color": "lightblue",
          "width": 1
         },
         "mode": "lines",
         "showlegend": false,
         "type": "scatter",
         "x": [
          18.41088355547017,
          18.282959770101076
         ],
         "y": [
          84.95677529104223,
          83.96499128979154
         ]
        },
        {
         "hoverinfo": "skip",
         "line": {
          "color": "lightblue",
          "width": 1
         },
         "mode": "lines",
         "showlegend": false,
         "type": "scatter",
         "x": [
          52.985149522147466,
          53.42050952387994
         ],
         "y": [
          32.56480180444003,
          32.58040657999622
         ]
        },
        {
         "hoverinfo": "skip",
         "line": {
          "color": "lightblue",
          "width": 1
         },
         "mode": "lines",
         "showlegend": false,
         "type": "scatter",
         "x": [
          17.639047411577902,
          17.436094115704947
         ],
         "y": [
          39.18984116212725,
          39.850895550291355
         ]
        },
        {
         "hoverinfo": "skip",
         "line": {
          "color": "lightblue",
          "width": 1
         },
         "mode": "lines",
         "showlegend": false,
         "type": "scatter",
         "x": [
          34.995962793815316,
          35.49879043125544
         ],
         "y": [
          89.70527718339149,
          88.84089048345541
         ]
        },
        {
         "hoverinfo": "skip",
         "line": {
          "color": "lightblue",
          "width": 1
         },
         "mode": "lines",
         "showlegend": false,
         "type": "scatter",
         "x": [
          79.5596242087947,
          78.86790278907918
         ],
         "y": [
          44.602933394693544,
          45.325097834074725
         ]
        },
        {
         "hoverinfo": "skip",
         "line": {
          "color": "lightblue",
          "width": 1
         },
         "mode": "lines",
         "showlegend": false,
         "type": "scatter",
         "x": [
          46.38860483285893,
          46.13080305627957
         ],
         "y": [
          54.340244156622546,
          54.69520601147118
         ]
        },
        {
         "hoverinfo": "skip",
         "line": {
          "color": "lightblue",
          "width": 1
         },
         "mode": "lines",
         "showlegend": false,
         "type": "scatter",
         "x": [
          18.282959770101076,
          17.600611375459305
         ],
         "y": [
          83.96499128979154,
          83.23396415737456
         ]
        },
        {
         "hoverinfo": "skip",
         "line": {
          "color": "lightblue",
          "width": 1
         },
         "mode": "lines",
         "showlegend": false,
         "type": "scatter",
         "x": [
          17.600611375459305,
          16.761530221861637
         ],
         "y": [
          83.23396415737456,
          82.68995789116322
         ]
        },
        {
         "hoverinfo": "skip",
         "line": {
          "color": "lightblue",
          "width": 1
         },
         "mode": "lines",
         "showlegend": false,
         "type": "scatter",
         "x": [
          32.42411066218855,
          32.54407509152443
         ],
         "y": [
          9.423880485014491,
          8.488460242495233
         ]
        },
        {
         "hoverinfo": "skip",
         "line": {
          "color": "lightblue",
          "width": 1
         },
         "mode": "lines",
         "showlegend": false,
         "type": "scatter",
         "x": [
          24.867391785585742,
          23.86823374581199
         ],
         "y": [
          64.04657848876882,
          64.0055515274449
         ]
        },
        {
         "hoverinfo": "skip",
         "line": {
          "color": "lightblue",
          "width": 1
         },
         "mode": "lines",
         "showlegend": false,
         "type": "scatter",
         "x": [
          66.96774558520623,
          67.89160986169632
         ],
         "y": [
          26.61369166825896,
          26.996411929841024
         ]
        },
        {
         "hoverinfo": "skip",
         "line": {
          "color": "lightblue",
          "width": 1
         },
         "mode": "lines",
         "showlegend": false,
         "type": "scatter",
         "x": [
          83.85053539005324,
          83.91423248689364
         ],
         "y": [
          49.31020397104908,
          49.18100955735556
         ]
        },
        {
         "hoverinfo": "skip",
         "line": {
          "color": "lightblue",
          "width": 1
         },
         "mode": "lines",
         "showlegend": false,
         "type": "scatter",
         "x": [
          20.840729620307766,
          21.772454265366804
         ],
         "y": [
          13.866166520667116,
          14.22933202810086
         ]
        },
        {
         "hoverinfo": "skip",
         "line": {
          "color": "lightblue",
          "width": 1
         },
         "mode": "lines",
         "showlegend": false,
         "type": "scatter",
         "x": [
          89.80827496623917,
          90.80053182839579
         ],
         "y": [
          51.152598397735254,
          51.27680113322485
         ]
        },
        {
         "hoverinfo": "skip",
         "line": {
          "color": "lightblue",
          "width": 1
         },
         "mode": "lines",
         "showlegend": false,
         "type": "scatter",
         "x": [
          47.83983889789092,
          47.37180293039672
         ],
         "y": [
          73.39675464897917,
          74.2804640656608
         ]
        },
        {
         "hoverinfo": "skip",
         "line": {
          "color": "lightblue",
          "width": 1
         },
         "mode": "lines",
         "showlegend": false,
         "type": "scatter",
         "x": [
          82.36937113166235,
          81.39324625664005
         ],
         "y": [
          62.4924031128453,
          62.70961321473451
         ]
        },
        {
         "hoverinfo": "skip",
         "line": {
          "color": "lightblue",
          "width": 1
         },
         "mode": "lines",
         "showlegend": false,
         "type": "scatter",
         "x": [
          40.760242155446576,
          41.07373220835927
         ],
         "y": [
          64.47271928023883,
          65.1374903751013
         ]
        },
        {
         "hoverinfo": "skip",
         "line": {
          "color": "lightblue",
          "width": 1
         },
         "mode": "lines",
         "showlegend": false,
         "type": "scatter",
         "x": [
          81.46142669733639,
          80.53471690390263
         ],
         "y": [
          54.1808323467583,
          53.805054541727245
         ]
        },
        {
         "hoverinfo": "skip",
         "line": {
          "color": "lightblue",
          "width": 1
         },
         "mode": "lines",
         "showlegend": false,
         "type": "scatter",
         "x": [
          34.998742717073945,
          35.59667839482772
         ],
         "y": [
          8.318097879211475,
          9.119641967374527
         ]
        },
        {
         "hoverinfo": "skip",
         "line": {
          "color": "lightblue",
          "width": 1
         },
         "mode": "lines",
         "showlegend": false,
         "type": "scatter",
         "x": [
          27.766571773108474,
          28.17182674707141
         ],
         "y": [
          61.648603998774945,
          60.73440029823644
         ]
        },
        {
         "hoverinfo": "skip",
         "line": {
          "color": "lightblue",
          "width": 1
         },
         "mode": "lines",
         "showlegend": false,
         "type": "scatter",
         "x": [
          16.761530221861637,
          15.89533342801434
         ],
         "y": [
          82.68995789116322,
          82.19025486502804
         ]
        },
        {
         "hoverinfo": "skip",
         "line": {
          "color": "lightblue",
          "width": 1
         },
         "mode": "lines",
         "showlegend": false,
         "type": "scatter",
         "x": [
          35.49879043125544,
          36.47291421699301
         ],
         "y": [
          88.84089048345541,
          89.066905637948
         ]
        },
        {
         "hoverinfo": "skip",
         "line": {
          "color": "lightblue",
          "width": 1
         },
         "mode": "lines",
         "showlegend": false,
         "type": "scatter",
         "x": [
          88.2713801694814,
          89.15998817342735
         ],
         "y": [
          34.836731505345554,
          35.295398939684645
         ]
        },
        {
         "hoverinfo": "skip",
         "line": {
          "color": "lightblue",
          "width": 1
         },
         "mode": "lines",
         "showlegend": false,
         "type": "scatter",
         "x": [
          36.47291421699301,
          37.1526916673333
         ],
         "y": [
          89.066905637948,
          89.80032408468142
         ]
        },
        {
         "hoverinfo": "skip",
         "line": {
          "color": "lightblue",
          "width": 1
         },
         "mode": "lines",
         "showlegend": false,
         "type": "scatter",
         "x": [
          76.86733997641697,
          77.12158917504662
         ],
         "y": [
          39.28183308686536,
          39.213128427066444
         ]
        },
        {
         "hoverinfo": "skip",
         "line": {
          "color": "lightblue",
          "width": 1
         },
         "mode": "lines",
         "showlegend": false,
         "type": "scatter",
         "x": [
          58.90791454172258,
          59.86014193626343
         ],
         "y": [
          52.20414081880691,
          51.89875092197674
         ]
        },
        {
         "hoverinfo": "skip",
         "line": {
          "color": "lightblue",
          "width": 1
         },
         "mode": "lines",
         "showlegend": false,
         "type": "scatter",
         "x": [
          82.78392315742481,
          82.80394314314806
         ],
         "y": [
          63.40242872673551,
          64.40222830673724
         ]
        },
        {
         "hoverinfo": "skip",
         "line": {
          "color": "lightblue",
          "width": 1
         },
         "mode": "lines",
         "showlegend": false,
         "type": "scatter",
         "x": [
          59.86014193626343,
          60.26075050391753
         ],
         "y": [
          51.89875092197674,
          50.98250162428417
         ]
        },
        {
         "hoverinfo": "skip",
         "line": {
          "color": "lightblue",
          "width": 1
         },
         "mode": "lines",
         "showlegend": false,
         "type": "scatter",
         "x": [
          73.38841598438897,
          72.70364213899805
         ],
         "y": [
          14.265281201455485,
          13.536525562939708
         ]
        },
        {
         "hoverinfo": "skip",
         "line": {
          "color": "lightblue",
          "width": 1
         },
         "mode": "lines",
         "showlegend": false,
         "type": "scatter",
         "x": [
          27.996705852345787,
          27.594096811485436
         ],
         "y": [
          38.864878184259034,
          39.33747730906766
         ]
        },
        {
         "hoverinfo": "skip",
         "line": {
          "color": "lightblue",
          "width": 1
         },
         "mode": "lines",
         "showlegend": false,
         "type": "scatter",
         "x": [
          21.554353320490943,
          22.00229716439167
         ],
         "y": [
          90.37575895830045,
          91.26982065231907
         ]
        },
        {
         "hoverinfo": "skip",
         "line": {
          "color": "lightblue",
          "width": 1
         },
         "mode": "lines",
         "showlegend": false,
         "type": "scatter",
         "x": [
          78.86790278907918,
          78.01163626465467
         ],
         "y": [
          45.325097834074725,
          45.84163209155428
         ]
        },
        {
         "hoverinfo": "skip",
         "line": {
          "color": "lightblue",
          "width": 1
         },
         "mode": "lines",
         "showlegend": false,
         "type": "scatter",
         "x": [
          78.60586189582067,
          77.6061109732999
         ],
         "y": [
          16.95796466334347,
          16.980282658748134
         ]
        },
        {
         "hoverinfo": "skip",
         "line": {
          "color": "lightblue",
          "width": 1
         },
         "mode": "lines",
         "showlegend": false,
         "type": "scatter",
         "x": [
          5.440534409842831,
          4.629601774564691
         ],
         "y": [
          14.194759095802556,
          14.779898618515602
         ]
        },
        {
         "hoverinfo": "skip",
         "line": {
          "color": "lightblue",
          "width": 1
         },
         "mode": "lines",
         "showlegend": false,
         "type": "scatter",
         "x": [
          15.89533342801434,
          14.901813191337318
         ],
         "y": [
          82.19025486502804,
          82.07659951181829
         ]
        },
        {
         "hoverinfo": "skip",
         "line": {
          "color": "lightblue",
          "width": 1
         },
         "mode": "lines",
         "showlegend": false,
         "type": "scatter",
         "x": [
          63.2367276820204,
          62.34963137356535
         ],
         "y": [
          36.5869842239964,
          37.048568603634
         ]
        },
        {
         "hoverinfo": "skip",
         "line": {
          "color": "lightblue",
          "width": 1
         },
         "mode": "lines",
         "showlegend": false,
         "type": "scatter",
         "x": [
          22.00229716439167,
          21.45253911433208
         ],
         "y": [
          91.26982065231907,
          91.82657186224972
         ]
        },
        {
         "hoverinfo": "skip",
         "line": {
          "color": "lightblue",
          "width": 1
         },
         "mode": "lines",
         "showlegend": false,
         "type": "scatter",
         "x": [
          6.4337169338957505,
          5.529810536926507
         ],
         "y": [
          44.01140998417785,
          44.43914030285784
         ]
        },
        {
         "hoverinfo": "skip",
         "line": {
          "color": "lightblue",
          "width": 1
         },
         "mode": "lines",
         "showlegend": false,
         "type": "scatter",
         "x": [
          62.485677499858674,
          62.470658753898945
         ],
         "y": [
          16.174345037438712,
          16.35582194697044
         ]
        },
        {
         "hoverinfo": "skip",
         "line": {
          "color": "lightblue",
          "width": 1
         },
         "mode": "lines",
         "showlegend": false,
         "type": "scatter",
         "x": [
          37.7296845715603,
          38.33875099205702
         ],
         "y": [
          7.193123177156665,
          6.400003958234749
         ]
        },
        {
         "hoverinfo": "skip",
         "line": {
          "color": "lightblue",
          "width": 1
         },
         "mode": "lines",
         "showlegend": false,
         "type": "scatter",
         "x": [
          8.065254856942225,
          7.51853883357534
         ],
         "y": [
          4.11448365969298,
          3.277165566138386
         ]
        },
        {
         "hoverinfo": "skip",
         "line": {
          "color": "lightblue",
          "width": 1
         },
         "mode": "lines",
         "showlegend": false,
         "type": "scatter",
         "x": [
          72.70364213899805,
          71.90377423774447
         ],
         "y": [
          13.536525562939708,
          12.936349471659668
         ]
        },
        {
         "hoverinfo": "skip",
         "line": {
          "color": "lightblue",
          "width": 1
         },
         "mode": "lines",
         "showlegend": false,
         "type": "scatter",
         "x": [
          36.47291421699301,
          37.030635421762454
         ],
         "y": [
          89.066905637948,
          88.2368772903896
         ]
        },
        {
         "hoverinfo": "skip",
         "line": {
          "color": "lightblue",
          "width": 1
         },
         "mode": "lines",
         "showlegend": false,
         "type": "scatter",
         "x": [
          47.87152565595637,
          47.711630755435095
         ],
         "y": [
          70.77566886504488,
          70.25256584985468
         ]
        },
        {
         "hoverinfo": "skip",
         "line": {
          "color": "lightblue",
          "width": 1
         },
         "mode": "lines",
         "showlegend": false,
         "type": "scatter",
         "x": [
          82.80394314314806,
          82.79417017226528
         ],
         "y": [
          64.40222830673724,
          65.40218055011695
         ]
        },
        {
         "hoverinfo": "skip",
         "line": {
          "color": "lightblue",
          "width": 1
         },
         "mode": "lines",
         "showlegend": false,
         "type": "scatter",
         "x": [
          10.45319443841455,
          11.396535759158528
         ],
         "y": [
          7.434401866591818,
          7.10257788828855
         ]
        },
        {
         "hoverinfo": "skip",
         "line": {
          "color": "lightblue",
          "width": 1
         },
         "mode": "lines",
         "showlegend": false,
         "type": "scatter",
         "x": [
          65.99237520932121,
          66.99237142401515
         ],
         "y": [
          18.483901404151137,
          18.48114993221827
         ]
        },
        {
         "hoverinfo": "skip",
         "line": {
          "color": "lightblue",
          "width": 1
         },
         "mode": "lines",
         "showlegend": false,
         "type": "scatter",
         "x": [
          14.901813191337318,
          13.966023739100619
         ],
         "y": [
          82.07659951181829,
          81.72404015357837
         ]
        },
        {
         "hoverinfo": "skip",
         "line": {
          "color": "lightblue",
          "width": 1
         },
         "mode": "lines",
         "showlegend": false,
         "type": "scatter",
         "x": [
          39.273554773669495,
          38.27385218036456
         ],
         "y": [
          50.87015572884919,
          50.89454271183982
         ]
        },
        {
         "hoverinfo": "skip",
         "line": {
          "color": "lightblue",
          "width": 1
         },
         "mode": "lines",
         "showlegend": false,
         "type": "scatter",
         "x": [
          46.95174905277814,
          47.374676760311345
         ],
         "y": [
          33.05145739431221,
          32.1452939685436
         ]
        },
        {
         "hoverinfo": "skip",
         "line": {
          "color": "lightblue",
          "width": 1
         },
         "mode": "lines",
         "showlegend": false,
         "type": "scatter",
         "x": [
          12.242391033621262,
          12.396367074697013
         ],
         "y": [
          49.98370614988704,
          49.63628410835413
         ]
        },
        {
         "hoverinfo": "skip",
         "line": {
          "color": "lightblue",
          "width": 1
         },
         "mode": "lines",
         "showlegend": false,
         "type": "scatter",
         "x": [
          82.79417017226528,
          82.62197502098402
         ],
         "y": [
          65.40218055011695,
          66.38724340591612
         ]
        },
        {
         "hoverinfo": "skip",
         "line": {
          "color": "lightblue",
          "width": 1
         },
         "mode": "lines",
         "showlegend": false,
         "type": "scatter",
         "x": [
          51.144422057140424,
          51.25640611159737
         ],
         "y": [
          67.50985360159088,
          68.01976099051531
         ]
        },
        {
         "hoverinfo": "skip",
         "line": {
          "color": "lightblue",
          "width": 1
         },
         "mode": "lines",
         "showlegend": false,
         "type": "scatter",
         "x": [
          73.83758941669848,
          73.53055920220976
         ],
         "y": [
          39.58450232044065,
          40.536202087904634
         ]
        },
        {
         "hoverinfo": "skip",
         "line": {
          "color": "lightblue",
          "width": 1
         },
         "mode": "lines",
         "showlegend": false,
         "type": "scatter",
         "x": [
          7.51853883357534,
          7.577708472410432
         ],
         "y": [
          3.277165566138386,
          2.2789176240718247
         ]
        },
        {
         "hoverinfo": "skip",
         "line": {
          "color": "lightblue",
          "width": 1
         },
         "mode": "lines",
         "showlegend": false,
         "type": "scatter",
         "x": [
          37.030635421762454,
          38.03063538902259
         ],
         "y": [
          88.2368772903896,
          88.23713318044598
         ]
        },
        {
         "hoverinfo": "skip",
         "line": {
          "color": "lightblue",
          "width": 1
         },
         "mode": "lines",
         "showlegend": false,
         "type": "scatter",
         "x": [
          15.89533342801434,
          16.02894283415588
         ],
         "y": [
          82.19025486502804,
          81.1992207956891
         ]
        },
        {
         "hoverinfo": "skip",
         "line": {
          "color": "lightblue",
          "width": 1
         },
         "mode": "lines",
         "showlegend": false,
         "type": "scatter",
         "x": [
          82.62197502098402,
          81.94795230308647
         ],
         "y": [
          66.38724340591612,
          67.12595402297669
         ]
        },
        {
         "hoverinfo": "skip",
         "line": {
          "color": "lightblue",
          "width": 1
         },
         "mode": "lines",
         "showlegend": false,
         "type": "scatter",
         "x": [
          61.41469339543162,
          60.67632214819777
         ],
         "y": [
          17.08472260798023,
          16.41032813791221
         ]
        },
        {
         "hoverinfo": "skip",
         "line": {
          "color": "lightblue",
          "width": 1
         },
         "mode": "lines",
         "showlegend": false,
         "type": "scatter",
         "x": [
          60.67632214819777,
          59.82074253762533
         ],
         "y": [
          16.41032813791221,
          16.927999394572947
         ]
        },
        {
         "hoverinfo": "skip",
         "line": {
          "color": "lightblue",
          "width": 1
         },
         "mode": "lines",
         "showlegend": false,
         "type": "scatter",
         "x": [
          81.94795230308647,
          82.4196720789688
         ],
         "y": [
          67.12595402297669,
          68.00770254327118
         ]
        },
        {
         "hoverinfo": "skip",
         "line": {
          "color": "lightblue",
          "width": 1
         },
         "mode": "lines",
         "showlegend": false,
         "type": "scatter",
         "x": [
          21.45253911433208,
          22.064820860305833
         ],
         "y": [
          91.82657186224972,
          92.61721151692645
         ]
        },
        {
         "hoverinfo": "skip",
         "line": {
          "color": "lightblue",
          "width": 1
         },
         "mode": "lines",
         "showlegend": false,
         "type": "scatter",
         "x": [
          19.729764393028557,
          19.945981683570146
         ],
         "y": [
          29.545694824345972,
          29.650440307474046
         ]
        },
        {
         "hoverinfo": "skip",
         "line": {
          "color": "lightblue",
          "width": 1
         },
         "mode": "lines",
         "showlegend": false,
         "type": "scatter",
         "x": [
          73.11446314949448,
          72.45037665080238
         ],
         "y": [
          19.034543735612203,
          19.34188946072003
         ]
        },
        {
         "hoverinfo": "skip",
         "line": {
          "color": "lightblue",
          "width": 1
         },
         "mode": "lines",
         "showlegend": false,
         "type": "scatter",
         "x": [
          88.46898324515637,
          89.35738486623748
         ],
         "y": [
          30.29714001951776,
          29.838072965961903
         ]
        },
        {
         "hoverinfo": "skip",
         "line": {
          "color": "lightblue",
          "width": 1
         },
         "mode": "lines",
         "showlegend": false,
         "type": "scatter",
         "x": [
          81.94795230308647,
          80.94798360100535
         ],
         "y": [
          67.12595402297669,
          67.11804233174225
         ]
        },
        {
         "hoverinfo": "skip",
         "line": {
          "color": "lightblue",
          "width": 1
         },
         "mode": "lines",
         "showlegend": false,
         "type": "scatter",
         "x": [
          38.03063538902259,
          39.028654313686125
         ],
         "y": [
          88.23713318044598,
          88.3000476145088
         ]
        },
        {
         "hoverinfo": "skip",
         "line": {
          "color": "lightblue",
          "width": 1
         },
         "mode": "lines",
         "showlegend": false,
         "type": "scatter",
         "x": [
          82.4196720789688,
          82.89139185485114
         ],
         "y": [
          68.00770254327118,
          68.88945106356567
         ]
        },
        {
         "hoverinfo": "skip",
         "line": {
          "color": "lightblue",
          "width": 1
         },
         "mode": "lines",
         "showlegend": false,
         "type": "scatter",
         "x": [
          51.89147920999506,
          52.28315216034532
         ],
         "y": [
          47.932830761353486,
          47.012726256439
         ]
        },
        {
         "hoverinfo": "skip",
         "line": {
          "color": "lightblue",
          "width": 1
         },
         "mode": "lines",
         "showlegend": false,
         "type": "scatter",
         "x": [
          89.35738486623748,
          88.9437271483554
         ],
         "y": [
          29.838072965961903,
          28.92764049046655
         ]
        },
        {
         "hoverinfo": "skip",
         "line": {
          "color": "lightblue",
          "width": 1
         },
         "mode": "lines",
         "showlegend": false,
         "type": "scatter",
         "x": [
          5.529810536926507,
          4.7081525133964
         ],
         "y": [
          44.43914030285784,
          45.009121085313346
         ]
        },
        {
         "hoverinfo": "skip",
         "line": {
          "color": "lightblue",
          "width": 1
         },
         "mode": "lines",
         "showlegend": false,
         "type": "scatter",
         "x": [
          16.02894283415588,
          15.928440972009575
         ],
         "y": [
          81.1992207956891,
          80.20428392547817
         ]
        },
        {
         "hoverinfo": "skip",
         "line": {
          "color": "lightblue",
          "width": 1
         },
         "mode": "lines",
         "showlegend": false,
         "type": "scatter",
         "x": [
          83.50020311137088,
          83.42408480365214
         ],
         "y": [
          14.036950941616245,
          13.039852148501925
         ]
        },
        {
         "hoverinfo": "skip",
         "line": {
          "color": "lightblue",
          "width": 1
         },
         "mode": "lines",
         "showlegend": false,
         "type": "scatter",
         "x": [
          82.89139185485114,
          83.89127665595886
         ],
         "y": [
          68.88945106356567,
          68.90462948620309
         ]
        },
        {
         "hoverinfo": "skip",
         "line": {
          "color": "lightblue",
          "width": 1
         },
         "mode": "lines",
         "showlegend": false,
         "type": "scatter",
         "x": [
          19.218222798860406,
          19.677870677966624
         ],
         "y": [
          9.023491798082802,
          8.135390549782162
         ]
        },
        {
         "hoverinfo": "skip",
         "line": {
          "color": "lightblue",
          "width": 1
         },
         "mode": "lines",
         "showlegend": false,
         "type": "scatter",
         "x": [
          31.659358934937845,
          31.774869948686323
         ],
         "y": [
          35.44793527374728,
          36.37195859141207
         ]
        },
        {
         "hoverinfo": "skip",
         "line": {
          "color": "lightblue",
          "width": 1
         },
         "mode": "lines",
         "showlegend": false,
         "type": "scatter",
         "x": [
          28.17182674707141,
          27.811712480376965
         ],
         "y": [
          60.73440029823644,
          59.80149209539807
         ]
        },
        {
         "hoverinfo": "skip",
         "line": {
          "color": "lightblue",
          "width": 1
         },
         "mode": "lines",
         "showlegend": false,
         "type": "scatter",
         "x": [
          46.21001717437106,
          45.29998694058955
         ],
         "y": [
          57.11223704373745,
          56.69769515972141
         ]
        },
        {
         "hoverinfo": "skip",
         "line": {
          "color": "lightblue",
          "width": 1
         },
         "mode": "lines",
         "showlegend": false,
         "type": "scatter",
         "x": [
          60.26075050391753,
          61.18164266957341
         ],
         "y": [
          50.98250162428417,
          51.37231904210131
         ]
        },
        {
         "hoverinfo": "skip",
         "line": {
          "color": "lightblue",
          "width": 1
         },
         "mode": "lines",
         "showlegend": false,
         "type": "scatter",
         "x": [
          37.030635421762454,
          36.58622222155142
         ],
         "y": [
          88.2368772903896,
          87.34105537311018
         ]
        },
        {
         "hoverinfo": "skip",
         "line": {
          "color": "lightblue",
          "width": 1
         },
         "mode": "lines",
         "showlegend": false,
         "type": "scatter",
         "x": [
          38.33875099205702,
          38.20507901347944
         ],
         "y": [
          6.400003958234749,
          5.408978326808823
         ]
        },
        {
         "hoverinfo": "skip",
         "line": {
          "color": "lightblue",
          "width": 1
         },
         "mode": "lines",
         "showlegend": false,
         "type": "scatter",
         "x": [
          28.460324114191092,
          28.619309360689915
         ],
         "y": [
          62.368817640163655,
          62.676910455676605
         ]
        },
        {
         "hoverinfo": "skip",
         "line": {
          "color": "lightblue",
          "width": 1
         },
         "mode": "lines",
         "showlegend": false,
         "type": "scatter",
         "x": [
          90.80053182839579,
          91.51753810614832
         ],
         "y": [
          51.27680113322485,
          51.97386784284701
         ]
        },
        {
         "hoverinfo": "skip",
         "line": {
          "color": "lightblue",
          "width": 1
         },
         "mode": "lines",
         "showlegend": false,
         "type": "scatter",
         "x": [
          21.772454265366804,
          22.587566226618367
         ],
         "y": [
          14.22933202810086,
          14.808635481072296
         ]
        },
        {
         "hoverinfo": "skip",
         "line": {
          "color": "lightblue",
          "width": 1
         },
         "mode": "lines",
         "showlegend": false,
         "type": "scatter",
         "x": [
          47.85714536210425,
          48.42200958058732
         ],
         "y": [
          33.476024848385954,
          33.365898572748605
         ]
        },
        {
         "hoverinfo": "skip",
         "line": {
          "color": "lightblue",
          "width": 1
         },
         "mode": "lines",
         "showlegend": false,
         "type": "scatter",
         "x": [
          15.928440972009575,
          15.61022205577923
         ],
         "y": [
          80.20428392547817,
          79.25626666753759
         ]
        },
        {
         "hoverinfo": "skip",
         "line": {
          "color": "lightblue",
          "width": 1
         },
         "mode": "lines",
         "showlegend": false,
         "type": "scatter",
         "x": [
          46.304633635137506,
          46.157669547271
         ],
         "y": [
          71.83699936467774,
          70.84785753618317
         ]
        },
        {
         "hoverinfo": "skip",
         "line": {
          "color": "lightblue",
          "width": 1
         },
         "mode": "lines",
         "showlegend": false,
         "type": "scatter",
         "x": [
          83.89127665595886,
          84.33993971531513
         ],
         "y": [
          68.90462948620309,
          69.79833047600286
         ]
        },
        {
         "hoverinfo": "skip",
         "line": {
          "color": "lightblue",
          "width": 1
         },
         "mode": "lines",
         "showlegend": false,
         "type": "scatter",
         "x": [
          38.27385218036456,
          37.507986509470996
         ],
         "y": [
          50.89454271183982,
          50.25154210985973
         ]
        },
        {
         "hoverinfo": "skip",
         "line": {
          "color": "lightblue",
          "width": 1
         },
         "mode": "lines",
         "showlegend": false,
         "type": "scatter",
         "x": [
          45.76378264448848,
          45.16618605208742
         ],
         "y": [
          32.098481833641955,
          31.296684906265305
         ]
        },
        {
         "hoverinfo": "skip",
         "line": {
          "color": "lightblue",
          "width": 1
         },
         "mode": "lines",
         "showlegend": false,
         "type": "scatter",
         "x": [
          23.86823374581199,
          23.246607352206052
         ],
         "y": [
          64.0055515274449,
          64.78886540244805
         ]
        },
        {
         "hoverinfo": "skip",
         "line": {
          "color": "lightblue",
          "width": 1
         },
         "mode": "lines",
         "showlegend": false,
         "type": "scatter",
         "x": [
          16.34953932977451,
          16.64313087110818
         ],
         "y": [
          21.21337995358006,
          20.6213368193101
         ]
        },
        {
         "hoverinfo": "skip",
         "line": {
          "color": "lightblue",
          "width": 1
         },
         "mode": "lines",
         "showlegend": false,
         "type": "scatter",
         "x": [
          31.18686959117516,
          31.767407011603925
         ],
         "y": [
          74.95366113888471,
          74.13942757074722
         ]
        },
        {
         "hoverinfo": "skip",
         "line": {
          "color": "lightblue",
          "width": 1
         },
         "mode": "lines",
         "showlegend": false,
         "type": "scatter",
         "x": [
          84.33993971531513,
          84.68043233246397
         ],
         "y": [
          69.79833047600286,
          70.73857766566478
         ]
        },
        {
         "hoverinfo": "skip",
         "line": {
          "color": "lightblue",
          "width": 1
         },
         "mode": "lines",
         "showlegend": false,
         "type": "scatter",
         "x": [
          59.86014193626343,
          60.18010040200843
         ],
         "y": [
          51.89875092197674,
          52.8461824921696
         ]
        },
        {
         "hoverinfo": "skip",
         "line": {
          "color": "lightblue",
          "width": 1
         },
         "mode": "lines",
         "showlegend": false,
         "type": "scatter",
         "x": [
          32.54407509152443,
          33.16280989317896
         ],
         "y": [
          8.488460242495233,
          7.702860315546709
         ]
        },
        {
         "hoverinfo": "skip",
         "line": {
          "color": "lightblue",
          "width": 1
         },
         "mode": "lines",
         "showlegend": false,
         "type": "scatter",
         "x": [
          14.623859248671815,
          15.616110238086486
         ],
         "y": [
          17.094987942895298,
          17.219237586780523
         ]
        },
        {
         "hoverinfo": "skip",
         "line": {
          "color": "lightblue",
          "width": 1
         },
         "mode": "lines",
         "showlegend": false,
         "type": "scatter",
         "x": [
          34.15122028153654,
          33.730953950623174
         ],
         "y": [
          41.16607335813591,
          41.11148499528221
         ]
        },
        {
         "hoverinfo": "skip",
         "line": {
          "color": "lightblue",
          "width": 1
         },
         "mode": "lines",
         "showlegend": false,
         "type": "scatter",
         "x": [
          84.68043233246397,
          85.17006816400553
         ],
         "y": [
          70.73857766566478,
          71.61050469957908
         ]
        },
        {
         "hoverinfo": "skip",
         "line": {
          "color": "lightblue",
          "width": 1
         },
         "mode": "lines",
         "showlegend": false,
         "type": "scatter",
         "x": [
          37.7296845715603,
          38.432982260317786
         ],
         "y": [
          7.193123177156665,
          7.904018641334327
         ]
        },
        {
         "hoverinfo": "skip",
         "line": {
          "color": "lightblue",
          "width": 1
         },
         "mode": "lines",
         "showlegend": false,
         "type": "scatter",
         "x": [
          39.028654313686125,
          40.00956247323899
         ],
         "y": [
          88.3000476145088,
          88.49451916132895
         ]
        },
        {
         "hoverinfo": "skip",
         "line": {
          "color": "lightblue",
          "width": 1
         },
         "mode": "lines",
         "showlegend": false,
         "type": "scatter",
         "x": [
          60.67632214819777,
          60.262479881418166
         ],
         "y": [
          16.41032813791221,
          15.499979535328167
         ]
        },
        {
         "hoverinfo": "skip",
         "line": {
          "color": "lightblue",
          "width": 1
         },
         "mode": "lines",
         "showlegend": false,
         "type": "scatter",
         "x": [
          56.32455754556199,
          56.399925805542885
         ],
         "y": [
          68.31857027879894,
          67.88878890112
         ]
        },
        {
         "hoverinfo": "skip",
         "line": {
          "color": "lightblue",
          "width": 1
         },
         "mode": "lines",
         "showlegend": false,
         "type": "scatter",
         "x": [
          15.61022205577923,
          15.02598054081033
         ],
         "y": [
          79.25626666753759,
          78.44468681799299
         ]
        },
        {
         "hoverinfo": "skip",
         "line": {
          "color": "lightblue",
          "width": 1
         },
         "mode": "lines",
         "showlegend": false,
         "type": "scatter",
         "x": [
          78.60586189582067,
          79.0650997971748
         ],
         "y": [
          16.95796466334347,
          16.069651345893007
         ]
        },
        {
         "hoverinfo": "skip",
         "line": {
          "color": "lightblue",
          "width": 1
         },
         "mode": "lines",
         "showlegend": false,
         "type": "scatter",
         "x": [
          4.629601774564691,
          4.0888361276361795
         ],
         "y": [
          14.779898618515602,
          15.621071915227992
         ]
        },
        {
         "hoverinfo": "skip",
         "line": {
          "color": "lightblue",
          "width": 1
         },
         "mode": "lines",
         "showlegend": false,
         "type": "scatter",
         "x": [
          89.15998817342735,
          89.86524156890798
         ],
         "y": [
          35.295398939684645,
          36.004354261382026
         ]
        },
        {
         "hoverinfo": "skip",
         "line": {
          "color": "lightblue",
          "width": 1
         },
         "mode": "lines",
         "showlegend": false,
         "type": "scatter",
         "x": [
          47.37180293039672,
          47.86469797129953
         ],
         "y": [
          74.2804640656608,
          75.15055284196664
         ]
        },
        {
         "hoverinfo": "skip",
         "line": {
          "color": "lightblue",
          "width": 1
         },
         "mode": "lines",
         "showlegend": false,
         "type": "scatter",
         "x": [
          31.615503586930647,
          31.357875353389947
         ],
         "y": [
          13.555796359143557,
          14.52204047596016
         ]
        },
        {
         "hoverinfo": "skip",
         "line": {
          "color": "lightblue",
          "width": 1
         },
         "mode": "lines",
         "showlegend": false,
         "type": "scatter",
         "x": [
          40.00956247323899,
          40.92056958026125
         ],
         "y": [
          88.49451916132895,
          88.90690981466014
         ]
        },
        {
         "hoverinfo": "skip",
         "line": {
          "color": "lightblue",
          "width": 1
         },
         "mode": "lines",
         "showlegend": false,
         "type": "scatter",
         "x": [
          89.80827496623917,
          89.94239463282985
         ],
         "y": [
          51.152598397735254,
          50.161633254537165
         ]
        },
        {
         "hoverinfo": "skip",
         "line": {
          "color": "lightblue",
          "width": 1
         },
         "mode": "lines",
         "showlegend": false,
         "type": "scatter",
         "x": [
          38.432982260317786,
          39.432871941530685
         ],
         "y": [
          7.904018641334327,
          7.918872105710172
         ]
        },
        {
         "hoverinfo": "skip",
         "line": {
          "color": "lightblue",
          "width": 1
         },
         "mode": "lines",
         "showlegend": false,
         "type": "scatter",
         "x": [
          38.20507901347944,
          39.141414317715885
         ],
         "y": [
          5.408978326808823,
          5.05787122343373
         ]
        },
        {
         "hoverinfo": "skip",
         "line": {
          "color": "lightblue",
          "width": 1
         },
         "mode": "lines",
         "showlegend": false,
         "type": "scatter",
         "x": [
          60.262479881418166,
          60.29262023523015
         ],
         "y": [
          15.499979535328167,
          14.500433858997122
         ]
        },
        {
         "hoverinfo": "skip",
         "line": {
          "color": "lightblue",
          "width": 1
         },
         "mode": "lines",
         "showlegend": false,
         "type": "scatter",
         "x": [
          15.02598054081033,
          15.424014190276464
         ],
         "y": [
          78.44468681799299,
          77.52731600207792
         ]
        },
        {
         "hoverinfo": "skip",
         "line": {
          "color": "lightblue",
          "width": 1
         },
         "mode": "lines",
         "showlegend": false,
         "type": "scatter",
         "x": [
          23.669557597383225,
          23.544230289320495
         ],
         "y": [
          84.39867931312217,
          83.40656386326074
         ]
        },
        {
         "hoverinfo": "skip",
         "line": {
          "color": "lightblue",
          "width": 1
         },
         "mode": "lines",
         "showlegend": false,
         "type": "scatter",
         "x": [
          85.17006816400553,
          85.92800869467476
         ],
         "y": [
          71.61050469957908,
          72.26282835541937
         ]
        },
        {
         "hoverinfo": "skip",
         "line": {
          "color": "lightblue",
          "width": 1
         },
         "mode": "lines",
         "showlegend": false,
         "type": "scatter",
         "x": [
          81.6346046231126,
          80.8614138437439
         ],
         "y": [
          59.75676627197852,
          60.390939764564926
         ]
        },
        {
         "hoverinfo": "skip",
         "line": {
          "color": "lightblue",
          "width": 1
         },
         "mode": "lines",
         "showlegend": false,
         "type": "scatter",
         "x": [
          78.01163626465467,
          78.15378737242531
         ],
         "y": [
          45.84163209155428,
          46.83147706050628
         ]
        },
        {
         "hoverinfo": "skip",
         "line": {
          "color": "lightblue",
          "width": 1
         },
         "mode": "lines",
         "showlegend": false,
         "type": "scatter",
         "x": [
          15.424014190276464,
          14.79740823781432
         ],
         "y": [
          77.52731600207792,
          76.74797975863802
         ]
        },
        {
         "hoverinfo": "skip",
         "line": {
          "color": "lightblue",
          "width": 1
         },
         "mode": "lines",
         "showlegend": false,
         "type": "scatter",
         "x": [
          5.529810536926507,
          5.064709669043787
         ],
         "y": [
          44.43914030285784,
          43.55388261003911
         ]
        },
        {
         "hoverinfo": "skip",
         "line": {
          "color": "lightblue",
          "width": 1
         },
         "mode": "lines",
         "showlegend": false,
         "type": "scatter",
         "x": [
          23.246607352206052,
          22.24809469751906
         ],
         "y": [
          64.78886540244805,
          64.84338584292628
         ]
        },
        {
         "hoverinfo": "skip",
         "line": {
          "color": "lightblue",
          "width": 1
         },
         "mode": "lines",
         "showlegend": false,
         "type": "scatter",
         "x": [
          4.0888361276361795,
          3.3868786562059103
         ],
         "y": [
          15.621071915227992,
          16.333290777870104
         ]
        },
        {
         "hoverinfo": "skip",
         "line": {
          "color": "lightblue",
          "width": 1
         },
         "mode": "lines",
         "showlegend": false,
         "type": "scatter",
         "x": [
          26.63538448751571,
          26.472410674809055
         ],
         "y": [
          5.0135766921717755,
          4.026946297154545
         ]
        },
        {
         "hoverinfo": "skip",
         "line": {
          "color": "lightblue",
          "width": 1
         },
         "mode": "lines",
         "showlegend": false,
         "type": "scatter",
         "x": [
          30.622890280390703,
          31.54886739648231
         ],
         "y": [
          66.47377776330627,
          66.09619812869303
         ]
        },
        {
         "hoverinfo": "skip",
         "line": {
          "color": "lightblue",
          "width": 1
         },
         "mode": "lines",
         "showlegend": false,
         "type": "scatter",
         "x": [
          48.70084031540648,
          48.08879524342612
         ],
         "y": [
          39.737267718860544,
          40.01332373023715
         ]
        },
        {
         "hoverinfo": "skip",
         "line": {
          "color": "lightblue",
          "width": 1
         },
         "mode": "lines",
         "showlegend": false,
         "type": "scatter",
         "x": [
          25.985024060583754,
          25.339430665794566
         ],
         "y": [
          62.51507790158569,
          61.75139657498109
         ]
        },
        {
         "hoverinfo": "skip",
         "line": {
          "color": "lightblue",
          "width": 1
         },
         "mode": "lines",
         "showlegend": false,
         "type": "scatter",
         "x": [
          4.885789556603257,
          4.014514798789837
         ],
         "y": [
          7.529827330984837,
          8.020622905941629
         ]
        },
        {
         "hoverinfo": "skip",
         "line": {
          "color": "lightblue",
          "width": 1
         },
         "mode": "lines",
         "showlegend": false,
         "type": "scatter",
         "x": [
          40.92056958026125,
          41.84985423719718
         ],
         "y": [
          88.90690981466014,
          89.27627416917134
         ]
        },
        {
         "hoverinfo": "skip",
         "line": {
          "color": "lightblue",
          "width": 1
         },
         "mode": "lines",
         "showlegend": false,
         "type": "scatter",
         "x": [
          45.16618605208742,
          44.71573622756615
         ],
         "y": [
          31.296684906265305,
          30.40388316142564
         ]
        },
        {
         "hoverinfo": "skip",
         "line": {
          "color": "lightblue",
          "width": 1
         },
         "mode": "lines",
         "showlegend": false,
         "type": "scatter",
         "x": [
          41.84985423719718,
          42.789634968771104
         ],
         "y": [
          89.27627416917134,
          89.61805213300514
         ]
        },
        {
         "hoverinfo": "skip",
         "line": {
          "color": "lightblue",
          "width": 1
         },
         "mode": "lines",
         "showlegend": false,
         "type": "scatter",
         "x": [
          22.24809469751906,
          21.564892191942725
         ],
         "y": [
          64.84338584292628,
          65.57361480453642
         ]
        },
        {
         "hoverinfo": "skip",
         "line": {
          "color": "lightblue",
          "width": 1
         },
         "mode": "lines",
         "showlegend": false,
         "type": "scatter",
         "x": [
          80.94798360100535,
          81.16874097130605
         ],
         "y": [
          67.11804233174225,
          66.60857624421237
         ]
        },
        {
         "hoverinfo": "skip",
         "line": {
          "color": "lightblue",
          "width": 1
         },
         "mode": "lines",
         "showlegend": false,
         "type": "scatter",
         "x": [
          56.10234297855331,
          56.101655235322546
         ],
         "y": [
          51.440221362717715,
          52.44022112622231
         ]
        },
        {
         "hoverinfo": "skip",
         "line": {
          "color": "lightblue",
          "width": 1
         },
         "mode": "lines",
         "showlegend": false,
         "type": "scatter",
         "x": [
          85.92800869467476,
          86.36723198373036
         ],
         "y": [
          72.26282835541937,
          73.16120628388332
         ]
        },
        {
         "hoverinfo": "skip",
         "line": {
          "color": "lightblue",
          "width": 1
         },
         "mode": "lines",
         "showlegend": false,
         "type": "scatter",
         "x": [
          24.59656813184225,
          25.109689782228383
         ],
         "y": [
          84.77371460346428,
          85.6320304963062
         ]
        },
        {
         "hoverinfo": "skip",
         "line": {
          "color": "lightblue",
          "width": 1
         },
         "mode": "lines",
         "showlegend": false,
         "type": "scatter",
         "x": [
          5.064709669043787,
          4.071456369151686
         ],
         "y": [
          43.55388261003911,
          43.437917605604795
         ]
        },
        {
         "hoverinfo": "skip",
         "line": {
          "color": "lightblue",
          "width": 1
         },
         "mode": "lines",
         "showlegend": false,
         "type": "scatter",
         "x": [
          3.3868786562059103,
          3.5219087906390087
         ],
         "y": [
          16.333290777870104,
          17.32413227013563
         ]
        },
        {
         "hoverinfo": "skip",
         "line": {
          "color": "lightblue",
          "width": 1
         },
         "mode": "lines",
         "showlegend": false,
         "type": "scatter",
         "x": [
          40.00956247323899,
          40.421677328576486
         ],
         "y": [
          88.49451916132895,
          87.58338725759045
         ]
        },
        {
         "hoverinfo": "skip",
         "line": {
          "color": "lightblue",
          "width": 1
         },
         "mode": "lines",
         "showlegend": false,
         "type": "scatter",
         "x": [
          28.17182674707141,
          29.04231793676939
         ],
         "y": [
          60.73440029823644,
          60.24221629945326
         ]
        },
        {
         "hoverinfo": "skip",
         "line": {
          "color": "lightblue",
          "width": 1
         },
         "mode": "lines",
         "showlegend": false,
         "type": "scatter",
         "x": [
          19.677870677966624,
          19.473150729465644
         ],
         "y": [
          8.135390549782162,
          7.156569962194347
         ]
        },
        {
         "hoverinfo": "skip",
         "line": {
          "color": "lightblue",
          "width": 1
         },
         "mode": "lines",
         "showlegend": false,
         "type": "scatter",
         "x": [
          86.36723198373036,
          85.77820109483109
         ],
         "y": [
          73.16120628388332,
          73.96931680350457
         ]
        },
        {
         "hoverinfo": "skip",
         "line": {
          "color": "lightblue",
          "width": 1
         },
         "mode": "lines",
         "showlegend": false,
         "type": "scatter",
         "x": [
          80.94798360100535,
          80.13103984097434
         ],
         "y": [
          67.11804233174225,
          67.69475967407416
         ]
        },
        {
         "hoverinfo": "skip",
         "line": {
          "color": "lightblue",
          "width": 1
         },
         "mode": "lines",
         "showlegend": false,
         "type": "scatter",
         "x": [
          42.789634968771104,
          43.49113163090162
         ],
         "y": [
          89.61805213300514,
          88.90537939393077
         ]
        },
        {
         "hoverinfo": "skip",
         "line": {
          "color": "lightblue",
          "width": 1
         },
         "mode": "lines",
         "showlegend": false,
         "type": "scatter",
         "x": [
          85.77820109483109,
          86.3617358631553
         ],
         "y": [
          73.96931680350457,
          74.78140496014571
         ]
        },
        {
         "hoverinfo": "skip",
         "line": {
          "color": "lightblue",
          "width": 1
         },
         "mode": "lines",
         "showlegend": false,
         "type": "scatter",
         "x": [
          51.38801154814298,
          50.79727809226875
         ],
         "y": [
          66.96892535453397,
          66.16205858479383
         ]
        },
        {
         "hoverinfo": "skip",
         "line": {
          "color": "lightblue",
          "width": 1
         },
         "mode": "lines",
         "showlegend": false,
         "type": "scatter",
         "x": [
          86.3617358631553,
          87.1728492669544
         ],
         "y": [
          74.78140496014571,
          75.36629387795612
         ]
        },
        {
         "hoverinfo": "skip",
         "line": {
          "color": "lightblue",
          "width": 1
         },
         "mode": "lines",
         "showlegend": false,
         "type": "scatter",
         "x": [
          80.53471690390263,
          79.56591387251758
         ],
         "y": [
          53.805054541727245,
          53.55722256965918
         ]
        },
        {
         "hoverinfo": "skip",
         "line": {
          "color": "lightblue",
          "width": 1
         },
         "mode": "lines",
         "showlegend": false,
         "type": "scatter",
         "x": [
          60.29262023523015,
          60.1966789862491
         ],
         "y": [
          14.500433858997122,
          13.505046860516654
         ]
        },
        {
         "hoverinfo": "skip",
         "line": {
          "color": "lightblue",
          "width": 1
         },
         "mode": "lines",
         "showlegend": false,
         "type": "scatter",
         "x": [
          37.1526916673333,
          37.32997963799957
         ],
         "y": [
          89.80032408468142,
          90.78448310407668
         ]
        },
        {
         "hoverinfo": "skip",
         "line": {
          "color": "lightblue",
          "width": 1
         },
         "mode": "lines",
         "showlegend": false,
         "type": "scatter",
         "x": [
          91.51753810614832,
          92.44704492961323
         ],
         "y": [
          51.97386784284701,
          51.60506292811271
         ]
        },
        {
         "hoverinfo": "skip",
         "line": {
          "color": "lightblue",
          "width": 1
         },
         "mode": "lines",
         "showlegend": false,
         "type": "scatter",
         "x": [
          43.49113163090162,
          44.24117155411266
         ],
         "y": [
          88.90537939393077,
          89.56677195027653
         ]
        },
        {
         "hoverinfo": "skip",
         "line": {
          "color": "lightblue",
          "width": 1
         },
         "mode": "lines",
         "showlegend": false,
         "type": "scatter",
         "x": [
          25.339430665794566,
          24.73260434965116
         ],
         "y": [
          61.75139657498109,
          60.95656211294775
         ]
        },
        {
         "hoverinfo": "skip",
         "line": {
          "color": "lightblue",
          "width": 1
         },
         "mode": "lines",
         "showlegend": false,
         "type": "scatter",
         "x": [
          86.36723198373036,
          87.29558638654864
         ],
         "y": [
          73.16120628388332,
          72.78951003320552
         ]
        },
        {
         "hoverinfo": "skip",
         "line": {
          "color": "lightblue",
          "width": 1
         },
         "mode": "lines",
         "showlegend": false,
         "type": "scatter",
         "x": [
          87.29558638654864,
          88.21919286580285
         ],
         "y": [
          72.78951003320552,
          72.40616805601069
         ]
        },
        {
         "hoverinfo": "skip",
         "line": {
          "color": "lightblue",
          "width": 1
         },
         "mode": "lines",
         "showlegend": false,
         "type": "scatter",
         "x": [
          89.86524156890798,
          90.70476833564271
         ],
         "y": [
          36.004354261382026,
          35.4610359311778
         ]
        },
        {
         "hoverinfo": "skip",
         "line": {
          "color": "lightblue",
          "width": 1
         },
         "mode": "lines",
         "showlegend": false,
         "type": "scatter",
         "x": [
          80.13103984097434,
          79.31718239950993
         ],
         "y": [
          67.69475967407416,
          68.27582427028788
         ]
        },
        {
         "hoverinfo": "skip",
         "line": {
          "color": "lightblue",
          "width": 1
         },
         "mode": "lines",
         "showlegend": false,
         "type": "scatter",
         "x": [
          52.2891192269772,
          52.17825865585864
         ],
         "y": [
          50.603816417316956,
          51.59765238656503
         ]
        },
        {
         "hoverinfo": "skip",
         "line": {
          "color": "lightblue",
          "width": 1
         },
         "mode": "lines",
         "showlegend": false,
         "type": "scatter",
         "x": [
          20.604787881015596,
          21.155734233152206
         ],
         "y": [
          39.255138910065234,
          40.089679572386345
         ]
        },
        {
         "hoverinfo": "skip",
         "line": {
          "color": "lightblue",
          "width": 1
         },
         "mode": "lines",
         "showlegend": false,
         "type": "scatter",
         "x": [
          44.123779586315976,
          43.999632465034956
         ],
         "y": [
          65.2960479774443,
          64.97963269014105
         ]
        },
        {
         "hoverinfo": "skip",
         "line": {
          "color": "lightblue",
          "width": 1
         },
         "mode": "lines",
         "showlegend": false,
         "type": "scatter",
         "x": [
          74.50871405473639,
          74.92457227579463
         ],
         "y": [
          32.12793389552583,
          31.218504437030955
         ]
        },
        {
         "hoverinfo": "skip",
         "line": {
          "color": "lightblue",
          "width": 1
         },
         "mode": "lines",
         "showlegend": false,
         "type": "scatter",
         "x": [
          14.79740823781432,
          15.173842227622382
         ],
         "y": [
          76.74797975863802,
          75.82153631658817
         ]
        },
        {
         "hoverinfo": "skip",
         "line": {
          "color": "lightblue",
          "width": 1
         },
         "mode": "lines",
         "showlegend": false,
         "type": "scatter",
         "x": [
          18.040825015743554,
          18.754485650107913
         ],
         "y": [
          24.79327560537963,
          24.092783993039653
         ]
        },
        {
         "hoverinfo": "skip",
         "line": {
          "color": "lightblue",
          "width": 1
         },
         "mode": "lines",
         "showlegend": false,
         "type": "scatter",
         "x": [
          87.1728492669544,
          87.6203745566048
         ],
         "y": [
          75.36629387795612,
          76.26056515398109
         ]
        },
        {
         "hoverinfo": "skip",
         "line": {
          "color": "lightblue",
          "width": 1
         },
         "mode": "lines",
         "showlegend": false,
         "type": "scatter",
         "x": [
          45.46209926956808,
          44.621309822576166
         ],
         "y": [
          72.37564195752991,
          72.91700422609601
         ]
        },
        {
         "hoverinfo": "skip",
         "line": {
          "color": "lightblue",
          "width": 1
         },
         "mode": "lines",
         "showlegend": false,
         "type": "scatter",
         "x": [
          87.6203745566048,
          87.04597815430145
         ],
         "y": [
          76.26056515398109,
          77.07914243989914
         ]
        },
        {
         "hoverinfo": "skip",
         "line": {
          "color": "lightblue",
          "width": 1
         },
         "mode": "lines",
         "showlegend": false,
         "type": "scatter",
         "x": [
          44.24117155411266,
          45.16078982593828
         ],
         "y": [
          89.56677195027653,
          89.95958518086387
         ]
        },
        {
         "hoverinfo": "skip",
         "line": {
          "color": "lightblue",
          "width": 1
         },
         "mode": "lines",
         "showlegend": false,
         "type": "scatter",
         "x": [
          47.86469797129953,
          47.626904017076136
         ],
         "y": [
          75.15055284196664,
          76.12186846283085
         ]
        },
        {
         "hoverinfo": "skip",
         "line": {
          "color": "lightblue",
          "width": 1
         },
         "mode": "lines",
         "showlegend": false,
         "type": "scatter",
         "x": [
          28.66275931887656,
          29.595144994929434
         ],
         "y": [
          84.3083352046003,
          83.94687019786878
         ]
        },
        {
         "hoverinfo": "skip",
         "line": {
          "color": "lightblue",
          "width": 1
         },
         "mode": "lines",
         "showlegend": false,
         "type": "scatter",
         "x": [
          66.99237142401515,
          67.73416850776354
         ],
         "y": [
          18.48114993221827,
          19.15177433271558
         ]
        },
        {
         "hoverinfo": "skip",
         "line": {
          "color": "lightblue",
          "width": 1
         },
         "mode": "lines",
         "showlegend": false,
         "type": "scatter",
         "x": [
          24.73260434965116,
          23.89255503394151
         ],
         "y": [
          60.95656211294775,
          60.41405206956077
         ]
        },
        {
         "hoverinfo": "skip",
         "line": {
          "color": "lightblue",
          "width": 1
         },
         "mode": "lines",
         "showlegend": false,
         "type": "scatter",
         "x": [
          63.2367276820204,
          63.8177378430031
         ],
         "y": [
          36.5869842239964,
          37.40088052748651
         ]
        },
        {
         "hoverinfo": "skip",
         "line": {
          "color": "lightblue",
          "width": 1
         },
         "mode": "lines",
         "showlegend": false,
         "type": "scatter",
         "x": [
          41.84985423719718,
          41.518672940872385
         ],
         "y": [
          89.27627416917134,
          90.21984130984795
         ]
        },
        {
         "hoverinfo": "skip",
         "line": {
          "color": "lightblue",
          "width": 1
         },
         "mode": "lines",
         "showlegend": false,
         "type": "scatter",
         "x": [
          12.420483334656184,
          12.1870282890999
         ],
         "y": [
          14.677179146475483,
          14.80233809854835
         ]
        },
        {
         "hoverinfo": "skip",
         "line": {
          "color": "lightblue",
          "width": 1
         },
         "mode": "lines",
         "showlegend": false,
         "type": "scatter",
         "x": [
          80.82714073128967,
          81.8044828374172
         ],
         "y": [
          37.729685029176544,
          37.9413508213826
         ]
        },
        {
         "hoverinfo": "skip",
         "line": {
          "color": "lightblue",
          "width": 1
         },
         "mode": "lines",
         "showlegend": false,
         "type": "scatter",
         "x": [
          60.1966789862491,
          59.229604800157205
         ],
         "y": [
          13.505046860516654,
          13.250552226791891
         ]
        },
        {
         "hoverinfo": "skip",
         "line": {
          "color": "lightblue",
          "width": 1
         },
         "mode": "lines",
         "showlegend": false,
         "type": "scatter",
         "x": [
          88.21919286580285,
          89.17586218405648
         ],
         "y": [
          72.40616805601069,
          72.11499145064526
         ]
        },
        {
         "hoverinfo": "skip",
         "line": {
          "color": "lightblue",
          "width": 1
         },
         "mode": "lines",
         "showlegend": false,
         "type": "scatter",
         "x": [
          79.31718239950993,
          78.79636141448941
         ],
         "y": [
          68.27582427028788,
          69.12949018946368
         ]
        },
        {
         "hoverinfo": "skip",
         "line": {
          "color": "lightblue",
          "width": 1
         },
         "mode": "lines",
         "showlegend": false,
         "type": "scatter",
         "x": [
          78.15378737242531,
          77.41708616782081
         ],
         "y": [
          46.83147706050628,
          47.5076954683704
         ]
        },
        {
         "hoverinfo": "skip",
         "line": {
          "color": "lightblue",
          "width": 1
         },
         "mode": "lines",
         "showlegend": false,
         "type": "scatter",
         "x": [
          31.357875353389947,
          30.368670915057027
         ],
         "y": [
          14.52204047596016,
          14.668582549039725
         ]
        },
        {
         "hoverinfo": "skip",
         "line": {
          "color": "lightblue",
          "width": 1
         },
         "mode": "lines",
         "showlegend": false,
         "type": "scatter",
         "x": [
          13.966023739100619,
          13.19908904612122
         ],
         "y": [
          81.72404015357837,
          82.36576531024951
         ]
        },
        {
         "hoverinfo": "skip",
         "line": {
          "color": "lightblue",
          "width": 1
         },
         "mode": "lines",
         "showlegend": false,
         "type": "scatter",
         "x": [
          39.432871941530685,
          40.08249419448412
         ],
         "y": [
          7.918872105710172,
          8.679129251988787
         ]
        },
        {
         "hoverinfo": "skip",
         "line": {
          "color": "lightblue",
          "width": 1
         },
         "mode": "lines",
         "showlegend": false,
         "type": "scatter",
         "x": [
          87.04597815430145,
          86.46294487160557
         ],
         "y": [
          77.07914243989914,
          77.89159070980244
         ]
        },
        {
         "hoverinfo": "skip",
         "line": {
          "color": "lightblue",
          "width": 1
         },
         "mode": "lines",
         "showlegend": false,
         "type": "scatter",
         "x": [
          82.38284023597625,
          82.46507171410889
         ],
         "y": [
          44.821386071041886,
          43.824772814053944
         ]
        },
        {
         "hoverinfo": "skip",
         "line": {
          "color": "lightblue",
          "width": 1
         },
         "mode": "lines",
         "showlegend": false,
         "type": "scatter",
         "x": [
          13.296538169813834,
          13.240930423961128
         ],
         "y": [
          14.63041554385209,
          14.840458669726253
         ]
        },
        {
         "hoverinfo": "skip",
         "line": {
          "color": "lightblue",
          "width": 1
         },
         "mode": "lines",
         "showlegend": false,
         "type": "scatter",
         "x": [
          45.16078982593828,
          46.03010741876525
         ],
         "y": [
          89.95958518086387,
          90.4538390860599
         ]
        },
        {
         "hoverinfo": "skip",
         "line": {
          "color": "lightblue",
          "width": 1
         },
         "mode": "lines",
         "showlegend": false,
         "type": "scatter",
         "x": [
          86.46294487160557,
          85.51181086758596
         ],
         "y": [
          77.89159070980244,
          78.20036911966564
         ]
        },
        {
         "hoverinfo": "skip",
         "line": {
          "color": "lightblue",
          "width": 1
         },
         "mode": "lines",
         "showlegend": false,
         "type": "scatter",
         "x": [
          26.820975597610627,
          26.91440687429828
         ],
         "y": [
          36.456599243854555,
          36.80545150050639
         ]
        },
        {
         "hoverinfo": "skip",
         "line": {
          "color": "lightblue",
          "width": 1
         },
         "mode": "lines",
         "showlegend": false,
         "type": "scatter",
         "x": [
          9.016540743369593,
          9.399275484503377
         ],
         "y": [
          13.217134125060223,
          12.98974969873673
         ]
        },
        {
         "hoverinfo": "skip",
         "line": {
          "color": "lightblue",
          "width": 1
         },
         "mode": "lines",
         "showlegend": false,
         "type": "scatter",
         "x": [
          62.410917065737664,
          62.604945197673835
         ],
         "y": [
          17.171546560446995,
          16.88348868507902
         ]
        },
        {
         "hoverinfo": "skip",
         "line": {
          "color": "lightblue",
          "width": 1
         },
         "mode": "lines",
         "showlegend": false,
         "type": "scatter",
         "x": [
          59.229604800157205,
          59.14889820003295
         ],
         "y": [
          13.250552226791891,
          12.25381432508634
         ]
        },
        {
         "hoverinfo": "skip",
         "line": {
          "color": "lightblue",
          "width": 1
         },
         "mode": "lines",
         "showlegend": false,
         "type": "scatter",
         "x": [
          21.45253911433208,
          20.599891111876538
         ],
         "y": [
          91.82657186224972,
          92.34905763613125
         ]
        },
        {
         "hoverinfo": "skip",
         "line": {
          "color": "lightblue",
          "width": 1
         },
         "mode": "lines",
         "showlegend": false,
         "type": "scatter",
         "x": [
          78.79636141448941,
          78.83294735122072
         ],
         "y": [
          69.12949018946368,
          70.12882069997234
         ]
        },
        {
         "hoverinfo": "skip",
         "line": {
          "color": "lightblue",
          "width": 1
         },
         "mode": "lines",
         "showlegend": false,
         "type": "scatter",
         "x": [
          17.436094115704947,
          16.484160464964187
         ],
         "y": [
          39.850895550291355,
          39.54459124965656
         ]
        },
        {
         "hoverinfo": "skip",
         "line": {
          "color": "lightblue",
          "width": 1
         },
         "mode": "lines",
         "showlegend": false,
         "type": "scatter",
         "x": [
          86.46294487160557,
          86.97360218741078
         ],
         "y": [
          77.89159070980244,
          78.7513750466071
         ]
        },
        {
         "hoverinfo": "skip",
         "line": {
          "color": "lightblue",
          "width": 1
         },
         "mode": "lines",
         "showlegend": false,
         "type": "scatter",
         "x": [
          41.518672940872385,
          41.73775570916848
         ],
         "y": [
          90.21984130984795,
          91.19554758769786
         ]
        },
        {
         "hoverinfo": "skip",
         "line": {
          "color": "lightblue",
          "width": 1
         },
         "mode": "lines",
         "showlegend": false,
         "type": "scatter",
         "x": [
          86.97360218741078,
          87.48425950321598
         ],
         "y": [
          78.7513750466071,
          79.61115938341175
         ]
        },
        {
         "hoverinfo": "skip",
         "line": {
          "color": "lightblue",
          "width": 1
         },
         "mode": "lines",
         "showlegend": false,
         "type": "scatter",
         "x": [
          32.49371456063066,
          33.44138558078557
         ],
         "y": [
          31.670212905250327,
          31.989461456630835
         ]
        },
        {
         "hoverinfo": "skip",
         "line": {
          "color": "lightblue",
          "width": 1
         },
         "mode": "lines",
         "showlegend": false,
         "type": "scatter",
         "x": [
          73.53055920220976,
          72.54147709560063
         ],
         "y": [
          40.536202087904634,
          40.388836602170564
         ]
        },
        {
         "hoverinfo": "skip",
         "line": {
          "color": "lightblue",
          "width": 1
         },
         "mode": "lines",
         "showlegend": false,
         "type": "scatter",
         "x": [
          22.064820860305833,
          22.519458043505825
         ],
         "y": [
          92.61721151692645,
          93.14403525584589
         ]
        },
        {
         "hoverinfo": "skip",
         "line": {
          "color": "lightblue",
          "width": 1
         },
         "mode": "lines",
         "showlegend": false,
         "type": "scatter",
         "x": [
          87.48425950321598,
          87.99491681902119
         ],
         "y": [
          79.61115938341175,
          80.4709437202164
         ]
        },
        {
         "hoverinfo": "skip",
         "line": {
          "color": "lightblue",
          "width": 1
         },
         "mode": "lines",
         "showlegend": false,
         "type": "scatter",
         "x": [
          83.42408480365214,
          83.05827019652686
         ],
         "y": [
          13.039852148501925,
          12.109164406445661
         ]
        },
        {
         "hoverinfo": "skip",
         "line": {
          "color": "lightblue",
          "width": 1
         },
         "mode": "lines",
         "showlegend": false,
         "type": "scatter",
         "x": [
          83.05827019652686,
          83.43240595011301
         ],
         "y": [
          12.109164406445661,
          11.181790459276275
         ]
        },
        {
         "hoverinfo": "skip",
         "line": {
          "color": "lightblue",
          "width": 1
         },
         "mode": "lines",
         "showlegend": false,
         "type": "scatter",
         "x": [
          91.51753810614832,
          91.61952975413838
         ],
         "y": [
          51.97386784284701,
          52.96865309793489
         ]
        },
        {
         "hoverinfo": "skip",
         "line": {
          "color": "lightblue",
          "width": 1
         },
         "mode": "lines",
         "showlegend": false,
         "type": "scatter",
         "x": [
          39.141414317715885,
          40.13633096132412
         ],
         "y": [
          5.05787122343373,
          5.158573121485971
         ]
        },
        {
         "hoverinfo": "skip",
         "line": {
          "color": "lightblue",
          "width": 1
         },
         "mode": "lines",
         "showlegend": false,
         "type": "scatter",
         "x": [
          83.43240595011301,
          84.42553921426187
         ],
         "y": [
          11.181790459276275,
          11.064801914362645
         ]
        },
        {
         "hoverinfo": "skip",
         "line": {
          "color": "lightblue",
          "width": 1
         },
         "mode": "lines",
         "showlegend": false,
         "type": "scatter",
         "x": [
          84.77717954481533,
          85.7540473616644
         ],
         "y": [
          54.77751241884587,
          54.991356447063886
         ]
        },
        {
         "hoverinfo": "skip",
         "line": {
          "color": "lightblue",
          "width": 1
         },
         "mode": "lines",
         "showlegend": false,
         "type": "scatter",
         "x": [
          87.99491681902119,
          88.50557413482639
         ],
         "y": [
          80.4709437202164,
          81.33072805702105
         ]
        },
        {
         "hoverinfo": "skip",
         "line": {
          "color": "lightblue",
          "width": 1
         },
         "mode": "lines",
         "showlegend": false,
         "type": "scatter",
         "x": [
          85.51181086758596,
          84.84597602890491
         ],
         "y": [
          78.20036911966564,
          78.94646828706806
         ]
        },
        {
         "hoverinfo": "skip",
         "line": {
          "color": "lightblue",
          "width": 1
         },
         "mode": "lines",
         "showlegend": false,
         "type": "scatter",
         "x": [
          22.587566226618367,
          22.267807225093726
         ],
         "y": [
          14.808635481072296,
          15.756134389221517
         ]
        },
        {
         "hoverinfo": "skip",
         "line": {
          "color": "lightblue",
          "width": 1
         },
         "mode": "lines",
         "showlegend": false,
         "type": "scatter",
         "x": [
          63.291149644095114,
          62.90834957952052
         ],
         "y": [
          35.588466197096565,
          35.75084723155347
         ]
        },
        {
         "hoverinfo": "skip",
         "line": {
          "color": "lightblue",
          "width": 1
         },
         "mode": "lines",
         "showlegend": false,
         "type": "scatter",
         "x": [
          18.164674649272254,
          17.202354083509597
         ],
         "y": [
          86.76500425358122,
          87.03692175708227
         ]
        },
        {
         "hoverinfo": "skip",
         "line": {
          "color": "lightblue",
          "width": 1
         },
         "mode": "lines",
         "showlegend": false,
         "type": "scatter",
         "x": [
          89.17586218405648,
          90.12179356079602
         ],
         "y": [
          72.11499145064526,
          71.79062463591288
         ]
        },
        {
         "hoverinfo": "skip",
         "line": {
          "color": "lightblue",
          "width": 1
         },
         "mode": "lines",
         "showlegend": false,
         "type": "scatter",
         "x": [
          52.17825865585864,
          52.50875999900468
         ],
         "y": [
          51.59765238656503,
          52.54145790794041
         ]
        },
        {
         "hoverinfo": "skip",
         "line": {
          "color": "lightblue",
          "width": 1
         },
         "mode": "lines",
         "showlegend": false,
         "type": "scatter",
         "x": [
          12.69791368745098,
          13.410786412510433
         ],
         "y": [
          12.71036923358868,
          12.838150975750573
         ]
        },
        {
         "hoverinfo": "skip",
         "line": {
          "color": "lightblue",
          "width": 1
         },
         "mode": "lines",
         "showlegend": false,
         "type": "scatter",
         "x": [
          7.577708472410432,
          8.32488894218706
         ],
         "y": [
          2.2789176240718247,
          1.614296419486553
         ]
        },
        {
         "hoverinfo": "skip",
         "line": {
          "color": "lightblue",
          "width": 1
         },
         "mode": "lines",
         "showlegend": false,
         "type": "scatter",
         "x": [
          61.18164266957341,
          61.537944848796485
         ],
         "y": [
          51.37231904210131,
          50.43794826072976
         ]
        },
        {
         "hoverinfo": "skip",
         "line": {
          "color": "lightblue",
          "width": 1
         },
         "mode": "lines",
         "showlegend": false,
         "type": "scatter",
         "x": [
          90.70476833564271,
          91.61573705403738
         ],
         "y": [
          35.4610359311778,
          35.87351137784873
         ]
        },
        {
         "hoverinfo": "skip",
         "line": {
          "color": "lightblue",
          "width": 1
         },
         "mode": "lines",
         "showlegend": false,
         "type": "scatter",
         "x": [
          46.03010741876525,
          46.95683302651132
         ],
         "y": [
          90.4538390860599,
          90.07810028323583
         ]
        },
        {
         "hoverinfo": "skip",
         "line": {
          "color": "lightblue",
          "width": 1
         },
         "mode": "lines",
         "showlegend": false,
         "type": "scatter",
         "x": [
          46.95683302651132,
          47.956116079392125
         ],
         "y": [
          90.07810028323583,
          90.11596029149275
         ]
        },
        {
         "hoverinfo": "skip",
         "line": {
          "color": "lightblue",
          "width": 1
         },
         "mode": "lines",
         "showlegend": false,
         "type": "scatter",
         "x": [
          40.56546670185761,
          41.35788044244716
         ],
         "y": [
          66.12931233574,
          66.73929632218953
         ]
        },
        {
         "hoverinfo": "skip",
         "line": {
          "color": "lightblue",
          "width": 1
         },
         "mode": "lines",
         "showlegend": false,
         "type": "scatter",
         "x": [
          28.8309963062751,
          29.55354594787377
         ],
         "y": [
          5.874622127375106,
          5.183303087115375
         ]
        },
        {
         "hoverinfo": "skip",
         "line": {
          "color": "lightblue",
          "width": 1
         },
         "mode": "lines",
         "showlegend": false,
         "type": "scatter",
         "x": [
          84.42553921426187,
          85.32592389031142
         ],
         "y": [
          11.064801914362645,
          10.629707171651173
         ]
        },
        {
         "hoverinfo": "skip",
         "line": {
          "color": "lightblue",
          "width": 1
         },
         "mode": "lines",
         "showlegend": false,
         "type": "scatter",
         "x": [
          33.44138558078557,
          34.26255594556092
         ],
         "y": [
          31.989461456630835,
          31.41877832912948
         ]
        },
        {
         "hoverinfo": "skip",
         "line": {
          "color": "lightblue",
          "width": 1
         },
         "mode": "lines",
         "showlegend": false,
         "type": "scatter",
         "x": [
          48.10726608711998,
          47.92050859253732
         ],
         "y": [
          35.777398340264796,
          35.58684697437423
         ]
        },
        {
         "hoverinfo": "skip",
         "line": {
          "color": "lightblue",
          "width": 1
         },
         "mode": "lines",
         "showlegend": false,
         "type": "scatter",
         "x": [
          13.19908904612122,
          13.038017872054908
         ],
         "y": [
          82.36576531024951,
          82.5563714271004
         ]
        },
        {
         "hoverinfo": "skip",
         "line": {
          "color": "lightblue",
          "width": 1
         },
         "mode": "lines",
         "showlegend": false,
         "type": "scatter",
         "x": [
          84.47100551067093,
          83.75266565579098
         ],
         "y": [
          53.82553686200854,
          54.323301143683125
         ]
        },
        {
         "hoverinfo": "skip",
         "line": {
          "color": "lightblue",
          "width": 1
         },
         "mode": "lines",
         "showlegend": false,
         "type": "scatter",
         "x": [
          88.50557413482639,
          89.08076969014617
         ],
         "y": [
          81.33072805702105,
          82.14874399399316
         ]
        },
        {
         "hoverinfo": "skip",
         "line": {
          "color": "lightblue",
          "width": 1
         },
         "mode": "lines",
         "showlegend": false,
         "type": "scatter",
         "x": [
          84.68043233246397,
          83.68721921493933
         ],
         "y": [
          70.73857766566478,
          70.85488632044591
         ]
        },
        {
         "hoverinfo": "skip",
         "line": {
          "color": "lightblue",
          "width": 1
         },
         "mode": "lines",
         "showlegend": false,
         "type": "scatter",
         "x": [
          89.08076969014617,
          89.58804537116558
         ],
         "y": [
          82.14874399399316,
          83.01052783199798
         ]
        },
        {
         "hoverinfo": "skip",
         "line": {
          "color": "lightblue",
          "width": 1
         },
         "mode": "lines",
         "showlegend": false,
         "type": "scatter",
         "x": [
          78.79636141448941,
          77.82462165877828
         ],
         "y": [
          69.12949018946368,
          68.89343543486112
         ]
        },
        {
         "hoverinfo": "skip",
         "line": {
          "color": "lightblue",
          "width": 1
         },
         "mode": "lines",
         "showlegend": false,
         "type": "scatter",
         "x": [
          45.03939817415099,
          44.433654347900415
         ],
         "y": [
          38.569523514217444,
          37.77386377729511
         ]
        },
        {
         "hoverinfo": "skip",
         "line": {
          "color": "lightblue",
          "width": 1
         },
         "mode": "lines",
         "showlegend": false,
         "type": "scatter",
         "x": [
          47.956116079392125,
          48.955119824618876
         ],
         "y": [
          90.11596029149275,
          90.07133387529203
         ]
        },
        {
         "hoverinfo": "skip",
         "line": {
          "color": "lightblue",
          "width": 1
         },
         "mode": "lines",
         "showlegend": false,
         "type": "scatter",
         "x": [
          30.368670915057027,
          30.20529057141374
         ],
         "y": [
          14.668582549039725,
          15.655145706324143
         ]
        },
        {
         "hoverinfo": "skip",
         "line": {
          "color": "lightblue",
          "width": 1
         },
         "mode": "lines",
         "showlegend": false,
         "type": "scatter",
         "x": [
          77.82462165877828,
          76.88217910842125
         ],
         "y": [
          68.89343543486112,
          68.55906731545298
         ]
        },
        {
         "hoverinfo": "skip",
         "line": {
          "color": "lightblue",
          "width": 1
         },
         "mode": "lines",
         "showlegend": false,
         "type": "scatter",
         "x": [
          89.58804537116558,
          89.3142062754508
         ],
         "y": [
          83.01052783199798,
          83.97230335136729
         ]
        },
        {
         "hoverinfo": "skip",
         "line": {
          "color": "lightblue",
          "width": 1
         },
         "mode": "lines",
         "showlegend": false,
         "type": "scatter",
         "x": [
          59.82074253762533,
          58.82639162943705
         ],
         "y": [
          16.927999394572947,
          16.821856701064927
         ]
        },
        {
         "hoverinfo": "skip",
         "line": {
          "color": "lightblue",
          "width": 1
         },
         "mode": "lines",
         "showlegend": false,
         "type": "scatter",
         "x": [
          89.3142062754508,
          89.85595811863156
         ],
         "y": [
          83.97230335136729,
          84.81284183377618
         ]
        },
        {
         "hoverinfo": "skip",
         "line": {
          "color": "lightblue",
          "width": 1
         },
         "mode": "lines",
         "showlegend": false,
         "type": "scatter",
         "x": [
          77.41708616782081,
          76.93794902821116
         ],
         "y": [
          47.5076954683704,
          48.38543552182968
         ]
        },
        {
         "hoverinfo": "skip",
         "line": {
          "color": "lightblue",
          "width": 1
         },
         "mode": "lines",
         "showlegend": false,
         "type": "scatter",
         "x": [
          12.237496930301589,
          13.219582181754792
         ],
         "y": [
          51.93370333627855,
          52.12214048462807
         ]
        },
        {
         "hoverinfo": "skip",
         "line": {
          "color": "lightblue",
          "width": 1
         },
         "mode": "lines",
         "showlegend": false,
         "type": "scatter",
         "x": [
          89.15998817342735,
          89.57802321654532
         ],
         "y": [
          35.295398939684645,
          34.38696803822578
         ]
        },
        {
         "hoverinfo": "skip",
         "line": {
          "color": "lightblue",
          "width": 1
         },
         "mode": "lines",
         "showlegend": false,
         "type": "scatter",
         "x": [
          24.867391785585742,
          25.07060101731736
         ],
         "y": [
          64.04657848876882,
          64.10010568952568
         ]
        },
        {
         "hoverinfo": "skip",
         "line": {
          "color": "lightblue",
          "width": 1
         },
         "mode": "lines",
         "showlegend": false,
         "type": "scatter",
         "x": [
          89.35738486623748,
          90.17261029135558
         ],
         "y": [
          29.838072965961903,
          30.417216735885244
         ]
        },
        {
         "hoverinfo": "skip",
         "line": {
          "color": "lightblue",
          "width": 1
         },
         "mode": "lines",
         "showlegend": false,
         "type": "scatter",
         "x": [
          76.93794902821116,
          75.94054036302363
         ],
         "y": [
          48.38543552182968,
          48.45737962936337
         ]
        },
        {
         "hoverinfo": "skip",
         "line": {
          "color": "lightblue",
          "width": 1
         },
         "mode": "lines",
         "showlegend": false,
         "type": "scatter",
         "x": [
          32.423831568571664,
          33.086062347693584
         ],
         "y": [
          29.724509837412196,
          28.9752099006822
         ]
        },
        {
         "hoverinfo": "skip",
         "line": {
          "color": "lightblue",
          "width": 1
         },
         "mode": "lines",
         "showlegend": false,
         "type": "scatter",
         "x": [
          17.202354083509597,
          16.202435033875453
         ],
         "y": [
          87.03692175708227,
          87.0496455214132
         ]
        },
        {
         "hoverinfo": "skip",
         "line": {
          "color": "lightblue",
          "width": 1
         },
         "mode": "lines",
         "showlegend": false,
         "type": "scatter",
         "x": [
          44.289191958771724,
          43.29490094682912
         ],
         "y": [
          53.06662526276442,
          52.95992294990217
         ]
        },
        {
         "hoverinfo": "skip",
         "line": {
          "color": "lightblue",
          "width": 1
         },
         "mode": "lines",
         "showlegend": false,
         "type": "scatter",
         "x": [
          66.99237142401515,
          67.12861579693065
         ],
         "y": [
          18.48114993221827,
          17.49047467218153
         ]
        },
        {
         "hoverinfo": "skip",
         "line": {
          "color": "lightblue",
          "width": 1
         },
         "mode": "lines",
         "showlegend": false,
         "type": "scatter",
         "x": [
          41.73775570916848,
          42.3082125232811
         ],
         "y": [
          91.19554758769786,
          92.01687518569544
         ]
        },
        {
         "hoverinfo": "skip",
         "line": {
          "color": "lightblue",
          "width": 1
         },
         "mode": "lines",
         "showlegend": false,
         "type": "scatter",
         "x": [
          48.955119824618876,
          49.95299275394738
         ],
         "y": [
          90.07133387529203,
          90.00614478944662
         ]
        },
        {
         "hoverinfo": "skip",
         "line": {
          "color": "lightblue",
          "width": 1
         },
         "mode": "lines",
         "showlegend": false,
         "type": "scatter",
         "x": [
          84.84597602890491,
          85.02622961920873
         ],
         "y": [
          78.94646828706806,
          78.61653775897462
         ]
        },
        {
         "hoverinfo": "skip",
         "line": {
          "color": "lightblue",
          "width": 1
         },
         "mode": "lines",
         "showlegend": false,
         "type": "scatter",
         "x": [
          49.95299275394738,
          50.541606691790925
         ],
         "y": [
          90.00614478944662,
          89.19773051930024
         ]
        },
        {
         "hoverinfo": "skip",
         "line": {
          "color": "lightblue",
          "width": 1
         },
         "mode": "lines",
         "showlegend": false,
         "type": "scatter",
         "x": [
          44.71573622756615,
          44.89572726116334
         ],
         "y": [
          30.40388316142564,
          29.420214910527697
         ]
        },
        {
         "hoverinfo": "skip",
         "line": {
          "color": "lightblue",
          "width": 1
         },
         "mode": "lines",
         "showlegend": false,
         "type": "scatter",
         "x": [
          29.04231793676939,
          29.603305424963175
         ],
         "y": [
          60.24221629945326,
          59.41439201973562
         ]
        },
        {
         "hoverinfo": "skip",
         "line": {
          "color": "lightblue",
          "width": 1
         },
         "mode": "lines",
         "showlegend": false,
         "type": "scatter",
         "x": [
          43.56560049366698,
          43.13343070375118
         ],
         "y": [
          61.292516967684605,
          60.39072471184952
         ]
        },
        {
         "hoverinfo": "skip",
         "line": {
          "color": "lightblue",
          "width": 1
         },
         "mode": "lines",
         "showlegend": false,
         "type": "scatter",
         "x": [
          31.29153197151655,
          31.74937716715278
         ],
         "y": [
          70.0156126836008,
          69.517980461324
         ]
        },
        {
         "hoverinfo": "skip",
         "line": {
          "color": "lightblue",
          "width": 1
         },
         "mode": "lines",
         "showlegend": false,
         "type": "scatter",
         "x": [
          13.038017872054908,
          12.051593999155378
         ],
         "y": [
          82.5563714271004,
          82.72059061895656
         ]
        },
        {
         "hoverinfo": "skip",
         "line": {
          "color": "lightblue",
          "width": 1
         },
         "mode": "lines",
         "showlegend": false,
         "type": "scatter",
         "x": [
          89.85595811863156,
          90.39770996181232
         ],
         "y": [
          84.81284183377618,
          85.65338031618506
         ]
        },
        {
         "hoverinfo": "skip",
         "line": {
          "color": "lightblue",
          "width": 1
         },
         "mode": "lines",
         "showlegend": false,
         "type": "scatter",
         "x": [
          18.212872801395562,
          17.225073291229087
         ],
         "y": [
          33.36760580698351,
          33.52333675353836
         ]
        },
        {
         "hoverinfo": "skip",
         "line": {
          "color": "lightblue",
          "width": 1
         },
         "mode": "lines",
         "showlegend": false,
         "type": "scatter",
         "x": [
          63.8177378430031,
          64.23685528092362
         ],
         "y": [
          37.40088052748651,
          38.30881255866006
         ]
        },
        {
         "hoverinfo": "skip",
         "line": {
          "color": "lightblue",
          "width": 1
         },
         "mode": "lines",
         "showlegend": false,
         "type": "scatter",
         "x": [
          52.2891192269772,
          53.137347083424544
         ],
         "y": [
          50.603816417316956,
          50.559290279437086
         ]
        },
        {
         "hoverinfo": "skip",
         "line": {
          "color": "lightblue",
          "width": 1
         },
         "mode": "lines",
         "showlegend": false,
         "type": "scatter",
         "x": [
          12.051593999155378,
          11.051799156891272
         ],
         "y": [
          82.72059061895656,
          82.70033541266054
         ]
        },
        {
         "hoverinfo": "skip",
         "line": {
          "color": "lightblue",
          "width": 1
         },
         "mode": "lines",
         "showlegend": false,
         "type": "scatter",
         "x": [
          50.541606691790925,
          51.372660971894405
         ],
         "y": [
          89.19773051930024,
          89.7539218384717
         ]
        },
        {
         "hoverinfo": "skip",
         "line": {
          "color": "lightblue",
          "width": 1
         },
         "mode": "lines",
         "showlegend": false,
         "type": "scatter",
         "x": [
          11.051799156891272,
          10.696255127790327
         ],
         "y": [
          82.70033541266054,
          81.76567587926313
         ]
        },
        {
         "hoverinfo": "skip",
         "line": {
          "color": "lightblue",
          "width": 1
         },
         "mode": "lines",
         "showlegend": false,
         "type": "scatter",
         "x": [
          60.18010040200843,
          60.16127388258516
         ],
         "y": [
          52.8461824921696,
          53.84600525754675
         ]
        },
        {
         "hoverinfo": "skip",
         "line": {
          "color": "lightblue",
          "width": 1
         },
         "mode": "lines",
         "showlegend": false,
         "type": "scatter",
         "x": [
          22.519458043505825,
          23.178607485576073
         ],
         "y": [
          93.14403525584589,
          93.89604723249153
         ]
        },
        {
         "hoverinfo": "skip",
         "line": {
          "color": "lightblue",
          "width": 1
         },
         "mode": "lines",
         "showlegend": false,
         "type": "scatter",
         "x": [
          33.086062347693584,
          33.508819086832254
         ],
         "y": [
          28.9752099006822,
          28.06896669959717
         ]
        },
        {
         "hoverinfo": "skip",
         "line": {
          "color": "lightblue",
          "width": 1
         },
         "mode": "lines",
         "showlegend": false,
         "type": "scatter",
         "x": [
          59.14889820003295,
          58.9078549108878
         ],
         "y": [
          12.25381432508634,
          11.283299960041656
         ]
        },
        {
         "hoverinfo": "skip",
         "line": {
          "color": "lightblue",
          "width": 1
         },
         "mode": "lines",
         "showlegend": false,
         "type": "scatter",
         "x": [
          21.564892191942725,
          21.047395090828466
         ],
         "y": [
          65.57361480453642,
          66.42929976428407
         ]
        },
        {
         "hoverinfo": "skip",
         "line": {
          "color": "lightblue",
          "width": 1
         },
         "mode": "lines",
         "showlegend": false,
         "type": "scatter",
         "x": [
          51.372660971894405,
          52.09445762523353
         ],
         "y": [
          89.7539218384717,
          89.06181665049198
         ]
        },
        {
         "hoverinfo": "skip",
         "line": {
          "color": "lightblue",
          "width": 1
         },
         "mode": "lines",
         "showlegend": false,
         "type": "scatter",
         "x": [
          90.39770996181232,
          91.38982210442566
         ],
         "y": [
          85.65338031618506,
          85.77873380229205
         ]
        },
        {
         "hoverinfo": "skip",
         "line": {
          "color": "lightblue",
          "width": 1
         },
         "mode": "lines",
         "showlegend": false,
         "type": "scatter",
         "x": [
          30.20529057141374,
          30.79525509965325
         ],
         "y": [
          15.655145706324143,
          16.462574870659402
         ]
        },
        {
         "hoverinfo": "skip",
         "line": {
          "color": "lightblue",
          "width": 1
         },
         "mode": "lines",
         "showlegend": false,
         "type": "scatter",
         "x": [
          36.00151720434775,
          36.38355804370199
         ],
         "y": [
          66.93043312670201,
          67.85457856821299
         ]
        },
        {
         "hoverinfo": "skip",
         "line": {
          "color": "lightblue",
          "width": 1
         },
         "mode": "lines",
         "showlegend": false,
         "type": "scatter",
         "x": [
          76.88217910842125,
          76.0467047983503
         ],
         "y": [
          68.55906731545298,
          69.10859682076773
         ]
        },
        {
         "hoverinfo": "skip",
         "line": {
          "color": "lightblue",
          "width": 1
         },
         "mode": "lines",
         "showlegend": false,
         "type": "scatter",
         "x": [
          85.32592389031142,
          86.26245046130141
         ],
         "y": [
          10.629707171651173,
          10.279110563239577
         ]
        },
        {
         "hoverinfo": "skip",
         "line": {
          "color": "lightblue",
          "width": 1
         },
         "mode": "lines",
         "showlegend": false,
         "type": "scatter",
         "x": [
          24.37706084869482,
          24.096474380963606
         ],
         "y": [
          8.447518630037317,
          7.811991346860891
         ]
        },
        {
         "hoverinfo": "skip",
         "line": {
          "color": "lightblue",
          "width": 1
         },
         "mode": "lines",
         "showlegend": false,
         "type": "scatter",
         "x": [
          27.4511706210518,
          26.81722282814017
         ],
         "y": [
          43.3834538317733,
          44.15682967563092
         ]
        },
        {
         "hoverinfo": "skip",
         "line": {
          "color": "lightblue",
          "width": 1
         },
         "mode": "lines",
         "showlegend": false,
         "type": "scatter",
         "x": [
          19.79414297669945,
          20.61400796644035
         ],
         "y": [
          9.840997730023265,
          9.88595834849365
         ]
        },
        {
         "hoverinfo": "skip",
         "line": {
          "color": "lightblue",
          "width": 1
         },
         "mode": "lines",
         "showlegend": false,
         "type": "scatter",
         "x": [
          91.38982210442566,
          91.88868481913369
         ],
         "y": [
          85.77873380229205,
          86.64541482312622
         ]
        },
        {
         "hoverinfo": "skip",
         "line": {
          "color": "lightblue",
          "width": 1
         },
         "mode": "lines",
         "showlegend": false,
         "type": "scatter",
         "x": [
          76.0467047983503,
          75.13448270346308
         ],
         "y": [
          69.10859682076773,
          69.51829286614719
         ]
        },
        {
         "hoverinfo": "skip",
         "line": {
          "color": "lightblue",
          "width": 1
         },
         "mode": "lines",
         "showlegend": false,
         "type": "scatter",
         "x": [
          71.90377423774447,
          71.59043510364386
         ],
         "y": [
          12.936349471659668,
          11.986708177780196
         ]
        },
        {
         "hoverinfo": "skip",
         "line": {
          "color": "lightblue",
          "width": 1
         },
         "mode": "lines",
         "showlegend": false,
         "type": "scatter",
         "x": [
          33.508819086832254,
          34.50260054624614
         ],
         "y": [
          28.06896669959717,
          27.95761854772563
         ]
        },
        {
         "hoverinfo": "skip",
         "line": {
          "color": "lightblue",
          "width": 1
         },
         "mode": "lines",
         "showlegend": false,
         "type": "scatter",
         "x": [
          3.5219087906390087,
          4.396764130272979
         ],
         "y": [
          17.32413227013563,
          17.808516554267488
         ]
        },
        {
         "hoverinfo": "skip",
         "line": {
          "color": "lightblue",
          "width": 1
         },
         "mode": "lines",
         "showlegend": false,
         "type": "scatter",
         "x": [
          36.38355804370199,
          36.37319759857479
         ],
         "y": [
          67.85457856821299,
          68.85452489736109
         ]
        },
        {
         "hoverinfo": "skip",
         "line": {
          "color": "lightblue",
          "width": 1
         },
         "mode": "lines",
         "showlegend": false,
         "type": "scatter",
         "x": [
          44.621309822576166,
          44.64133721689243
         ],
         "y": [
          72.91700422609601,
          73.91680365772062
         ]
        },
        {
         "hoverinfo": "skip",
         "line": {
          "color": "lightblue",
          "width": 1
         },
         "mode": "lines",
         "showlegend": false,
         "type": "scatter",
         "x": [
          91.88868481913369,
          92.64637668695413
         ],
         "y": [
          86.64541482312622,
          87.29802729116432
         ]
        },
        {
         "hoverinfo": "skip",
         "line": {
          "color": "lightblue",
          "width": 1
         },
         "mode": "lines",
         "showlegend": false,
         "type": "scatter",
         "x": [
          92.64637668695413,
          92.25505968485909
         ],
         "y": [
          87.29802729116432,
          88.21828323592716
         ]
        },
        {
         "hoverinfo": "skip",
         "line": {
          "color": "lightblue",
          "width": 1
         },
         "mode": "lines",
         "showlegend": false,
         "type": "scatter",
         "x": [
          15.173842227622382,
          14.210493320308464
         ],
         "y": [
          75.82153631658817,
          75.55328478765108
         ]
        },
        {
         "hoverinfo": "skip",
         "line": {
          "color": "lightblue",
          "width": 1
         },
         "mode": "lines",
         "showlegend": false,
         "type": "scatter",
         "x": [
          54.13865739670976,
          54.33453038728007
         ],
         "y": [
          68.40818990900783,
          67.83152360064898
         ]
        },
        {
         "hoverinfo": "skip",
         "line": {
          "color": "lightblue",
          "width": 1
         },
         "mode": "lines",
         "showlegend": false,
         "type": "scatter",
         "x": [
          30.79525509965325,
          31.57580690792772
         ],
         "y": [
          16.462574870659402,
          17.08766596370061
         ]
        },
        {
         "hoverinfo": "skip",
         "line": {
          "color": "lightblue",
          "width": 1
         },
         "mode": "lines",
         "showlegend": false,
         "type": "scatter",
         "x": [
          11.051799156891272,
          10.359883057410912
         ],
         "y": [
          82.70033541266054,
          83.4223133287216
         ]
        },
        {
         "hoverinfo": "skip",
         "line": {
          "color": "lightblue",
          "width": 1
         },
         "mode": "lines",
         "showlegend": false,
         "type": "scatter",
         "x": [
          4.0888361276361795,
          4.694469737092567
         ],
         "y": [
          15.621071915227992,
          16.41681554925646
         ]
        },
        {
         "hoverinfo": "skip",
         "line": {
          "color": "lightblue",
          "width": 1
         },
         "mode": "lines",
         "showlegend": false,
         "type": "scatter",
         "x": [
          30.25652634837227,
          30.088361100069537
         ],
         "y": [
          11.103767535978765,
          11.440944315165535
         ]
        },
        {
         "hoverinfo": "skip",
         "line": {
          "color": "lightblue",
          "width": 1
         },
         "mode": "lines",
         "showlegend": false,
         "type": "scatter",
         "x": [
          29.681651491325145,
          29.319814357352858
         ],
         "y": [
          35.13093271564581,
          35.065816490232834
         ]
        },
        {
         "hoverinfo": "skip",
         "line": {
          "color": "lightblue",
          "width": 1
         },
         "mode": "lines",
         "showlegend": false,
         "type": "scatter",
         "x": [
          75.94054036302363,
          75.03355072398331
         ],
         "y": [
          48.45737962936337,
          48.87853256438047
         ]
        },
        {
         "hoverinfo": "skip",
         "line": {
          "color": "lightblue",
          "width": 1
         },
         "mode": "lines",
         "showlegend": false,
         "type": "scatter",
         "x": [
          36.58622222155142,
          36.59405033069025
         ],
         "y": [
          87.34105537311018,
          86.34108601322593
         ]
        },
        {
         "hoverinfo": "skip",
         "line": {
          "color": "lightblue",
          "width": 1
         },
         "mode": "lines",
         "showlegend": false,
         "type": "scatter",
         "x": [
          91.38982210442566,
          92.02170784216166
         ],
         "y": [
          85.77873380229205,
          85.00367224702961
         ]
        },
        {
         "hoverinfo": "skip",
         "line": {
          "color": "lightblue",
          "width": 1
         },
         "mode": "lines",
         "showlegend": false,
         "type": "scatter",
         "x": [
          43.77453449419054,
          43.71200051024873
         ],
         "y": [
          68.13133117154057,
          69.12937400671969
         ]
        },
        {
         "hoverinfo": "skip",
         "line": {
          "color": "lightblue",
          "width": 1
         },
         "mode": "lines",
         "showlegend": false,
         "type": "scatter",
         "x": [
          57.64013161800475,
          57.12684909185288
         ],
         "y": [
          50.661091181686125,
          51.47524595188205
         ]
        },
        {
         "hoverinfo": "skip",
         "line": {
          "color": "lightblue",
          "width": 1
         },
         "mode": "lines",
         "showlegend": false,
         "type": "scatter",
         "x": [
          7.1558988699298824,
          7.5141242019485395
         ],
         "y": [
          4.530502516098322,
          5.4641376758369224
         ]
        },
        {
         "hoverinfo": "skip",
         "line": {
          "color": "lightblue",
          "width": 1
         },
         "mode": "lines",
         "showlegend": false,
         "type": "scatter",
         "x": [
          60.93465471816492,
          60.711666832089804
         ],
         "y": [
          30.776349785732947,
          31.726728394645654
         ]
        },
        {
         "hoverinfo": "skip",
         "line": {
          "color": "lightblue",
          "width": 1
         },
         "mode": "lines",
         "showlegend": false,
         "type": "scatter",
         "x": [
          25.07060101731736,
          25.37220442936338
         ],
         "y": [
          64.10010568952568,
          65.05353915959174
         ]
        },
        {
         "hoverinfo": "skip",
         "line": {
          "color": "lightblue",
          "width": 1
         },
         "mode": "lines",
         "showlegend": false,
         "type": "scatter",
         "x": [
          52.09445762523353,
          53.061550546840245
         ],
         "y": [
          89.06181665049198,
          89.31624007900868
         ]
        },
        {
         "hoverinfo": "skip",
         "line": {
          "color": "lightblue",
          "width": 1
         },
         "mode": "lines",
         "showlegend": false,
         "type": "scatter",
         "x": [
          37.94087781001947,
          37.862744579898475
         ],
         "y": [
          41.560288820830216,
          41.0013904882611
         ]
        },
        {
         "hoverinfo": "skip",
         "line": {
          "color": "lightblue",
          "width": 1
         },
         "mode": "lines",
         "showlegend": false,
         "type": "scatter",
         "x": [
          90.12179356079602,
          90.55517134550169
         ],
         "y": [
          71.79062463591288,
          70.88941228817035
         ]
        },
        {
         "hoverinfo": "skip",
         "line": {
          "color": "lightblue",
          "width": 1
         },
         "mode": "lines",
         "showlegend": false,
         "type": "scatter",
         "x": [
          61.537944848796485,
          61.81561102325185
         ],
         "y": [
          50.43794826072976,
          49.47727063760985
         ]
        },
        {
         "hoverinfo": "skip",
         "line": {
          "color": "lightblue",
          "width": 1
         },
         "mode": "lines",
         "showlegend": false,
         "type": "scatter",
         "x": [
          44.89572726116334,
          43.89783706586953
         ],
         "y": [
          29.420214910527697,
          29.355290661309912
         ]
        },
        {
         "hoverinfo": "skip",
         "line": {
          "color": "lightblue",
          "width": 1
         },
         "mode": "lines",
         "showlegend": false,
         "type": "scatter",
         "x": [
          61.41469339543162,
          60.91627498848431
         ],
         "y": [
          17.08472260798023,
          17.86002130210227
         ]
        },
        {
         "hoverinfo": "skip",
         "line": {
          "color": "lightblue",
          "width": 1
         },
         "mode": "lines",
         "showlegend": false,
         "type": "scatter",
         "x": [
          62.90834957952052,
          63.00854261483363
         ],
         "y": [
          35.75084723155347,
          35.70448186892654
         ]
        },
        {
         "hoverinfo": "skip",
         "line": {
          "color": "lightblue",
          "width": 1
         },
         "mode": "lines",
         "showlegend": false,
         "type": "scatter",
         "x": [
          14.210493320308464,
          13.327389792400044
         ],
         "y": [
          75.55328478765108,
          75.08410661361087
         ]
        },
        {
         "hoverinfo": "skip",
         "line": {
          "color": "lightblue",
          "width": 1
         },
         "mode": "lines",
         "showlegend": false,
         "type": "scatter",
         "x": [
          83.45904407840662,
          83.92486206181677
         ],
         "y": [
          48.390022166781456,
          47.50514160629224
         ]
        },
        {
         "hoverinfo": "skip",
         "line": {
          "color": "lightblue",
          "width": 1
         },
         "mode": "lines",
         "showlegend": false,
         "type": "scatter",
         "x": [
          71.90377423774447,
          72.28163129919828
         ],
         "y": [
          12.936349471659668,
          13.204274597246457
         ]
        },
        {
         "hoverinfo": "skip",
         "line": {
          "color": "lightblue",
          "width": 1
         },
         "mode": "lines",
         "showlegend": false,
         "type": "scatter",
         "x": [
          40.08249419448412,
          40.228249235758824
         ],
         "y": [
          8.679129251988787,
          9.668449962346662
         ]
        },
        {
         "hoverinfo": "skip",
         "line": {
          "color": "lightblue",
          "width": 1
         },
         "mode": "lines",
         "showlegend": false,
         "type": "scatter",
         "x": [
          83.43240595011301,
          82.52178468504437
         ],
         "y": [
          11.181790459276275,
          10.768548506414765
         ]
        },
        {
         "hoverinfo": "skip",
         "line": {
          "color": "lightblue",
          "width": 1
         },
         "mode": "lines",
         "showlegend": false,
         "type": "scatter",
         "x": [
          41.518672940872385,
          40.897472828252425
         ],
         "y": [
          90.21984130984795,
          90.6863868319122
         ]
        },
        {
         "hoverinfo": "skip",
         "line": {
          "color": "lightblue",
          "width": 1
         },
         "mode": "lines",
         "showlegend": false,
         "type": "scatter",
         "x": [
          44.621309822576166,
          43.62431689291035
         ],
         "y": [
          72.91700422609601,
          72.9944967947486
         ]
        },
        {
         "hoverinfo": "skip",
         "line": {
          "color": "lightblue",
          "width": 1
         },
         "mode": "lines",
         "showlegend": false,
         "type": "scatter",
         "x": [
          71.2918419973654,
          70.51350601700734
         ],
         "y": [
          34.588124119332534,
          35.21597211182758
         ]
        },
        {
         "hoverinfo": "skip",
         "line": {
          "color": "lightblue",
          "width": 1
         },
         "mode": "lines",
         "showlegend": false,
         "type": "scatter",
         "x": [
          12.825600710956646,
          13.3614297353276
         ],
         "y": [
          16.86676071091794,
          17.236379990088157
         ]
        },
        {
         "hoverinfo": "skip",
         "line": {
          "color": "lightblue",
          "width": 1
         },
         "mode": "lines",
         "showlegend": false,
         "type": "scatter",
         "x": [
          2.53154809332212,
          1.67578588346593
         ],
         "y": [
          6.11835512894112,
          6.458640132932548
         ]
        },
        {
         "hoverinfo": "skip",
         "line": {
          "color": "lightblue",
          "width": 1
         },
         "mode": "lines",
         "showlegend": false,
         "type": "scatter",
         "x": [
          83.42408480365214,
          82.42436394170987
         ],
         "y": [
          13.039852148501925,
          13.016225930069703
         ]
        },
        {
         "hoverinfo": "skip",
         "line": {
          "color": "lightblue",
          "width": 1
         },
         "mode": "lines",
         "showlegend": false,
         "type": "scatter",
         "x": [
          58.90791454172258,
          58.193533694229146
         ],
         "y": [
          52.20414081880691,
          52.90389792290416
         ]
        },
        {
         "hoverinfo": "skip",
         "line": {
          "color": "lightblue",
          "width": 1
         },
         "mode": "lines",
         "showlegend": false,
         "type": "scatter",
         "x": [
          92.44704492961323,
          93.35270991168645
         ],
         "y": [
          51.60506292811271,
          51.18106889484535
         ]
        },
        {
         "hoverinfo": "skip",
         "line": {
          "color": "lightblue",
          "width": 1
         },
         "mode": "lines",
         "showlegend": false,
         "type": "scatter",
         "x": [
          82.46507171410889,
          82.48613770049087
         ],
         "y": [
          43.824772814053944,
          42.824994726567645
         ]
        },
        {
         "hoverinfo": "skip",
         "line": {
          "color": "lightblue",
          "width": 1
         },
         "mode": "lines",
         "showlegend": false,
         "type": "scatter",
         "x": [
          46.999852501823156,
          46.907519077359225
         ],
         "y": [
          53.08030402124616,
          53.31531174538823
         ]
        },
        {
         "hoverinfo": "skip",
         "line": {
          "color": "lightblue",
          "width": 1
         },
         "mode": "lines",
         "showlegend": false,
         "type": "scatter",
         "x": [
          53.061550546840245,
          53.47254779162479
         ],
         "y": [
          89.31624007900868,
          90.2278766649241
         ]
        },
        {
         "hoverinfo": "skip",
         "line": {
          "color": "lightblue",
          "width": 1
         },
         "mode": "lines",
         "showlegend": false,
         "type": "scatter",
         "x": [
          86.26245046130141,
          87.23615381832865
         ],
         "y": [
          10.279110563239577,
          10.051290958038692
         ]
        },
        {
         "hoverinfo": "skip",
         "line": {
          "color": "lightblue",
          "width": 1
         },
         "mode": "lines",
         "showlegend": false,
         "type": "scatter",
         "x": [
          92.25505968485909,
          92.7854186078594
         ],
         "y": [
          88.21828323592716,
          89.06605644427593
         ]
        },
        {
         "hoverinfo": "skip",
         "line": {
          "color": "lightblue",
          "width": 1
         },
         "mode": "lines",
         "showlegend": false,
         "type": "scatter",
         "x": [
          53.47254779162479,
          54.44816692774928
         ],
         "y": [
          90.2278766649241,
          90.44734716687756
         ]
        },
        {
         "hoverinfo": "skip",
         "line": {
          "color": "lightblue",
          "width": 1
         },
         "mode": "lines",
         "showlegend": false,
         "type": "scatter",
         "x": [
          43.89783706586953,
          43.076506887444445
         ],
         "y": [
          29.355290661309912,
          28.78483756244181
         ]
        },
        {
         "hoverinfo": "skip",
         "line": {
          "color": "lightblue",
          "width": 1
         },
         "mode": "lines",
         "showlegend": false,
         "type": "scatter",
         "x": [
          92.7854186078594,
          93.31577753085969
         ],
         "y": [
          89.06605644427593,
          89.9138296526247
         ]
        },
        {
         "hoverinfo": "skip",
         "line": {
          "color": "lightblue",
          "width": 1
         },
         "mode": "lines",
         "showlegend": false,
         "type": "scatter",
         "x": [
          58.9078549108878,
          58.79679729341933
         ],
         "y": [
          11.283299960041656,
          10.289485990728371
         ]
        },
        {
         "hoverinfo": "skip",
         "line": {
          "color": "lightblue",
          "width": 1
         },
         "mode": "lines",
         "showlegend": false,
         "type": "scatter",
         "x": [
          54.44816692774928,
          55.21637358017885
         ],
         "y": [
          90.44734716687756,
          91.08754911873568
         ]
        },
        {
         "hoverinfo": "skip",
         "line": {
          "color": "lightblue",
          "width": 1
         },
         "mode": "lines",
         "showlegend": false,
         "type": "scatter",
         "x": [
          75.13448270346308,
          75.22103918950255
         ],
         "y": [
          69.51829286614719,
          70.51453981079722
         ]
        },
        {
         "hoverinfo": "skip",
         "line": {
          "color": "lightblue",
          "width": 1
         },
         "mode": "lines",
         "showlegend": false,
         "type": "scatter",
         "x": [
          26.098079549482122,
          25.424723129789335
         ],
         "y": [
          81.88745826263299,
          81.1481402444172
         ]
        },
        {
         "hoverinfo": "skip",
         "line": {
          "color": "lightblue",
          "width": 1
         },
         "mode": "lines",
         "showlegend": false,
         "type": "scatter",
         "x": [
          4.071456369151686,
          3.252590739712824
         ],
         "y": [
          43.437917605604795,
          43.87027666660788
         ]
        },
        {
         "hoverinfo": "skip",
         "line": {
          "color": "lightblue",
          "width": 1
         },
         "mode": "lines",
         "showlegend": false,
         "type": "scatter",
         "x": [
          60.1966789862491,
          60.79649391502153
         ],
         "y": [
          13.505046860516654,
          12.704908090538769
         ]
        },
        {
         "hoverinfo": "skip",
         "line": {
          "color": "lightblue",
          "width": 1
         },
         "mode": "lines",
         "showlegend": false,
         "type": "scatter",
         "x": [
          55.21637358017885,
          56.213323331071166
         ],
         "y": [
          91.08754911873568,
          91.00950301572115
         ]
        },
        {
         "hoverinfo": "skip",
         "line": {
          "color": "lightblue",
          "width": 1
         },
         "mode": "lines",
         "showlegend": false,
         "type": "scatter",
         "x": [
          48.955119824618876,
          48.96955714448572
         ],
         "y": [
          90.07133387529203,
          91.07122965175829
         ]
        },
        {
         "hoverinfo": "skip",
         "line": {
          "color": "lightblue",
          "width": 1
         },
         "mode": "lines",
         "showlegend": false,
         "type": "scatter",
         "x": [
          13.82045314096621,
          12.840379211906466
         ],
         "y": [
          45.360324793035474,
          45.55895785568466
         ]
        },
        {
         "hoverinfo": "skip",
         "line": {
          "color": "lightblue",
          "width": 1
         },
         "mode": "lines",
         "showlegend": false,
         "type": "scatter",
         "x": [
          38.20507901347944,
          37.29085166877834
         ],
         "y": [
          5.408978326808823,
          5.003776695271179
         ]
        },
        {
         "hoverinfo": "skip",
         "line": {
          "color": "lightblue",
          "width": 1
         },
         "mode": "lines",
         "showlegend": false,
         "type": "scatter",
         "x": [
          16.031286140741347,
          15.586486820481149
         ],
         "y": [
          12.678849919610329,
          12.076795741038893
         ]
        },
        {
         "hoverinfo": "skip",
         "line": {
          "color": "lightblue",
          "width": 1
         },
         "mode": "lines",
         "showlegend": false,
         "type": "scatter",
         "x": [
          90.55517134550169,
          90.73850273407028
         ],
         "y": [
          70.88941228817035,
          69.9063611186143
         ]
        },
        {
         "hoverinfo": "skip",
         "line": {
          "color": "lightblue",
          "width": 1
         },
         "mode": "lines",
         "showlegend": false,
         "type": "scatter",
         "x": [
          44.89572726116334,
          44.952022298246995
         ],
         "y": [
          29.420214910527697,
          28.421800733545144
         ]
        },
        {
         "hoverinfo": "skip",
         "line": {
          "color": "lightblue",
          "width": 1
         },
         "mode": "lines",
         "showlegend": false,
         "type": "scatter",
         "x": [
          2.53154809332212,
          2.511585199659816
         ],
         "y": [
          6.11835512894112,
          5.720298110547062
         ]
        },
        {
         "hoverinfo": "skip",
         "line": {
          "color": "lightblue",
          "width": 1
         },
         "mode": "lines",
         "showlegend": false,
         "type": "scatter",
         "x": [
          45.16618605208742,
          44.307429035568575
         ],
         "y": [
          31.296684906265305,
          31.80906795299856
         ]
        },
        {
         "hoverinfo": "skip",
         "line": {
          "color": "lightblue",
          "width": 1
         },
         "mode": "lines",
         "showlegend": false,
         "type": "scatter",
         "x": [
          82.90472965493319,
          83.69980805688496
         ],
         "y": [
          17.79754909727117,
          18.40405576232097
         ]
        },
        {
         "hoverinfo": "skip",
         "line": {
          "color": "lightblue",
          "width": 1
         },
         "mode": "lines",
         "showlegend": false,
         "type": "scatter",
         "x": [
          71.59043510364386,
          71.52558866152069
         ],
         "y": [
          11.986708177780196,
          10.988812923285032
         ]
        },
        {
         "hoverinfo": "skip",
         "line": {
          "color": "lightblue",
          "width": 1
         },
         "mode": "lines",
         "showlegend": false,
         "type": "scatter",
         "x": [
          93.31577753085969,
          93.84613645386
         ],
         "y": [
          89.9138296526247,
          90.76160286097347
         ]
        },
        {
         "hoverinfo": "skip",
         "line": {
          "color": "lightblue",
          "width": 1
         },
         "mode": "lines",
         "showlegend": false,
         "type": "scatter",
         "x": [
          89.85595811863156,
          89.02584352024923
         ],
         "y": [
          84.81284183377618,
          85.37043465434736
         ]
        },
        {
         "hoverinfo": "skip",
         "line": {
          "color": "lightblue",
          "width": 1
         },
         "mode": "lines",
         "showlegend": false,
         "type": "scatter",
         "x": [
          40.08249419448412,
          40.48377691481541
         ],
         "y": [
          8.679129251988787,
          7.763175007299939
         ]
        },
        {
         "hoverinfo": "skip",
         "line": {
          "color": "lightblue",
          "width": 1
         },
         "mode": "lines",
         "showlegend": false,
         "type": "scatter",
         "x": [
          19.473150729465644,
          19.0973240175219
         ],
         "y": [
          7.156569962194347,
          6.229880001857259
         ]
        },
        {
         "hoverinfo": "skip",
         "line": {
          "color": "lightblue",
          "width": 1
         },
         "mode": "lines",
         "showlegend": false,
         "type": "scatter",
         "x": [
          14.901813191337318,
          15.140096626943844
         ],
         "y": [
          82.07659951181829,
          81.42421518928785
         ]
        },
        {
         "hoverinfo": "skip",
         "line": {
          "color": "lightblue",
          "width": 1
         },
         "mode": "lines",
         "showlegend": false,
         "type": "scatter",
         "x": [
          84.84597602890491,
          84.06800951071065
         ],
         "y": [
          78.94646828706806,
          79.57477402201617
         ]
        },
        {
         "hoverinfo": "skip",
         "line": {
          "color": "lightblue",
          "width": 1
         },
         "mode": "lines",
         "showlegend": false,
         "type": "scatter",
         "x": [
          78.86790278907918,
          78.90264630254403
         ],
         "y": [
          45.325097834074725,
          46.23637791773633
         ]
        },
        {
         "hoverinfo": "skip",
         "line": {
          "color": "lightblue",
          "width": 1
         },
         "mode": "lines",
         "showlegend": false,
         "type": "scatter",
         "x": [
          36.37319759857479,
          35.37402181961073
         ],
         "y": [
          68.85452489736109,
          68.89511754117216
         ]
        },
        {
         "hoverinfo": "skip",
         "line": {
          "color": "lightblue",
          "width": 1
         },
         "mode": "lines",
         "showlegend": false,
         "type": "scatter",
         "x": [
          89.02584352024923,
          88.17335680020472
         ],
         "y": [
          85.37043465434736,
          85.89318353492746
         ]
        },
        {
         "hoverinfo": "skip",
         "line": {
          "color": "lightblue",
          "width": 1
         },
         "mode": "lines",
         "showlegend": false,
         "type": "scatter",
         "x": [
          88.17335680020472,
          87.45924770539959
         ],
         "y": [
          85.89318353492746,
          86.59321796316411
         ]
        },
        {
         "hoverinfo": "skip",
         "line": {
          "color": "lightblue",
          "width": 1
         },
         "mode": "lines",
         "showlegend": false,
         "type": "scatter",
         "x": [
          91.38982210442566,
          91.30366172565448
         ],
         "y": [
          85.77873380229205,
          86.31057772933892
         ]
        },
        {
         "hoverinfo": "skip",
         "line": {
          "color": "lightblue",
          "width": 1
         },
         "mode": "lines",
         "showlegend": false,
         "type": "scatter",
         "x": [
          12.451893187150862,
          12.140888924136762
         ],
         "y": [
          42.941867866069806,
          41.99145934949019
         ]
        },
        {
         "hoverinfo": "skip",
         "line": {
          "color": "lightblue",
          "width": 1
         },
         "mode": "lines",
         "showlegend": false,
         "type": "scatter",
         "x": [
          89.86524156890798,
          90.0079363125472
         ],
         "y": [
          36.004354261382026,
          36.8136405897359
         ]
        },
        {
         "hoverinfo": "skip",
         "line": {
          "color": "lightblue",
          "width": 1
         },
         "mode": "lines",
         "showlegend": false,
         "type": "scatter",
         "x": [
          4.7081525133964,
          4.271607119680476
         ],
         "y": [
          45.009121085313346,
          45.90880331767398
         ]
        },
        {
         "hoverinfo": "skip",
         "line": {
          "color": "lightblue",
          "width": 1
         },
         "mode": "lines",
         "showlegend": false,
         "type": "scatter",
         "x": [
          51.456797409036575,
          50.82273957357833
         ],
         "y": [
          33.326372601867895,
          32.58405756073658
         ]
        },
        {
         "hoverinfo": "skip",
         "line": {
          "color": "lightblue",
          "width": 1
         },
         "mode": "lines",
         "showlegend": false,
         "type": "scatter",
         "x": [
          93.84613645386,
          93.85403244816948
         ],
         "y": [
          90.76160286097347,
          91.7615716871245
         ]
        },
        {
         "hoverinfo": "skip",
         "line": {
          "color": "lightblue",
          "width": 1
         },
         "mode": "lines",
         "showlegend": false,
         "type": "scatter",
         "x": [
          92.02170784216166,
          92.85371054331199
         ],
         "y": [
          85.00367224702961,
          84.44890066765792
         ]
        },
        {
         "hoverinfo": "skip",
         "line": {
          "color": "lightblue",
          "width": 1
         },
         "mode": "lines",
         "showlegend": false,
         "type": "scatter",
         "x": [
          72.45037665080238,
          71.81616045029661
         ],
         "y": [
          19.34188946072003,
          18.568733712493312
         ]
        },
        {
         "hoverinfo": "skip",
         "line": {
          "color": "lightblue",
          "width": 1
         },
         "mode": "lines",
         "showlegend": false,
         "type": "scatter",
         "x": [
          93.85403244816948,
          94.4334545830408
         ],
         "y": [
          91.7615716871245,
          92.57659928765172
         ]
        },
        {
         "hoverinfo": "skip",
         "line": {
          "color": "lightblue",
          "width": 1
         },
         "mode": "lines",
         "showlegend": false,
         "type": "scatter",
         "x": [
          46.03052157488954,
          46.22375746524221
         ],
         "y": [
          38.43657839580968,
          38.13162532590341
         ]
        },
        {
         "hoverinfo": "skip",
         "line": {
          "color": "lightblue",
          "width": 1
         },
         "mode": "lines",
         "showlegend": false,
         "type": "scatter",
         "x": [
          56.213323331071166,
          56.95402864666367
         ],
         "y": [
          91.00950301572115,
          91.681333080137
         ]
        },
        {
         "hoverinfo": "skip",
         "line": {
          "color": "lightblue",
          "width": 1
         },
         "mode": "lines",
         "showlegend": false,
         "type": "scatter",
         "x": [
          33.508819086832254,
          32.64175468652628
         ],
         "y": [
          28.06896669959717,
          27.57077062803292
         ]
        },
        {
         "hoverinfo": "skip",
         "line": {
          "color": "lightblue",
          "width": 1
         },
         "mode": "lines",
         "showlegend": false,
         "type": "scatter",
         "x": [
          58.79679729341933,
          59.35848172938755
         ],
         "y": [
          10.289485990728371,
          9.462134436435358
         ]
        },
        {
         "hoverinfo": "skip",
         "line": {
          "color": "lightblue",
          "width": 1
         },
         "mode": "lines",
         "showlegend": false,
         "type": "scatter",
         "x": [
          42.50655866976022,
          42.447644867106696
         ],
         "y": [
          47.82678262704195,
          48.12278319322818
         ]
        },
        {
         "hoverinfo": "skip",
         "line": {
          "color": "lightblue",
          "width": 1
         },
         "mode": "lines",
         "showlegend": false,
         "type": "scatter",
         "x": [
          75.22103918950255,
          75.46083046981462
         ],
         "y": [
          70.51453981079722,
          71.48536427581975
         ]
        },
        {
         "hoverinfo": "skip",
         "line": {
          "color": "lightblue",
          "width": 1
         },
         "mode": "lines",
         "showlegend": false,
         "type": "scatter",
         "x": [
          45.952173090588666,
          45.58871838183509
         ],
         "y": [
          33.08057604491609,
          34.01218791403588
         ]
        },
        {
         "hoverinfo": "skip",
         "line": {
          "color": "lightblue",
          "width": 1
         },
         "mode": "lines",
         "showlegend": false,
         "type": "scatter",
         "x": [
          88.9437271483554,
          87.95588942223083
         ],
         "y": [
          28.92764049046655,
          28.772152140919022
         ]
        },
        {
         "hoverinfo": "skip",
         "line": {
          "color": "lightblue",
          "width": 1
         },
         "mode": "lines",
         "showlegend": false,
         "type": "scatter",
         "x": [
          59.35848172938755,
          59.85453228000184
         ],
         "y": [
          9.462134436435358,
          8.593840792997115
         ]
        },
        {
         "hoverinfo": "skip",
         "line": {
          "color": "lightblue",
          "width": 1
         },
         "mode": "lines",
         "showlegend": false,
         "type": "scatter",
         "x": [
          25.424723129789335,
          24.564268625105033
         ],
         "y": [
          81.1481402444172,
          80.6386129680438
         ]
        },
        {
         "hoverinfo": "skip",
         "line": {
          "color": "lightblue",
          "width": 1
         },
         "mode": "lines",
         "showlegend": false,
         "type": "scatter",
         "x": [
          3.3668879975181545,
          4.01569051779992
         ],
         "y": [
          3.4358990040564237,
          3.4545228829611974
         ]
        },
        {
         "hoverinfo": "skip",
         "line": {
          "color": "lightblue",
          "width": 1
         },
         "mode": "lines",
         "showlegend": false,
         "type": "scatter",
         "x": [
          32.0158626523126,
          32.04301041908783
         ],
         "y": [
          90.22457148055354,
          91.2242029120117
         ]
        },
        {
         "hoverinfo": "skip",
         "line": {
          "color": "lightblue",
          "width": 1
         },
         "mode": "lines",
         "showlegend": false,
         "type": "scatter",
         "x": [
          52.50875999900468,
          53.22527042546546
         ],
         "y": [
          52.54145790794041,
          53.23903428997537
         ]
        },
        {
         "hoverinfo": "skip",
         "line": {
          "color": "lightblue",
          "width": 1
         },
         "mode": "lines",
         "showlegend": false,
         "type": "scatter",
         "x": [
          22.267807225093726,
          22.224739126895575
         ],
         "y": [
          15.756134389221517,
          16.755206528217293
         ]
        },
        {
         "hoverinfo": "skip",
         "line": {
          "color": "lightblue",
          "width": 1
         },
         "mode": "lines",
         "showlegend": false,
         "type": "scatter",
         "x": [
          18.164674649272254,
          18.162281002224734
         ],
         "y": [
          86.76500425358122,
          87.51885707777808
         ]
        },
        {
         "hoverinfo": "skip",
         "line": {
          "color": "lightblue",
          "width": 1
         },
         "mode": "lines",
         "showlegend": false,
         "type": "scatter",
         "x": [
          59.229604800157205,
          58.976122087133945
         ],
         "y": [
          13.250552226791891,
          13.749038154353121
         ]
        },
        {
         "hoverinfo": "skip",
         "line": {
          "color": "lightblue",
          "width": 1
         },
         "mode": "lines",
         "showlegend": false,
         "type": "scatter",
         "x": [
          19.0973240175219,
          19.993705247448542
         ],
         "y": [
          6.229880001857259,
          5.786596017671953
         ]
        },
        {
         "hoverinfo": "skip",
         "line": {
          "color": "lightblue",
          "width": 1
         },
         "mode": "lines",
         "showlegend": false,
         "type": "scatter",
         "x": [
          87.23615381832865,
          87.53507785747377
         ],
         "y": [
          10.051290958038692,
          11.005567866918483
         ]
        },
        {
         "hoverinfo": "skip",
         "line": {
          "color": "lightblue",
          "width": 1
         },
         "mode": "lines",
         "showlegend": false,
         "type": "scatter",
         "x": [
          92.85371054331199,
          93.27910330557785
         ],
         "y": [
          84.44890066765792,
          83.54389182913101
         ]
        },
        {
         "hoverinfo": "skip",
         "line": {
          "color": "lightblue",
          "width": 1
         },
         "mode": "lines",
         "showlegend": false,
         "type": "scatter",
         "x": [
          33.16280989317896,
          32.61087377493608
         ],
         "y": [
          7.702860315546709,
          6.868973919579618
         ]
        },
        {
         "hoverinfo": "skip",
         "line": {
          "color": "lightblue",
          "width": 1
         },
         "mode": "lines",
         "showlegend": false,
         "type": "scatter",
         "x": [
          3.3868786562059103,
          2.5813089082153504
         ],
         "y": [
          16.333290777870104,
          15.740789823337181
         ]
        },
        {
         "hoverinfo": "skip",
         "line": {
          "color": "lightblue",
          "width": 1
         },
         "mode": "lines",
         "showlegend": false,
         "type": "scatter",
         "x": [
          87.04597815430145,
          87.18323807359269
         ],
         "y": [
          77.07914243989914,
          77.07914043327946
         ]
        },
        {
         "hoverinfo": "skip",
         "line": {
          "color": "lightblue",
          "width": 1
         },
         "mode": "lines",
         "showlegend": false,
         "type": "scatter",
         "x": [
          39.306663921788264,
          39.738116954692316
         ],
         "y": [
          65.82548846954315,
          66.51642567387655
         ]
        },
        {
         "hoverinfo": "skip",
         "line": {
          "color": "lightblue",
          "width": 1
         },
         "mode": "lines",
         "showlegend": false,
         "type": "scatter",
         "x": [
          13.327389792400044,
          12.327502370637172
         ],
         "y": [
          75.08410661361087,
          75.09911140619174
         ]
        },
        {
         "hoverinfo": "skip",
         "line": {
          "color": "lightblue",
          "width": 1
         },
         "mode": "lines",
         "showlegend": false,
         "type": "scatter",
         "x": [
          53.061550546840245,
          53.064694353398025
         ],
         "y": [
          89.31624007900868,
          89.78817458049927
         ]
        },
        {
         "hoverinfo": "skip",
         "line": {
          "color": "lightblue",
          "width": 1
         },
         "mode": "lines",
         "showlegend": false,
         "type": "scatter",
         "x": [
          8.506838224806181,
          8.46892454611774
         ],
         "y": [
          51.8405360707111,
          51.82631507147517
         ]
        },
        {
         "hoverinfo": "skip",
         "line": {
          "color": "lightblue",
          "width": 1
         },
         "mode": "lines",
         "showlegend": false,
         "type": "scatter",
         "x": [
          56.95402864666367,
          57.95379346410536
         ],
         "y": [
          91.681333080137,
          91.70301970748643
         ]
        },
        {
         "hoverinfo": "skip",
         "line": {
          "color": "lightblue",
          "width": 1
         },
         "mode": "lines",
         "showlegend": false,
         "type": "scatter",
         "x": [
          10.359883057410912,
          10.257512061898868
         ],
         "y": [
          83.4223133287216,
          84.41705961762037
         ]
        },
        {
         "hoverinfo": "skip",
         "line": {
          "color": "lightblue",
          "width": 1
         },
         "mode": "lines",
         "showlegend": false,
         "type": "scatter",
         "x": [
          63.55954374436695,
          63.435207787554006
         ],
         "y": [
          32.795940805891355,
          32.52004620991501
         ]
        },
        {
         "hoverinfo": "skip",
         "line": {
          "color": "lightblue",
          "width": 1
         },
         "mode": "lines",
         "showlegend": false,
         "type": "scatter",
         "x": [
          31.767407011603925,
          32.7506913045178
         ],
         "y": [
          74.13942757074722,
          74.32150447567716
         ]
        },
        {
         "hoverinfo": "skip",
         "line": {
          "color": "lightblue",
          "width": 1
         },
         "mode": "lines",
         "showlegend": false,
         "type": "scatter",
         "x": [
          67.12861579693065,
          66.49218062701772
         ],
         "y": [
          17.49047467218153,
          16.71914447408353
         ]
        },
        {
         "hoverinfo": "skip",
         "line": {
          "color": "lightblue",
          "width": 1
         },
         "mode": "lines",
         "showlegend": false,
         "type": "scatter",
         "x": [
          12.840379211906466,
          12.089015801426106
         ],
         "y": [
          45.55895785568466,
          45.46110727870577
         ]
        },
        {
         "hoverinfo": "skip",
         "line": {
          "color": "lightblue",
          "width": 1
         },
         "mode": "lines",
         "showlegend": false,
         "type": "scatter",
         "x": [
          24.359974197977582,
          25.222471888914217
         ],
         "y": [
          11.769876153720768,
          11.26381515628175
         ]
        },
        {
         "hoverinfo": "skip",
         "line": {
          "color": "lightblue",
          "width": 1
         },
         "mode": "lines",
         "showlegend": false,
         "type": "scatter",
         "x": [
          89.94239463282985,
          90.439752289661
         ],
         "y": [
          50.161633254537165,
          49.294087658506946
         ]
        },
        {
         "hoverinfo": "skip",
         "line": {
          "color": "lightblue",
          "width": 1
         },
         "mode": "lines",
         "showlegend": false,
         "type": "scatter",
         "x": [
          25.222471888914217,
          25.830213900822706
         ],
         "y": [
          11.26381515628175,
          11.225871313458613
         ]
        },
        {
         "hoverinfo": "skip",
         "line": {
          "color": "lightblue",
          "width": 1
         },
         "mode": "lines",
         "showlegend": false,
         "type": "scatter",
         "x": [
          19.473150729465644,
          18.517710091962556
         ],
         "y": [
          7.156569962194347,
          7.451753275082618
         ]
        },
        {
         "hoverinfo": "skip",
         "line": {
          "color": "lightblue",
          "width": 1
         },
         "mode": "lines",
         "showlegend": false,
         "type": "scatter",
         "x": [
          94.4334545830408,
          94.90813056406398
         ],
         "y": [
          92.57659928765172,
          93.45675990540263
         ]
        },
        {
         "hoverinfo": "skip",
         "line": {
          "color": "lightblue",
          "width": 1
         },
         "mode": "lines",
         "showlegend": false,
         "type": "scatter",
         "x": [
          93.84613645386,
          94.84250087767256
         ],
         "y": [
          90.76160286097347,
          90.67640934619294
         ]
        },
        {
         "hoverinfo": "skip",
         "line": {
          "color": "lightblue",
          "width": 1
         },
         "mode": "lines",
         "showlegend": false,
         "type": "scatter",
         "x": [
          67.73416850776354,
          67.71128648462793
         ],
         "y": [
          19.15177433271558,
          19.025917637806124
         ]
        },
        {
         "hoverinfo": "skip",
         "line": {
          "color": "lightblue",
          "width": 1
         },
         "mode": "lines",
         "showlegend": false,
         "type": "scatter",
         "x": [
          87.53507785747377,
          88.3771012791021
         ],
         "y": [
          11.005567866918483,
          11.545008834429577
         ]
        },
        {
         "hoverinfo": "skip",
         "line": {
          "color": "lightblue",
          "width": 1
         },
         "mode": "lines",
         "showlegend": false,
         "type": "scatter",
         "x": [
          4.629601774564691,
          4.065607537881688
         ],
         "y": [
          14.779898618515602,
          13.954119894529354
         ]
        },
        {
         "hoverinfo": "skip",
         "line": {
          "color": "lightblue",
          "width": 1
         },
         "mode": "lines",
         "showlegend": false,
         "type": "scatter",
         "x": [
          82.52178468504437,
          81.76071187215395
         ],
         "y": [
          10.768548506414765,
          10.119882048611478
         ]
        },
        {
         "hoverinfo": "skip",
         "line": {
          "color": "lightblue",
          "width": 1
         },
         "mode": "lines",
         "showlegend": false,
         "type": "scatter",
         "x": [
          50.79727809226875,
          50.0317341648931
         ],
         "y": [
          66.16205858479383,
          65.51867495486665
         ]
        },
        {
         "hoverinfo": "skip",
         "line": {
          "color": "lightblue",
          "width": 1
         },
         "mode": "lines",
         "showlegend": false,
         "type": "scatter",
         "x": [
          4.271607119680476,
          5.268676395900654
         ],
         "y": [
          45.90880331767398,
          45.98530729415737
         ]
        },
        {
         "hoverinfo": "skip",
         "line": {
          "color": "lightblue",
          "width": 1
         },
         "mode": "lines",
         "showlegend": false,
         "type": "scatter",
         "x": [
          72.54147709560063,
          71.6070177205555
         ],
         "y": [
          40.388836602170564,
          40.03276683879507
         ]
        },
        {
         "hoverinfo": "skip",
         "line": {
          "color": "lightblue",
          "width": 1
         },
         "mode": "lines",
         "showlegend": false,
         "type": "scatter",
         "x": [
          93.31577753085969,
          93.93517176244748
         ],
         "y": [
          89.9138296526247,
          89.74401159502469
         ]
        },
        {
         "hoverinfo": "skip",
         "line": {
          "color": "lightblue",
          "width": 1
         },
         "mode": "lines",
         "showlegend": false,
         "type": "scatter",
         "x": [
          56.101655235322546,
          55.15855724519943
         ],
         "y": [
          52.44022112622231,
          52.24446498947361
         ]
        },
        {
         "hoverinfo": "skip",
         "line": {
          "color": "lightblue",
          "width": 1
         },
         "mode": "lines",
         "showlegend": false,
         "type": "scatter",
         "x": [
          16.202435033875453,
          16.057678254606284
         ],
         "y": [
          87.0496455214132,
          88.03911278962151
         ]
        },
        {
         "hoverinfo": "skip",
         "line": {
          "color": "lightblue",
          "width": 1
         },
         "mode": "lines",
         "showlegend": false,
         "type": "scatter",
         "x": [
          44.952022298246995,
          45.261421067547325
         ],
         "y": [
          28.421800733545144,
          27.470868348169905
         ]
        },
        {
         "hoverinfo": "skip",
         "line": {
          "color": "lightblue",
          "width": 1
         },
         "mode": "lines",
         "showlegend": false,
         "type": "scatter",
         "x": [
          13.3205048682119,
          13.916587537739556
         ],
         "y": [
          44.4942695265715,
          43.73604769965319
         ]
        },
        {
         "hoverinfo": "skip",
         "line": {
          "color": "lightblue",
          "width": 1
         },
         "mode": "lines",
         "showlegend": false,
         "type": "scatter",
         "x": [
          23.89255503394151,
          23.041914678722563
         ],
         "y": [
          60.41405206956077,
          59.88830404429297
         ]
        },
        {
         "hoverinfo": "skip",
         "line": {
          "color": "lightblue",
          "width": 1
         },
         "mode": "lines",
         "showlegend": false,
         "type": "scatter",
         "x": [
          41.73775570916848,
          42.574460675728176
         ],
         "y": [
          91.19554758769786,
          90.75392622190957
         ]
        },
        {
         "hoverinfo": "skip",
         "line": {
          "color": "lightblue",
          "width": 1
         },
         "mode": "lines",
         "showlegend": false,
         "type": "scatter",
         "x": [
          17.126728623500384,
          17.911373827006326
         ],
         "y": [
          45.595282684359816,
          45.67734820512661
         ]
        },
        {
         "hoverinfo": "skip",
         "line": {
          "color": "lightblue",
          "width": 1
         },
         "mode": "lines",
         "showlegend": false,
         "type": "scatter",
         "x": [
          83.92486206181677,
          84.08235192119363
         ],
         "y": [
          47.50514160629224,
          47.80089267504499
         ]
        },
        {
         "hoverinfo": "skip",
         "line": {
          "color": "lightblue",
          "width": 1
         },
         "mode": "lines",
         "showlegend": false,
         "type": "scatter",
         "x": [
          18.033893725140828,
          17.628795092793858
         ],
         "y": [
          25.7932515836964,
          26.707524572508063
         ]
        },
        {
         "hoverinfo": "skip",
         "line": {
          "color": "lightblue",
          "width": 1
         },
         "mode": "lines",
         "showlegend": false,
         "type": "scatter",
         "x": [
          60.26075050391753,
          60.763043139386966
         ],
         "y": [
          50.98250162428417,
          50.63445392760786
         ]
        },
        {
         "hoverinfo": "skip",
         "line": {
          "color": "lightblue",
          "width": 1
         },
         "mode": "lines",
         "showlegend": false,
         "type": "scatter",
         "x": [
          32.64175468652628,
          31.762650860625776
         ],
         "y": [
          27.57077062803292,
          27.094140306623245
         ]
        },
        {
         "hoverinfo": "skip",
         "line": {
          "color": "lightblue",
          "width": 1
         },
         "mode": "lines",
         "showlegend": false,
         "type": "scatter",
         "x": [
          61.18164266957341,
          62.135268457070495
         ],
         "y": [
          51.37231904210131,
          51.67331382182441
         ]
        },
        {
         "hoverinfo": "skip",
         "line": {
          "color": "lightblue",
          "width": 1
         },
         "mode": "lines",
         "showlegend": false,
         "type": "scatter",
         "x": [
          76.88217910842125,
          77.26610865680811
         ],
         "y": [
          68.55906731545298,
          68.85850793050534
         ]
        },
        {
         "hoverinfo": "skip",
         "line": {
          "color": "lightblue",
          "width": 1
         },
         "mode": "lines",
         "showlegend": false,
         "type": "scatter",
         "x": [
          90.0079363125472,
          89.42924578298918
         ],
         "y": [
          36.8136405897359,
          37.62918781154458
         ]
        },
        {
         "hoverinfo": "skip",
         "line": {
          "color": "lightblue",
          "width": 1
         },
         "mode": "lines",
         "showlegend": false,
         "type": "scatter",
         "x": [
          94.90813056406398,
          95.50202329057807
         ],
         "y": [
          93.45675990540263,
          94.26130414246711
         ]
        },
        {
         "hoverinfo": "skip",
         "line": {
          "color": "lightblue",
          "width": 1
         },
         "mode": "lines",
         "showlegend": false,
         "type": "scatter",
         "x": [
          10.696255127790327,
          9.748690181313142
         ],
         "y": [
          81.76567587926313,
          81.44611262698325
         ]
        },
        {
         "hoverinfo": "skip",
         "line": {
          "color": "lightblue",
          "width": 1
         },
         "mode": "lines",
         "showlegend": false,
         "type": "scatter",
         "x": [
          9.748690181313142,
          8.869096850298323
         ],
         "y": [
          81.44611262698325,
          80.97038626442358
         ]
        },
        {
         "hoverinfo": "skip",
         "line": {
          "color": "lightblue",
          "width": 1
         },
         "mode": "lines",
         "showlegend": false,
         "type": "scatter",
         "x": [
          45.261421067547325,
          45.657320524503056
         ],
         "y": [
          27.470868348169905,
          26.55257448453901
         ]
        },
        {
         "hoverinfo": "skip",
         "line": {
          "color": "lightblue",
          "width": 1
         },
         "mode": "lines",
         "showlegend": false,
         "type": "scatter",
         "x": [
          90.12179356079602,
          91.03127891631473
         ],
         "y": [
          71.79062463591288,
          72.20636059550384
         ]
        },
        {
         "hoverinfo": "skip",
         "line": {
          "color": "lightblue",
          "width": 1
         },
         "mode": "lines",
         "showlegend": false,
         "type": "scatter",
         "x": [
          91.61952975413838,
          92.38438270373409
         ],
         "y": [
          52.96865309793489,
          53.61285800748988
         ]
        },
        {
         "hoverinfo": "skip",
         "line": {
          "color": "lightblue",
          "width": 1
         },
         "mode": "lines",
         "showlegend": false,
         "type": "scatter",
         "x": [
          95.50202329057807,
          96.09591601709215
         ],
         "y": [
          94.26130414246711,
          95.06584837953159
         ]
        },
        {
         "hoverinfo": "skip",
         "line": {
          "color": "lightblue",
          "width": 1
         },
         "mode": "lines",
         "showlegend": false,
         "type": "scatter",
         "x": [
          96.09591601709215,
          96.68980874360624
         ],
         "y": [
          95.06584837953159,
          95.87039261659606
         ]
        },
        {
         "hoverinfo": "skip",
         "line": {
          "color": "lightblue",
          "width": 1
         },
         "mode": "lines",
         "showlegend": false,
         "type": "scatter",
         "x": [
          50.0317341648931,
          50.215570438141306
         ],
         "y": [
          65.51867495486665,
          64.53571807654583
         ]
        },
        {
         "hoverinfo": "skip",
         "line": {
          "color": "lightblue",
          "width": 1
         },
         "mode": "lines",
         "showlegend": false,
         "type": "scatter",
         "x": [
          75.46083046981462,
          76.1233169593074
         ],
         "y": [
          71.48536427581975,
          72.2344381381588
         ]
        },
        {
         "hoverinfo": "skip",
         "line": {
          "color": "lightblue",
          "width": 1
         },
         "mode": "lines",
         "showlegend": false,
         "type": "scatter",
         "x": [
          1.67578588346593,
          1.477630268490294
         ],
         "y": [
          6.458640132932548,
          7.438810705972581
         ]
        },
        {
         "hoverinfo": "skip",
         "line": {
          "color": "lightblue",
          "width": 1
         },
         "mode": "lines",
         "showlegend": false,
         "type": "scatter",
         "x": [
          53.47254779162479,
          53.687803620829975
         ],
         "y": [
          90.2278766649241,
          91.17753470805913
         ]
        },
        {
         "hoverinfo": "skip",
         "line": {
          "color": "lightblue",
          "width": 1
         },
         "mode": "lines",
         "showlegend": false,
         "type": "scatter",
         "x": [
          13.355731201320447,
          13.904891389101744
         ],
         "y": [
          25.592098691519855,
          26.427815801645053
         ]
        },
        {
         "hoverinfo": "skip",
         "line": {
          "color": "lightblue",
          "width": 1
         },
         "mode": "lines",
         "showlegend": false,
         "type": "scatter",
         "x": [
          9.016540743369593,
          9.108046437081198
         ],
         "y": [
          13.217134125060223,
          14.212938678182148
         ]
        },
        {
         "hoverinfo": "skip",
         "line": {
          "color": "lightblue",
          "width": 1
         },
         "mode": "lines",
         "showlegend": false,
         "type": "scatter",
         "x": [
          91.03127891631473,
          92.02548214952584
         ],
         "y": [
          72.20636059550384,
          72.09884347559924
         ]
        },
        {
         "hoverinfo": "skip",
         "line": {
          "color": "lightblue",
          "width": 1
         },
         "mode": "lines",
         "showlegend": false,
         "type": "scatter",
         "x": [
          32.04301041908783,
          31.88298842043306
         ],
         "y": [
          91.2242029120117,
          92.21131636037848
         ]
        },
        {
         "hoverinfo": "skip",
         "line": {
          "color": "lightblue",
          "width": 1
         },
         "mode": "lines",
         "showlegend": false,
         "type": "scatter",
         "x": [
          12.766038389945955,
          13.528354638203776
         ],
         "y": [
          12.176041384542858,
          11.664770960914383
         ]
        },
        {
         "hoverinfo": "skip",
         "line": {
          "color": "lightblue",
          "width": 1
         },
         "mode": "lines",
         "showlegend": false,
         "type": "scatter",
         "x": [
          32.423831568571664,
          31.426762645064535
         ],
         "y": [
          29.724509837412196,
          29.648001264191034
         ]
        },
        {
         "hoverinfo": "skip",
         "line": {
          "color": "lightblue",
          "width": 1
         },
         "mode": "lines",
         "showlegend": false,
         "type": "scatter",
         "x": [
          27.811712480376965,
          27.47337772103456
         ],
         "y": [
          59.80149209539807,
          58.86046627714401
         ]
        },
        {
         "hoverinfo": "skip",
         "line": {
          "color": "lightblue",
          "width": 1
         },
         "mode": "lines",
         "showlegend": false,
         "type": "scatter",
         "x": [
          88.9437271483554,
          89.7375718695784
         ],
         "y": [
          28.92764049046655,
          28.319519977256892
         ]
        },
        {
         "hoverinfo": "skip",
         "line": {
          "color": "lightblue",
          "width": 1
         },
         "mode": "lines",
         "showlegend": false,
         "type": "scatter",
         "x": [
          24.02359441957592,
          23.86720150156676
         ],
         "y": [
          10.011596823346634,
          10.027737467576891
         ]
        },
        {
         "hoverinfo": "skip",
         "line": {
          "color": "lightblue",
          "width": 1
         },
         "mode": "lines",
         "showlegend": false,
         "type": "scatter",
         "x": [
          13.49951315098106,
          13.457049049774527
         ],
         "y": [
          49.35883210546048,
          49.7070231329014
         ]
        },
        {
         "hoverinfo": "skip",
         "line": {
          "color": "lightblue",
          "width": 1
         },
         "mode": "lines",
         "showlegend": false,
         "type": "scatter",
         "x": [
          48.70084031540648,
          49.045021943506406
         ],
         "y": [
          39.737267718860544,
          40.67617080591399
         ]
        },
        {
         "hoverinfo": "skip",
         "line": {
          "color": "lightblue",
          "width": 1
         },
         "mode": "lines",
         "showlegend": false,
         "type": "scatter",
         "x": [
          55.546693629530544,
          55.525980229261414
         ],
         "y": [
          31.510128403713917,
          30.510342949204155
         ]
        },
        {
         "hoverinfo": "skip",
         "line": {
          "color": "lightblue",
          "width": 1
         },
         "mode": "lines",
         "showlegend": false,
         "type": "scatter",
         "x": [
          21.047395090828466,
          20.058230494308187
         ],
         "y": [
          66.42929976428407,
          66.28248899836115
         ]
        },
        {
         "hoverinfo": "skip",
         "line": {
          "color": "lightblue",
          "width": 1
         },
         "mode": "lines",
         "showlegend": false,
         "type": "scatter",
         "x": [
          34.24567136438871,
          34.793306710333226
         ],
         "y": [
          40.17054385433,
          39.33382674092056
         ]
        },
        {
         "hoverinfo": "skip",
         "line": {
          "color": "lightblue",
          "width": 1
         },
         "mode": "lines",
         "showlegend": false,
         "type": "scatter",
         "x": [
          51.23528315462832,
          51.44392680134812
         ],
         "y": [
          69.45914186826232,
          69.81280170170109
         ]
        },
        {
         "hoverinfo": "skip",
         "line": {
          "color": "lightblue",
          "width": 1
         },
         "mode": "lines",
         "showlegend": false,
         "type": "scatter",
         "x": [
          89.7375718695784,
          90.02538868633356
         ],
         "y": [
          28.319519977256892,
          27.361834496531134
         ]
        },
        {
         "hoverinfo": "skip",
         "line": {
          "color": "lightblue",
          "width": 1
         },
         "mode": "lines",
         "showlegend": false,
         "type": "scatter",
         "x": [
          29.61465010444689,
          29.764938268800986
         ],
         "y": [
          69.51747054509677,
          70.50611277950469
         ]
        },
        {
         "hoverinfo": "skip",
         "line": {
          "color": "lightblue",
          "width": 1
         },
         "mode": "lines",
         "showlegend": false,
         "type": "scatter",
         "x": [
          22.24809469751906,
          21.3802120334609
         ],
         "y": [
          64.84338584292628,
          64.34661659928562
         ]
        },
        {
         "hoverinfo": "skip",
         "line": {
          "color": "lightblue",
          "width": 1
         },
         "mode": "lines",
         "showlegend": false,
         "type": "scatter",
         "x": [
          29.447031554694586,
          29.728423172019134
         ],
         "y": [
          86.6791597209417,
          86.28823830314144
         ]
        },
        {
         "hoverinfo": "skip",
         "line": {
          "color": "lightblue",
          "width": 1
         },
         "mode": "lines",
         "showlegend": false,
         "type": "scatter",
         "x": [
          1.477630268490294,
          1.6791027777127483
         ],
         "y": [
          7.438810705972581,
          8.418304875443543
         ]
        },
        {
         "hoverinfo": "skip",
         "line": {
          "color": "lightblue",
          "width": 1
         },
         "mode": "lines",
         "showlegend": false,
         "type": "scatter",
         "x": [
          21.013679337230524,
          20.64779105335923
         ],
         "y": [
          89.53452674076162,
          89.5158072582847
         ]
        },
        {
         "hoverinfo": "skip",
         "line": {
          "color": "lightblue",
          "width": 1
         },
         "mode": "lines",
         "showlegend": false,
         "type": "scatter",
         "x": [
          92.85371054331199,
          93.78940091371906
         ],
         "y": [
          84.44890066765792,
          84.80172290438269
         ]
        },
        {
         "hoverinfo": "skip",
         "line": {
          "color": "lightblue",
          "width": 1
         },
         "mode": "lines",
         "showlegend": false,
         "type": "scatter",
         "x": [
          19.0973240175219,
          18.66059531033618
         ],
         "y": [
          6.229880001857259,
          6.083974900888789
         ]
        },
        {
         "hoverinfo": "skip",
         "line": {
          "color": "lightblue",
          "width": 1
         },
         "mode": "lines",
         "showlegend": false,
         "type": "scatter",
         "x": [
          75.46083046981462,
          74.48860174218218
         ],
         "y": [
          71.48536427581975,
          71.71939696833557
         ]
        },
        {
         "hoverinfo": "skip",
         "line": {
          "color": "lightblue",
          "width": 1
         },
         "mode": "lines",
         "showlegend": false,
         "type": "scatter",
         "x": [
          88.3771012791021,
          89.31997437601191
         ],
         "y": [
          11.545008834429577,
          11.211856732344504
         ]
        },
        {
         "hoverinfo": "skip",
         "line": {
          "color": "lightblue",
          "width": 1
         },
         "mode": "lines",
         "showlegend": false,
         "type": "scatter",
         "x": [
          23.86823374581199,
          22.979809981236432
         ],
         "y": [
          64.0055515274449,
          63.54652732924028
         ]
        },
        {
         "hoverinfo": "skip",
         "line": {
          "color": "lightblue",
          "width": 1
         },
         "mode": "lines",
         "showlegend": false,
         "type": "scatter",
         "x": [
          20.058230494308187,
          19.286767786805182
         ],
         "y": [
          66.28248899836115,
          65.64621445782684
         ]
        },
        {
         "hoverinfo": "skip",
         "line": {
          "color": "lightblue",
          "width": 1
         },
         "mode": "lines",
         "showlegend": false,
         "type": "scatter",
         "x": [
          96.68980874360624,
          97.28370147012032
         ],
         "y": [
          95.87039261659606,
          96.67493685366054
         ]
        },
        {
         "hoverinfo": "skip",
         "line": {
          "color": "lightblue",
          "width": 1
         },
         "mode": "lines",
         "showlegend": false,
         "type": "scatter",
         "x": [
          64.31140528469847,
          63.76350999592753
         ],
         "y": [
          31.373511681687535,
          30.53696475978619
         ]
        },
        {
         "hoverinfo": "skip",
         "line": {
          "color": "lightblue",
          "width": 1
         },
         "mode": "lines",
         "showlegend": false,
         "type": "scatter",
         "x": [
          10.696255127790327,
          11.294245909386927
         ],
         "y": [
          81.76567587926313,
          80.96417290040061
         ]
        },
        {
         "hoverinfo": "skip",
         "line": {
          "color": "lightblue",
          "width": 1
         },
         "mode": "lines",
         "showlegend": false,
         "type": "scatter",
         "x": [
          97.28370147012032,
          97.8775941966344
         ],
         "y": [
          96.67493685366054,
          97.47948109072503
         ]
        },
        {
         "hoverinfo": "skip",
         "line": {
          "color": "lightblue",
          "width": 1
         },
         "mode": "lines",
         "showlegend": false,
         "type": "scatter",
         "x": [
          31.762650860625776,
          30.777899205527117
         ],
         "y": [
          27.094140306623245,
          26.92017428183549
         ]
        },
        {
         "hoverinfo": "skip",
         "line": {
          "color": "lightblue",
          "width": 1
         },
         "mode": "lines",
         "showlegend": false,
         "type": "scatter",
         "x": [
          26.81722282814017,
          27.040750512687858
         ],
         "y": [
          44.15682967563092,
          45.1315272565455
         ]
        },
        {
         "hoverinfo": "skip",
         "line": {
          "color": "lightblue",
          "width": 1
         },
         "mode": "lines",
         "showlegend": false,
         "type": "scatter",
         "x": [
          81.76071187215395,
          81.32456386375137
         ],
         "y": [
          10.119882048611478,
          9.220007104651785
         ]
        },
        {
         "hoverinfo": "skip",
         "line": {
          "color": "lightblue",
          "width": 1
         },
         "mode": "lines",
         "showlegend": false,
         "type": "scatter",
         "x": [
          7.5141242019485395,
          7.679069545607686
         ],
         "y": [
          5.4641376758369224,
          5.662281514189493
         ]
        },
        {
         "hoverinfo": "skip",
         "line": {
          "color": "lightblue",
          "width": 1
         },
         "mode": "lines",
         "showlegend": false,
         "type": "scatter",
         "x": [
          42.3082125232811,
          42.395171040851
         ],
         "y": [
          92.01687518569544,
          92.87030267955862
         ]
        },
        {
         "hoverinfo": "skip",
         "line": {
          "color": "lightblue",
          "width": 1
         },
         "mode": "lines",
         "showlegend": false,
         "type": "scatter",
         "x": [
          8.869096850298323,
          8.092816289693541
         ],
         "y": [
          80.97038626442358,
          80.33999869218954
         ]
        },
        {
         "hoverinfo": "skip",
         "line": {
          "color": "lightblue",
          "width": 1
         },
         "mode": "lines",
         "showlegend": false,
         "type": "scatter",
         "x": [
          79.5596242087947,
          79.89058029584828
         ],
         "y": [
          44.602933394693544,
          44.118460367857935
         ]
        },
        {
         "hoverinfo": "skip",
         "line": {
          "color": "lightblue",
          "width": 1
         },
         "mode": "lines",
         "showlegend": false,
         "type": "scatter",
         "x": [
          58.976122087133945,
          57.98455922533357
         ],
         "y": [
          13.749038154353121,
          13.619411416763038
         ]
        },
        {
         "hoverinfo": "skip",
         "line": {
          "color": "lightblue",
          "width": 1
         },
         "mode": "lines",
         "showlegend": false,
         "type": "scatter",
         "x": [
          30.79525509965325,
          31.061592691222728
         ],
         "y": [
          16.462574870659402,
          16.310030809836164
         ]
        },
        {
         "hoverinfo": "skip",
         "line": {
          "color": "lightblue",
          "width": 1
         },
         "mode": "lines",
         "showlegend": false,
         "type": "scatter",
         "x": [
          73.38841598438897,
          74.30931852413924
         ],
         "y": [
          14.265281201455485,
          14.655074110936269
         ]
        },
        {
         "hoverinfo": "skip",
         "line": {
          "color": "lightblue",
          "width": 1
         },
         "mode": "lines",
         "showlegend": false,
         "type": "scatter",
         "x": [
          81.32456386375137,
          81.16310148060936
         ],
         "y": [
          9.220007104651785,
          8.233128237297688
         ]
        },
        {
         "hoverinfo": "skip",
         "line": {
          "color": "lightblue",
          "width": 1
         },
         "mode": "lines",
         "showlegend": false,
         "type": "scatter",
         "x": [
          15.173842227622382,
          15.84280617386434
         ],
         "y": [
          75.82153631658817,
          75.07824146349931
         ]
        },
        {
         "hoverinfo": "skip",
         "line": {
          "color": "lightblue",
          "width": 1
         },
         "mode": "lines",
         "showlegend": false,
         "type": "scatter",
         "x": [
          18.66059531033618,
          18.02624973236843
         ],
         "y": [
          6.083974900888789,
          5.310925298526326
         ]
        },
        {
         "hoverinfo": "skip",
         "line": {
          "color": "lightblue",
          "width": 1
         },
         "mode": "lines",
         "showlegend": false,
         "type": "scatter",
         "x": [
          61.81561102325185,
          61.80594078919612
         ],
         "y": [
          49.47727063760985,
          48.647233381321584
         ]
        },
        {
         "hoverinfo": "skip",
         "line": {
          "color": "lightblue",
          "width": 1
         },
         "mode": "lines",
         "showlegend": false,
         "type": "scatter",
         "x": [
          89.42924578298918,
          89.77115601400361
         ],
         "y": [
          37.62918781154458,
          38.56892042986091
         ]
        },
        {
         "hoverinfo": "skip",
         "line": {
          "color": "lightblue",
          "width": 1
         },
         "mode": "lines",
         "showlegend": false,
         "type": "scatter",
         "x": [
          83.58658610093083,
          83.03578798255091
         ],
         "y": [
          52.165083710131704,
          51.86063683462808
         ]
        },
        {
         "hoverinfo": "skip",
         "line": {
          "color": "lightblue",
          "width": 1
         },
         "mode": "lines",
         "showlegend": false,
         "type": "scatter",
         "x": [
          43.13343070375118,
          43.753522935023796
         ],
         "y": [
          60.39072471184952,
          59.74123232926052
         ]
        },
        {
         "hoverinfo": "skip",
         "line": {
          "color": "lightblue",
          "width": 1
         },
         "mode": "lines",
         "showlegend": false,
         "type": "scatter",
         "x": [
          75.13448270346308,
          74.28069238638687
         ],
         "y": [
          69.51829286614719,
          69.54486762392253
         ]
        },
        {
         "hoverinfo": "skip",
         "line": {
          "color": "lightblue",
          "width": 1
         },
         "mode": "lines",
         "showlegend": false,
         "type": "scatter",
         "x": [
          47.626904017076136,
          47.79363878587466
         ],
         "y": [
          76.12186846283085,
          77.10787024623374
         ]
        },
        {
         "hoverinfo": "skip",
         "line": {
          "color": "lightblue",
          "width": 1
         },
         "mode": "lines",
         "showlegend": false,
         "type": "scatter",
         "x": [
          93.27910330557785,
          94.17721821756983
         ],
         "y": [
          83.54389182913101,
          83.104130979512
         ]
        },
        {
         "hoverinfo": "skip",
         "line": {
          "color": "lightblue",
          "width": 1
         },
         "mode": "lines",
         "showlegend": false,
         "type": "scatter",
         "x": [
          61.80594078919612,
          61.952004880033726
         ],
         "y": [
          48.647233381321584,
          47.95025608328331
         ]
        },
        {
         "hoverinfo": "skip",
         "line": {
          "color": "lightblue",
          "width": 1
         },
         "mode": "lines",
         "showlegend": false,
         "type": "scatter",
         "x": [
          31.767407011603925,
          32.22661071726116
         ],
         "y": [
          74.13942757074722,
          73.9067638492441
         ]
        },
        {
         "hoverinfo": "skip",
         "line": {
          "color": "lightblue",
          "width": 1
         },
         "mode": "lines",
         "showlegend": false,
         "type": "scatter",
         "x": [
          17.911373827006326,
          17.95669653884523
         ],
         "y": [
          45.67734820512661,
          45.266189913325604
         ]
        },
        {
         "hoverinfo": "skip",
         "line": {
          "color": "lightblue",
          "width": 1
         },
         "mode": "lines",
         "showlegend": false,
         "type": "scatter",
         "x": [
          47.956116079392125,
          48.14923221547849
         ],
         "y": [
          90.11596029149275,
          89.13478438576378
         ]
        },
        {
         "hoverinfo": "skip",
         "line": {
          "color": "lightblue",
          "width": 1
         },
         "mode": "lines",
         "showlegend": false,
         "type": "scatter",
         "x": [
          57.95379346410536,
          58.85491161808686
         ],
         "y": [
          91.70301970748643,
          91.26944610062715
         ]
        },
        {
         "hoverinfo": "skip",
         "line": {
          "color": "lightblue",
          "width": 1
         },
         "mode": "lines",
         "showlegend": false,
         "type": "scatter",
         "x": [
          87.45924770539959,
          86.53135126424088
         ],
         "y": [
          86.59321796316411,
          86.96605599030859
         ]
        },
        {
         "hoverinfo": "skip",
         "line": {
          "color": "lightblue",
          "width": 1
         },
         "mode": "lines",
         "showlegend": false,
         "type": "scatter",
         "x": [
          43.62431689291035,
          43.0127101521468
         ],
         "y": [
          72.9944967947486,
          73.78565872169693
         ]
        },
        {
         "hoverinfo": "skip",
         "line": {
          "color": "lightblue",
          "width": 1
         },
         "mode": "lines",
         "showlegend": false,
         "type": "scatter",
         "x": [
          87.48425950321598,
          87.23914026705
         ],
         "y": [
          79.61115938341175,
          79.9388595420575
         ]
        },
        {
         "hoverinfo": "skip",
         "line": {
          "color": "lightblue",
          "width": 1
         },
         "mode": "lines",
         "showlegend": false,
         "type": "scatter",
         "x": [
          15.616110238086486,
          16.608567765000792
         ],
         "y": [
          17.219237586780523,
          17.341826563736593
         ]
        },
        {
         "hoverinfo": "skip",
         "line": {
          "color": "lightblue",
          "width": 1
         },
         "mode": "lines",
         "showlegend": false,
         "type": "scatter",
         "x": [
          37.32997963799957,
          37.89917386906425
         ],
         "y": [
          90.78448310407668,
          91.60668619779665
         ]
        },
        {
         "hoverinfo": "skip",
         "line": {
          "color": "lightblue",
          "width": 1
         },
         "mode": "lines",
         "showlegend": false,
         "type": "scatter",
         "x": [
          72.54147709560063,
          72.18227363833086
         ],
         "y": [
          40.388836602170564,
          41.32209587819489
         ]
        },
        {
         "hoverinfo": "skip",
         "line": {
          "color": "lightblue",
          "width": 1
         },
         "mode": "lines",
         "showlegend": false,
         "type": "scatter",
         "x": [
          82.90472965493319,
          82.94056944716753
         ],
         "y": [
          17.79754909727117,
          17.375226342574944
         ]
        },
        {
         "hoverinfo": "skip",
         "line": {
          "color": "lightblue",
          "width": 1
         },
         "mode": "lines",
         "showlegend": false,
         "type": "scatter",
         "x": [
          74.28069238638687,
          73.6758523144213
         ],
         "y": [
          69.54486762392253,
          68.74852065975132
         ]
        },
        {
         "hoverinfo": "skip",
         "line": {
          "color": "lightblue",
          "width": 1
         },
         "mode": "lines",
         "showlegend": false,
         "type": "scatter",
         "x": [
          90.439752289661,
          91.27483533723958
         ],
         "y": [
          49.294087658506946,
          49.4419378120188
         ]
        },
        {
         "hoverinfo": "skip",
         "line": {
          "color": "lightblue",
          "width": 1
         },
         "mode": "lines",
         "showlegend": false,
         "type": "scatter",
         "x": [
          79.56591387251758,
          79.26707535688956
         ],
         "y": [
          53.55722256965918,
          52.60291887503297
         ]
        },
        {
         "hoverinfo": "skip",
         "line": {
          "color": "lightblue",
          "width": 1
         },
         "mode": "lines",
         "showlegend": false,
         "type": "scatter",
         "x": [
          59.85453228000184,
          59.284932312489595
         ],
         "y": [
          8.593840792997115,
          7.771918730384092
         ]
        },
        {
         "hoverinfo": "skip",
         "line": {
          "color": "lightblue",
          "width": 1
         },
         "mode": "lines",
         "showlegend": false,
         "type": "scatter",
         "x": [
          89.31997437601191,
          90.27107166165766
         ],
         "y": [
          11.211856732344504,
          10.902965241303901
         ]
        },
        {
         "hoverinfo": "skip",
         "line": {
          "color": "lightblue",
          "width": 1
         },
         "mode": "lines",
         "showlegend": false,
         "type": "scatter",
         "x": [
          12.1870282890999,
          11.797870308249758
         ],
         "y": [
          14.80233809854835,
          15.35441241237886
         ]
        },
        {
         "hoverinfo": "skip",
         "line": {
          "color": "lightblue",
          "width": 1
         },
         "mode": "lines",
         "showlegend": false,
         "type": "scatter",
         "x": [
          51.89147920999506,
          51.01944565049769
         ],
         "y": [
          47.932830761353486,
          47.44338467534366
         ]
        },
        {
         "hoverinfo": "skip",
         "line": {
          "color": "lightblue",
          "width": 1
         },
         "mode": "lines",
         "showlegend": false,
         "type": "scatter",
         "x": [
          42.395171040851,
          42.86475663488907
         ],
         "y": [
          92.87030267955862,
          93.75318963147937
         ]
        },
        {
         "hoverinfo": "skip",
         "line": {
          "color": "lightblue",
          "width": 1
         },
         "mode": "lines",
         "showlegend": false,
         "type": "scatter",
         "x": [
          34.50260054624614,
          35.21000142062167
         ],
         "y": [
          27.95761854772563,
          27.25080598209544
         ]
        },
        {
         "hoverinfo": "skip",
         "line": {
          "color": "lightblue",
          "width": 1
         },
         "mode": "lines",
         "showlegend": false,
         "type": "scatter",
         "x": [
          90.27107166165766,
          91.18547520958737
         ],
         "y": [
          10.902965241303901,
          11.307769084583029
         ]
        },
        {
         "hoverinfo": "skip",
         "line": {
          "color": "lightblue",
          "width": 1
         },
         "mode": "lines",
         "showlegend": false,
         "type": "scatter",
         "x": [
          59.284932312489595,
          58.61065265115003
         ],
         "y": [
          7.771918730384092,
          7.033442638486863
         ]
        },
        {
         "hoverinfo": "skip",
         "line": {
          "color": "lightblue",
          "width": 1
         },
         "mode": "lines",
         "showlegend": false,
         "type": "scatter",
         "x": [
          78.90264630254403,
          79.6911263766038
         ],
         "y": [
          46.23637791773633,
          46.53437233254556
         ]
        },
        {
         "hoverinfo": "skip",
         "line": {
          "color": "lightblue",
          "width": 1
         },
         "mode": "lines",
         "showlegend": false,
         "type": "scatter",
         "x": [
          32.7506913045178,
          33.73337182638109
         ],
         "y": [
          74.32150447567716,
          74.5068123059232
         ]
        },
        {
         "hoverinfo": "skip",
         "line": {
          "color": "lightblue",
          "width": 1
         },
         "mode": "lines",
         "showlegend": false,
         "type": "scatter",
         "x": [
          39.028654313686125,
          38.489909531705734
         ],
         "y": [
          88.3000476145088,
          88.96541301693111
         ]
        },
        {
         "hoverinfo": "skip",
         "line": {
          "color": "lightblue",
          "width": 1
         },
         "mode": "lines",
         "showlegend": false,
         "type": "scatter",
         "x": [
          19.993705247448542,
          20.26734184305009
         ],
         "y": [
          5.786596017671953,
          4.8247628650162575
         ]
        },
        {
         "hoverinfo": "skip",
         "line": {
          "color": "lightblue",
          "width": 1
         },
         "mode": "lines",
         "showlegend": false,
         "type": "scatter",
         "x": [
          9.47993608219337,
          9.465040563164436
         ],
         "y": [
          7.6641151053170775,
          6.664226049714978
         ]
        },
        {
         "hoverinfo": "skip",
         "line": {
          "color": "lightblue",
          "width": 1
         },
         "mode": "lines",
         "showlegend": false,
         "type": "scatter",
         "x": [
          92.38438270373409,
          93.1833551191336
         ],
         "y": [
          53.61285800748988,
          54.21422568157179
         ]
        },
        {
         "hoverinfo": "skip",
         "line": {
          "color": "lightblue",
          "width": 1
         },
         "mode": "lines",
         "showlegend": false,
         "type": "scatter",
         "x": [
          56.213323331071166,
          56.57182779783704
         ],
         "y": [
          91.00950301572115,
          90.07597500472795
         ]
        },
        {
         "hoverinfo": "skip",
         "line": {
          "color": "lightblue",
          "width": 1
         },
         "mode": "lines",
         "showlegend": false,
         "type": "scatter",
         "x": [
          51.01944565049769,
          50.15062334476638
         ],
         "y": [
          47.44338467534366,
          46.948260649402954
         ]
        },
        {
         "hoverinfo": "skip",
         "line": {
          "color": "lightblue",
          "width": 1
         },
         "mode": "lines",
         "showlegend": false,
         "type": "scatter",
         "x": [
          76.1233169593074,
          75.4839911795772
         ],
         "y": [
          72.2344381381588,
          73.00337412208226
         ]
        },
        {
         "hoverinfo": "skip",
         "line": {
          "color": "lightblue",
          "width": 1
         },
         "mode": "lines",
         "showlegend": false,
         "type": "scatter",
         "x": [
          44.123779586315976,
          45.12321993626511
         ],
         "y": [
          65.2960479774443,
          65.26259671598007
         ]
        },
        {
         "hoverinfo": "skip",
         "line": {
          "color": "lightblue",
          "width": 1
         },
         "mode": "lines",
         "showlegend": false,
         "type": "scatter",
         "x": [
          85.8050414634804,
          86.28651446398915
         ],
         "y": [
          49.729722555991515,
          48.8532616328574
         ]
        },
        {
         "hoverinfo": "skip",
         "line": {
          "color": "lightblue",
          "width": 1
         },
         "mode": "lines",
         "showlegend": false,
         "type": "scatter",
         "x": [
          71.68800995800062,
          71.43666687945938
         ],
         "y": [
          23.016741819860464,
          23.98463988105772
         ]
        },
        {
         "hoverinfo": "skip",
         "line": {
          "color": "lightblue",
          "width": 1
         },
         "mode": "lines",
         "showlegend": false,
         "type": "scatter",
         "x": [
          56.95402864666367,
          57.09242698845023
         ],
         "y": [
          91.681333080137,
          92.67170972515177
         ]
        },
        {
         "hoverinfo": "skip",
         "line": {
          "color": "lightblue",
          "width": 1
         },
         "mode": "lines",
         "showlegend": false,
         "type": "scatter",
         "x": [
          75.4839911795772,
          74.67445531043944
         ],
         "y": [
          73.00337412208226,
          73.59044454083914
         ]
        },
        {
         "hoverinfo": "skip",
         "line": {
          "color": "lightblue",
          "width": 1
         },
         "mode": "lines",
         "showlegend": false,
         "type": "scatter",
         "x": [
          10.257512061898868,
          9.822277752051823
         ],
         "y": [
          84.41705961762037,
          85.31737683701138
         ]
        },
        {
         "hoverinfo": "skip",
         "line": {
          "color": "lightblue",
          "width": 1
         },
         "mode": "lines",
         "showlegend": false,
         "type": "scatter",
         "x": [
          97.8775941966344,
          98.47148692314849
         ],
         "y": [
          97.47948109072503,
          98.28402532778952
         ]
        },
        {
         "hoverinfo": "skip",
         "line": {
          "color": "lightblue",
          "width": 1
         },
         "mode": "lines",
         "showlegend": false,
         "type": "scatter",
         "x": [
          98.47148692314849,
          99
         ],
         "y": [
          98.28402532778952,
          99
         ]
        },
        {
         "marker": {
          "color": "red",
          "size": 10
         },
         "mode": "markers",
         "name": "Start",
         "type": "scatter",
         "x": [
          1
         ],
         "y": [
          1
         ]
        },
        {
         "marker": {
          "color": "orange",
          "size": 10
         },
         "mode": "markers",
         "name": "Goal",
         "type": "scatter",
         "x": [
          99
         ],
         "y": [
          99
         ]
        }
       ],
       "layout": {
        "height": 600,
        "shapes": [
         {
          "fillcolor": "purple",
          "line": {
           "width": 0
          },
          "opacity": 0.5,
          "type": "rect",
          "x0": 48,
          "x1": 57,
          "y0": 70,
          "y1": 79
         },
         {
          "fillcolor": "purple",
          "line": {
           "width": 0
          },
          "opacity": 0.5,
          "type": "rect",
          "x0": 47,
          "x1": 52,
          "y0": 50,
          "y1": 64
         },
         {
          "fillcolor": "purple",
          "line": {
           "width": 0
          },
          "opacity": 0.5,
          "type": "rect",
          "x0": 79,
          "x1": 84,
          "y0": 71,
          "y1": 82
         },
         {
          "fillcolor": "purple",
          "line": {
           "width": 0
          },
          "opacity": 0.5,
          "type": "rect",
          "x0": 35,
          "x1": 42,
          "y0": 29,
          "y1": 41
         },
         {
          "fillcolor": "purple",
          "line": {
           "width": 0
          },
          "opacity": 0.5,
          "type": "rect",
          "x0": 18,
          "x1": 28,
          "y0": 67,
          "y1": 80
         },
         {
          "fillcolor": "purple",
          "line": {
           "width": 0
          },
          "opacity": 0.5,
          "type": "rect",
          "x0": 66,
          "x1": 75,
          "y0": 75,
          "y1": 82
         },
         {
          "fillcolor": "purple",
          "line": {
           "width": 0
          },
          "opacity": 0.5,
          "type": "rect",
          "x0": 68,
          "x1": 81,
          "y0": 83,
          "y1": 89
         },
         {
          "fillcolor": "purple",
          "line": {
           "width": 0
          },
          "opacity": 0.5,
          "type": "rect",
          "x0": 55,
          "x1": 67,
          "y0": 54,
          "y1": 60
         },
         {
          "fillcolor": "purple",
          "line": {
           "width": 0
          },
          "opacity": 0.5,
          "type": "rect",
          "x0": 49,
          "x1": 64,
          "y0": 22,
          "y1": 30
         },
         {
          "fillcolor": "purple",
          "line": {
           "width": 0
          },
          "opacity": 0.5,
          "type": "rect",
          "x0": 32,
          "x1": 47,
          "y0": 76,
          "y1": 86
         },
         {
          "fillcolor": "purple",
          "line": {
           "width": 0
          },
          "opacity": 0.5,
          "type": "rect",
          "x0": 41,
          "x1": 56,
          "y0": 0,
          "y1": 11
         },
         {
          "fillcolor": "purple",
          "line": {
           "width": 0
          },
          "opacity": 0.5,
          "type": "rect",
          "x0": 51,
          "x1": 63,
          "y0": 42,
          "y1": 47
         },
         {
          "fillcolor": "purple",
          "line": {
           "width": 0
          },
          "opacity": 0.5,
          "type": "rect",
          "x0": 14,
          "x1": 23,
          "y0": 46,
          "y1": 60
         },
         {
          "fillcolor": "purple",
          "line": {
           "width": 0
          },
          "opacity": 0.5,
          "type": "rect",
          "x0": 84,
          "x1": 91,
          "y0": 12,
          "y1": 24
         },
         {
          "fillcolor": "purple",
          "line": {
           "width": 0
          },
          "opacity": 0.5,
          "type": "rect",
          "x0": 20,
          "x1": 29,
          "y0": 17,
          "y1": 31
         },
         {
          "fillcolor": "purple",
          "line": {
           "width": 0
          },
          "opacity": 0.5,
          "type": "rect",
          "x0": 3,
          "x1": 12,
          "y0": 18,
          "y1": 32
         },
         {
          "fillcolor": "purple",
          "line": {
           "width": 0
          },
          "opacity": 0.5,
          "type": "rect",
          "x0": 9,
          "x1": 18,
          "y0": 66,
          "y1": 75
         },
         {
          "fillcolor": "purple",
          "line": {
           "width": 0
          },
          "opacity": 0.5,
          "type": "rect",
          "x0": 73,
          "x1": 80,
          "y0": 7,
          "y1": 14
         },
         {
          "fillcolor": "purple",
          "line": {
           "width": 0
          },
          "opacity": 0.5,
          "type": "rect",
          "x0": 32,
          "x1": 47,
          "y0": 11,
          "y1": 25
         },
         {
          "fillcolor": "purple",
          "line": {
           "width": 0
          },
          "opacity": 0.5,
          "type": "rect",
          "x0": 83,
          "x1": 94,
          "y0": 55,
          "y1": 68
         },
         {
          "fillcolor": "purple",
          "line": {
           "width": 0
          },
          "opacity": 0.5,
          "type": "rect",
          "x0": 30,
          "x1": 42,
          "y0": 51,
          "y1": 64
         },
         {
          "fillcolor": "purple",
          "line": {
           "width": 0
          },
          "opacity": 0.5,
          "type": "rect",
          "x0": 50,
          "x1": 62,
          "y0": 34,
          "y1": 42
         },
         {
          "fillcolor": "purple",
          "line": {
           "width": 0
          },
          "opacity": 0.5,
          "type": "rect",
          "x0": 34,
          "x1": 41,
          "y0": 69,
          "y1": 76
         },
         {
          "fillcolor": "purple",
          "line": {
           "width": 0
          },
          "opacity": 0.5,
          "type": "rect",
          "x0": 4,
          "x1": 16,
          "y0": 87,
          "y1": 96
         },
         {
          "fillcolor": "purple",
          "line": {
           "width": 0
          },
          "opacity": 0.5,
          "type": "rect",
          "x0": 78,
          "x1": 83,
          "y0": 23,
          "y1": 30
         },
         {
          "fillcolor": "purple",
          "line": {
           "width": 0
          },
          "opacity": 0.5,
          "type": "rect",
          "x0": 72,
          "x1": 79,
          "y0": 51,
          "y1": 60
         },
         {
          "fillcolor": "purple",
          "line": {
           "width": 0
          },
          "opacity": 0.5,
          "type": "rect",
          "x0": 48,
          "x1": 58,
          "y0": 16,
          "y1": 22
         },
         {
          "fillcolor": "purple",
          "line": {
           "width": 0
          },
          "opacity": 0.5,
          "type": "rect",
          "x0": 75,
          "x1": 88,
          "y0": 94,
          "y1": 99
         },
         {
          "fillcolor": "purple",
          "line": {
           "width": 0
          },
          "opacity": 0.5,
          "type": "rect",
          "x0": 62,
          "x1": 68,
          "y0": 82,
          "y1": 96
         },
         {
          "fillcolor": "purple",
          "line": {
           "width": 0
          },
          "opacity": 0.5,
          "type": "rect",
          "x0": 57,
          "x1": 62,
          "y0": 67,
          "y1": 78
         },
         {
          "fillcolor": "purple",
          "line": {
           "width": 0
          },
          "opacity": 0.5,
          "type": "rect",
          "x0": 2,
          "x1": 11,
          "y0": 33,
          "y1": 43
         },
         {
          "fillcolor": "purple",
          "line": {
           "width": 0
          },
          "opacity": 0.5,
          "type": "rect",
          "x0": 67,
          "x1": 76,
          "y0": 0,
          "y1": 7
         },
         {
          "fillcolor": "purple",
          "line": {
           "width": 0
          },
          "opacity": 0.5,
          "type": "rect",
          "x0": 28,
          "x1": 39,
          "y0": 42,
          "y1": 50
         },
         {
          "fillcolor": "purple",
          "line": {
           "width": 0
          },
          "opacity": 0.5,
          "type": "rect",
          "x0": 66,
          "x1": 71,
          "y0": 60,
          "y1": 72
         },
         {
          "fillcolor": "purple",
          "line": {
           "width": 0
          },
          "opacity": 0.5,
          "type": "rect",
          "x0": 7,
          "x1": 13,
          "y0": 52,
          "y1": 66
         },
         {
          "fillcolor": "rgba(0,0,0,0)",
          "layer": "above",
          "line": {
           "color": "white",
           "width": 3
          },
          "type": "rect",
          "x0": 0,
          "x1": 100,
          "y0": 0,
          "y1": 100
         }
        ],
        "template": {
         "data": {
          "bar": [
           {
            "error_x": {
             "color": "#2a3f5f"
            },
            "error_y": {
             "color": "#2a3f5f"
            },
            "marker": {
             "line": {
              "color": "#E5ECF6",
              "width": 0.5
             },
             "pattern": {
              "fillmode": "overlay",
              "size": 10,
              "solidity": 0.2
             }
            },
            "type": "bar"
           }
          ],
          "barpolar": [
           {
            "marker": {
             "line": {
              "color": "#E5ECF6",
              "width": 0.5
             },
             "pattern": {
              "fillmode": "overlay",
              "size": 10,
              "solidity": 0.2
             }
            },
            "type": "barpolar"
           }
          ],
          "carpet": [
           {
            "aaxis": {
             "endlinecolor": "#2a3f5f",
             "gridcolor": "white",
             "linecolor": "white",
             "minorgridcolor": "white",
             "startlinecolor": "#2a3f5f"
            },
            "baxis": {
             "endlinecolor": "#2a3f5f",
             "gridcolor": "white",
             "linecolor": "white",
             "minorgridcolor": "white",
             "startlinecolor": "#2a3f5f"
            },
            "type": "carpet"
           }
          ],
          "choropleth": [
           {
            "colorbar": {
             "outlinewidth": 0,
             "ticks": ""
            },
            "type": "choropleth"
           }
          ],
          "contour": [
           {
            "colorbar": {
             "outlinewidth": 0,
             "ticks": ""
            },
            "colorscale": [
             [
              0,
              "#0d0887"
             ],
             [
              0.1111111111111111,
              "#46039f"
             ],
             [
              0.2222222222222222,
              "#7201a8"
             ],
             [
              0.3333333333333333,
              "#9c179e"
             ],
             [
              0.4444444444444444,
              "#bd3786"
             ],
             [
              0.5555555555555556,
              "#d8576b"
             ],
             [
              0.6666666666666666,
              "#ed7953"
             ],
             [
              0.7777777777777778,
              "#fb9f3a"
             ],
             [
              0.8888888888888888,
              "#fdca26"
             ],
             [
              1,
              "#f0f921"
             ]
            ],
            "type": "contour"
           }
          ],
          "contourcarpet": [
           {
            "colorbar": {
             "outlinewidth": 0,
             "ticks": ""
            },
            "type": "contourcarpet"
           }
          ],
          "heatmap": [
           {
            "colorbar": {
             "outlinewidth": 0,
             "ticks": ""
            },
            "colorscale": [
             [
              0,
              "#0d0887"
             ],
             [
              0.1111111111111111,
              "#46039f"
             ],
             [
              0.2222222222222222,
              "#7201a8"
             ],
             [
              0.3333333333333333,
              "#9c179e"
             ],
             [
              0.4444444444444444,
              "#bd3786"
             ],
             [
              0.5555555555555556,
              "#d8576b"
             ],
             [
              0.6666666666666666,
              "#ed7953"
             ],
             [
              0.7777777777777778,
              "#fb9f3a"
             ],
             [
              0.8888888888888888,
              "#fdca26"
             ],
             [
              1,
              "#f0f921"
             ]
            ],
            "type": "heatmap"
           }
          ],
          "histogram": [
           {
            "marker": {
             "pattern": {
              "fillmode": "overlay",
              "size": 10,
              "solidity": 0.2
             }
            },
            "type": "histogram"
           }
          ],
          "histogram2d": [
           {
            "colorbar": {
             "outlinewidth": 0,
             "ticks": ""
            },
            "colorscale": [
             [
              0,
              "#0d0887"
             ],
             [
              0.1111111111111111,
              "#46039f"
             ],
             [
              0.2222222222222222,
              "#7201a8"
             ],
             [
              0.3333333333333333,
              "#9c179e"
             ],
             [
              0.4444444444444444,
              "#bd3786"
             ],
             [
              0.5555555555555556,
              "#d8576b"
             ],
             [
              0.6666666666666666,
              "#ed7953"
             ],
             [
              0.7777777777777778,
              "#fb9f3a"
             ],
             [
              0.8888888888888888,
              "#fdca26"
             ],
             [
              1,
              "#f0f921"
             ]
            ],
            "type": "histogram2d"
           }
          ],
          "histogram2dcontour": [
           {
            "colorbar": {
             "outlinewidth": 0,
             "ticks": ""
            },
            "colorscale": [
             [
              0,
              "#0d0887"
             ],
             [
              0.1111111111111111,
              "#46039f"
             ],
             [
              0.2222222222222222,
              "#7201a8"
             ],
             [
              0.3333333333333333,
              "#9c179e"
             ],
             [
              0.4444444444444444,
              "#bd3786"
             ],
             [
              0.5555555555555556,
              "#d8576b"
             ],
             [
              0.6666666666666666,
              "#ed7953"
             ],
             [
              0.7777777777777778,
              "#fb9f3a"
             ],
             [
              0.8888888888888888,
              "#fdca26"
             ],
             [
              1,
              "#f0f921"
             ]
            ],
            "type": "histogram2dcontour"
           }
          ],
          "mesh3d": [
           {
            "colorbar": {
             "outlinewidth": 0,
             "ticks": ""
            },
            "type": "mesh3d"
           }
          ],
          "parcoords": [
           {
            "line": {
             "colorbar": {
              "outlinewidth": 0,
              "ticks": ""
             }
            },
            "type": "parcoords"
           }
          ],
          "pie": [
           {
            "automargin": true,
            "type": "pie"
           }
          ],
          "scatter": [
           {
            "fillpattern": {
             "fillmode": "overlay",
             "size": 10,
             "solidity": 0.2
            },
            "type": "scatter"
           }
          ],
          "scatter3d": [
           {
            "line": {
             "colorbar": {
              "outlinewidth": 0,
              "ticks": ""
             }
            },
            "marker": {
             "colorbar": {
              "outlinewidth": 0,
              "ticks": ""
             }
            },
            "type": "scatter3d"
           }
          ],
          "scattercarpet": [
           {
            "marker": {
             "colorbar": {
              "outlinewidth": 0,
              "ticks": ""
             }
            },
            "type": "scattercarpet"
           }
          ],
          "scattergeo": [
           {
            "marker": {
             "colorbar": {
              "outlinewidth": 0,
              "ticks": ""
             }
            },
            "type": "scattergeo"
           }
          ],
          "scattergl": [
           {
            "marker": {
             "colorbar": {
              "outlinewidth": 0,
              "ticks": ""
             }
            },
            "type": "scattergl"
           }
          ],
          "scattermap": [
           {
            "marker": {
             "colorbar": {
              "outlinewidth": 0,
              "ticks": ""
             }
            },
            "type": "scattermap"
           }
          ],
          "scattermapbox": [
           {
            "marker": {
             "colorbar": {
              "outlinewidth": 0,
              "ticks": ""
             }
            },
            "type": "scattermapbox"
           }
          ],
          "scatterpolar": [
           {
            "marker": {
             "colorbar": {
              "outlinewidth": 0,
              "ticks": ""
             }
            },
            "type": "scatterpolar"
           }
          ],
          "scatterpolargl": [
           {
            "marker": {
             "colorbar": {
              "outlinewidth": 0,
              "ticks": ""
             }
            },
            "type": "scatterpolargl"
           }
          ],
          "scatterternary": [
           {
            "marker": {
             "colorbar": {
              "outlinewidth": 0,
              "ticks": ""
             }
            },
            "type": "scatterternary"
           }
          ],
          "surface": [
           {
            "colorbar": {
             "outlinewidth": 0,
             "ticks": ""
            },
            "colorscale": [
             [
              0,
              "#0d0887"
             ],
             [
              0.1111111111111111,
              "#46039f"
             ],
             [
              0.2222222222222222,
              "#7201a8"
             ],
             [
              0.3333333333333333,
              "#9c179e"
             ],
             [
              0.4444444444444444,
              "#bd3786"
             ],
             [
              0.5555555555555556,
              "#d8576b"
             ],
             [
              0.6666666666666666,
              "#ed7953"
             ],
             [
              0.7777777777777778,
              "#fb9f3a"
             ],
             [
              0.8888888888888888,
              "#fdca26"
             ],
             [
              1,
              "#f0f921"
             ]
            ],
            "type": "surface"
           }
          ],
          "table": [
           {
            "cells": {
             "fill": {
              "color": "#EBF0F8"
             },
             "line": {
              "color": "white"
             }
            },
            "header": {
             "fill": {
              "color": "#C8D4E3"
             },
             "line": {
              "color": "white"
             }
            },
            "type": "table"
           }
          ]
         },
         "layout": {
          "annotationdefaults": {
           "arrowcolor": "#2a3f5f",
           "arrowhead": 0,
           "arrowwidth": 1
          },
          "autotypenumbers": "strict",
          "coloraxis": {
           "colorbar": {
            "outlinewidth": 0,
            "ticks": ""
           }
          },
          "colorscale": {
           "diverging": [
            [
             0,
             "#8e0152"
            ],
            [
             0.1,
             "#c51b7d"
            ],
            [
             0.2,
             "#de77ae"
            ],
            [
             0.3,
             "#f1b6da"
            ],
            [
             0.4,
             "#fde0ef"
            ],
            [
             0.5,
             "#f7f7f7"
            ],
            [
             0.6,
             "#e6f5d0"
            ],
            [
             0.7,
             "#b8e186"
            ],
            [
             0.8,
             "#7fbc41"
            ],
            [
             0.9,
             "#4d9221"
            ],
            [
             1,
             "#276419"
            ]
           ],
           "sequential": [
            [
             0,
             "#0d0887"
            ],
            [
             0.1111111111111111,
             "#46039f"
            ],
            [
             0.2222222222222222,
             "#7201a8"
            ],
            [
             0.3333333333333333,
             "#9c179e"
            ],
            [
             0.4444444444444444,
             "#bd3786"
            ],
            [
             0.5555555555555556,
             "#d8576b"
            ],
            [
             0.6666666666666666,
             "#ed7953"
            ],
            [
             0.7777777777777778,
             "#fb9f3a"
            ],
            [
             0.8888888888888888,
             "#fdca26"
            ],
            [
             1,
             "#f0f921"
            ]
           ],
           "sequentialminus": [
            [
             0,
             "#0d0887"
            ],
            [
             0.1111111111111111,
             "#46039f"
            ],
            [
             0.2222222222222222,
             "#7201a8"
            ],
            [
             0.3333333333333333,
             "#9c179e"
            ],
            [
             0.4444444444444444,
             "#bd3786"
            ],
            [
             0.5555555555555556,
             "#d8576b"
            ],
            [
             0.6666666666666666,
             "#ed7953"
            ],
            [
             0.7777777777777778,
             "#fb9f3a"
            ],
            [
             0.8888888888888888,
             "#fdca26"
            ],
            [
             1,
             "#f0f921"
            ]
           ]
          },
          "colorway": [
           "#636efa",
           "#EF553B",
           "#00cc96",
           "#ab63fa",
           "#FFA15A",
           "#19d3f3",
           "#FF6692",
           "#B6E880",
           "#FF97FF",
           "#FECB52"
          ],
          "font": {
           "color": "#2a3f5f"
          },
          "geo": {
           "bgcolor": "white",
           "lakecolor": "white",
           "landcolor": "#E5ECF6",
           "showlakes": true,
           "showland": true,
           "subunitcolor": "white"
          },
          "hoverlabel": {
           "align": "left"
          },
          "hovermode": "closest",
          "mapbox": {
           "style": "light"
          },
          "paper_bgcolor": "white",
          "plot_bgcolor": "#E5ECF6",
          "polar": {
           "angularaxis": {
            "gridcolor": "white",
            "linecolor": "white",
            "ticks": ""
           },
           "bgcolor": "#E5ECF6",
           "radialaxis": {
            "gridcolor": "white",
            "linecolor": "white",
            "ticks": ""
           }
          },
          "scene": {
           "xaxis": {
            "backgroundcolor": "#E5ECF6",
            "gridcolor": "white",
            "gridwidth": 2,
            "linecolor": "white",
            "showbackground": true,
            "ticks": "",
            "zerolinecolor": "white"
           },
           "yaxis": {
            "backgroundcolor": "#E5ECF6",
            "gridcolor": "white",
            "gridwidth": 2,
            "linecolor": "white",
            "showbackground": true,
            "ticks": "",
            "zerolinecolor": "white"
           },
           "zaxis": {
            "backgroundcolor": "#E5ECF6",
            "gridcolor": "white",
            "gridwidth": 2,
            "linecolor": "white",
            "showbackground": true,
            "ticks": "",
            "zerolinecolor": "white"
           }
          },
          "shapedefaults": {
           "line": {
            "color": "#2a3f5f"
           }
          },
          "ternary": {
           "aaxis": {
            "gridcolor": "white",
            "linecolor": "white",
            "ticks": ""
           },
           "baxis": {
            "gridcolor": "white",
            "linecolor": "white",
            "ticks": ""
           },
           "bgcolor": "#E5ECF6",
           "caxis": {
            "gridcolor": "white",
            "linecolor": "white",
            "ticks": ""
           }
          },
          "title": {
           "x": 0.05
          },
          "xaxis": {
           "automargin": true,
           "gridcolor": "white",
           "linecolor": "white",
           "ticks": "",
           "title": {
            "standoff": 15
           },
           "zerolinecolor": "white",
           "zerolinewidth": 2
          },
          "yaxis": {
           "automargin": true,
           "gridcolor": "white",
           "linecolor": "white",
           "ticks": "",
           "title": {
            "standoff": 15
           },
           "zerolinecolor": "white",
           "zerolinewidth": 2
          }
         }
        },
        "title": {
         "text": "Map Visualization"
        },
        "width": 600,
        "xaxis": {
         "scaleanchor": "y",
         "showgrid": false
        },
        "yaxis": {
         "showgrid": false
        }
       }
      }
     },
     "metadata": {},
     "output_type": "display_data"
    }
   ],
   "source": [
    "visualize_map_shapes(m.grid, obs=m.obstacles, start=m.start, goal=m.goal, path=result.path, nodes=list(map(lambda x: x.position, result.nodes)), edges=result.edges)"
   ]
  },
  {
   "cell_type": "code",
   "execution_count": 53,
   "id": "45334152",
   "metadata": {},
   "outputs": [
    {
     "name": "stdout",
     "output_type": "stream",
     "text": [
      "   map_id algorithm  success  time_taken  num_nodes  path_length\n",
      "0       0     MyRRT     True    0.108345        995   182.667229\n"
     ]
    }
   ],
   "source": [
    "def my_dummy_planner(map_array, start, goal):\n",
    "    return {\n",
    "        \"path\": [start, goal],\n",
    "        \"visited\": [start],\n",
    "        \"nodes\": 2\n",
    "    }\n",
    "\n",
    "bench = MultiMapBenchmarker(\n",
    "    maps=[m],\n",
    "    algorithm=p.plan,\n",
    "    name=\"MyRRT\"\n",
    ")\n",
    "\n",
    "\n",
    "df = bench.run()\n",
    "print(df)"
   ]
  },
  {
   "cell_type": "code",
   "execution_count": null,
   "id": "a2c00ec2",
   "metadata": {},
   "outputs": [],
   "source": []
  }
 ],
 "metadata": {
  "kernelspec": {
   "display_name": "eohp",
   "language": "python",
   "name": "python3"
  },
  "language_info": {
   "codemirror_mode": {
    "name": "ipython",
    "version": 3
   },
   "file_extension": ".py",
   "mimetype": "text/x-python",
   "name": "python",
   "nbconvert_exporter": "python",
   "pygments_lexer": "ipython3",
   "version": "3.10.18"
  }
 },
 "nbformat": 4,
 "nbformat_minor": 5
}
