{
 "cells": [
  {
   "cell_type": "code",
   "execution_count": 1,
   "id": "c96b2583",
   "metadata": {},
   "outputs": [],
   "source": [
    "import numpy as np\n",
    "import random\n",
    "import math\n",
    "from typing import Tuple, Literal, Union, Optional, List, Dict, NamedTuple, Callable, Any, Set\n",
    "from queue import Queue\n",
    "import warnings\n",
    "import sys\n",
    "import json\n",
    "import time\n",
    "import types\n",
    "import pickle\n",
    "import plotly.graph_objs as go\n",
    "import plotly.express as px\n",
    "import pandas as pd\n",
    "import os"
   ]
  },
  {
   "cell_type": "code",
   "execution_count": 2,
   "id": "9abc538c",
   "metadata": {},
   "outputs": [],
   "source": [
    "class Map(NamedTuple):\n",
    "    grid: np.ndarray\n",
    "    start: Union[Tuple[float, float], Tuple[float, float, float]]\n",
    "    goal: Union[Tuple[float, float], Tuple[float, float, float]]\n",
    "    obstacles: List[Union[Tuple[float, float, float, float], Tuple[float, float, float, float, float, float]]] # x, y, width, height or x, y, z, width, height, dimension\n",
    "    size: Union[Tuple[int, int], Tuple[int, int, int]]\n",
    "\n",
    "class PlannerResult(NamedTuple):\n",
    "    success: bool\n",
    "    path: List[Union[Tuple[float, float], Tuple[float, float, float]]]\n",
    "    nodes: List[Union[Tuple[float, float], Tuple[float, float, float]]]\n",
    "    edges: List[Tuple[Tuple[float, ...], Tuple[float, ...]]]  # (parent, child)\n",
    "\n",
    "class Node:\n",
    "    def __init__(self, position, parent=None, cost=0.0):\n",
    "        self.position = position\n",
    "        self.parent = parent\n",
    "        self.cost = cost\n",
    "        self.children = []\n",
    "        self.valid = True  # 장애물 충돌 여부 등\n"
   ]
  },
  {
   "cell_type": "code",
   "execution_count": null,
   "id": "459d812a",
   "metadata": {},
   "outputs": [],
   "source": [
    "class MapGenerator:\n",
    "    def __init__(\n",
    "        self,\n",
    "        map_type: Literal[\"random\", \"multi_narrow\", \"maze\"] = \"random\",\n",
    "        map_size: Union[Tuple[int, int], Tuple[int, int, int]] = (50, 50),\n",
    "        obstacle_percent: float = 0.2,\n",
    "        min_obstacle_size: Union[Tuple[int, int], Tuple[int, int, int]] = (2, 2),\n",
    "        max_obstacle_size: Union[Tuple[int, int], Tuple[int, int, int]] = (5, 5),\n",
    "        max_obstacle_count: Optional[int] = None\n",
    "    ):\n",
    "        self.map_type = map_type\n",
    "        self.map_size = map_size\n",
    "        self.obstacle_percent = obstacle_percent\n",
    "        self.obstacle_list: List[Tuple[int, ...]] = []\n",
    "        self.min_size = min_obstacle_size\n",
    "        self.max_size = max_obstacle_size\n",
    "        self.max_count = max_obstacle_count\n",
    "        self.is_3d = len(map_size) == 3\n",
    "        self.map = self._init_map()\n",
    "        self.start = None\n",
    "        self.goal = None\n",
    "\n",
    "    def _init_map(self):\n",
    "        shape = self.map_size[::-1] if self.is_3d else (self.map_size[1], self.map_size[0])\n",
    "        return np.zeros(shape, dtype=np.uint8)\n",
    "\n",
    "    def generate(self, start: Tuple[int, ...], goal: Tuple[int, ...]) -> Dict[str, Union[np.ndarray, Tuple[int, ...], List[Tuple[int, ...]], Tuple[int, int]]]:\n",
    "        self.start = start\n",
    "        self.goal = goal\n",
    "        tries = 0\n",
    "        max_tries = 100\n",
    "\n",
    "        while tries < max_tries:\n",
    "            self.map = self._init_map()\n",
    "            self.obstacle_list.clear()\n",
    "\n",
    "            if self.map_type == \"maze\":\n",
    "                self.map = self._generate_maze()\n",
    "            elif self.map_type == \"random\":\n",
    "                self._generate_random_obstacles(start, goal)\n",
    "            elif self.map_type == \"multi_narrow\":\n",
    "                self._generate_multi_narrow(start, goal)\n",
    "\n",
    "            if self._path_exists(start, goal):\n",
    "                return Map(\n",
    "                    grid=self.map,\n",
    "                    start=start,\n",
    "                    goal=goal,\n",
    "                    obstacles=self.obstacle_list,\n",
    "                    size=self.map_size\n",
    "                )\n",
    "            tries += 1\n",
    "\n",
    "        raise RuntimeError(\"Failed to generate a connected map after multiple attempts.\")\n",
    "\n",
    "    def _add_obstacle(self, coords: Tuple[int, ...]):\n",
    "        self.obstacle_list.append(coords)\n",
    "\n",
    "    def _path_exists(self, start, goal):\n",
    "        visited = set()\n",
    "        q = Queue()\n",
    "        q.put(start)\n",
    "        visited.add(start)\n",
    "\n",
    "        dims = len(start)\n",
    "        neighbors = [(-1,0), (1,0), (0,-1), (0,1)] if dims == 2 else \\\n",
    "                    [(-1,0,0),(1,0,0),(0,-1,0),(0,1,0),(0,0,-1),(0,0,1)]\n",
    "\n",
    "        while not q.empty():\n",
    "            node = q.get()\n",
    "            if node == goal:\n",
    "                return True\n",
    "\n",
    "            for delta in neighbors:\n",
    "                neighbor = tuple(node[i] + delta[i] for i in range(dims))\n",
    "                if self._in_bounds(neighbor) and neighbor not in visited:\n",
    "                    if self._is_free(neighbor):\n",
    "                        visited.add(neighbor)\n",
    "                        q.put(neighbor)\n",
    "        return False\n",
    "\n",
    "    def _in_bounds(self, p):\n",
    "        if self.is_3d:\n",
    "            z, y, x = p\n",
    "            return 0 <= z < self.map.shape[0] and 0 <= y < self.map.shape[1] and 0 <= x < self.map.shape[2]\n",
    "        else:\n",
    "            y, x = p\n",
    "            return 0 <= y < self.map.shape[0] and 0 <= x < self.map.shape[1]\n",
    "\n",
    "    def _is_free(self, p):\n",
    "        if self.is_3d:\n",
    "            z, y, x = p\n",
    "            return self.map[z, y, x] == 0\n",
    "        else:\n",
    "            y, x = p\n",
    "            return self.map[y, x] == 0\n",
    "\n",
    "    def _is_inside(self, point, x, y, z, ow, oh, od):\n",
    "        px, py, *pz = point\n",
    "        if z is None:\n",
    "            return x <= px < x + ow and y <= py < y + oh\n",
    "        else:\n",
    "            pz = pz[0]\n",
    "            return x <= px < x + ow and y <= py < y + oh and z <= pz < z + od\n",
    "\n",
    "    def _generate_random_obstacles(self, start, goal):\n",
    "        if self.is_3d:\n",
    "            w, h, d = self.map_size\n",
    "            total_voxels = w * h * d\n",
    "            max_obs = int(total_voxels * self.obstacle_percent)\n",
    "            count = 0\n",
    "            for _ in range(10000):\n",
    "                ow = random.randint(self.min_size[0], self.max_size[0])\n",
    "                oh = random.randint(self.min_size[1], self.max_size[1])\n",
    "                od = random.randint(self.min_size[2], self.max_size[2])\n",
    "                x = random.randint(0, w - ow - 1)\n",
    "                y = random.randint(0, h - oh - 1)\n",
    "                z = random.randint(0, d - od - 1)\n",
    "                if np.any(self.map[z:z+od, y:y+oh, x:x+ow]):\n",
    "                    continue\n",
    "                if self._is_inside(start, x, y, z, ow, oh, od) or self._is_inside(goal, x, y, z, ow, oh, od):\n",
    "                    continue\n",
    "                self.map[z:z+od, y:y+oh, x:x+ow] = 1\n",
    "                self._add_obstacle((x, y, z, ow, oh, od))\n",
    "                count += ow * oh * od\n",
    "                if self.max_count and count >= self.max_count:\n",
    "                    break\n",
    "                if count >= max_obs:\n",
    "                    break\n",
    "        else:\n",
    "            w, h = self.map_size\n",
    "            total_cells = w * h\n",
    "            max_obs = int(total_cells * self.obstacle_percent)\n",
    "            count = 0\n",
    "            for _ in range(10000):\n",
    "                ow = random.randint(self.min_size[0], self.max_size[0])\n",
    "                oh = random.randint(self.min_size[1], self.max_size[1])\n",
    "                x = random.randint(0, w - ow - 1)\n",
    "                y = random.randint(0, h - oh - 1)\n",
    "                if np.any(self.map[y:y+oh, x:x+ow]):\n",
    "                    continue\n",
    "                if self._is_inside(start, x, y, None, ow, oh, None) or self._is_inside(goal, x, y, None, ow, oh, None):\n",
    "                    continue\n",
    "                self.map[y:y+oh, x:x+ow] = 1\n",
    "                self._add_obstacle((x, y, ow, oh))\n",
    "                count += ow * oh\n",
    "                if self.max_count and count >= self.max_count:\n",
    "                    break\n",
    "                if count >= max_obs:\n",
    "                    break\n",
    "\n",
    "    def _generate_multi_narrow(self, start, goal):\n",
    "        if self.is_3d:\n",
    "            self._generate_random_obstacles(start, goal)\n",
    "        else:\n",
    "            w, h = self.map_size\n",
    "            corridor_width = 2\n",
    "            spacing = 6\n",
    "            for i in range(spacing, h - spacing, spacing + corridor_width):\n",
    "                self.map[i:i+spacing, :] = 1\n",
    "            self._carve_corridor(start, goal)\n",
    "\n",
    "    def _carve_corridor(self, start, goal):\n",
    "        if not self.is_3d:\n",
    "            y0, x0 = start[1], start[0]\n",
    "            y1, x1 = goal[1], goal[0]\n",
    "            for x in range(min(x0, x1), max(x0, x1)+1):\n",
    "                self.map[y0, x] = 0\n",
    "            for y in range(min(y0, y1), max(y0, y1)+1):\n",
    "                self.map[y, x1] = 0\n",
    "\n",
    "    def _generate_maze(self):\n",
    "        width, height = self.map_size\n",
    "        if width % 2 == 0: width += 1\n",
    "        if height % 2 == 0: height += 1\n",
    "\n",
    "        maze = np.ones((height, width), dtype=np.uint8)\n",
    "        sx, sy = 1, 1\n",
    "        maze[sy, sx] = 0\n",
    "\n",
    "        walls = [(sx + dx, sy + dy) for dx, dy in [(-2, 0), (2, 0), (0, -2), (0, 2)]\n",
    "                 if 0 < sx + dx < width and 0 < sy + dy < height]\n",
    "\n",
    "        while walls:\n",
    "            wx, wy = walls.pop(random.randint(0, len(walls) - 1))\n",
    "            if maze[wy, wx] == 1:\n",
    "                neighbors = [(wx + dx, wy + dy) for dx, dy in [(-2, 0), (2, 0), (0, -2), (0, 2)]\n",
    "                             if 0 < wx + dx < width and 0 < wy + dy < height and maze[wy + dy, wx + dx] == 0]\n",
    "                if len(neighbors) == 1:\n",
    "                    nx, ny = neighbors[0]\n",
    "                    maze[(wy + ny) // 2, (wx + nx) // 2] = 0\n",
    "                    maze[wy, wx] = 0\n",
    "                    for dx, dy in [(-2, 0), (2, 0), (0, -2), (0, 2)]:\n",
    "                        nx, ny = wx + dx, wy + dy\n",
    "                        if 0 < nx < width and 0 < ny < height and maze[ny, nx] == 1:\n",
    "                            walls.append((nx, ny))\n",
    "\n",
    "        return maze"
   ]
  },
  {
   "cell_type": "code",
   "execution_count": 3,
   "id": "2ae55dce",
   "metadata": {},
   "outputs": [],
   "source": [
    "class MapIO:\n",
    "    @staticmethod\n",
    "    def save_map(map_data: Map, filename: str) -> None:\n",
    "        \"\"\"Save Map object to a binary file.\"\"\"\n",
    "        with open(filename, 'wb') as f:\n",
    "            pickle.dump(map_data, f)\n",
    "\n",
    "    @staticmethod\n",
    "    def load_map(filename: str) -> Map:\n",
    "        \"\"\"Load Map object from a binary file.\"\"\"\n",
    "        if not os.path.exists(filename):\n",
    "            raise FileNotFoundError(f\"Map file not found: {filename}\")\n",
    "        with open(filename, 'rb') as f:\n",
    "            return pickle.load(f)"
   ]
  },
  {
   "cell_type": "code",
   "execution_count": 4,
   "id": "09feaf00",
   "metadata": {},
   "outputs": [],
   "source": [
    "def visualize_map_shapes(\n",
    "    map_array: np.ndarray,\n",
    "    start: Optional[Tuple[int, ...]] = None,\n",
    "    goal: Optional[Tuple[int, ...]] = None,\n",
    "    obs:List[Tuple[int, ...]] = None,\n",
    "    path: Optional[List[Tuple[float, ...]]] = None,\n",
    "    nodes: Optional[List[Tuple[float, ...]]] = None,\n",
    "    edges: Optional[List[Tuple[float, ...]]] = None,\n",
    "    title: str = \"Map Visualization\"\n",
    "):\n",
    "    fig = go.Figure()\n",
    "\n",
    "    if map_array.ndim == 2:\n",
    "        height, width = map_array.shape\n",
    "        \n",
    "        for x, y, w, h in obs:\n",
    "                fig.add_shape(\n",
    "                    type=\"rect\",\n",
    "                    x0=x, x1=x+w, y0=y, y1=y+h,\n",
    "                    fillcolor=\"purple\",opacity=0.5,\n",
    "                    line=dict(width=0)\n",
    "                )\n",
    "\n",
    "        # 방문 노드\n",
    "        if nodes:\n",
    "            vx, vy = zip(*nodes)\n",
    "            fig.add_trace(go.Scatter(\n",
    "                x=vx, y=vy, mode=\"markers\",\n",
    "                marker=dict(size=4, color=\"blue\"),\n",
    "                name=\"nodes\"\n",
    "            ))\n",
    "\n",
    "        # 경로\n",
    "        if path:\n",
    "            px, py = zip(*path)\n",
    "            fig.add_trace(go.Scatter(\n",
    "                x=px, y=py, mode=\"lines+markers\",\n",
    "                line=dict(color=\"green\"),\n",
    "                marker=dict(size=6),\n",
    "                name=\"Path\"\n",
    "            ))\n",
    "\n",
    "        # 엣지 (연결 정보)\n",
    "        if edges:\n",
    "            for parent, child in edges:\n",
    "                fig.add_trace(go.Scatter(\n",
    "                    x=[parent.position[0], child.position[0]], y=[parent.position[1], child.position[1]],\n",
    "                    mode=\"lines\",\n",
    "                    line=dict(color=\"lightblue\", width=1),\n",
    "                    showlegend=False,\n",
    "                    hoverinfo=\"skip\"\n",
    "                ))\n",
    "\n",
    "\n",
    "        # 시작/목표\n",
    "        if start:\n",
    "            fig.add_trace(go.Scatter(\n",
    "                x=[start[0]], y=[start[1]], mode=\"markers\",\n",
    "                marker=dict(size=10, color=\"red\"),\n",
    "                name=\"Start\"\n",
    "            ))\n",
    "\n",
    "        if goal:\n",
    "            fig.add_trace(go.Scatter(\n",
    "                x=[goal[0]], y=[goal[1]], mode=\"markers\",\n",
    "                marker=dict(size=10, color=\"orange\"),\n",
    "                name=\"Goal\"\n",
    "            ))\n",
    "\n",
    "        fig.add_shape(\n",
    "            type=\"rect\",\n",
    "            x0=0, y0=0,\n",
    "            x1=width, y1=height,\n",
    "            line=dict(color=\"white\", width=3),\n",
    "            fillcolor=\"rgba(0,0,0,0)\",  # 투명 내부\n",
    "            layer=\"above\"\n",
    "        )\n",
    "\n",
    "        fig.update_layout(\n",
    "            title=title,\n",
    "            xaxis=dict(scaleanchor=\"y\", showgrid=False),\n",
    "            # yaxis=dict(showgrid=False, autorange=\"reversed\"),\n",
    "            yaxis=dict(showgrid=False),\n",
    "            height=600, width=600\n",
    "        )\n",
    "\n",
    "    elif map_array.ndim == 3:\n",
    "        z, y, x = map_array.nonzero()\n",
    "        x, y, z = list(x), list(y), list(z)\n",
    "\n",
    "        # for x,y,w,h in obs:\n",
    "        #     fig.add_trace(go.Mesh3d(\n",
    "        #         x=x, y=y, z=z,\n",
    "        #         color='black',\n",
    "        #         opacity=1.0,\n",
    "        #         alphahull=0,\n",
    "        #         name='Obstacles'\n",
    "        #     ))\n",
    "\n",
    "        fig.add_trace(go.Mesh3d(\n",
    "            x=x, y=y, z=z,\n",
    "            color='black',\n",
    "            opacity=1.0,\n",
    "            alphahull=0,\n",
    "            name='Obstacles'\n",
    "        ))\n",
    "\n",
    "        if nodes:\n",
    "            vx, vy, vz = zip(*nodes)\n",
    "            fig.add_trace(go.Scatter3d(\n",
    "                x=vx, y=vy, z=vz,\n",
    "                mode='markers',\n",
    "                marker=dict(size=2, color='blue'),\n",
    "                name='Visited'\n",
    "            ))\n",
    "\n",
    "        # 엣지 (연결 정보)\n",
    "        if edges:\n",
    "            for parent, child in edges:\n",
    "                fig.add_trace(go.Scatter3d(\n",
    "                    x=[parent.position[0], child.position[0]],\n",
    "                    y=[parent[1].position, child.position[1]],\n",
    "                    z=[parent[2].position, child.position[2]],\n",
    "                    mode='lines',\n",
    "                    line=dict(color='lightblue', width=2),\n",
    "                    showlegend=False,\n",
    "                    hoverinfo=\"skip\"\n",
    "                ))\n",
    "\n",
    "        if path:\n",
    "            px_, py_, pz_ = zip(*path)\n",
    "            fig.add_trace(go.Scatter3d(\n",
    "                x=px_, y=py_, z=pz_,\n",
    "                mode='lines+markers',\n",
    "                marker=dict(size=3, color='green'),\n",
    "                name='Path'\n",
    "            ))\n",
    "\n",
    "        if start:\n",
    "            fig.add_trace(go.Scatter3d(\n",
    "                x=[start[0]], y=[start[1]], z=[start[2]],\n",
    "                mode='markers',\n",
    "                marker=dict(size=5, color='red'),\n",
    "                name='Start'\n",
    "            ))\n",
    "\n",
    "        if goal:\n",
    "            fig.add_trace(go.Scatter3d(\n",
    "                x=[goal[0]], y=[goal[1]], z=[goal[2]],\n",
    "                mode='markers',\n",
    "                marker=dict(size=5, color='orange'),\n",
    "                name='Goal'\n",
    "            ))\n",
    "\n",
    "        fig.update_layout(\n",
    "            title=title,\n",
    "            scene=dict(aspectmode='data'),\n",
    "            height=700, width=700\n",
    "        )\n",
    "\n",
    "        \n",
    "\n",
    "    fig.show()\n"
   ]
  },
  {
   "cell_type": "code",
   "execution_count": null,
   "id": "f6e948da",
   "metadata": {},
   "outputs": [],
   "source": [
    "gen = MapGenerator(map_type=\"random\", map_size=(100, 100), min_obstacle_size=(5, 5), max_obstacle_size=(15, 15), obstacle_percent=0.32)\n",
    "m = gen.generate(start=(1, 1), goal=(99, 99))\n",
    "visualize_map_shapes(m.grid, obs=m.obstacles, start=m.start, goal=m.goal)"
   ]
  },
  {
   "cell_type": "code",
   "execution_count": null,
   "id": "766b01a4",
   "metadata": {},
   "outputs": [],
   "source": [
    "def generate_box_with_narrow_entry(width: int, height: int, entry_side: str = \"left\", entry_pos: int = 10, entry_width: int = 1) -> Map:\n",
    "    grid = np.zeros((height, width), dtype=np.uint8)\n",
    "    obstacles = []\n",
    "    start, goal = (80,50), (50,50)\n",
    "    \n",
    "\n",
    "    grid[27:30, 52:70] = 1  \n",
    "    obstacles.append((27, 52, 3, 18))\n",
    "    grid[27:30, 30:48] = 1  \n",
    "    obstacles.append((27, 30, 3, 18))\n",
    "    \n",
    "    grid[70:73, 30:70] = 1\n",
    "    obstacles.append((70, 30, 3, 40))\n",
    "\n",
    "    grid[30:70, 30:33] = 1\n",
    "    obstacles.append((30, 30, 40, 3))\n",
    "    grid[30:70, 67:70] = 1  \n",
    "    obstacles.append((30, 67, 40, 3))\n",
    "\n",
    "\n",
    "    # Obstacle extraction\n",
    "\n",
    "    return Map(\n",
    "        grid=grid,\n",
    "        start=start,\n",
    "        goal=goal,\n",
    "        obstacles=obstacles,\n",
    "        size=(width, height)\n",
    "    )"
   ]
  },
  {
   "cell_type": "code",
   "execution_count": null,
   "id": "f9ee8c9a",
   "metadata": {},
   "outputs": [],
   "source": [
    "def generate_box_with_narrow_entry(width: int, height: int, entry_side: str = \"left\", entry_pos: int = 10, entry_width: int = 1) -> Map:\n",
    "    grid = np.zeros((height, width), dtype=np.uint8)\n",
    "    obstacles = []\n",
    "    start, goal = (29,40), (90,10)\n",
    "    \n",
    "\n",
    "\n",
    "    grid[17:20, 20:80] = 1\n",
    "    obstacles.append((17, 20, 3, 60))\n",
    "    grid[37:40, 0:50] = 1\n",
    "    obstacles.append((37, 0, 3, 50))\n",
    "    grid[57:60, 20:100] = 1\n",
    "    obstacles.append((57, 20, 3, 80))\n",
    "    grid[77:80, 20:70] = 1\n",
    "    obstacles.append((77, 0, 3, 80))\n",
    "\n",
    "    grid[20:37, 47:60] = 1  \n",
    "    obstacles.append((20, 47, 17, 3))\n",
    "    grid[30:57, 62:65] = 1 \n",
    "    obstacles.append((30, 62, 27, 3))\n",
    "    grid[10:45, 80:83] = 1 \n",
    "    obstacles.append((10, 80, 35, 3))\n",
    "    grid[10:45, 80:83] = 1 \n",
    "    obstacles.append((70, 80, 20, 3))\n",
    "\n",
    "\n",
    "    # Obstacle extraction\n",
    "\n",
    "    return Map(\n",
    "        grid=grid,\n",
    "        start=start,\n",
    "        goal=goal,\n",
    "        obstacles=obstacles,\n",
    "        size=(width, height)\n",
    "    )"
   ]
  },
  {
   "cell_type": "code",
   "execution_count": 112,
   "id": "ff72ce05",
   "metadata": {},
   "outputs": [],
   "source": [
    "def generate_box_with_narrow_entry(width: int, height: int, entry_side: str = \"left\", entry_pos: int = 10, entry_width: int = 1) -> Map:\n",
    "    grid = np.zeros((height, width), dtype=np.uint8)\n",
    "    obstacles = []\n",
    "    start, goal = (29,10), (90,80)\n",
    "    \n",
    "    grid[27:30, 20:80] = 1\n",
    "    obstacles.append((27, 20, 3, 60))\n",
    "    grid[47:50, 0:50] = 1\n",
    "    obstacles.append((47, 0, 3, 50))\n",
    "    grid[77:80, 20:100] = 1\n",
    "    obstacles.append((77, 20, 3, 80))\n",
    "\n",
    "    grid[30:47, 47:50] = 1  \n",
    "    obstacles.append((30, 47, 17, 3))\n",
    "    grid[50:77, 72:65] = 1 \n",
    "    obstacles.append((50, 72, 27, 3))\n",
    "\n",
    "    # Obstacle extraction\n",
    "\n",
    "    return Map(\n",
    "        grid=grid,\n",
    "        start=start,\n",
    "        goal=goal,\n",
    "        obstacles=obstacles,\n",
    "        size=(width, height)\n",
    "    )"
   ]
  },
  {
   "cell_type": "code",
   "execution_count": 113,
   "id": "14b18069",
   "metadata": {},
   "outputs": [],
   "source": [
    "map_obj = generate_box_with_narrow_entry(width=100, height=100, entry_side=\"left\", entry_pos=25, entry_width=2)\n"
   ]
  },
  {
   "cell_type": "code",
   "execution_count": 4,
   "id": "f68e1103",
   "metadata": {},
   "outputs": [
    {
     "ename": "NameError",
     "evalue": "name 'visualize_map_shapes' is not defined",
     "output_type": "error",
     "traceback": [
      "\u001b[0;31m---------------------------------------------------------------------------\u001b[0m",
      "\u001b[0;31mNameError\u001b[0m                                 Traceback (most recent call last)",
      "Cell \u001b[0;32mIn[4], line 1\u001b[0m\n\u001b[0;32m----> 1\u001b[0m \u001b[43mvisualize_map_shapes\u001b[49m(map_obj\u001b[38;5;241m.\u001b[39mgrid, obs\u001b[38;5;241m=\u001b[39mmap_obj\u001b[38;5;241m.\u001b[39mobstacles, start\u001b[38;5;241m=\u001b[39mmap_obj\u001b[38;5;241m.\u001b[39mstart, goal\u001b[38;5;241m=\u001b[39mmap_obj\u001b[38;5;241m.\u001b[39mgoal)\n",
      "\u001b[0;31mNameError\u001b[0m: name 'visualize_map_shapes' is not defined"
     ]
    }
   ],
   "source": [
    "visualize_map_shapes(map_obj.grid, obs=map_obj.obstacles, start=map_obj.start, goal=map_obj.goal)"
   ]
  },
  {
   "cell_type": "code",
   "execution_count": 10,
   "id": "b1849782",
   "metadata": {},
   "outputs": [],
   "source": [
    "# MapIO.save_map(map_obj, \"Maze_map_easy.pkl\")"
   ]
  },
  {
   "cell_type": "code",
   "execution_count": 5,
   "id": "a546e2cf",
   "metadata": {},
   "outputs": [
    {
     "name": "stdout",
     "output_type": "stream",
     "text": [
      "Start: (29, 10)\n",
      "Obstacles: 5\n",
      "(100, 100)\n"
     ]
    }
   ],
   "source": [
    "maze_map = MapIO.load_map(\"Maze_map_easy.pkl\")\n",
    "print(\"Start:\", maze_map.start)\n",
    "print(\"Obstacles:\", len(maze_map.obstacles))\n",
    "print(maze_map.grid.shape)"
   ]
  },
  {
   "cell_type": "code",
   "execution_count": null,
   "id": "96c42cb6",
   "metadata": {},
   "outputs": [],
   "source": [
    "maze_map = MapIO.load_map(\"Maze_map.pkl\")\n",
    "print(\"Start:\", maze_map.start)\n",
    "print(\"Obstacles:\", len(maze_map.obstacles))\n",
    "print(maze_map.grid.shape)"
   ]
  },
  {
   "cell_type": "code",
   "execution_count": 6,
   "id": "7704506e",
   "metadata": {},
   "outputs": [
    {
     "name": "stdout",
     "output_type": "stream",
     "text": [
      "Start: (80, 50)\n",
      "Obstacles: 5\n",
      "(100, 100)\n"
     ]
    }
   ],
   "source": [
    "narrow_map = MapIO.load_map(\"Narrow_map.pkl\")\n",
    "print(\"Start:\", narrow_map.start)\n",
    "print(\"Obstacles:\", len(narrow_map.obstacles))\n",
    "print(narrow_map.grid.shape)"
   ]
  },
  {
   "cell_type": "code",
   "execution_count": 7,
   "id": "9d427ae9",
   "metadata": {},
   "outputs": [
    {
     "name": "stdout",
     "output_type": "stream",
     "text": [
      "Start: (1, 1)\n",
      "Obstacles: 35\n",
      "(100, 100)\n"
     ]
    }
   ],
   "source": [
    "# 불러오기\n",
    "multi_obs_map = MapIO.load_map(\"Multi_obs_map.pkl\")\n",
    "print(\"Start:\", multi_obs_map.start)\n",
    "print(\"Obstacles:\", len(multi_obs_map.obstacles))\n",
    "print(multi_obs_map.grid.shape)"
   ]
  },
  {
   "cell_type": "code",
   "execution_count": 9,
   "id": "ad649024",
   "metadata": {},
   "outputs": [
    {
     "data": {
      "application/vnd.plotly.v1+json": {
       "config": {
        "plotlyServerURL": "https://plot.ly"
       },
       "data": [
        {
         "marker": {
          "color": "red",
          "size": 10
         },
         "mode": "markers",
         "name": "Start",
         "type": "scatter",
         "x": [
          1
         ],
         "y": [
          1
         ]
        },
        {
         "marker": {
          "color": "orange",
          "size": 10
         },
         "mode": "markers",
         "name": "Goal",
         "type": "scatter",
         "x": [
          99
         ],
         "y": [
          99
         ]
        }
       ],
       "layout": {
        "height": 600,
        "shapes": [
         {
          "fillcolor": "purple",
          "line": {
           "width": 0
          },
          "opacity": 0.5,
          "type": "rect",
          "x0": 48,
          "x1": 57,
          "y0": 70,
          "y1": 79
         },
         {
          "fillcolor": "purple",
          "line": {
           "width": 0
          },
          "opacity": 0.5,
          "type": "rect",
          "x0": 47,
          "x1": 52,
          "y0": 50,
          "y1": 64
         },
         {
          "fillcolor": "purple",
          "line": {
           "width": 0
          },
          "opacity": 0.5,
          "type": "rect",
          "x0": 79,
          "x1": 84,
          "y0": 71,
          "y1": 82
         },
         {
          "fillcolor": "purple",
          "line": {
           "width": 0
          },
          "opacity": 0.5,
          "type": "rect",
          "x0": 35,
          "x1": 42,
          "y0": 29,
          "y1": 41
         },
         {
          "fillcolor": "purple",
          "line": {
           "width": 0
          },
          "opacity": 0.5,
          "type": "rect",
          "x0": 18,
          "x1": 28,
          "y0": 67,
          "y1": 80
         },
         {
          "fillcolor": "purple",
          "line": {
           "width": 0
          },
          "opacity": 0.5,
          "type": "rect",
          "x0": 66,
          "x1": 75,
          "y0": 75,
          "y1": 82
         },
         {
          "fillcolor": "purple",
          "line": {
           "width": 0
          },
          "opacity": 0.5,
          "type": "rect",
          "x0": 68,
          "x1": 81,
          "y0": 83,
          "y1": 89
         },
         {
          "fillcolor": "purple",
          "line": {
           "width": 0
          },
          "opacity": 0.5,
          "type": "rect",
          "x0": 55,
          "x1": 67,
          "y0": 54,
          "y1": 60
         },
         {
          "fillcolor": "purple",
          "line": {
           "width": 0
          },
          "opacity": 0.5,
          "type": "rect",
          "x0": 49,
          "x1": 64,
          "y0": 22,
          "y1": 30
         },
         {
          "fillcolor": "purple",
          "line": {
           "width": 0
          },
          "opacity": 0.5,
          "type": "rect",
          "x0": 32,
          "x1": 47,
          "y0": 76,
          "y1": 86
         },
         {
          "fillcolor": "purple",
          "line": {
           "width": 0
          },
          "opacity": 0.5,
          "type": "rect",
          "x0": 41,
          "x1": 56,
          "y0": 0,
          "y1": 11
         },
         {
          "fillcolor": "purple",
          "line": {
           "width": 0
          },
          "opacity": 0.5,
          "type": "rect",
          "x0": 51,
          "x1": 63,
          "y0": 42,
          "y1": 47
         },
         {
          "fillcolor": "purple",
          "line": {
           "width": 0
          },
          "opacity": 0.5,
          "type": "rect",
          "x0": 14,
          "x1": 23,
          "y0": 46,
          "y1": 60
         },
         {
          "fillcolor": "purple",
          "line": {
           "width": 0
          },
          "opacity": 0.5,
          "type": "rect",
          "x0": 84,
          "x1": 91,
          "y0": 12,
          "y1": 24
         },
         {
          "fillcolor": "purple",
          "line": {
           "width": 0
          },
          "opacity": 0.5,
          "type": "rect",
          "x0": 20,
          "x1": 29,
          "y0": 17,
          "y1": 31
         },
         {
          "fillcolor": "purple",
          "line": {
           "width": 0
          },
          "opacity": 0.5,
          "type": "rect",
          "x0": 3,
          "x1": 12,
          "y0": 18,
          "y1": 32
         },
         {
          "fillcolor": "purple",
          "line": {
           "width": 0
          },
          "opacity": 0.5,
          "type": "rect",
          "x0": 9,
          "x1": 18,
          "y0": 66,
          "y1": 75
         },
         {
          "fillcolor": "purple",
          "line": {
           "width": 0
          },
          "opacity": 0.5,
          "type": "rect",
          "x0": 73,
          "x1": 80,
          "y0": 7,
          "y1": 14
         },
         {
          "fillcolor": "purple",
          "line": {
           "width": 0
          },
          "opacity": 0.5,
          "type": "rect",
          "x0": 32,
          "x1": 47,
          "y0": 11,
          "y1": 25
         },
         {
          "fillcolor": "purple",
          "line": {
           "width": 0
          },
          "opacity": 0.5,
          "type": "rect",
          "x0": 83,
          "x1": 94,
          "y0": 55,
          "y1": 68
         },
         {
          "fillcolor": "purple",
          "line": {
           "width": 0
          },
          "opacity": 0.5,
          "type": "rect",
          "x0": 30,
          "x1": 42,
          "y0": 51,
          "y1": 64
         },
         {
          "fillcolor": "purple",
          "line": {
           "width": 0
          },
          "opacity": 0.5,
          "type": "rect",
          "x0": 50,
          "x1": 62,
          "y0": 34,
          "y1": 42
         },
         {
          "fillcolor": "purple",
          "line": {
           "width": 0
          },
          "opacity": 0.5,
          "type": "rect",
          "x0": 34,
          "x1": 41,
          "y0": 69,
          "y1": 76
         },
         {
          "fillcolor": "purple",
          "line": {
           "width": 0
          },
          "opacity": 0.5,
          "type": "rect",
          "x0": 4,
          "x1": 16,
          "y0": 87,
          "y1": 96
         },
         {
          "fillcolor": "purple",
          "line": {
           "width": 0
          },
          "opacity": 0.5,
          "type": "rect",
          "x0": 78,
          "x1": 83,
          "y0": 23,
          "y1": 30
         },
         {
          "fillcolor": "purple",
          "line": {
           "width": 0
          },
          "opacity": 0.5,
          "type": "rect",
          "x0": 72,
          "x1": 79,
          "y0": 51,
          "y1": 60
         },
         {
          "fillcolor": "purple",
          "line": {
           "width": 0
          },
          "opacity": 0.5,
          "type": "rect",
          "x0": 48,
          "x1": 58,
          "y0": 16,
          "y1": 22
         },
         {
          "fillcolor": "purple",
          "line": {
           "width": 0
          },
          "opacity": 0.5,
          "type": "rect",
          "x0": 75,
          "x1": 88,
          "y0": 94,
          "y1": 99
         },
         {
          "fillcolor": "purple",
          "line": {
           "width": 0
          },
          "opacity": 0.5,
          "type": "rect",
          "x0": 62,
          "x1": 68,
          "y0": 82,
          "y1": 96
         },
         {
          "fillcolor": "purple",
          "line": {
           "width": 0
          },
          "opacity": 0.5,
          "type": "rect",
          "x0": 57,
          "x1": 62,
          "y0": 67,
          "y1": 78
         },
         {
          "fillcolor": "purple",
          "line": {
           "width": 0
          },
          "opacity": 0.5,
          "type": "rect",
          "x0": 2,
          "x1": 11,
          "y0": 33,
          "y1": 43
         },
         {
          "fillcolor": "purple",
          "line": {
           "width": 0
          },
          "opacity": 0.5,
          "type": "rect",
          "x0": 67,
          "x1": 76,
          "y0": 0,
          "y1": 7
         },
         {
          "fillcolor": "purple",
          "line": {
           "width": 0
          },
          "opacity": 0.5,
          "type": "rect",
          "x0": 28,
          "x1": 39,
          "y0": 42,
          "y1": 50
         },
         {
          "fillcolor": "purple",
          "line": {
           "width": 0
          },
          "opacity": 0.5,
          "type": "rect",
          "x0": 66,
          "x1": 71,
          "y0": 60,
          "y1": 72
         },
         {
          "fillcolor": "purple",
          "line": {
           "width": 0
          },
          "opacity": 0.5,
          "type": "rect",
          "x0": 7,
          "x1": 13,
          "y0": 52,
          "y1": 66
         },
         {
          "fillcolor": "rgba(0,0,0,0)",
          "layer": "above",
          "line": {
           "color": "white",
           "width": 3
          },
          "type": "rect",
          "x0": 0,
          "x1": 100,
          "y0": 0,
          "y1": 100
         }
        ],
        "template": {
         "data": {
          "bar": [
           {
            "error_x": {
             "color": "#2a3f5f"
            },
            "error_y": {
             "color": "#2a3f5f"
            },
            "marker": {
             "line": {
              "color": "#E5ECF6",
              "width": 0.5
             },
             "pattern": {
              "fillmode": "overlay",
              "size": 10,
              "solidity": 0.2
             }
            },
            "type": "bar"
           }
          ],
          "barpolar": [
           {
            "marker": {
             "line": {
              "color": "#E5ECF6",
              "width": 0.5
             },
             "pattern": {
              "fillmode": "overlay",
              "size": 10,
              "solidity": 0.2
             }
            },
            "type": "barpolar"
           }
          ],
          "carpet": [
           {
            "aaxis": {
             "endlinecolor": "#2a3f5f",
             "gridcolor": "white",
             "linecolor": "white",
             "minorgridcolor": "white",
             "startlinecolor": "#2a3f5f"
            },
            "baxis": {
             "endlinecolor": "#2a3f5f",
             "gridcolor": "white",
             "linecolor": "white",
             "minorgridcolor": "white",
             "startlinecolor": "#2a3f5f"
            },
            "type": "carpet"
           }
          ],
          "choropleth": [
           {
            "colorbar": {
             "outlinewidth": 0,
             "ticks": ""
            },
            "type": "choropleth"
           }
          ],
          "contour": [
           {
            "colorbar": {
             "outlinewidth": 0,
             "ticks": ""
            },
            "colorscale": [
             [
              0,
              "#0d0887"
             ],
             [
              0.1111111111111111,
              "#46039f"
             ],
             [
              0.2222222222222222,
              "#7201a8"
             ],
             [
              0.3333333333333333,
              "#9c179e"
             ],
             [
              0.4444444444444444,
              "#bd3786"
             ],
             [
              0.5555555555555556,
              "#d8576b"
             ],
             [
              0.6666666666666666,
              "#ed7953"
             ],
             [
              0.7777777777777778,
              "#fb9f3a"
             ],
             [
              0.8888888888888888,
              "#fdca26"
             ],
             [
              1,
              "#f0f921"
             ]
            ],
            "type": "contour"
           }
          ],
          "contourcarpet": [
           {
            "colorbar": {
             "outlinewidth": 0,
             "ticks": ""
            },
            "type": "contourcarpet"
           }
          ],
          "heatmap": [
           {
            "colorbar": {
             "outlinewidth": 0,
             "ticks": ""
            },
            "colorscale": [
             [
              0,
              "#0d0887"
             ],
             [
              0.1111111111111111,
              "#46039f"
             ],
             [
              0.2222222222222222,
              "#7201a8"
             ],
             [
              0.3333333333333333,
              "#9c179e"
             ],
             [
              0.4444444444444444,
              "#bd3786"
             ],
             [
              0.5555555555555556,
              "#d8576b"
             ],
             [
              0.6666666666666666,
              "#ed7953"
             ],
             [
              0.7777777777777778,
              "#fb9f3a"
             ],
             [
              0.8888888888888888,
              "#fdca26"
             ],
             [
              1,
              "#f0f921"
             ]
            ],
            "type": "heatmap"
           }
          ],
          "histogram": [
           {
            "marker": {
             "pattern": {
              "fillmode": "overlay",
              "size": 10,
              "solidity": 0.2
             }
            },
            "type": "histogram"
           }
          ],
          "histogram2d": [
           {
            "colorbar": {
             "outlinewidth": 0,
             "ticks": ""
            },
            "colorscale": [
             [
              0,
              "#0d0887"
             ],
             [
              0.1111111111111111,
              "#46039f"
             ],
             [
              0.2222222222222222,
              "#7201a8"
             ],
             [
              0.3333333333333333,
              "#9c179e"
             ],
             [
              0.4444444444444444,
              "#bd3786"
             ],
             [
              0.5555555555555556,
              "#d8576b"
             ],
             [
              0.6666666666666666,
              "#ed7953"
             ],
             [
              0.7777777777777778,
              "#fb9f3a"
             ],
             [
              0.8888888888888888,
              "#fdca26"
             ],
             [
              1,
              "#f0f921"
             ]
            ],
            "type": "histogram2d"
           }
          ],
          "histogram2dcontour": [
           {
            "colorbar": {
             "outlinewidth": 0,
             "ticks": ""
            },
            "colorscale": [
             [
              0,
              "#0d0887"
             ],
             [
              0.1111111111111111,
              "#46039f"
             ],
             [
              0.2222222222222222,
              "#7201a8"
             ],
             [
              0.3333333333333333,
              "#9c179e"
             ],
             [
              0.4444444444444444,
              "#bd3786"
             ],
             [
              0.5555555555555556,
              "#d8576b"
             ],
             [
              0.6666666666666666,
              "#ed7953"
             ],
             [
              0.7777777777777778,
              "#fb9f3a"
             ],
             [
              0.8888888888888888,
              "#fdca26"
             ],
             [
              1,
              "#f0f921"
             ]
            ],
            "type": "histogram2dcontour"
           }
          ],
          "mesh3d": [
           {
            "colorbar": {
             "outlinewidth": 0,
             "ticks": ""
            },
            "type": "mesh3d"
           }
          ],
          "parcoords": [
           {
            "line": {
             "colorbar": {
              "outlinewidth": 0,
              "ticks": ""
             }
            },
            "type": "parcoords"
           }
          ],
          "pie": [
           {
            "automargin": true,
            "type": "pie"
           }
          ],
          "scatter": [
           {
            "fillpattern": {
             "fillmode": "overlay",
             "size": 10,
             "solidity": 0.2
            },
            "type": "scatter"
           }
          ],
          "scatter3d": [
           {
            "line": {
             "colorbar": {
              "outlinewidth": 0,
              "ticks": ""
             }
            },
            "marker": {
             "colorbar": {
              "outlinewidth": 0,
              "ticks": ""
             }
            },
            "type": "scatter3d"
           }
          ],
          "scattercarpet": [
           {
            "marker": {
             "colorbar": {
              "outlinewidth": 0,
              "ticks": ""
             }
            },
            "type": "scattercarpet"
           }
          ],
          "scattergeo": [
           {
            "marker": {
             "colorbar": {
              "outlinewidth": 0,
              "ticks": ""
             }
            },
            "type": "scattergeo"
           }
          ],
          "scattergl": [
           {
            "marker": {
             "colorbar": {
              "outlinewidth": 0,
              "ticks": ""
             }
            },
            "type": "scattergl"
           }
          ],
          "scattermap": [
           {
            "marker": {
             "colorbar": {
              "outlinewidth": 0,
              "ticks": ""
             }
            },
            "type": "scattermap"
           }
          ],
          "scattermapbox": [
           {
            "marker": {
             "colorbar": {
              "outlinewidth": 0,
              "ticks": ""
             }
            },
            "type": "scattermapbox"
           }
          ],
          "scatterpolar": [
           {
            "marker": {
             "colorbar": {
              "outlinewidth": 0,
              "ticks": ""
             }
            },
            "type": "scatterpolar"
           }
          ],
          "scatterpolargl": [
           {
            "marker": {
             "colorbar": {
              "outlinewidth": 0,
              "ticks": ""
             }
            },
            "type": "scatterpolargl"
           }
          ],
          "scatterternary": [
           {
            "marker": {
             "colorbar": {
              "outlinewidth": 0,
              "ticks": ""
             }
            },
            "type": "scatterternary"
           }
          ],
          "surface": [
           {
            "colorbar": {
             "outlinewidth": 0,
             "ticks": ""
            },
            "colorscale": [
             [
              0,
              "#0d0887"
             ],
             [
              0.1111111111111111,
              "#46039f"
             ],
             [
              0.2222222222222222,
              "#7201a8"
             ],
             [
              0.3333333333333333,
              "#9c179e"
             ],
             [
              0.4444444444444444,
              "#bd3786"
             ],
             [
              0.5555555555555556,
              "#d8576b"
             ],
             [
              0.6666666666666666,
              "#ed7953"
             ],
             [
              0.7777777777777778,
              "#fb9f3a"
             ],
             [
              0.8888888888888888,
              "#fdca26"
             ],
             [
              1,
              "#f0f921"
             ]
            ],
            "type": "surface"
           }
          ],
          "table": [
           {
            "cells": {
             "fill": {
              "color": "#EBF0F8"
             },
             "line": {
              "color": "white"
             }
            },
            "header": {
             "fill": {
              "color": "#C8D4E3"
             },
             "line": {
              "color": "white"
             }
            },
            "type": "table"
           }
          ]
         },
         "layout": {
          "annotationdefaults": {
           "arrowcolor": "#2a3f5f",
           "arrowhead": 0,
           "arrowwidth": 1
          },
          "autotypenumbers": "strict",
          "coloraxis": {
           "colorbar": {
            "outlinewidth": 0,
            "ticks": ""
           }
          },
          "colorscale": {
           "diverging": [
            [
             0,
             "#8e0152"
            ],
            [
             0.1,
             "#c51b7d"
            ],
            [
             0.2,
             "#de77ae"
            ],
            [
             0.3,
             "#f1b6da"
            ],
            [
             0.4,
             "#fde0ef"
            ],
            [
             0.5,
             "#f7f7f7"
            ],
            [
             0.6,
             "#e6f5d0"
            ],
            [
             0.7,
             "#b8e186"
            ],
            [
             0.8,
             "#7fbc41"
            ],
            [
             0.9,
             "#4d9221"
            ],
            [
             1,
             "#276419"
            ]
           ],
           "sequential": [
            [
             0,
             "#0d0887"
            ],
            [
             0.1111111111111111,
             "#46039f"
            ],
            [
             0.2222222222222222,
             "#7201a8"
            ],
            [
             0.3333333333333333,
             "#9c179e"
            ],
            [
             0.4444444444444444,
             "#bd3786"
            ],
            [
             0.5555555555555556,
             "#d8576b"
            ],
            [
             0.6666666666666666,
             "#ed7953"
            ],
            [
             0.7777777777777778,
             "#fb9f3a"
            ],
            [
             0.8888888888888888,
             "#fdca26"
            ],
            [
             1,
             "#f0f921"
            ]
           ],
           "sequentialminus": [
            [
             0,
             "#0d0887"
            ],
            [
             0.1111111111111111,
             "#46039f"
            ],
            [
             0.2222222222222222,
             "#7201a8"
            ],
            [
             0.3333333333333333,
             "#9c179e"
            ],
            [
             0.4444444444444444,
             "#bd3786"
            ],
            [
             0.5555555555555556,
             "#d8576b"
            ],
            [
             0.6666666666666666,
             "#ed7953"
            ],
            [
             0.7777777777777778,
             "#fb9f3a"
            ],
            [
             0.8888888888888888,
             "#fdca26"
            ],
            [
             1,
             "#f0f921"
            ]
           ]
          },
          "colorway": [
           "#636efa",
           "#EF553B",
           "#00cc96",
           "#ab63fa",
           "#FFA15A",
           "#19d3f3",
           "#FF6692",
           "#B6E880",
           "#FF97FF",
           "#FECB52"
          ],
          "font": {
           "color": "#2a3f5f"
          },
          "geo": {
           "bgcolor": "white",
           "lakecolor": "white",
           "landcolor": "#E5ECF6",
           "showlakes": true,
           "showland": true,
           "subunitcolor": "white"
          },
          "hoverlabel": {
           "align": "left"
          },
          "hovermode": "closest",
          "mapbox": {
           "style": "light"
          },
          "paper_bgcolor": "white",
          "plot_bgcolor": "#E5ECF6",
          "polar": {
           "angularaxis": {
            "gridcolor": "white",
            "linecolor": "white",
            "ticks": ""
           },
           "bgcolor": "#E5ECF6",
           "radialaxis": {
            "gridcolor": "white",
            "linecolor": "white",
            "ticks": ""
           }
          },
          "scene": {
           "xaxis": {
            "backgroundcolor": "#E5ECF6",
            "gridcolor": "white",
            "gridwidth": 2,
            "linecolor": "white",
            "showbackground": true,
            "ticks": "",
            "zerolinecolor": "white"
           },
           "yaxis": {
            "backgroundcolor": "#E5ECF6",
            "gridcolor": "white",
            "gridwidth": 2,
            "linecolor": "white",
            "showbackground": true,
            "ticks": "",
            "zerolinecolor": "white"
           },
           "zaxis": {
            "backgroundcolor": "#E5ECF6",
            "gridcolor": "white",
            "gridwidth": 2,
            "linecolor": "white",
            "showbackground": true,
            "ticks": "",
            "zerolinecolor": "white"
           }
          },
          "shapedefaults": {
           "line": {
            "color": "#2a3f5f"
           }
          },
          "ternary": {
           "aaxis": {
            "gridcolor": "white",
            "linecolor": "white",
            "ticks": ""
           },
           "baxis": {
            "gridcolor": "white",
            "linecolor": "white",
            "ticks": ""
           },
           "bgcolor": "#E5ECF6",
           "caxis": {
            "gridcolor": "white",
            "linecolor": "white",
            "ticks": ""
           }
          },
          "title": {
           "x": 0.05
          },
          "xaxis": {
           "automargin": true,
           "gridcolor": "white",
           "linecolor": "white",
           "ticks": "",
           "title": {
            "standoff": 15
           },
           "zerolinecolor": "white",
           "zerolinewidth": 2
          },
          "yaxis": {
           "automargin": true,
           "gridcolor": "white",
           "linecolor": "white",
           "ticks": "",
           "title": {
            "standoff": 15
           },
           "zerolinecolor": "white",
           "zerolinewidth": 2
          }
         }
        },
        "title": {
         "text": "Map Visualization"
        },
        "width": 600,
        "xaxis": {
         "scaleanchor": "y",
         "showgrid": false
        },
        "yaxis": {
         "showgrid": false
        }
       }
      }
     },
     "metadata": {},
     "output_type": "display_data"
    }
   ],
   "source": [
    "visualize_map_shapes(multi_obs_map.grid, obs=multi_obs_map.obstacles, start=multi_obs_map.start, goal=multi_obs_map.goal)"
   ]
  },
  {
   "cell_type": "code",
   "execution_count": 48,
   "id": "55dd613b",
   "metadata": {},
   "outputs": [],
   "source": [
    "import pandas as pd\n",
    "import numpy as np\n",
    "import random\n",
    "import time\n",
    "from typing import Tuple, Literal, Union, Optional, List, Dict, NamedTuple, Callable, Any\n",
    "import plotly.express as px\n",
    "import math\n",
    "from eoh.problems.optimization.classic_benchmark_path_planning.utils.architecture_utils import PlannerResult\n",
    "class MultiMapBenchmarker:\n",
    "    def __init__(\n",
    "        self,\n",
    "        maps: List[np.ndarray],\n",
    "        name: str = \"Algorithm\",\n",
    "        learning_mode = True,\n",
    "        iter = 10,\n",
    "        seed = 42,\n",
    "    ):\n",
    "        self.set_seed(seed)\n",
    "\n",
    "        self.maps = maps\n",
    "        self.name = name\n",
    "        self.results_df: pd.DataFrame = pd.DataFrame()\n",
    "        self.iter = iter\n",
    "        self.learning_mode = learning_mode\n",
    "\n",
    "        self.time_limit = 5.0\n",
    "        self.success_limit = 0.8\n",
    "\n",
    "    def run(self, algorithm) -> pd.DataFrame:\n",
    "        results = []\n",
    "        main_start_time = time.time()\n",
    "        for i, map_ in enumerate(self.maps):\n",
    "            print(f\"Map {i+1}\")\n",
    "            for j in range(self.iter):\n",
    "                start_time = time.time()\n",
    "                try:\n",
    "                    output = algorithm(map_)\n",
    "                except Exception as e:\n",
    "                    output = {\"path\": [], \"nodes\": [], \"n_nodes\": 0}\n",
    "                end_time = time.time()\n",
    "\n",
    "\n",
    "                if isinstance(output, PlannerResult):\n",
    "                    path = output.path\n",
    "                    nodes = output.nodes\n",
    "                    num_nodes = len(nodes)\n",
    "                    success = self._is_path_valid(path, map_)\n",
    "                    path_length = self._compute_path_length(path)\n",
    "                    path_smoothness = self._compute_path_smoothness(path)\n",
    "                elif isinstance(output, Dict):\n",
    "                    path = output['path']\n",
    "                    nodes = output['nodes']\n",
    "                    num_nodes = len(nodes)\n",
    "                    success = self._is_path_valid(path, map_)\n",
    "                    path_length = self._compute_path_length(path)\n",
    "                    path_smoothness = self._compute_path_smoothness(path)\n",
    "                else:\n",
    "                    return None, None\n",
    "                \n",
    "                print(f\"Iteration {j+1}: Time taken: {end_time - start_time:.4f} seconds, Success: {success}\")\n",
    "\n",
    "                results.append({\n",
    "                    \"map_id\": i,\n",
    "                    \"iter\" : j,\n",
    "                    \"algorithm\": self.name,\n",
    "                    \"success\": success,\n",
    "                    \"time_taken\": end_time - start_time,\n",
    "                    \"num_nodes\": num_nodes,\n",
    "                    \"path_length\": path_length,\n",
    "                    \"path_smoothness\": path_smoothness,\n",
    "                })\n",
    "\n",
    "                time_taken_avg = np.mean([r[\"time_taken\"] for r in results])\n",
    "                success_avg = np.mean([r[\"success\"] for r in results]) if len(results) > 6 else 1.0\n",
    "                if time_taken_avg > self.time_limit:\n",
    "                    print(\"Time taken Limit\")\n",
    "                    return None, None\n",
    "                elif success_avg < self.success_limit:\n",
    "                    print(\"Success Rate Limit\")\n",
    "                    return None, None\n",
    "\n",
    "        print(f\"Total time taken for all maps: {time.time() - main_start_time:.4f} seconds\")\n",
    "\n",
    "        self.results_df = pd.DataFrame(results)\n",
    "        return self.results_df, self.get_avg()\n",
    "\n",
    "    def _compute_path_length(self, path: List[Tuple[float, ...]]) -> float:\n",
    "        if not path or len(path) < 2:\n",
    "            return 0.0\n",
    "        return sum(np.linalg.norm(np.array(path[i]) - np.array(path[i+1])) for i in range(len(path) - 1))\n",
    "    \n",
    "    def _is_path_valid(self, path: List[Tuple[float, ...]], map_) -> bool:\n",
    "        if not path or len(path) < 2:\n",
    "            return False\n",
    "        \n",
    "        if np.linalg.norm(np.array(path[0]) - np.array(map_.start)) > 0.5 or np.linalg.norm(np.array(path[-1]) - np.array(map_.goal)) > 0.5:\n",
    "            if np.linalg.norm(np.array(path[0]) - np.array(map_.goal)) > 0.5 or np.linalg.norm(np.array(path[-1]) - np.array(map_.start)) > 0.5:\n",
    "                return False\n",
    "            \n",
    "        is_3d = True if len(map_.size) > 2 else False\n",
    "        for i in range(len(path) - 1):\n",
    "            p1 = path[i]\n",
    "            p2 = path[i + 1]\n",
    "            if self._is_edge_in_obstacle(p1, p2, map_.obstacles, is_3d):\n",
    "                return False\n",
    "        return True\n",
    "    \n",
    "    def _is_in_obstacle(self, pos, obstacles, is_3d):\n",
    "        for obs in obstacles:\n",
    "            if is_3d:\n",
    "                x, y, z, w, h, d = obs\n",
    "                px, py, pz = pos\n",
    "                if x <= px <= x + w and y <= py <= y + h and z <= pz <= z + d:\n",
    "                    return True\n",
    "            else:\n",
    "                x, y, w, h = obs\n",
    "                px, py = pos\n",
    "                if x <= px <= x + w and y <= py <= y + h:\n",
    "                    return True\n",
    "        return False\n",
    "\n",
    "    def _is_edge_in_obstacle(self, from_pos, to_pos, obstacles, is_3d, resolution=1.0):\n",
    "        distance = math.dist(from_pos, to_pos)\n",
    "        steps = max(1, int(distance / resolution))\n",
    "        for i in range(steps + 1):\n",
    "            interp = tuple(from_pos[d] + (to_pos[d] - from_pos[d]) * (i / steps) for d in range(len(from_pos)))\n",
    "            if self._is_in_obstacle(interp, obstacles, is_3d):\n",
    "                return True\n",
    "        return False\n",
    "    \n",
    "    def _compute_path_smoothness(self, path: List[Tuple[float, ...]]) -> float:\n",
    "        \"\"\"\n",
    "        Compute smoothness based on total bending angles (smaller is smoother).\n",
    "        Returns a value where 1 = perfectly smooth (straight), 0 = very jagged.\n",
    "        \"\"\"\n",
    "        if not path or len(path) < 3:\n",
    "            return 1.0  # trivially smooth\n",
    "\n",
    "        total_angle = 0.0\n",
    "        for i in range(1, len(path) - 1):\n",
    "            p0 = np.array(path[i - 1])\n",
    "            p1 = np.array(path[i])\n",
    "            p2 = np.array(path[i + 1])\n",
    "\n",
    "            v1 = p0 - p1\n",
    "            v2 = p2 - p1\n",
    "\n",
    "            norm_v1 = np.linalg.norm(v1)\n",
    "            norm_v2 = np.linalg.norm(v2)\n",
    "            if norm_v1 == 0 or norm_v2 == 0:\n",
    "                continue  # ignore invalid\n",
    "\n",
    "            cosine = np.dot(v1, v2) / (norm_v1 * norm_v2)\n",
    "            cosine = np.clip(cosine, -1.0, 1.0)  # numerical safety\n",
    "            angle = np.arccos(cosine)\n",
    "            total_angle += angle\n",
    "\n",
    "        # Normalize to [0, 1]: smoothness = 1 / (1 + total_bend)\n",
    "        return 1.0 / (1.0 + total_angle)\n",
    "\n",
    "    def save_results(self, filename: str):\n",
    "        if self.results_df.empty:\n",
    "            raise RuntimeError(\"No results to save. Run benchmark first.\")\n",
    "        self.results_df.to_csv(filename, index=False)\n",
    "\n",
    "    def plot_metrics(self, metric: str = \"time_taken\"):\n",
    "        if self.results_df.empty:\n",
    "            raise RuntimeError(\"No results to plot. Run benchmark first.\")\n",
    "        if metric not in self.results_df.columns:\n",
    "            raise ValueError(f\"Invalid metric: {metric}\")\n",
    "\n",
    "        fig = px.bar(\n",
    "            self.results_df,\n",
    "            x=\"map_id\",\n",
    "            y=metric,\n",
    "            color=\"success\",\n",
    "            title=f\"{self.name} - {metric} per map\",\n",
    "            labels={\"map_id\": \"Map ID\", metric: metric.replace('_', ' ').title()}\n",
    "        )\n",
    "        fig.show()\n",
    "\n",
    "    def get_avg(self):\n",
    "        if self.results_df.empty:\n",
    "            raise RuntimeError(\"No results to save. Run benchmark first.\")\n",
    "\n",
    "        classic_summary = self.results_df.groupby('map_id').agg({\n",
    "            'success': 'mean',           # 성공률\n",
    "            'time_taken': 'mean',        # 평균 소요 시간\n",
    "            'num_nodes': 'mean',      # 평균 노드 수\n",
    "            'path_length': lambda x: x[x > 0].mean(),  # path=0 제외한 평균 경로 길이\n",
    "            'path_smoothness': 'mean' # 경로 부드러움\n",
    "        }).rename(columns={\n",
    "            'success': 'success_rate',\n",
    "            'time_taken': 'time_avg',\n",
    "            'num_nodes': 'num_nodes_avg',\n",
    "            'path_length': 'path_length_avg',\n",
    "            'path_smoothness': 'smoothness_avg'\n",
    "        }).reset_index()\n",
    "        return classic_summary\n",
    "    \n",
    "    @staticmethod\n",
    "    def get_improvement(reference_result:pd.DataFrame, results:pd.DataFrame) -> pd.DataFrame:\n",
    "        improvement_df = pd.DataFrame()\n",
    "        \n",
    "        improvement_df['success_improvement'] = (results['success_rate'] - reference_result['success_rate']) * 100 # percent point\n",
    "        improvement_df['time_improvement'] = (results['time_avg'] - reference_result['time_avg']) / reference_result['time_avg'] * -100\n",
    "        improvement_df['length_improvement'] = (results['path_length_avg'] - reference_result['path_length_avg']) / reference_result['path_length_avg'] * -100\n",
    "        improvement_df['smoothness_improvement'] = (results['smoothness_avg'] - reference_result['smoothness_avg']) / reference_result['smoothness_avg'] * 100\n",
    "\n",
    "        improvement_df['objective_score'] = (\n",
    "            5 * improvement_df['success_improvement'] +\n",
    "            0.3 * improvement_df['time_improvement'] +\n",
    "            0.2 * improvement_df['length_improvement'] +\n",
    "            0.005 * improvement_df['smoothness_improvement']\n",
    "            )\n",
    "\n",
    "        return improvement_df\n",
    "    \n",
    "    def set_seed(self, seed: int = 42):\n",
    "        random.seed(seed)                    # Python random\n",
    "        np.random.seed(seed)                 # NumPy"
   ]
  },
  {
   "cell_type": "markdown",
   "id": "88f151cd",
   "metadata": {},
   "source": [
    "## Generate templete"
   ]
  },
  {
   "cell_type": "code",
   "execution_count": null,
   "id": "2cf16c85",
   "metadata": {},
   "outputs": [],
   "source": [
    "# --- PlannerResult structure ---\n",
    "class PlannerResult(NamedTuple):\n",
    "    success: bool                       # Path navigation success or not\n",
    "    path: List[Tuple[float, ...]]       # Final path from start to goal\n",
    "    nodes: List[Node]                   # All explored nodes\n",
    "    edges: List[Tuple[Node, Node]]      # Parent-child connections\n",
    "\n",
    "\n",
    "# --- Node class ---\n",
    "class Node:\n",
    "    def __init__(self, position, parent=None, cost=0.0):\n",
    "        self.position = position        # Tuple[float, ...] → 2D: (x,y), 3D: (x,y,z)\n",
    "        self.parent = parent            # Node or None\n",
    "        self.cost = cost                # Path cost\n",
    "        self.children = []\n",
    "        self.valid = True               # For collision checking etc.\n",
    "\n",
    "    #### Create additional methods if needed ####\n",
    "\n",
    "# --- Main Planner ---\n",
    "class Planner:\n",
    "    def __init__(self, max_iter: int = 5000):\n",
    "        self.max_iter = max_iter\n",
    "\n",
    "    def plan(self, map: Map) -> PlannerResult:\n",
    "        bounds = map.size                  # Tuple[int, ...]: (W,H) or (W,H,D)\n",
    "        start_position = map.start         # Tuple[float, ...] (W,H) or (W,H,D)\n",
    "        goal_position = map.goal           # Tuple[float, ...] (W,H) or (W,H,D)\n",
    "        obstacles = map.obstacles          # Rectangular blocks: 2D=(x,y,w,h), 3D=(x,y,z,w,h,d)\n",
    "\n",
    "        is_3d = len(bounds) == 3\n",
    "\n",
    "        # Core data\n",
    "        success_state = False # Path navigation success or not\n",
    "        extracted_path: List[Tuple[float, ...]] = [] # Final path from start to goal\n",
    "        nodes: List[Node] = [] # All explored nodes\n",
    "        edges: List[Tuple[Node, Node]] = [] # Parent-child connections\n",
    "\n",
    "        #### Place holder: path planning logic ####\n",
    "\n",
    "        return PlannerResult(\n",
    "            success=success_state,\n",
    "            path=extracted_path,\n",
    "            nodes=nodes,\n",
    "            edges=edges\n",
    "        )\n",
    "    \n",
    "    def _is_in_obstacle(self, pos, obstacles, is_3d):\n",
    "        for obs in obstacles:\n",
    "            if is_3d:\n",
    "                x, y, z, w, h, d = obs\n",
    "                px, py, pz = pos\n",
    "                if x <= px <= x + w and y <= py <= y + h and z <= pz <= z + d:\n",
    "                    return True\n",
    "            else:\n",
    "                x, y, w, h = obs\n",
    "                px, py = pos\n",
    "                if x <= px <= x + w and y <= py <= y + h:\n",
    "                    return True\n",
    "        return False\n",
    "\n",
    "    def _is_edge_in_obstacle(self, from_pos, to_pos, obstacles, is_3d, resolution=1.0):\n",
    "        distance = math.dist(from_pos, to_pos)\n",
    "        steps = max(1, int(distance / resolution))\n",
    "        for i in range(steps + 1):\n",
    "            interp = tuple(from_pos[d] + (to_pos[d] - from_pos[d]) * (i / steps) for d in range(len(from_pos)))\n",
    "            if self._is_in_obstacle(interp, obstacles, is_3d):\n",
    "                return True\n",
    "        return False"
   ]
  },
  {
   "cell_type": "code",
   "execution_count": 15,
   "id": "d5b1a266",
   "metadata": {},
   "outputs": [],
   "source": [
    "json_path = './eoh/src/eoh/problems/optimization/classic_benchmark_path_planning/utils/classic_method.json'"
   ]
  },
  {
   "cell_type": "code",
   "execution_count": 282,
   "id": "c92d2b7f",
   "metadata": {},
   "outputs": [],
   "source": [
    "result = {\n",
    "    \"algorithm\": \"Improved-RRT*-Connect\",\n",
    "    \"algorithm_description\": \"Improved RRT*-Connect is a bidirectional, asymptotically optimal planner that enhances RRT*-Connect by incorporating informed heuristic sampling, adaptive step size, node rejection, and pruning. It accelerates convergence and improves success rate in narrow, obstacle-rich environments.\",\n",
    "    \"planning_mechanism\": \"The planner grows two trees from start and goal using informed sampling. During expansion, it adaptively adjusts the step size near obstacles, rejects inefficient new nodes, and prunes branches that cannot contribute to an improved solution. The planner rewires nearby nodes only if doing so reduces path cost, and updates the current best path whenever a successful connection is found.\",\n",
    "    \"code\": '''\n",
    "class Node:\n",
    "    def __init__(self, position, parent=None, cost=0.0):\n",
    "        self.position = position\n",
    "        self.parent = parent\n",
    "        self.cost = cost\n",
    "        self.children = []\n",
    "        self.valid = True\n",
    "\n",
    "    def add_child(self, child):\n",
    "        self.children.append(child)\n",
    "        child.parent = self\n",
    "\n",
    "    def path_from_root(self):\n",
    "        node, path = self, []\n",
    "        while node:\n",
    "            path.append(node.position)\n",
    "            node = node.parent\n",
    "        return path[::-1]\n",
    "\n",
    "\n",
    "class Planner:\n",
    "    def __init__(self, max_iter=5000, step_size=5.0, rewire_radius=15.0):\n",
    "        self.max_iter = max_iter\n",
    "        self.base_step = step_size\n",
    "        self.rewire_radius = rewire_radius\n",
    "\n",
    "    def plan(self, map):\n",
    "        import math, random, numpy as np\n",
    "\n",
    "        bounds = map.size\n",
    "        start, goal = map.start, map.goal\n",
    "        obstacles = map.obstacles\n",
    "        is_3d = len(bounds) == 3\n",
    "        dim = len(bounds)\n",
    "\n",
    "        tree_a, tree_b = [Node(start)], [Node(goal)]\n",
    "        nodes = [tree_a[0], tree_b[0]]\n",
    "        edges = []\n",
    "        success, c_best, best_path = False, float(\"inf\"), []\n",
    "        c_min = math.dist(start, goal)\n",
    "\n",
    "        for i in range(self.max_iter):\n",
    "            tree_a, tree_b = (tree_a, tree_b) if i % 2 == 0 else (tree_b, tree_a)\n",
    "\n",
    "            sample = self._informed_sample(start, goal, c_best, c_min, bounds, dim)\n",
    "            nearest = min(tree_a, key=lambda n: math.dist(n.position, sample))\n",
    "\n",
    "            step = self._adaptive_step(nearest.position, sample, obstacles, is_3d)\n",
    "            new_pos = self._steer(nearest.position, sample, step)\n",
    "\n",
    "            if self._is_in_obstacle(new_pos, obstacles, is_3d):\n",
    "                continue\n",
    "            if self._is_edge_in_obstacle(nearest.position, new_pos, obstacles, is_3d):\n",
    "                continue\n",
    "\n",
    "            cost = nearest.cost + math.dist(nearest.position, new_pos)\n",
    "            if cost + math.dist(new_pos, goal) >= c_best:\n",
    "                continue  # pruning\n",
    "\n",
    "            new_node = Node(new_pos, nearest, cost)\n",
    "            nearest.add_child(new_node)\n",
    "            tree_a.append(new_node)\n",
    "            nodes.append(new_node)\n",
    "            edges.append((nearest, new_node))\n",
    "\n",
    "            near_nodes = [n for n in tree_a if math.dist(n.position, new_node.position) <= self.rewire_radius]\n",
    "            for near in near_nodes:\n",
    "                new_cost = new_node.cost + math.dist(new_node.position, near.position)\n",
    "                if new_cost < near.cost and not self._is_edge_in_obstacle(new_node.position, near.position, obstacles, is_3d):\n",
    "                    if near.parent:\n",
    "                        near.parent.children.remove(near)\n",
    "                        edges.remove((near.parent, near))\n",
    "                    near.parent = new_node\n",
    "                    near.cost = new_cost\n",
    "                    new_node.add_child(near)\n",
    "                    edges.append((new_node, near))\n",
    "\n",
    "            # Try to connect to the other tree\n",
    "            other_nearest = min(tree_b, key=lambda n: math.dist(n.position, new_node.position))\n",
    "            connect_cost = new_node.cost + math.dist(new_node.position, other_nearest.position) + other_nearest.cost\n",
    "            if connect_cost < c_best and not self._is_edge_in_obstacle(new_node.position, other_nearest.position, obstacles, is_3d):\n",
    "                c_best = connect_cost\n",
    "                path_a = new_node.path_from_root()\n",
    "                path_b = other_nearest.path_from_root()\n",
    "                best_path = path_a + path_b[::-1]\n",
    "                success = True\n",
    "\n",
    "        return PlannerResult(success=success, path=best_path, nodes=nodes, edges=edges)\n",
    "\n",
    "    def _informed_sample(self, start, goal, c_best, c_min, bounds, dim):\n",
    "        import numpy as np, math, random\n",
    "        if c_best == float(\"inf\"):\n",
    "            return tuple(random.uniform(0, bounds[d]) for d in range(dim))\n",
    "        x_center = [(s + g) / 2 for s, g in zip(start, goal)]\n",
    "        a1 = np.array(goal) - np.array(start)\n",
    "        a1 = a1 / np.linalg.norm(a1)\n",
    "        M = np.outer(a1, np.eye(dim)[0])\n",
    "        U, _, Vt = np.linalg.svd(M)\n",
    "        C = U @ np.diag([1] * (dim - 1) + [np.linalg.det(U) * np.linalg.det(Vt)]) @ Vt\n",
    "        r1 = c_best / 2\n",
    "        r2 = math.sqrt(c_best**2 - c_min**2) / 2\n",
    "        L = np.diag([r1] + [r2] * (dim - 1))\n",
    "        while True:\n",
    "            x_ball = np.random.normal(0, 1, dim)\n",
    "            x_ball /= np.linalg.norm(x_ball)\n",
    "            x_ball *= random.random() ** (1 / dim)\n",
    "            x_rand = C @ L @ x_ball + x_center\n",
    "            if all(0 <= x_rand[d] <= bounds[d] for d in range(dim)):\n",
    "                return tuple(x_rand)\n",
    "\n",
    "    def _adaptive_step(self, from_pos, to_pos, obstacles, is_3d):\n",
    "        import math\n",
    "        distance = math.dist(from_pos, to_pos)\n",
    "        steps = max(2, int(distance))\n",
    "        for i in range(1, steps + 1):\n",
    "            interp = tuple(from_pos[d] + (to_pos[d] - from_pos[d]) * (i / steps) for d in range(len(from_pos)))\n",
    "            if self._is_in_obstacle(interp, obstacles, is_3d):\n",
    "                return max(self.base_step * 0.3, 1.0)\n",
    "        return self.base_step\n",
    "\n",
    "    def _steer(self, from_pos, to_pos, step):\n",
    "        import math\n",
    "        dist = math.dist(from_pos, to_pos)\n",
    "        if dist <= step:\n",
    "            return to_pos\n",
    "        return tuple(from_pos[d] + (to_pos[d] - from_pos[d]) * step / dist for d in range(len(from_pos)))\n",
    "\n",
    "    def _is_in_obstacle(self, pos, obstacles, is_3d):\n",
    "        for obs in obstacles:\n",
    "            if is_3d:\n",
    "                x, y, z, w, h, d = obs\n",
    "                px, py, pz = pos\n",
    "                if x <= px <= x + w and y <= py <= y + h and z <= pz <= z + d:\n",
    "                    return True\n",
    "            else:\n",
    "                x, y, w, h = obs\n",
    "                px, py = pos\n",
    "                if x <= px <= x + w and y <= py <= y + h:\n",
    "                    return True\n",
    "        return False\n",
    "\n",
    "    def _is_edge_in_obstacle(self, from_pos, to_pos, obstacles, is_3d, resolution=1.0):\n",
    "        import math\n",
    "        distance = math.dist(from_pos, to_pos)\n",
    "        steps = max(1, int(distance / resolution))\n",
    "        for i in range(steps + 1):\n",
    "            interp = tuple(from_pos[d] + (to_pos[d] - from_pos[d]) * (i / steps) for d in range(len(from_pos)))\n",
    "            if self._is_in_obstacle(interp, obstacles, is_3d):\n",
    "                return True\n",
    "        return False\n",
    "\n",
    "    '''\n",
    "}\n",
    "\n",
    "# 저장\n",
    "with open(json_path, \"a\") as f:\n",
    "    json.dump(result, f, indent=4)\n",
    "    f.write(\",\\n\")"
   ]
  },
  {
   "cell_type": "code",
   "execution_count": 49,
   "id": "8ff23a4e",
   "metadata": {},
   "outputs": [
    {
     "name": "stdout",
     "output_type": "stream",
     "text": [
      "dict_keys(['algorithm', 'algorithm_description', 'planning_mechanism', 'code'])\n"
     ]
    }
   ],
   "source": [
    "json_path = './eoh/src/eoh/problems/optimization/classic_benchmark_path_planning/utils/classic_method.json'\n",
    "with open(json_path, \"r\") as f:\n",
    "    classic_method = json.load(f)\n",
    "\n",
    "print(classic_method[0].keys())"
   ]
  },
  {
   "cell_type": "code",
   "execution_count": null,
   "id": "9afaf193",
   "metadata": {},
   "outputs": [],
   "source": [
    "Instruction : Generate Improved-RRT*-Connect algorithm\n",
    "\n",
    "Refer to below architecture:\n",
    "!!!!!generate Only class Node and Planner!!!!!!\n",
    "# --- Node class ---\n",
    "class Node:\n",
    "    def __init__(self, position, parent=None, cost=0.0):\n",
    "        self.position = position        # Tuple[float, ...] → 2D: (x,y), 3D: (x,y,z)\n",
    "        self.parent = parent            # Node or None\n",
    "        self.cost = cost                # Path cost\n",
    "        self.children = []\n",
    "        self.valid = True               # For collision checking etc.\n",
    "\n",
    "    #### Create additional methods if needed ####\n",
    "\n",
    "# --- PlannerResult structure ---\n",
    "class PlannerResult(NamedTuple):\n",
    "    success: bool                       # Path navigation success or not\n",
    "    path: List[Tuple[float, ...]]       # Final path from start to goal\n",
    "    nodes: List[Node]                   # All explored nodes\n",
    "    edges: List[Tuple[Node, Node]]      # Parent-child connections\n",
    "\n",
    "# --- Main Planner ---\n",
    "class Planner:\n",
    "    def __init__(self, max_iter: int = 5000, step_size: float=5.0):\n",
    "        self.max_iter = max_iter\n",
    "        self.step_size = step_size\n",
    "\n",
    "    def plan(self, map: Map) -> PlannerResult:\n",
    "        bounds = map.size                  # Tuple[int, ...]: (W,H) or (W,H,D)\n",
    "        start_position = map.start         # Tuple[float, ...] (W,H) or (W,H,D)\n",
    "        goal_position = map.goal           # Tuple[float, ...] (W,H) or (W,H,D)\n",
    "        obstacles = map.obstacles          # Rectangular blocks: 2D=(x,y,w,h), 3D=(x,y,z,w,h,d)\n",
    "\n",
    "        is_3d = len(bounds) == 3\n",
    "\n",
    "        # Core data\n",
    "        success_state = False # Path navigation success or not\n",
    "        extracted_path: List[Tuple[float, ...]] = [] # Final path from start to goal\n",
    "        nodes: List[Node] = [] # All explored nodes\n",
    "        edges: List[Tuple[Node, Node]] = [] # Parent-child connections\n",
    "\n",
    "        #### Place holder: path planning logic ####\n",
    "\n",
    "        return PlannerResult(\n",
    "            success=success_state,\n",
    "            path=extracted_path,\n",
    "            nodes=nodes,\n",
    "            edges=edges\n",
    "        )\n",
    "\n",
    "    def _is_in_obstacle(self, pos, obstacles, is_3d):\n",
    "        for obs in obstacles:\n",
    "            if is_3d:\n",
    "                x, y, z, w, h, d = obs\n",
    "                px, py, pz = pos\n",
    "                if x <= px <= x + w and y <= py <= y + h and z <= pz <= z + d:\n",
    "                    return True\n",
    "            else:\n",
    "                x, y, w, h = obs\n",
    "                px, py = pos\n",
    "                if x <= px <= x + w and y <= py <= y + h:\n",
    "                    return True\n",
    "        return False\n",
    "\n",
    "    def _is_edge_in_obstacle(self, from_pos, to_pos, obstacles, is_3d, resolution=1.0):\n",
    "        distance = math.dist(from_pos, to_pos)\n",
    "        steps = max(1, int(distance / resolution))\n",
    "        for i in range(steps + 1):\n",
    "            interp = tuple(from_pos[d] + (to_pos[d] - from_pos[d]) * (i / steps) for d in range(len(from_pos)))\n",
    "            if self._is_in_obstacle(interp, obstacles, is_3d):\n",
    "                return True\n",
    "        return False\n",
    "\n",
    "### Objective:\n",
    "- Improve path planning performance in terms of:\n",
    "  - Planning efficiency\n",
    "  - Path quality\n",
    "  - Robustness\n",
    "  - Success rate\n",
    "  - Path smoothness\n",
    "  - Path lengths\n",
    "  - Reduce search time\n",
    "\n",
    "### Constraints:\n",
    "- Implement it in Python.\n",
    "- You DO NOT NEED to declare the any imports.\n",
    "- When connecting nodes and adding edges in the planner, always perform two critical checks:\n",
    "1.Collision check for the node position: Ensure that the new node itself does not lie inside any obstacle.\n",
    "2.Edge-obstacle intersection check: Before adding an edge between two nodes, verify that the straight-line path between them does not intersect or pass through any obstacle.\n",
    "- DO NOT OVER MAP BOUND\n",
    "- After code generation, you must review the code to ensure it is syntactically correct, logically coherent, and executable within the expected environment.\n",
    "- At the top of your response, write an description of the algorithm in curly braces {}, followed by a concise explanation of the planning mechanism in angle brackets <>.\n",
    "- Both the description and the planning mechanism should be placed outside and above the code block.\n",
    "- Output the code block containing the implementation only.\n",
    "⚠️ Do not give additional explanations.\n"
   ]
  },
  {
   "cell_type": "code",
   "execution_count": 32,
   "id": "4869bf88",
   "metadata": {},
   "outputs": [
    {
     "data": {
      "text/plain": [
       "dict_keys(['operator', 'algorithm_description', 'planning_mechanism', 'code', 'objective', 'time_improvement', 'length_improvement', 'other_inf', 'success_rate'])"
      ]
     },
     "execution_count": 32,
     "metadata": {},
     "output_type": "execute_result"
    }
   ],
   "source": [
    "filtered_sorted_algorithms[0].keys()"
   ]
  },
  {
   "cell_type": "code",
   "execution_count": 87,
   "id": "cf0f96a0",
   "metadata": {},
   "outputs": [
    {
     "name": "stdout",
     "output_type": "stream",
     "text": [
      "alg load\n"
     ]
    }
   ],
   "source": [
    "for alg in filtered_sorted_algorithms:\n",
    "    if alg['objective'] == -4.59249:\n",
    "        print(\"alg load\")\n",
    "        result = alg\n",
    "\n",
    "code_string = result['code']\n",
    "with warnings.catch_warnings():\n",
    "    warnings.simplefilter(\"ignore\")\n",
    "    planning_module = types.ModuleType(\"planning_module\")\n",
    "    exec(import_string+code_string, planning_module.__dict__)\n",
    "    sys.modules[planning_module.__name__] = planning_module\n",
    "    p = planning_module.Planner(max_iter=5000, step_size=5.0)\n"
   ]
  },
  {
   "cell_type": "code",
   "execution_count": 43,
   "id": "80c613a0",
   "metadata": {},
   "outputs": [
    {
     "ename": "NameError",
     "evalue": "name 'Planner' is not defined",
     "output_type": "error",
     "traceback": [
      "\u001b[0;31m---------------------------------------------------------------------------\u001b[0m",
      "\u001b[0;31mNameError\u001b[0m                                 Traceback (most recent call last)",
      "Cell \u001b[0;32mIn[43], line 1\u001b[0m\n\u001b[0;32m----> 1\u001b[0m p \u001b[38;5;241m=\u001b[39m \u001b[43mPlanner\u001b[49m(max_iter\u001b[38;5;241m=\u001b[39m\u001b[38;5;241m5000\u001b[39m, step_size\u001b[38;5;241m=\u001b[39m\u001b[38;5;241m5\u001b[39m)\n\u001b[1;32m      2\u001b[0m \u001b[38;5;66;03m# p = planning_module.Planner()\u001b[39;00m\n",
      "\u001b[0;31mNameError\u001b[0m: name 'Planner' is not defined"
     ]
    }
   ],
   "source": [
    "p = Planner(max_iter=5000, step_size=5)\n",
    "# p = planning_module.Planner()"
   ]
  },
  {
   "cell_type": "code",
   "execution_count": 88,
   "id": "4cb021ba",
   "metadata": {},
   "outputs": [],
   "source": [
    "result = p.plan(map=multi_obs_map)"
   ]
  },
  {
   "cell_type": "code",
   "execution_count": 89,
   "id": "d502c93b",
   "metadata": {},
   "outputs": [],
   "source": [
    "result2 = p.plan(map=maze_map)"
   ]
  },
  {
   "cell_type": "code",
   "execution_count": 94,
   "id": "6f02af64",
   "metadata": {},
   "outputs": [],
   "source": [
    "result3 = p.plan(map=narrow_map)"
   ]
  },
  {
   "cell_type": "code",
   "execution_count": 91,
   "id": "b4c7cc33",
   "metadata": {},
   "outputs": [
    {
     "data": {
      "application/vnd.plotly.v1+json": {
       "config": {
        "plotlyServerURL": "https://plot.ly"
       },
       "data": [
        {
         "marker": {
          "color": "blue",
          "size": 4
         },
         "mode": "markers",
         "name": "nodes",
         "type": "scatter",
         "x": [
          1,
          99,
          4.844942456899986,
          95.47662310469555,
          91.9532462093911,
          88.42986931408664,
          84.9064924187822,
          8.368319352204438,
          13.238967490540634,
          18.20297446520194,
          22.852641008057347,
          86.14562089831766,
          26.126566796307404,
          29.400492584557462,
          80.34970254834764,
          75.49651904353892,
          99,
          31.807717995521195,
          30.708673620217763,
          88.52169520675785,
          34.43123939251852,
          88.00167101938716,
          99,
          34.617543932349705,
          33.33174975299175,
          88.41050690209303,
          88.26506027326737,
          31.10637735091756,
          28.445385671234302,
          89.0207226753543,
          99,
          15.287946806865639,
          23.478752376166195,
          76.65861721972146,
          72.85767862436123,
          23.568474046703447,
          1,
          71.7119232096376,
          99.50810981727452,
          28.368549289541367,
          25.88400638851064,
          68.10503733820804,
          99,
          23.598085350952147,
          63.81788235243613,
          23.051269337179516,
          22.94314798998315,
          99,
          99,
          23.638620654930833,
          9.27581981462071,
          77.88672764816253,
          99,
          26.95025671985087,
          24.154624555378284,
          99,
          97.91299487493804,
          30.497685119472195,
          27.717905724144007,
          99,
          32.20686371135675,
          36.6958216985695,
          99,
          99,
          96.65270636596011,
          18.713961392618682,
          41.46670473330447,
          96.8057711911946,
          46.257543144407265,
          51.04838155551006,
          99,
          99,
          99,
          54.554848792258,
          50.40193458638967,
          77.37571461603268,
          95.79462181472333,
          57.70193891514389,
          1,
          72.74187111485246,
          62.20954573608018,
          99,
          65.85757558712771,
          99,
          73.41104227731299,
          45.9839368903101,
          25.18748292780978,
          72.27683755312474,
          99,
          65.32458757836689,
          5.545387355190076,
          68.18186951653085,
          4.157766619882775,
          83.28524443172275,
          68.87225849372604,
          1,
          64.88049174072951,
          46.84887862147944,
          30.312535592870407,
          64.25708585079373,
          97.29808709680184,
          24.82579028737666,
          49.349685038439674,
          77.54846049858288,
          66.89889227488078,
          1,
          62.595347643864294,
          27.291211779977388,
          28.035763164710048,
          97.90516776772348,
          64.66048023104698,
          19.17250302590156,
          16.242436752582275,
          60.37899278659137,
          1,
          55.88722479757384,
          69.24632539308567,
          18.610468625214576,
          50.937592452865,
          45.98796010815615,
          53.55994372208338,
          1,
          23.63772460151935,
          42.34026539771432,
          1,
          43.00041340902682,
          94.64730862073554,
          29.495309968930055,
          14.172641201693699,
          45.965170718167535,
          74.01827770518182,
          15.769469007864622,
          1,
          80.6566544005409,
          62.66551167366832,
          63.04721686448964,
          62.66551167366832
         ],
         "y": [
          1,
          99,
          4.196313110933893,
          95.45235074258534,
          91.90470148517068,
          88.35705222775601,
          84.80940297034135,
          7.74396236834855,
          8.873912240034075,
          8.275051024464153,
          10.11369210968199,
          83.17244507033388,
          13.892767384538425,
          17.671842659394862,
          82.75132958080808,
          81.54857862210856,
          99,
          22.05422395508451,
          26.931938733657965,
          78.77309615478167,
          30.269977689526346,
          73.80021219830837,
          99,
          35.266505545791965,
          40.09835129336392,
          68.81695490804007,
          92.251105520936,
          31.438591175491037,
          31.465451026344716,
          96.29894381300642,
          99,
          13.434798531235854,
          32.04212572868644,
          76.6855006020771,
          73.43698312570407,
          7.8106970105310864,
          1,
          68.57002878755465,
          93.6886369301161,
          39.49284228467294,
          43.83185675491129,
          74.9901736501254,
          99,
          48.27871688426633,
          72.41717887205625,
          53.24872616464819,
          40.32016308919874,
          99,
          99,
          6.188063360801999,
          9.933848958332291,
          81.22777188169832,
          99,
          56.37888548803247,
          60.5242975062722,
          99,
          88.94990204401677,
          22.41333426950569,
          64.03186465635208,
          99,
          66.23396733085181,
          68.43607000535155,
          99,
          99,
          84.11134101059596,
          12.991878076126817,
          66.93984974453494,
          83.46978731213139,
          68.37088689244622,
          69.8019240403575,
          99,
          99,
          99,
          66.23756049021097,
          68.4551911197186,
          79.36829137668784,
          85.24958155813542,
          62.3522260440617,
          1,
          69.57146591053241,
          64.51589902024102,
          99,
          67.93523787532195,
          99,
          63.86758321170139,
          70.67334340015466,
          54.29413956666834,
          60.01642904093648,
          99,
          60.60482316815083,
          13.263094167929552,
          57.14741583440109,
          0.3274200003401617,
          92.69991971890795,
          52.1953089029862,
          1,
          49.18436250863249,
          74.87485815325488,
          70.86122580423667,
          44.22337822157882,
          89.19283573725536,
          42.2151186205523,
          66.10637613830772,
          61.51873106397644,
          39.97828001097728,
          1,
          37.43279310100324,
          66.84305306538475,
          75.31277691709259,
          85.68404056247735,
          32.87919810393157,
          60.94674876443639,
          3.675454098928606,
          30.296783485213467,
          1,
          32.49314874009196,
          30.886706159203484,
          37.82458910269612,
          33.20106091841071,
          33.90897309672946,
          68.78162587786217,
          1,
          12.955734019202536,
          30.489276721403918,
          1,
          37.918282852849764,
          88.71697911227272,
          80.09500684948722,
          60.98392051216031,
          31.8130860840375,
          32.379512620564164,
          33.71013638402048,
          1,
          57.602210839615154,
          72.63235940196417,
          72.07068027609265,
          72.63235940196417
         ]
        },
        {
         "line": {
          "color": "green"
         },
         "marker": {
          "size": 6
         },
         "mode": "lines+markers",
         "name": "Path",
         "type": "scatter",
         "x": [
          99,
          95.47662310469555,
          91.9532462093911,
          88.42986931408664,
          80.34970254834764,
          75.49651904353892,
          76.65861721972146,
          72.85767862436123,
          68.10503733820804,
          63.81788235243613,
          62.66551167366832,
          63.04721686448964,
          65.85757558712771,
          57.70193891514389,
          54.554848792258,
          27.717905724144007,
          24.154624555378284,
          26.95025671985087,
          13.238967490540634,
          1
         ],
         "y": [
          99,
          95.45235074258534,
          91.90470148517068,
          88.35705222775601,
          82.75132958080808,
          81.54857862210856,
          76.6855006020771,
          73.43698312570407,
          74.9901736501254,
          72.41717887205625,
          72.63235940196417,
          72.07068027609265,
          67.93523787532195,
          62.3522260440617,
          66.23756049021097,
          64.03186465635208,
          60.5242975062722,
          56.37888548803247,
          8.873912240034075,
          1
         ]
        },
        {
         "hoverinfo": "skip",
         "line": {
          "color": "lightblue",
          "width": 1
         },
         "mode": "lines",
         "showlegend": false,
         "type": "scatter",
         "x": [
          1,
          4.844942456899986
         ],
         "y": [
          1,
          4.196313110933893
         ]
        },
        {
         "hoverinfo": "skip",
         "line": {
          "color": "lightblue",
          "width": 1
         },
         "mode": "lines",
         "showlegend": false,
         "type": "scatter",
         "x": [
          99,
          95.47662310469555
         ],
         "y": [
          99,
          95.45235074258534
         ]
        },
        {
         "hoverinfo": "skip",
         "line": {
          "color": "lightblue",
          "width": 1
         },
         "mode": "lines",
         "showlegend": false,
         "type": "scatter",
         "x": [
          95.47662310469555,
          91.9532462093911
         ],
         "y": [
          95.45235074258534,
          91.90470148517068
         ]
        },
        {
         "hoverinfo": "skip",
         "line": {
          "color": "lightblue",
          "width": 1
         },
         "mode": "lines",
         "showlegend": false,
         "type": "scatter",
         "x": [
          91.9532462093911,
          88.42986931408664
         ],
         "y": [
          91.90470148517068,
          88.35705222775601
         ]
        },
        {
         "hoverinfo": "skip",
         "line": {
          "color": "lightblue",
          "width": 1
         },
         "mode": "lines",
         "showlegend": false,
         "type": "scatter",
         "x": [
          88.42986931408664,
          84.9064924187822
         ],
         "y": [
          88.35705222775601,
          84.80940297034135
         ]
        },
        {
         "hoverinfo": "skip",
         "line": {
          "color": "lightblue",
          "width": 1
         },
         "mode": "lines",
         "showlegend": false,
         "type": "scatter",
         "x": [
          1,
          8.368319352204438
         ],
         "y": [
          1,
          7.74396236834855
         ]
        },
        {
         "hoverinfo": "skip",
         "line": {
          "color": "lightblue",
          "width": 1
         },
         "mode": "lines",
         "showlegend": false,
         "type": "scatter",
         "x": [
          4.844942456899986,
          13.238967490540634
         ],
         "y": [
          4.196313110933893,
          8.873912240034075
         ]
        },
        {
         "hoverinfo": "skip",
         "line": {
          "color": "lightblue",
          "width": 1
         },
         "mode": "lines",
         "showlegend": false,
         "type": "scatter",
         "x": [
          13.238967490540634,
          18.20297446520194
         ],
         "y": [
          8.873912240034075,
          8.275051024464153
         ]
        },
        {
         "hoverinfo": "skip",
         "line": {
          "color": "lightblue",
          "width": 1
         },
         "mode": "lines",
         "showlegend": false,
         "type": "scatter",
         "x": [
          13.238967490540634,
          22.852641008057347
         ],
         "y": [
          8.873912240034075,
          10.11369210968199
         ]
        },
        {
         "hoverinfo": "skip",
         "line": {
          "color": "lightblue",
          "width": 1
         },
         "mode": "lines",
         "showlegend": false,
         "type": "scatter",
         "x": [
          91.9532462093911,
          86.14562089831766
         ],
         "y": [
          91.90470148517068,
          83.17244507033388
         ]
        },
        {
         "hoverinfo": "skip",
         "line": {
          "color": "lightblue",
          "width": 1
         },
         "mode": "lines",
         "showlegend": false,
         "type": "scatter",
         "x": [
          22.852641008057347,
          26.126566796307404
         ],
         "y": [
          10.11369210968199,
          13.892767384538425
         ]
        },
        {
         "hoverinfo": "skip",
         "line": {
          "color": "lightblue",
          "width": 1
         },
         "mode": "lines",
         "showlegend": false,
         "type": "scatter",
         "x": [
          26.126566796307404,
          29.400492584557462
         ],
         "y": [
          13.892767384538425,
          17.671842659394862
         ]
        },
        {
         "hoverinfo": "skip",
         "line": {
          "color": "lightblue",
          "width": 1
         },
         "mode": "lines",
         "showlegend": false,
         "type": "scatter",
         "x": [
          88.42986931408664,
          80.34970254834764
         ],
         "y": [
          88.35705222775601,
          82.75132958080808
         ]
        },
        {
         "hoverinfo": "skip",
         "line": {
          "color": "lightblue",
          "width": 1
         },
         "mode": "lines",
         "showlegend": false,
         "type": "scatter",
         "x": [
          80.34970254834764,
          75.49651904353892
         ],
         "y": [
          82.75132958080808,
          81.54857862210856
         ]
        },
        {
         "hoverinfo": "skip",
         "line": {
          "color": "lightblue",
          "width": 1
         },
         "mode": "lines",
         "showlegend": false,
         "type": "scatter",
         "x": [
          99,
          99
         ],
         "y": [
          99,
          99
         ]
        },
        {
         "hoverinfo": "skip",
         "line": {
          "color": "lightblue",
          "width": 1
         },
         "mode": "lines",
         "showlegend": false,
         "type": "scatter",
         "x": [
          29.400492584557462,
          31.807717995521195
         ],
         "y": [
          17.671842659394862,
          22.05422395508451
         ]
        },
        {
         "hoverinfo": "skip",
         "line": {
          "color": "lightblue",
          "width": 1
         },
         "mode": "lines",
         "showlegend": false,
         "type": "scatter",
         "x": [
          29.400492584557462,
          30.708673620217763
         ],
         "y": [
          17.671842659394862,
          26.931938733657965
         ]
        },
        {
         "hoverinfo": "skip",
         "line": {
          "color": "lightblue",
          "width": 1
         },
         "mode": "lines",
         "showlegend": false,
         "type": "scatter",
         "x": [
          88.42986931408664,
          88.52169520675785
         ],
         "y": [
          88.35705222775601,
          78.77309615478167
         ]
        },
        {
         "hoverinfo": "skip",
         "line": {
          "color": "lightblue",
          "width": 1
         },
         "mode": "lines",
         "showlegend": false,
         "type": "scatter",
         "x": [
          30.708673620217763,
          34.43123939251852
         ],
         "y": [
          26.931938733657965,
          30.269977689526346
         ]
        },
        {
         "hoverinfo": "skip",
         "line": {
          "color": "lightblue",
          "width": 1
         },
         "mode": "lines",
         "showlegend": false,
         "type": "scatter",
         "x": [
          88.52169520675785,
          88.00167101938716
         ],
         "y": [
          78.77309615478167,
          73.80021219830837
         ]
        },
        {
         "hoverinfo": "skip",
         "line": {
          "color": "lightblue",
          "width": 1
         },
         "mode": "lines",
         "showlegend": false,
         "type": "scatter",
         "x": [
          99,
          99
         ],
         "y": [
          99,
          99
         ]
        },
        {
         "hoverinfo": "skip",
         "line": {
          "color": "lightblue",
          "width": 1
         },
         "mode": "lines",
         "showlegend": false,
         "type": "scatter",
         "x": [
          34.617543932349705,
          33.33174975299175
         ],
         "y": [
          35.266505545791965,
          40.09835129336392
         ]
        },
        {
         "hoverinfo": "skip",
         "line": {
          "color": "lightblue",
          "width": 1
         },
         "mode": "lines",
         "showlegend": false,
         "type": "scatter",
         "x": [
          88.00167101938716,
          88.41050690209303
         ],
         "y": [
          73.80021219830837,
          68.81695490804007
         ]
        },
        {
         "hoverinfo": "skip",
         "line": {
          "color": "lightblue",
          "width": 1
         },
         "mode": "lines",
         "showlegend": false,
         "type": "scatter",
         "x": [
          95.47662310469555,
          88.26506027326737
         ],
         "y": [
          95.45235074258534,
          92.251105520936
         ]
        },
        {
         "hoverinfo": "skip",
         "line": {
          "color": "lightblue",
          "width": 1
         },
         "mode": "lines",
         "showlegend": false,
         "type": "scatter",
         "x": [
          30.708673620217763,
          31.10637735091756
         ],
         "y": [
          26.931938733657965,
          31.438591175491037
         ]
        },
        {
         "hoverinfo": "skip",
         "line": {
          "color": "lightblue",
          "width": 1
         },
         "mode": "lines",
         "showlegend": false,
         "type": "scatter",
         "x": [
          31.10637735091756,
          34.617543932349705
         ],
         "y": [
          31.438591175491037,
          35.266505545791965
         ]
        },
        {
         "hoverinfo": "skip",
         "line": {
          "color": "lightblue",
          "width": 1
         },
         "mode": "lines",
         "showlegend": false,
         "type": "scatter",
         "x": [
          31.10637735091756,
          28.445385671234302
         ],
         "y": [
          31.438591175491037,
          31.465451026344716
         ]
        },
        {
         "hoverinfo": "skip",
         "line": {
          "color": "lightblue",
          "width": 1
         },
         "mode": "lines",
         "showlegend": false,
         "type": "scatter",
         "x": [
          95.47662310469555,
          89.0207226753543
         ],
         "y": [
          95.45235074258534,
          96.29894381300642
         ]
        },
        {
         "hoverinfo": "skip",
         "line": {
          "color": "lightblue",
          "width": 1
         },
         "mode": "lines",
         "showlegend": false,
         "type": "scatter",
         "x": [
          99,
          99
         ],
         "y": [
          99,
          99
         ]
        },
        {
         "hoverinfo": "skip",
         "line": {
          "color": "lightblue",
          "width": 1
         },
         "mode": "lines",
         "showlegend": false,
         "type": "scatter",
         "x": [
          31.10637735091756,
          23.478752376166195
         ],
         "y": [
          31.438591175491037,
          32.04212572868644
         ]
        },
        {
         "hoverinfo": "skip",
         "line": {
          "color": "lightblue",
          "width": 1
         },
         "mode": "lines",
         "showlegend": false,
         "type": "scatter",
         "x": [
          75.49651904353892,
          76.65861721972146
         ],
         "y": [
          81.54857862210856,
          76.6855006020771
         ]
        },
        {
         "hoverinfo": "skip",
         "line": {
          "color": "lightblue",
          "width": 1
         },
         "mode": "lines",
         "showlegend": false,
         "type": "scatter",
         "x": [
          76.65861721972146,
          72.85767862436123
         ],
         "y": [
          76.6855006020771,
          73.43698312570407
         ]
        },
        {
         "hoverinfo": "skip",
         "line": {
          "color": "lightblue",
          "width": 1
         },
         "mode": "lines",
         "showlegend": false,
         "type": "scatter",
         "x": [
          18.20297446520194,
          23.568474046703447
         ],
         "y": [
          8.275051024464153,
          7.8106970105310864
         ]
        },
        {
         "hoverinfo": "skip",
         "line": {
          "color": "lightblue",
          "width": 1
         },
         "mode": "lines",
         "showlegend": false,
         "type": "scatter",
         "x": [
          1,
          1
         ],
         "y": [
          1,
          1
         ]
        },
        {
         "hoverinfo": "skip",
         "line": {
          "color": "lightblue",
          "width": 1
         },
         "mode": "lines",
         "showlegend": false,
         "type": "scatter",
         "x": [
          72.85767862436123,
          71.7119232096376
         ],
         "y": [
          73.43698312570407,
          68.57002878755465
         ]
        },
        {
         "hoverinfo": "skip",
         "line": {
          "color": "lightblue",
          "width": 1
         },
         "mode": "lines",
         "showlegend": false,
         "type": "scatter",
         "x": [
          99,
          99.50810981727452
         ],
         "y": [
          99,
          93.6886369301161
         ]
        },
        {
         "hoverinfo": "skip",
         "line": {
          "color": "lightblue",
          "width": 1
         },
         "mode": "lines",
         "showlegend": false,
         "type": "scatter",
         "x": [
          34.617543932349705,
          28.368549289541367
         ],
         "y": [
          35.266505545791965,
          39.49284228467294
         ]
        },
        {
         "hoverinfo": "skip",
         "line": {
          "color": "lightblue",
          "width": 1
         },
         "mode": "lines",
         "showlegend": false,
         "type": "scatter",
         "x": [
          28.368549289541367,
          25.88400638851064
         ],
         "y": [
          39.49284228467294,
          43.83185675491129
         ]
        },
        {
         "hoverinfo": "skip",
         "line": {
          "color": "lightblue",
          "width": 1
         },
         "mode": "lines",
         "showlegend": false,
         "type": "scatter",
         "x": [
          72.85767862436123,
          68.10503733820804
         ],
         "y": [
          73.43698312570407,
          74.9901736501254
         ]
        },
        {
         "hoverinfo": "skip",
         "line": {
          "color": "lightblue",
          "width": 1
         },
         "mode": "lines",
         "showlegend": false,
         "type": "scatter",
         "x": [
          99,
          99
         ],
         "y": [
          99,
          99
         ]
        },
        {
         "hoverinfo": "skip",
         "line": {
          "color": "lightblue",
          "width": 1
         },
         "mode": "lines",
         "showlegend": false,
         "type": "scatter",
         "x": [
          25.88400638851064,
          23.598085350952147
         ],
         "y": [
          43.83185675491129,
          48.27871688426633
         ]
        },
        {
         "hoverinfo": "skip",
         "line": {
          "color": "lightblue",
          "width": 1
         },
         "mode": "lines",
         "showlegend": false,
         "type": "scatter",
         "x": [
          68.10503733820804,
          63.81788235243613
         ],
         "y": [
          74.9901736501254,
          72.41717887205625
         ]
        },
        {
         "hoverinfo": "skip",
         "line": {
          "color": "lightblue",
          "width": 1
         },
         "mode": "lines",
         "showlegend": false,
         "type": "scatter",
         "x": [
          23.598085350952147,
          23.051269337179516
         ],
         "y": [
          48.27871688426633,
          53.24872616464819
         ]
        },
        {
         "hoverinfo": "skip",
         "line": {
          "color": "lightblue",
          "width": 1
         },
         "mode": "lines",
         "showlegend": false,
         "type": "scatter",
         "x": [
          28.368549289541367,
          22.94314798998315
         ],
         "y": [
          39.49284228467294,
          40.32016308919874
         ]
        },
        {
         "hoverinfo": "skip",
         "line": {
          "color": "lightblue",
          "width": 1
         },
         "mode": "lines",
         "showlegend": false,
         "type": "scatter",
         "x": [
          99,
          99
         ],
         "y": [
          99,
          99
         ]
        },
        {
         "hoverinfo": "skip",
         "line": {
          "color": "lightblue",
          "width": 1
         },
         "mode": "lines",
         "showlegend": false,
         "type": "scatter",
         "x": [
          99,
          99
         ],
         "y": [
          99,
          99
         ]
        },
        {
         "hoverinfo": "skip",
         "line": {
          "color": "lightblue",
          "width": 1
         },
         "mode": "lines",
         "showlegend": false,
         "type": "scatter",
         "x": [
          18.20297446520194,
          23.638620654930833
         ],
         "y": [
          8.275051024464153,
          6.188063360801999
         ]
        },
        {
         "hoverinfo": "skip",
         "line": {
          "color": "lightblue",
          "width": 1
         },
         "mode": "lines",
         "showlegend": false,
         "type": "scatter",
         "x": [
          8.368319352204438,
          9.27581981462071
         ],
         "y": [
          7.74396236834855,
          9.933848958332291
         ]
        },
        {
         "hoverinfo": "skip",
         "line": {
          "color": "lightblue",
          "width": 1
         },
         "mode": "lines",
         "showlegend": false,
         "type": "scatter",
         "x": [
          9.27581981462071,
          15.287946806865639
         ],
         "y": [
          9.933848958332291,
          13.434798531235854
         ]
        },
        {
         "hoverinfo": "skip",
         "line": {
          "color": "lightblue",
          "width": 1
         },
         "mode": "lines",
         "showlegend": false,
         "type": "scatter",
         "x": [
          75.49651904353892,
          77.88672764816253
         ],
         "y": [
          81.54857862210856,
          81.22777188169832
         ]
        },
        {
         "hoverinfo": "skip",
         "line": {
          "color": "lightblue",
          "width": 1
         },
         "mode": "lines",
         "showlegend": false,
         "type": "scatter",
         "x": [
          99,
          99
         ],
         "y": [
          99,
          99
         ]
        },
        {
         "hoverinfo": "skip",
         "line": {
          "color": "lightblue",
          "width": 1
         },
         "mode": "lines",
         "showlegend": false,
         "type": "scatter",
         "x": [
          23.051269337179516,
          26.95025671985087
         ],
         "y": [
          53.24872616464819,
          56.37888548803247
         ]
        },
        {
         "hoverinfo": "skip",
         "line": {
          "color": "lightblue",
          "width": 1
         },
         "mode": "lines",
         "showlegend": false,
         "type": "scatter",
         "x": [
          26.95025671985087,
          24.154624555378284
         ],
         "y": [
          56.37888548803247,
          60.5242975062722
         ]
        },
        {
         "hoverinfo": "skip",
         "line": {
          "color": "lightblue",
          "width": 1
         },
         "mode": "lines",
         "showlegend": false,
         "type": "scatter",
         "x": [
          99,
          99
         ],
         "y": [
          99,
          99
         ]
        },
        {
         "hoverinfo": "skip",
         "line": {
          "color": "lightblue",
          "width": 1
         },
         "mode": "lines",
         "showlegend": false,
         "type": "scatter",
         "x": [
          99.50810981727452,
          97.91299487493804
         ],
         "y": [
          93.6886369301161,
          88.94990204401677
         ]
        },
        {
         "hoverinfo": "skip",
         "line": {
          "color": "lightblue",
          "width": 1
         },
         "mode": "lines",
         "showlegend": false,
         "type": "scatter",
         "x": [
          29.400492584557462,
          30.497685119472195
         ],
         "y": [
          17.671842659394862,
          22.41333426950569
         ]
        },
        {
         "hoverinfo": "skip",
         "line": {
          "color": "lightblue",
          "width": 1
         },
         "mode": "lines",
         "showlegend": false,
         "type": "scatter",
         "x": [
          24.154624555378284,
          27.717905724144007
         ],
         "y": [
          60.5242975062722,
          64.03186465635208
         ]
        },
        {
         "hoverinfo": "skip",
         "line": {
          "color": "lightblue",
          "width": 1
         },
         "mode": "lines",
         "showlegend": false,
         "type": "scatter",
         "x": [
          99,
          99
         ],
         "y": [
          99,
          99
         ]
        },
        {
         "hoverinfo": "skip",
         "line": {
          "color": "lightblue",
          "width": 1
         },
         "mode": "lines",
         "showlegend": false,
         "type": "scatter",
         "x": [
          27.717905724144007,
          32.20686371135675
         ],
         "y": [
          64.03186465635208,
          66.23396733085181
         ]
        },
        {
         "hoverinfo": "skip",
         "line": {
          "color": "lightblue",
          "width": 1
         },
         "mode": "lines",
         "showlegend": false,
         "type": "scatter",
         "x": [
          32.20686371135675,
          36.6958216985695
         ],
         "y": [
          66.23396733085181,
          68.43607000535155
         ]
        },
        {
         "hoverinfo": "skip",
         "line": {
          "color": "lightblue",
          "width": 1
         },
         "mode": "lines",
         "showlegend": false,
         "type": "scatter",
         "x": [
          99,
          99
         ],
         "y": [
          99,
          99
         ]
        },
        {
         "hoverinfo": "skip",
         "line": {
          "color": "lightblue",
          "width": 1
         },
         "mode": "lines",
         "showlegend": false,
         "type": "scatter",
         "x": [
          99,
          99
         ],
         "y": [
          99,
          99
         ]
        },
        {
         "hoverinfo": "skip",
         "line": {
          "color": "lightblue",
          "width": 1
         },
         "mode": "lines",
         "showlegend": false,
         "type": "scatter",
         "x": [
          97.91299487493804,
          96.65270636596011
         ],
         "y": [
          88.94990204401677,
          84.11134101059596
         ]
        },
        {
         "hoverinfo": "skip",
         "line": {
          "color": "lightblue",
          "width": 1
         },
         "mode": "lines",
         "showlegend": false,
         "type": "scatter",
         "x": [
          15.287946806865639,
          18.713961392618682
         ],
         "y": [
          13.434798531235854,
          12.991878076126817
         ]
        },
        {
         "hoverinfo": "skip",
         "line": {
          "color": "lightblue",
          "width": 1
         },
         "mode": "lines",
         "showlegend": false,
         "type": "scatter",
         "x": [
          36.6958216985695,
          41.46670473330447
         ],
         "y": [
          68.43607000535155,
          66.93984974453494
         ]
        },
        {
         "hoverinfo": "skip",
         "line": {
          "color": "lightblue",
          "width": 1
         },
         "mode": "lines",
         "showlegend": false,
         "type": "scatter",
         "x": [
          97.91299487493804,
          96.8057711911946
         ],
         "y": [
          88.94990204401677,
          83.46978731213139
         ]
        },
        {
         "hoverinfo": "skip",
         "line": {
          "color": "lightblue",
          "width": 1
         },
         "mode": "lines",
         "showlegend": false,
         "type": "scatter",
         "x": [
          41.46670473330447,
          46.257543144407265
         ],
         "y": [
          66.93984974453494,
          68.37088689244622
         ]
        },
        {
         "hoverinfo": "skip",
         "line": {
          "color": "lightblue",
          "width": 1
         },
         "mode": "lines",
         "showlegend": false,
         "type": "scatter",
         "x": [
          46.257543144407265,
          51.04838155551006
         ],
         "y": [
          68.37088689244622,
          69.8019240403575
         ]
        },
        {
         "hoverinfo": "skip",
         "line": {
          "color": "lightblue",
          "width": 1
         },
         "mode": "lines",
         "showlegend": false,
         "type": "scatter",
         "x": [
          99,
          99
         ],
         "y": [
          99,
          99
         ]
        },
        {
         "hoverinfo": "skip",
         "line": {
          "color": "lightblue",
          "width": 1
         },
         "mode": "lines",
         "showlegend": false,
         "type": "scatter",
         "x": [
          99,
          99
         ],
         "y": [
          99,
          99
         ]
        },
        {
         "hoverinfo": "skip",
         "line": {
          "color": "lightblue",
          "width": 1
         },
         "mode": "lines",
         "showlegend": false,
         "type": "scatter",
         "x": [
          99,
          99
         ],
         "y": [
          99,
          99
         ]
        },
        {
         "hoverinfo": "skip",
         "line": {
          "color": "lightblue",
          "width": 1
         },
         "mode": "lines",
         "showlegend": false,
         "type": "scatter",
         "x": [
          46.257543144407265,
          50.40193458638967
         ],
         "y": [
          68.37088689244622,
          68.4551911197186
         ]
        },
        {
         "hoverinfo": "skip",
         "line": {
          "color": "lightblue",
          "width": 1
         },
         "mode": "lines",
         "showlegend": false,
         "type": "scatter",
         "x": [
          50.40193458638967,
          54.554848792258
         ],
         "y": [
          68.4551911197186,
          66.23756049021097
         ]
        },
        {
         "hoverinfo": "skip",
         "line": {
          "color": "lightblue",
          "width": 1
         },
         "mode": "lines",
         "showlegend": false,
         "type": "scatter",
         "x": [
          75.49651904353892,
          77.37571461603268
         ],
         "y": [
          81.54857862210856,
          79.36829137668784
         ]
        },
        {
         "hoverinfo": "skip",
         "line": {
          "color": "lightblue",
          "width": 1
         },
         "mode": "lines",
         "showlegend": false,
         "type": "scatter",
         "x": [
          54.554848792258,
          57.70193891514389
         ],
         "y": [
          66.23756049021097,
          62.3522260440617
         ]
        },
        {
         "hoverinfo": "skip",
         "line": {
          "color": "lightblue",
          "width": 1
         },
         "mode": "lines",
         "showlegend": false,
         "type": "scatter",
         "x": [
          1,
          1
         ],
         "y": [
          1,
          1
         ]
        },
        {
         "hoverinfo": "skip",
         "line": {
          "color": "lightblue",
          "width": 1
         },
         "mode": "lines",
         "showlegend": false,
         "type": "scatter",
         "x": [
          72.85767862436123,
          72.74187111485246
         ],
         "y": [
          73.43698312570407,
          69.57146591053241
         ]
        },
        {
         "hoverinfo": "skip",
         "line": {
          "color": "lightblue",
          "width": 1
         },
         "mode": "lines",
         "showlegend": false,
         "type": "scatter",
         "x": [
          57.70193891514389,
          62.20954573608018
         ],
         "y": [
          62.3522260440617,
          64.51589902024102
         ]
        },
        {
         "hoverinfo": "skip",
         "line": {
          "color": "lightblue",
          "width": 1
         },
         "mode": "lines",
         "showlegend": false,
         "type": "scatter",
         "x": [
          99,
          99
         ],
         "y": [
          99,
          99
         ]
        },
        {
         "hoverinfo": "skip",
         "line": {
          "color": "lightblue",
          "width": 1
         },
         "mode": "lines",
         "showlegend": false,
         "type": "scatter",
         "x": [
          62.20954573608018,
          65.85757558712771
         ],
         "y": [
          64.51589902024102,
          67.93523787532195
         ]
        },
        {
         "hoverinfo": "skip",
         "line": {
          "color": "lightblue",
          "width": 1
         },
         "mode": "lines",
         "showlegend": false,
         "type": "scatter",
         "x": [
          99,
          99
         ],
         "y": [
          99,
          99
         ]
        },
        {
         "hoverinfo": "skip",
         "line": {
          "color": "lightblue",
          "width": 1
         },
         "mode": "lines",
         "showlegend": false,
         "type": "scatter",
         "x": [
          72.74187111485246,
          73.41104227731299
         ],
         "y": [
          69.57146591053241,
          63.86758321170139
         ]
        },
        {
         "hoverinfo": "skip",
         "line": {
          "color": "lightblue",
          "width": 1
         },
         "mode": "lines",
         "showlegend": false,
         "type": "scatter",
         "x": [
          41.46670473330447,
          45.9839368903101
         ],
         "y": [
          66.93984974453494,
          70.67334340015466
         ]
        },
        {
         "hoverinfo": "skip",
         "line": {
          "color": "lightblue",
          "width": 1
         },
         "mode": "lines",
         "showlegend": false,
         "type": "scatter",
         "x": [
          23.051269337179516,
          25.18748292780978
         ],
         "y": [
          53.24872616464819,
          54.29413956666834
         ]
        },
        {
         "hoverinfo": "skip",
         "line": {
          "color": "lightblue",
          "width": 1
         },
         "mode": "lines",
         "showlegend": false,
         "type": "scatter",
         "x": [
          73.41104227731299,
          72.27683755312474
         ],
         "y": [
          63.86758321170139,
          60.01642904093648
         ]
        },
        {
         "hoverinfo": "skip",
         "line": {
          "color": "lightblue",
          "width": 1
         },
         "mode": "lines",
         "showlegend": false,
         "type": "scatter",
         "x": [
          99,
          99
         ],
         "y": [
          99,
          99
         ]
        },
        {
         "hoverinfo": "skip",
         "line": {
          "color": "lightblue",
          "width": 1
         },
         "mode": "lines",
         "showlegend": false,
         "type": "scatter",
         "x": [
          62.20954573608018,
          65.32458757836689
         ],
         "y": [
          64.51589902024102,
          60.60482316815083
         ]
        },
        {
         "hoverinfo": "skip",
         "line": {
          "color": "lightblue",
          "width": 1
         },
         "mode": "lines",
         "showlegend": false,
         "type": "scatter",
         "x": [
          9.27581981462071,
          5.545387355190076
         ],
         "y": [
          9.933848958332291,
          13.263094167929552
         ]
        },
        {
         "hoverinfo": "skip",
         "line": {
          "color": "lightblue",
          "width": 1
         },
         "mode": "lines",
         "showlegend": false,
         "type": "scatter",
         "x": [
          72.27683755312474,
          68.18186951653085
         ],
         "y": [
          60.01642904093648,
          57.14741583440109
         ]
        },
        {
         "hoverinfo": "skip",
         "line": {
          "color": "lightblue",
          "width": 1
         },
         "mode": "lines",
         "showlegend": false,
         "type": "scatter",
         "x": [
          1,
          4.157766619882775
         ],
         "y": [
          1,
          0.3274200003401617
         ]
        },
        {
         "hoverinfo": "skip",
         "line": {
          "color": "lightblue",
          "width": 1
         },
         "mode": "lines",
         "showlegend": false,
         "type": "scatter",
         "x": [
          88.26506027326737,
          83.28524443172275
         ],
         "y": [
          92.251105520936,
          92.69991971890795
         ]
        },
        {
         "hoverinfo": "skip",
         "line": {
          "color": "lightblue",
          "width": 1
         },
         "mode": "lines",
         "showlegend": false,
         "type": "scatter",
         "x": [
          68.18186951653085,
          68.87225849372604
         ],
         "y": [
          57.14741583440109,
          52.1953089029862
         ]
        },
        {
         "hoverinfo": "skip",
         "line": {
          "color": "lightblue",
          "width": 1
         },
         "mode": "lines",
         "showlegend": false,
         "type": "scatter",
         "x": [
          1,
          1
         ],
         "y": [
          1,
          1
         ]
        },
        {
         "hoverinfo": "skip",
         "line": {
          "color": "lightblue",
          "width": 1
         },
         "mode": "lines",
         "showlegend": false,
         "type": "scatter",
         "x": [
          68.87225849372604,
          64.88049174072951
         ],
         "y": [
          52.1953089029862,
          49.18436250863249
         ]
        },
        {
         "hoverinfo": "skip",
         "line": {
          "color": "lightblue",
          "width": 1
         },
         "mode": "lines",
         "showlegend": false,
         "type": "scatter",
         "x": [
          45.9839368903101,
          46.84887862147944
         ],
         "y": [
          70.67334340015466,
          74.87485815325488
         ]
        },
        {
         "hoverinfo": "skip",
         "line": {
          "color": "lightblue",
          "width": 1
         },
         "mode": "lines",
         "showlegend": false,
         "type": "scatter",
         "x": [
          32.20686371135675,
          30.312535592870407
         ],
         "y": [
          66.23396733085181,
          70.86122580423667
         ]
        },
        {
         "hoverinfo": "skip",
         "line": {
          "color": "lightblue",
          "width": 1
         },
         "mode": "lines",
         "showlegend": false,
         "type": "scatter",
         "x": [
          64.88049174072951,
          64.25708585079373
         ],
         "y": [
          49.18436250863249,
          44.22337822157882
         ]
        },
        {
         "hoverinfo": "skip",
         "line": {
          "color": "lightblue",
          "width": 1
         },
         "mode": "lines",
         "showlegend": false,
         "type": "scatter",
         "x": [
          99.50810981727452,
          97.29808709680184
         ],
         "y": [
          93.6886369301161,
          89.19283573725536
         ]
        },
        {
         "hoverinfo": "skip",
         "line": {
          "color": "lightblue",
          "width": 1
         },
         "mode": "lines",
         "showlegend": false,
         "type": "scatter",
         "x": [
          97.29808709680184,
          95.79462181472333
         ],
         "y": [
          89.19283573725536,
          85.24958155813542
         ]
        },
        {
         "hoverinfo": "skip",
         "line": {
          "color": "lightblue",
          "width": 1
         },
         "mode": "lines",
         "showlegend": false,
         "type": "scatter",
         "x": [
          28.368549289541367,
          24.82579028737666
         ],
         "y": [
          39.49284228467294,
          42.2151186205523
         ]
        },
        {
         "hoverinfo": "skip",
         "line": {
          "color": "lightblue",
          "width": 1
         },
         "mode": "lines",
         "showlegend": false,
         "type": "scatter",
         "x": [
          46.257543144407265,
          49.349685038439674
         ],
         "y": [
          68.37088689244622,
          66.10637613830772
         ]
        },
        {
         "hoverinfo": "skip",
         "line": {
          "color": "lightblue",
          "width": 1
         },
         "mode": "lines",
         "showlegend": false,
         "type": "scatter",
         "x": [
          73.41104227731299,
          77.54846049858288
         ],
         "y": [
          63.86758321170139,
          61.51873106397644
         ]
        },
        {
         "hoverinfo": "skip",
         "line": {
          "color": "lightblue",
          "width": 1
         },
         "mode": "lines",
         "showlegend": false,
         "type": "scatter",
         "x": [
          64.25708585079373,
          66.89889227488078
         ],
         "y": [
          44.22337822157882,
          39.97828001097728
         ]
        },
        {
         "hoverinfo": "skip",
         "line": {
          "color": "lightblue",
          "width": 1
         },
         "mode": "lines",
         "showlegend": false,
         "type": "scatter",
         "x": [
          1,
          1
         ],
         "y": [
          1,
          1
         ]
        },
        {
         "hoverinfo": "skip",
         "line": {
          "color": "lightblue",
          "width": 1
         },
         "mode": "lines",
         "showlegend": false,
         "type": "scatter",
         "x": [
          66.89889227488078,
          62.595347643864294
         ],
         "y": [
          39.97828001097728,
          37.43279310100324
         ]
        },
        {
         "hoverinfo": "skip",
         "line": {
          "color": "lightblue",
          "width": 1
         },
         "mode": "lines",
         "showlegend": false,
         "type": "scatter",
         "x": [
          27.717905724144007,
          27.291211779977388
         ],
         "y": [
          64.03186465635208,
          66.84305306538475
         ]
        },
        {
         "hoverinfo": "skip",
         "line": {
          "color": "lightblue",
          "width": 1
         },
         "mode": "lines",
         "showlegend": false,
         "type": "scatter",
         "x": [
          30.312535592870407,
          28.035763164710048
         ],
         "y": [
          70.86122580423667,
          75.31277691709259
         ]
        },
        {
         "hoverinfo": "skip",
         "line": {
          "color": "lightblue",
          "width": 1
         },
         "mode": "lines",
         "showlegend": false,
         "type": "scatter",
         "x": [
          97.91299487493804,
          97.90516776772348
         ],
         "y": [
          88.94990204401677,
          85.68404056247735
         ]
        },
        {
         "hoverinfo": "skip",
         "line": {
          "color": "lightblue",
          "width": 1
         },
         "mode": "lines",
         "showlegend": false,
         "type": "scatter",
         "x": [
          62.595347643864294,
          64.66048023104698
         ],
         "y": [
          37.43279310100324,
          32.87919810393157
         ]
        },
        {
         "hoverinfo": "skip",
         "line": {
          "color": "lightblue",
          "width": 1
         },
         "mode": "lines",
         "showlegend": false,
         "type": "scatter",
         "x": [
          24.154624555378284,
          19.17250302590156
         ],
         "y": [
          60.5242975062722,
          60.94674876443639
         ]
        },
        {
         "hoverinfo": "skip",
         "line": {
          "color": "lightblue",
          "width": 1
         },
         "mode": "lines",
         "showlegend": false,
         "type": "scatter",
         "x": [
          18.20297446520194,
          16.242436752582275
         ],
         "y": [
          8.275051024464153,
          3.675454098928606
         ]
        },
        {
         "hoverinfo": "skip",
         "line": {
          "color": "lightblue",
          "width": 1
         },
         "mode": "lines",
         "showlegend": false,
         "type": "scatter",
         "x": [
          64.66048023104698,
          60.37899278659137
         ],
         "y": [
          32.87919810393157,
          30.296783485213467
         ]
        },
        {
         "hoverinfo": "skip",
         "line": {
          "color": "lightblue",
          "width": 1
         },
         "mode": "lines",
         "showlegend": false,
         "type": "scatter",
         "x": [
          1,
          1
         ],
         "y": [
          1,
          1
         ]
        },
        {
         "hoverinfo": "skip",
         "line": {
          "color": "lightblue",
          "width": 1
         },
         "mode": "lines",
         "showlegend": false,
         "type": "scatter",
         "x": [
          60.37899278659137,
          55.88722479757384
         ],
         "y": [
          30.296783485213467,
          32.49314874009196
         ]
        },
        {
         "hoverinfo": "skip",
         "line": {
          "color": "lightblue",
          "width": 1
         },
         "mode": "lines",
         "showlegend": false,
         "type": "scatter",
         "x": [
          64.66048023104698,
          69.24632539308567
         ],
         "y": [
          32.87919810393157,
          30.886706159203484
         ]
        },
        {
         "hoverinfo": "skip",
         "line": {
          "color": "lightblue",
          "width": 1
         },
         "mode": "lines",
         "showlegend": false,
         "type": "scatter",
         "x": [
          22.94314798998315,
          18.610468625214576
         ],
         "y": [
          40.32016308919874,
          37.82458910269612
         ]
        },
        {
         "hoverinfo": "skip",
         "line": {
          "color": "lightblue",
          "width": 1
         },
         "mode": "lines",
         "showlegend": false,
         "type": "scatter",
         "x": [
          55.88722479757384,
          50.937592452865
         ],
         "y": [
          32.49314874009196,
          33.20106091841071
         ]
        },
        {
         "hoverinfo": "skip",
         "line": {
          "color": "lightblue",
          "width": 1
         },
         "mode": "lines",
         "showlegend": false,
         "type": "scatter",
         "x": [
          50.937592452865,
          45.98796010815615
         ],
         "y": [
          33.20106091841071,
          33.90897309672946
         ]
        },
        {
         "hoverinfo": "skip",
         "line": {
          "color": "lightblue",
          "width": 1
         },
         "mode": "lines",
         "showlegend": false,
         "type": "scatter",
         "x": [
          50.40193458638967,
          53.55994372208338
         ],
         "y": [
          68.4551911197186,
          68.78162587786217
         ]
        },
        {
         "hoverinfo": "skip",
         "line": {
          "color": "lightblue",
          "width": 1
         },
         "mode": "lines",
         "showlegend": false,
         "type": "scatter",
         "x": [
          1,
          1
         ],
         "y": [
          1,
          1
         ]
        },
        {
         "hoverinfo": "skip",
         "line": {
          "color": "lightblue",
          "width": 1
         },
         "mode": "lines",
         "showlegend": false,
         "type": "scatter",
         "x": [
          22.852641008057347,
          23.63772460151935
         ],
         "y": [
          10.11369210968199,
          12.955734019202536
         ]
        },
        {
         "hoverinfo": "skip",
         "line": {
          "color": "lightblue",
          "width": 1
         },
         "mode": "lines",
         "showlegend": false,
         "type": "scatter",
         "x": [
          45.98796010815615,
          42.34026539771432
         ],
         "y": [
          33.90897309672946,
          30.489276721403918
         ]
        },
        {
         "hoverinfo": "skip",
         "line": {
          "color": "lightblue",
          "width": 1
         },
         "mode": "lines",
         "showlegend": false,
         "type": "scatter",
         "x": [
          1,
          1
         ],
         "y": [
          1,
          1
         ]
        },
        {
         "hoverinfo": "skip",
         "line": {
          "color": "lightblue",
          "width": 1
         },
         "mode": "lines",
         "showlegend": false,
         "type": "scatter",
         "x": [
          45.98796010815615,
          43.00041340902682
         ],
         "y": [
          33.90897309672946,
          37.918282852849764
         ]
        },
        {
         "hoverinfo": "skip",
         "line": {
          "color": "lightblue",
          "width": 1
         },
         "mode": "lines",
         "showlegend": false,
         "type": "scatter",
         "x": [
          97.29808709680184,
          94.64730862073554
         ],
         "y": [
          89.19283573725536,
          88.71697911227272
         ]
        },
        {
         "hoverinfo": "skip",
         "line": {
          "color": "lightblue",
          "width": 1
         },
         "mode": "lines",
         "showlegend": false,
         "type": "scatter",
         "x": [
          28.035763164710048,
          29.495309968930055
         ],
         "y": [
          75.31277691709259,
          80.09500684948722
         ]
        },
        {
         "hoverinfo": "skip",
         "line": {
          "color": "lightblue",
          "width": 1
         },
         "mode": "lines",
         "showlegend": false,
         "type": "scatter",
         "x": [
          19.17250302590156,
          14.172641201693699
         ],
         "y": [
          60.94674876443639,
          60.98392051216031
         ]
        },
        {
         "hoverinfo": "skip",
         "line": {
          "color": "lightblue",
          "width": 1
         },
         "mode": "lines",
         "showlegend": false,
         "type": "scatter",
         "x": [
          45.98796010815615,
          45.965170718167535
         ],
         "y": [
          33.90897309672946,
          31.8130860840375
         ]
        },
        {
         "hoverinfo": "skip",
         "line": {
          "color": "lightblue",
          "width": 1
         },
         "mode": "lines",
         "showlegend": false,
         "type": "scatter",
         "x": [
          69.24632539308567,
          74.01827770518182
         ],
         "y": [
          30.886706159203484,
          32.379512620564164
         ]
        },
        {
         "hoverinfo": "skip",
         "line": {
          "color": "lightblue",
          "width": 1
         },
         "mode": "lines",
         "showlegend": false,
         "type": "scatter",
         "x": [
          18.610468625214576,
          15.769469007864622
         ],
         "y": [
          37.82458910269612,
          33.71013638402048
         ]
        },
        {
         "hoverinfo": "skip",
         "line": {
          "color": "lightblue",
          "width": 1
         },
         "mode": "lines",
         "showlegend": false,
         "type": "scatter",
         "x": [
          1,
          1
         ],
         "y": [
          1,
          1
         ]
        },
        {
         "hoverinfo": "skip",
         "line": {
          "color": "lightblue",
          "width": 1
         },
         "mode": "lines",
         "showlegend": false,
         "type": "scatter",
         "x": [
          77.54846049858288,
          80.6566544005409
         ],
         "y": [
          61.51873106397644,
          57.602210839615154
         ]
        },
        {
         "hoverinfo": "skip",
         "line": {
          "color": "lightblue",
          "width": 1
         },
         "mode": "lines",
         "showlegend": false,
         "type": "scatter",
         "x": [
          63.81788235243613,
          62.66551167366832
         ],
         "y": [
          72.41717887205625,
          72.63235940196417
         ]
        },
        {
         "hoverinfo": "skip",
         "line": {
          "color": "lightblue",
          "width": 1
         },
         "mode": "lines",
         "showlegend": false,
         "type": "scatter",
         "x": [
          65.85757558712771,
          63.04721686448964
         ],
         "y": [
          67.93523787532195,
          72.07068027609265
         ]
        },
        {
         "hoverinfo": "skip",
         "line": {
          "color": "lightblue",
          "width": 1
         },
         "mode": "lines",
         "showlegend": false,
         "type": "scatter",
         "x": [
          63.04721686448964,
          62.66551167366832
         ],
         "y": [
          72.07068027609265,
          72.63235940196417
         ]
        },
        {
         "marker": {
          "color": "red",
          "size": 10
         },
         "mode": "markers",
         "name": "Start",
         "type": "scatter",
         "x": [
          1
         ],
         "y": [
          1
         ]
        },
        {
         "marker": {
          "color": "orange",
          "size": 10
         },
         "mode": "markers",
         "name": "Goal",
         "type": "scatter",
         "x": [
          99
         ],
         "y": [
          99
         ]
        }
       ],
       "layout": {
        "height": 600,
        "shapes": [
         {
          "fillcolor": "purple",
          "line": {
           "width": 0
          },
          "opacity": 0.5,
          "type": "rect",
          "x0": 48,
          "x1": 57,
          "y0": 70,
          "y1": 79
         },
         {
          "fillcolor": "purple",
          "line": {
           "width": 0
          },
          "opacity": 0.5,
          "type": "rect",
          "x0": 47,
          "x1": 52,
          "y0": 50,
          "y1": 64
         },
         {
          "fillcolor": "purple",
          "line": {
           "width": 0
          },
          "opacity": 0.5,
          "type": "rect",
          "x0": 79,
          "x1": 84,
          "y0": 71,
          "y1": 82
         },
         {
          "fillcolor": "purple",
          "line": {
           "width": 0
          },
          "opacity": 0.5,
          "type": "rect",
          "x0": 35,
          "x1": 42,
          "y0": 29,
          "y1": 41
         },
         {
          "fillcolor": "purple",
          "line": {
           "width": 0
          },
          "opacity": 0.5,
          "type": "rect",
          "x0": 18,
          "x1": 28,
          "y0": 67,
          "y1": 80
         },
         {
          "fillcolor": "purple",
          "line": {
           "width": 0
          },
          "opacity": 0.5,
          "type": "rect",
          "x0": 66,
          "x1": 75,
          "y0": 75,
          "y1": 82
         },
         {
          "fillcolor": "purple",
          "line": {
           "width": 0
          },
          "opacity": 0.5,
          "type": "rect",
          "x0": 68,
          "x1": 81,
          "y0": 83,
          "y1": 89
         },
         {
          "fillcolor": "purple",
          "line": {
           "width": 0
          },
          "opacity": 0.5,
          "type": "rect",
          "x0": 55,
          "x1": 67,
          "y0": 54,
          "y1": 60
         },
         {
          "fillcolor": "purple",
          "line": {
           "width": 0
          },
          "opacity": 0.5,
          "type": "rect",
          "x0": 49,
          "x1": 64,
          "y0": 22,
          "y1": 30
         },
         {
          "fillcolor": "purple",
          "line": {
           "width": 0
          },
          "opacity": 0.5,
          "type": "rect",
          "x0": 32,
          "x1": 47,
          "y0": 76,
          "y1": 86
         },
         {
          "fillcolor": "purple",
          "line": {
           "width": 0
          },
          "opacity": 0.5,
          "type": "rect",
          "x0": 41,
          "x1": 56,
          "y0": 0,
          "y1": 11
         },
         {
          "fillcolor": "purple",
          "line": {
           "width": 0
          },
          "opacity": 0.5,
          "type": "rect",
          "x0": 51,
          "x1": 63,
          "y0": 42,
          "y1": 47
         },
         {
          "fillcolor": "purple",
          "line": {
           "width": 0
          },
          "opacity": 0.5,
          "type": "rect",
          "x0": 14,
          "x1": 23,
          "y0": 46,
          "y1": 60
         },
         {
          "fillcolor": "purple",
          "line": {
           "width": 0
          },
          "opacity": 0.5,
          "type": "rect",
          "x0": 84,
          "x1": 91,
          "y0": 12,
          "y1": 24
         },
         {
          "fillcolor": "purple",
          "line": {
           "width": 0
          },
          "opacity": 0.5,
          "type": "rect",
          "x0": 20,
          "x1": 29,
          "y0": 17,
          "y1": 31
         },
         {
          "fillcolor": "purple",
          "line": {
           "width": 0
          },
          "opacity": 0.5,
          "type": "rect",
          "x0": 3,
          "x1": 12,
          "y0": 18,
          "y1": 32
         },
         {
          "fillcolor": "purple",
          "line": {
           "width": 0
          },
          "opacity": 0.5,
          "type": "rect",
          "x0": 9,
          "x1": 18,
          "y0": 66,
          "y1": 75
         },
         {
          "fillcolor": "purple",
          "line": {
           "width": 0
          },
          "opacity": 0.5,
          "type": "rect",
          "x0": 73,
          "x1": 80,
          "y0": 7,
          "y1": 14
         },
         {
          "fillcolor": "purple",
          "line": {
           "width": 0
          },
          "opacity": 0.5,
          "type": "rect",
          "x0": 32,
          "x1": 47,
          "y0": 11,
          "y1": 25
         },
         {
          "fillcolor": "purple",
          "line": {
           "width": 0
          },
          "opacity": 0.5,
          "type": "rect",
          "x0": 83,
          "x1": 94,
          "y0": 55,
          "y1": 68
         },
         {
          "fillcolor": "purple",
          "line": {
           "width": 0
          },
          "opacity": 0.5,
          "type": "rect",
          "x0": 30,
          "x1": 42,
          "y0": 51,
          "y1": 64
         },
         {
          "fillcolor": "purple",
          "line": {
           "width": 0
          },
          "opacity": 0.5,
          "type": "rect",
          "x0": 50,
          "x1": 62,
          "y0": 34,
          "y1": 42
         },
         {
          "fillcolor": "purple",
          "line": {
           "width": 0
          },
          "opacity": 0.5,
          "type": "rect",
          "x0": 34,
          "x1": 41,
          "y0": 69,
          "y1": 76
         },
         {
          "fillcolor": "purple",
          "line": {
           "width": 0
          },
          "opacity": 0.5,
          "type": "rect",
          "x0": 4,
          "x1": 16,
          "y0": 87,
          "y1": 96
         },
         {
          "fillcolor": "purple",
          "line": {
           "width": 0
          },
          "opacity": 0.5,
          "type": "rect",
          "x0": 78,
          "x1": 83,
          "y0": 23,
          "y1": 30
         },
         {
          "fillcolor": "purple",
          "line": {
           "width": 0
          },
          "opacity": 0.5,
          "type": "rect",
          "x0": 72,
          "x1": 79,
          "y0": 51,
          "y1": 60
         },
         {
          "fillcolor": "purple",
          "line": {
           "width": 0
          },
          "opacity": 0.5,
          "type": "rect",
          "x0": 48,
          "x1": 58,
          "y0": 16,
          "y1": 22
         },
         {
          "fillcolor": "purple",
          "line": {
           "width": 0
          },
          "opacity": 0.5,
          "type": "rect",
          "x0": 75,
          "x1": 88,
          "y0": 94,
          "y1": 99
         },
         {
          "fillcolor": "purple",
          "line": {
           "width": 0
          },
          "opacity": 0.5,
          "type": "rect",
          "x0": 62,
          "x1": 68,
          "y0": 82,
          "y1": 96
         },
         {
          "fillcolor": "purple",
          "line": {
           "width": 0
          },
          "opacity": 0.5,
          "type": "rect",
          "x0": 57,
          "x1": 62,
          "y0": 67,
          "y1": 78
         },
         {
          "fillcolor": "purple",
          "line": {
           "width": 0
          },
          "opacity": 0.5,
          "type": "rect",
          "x0": 2,
          "x1": 11,
          "y0": 33,
          "y1": 43
         },
         {
          "fillcolor": "purple",
          "line": {
           "width": 0
          },
          "opacity": 0.5,
          "type": "rect",
          "x0": 67,
          "x1": 76,
          "y0": 0,
          "y1": 7
         },
         {
          "fillcolor": "purple",
          "line": {
           "width": 0
          },
          "opacity": 0.5,
          "type": "rect",
          "x0": 28,
          "x1": 39,
          "y0": 42,
          "y1": 50
         },
         {
          "fillcolor": "purple",
          "line": {
           "width": 0
          },
          "opacity": 0.5,
          "type": "rect",
          "x0": 66,
          "x1": 71,
          "y0": 60,
          "y1": 72
         },
         {
          "fillcolor": "purple",
          "line": {
           "width": 0
          },
          "opacity": 0.5,
          "type": "rect",
          "x0": 7,
          "x1": 13,
          "y0": 52,
          "y1": 66
         },
         {
          "fillcolor": "rgba(0,0,0,0)",
          "layer": "above",
          "line": {
           "color": "white",
           "width": 3
          },
          "type": "rect",
          "x0": 0,
          "x1": 100,
          "y0": 0,
          "y1": 100
         }
        ],
        "template": {
         "data": {
          "bar": [
           {
            "error_x": {
             "color": "#2a3f5f"
            },
            "error_y": {
             "color": "#2a3f5f"
            },
            "marker": {
             "line": {
              "color": "#E5ECF6",
              "width": 0.5
             },
             "pattern": {
              "fillmode": "overlay",
              "size": 10,
              "solidity": 0.2
             }
            },
            "type": "bar"
           }
          ],
          "barpolar": [
           {
            "marker": {
             "line": {
              "color": "#E5ECF6",
              "width": 0.5
             },
             "pattern": {
              "fillmode": "overlay",
              "size": 10,
              "solidity": 0.2
             }
            },
            "type": "barpolar"
           }
          ],
          "carpet": [
           {
            "aaxis": {
             "endlinecolor": "#2a3f5f",
             "gridcolor": "white",
             "linecolor": "white",
             "minorgridcolor": "white",
             "startlinecolor": "#2a3f5f"
            },
            "baxis": {
             "endlinecolor": "#2a3f5f",
             "gridcolor": "white",
             "linecolor": "white",
             "minorgridcolor": "white",
             "startlinecolor": "#2a3f5f"
            },
            "type": "carpet"
           }
          ],
          "choropleth": [
           {
            "colorbar": {
             "outlinewidth": 0,
             "ticks": ""
            },
            "type": "choropleth"
           }
          ],
          "contour": [
           {
            "colorbar": {
             "outlinewidth": 0,
             "ticks": ""
            },
            "colorscale": [
             [
              0,
              "#0d0887"
             ],
             [
              0.1111111111111111,
              "#46039f"
             ],
             [
              0.2222222222222222,
              "#7201a8"
             ],
             [
              0.3333333333333333,
              "#9c179e"
             ],
             [
              0.4444444444444444,
              "#bd3786"
             ],
             [
              0.5555555555555556,
              "#d8576b"
             ],
             [
              0.6666666666666666,
              "#ed7953"
             ],
             [
              0.7777777777777778,
              "#fb9f3a"
             ],
             [
              0.8888888888888888,
              "#fdca26"
             ],
             [
              1,
              "#f0f921"
             ]
            ],
            "type": "contour"
           }
          ],
          "contourcarpet": [
           {
            "colorbar": {
             "outlinewidth": 0,
             "ticks": ""
            },
            "type": "contourcarpet"
           }
          ],
          "heatmap": [
           {
            "colorbar": {
             "outlinewidth": 0,
             "ticks": ""
            },
            "colorscale": [
             [
              0,
              "#0d0887"
             ],
             [
              0.1111111111111111,
              "#46039f"
             ],
             [
              0.2222222222222222,
              "#7201a8"
             ],
             [
              0.3333333333333333,
              "#9c179e"
             ],
             [
              0.4444444444444444,
              "#bd3786"
             ],
             [
              0.5555555555555556,
              "#d8576b"
             ],
             [
              0.6666666666666666,
              "#ed7953"
             ],
             [
              0.7777777777777778,
              "#fb9f3a"
             ],
             [
              0.8888888888888888,
              "#fdca26"
             ],
             [
              1,
              "#f0f921"
             ]
            ],
            "type": "heatmap"
           }
          ],
          "histogram": [
           {
            "marker": {
             "pattern": {
              "fillmode": "overlay",
              "size": 10,
              "solidity": 0.2
             }
            },
            "type": "histogram"
           }
          ],
          "histogram2d": [
           {
            "colorbar": {
             "outlinewidth": 0,
             "ticks": ""
            },
            "colorscale": [
             [
              0,
              "#0d0887"
             ],
             [
              0.1111111111111111,
              "#46039f"
             ],
             [
              0.2222222222222222,
              "#7201a8"
             ],
             [
              0.3333333333333333,
              "#9c179e"
             ],
             [
              0.4444444444444444,
              "#bd3786"
             ],
             [
              0.5555555555555556,
              "#d8576b"
             ],
             [
              0.6666666666666666,
              "#ed7953"
             ],
             [
              0.7777777777777778,
              "#fb9f3a"
             ],
             [
              0.8888888888888888,
              "#fdca26"
             ],
             [
              1,
              "#f0f921"
             ]
            ],
            "type": "histogram2d"
           }
          ],
          "histogram2dcontour": [
           {
            "colorbar": {
             "outlinewidth": 0,
             "ticks": ""
            },
            "colorscale": [
             [
              0,
              "#0d0887"
             ],
             [
              0.1111111111111111,
              "#46039f"
             ],
             [
              0.2222222222222222,
              "#7201a8"
             ],
             [
              0.3333333333333333,
              "#9c179e"
             ],
             [
              0.4444444444444444,
              "#bd3786"
             ],
             [
              0.5555555555555556,
              "#d8576b"
             ],
             [
              0.6666666666666666,
              "#ed7953"
             ],
             [
              0.7777777777777778,
              "#fb9f3a"
             ],
             [
              0.8888888888888888,
              "#fdca26"
             ],
             [
              1,
              "#f0f921"
             ]
            ],
            "type": "histogram2dcontour"
           }
          ],
          "mesh3d": [
           {
            "colorbar": {
             "outlinewidth": 0,
             "ticks": ""
            },
            "type": "mesh3d"
           }
          ],
          "parcoords": [
           {
            "line": {
             "colorbar": {
              "outlinewidth": 0,
              "ticks": ""
             }
            },
            "type": "parcoords"
           }
          ],
          "pie": [
           {
            "automargin": true,
            "type": "pie"
           }
          ],
          "scatter": [
           {
            "fillpattern": {
             "fillmode": "overlay",
             "size": 10,
             "solidity": 0.2
            },
            "type": "scatter"
           }
          ],
          "scatter3d": [
           {
            "line": {
             "colorbar": {
              "outlinewidth": 0,
              "ticks": ""
             }
            },
            "marker": {
             "colorbar": {
              "outlinewidth": 0,
              "ticks": ""
             }
            },
            "type": "scatter3d"
           }
          ],
          "scattercarpet": [
           {
            "marker": {
             "colorbar": {
              "outlinewidth": 0,
              "ticks": ""
             }
            },
            "type": "scattercarpet"
           }
          ],
          "scattergeo": [
           {
            "marker": {
             "colorbar": {
              "outlinewidth": 0,
              "ticks": ""
             }
            },
            "type": "scattergeo"
           }
          ],
          "scattergl": [
           {
            "marker": {
             "colorbar": {
              "outlinewidth": 0,
              "ticks": ""
             }
            },
            "type": "scattergl"
           }
          ],
          "scattermap": [
           {
            "marker": {
             "colorbar": {
              "outlinewidth": 0,
              "ticks": ""
             }
            },
            "type": "scattermap"
           }
          ],
          "scattermapbox": [
           {
            "marker": {
             "colorbar": {
              "outlinewidth": 0,
              "ticks": ""
             }
            },
            "type": "scattermapbox"
           }
          ],
          "scatterpolar": [
           {
            "marker": {
             "colorbar": {
              "outlinewidth": 0,
              "ticks": ""
             }
            },
            "type": "scatterpolar"
           }
          ],
          "scatterpolargl": [
           {
            "marker": {
             "colorbar": {
              "outlinewidth": 0,
              "ticks": ""
             }
            },
            "type": "scatterpolargl"
           }
          ],
          "scatterternary": [
           {
            "marker": {
             "colorbar": {
              "outlinewidth": 0,
              "ticks": ""
             }
            },
            "type": "scatterternary"
           }
          ],
          "surface": [
           {
            "colorbar": {
             "outlinewidth": 0,
             "ticks": ""
            },
            "colorscale": [
             [
              0,
              "#0d0887"
             ],
             [
              0.1111111111111111,
              "#46039f"
             ],
             [
              0.2222222222222222,
              "#7201a8"
             ],
             [
              0.3333333333333333,
              "#9c179e"
             ],
             [
              0.4444444444444444,
              "#bd3786"
             ],
             [
              0.5555555555555556,
              "#d8576b"
             ],
             [
              0.6666666666666666,
              "#ed7953"
             ],
             [
              0.7777777777777778,
              "#fb9f3a"
             ],
             [
              0.8888888888888888,
              "#fdca26"
             ],
             [
              1,
              "#f0f921"
             ]
            ],
            "type": "surface"
           }
          ],
          "table": [
           {
            "cells": {
             "fill": {
              "color": "#EBF0F8"
             },
             "line": {
              "color": "white"
             }
            },
            "header": {
             "fill": {
              "color": "#C8D4E3"
             },
             "line": {
              "color": "white"
             }
            },
            "type": "table"
           }
          ]
         },
         "layout": {
          "annotationdefaults": {
           "arrowcolor": "#2a3f5f",
           "arrowhead": 0,
           "arrowwidth": 1
          },
          "autotypenumbers": "strict",
          "coloraxis": {
           "colorbar": {
            "outlinewidth": 0,
            "ticks": ""
           }
          },
          "colorscale": {
           "diverging": [
            [
             0,
             "#8e0152"
            ],
            [
             0.1,
             "#c51b7d"
            ],
            [
             0.2,
             "#de77ae"
            ],
            [
             0.3,
             "#f1b6da"
            ],
            [
             0.4,
             "#fde0ef"
            ],
            [
             0.5,
             "#f7f7f7"
            ],
            [
             0.6,
             "#e6f5d0"
            ],
            [
             0.7,
             "#b8e186"
            ],
            [
             0.8,
             "#7fbc41"
            ],
            [
             0.9,
             "#4d9221"
            ],
            [
             1,
             "#276419"
            ]
           ],
           "sequential": [
            [
             0,
             "#0d0887"
            ],
            [
             0.1111111111111111,
             "#46039f"
            ],
            [
             0.2222222222222222,
             "#7201a8"
            ],
            [
             0.3333333333333333,
             "#9c179e"
            ],
            [
             0.4444444444444444,
             "#bd3786"
            ],
            [
             0.5555555555555556,
             "#d8576b"
            ],
            [
             0.6666666666666666,
             "#ed7953"
            ],
            [
             0.7777777777777778,
             "#fb9f3a"
            ],
            [
             0.8888888888888888,
             "#fdca26"
            ],
            [
             1,
             "#f0f921"
            ]
           ],
           "sequentialminus": [
            [
             0,
             "#0d0887"
            ],
            [
             0.1111111111111111,
             "#46039f"
            ],
            [
             0.2222222222222222,
             "#7201a8"
            ],
            [
             0.3333333333333333,
             "#9c179e"
            ],
            [
             0.4444444444444444,
             "#bd3786"
            ],
            [
             0.5555555555555556,
             "#d8576b"
            ],
            [
             0.6666666666666666,
             "#ed7953"
            ],
            [
             0.7777777777777778,
             "#fb9f3a"
            ],
            [
             0.8888888888888888,
             "#fdca26"
            ],
            [
             1,
             "#f0f921"
            ]
           ]
          },
          "colorway": [
           "#636efa",
           "#EF553B",
           "#00cc96",
           "#ab63fa",
           "#FFA15A",
           "#19d3f3",
           "#FF6692",
           "#B6E880",
           "#FF97FF",
           "#FECB52"
          ],
          "font": {
           "color": "#2a3f5f"
          },
          "geo": {
           "bgcolor": "white",
           "lakecolor": "white",
           "landcolor": "#E5ECF6",
           "showlakes": true,
           "showland": true,
           "subunitcolor": "white"
          },
          "hoverlabel": {
           "align": "left"
          },
          "hovermode": "closest",
          "mapbox": {
           "style": "light"
          },
          "paper_bgcolor": "white",
          "plot_bgcolor": "#E5ECF6",
          "polar": {
           "angularaxis": {
            "gridcolor": "white",
            "linecolor": "white",
            "ticks": ""
           },
           "bgcolor": "#E5ECF6",
           "radialaxis": {
            "gridcolor": "white",
            "linecolor": "white",
            "ticks": ""
           }
          },
          "scene": {
           "xaxis": {
            "backgroundcolor": "#E5ECF6",
            "gridcolor": "white",
            "gridwidth": 2,
            "linecolor": "white",
            "showbackground": true,
            "ticks": "",
            "zerolinecolor": "white"
           },
           "yaxis": {
            "backgroundcolor": "#E5ECF6",
            "gridcolor": "white",
            "gridwidth": 2,
            "linecolor": "white",
            "showbackground": true,
            "ticks": "",
            "zerolinecolor": "white"
           },
           "zaxis": {
            "backgroundcolor": "#E5ECF6",
            "gridcolor": "white",
            "gridwidth": 2,
            "linecolor": "white",
            "showbackground": true,
            "ticks": "",
            "zerolinecolor": "white"
           }
          },
          "shapedefaults": {
           "line": {
            "color": "#2a3f5f"
           }
          },
          "ternary": {
           "aaxis": {
            "gridcolor": "white",
            "linecolor": "white",
            "ticks": ""
           },
           "baxis": {
            "gridcolor": "white",
            "linecolor": "white",
            "ticks": ""
           },
           "bgcolor": "#E5ECF6",
           "caxis": {
            "gridcolor": "white",
            "linecolor": "white",
            "ticks": ""
           }
          },
          "title": {
           "x": 0.05
          },
          "xaxis": {
           "automargin": true,
           "gridcolor": "white",
           "linecolor": "white",
           "ticks": "",
           "title": {
            "standoff": 15
           },
           "zerolinecolor": "white",
           "zerolinewidth": 2
          },
          "yaxis": {
           "automargin": true,
           "gridcolor": "white",
           "linecolor": "white",
           "ticks": "",
           "title": {
            "standoff": 15
           },
           "zerolinecolor": "white",
           "zerolinewidth": 2
          }
         }
        },
        "title": {
         "text": "Map Visualization"
        },
        "width": 600,
        "xaxis": {
         "scaleanchor": "y",
         "showgrid": false
        },
        "yaxis": {
         "showgrid": false
        }
       }
      }
     },
     "metadata": {},
     "output_type": "display_data"
    }
   ],
   "source": [
    "visualize_map_shapes(multi_obs_map.grid, obs=multi_obs_map.obstacles, start=multi_obs_map.start, goal=multi_obs_map.goal,\n",
    "                      path=result.path, nodes=list(map(lambda x: x.position, result.nodes)), edges=result.edges)"
   ]
  },
  {
   "cell_type": "code",
   "execution_count": 92,
   "id": "5fc2faa6",
   "metadata": {},
   "outputs": [
    {
     "data": {
      "application/vnd.plotly.v1+json": {
       "config": {
        "plotlyServerURL": "https://plot.ly"
       },
       "data": [
        {
         "marker": {
          "color": "blue",
          "size": 4
         },
         "mode": "markers",
         "name": "nodes",
         "type": "scatter",
         "x": [
          29,
          90,
          32.2848914048389,
          86.7151085951611,
          83.4302171903222,
          35.27692214489904,
          40.06677675878969,
          43.240414970525386,
          83.45062352988286,
          82.28453503523033,
          24.93486478497,
          26.470193862264267,
          23.852600101979604,
          19.94684258927595,
          80.16868702372899,
          43.35678729064134,
          23.621004871828056,
          80.8550674734178,
          92.37821094817443,
          22.079215380436633,
          19.226192170703083,
          43.93922468306345,
          22.745727688811975,
          85.8488164352292,
          21.109157867543292,
          87.49910006138964,
          83.05891978989048,
          22.89148381389805,
          21.714866800897745,
          91.86878049626749,
          44.17457192467311,
          13.382174607109398,
          44.96442948618603,
          95.87291064830954,
          26.02890577030868,
          94.12159232872038,
          82.77524861446015,
          26.01282343433093,
          17.776626695673315,
          85.15354917526857,
          21.34553543366343,
          14.296155399871923,
          84.8492352112437,
          10.851612872032957,
          39.45636874411096,
          20.63615130849951,
          20.63625840491802,
          88.47236709704411,
          6.951539957331593,
          92.79246984602096,
          15.758665376319456,
          96.81479019930646,
          24.714366446613777,
          11.801767439370838,
          88.16466809664604,
          24.003944953347418,
          89.49411317740257,
          35.41042020952444,
          99.04645983149138,
          25.556886128990413,
          91.61772643964873,
          88.05548359336076,
          21.2305494166123,
          8.430265603766095,
          92.95869743291705,
          30.453980627497746,
          35.35107512600508,
          40.248169624512414,
          45.14526412301975,
          50.042358621527086,
          54.93945312003442,
          59.83654761854176,
          64.73364211704909,
          69.63073661555642,
          74.52783111406374,
          85.96331184478014,
          89.77712447011432,
          80.56302353528932,
          81.00635880821166,
          76.00695422285304,
          71.01831068811191,
          66.83083828735019,
          15.316957497153945,
          19.51399297731219,
          62.193597089463694,
          57.5563558915772,
          52.9191146936907,
          21.73644498874512,
          50.79624473874237,
          88.34105527773428,
          37.16381845242023,
          92.46975426597048,
          41.541061954224055,
          27.05656264654196,
          76.0183885105701,
          31.765858588050822,
          73.92835649403634,
          44.29137326527807,
          32.4543742844199,
          72.83594684596326,
          69.00855808609154,
          33.93051491951741,
          87.1417655157267,
          7.861452236603913,
          48.888129527971984,
          98.55943653591864,
          11.702972780735344,
          76.714543793489,
          96.64232673034057,
          80.50554131078653,
          24.596777246737844,
          72.36295496772279,
          90,
          64.84658616730769,
          16.75889903476394,
          88.80014244611871,
          98.23110668998788,
          41.49690267763836,
          29,
          63.82551169179782,
          83.9651598945676,
          24.16765914061302,
          63.85217124068318,
          65.91061652130111,
          90,
          52.9412096835854,
          7.844476760537233,
          68.04012935434694,
          50.24585665318811,
          29,
          14.399908519546912,
          65.32288452361192,
          56.52904445399778,
          38.05446961635612,
          3.0248709488988252,
          64.24034192165345,
          83.52558280369468,
          41.02670529943593,
          15.397895903250635,
          96.74573675912357,
          98.67779586477597,
          18.226064387059292,
          7.332375859075194,
          53.10887114527129,
          68.78151141442945,
          28.13779859698927,
          43.50978318344533,
          66.86764698782598,
          84.62799060310037,
          37.32124409166906,
          6.702947664240089,
          93.30477211330899,
          88.13886170311245,
          55.93615004454936,
          23.40099404875241,
          85.59462465656983,
          90,
          29,
          37.771834530089826,
          90,
          66.19566198415795,
          18.913983608414796,
          41.03752779360596,
          88.63813524026763,
          85.88005496148735,
          13.846289799931661,
          52.4792900808957,
          90,
          58.97641440863456,
          43.1434470155049,
          6.417669698248119,
          99.3148830009597,
          93.1019075256983,
          29,
          25.761754077987366,
          88.18092612866063,
          80.83554146248258,
          16.086258683556686,
          29,
          90,
          80.33426118793027,
          29.390758232042767,
          41.47576088278556,
          80.20889156475323,
          52.703067515198235,
          5.63983115219394,
          58.68392042058688,
          54.374132638479665,
          52.78359960274314,
          53.680670531260624,
          29,
          90,
          84.59739697566326,
          29,
          45.33055474228021,
          56.265322219925466,
          60.206418603252594,
          3.8072863945611934,
          2.939248054893648,
          53.754403496545905,
          88.1040016389923,
          8.643971607880907,
          38.10052039228983,
          54.2438501104955,
          50.97057801207856,
          10.665538732737145,
          6.8303362313050116,
          90,
          88.57689089147584,
          18.711584733188836,
          46.003783022292026,
          41.03698803250549,
          36.070193042718955,
          31.103398052932416,
          39.01161993106784,
          40.49423334760673,
          39.95147866270797,
          39.40872397780921,
          39.01161993106784
         ],
         "y": [
          10,
          80,
          13.769547513749561,
          76.23045248625044,
          72.46090497250088,
          17.77551207307047,
          19.2098386669083,
          23.073518325085345,
          64.9396902532456,
          60.077567504626536,
          12.911129623277361,
          16.539163494175657,
          20.799234257216902,
          12.56524730909593,
          50.406605810081814,
          15.444758229480009,
          25.79386774220567,
          45.453941690813785,
          84.39819425287052,
          30.550219828020488,
          9.65769097083886,
          30.84576496845368,
          35.50559684120366,
          45.7038842970411,
          40.23017504672768,
          70.27514147686676,
          37.186044539256,
          44.90171807028538,
          49.76130369096522,
          67.84493718565055,
          35.84022306477071,
          9.289456356050668,
          40.77744141446124,
          91.63795888151118,
          52.28896422402813,
          77.16936814901102,
          79.30900788326235,
          57.288938359808185,
          34.95058754399469,
          32.645942366627,
          59.0823771568752,
          38.54033956316017,
          42.336593362209385,
          34.916098018518205,
          37.4950821968219,
          64.03179875570525,
          69.0317987545583,
          77.94900481777107,
          38.044904701586496,
          62.93099803409891,
          70.13138333400941,
          59.96099147256656,
          71.92472716712858,
          67.07475795353314,
          87.0900442929608,
          76.87399997249153,
          26.481940235591722,
          9.866847206131643,
          56.631090942146464,
          81.62672274002095,
          21.95532265593998,
          18.446701002915802,
          68.13574094427783,
          8.59764914113633,
          95.51685043074235,
          82.63591324368674,
          83.64510374735254,
          84.65429425101833,
          85.66348475468412,
          86.67267525834991,
          87.6818657620157,
          88.6910562656815,
          89.70024676934727,
          90.70943727301307,
          91.71862777667884,
          13.90546577729259,
          10.672072318580577,
          55.30440393756233,
          13.250777612396853,
          13.173616794002474,
          12.83681465136441,
          15.569043575312552,
          75.11183453339719,
          34.647421174150864,
          17.4388013330513,
          19.308559090790045,
          21.178316848528794,
          56.99836957714681,
          25.70528306823683,
          5.8827398729575995,
          81.34005986471524,
          88.12826779609676,
          33.82136843028163,
          5.9694213310443995,
          86.94597247300143,
          88.94329327554385,
          20.12443804222538,
          82.25075834047847,
          84.31740674162992,
          15.357092585170108,
          91.49939817905191,
          93.45042794921865,
          29.962740613571302,
          78.85271969632555,
          80.28356951848292,
          51.654866639568304,
          78.19693797064254,
          81.99467286359946,
          67.42512051692304,
          10.567888354965383,
          96.93795339454097,
          12.103209281902727,
          80,
          90.58022894364024,
          50.42340904590707,
          30.89255429059563,
          20.1931742484596,
          7.8202005985553935,
          10,
          26.725244574540586,
          98.42943910151806,
          10.151061241575999,
          90.93885667726515,
          5.205080188154321,
          80,
          86.57820487963534,
          11.382414690091835,
          29.41541147615264,
          35.655155138323245,
          10,
          34.57366613383043,
          16.116810715449326,
          14.78023969670753,
          19.076872478467056,
          47.2415927651356,
          4.306500416115799,
          19.531530623021897,
          23.431709148623582,
          70.5507011254604,
          74.24482348614313,
          46.12236449211109,
          76.7033711446743,
          64.60839168875178,
          11.13299216764196,
          13.566605630125729,
          87.82858215278195,
          90.38844000275671,
          30.322439191320804,
          22.182889640459525,
          72.2097870873883,
          69.42920844830162,
          46.63814103957781,
          77.09846732668724,
          85.65905231513885,
          88.43640989542723,
          60.71836374791471,
          80,
          10,
          42.20277212732839,
          80,
          35.27707703427616,
          24.701720889827904,
          68.86475563062768,
          31.21901457540961,
          9.489673766179951,
          56.89516822094128,
          92.11676938557099,
          80,
          28.721872790326042,
          71.26248103470321,
          49.60932984524551,
          87.22649445645455,
          4.3549028813069794,
          10,
          12.094944208454939,
          64.73785586868233,
          90.84130531096038,
          28.306154392873108,
          10,
          80,
          86.81125775398309,
          93.8090897400063,
          63.88399747954786,
          89.8587579941571,
          40.00970618058001,
          88.45436708117747,
          87.22498954540913,
          34.77162236504594,
          30.34073923829309,
          79.41772430144846,
          10,
          80,
          8.756903750218548,
          10,
          95.0451331352852,
          23.67228361428517,
          33.568220867097054,
          45.894988430533665,
          62.22083475830446,
          44.89792596433807,
          42.57348848651789,
          70.81114564768642,
          44.69404615118019,
          49.873912500904794,
          53.65355398783516,
          31.31356821758784,
          39.80040176639851,
          80,
          81.25199808230704,
          49.91714724314495,
          53.078273595825024,
          52.50299320381489,
          51.92771281180475,
          51.352432419794624,
          71.0509673714233,
          57.47344764501244,
          62.443902086209995,
          67.41435652740755,
          71.0509673714233
         ]
        },
        {
         "line": {
          "color": "green"
         },
         "marker": {
          "size": 6
         },
         "mode": "lines+markers",
         "name": "Path",
         "type": "scatter",
         "x": [
          29,
          26.470193862264267,
          25.556886128990413,
          30.453980627497746,
          81.00635880821166,
          90
         ],
         "y": [
          10,
          16.539163494175657,
          81.62672274002095,
          82.63591324368674,
          13.250777612396853,
          80
         ]
        },
        {
         "hoverinfo": "skip",
         "line": {
          "color": "lightblue",
          "width": 1
         },
         "mode": "lines",
         "showlegend": false,
         "type": "scatter",
         "x": [
          29,
          32.2848914048389
         ],
         "y": [
          10,
          13.769547513749561
         ]
        },
        {
         "hoverinfo": "skip",
         "line": {
          "color": "lightblue",
          "width": 1
         },
         "mode": "lines",
         "showlegend": false,
         "type": "scatter",
         "x": [
          90,
          86.7151085951611
         ],
         "y": [
          80,
          76.23045248625044
         ]
        },
        {
         "hoverinfo": "skip",
         "line": {
          "color": "lightblue",
          "width": 1
         },
         "mode": "lines",
         "showlegend": false,
         "type": "scatter",
         "x": [
          86.7151085951611,
          83.4302171903222
         ],
         "y": [
          76.23045248625044,
          72.46090497250088
         ]
        },
        {
         "hoverinfo": "skip",
         "line": {
          "color": "lightblue",
          "width": 1
         },
         "mode": "lines",
         "showlegend": false,
         "type": "scatter",
         "x": [
          29,
          35.27692214489904
         ],
         "y": [
          10,
          17.77551207307047
         ]
        },
        {
         "hoverinfo": "skip",
         "line": {
          "color": "lightblue",
          "width": 1
         },
         "mode": "lines",
         "showlegend": false,
         "type": "scatter",
         "x": [
          32.2848914048389,
          40.06677675878969
         ],
         "y": [
          13.769547513749561,
          19.2098386669083
         ]
        },
        {
         "hoverinfo": "skip",
         "line": {
          "color": "lightblue",
          "width": 1
         },
         "mode": "lines",
         "showlegend": false,
         "type": "scatter",
         "x": [
          40.06677675878969,
          43.240414970525386
         ],
         "y": [
          19.2098386669083,
          23.073518325085345
         ]
        },
        {
         "hoverinfo": "skip",
         "line": {
          "color": "lightblue",
          "width": 1
         },
         "mode": "lines",
         "showlegend": false,
         "type": "scatter",
         "x": [
          83.4302171903222,
          83.45062352988286
         ],
         "y": [
          72.46090497250088,
          64.9396902532456
         ]
        },
        {
         "hoverinfo": "skip",
         "line": {
          "color": "lightblue",
          "width": 1
         },
         "mode": "lines",
         "showlegend": false,
         "type": "scatter",
         "x": [
          83.45062352988286,
          82.28453503523033
         ],
         "y": [
          64.9396902532456,
          60.077567504626536
         ]
        },
        {
         "hoverinfo": "skip",
         "line": {
          "color": "lightblue",
          "width": 1
         },
         "mode": "lines",
         "showlegend": false,
         "type": "scatter",
         "x": [
          29,
          24.93486478497
         ],
         "y": [
          10,
          12.911129623277361
         ]
        },
        {
         "hoverinfo": "skip",
         "line": {
          "color": "lightblue",
          "width": 1
         },
         "mode": "lines",
         "showlegend": false,
         "type": "scatter",
         "x": [
          29,
          26.470193862264267
         ],
         "y": [
          10,
          16.539163494175657
         ]
        },
        {
         "hoverinfo": "skip",
         "line": {
          "color": "lightblue",
          "width": 1
         },
         "mode": "lines",
         "showlegend": false,
         "type": "scatter",
         "x": [
          26.470193862264267,
          23.852600101979604
         ],
         "y": [
          16.539163494175657,
          20.799234257216902
         ]
        },
        {
         "hoverinfo": "skip",
         "line": {
          "color": "lightblue",
          "width": 1
         },
         "mode": "lines",
         "showlegend": false,
         "type": "scatter",
         "x": [
          29,
          19.94684258927595
         ],
         "y": [
          10,
          12.56524730909593
         ]
        },
        {
         "hoverinfo": "skip",
         "line": {
          "color": "lightblue",
          "width": 1
         },
         "mode": "lines",
         "showlegend": false,
         "type": "scatter",
         "x": [
          35.27692214489904,
          43.35678729064134
         ],
         "y": [
          17.77551207307047,
          15.444758229480009
         ]
        },
        {
         "hoverinfo": "skip",
         "line": {
          "color": "lightblue",
          "width": 1
         },
         "mode": "lines",
         "showlegend": false,
         "type": "scatter",
         "x": [
          23.852600101979604,
          23.621004871828056
         ],
         "y": [
          20.799234257216902,
          25.79386774220567
         ]
        },
        {
         "hoverinfo": "skip",
         "line": {
          "color": "lightblue",
          "width": 1
         },
         "mode": "lines",
         "showlegend": false,
         "type": "scatter",
         "x": [
          80.16868702372899,
          80.8550674734178
         ],
         "y": [
          50.406605810081814,
          45.453941690813785
         ]
        },
        {
         "hoverinfo": "skip",
         "line": {
          "color": "lightblue",
          "width": 1
         },
         "mode": "lines",
         "showlegend": false,
         "type": "scatter",
         "x": [
          90,
          92.37821094817443
         ],
         "y": [
          80,
          84.39819425287052
         ]
        },
        {
         "hoverinfo": "skip",
         "line": {
          "color": "lightblue",
          "width": 1
         },
         "mode": "lines",
         "showlegend": false,
         "type": "scatter",
         "x": [
          23.621004871828056,
          22.079215380436633
         ],
         "y": [
          25.79386774220567,
          30.550219828020488
         ]
        },
        {
         "hoverinfo": "skip",
         "line": {
          "color": "lightblue",
          "width": 1
         },
         "mode": "lines",
         "showlegend": false,
         "type": "scatter",
         "x": [
          43.240414970525386,
          43.93922468306345
         ],
         "y": [
          23.073518325085345,
          30.84576496845368
         ]
        },
        {
         "hoverinfo": "skip",
         "line": {
          "color": "lightblue",
          "width": 1
         },
         "mode": "lines",
         "showlegend": false,
         "type": "scatter",
         "x": [
          22.079215380436633,
          22.745727688811975
         ],
         "y": [
          30.550219828020488,
          35.50559684120366
         ]
        },
        {
         "hoverinfo": "skip",
         "line": {
          "color": "lightblue",
          "width": 1
         },
         "mode": "lines",
         "showlegend": false,
         "type": "scatter",
         "x": [
          80.16868702372899,
          85.8488164352292
         ],
         "y": [
          50.406605810081814,
          45.7038842970411
         ]
        },
        {
         "hoverinfo": "skip",
         "line": {
          "color": "lightblue",
          "width": 1
         },
         "mode": "lines",
         "showlegend": false,
         "type": "scatter",
         "x": [
          22.745727688811975,
          21.109157867543292
         ],
         "y": [
          35.50559684120366,
          40.23017504672768
         ]
        },
        {
         "hoverinfo": "skip",
         "line": {
          "color": "lightblue",
          "width": 1
         },
         "mode": "lines",
         "showlegend": false,
         "type": "scatter",
         "x": [
          86.7151085951611,
          87.49910006138964
         ],
         "y": [
          76.23045248625044,
          70.27514147686676
         ]
        },
        {
         "hoverinfo": "skip",
         "line": {
          "color": "lightblue",
          "width": 1
         },
         "mode": "lines",
         "showlegend": false,
         "type": "scatter",
         "x": [
          21.109157867543292,
          22.89148381389805
         ],
         "y": [
          40.23017504672768,
          44.90171807028538
         ]
        },
        {
         "hoverinfo": "skip",
         "line": {
          "color": "lightblue",
          "width": 1
         },
         "mode": "lines",
         "showlegend": false,
         "type": "scatter",
         "x": [
          22.89148381389805,
          21.714866800897745
         ],
         "y": [
          44.90171807028538,
          49.76130369096522
         ]
        },
        {
         "hoverinfo": "skip",
         "line": {
          "color": "lightblue",
          "width": 1
         },
         "mode": "lines",
         "showlegend": false,
         "type": "scatter",
         "x": [
          87.49910006138964,
          91.86878049626749
         ],
         "y": [
          70.27514147686676,
          67.84493718565055
         ]
        },
        {
         "hoverinfo": "skip",
         "line": {
          "color": "lightblue",
          "width": 1
         },
         "mode": "lines",
         "showlegend": false,
         "type": "scatter",
         "x": [
          43.93922468306345,
          44.17457192467311
         ],
         "y": [
          30.84576496845368,
          35.84022306477071
         ]
        },
        {
         "hoverinfo": "skip",
         "line": {
          "color": "lightblue",
          "width": 1
         },
         "mode": "lines",
         "showlegend": false,
         "type": "scatter",
         "x": [
          19.226192170703083,
          13.382174607109398
         ],
         "y": [
          9.65769097083886,
          9.289456356050668
         ]
        },
        {
         "hoverinfo": "skip",
         "line": {
          "color": "lightblue",
          "width": 1
         },
         "mode": "lines",
         "showlegend": false,
         "type": "scatter",
         "x": [
          44.17457192467311,
          44.96442948618603
         ],
         "y": [
          35.84022306477071,
          40.77744141446124
         ]
        },
        {
         "hoverinfo": "skip",
         "line": {
          "color": "lightblue",
          "width": 1
         },
         "mode": "lines",
         "showlegend": false,
         "type": "scatter",
         "x": [
          21.714866800897745,
          26.02890577030868
         ],
         "y": [
          49.76130369096522,
          52.28896422402813
         ]
        },
        {
         "hoverinfo": "skip",
         "line": {
          "color": "lightblue",
          "width": 1
         },
         "mode": "lines",
         "showlegend": false,
         "type": "scatter",
         "x": [
          90,
          94.12159232872038
         ],
         "y": [
          80,
          77.16936814901102
         ]
        },
        {
         "hoverinfo": "skip",
         "line": {
          "color": "lightblue",
          "width": 1
         },
         "mode": "lines",
         "showlegend": false,
         "type": "scatter",
         "x": [
          26.02890577030868,
          26.01282343433093
         ],
         "y": [
          52.28896422402813,
          57.288938359808185
         ]
        },
        {
         "hoverinfo": "skip",
         "line": {
          "color": "lightblue",
          "width": 1
         },
         "mode": "lines",
         "showlegend": false,
         "type": "scatter",
         "x": [
          22.079215380436633,
          17.776626695673315
         ],
         "y": [
          30.550219828020488,
          34.95058754399469
         ]
        },
        {
         "hoverinfo": "skip",
         "line": {
          "color": "lightblue",
          "width": 1
         },
         "mode": "lines",
         "showlegend": false,
         "type": "scatter",
         "x": [
          83.05891978989048,
          85.15354917526857
         ],
         "y": [
          37.186044539256,
          32.645942366627
         ]
        },
        {
         "hoverinfo": "skip",
         "line": {
          "color": "lightblue",
          "width": 1
         },
         "mode": "lines",
         "showlegend": false,
         "type": "scatter",
         "x": [
          26.01282343433093,
          21.34553543366343
         ],
         "y": [
          57.288938359808185,
          59.0823771568752
         ]
        },
        {
         "hoverinfo": "skip",
         "line": {
          "color": "lightblue",
          "width": 1
         },
         "mode": "lines",
         "showlegend": false,
         "type": "scatter",
         "x": [
          17.776626695673315,
          14.296155399871923
         ],
         "y": [
          34.95058754399469,
          38.54033956316017
         ]
        },
        {
         "hoverinfo": "skip",
         "line": {
          "color": "lightblue",
          "width": 1
         },
         "mode": "lines",
         "showlegend": false,
         "type": "scatter",
         "x": [
          80.8550674734178,
          84.8492352112437
         ],
         "y": [
          45.453941690813785,
          42.336593362209385
         ]
        },
        {
         "hoverinfo": "skip",
         "line": {
          "color": "lightblue",
          "width": 1
         },
         "mode": "lines",
         "showlegend": false,
         "type": "scatter",
         "x": [
          84.8492352112437,
          83.05891978989048
         ],
         "y": [
          42.336593362209385,
          37.186044539256
         ]
        },
        {
         "hoverinfo": "skip",
         "line": {
          "color": "lightblue",
          "width": 1
         },
         "mode": "lines",
         "showlegend": false,
         "type": "scatter",
         "x": [
          21.34553543366343,
          20.63615130849951
         ],
         "y": [
          59.0823771568752,
          64.03179875570525
         ]
        },
        {
         "hoverinfo": "skip",
         "line": {
          "color": "lightblue",
          "width": 1
         },
         "mode": "lines",
         "showlegend": false,
         "type": "scatter",
         "x": [
          20.63615130849951,
          20.63625840491802
         ],
         "y": [
          64.03179875570525,
          69.0317987545583
         ]
        },
        {
         "hoverinfo": "skip",
         "line": {
          "color": "lightblue",
          "width": 1
         },
         "mode": "lines",
         "showlegend": false,
         "type": "scatter",
         "x": [
          90,
          88.47236709704411
         ],
         "y": [
          80,
          77.94900481777107
         ]
        },
        {
         "hoverinfo": "skip",
         "line": {
          "color": "lightblue",
          "width": 1
         },
         "mode": "lines",
         "showlegend": false,
         "type": "scatter",
         "x": [
          88.47236709704411,
          82.77524861446015
         ],
         "y": [
          77.94900481777107,
          79.30900788326235
         ]
        },
        {
         "hoverinfo": "skip",
         "line": {
          "color": "lightblue",
          "width": 1
         },
         "mode": "lines",
         "showlegend": false,
         "type": "scatter",
         "x": [
          10.851612872032957,
          6.951539957331593
         ],
         "y": [
          34.916098018518205,
          38.044904701586496
         ]
        },
        {
         "hoverinfo": "skip",
         "line": {
          "color": "lightblue",
          "width": 1
         },
         "mode": "lines",
         "showlegend": false,
         "type": "scatter",
         "x": [
          91.86878049626749,
          92.79246984602096
         ],
         "y": [
          67.84493718565055,
          62.93099803409891
         ]
        },
        {
         "hoverinfo": "skip",
         "line": {
          "color": "lightblue",
          "width": 1
         },
         "mode": "lines",
         "showlegend": false,
         "type": "scatter",
         "x": [
          20.63625840491802,
          15.758665376319456
         ],
         "y": [
          69.0317987545583,
          70.13138333400941
         ]
        },
        {
         "hoverinfo": "skip",
         "line": {
          "color": "lightblue",
          "width": 1
         },
         "mode": "lines",
         "showlegend": false,
         "type": "scatter",
         "x": [
          92.79246984602096,
          96.81479019930646
         ],
         "y": [
          62.93099803409891,
          59.96099147256656
         ]
        },
        {
         "hoverinfo": "skip",
         "line": {
          "color": "lightblue",
          "width": 1
         },
         "mode": "lines",
         "showlegend": false,
         "type": "scatter",
         "x": [
          15.758665376319456,
          11.801767439370838
         ],
         "y": [
          70.13138333400941,
          67.07475795353314
         ]
        },
        {
         "hoverinfo": "skip",
         "line": {
          "color": "lightblue",
          "width": 1
         },
         "mode": "lines",
         "showlegend": false,
         "type": "scatter",
         "x": [
          92.37821094817443,
          88.16466809664604
         ],
         "y": [
          84.39819425287052,
          87.0900442929608
         ]
        },
        {
         "hoverinfo": "skip",
         "line": {
          "color": "lightblue",
          "width": 1
         },
         "mode": "lines",
         "showlegend": false,
         "type": "scatter",
         "x": [
          24.714366446613777,
          24.003944953347418
         ],
         "y": [
          71.92472716712858,
          76.87399997249153
         ]
        },
        {
         "hoverinfo": "skip",
         "line": {
          "color": "lightblue",
          "width": 1
         },
         "mode": "lines",
         "showlegend": false,
         "type": "scatter",
         "x": [
          32.2848914048389,
          35.41042020952444
         ],
         "y": [
          13.769547513749561,
          9.866847206131643
         ]
        },
        {
         "hoverinfo": "skip",
         "line": {
          "color": "lightblue",
          "width": 1
         },
         "mode": "lines",
         "showlegend": false,
         "type": "scatter",
         "x": [
          96.81479019930646,
          99.04645983149138
         ],
         "y": [
          59.96099147256656,
          56.631090942146464
         ]
        },
        {
         "hoverinfo": "skip",
         "line": {
          "color": "lightblue",
          "width": 1
         },
         "mode": "lines",
         "showlegend": false,
         "type": "scatter",
         "x": [
          24.003944953347418,
          25.556886128990413
         ],
         "y": [
          76.87399997249153,
          81.62672274002095
         ]
        },
        {
         "hoverinfo": "skip",
         "line": {
          "color": "lightblue",
          "width": 1
         },
         "mode": "lines",
         "showlegend": false,
         "type": "scatter",
         "x": [
          89.49411317740257,
          91.61772643964873
         ],
         "y": [
          26.481940235591722,
          21.95532265593998
         ]
        },
        {
         "hoverinfo": "skip",
         "line": {
          "color": "lightblue",
          "width": 1
         },
         "mode": "lines",
         "showlegend": false,
         "type": "scatter",
         "x": [
          91.61772643964873,
          88.05548359336076
         ],
         "y": [
          21.95532265593998,
          18.446701002915802
         ]
        },
        {
         "hoverinfo": "skip",
         "line": {
          "color": "lightblue",
          "width": 1
         },
         "mode": "lines",
         "showlegend": false,
         "type": "scatter",
         "x": [
          20.63615130849951,
          21.2305494166123
         ],
         "y": [
          64.03179875570525,
          68.13574094427783
         ]
        },
        {
         "hoverinfo": "skip",
         "line": {
          "color": "lightblue",
          "width": 1
         },
         "mode": "lines",
         "showlegend": false,
         "type": "scatter",
         "x": [
          21.2305494166123,
          24.714366446613777
         ],
         "y": [
          68.13574094427783,
          71.92472716712858
         ]
        },
        {
         "hoverinfo": "skip",
         "line": {
          "color": "lightblue",
          "width": 1
         },
         "mode": "lines",
         "showlegend": false,
         "type": "scatter",
         "x": [
          13.382174607109398,
          8.430265603766095
         ],
         "y": [
          9.289456356050668,
          8.59764914113633
         ]
        },
        {
         "hoverinfo": "skip",
         "line": {
          "color": "lightblue",
          "width": 1
         },
         "mode": "lines",
         "showlegend": false,
         "type": "scatter",
         "x": [
          95.87291064830954,
          92.95869743291705
         ],
         "y": [
          91.63795888151118,
          95.51685043074235
         ]
        },
        {
         "hoverinfo": "skip",
         "line": {
          "color": "lightblue",
          "width": 1
         },
         "mode": "lines",
         "showlegend": false,
         "type": "scatter",
         "x": [
          25.556886128990413,
          30.453980627497746
         ],
         "y": [
          81.62672274002095,
          82.63591324368674
         ]
        },
        {
         "hoverinfo": "skip",
         "line": {
          "color": "lightblue",
          "width": 1
         },
         "mode": "lines",
         "showlegend": false,
         "type": "scatter",
         "x": [
          30.453980627497746,
          35.35107512600508
         ],
         "y": [
          82.63591324368674,
          83.64510374735254
         ]
        },
        {
         "hoverinfo": "skip",
         "line": {
          "color": "lightblue",
          "width": 1
         },
         "mode": "lines",
         "showlegend": false,
         "type": "scatter",
         "x": [
          35.35107512600508,
          40.248169624512414
         ],
         "y": [
          83.64510374735254,
          84.65429425101833
         ]
        },
        {
         "hoverinfo": "skip",
         "line": {
          "color": "lightblue",
          "width": 1
         },
         "mode": "lines",
         "showlegend": false,
         "type": "scatter",
         "x": [
          40.248169624512414,
          45.14526412301975
         ],
         "y": [
          84.65429425101833,
          85.66348475468412
         ]
        },
        {
         "hoverinfo": "skip",
         "line": {
          "color": "lightblue",
          "width": 1
         },
         "mode": "lines",
         "showlegend": false,
         "type": "scatter",
         "x": [
          45.14526412301975,
          50.042358621527086
         ],
         "y": [
          85.66348475468412,
          86.67267525834991
         ]
        },
        {
         "hoverinfo": "skip",
         "line": {
          "color": "lightblue",
          "width": 1
         },
         "mode": "lines",
         "showlegend": false,
         "type": "scatter",
         "x": [
          50.042358621527086,
          54.93945312003442
         ],
         "y": [
          86.67267525834991,
          87.6818657620157
         ]
        },
        {
         "hoverinfo": "skip",
         "line": {
          "color": "lightblue",
          "width": 1
         },
         "mode": "lines",
         "showlegend": false,
         "type": "scatter",
         "x": [
          54.93945312003442,
          59.83654761854176
         ],
         "y": [
          87.6818657620157,
          88.6910562656815
         ]
        },
        {
         "hoverinfo": "skip",
         "line": {
          "color": "lightblue",
          "width": 1
         },
         "mode": "lines",
         "showlegend": false,
         "type": "scatter",
         "x": [
          59.83654761854176,
          64.73364211704909
         ],
         "y": [
          88.6910562656815,
          89.70024676934727
         ]
        },
        {
         "hoverinfo": "skip",
         "line": {
          "color": "lightblue",
          "width": 1
         },
         "mode": "lines",
         "showlegend": false,
         "type": "scatter",
         "x": [
          64.73364211704909,
          69.63073661555642
         ],
         "y": [
          89.70024676934727,
          90.70943727301307
         ]
        },
        {
         "hoverinfo": "skip",
         "line": {
          "color": "lightblue",
          "width": 1
         },
         "mode": "lines",
         "showlegend": false,
         "type": "scatter",
         "x": [
          69.63073661555642,
          74.52783111406374
         ],
         "y": [
          90.70943727301307,
          91.71862777667884
         ]
        },
        {
         "hoverinfo": "skip",
         "line": {
          "color": "lightblue",
          "width": 1
         },
         "mode": "lines",
         "showlegend": false,
         "type": "scatter",
         "x": [
          88.05548359336076,
          85.96331184478014
         ],
         "y": [
          18.446701002915802,
          13.90546577729259
         ]
        },
        {
         "hoverinfo": "skip",
         "line": {
          "color": "lightblue",
          "width": 1
         },
         "mode": "lines",
         "showlegend": false,
         "type": "scatter",
         "x": [
          85.96331184478014,
          89.77712447011432
         ],
         "y": [
          13.90546577729259,
          10.672072318580577
         ]
        },
        {
         "hoverinfo": "skip",
         "line": {
          "color": "lightblue",
          "width": 1
         },
         "mode": "lines",
         "showlegend": false,
         "type": "scatter",
         "x": [
          82.28453503523033,
          80.56302353528932
         ],
         "y": [
          60.077567504626536,
          55.30440393756233
         ]
        },
        {
         "hoverinfo": "skip",
         "line": {
          "color": "lightblue",
          "width": 1
         },
         "mode": "lines",
         "showlegend": false,
         "type": "scatter",
         "x": [
          80.56302353528932,
          80.16868702372899
         ],
         "y": [
          55.30440393756233,
          50.406605810081814
         ]
        },
        {
         "hoverinfo": "skip",
         "line": {
          "color": "lightblue",
          "width": 1
         },
         "mode": "lines",
         "showlegend": false,
         "type": "scatter",
         "x": [
          85.96331184478014,
          81.00635880821166
         ],
         "y": [
          13.90546577729259,
          13.250777612396853
         ]
        },
        {
         "hoverinfo": "skip",
         "line": {
          "color": "lightblue",
          "width": 1
         },
         "mode": "lines",
         "showlegend": false,
         "type": "scatter",
         "x": [
          81.00635880821166,
          76.00695422285304
         ],
         "y": [
          13.250777612396853,
          13.173616794002474
         ]
        },
        {
         "hoverinfo": "skip",
         "line": {
          "color": "lightblue",
          "width": 1
         },
         "mode": "lines",
         "showlegend": false,
         "type": "scatter",
         "x": [
          76.00695422285304,
          71.01831068811191
         ],
         "y": [
          13.173616794002474,
          12.83681465136441
         ]
        },
        {
         "hoverinfo": "skip",
         "line": {
          "color": "lightblue",
          "width": 1
         },
         "mode": "lines",
         "showlegend": false,
         "type": "scatter",
         "x": [
          71.01831068811191,
          66.83083828735019
         ],
         "y": [
          12.83681465136441,
          15.569043575312552
         ]
        },
        {
         "hoverinfo": "skip",
         "line": {
          "color": "lightblue",
          "width": 1
         },
         "mode": "lines",
         "showlegend": false,
         "type": "scatter",
         "x": [
          15.758665376319456,
          15.316957497153945
         ],
         "y": [
          70.13138333400941,
          75.11183453339719
         ]
        },
        {
         "hoverinfo": "skip",
         "line": {
          "color": "lightblue",
          "width": 1
         },
         "mode": "lines",
         "showlegend": false,
         "type": "scatter",
         "x": [
          22.079215380436633,
          19.51399297731219
         ],
         "y": [
          30.550219828020488,
          34.647421174150864
         ]
        },
        {
         "hoverinfo": "skip",
         "line": {
          "color": "lightblue",
          "width": 1
         },
         "mode": "lines",
         "showlegend": false,
         "type": "scatter",
         "x": [
          66.83083828735019,
          62.193597089463694
         ],
         "y": [
          15.569043575312552,
          17.4388013330513
         ]
        },
        {
         "hoverinfo": "skip",
         "line": {
          "color": "lightblue",
          "width": 1
         },
         "mode": "lines",
         "showlegend": false,
         "type": "scatter",
         "x": [
          62.193597089463694,
          57.5563558915772
         ],
         "y": [
          17.4388013330513,
          19.308559090790045
         ]
        },
        {
         "hoverinfo": "skip",
         "line": {
          "color": "lightblue",
          "width": 1
         },
         "mode": "lines",
         "showlegend": false,
         "type": "scatter",
         "x": [
          57.5563558915772,
          52.9191146936907
         ],
         "y": [
          19.308559090790045,
          21.178316848528794
         ]
        },
        {
         "hoverinfo": "skip",
         "line": {
          "color": "lightblue",
          "width": 1
         },
         "mode": "lines",
         "showlegend": false,
         "type": "scatter",
         "x": [
          26.01282343433093,
          21.73644498874512
         ],
         "y": [
          57.288938359808185,
          56.99836957714681
         ]
        },
        {
         "hoverinfo": "skip",
         "line": {
          "color": "lightblue",
          "width": 1
         },
         "mode": "lines",
         "showlegend": false,
         "type": "scatter",
         "x": [
          52.9191146936907,
          50.79624473874237
         ],
         "y": [
          21.178316848528794,
          25.70528306823683
         ]
        },
        {
         "hoverinfo": "skip",
         "line": {
          "color": "lightblue",
          "width": 1
         },
         "mode": "lines",
         "showlegend": false,
         "type": "scatter",
         "x": [
          35.35107512600508,
          37.16381845242023
         ],
         "y": [
          83.64510374735254,
          81.34005986471524
         ]
        },
        {
         "hoverinfo": "skip",
         "line": {
          "color": "lightblue",
          "width": 1
         },
         "mode": "lines",
         "showlegend": false,
         "type": "scatter",
         "x": [
          92.37821094817443,
          92.46975426597048
         ],
         "y": [
          84.39819425287052,
          88.12826779609676
         ]
        },
        {
         "hoverinfo": "skip",
         "line": {
          "color": "lightblue",
          "width": 1
         },
         "mode": "lines",
         "showlegend": false,
         "type": "scatter",
         "x": [
          92.46975426597048,
          95.87291064830954
         ],
         "y": [
          88.12826779609676,
          91.63795888151118
         ]
        },
        {
         "hoverinfo": "skip",
         "line": {
          "color": "lightblue",
          "width": 1
         },
         "mode": "lines",
         "showlegend": false,
         "type": "scatter",
         "x": [
          43.93922468306345,
          41.541061954224055
         ],
         "y": [
          30.84576496845368,
          33.82136843028163
         ]
        },
        {
         "hoverinfo": "skip",
         "line": {
          "color": "lightblue",
          "width": 1
         },
         "mode": "lines",
         "showlegend": false,
         "type": "scatter",
         "x": [
          41.541061954224055,
          39.45636874411096
         ],
         "y": [
          33.82136843028163,
          37.4950821968219
         ]
        },
        {
         "hoverinfo": "skip",
         "line": {
          "color": "lightblue",
          "width": 1
         },
         "mode": "lines",
         "showlegend": false,
         "type": "scatter",
         "x": [
          29,
          27.05656264654196
         ],
         "y": [
          10,
          5.9694213310443995
         ]
        },
        {
         "hoverinfo": "skip",
         "line": {
          "color": "lightblue",
          "width": 1
         },
         "mode": "lines",
         "showlegend": false,
         "type": "scatter",
         "x": [
          74.52783111406374,
          76.0183885105701
         ],
         "y": [
          91.71862777667884,
          86.94597247300143
         ]
        },
        {
         "hoverinfo": "skip",
         "line": {
          "color": "lightblue",
          "width": 1
         },
         "mode": "lines",
         "showlegend": false,
         "type": "scatter",
         "x": [
          40.248169624512414,
          44.29137326527807
         ],
         "y": [
          84.65429425101833,
          82.25075834047847
         ]
        },
        {
         "hoverinfo": "skip",
         "line": {
          "color": "lightblue",
          "width": 1
         },
         "mode": "lines",
         "showlegend": false,
         "type": "scatter",
         "x": [
          30.453980627497746,
          32.4543742844199
         ],
         "y": [
          82.63591324368674,
          84.31740674162992
         ]
        },
        {
         "hoverinfo": "skip",
         "line": {
          "color": "lightblue",
          "width": 1
         },
         "mode": "lines",
         "showlegend": false,
         "type": "scatter",
         "x": [
          32.4543742844199,
          31.765858588050822
         ],
         "y": [
          84.31740674162992,
          88.94329327554385
         ]
        },
        {
         "hoverinfo": "skip",
         "line": {
          "color": "lightblue",
          "width": 1
         },
         "mode": "lines",
         "showlegend": false,
         "type": "scatter",
         "x": [
          76.00695422285304,
          72.83594684596326
         ],
         "y": [
          13.173616794002474,
          15.357092585170108
         ]
        },
        {
         "hoverinfo": "skip",
         "line": {
          "color": "lightblue",
          "width": 1
         },
         "mode": "lines",
         "showlegend": false,
         "type": "scatter",
         "x": [
          72.83594684596326,
          73.92835649403634
         ],
         "y": [
          15.357092585170108,
          20.12443804222538
         ]
        },
        {
         "hoverinfo": "skip",
         "line": {
          "color": "lightblue",
          "width": 1
         },
         "mode": "lines",
         "showlegend": false,
         "type": "scatter",
         "x": [
          64.73364211704909,
          69.00855808609154
         ],
         "y": [
          89.70024676934727,
          91.49939817905191
         ]
        },
        {
         "hoverinfo": "skip",
         "line": {
          "color": "lightblue",
          "width": 1
         },
         "mode": "lines",
         "showlegend": false,
         "type": "scatter",
         "x": [
          31.765858588050822,
          33.93051491951741
         ],
         "y": [
          88.94329327554385,
          93.45042794921865
         ]
        },
        {
         "hoverinfo": "skip",
         "line": {
          "color": "lightblue",
          "width": 1
         },
         "mode": "lines",
         "showlegend": false,
         "type": "scatter",
         "x": [
          85.15354917526857,
          87.1417655157267
         ],
         "y": [
          32.645942366627,
          29.962740613571302
         ]
        },
        {
         "hoverinfo": "skip",
         "line": {
          "color": "lightblue",
          "width": 1
         },
         "mode": "lines",
         "showlegend": false,
         "type": "scatter",
         "x": [
          87.1417655157267,
          89.49411317740257
         ],
         "y": [
          29.962740613571302,
          26.481940235591722
         ]
        },
        {
         "hoverinfo": "skip",
         "line": {
          "color": "lightblue",
          "width": 1
         },
         "mode": "lines",
         "showlegend": false,
         "type": "scatter",
         "x": [
          44.29137326527807,
          48.888129527971984
         ],
         "y": [
          82.25075834047847,
          80.28356951848292
         ]
        },
        {
         "hoverinfo": "skip",
         "line": {
          "color": "lightblue",
          "width": 1
         },
         "mode": "lines",
         "showlegend": false,
         "type": "scatter",
         "x": [
          99.04645983149138,
          98.55943653591864
         ],
         "y": [
          56.631090942146464,
          51.654866639568304
         ]
        },
        {
         "hoverinfo": "skip",
         "line": {
          "color": "lightblue",
          "width": 1
         },
         "mode": "lines",
         "showlegend": false,
         "type": "scatter",
         "x": [
          15.316957497153945,
          11.702972780735344
         ],
         "y": [
          75.11183453339719,
          78.19693797064254
         ]
        },
        {
         "hoverinfo": "skip",
         "line": {
          "color": "lightblue",
          "width": 1
         },
         "mode": "lines",
         "showlegend": false,
         "type": "scatter",
         "x": [
          11.702972780735344,
          7.861452236603913
         ],
         "y": [
          78.19693797064254,
          78.85271969632555
         ]
        },
        {
         "hoverinfo": "skip",
         "line": {
          "color": "lightblue",
          "width": 1
         },
         "mode": "lines",
         "showlegend": false,
         "type": "scatter",
         "x": [
          76.0183885105701,
          76.714543793489
         ],
         "y": [
          86.94597247300143,
          81.99467286359946
         ]
        },
        {
         "hoverinfo": "skip",
         "line": {
          "color": "lightblue",
          "width": 1
         },
         "mode": "lines",
         "showlegend": false,
         "type": "scatter",
         "x": [
          91.86878049626749,
          96.64232673034057
         ],
         "y": [
          67.84493718565055,
          67.42512051692304
         ]
        },
        {
         "hoverinfo": "skip",
         "line": {
          "color": "lightblue",
          "width": 1
         },
         "mode": "lines",
         "showlegend": false,
         "type": "scatter",
         "x": [
          81.00635880821166,
          80.50554131078653
         ],
         "y": [
          13.250777612396853,
          10.567888354965383
         ]
        },
        {
         "hoverinfo": "skip",
         "line": {
          "color": "lightblue",
          "width": 1
         },
         "mode": "lines",
         "showlegend": false,
         "type": "scatter",
         "x": [
          29.41198969190307,
          24.596777246737844
         ],
         "y": [
          95.59120579089509,
          96.93795339454097
         ]
        },
        {
         "hoverinfo": "skip",
         "line": {
          "color": "lightblue",
          "width": 1
         },
         "mode": "lines",
         "showlegend": false,
         "type": "scatter",
         "x": [
          76.00695422285304,
          72.36295496772279
         ],
         "y": [
          13.173616794002474,
          12.103209281902727
         ]
        },
        {
         "hoverinfo": "skip",
         "line": {
          "color": "lightblue",
          "width": 1
         },
         "mode": "lines",
         "showlegend": false,
         "type": "scatter",
         "x": [
          90,
          90
         ],
         "y": [
          80,
          80
         ]
        },
        {
         "hoverinfo": "skip",
         "line": {
          "color": "lightblue",
          "width": 1
         },
         "mode": "lines",
         "showlegend": false,
         "type": "scatter",
         "x": [
          64.84658616730769,
          67.42774234777066
         ],
         "y": [
          90.58022894364024,
          94.53080237915347
         ]
        },
        {
         "hoverinfo": "skip",
         "line": {
          "color": "lightblue",
          "width": 1
         },
         "mode": "lines",
         "showlegend": false,
         "type": "scatter",
         "x": [
          21.714866800897745,
          16.75889903476394
         ],
         "y": [
          49.76130369096522,
          50.42340904590707
         ]
        },
        {
         "hoverinfo": "skip",
         "line": {
          "color": "lightblue",
          "width": 1
         },
         "mode": "lines",
         "showlegend": false,
         "type": "scatter",
         "x": [
          85.15354917526857,
          88.80014244611871
         ],
         "y": [
          32.645942366627,
          30.89255429059563
         ]
        },
        {
         "hoverinfo": "skip",
         "line": {
          "color": "lightblue",
          "width": 1
         },
         "mode": "lines",
         "showlegend": false,
         "type": "scatter",
         "x": [
          95.91384249598322,
          98.23110668998788
         ],
         "y": [
          19.397318193374478,
          20.1931742484596
         ]
        },
        {
         "hoverinfo": "skip",
         "line": {
          "color": "lightblue",
          "width": 1
         },
         "mode": "lines",
         "showlegend": false,
         "type": "scatter",
         "x": [
          39.00667443471421,
          41.49690267763836
         ],
         "y": [
          11.392957009808624,
          7.8202005985553935
         ]
        },
        {
         "hoverinfo": "skip",
         "line": {
          "color": "lightblue",
          "width": 1
         },
         "mode": "lines",
         "showlegend": false,
         "type": "scatter",
         "x": [
          29,
          29
         ],
         "y": [
          10,
          10
         ]
        },
        {
         "hoverinfo": "skip",
         "line": {
          "color": "lightblue",
          "width": 1
         },
         "mode": "lines",
         "showlegend": false,
         "type": "scatter",
         "x": [
          59.78002305424692,
          63.82551169179782
         ],
         "y": [
          23.786873991471367,
          26.725244574540586
         ]
        },
        {
         "hoverinfo": "skip",
         "line": {
          "color": "lightblue",
          "width": 1
         },
         "mode": "lines",
         "showlegend": false,
         "type": "scatter",
         "x": [
          88.96426082731541,
          83.9651598945676
         ],
         "y": [
          98.52425399591775,
          98.42943910151806
         ]
        },
        {
         "hoverinfo": "skip",
         "line": {
          "color": "lightblue",
          "width": 1
         },
         "mode": "lines",
         "showlegend": false,
         "type": "scatter",
         "x": [
          29,
          24.16765914061302
         ],
         "y": [
          10,
          10.151061241575999
         ]
        },
        {
         "hoverinfo": "skip",
         "line": {
          "color": "lightblue",
          "width": 1
         },
         "mode": "lines",
         "showlegend": false,
         "type": "scatter",
         "x": [
          24.16765914061302,
          19.226192170703083
         ],
         "y": [
          10.151061241575999,
          9.65769097083886
         ]
        },
        {
         "hoverinfo": "skip",
         "line": {
          "color": "lightblue",
          "width": 1
         },
         "mode": "lines",
         "showlegend": false,
         "type": "scatter",
         "x": [
          24.16765914061302,
          23.10388495047061
         ],
         "y": [
          10.151061241575999,
          8.604189140282426
         ]
        },
        {
         "hoverinfo": "skip",
         "line": {
          "color": "lightblue",
          "width": 1
         },
         "mode": "lines",
         "showlegend": false,
         "type": "scatter",
         "x": [
          59.83654761854176,
          63.85217124068318
         ],
         "y": [
          88.6910562656815,
          90.93885667726515
         ]
        },
        {
         "hoverinfo": "skip",
         "line": {
          "color": "lightblue",
          "width": 1
         },
         "mode": "lines",
         "showlegend": false,
         "type": "scatter",
         "x": [
          63.85217124068318,
          64.84658616730769
         ],
         "y": [
          90.93885667726515,
          90.58022894364024
         ]
        },
        {
         "hoverinfo": "skip",
         "line": {
          "color": "lightblue",
          "width": 1
         },
         "mode": "lines",
         "showlegend": false,
         "type": "scatter",
         "x": [
          68.29339631784073,
          65.91061652130111
         ],
         "y": [
          8.64457877122961,
          5.205080188154321
         ]
        },
        {
         "hoverinfo": "skip",
         "line": {
          "color": "lightblue",
          "width": 1
         },
         "mode": "lines",
         "showlegend": false,
         "type": "scatter",
         "x": [
          90,
          90
         ],
         "y": [
          80,
          80
         ]
        },
        {
         "hoverinfo": "skip",
         "line": {
          "color": "lightblue",
          "width": 1
         },
         "mode": "lines",
         "showlegend": false,
         "type": "scatter",
         "x": [
          50.042358621527086,
          52.9412096835854
         ],
         "y": [
          86.67267525834991,
          86.57820487963534
         ]
        },
        {
         "hoverinfo": "skip",
         "line": {
          "color": "lightblue",
          "width": 1
         },
         "mode": "lines",
         "showlegend": false,
         "type": "scatter",
         "x": [
          8.430265603766095,
          7.844476760537233
         ],
         "y": [
          8.59764914113633,
          11.382414690091835
         ]
        },
        {
         "hoverinfo": "skip",
         "line": {
          "color": "lightblue",
          "width": 1
         },
         "mode": "lines",
         "showlegend": false,
         "type": "scatter",
         "x": [
          63.82551169179782,
          68.04012935434694
         ],
         "y": [
          26.725244574540586,
          29.41541147615264
         ]
        },
        {
         "hoverinfo": "skip",
         "line": {
          "color": "lightblue",
          "width": 1
         },
         "mode": "lines",
         "showlegend": false,
         "type": "scatter",
         "x": [
          50.1042197475718,
          50.24585665318811
         ],
         "y": [
          30.657161642232296,
          35.655155138323245
         ]
        },
        {
         "hoverinfo": "skip",
         "line": {
          "color": "lightblue",
          "width": 1
         },
         "mode": "lines",
         "showlegend": false,
         "type": "scatter",
         "x": [
          29,
          29
         ],
         "y": [
          10,
          10
         ]
        },
        {
         "hoverinfo": "skip",
         "line": {
          "color": "lightblue",
          "width": 1
         },
         "mode": "lines",
         "showlegend": false,
         "type": "scatter",
         "x": [
          17.776626695673315,
          14.399908519546912
         ],
         "y": [
          34.95058754399469,
          34.57366613383043
         ]
        },
        {
         "hoverinfo": "skip",
         "line": {
          "color": "lightblue",
          "width": 1
         },
         "mode": "lines",
         "showlegend": false,
         "type": "scatter",
         "x": [
          14.399908519546912,
          10.851612872032957
         ],
         "y": [
          34.57366613383043,
          34.916098018518205
         ]
        },
        {
         "hoverinfo": "skip",
         "line": {
          "color": "lightblue",
          "width": 1
         },
         "mode": "lines",
         "showlegend": false,
         "type": "scatter",
         "x": [
          66.83083828735019,
          65.32288452361192
         ],
         "y": [
          15.569043575312552,
          16.116810715449326
         ]
        },
        {
         "hoverinfo": "skip",
         "line": {
          "color": "lightblue",
          "width": 1
         },
         "mode": "lines",
         "showlegend": false,
         "type": "scatter",
         "x": [
          59.796416647415874,
          56.52904445399778
         ],
         "y": [
          14.0019692638932,
          14.78023969670753
         ]
        },
        {
         "hoverinfo": "skip",
         "line": {
          "color": "lightblue",
          "width": 1
         },
         "mode": "lines",
         "showlegend": false,
         "type": "scatter",
         "x": [
          35.27692214489904,
          38.05446961635612
         ],
         "y": [
          17.77551207307047,
          19.076872478467056
         ]
        },
        {
         "hoverinfo": "skip",
         "line": {
          "color": "lightblue",
          "width": 1
         },
         "mode": "lines",
         "showlegend": false,
         "type": "scatter",
         "x": [
          4.9666411886938535,
          3.0248709488988252
         ],
         "y": [
          42.63404153526888,
          47.2415927651356
         ]
        },
        {
         "hoverinfo": "skip",
         "line": {
          "color": "lightblue",
          "width": 1
         },
         "mode": "lines",
         "showlegend": false,
         "type": "scatter",
         "x": [
          65.91061652130111,
          64.24034192165345
         ],
         "y": [
          5.205080188154321,
          4.306500416115799
         ]
        },
        {
         "hoverinfo": "skip",
         "line": {
          "color": "lightblue",
          "width": 1
         },
         "mode": "lines",
         "showlegend": false,
         "type": "scatter",
         "x": [
          88.05548359336076,
          83.52558280369468
         ],
         "y": [
          18.446701002915802,
          19.531530623021897
         ]
        },
        {
         "hoverinfo": "skip",
         "line": {
          "color": "lightblue",
          "width": 1
         },
         "mode": "lines",
         "showlegend": false,
         "type": "scatter",
         "x": [
          40.06677675878969,
          41.02670529943593
         ],
         "y": [
          19.2098386669083,
          23.431709148623582
         ]
        },
        {
         "hoverinfo": "skip",
         "line": {
          "color": "lightblue",
          "width": 1
         },
         "mode": "lines",
         "showlegend": false,
         "type": "scatter",
         "x": [
          15.758665376319456,
          15.397895903250635
         ],
         "y": [
          70.13138333400941,
          70.5507011254604
         ]
        },
        {
         "hoverinfo": "skip",
         "line": {
          "color": "lightblue",
          "width": 1
         },
         "mode": "lines",
         "showlegend": false,
         "type": "scatter",
         "x": [
          94.12159232872038,
          96.74573675912357
         ],
         "y": [
          77.16936814901102,
          74.24482348614313
         ]
        },
        {
         "hoverinfo": "skip",
         "line": {
          "color": "lightblue",
          "width": 1
         },
         "mode": "lines",
         "showlegend": false,
         "type": "scatter",
         "x": [
          96.74573675912357,
          96.22795806836993
         ],
         "y": [
          74.24482348614313,
          70.29393103923186
         ]
        },
        {
         "hoverinfo": "skip",
         "line": {
          "color": "lightblue",
          "width": 1
         },
         "mode": "lines",
         "showlegend": false,
         "type": "scatter",
         "x": [
          95.67810759660998,
          98.67779586477597
         ],
         "y": [
          47.56855491094279,
          46.12236449211109
         ]
        },
        {
         "hoverinfo": "skip",
         "line": {
          "color": "lightblue",
          "width": 1
         },
         "mode": "lines",
         "showlegend": false,
         "type": "scatter",
         "x": [
          15.316957497153945,
          18.226064387059292
         ],
         "y": [
          75.11183453339719,
          76.7033711446743
         ]
        },
        {
         "hoverinfo": "skip",
         "line": {
          "color": "lightblue",
          "width": 1
         },
         "mode": "lines",
         "showlegend": false,
         "type": "scatter",
         "x": [
          11.116291768451525,
          7.332375859075194
         ],
         "y": [
          67.87672159724767,
          64.60839168875178
         ]
        },
        {
         "hoverinfo": "skip",
         "line": {
          "color": "lightblue",
          "width": 1
         },
         "mode": "lines",
         "showlegend": false,
         "type": "scatter",
         "x": [
          56.52904445399778,
          53.10887114527129
         ],
         "y": [
          14.78023969670753,
          11.13299216764196
         ]
        },
        {
         "hoverinfo": "skip",
         "line": {
          "color": "lightblue",
          "width": 1
         },
         "mode": "lines",
         "showlegend": false,
         "type": "scatter",
         "x": [
          71.01831068811191,
          68.78151141442945
         ],
         "y": [
          12.83681465136441,
          13.566605630125729
         ]
        },
        {
         "hoverinfo": "skip",
         "line": {
          "color": "lightblue",
          "width": 1
         },
         "mode": "lines",
         "showlegend": false,
         "type": "scatter",
         "x": [
          29.71851538583841,
          28.13779859698927
         ],
         "y": [
          87.58152654016585,
          87.82858215278195
         ]
        },
        {
         "hoverinfo": "skip",
         "line": {
          "color": "lightblue",
          "width": 1
         },
         "mode": "lines",
         "showlegend": false,
         "type": "scatter",
         "x": [
          45.14526412301975,
          43.50978318344533
         ],
         "y": [
          85.66348475468412,
          90.38844000275671
         ]
        },
        {
         "hoverinfo": "skip",
         "line": {
          "color": "lightblue",
          "width": 1
         },
         "mode": "lines",
         "showlegend": false,
         "type": "scatter",
         "x": [
          63.82551169179782,
          66.86764698782598
         ],
         "y": [
          26.725244574540586,
          30.322439191320804
         ]
        },
        {
         "hoverinfo": "skip",
         "line": {
          "color": "lightblue",
          "width": 1
         },
         "mode": "lines",
         "showlegend": false,
         "type": "scatter",
         "x": [
          85.3452810907788,
          84.62799060310037
         ],
         "y": [
          19.033252426253622,
          22.182889640459525
         ]
        },
        {
         "hoverinfo": "skip",
         "line": {
          "color": "lightblue",
          "width": 1
         },
         "mode": "lines",
         "showlegend": false,
         "type": "scatter",
         "x": [
          39.28020142649543,
          37.32124409166906
         ],
         "y": [
          76.81005731426954,
          72.2097870873883
         ]
        },
        {
         "hoverinfo": "skip",
         "line": {
          "color": "lightblue",
          "width": 1
         },
         "mode": "lines",
         "showlegend": false,
         "type": "scatter",
         "x": [
          11.116291768451525,
          6.702947664240089
         ],
         "y": [
          67.87672159724767,
          69.42920844830162
         ]
        },
        {
         "hoverinfo": "skip",
         "line": {
          "color": "lightblue",
          "width": 1
         },
         "mode": "lines",
         "showlegend": false,
         "type": "scatter",
         "x": [
          95.67810759660998,
          93.30477211330899
         ],
         "y": [
          47.56855491094279,
          46.63814103957781
         ]
        },
        {
         "hoverinfo": "skip",
         "line": {
          "color": "lightblue",
          "width": 1
         },
         "mode": "lines",
         "showlegend": false,
         "type": "scatter",
         "x": [
          90,
          88.13886170311245
         ],
         "y": [
          80,
          77.09846732668724
         ]
        },
        {
         "hoverinfo": "skip",
         "line": {
          "color": "lightblue",
          "width": 1
         },
         "mode": "lines",
         "showlegend": false,
         "type": "scatter",
         "x": [
          52.9412096835854,
          55.93615004454936
         ],
         "y": [
          86.57820487963534,
          85.65905231513885
         ]
        },
        {
         "hoverinfo": "skip",
         "line": {
          "color": "lightblue",
          "width": 1
         },
         "mode": "lines",
         "showlegend": false,
         "type": "scatter",
         "x": [
          28.13779859698927,
          23.40099404875241
         ],
         "y": [
          87.82858215278195,
          88.43640989542723
         ]
        },
        {
         "hoverinfo": "skip",
         "line": {
          "color": "lightblue",
          "width": 1
         },
         "mode": "lines",
         "showlegend": false,
         "type": "scatter",
         "x": [
          83.45062352988286,
          85.59462465656983
         ],
         "y": [
          64.9396902532456,
          60.71836374791471
         ]
        },
        {
         "hoverinfo": "skip",
         "line": {
          "color": "lightblue",
          "width": 1
         },
         "mode": "lines",
         "showlegend": false,
         "type": "scatter",
         "x": [
          90,
          90
         ],
         "y": [
          80,
          80
         ]
        },
        {
         "hoverinfo": "skip",
         "line": {
          "color": "lightblue",
          "width": 1
         },
         "mode": "lines",
         "showlegend": false,
         "type": "scatter",
         "x": [
          29,
          29
         ],
         "y": [
          10,
          10
         ]
        },
        {
         "hoverinfo": "skip",
         "line": {
          "color": "lightblue",
          "width": 1
         },
         "mode": "lines",
         "showlegend": false,
         "type": "scatter",
         "x": [
          39.45636874411096,
          37.771834530089826
         ],
         "y": [
          37.4950821968219,
          42.20277212732839
         ]
        },
        {
         "hoverinfo": "skip",
         "line": {
          "color": "lightblue",
          "width": 1
         },
         "mode": "lines",
         "showlegend": false,
         "type": "scatter",
         "x": [
          90,
          90
         ],
         "y": [
          80,
          80
         ]
        },
        {
         "hoverinfo": "skip",
         "line": {
          "color": "lightblue",
          "width": 1
         },
         "mode": "lines",
         "showlegend": false,
         "type": "scatter",
         "x": [
          66.86764698782598,
          66.19566198415795
         ],
         "y": [
          30.322439191320804,
          35.27707703427616
         ]
        },
        {
         "hoverinfo": "skip",
         "line": {
          "color": "lightblue",
          "width": 1
         },
         "mode": "lines",
         "showlegend": false,
         "type": "scatter",
         "x": [
          23.621004871828056,
          18.913983608414796
         ],
         "y": [
          25.79386774220567,
          24.701720889827904
         ]
        },
        {
         "hoverinfo": "skip",
         "line": {
          "color": "lightblue",
          "width": 1
         },
         "mode": "lines",
         "showlegend": false,
         "type": "scatter",
         "x": [
          37.32124409166906,
          41.03752779360596
         ],
         "y": [
          72.2097870873883,
          68.86475563062768
         ]
        },
        {
         "hoverinfo": "skip",
         "line": {
          "color": "lightblue",
          "width": 1
         },
         "mode": "lines",
         "showlegend": false,
         "type": "scatter",
         "x": [
          85.15354917526857,
          88.63813524026763
         ],
         "y": [
          32.645942366627,
          31.21901457540961
         ]
        },
        {
         "hoverinfo": "skip",
         "line": {
          "color": "lightblue",
          "width": 1
         },
         "mode": "lines",
         "showlegend": false,
         "type": "scatter",
         "x": [
          85.96331184478014,
          85.88005496148735
         ],
         "y": [
          13.90546577729259,
          9.489673766179951
         ]
        },
        {
         "hoverinfo": "skip",
         "line": {
          "color": "lightblue",
          "width": 1
         },
         "mode": "lines",
         "showlegend": false,
         "type": "scatter",
         "x": [
          85.88005496148735,
          88.34105527773428
         ],
         "y": [
          9.489673766179951,
          5.8827398729575995
         ]
        },
        {
         "hoverinfo": "skip",
         "line": {
          "color": "lightblue",
          "width": 1
         },
         "mode": "lines",
         "showlegend": false,
         "type": "scatter",
         "x": [
          85.88005496148735,
          85.6870593848701
         ],
         "y": [
          9.489673766179951,
          7.1324441617152345
         ]
        },
        {
         "hoverinfo": "skip",
         "line": {
          "color": "lightblue",
          "width": 1
         },
         "mode": "lines",
         "showlegend": false,
         "type": "scatter",
         "x": [
          18.683272190604548,
          13.846289799931661
         ],
         "y": [
          58.16150204435453,
          56.89516822094128
         ]
        },
        {
         "hoverinfo": "skip",
         "line": {
          "color": "lightblue",
          "width": 1
         },
         "mode": "lines",
         "showlegend": false,
         "type": "scatter",
         "x": [
          55.93343256408168,
          52.4792900808957
         ],
         "y": [
          88.5016760664643,
          92.11676938557099
         ]
        },
        {
         "hoverinfo": "skip",
         "line": {
          "color": "lightblue",
          "width": 1
         },
         "mode": "lines",
         "showlegend": false,
         "type": "scatter",
         "x": [
          90,
          90
         ],
         "y": [
          80,
          80
         ]
        },
        {
         "hoverinfo": "skip",
         "line": {
          "color": "lightblue",
          "width": 1
         },
         "mode": "lines",
         "showlegend": false,
         "type": "scatter",
         "x": [
          59.78002305424692,
          58.97641440863456
         ],
         "y": [
          23.786873991471367,
          28.721872790326042
         ]
        },
        {
         "hoverinfo": "skip",
         "line": {
          "color": "lightblue",
          "width": 1
         },
         "mode": "lines",
         "showlegend": false,
         "type": "scatter",
         "x": [
          96.80363299454693,
          99.3148830009597
         ],
         "y": [
          86.72534695767531,
          87.22649445645455
         ]
        },
        {
         "hoverinfo": "skip",
         "line": {
          "color": "lightblue",
          "width": 1
         },
         "mode": "lines",
         "showlegend": false,
         "type": "scatter",
         "x": [
          88.34105527773428,
          93.1019075256983
         ],
         "y": [
          5.8827398729575995,
          4.3549028813069794
         ]
        },
        {
         "hoverinfo": "skip",
         "line": {
          "color": "lightblue",
          "width": 1
         },
         "mode": "lines",
         "showlegend": false,
         "type": "scatter",
         "x": [
          29,
          29
         ],
         "y": [
          10,
          10
         ]
        },
        {
         "hoverinfo": "skip",
         "line": {
          "color": "lightblue",
          "width": 1
         },
         "mode": "lines",
         "showlegend": false,
         "type": "scatter",
         "x": [
          29,
          25.761754077987366
         ],
         "y": [
          10,
          12.094944208454939
         ]
        },
        {
         "hoverinfo": "skip",
         "line": {
          "color": "lightblue",
          "width": 1
         },
         "mode": "lines",
         "showlegend": false,
         "type": "scatter",
         "x": [
          25.761754077987366,
          26.01192182928478
         ],
         "y": [
          12.094944208454939,
          15.212572313723404
         ]
        },
        {
         "hoverinfo": "skip",
         "line": {
          "color": "lightblue",
          "width": 1
         },
         "mode": "lines",
         "showlegend": false,
         "type": "scatter",
         "x": [
          91.86878049626749,
          88.18092612866063
         ],
         "y": [
          67.84493718565055,
          64.73785586868233
         ]
        },
        {
         "hoverinfo": "skip",
         "line": {
          "color": "lightblue",
          "width": 1
         },
         "mode": "lines",
         "showlegend": false,
         "type": "scatter",
         "x": [
          84.96372775022888,
          80.83554146248258
         ],
         "y": [
          88.29611788777034,
          90.84130531096038
         ]
        },
        {
         "hoverinfo": "skip",
         "line": {
          "color": "lightblue",
          "width": 1
         },
         "mode": "lines",
         "showlegend": false,
         "type": "scatter",
         "x": [
          18.913983608414796,
          16.086258683556686
         ],
         "y": [
          24.701720889827904,
          28.306154392873108
         ]
        },
        {
         "hoverinfo": "skip",
         "line": {
          "color": "lightblue",
          "width": 1
         },
         "mode": "lines",
         "showlegend": false,
         "type": "scatter",
         "x": [
          16.086258683556686,
          12.118893396028616
         ],
         "y": [
          28.306154392873108,
          30.079363575373605
         ]
        },
        {
         "hoverinfo": "skip",
         "line": {
          "color": "lightblue",
          "width": 1
         },
         "mode": "lines",
         "showlegend": false,
         "type": "scatter",
         "x": [
          29,
          29
         ],
         "y": [
          10,
          10
         ]
        },
        {
         "hoverinfo": "skip",
         "line": {
          "color": "lightblue",
          "width": 1
         },
         "mode": "lines",
         "showlegend": false,
         "type": "scatter",
         "x": [
          90,
          90
         ],
         "y": [
          80,
          80
         ]
        },
        {
         "hoverinfo": "skip",
         "line": {
          "color": "lightblue",
          "width": 1
         },
         "mode": "lines",
         "showlegend": false,
         "type": "scatter",
         "x": [
          80.40068355266664,
          80.33426118793027
         ],
         "y": [
          83.7091716037743,
          86.81125775398309
         ]
        },
        {
         "hoverinfo": "skip",
         "line": {
          "color": "lightblue",
          "width": 1
         },
         "mode": "lines",
         "showlegend": false,
         "type": "scatter",
         "x": [
          33.93051491951741,
          29.390758232042767
         ],
         "y": [
          93.45042794921865,
          93.8090897400063
         ]
        },
        {
         "hoverinfo": "skip",
         "line": {
          "color": "lightblue",
          "width": 1
         },
         "mode": "lines",
         "showlegend": false,
         "type": "scatter",
         "x": [
          41.03752779360596,
          41.47576088278556
         ],
         "y": [
          68.86475563062768,
          63.88399747954786
         ]
        },
        {
         "hoverinfo": "skip",
         "line": {
          "color": "lightblue",
          "width": 1
         },
         "mode": "lines",
         "showlegend": false,
         "type": "scatter",
         "x": [
          80.83554146248258,
          80.20889156475323
         ],
         "y": [
          90.84130531096038,
          89.8587579941571
         ]
        },
        {
         "hoverinfo": "skip",
         "line": {
          "color": "lightblue",
          "width": 1
         },
         "mode": "lines",
         "showlegend": false,
         "type": "scatter",
         "x": [
          50.24585665318811,
          52.703067515198235
         ],
         "y": [
          35.655155138323245,
          40.00970618058001
         ]
        },
        {
         "hoverinfo": "skip",
         "line": {
          "color": "lightblue",
          "width": 1
         },
         "mode": "lines",
         "showlegend": false,
         "type": "scatter",
         "x": [
          7.576290715275437,
          5.63983115219394
         ],
         "y": [
          83.84458136375521,
          88.45436708117747
         ]
        },
        {
         "hoverinfo": "skip",
         "line": {
          "color": "lightblue",
          "width": 1
         },
         "mode": "lines",
         "showlegend": false,
         "type": "scatter",
         "x": [
          54.93945312003442,
          58.68392042058688
         ],
         "y": [
          87.6818657620157,
          87.22498954540913
         ]
        },
        {
         "hoverinfo": "skip",
         "line": {
          "color": "lightblue",
          "width": 1
         },
         "mode": "lines",
         "showlegend": false,
         "type": "scatter",
         "x": [
          50.1042197475718,
          52.78359960274314
         ],
         "y": [
          30.657161642232296,
          30.34073923829309
         ]
        },
        {
         "hoverinfo": "skip",
         "line": {
          "color": "lightblue",
          "width": 1
         },
         "mode": "lines",
         "showlegend": false,
         "type": "scatter",
         "x": [
          52.78359960274314,
          54.374132638479665
         ],
         "y": [
          30.34073923829309,
          34.77162236504594
         ]
        },
        {
         "hoverinfo": "skip",
         "line": {
          "color": "lightblue",
          "width": 1
         },
         "mode": "lines",
         "showlegend": false,
         "type": "scatter",
         "x": [
          48.888129527971984,
          53.680670531260624
         ],
         "y": [
          80.28356951848292,
          79.41772430144846
         ]
        },
        {
         "hoverinfo": "skip",
         "line": {
          "color": "lightblue",
          "width": 1
         },
         "mode": "lines",
         "showlegend": false,
         "type": "scatter",
         "x": [
          29,
          29
         ],
         "y": [
          10,
          10
         ]
        },
        {
         "hoverinfo": "skip",
         "line": {
          "color": "lightblue",
          "width": 1
         },
         "mode": "lines",
         "showlegend": false,
         "type": "scatter",
         "x": [
          90,
          90
         ],
         "y": [
          80,
          80
         ]
        },
        {
         "hoverinfo": "skip",
         "line": {
          "color": "lightblue",
          "width": 1
         },
         "mode": "lines",
         "showlegend": false,
         "type": "scatter",
         "x": [
          85.88005496148735,
          84.59739697566326
         ],
         "y": [
          9.489673766179951,
          8.756903750218548
         ]
        },
        {
         "hoverinfo": "skip",
         "line": {
          "color": "lightblue",
          "width": 1
         },
         "mode": "lines",
         "showlegend": false,
         "type": "scatter",
         "x": [
          84.59739697566326,
          83.62746548921722
         ],
         "y": [
          8.756903750218548,
          4.214785645291975
         ]
        },
        {
         "hoverinfo": "skip",
         "line": {
          "color": "lightblue",
          "width": 1
         },
         "mode": "lines",
         "showlegend": false,
         "type": "scatter",
         "x": [
          29,
          29
         ],
         "y": [
          10,
          10
         ]
        },
        {
         "hoverinfo": "skip",
         "line": {
          "color": "lightblue",
          "width": 1
         },
         "mode": "lines",
         "showlegend": false,
         "type": "scatter",
         "x": [
          43.50978318344533,
          45.33055474228021
         ],
         "y": [
          90.38844000275671,
          95.0451331352852
         ]
        },
        {
         "hoverinfo": "skip",
         "line": {
          "color": "lightblue",
          "width": 1
         },
         "mode": "lines",
         "showlegend": false,
         "type": "scatter",
         "x": [
          57.5563558915772,
          56.265322219925466
         ],
         "y": [
          19.308559090790045,
          23.67228361428517
         ]
        },
        {
         "hoverinfo": "skip",
         "line": {
          "color": "lightblue",
          "width": 1
         },
         "mode": "lines",
         "showlegend": false,
         "type": "scatter",
         "x": [
          58.97641440863456,
          60.206418603252594
         ],
         "y": [
          28.721872790326042,
          33.568220867097054
         ]
        },
        {
         "hoverinfo": "skip",
         "line": {
          "color": "lightblue",
          "width": 1
         },
         "mode": "lines",
         "showlegend": false,
         "type": "scatter",
         "x": [
          4.9666411886938535,
          3.8072863945611934
         ],
         "y": [
          42.63404153526888,
          45.894988430533665
         ]
        },
        {
         "hoverinfo": "skip",
         "line": {
          "color": "lightblue",
          "width": 1
         },
         "mode": "lines",
         "showlegend": false,
         "type": "scatter",
         "x": [
          3.8072863945611934,
          6.417669698248119
         ],
         "y": [
          45.894988430533665,
          49.60932984524551
         ]
        },
        {
         "hoverinfo": "skip",
         "line": {
          "color": "lightblue",
          "width": 1
         },
         "mode": "lines",
         "showlegend": false,
         "type": "scatter",
         "x": [
          7.332375859075194,
          2.939248054893648
         ],
         "y": [
          64.60839168875178,
          62.22083475830446
         ]
        },
        {
         "hoverinfo": "skip",
         "line": {
          "color": "lightblue",
          "width": 1
         },
         "mode": "lines",
         "showlegend": false,
         "type": "scatter",
         "x": [
          52.703067515198235,
          53.754403496545905
         ],
         "y": [
          40.00970618058001,
          44.89792596433807
         ]
        },
        {
         "hoverinfo": "skip",
         "line": {
          "color": "lightblue",
          "width": 1
         },
         "mode": "lines",
         "showlegend": false,
         "type": "scatter",
         "x": [
          85.8488164352292,
          88.1040016389923
         ],
         "y": [
          45.7038842970411,
          42.57348848651789
         ]
        },
        {
         "hoverinfo": "skip",
         "line": {
          "color": "lightblue",
          "width": 1
         },
         "mode": "lines",
         "showlegend": false,
         "type": "scatter",
         "x": [
          11.801767439370838,
          8.643971607880907
         ],
         "y": [
          67.07475795353314,
          70.81114564768642
         ]
        },
        {
         "hoverinfo": "skip",
         "line": {
          "color": "lightblue",
          "width": 1
         },
         "mode": "lines",
         "showlegend": false,
         "type": "scatter",
         "x": [
          37.771834530089826,
          38.10052039228983
         ],
         "y": [
          42.20277212732839,
          44.69404615118019
         ]
        },
        {
         "hoverinfo": "skip",
         "line": {
          "color": "lightblue",
          "width": 1
         },
         "mode": "lines",
         "showlegend": false,
         "type": "scatter",
         "x": [
          53.754403496545905,
          54.2438501104955
         ],
         "y": [
          44.89792596433807,
          49.873912500904794
         ]
        },
        {
         "hoverinfo": "skip",
         "line": {
          "color": "lightblue",
          "width": 1
         },
         "mode": "lines",
         "showlegend": false,
         "type": "scatter",
         "x": [
          54.2438501104955,
          50.97057801207856
         ],
         "y": [
          49.873912500904794,
          53.65355398783516
         ]
        },
        {
         "hoverinfo": "skip",
         "line": {
          "color": "lightblue",
          "width": 1
         },
         "mode": "lines",
         "showlegend": false,
         "type": "scatter",
         "x": [
          12.118893396028616,
          10.665538732737145
         ],
         "y": [
          30.079363575373605,
          31.31356821758784
         ]
        },
        {
         "hoverinfo": "skip",
         "line": {
          "color": "lightblue",
          "width": 1
         },
         "mode": "lines",
         "showlegend": false,
         "type": "scatter",
         "x": [
          6.951539957331593,
          6.8303362313050116
         ],
         "y": [
          38.044904701586496,
          39.80040176639851
         ]
        },
        {
         "hoverinfo": "skip",
         "line": {
          "color": "lightblue",
          "width": 1
         },
         "mode": "lines",
         "showlegend": false,
         "type": "scatter",
         "x": [
          90,
          90
         ],
         "y": [
          80,
          80
         ]
        },
        {
         "hoverinfo": "skip",
         "line": {
          "color": "lightblue",
          "width": 1
         },
         "mode": "lines",
         "showlegend": false,
         "type": "scatter",
         "x": [
          90,
          88.57689089147584
         ],
         "y": [
          80,
          81.25199808230704
         ]
        },
        {
         "hoverinfo": "skip",
         "line": {
          "color": "lightblue",
          "width": 1
         },
         "mode": "lines",
         "showlegend": false,
         "type": "scatter",
         "x": [
          21.714866800897745,
          18.711584733188836
         ],
         "y": [
          49.76130369096522,
          49.91714724314495
         ]
        },
        {
         "hoverinfo": "skip",
         "line": {
          "color": "lightblue",
          "width": 1
         },
         "mode": "lines",
         "showlegend": false,
         "type": "scatter",
         "x": [
          50.97057801207856,
          46.003783022292026
         ],
         "y": [
          53.65355398783516,
          53.078273595825024
         ]
        },
        {
         "hoverinfo": "skip",
         "line": {
          "color": "lightblue",
          "width": 1
         },
         "mode": "lines",
         "showlegend": false,
         "type": "scatter",
         "x": [
          46.003783022292026,
          41.03698803250549
         ],
         "y": [
          53.078273595825024,
          52.50299320381489
         ]
        },
        {
         "hoverinfo": "skip",
         "line": {
          "color": "lightblue",
          "width": 1
         },
         "mode": "lines",
         "showlegend": false,
         "type": "scatter",
         "x": [
          41.03698803250549,
          36.070193042718955
         ],
         "y": [
          52.50299320381489,
          51.92771281180475
         ]
        },
        {
         "hoverinfo": "skip",
         "line": {
          "color": "lightblue",
          "width": 1
         },
         "mode": "lines",
         "showlegend": false,
         "type": "scatter",
         "x": [
          36.070193042718955,
          31.103398052932416
         ],
         "y": [
          51.92771281180475,
          51.352432419794624
         ]
        },
        {
         "hoverinfo": "skip",
         "line": {
          "color": "lightblue",
          "width": 1
         },
         "mode": "lines",
         "showlegend": false,
         "type": "scatter",
         "x": [
          37.32124409166906,
          39.01161993106784
         ],
         "y": [
          72.2097870873883,
          71.0509673714233
         ]
        },
        {
         "hoverinfo": "skip",
         "line": {
          "color": "lightblue",
          "width": 1
         },
         "mode": "lines",
         "showlegend": false,
         "type": "scatter",
         "x": [
          39.01161993106784,
          43.1434470155049
         ],
         "y": [
          71.0509673714233,
          71.26248103470321
         ]
        },
        {
         "hoverinfo": "skip",
         "line": {
          "color": "lightblue",
          "width": 1
         },
         "mode": "lines",
         "showlegend": false,
         "type": "scatter",
         "x": [
          41.03698803250549,
          40.49423334760673
         ],
         "y": [
          52.50299320381489,
          57.47344764501244
         ]
        },
        {
         "hoverinfo": "skip",
         "line": {
          "color": "lightblue",
          "width": 1
         },
         "mode": "lines",
         "showlegend": false,
         "type": "scatter",
         "x": [
          40.49423334760673,
          39.95147866270797
         ],
         "y": [
          57.47344764501244,
          62.443902086209995
         ]
        },
        {
         "hoverinfo": "skip",
         "line": {
          "color": "lightblue",
          "width": 1
         },
         "mode": "lines",
         "showlegend": false,
         "type": "scatter",
         "x": [
          39.95147866270797,
          39.40872397780921
         ],
         "y": [
          62.443902086209995,
          67.41435652740755
         ]
        },
        {
         "hoverinfo": "skip",
         "line": {
          "color": "lightblue",
          "width": 1
         },
         "mode": "lines",
         "showlegend": false,
         "type": "scatter",
         "x": [
          39.40872397780921,
          39.01161993106784
         ],
         "y": [
          67.41435652740755,
          71.0509673714233
         ]
        },
        {
         "marker": {
          "color": "red",
          "size": 10
         },
         "mode": "markers",
         "name": "Start",
         "type": "scatter",
         "x": [
          29
         ],
         "y": [
          10
         ]
        },
        {
         "marker": {
          "color": "orange",
          "size": 10
         },
         "mode": "markers",
         "name": "Goal",
         "type": "scatter",
         "x": [
          90
         ],
         "y": [
          80
         ]
        }
       ],
       "layout": {
        "height": 600,
        "shapes": [
         {
          "fillcolor": "purple",
          "line": {
           "width": 0
          },
          "opacity": 0.5,
          "type": "rect",
          "x0": 27,
          "x1": 30,
          "y0": 20,
          "y1": 80
         },
         {
          "fillcolor": "purple",
          "line": {
           "width": 0
          },
          "opacity": 0.5,
          "type": "rect",
          "x0": 47,
          "x1": 50,
          "y0": 0,
          "y1": 50
         },
         {
          "fillcolor": "purple",
          "line": {
           "width": 0
          },
          "opacity": 0.5,
          "type": "rect",
          "x0": 77,
          "x1": 80,
          "y0": 20,
          "y1": 100
         },
         {
          "fillcolor": "purple",
          "line": {
           "width": 0
          },
          "opacity": 0.5,
          "type": "rect",
          "x0": 30,
          "x1": 47,
          "y0": 47,
          "y1": 50
         },
         {
          "fillcolor": "purple",
          "line": {
           "width": 0
          },
          "opacity": 0.5,
          "type": "rect",
          "x0": 50,
          "x1": 77,
          "y0": 72,
          "y1": 75
         },
         {
          "fillcolor": "rgba(0,0,0,0)",
          "layer": "above",
          "line": {
           "color": "white",
           "width": 3
          },
          "type": "rect",
          "x0": 0,
          "x1": 100,
          "y0": 0,
          "y1": 100
         }
        ],
        "template": {
         "data": {
          "bar": [
           {
            "error_x": {
             "color": "#2a3f5f"
            },
            "error_y": {
             "color": "#2a3f5f"
            },
            "marker": {
             "line": {
              "color": "#E5ECF6",
              "width": 0.5
             },
             "pattern": {
              "fillmode": "overlay",
              "size": 10,
              "solidity": 0.2
             }
            },
            "type": "bar"
           }
          ],
          "barpolar": [
           {
            "marker": {
             "line": {
              "color": "#E5ECF6",
              "width": 0.5
             },
             "pattern": {
              "fillmode": "overlay",
              "size": 10,
              "solidity": 0.2
             }
            },
            "type": "barpolar"
           }
          ],
          "carpet": [
           {
            "aaxis": {
             "endlinecolor": "#2a3f5f",
             "gridcolor": "white",
             "linecolor": "white",
             "minorgridcolor": "white",
             "startlinecolor": "#2a3f5f"
            },
            "baxis": {
             "endlinecolor": "#2a3f5f",
             "gridcolor": "white",
             "linecolor": "white",
             "minorgridcolor": "white",
             "startlinecolor": "#2a3f5f"
            },
            "type": "carpet"
           }
          ],
          "choropleth": [
           {
            "colorbar": {
             "outlinewidth": 0,
             "ticks": ""
            },
            "type": "choropleth"
           }
          ],
          "contour": [
           {
            "colorbar": {
             "outlinewidth": 0,
             "ticks": ""
            },
            "colorscale": [
             [
              0,
              "#0d0887"
             ],
             [
              0.1111111111111111,
              "#46039f"
             ],
             [
              0.2222222222222222,
              "#7201a8"
             ],
             [
              0.3333333333333333,
              "#9c179e"
             ],
             [
              0.4444444444444444,
              "#bd3786"
             ],
             [
              0.5555555555555556,
              "#d8576b"
             ],
             [
              0.6666666666666666,
              "#ed7953"
             ],
             [
              0.7777777777777778,
              "#fb9f3a"
             ],
             [
              0.8888888888888888,
              "#fdca26"
             ],
             [
              1,
              "#f0f921"
             ]
            ],
            "type": "contour"
           }
          ],
          "contourcarpet": [
           {
            "colorbar": {
             "outlinewidth": 0,
             "ticks": ""
            },
            "type": "contourcarpet"
           }
          ],
          "heatmap": [
           {
            "colorbar": {
             "outlinewidth": 0,
             "ticks": ""
            },
            "colorscale": [
             [
              0,
              "#0d0887"
             ],
             [
              0.1111111111111111,
              "#46039f"
             ],
             [
              0.2222222222222222,
              "#7201a8"
             ],
             [
              0.3333333333333333,
              "#9c179e"
             ],
             [
              0.4444444444444444,
              "#bd3786"
             ],
             [
              0.5555555555555556,
              "#d8576b"
             ],
             [
              0.6666666666666666,
              "#ed7953"
             ],
             [
              0.7777777777777778,
              "#fb9f3a"
             ],
             [
              0.8888888888888888,
              "#fdca26"
             ],
             [
              1,
              "#f0f921"
             ]
            ],
            "type": "heatmap"
           }
          ],
          "histogram": [
           {
            "marker": {
             "pattern": {
              "fillmode": "overlay",
              "size": 10,
              "solidity": 0.2
             }
            },
            "type": "histogram"
           }
          ],
          "histogram2d": [
           {
            "colorbar": {
             "outlinewidth": 0,
             "ticks": ""
            },
            "colorscale": [
             [
              0,
              "#0d0887"
             ],
             [
              0.1111111111111111,
              "#46039f"
             ],
             [
              0.2222222222222222,
              "#7201a8"
             ],
             [
              0.3333333333333333,
              "#9c179e"
             ],
             [
              0.4444444444444444,
              "#bd3786"
             ],
             [
              0.5555555555555556,
              "#d8576b"
             ],
             [
              0.6666666666666666,
              "#ed7953"
             ],
             [
              0.7777777777777778,
              "#fb9f3a"
             ],
             [
              0.8888888888888888,
              "#fdca26"
             ],
             [
              1,
              "#f0f921"
             ]
            ],
            "type": "histogram2d"
           }
          ],
          "histogram2dcontour": [
           {
            "colorbar": {
             "outlinewidth": 0,
             "ticks": ""
            },
            "colorscale": [
             [
              0,
              "#0d0887"
             ],
             [
              0.1111111111111111,
              "#46039f"
             ],
             [
              0.2222222222222222,
              "#7201a8"
             ],
             [
              0.3333333333333333,
              "#9c179e"
             ],
             [
              0.4444444444444444,
              "#bd3786"
             ],
             [
              0.5555555555555556,
              "#d8576b"
             ],
             [
              0.6666666666666666,
              "#ed7953"
             ],
             [
              0.7777777777777778,
              "#fb9f3a"
             ],
             [
              0.8888888888888888,
              "#fdca26"
             ],
             [
              1,
              "#f0f921"
             ]
            ],
            "type": "histogram2dcontour"
           }
          ],
          "mesh3d": [
           {
            "colorbar": {
             "outlinewidth": 0,
             "ticks": ""
            },
            "type": "mesh3d"
           }
          ],
          "parcoords": [
           {
            "line": {
             "colorbar": {
              "outlinewidth": 0,
              "ticks": ""
             }
            },
            "type": "parcoords"
           }
          ],
          "pie": [
           {
            "automargin": true,
            "type": "pie"
           }
          ],
          "scatter": [
           {
            "fillpattern": {
             "fillmode": "overlay",
             "size": 10,
             "solidity": 0.2
            },
            "type": "scatter"
           }
          ],
          "scatter3d": [
           {
            "line": {
             "colorbar": {
              "outlinewidth": 0,
              "ticks": ""
             }
            },
            "marker": {
             "colorbar": {
              "outlinewidth": 0,
              "ticks": ""
             }
            },
            "type": "scatter3d"
           }
          ],
          "scattercarpet": [
           {
            "marker": {
             "colorbar": {
              "outlinewidth": 0,
              "ticks": ""
             }
            },
            "type": "scattercarpet"
           }
          ],
          "scattergeo": [
           {
            "marker": {
             "colorbar": {
              "outlinewidth": 0,
              "ticks": ""
             }
            },
            "type": "scattergeo"
           }
          ],
          "scattergl": [
           {
            "marker": {
             "colorbar": {
              "outlinewidth": 0,
              "ticks": ""
             }
            },
            "type": "scattergl"
           }
          ],
          "scattermap": [
           {
            "marker": {
             "colorbar": {
              "outlinewidth": 0,
              "ticks": ""
             }
            },
            "type": "scattermap"
           }
          ],
          "scattermapbox": [
           {
            "marker": {
             "colorbar": {
              "outlinewidth": 0,
              "ticks": ""
             }
            },
            "type": "scattermapbox"
           }
          ],
          "scatterpolar": [
           {
            "marker": {
             "colorbar": {
              "outlinewidth": 0,
              "ticks": ""
             }
            },
            "type": "scatterpolar"
           }
          ],
          "scatterpolargl": [
           {
            "marker": {
             "colorbar": {
              "outlinewidth": 0,
              "ticks": ""
             }
            },
            "type": "scatterpolargl"
           }
          ],
          "scatterternary": [
           {
            "marker": {
             "colorbar": {
              "outlinewidth": 0,
              "ticks": ""
             }
            },
            "type": "scatterternary"
           }
          ],
          "surface": [
           {
            "colorbar": {
             "outlinewidth": 0,
             "ticks": ""
            },
            "colorscale": [
             [
              0,
              "#0d0887"
             ],
             [
              0.1111111111111111,
              "#46039f"
             ],
             [
              0.2222222222222222,
              "#7201a8"
             ],
             [
              0.3333333333333333,
              "#9c179e"
             ],
             [
              0.4444444444444444,
              "#bd3786"
             ],
             [
              0.5555555555555556,
              "#d8576b"
             ],
             [
              0.6666666666666666,
              "#ed7953"
             ],
             [
              0.7777777777777778,
              "#fb9f3a"
             ],
             [
              0.8888888888888888,
              "#fdca26"
             ],
             [
              1,
              "#f0f921"
             ]
            ],
            "type": "surface"
           }
          ],
          "table": [
           {
            "cells": {
             "fill": {
              "color": "#EBF0F8"
             },
             "line": {
              "color": "white"
             }
            },
            "header": {
             "fill": {
              "color": "#C8D4E3"
             },
             "line": {
              "color": "white"
             }
            },
            "type": "table"
           }
          ]
         },
         "layout": {
          "annotationdefaults": {
           "arrowcolor": "#2a3f5f",
           "arrowhead": 0,
           "arrowwidth": 1
          },
          "autotypenumbers": "strict",
          "coloraxis": {
           "colorbar": {
            "outlinewidth": 0,
            "ticks": ""
           }
          },
          "colorscale": {
           "diverging": [
            [
             0,
             "#8e0152"
            ],
            [
             0.1,
             "#c51b7d"
            ],
            [
             0.2,
             "#de77ae"
            ],
            [
             0.3,
             "#f1b6da"
            ],
            [
             0.4,
             "#fde0ef"
            ],
            [
             0.5,
             "#f7f7f7"
            ],
            [
             0.6,
             "#e6f5d0"
            ],
            [
             0.7,
             "#b8e186"
            ],
            [
             0.8,
             "#7fbc41"
            ],
            [
             0.9,
             "#4d9221"
            ],
            [
             1,
             "#276419"
            ]
           ],
           "sequential": [
            [
             0,
             "#0d0887"
            ],
            [
             0.1111111111111111,
             "#46039f"
            ],
            [
             0.2222222222222222,
             "#7201a8"
            ],
            [
             0.3333333333333333,
             "#9c179e"
            ],
            [
             0.4444444444444444,
             "#bd3786"
            ],
            [
             0.5555555555555556,
             "#d8576b"
            ],
            [
             0.6666666666666666,
             "#ed7953"
            ],
            [
             0.7777777777777778,
             "#fb9f3a"
            ],
            [
             0.8888888888888888,
             "#fdca26"
            ],
            [
             1,
             "#f0f921"
            ]
           ],
           "sequentialminus": [
            [
             0,
             "#0d0887"
            ],
            [
             0.1111111111111111,
             "#46039f"
            ],
            [
             0.2222222222222222,
             "#7201a8"
            ],
            [
             0.3333333333333333,
             "#9c179e"
            ],
            [
             0.4444444444444444,
             "#bd3786"
            ],
            [
             0.5555555555555556,
             "#d8576b"
            ],
            [
             0.6666666666666666,
             "#ed7953"
            ],
            [
             0.7777777777777778,
             "#fb9f3a"
            ],
            [
             0.8888888888888888,
             "#fdca26"
            ],
            [
             1,
             "#f0f921"
            ]
           ]
          },
          "colorway": [
           "#636efa",
           "#EF553B",
           "#00cc96",
           "#ab63fa",
           "#FFA15A",
           "#19d3f3",
           "#FF6692",
           "#B6E880",
           "#FF97FF",
           "#FECB52"
          ],
          "font": {
           "color": "#2a3f5f"
          },
          "geo": {
           "bgcolor": "white",
           "lakecolor": "white",
           "landcolor": "#E5ECF6",
           "showlakes": true,
           "showland": true,
           "subunitcolor": "white"
          },
          "hoverlabel": {
           "align": "left"
          },
          "hovermode": "closest",
          "mapbox": {
           "style": "light"
          },
          "paper_bgcolor": "white",
          "plot_bgcolor": "#E5ECF6",
          "polar": {
           "angularaxis": {
            "gridcolor": "white",
            "linecolor": "white",
            "ticks": ""
           },
           "bgcolor": "#E5ECF6",
           "radialaxis": {
            "gridcolor": "white",
            "linecolor": "white",
            "ticks": ""
           }
          },
          "scene": {
           "xaxis": {
            "backgroundcolor": "#E5ECF6",
            "gridcolor": "white",
            "gridwidth": 2,
            "linecolor": "white",
            "showbackground": true,
            "ticks": "",
            "zerolinecolor": "white"
           },
           "yaxis": {
            "backgroundcolor": "#E5ECF6",
            "gridcolor": "white",
            "gridwidth": 2,
            "linecolor": "white",
            "showbackground": true,
            "ticks": "",
            "zerolinecolor": "white"
           },
           "zaxis": {
            "backgroundcolor": "#E5ECF6",
            "gridcolor": "white",
            "gridwidth": 2,
            "linecolor": "white",
            "showbackground": true,
            "ticks": "",
            "zerolinecolor": "white"
           }
          },
          "shapedefaults": {
           "line": {
            "color": "#2a3f5f"
           }
          },
          "ternary": {
           "aaxis": {
            "gridcolor": "white",
            "linecolor": "white",
            "ticks": ""
           },
           "baxis": {
            "gridcolor": "white",
            "linecolor": "white",
            "ticks": ""
           },
           "bgcolor": "#E5ECF6",
           "caxis": {
            "gridcolor": "white",
            "linecolor": "white",
            "ticks": ""
           }
          },
          "title": {
           "x": 0.05
          },
          "xaxis": {
           "automargin": true,
           "gridcolor": "white",
           "linecolor": "white",
           "ticks": "",
           "title": {
            "standoff": 15
           },
           "zerolinecolor": "white",
           "zerolinewidth": 2
          },
          "yaxis": {
           "automargin": true,
           "gridcolor": "white",
           "linecolor": "white",
           "ticks": "",
           "title": {
            "standoff": 15
           },
           "zerolinecolor": "white",
           "zerolinewidth": 2
          }
         }
        },
        "title": {
         "text": "Map Visualization"
        },
        "width": 600,
        "xaxis": {
         "scaleanchor": "y",
         "showgrid": false
        },
        "yaxis": {
         "showgrid": false
        }
       }
      }
     },
     "metadata": {},
     "output_type": "display_data"
    }
   ],
   "source": [
    "visualize_map_shapes(maze_map.grid, obs=maze_map.obstacles, start=maze_map.start, goal=maze_map.goal, path=result2.path, nodes=list(map(lambda x: x.position, result2.nodes)), edges=result2.edges)"
   ]
  },
  {
   "cell_type": "code",
   "execution_count": 95,
   "id": "c1b38b0a",
   "metadata": {},
   "outputs": [
    {
     "data": {
      "application/vnd.plotly.v1+json": {
       "config": {
        "plotlyServerURL": "https://plot.ly"
       },
       "data": [
        {
         "marker": {
          "color": "blue",
          "size": 4
         },
         "mode": "markers",
         "name": "nodes",
         "type": "scatter",
         "x": [
          80,
          50,
          75.00153856699086,
          54.999938475497856,
          59.99987695099571,
          64.99981542649357,
          69.99975390199143,
          80.56005894577507,
          80,
          75.17505476403235,
          75.6107182906723,
          45.08535103105363,
          44.05406494729316,
          84.84277065743004,
          87.567575650461,
          39.225707131347676,
          34.98721954046451,
          74.79076333694329,
          80,
          50.00619108592103,
          32.295717522416226,
          80,
          84.4982360183139,
          51.00194108038541,
          32.3395426030424,
          83.22986417773811,
          80,
          29.823069438706245,
          49.93200014151753,
          78.18824490195634,
          88.17750022607078,
          31.736806557780852,
          65.64943897840568,
          78.75328834334562,
          84.47020316162639,
          41.229379809476335,
          25.057941092372104,
          80.82649722490977,
          68.88109659643676,
          80,
          80,
          69.18140362258336,
          21.347450249861453,
          80,
          74.2707573371796,
          55.66153870314851,
          57.20902110813865,
          89.22117091595499,
          91.61574746453115,
          63.43126788919777,
          55.58056993866642,
          84.94366707578816,
          76.97436447837376,
          24.78736002788249,
          20.653988368699626,
          89.21172977266241,
          86.80536366911622,
          16.41502169640659,
          68.55620588407866,
          76.53156686346534,
          80,
          11.628343571958574,
          60.440757936836285,
          87.56262042050264,
          80,
          9.16490395059963,
          53.87426394566993,
          72.06881049317248,
          77.0761003358869,
          65.44055701723694,
          17.928764668981398,
          67.25557276703279,
          62.4423350408931,
          57.62909731475341,
          52.81585958861372,
          48.00262186247403,
          50,
          59.287158437595465,
          37.68977009173473,
          13.032371190794247,
          22.006545603202312,
          72.64842956327065,
          51.311061557193874,
          22.355055428963237,
          43.00388867428291,
          38.005155486091795,
          55.38688138840102,
          21.323339369385298,
          33.18063616988934,
          28.356116853686885,
          23.53159753748443,
          21.323339369385298
         ],
         "y": [
          50,
          50,
          50.12402944295675,
          50.024804056849234,
          50.04960811369847,
          50.0744121705477,
          50.099216227396944,
          45.03146561074019,
          50,
          55.12101774886304,
          60.10200131554499,
          49.08009483530402,
          44.18760579459662,
          51.24401461387502,
          55.43632158617005,
          45.486436345976635,
          42.83403687720701,
          65.03431049825599,
          50,
          54.999996167044046,
          47.04780204470769,
          50,
          42.48785746234369,
          59.899841261383685,
          38.59259763621309,
          37.6514090883781,
          50,
          51.393605935143306,
          64.78402250160548,
          68.70270510835404,
          36.92967677426218,
          33.62905965814317,
          55.03203148235464,
          35.42424299692171,
          38.39945580317438,
          52.26309435436897,
          49.87915823285615,
          72.9500130416726,
          58.847315094331826,
          50,
          50,
          63.83828851542385,
          46.52770217501434,
          50,
          33.20908707040992,
          45.068768833127294,
          40.31426589315072,
          32.0398146605542,
          53.27381800439558,
          54.04490842447826,
          35.58688323583975,
          75.78707356605662,
          76.13765688988791,
          54.87183145344046,
          57.68523485982638,
          37.48795168287086,
          27.66215828457843,
          47.346938749553814,
          63.10441927440586,
          60.04754114504881,
          50,
          45.90204687369223,
          34.41275691280392,
          80.04630863566817,
          50,
          41.551016509293596,
          57.79832476483707,
          77.10489010802912,
          45.94504793039527,
          34.36793330713996,
          61.87726966246031,
          75.75110187065016,
          74.3973136332712,
          73.04352539589223,
          71.68973715851327,
          70.3359489211343,
          50,
          34.236824190578574,
          48.685155376746216,
          62.88985590904197,
          64.77065913719481,
          72.99067254248965,
          70.60915969947825,
          69.75849843907173,
          70.22340331581513,
          70.11085771049596,
          48.60513664683316,
          74.65089682559025,
          71.4238746058897,
          72.73689150128342,
          74.04990839667715,
          74.65089682559025
         ]
        },
        {
         "line": {
          "color": "green"
         },
         "marker": {
          "size": 6
         },
         "mode": "lines+markers",
         "name": "Path",
         "type": "scatter",
         "x": [
          50,
          45.08535103105363,
          25.057941092372104,
          22.355055428963237,
          80.82649722490977,
          80
         ],
         "y": [
          50,
          49.08009483530402,
          49.87915823285615,
          69.75849843907173,
          72.9500130416726,
          50
         ]
        },
        {
         "hoverinfo": "skip",
         "line": {
          "color": "lightblue",
          "width": 1
         },
         "mode": "lines",
         "showlegend": false,
         "type": "scatter",
         "x": [
          80,
          75.00153856699086
         ],
         "y": [
          50,
          50.12402944295675
         ]
        },
        {
         "hoverinfo": "skip",
         "line": {
          "color": "lightblue",
          "width": 1
         },
         "mode": "lines",
         "showlegend": false,
         "type": "scatter",
         "x": [
          50,
          54.999938475497856
         ],
         "y": [
          50,
          50.024804056849234
         ]
        },
        {
         "hoverinfo": "skip",
         "line": {
          "color": "lightblue",
          "width": 1
         },
         "mode": "lines",
         "showlegend": false,
         "type": "scatter",
         "x": [
          54.999938475497856,
          59.99987695099571
         ],
         "y": [
          50.024804056849234,
          50.04960811369847
         ]
        },
        {
         "hoverinfo": "skip",
         "line": {
          "color": "lightblue",
          "width": 1
         },
         "mode": "lines",
         "showlegend": false,
         "type": "scatter",
         "x": [
          59.99987695099571,
          64.99981542649357
         ],
         "y": [
          50.04960811369847,
          50.0744121705477
         ]
        },
        {
         "hoverinfo": "skip",
         "line": {
          "color": "lightblue",
          "width": 1
         },
         "mode": "lines",
         "showlegend": false,
         "type": "scatter",
         "x": [
          64.99981542649357,
          69.99975390199143
         ],
         "y": [
          50.0744121705477,
          50.099216227396944
         ]
        },
        {
         "hoverinfo": "skip",
         "line": {
          "color": "lightblue",
          "width": 1
         },
         "mode": "lines",
         "showlegend": false,
         "type": "scatter",
         "x": [
          80,
          80.56005894577507
         ],
         "y": [
          50,
          45.03146561074019
         ]
        },
        {
         "hoverinfo": "skip",
         "line": {
          "color": "lightblue",
          "width": 1
         },
         "mode": "lines",
         "showlegend": false,
         "type": "scatter",
         "x": [
          80,
          80
         ],
         "y": [
          50,
          50
         ]
        },
        {
         "hoverinfo": "skip",
         "line": {
          "color": "lightblue",
          "width": 1
         },
         "mode": "lines",
         "showlegend": false,
         "type": "scatter",
         "x": [
          80,
          75.17505476403235
         ],
         "y": [
          50,
          55.12101774886304
         ]
        },
        {
         "hoverinfo": "skip",
         "line": {
          "color": "lightblue",
          "width": 1
         },
         "mode": "lines",
         "showlegend": false,
         "type": "scatter",
         "x": [
          75.17505476403235,
          75.6107182906723
         ],
         "y": [
          55.12101774886304,
          60.10200131554499
         ]
        },
        {
         "hoverinfo": "skip",
         "line": {
          "color": "lightblue",
          "width": 1
         },
         "mode": "lines",
         "showlegend": false,
         "type": "scatter",
         "x": [
          50,
          45.08535103105363
         ],
         "y": [
          50,
          49.08009483530402
         ]
        },
        {
         "hoverinfo": "skip",
         "line": {
          "color": "lightblue",
          "width": 1
         },
         "mode": "lines",
         "showlegend": false,
         "type": "scatter",
         "x": [
          50,
          44.05406494729316
         ],
         "y": [
          50,
          44.18760579459662
         ]
        },
        {
         "hoverinfo": "skip",
         "line": {
          "color": "lightblue",
          "width": 1
         },
         "mode": "lines",
         "showlegend": false,
         "type": "scatter",
         "x": [
          80,
          84.84277065743004
         ],
         "y": [
          50,
          51.24401461387502
         ]
        },
        {
         "hoverinfo": "skip",
         "line": {
          "color": "lightblue",
          "width": 1
         },
         "mode": "lines",
         "showlegend": false,
         "type": "scatter",
         "x": [
          80,
          87.567575650461
         ],
         "y": [
          50,
          55.43632158617005
         ]
        },
        {
         "hoverinfo": "skip",
         "line": {
          "color": "lightblue",
          "width": 1
         },
         "mode": "lines",
         "showlegend": false,
         "type": "scatter",
         "x": [
          45.08535103105363,
          39.225707131347676
         ],
         "y": [
          49.08009483530402,
          45.486436345976635
         ]
        },
        {
         "hoverinfo": "skip",
         "line": {
          "color": "lightblue",
          "width": 1
         },
         "mode": "lines",
         "showlegend": false,
         "type": "scatter",
         "x": [
          39.225707131347676,
          34.98721954046451
         ],
         "y": [
          45.486436345976635,
          42.83403687720701
         ]
        },
        {
         "hoverinfo": "skip",
         "line": {
          "color": "lightblue",
          "width": 1
         },
         "mode": "lines",
         "showlegend": false,
         "type": "scatter",
         "x": [
          75.6107182906723,
          74.79076333694329
         ],
         "y": [
          60.10200131554499,
          65.03431049825599
         ]
        },
        {
         "hoverinfo": "skip",
         "line": {
          "color": "lightblue",
          "width": 1
         },
         "mode": "lines",
         "showlegend": false,
         "type": "scatter",
         "x": [
          80,
          80
         ],
         "y": [
          50,
          50
         ]
        },
        {
         "hoverinfo": "skip",
         "line": {
          "color": "lightblue",
          "width": 1
         },
         "mode": "lines",
         "showlegend": false,
         "type": "scatter",
         "x": [
          50,
          50.00619108592103
         ],
         "y": [
          50,
          54.999996167044046
         ]
        },
        {
         "hoverinfo": "skip",
         "line": {
          "color": "lightblue",
          "width": 1
         },
         "mode": "lines",
         "showlegend": false,
         "type": "scatter",
         "x": [
          39.225707131347676,
          32.295717522416226
         ],
         "y": [
          45.486436345976635,
          47.04780204470769
         ]
        },
        {
         "hoverinfo": "skip",
         "line": {
          "color": "lightblue",
          "width": 1
         },
         "mode": "lines",
         "showlegend": false,
         "type": "scatter",
         "x": [
          80,
          80
         ],
         "y": [
          50,
          50
         ]
        },
        {
         "hoverinfo": "skip",
         "line": {
          "color": "lightblue",
          "width": 1
         },
         "mode": "lines",
         "showlegend": false,
         "type": "scatter",
         "x": [
          80,
          84.4982360183139
         ],
         "y": [
          50,
          42.48785746234369
         ]
        },
        {
         "hoverinfo": "skip",
         "line": {
          "color": "lightblue",
          "width": 1
         },
         "mode": "lines",
         "showlegend": false,
         "type": "scatter",
         "x": [
          50.00619108592103,
          51.00194108038541
         ],
         "y": [
          54.999996167044046,
          59.899841261383685
         ]
        },
        {
         "hoverinfo": "skip",
         "line": {
          "color": "lightblue",
          "width": 1
         },
         "mode": "lines",
         "showlegend": false,
         "type": "scatter",
         "x": [
          34.98721954046451,
          32.3395426030424
         ],
         "y": [
          42.83403687720701,
          38.59259763621309
         ]
        },
        {
         "hoverinfo": "skip",
         "line": {
          "color": "lightblue",
          "width": 1
         },
         "mode": "lines",
         "showlegend": false,
         "type": "scatter",
         "x": [
          80.56005894577507,
          83.22986417773811
         ],
         "y": [
          45.03146561074019,
          37.6514090883781
         ]
        },
        {
         "hoverinfo": "skip",
         "line": {
          "color": "lightblue",
          "width": 1
         },
         "mode": "lines",
         "showlegend": false,
         "type": "scatter",
         "x": [
          80,
          80
         ],
         "y": [
          50,
          50
         ]
        },
        {
         "hoverinfo": "skip",
         "line": {
          "color": "lightblue",
          "width": 1
         },
         "mode": "lines",
         "showlegend": false,
         "type": "scatter",
         "x": [
          32.295717522416226,
          29.823069438706245
         ],
         "y": [
          47.04780204470769,
          51.393605935143306
         ]
        },
        {
         "hoverinfo": "skip",
         "line": {
          "color": "lightblue",
          "width": 1
         },
         "mode": "lines",
         "showlegend": false,
         "type": "scatter",
         "x": [
          51.00194108038541,
          49.93200014151753
         ],
         "y": [
          59.899841261383685,
          64.78402250160548
         ]
        },
        {
         "hoverinfo": "skip",
         "line": {
          "color": "lightblue",
          "width": 1
         },
         "mode": "lines",
         "showlegend": false,
         "type": "scatter",
         "x": [
          74.79076333694329,
          78.18824490195634
         ],
         "y": [
          65.03431049825599,
          68.70270510835404
         ]
        },
        {
         "hoverinfo": "skip",
         "line": {
          "color": "lightblue",
          "width": 1
         },
         "mode": "lines",
         "showlegend": false,
         "type": "scatter",
         "x": [
          84.4982360183139,
          88.17750022607078
         ],
         "y": [
          42.48785746234369,
          36.92967677426218
         ]
        },
        {
         "hoverinfo": "skip",
         "line": {
          "color": "lightblue",
          "width": 1
         },
         "mode": "lines",
         "showlegend": false,
         "type": "scatter",
         "x": [
          32.3395426030424,
          31.736806557780852
         ],
         "y": [
          38.59259763621309,
          33.62905965814317
         ]
        },
        {
         "hoverinfo": "skip",
         "line": {
          "color": "lightblue",
          "width": 1
         },
         "mode": "lines",
         "showlegend": false,
         "type": "scatter",
         "x": [
          59.99987695099571,
          65.64943897840568
         ],
         "y": [
          50.04960811369847,
          55.03203148235464
         ]
        },
        {
         "hoverinfo": "skip",
         "line": {
          "color": "lightblue",
          "width": 1
         },
         "mode": "lines",
         "showlegend": false,
         "type": "scatter",
         "x": [
          83.22986417773811,
          78.75328834334562
         ],
         "y": [
          37.6514090883781,
          35.42424299692171
         ]
        },
        {
         "hoverinfo": "skip",
         "line": {
          "color": "lightblue",
          "width": 1
         },
         "mode": "lines",
         "showlegend": false,
         "type": "scatter",
         "x": [
          80.56005894577507,
          84.47020316162639
         ],
         "y": [
          45.03146561074019,
          38.39945580317438
         ]
        },
        {
         "hoverinfo": "skip",
         "line": {
          "color": "lightblue",
          "width": 1
         },
         "mode": "lines",
         "showlegend": false,
         "type": "scatter",
         "x": [
          45.08535103105363,
          41.229379809476335
         ],
         "y": [
          49.08009483530402,
          52.26309435436897
         ]
        },
        {
         "hoverinfo": "skip",
         "line": {
          "color": "lightblue",
          "width": 1
         },
         "mode": "lines",
         "showlegend": false,
         "type": "scatter",
         "x": [
          32.295717522416226,
          25.057941092372104
         ],
         "y": [
          47.04780204470769,
          49.87915823285615
         ]
        },
        {
         "hoverinfo": "skip",
         "line": {
          "color": "lightblue",
          "width": 1
         },
         "mode": "lines",
         "showlegend": false,
         "type": "scatter",
         "x": [
          78.18824490195634,
          80.82649722490977
         ],
         "y": [
          68.70270510835404,
          72.9500130416726
         ]
        },
        {
         "hoverinfo": "skip",
         "line": {
          "color": "lightblue",
          "width": 1
         },
         "mode": "lines",
         "showlegend": false,
         "type": "scatter",
         "x": [
          65.64943897840568,
          68.88109659643676
         ],
         "y": [
          55.03203148235464,
          58.847315094331826
         ]
        },
        {
         "hoverinfo": "skip",
         "line": {
          "color": "lightblue",
          "width": 1
         },
         "mode": "lines",
         "showlegend": false,
         "type": "scatter",
         "x": [
          80,
          80
         ],
         "y": [
          50,
          50
         ]
        },
        {
         "hoverinfo": "skip",
         "line": {
          "color": "lightblue",
          "width": 1
         },
         "mode": "lines",
         "showlegend": false,
         "type": "scatter",
         "x": [
          80,
          80
         ],
         "y": [
          50,
          50
         ]
        },
        {
         "hoverinfo": "skip",
         "line": {
          "color": "lightblue",
          "width": 1
         },
         "mode": "lines",
         "showlegend": false,
         "type": "scatter",
         "x": [
          68.88109659643676,
          69.18140362258336
         ],
         "y": [
          58.847315094331826,
          63.83828851542385
         ]
        },
        {
         "hoverinfo": "skip",
         "line": {
          "color": "lightblue",
          "width": 1
         },
         "mode": "lines",
         "showlegend": false,
         "type": "scatter",
         "x": [
          25.057941092372104,
          21.347450249861453
         ],
         "y": [
          49.87915823285615,
          46.52770217501434
         ]
        },
        {
         "hoverinfo": "skip",
         "line": {
          "color": "lightblue",
          "width": 1
         },
         "mode": "lines",
         "showlegend": false,
         "type": "scatter",
         "x": [
          80,
          80
         ],
         "y": [
          50,
          50
         ]
        },
        {
         "hoverinfo": "skip",
         "line": {
          "color": "lightblue",
          "width": 1
         },
         "mode": "lines",
         "showlegend": false,
         "type": "scatter",
         "x": [
          78.75328834334562,
          74.2707573371796
         ],
         "y": [
          35.42424299692171,
          33.20908707040992
         ]
        },
        {
         "hoverinfo": "skip",
         "line": {
          "color": "lightblue",
          "width": 1
         },
         "mode": "lines",
         "showlegend": false,
         "type": "scatter",
         "x": [
          55.66153870314851,
          57.20902110813865
         ],
         "y": [
          45.068768833127294,
          40.31426589315072
         ]
        },
        {
         "hoverinfo": "skip",
         "line": {
          "color": "lightblue",
          "width": 1
         },
         "mode": "lines",
         "showlegend": false,
         "type": "scatter",
         "x": [
          88.17750022607078,
          89.22117091595499
         ],
         "y": [
          36.92967677426218,
          32.0398146605542
         ]
        },
        {
         "hoverinfo": "skip",
         "line": {
          "color": "lightblue",
          "width": 1
         },
         "mode": "lines",
         "showlegend": false,
         "type": "scatter",
         "x": [
          84.84277065743004,
          91.61574746453115
         ],
         "y": [
          51.24401461387502,
          53.27381800439558
         ]
        },
        {
         "hoverinfo": "skip",
         "line": {
          "color": "lightblue",
          "width": 1
         },
         "mode": "lines",
         "showlegend": false,
         "type": "scatter",
         "x": [
          59.99987695099571,
          63.43126788919777
         ],
         "y": [
          50.04960811369847,
          54.04490842447826
         ]
        },
        {
         "hoverinfo": "skip",
         "line": {
          "color": "lightblue",
          "width": 1
         },
         "mode": "lines",
         "showlegend": false,
         "type": "scatter",
         "x": [
          57.20902110813865,
          55.58056993866642
         ],
         "y": [
          40.31426589315072,
          35.58688323583975
         ]
        },
        {
         "hoverinfo": "skip",
         "line": {
          "color": "lightblue",
          "width": 1
         },
         "mode": "lines",
         "showlegend": false,
         "type": "scatter",
         "x": [
          80.82649722490977,
          84.94366707578816
         ],
         "y": [
          72.9500130416726,
          75.78707356605662
         ]
        },
        {
         "hoverinfo": "skip",
         "line": {
          "color": "lightblue",
          "width": 1
         },
         "mode": "lines",
         "showlegend": false,
         "type": "scatter",
         "x": [
          80.82649722490977,
          76.97436447837376
         ],
         "y": [
          72.9500130416726,
          76.13765688988791
         ]
        },
        {
         "hoverinfo": "skip",
         "line": {
          "color": "lightblue",
          "width": 1
         },
         "mode": "lines",
         "showlegend": false,
         "type": "scatter",
         "x": [
          25.057941092372104,
          24.78736002788249
         ],
         "y": [
          49.87915823285615,
          54.87183145344046
         ]
        },
        {
         "hoverinfo": "skip",
         "line": {
          "color": "lightblue",
          "width": 1
         },
         "mode": "lines",
         "showlegend": false,
         "type": "scatter",
         "x": [
          24.78736002788249,
          20.653988368699626
         ],
         "y": [
          54.87183145344046,
          57.68523485982638
         ]
        },
        {
         "hoverinfo": "skip",
         "line": {
          "color": "lightblue",
          "width": 1
         },
         "mode": "lines",
         "showlegend": false,
         "type": "scatter",
         "x": [
          84.4982360183139,
          89.21172977266241
         ],
         "y": [
          42.48785746234369,
          37.48795168287086
         ]
        },
        {
         "hoverinfo": "skip",
         "line": {
          "color": "lightblue",
          "width": 1
         },
         "mode": "lines",
         "showlegend": false,
         "type": "scatter",
         "x": [
          89.22117091595499,
          86.80536366911622
         ],
         "y": [
          32.0398146605542,
          27.66215828457843
         ]
        },
        {
         "hoverinfo": "skip",
         "line": {
          "color": "lightblue",
          "width": 1
         },
         "mode": "lines",
         "showlegend": false,
         "type": "scatter",
         "x": [
          21.347450249861453,
          16.41502169640659
         ],
         "y": [
          46.52770217501434,
          47.346938749553814
         ]
        },
        {
         "hoverinfo": "skip",
         "line": {
          "color": "lightblue",
          "width": 1
         },
         "mode": "lines",
         "showlegend": false,
         "type": "scatter",
         "x": [
          68.88109659643676,
          68.55620588407866
         ],
         "y": [
          58.847315094331826,
          63.10441927440586
         ]
        },
        {
         "hoverinfo": "skip",
         "line": {
          "color": "lightblue",
          "width": 1
         },
         "mode": "lines",
         "showlegend": false,
         "type": "scatter",
         "x": [
          75.17505476403235,
          76.53156686346534
         ],
         "y": [
          55.12101774886304,
          60.04754114504881
         ]
        },
        {
         "hoverinfo": "skip",
         "line": {
          "color": "lightblue",
          "width": 1
         },
         "mode": "lines",
         "showlegend": false,
         "type": "scatter",
         "x": [
          80,
          80
         ],
         "y": [
          50,
          50
         ]
        },
        {
         "hoverinfo": "skip",
         "line": {
          "color": "lightblue",
          "width": 1
         },
         "mode": "lines",
         "showlegend": false,
         "type": "scatter",
         "x": [
          16.41502169640659,
          11.628343571958574
         ],
         "y": [
          47.346938749553814,
          45.90204687369223
         ]
        },
        {
         "hoverinfo": "skip",
         "line": {
          "color": "lightblue",
          "width": 1
         },
         "mode": "lines",
         "showlegend": false,
         "type": "scatter",
         "x": [
          55.58056993866642,
          60.440757936836285
         ],
         "y": [
          35.58688323583975,
          34.41275691280392
         ]
        },
        {
         "hoverinfo": "skip",
         "line": {
          "color": "lightblue",
          "width": 1
         },
         "mode": "lines",
         "showlegend": false,
         "type": "scatter",
         "x": [
          84.94366707578816,
          87.56262042050264
         ],
         "y": [
          75.78707356605662,
          80.04630863566817
         ]
        },
        {
         "hoverinfo": "skip",
         "line": {
          "color": "lightblue",
          "width": 1
         },
         "mode": "lines",
         "showlegend": false,
         "type": "scatter",
         "x": [
          80,
          80
         ],
         "y": [
          50,
          50
         ]
        },
        {
         "hoverinfo": "skip",
         "line": {
          "color": "lightblue",
          "width": 1
         },
         "mode": "lines",
         "showlegend": false,
         "type": "scatter",
         "x": [
          11.628343571958574,
          9.16490395059963
         ],
         "y": [
          45.90204687369223,
          41.551016509293596
         ]
        },
        {
         "hoverinfo": "skip",
         "line": {
          "color": "lightblue",
          "width": 1
         },
         "mode": "lines",
         "showlegend": false,
         "type": "scatter",
         "x": [
          50.00619108592103,
          53.87426394566993
         ],
         "y": [
          54.999996167044046,
          57.79832476483707
         ]
        },
        {
         "hoverinfo": "skip",
         "line": {
          "color": "lightblue",
          "width": 1
         },
         "mode": "lines",
         "showlegend": false,
         "type": "scatter",
         "x": [
          76.97436447837376,
          72.06881049317248
         ],
         "y": [
          76.13765688988791,
          77.10489010802912
         ]
        },
        {
         "hoverinfo": "skip",
         "line": {
          "color": "lightblue",
          "width": 1
         },
         "mode": "lines",
         "showlegend": false,
         "type": "scatter",
         "x": [
          80,
          77.0761003358869
         ],
         "y": [
          50,
          45.94504793039527
         ]
        },
        {
         "hoverinfo": "skip",
         "line": {
          "color": "lightblue",
          "width": 1
         },
         "mode": "lines",
         "showlegend": false,
         "type": "scatter",
         "x": [
          60.440757936836285,
          65.44055701723694
         ],
         "y": [
          34.41275691280392,
          34.36793330713996
         ]
        },
        {
         "hoverinfo": "skip",
         "line": {
          "color": "lightblue",
          "width": 1
         },
         "mode": "lines",
         "showlegend": false,
         "type": "scatter",
         "x": [
          20.653988368699626,
          17.928764668981398
         ],
         "y": [
          57.68523485982638,
          61.87726966246031
         ]
        },
        {
         "hoverinfo": "skip",
         "line": {
          "color": "lightblue",
          "width": 1
         },
         "mode": "lines",
         "showlegend": false,
         "type": "scatter",
         "x": [
          72.06881049317248,
          67.25557276703279
         ],
         "y": [
          77.10489010802912,
          75.75110187065016
         ]
        },
        {
         "hoverinfo": "skip",
         "line": {
          "color": "lightblue",
          "width": 1
         },
         "mode": "lines",
         "showlegend": false,
         "type": "scatter",
         "x": [
          67.25557276703279,
          62.4423350408931
         ],
         "y": [
          75.75110187065016,
          74.3973136332712
         ]
        },
        {
         "hoverinfo": "skip",
         "line": {
          "color": "lightblue",
          "width": 1
         },
         "mode": "lines",
         "showlegend": false,
         "type": "scatter",
         "x": [
          62.4423350408931,
          57.62909731475341
         ],
         "y": [
          74.3973136332712,
          73.04352539589223
         ]
        },
        {
         "hoverinfo": "skip",
         "line": {
          "color": "lightblue",
          "width": 1
         },
         "mode": "lines",
         "showlegend": false,
         "type": "scatter",
         "x": [
          57.62909731475341,
          52.81585958861372
         ],
         "y": [
          73.04352539589223,
          71.68973715851327
         ]
        },
        {
         "hoverinfo": "skip",
         "line": {
          "color": "lightblue",
          "width": 1
         },
         "mode": "lines",
         "showlegend": false,
         "type": "scatter",
         "x": [
          52.81585958861372,
          48.00262186247403
         ],
         "y": [
          71.68973715851327,
          70.3359489211343
         ]
        },
        {
         "hoverinfo": "skip",
         "line": {
          "color": "lightblue",
          "width": 1
         },
         "mode": "lines",
         "showlegend": false,
         "type": "scatter",
         "x": [
          50,
          50
         ],
         "y": [
          50,
          50
         ]
        },
        {
         "hoverinfo": "skip",
         "line": {
          "color": "lightblue",
          "width": 1
         },
         "mode": "lines",
         "showlegend": false,
         "type": "scatter",
         "x": [
          55.58056993866642,
          59.287158437595465
         ],
         "y": [
          35.58688323583975,
          34.236824190578574
         ]
        },
        {
         "hoverinfo": "skip",
         "line": {
          "color": "lightblue",
          "width": 1
         },
         "mode": "lines",
         "showlegend": false,
         "type": "scatter",
         "x": [
          41.229379809476335,
          37.68977009173473
         ],
         "y": [
          52.26309435436897,
          48.685155376746216
         ]
        },
        {
         "hoverinfo": "skip",
         "line": {
          "color": "lightblue",
          "width": 1
         },
         "mode": "lines",
         "showlegend": false,
         "type": "scatter",
         "x": [
          17.928764668981398,
          13.032371190794247
         ],
         "y": [
          61.87726966246031,
          62.88985590904197
         ]
        },
        {
         "hoverinfo": "skip",
         "line": {
          "color": "lightblue",
          "width": 1
         },
         "mode": "lines",
         "showlegend": false,
         "type": "scatter",
         "x": [
          17.928764668981398,
          22.006545603202312
         ],
         "y": [
          61.87726966246031,
          64.77065913719481
         ]
        },
        {
         "hoverinfo": "skip",
         "line": {
          "color": "lightblue",
          "width": 1
         },
         "mode": "lines",
         "showlegend": false,
         "type": "scatter",
         "x": [
          76.97436447837376,
          72.64842956327065
         ],
         "y": [
          76.13765688988791,
          72.99067254248965
         ]
        },
        {
         "hoverinfo": "skip",
         "line": {
          "color": "lightblue",
          "width": 1
         },
         "mode": "lines",
         "showlegend": false,
         "type": "scatter",
         "x": [
          52.81585958861372,
          51.311061557193874
         ],
         "y": [
          71.68973715851327,
          70.60915969947825
         ]
        },
        {
         "hoverinfo": "skip",
         "line": {
          "color": "lightblue",
          "width": 1
         },
         "mode": "lines",
         "showlegend": false,
         "type": "scatter",
         "x": [
          22.006545603202312,
          22.355055428963237
         ],
         "y": [
          64.77065913719481,
          69.75849843907173
         ]
        },
        {
         "hoverinfo": "skip",
         "line": {
          "color": "lightblue",
          "width": 1
         },
         "mode": "lines",
         "showlegend": false,
         "type": "scatter",
         "x": [
          48.00262186247403,
          43.00388867428291
         ],
         "y": [
          70.3359489211343,
          70.22340331581513
         ]
        },
        {
         "hoverinfo": "skip",
         "line": {
          "color": "lightblue",
          "width": 1
         },
         "mode": "lines",
         "showlegend": false,
         "type": "scatter",
         "x": [
          43.00388867428291,
          38.005155486091795
         ],
         "y": [
          70.22340331581513,
          70.11085771049596
         ]
        },
        {
         "hoverinfo": "skip",
         "line": {
          "color": "lightblue",
          "width": 1
         },
         "mode": "lines",
         "showlegend": false,
         "type": "scatter",
         "x": [
          50,
          55.38688138840102
         ],
         "y": [
          50,
          48.60513664683316
         ]
        },
        {
         "hoverinfo": "skip",
         "line": {
          "color": "lightblue",
          "width": 1
         },
         "mode": "lines",
         "showlegend": false,
         "type": "scatter",
         "x": [
          55.38688138840102,
          55.66153870314851
         ],
         "y": [
          48.60513664683316,
          45.068768833127294
         ]
        },
        {
         "hoverinfo": "skip",
         "line": {
          "color": "lightblue",
          "width": 1
         },
         "mode": "lines",
         "showlegend": false,
         "type": "scatter",
         "x": [
          22.355055428963237,
          21.323339369385298
         ],
         "y": [
          69.75849843907173,
          74.65089682559025
         ]
        },
        {
         "hoverinfo": "skip",
         "line": {
          "color": "lightblue",
          "width": 1
         },
         "mode": "lines",
         "showlegend": false,
         "type": "scatter",
         "x": [
          38.005155486091795,
          33.18063616988934
         ],
         "y": [
          70.11085771049596,
          71.4238746058897
         ]
        },
        {
         "hoverinfo": "skip",
         "line": {
          "color": "lightblue",
          "width": 1
         },
         "mode": "lines",
         "showlegend": false,
         "type": "scatter",
         "x": [
          33.18063616988934,
          28.356116853686885
         ],
         "y": [
          71.4238746058897,
          72.73689150128342
         ]
        },
        {
         "hoverinfo": "skip",
         "line": {
          "color": "lightblue",
          "width": 1
         },
         "mode": "lines",
         "showlegend": false,
         "type": "scatter",
         "x": [
          28.356116853686885,
          23.53159753748443
         ],
         "y": [
          72.73689150128342,
          74.04990839667715
         ]
        },
        {
         "hoverinfo": "skip",
         "line": {
          "color": "lightblue",
          "width": 1
         },
         "mode": "lines",
         "showlegend": false,
         "type": "scatter",
         "x": [
          23.53159753748443,
          21.323339369385298
         ],
         "y": [
          74.04990839667715,
          74.65089682559025
         ]
        },
        {
         "marker": {
          "color": "red",
          "size": 10
         },
         "mode": "markers",
         "name": "Start",
         "type": "scatter",
         "x": [
          80
         ],
         "y": [
          50
         ]
        },
        {
         "marker": {
          "color": "orange",
          "size": 10
         },
         "mode": "markers",
         "name": "Goal",
         "type": "scatter",
         "x": [
          50
         ],
         "y": [
          50
         ]
        }
       ],
       "layout": {
        "height": 600,
        "shapes": [
         {
          "fillcolor": "purple",
          "line": {
           "width": 0
          },
          "opacity": 0.5,
          "type": "rect",
          "x0": 27,
          "x1": 30,
          "y0": 52,
          "y1": 70
         },
         {
          "fillcolor": "purple",
          "line": {
           "width": 0
          },
          "opacity": 0.5,
          "type": "rect",
          "x0": 27,
          "x1": 30,
          "y0": 30,
          "y1": 48
         },
         {
          "fillcolor": "purple",
          "line": {
           "width": 0
          },
          "opacity": 0.5,
          "type": "rect",
          "x0": 70,
          "x1": 73,
          "y0": 30,
          "y1": 70
         },
         {
          "fillcolor": "purple",
          "line": {
           "width": 0
          },
          "opacity": 0.5,
          "type": "rect",
          "x0": 30,
          "x1": 70,
          "y0": 30,
          "y1": 33
         },
         {
          "fillcolor": "purple",
          "line": {
           "width": 0
          },
          "opacity": 0.5,
          "type": "rect",
          "x0": 30,
          "x1": 70,
          "y0": 67,
          "y1": 70
         },
         {
          "fillcolor": "rgba(0,0,0,0)",
          "layer": "above",
          "line": {
           "color": "white",
           "width": 3
          },
          "type": "rect",
          "x0": 0,
          "x1": 100,
          "y0": 0,
          "y1": 100
         }
        ],
        "template": {
         "data": {
          "bar": [
           {
            "error_x": {
             "color": "#2a3f5f"
            },
            "error_y": {
             "color": "#2a3f5f"
            },
            "marker": {
             "line": {
              "color": "#E5ECF6",
              "width": 0.5
             },
             "pattern": {
              "fillmode": "overlay",
              "size": 10,
              "solidity": 0.2
             }
            },
            "type": "bar"
           }
          ],
          "barpolar": [
           {
            "marker": {
             "line": {
              "color": "#E5ECF6",
              "width": 0.5
             },
             "pattern": {
              "fillmode": "overlay",
              "size": 10,
              "solidity": 0.2
             }
            },
            "type": "barpolar"
           }
          ],
          "carpet": [
           {
            "aaxis": {
             "endlinecolor": "#2a3f5f",
             "gridcolor": "white",
             "linecolor": "white",
             "minorgridcolor": "white",
             "startlinecolor": "#2a3f5f"
            },
            "baxis": {
             "endlinecolor": "#2a3f5f",
             "gridcolor": "white",
             "linecolor": "white",
             "minorgridcolor": "white",
             "startlinecolor": "#2a3f5f"
            },
            "type": "carpet"
           }
          ],
          "choropleth": [
           {
            "colorbar": {
             "outlinewidth": 0,
             "ticks": ""
            },
            "type": "choropleth"
           }
          ],
          "contour": [
           {
            "colorbar": {
             "outlinewidth": 0,
             "ticks": ""
            },
            "colorscale": [
             [
              0,
              "#0d0887"
             ],
             [
              0.1111111111111111,
              "#46039f"
             ],
             [
              0.2222222222222222,
              "#7201a8"
             ],
             [
              0.3333333333333333,
              "#9c179e"
             ],
             [
              0.4444444444444444,
              "#bd3786"
             ],
             [
              0.5555555555555556,
              "#d8576b"
             ],
             [
              0.6666666666666666,
              "#ed7953"
             ],
             [
              0.7777777777777778,
              "#fb9f3a"
             ],
             [
              0.8888888888888888,
              "#fdca26"
             ],
             [
              1,
              "#f0f921"
             ]
            ],
            "type": "contour"
           }
          ],
          "contourcarpet": [
           {
            "colorbar": {
             "outlinewidth": 0,
             "ticks": ""
            },
            "type": "contourcarpet"
           }
          ],
          "heatmap": [
           {
            "colorbar": {
             "outlinewidth": 0,
             "ticks": ""
            },
            "colorscale": [
             [
              0,
              "#0d0887"
             ],
             [
              0.1111111111111111,
              "#46039f"
             ],
             [
              0.2222222222222222,
              "#7201a8"
             ],
             [
              0.3333333333333333,
              "#9c179e"
             ],
             [
              0.4444444444444444,
              "#bd3786"
             ],
             [
              0.5555555555555556,
              "#d8576b"
             ],
             [
              0.6666666666666666,
              "#ed7953"
             ],
             [
              0.7777777777777778,
              "#fb9f3a"
             ],
             [
              0.8888888888888888,
              "#fdca26"
             ],
             [
              1,
              "#f0f921"
             ]
            ],
            "type": "heatmap"
           }
          ],
          "histogram": [
           {
            "marker": {
             "pattern": {
              "fillmode": "overlay",
              "size": 10,
              "solidity": 0.2
             }
            },
            "type": "histogram"
           }
          ],
          "histogram2d": [
           {
            "colorbar": {
             "outlinewidth": 0,
             "ticks": ""
            },
            "colorscale": [
             [
              0,
              "#0d0887"
             ],
             [
              0.1111111111111111,
              "#46039f"
             ],
             [
              0.2222222222222222,
              "#7201a8"
             ],
             [
              0.3333333333333333,
              "#9c179e"
             ],
             [
              0.4444444444444444,
              "#bd3786"
             ],
             [
              0.5555555555555556,
              "#d8576b"
             ],
             [
              0.6666666666666666,
              "#ed7953"
             ],
             [
              0.7777777777777778,
              "#fb9f3a"
             ],
             [
              0.8888888888888888,
              "#fdca26"
             ],
             [
              1,
              "#f0f921"
             ]
            ],
            "type": "histogram2d"
           }
          ],
          "histogram2dcontour": [
           {
            "colorbar": {
             "outlinewidth": 0,
             "ticks": ""
            },
            "colorscale": [
             [
              0,
              "#0d0887"
             ],
             [
              0.1111111111111111,
              "#46039f"
             ],
             [
              0.2222222222222222,
              "#7201a8"
             ],
             [
              0.3333333333333333,
              "#9c179e"
             ],
             [
              0.4444444444444444,
              "#bd3786"
             ],
             [
              0.5555555555555556,
              "#d8576b"
             ],
             [
              0.6666666666666666,
              "#ed7953"
             ],
             [
              0.7777777777777778,
              "#fb9f3a"
             ],
             [
              0.8888888888888888,
              "#fdca26"
             ],
             [
              1,
              "#f0f921"
             ]
            ],
            "type": "histogram2dcontour"
           }
          ],
          "mesh3d": [
           {
            "colorbar": {
             "outlinewidth": 0,
             "ticks": ""
            },
            "type": "mesh3d"
           }
          ],
          "parcoords": [
           {
            "line": {
             "colorbar": {
              "outlinewidth": 0,
              "ticks": ""
             }
            },
            "type": "parcoords"
           }
          ],
          "pie": [
           {
            "automargin": true,
            "type": "pie"
           }
          ],
          "scatter": [
           {
            "fillpattern": {
             "fillmode": "overlay",
             "size": 10,
             "solidity": 0.2
            },
            "type": "scatter"
           }
          ],
          "scatter3d": [
           {
            "line": {
             "colorbar": {
              "outlinewidth": 0,
              "ticks": ""
             }
            },
            "marker": {
             "colorbar": {
              "outlinewidth": 0,
              "ticks": ""
             }
            },
            "type": "scatter3d"
           }
          ],
          "scattercarpet": [
           {
            "marker": {
             "colorbar": {
              "outlinewidth": 0,
              "ticks": ""
             }
            },
            "type": "scattercarpet"
           }
          ],
          "scattergeo": [
           {
            "marker": {
             "colorbar": {
              "outlinewidth": 0,
              "ticks": ""
             }
            },
            "type": "scattergeo"
           }
          ],
          "scattergl": [
           {
            "marker": {
             "colorbar": {
              "outlinewidth": 0,
              "ticks": ""
             }
            },
            "type": "scattergl"
           }
          ],
          "scattermap": [
           {
            "marker": {
             "colorbar": {
              "outlinewidth": 0,
              "ticks": ""
             }
            },
            "type": "scattermap"
           }
          ],
          "scattermapbox": [
           {
            "marker": {
             "colorbar": {
              "outlinewidth": 0,
              "ticks": ""
             }
            },
            "type": "scattermapbox"
           }
          ],
          "scatterpolar": [
           {
            "marker": {
             "colorbar": {
              "outlinewidth": 0,
              "ticks": ""
             }
            },
            "type": "scatterpolar"
           }
          ],
          "scatterpolargl": [
           {
            "marker": {
             "colorbar": {
              "outlinewidth": 0,
              "ticks": ""
             }
            },
            "type": "scatterpolargl"
           }
          ],
          "scatterternary": [
           {
            "marker": {
             "colorbar": {
              "outlinewidth": 0,
              "ticks": ""
             }
            },
            "type": "scatterternary"
           }
          ],
          "surface": [
           {
            "colorbar": {
             "outlinewidth": 0,
             "ticks": ""
            },
            "colorscale": [
             [
              0,
              "#0d0887"
             ],
             [
              0.1111111111111111,
              "#46039f"
             ],
             [
              0.2222222222222222,
              "#7201a8"
             ],
             [
              0.3333333333333333,
              "#9c179e"
             ],
             [
              0.4444444444444444,
              "#bd3786"
             ],
             [
              0.5555555555555556,
              "#d8576b"
             ],
             [
              0.6666666666666666,
              "#ed7953"
             ],
             [
              0.7777777777777778,
              "#fb9f3a"
             ],
             [
              0.8888888888888888,
              "#fdca26"
             ],
             [
              1,
              "#f0f921"
             ]
            ],
            "type": "surface"
           }
          ],
          "table": [
           {
            "cells": {
             "fill": {
              "color": "#EBF0F8"
             },
             "line": {
              "color": "white"
             }
            },
            "header": {
             "fill": {
              "color": "#C8D4E3"
             },
             "line": {
              "color": "white"
             }
            },
            "type": "table"
           }
          ]
         },
         "layout": {
          "annotationdefaults": {
           "arrowcolor": "#2a3f5f",
           "arrowhead": 0,
           "arrowwidth": 1
          },
          "autotypenumbers": "strict",
          "coloraxis": {
           "colorbar": {
            "outlinewidth": 0,
            "ticks": ""
           }
          },
          "colorscale": {
           "diverging": [
            [
             0,
             "#8e0152"
            ],
            [
             0.1,
             "#c51b7d"
            ],
            [
             0.2,
             "#de77ae"
            ],
            [
             0.3,
             "#f1b6da"
            ],
            [
             0.4,
             "#fde0ef"
            ],
            [
             0.5,
             "#f7f7f7"
            ],
            [
             0.6,
             "#e6f5d0"
            ],
            [
             0.7,
             "#b8e186"
            ],
            [
             0.8,
             "#7fbc41"
            ],
            [
             0.9,
             "#4d9221"
            ],
            [
             1,
             "#276419"
            ]
           ],
           "sequential": [
            [
             0,
             "#0d0887"
            ],
            [
             0.1111111111111111,
             "#46039f"
            ],
            [
             0.2222222222222222,
             "#7201a8"
            ],
            [
             0.3333333333333333,
             "#9c179e"
            ],
            [
             0.4444444444444444,
             "#bd3786"
            ],
            [
             0.5555555555555556,
             "#d8576b"
            ],
            [
             0.6666666666666666,
             "#ed7953"
            ],
            [
             0.7777777777777778,
             "#fb9f3a"
            ],
            [
             0.8888888888888888,
             "#fdca26"
            ],
            [
             1,
             "#f0f921"
            ]
           ],
           "sequentialminus": [
            [
             0,
             "#0d0887"
            ],
            [
             0.1111111111111111,
             "#46039f"
            ],
            [
             0.2222222222222222,
             "#7201a8"
            ],
            [
             0.3333333333333333,
             "#9c179e"
            ],
            [
             0.4444444444444444,
             "#bd3786"
            ],
            [
             0.5555555555555556,
             "#d8576b"
            ],
            [
             0.6666666666666666,
             "#ed7953"
            ],
            [
             0.7777777777777778,
             "#fb9f3a"
            ],
            [
             0.8888888888888888,
             "#fdca26"
            ],
            [
             1,
             "#f0f921"
            ]
           ]
          },
          "colorway": [
           "#636efa",
           "#EF553B",
           "#00cc96",
           "#ab63fa",
           "#FFA15A",
           "#19d3f3",
           "#FF6692",
           "#B6E880",
           "#FF97FF",
           "#FECB52"
          ],
          "font": {
           "color": "#2a3f5f"
          },
          "geo": {
           "bgcolor": "white",
           "lakecolor": "white",
           "landcolor": "#E5ECF6",
           "showlakes": true,
           "showland": true,
           "subunitcolor": "white"
          },
          "hoverlabel": {
           "align": "left"
          },
          "hovermode": "closest",
          "mapbox": {
           "style": "light"
          },
          "paper_bgcolor": "white",
          "plot_bgcolor": "#E5ECF6",
          "polar": {
           "angularaxis": {
            "gridcolor": "white",
            "linecolor": "white",
            "ticks": ""
           },
           "bgcolor": "#E5ECF6",
           "radialaxis": {
            "gridcolor": "white",
            "linecolor": "white",
            "ticks": ""
           }
          },
          "scene": {
           "xaxis": {
            "backgroundcolor": "#E5ECF6",
            "gridcolor": "white",
            "gridwidth": 2,
            "linecolor": "white",
            "showbackground": true,
            "ticks": "",
            "zerolinecolor": "white"
           },
           "yaxis": {
            "backgroundcolor": "#E5ECF6",
            "gridcolor": "white",
            "gridwidth": 2,
            "linecolor": "white",
            "showbackground": true,
            "ticks": "",
            "zerolinecolor": "white"
           },
           "zaxis": {
            "backgroundcolor": "#E5ECF6",
            "gridcolor": "white",
            "gridwidth": 2,
            "linecolor": "white",
            "showbackground": true,
            "ticks": "",
            "zerolinecolor": "white"
           }
          },
          "shapedefaults": {
           "line": {
            "color": "#2a3f5f"
           }
          },
          "ternary": {
           "aaxis": {
            "gridcolor": "white",
            "linecolor": "white",
            "ticks": ""
           },
           "baxis": {
            "gridcolor": "white",
            "linecolor": "white",
            "ticks": ""
           },
           "bgcolor": "#E5ECF6",
           "caxis": {
            "gridcolor": "white",
            "linecolor": "white",
            "ticks": ""
           }
          },
          "title": {
           "x": 0.05
          },
          "xaxis": {
           "automargin": true,
           "gridcolor": "white",
           "linecolor": "white",
           "ticks": "",
           "title": {
            "standoff": 15
           },
           "zerolinecolor": "white",
           "zerolinewidth": 2
          },
          "yaxis": {
           "automargin": true,
           "gridcolor": "white",
           "linecolor": "white",
           "ticks": "",
           "title": {
            "standoff": 15
           },
           "zerolinecolor": "white",
           "zerolinewidth": 2
          }
         }
        },
        "title": {
         "text": "Map Visualization"
        },
        "width": 600,
        "xaxis": {
         "scaleanchor": "y",
         "showgrid": false
        },
        "yaxis": {
         "showgrid": false
        }
       }
      }
     },
     "metadata": {},
     "output_type": "display_data"
    }
   ],
   "source": [
    "visualize_map_shapes(narrow_map.grid, obs=narrow_map.obstacles, start=narrow_map.start, goal=narrow_map.goal, path=result3.path, nodes=list(map(lambda x: x.position, result3.nodes)), edges=result3.edges)"
   ]
  },
  {
   "cell_type": "code",
   "execution_count": 306,
   "id": "98e77142",
   "metadata": {},
   "outputs": [
    {
     "name": "stdout",
     "output_type": "stream",
     "text": [
      "Map 1, Iteration 1: Time taken: 4.5771 seconds\n",
      "Map 1, Iteration 2: Time taken: 4.7441 seconds\n",
      "Map 1, Iteration 3: Time taken: 4.6237 seconds\n",
      "Map 1, Iteration 4: Time taken: 4.5852 seconds\n",
      "Map 1, Iteration 5: Time taken: 3.8997 seconds\n",
      "Map 1, Iteration 6: Time taken: 4.4552 seconds\n",
      "Map 1, Iteration 7: Time taken: 4.7395 seconds\n",
      "Map 1, Iteration 8: Time taken: 4.6186 seconds\n",
      "Map 1, Iteration 9: Time taken: 4.5787 seconds\n",
      "Map 1, Iteration 10: Time taken: 4.4073 seconds\n",
      "Map 2, Iteration 1: Time taken: 4.9983 seconds\n",
      "Map 2, Iteration 2: Time taken: 5.8869 seconds\n",
      "Map 2, Iteration 3: Time taken: 6.7470 seconds\n",
      "Map 2, Iteration 4: Time taken: 6.2999 seconds\n",
      "Map 2, Iteration 5: Time taken: 5.4660 seconds\n",
      "Map 2, Iteration 6: Time taken: 6.6855 seconds\n",
      "Map 2, Iteration 7: Time taken: 6.0104 seconds\n",
      "Map 2, Iteration 8: Time taken: 5.8618 seconds\n",
      "Map 2, Iteration 9: Time taken: 5.9092 seconds\n",
      "Map 2, Iteration 10: Time taken: 7.0804 seconds\n",
      "Map 3, Iteration 1: Time taken: 8.1677 seconds\n",
      "Map 3, Iteration 2: Time taken: 8.9030 seconds\n",
      "Map 3, Iteration 3: Time taken: 8.2086 seconds\n",
      "Map 3, Iteration 4: Time taken: 7.8221 seconds\n",
      "Map 3, Iteration 5: Time taken: 8.4478 seconds\n",
      "Map 3, Iteration 6: Time taken: 6.4862 seconds\n",
      "Map 3, Iteration 7: Time taken: 8.6778 seconds\n",
      "Map 3, Iteration 8: Time taken: 1.0721 seconds\n",
      "Map 3, Iteration 9: Time taken: 7.0150 seconds\n",
      "Map 3, Iteration 10: Time taken: 8.4256 seconds\n",
      "Total time taken for all maps: 179.4460 seconds\n"
     ]
    }
   ],
   "source": [
    "bench2 = MultiMapBenchmarker(\n",
    "    maps=[multi_obs_map, maze_map, narrow_map],\n",
    "    name=\"MyRRT\"\n",
    ")\n",
    "_, avg_res = bench2.run(p.plan)"
   ]
  },
  {
   "cell_type": "code",
   "execution_count": null,
   "id": "45334152",
   "metadata": {},
   "outputs": [],
   "source": [
    "def my_dummy_planner(map_array, start, goal):\n",
    "    return {\n",
    "        \"path\": [start, goal],\n",
    "        \"visited\": [start],\n",
    "        \"nodes\": 2\n",
    "    }\n",
    "\n",
    "bench = MultiMapBenchmarker(\n",
    "    maps=[multi_obs_map, maze_map, narrow_map],\n",
    "    algorithm=p.plan,\n",
    "    name=\"MyRRT\"\n",
    ")\n",
    "\n",
    "\n",
    "df = bench.run()\n",
    "print(df)"
   ]
  },
  {
   "cell_type": "code",
   "execution_count": 12,
   "id": "b36b0d93",
   "metadata": {},
   "outputs": [],
   "source": [
    "import_string ='''\n",
    "from typing import Tuple, Literal, Union, Optional, List, Dict, NamedTuple, Callable, Any, Set, TYPE_CHECKING, Type\n",
    "import time\n",
    "from queue import Queue\n",
    "import numpy as np\n",
    "import random\n",
    "import math\n",
    "import sys\n",
    "import os\n",
    "from eoh.problems.optimization.classic_benchmark_path_planning.utils.architecture_utils import PlannerResult, Map\n",
    "\n",
    "'''"
   ]
  },
  {
   "cell_type": "code",
   "execution_count": 11,
   "id": "4c6728a0",
   "metadata": {},
   "outputs": [
    {
     "name": "stdout",
     "output_type": "stream",
     "text": [
      "dict_keys(['algorithm', 'algorithm_description', 'planning_mechanism', 'code'])\n"
     ]
    }
   ],
   "source": [
    "json_path = './eoh/src/eoh/problems/optimization/classic_benchmark_path_planning/utils/classic_method.json'\n",
    "with open(json_path, \"r\") as f:\n",
    "    classic_method = json.load(f)\n",
    "\n",
    "print(classic_method[0].keys())"
   ]
  },
  {
   "cell_type": "code",
   "execution_count": 15,
   "id": "bdb27cac",
   "metadata": {},
   "outputs": [
    {
     "data": {
      "text/plain": [
       "'RRT'"
      ]
     },
     "execution_count": 15,
     "metadata": {},
     "output_type": "execute_result"
    }
   ],
   "source": [
    "classic_method[0]['algorithm']"
   ]
  },
  {
   "cell_type": "code",
   "execution_count": 13,
   "id": "69eb493e",
   "metadata": {},
   "outputs": [
    {
     "name": "stdout",
     "output_type": "stream",
     "text": [
      "\n",
      "class Node:\n",
      "    def __init__(self, position, parent=None, cost=0.0):\n",
      "        self.position = position\n",
      "        self.parent = parent\n",
      "        self.cost = cost\n",
      "        self.children = []\n",
      "        self.valid = True\n",
      "\n",
      "    def add_child(self, child_node):\n",
      "        self.children.append(child_node)\n",
      "\n",
      "\n",
      "class Planner:\n",
      "    def __init__(self, max_iter: int = 5000, step_size: float = 3.0, goal_sample_rate: float = 0.05):\n",
      "        self.max_iter = max_iter\n",
      "        self.step_size = step_size\n",
      "        self.goal_sample_rate = goal_sample_rate\n",
      "\n",
      "    def plan(self, map) -> PlannerResult:\n",
      "        import random\n",
      "        import math\n",
      "\n",
      "        bounds = map.size\n",
      "        start_position = map.start\n",
      "        goal_position = map.goal\n",
      "        obstacles = map.obstacles\n",
      "        is_3d = len(bounds) == 3\n",
      "\n",
      "        success_state = False\n",
      "        extracted_path = []\n",
      "        nodes = []\n",
      "        edges = []\n",
      "\n",
      "        root = Node(start_position)\n",
      "        nodes.append(root)\n",
      "\n",
      "        for _ in range(self.max_iter):\n",
      "            # Goal biasing\n",
      "            if random.random() < self.goal_sample_rate:\n",
      "                sample = goal_position\n",
      "            else:\n",
      "                sample = tuple(random.uniform(0, bounds[d]) for d in range(len(bounds)))\n",
      "\n",
      "            # Find nearest node\n",
      "            nearest_node = min(nodes, key=lambda n: math.dist(n.position, sample))\n",
      "\n",
      "            # Steer\n",
      "            direction = tuple(sample[d] - nearest_node.position[d] for d in range(len(bounds)))\n",
      "            length = math.dist(nearest_node.position, sample)\n",
      "            if length == 0:\n",
      "                continue\n",
      "            unit = tuple(d / length for d in direction)\n",
      "            new_position = tuple(nearest_node.position[d] + unit[d] * min(self.step_size, length) for d in range(len(bounds)))\n",
      "\n",
      "            if self._is_in_obstacle(new_position, obstacles, is_3d):\n",
      "                continue\n",
      "            if self._is_edge_in_obstacle(nearest_node.position, new_position, obstacles, is_3d):\n",
      "                continue\n",
      "\n",
      "            new_node = Node(new_position, parent=nearest_node, cost=nearest_node.cost + math.dist(nearest_node.position, new_position))\n",
      "            nearest_node.add_child(new_node)\n",
      "            nodes.append(new_node)\n",
      "            edges.append((nearest_node, new_node))\n",
      "\n",
      "            # Check if goal reached\n",
      "            if math.dist(new_position, goal_position) <= self.step_size:\n",
      "                if not self._is_edge_in_obstacle(new_position, goal_position, obstacles, is_3d) and not self._is_in_obstacle(goal_position, obstacles, is_3d):\n",
      "                    goal_node = Node(goal_position, parent=new_node, cost=new_node.cost + math.dist(new_position, goal_position))\n",
      "                    new_node.add_child(goal_node)\n",
      "                    nodes.append(goal_node)\n",
      "                    edges.append((new_node, goal_node))\n",
      "                    success_state = True\n",
      "                    break\n",
      "\n",
      "        if success_state:\n",
      "            path = []\n",
      "            node = nodes[-1]\n",
      "            while node:\n",
      "                path.append(node.position)\n",
      "                node = node.parent\n",
      "            extracted_path = path[::-1]\n",
      "\n",
      "        return PlannerResult(\n",
      "            success=success_state,\n",
      "            path=extracted_path,\n",
      "            nodes=nodes,\n",
      "            edges=edges\n",
      "        )\n",
      "\n",
      "    def _is_in_obstacle(self, pos, obstacles, is_3d):\n",
      "        for obs in obstacles:\n",
      "            if is_3d:\n",
      "                x, y, z, w, h, d = obs\n",
      "                px, py, pz = pos\n",
      "                if x <= px <= x + w and y <= py <= y + h and z <= pz <= z + d:\n",
      "                    return True\n",
      "            else:\n",
      "                x, y, w, h = obs\n",
      "                px, py = pos\n",
      "                if x <= px <= x + w and y <= py <= y + h:\n",
      "                    return True\n",
      "        return False\n",
      "\n",
      "    def _is_edge_in_obstacle(self, from_pos, to_pos, obstacles, is_3d, resolution=1.0):\n",
      "        import math\n",
      "        distance = math.dist(from_pos, to_pos)\n",
      "        steps = max(1, int(distance / resolution))\n",
      "        for i in range(steps + 1):\n",
      "            interp = tuple(from_pos[d] + (to_pos[d] - from_pos[d]) * (i / steps) for d in range(len(from_pos)))\n",
      "            if self._is_in_obstacle(interp, obstacles, is_3d):\n",
      "                return True\n",
      "        return False\n",
      "    \n"
     ]
    }
   ],
   "source": [
    "for method in classic_method:\n",
    "    if method['algorithm'] == 'RRT':\n",
    "        print(method['code'])"
   ]
  },
  {
   "cell_type": "code",
   "execution_count": 52,
   "id": "8d8d0d2a",
   "metadata": {},
   "outputs": [
    {
     "name": "stdout",
     "output_type": "stream",
     "text": [
      "Map 1\n",
      "Iteration 1: Time taken: 0.0115 seconds, Success: True\n",
      "Iteration 2: Time taken: 0.0232 seconds, Success: True\n",
      "Iteration 3: Time taken: 0.0058 seconds, Success: True\n",
      "Iteration 4: Time taken: 0.0136 seconds, Success: True\n",
      "Iteration 5: Time taken: 0.0181 seconds, Success: True\n",
      "Iteration 6: Time taken: 0.0117 seconds, Success: True\n",
      "Iteration 7: Time taken: 0.0160 seconds, Success: True\n",
      "Iteration 8: Time taken: 0.0090 seconds, Success: True\n",
      "Iteration 9: Time taken: 0.0023 seconds, Success: True\n",
      "Iteration 10: Time taken: 0.0258 seconds, Success: True\n",
      "Map 2\n",
      "Iteration 1: Time taken: 0.0823 seconds, Success: True\n",
      "Iteration 2: Time taken: 0.1656 seconds, Success: True\n",
      "Iteration 3: Time taken: 0.1095 seconds, Success: True\n",
      "Iteration 4: Time taken: 0.1082 seconds, Success: True\n",
      "Iteration 5: Time taken: 0.0824 seconds, Success: True\n",
      "Iteration 6: Time taken: 0.0812 seconds, Success: True\n",
      "Iteration 7: Time taken: 0.0794 seconds, Success: True\n",
      "Iteration 8: Time taken: 0.0689 seconds, Success: True\n",
      "Iteration 9: Time taken: 0.1295 seconds, Success: True\n",
      "Iteration 10: Time taken: 0.1268 seconds, Success: True\n",
      "Map 3\n",
      "Iteration 1: Time taken: 0.0314 seconds, Success: True\n",
      "Iteration 2: Time taken: 0.0103 seconds, Success: True\n",
      "Iteration 3: Time taken: 0.0075 seconds, Success: True\n",
      "Iteration 4: Time taken: 0.0596 seconds, Success: True\n",
      "Iteration 5: Time taken: 0.0130 seconds, Success: True\n",
      "Iteration 6: Time taken: 0.0448 seconds, Success: True\n",
      "Iteration 7: Time taken: 0.0089 seconds, Success: True\n",
      "Iteration 8: Time taken: 0.0140 seconds, Success: True\n",
      "Iteration 9: Time taken: 0.0577 seconds, Success: True\n",
      "Iteration 10: Time taken: 0.0037 seconds, Success: True\n",
      "Total time taken for all maps: 1.4603 seconds\n",
      "Map 1\n",
      "Iteration 1: Time taken: 0.0280 seconds, Success: True\n",
      "Iteration 2: Time taken: 0.0182 seconds, Success: True\n",
      "Iteration 3: Time taken: 0.0684 seconds, Success: True\n",
      "Iteration 4: Time taken: 0.0536 seconds, Success: True\n",
      "Iteration 5: Time taken: 0.0546 seconds, Success: True\n",
      "Iteration 6: Time taken: 0.0475 seconds, Success: True\n",
      "Iteration 7: Time taken: 0.1224 seconds, Success: True\n",
      "Iteration 8: Time taken: 0.0318 seconds, Success: True\n",
      "Iteration 9: Time taken: 0.0564 seconds, Success: True\n",
      "Iteration 10: Time taken: 0.0100 seconds, Success: True\n",
      "Map 2\n",
      "Iteration 1: Time taken: 0.3180 seconds, Success: True\n",
      "Iteration 2: Time taken: 0.2198 seconds, Success: True\n",
      "Iteration 3: Time taken: 0.1533 seconds, Success: True\n",
      "Iteration 4: Time taken: 0.1582 seconds, Success: True\n",
      "Iteration 5: Time taken: 0.0788 seconds, Success: True\n",
      "Iteration 6: Time taken: 0.1738 seconds, Success: True\n",
      "Iteration 7: Time taken: 0.1929 seconds, Success: True\n",
      "Iteration 8: Time taken: 0.2254 seconds, Success: True\n",
      "Iteration 9: Time taken: 0.1763 seconds, Success: True\n",
      "Iteration 10: Time taken: 0.2012 seconds, Success: True\n",
      "Map 3\n",
      "Iteration 1: Time taken: 0.1103 seconds, Success: True\n",
      "Iteration 2: Time taken: 0.0751 seconds, Success: True\n",
      "Iteration 3: Time taken: 0.1683 seconds, Success: True\n",
      "Iteration 4: Time taken: 0.0765 seconds, Success: True\n",
      "Iteration 5: Time taken: 0.0372 seconds, Success: True\n",
      "Iteration 6: Time taken: 0.0738 seconds, Success: True\n",
      "Iteration 7: Time taken: 0.0215 seconds, Success: True\n",
      "Iteration 8: Time taken: 0.0550 seconds, Success: True\n",
      "Iteration 9: Time taken: 0.0293 seconds, Success: True\n",
      "Iteration 10: Time taken: 0.2456 seconds, Success: True\n",
      "Total time taken for all maps: 3.2997 seconds\n",
      "Map 1\n",
      "Iteration 1: Time taken: 0.0132 seconds, Success: True\n",
      "Iteration 2: Time taken: 0.0065 seconds, Success: True\n",
      "Iteration 3: Time taken: 0.0114 seconds, Success: True\n",
      "Iteration 4: Time taken: 0.0070 seconds, Success: True\n",
      "Iteration 5: Time taken: 0.0097 seconds, Success: True\n",
      "Iteration 6: Time taken: 0.0065 seconds, Success: True\n",
      "Iteration 7: Time taken: 0.0085 seconds, Success: True\n",
      "Iteration 8: Time taken: 0.0055 seconds, Success: True\n",
      "Iteration 9: Time taken: 0.0040 seconds, Success: True\n",
      "Iteration 10: Time taken: 0.0020 seconds, Success: True\n",
      "Map 2\n",
      "Iteration 1: Time taken: 0.0163 seconds, Success: True\n",
      "Iteration 2: Time taken: 0.0112 seconds, Success: True\n",
      "Iteration 3: Time taken: 0.0085 seconds, Success: True\n",
      "Iteration 4: Time taken: 0.0188 seconds, Success: True\n",
      "Iteration 5: Time taken: 0.0188 seconds, Success: True\n",
      "Iteration 6: Time taken: 0.0114 seconds, Success: True\n",
      "Iteration 7: Time taken: 0.0183 seconds, Success: True\n",
      "Iteration 8: Time taken: 0.0032 seconds, Success: True\n",
      "Iteration 9: Time taken: 0.0185 seconds, Success: True\n",
      "Iteration 10: Time taken: 0.0282 seconds, Success: True\n",
      "Map 3\n",
      "Iteration 1: Time taken: 0.0373 seconds, Success: True\n",
      "Iteration 2: Time taken: 0.0216 seconds, Success: True\n",
      "Iteration 3: Time taken: 0.0045 seconds, Success: True\n",
      "Iteration 4: Time taken: 0.0048 seconds, Success: True\n",
      "Iteration 5: Time taken: 0.0020 seconds, Success: True\n",
      "Iteration 6: Time taken: 0.0367 seconds, Success: True\n",
      "Iteration 7: Time taken: 0.0266 seconds, Success: True\n",
      "Iteration 8: Time taken: 0.0049 seconds, Success: True\n",
      "Iteration 9: Time taken: 0.0020 seconds, Success: True\n",
      "Iteration 10: Time taken: 0.0026 seconds, Success: True\n",
      "Total time taken for all maps: 0.3912 seconds\n",
      "Map 1\n",
      "Iteration 1: Time taken: 0.0067 seconds, Success: True\n",
      "Iteration 2: Time taken: 0.0094 seconds, Success: True\n",
      "Iteration 3: Time taken: 0.0115 seconds, Success: True\n",
      "Iteration 4: Time taken: 0.0180 seconds, Success: True\n",
      "Iteration 5: Time taken: 0.0086 seconds, Success: True\n",
      "Iteration 6: Time taken: 0.0100 seconds, Success: True\n",
      "Iteration 7: Time taken: 0.0249 seconds, Success: True\n",
      "Iteration 8: Time taken: 0.0230 seconds, Success: True\n",
      "Iteration 9: Time taken: 0.0050 seconds, Success: True\n",
      "Iteration 10: Time taken: 0.0149 seconds, Success: True\n",
      "Map 2\n",
      "Iteration 1: Time taken: 0.0235 seconds, Success: True\n",
      "Iteration 2: Time taken: 0.0195 seconds, Success: True\n",
      "Iteration 3: Time taken: 0.0108 seconds, Success: True\n",
      "Iteration 4: Time taken: 0.0187 seconds, Success: True\n",
      "Iteration 5: Time taken: 0.0101 seconds, Success: True\n",
      "Iteration 6: Time taken: 0.0246 seconds, Success: True\n",
      "Iteration 7: Time taken: 0.0201 seconds, Success: True\n",
      "Iteration 8: Time taken: 0.0343 seconds, Success: True\n",
      "Iteration 9: Time taken: 0.0233 seconds, Success: True\n",
      "Iteration 10: Time taken: 0.0337 seconds, Success: True\n",
      "Map 3\n",
      "Iteration 1: Time taken: 0.0198 seconds, Success: True\n",
      "Iteration 2: Time taken: 0.0000 seconds, Success: True\n",
      "Iteration 3: Time taken: 0.0323 seconds, Success: True\n",
      "Iteration 4: Time taken: 0.0168 seconds, Success: True\n",
      "Iteration 5: Time taken: 0.0310 seconds, Success: True\n",
      "Iteration 6: Time taken: 0.0441 seconds, Success: True\n",
      "Iteration 7: Time taken: 0.0055 seconds, Success: True\n",
      "Iteration 8: Time taken: 0.0215 seconds, Success: True\n",
      "Iteration 9: Time taken: 0.0989 seconds, Success: True\n",
      "Iteration 10: Time taken: 0.0000 seconds, Success: True\n",
      "Total time taken for all maps: 0.6360 seconds\n",
      "Map 1\n",
      "Iteration 1: Time taken: 0.0000 seconds, Success: True\n",
      "Iteration 2: Time taken: 0.0020 seconds, Success: True\n",
      "Iteration 3: Time taken: 0.0071 seconds, Success: True\n",
      "Iteration 4: Time taken: 0.0025 seconds, Success: True\n",
      "Iteration 5: Time taken: 0.0020 seconds, Success: True\n",
      "Iteration 6: Time taken: 0.0020 seconds, Success: True\n",
      "Iteration 7: Time taken: 0.0065 seconds, Success: True\n",
      "Iteration 8: Time taken: 0.0024 seconds, Success: True\n",
      "Iteration 9: Time taken: 0.0025 seconds, Success: True\n",
      "Iteration 10: Time taken: 0.0052 seconds, Success: True\n",
      "Map 2\n",
      "Iteration 1: Time taken: 0.0073 seconds, Success: True\n",
      "Iteration 2: Time taken: 0.0094 seconds, Success: True\n",
      "Iteration 3: Time taken: 0.0055 seconds, Success: True\n",
      "Iteration 4: Time taken: 0.0013 seconds, Success: True\n",
      "Iteration 5: Time taken: 0.0045 seconds, Success: True\n",
      "Iteration 6: Time taken: 0.0085 seconds, Success: True\n",
      "Iteration 7: Time taken: 0.0105 seconds, Success: True\n",
      "Iteration 8: Time taken: 0.0076 seconds, Success: True\n",
      "Iteration 9: Time taken: 0.0107 seconds, Success: True\n",
      "Iteration 10: Time taken: 0.0098 seconds, Success: True\n",
      "Map 3\n",
      "Iteration 1: Time taken: 0.0036 seconds, Success: True\n",
      "Iteration 2: Time taken: 0.0032 seconds, Success: True\n",
      "Iteration 3: Time taken: 0.0023 seconds, Success: False\n",
      "Iteration 4: Time taken: 0.0060 seconds, Success: True\n",
      "Iteration 5: Time taken: 0.0063 seconds, Success: True\n",
      "Iteration 6: Time taken: 0.0023 seconds, Success: True\n",
      "Iteration 7: Time taken: 0.0020 seconds, Success: True\n",
      "Iteration 8: Time taken: 0.0035 seconds, Success: True\n",
      "Iteration 9: Time taken: 0.0040 seconds, Success: True\n",
      "Iteration 10: Time taken: 0.0020 seconds, Success: True\n",
      "Total time taken for all maps: 0.1905 seconds\n",
      "Map 1\n",
      "Iteration 1: Time taken: 0.0035 seconds, Success: True\n",
      "Iteration 2: Time taken: 0.0050 seconds, Success: True\n",
      "Iteration 3: Time taken: 0.0063 seconds, Success: True\n",
      "Iteration 4: Time taken: 0.0073 seconds, Success: True\n",
      "Iteration 5: Time taken: 0.0067 seconds, Success: True\n",
      "Iteration 6: Time taken: 0.0143 seconds, Success: True\n",
      "Iteration 7: Time taken: 0.0179 seconds, Success: True\n",
      "Iteration 8: Time taken: 0.0080 seconds, Success: True\n",
      "Iteration 9: Time taken: 0.0040 seconds, Success: True\n",
      "Iteration 10: Time taken: 0.0124 seconds, Success: True\n",
      "Map 2\n",
      "Iteration 1: Time taken: 0.0256 seconds, Success: True\n",
      "Iteration 2: Time taken: 0.0098 seconds, Success: True\n",
      "Iteration 3: Time taken: 0.0202 seconds, Success: True\n",
      "Iteration 4: Time taken: 0.0108 seconds, Success: True\n",
      "Iteration 5: Time taken: 0.0165 seconds, Success: True\n",
      "Iteration 6: Time taken: 0.0132 seconds, Success: True\n",
      "Iteration 7: Time taken: 0.0133 seconds, Success: True\n",
      "Iteration 8: Time taken: 0.0212 seconds, Success: True\n",
      "Iteration 9: Time taken: 0.0040 seconds, Success: False\n",
      "Iteration 10: Time taken: 0.0162 seconds, Success: True\n",
      "Map 3\n",
      "Iteration 1: Time taken: 0.0058 seconds, Success: True\n",
      "Iteration 2: Time taken: 0.0087 seconds, Success: True\n",
      "Iteration 3: Time taken: 0.0123 seconds, Success: True\n",
      "Iteration 4: Time taken: 0.0129 seconds, Success: True\n",
      "Iteration 5: Time taken: 0.0095 seconds, Success: True\n",
      "Iteration 6: Time taken: 0.0073 seconds, Success: True\n",
      "Iteration 7: Time taken: 0.0168 seconds, Success: True\n",
      "Iteration 8: Time taken: 0.0249 seconds, Success: False\n",
      "Iteration 9: Time taken: 0.0132 seconds, Success: True\n",
      "Iteration 10: Time taken: 0.0040 seconds, Success: True\n",
      "Total time taken for all maps: 0.3719 seconds\n",
      "Map 1\n",
      "Iteration 1: Time taken: 4.1305 seconds, Success: True\n",
      "Iteration 2: Time taken: 4.1960 seconds, Success: True\n",
      "Iteration 3: Time taken: 4.1381 seconds, Success: True\n",
      "Iteration 4: Time taken: 4.4519 seconds, Success: True\n",
      "Iteration 5: Time taken: 4.3554 seconds, Success: True\n",
      "Iteration 6: Time taken: 4.3750 seconds, Success: True\n",
      "Iteration 7: Time taken: 4.3000 seconds, Success: True\n",
      "Iteration 8: Time taken: 4.4037 seconds, Success: True\n",
      "Iteration 9: Time taken: 3.9447 seconds, Success: True\n",
      "Iteration 10: Time taken: 3.8502 seconds, Success: True\n",
      "Map 2\n",
      "Iteration 1: Time taken: 4.1810 seconds, Success: True\n",
      "Iteration 2: Time taken: 3.5693 seconds, Success: True\n",
      "Iteration 3: Time taken: 3.9843 seconds, Success: True\n",
      "Iteration 4: Time taken: 4.0135 seconds, Success: True\n",
      "Iteration 5: Time taken: 4.0536 seconds, Success: True\n",
      "Iteration 6: Time taken: 4.2873 seconds, Success: True\n",
      "Iteration 7: Time taken: 4.1507 seconds, Success: True\n",
      "Iteration 8: Time taken: 4.0224 seconds, Success: True\n",
      "Iteration 9: Time taken: 4.2658 seconds, Success: True\n",
      "Iteration 10: Time taken: 3.9074 seconds, Success: True\n",
      "Map 3\n",
      "Iteration 1: Time taken: 5.1780 seconds, Success: True\n",
      "Iteration 2: Time taken: 4.8544 seconds, Success: True\n",
      "Iteration 3: Time taken: 5.3269 seconds, Success: True\n",
      "Iteration 4: Time taken: 4.3182 seconds, Success: True\n",
      "Iteration 5: Time taken: 5.3368 seconds, Success: True\n",
      "Iteration 6: Time taken: 5.2908 seconds, Success: True\n",
      "Iteration 7: Time taken: 5.1967 seconds, Success: True\n",
      "Iteration 8: Time taken: 5.2645 seconds, Success: True\n",
      "Iteration 9: Time taken: 5.1228 seconds, Success: True\n",
      "Iteration 10: Time taken: 5.3381 seconds, Success: True\n",
      "Total time taken for all maps: 133.8219 seconds\n",
      "Map 1\n",
      "Iteration 1: Time taken: 1.1394 seconds, Success: True\n",
      "Iteration 2: Time taken: 1.1197 seconds, Success: True\n",
      "Iteration 3: Time taken: 1.0769 seconds, Success: True\n",
      "Iteration 4: Time taken: 1.2167 seconds, Success: True\n",
      "Iteration 5: Time taken: 1.1546 seconds, Success: True\n",
      "Iteration 6: Time taken: 1.1473 seconds, Success: True\n",
      "Iteration 7: Time taken: 1.1398 seconds, Success: True\n",
      "Iteration 8: Time taken: 1.0083 seconds, Success: True\n",
      "Iteration 9: Time taken: 1.1298 seconds, Success: True\n",
      "Iteration 10: Time taken: 1.2460 seconds, Success: True\n",
      "Map 2\n",
      "Iteration 1: Time taken: 1.7270 seconds, Success: True\n",
      "Iteration 2: Time taken: 1.5968 seconds, Success: True\n",
      "Iteration 3: Time taken: 1.8267 seconds, Success: True\n",
      "Iteration 4: Time taken: 1.6937 seconds, Success: True\n",
      "Iteration 5: Time taken: 1.7080 seconds, Success: True\n",
      "Iteration 6: Time taken: 1.6980 seconds, Success: True\n",
      "Iteration 7: Time taken: 1.6668 seconds, Success: True\n",
      "Iteration 8: Time taken: 1.6352 seconds, Success: True\n",
      "Iteration 9: Time taken: 1.5606 seconds, Success: True\n",
      "Iteration 10: Time taken: 1.7523 seconds, Success: True\n",
      "Map 3\n",
      "Iteration 1: Time taken: 1.3230 seconds, Success: True\n",
      "Iteration 2: Time taken: 1.5581 seconds, Success: True\n",
      "Iteration 3: Time taken: 1.6065 seconds, Success: True\n",
      "Iteration 4: Time taken: 1.1378 seconds, Success: True\n",
      "Iteration 5: Time taken: 1.5094 seconds, Success: True\n",
      "Iteration 6: Time taken: 1.2161 seconds, Success: True\n",
      "Iteration 7: Time taken: 1.0912 seconds, Success: True\n",
      "Iteration 8: Time taken: 1.3728 seconds, Success: True\n",
      "Iteration 9: Time taken: 1.5075 seconds, Success: True\n",
      "Iteration 10: Time taken: 1.6244 seconds, Success: True\n",
      "Total time taken for all maps: 42.2130 seconds\n"
     ]
    },
    {
     "data": {
      "text/html": [
       "<div>\n",
       "<style scoped>\n",
       "    .dataframe tbody tr th:only-of-type {\n",
       "        vertical-align: middle;\n",
       "    }\n",
       "\n",
       "    .dataframe tbody tr th {\n",
       "        vertical-align: top;\n",
       "    }\n",
       "\n",
       "    .dataframe thead th {\n",
       "        text-align: right;\n",
       "    }\n",
       "</style>\n",
       "<table border=\"1\" class=\"dataframe\">\n",
       "  <thead>\n",
       "    <tr style=\"text-align: right;\">\n",
       "      <th></th>\n",
       "      <th>alg_name</th>\n",
       "      <th>map_id</th>\n",
       "      <th>success_rate</th>\n",
       "      <th>time_avg</th>\n",
       "      <th>num_nodes_avg</th>\n",
       "      <th>path_length_avg</th>\n",
       "      <th>smoothness_avg</th>\n",
       "      <th>success_improvement</th>\n",
       "      <th>time_improvement</th>\n",
       "      <th>length_improvement</th>\n",
       "      <th>smoothness_improvement</th>\n",
       "      <th>objective_score</th>\n",
       "    </tr>\n",
       "  </thead>\n",
       "  <tbody>\n",
       "    <tr>\n",
       "      <th>0</th>\n",
       "      <td>RRT</td>\n",
       "      <td>0</td>\n",
       "      <td>1.0</td>\n",
       "      <td>0.013700</td>\n",
       "      <td>248.7</td>\n",
       "      <td>192.016007</td>\n",
       "      <td>0.010318</td>\n",
       "      <td>0.0</td>\n",
       "      <td>-0.000000</td>\n",
       "      <td>-0.000000</td>\n",
       "      <td>0.000000</td>\n",
       "      <td>0.000000</td>\n",
       "    </tr>\n",
       "    <tr>\n",
       "      <th>1</th>\n",
       "      <td>RRT</td>\n",
       "      <td>1</td>\n",
       "      <td>1.0</td>\n",
       "      <td>0.103390</td>\n",
       "      <td>1099.1</td>\n",
       "      <td>320.395966</td>\n",
       "      <td>0.006042</td>\n",
       "      <td>0.0</td>\n",
       "      <td>-0.000000</td>\n",
       "      <td>-0.000000</td>\n",
       "      <td>0.000000</td>\n",
       "      <td>0.000000</td>\n",
       "    </tr>\n",
       "    <tr>\n",
       "      <th>2</th>\n",
       "      <td>RRT</td>\n",
       "      <td>2</td>\n",
       "      <td>1.0</td>\n",
       "      <td>0.025095</td>\n",
       "      <td>499.6</td>\n",
       "      <td>160.435752</td>\n",
       "      <td>0.012195</td>\n",
       "      <td>0.0</td>\n",
       "      <td>-0.000000</td>\n",
       "      <td>-0.000000</td>\n",
       "      <td>0.000000</td>\n",
       "      <td>0.000000</td>\n",
       "    </tr>\n",
       "    <tr>\n",
       "      <th>0</th>\n",
       "      <td>RRT*</td>\n",
       "      <td>0</td>\n",
       "      <td>1.0</td>\n",
       "      <td>0.049098</td>\n",
       "      <td>356.4</td>\n",
       "      <td>171.250880</td>\n",
       "      <td>0.015460</td>\n",
       "      <td>0.0</td>\n",
       "      <td>-258.389647</td>\n",
       "      <td>10.814269</td>\n",
       "      <td>49.830198</td>\n",
       "      <td>-75.104889</td>\n",
       "    </tr>\n",
       "    <tr>\n",
       "      <th>1</th>\n",
       "      <td>RRT*</td>\n",
       "      <td>1</td>\n",
       "      <td>1.0</td>\n",
       "      <td>0.189759</td>\n",
       "      <td>1051.9</td>\n",
       "      <td>232.617256</td>\n",
       "      <td>0.011747</td>\n",
       "      <td>0.0</td>\n",
       "      <td>-83.536154</td>\n",
       "      <td>27.396946</td>\n",
       "      <td>94.428761</td>\n",
       "      <td>-19.109313</td>\n",
       "    </tr>\n",
       "    <tr>\n",
       "      <th>2</th>\n",
       "      <td>RRT*</td>\n",
       "      <td>2</td>\n",
       "      <td>1.0</td>\n",
       "      <td>0.089265</td>\n",
       "      <td>656.2</td>\n",
       "      <td>120.078702</td>\n",
       "      <td>0.022574</td>\n",
       "      <td>0.0</td>\n",
       "      <td>-255.711134</td>\n",
       "      <td>25.154648</td>\n",
       "      <td>85.101627</td>\n",
       "      <td>-71.256902</td>\n",
       "    </tr>\n",
       "    <tr>\n",
       "      <th>0</th>\n",
       "      <td>RRT-Connect</td>\n",
       "      <td>0</td>\n",
       "      <td>1.0</td>\n",
       "      <td>0.007430</td>\n",
       "      <td>82.7</td>\n",
       "      <td>188.456949</td>\n",
       "      <td>0.011243</td>\n",
       "      <td>0.0</td>\n",
       "      <td>45.763104</td>\n",
       "      <td>1.853521</td>\n",
       "      <td>8.963254</td>\n",
       "      <td>14.144452</td>\n",
       "    </tr>\n",
       "    <tr>\n",
       "      <th>1</th>\n",
       "      <td>RRT-Connect</td>\n",
       "      <td>1</td>\n",
       "      <td>1.0</td>\n",
       "      <td>0.015328</td>\n",
       "      <td>231.9</td>\n",
       "      <td>300.184504</td>\n",
       "      <td>0.007368</td>\n",
       "      <td>0.0</td>\n",
       "      <td>85.174800</td>\n",
       "      <td>6.308276</td>\n",
       "      <td>21.947595</td>\n",
       "      <td>26.923833</td>\n",
       "    </tr>\n",
       "    <tr>\n",
       "      <th>2</th>\n",
       "      <td>RRT-Connect</td>\n",
       "      <td>2</td>\n",
       "      <td>1.0</td>\n",
       "      <td>0.014295</td>\n",
       "      <td>211.3</td>\n",
       "      <td>152.873662</td>\n",
       "      <td>0.015972</td>\n",
       "      <td>0.0</td>\n",
       "      <td>43.036678</td>\n",
       "      <td>4.713469</td>\n",
       "      <td>30.971093</td>\n",
       "      <td>14.008553</td>\n",
       "    </tr>\n",
       "    <tr>\n",
       "      <th>0</th>\n",
       "      <td>RRT*-Connect</td>\n",
       "      <td>0</td>\n",
       "      <td>1.0</td>\n",
       "      <td>0.013204</td>\n",
       "      <td>134.2</td>\n",
       "      <td>175.092275</td>\n",
       "      <td>0.016345</td>\n",
       "      <td>0.0</td>\n",
       "      <td>3.617081</td>\n",
       "      <td>8.813709</td>\n",
       "      <td>58.416539</td>\n",
       "      <td>3.139949</td>\n",
       "    </tr>\n",
       "    <tr>\n",
       "      <th>1</th>\n",
       "      <td>RRT*-Connect</td>\n",
       "      <td>1</td>\n",
       "      <td>1.0</td>\n",
       "      <td>0.021864</td>\n",
       "      <td>278.0</td>\n",
       "      <td>264.965219</td>\n",
       "      <td>0.010741</td>\n",
       "      <td>0.0</td>\n",
       "      <td>78.852754</td>\n",
       "      <td>17.300701</td>\n",
       "      <td>77.777702</td>\n",
       "      <td>27.504855</td>\n",
       "    </tr>\n",
       "    <tr>\n",
       "      <th>2</th>\n",
       "      <td>RRT*-Connect</td>\n",
       "      <td>2</td>\n",
       "      <td>1.0</td>\n",
       "      <td>0.026988</td>\n",
       "      <td>300.4</td>\n",
       "      <td>136.175748</td>\n",
       "      <td>0.020770</td>\n",
       "      <td>0.0</td>\n",
       "      <td>-7.543527</td>\n",
       "      <td>15.121320</td>\n",
       "      <td>70.307977</td>\n",
       "      <td>1.112746</td>\n",
       "    </tr>\n",
       "    <tr>\n",
       "      <th>0</th>\n",
       "      <td>BI-RRT</td>\n",
       "      <td>0</td>\n",
       "      <td>1.0</td>\n",
       "      <td>0.003224</td>\n",
       "      <td>72.1</td>\n",
       "      <td>171.611308</td>\n",
       "      <td>0.010956</td>\n",
       "      <td>0.0</td>\n",
       "      <td>76.465828</td>\n",
       "      <td>10.626561</td>\n",
       "      <td>6.178560</td>\n",
       "      <td>25.095953</td>\n",
       "    </tr>\n",
       "    <tr>\n",
       "      <th>1</th>\n",
       "      <td>BI-RRT</td>\n",
       "      <td>1</td>\n",
       "      <td>1.0</td>\n",
       "      <td>0.007514</td>\n",
       "      <td>195.2</td>\n",
       "      <td>301.964521</td>\n",
       "      <td>0.006454</td>\n",
       "      <td>0.0</td>\n",
       "      <td>92.732701</td>\n",
       "      <td>5.752708</td>\n",
       "      <td>6.825902</td>\n",
       "      <td>29.004481</td>\n",
       "    </tr>\n",
       "    <tr>\n",
       "      <th>2</th>\n",
       "      <td>BI-RRT</td>\n",
       "      <td>2</td>\n",
       "      <td>0.9</td>\n",
       "      <td>0.003525</td>\n",
       "      <td>111.6</td>\n",
       "      <td>154.323470</td>\n",
       "      <td>0.013203</td>\n",
       "      <td>-10.0</td>\n",
       "      <td>85.951653</td>\n",
       "      <td>3.809800</td>\n",
       "      <td>8.260907</td>\n",
       "      <td>-23.411240</td>\n",
       "    </tr>\n",
       "    <tr>\n",
       "      <th>0</th>\n",
       "      <td>BI-RRT*</td>\n",
       "      <td>0</td>\n",
       "      <td>1.0</td>\n",
       "      <td>0.008548</td>\n",
       "      <td>78.4</td>\n",
       "      <td>162.142896</td>\n",
       "      <td>0.026641</td>\n",
       "      <td>0.0</td>\n",
       "      <td>37.606573</td>\n",
       "      <td>15.557615</td>\n",
       "      <td>158.198498</td>\n",
       "      <td>15.184487</td>\n",
       "    </tr>\n",
       "    <tr>\n",
       "      <th>1</th>\n",
       "      <td>BI-RRT*</td>\n",
       "      <td>1</td>\n",
       "      <td>0.9</td>\n",
       "      <td>0.015072</td>\n",
       "      <td>196.8</td>\n",
       "      <td>226.712777</td>\n",
       "      <td>0.022764</td>\n",
       "      <td>-10.0</td>\n",
       "      <td>85.422165</td>\n",
       "      <td>29.239815</td>\n",
       "      <td>276.786451</td>\n",
       "      <td>-17.141455</td>\n",
       "    </tr>\n",
       "    <tr>\n",
       "      <th>2</th>\n",
       "      <td>BI-RRT*</td>\n",
       "      <td>2</td>\n",
       "      <td>0.9</td>\n",
       "      <td>0.011560</td>\n",
       "      <td>151.6</td>\n",
       "      <td>127.261853</td>\n",
       "      <td>0.036010</td>\n",
       "      <td>-10.0</td>\n",
       "      <td>53.933275</td>\n",
       "      <td>20.677373</td>\n",
       "      <td>195.276350</td>\n",
       "      <td>-28.708161</td>\n",
       "    </tr>\n",
       "    <tr>\n",
       "      <th>0</th>\n",
       "      <td>Informed-RRT*</td>\n",
       "      <td>0</td>\n",
       "      <td>1.0</td>\n",
       "      <td>4.214557</td>\n",
       "      <td>3051.3</td>\n",
       "      <td>143.935124</td>\n",
       "      <td>0.023407</td>\n",
       "      <td>0.0</td>\n",
       "      <td>-30663.867304</td>\n",
       "      <td>25.040039</td>\n",
       "      <td>126.852788</td>\n",
       "      <td>-9193.517920</td>\n",
       "    </tr>\n",
       "    <tr>\n",
       "      <th>1</th>\n",
       "      <td>Informed-RRT*</td>\n",
       "      <td>1</td>\n",
       "      <td>1.0</td>\n",
       "      <td>4.043547</td>\n",
       "      <td>4194.7</td>\n",
       "      <td>216.174902</td>\n",
       "      <td>0.019352</td>\n",
       "      <td>0.0</td>\n",
       "      <td>-3810.950101</td>\n",
       "      <td>32.528831</td>\n",
       "      <td>220.305315</td>\n",
       "      <td>-1135.677737</td>\n",
       "    </tr>\n",
       "    <tr>\n",
       "      <th>2</th>\n",
       "      <td>Informed-RRT*</td>\n",
       "      <td>2</td>\n",
       "      <td>1.0</td>\n",
       "      <td>5.122734</td>\n",
       "      <td>4629.5</td>\n",
       "      <td>110.127019</td>\n",
       "      <td>0.041709</td>\n",
       "      <td>0.0</td>\n",
       "      <td>-20313.414083</td>\n",
       "      <td>31.357557</td>\n",
       "      <td>242.006801</td>\n",
       "      <td>-6086.542679</td>\n",
       "    </tr>\n",
       "    <tr>\n",
       "      <th>0</th>\n",
       "      <td>Improved-RRT*-Connect</td>\n",
       "      <td>0</td>\n",
       "      <td>1.0</td>\n",
       "      <td>1.137847</td>\n",
       "      <td>1814.6</td>\n",
       "      <td>153.433138</td>\n",
       "      <td>0.014678</td>\n",
       "      <td>0.0</td>\n",
       "      <td>-8205.633938</td>\n",
       "      <td>20.093569</td>\n",
       "      <td>42.257377</td>\n",
       "      <td>-2457.460181</td>\n",
       "    </tr>\n",
       "    <tr>\n",
       "      <th>1</th>\n",
       "      <td>Improved-RRT*-Connect</td>\n",
       "      <td>1</td>\n",
       "      <td>1.0</td>\n",
       "      <td>1.686510</td>\n",
       "      <td>3039.3</td>\n",
       "      <td>230.892305</td>\n",
       "      <td>0.011851</td>\n",
       "      <td>0.0</td>\n",
       "      <td>-1531.205915</td>\n",
       "      <td>27.935327</td>\n",
       "      <td>96.163871</td>\n",
       "      <td>-453.293890</td>\n",
       "    </tr>\n",
       "    <tr>\n",
       "      <th>2</th>\n",
       "      <td>Improved-RRT*-Connect</td>\n",
       "      <td>2</td>\n",
       "      <td>1.0</td>\n",
       "      <td>1.394691</td>\n",
       "      <td>2773.8</td>\n",
       "      <td>117.121120</td>\n",
       "      <td>0.021069</td>\n",
       "      <td>0.0</td>\n",
       "      <td>-5457.659435</td>\n",
       "      <td>26.998117</td>\n",
       "      <td>72.763776</td>\n",
       "      <td>-1631.534388</td>\n",
       "    </tr>\n",
       "  </tbody>\n",
       "</table>\n",
       "</div>"
      ],
      "text/plain": [
       "                alg_name  map_id  success_rate  time_avg  num_nodes_avg  \\\n",
       "0                    RRT       0           1.0  0.013700          248.7   \n",
       "1                    RRT       1           1.0  0.103390         1099.1   \n",
       "2                    RRT       2           1.0  0.025095          499.6   \n",
       "0                   RRT*       0           1.0  0.049098          356.4   \n",
       "1                   RRT*       1           1.0  0.189759         1051.9   \n",
       "2                   RRT*       2           1.0  0.089265          656.2   \n",
       "0            RRT-Connect       0           1.0  0.007430           82.7   \n",
       "1            RRT-Connect       1           1.0  0.015328          231.9   \n",
       "2            RRT-Connect       2           1.0  0.014295          211.3   \n",
       "0           RRT*-Connect       0           1.0  0.013204          134.2   \n",
       "1           RRT*-Connect       1           1.0  0.021864          278.0   \n",
       "2           RRT*-Connect       2           1.0  0.026988          300.4   \n",
       "0                 BI-RRT       0           1.0  0.003224           72.1   \n",
       "1                 BI-RRT       1           1.0  0.007514          195.2   \n",
       "2                 BI-RRT       2           0.9  0.003525          111.6   \n",
       "0                BI-RRT*       0           1.0  0.008548           78.4   \n",
       "1                BI-RRT*       1           0.9  0.015072          196.8   \n",
       "2                BI-RRT*       2           0.9  0.011560          151.6   \n",
       "0          Informed-RRT*       0           1.0  4.214557         3051.3   \n",
       "1          Informed-RRT*       1           1.0  4.043547         4194.7   \n",
       "2          Informed-RRT*       2           1.0  5.122734         4629.5   \n",
       "0  Improved-RRT*-Connect       0           1.0  1.137847         1814.6   \n",
       "1  Improved-RRT*-Connect       1           1.0  1.686510         3039.3   \n",
       "2  Improved-RRT*-Connect       2           1.0  1.394691         2773.8   \n",
       "\n",
       "   path_length_avg  smoothness_avg  success_improvement  time_improvement  \\\n",
       "0       192.016007        0.010318                  0.0         -0.000000   \n",
       "1       320.395966        0.006042                  0.0         -0.000000   \n",
       "2       160.435752        0.012195                  0.0         -0.000000   \n",
       "0       171.250880        0.015460                  0.0       -258.389647   \n",
       "1       232.617256        0.011747                  0.0        -83.536154   \n",
       "2       120.078702        0.022574                  0.0       -255.711134   \n",
       "0       188.456949        0.011243                  0.0         45.763104   \n",
       "1       300.184504        0.007368                  0.0         85.174800   \n",
       "2       152.873662        0.015972                  0.0         43.036678   \n",
       "0       175.092275        0.016345                  0.0          3.617081   \n",
       "1       264.965219        0.010741                  0.0         78.852754   \n",
       "2       136.175748        0.020770                  0.0         -7.543527   \n",
       "0       171.611308        0.010956                  0.0         76.465828   \n",
       "1       301.964521        0.006454                  0.0         92.732701   \n",
       "2       154.323470        0.013203                -10.0         85.951653   \n",
       "0       162.142896        0.026641                  0.0         37.606573   \n",
       "1       226.712777        0.022764                -10.0         85.422165   \n",
       "2       127.261853        0.036010                -10.0         53.933275   \n",
       "0       143.935124        0.023407                  0.0     -30663.867304   \n",
       "1       216.174902        0.019352                  0.0      -3810.950101   \n",
       "2       110.127019        0.041709                  0.0     -20313.414083   \n",
       "0       153.433138        0.014678                  0.0      -8205.633938   \n",
       "1       230.892305        0.011851                  0.0      -1531.205915   \n",
       "2       117.121120        0.021069                  0.0      -5457.659435   \n",
       "\n",
       "   length_improvement  smoothness_improvement  objective_score  \n",
       "0           -0.000000                0.000000         0.000000  \n",
       "1           -0.000000                0.000000         0.000000  \n",
       "2           -0.000000                0.000000         0.000000  \n",
       "0           10.814269               49.830198       -75.104889  \n",
       "1           27.396946               94.428761       -19.109313  \n",
       "2           25.154648               85.101627       -71.256902  \n",
       "0            1.853521                8.963254        14.144452  \n",
       "1            6.308276               21.947595        26.923833  \n",
       "2            4.713469               30.971093        14.008553  \n",
       "0            8.813709               58.416539         3.139949  \n",
       "1           17.300701               77.777702        27.504855  \n",
       "2           15.121320               70.307977         1.112746  \n",
       "0           10.626561                6.178560        25.095953  \n",
       "1            5.752708                6.825902        29.004481  \n",
       "2            3.809800                8.260907       -23.411240  \n",
       "0           15.557615              158.198498        15.184487  \n",
       "1           29.239815              276.786451       -17.141455  \n",
       "2           20.677373              195.276350       -28.708161  \n",
       "0           25.040039              126.852788     -9193.517920  \n",
       "1           32.528831              220.305315     -1135.677737  \n",
       "2           31.357557              242.006801     -6086.542679  \n",
       "0           20.093569               42.257377     -2457.460181  \n",
       "1           27.935327               96.163871      -453.293890  \n",
       "2           26.998117               72.763776     -1631.534388  "
      ]
     },
     "execution_count": 52,
     "metadata": {},
     "output_type": "execute_result"
    }
   ],
   "source": [
    "maps = [multi_obs_map, maze_map, narrow_map]\n",
    "benchmarker = MultiMapBenchmarker(maps=maps, iter=10)\n",
    "\n",
    "total_df = pd.DataFrame()\n",
    "\n",
    "for method in classic_method:\n",
    "    code_string = method['code']\n",
    "    namedf = pd.DataFrame()\n",
    "    namedf['alg_name'] = [method['algorithm']]* len(maps)\n",
    "    with warnings.catch_warnings():\n",
    "        warnings.simplefilter(\"ignore\")\n",
    "        planning_module = types.ModuleType(\"planning_module\")\n",
    "        exec(import_string+code_string, planning_module.__dict__)\n",
    "        sys.modules[planning_module.__name__] = planning_module\n",
    "        planner = planning_module.Planner(max_iter=5000, step_size=5.0)\n",
    "        res, avg_rest = benchmarker.run(planner.plan)\n",
    "        if method['algorithm'] == 'RRT':\n",
    "            ref_avg = avg_rest\n",
    "            \n",
    "        if avg_rest is None: continue\n",
    "        imp_res = MultiMapBenchmarker.get_improvement(ref_avg, avg_rest)\n",
    "\n",
    "        res_df = pd.concat([namedf, avg_rest, imp_res], axis=1)\n",
    "        total_df = pd.concat([total_df, res_df], axis=0)\n",
    "\n",
    "total_df\n"
   ]
  },
  {
   "cell_type": "code",
   "execution_count": 69,
   "id": "8a8f7556",
   "metadata": {},
   "outputs": [
    {
     "data": {
      "text/html": [
       "<div>\n",
       "<style scoped>\n",
       "    .dataframe tbody tr th:only-of-type {\n",
       "        vertical-align: middle;\n",
       "    }\n",
       "\n",
       "    .dataframe tbody tr th {\n",
       "        vertical-align: top;\n",
       "    }\n",
       "\n",
       "    .dataframe thead th {\n",
       "        text-align: right;\n",
       "    }\n",
       "</style>\n",
       "<table border=\"1\" class=\"dataframe\">\n",
       "  <thead>\n",
       "    <tr style=\"text-align: right;\">\n",
       "      <th></th>\n",
       "      <th>map_id</th>\n",
       "      <th>success_rate</th>\n",
       "      <th>time_avg</th>\n",
       "      <th>num_nodes_avg</th>\n",
       "      <th>path_length_avg</th>\n",
       "      <th>smoothness_avg</th>\n",
       "      <th>success_improvement</th>\n",
       "      <th>time_improvement</th>\n",
       "      <th>length_improvement</th>\n",
       "      <th>smoothness_improvement</th>\n",
       "      <th>objective_score</th>\n",
       "    </tr>\n",
       "    <tr>\n",
       "      <th>alg_name</th>\n",
       "      <th></th>\n",
       "      <th></th>\n",
       "      <th></th>\n",
       "      <th></th>\n",
       "      <th></th>\n",
       "      <th></th>\n",
       "      <th></th>\n",
       "      <th></th>\n",
       "      <th></th>\n",
       "      <th></th>\n",
       "      <th></th>\n",
       "    </tr>\n",
       "  </thead>\n",
       "  <tbody>\n",
       "    <tr>\n",
       "      <th>BI-RRT</th>\n",
       "      <td>1.0</td>\n",
       "      <td>0.966667</td>\n",
       "      <td>0.004754</td>\n",
       "      <td>126.300000</td>\n",
       "      <td>209.299766</td>\n",
       "      <td>0.010204</td>\n",
       "      <td>-3.333333</td>\n",
       "      <td>85.050061</td>\n",
       "      <td>6.729690</td>\n",
       "      <td>7.088457</td>\n",
       "      <td>10.229732</td>\n",
       "    </tr>\n",
       "    <tr>\n",
       "      <th>BI-RRT*</th>\n",
       "      <td>1.0</td>\n",
       "      <td>0.933333</td>\n",
       "      <td>0.011727</td>\n",
       "      <td>142.266667</td>\n",
       "      <td>172.039175</td>\n",
       "      <td>0.028472</td>\n",
       "      <td>-6.666667</td>\n",
       "      <td>58.987337</td>\n",
       "      <td>21.824934</td>\n",
       "      <td>210.087100</td>\n",
       "      <td>-10.221710</td>\n",
       "    </tr>\n",
       "    <tr>\n",
       "      <th>Improved-RRT*-Connect</th>\n",
       "      <td>1.0</td>\n",
       "      <td>1.000000</td>\n",
       "      <td>1.406349</td>\n",
       "      <td>2542.566667</td>\n",
       "      <td>167.148854</td>\n",
       "      <td>0.015866</td>\n",
       "      <td>0.000000</td>\n",
       "      <td>-5064.833096</td>\n",
       "      <td>25.009004</td>\n",
       "      <td>70.395008</td>\n",
       "      <td>-1514.096153</td>\n",
       "    </tr>\n",
       "    <tr>\n",
       "      <th>Informed-RRT*</th>\n",
       "      <td>1.0</td>\n",
       "      <td>1.000000</td>\n",
       "      <td>4.460279</td>\n",
       "      <td>3958.500000</td>\n",
       "      <td>156.745682</td>\n",
       "      <td>0.028156</td>\n",
       "      <td>0.000000</td>\n",
       "      <td>-18262.743829</td>\n",
       "      <td>29.642142</td>\n",
       "      <td>196.388301</td>\n",
       "      <td>-5471.912779</td>\n",
       "    </tr>\n",
       "    <tr>\n",
       "      <th>RRT</th>\n",
       "      <td>1.0</td>\n",
       "      <td>1.000000</td>\n",
       "      <td>0.047395</td>\n",
       "      <td>615.800000</td>\n",
       "      <td>224.282575</td>\n",
       "      <td>0.009518</td>\n",
       "      <td>0.000000</td>\n",
       "      <td>0.000000</td>\n",
       "      <td>0.000000</td>\n",
       "      <td>0.000000</td>\n",
       "      <td>0.000000</td>\n",
       "    </tr>\n",
       "    <tr>\n",
       "      <th>RRT*</th>\n",
       "      <td>1.0</td>\n",
       "      <td>1.000000</td>\n",
       "      <td>0.109374</td>\n",
       "      <td>688.166667</td>\n",
       "      <td>174.648946</td>\n",
       "      <td>0.016593</td>\n",
       "      <td>0.000000</td>\n",
       "      <td>-199.212312</td>\n",
       "      <td>21.121954</td>\n",
       "      <td>76.453529</td>\n",
       "      <td>-55.157035</td>\n",
       "    </tr>\n",
       "    <tr>\n",
       "      <th>RRT*-Connect</th>\n",
       "      <td>1.0</td>\n",
       "      <td>1.000000</td>\n",
       "      <td>0.020685</td>\n",
       "      <td>237.533333</td>\n",
       "      <td>192.077747</td>\n",
       "      <td>0.015952</td>\n",
       "      <td>0.000000</td>\n",
       "      <td>24.975436</td>\n",
       "      <td>13.745243</td>\n",
       "      <td>68.834073</td>\n",
       "      <td>10.585850</td>\n",
       "    </tr>\n",
       "    <tr>\n",
       "      <th>RRT-Connect</th>\n",
       "      <td>1.0</td>\n",
       "      <td>1.000000</td>\n",
       "      <td>0.012351</td>\n",
       "      <td>175.300000</td>\n",
       "      <td>213.838372</td>\n",
       "      <td>0.011528</td>\n",
       "      <td>0.000000</td>\n",
       "      <td>57.991527</td>\n",
       "      <td>4.291755</td>\n",
       "      <td>20.627314</td>\n",
       "      <td>18.358946</td>\n",
       "    </tr>\n",
       "  </tbody>\n",
       "</table>\n",
       "</div>"
      ],
      "text/plain": [
       "                       map_id  success_rate  time_avg  num_nodes_avg  \\\n",
       "alg_name                                                               \n",
       "BI-RRT                    1.0      0.966667  0.004754     126.300000   \n",
       "BI-RRT*                   1.0      0.933333  0.011727     142.266667   \n",
       "Improved-RRT*-Connect     1.0      1.000000  1.406349    2542.566667   \n",
       "Informed-RRT*             1.0      1.000000  4.460279    3958.500000   \n",
       "RRT                       1.0      1.000000  0.047395     615.800000   \n",
       "RRT*                      1.0      1.000000  0.109374     688.166667   \n",
       "RRT*-Connect              1.0      1.000000  0.020685     237.533333   \n",
       "RRT-Connect               1.0      1.000000  0.012351     175.300000   \n",
       "\n",
       "                       path_length_avg  smoothness_avg  success_improvement  \\\n",
       "alg_name                                                                      \n",
       "BI-RRT                      209.299766        0.010204            -3.333333   \n",
       "BI-RRT*                     172.039175        0.028472            -6.666667   \n",
       "Improved-RRT*-Connect       167.148854        0.015866             0.000000   \n",
       "Informed-RRT*               156.745682        0.028156             0.000000   \n",
       "RRT                         224.282575        0.009518             0.000000   \n",
       "RRT*                        174.648946        0.016593             0.000000   \n",
       "RRT*-Connect                192.077747        0.015952             0.000000   \n",
       "RRT-Connect                 213.838372        0.011528             0.000000   \n",
       "\n",
       "                       time_improvement  length_improvement  \\\n",
       "alg_name                                                      \n",
       "BI-RRT                        85.050061            6.729690   \n",
       "BI-RRT*                       58.987337           21.824934   \n",
       "Improved-RRT*-Connect      -5064.833096           25.009004   \n",
       "Informed-RRT*             -18262.743829           29.642142   \n",
       "RRT                            0.000000            0.000000   \n",
       "RRT*                        -199.212312           21.121954   \n",
       "RRT*-Connect                  24.975436           13.745243   \n",
       "RRT-Connect                   57.991527            4.291755   \n",
       "\n",
       "                       smoothness_improvement  objective_score  \n",
       "alg_name                                                        \n",
       "BI-RRT                               7.088457        10.229732  \n",
       "BI-RRT*                            210.087100       -10.221710  \n",
       "Improved-RRT*-Connect               70.395008     -1514.096153  \n",
       "Informed-RRT*                      196.388301     -5471.912779  \n",
       "RRT                                  0.000000         0.000000  \n",
       "RRT*                                76.453529       -55.157035  \n",
       "RRT*-Connect                        68.834073        10.585850  \n",
       "RRT-Connect                         20.627314        18.358946  "
      ]
     },
     "execution_count": 69,
     "metadata": {},
     "output_type": "execute_result"
    }
   ],
   "source": [
    "# home result\n",
    "grouped_avg = total_df.groupby('alg_name').mean()\n",
    "a = pd.DataFrame(grouped_avg)\n",
    "a"
   ]
  },
  {
   "cell_type": "code",
   "execution_count": 55,
   "id": "14d7a53c",
   "metadata": {},
   "outputs": [],
   "source": [
    "pop_path = \"./path_planning/mobj/results/pops/population_generation_9.json\"\n",
    "\n",
    "with open(pop_path, \"r\") as f:\n",
    "    data = json.load(f)\n",
    "    filtered_sorted_algorithms = sorted(\n",
    "    [alg for alg in data if alg.get('operator') != 'initial'],\n",
    "    key=lambda x: x.get('objective', float('inf'))\n",
    "    )"
   ]
  },
  {
   "cell_type": "code",
   "execution_count": 36,
   "id": "d8d1c032",
   "metadata": {},
   "outputs": [
    {
     "data": {
      "text/plain": [
       "19"
      ]
     },
     "execution_count": 36,
     "metadata": {},
     "output_type": "execute_result"
    }
   ],
   "source": [
    "len(filtered_sorted_algorithms)"
   ]
  },
  {
   "cell_type": "code",
   "execution_count": null,
   "id": "0eb54295",
   "metadata": {},
   "outputs": [
    {
     "name": "stdout",
     "output_type": "stream",
     "text": [
      "Map 1\n",
      "Iteration 1: Time taken: 0.0035 seconds, Success: True\n",
      "Iteration 2: Time taken: 0.0046 seconds, Success: True\n",
      "Iteration 3: Time taken: 0.0020 seconds, Success: True\n",
      "Iteration 4: Time taken: 0.0026 seconds, Success: True\n",
      "Iteration 5: Time taken: 0.0030 seconds, Success: True\n",
      "Iteration 6: Time taken: 0.0055 seconds, Success: True\n",
      "Iteration 7: Time taken: 0.0020 seconds, Success: True\n",
      "Iteration 8: Time taken: 0.0075 seconds, Success: True\n",
      "Iteration 9: Time taken: 0.0030 seconds, Success: True\n",
      "Iteration 10: Time taken: 0.0046 seconds, Success: True\n",
      "Map 2\n",
      "Iteration 1: Time taken: 0.0250 seconds, Success: True\n",
      "Iteration 2: Time taken: 0.0110 seconds, Success: True\n",
      "Iteration 3: Time taken: 0.0081 seconds, Success: True\n",
      "Iteration 4: Time taken: 0.0175 seconds, Success: True\n",
      "Iteration 5: Time taken: 0.0171 seconds, Success: True\n",
      "Iteration 6: Time taken: 0.0129 seconds, Success: True\n",
      "Iteration 7: Time taken: 0.0090 seconds, Success: True\n",
      "Iteration 8: Time taken: 0.0070 seconds, Success: True\n",
      "Iteration 9: Time taken: 0.0096 seconds, Success: True\n",
      "Iteration 10: Time taken: 0.0146 seconds, Success: True\n",
      "Map 3\n",
      "Iteration 1: Time taken: 0.0046 seconds, Success: True\n",
      "Iteration 2: Time taken: 0.0040 seconds, Success: True\n",
      "Iteration 3: Time taken: 0.0090 seconds, Success: True\n",
      "Iteration 4: Time taken: 0.0031 seconds, Success: True\n",
      "Iteration 5: Time taken: 0.0045 seconds, Success: True\n",
      "Iteration 6: Time taken: 0.0010 seconds, Success: True\n",
      "Iteration 7: Time taken: 0.0136 seconds, Success: True\n",
      "Iteration 8: Time taken: 0.0130 seconds, Success: True\n",
      "Iteration 9: Time taken: 0.0060 seconds, Success: True\n",
      "Iteration 10: Time taken: 0.0426 seconds, Success: True\n",
      "Total time taken for all maps: 0.3007 seconds\n",
      "Map 1\n",
      "Iteration 1: Time taken: 0.0091 seconds, Success: True\n",
      "Iteration 2: Time taken: 0.0060 seconds, Success: True\n",
      "Iteration 3: Time taken: 0.0062 seconds, Success: True\n",
      "Iteration 4: Time taken: 0.0050 seconds, Success: True\n",
      "Iteration 5: Time taken: 0.0073 seconds, Success: True\n",
      "Iteration 6: Time taken: 0.0075 seconds, Success: True\n",
      "Iteration 7: Time taken: 0.0045 seconds, Success: True\n",
      "Iteration 8: Time taken: 0.0040 seconds, Success: True\n",
      "Iteration 9: Time taken: 0.0035 seconds, Success: True\n",
      "Iteration 10: Time taken: 0.0080 seconds, Success: True\n",
      "Map 2\n",
      "Iteration 1: Time taken: 0.0215 seconds, Success: True\n",
      "Iteration 2: Time taken: 0.0229 seconds, Success: True\n",
      "Iteration 3: Time taken: 0.0225 seconds, Success: True\n",
      "Iteration 4: Time taken: 0.0175 seconds, Success: True\n",
      "Iteration 5: Time taken: 0.0198 seconds, Success: True\n",
      "Iteration 6: Time taken: 0.0442 seconds, Success: True\n",
      "Iteration 7: Time taken: 0.0128 seconds, Success: True\n",
      "Iteration 8: Time taken: 0.0183 seconds, Success: True\n",
      "Iteration 9: Time taken: 0.0121 seconds, Success: True\n",
      "Iteration 10: Time taken: 0.0188 seconds, Success: True\n",
      "Map 3\n",
      "Iteration 1: Time taken: 0.0040 seconds, Success: True\n",
      "Iteration 2: Time taken: 0.0025 seconds, Success: True\n",
      "Iteration 3: Time taken: 0.0040 seconds, Success: True\n",
      "Iteration 4: Time taken: 0.0632 seconds, Success: True\n",
      "Iteration 5: Time taken: 0.0234 seconds, Success: True\n",
      "Iteration 6: Time taken: 0.0155 seconds, Success: True\n",
      "Iteration 7: Time taken: 0.0041 seconds, Success: True\n",
      "Iteration 8: Time taken: 0.0075 seconds, Success: True\n",
      "Iteration 9: Time taken: 0.0115 seconds, Success: True\n",
      "Iteration 10: Time taken: 0.0110 seconds, Success: True\n",
      "Total time taken for all maps: 0.4461 seconds\n",
      "Map 1\n",
      "Iteration 1: Time taken: 0.0020 seconds, Success: True\n",
      "Iteration 2: Time taken: 0.0125 seconds, Success: True\n",
      "Iteration 3: Time taken: 0.0025 seconds, Success: True\n",
      "Iteration 4: Time taken: 0.0050 seconds, Success: True\n",
      "Iteration 5: Time taken: 0.0045 seconds, Success: True\n",
      "Iteration 6: Time taken: 0.0040 seconds, Success: True\n",
      "Iteration 7: Time taken: 0.0010 seconds, Success: True\n",
      "Iteration 8: Time taken: 0.0020 seconds, Success: True\n",
      "Iteration 9: Time taken: 0.0030 seconds, Success: True\n",
      "Iteration 10: Time taken: 0.0040 seconds, Success: True\n",
      "Map 2\n",
      "Iteration 1: Time taken: 0.0281 seconds, Success: True\n",
      "Iteration 2: Time taken: 0.0220 seconds, Success: True\n",
      "Iteration 3: Time taken: 0.0140 seconds, Success: True\n",
      "Iteration 4: Time taken: 0.0293 seconds, Success: True\n",
      "Iteration 5: Time taken: 0.0115 seconds, Success: True\n",
      "Iteration 6: Time taken: 0.0063 seconds, Success: True\n",
      "Iteration 7: Time taken: 0.0215 seconds, Success: True\n",
      "Iteration 8: Time taken: 0.0335 seconds, Success: True\n",
      "Iteration 9: Time taken: 0.0085 seconds, Success: True\n",
      "Iteration 10: Time taken: 0.0208 seconds, Success: True\n",
      "Map 3\n",
      "Iteration 1: Time taken: 0.0146 seconds, Success: True\n",
      "Iteration 2: Time taken: 0.0527 seconds, Success: True\n",
      "Iteration 3: Time taken: 0.0641 seconds, Success: True\n",
      "Iteration 4: Time taken: 0.0050 seconds, Success: True\n",
      "Iteration 5: Time taken: 0.0041 seconds, Success: True\n",
      "Iteration 6: Time taken: 0.0130 seconds, Success: True\n",
      "Iteration 7: Time taken: 0.0142 seconds, Success: True\n",
      "Iteration 8: Time taken: 0.0055 seconds, Success: True\n",
      "Iteration 9: Time taken: 0.0276 seconds, Success: True\n",
      "Iteration 10: Time taken: 0.1038 seconds, Success: True\n",
      "Total time taken for all maps: 0.5725 seconds\n",
      "Map 1\n",
      "Iteration 1: Time taken: 0.0040 seconds, Success: True\n",
      "Iteration 2: Time taken: 0.0062 seconds, Success: True\n",
      "Iteration 3: Time taken: 0.0080 seconds, Success: True\n",
      "Iteration 4: Time taken: 0.0042 seconds, Success: True\n",
      "Iteration 5: Time taken: 0.0065 seconds, Success: True\n",
      "Iteration 6: Time taken: 0.0102 seconds, Success: True\n",
      "Iteration 7: Time taken: 0.0102 seconds, Success: True\n",
      "Iteration 8: Time taken: 0.0051 seconds, Success: True\n",
      "Iteration 9: Time taken: 0.0050 seconds, Success: True\n",
      "Iteration 10: Time taken: 0.0065 seconds, Success: True\n",
      "Map 2\n",
      "Iteration 1: Time taken: 0.0176 seconds, Success: True\n",
      "Iteration 2: Time taken: 0.0105 seconds, Success: True\n",
      "Iteration 3: Time taken: 0.0273 seconds, Success: True\n",
      "Iteration 4: Time taken: 0.0117 seconds, Success: True\n",
      "Iteration 5: Time taken: 0.0172 seconds, Success: True\n",
      "Iteration 6: Time taken: 0.0137 seconds, Success: True\n",
      "Iteration 7: Time taken: 0.0131 seconds, Success: True\n",
      "Iteration 8: Time taken: 0.0211 seconds, Success: True\n",
      "Iteration 9: Time taken: 0.0217 seconds, Success: True\n",
      "Iteration 10: Time taken: 0.0162 seconds, Success: True\n",
      "Map 3\n",
      "Iteration 1: Time taken: 0.0143 seconds, Success: True\n",
      "Iteration 2: Time taken: 0.0175 seconds, Success: True\n",
      "Iteration 3: Time taken: 0.0164 seconds, Success: True\n",
      "Iteration 4: Time taken: 0.0042 seconds, Success: True\n",
      "Iteration 5: Time taken: 0.0135 seconds, Success: True\n",
      "Iteration 6: Time taken: 0.0095 seconds, Success: True\n",
      "Iteration 7: Time taken: 0.0065 seconds, Success: True\n",
      "Iteration 8: Time taken: 0.0060 seconds, Success: True\n",
      "Iteration 9: Time taken: 0.0133 seconds, Success: True\n",
      "Iteration 10: Time taken: 0.0180 seconds, Success: True\n",
      "Total time taken for all maps: 0.3712 seconds\n",
      "Map 1\n",
      "Iteration 1: Time taken: 0.0042 seconds, Success: True\n",
      "Iteration 2: Time taken: 0.0095 seconds, Success: True\n",
      "Iteration 3: Time taken: 0.0060 seconds, Success: True\n",
      "Iteration 4: Time taken: 0.0064 seconds, Success: True\n",
      "Iteration 5: Time taken: 0.0066 seconds, Success: True\n",
      "Iteration 6: Time taken: 0.0034 seconds, Success: True\n",
      "Iteration 7: Time taken: 0.0040 seconds, Success: True\n",
      "Iteration 8: Time taken: 0.0068 seconds, Success: True\n",
      "Iteration 9: Time taken: 0.0080 seconds, Success: True\n",
      "Iteration 10: Time taken: 0.0041 seconds, Success: True\n",
      "Map 2\n",
      "Iteration 1: Time taken: 0.0177 seconds, Success: True\n",
      "Iteration 2: Time taken: 0.0062 seconds, Success: True\n",
      "Iteration 3: Time taken: 0.0124 seconds, Success: True\n",
      "Iteration 4: Time taken: 0.0155 seconds, Success: True\n",
      "Iteration 5: Time taken: 0.0157 seconds, Success: True\n",
      "Iteration 6: Time taken: 0.0145 seconds, Success: True\n",
      "Iteration 7: Time taken: 0.0145 seconds, Success: True\n",
      "Iteration 8: Time taken: 0.0142 seconds, Success: True\n",
      "Iteration 9: Time taken: 0.0152 seconds, Success: True\n",
      "Iteration 10: Time taken: 0.0260 seconds, Success: True\n",
      "Map 3\n",
      "Iteration 1: Time taken: 0.0322 seconds, Success: True\n",
      "Iteration 2: Time taken: 0.0085 seconds, Success: True\n",
      "Iteration 3: Time taken: 0.0062 seconds, Success: True\n",
      "Iteration 4: Time taken: 0.0150 seconds, Success: True\n",
      "Iteration 5: Time taken: 0.0090 seconds, Success: True\n",
      "Iteration 6: Time taken: 0.0051 seconds, Success: True\n",
      "Iteration 7: Time taken: 0.0093 seconds, Success: True\n",
      "Iteration 8: Time taken: 0.0275 seconds, Success: True\n",
      "Iteration 9: Time taken: 0.0034 seconds, Success: True\n",
      "Iteration 10: Time taken: 0.0040 seconds, Success: True\n",
      "Total time taken for all maps: 0.3529 seconds\n",
      "Map 1\n",
      "Iteration 1: Time taken: 0.0054 seconds, Success: True\n",
      "Iteration 2: Time taken: 0.0105 seconds, Success: True\n",
      "Iteration 3: Time taken: 0.0030 seconds, Success: True\n",
      "Iteration 4: Time taken: 0.0030 seconds, Success: True\n",
      "Iteration 5: Time taken: 0.0040 seconds, Success: True\n",
      "Iteration 6: Time taken: 0.0030 seconds, Success: True\n",
      "Iteration 7: Time taken: 0.0022 seconds, Success: True\n",
      "Iteration 8: Time taken: 0.0051 seconds, Success: True\n",
      "Iteration 9: Time taken: 0.0030 seconds, Success: True\n",
      "Iteration 10: Time taken: 0.0010 seconds, Success: True\n",
      "Map 2\n",
      "Iteration 1: Time taken: 0.0230 seconds, Success: True\n",
      "Iteration 2: Time taken: 0.0172 seconds, Success: True\n",
      "Iteration 3: Time taken: 0.0125 seconds, Success: True\n",
      "Iteration 4: Time taken: 0.0195 seconds, Success: True\n",
      "Iteration 5: Time taken: 0.0171 seconds, Success: True\n",
      "Iteration 6: Time taken: 0.0191 seconds, Success: True\n",
      "Iteration 7: Time taken: 0.0196 seconds, Success: True\n",
      "Iteration 8: Time taken: 0.0207 seconds, Success: True\n",
      "Iteration 9: Time taken: 0.0139 seconds, Success: True\n",
      "Iteration 10: Time taken: 0.0208 seconds, Success: True\n",
      "Map 3\n",
      "Iteration 1: Time taken: 0.0528 seconds, Success: True\n",
      "Iteration 2: Time taken: 0.0160 seconds, Success: True\n",
      "Iteration 3: Time taken: 0.0061 seconds, Success: True\n",
      "Iteration 4: Time taken: 0.0132 seconds, Success: True\n",
      "Iteration 5: Time taken: 0.0056 seconds, Success: True\n",
      "Iteration 6: Time taken: 0.0558 seconds, Success: True\n",
      "Iteration 7: Time taken: 0.0135 seconds, Success: True\n",
      "Iteration 8: Time taken: 0.0214 seconds, Success: True\n",
      "Iteration 9: Time taken: 0.0040 seconds, Success: True\n",
      "Iteration 10: Time taken: 0.0061 seconds, Success: True\n",
      "Total time taken for all maps: 0.4481 seconds\n",
      "Map 1\n",
      "Iteration 1: Time taken: 0.0050 seconds, Success: True\n",
      "Iteration 2: Time taken: 0.0082 seconds, Success: True\n",
      "Iteration 3: Time taken: 0.0040 seconds, Success: True\n",
      "Iteration 4: Time taken: 0.0061 seconds, Success: True\n",
      "Iteration 5: Time taken: 0.0020 seconds, Success: True\n",
      "Iteration 6: Time taken: 0.0035 seconds, Success: True\n",
      "Iteration 7: Time taken: 0.0030 seconds, Success: True\n",
      "Iteration 8: Time taken: 0.0045 seconds, Success: True\n",
      "Iteration 9: Time taken: 0.0030 seconds, Success: True\n",
      "Iteration 10: Time taken: 0.0085 seconds, Success: True\n",
      "Map 2\n",
      "Iteration 1: Time taken: 0.0216 seconds, Success: True\n",
      "Iteration 2: Time taken: 0.0096 seconds, Success: True\n",
      "Iteration 3: Time taken: 0.0274 seconds, Success: True\n",
      "Iteration 4: Time taken: 0.0160 seconds, Success: True\n",
      "Iteration 5: Time taken: 0.0204 seconds, Success: True\n",
      "Iteration 6: Time taken: 0.0256 seconds, Success: True\n",
      "Iteration 7: Time taken: 0.0173 seconds, Success: True\n",
      "Iteration 8: Time taken: 0.0202 seconds, Success: True\n",
      "Iteration 9: Time taken: 0.0196 seconds, Success: True\n",
      "Iteration 10: Time taken: 0.0230 seconds, Success: True\n",
      "Map 3\n",
      "Iteration 1: Time taken: 0.0060 seconds, Success: True\n",
      "Iteration 2: Time taken: 0.0627 seconds, Success: True\n",
      "Iteration 3: Time taken: 0.0130 seconds, Success: True\n",
      "Iteration 4: Time taken: 0.0429 seconds, Success: True\n",
      "Iteration 5: Time taken: 0.0738 seconds, Success: True\n",
      "Iteration 6: Time taken: 0.0094 seconds, Success: True\n",
      "Iteration 7: Time taken: 0.0101 seconds, Success: True\n",
      "Iteration 8: Time taken: 0.0367 seconds, Success: True\n",
      "Iteration 9: Time taken: 0.0190 seconds, Success: True\n",
      "Iteration 10: Time taken: 0.0071 seconds, Success: True\n",
      "Total time taken for all maps: 0.5561 seconds\n",
      "Map 1\n",
      "Iteration 1: Time taken: 0.0050 seconds, Success: True\n",
      "Iteration 2: Time taken: 0.0025 seconds, Success: True\n",
      "Iteration 3: Time taken: 0.0040 seconds, Success: True\n",
      "Iteration 4: Time taken: 0.0065 seconds, Success: True\n",
      "Iteration 5: Time taken: 0.0034 seconds, Success: True\n",
      "Iteration 6: Time taken: 0.0036 seconds, Success: True\n",
      "Iteration 7: Time taken: 0.0040 seconds, Success: True\n",
      "Iteration 8: Time taken: 0.0030 seconds, Success: True\n",
      "Iteration 9: Time taken: 0.0115 seconds, Success: True\n",
      "Iteration 10: Time taken: 0.0041 seconds, Success: True\n",
      "Map 2\n",
      "Iteration 1: Time taken: 0.0160 seconds, Success: True\n",
      "Iteration 2: Time taken: 0.0197 seconds, Success: False\n",
      "Iteration 3: Time taken: 0.0187 seconds, Success: True\n",
      "Iteration 4: Time taken: 0.0115 seconds, Success: True\n",
      "Iteration 5: Time taken: 0.0148 seconds, Success: True\n",
      "Iteration 6: Time taken: 0.0183 seconds, Success: True\n",
      "Iteration 7: Time taken: 0.0383 seconds, Success: True\n",
      "Iteration 8: Time taken: 0.0283 seconds, Success: True\n",
      "Iteration 9: Time taken: 0.0099 seconds, Success: True\n",
      "Iteration 10: Time taken: 0.0487 seconds, Success: True\n",
      "Map 3\n",
      "Iteration 1: Time taken: 0.0040 seconds, Success: True\n",
      "Iteration 2: Time taken: 0.0130 seconds, Success: True\n",
      "Iteration 3: Time taken: 0.0050 seconds, Success: True\n",
      "Iteration 4: Time taken: 0.0095 seconds, Success: True\n",
      "Iteration 5: Time taken: 0.0106 seconds, Success: True\n",
      "Iteration 6: Time taken: 0.0449 seconds, Success: True\n",
      "Iteration 7: Time taken: 0.0040 seconds, Success: True\n",
      "Iteration 8: Time taken: 0.0060 seconds, Success: True\n",
      "Iteration 9: Time taken: 0.0554 seconds, Success: True\n",
      "Iteration 10: Time taken: 0.0145 seconds, Success: True\n",
      "Total time taken for all maps: 0.4648 seconds\n",
      "Map 1\n",
      "Iteration 1: Time taken: 0.0192 seconds, Success: True\n",
      "Iteration 2: Time taken: 0.0060 seconds, Success: True\n",
      "Iteration 3: Time taken: 0.0040 seconds, Success: True\n",
      "Iteration 4: Time taken: 0.0052 seconds, Success: True\n",
      "Iteration 5: Time taken: 0.0085 seconds, Success: True\n",
      "Iteration 6: Time taken: 0.0050 seconds, Success: True\n",
      "Iteration 7: Time taken: 0.0112 seconds, Success: True\n",
      "Iteration 8: Time taken: 0.0127 seconds, Success: True\n",
      "Iteration 9: Time taken: 0.0070 seconds, Success: True\n",
      "Iteration 10: Time taken: 0.0060 seconds, Success: True\n",
      "Map 2\n",
      "Iteration 1: Time taken: 0.0233 seconds, Success: True\n",
      "Iteration 2: Time taken: 0.0163 seconds, Success: True\n",
      "Iteration 3: Time taken: 0.0215 seconds, Success: True\n",
      "Iteration 4: Time taken: 0.0187 seconds, Success: True\n",
      "Iteration 5: Time taken: 0.0167 seconds, Success: True\n",
      "Iteration 6: Time taken: 0.0457 seconds, Success: True\n",
      "Iteration 7: Time taken: 0.0195 seconds, Success: True\n",
      "Iteration 8: Time taken: 0.0299 seconds, Success: True\n",
      "Iteration 9: Time taken: 0.0155 seconds, Success: True\n",
      "Iteration 10: Time taken: 0.0142 seconds, Success: True\n",
      "Map 3\n",
      "Iteration 1: Time taken: 0.0065 seconds, Success: True\n",
      "Iteration 2: Time taken: 0.0705 seconds, Success: True\n",
      "Iteration 3: Time taken: 0.0339 seconds, Success: True\n",
      "Iteration 4: Time taken: 0.0180 seconds, Success: True\n",
      "Iteration 5: Time taken: 0.0075 seconds, Success: True\n",
      "Iteration 6: Time taken: 0.0904 seconds, Success: True\n",
      "Iteration 7: Time taken: 0.0186 seconds, Success: True\n",
      "Iteration 8: Time taken: 0.0055 seconds, Success: True\n",
      "Iteration 9: Time taken: 0.0071 seconds, Success: True\n",
      "Iteration 10: Time taken: 0.0080 seconds, Success: True\n",
      "Total time taken for all maps: 0.5923 seconds\n",
      "Map 1\n",
      "Iteration 1: Time taken: 0.0060 seconds, Success: True\n",
      "Iteration 2: Time taken: 0.0106 seconds, Success: True\n",
      "Iteration 3: Time taken: 0.0070 seconds, Success: True\n",
      "Iteration 4: Time taken: 0.0050 seconds, Success: True\n",
      "Iteration 5: Time taken: 0.0160 seconds, Success: True\n",
      "Iteration 6: Time taken: 0.0070 seconds, Success: True\n",
      "Iteration 7: Time taken: 0.0063 seconds, Success: True\n",
      "Iteration 8: Time taken: 0.0055 seconds, Success: True\n",
      "Iteration 9: Time taken: 0.0125 seconds, Success: True\n",
      "Iteration 10: Time taken: 0.0066 seconds, Success: True\n",
      "Map 2\n",
      "Iteration 1: Time taken: 0.0409 seconds, Success: True\n",
      "Iteration 2: Time taken: 0.0324 seconds, Success: True\n",
      "Iteration 3: Time taken: 0.0180 seconds, Success: True\n",
      "Iteration 4: Time taken: 0.0240 seconds, Success: True\n",
      "Iteration 5: Time taken: 0.0165 seconds, Success: True\n",
      "Iteration 6: Time taken: 0.0186 seconds, Success: True\n",
      "Iteration 7: Time taken: 0.0264 seconds, Success: True\n",
      "Iteration 8: Time taken: 0.0160 seconds, Success: True\n",
      "Iteration 9: Time taken: 0.0225 seconds, Success: True\n",
      "Iteration 10: Time taken: 0.0263 seconds, Success: True\n",
      "Map 3\n",
      "Iteration 1: Time taken: 0.1393 seconds, Success: True\n",
      "Iteration 2: Time taken: 0.0222 seconds, Success: True\n",
      "Iteration 3: Time taken: 0.0282 seconds, Success: True\n",
      "Iteration 4: Time taken: 0.0060 seconds, Success: True\n",
      "Iteration 5: Time taken: 0.0065 seconds, Success: True\n",
      "Iteration 6: Time taken: 0.0767 seconds, Success: True\n",
      "Iteration 7: Time taken: 0.0092 seconds, Success: True\n",
      "Iteration 8: Time taken: 0.0131 seconds, Success: True\n",
      "Iteration 9: Time taken: 0.0050 seconds, Success: True\n",
      "Iteration 10: Time taken: 0.0082 seconds, Success: True\n",
      "Total time taken for all maps: 0.6561 seconds\n",
      "Map 1\n",
      "Iteration 1: Time taken: 0.0050 seconds, Success: True\n",
      "Iteration 2: Time taken: 0.0162 seconds, Success: True\n",
      "Iteration 3: Time taken: 0.0070 seconds, Success: True\n",
      "Iteration 4: Time taken: 0.0058 seconds, Success: True\n",
      "Iteration 5: Time taken: 0.0053 seconds, Success: True\n",
      "Iteration 6: Time taken: 0.0050 seconds, Success: True\n",
      "Iteration 7: Time taken: 0.0040 seconds, Success: True\n",
      "Iteration 8: Time taken: 0.0112 seconds, Success: True\n",
      "Iteration 9: Time taken: 0.0082 seconds, Success: True\n",
      "Iteration 10: Time taken: 0.0060 seconds, Success: True\n",
      "Map 2\n",
      "Iteration 1: Time taken: 0.0136 seconds, Success: True\n",
      "Iteration 2: Time taken: 0.0192 seconds, Success: True\n",
      "Iteration 3: Time taken: 0.0104 seconds, Success: True\n",
      "Iteration 4: Time taken: 0.0289 seconds, Success: True\n",
      "Iteration 5: Time taken: 0.0449 seconds, Success: True\n",
      "Iteration 6: Time taken: 0.0180 seconds, Success: True\n",
      "Iteration 7: Time taken: 0.0207 seconds, Success: True\n",
      "Iteration 8: Time taken: 0.0356 seconds, Success: True\n",
      "Iteration 9: Time taken: 0.0272 seconds, Success: True\n",
      "Iteration 10: Time taken: 0.0191 seconds, Success: True\n",
      "Map 3\n",
      "Iteration 1: Time taken: 0.0090 seconds, Success: True\n",
      "Iteration 2: Time taken: 0.0080 seconds, Success: True\n",
      "Iteration 3: Time taken: 0.0032 seconds, Success: True\n",
      "Iteration 4: Time taken: 0.0082 seconds, Success: True\n",
      "Iteration 5: Time taken: 0.0312 seconds, Success: True\n",
      "Iteration 6: Time taken: 0.0209 seconds, Success: True\n",
      "Iteration 7: Time taken: 0.0207 seconds, Success: True\n",
      "Iteration 8: Time taken: 0.0461 seconds, Success: True\n",
      "Iteration 9: Time taken: 0.0073 seconds, Success: True\n",
      "Iteration 10: Time taken: 0.0123 seconds, Success: True\n",
      "Total time taken for all maps: 0.4970 seconds\n",
      "Map 1\n",
      "Iteration 1: Time taken: 0.0271 seconds, Success: True\n",
      "Iteration 2: Time taken: 0.0050 seconds, Success: True\n",
      "Iteration 3: Time taken: 0.0060 seconds, Success: True\n",
      "Iteration 4: Time taken: 0.0095 seconds, Success: True\n",
      "Iteration 5: Time taken: 0.0115 seconds, Success: True\n",
      "Iteration 6: Time taken: 0.0035 seconds, Success: True\n",
      "Iteration 7: Time taken: 0.0030 seconds, Success: True\n",
      "Iteration 8: Time taken: 0.0010 seconds, Success: True\n",
      "Iteration 9: Time taken: 0.0025 seconds, Success: True\n",
      "Iteration 10: Time taken: 0.0030 seconds, Success: True\n",
      "Map 2\n",
      "Iteration 1: Time taken: 0.0146 seconds, Success: True\n",
      "Iteration 2: Time taken: 0.0200 seconds, Success: True\n",
      "Iteration 3: Time taken: 0.0210 seconds, Success: True\n",
      "Iteration 4: Time taken: 0.0094 seconds, Success: True\n",
      "Iteration 5: Time taken: 0.0188 seconds, Success: True\n",
      "Iteration 6: Time taken: 0.0239 seconds, Success: True\n",
      "Iteration 7: Time taken: 0.0177 seconds, Success: True\n",
      "Iteration 8: Time taken: 0.0199 seconds, Success: True\n",
      "Iteration 9: Time taken: 0.0142 seconds, Success: True\n",
      "Iteration 10: Time taken: 0.0145 seconds, Success: True\n",
      "Map 3\n",
      "Iteration 1: Time taken: 0.0098 seconds, Success: True\n",
      "Iteration 2: Time taken: 0.0104 seconds, Success: True\n",
      "Iteration 3: Time taken: 0.0142 seconds, Success: True\n",
      "Iteration 4: Time taken: 0.0054 seconds, Success: True\n",
      "Iteration 5: Time taken: 0.0040 seconds, Success: True\n",
      "Iteration 6: Time taken: 0.0065 seconds, Success: True\n",
      "Iteration 7: Time taken: 0.0506 seconds, Success: True\n",
      "Iteration 8: Time taken: 0.0205 seconds, Success: True\n",
      "Iteration 9: Time taken: 0.0056 seconds, Success: True\n",
      "Iteration 10: Time taken: 0.0091 seconds, Success: True\n",
      "Total time taken for all maps: 0.4079 seconds\n",
      "Map 1\n",
      "Iteration 1: Time taken: 0.0020 seconds, Success: False\n",
      "Iteration 2: Time taken: 0.0072 seconds, Success: True\n",
      "Iteration 3: Time taken: 0.0000 seconds, Success: True\n",
      "Iteration 4: Time taken: 0.0109 seconds, Success: True\n",
      "Iteration 5: Time taken: 0.0072 seconds, Success: True\n",
      "Iteration 6: Time taken: 0.0155 seconds, Success: True\n",
      "Iteration 7: Time taken: 0.0100 seconds, Success: True\n",
      "Iteration 8: Time taken: 0.0025 seconds, Success: True\n",
      "Iteration 9: Time taken: 0.0000 seconds, Success: True\n",
      "Iteration 10: Time taken: 0.0214 seconds, Success: True\n",
      "Map 2\n",
      "Iteration 1: Time taken: 0.0185 seconds, Success: True\n",
      "Iteration 2: Time taken: 0.0110 seconds, Success: True\n",
      "Iteration 3: Time taken: 0.0065 seconds, Success: False\n",
      "Iteration 4: Time taken: 0.0183 seconds, Success: True\n",
      "Iteration 5: Time taken: 0.0222 seconds, Success: True\n",
      "Iteration 6: Time taken: 0.0075 seconds, Success: True\n",
      "Iteration 7: Time taken: 0.0081 seconds, Success: True\n",
      "Iteration 8: Time taken: 0.0210 seconds, Success: True\n",
      "Iteration 9: Time taken: 0.0160 seconds, Success: True\n",
      "Iteration 10: Time taken: 0.0144 seconds, Success: True\n",
      "Map 3\n",
      "Iteration 1: Time taken: 0.0075 seconds, Success: True\n",
      "Iteration 2: Time taken: 0.0125 seconds, Success: True\n",
      "Iteration 3: Time taken: 0.0580 seconds, Success: True\n",
      "Iteration 4: Time taken: 0.0075 seconds, Success: True\n",
      "Iteration 5: Time taken: 0.0030 seconds, Success: False\n",
      "Iteration 6: Time taken: 0.0332 seconds, Success: True\n",
      "Iteration 7: Time taken: 0.0030 seconds, Success: True\n",
      "Iteration 8: Time taken: 0.0010 seconds, Success: False\n",
      "Iteration 9: Time taken: 0.0042 seconds, Success: False\n",
      "Iteration 10: Time taken: 0.0059 seconds, Success: True\n",
      "Total time taken for all maps: 0.3770 seconds\n",
      "Map 1\n",
      "Iteration 1: Time taken: 0.0062 seconds, Success: True\n",
      "Iteration 2: Time taken: 0.0050 seconds, Success: True\n",
      "Iteration 3: Time taken: 0.0035 seconds, Success: True\n",
      "Iteration 4: Time taken: 0.0050 seconds, Success: True\n",
      "Iteration 5: Time taken: 0.0035 seconds, Success: True\n",
      "Iteration 6: Time taken: 0.0089 seconds, Success: True\n",
      "Iteration 7: Time taken: 0.0065 seconds, Success: True\n",
      "Iteration 8: Time taken: 0.0051 seconds, Success: True\n",
      "Iteration 9: Time taken: 0.0053 seconds, Success: True\n",
      "Iteration 10: Time taken: 0.0142 seconds, Success: True\n",
      "Map 2\n",
      "Iteration 1: Time taken: 0.0228 seconds, Success: True\n",
      "Iteration 2: Time taken: 0.0186 seconds, Success: True\n",
      "Iteration 3: Time taken: 0.0405 seconds, Success: True\n",
      "Iteration 4: Time taken: 0.0258 seconds, Success: True\n",
      "Iteration 5: Time taken: 0.0523 seconds, Success: True\n",
      "Iteration 6: Time taken: 0.0256 seconds, Success: True\n",
      "Iteration 7: Time taken: 0.0150 seconds, Success: True\n",
      "Iteration 8: Time taken: 0.0228 seconds, Success: True\n",
      "Iteration 9: Time taken: 0.0230 seconds, Success: True\n",
      "Iteration 10: Time taken: 0.0125 seconds, Success: True\n",
      "Map 3\n",
      "Iteration 1: Time taken: 0.0813 seconds, Success: True\n",
      "Iteration 2: Time taken: 0.0080 seconds, Success: True\n",
      "Iteration 3: Time taken: 0.0104 seconds, Success: True\n",
      "Iteration 4: Time taken: 0.0043 seconds, Success: True\n",
      "Iteration 5: Time taken: 0.0092 seconds, Success: True\n",
      "Iteration 6: Time taken: 0.0030 seconds, Success: True\n",
      "Iteration 7: Time taken: 0.0054 seconds, Success: True\n",
      "Iteration 8: Time taken: 0.0105 seconds, Success: True\n",
      "Iteration 9: Time taken: 0.0030 seconds, Success: True\n",
      "Iteration 10: Time taken: 0.0087 seconds, Success: True\n",
      "Total time taken for all maps: 0.4826 seconds\n",
      "Map 1\n",
      "Iteration 1: Time taken: 0.0090 seconds, Success: True\n",
      "Iteration 2: Time taken: 0.0216 seconds, Success: True\n",
      "Iteration 3: Time taken: 0.0055 seconds, Success: True\n",
      "Iteration 4: Time taken: 0.0050 seconds, Success: True\n",
      "Iteration 5: Time taken: 0.0082 seconds, Success: True\n",
      "Iteration 6: Time taken: 0.0045 seconds, Success: True\n",
      "Iteration 7: Time taken: 0.0160 seconds, Success: True\n",
      "Iteration 8: Time taken: 0.0051 seconds, Success: True\n",
      "Iteration 9: Time taken: 0.0120 seconds, Success: True\n",
      "Iteration 10: Time taken: 0.0045 seconds, Success: True\n",
      "Map 2\n",
      "Iteration 1: Time taken: 0.0517 seconds, Success: True\n",
      "Iteration 2: Time taken: 0.0239 seconds, Success: True\n",
      "Iteration 3: Time taken: 0.0178 seconds, Success: True\n",
      "Iteration 4: Time taken: 0.0284 seconds, Success: True\n",
      "Iteration 5: Time taken: 0.0408 seconds, Success: True\n",
      "Iteration 6: Time taken: 0.0242 seconds, Success: True\n",
      "Iteration 7: Time taken: 0.0244 seconds, Success: True\n",
      "Iteration 8: Time taken: 0.0276 seconds, Success: True\n",
      "Iteration 9: Time taken: 0.0146 seconds, Success: True\n",
      "Iteration 10: Time taken: 0.0363 seconds, Success: True\n",
      "Map 3\n",
      "Iteration 1: Time taken: 0.0086 seconds, Success: True\n",
      "Iteration 2: Time taken: 0.0240 seconds, Success: True\n",
      "Iteration 3: Time taken: 0.0591 seconds, Success: True\n",
      "Iteration 4: Time taken: 0.0105 seconds, Success: True\n",
      "Iteration 5: Time taken: 0.0601 seconds, Success: True\n",
      "Iteration 6: Time taken: 0.0537 seconds, Success: True\n",
      "Iteration 7: Time taken: 0.0966 seconds, Success: True\n",
      "Iteration 8: Time taken: 0.0064 seconds, Success: True\n",
      "Iteration 9: Time taken: 0.0558 seconds, Success: True\n",
      "Iteration 10: Time taken: 0.0101 seconds, Success: True\n",
      "Total time taken for all maps: 0.7852 seconds\n",
      "Map 1\n",
      "Iteration 1: Time taken: 0.0105 seconds, Success: True\n",
      "Iteration 2: Time taken: 0.0045 seconds, Success: True\n",
      "Iteration 3: Time taken: 0.0125 seconds, Success: True\n",
      "Iteration 4: Time taken: 0.0055 seconds, Success: True\n",
      "Iteration 5: Time taken: 0.0050 seconds, Success: True\n",
      "Iteration 6: Time taken: 0.0105 seconds, Success: True\n",
      "Iteration 7: Time taken: 0.0071 seconds, Success: True\n",
      "Iteration 8: Time taken: 0.0231 seconds, Success: True\n",
      "Iteration 9: Time taken: 0.0128 seconds, Success: True\n",
      "Iteration 10: Time taken: 0.0532 seconds, Success: True\n",
      "Map 2\n",
      "Iteration 1: Time taken: 0.0375 seconds, Success: True\n",
      "Iteration 2: Time taken: 0.0333 seconds, Success: True\n",
      "Iteration 3: Time taken: 0.0256 seconds, Success: True\n",
      "Iteration 4: Time taken: 0.0301 seconds, Success: True\n",
      "Iteration 5: Time taken: 0.0182 seconds, Success: True\n",
      "Iteration 6: Time taken: 0.0208 seconds, Success: True\n",
      "Iteration 7: Time taken: 0.0242 seconds, Success: True\n",
      "Iteration 8: Time taken: 0.0327 seconds, Success: True\n",
      "Iteration 9: Time taken: 0.0379 seconds, Success: True\n",
      "Iteration 10: Time taken: 0.0219 seconds, Success: True\n",
      "Map 3\n",
      "Iteration 1: Time taken: 0.0139 seconds, Success: True\n",
      "Iteration 2: Time taken: 0.1900 seconds, Success: True\n",
      "Iteration 3: Time taken: 0.0072 seconds, Success: True\n",
      "Iteration 4: Time taken: 0.0060 seconds, Success: True\n",
      "Iteration 5: Time taken: 0.0185 seconds, Success: True\n",
      "Iteration 6: Time taken: 0.0085 seconds, Success: True\n",
      "Iteration 7: Time taken: 0.0062 seconds, Success: True\n",
      "Iteration 8: Time taken: 0.1890 seconds, Success: True\n",
      "Iteration 9: Time taken: 0.0040 seconds, Success: True\n",
      "Iteration 10: Time taken: 0.0167 seconds, Success: True\n",
      "Total time taken for all maps: 0.9086 seconds\n",
      "Map 1\n",
      "Iteration 1: Time taken: 0.0140 seconds, Success: True\n",
      "Iteration 2: Time taken: 0.0164 seconds, Success: True\n",
      "Iteration 3: Time taken: 0.0075 seconds, Success: True\n",
      "Iteration 4: Time taken: 0.0070 seconds, Success: True\n",
      "Iteration 5: Time taken: 0.0062 seconds, Success: True\n",
      "Iteration 6: Time taken: 0.0095 seconds, Success: True\n",
      "Iteration 7: Time taken: 0.0118 seconds, Success: True\n",
      "Iteration 8: Time taken: 0.0217 seconds, Success: True\n",
      "Iteration 9: Time taken: 0.0085 seconds, Success: True\n",
      "Iteration 10: Time taken: 0.0213 seconds, Success: True\n",
      "Map 2\n",
      "Iteration 1: Time taken: 0.0218 seconds, Success: True\n",
      "Iteration 2: Time taken: 0.0170 seconds, Success: True\n",
      "Iteration 3: Time taken: 0.0166 seconds, Success: True\n",
      "Iteration 4: Time taken: 0.0229 seconds, Success: True\n",
      "Iteration 5: Time taken: 0.0146 seconds, Success: True\n",
      "Iteration 6: Time taken: 0.0165 seconds, Success: True\n",
      "Iteration 7: Time taken: 0.0503 seconds, Success: True\n",
      "Iteration 8: Time taken: 0.0130 seconds, Success: True\n",
      "Iteration 9: Time taken: 0.0311 seconds, Success: True\n",
      "Iteration 10: Time taken: 0.0281 seconds, Success: True\n",
      "Map 3\n",
      "Iteration 1: Time taken: 0.0075 seconds, Success: True\n",
      "Iteration 2: Time taken: 0.0624 seconds, Success: True\n",
      "Iteration 3: Time taken: 0.1189 seconds, Success: True\n",
      "Iteration 4: Time taken: 0.0542 seconds, Success: True\n",
      "Iteration 5: Time taken: 0.0106 seconds, Success: True\n",
      "Iteration 6: Time taken: 0.0035 seconds, Success: True\n",
      "Iteration 7: Time taken: 0.0085 seconds, Success: True\n",
      "Iteration 8: Time taken: 0.0253 seconds, Success: True\n",
      "Iteration 9: Time taken: 0.0045 seconds, Success: True\n",
      "Iteration 10: Time taken: 0.0085 seconds, Success: True\n",
      "Total time taken for all maps: 0.6811 seconds\n",
      "Map 1\n",
      "Iteration 1: Time taken: 0.0065 seconds, Success: True\n",
      "Iteration 2: Time taken: 0.0030 seconds, Success: True\n",
      "Iteration 3: Time taken: 0.0065 seconds, Success: True\n",
      "Iteration 4: Time taken: 0.0035 seconds, Success: True\n",
      "Iteration 5: Time taken: 0.0030 seconds, Success: True\n",
      "Iteration 6: Time taken: 0.0020 seconds, Success: True\n",
      "Iteration 7: Time taken: 0.0035 seconds, Success: True\n",
      "Iteration 8: Time taken: 0.0122 seconds, Success: True\n",
      "Iteration 9: Time taken: 0.0030 seconds, Success: True\n",
      "Iteration 10: Time taken: 0.0055 seconds, Success: True\n",
      "Map 2\n",
      "Iteration 1: Time taken: 0.0115 seconds, Success: True\n",
      "Iteration 2: Time taken: 0.0156 seconds, Success: True\n",
      "Iteration 3: Time taken: 0.0110 seconds, Success: True\n",
      "Iteration 4: Time taken: 0.0170 seconds, Success: True\n",
      "Iteration 5: Time taken: 0.0095 seconds, Success: True\n",
      "Iteration 6: Time taken: 0.0102 seconds, Success: True\n",
      "Iteration 7: Time taken: 0.0150 seconds, Success: True\n",
      "Iteration 8: Time taken: 0.0175 seconds, Success: True\n",
      "Iteration 9: Time taken: 0.0245 seconds, Success: True\n",
      "Iteration 10: Time taken: 0.0160 seconds, Success: True\n",
      "Map 3\n",
      "Iteration 1: Time taken: 0.0229 seconds, Success: True\n",
      "Iteration 2: Time taken: 0.0090 seconds, Success: True\n",
      "Iteration 3: Time taken: 0.0531 seconds, Success: True\n",
      "Iteration 4: Time taken: 0.0101 seconds, Success: True\n",
      "Iteration 5: Time taken: 0.0130 seconds, Success: True\n",
      "Iteration 6: Time taken: 0.0115 seconds, Success: True\n",
      "Iteration 7: Time taken: 0.0015 seconds, Success: True\n",
      "Iteration 8: Time taken: 0.0889 seconds, Success: True\n",
      "Iteration 9: Time taken: 0.0370 seconds, Success: True\n",
      "Iteration 10: Time taken: 0.0030 seconds, Success: True\n",
      "Total time taken for all maps: 0.4831 seconds\n",
      "Map 1\n",
      "Iteration 1: Time taken: 0.0075 seconds, Success: True\n",
      "Iteration 2: Time taken: 0.0055 seconds, Success: True\n",
      "Iteration 3: Time taken: 0.0052 seconds, Success: True\n",
      "Iteration 4: Time taken: 0.0065 seconds, Success: True\n",
      "Iteration 5: Time taken: 0.0050 seconds, Success: True\n",
      "Iteration 6: Time taken: 0.0115 seconds, Success: True\n",
      "Iteration 7: Time taken: 0.0060 seconds, Success: True\n",
      "Iteration 8: Time taken: 0.0132 seconds, Success: True\n",
      "Iteration 9: Time taken: 0.0055 seconds, Success: True\n",
      "Iteration 10: Time taken: 0.0050 seconds, Success: True\n",
      "Map 2\n",
      "Iteration 1: Time taken: 0.0192 seconds, Success: True\n",
      "Iteration 2: Time taken: 0.0165 seconds, Success: True\n",
      "Iteration 3: Time taken: 0.0196 seconds, Success: True\n",
      "Iteration 4: Time taken: 0.0122 seconds, Success: True\n",
      "Iteration 5: Time taken: 0.0190 seconds, Success: True\n",
      "Iteration 6: Time taken: 0.0200 seconds, Success: True\n",
      "Iteration 7: Time taken: 0.0194 seconds, Success: True\n",
      "Iteration 8: Time taken: 0.0277 seconds, Success: True\n",
      "Iteration 9: Time taken: 0.0186 seconds, Success: True\n",
      "Iteration 10: Time taken: 0.0360 seconds, Success: True\n",
      "Map 3\n",
      "Iteration 1: Time taken: 0.1686 seconds, Success: True\n",
      "Iteration 2: Time taken: 0.0080 seconds, Success: True\n",
      "Iteration 3: Time taken: 0.0121 seconds, Success: True\n",
      "Iteration 4: Time taken: 0.0070 seconds, Success: True\n",
      "Iteration 5: Time taken: 0.0041 seconds, Success: True\n",
      "Iteration 6: Time taken: 0.2214 seconds, Success: True\n",
      "Iteration 7: Time taken: 0.0357 seconds, Success: True\n",
      "Iteration 8: Time taken: 0.0085 seconds, Success: True\n",
      "Iteration 9: Time taken: 0.0497 seconds, Success: True\n",
      "Iteration 10: Time taken: 0.0146 seconds, Success: True\n",
      "Total time taken for all maps: 0.8291 seconds\n"
     ]
    }
   ],
   "source": [
    "# ref_avg 앞에서 선언됨\n",
    "maps = [multi_obs_map, maze_map, narrow_map]\n",
    "benchmarker = MultiMapBenchmarker(maps=maps, iter=10)\n",
    "\n",
    "g_total_df = pd.DataFrame()\n",
    "\n",
    "for method in filtered_sorted_algorithms:\n",
    "    code_string = method['code']\n",
    "    namedf = pd.DataFrame()\n",
    "    namedf['alg_name'] = [method['objective']]* len(maps)\n",
    "    with warnings.catch_warnings():\n",
    "        warnings.simplefilter(\"ignore\")\n",
    "        planning_module = types.ModuleType(\"planning_module\")\n",
    "        exec(import_string+code_string, planning_module.__dict__)\n",
    "        sys.modules[planning_module.__name__] = planning_module\n",
    "        try:\n",
    "            planner = planning_module.Planner(max_iter=5000, step_size=5.0)\n",
    "        except:\n",
    "            continue\n",
    "        res, avg_rest = benchmarker.run(planner.plan)\n",
    "\n",
    "        if avg_rest is None: continue\n",
    "        imp_res = MultiMapBenchmarker.get_improvement(ref_avg, avg_rest)\n",
    "\n",
    "        res_df = pd.concat([namedf, avg_rest, imp_res], axis=1)\n",
    "        g_total_df = pd.concat([g_total_df, res_df], axis=0)\n",
    "\n",
    "# g_total_df\n",
    "res1 = g_total_df"
   ]
  },
  {
   "cell_type": "code",
   "execution_count": 22,
   "id": "d57a6003",
   "metadata": {},
   "outputs": [],
   "source": [
    "whole_df = pd.concat([total_df, g_total_df], axis=0)"
   ]
  },
  {
   "cell_type": "code",
   "execution_count": 70,
   "id": "1f0861fd",
   "metadata": {},
   "outputs": [
    {
     "data": {
      "text/html": [
       "<div>\n",
       "<style scoped>\n",
       "    .dataframe tbody tr th:only-of-type {\n",
       "        vertical-align: middle;\n",
       "    }\n",
       "\n",
       "    .dataframe tbody tr th {\n",
       "        vertical-align: top;\n",
       "    }\n",
       "\n",
       "    .dataframe thead th {\n",
       "        text-align: right;\n",
       "    }\n",
       "</style>\n",
       "<table border=\"1\" class=\"dataframe\">\n",
       "  <thead>\n",
       "    <tr style=\"text-align: right;\">\n",
       "      <th></th>\n",
       "      <th>map_id</th>\n",
       "      <th>success_rate</th>\n",
       "      <th>time_avg</th>\n",
       "      <th>num_nodes_avg</th>\n",
       "      <th>path_length_avg</th>\n",
       "      <th>smoothness_avg</th>\n",
       "      <th>success_improvement</th>\n",
       "      <th>time_improvement</th>\n",
       "      <th>length_improvement</th>\n",
       "      <th>smoothness_improvement</th>\n",
       "      <th>objective_score</th>\n",
       "    </tr>\n",
       "    <tr>\n",
       "      <th>alg_name</th>\n",
       "      <th></th>\n",
       "      <th></th>\n",
       "      <th></th>\n",
       "      <th></th>\n",
       "      <th></th>\n",
       "      <th></th>\n",
       "      <th></th>\n",
       "      <th></th>\n",
       "      <th></th>\n",
       "      <th></th>\n",
       "      <th></th>\n",
       "    </tr>\n",
       "  </thead>\n",
       "  <tbody>\n",
       "    <tr>\n",
       "      <th>-11.12807</th>\n",
       "      <td>1.0</td>\n",
       "      <td>1.0</td>\n",
       "      <td>0.018303</td>\n",
       "      <td>169.066667</td>\n",
       "      <td>178.872845</td>\n",
       "      <td>0.071576</td>\n",
       "      <td>0.0</td>\n",
       "      <td>34.829224</td>\n",
       "      <td>19.403655</td>\n",
       "      <td>678.612633</td>\n",
       "      <td>17.722561</td>\n",
       "    </tr>\n",
       "    <tr>\n",
       "      <th>-7.23208</th>\n",
       "      <td>1.0</td>\n",
       "      <td>1.0</td>\n",
       "      <td>0.018391</td>\n",
       "      <td>156.566667</td>\n",
       "      <td>176.656912</td>\n",
       "      <td>0.059395</td>\n",
       "      <td>0.0</td>\n",
       "      <td>32.389912</td>\n",
       "      <td>20.114344</td>\n",
       "      <td>566.820400</td>\n",
       "      <td>16.573945</td>\n",
       "    </tr>\n",
       "    <tr>\n",
       "      <th>-7.12118</th>\n",
       "      <td>1.0</td>\n",
       "      <td>1.0</td>\n",
       "      <td>0.013510</td>\n",
       "      <td>138.500000</td>\n",
       "      <td>179.551406</td>\n",
       "      <td>0.067572</td>\n",
       "      <td>0.0</td>\n",
       "      <td>54.465367</td>\n",
       "      <td>18.676265</td>\n",
       "      <td>658.132954</td>\n",
       "      <td>23.365528</td>\n",
       "    </tr>\n",
       "    <tr>\n",
       "      <th>-6.46310</th>\n",
       "      <td>1.0</td>\n",
       "      <td>1.0</td>\n",
       "      <td>0.014693</td>\n",
       "      <td>145.800000</td>\n",
       "      <td>176.450449</td>\n",
       "      <td>0.094685</td>\n",
       "      <td>0.0</td>\n",
       "      <td>49.634587</td>\n",
       "      <td>20.636534</td>\n",
       "      <td>1004.309593</td>\n",
       "      <td>24.039231</td>\n",
       "    </tr>\n",
       "    <tr>\n",
       "      <th>-6.37314</th>\n",
       "      <td>1.0</td>\n",
       "      <td>1.0</td>\n",
       "      <td>0.019352</td>\n",
       "      <td>150.966667</td>\n",
       "      <td>171.525618</td>\n",
       "      <td>0.090478</td>\n",
       "      <td>0.0</td>\n",
       "      <td>34.949741</td>\n",
       "      <td>22.690346</td>\n",
       "      <td>952.299593</td>\n",
       "      <td>19.784489</td>\n",
       "    </tr>\n",
       "    <tr>\n",
       "      <th>-5.84788</th>\n",
       "      <td>1.0</td>\n",
       "      <td>1.0</td>\n",
       "      <td>0.015984</td>\n",
       "      <td>148.466667</td>\n",
       "      <td>176.679617</td>\n",
       "      <td>0.062509</td>\n",
       "      <td>0.0</td>\n",
       "      <td>46.078840</td>\n",
       "      <td>20.551825</td>\n",
       "      <td>619.580677</td>\n",
       "      <td>21.031921</td>\n",
       "    </tr>\n",
       "    <tr>\n",
       "      <th>-5.82745</th>\n",
       "      <td>1.0</td>\n",
       "      <td>1.0</td>\n",
       "      <td>0.022862</td>\n",
       "      <td>165.466667</td>\n",
       "      <td>174.330491</td>\n",
       "      <td>0.080653</td>\n",
       "      <td>0.0</td>\n",
       "      <td>26.763481</td>\n",
       "      <td>21.396271</td>\n",
       "      <td>830.483970</td>\n",
       "      <td>16.460718</td>\n",
       "    </tr>\n",
       "    <tr>\n",
       "      <th>-5.68873</th>\n",
       "      <td>1.0</td>\n",
       "      <td>1.0</td>\n",
       "      <td>0.012547</td>\n",
       "      <td>133.033333</td>\n",
       "      <td>177.038015</td>\n",
       "      <td>0.062646</td>\n",
       "      <td>0.0</td>\n",
       "      <td>58.936059</td>\n",
       "      <td>19.858323</td>\n",
       "      <td>572.394721</td>\n",
       "      <td>24.514456</td>\n",
       "    </tr>\n",
       "    <tr>\n",
       "      <th>-4.59249</th>\n",
       "      <td>1.0</td>\n",
       "      <td>1.0</td>\n",
       "      <td>0.010779</td>\n",
       "      <td>139.466667</td>\n",
       "      <td>176.483368</td>\n",
       "      <td>0.070947</td>\n",
       "      <td>0.0</td>\n",
       "      <td>65.627316</td>\n",
       "      <td>20.466260</td>\n",
       "      <td>690.207176</td>\n",
       "      <td>27.232483</td>\n",
       "    </tr>\n",
       "    <tr>\n",
       "      <th>-4.01111</th>\n",
       "      <td>1.0</td>\n",
       "      <td>1.0</td>\n",
       "      <td>0.015382</td>\n",
       "      <td>137.066667</td>\n",
       "      <td>174.606088</td>\n",
       "      <td>0.088553</td>\n",
       "      <td>0.0</td>\n",
       "      <td>51.367898</td>\n",
       "      <td>21.010688</td>\n",
       "      <td>934.278642</td>\n",
       "      <td>24.283900</td>\n",
       "    </tr>\n",
       "    <tr>\n",
       "      <th>-3.83430</th>\n",
       "      <td>1.0</td>\n",
       "      <td>1.0</td>\n",
       "      <td>0.015364</td>\n",
       "      <td>136.666667</td>\n",
       "      <td>171.351726</td>\n",
       "      <td>0.086290</td>\n",
       "      <td>0.0</td>\n",
       "      <td>53.076214</td>\n",
       "      <td>22.818443</td>\n",
       "      <td>883.087968</td>\n",
       "      <td>24.901993</td>\n",
       "    </tr>\n",
       "    <tr>\n",
       "      <th>-3.32505</th>\n",
       "      <td>1.0</td>\n",
       "      <td>1.0</td>\n",
       "      <td>0.017397</td>\n",
       "      <td>147.733333</td>\n",
       "      <td>172.826838</td>\n",
       "      <td>0.075204</td>\n",
       "      <td>0.0</td>\n",
       "      <td>43.990836</td>\n",
       "      <td>22.256090</td>\n",
       "      <td>736.238025</td>\n",
       "      <td>21.329659</td>\n",
       "    </tr>\n",
       "    <tr>\n",
       "      <th>-2.91188</th>\n",
       "      <td>1.0</td>\n",
       "      <td>1.0</td>\n",
       "      <td>0.015654</td>\n",
       "      <td>143.233333</td>\n",
       "      <td>171.636359</td>\n",
       "      <td>0.087030</td>\n",
       "      <td>0.0</td>\n",
       "      <td>49.683412</td>\n",
       "      <td>22.738956</td>\n",
       "      <td>926.683922</td>\n",
       "      <td>24.086235</td>\n",
       "    </tr>\n",
       "    <tr>\n",
       "      <th>-2.73225</th>\n",
       "      <td>1.0</td>\n",
       "      <td>1.0</td>\n",
       "      <td>0.019179</td>\n",
       "      <td>151.366667</td>\n",
       "      <td>177.305213</td>\n",
       "      <td>0.087418</td>\n",
       "      <td>0.0</td>\n",
       "      <td>36.491130</td>\n",
       "      <td>19.841437</td>\n",
       "      <td>876.484559</td>\n",
       "      <td>19.298049</td>\n",
       "    </tr>\n",
       "    <tr>\n",
       "      <th>-2.43652</th>\n",
       "      <td>1.0</td>\n",
       "      <td>1.0</td>\n",
       "      <td>0.019366</td>\n",
       "      <td>150.233333</td>\n",
       "      <td>174.126122</td>\n",
       "      <td>0.085237</td>\n",
       "      <td>0.0</td>\n",
       "      <td>41.751240</td>\n",
       "      <td>21.541353</td>\n",
       "      <td>865.796381</td>\n",
       "      <td>21.162625</td>\n",
       "    </tr>\n",
       "    <tr>\n",
       "      <th>-2.05071</th>\n",
       "      <td>1.0</td>\n",
       "      <td>1.0</td>\n",
       "      <td>0.017014</td>\n",
       "      <td>149.166667</td>\n",
       "      <td>173.759593</td>\n",
       "      <td>0.086329</td>\n",
       "      <td>0.0</td>\n",
       "      <td>42.354586</td>\n",
       "      <td>21.914667</td>\n",
       "      <td>928.250403</td>\n",
       "      <td>21.730561</td>\n",
       "    </tr>\n",
       "    <tr>\n",
       "      <th>-1.99103</th>\n",
       "      <td>1.0</td>\n",
       "      <td>1.0</td>\n",
       "      <td>0.028840</td>\n",
       "      <td>187.066667</td>\n",
       "      <td>174.305616</td>\n",
       "      <td>0.083690</td>\n",
       "      <td>0.0</td>\n",
       "      <td>-5.841301</td>\n",
       "      <td>20.808387</td>\n",
       "      <td>889.984029</td>\n",
       "      <td>6.859207</td>\n",
       "    </tr>\n",
       "  </tbody>\n",
       "</table>\n",
       "</div>"
      ],
      "text/plain": [
       "           map_id  success_rate  time_avg  num_nodes_avg  path_length_avg  \\\n",
       "alg_name                                                                    \n",
       "-11.12807     1.0           1.0  0.018303     169.066667       178.872845   \n",
       "-7.23208      1.0           1.0  0.018391     156.566667       176.656912   \n",
       "-7.12118      1.0           1.0  0.013510     138.500000       179.551406   \n",
       "-6.46310      1.0           1.0  0.014693     145.800000       176.450449   \n",
       "-6.37314      1.0           1.0  0.019352     150.966667       171.525618   \n",
       "-5.84788      1.0           1.0  0.015984     148.466667       176.679617   \n",
       "-5.82745      1.0           1.0  0.022862     165.466667       174.330491   \n",
       "-5.68873      1.0           1.0  0.012547     133.033333       177.038015   \n",
       "-4.59249      1.0           1.0  0.010779     139.466667       176.483368   \n",
       "-4.01111      1.0           1.0  0.015382     137.066667       174.606088   \n",
       "-3.83430      1.0           1.0  0.015364     136.666667       171.351726   \n",
       "-3.32505      1.0           1.0  0.017397     147.733333       172.826838   \n",
       "-2.91188      1.0           1.0  0.015654     143.233333       171.636359   \n",
       "-2.73225      1.0           1.0  0.019179     151.366667       177.305213   \n",
       "-2.43652      1.0           1.0  0.019366     150.233333       174.126122   \n",
       "-2.05071      1.0           1.0  0.017014     149.166667       173.759593   \n",
       "-1.99103      1.0           1.0  0.028840     187.066667       174.305616   \n",
       "\n",
       "           smoothness_avg  success_improvement  time_improvement  \\\n",
       "alg_name                                                           \n",
       "-11.12807        0.071576                  0.0         34.829224   \n",
       "-7.23208         0.059395                  0.0         32.389912   \n",
       "-7.12118         0.067572                  0.0         54.465367   \n",
       "-6.46310         0.094685                  0.0         49.634587   \n",
       "-6.37314         0.090478                  0.0         34.949741   \n",
       "-5.84788         0.062509                  0.0         46.078840   \n",
       "-5.82745         0.080653                  0.0         26.763481   \n",
       "-5.68873         0.062646                  0.0         58.936059   \n",
       "-4.59249         0.070947                  0.0         65.627316   \n",
       "-4.01111         0.088553                  0.0         51.367898   \n",
       "-3.83430         0.086290                  0.0         53.076214   \n",
       "-3.32505         0.075204                  0.0         43.990836   \n",
       "-2.91188         0.087030                  0.0         49.683412   \n",
       "-2.73225         0.087418                  0.0         36.491130   \n",
       "-2.43652         0.085237                  0.0         41.751240   \n",
       "-2.05071         0.086329                  0.0         42.354586   \n",
       "-1.99103         0.083690                  0.0         -5.841301   \n",
       "\n",
       "           length_improvement  smoothness_improvement  objective_score  \n",
       "alg_name                                                                \n",
       "-11.12807           19.403655              678.612633        17.722561  \n",
       "-7.23208            20.114344              566.820400        16.573945  \n",
       "-7.12118            18.676265              658.132954        23.365528  \n",
       "-6.46310            20.636534             1004.309593        24.039231  \n",
       "-6.37314            22.690346              952.299593        19.784489  \n",
       "-5.84788            20.551825              619.580677        21.031921  \n",
       "-5.82745            21.396271              830.483970        16.460718  \n",
       "-5.68873            19.858323              572.394721        24.514456  \n",
       "-4.59249            20.466260              690.207176        27.232483  \n",
       "-4.01111            21.010688              934.278642        24.283900  \n",
       "-3.83430            22.818443              883.087968        24.901993  \n",
       "-3.32505            22.256090              736.238025        21.329659  \n",
       "-2.91188            22.738956              926.683922        24.086235  \n",
       "-2.73225            19.841437              876.484559        19.298049  \n",
       "-2.43652            21.541353              865.796381        21.162625  \n",
       "-2.05071            21.914667              928.250403        21.730561  \n",
       "-1.99103            20.808387              889.984029         6.859207  "
      ]
     },
     "execution_count": 70,
     "metadata": {},
     "output_type": "execute_result"
    }
   ],
   "source": [
    "grouped_avg = g_total_df.groupby('alg_name').mean()\n",
    "aa = pd.DataFrame(grouped_avg)\n",
    "aa"
   ]
  },
  {
   "cell_type": "code",
   "execution_count": 86,
   "id": "277f4858",
   "metadata": {},
   "outputs": [
    {
     "data": {
      "text/plain": [
       "17"
      ]
     },
     "execution_count": 86,
     "metadata": {},
     "output_type": "execute_result"
    }
   ],
   "source": [
    "pop_path = \"./path_planning/mobj1/results/pops/population_generation_10.json\"\n",
    "\n",
    "with open(pop_path, \"r\") as f:\n",
    "    data = json.load(f)\n",
    "    filtered_sorted_algorithms = sorted(\n",
    "    [alg for alg in data if alg.get('operator') != 'initial'],\n",
    "    key=lambda x: x.get('objective', float('inf'))\n",
    "    )\n",
    "\n",
    "len(filtered_sorted_algorithms)"
   ]
  },
  {
   "cell_type": "code",
   "execution_count": null,
   "id": "93067eb5",
   "metadata": {},
   "outputs": [
    {
     "name": "stdout",
     "output_type": "stream",
     "text": [
      "Map 1\n",
      "Iteration 1: Time taken: 0.0144 seconds, Success: True\n",
      "Iteration 2: Time taken: 0.0050 seconds, Success: True\n",
      "Iteration 3: Time taken: 0.0095 seconds, Success: True\n",
      "Iteration 4: Time taken: 0.0090 seconds, Success: True\n",
      "Iteration 5: Time taken: 0.0100 seconds, Success: True\n",
      "Iteration 6: Time taken: 0.0075 seconds, Success: True\n",
      "Iteration 7: Time taken: 0.0085 seconds, Success: True\n",
      "Iteration 8: Time taken: 0.0095 seconds, Success: True\n",
      "Iteration 9: Time taken: 0.0056 seconds, Success: True\n",
      "Iteration 10: Time taken: 0.0065 seconds, Success: True\n",
      "Map 2\n",
      "Iteration 1: Time taken: 0.0230 seconds, Success: True\n",
      "Iteration 2: Time taken: 0.0200 seconds, Success: True\n",
      "Iteration 3: Time taken: 0.0170 seconds, Success: True\n",
      "Iteration 4: Time taken: 0.0136 seconds, Success: True\n",
      "Iteration 5: Time taken: 0.0151 seconds, Success: True\n",
      "Iteration 6: Time taken: 0.0136 seconds, Success: True\n",
      "Iteration 7: Time taken: 0.0095 seconds, Success: True\n",
      "Iteration 8: Time taken: 0.0143 seconds, Success: True\n",
      "Iteration 9: Time taken: 0.0220 seconds, Success: True\n",
      "Iteration 10: Time taken: 0.0231 seconds, Success: True\n",
      "Map 3\n",
      "Iteration 1: Time taken: 0.0120 seconds, Success: True\n",
      "Iteration 2: Time taken: 0.0310 seconds, Success: True\n",
      "Iteration 3: Time taken: 0.0070 seconds, Success: True\n",
      "Iteration 4: Time taken: 0.0080 seconds, Success: True\n",
      "Iteration 5: Time taken: 0.0175 seconds, Success: True\n",
      "Iteration 6: Time taken: 0.0341 seconds, Success: True\n",
      "Iteration 7: Time taken: 0.1383 seconds, Success: True\n",
      "Iteration 8: Time taken: 0.0082 seconds, Success: True\n",
      "Iteration 9: Time taken: 0.0279 seconds, Success: True\n",
      "Iteration 10: Time taken: 0.0085 seconds, Success: True\n",
      "Total time taken for all maps: 0.5668 seconds\n",
      "Map 1\n",
      "Iteration 1: Time taken: 0.0050 seconds, Success: True\n",
      "Iteration 2: Time taken: 0.0093 seconds, Success: True\n",
      "Iteration 3: Time taken: 0.0150 seconds, Success: True\n",
      "Iteration 4: Time taken: 0.0075 seconds, Success: True\n",
      "Iteration 5: Time taken: 0.0081 seconds, Success: True\n",
      "Iteration 6: Time taken: 0.0186 seconds, Success: True\n",
      "Iteration 7: Time taken: 0.0080 seconds, Success: True\n",
      "Iteration 8: Time taken: 0.0136 seconds, Success: True\n",
      "Iteration 9: Time taken: 0.0060 seconds, Success: True\n",
      "Iteration 10: Time taken: 0.0148 seconds, Success: True\n",
      "Map 2\n",
      "Iteration 1: Time taken: 0.0187 seconds, Success: True\n",
      "Iteration 2: Time taken: 0.0180 seconds, Success: True\n",
      "Iteration 3: Time taken: 0.0141 seconds, Success: True\n",
      "Iteration 4: Time taken: 0.0191 seconds, Success: True\n",
      "Iteration 5: Time taken: 0.0168 seconds, Success: True\n",
      "Iteration 6: Time taken: 0.0171 seconds, Success: True\n",
      "Iteration 7: Time taken: 0.0101 seconds, Success: True\n",
      "Iteration 8: Time taken: 0.0273 seconds, Success: True\n",
      "Iteration 9: Time taken: 0.0187 seconds, Success: True\n",
      "Iteration 10: Time taken: 0.0127 seconds, Success: True\n",
      "Map 3\n",
      "Iteration 1: Time taken: 0.0050 seconds, Success: True\n",
      "Iteration 2: Time taken: 0.0366 seconds, Success: True\n",
      "Iteration 3: Time taken: 0.0085 seconds, Success: True\n",
      "Iteration 4: Time taken: 0.0091 seconds, Success: True\n",
      "Iteration 5: Time taken: 0.1459 seconds, Success: True\n",
      "Iteration 6: Time taken: 0.0130 seconds, Success: True\n",
      "Iteration 7: Time taken: 0.0105 seconds, Success: True\n",
      "Iteration 8: Time taken: 0.0200 seconds, Success: True\n",
      "Iteration 9: Time taken: 0.0196 seconds, Success: True\n",
      "Iteration 10: Time taken: 0.0050 seconds, Success: True\n",
      "Total time taken for all maps: 0.5669 seconds\n",
      "Map 1\n",
      "Iteration 1: Time taken: 0.0115 seconds, Success: True\n",
      "Iteration 2: Time taken: 0.0115 seconds, Success: True\n",
      "Iteration 3: Time taken: 0.0095 seconds, Success: True\n",
      "Iteration 4: Time taken: 0.0100 seconds, Success: True\n",
      "Iteration 5: Time taken: 0.0120 seconds, Success: True\n",
      "Iteration 6: Time taken: 0.0060 seconds, Success: True\n",
      "Iteration 7: Time taken: 0.0069 seconds, Success: True\n",
      "Iteration 8: Time taken: 0.0061 seconds, Success: True\n",
      "Iteration 9: Time taken: 0.0371 seconds, Success: True\n",
      "Iteration 10: Time taken: 0.0040 seconds, Success: True\n",
      "Map 2\n",
      "Iteration 1: Time taken: 0.0235 seconds, Success: True\n",
      "Iteration 2: Time taken: 0.0105 seconds, Success: True\n",
      "Iteration 3: Time taken: 0.0241 seconds, Success: True\n",
      "Iteration 4: Time taken: 0.0238 seconds, Success: True\n",
      "Iteration 5: Time taken: 0.0200 seconds, Success: True\n",
      "Iteration 6: Time taken: 0.0160 seconds, Success: True\n",
      "Iteration 7: Time taken: 0.0306 seconds, Success: True\n",
      "Iteration 8: Time taken: 0.0310 seconds, Success: True\n",
      "Iteration 9: Time taken: 0.0155 seconds, Success: True\n",
      "Iteration 10: Time taken: 0.0136 seconds, Success: True\n",
      "Map 3\n",
      "Iteration 1: Time taken: 0.0042 seconds, Success: True\n",
      "Iteration 2: Time taken: 0.0050 seconds, Success: True\n",
      "Iteration 3: Time taken: 0.0135 seconds, Success: True\n",
      "Iteration 4: Time taken: 0.0105 seconds, Success: True\n",
      "Iteration 5: Time taken: 0.0085 seconds, Success: True\n",
      "Iteration 6: Time taken: 0.0055 seconds, Success: True\n",
      "Iteration 7: Time taken: 0.0141 seconds, Success: True\n",
      "Iteration 8: Time taken: 0.0055 seconds, Success: True\n",
      "Iteration 9: Time taken: 0.0050 seconds, Success: True\n",
      "Iteration 10: Time taken: 0.0103 seconds, Success: True\n",
      "Total time taken for all maps: 0.4236 seconds\n",
      "Map 1\n",
      "Iteration 1: Time taken: 0.0071 seconds, Success: True\n",
      "Iteration 2: Time taken: 0.0087 seconds, Success: True\n",
      "Iteration 3: Time taken: 0.0101 seconds, Success: True\n",
      "Iteration 4: Time taken: 0.0089 seconds, Success: True\n",
      "Iteration 5: Time taken: 0.0130 seconds, Success: True\n",
      "Iteration 6: Time taken: 0.0170 seconds, Success: True\n",
      "Iteration 7: Time taken: 0.0092 seconds, Success: True\n",
      "Iteration 8: Time taken: 0.0096 seconds, Success: True\n",
      "Iteration 9: Time taken: 0.0081 seconds, Success: True\n",
      "Iteration 10: Time taken: 0.0092 seconds, Success: True\n",
      "Map 2\n",
      "Iteration 1: Time taken: 0.0191 seconds, Success: True\n",
      "Iteration 2: Time taken: 0.0136 seconds, Success: True\n",
      "Iteration 3: Time taken: 0.0255 seconds, Success: True\n",
      "Iteration 4: Time taken: 0.0200 seconds, Success: True\n",
      "Iteration 5: Time taken: 0.0115 seconds, Success: True\n",
      "Iteration 6: Time taken: 0.0173 seconds, Success: True\n",
      "Iteration 7: Time taken: 0.0135 seconds, Success: True\n",
      "Iteration 8: Time taken: 0.0170 seconds, Success: True\n",
      "Iteration 9: Time taken: 0.0351 seconds, Success: True\n",
      "Iteration 10: Time taken: 0.0195 seconds, Success: True\n",
      "Map 3\n",
      "Iteration 1: Time taken: 0.0051 seconds, Success: True\n",
      "Iteration 2: Time taken: 0.0075 seconds, Success: True\n",
      "Iteration 3: Time taken: 0.0321 seconds, Success: True\n",
      "Iteration 4: Time taken: 0.0105 seconds, Success: True\n",
      "Iteration 5: Time taken: 0.0139 seconds, Success: True\n",
      "Iteration 6: Time taken: 0.0060 seconds, Success: True\n",
      "Iteration 7: Time taken: 0.0210 seconds, Success: True\n",
      "Iteration 8: Time taken: 0.0104 seconds, Success: True\n",
      "Iteration 9: Time taken: 0.0040 seconds, Success: True\n",
      "Iteration 10: Time taken: 0.0370 seconds, Success: True\n",
      "Total time taken for all maps: 0.4594 seconds\n",
      "Map 1\n",
      "Iteration 1: Time taken: 0.0170 seconds, Success: True\n",
      "Iteration 2: Time taken: 0.0063 seconds, Success: True\n",
      "Iteration 3: Time taken: 0.0125 seconds, Success: True\n",
      "Iteration 4: Time taken: 0.0095 seconds, Success: True\n",
      "Iteration 5: Time taken: 0.0075 seconds, Success: True\n",
      "Iteration 6: Time taken: 0.0098 seconds, Success: True\n",
      "Iteration 7: Time taken: 0.0093 seconds, Success: True\n",
      "Iteration 8: Time taken: 0.0085 seconds, Success: True\n",
      "Iteration 9: Time taken: 0.0075 seconds, Success: True\n",
      "Iteration 10: Time taken: 0.0063 seconds, Success: True\n",
      "Map 2\n",
      "Iteration 1: Time taken: 0.0175 seconds, Success: True\n",
      "Iteration 2: Time taken: 0.0158 seconds, Success: True\n",
      "Iteration 3: Time taken: 0.0166 seconds, Success: True\n",
      "Iteration 4: Time taken: 0.0144 seconds, Success: True\n",
      "Iteration 5: Time taken: 0.0350 seconds, Success: True\n",
      "Iteration 6: Time taken: 0.0261 seconds, Success: True\n",
      "Iteration 7: Time taken: 0.0276 seconds, Success: True\n",
      "Iteration 8: Time taken: 0.0214 seconds, Success: True\n",
      "Iteration 9: Time taken: 0.0200 seconds, Success: True\n",
      "Iteration 10: Time taken: 0.0291 seconds, Success: True\n",
      "Map 3\n",
      "Iteration 1: Time taken: 0.0050 seconds, Success: True\n",
      "Iteration 2: Time taken: 0.0341 seconds, Success: True\n",
      "Iteration 3: Time taken: 0.1225 seconds, Success: True\n",
      "Iteration 4: Time taken: 0.0292 seconds, Success: True\n",
      "Iteration 5: Time taken: 0.0223 seconds, Success: True\n",
      "Iteration 6: Time taken: 0.0115 seconds, Success: True\n",
      "Iteration 7: Time taken: 0.0185 seconds, Success: True\n",
      "Iteration 8: Time taken: 0.0115 seconds, Success: True\n",
      "Iteration 9: Time taken: 0.0041 seconds, Success: True\n",
      "Iteration 10: Time taken: 0.0040 seconds, Success: True\n",
      "Total time taken for all maps: 0.5981 seconds\n",
      "Map 1\n",
      "Iteration 1: Time taken: 0.0095 seconds, Success: True\n",
      "Iteration 2: Time taken: 0.0232 seconds, Success: True\n",
      "Iteration 3: Time taken: 0.0063 seconds, Success: True\n",
      "Iteration 4: Time taken: 0.0065 seconds, Success: True\n",
      "Iteration 5: Time taken: 0.0075 seconds, Success: True\n",
      "Iteration 6: Time taken: 0.0082 seconds, Success: True\n",
      "Iteration 7: Time taken: 0.0100 seconds, Success: True\n",
      "Iteration 8: Time taken: 0.0120 seconds, Success: True\n",
      "Iteration 9: Time taken: 0.0060 seconds, Success: True\n",
      "Iteration 10: Time taken: 0.0090 seconds, Success: True\n",
      "Map 2\n",
      "Iteration 1: Time taken: 0.0152 seconds, Success: True\n",
      "Iteration 2: Time taken: 0.0231 seconds, Success: True\n",
      "Iteration 3: Time taken: 0.0295 seconds, Success: True\n",
      "Iteration 4: Time taken: 0.0145 seconds, Success: True\n",
      "Iteration 5: Time taken: 0.0236 seconds, Success: True\n",
      "Iteration 6: Time taken: 0.0206 seconds, Success: True\n",
      "Iteration 7: Time taken: 0.0210 seconds, Success: True\n",
      "Iteration 8: Time taken: 0.0226 seconds, Success: True\n",
      "Iteration 9: Time taken: 0.0193 seconds, Success: True\n",
      "Iteration 10: Time taken: 0.0156 seconds, Success: True\n",
      "Map 3\n",
      "Iteration 1: Time taken: 0.0117 seconds, Success: True\n",
      "Iteration 2: Time taken: 0.0116 seconds, Success: True\n",
      "Iteration 3: Time taken: 0.0546 seconds, Success: True\n",
      "Iteration 4: Time taken: 0.0070 seconds, Success: True\n",
      "Iteration 5: Time taken: 0.0115 seconds, Success: True\n",
      "Iteration 6: Time taken: 0.0228 seconds, Success: True\n",
      "Iteration 7: Time taken: 0.0282 seconds, Success: True\n",
      "Iteration 8: Time taken: 0.0164 seconds, Success: True\n",
      "Iteration 9: Time taken: 0.0055 seconds, Success: True\n",
      "Iteration 10: Time taken: 0.0070 seconds, Success: True\n",
      "Total time taken for all maps: 0.4959 seconds\n",
      "Map 1\n",
      "Iteration 1: Time taken: 0.0070 seconds, Success: True\n",
      "Iteration 2: Time taken: 0.0109 seconds, Success: True\n",
      "Iteration 3: Time taken: 0.0105 seconds, Success: True\n",
      "Iteration 4: Time taken: 0.0086 seconds, Success: True\n",
      "Iteration 5: Time taken: 0.0218 seconds, Success: True\n",
      "Iteration 6: Time taken: 0.0062 seconds, Success: True\n",
      "Iteration 7: Time taken: 0.0242 seconds, Success: True\n",
      "Iteration 8: Time taken: 0.0070 seconds, Success: True\n",
      "Iteration 9: Time taken: 0.0062 seconds, Success: True\n",
      "Iteration 10: Time taken: 0.0141 seconds, Success: True\n",
      "Map 2\n",
      "Iteration 1: Time taken: 0.0288 seconds, Success: True\n",
      "Iteration 2: Time taken: 0.0280 seconds, Success: True\n",
      "Iteration 3: Time taken: 0.0291 seconds, Success: True\n",
      "Iteration 4: Time taken: 0.0823 seconds, Success: True\n",
      "Iteration 5: Time taken: 0.0195 seconds, Success: True\n",
      "Iteration 6: Time taken: 0.0259 seconds, Success: True\n",
      "Iteration 7: Time taken: 0.0160 seconds, Success: True\n",
      "Iteration 8: Time taken: 0.0210 seconds, Success: True\n",
      "Iteration 9: Time taken: 0.0378 seconds, Success: True\n",
      "Iteration 10: Time taken: 0.0171 seconds, Success: True\n",
      "Map 3\n",
      "Iteration 1: Time taken: 0.0541 seconds, Success: True\n",
      "Iteration 2: Time taken: 0.0125 seconds, Success: True\n",
      "Iteration 3: Time taken: 0.0728 seconds, Success: True\n",
      "Iteration 4: Time taken: 0.0490 seconds, Success: True\n",
      "Iteration 5: Time taken: 0.0070 seconds, Success: True\n",
      "Iteration 6: Time taken: 0.0115 seconds, Success: True\n",
      "Iteration 7: Time taken: 0.0070 seconds, Success: True\n",
      "Iteration 8: Time taken: 0.0341 seconds, Success: True\n",
      "Iteration 9: Time taken: 0.0060 seconds, Success: True\n",
      "Iteration 10: Time taken: 0.0100 seconds, Success: True\n",
      "Total time taken for all maps: 0.7006 seconds\n",
      "Map 1\n",
      "Iteration 1: Time taken: 0.0046 seconds, Success: True\n",
      "Iteration 2: Time taken: 0.0090 seconds, Success: True\n",
      "Iteration 3: Time taken: 0.0080 seconds, Success: True\n",
      "Iteration 4: Time taken: 0.0081 seconds, Success: True\n",
      "Iteration 5: Time taken: 0.0040 seconds, Success: True\n",
      "Iteration 6: Time taken: 0.0171 seconds, Success: True\n",
      "Iteration 7: Time taken: 0.0085 seconds, Success: True\n",
      "Iteration 8: Time taken: 0.0085 seconds, Success: True\n",
      "Iteration 9: Time taken: 0.0070 seconds, Success: True\n",
      "Iteration 10: Time taken: 0.0101 seconds, Success: True\n",
      "Map 2\n",
      "Iteration 1: Time taken: 0.0326 seconds, Success: True\n",
      "Iteration 2: Time taken: 0.0228 seconds, Success: True\n",
      "Iteration 3: Time taken: 0.0053 seconds, Success: True\n",
      "Iteration 4: Time taken: 0.0160 seconds, Success: True\n",
      "Iteration 5: Time taken: 0.0192 seconds, Success: True\n",
      "Iteration 6: Time taken: 0.0189 seconds, Success: True\n",
      "Iteration 7: Time taken: 0.0106 seconds, Success: True\n",
      "Iteration 8: Time taken: 0.0210 seconds, Success: True\n",
      "Iteration 9: Time taken: 0.0181 seconds, Success: True\n",
      "Iteration 10: Time taken: 0.0175 seconds, Success: True\n",
      "Map 3\n",
      "Iteration 1: Time taken: 0.0066 seconds, Success: True\n",
      "Iteration 2: Time taken: 0.0070 seconds, Success: True\n",
      "Iteration 3: Time taken: 0.0251 seconds, Success: True\n",
      "Iteration 4: Time taken: 0.0095 seconds, Success: True\n",
      "Iteration 5: Time taken: 0.0050 seconds, Success: True\n",
      "Iteration 6: Time taken: 0.0127 seconds, Success: True\n",
      "Iteration 7: Time taken: 0.0060 seconds, Success: True\n",
      "Iteration 8: Time taken: 0.0095 seconds, Success: True\n",
      "Iteration 9: Time taken: 0.0075 seconds, Success: True\n",
      "Iteration 10: Time taken: 0.0204 seconds, Success: True\n",
      "Total time taken for all maps: 0.4024 seconds\n",
      "Map 1\n",
      "Iteration 1: Time taken: 0.0040 seconds, Success: True\n",
      "Iteration 2: Time taken: 0.0244 seconds, Success: True\n",
      "Iteration 3: Time taken: 0.0075 seconds, Success: True\n",
      "Iteration 4: Time taken: 0.0060 seconds, Success: True\n",
      "Iteration 5: Time taken: 0.0050 seconds, Success: True\n",
      "Iteration 6: Time taken: 0.0065 seconds, Success: True\n",
      "Iteration 7: Time taken: 0.0060 seconds, Success: True\n",
      "Iteration 8: Time taken: 0.0040 seconds, Success: True\n",
      "Iteration 9: Time taken: 0.0040 seconds, Success: True\n",
      "Iteration 10: Time taken: 0.0075 seconds, Success: True\n",
      "Map 2\n",
      "Iteration 1: Time taken: 0.0145 seconds, Success: True\n",
      "Iteration 2: Time taken: 0.0202 seconds, Success: True\n",
      "Iteration 3: Time taken: 0.0198 seconds, Success: True\n",
      "Iteration 4: Time taken: 0.0196 seconds, Success: True\n",
      "Iteration 5: Time taken: 0.0095 seconds, Success: True\n",
      "Iteration 6: Time taken: 0.0175 seconds, Success: True\n",
      "Iteration 7: Time taken: 0.0126 seconds, Success: True\n",
      "Iteration 8: Time taken: 0.0191 seconds, Success: True\n",
      "Iteration 9: Time taken: 0.0191 seconds, Success: True\n",
      "Iteration 10: Time taken: 0.0158 seconds, Success: True\n",
      "Map 3\n",
      "Iteration 1: Time taken: 0.0140 seconds, Success: True\n",
      "Iteration 2: Time taken: 0.0137 seconds, Success: True\n",
      "Iteration 3: Time taken: 0.0035 seconds, Success: True\n",
      "Iteration 4: Time taken: 0.0050 seconds, Success: True\n",
      "Iteration 5: Time taken: 0.0095 seconds, Success: True\n",
      "Iteration 6: Time taken: 0.0045 seconds, Success: True\n",
      "Iteration 7: Time taken: 0.0119 seconds, Success: True\n",
      "Iteration 8: Time taken: 0.0050 seconds, Success: True\n",
      "Iteration 9: Time taken: 0.0101 seconds, Success: True\n",
      "Iteration 10: Time taken: 0.0035 seconds, Success: True\n",
      "Total time taken for all maps: 0.3395 seconds\n",
      "Map 1\n",
      "Iteration 1: Time taken: 0.0344 seconds, Success: True\n",
      "Iteration 2: Time taken: 0.0060 seconds, Success: True\n",
      "Iteration 3: Time taken: 0.0096 seconds, Success: True\n",
      "Iteration 4: Time taken: 0.0095 seconds, Success: True\n",
      "Iteration 5: Time taken: 0.0075 seconds, Success: True\n",
      "Iteration 6: Time taken: 0.0106 seconds, Success: True\n",
      "Iteration 7: Time taken: 0.0080 seconds, Success: True\n",
      "Iteration 8: Time taken: 0.0080 seconds, Success: True\n",
      "Iteration 9: Time taken: 0.0166 seconds, Success: True\n",
      "Iteration 10: Time taken: 0.0065 seconds, Success: True\n",
      "Map 2\n",
      "Iteration 1: Time taken: 0.0211 seconds, Success: True\n",
      "Iteration 2: Time taken: 0.0239 seconds, Success: True\n",
      "Iteration 3: Time taken: 0.0244 seconds, Success: True\n",
      "Iteration 4: Time taken: 0.0168 seconds, Success: True\n",
      "Iteration 5: Time taken: 0.0235 seconds, Success: True\n",
      "Iteration 6: Time taken: 0.0261 seconds, Success: True\n",
      "Iteration 7: Time taken: 0.0432 seconds, Success: True\n",
      "Iteration 8: Time taken: 0.0256 seconds, Success: True\n",
      "Iteration 9: Time taken: 0.0277 seconds, Success: True\n",
      "Iteration 10: Time taken: 0.0218 seconds, Success: True\n",
      "Map 3\n",
      "Iteration 1: Time taken: 0.0060 seconds, Success: True\n",
      "Iteration 2: Time taken: 0.0178 seconds, Success: True\n",
      "Iteration 3: Time taken: 0.0095 seconds, Success: True\n",
      "Iteration 4: Time taken: 0.0065 seconds, Success: True\n",
      "Iteration 5: Time taken: 0.0083 seconds, Success: True\n",
      "Iteration 6: Time taken: 0.0080 seconds, Success: True\n",
      "Iteration 7: Time taken: 0.0136 seconds, Success: True\n",
      "Iteration 8: Time taken: 0.0050 seconds, Success: True\n",
      "Iteration 9: Time taken: 0.0091 seconds, Success: True\n",
      "Iteration 10: Time taken: 0.0069 seconds, Success: True\n",
      "Total time taken for all maps: 0.4755 seconds\n",
      "Map 1\n",
      "Iteration 1: Time taken: 0.0065 seconds, Success: True\n",
      "Iteration 2: Time taken: 0.0141 seconds, Success: True\n",
      "Iteration 3: Time taken: 0.0075 seconds, Success: True\n",
      "Iteration 4: Time taken: 0.0085 seconds, Success: True\n",
      "Iteration 5: Time taken: 0.0072 seconds, Success: True\n",
      "Iteration 6: Time taken: 0.0075 seconds, Success: True\n",
      "Iteration 7: Time taken: 0.0060 seconds, Success: True\n",
      "Iteration 8: Time taken: 0.0146 seconds, Success: True\n",
      "Iteration 9: Time taken: 0.0116 seconds, Success: True\n",
      "Iteration 10: Time taken: 0.0075 seconds, Success: True\n",
      "Map 2\n",
      "Iteration 1: Time taken: 0.0433 seconds, Success: True\n",
      "Iteration 2: Time taken: 0.0281 seconds, Success: True\n",
      "Iteration 3: Time taken: 0.0260 seconds, Success: True\n",
      "Iteration 4: Time taken: 0.0306 seconds, Success: True\n",
      "Iteration 5: Time taken: 0.0180 seconds, Success: True\n",
      "Iteration 6: Time taken: 0.0207 seconds, Success: True\n",
      "Iteration 7: Time taken: 0.0222 seconds, Success: True\n",
      "Iteration 8: Time taken: 0.0200 seconds, Success: True\n",
      "Iteration 9: Time taken: 0.0182 seconds, Success: True\n",
      "Iteration 10: Time taken: 0.0150 seconds, Success: True\n",
      "Map 3\n",
      "Iteration 1: Time taken: 0.0250 seconds, Success: True\n",
      "Iteration 2: Time taken: 0.0140 seconds, Success: True\n",
      "Iteration 3: Time taken: 0.0176 seconds, Success: True\n",
      "Iteration 4: Time taken: 0.0150 seconds, Success: True\n",
      "Iteration 5: Time taken: 0.0105 seconds, Success: True\n",
      "Iteration 6: Time taken: 0.0065 seconds, Success: True\n",
      "Iteration 7: Time taken: 0.0160 seconds, Success: True\n",
      "Iteration 8: Time taken: 0.0085 seconds, Success: True\n",
      "Iteration 9: Time taken: 0.0102 seconds, Success: True\n",
      "Iteration 10: Time taken: 0.0045 seconds, Success: True\n",
      "Total time taken for all maps: 0.4775 seconds\n",
      "Map 1\n",
      "Iteration 1: Time taken: 0.0077 seconds, Success: True\n",
      "Iteration 2: Time taken: 0.0085 seconds, Success: True\n",
      "Iteration 3: Time taken: 0.0065 seconds, Success: True\n",
      "Iteration 4: Time taken: 0.0107 seconds, Success: True\n",
      "Iteration 5: Time taken: 0.0095 seconds, Success: True\n",
      "Iteration 6: Time taken: 0.0045 seconds, Success: True\n",
      "Iteration 7: Time taken: 0.0070 seconds, Success: True\n",
      "Iteration 8: Time taken: 0.0090 seconds, Success: True\n",
      "Iteration 9: Time taken: 0.0082 seconds, Success: True\n",
      "Iteration 10: Time taken: 0.0128 seconds, Success: True\n",
      "Map 2\n",
      "Iteration 1: Time taken: 0.0208 seconds, Success: True\n",
      "Iteration 2: Time taken: 0.0221 seconds, Success: True\n",
      "Iteration 3: Time taken: 0.0197 seconds, Success: True\n",
      "Iteration 4: Time taken: 0.0146 seconds, Success: True\n",
      "Iteration 5: Time taken: 0.0237 seconds, Success: True\n",
      "Iteration 6: Time taken: 0.0325 seconds, Success: True\n",
      "Iteration 7: Time taken: 0.0266 seconds, Success: True\n",
      "Iteration 8: Time taken: 0.0288 seconds, Success: True\n",
      "Iteration 9: Time taken: 0.0170 seconds, Success: True\n",
      "Iteration 10: Time taken: 0.0193 seconds, Success: True\n",
      "Map 3\n",
      "Iteration 1: Time taken: 0.0115 seconds, Success: True\n",
      "Iteration 2: Time taken: 0.0105 seconds, Success: True\n",
      "Iteration 3: Time taken: 0.0065 seconds, Success: True\n",
      "Iteration 4: Time taken: 0.0070 seconds, Success: True\n",
      "Iteration 5: Time taken: 0.0441 seconds, Success: True\n",
      "Iteration 6: Time taken: 0.0126 seconds, Success: True\n",
      "Iteration 7: Time taken: 0.0221 seconds, Success: True\n",
      "Iteration 8: Time taken: 0.0045 seconds, Success: True\n",
      "Iteration 9: Time taken: 0.0733 seconds, Success: True\n",
      "Iteration 10: Time taken: 0.0204 seconds, Success: True\n",
      "Total time taken for all maps: 0.5385 seconds\n",
      "Map 1\n",
      "Iteration 1: Time taken: 0.0065 seconds, Success: True\n",
      "Iteration 2: Time taken: 0.0095 seconds, Success: True\n",
      "Iteration 3: Time taken: 0.0081 seconds, Success: True\n",
      "Iteration 4: Time taken: 0.0086 seconds, Success: True\n",
      "Iteration 5: Time taken: 0.0070 seconds, Success: True\n",
      "Iteration 6: Time taken: 0.0055 seconds, Success: True\n",
      "Iteration 7: Time taken: 0.0252 seconds, Success: True\n",
      "Iteration 8: Time taken: 0.0080 seconds, Success: True\n",
      "Iteration 9: Time taken: 0.0060 seconds, Success: True\n",
      "Iteration 10: Time taken: 0.0105 seconds, Success: True\n",
      "Map 2\n",
      "Iteration 1: Time taken: 0.0190 seconds, Success: True\n",
      "Iteration 2: Time taken: 0.0238 seconds, Success: True\n",
      "Iteration 3: Time taken: 0.0303 seconds, Success: True\n",
      "Iteration 4: Time taken: 0.0203 seconds, Success: True\n",
      "Iteration 5: Time taken: 0.0245 seconds, Success: True\n",
      "Iteration 6: Time taken: 0.0152 seconds, Success: True\n",
      "Iteration 7: Time taken: 0.0250 seconds, Success: True\n",
      "Iteration 8: Time taken: 0.0145 seconds, Success: True\n",
      "Iteration 9: Time taken: 0.0265 seconds, Success: True\n",
      "Iteration 10: Time taken: 0.0249 seconds, Success: True\n",
      "Map 3\n",
      "Iteration 1: Time taken: 0.0256 seconds, Success: True\n",
      "Iteration 2: Time taken: 0.0075 seconds, Success: True\n",
      "Iteration 3: Time taken: 0.0105 seconds, Success: True\n",
      "Iteration 4: Time taken: 0.0175 seconds, Success: True\n",
      "Iteration 5: Time taken: 0.0175 seconds, Success: True\n",
      "Iteration 6: Time taken: 0.0051 seconds, Success: True\n",
      "Iteration 7: Time taken: 0.0079 seconds, Success: True\n",
      "Iteration 8: Time taken: 0.0281 seconds, Success: True\n",
      "Iteration 9: Time taken: 0.0169 seconds, Success: True\n",
      "Iteration 10: Time taken: 0.0140 seconds, Success: True\n",
      "Total time taken for all maps: 0.4881 seconds\n",
      "Map 1\n",
      "Iteration 1: Time taken: 0.0130 seconds, Success: True\n",
      "Iteration 2: Time taken: 0.0105 seconds, Success: True\n",
      "Iteration 3: Time taken: 0.0078 seconds, Success: True\n",
      "Iteration 4: Time taken: 0.0050 seconds, Success: True\n",
      "Iteration 5: Time taken: 0.0066 seconds, Success: True\n",
      "Iteration 6: Time taken: 0.0065 seconds, Success: True\n",
      "Iteration 7: Time taken: 0.0070 seconds, Success: True\n",
      "Iteration 8: Time taken: 0.0098 seconds, Success: True\n",
      "Iteration 9: Time taken: 0.0115 seconds, Success: True\n",
      "Iteration 10: Time taken: 0.0112 seconds, Success: True\n",
      "Map 2\n",
      "Iteration 1: Time taken: 0.0220 seconds, Success: True\n",
      "Iteration 2: Time taken: 0.0200 seconds, Success: True\n",
      "Iteration 3: Time taken: 0.0256 seconds, Success: True\n",
      "Iteration 4: Time taken: 0.0240 seconds, Success: True\n",
      "Iteration 5: Time taken: 0.0205 seconds, Success: True\n",
      "Iteration 6: Time taken: 0.0284 seconds, Success: True\n",
      "Iteration 7: Time taken: 0.0282 seconds, Success: True\n",
      "Iteration 8: Time taken: 0.0210 seconds, Success: True\n",
      "Iteration 9: Time taken: 0.0148 seconds, Success: True\n",
      "Iteration 10: Time taken: 0.0216 seconds, Success: True\n",
      "Map 3\n",
      "Iteration 1: Time taken: 0.0316 seconds, Success: True\n",
      "Iteration 2: Time taken: 0.0539 seconds, Success: True\n",
      "Iteration 3: Time taken: 0.0075 seconds, Success: True\n",
      "Iteration 4: Time taken: 0.0055 seconds, Success: True\n",
      "Iteration 5: Time taken: 0.1209 seconds, Success: True\n",
      "Iteration 6: Time taken: 0.0052 seconds, Success: True\n",
      "Iteration 7: Time taken: 0.0049 seconds, Success: True\n",
      "Iteration 8: Time taken: 0.0077 seconds, Success: True\n",
      "Iteration 9: Time taken: 0.0056 seconds, Success: True\n",
      "Iteration 10: Time taken: 0.0175 seconds, Success: True\n",
      "Total time taken for all maps: 0.5911 seconds\n",
      "Map 1\n",
      "Iteration 1: Time taken: 0.0115 seconds, Success: True\n",
      "Iteration 2: Time taken: 0.0065 seconds, Success: True\n",
      "Iteration 3: Time taken: 0.0072 seconds, Success: True\n",
      "Iteration 4: Time taken: 0.0110 seconds, Success: True\n",
      "Iteration 5: Time taken: 0.0181 seconds, Success: True\n",
      "Iteration 6: Time taken: 0.0075 seconds, Success: True\n",
      "Iteration 7: Time taken: 0.0063 seconds, Success: True\n",
      "Iteration 8: Time taken: 0.0105 seconds, Success: True\n",
      "Iteration 9: Time taken: 0.0110 seconds, Success: True\n",
      "Iteration 10: Time taken: 0.0060 seconds, Success: True\n",
      "Map 2\n",
      "Iteration 1: Time taken: 0.0190 seconds, Success: True\n",
      "Iteration 2: Time taken: 0.0372 seconds, Success: True\n",
      "Iteration 3: Time taken: 0.0679 seconds, Success: True\n",
      "Iteration 4: Time taken: 0.0259 seconds, Success: True\n",
      "Iteration 5: Time taken: 0.0129 seconds, Success: True\n",
      "Iteration 6: Time taken: 0.0258 seconds, Success: True\n",
      "Iteration 7: Time taken: 0.0156 seconds, Success: True\n",
      "Iteration 8: Time taken: 0.0307 seconds, Success: True\n",
      "Iteration 9: Time taken: 0.0315 seconds, Success: True\n",
      "Iteration 10: Time taken: 0.0265 seconds, Success: True\n",
      "Map 3\n",
      "Iteration 1: Time taken: 0.0045 seconds, Success: True\n",
      "Iteration 2: Time taken: 0.0165 seconds, Success: True\n",
      "Iteration 3: Time taken: 0.0062 seconds, Success: True\n",
      "Iteration 4: Time taken: 0.0059 seconds, Success: True\n",
      "Iteration 5: Time taken: 0.0284 seconds, Success: True\n",
      "Iteration 6: Time taken: 0.0119 seconds, Success: True\n",
      "Iteration 7: Time taken: 0.0152 seconds, Success: True\n",
      "Iteration 8: Time taken: 0.0440 seconds, Success: True\n",
      "Iteration 9: Time taken: 0.0311 seconds, Success: True\n",
      "Iteration 10: Time taken: 0.0286 seconds, Success: True\n",
      "Total time taken for all maps: 0.5970 seconds\n",
      "Map 1\n",
      "Iteration 1: Time taken: 0.0119 seconds, Success: True\n",
      "Iteration 2: Time taken: 0.0125 seconds, Success: True\n",
      "Iteration 3: Time taken: 0.0087 seconds, Success: True\n",
      "Iteration 4: Time taken: 0.0095 seconds, Success: True\n",
      "Iteration 5: Time taken: 0.0055 seconds, Success: True\n",
      "Iteration 6: Time taken: 0.0065 seconds, Success: True\n",
      "Iteration 7: Time taken: 0.0120 seconds, Success: True\n",
      "Iteration 8: Time taken: 0.0093 seconds, Success: True\n",
      "Iteration 9: Time taken: 0.0076 seconds, Success: True\n",
      "Iteration 10: Time taken: 0.0122 seconds, Success: True\n",
      "Map 2\n",
      "Iteration 1: Time taken: 0.0262 seconds, Success: True\n",
      "Iteration 2: Time taken: 0.0126 seconds, Success: True\n",
      "Iteration 3: Time taken: 0.0329 seconds, Success: True\n",
      "Iteration 4: Time taken: 0.0165 seconds, Success: True\n",
      "Iteration 5: Time taken: 0.0186 seconds, Success: True\n",
      "Iteration 6: Time taken: 0.0240 seconds, Success: True\n",
      "Iteration 7: Time taken: 0.0245 seconds, Success: True\n",
      "Iteration 8: Time taken: 0.0252 seconds, Success: True\n",
      "Iteration 9: Time taken: 0.0135 seconds, Success: True\n",
      "Iteration 10: Time taken: 0.0121 seconds, Success: True\n",
      "Map 3\n",
      "Iteration 1: Time taken: 0.0085 seconds, Success: True\n",
      "Iteration 2: Time taken: 0.0339 seconds, Success: True\n",
      "Iteration 3: Time taken: 0.0060 seconds, Success: True\n",
      "Iteration 4: Time taken: 0.0065 seconds, Success: True\n",
      "Iteration 5: Time taken: 0.0110 seconds, Success: True\n",
      "Iteration 6: Time taken: 0.0055 seconds, Success: True\n",
      "Iteration 7: Time taken: 0.0060 seconds, Success: True\n",
      "Iteration 8: Time taken: 0.0140 seconds, Success: True\n",
      "Iteration 9: Time taken: 0.1093 seconds, Success: True\n",
      "Iteration 10: Time taken: 0.0080 seconds, Success: True\n",
      "Total time taken for all maps: 0.5245 seconds\n",
      "Map 1\n",
      "Iteration 1: Time taken: 0.0206 seconds, Success: True\n",
      "Iteration 2: Time taken: 0.0085 seconds, Success: True\n",
      "Iteration 3: Time taken: 0.0108 seconds, Success: True\n",
      "Iteration 4: Time taken: 0.0148 seconds, Success: True\n",
      "Iteration 5: Time taken: 0.0060 seconds, Success: True\n",
      "Iteration 6: Time taken: 0.0100 seconds, Success: True\n",
      "Iteration 7: Time taken: 0.0115 seconds, Success: True\n",
      "Iteration 8: Time taken: 0.0075 seconds, Success: True\n",
      "Iteration 9: Time taken: 0.0070 seconds, Success: True\n",
      "Iteration 10: Time taken: 0.0065 seconds, Success: True\n",
      "Map 2\n",
      "Iteration 1: Time taken: 0.0181 seconds, Success: True\n",
      "Iteration 2: Time taken: 0.0367 seconds, Success: True\n",
      "Iteration 3: Time taken: 0.0210 seconds, Success: True\n",
      "Iteration 4: Time taken: 0.0242 seconds, Success: True\n",
      "Iteration 5: Time taken: 0.0190 seconds, Success: True\n",
      "Iteration 6: Time taken: 0.0099 seconds, Success: True\n",
      "Iteration 7: Time taken: 0.0105 seconds, Success: True\n",
      "Iteration 8: Time taken: 0.0226 seconds, Success: True\n",
      "Iteration 9: Time taken: 0.0211 seconds, Success: True\n",
      "Iteration 10: Time taken: 0.0207 seconds, Success: True\n",
      "Map 3\n",
      "Iteration 1: Time taken: 0.1713 seconds, Success: True\n",
      "Iteration 2: Time taken: 0.0040 seconds, Success: True\n",
      "Iteration 3: Time taken: 0.0820 seconds, Success: True\n",
      "Iteration 4: Time taken: 0.0050 seconds, Success: True\n",
      "Iteration 5: Time taken: 0.0577 seconds, Success: True\n",
      "Iteration 6: Time taken: 0.0115 seconds, Success: True\n",
      "Iteration 7: Time taken: 0.0048 seconds, Success: True\n",
      "Iteration 8: Time taken: 0.0560 seconds, Success: True\n",
      "Iteration 9: Time taken: 0.0295 seconds, Success: True\n",
      "Iteration 10: Time taken: 0.1366 seconds, Success: True\n",
      "Total time taken for all maps: 0.8821 seconds\n"
     ]
    }
   ],
   "source": [
    "# ref_avg 앞에서 선언됨\n",
    "maps = [multi_obs_map, maze_map, narrow_map]\n",
    "benchmarker = MultiMapBenchmarker(maps=maps, iter=10)\n",
    "\n",
    "g_total_df = pd.DataFrame()\n",
    "\n",
    "for method in filtered_sorted_algorithms:\n",
    "    code_string = method['code']\n",
    "    namedf = pd.DataFrame()\n",
    "    namedf['alg_name'] = [method['objective']]* len(maps)\n",
    "    with warnings.catch_warnings():\n",
    "        warnings.simplefilter(\"ignore\")\n",
    "        planning_module = types.ModuleType(\"planning_module\")\n",
    "        exec(import_string+code_string, planning_module.__dict__)\n",
    "        sys.modules[planning_module.__name__] = planning_module\n",
    "        try:\n",
    "            planner = planning_module.Planner(max_iter=5000, step_size=5.0)\n",
    "        except:\n",
    "            continue\n",
    "        res, avg_rest = benchmarker.run(planner.plan)\n",
    "\n",
    "        if avg_rest is None: continue\n",
    "        imp_res = MultiMapBenchmarker.get_improvement(ref_avg, avg_rest)\n",
    "\n",
    "        res_df = pd.concat([namedf, avg_rest, imp_res], axis=1)\n",
    "        g_total_df = pd.concat([g_total_df, res_df], axis=0)\n",
    "\n",
    "res2 = g_total_df"
   ]
  },
  {
   "cell_type": "code",
   "execution_count": 71,
   "id": "48283cec",
   "metadata": {},
   "outputs": [
    {
     "data": {
      "text/html": [
       "<div>\n",
       "<style scoped>\n",
       "    .dataframe tbody tr th:only-of-type {\n",
       "        vertical-align: middle;\n",
       "    }\n",
       "\n",
       "    .dataframe tbody tr th {\n",
       "        vertical-align: top;\n",
       "    }\n",
       "\n",
       "    .dataframe thead th {\n",
       "        text-align: right;\n",
       "    }\n",
       "</style>\n",
       "<table border=\"1\" class=\"dataframe\">\n",
       "  <thead>\n",
       "    <tr style=\"text-align: right;\">\n",
       "      <th></th>\n",
       "      <th>map_id</th>\n",
       "      <th>success_rate</th>\n",
       "      <th>time_avg</th>\n",
       "      <th>num_nodes_avg</th>\n",
       "      <th>path_length_avg</th>\n",
       "      <th>smoothness_avg</th>\n",
       "      <th>success_improvement</th>\n",
       "      <th>time_improvement</th>\n",
       "      <th>length_improvement</th>\n",
       "      <th>smoothness_improvement</th>\n",
       "      <th>objective_score</th>\n",
       "    </tr>\n",
       "    <tr>\n",
       "      <th>alg_name</th>\n",
       "      <th></th>\n",
       "      <th></th>\n",
       "      <th></th>\n",
       "      <th></th>\n",
       "      <th></th>\n",
       "      <th></th>\n",
       "      <th></th>\n",
       "      <th></th>\n",
       "      <th></th>\n",
       "      <th></th>\n",
       "      <th></th>\n",
       "    </tr>\n",
       "  </thead>\n",
       "  <tbody>\n",
       "    <tr>\n",
       "      <th>-11.12807</th>\n",
       "      <td>1.0</td>\n",
       "      <td>1.0</td>\n",
       "      <td>0.018303</td>\n",
       "      <td>169.066667</td>\n",
       "      <td>178.872845</td>\n",
       "      <td>0.071576</td>\n",
       "      <td>0.0</td>\n",
       "      <td>34.829224</td>\n",
       "      <td>19.403655</td>\n",
       "      <td>678.612633</td>\n",
       "      <td>17.722561</td>\n",
       "    </tr>\n",
       "    <tr>\n",
       "      <th>-7.23208</th>\n",
       "      <td>1.0</td>\n",
       "      <td>1.0</td>\n",
       "      <td>0.018391</td>\n",
       "      <td>156.566667</td>\n",
       "      <td>176.656912</td>\n",
       "      <td>0.059395</td>\n",
       "      <td>0.0</td>\n",
       "      <td>32.389912</td>\n",
       "      <td>20.114344</td>\n",
       "      <td>566.820400</td>\n",
       "      <td>16.573945</td>\n",
       "    </tr>\n",
       "    <tr>\n",
       "      <th>-7.12118</th>\n",
       "      <td>1.0</td>\n",
       "      <td>1.0</td>\n",
       "      <td>0.013510</td>\n",
       "      <td>138.500000</td>\n",
       "      <td>179.551406</td>\n",
       "      <td>0.067572</td>\n",
       "      <td>0.0</td>\n",
       "      <td>54.465367</td>\n",
       "      <td>18.676265</td>\n",
       "      <td>658.132954</td>\n",
       "      <td>23.365528</td>\n",
       "    </tr>\n",
       "    <tr>\n",
       "      <th>-6.46310</th>\n",
       "      <td>1.0</td>\n",
       "      <td>1.0</td>\n",
       "      <td>0.014693</td>\n",
       "      <td>145.800000</td>\n",
       "      <td>176.450449</td>\n",
       "      <td>0.094685</td>\n",
       "      <td>0.0</td>\n",
       "      <td>49.634587</td>\n",
       "      <td>20.636534</td>\n",
       "      <td>1004.309593</td>\n",
       "      <td>24.039231</td>\n",
       "    </tr>\n",
       "    <tr>\n",
       "      <th>-6.37314</th>\n",
       "      <td>1.0</td>\n",
       "      <td>1.0</td>\n",
       "      <td>0.019352</td>\n",
       "      <td>150.966667</td>\n",
       "      <td>171.525618</td>\n",
       "      <td>0.090478</td>\n",
       "      <td>0.0</td>\n",
       "      <td>34.949741</td>\n",
       "      <td>22.690346</td>\n",
       "      <td>952.299593</td>\n",
       "      <td>19.784489</td>\n",
       "    </tr>\n",
       "    <tr>\n",
       "      <th>-5.84788</th>\n",
       "      <td>1.0</td>\n",
       "      <td>1.0</td>\n",
       "      <td>0.015984</td>\n",
       "      <td>148.466667</td>\n",
       "      <td>176.679617</td>\n",
       "      <td>0.062509</td>\n",
       "      <td>0.0</td>\n",
       "      <td>46.078840</td>\n",
       "      <td>20.551825</td>\n",
       "      <td>619.580677</td>\n",
       "      <td>21.031921</td>\n",
       "    </tr>\n",
       "    <tr>\n",
       "      <th>-5.82745</th>\n",
       "      <td>1.0</td>\n",
       "      <td>1.0</td>\n",
       "      <td>0.022862</td>\n",
       "      <td>165.466667</td>\n",
       "      <td>174.330491</td>\n",
       "      <td>0.080653</td>\n",
       "      <td>0.0</td>\n",
       "      <td>26.763481</td>\n",
       "      <td>21.396271</td>\n",
       "      <td>830.483970</td>\n",
       "      <td>16.460718</td>\n",
       "    </tr>\n",
       "    <tr>\n",
       "      <th>-5.68873</th>\n",
       "      <td>1.0</td>\n",
       "      <td>1.0</td>\n",
       "      <td>0.012547</td>\n",
       "      <td>133.033333</td>\n",
       "      <td>177.038015</td>\n",
       "      <td>0.062646</td>\n",
       "      <td>0.0</td>\n",
       "      <td>58.936059</td>\n",
       "      <td>19.858323</td>\n",
       "      <td>572.394721</td>\n",
       "      <td>24.514456</td>\n",
       "    </tr>\n",
       "    <tr>\n",
       "      <th>-4.59249</th>\n",
       "      <td>1.0</td>\n",
       "      <td>1.0</td>\n",
       "      <td>0.010779</td>\n",
       "      <td>139.466667</td>\n",
       "      <td>176.483368</td>\n",
       "      <td>0.070947</td>\n",
       "      <td>0.0</td>\n",
       "      <td>65.627316</td>\n",
       "      <td>20.466260</td>\n",
       "      <td>690.207176</td>\n",
       "      <td>27.232483</td>\n",
       "    </tr>\n",
       "    <tr>\n",
       "      <th>-4.01111</th>\n",
       "      <td>1.0</td>\n",
       "      <td>1.0</td>\n",
       "      <td>0.015382</td>\n",
       "      <td>137.066667</td>\n",
       "      <td>174.606088</td>\n",
       "      <td>0.088553</td>\n",
       "      <td>0.0</td>\n",
       "      <td>51.367898</td>\n",
       "      <td>21.010688</td>\n",
       "      <td>934.278642</td>\n",
       "      <td>24.283900</td>\n",
       "    </tr>\n",
       "    <tr>\n",
       "      <th>-3.83430</th>\n",
       "      <td>1.0</td>\n",
       "      <td>1.0</td>\n",
       "      <td>0.015364</td>\n",
       "      <td>136.666667</td>\n",
       "      <td>171.351726</td>\n",
       "      <td>0.086290</td>\n",
       "      <td>0.0</td>\n",
       "      <td>53.076214</td>\n",
       "      <td>22.818443</td>\n",
       "      <td>883.087968</td>\n",
       "      <td>24.901993</td>\n",
       "    </tr>\n",
       "    <tr>\n",
       "      <th>-3.32505</th>\n",
       "      <td>1.0</td>\n",
       "      <td>1.0</td>\n",
       "      <td>0.017397</td>\n",
       "      <td>147.733333</td>\n",
       "      <td>172.826838</td>\n",
       "      <td>0.075204</td>\n",
       "      <td>0.0</td>\n",
       "      <td>43.990836</td>\n",
       "      <td>22.256090</td>\n",
       "      <td>736.238025</td>\n",
       "      <td>21.329659</td>\n",
       "    </tr>\n",
       "    <tr>\n",
       "      <th>-2.91188</th>\n",
       "      <td>1.0</td>\n",
       "      <td>1.0</td>\n",
       "      <td>0.015654</td>\n",
       "      <td>143.233333</td>\n",
       "      <td>171.636359</td>\n",
       "      <td>0.087030</td>\n",
       "      <td>0.0</td>\n",
       "      <td>49.683412</td>\n",
       "      <td>22.738956</td>\n",
       "      <td>926.683922</td>\n",
       "      <td>24.086235</td>\n",
       "    </tr>\n",
       "    <tr>\n",
       "      <th>-2.73225</th>\n",
       "      <td>1.0</td>\n",
       "      <td>1.0</td>\n",
       "      <td>0.019179</td>\n",
       "      <td>151.366667</td>\n",
       "      <td>177.305213</td>\n",
       "      <td>0.087418</td>\n",
       "      <td>0.0</td>\n",
       "      <td>36.491130</td>\n",
       "      <td>19.841437</td>\n",
       "      <td>876.484559</td>\n",
       "      <td>19.298049</td>\n",
       "    </tr>\n",
       "    <tr>\n",
       "      <th>-2.43652</th>\n",
       "      <td>1.0</td>\n",
       "      <td>1.0</td>\n",
       "      <td>0.019366</td>\n",
       "      <td>150.233333</td>\n",
       "      <td>174.126122</td>\n",
       "      <td>0.085237</td>\n",
       "      <td>0.0</td>\n",
       "      <td>41.751240</td>\n",
       "      <td>21.541353</td>\n",
       "      <td>865.796381</td>\n",
       "      <td>21.162625</td>\n",
       "    </tr>\n",
       "    <tr>\n",
       "      <th>-2.05071</th>\n",
       "      <td>1.0</td>\n",
       "      <td>1.0</td>\n",
       "      <td>0.017014</td>\n",
       "      <td>149.166667</td>\n",
       "      <td>173.759593</td>\n",
       "      <td>0.086329</td>\n",
       "      <td>0.0</td>\n",
       "      <td>42.354586</td>\n",
       "      <td>21.914667</td>\n",
       "      <td>928.250403</td>\n",
       "      <td>21.730561</td>\n",
       "    </tr>\n",
       "    <tr>\n",
       "      <th>-1.99103</th>\n",
       "      <td>1.0</td>\n",
       "      <td>1.0</td>\n",
       "      <td>0.028840</td>\n",
       "      <td>187.066667</td>\n",
       "      <td>174.305616</td>\n",
       "      <td>0.083690</td>\n",
       "      <td>0.0</td>\n",
       "      <td>-5.841301</td>\n",
       "      <td>20.808387</td>\n",
       "      <td>889.984029</td>\n",
       "      <td>6.859207</td>\n",
       "    </tr>\n",
       "  </tbody>\n",
       "</table>\n",
       "</div>"
      ],
      "text/plain": [
       "           map_id  success_rate  time_avg  num_nodes_avg  path_length_avg  \\\n",
       "alg_name                                                                    \n",
       "-11.12807     1.0           1.0  0.018303     169.066667       178.872845   \n",
       "-7.23208      1.0           1.0  0.018391     156.566667       176.656912   \n",
       "-7.12118      1.0           1.0  0.013510     138.500000       179.551406   \n",
       "-6.46310      1.0           1.0  0.014693     145.800000       176.450449   \n",
       "-6.37314      1.0           1.0  0.019352     150.966667       171.525618   \n",
       "-5.84788      1.0           1.0  0.015984     148.466667       176.679617   \n",
       "-5.82745      1.0           1.0  0.022862     165.466667       174.330491   \n",
       "-5.68873      1.0           1.0  0.012547     133.033333       177.038015   \n",
       "-4.59249      1.0           1.0  0.010779     139.466667       176.483368   \n",
       "-4.01111      1.0           1.0  0.015382     137.066667       174.606088   \n",
       "-3.83430      1.0           1.0  0.015364     136.666667       171.351726   \n",
       "-3.32505      1.0           1.0  0.017397     147.733333       172.826838   \n",
       "-2.91188      1.0           1.0  0.015654     143.233333       171.636359   \n",
       "-2.73225      1.0           1.0  0.019179     151.366667       177.305213   \n",
       "-2.43652      1.0           1.0  0.019366     150.233333       174.126122   \n",
       "-2.05071      1.0           1.0  0.017014     149.166667       173.759593   \n",
       "-1.99103      1.0           1.0  0.028840     187.066667       174.305616   \n",
       "\n",
       "           smoothness_avg  success_improvement  time_improvement  \\\n",
       "alg_name                                                           \n",
       "-11.12807        0.071576                  0.0         34.829224   \n",
       "-7.23208         0.059395                  0.0         32.389912   \n",
       "-7.12118         0.067572                  0.0         54.465367   \n",
       "-6.46310         0.094685                  0.0         49.634587   \n",
       "-6.37314         0.090478                  0.0         34.949741   \n",
       "-5.84788         0.062509                  0.0         46.078840   \n",
       "-5.82745         0.080653                  0.0         26.763481   \n",
       "-5.68873         0.062646                  0.0         58.936059   \n",
       "-4.59249         0.070947                  0.0         65.627316   \n",
       "-4.01111         0.088553                  0.0         51.367898   \n",
       "-3.83430         0.086290                  0.0         53.076214   \n",
       "-3.32505         0.075204                  0.0         43.990836   \n",
       "-2.91188         0.087030                  0.0         49.683412   \n",
       "-2.73225         0.087418                  0.0         36.491130   \n",
       "-2.43652         0.085237                  0.0         41.751240   \n",
       "-2.05071         0.086329                  0.0         42.354586   \n",
       "-1.99103         0.083690                  0.0         -5.841301   \n",
       "\n",
       "           length_improvement  smoothness_improvement  objective_score  \n",
       "alg_name                                                                \n",
       "-11.12807           19.403655              678.612633        17.722561  \n",
       "-7.23208            20.114344              566.820400        16.573945  \n",
       "-7.12118            18.676265              658.132954        23.365528  \n",
       "-6.46310            20.636534             1004.309593        24.039231  \n",
       "-6.37314            22.690346              952.299593        19.784489  \n",
       "-5.84788            20.551825              619.580677        21.031921  \n",
       "-5.82745            21.396271              830.483970        16.460718  \n",
       "-5.68873            19.858323              572.394721        24.514456  \n",
       "-4.59249            20.466260              690.207176        27.232483  \n",
       "-4.01111            21.010688              934.278642        24.283900  \n",
       "-3.83430            22.818443              883.087968        24.901993  \n",
       "-3.32505            22.256090              736.238025        21.329659  \n",
       "-2.91188            22.738956              926.683922        24.086235  \n",
       "-2.73225            19.841437              876.484559        19.298049  \n",
       "-2.43652            21.541353              865.796381        21.162625  \n",
       "-2.05071            21.914667              928.250403        21.730561  \n",
       "-1.99103            20.808387              889.984029         6.859207  "
      ]
     },
     "execution_count": 71,
     "metadata": {},
     "output_type": "execute_result"
    }
   ],
   "source": [
    "grouped_avg = g_total_df.groupby('alg_name').mean()\n",
    "aaa = pd.DataFrame(grouped_avg)\n",
    "aaa"
   ]
  },
  {
   "cell_type": "code",
   "execution_count": 74,
   "id": "f5b6bbe7",
   "metadata": {},
   "outputs": [
    {
     "name": "stdout",
     "output_type": "stream",
     "text": [
      "Map 1\n",
      "Iteration 1: Time taken: 0.0053 seconds, Success: True\n",
      "Iteration 2: Time taken: 0.0097 seconds, Success: True\n",
      "Iteration 3: Time taken: 0.0050 seconds, Success: True\n",
      "Iteration 4: Time taken: 0.0116 seconds, Success: True\n",
      "Iteration 5: Time taken: 0.0000 seconds, Success: True\n",
      "Iteration 6: Time taken: 0.0168 seconds, Success: True\n",
      "Iteration 7: Time taken: 0.0060 seconds, Success: True\n",
      "Iteration 8: Time taken: 0.0040 seconds, Success: True\n",
      "Iteration 9: Time taken: 0.0070 seconds, Success: True\n",
      "Iteration 10: Time taken: 0.0090 seconds, Success: True\n",
      "Map 2\n",
      "Iteration 1: Time taken: 0.0181 seconds, Success: True\n",
      "Iteration 2: Time taken: 0.0275 seconds, Success: True\n",
      "Iteration 3: Time taken: 0.0171 seconds, Success: True\n",
      "Iteration 4: Time taken: 0.0162 seconds, Success: True\n",
      "Iteration 5: Time taken: 0.0100 seconds, Success: True\n",
      "Iteration 6: Time taken: 0.0312 seconds, Success: True\n",
      "Iteration 7: Time taken: 0.0160 seconds, Success: True\n",
      "Iteration 8: Time taken: 0.0191 seconds, Success: True\n",
      "Iteration 9: Time taken: 0.0221 seconds, Success: True\n",
      "Iteration 10: Time taken: 0.0090 seconds, Success: True\n",
      "Map 3\n",
      "Iteration 1: Time taken: 0.0060 seconds, Success: True\n",
      "Iteration 2: Time taken: 0.0080 seconds, Success: True\n",
      "Iteration 3: Time taken: 0.0272 seconds, Success: True\n",
      "Iteration 4: Time taken: 0.0271 seconds, Success: True\n",
      "Iteration 5: Time taken: 0.0211 seconds, Success: True\n",
      "Iteration 6: Time taken: 0.0040 seconds, Success: True\n",
      "Iteration 7: Time taken: 0.0231 seconds, Success: True\n",
      "Iteration 8: Time taken: 0.0162 seconds, Success: True\n",
      "Iteration 9: Time taken: 0.0156 seconds, Success: True\n",
      "Iteration 10: Time taken: 0.0984 seconds, Success: True\n",
      "Total time taken for all maps: 0.5393 seconds\n",
      "Map 1\n",
      "Iteration 1: Time taken: 0.0100 seconds, Success: True\n",
      "Iteration 2: Time taken: 0.0230 seconds, Success: True\n",
      "Iteration 3: Time taken: 0.0091 seconds, Success: True\n",
      "Iteration 4: Time taken: 0.0080 seconds, Success: True\n",
      "Iteration 5: Time taken: 0.0070 seconds, Success: True\n",
      "Iteration 6: Time taken: 0.0171 seconds, Success: True\n",
      "Iteration 7: Time taken: 0.0105 seconds, Success: True\n",
      "Iteration 8: Time taken: 0.0110 seconds, Success: True\n",
      "Iteration 9: Time taken: 0.0050 seconds, Success: True\n",
      "Iteration 10: Time taken: 0.0071 seconds, Success: True\n",
      "Map 2\n",
      "Iteration 1: Time taken: 0.0412 seconds, Success: True\n",
      "Iteration 2: Time taken: 0.0122 seconds, Success: True\n",
      "Iteration 3: Time taken: 0.0239 seconds, Success: True\n",
      "Iteration 4: Time taken: 0.0161 seconds, Success: True\n",
      "Iteration 5: Time taken: 0.0261 seconds, Success: True\n",
      "Iteration 6: Time taken: 0.0456 seconds, Success: True\n",
      "Iteration 7: Time taken: 0.0133 seconds, Success: True\n",
      "Iteration 8: Time taken: 0.0205 seconds, Success: True\n",
      "Iteration 9: Time taken: 0.0316 seconds, Success: True\n",
      "Iteration 10: Time taken: 0.0230 seconds, Success: True\n",
      "Map 3\n",
      "Iteration 1: Time taken: 0.0361 seconds, Success: True\n",
      "Iteration 2: Time taken: 0.0100 seconds, Success: True\n",
      "Iteration 3: Time taken: 0.0627 seconds, Success: True\n",
      "Iteration 4: Time taken: 0.0261 seconds, Success: True\n",
      "Iteration 5: Time taken: 0.0050 seconds, Success: True\n",
      "Iteration 6: Time taken: 0.0112 seconds, Success: True\n",
      "Iteration 7: Time taken: 0.0100 seconds, Success: True\n",
      "Iteration 8: Time taken: 0.0500 seconds, Success: True\n",
      "Iteration 9: Time taken: 0.0363 seconds, Success: True\n",
      "Iteration 10: Time taken: 0.0371 seconds, Success: True\n",
      "Total time taken for all maps: 0.6698 seconds\n",
      "Map 1\n",
      "Iteration 1: Time taken: 0.0125 seconds, Success: True\n",
      "Iteration 2: Time taken: 0.0080 seconds, Success: True\n",
      "Iteration 3: Time taken: 0.0050 seconds, Success: True\n",
      "Iteration 4: Time taken: 0.0040 seconds, Success: True\n",
      "Iteration 5: Time taken: 0.0091 seconds, Success: True\n",
      "Iteration 6: Time taken: 0.0040 seconds, Success: True\n",
      "Iteration 7: Time taken: 0.0070 seconds, Success: True\n",
      "Iteration 8: Time taken: 0.0050 seconds, Success: True\n",
      "Iteration 9: Time taken: 0.0060 seconds, Success: True\n",
      "Iteration 10: Time taken: 0.0060 seconds, Success: True\n",
      "Map 2\n",
      "Iteration 1: Time taken: 0.0100 seconds, Success: True\n",
      "Iteration 2: Time taken: 0.0104 seconds, Success: True\n",
      "Iteration 3: Time taken: 0.0285 seconds, Success: True\n",
      "Iteration 4: Time taken: 0.0241 seconds, Success: True\n",
      "Iteration 5: Time taken: 0.0231 seconds, Success: True\n",
      "Iteration 6: Time taken: 0.0151 seconds, Success: True\n",
      "Iteration 7: Time taken: 0.0306 seconds, Success: True\n",
      "Iteration 8: Time taken: 0.0292 seconds, Success: True\n",
      "Iteration 9: Time taken: 0.0099 seconds, Success: True\n",
      "Iteration 10: Time taken: 0.0151 seconds, Success: True\n",
      "Map 3\n",
      "Iteration 1: Time taken: 0.0171 seconds, Success: True\n",
      "Iteration 2: Time taken: 0.0181 seconds, Success: True\n",
      "Iteration 3: Time taken: 0.0040 seconds, Success: True\n",
      "Iteration 4: Time taken: 0.0364 seconds, Success: True\n",
      "Iteration 5: Time taken: 0.0040 seconds, Success: True\n",
      "Iteration 6: Time taken: 0.0060 seconds, Success: True\n",
      "Iteration 7: Time taken: 0.0030 seconds, Success: True\n",
      "Iteration 8: Time taken: 0.0112 seconds, Success: True\n",
      "Iteration 9: Time taken: 0.0020 seconds, Success: True\n",
      "Iteration 10: Time taken: 0.0080 seconds, Success: True\n",
      "Total time taken for all maps: 0.4085 seconds\n",
      "Map 1\n",
      "Iteration 1: Time taken: 0.0100 seconds, Success: True\n",
      "Iteration 2: Time taken: 0.0211 seconds, Success: True\n",
      "Iteration 3: Time taken: 0.0110 seconds, Success: True\n",
      "Iteration 4: Time taken: 0.0161 seconds, Success: True\n",
      "Iteration 5: Time taken: 0.0080 seconds, Success: False\n",
      "Iteration 6: Time taken: 0.0111 seconds, Success: False\n",
      "Iteration 7: Time taken: 0.0135 seconds, Success: True\n",
      "Success Rate Limit\n",
      "Map 1\n",
      "Iteration 1: Time taken: 0.0160 seconds, Success: True\n",
      "Iteration 2: Time taken: 0.0162 seconds, Success: True\n",
      "Iteration 3: Time taken: 0.0200 seconds, Success: True\n",
      "Iteration 4: Time taken: 0.0120 seconds, Success: True\n",
      "Iteration 5: Time taken: 0.0210 seconds, Success: True\n",
      "Iteration 6: Time taken: 0.0189 seconds, Success: True\n",
      "Iteration 7: Time taken: 0.0230 seconds, Success: True\n",
      "Iteration 8: Time taken: 0.0180 seconds, Success: True\n",
      "Iteration 9: Time taken: 0.0190 seconds, Success: True\n",
      "Iteration 10: Time taken: 0.0120 seconds, Success: True\n",
      "Map 2\n",
      "Iteration 1: Time taken: 0.0211 seconds, Success: True\n",
      "Iteration 2: Time taken: 0.0220 seconds, Success: True\n",
      "Iteration 3: Time taken: 0.0230 seconds, Success: True\n",
      "Iteration 4: Time taken: 0.0170 seconds, Success: True\n",
      "Iteration 5: Time taken: 0.0230 seconds, Success: True\n",
      "Iteration 6: Time taken: 0.0163 seconds, Success: True\n",
      "Iteration 7: Time taken: 0.0330 seconds, Success: True\n",
      "Iteration 8: Time taken: 0.0360 seconds, Success: True\n",
      "Iteration 9: Time taken: 0.0175 seconds, Success: True\n",
      "Iteration 10: Time taken: 0.0260 seconds, Success: True\n",
      "Map 3\n",
      "Iteration 1: Time taken: 0.0132 seconds, Success: True\n",
      "Iteration 2: Time taken: 0.0070 seconds, Success: True\n",
      "Iteration 3: Time taken: 0.0172 seconds, Success: True\n",
      "Iteration 4: Time taken: 0.0130 seconds, Success: True\n",
      "Iteration 5: Time taken: 0.0100 seconds, Success: True\n",
      "Iteration 6: Time taken: 0.0135 seconds, Success: True\n",
      "Iteration 7: Time taken: 0.0121 seconds, Success: True\n",
      "Iteration 8: Time taken: 0.0090 seconds, Success: True\n",
      "Iteration 9: Time taken: 0.0211 seconds, Success: True\n",
      "Iteration 10: Time taken: 0.0472 seconds, Success: True\n",
      "Total time taken for all maps: 0.5892 seconds\n",
      "Map 1\n",
      "Iteration 1: Time taken: 0.0156 seconds, Success: True\n",
      "Iteration 2: Time taken: 0.0110 seconds, Success: True\n",
      "Iteration 3: Time taken: 0.0131 seconds, Success: True\n",
      "Iteration 4: Time taken: 0.0100 seconds, Success: True\n",
      "Iteration 5: Time taken: 0.0092 seconds, Success: True\n",
      "Iteration 6: Time taken: 0.0120 seconds, Success: True\n",
      "Iteration 7: Time taken: 0.0071 seconds, Success: True\n",
      "Iteration 8: Time taken: 0.0060 seconds, Success: True\n",
      "Iteration 9: Time taken: 0.0162 seconds, Success: True\n",
      "Iteration 10: Time taken: 0.0100 seconds, Success: True\n",
      "Map 2\n",
      "Iteration 1: Time taken: 0.0131 seconds, Success: True\n",
      "Iteration 2: Time taken: 0.0391 seconds, Success: True\n",
      "Iteration 3: Time taken: 0.0201 seconds, Success: True\n",
      "Iteration 4: Time taken: 0.0256 seconds, Success: True\n",
      "Iteration 5: Time taken: 0.0231 seconds, Success: True\n",
      "Iteration 6: Time taken: 0.0172 seconds, Success: True\n",
      "Iteration 7: Time taken: 0.0220 seconds, Success: True\n",
      "Iteration 8: Time taken: 0.0336 seconds, Success: True\n",
      "Iteration 9: Time taken: 0.0282 seconds, Success: True\n",
      "Iteration 10: Time taken: 0.0263 seconds, Success: True\n",
      "Map 3\n",
      "Iteration 1: Time taken: 0.1605 seconds, Success: True\n",
      "Iteration 2: Time taken: 0.0502 seconds, Success: True\n",
      "Iteration 3: Time taken: 0.0191 seconds, Success: True\n",
      "Iteration 4: Time taken: 0.0412 seconds, Success: True\n",
      "Iteration 5: Time taken: 0.0191 seconds, Success: True\n",
      "Iteration 6: Time taken: 0.0051 seconds, Success: True\n",
      "Iteration 7: Time taken: 0.0283 seconds, Success: True\n",
      "Iteration 8: Time taken: 0.0298 seconds, Success: True\n",
      "Iteration 9: Time taken: 0.0127 seconds, Success: True\n",
      "Iteration 10: Time taken: 0.1419 seconds, Success: True\n",
      "Total time taken for all maps: 0.8826 seconds\n",
      "Map 1\n",
      "Iteration 1: Time taken: 0.0080 seconds, Success: True\n",
      "Iteration 2: Time taken: 0.0076 seconds, Success: True\n",
      "Iteration 3: Time taken: 0.0081 seconds, Success: True\n",
      "Iteration 4: Time taken: 0.0080 seconds, Success: True\n",
      "Iteration 5: Time taken: 0.0151 seconds, Success: True\n",
      "Iteration 6: Time taken: 0.0060 seconds, Success: False\n",
      "Iteration 7: Time taken: 0.0080 seconds, Success: True\n",
      "Iteration 8: Time taken: 0.0081 seconds, Success: True\n",
      "Iteration 9: Time taken: 0.0120 seconds, Success: True\n",
      "Iteration 10: Time taken: 0.0062 seconds, Success: False\n",
      "Map 2\n",
      "Iteration 1: Time taken: 0.0050 seconds, Success: False\n",
      "Success Rate Limit\n",
      "Map 1\n",
      "Iteration 1: Time taken: 0.0166 seconds, Success: True\n",
      "Iteration 2: Time taken: 0.0140 seconds, Success: True\n",
      "Iteration 3: Time taken: 0.0171 seconds, Success: True\n",
      "Iteration 4: Time taken: 0.0110 seconds, Success: True\n",
      "Iteration 5: Time taken: 0.0221 seconds, Success: True\n",
      "Iteration 6: Time taken: 0.0201 seconds, Success: True\n",
      "Iteration 7: Time taken: 0.0102 seconds, Success: True\n",
      "Iteration 8: Time taken: 0.0120 seconds, Success: True\n",
      "Iteration 9: Time taken: 0.0105 seconds, Success: True\n",
      "Iteration 10: Time taken: 0.0110 seconds, Success: True\n",
      "Map 2\n",
      "Iteration 1: Time taken: 0.0182 seconds, Success: False\n",
      "Iteration 2: Time taken: 0.0171 seconds, Success: True\n",
      "Iteration 3: Time taken: 0.0211 seconds, Success: True\n",
      "Iteration 4: Time taken: 0.0170 seconds, Success: True\n",
      "Iteration 5: Time taken: 0.0162 seconds, Success: True\n",
      "Iteration 6: Time taken: 0.0171 seconds, Success: True\n",
      "Iteration 7: Time taken: 0.0317 seconds, Success: True\n",
      "Iteration 8: Time taken: 0.0212 seconds, Success: True\n",
      "Iteration 9: Time taken: 0.0221 seconds, Success: True\n",
      "Iteration 10: Time taken: 0.0242 seconds, Success: True\n",
      "Map 3\n",
      "Iteration 1: Time taken: 0.0321 seconds, Success: True\n",
      "Iteration 2: Time taken: 0.0226 seconds, Success: True\n",
      "Iteration 3: Time taken: 0.0080 seconds, Success: True\n",
      "Iteration 4: Time taken: 0.0070 seconds, Success: True\n",
      "Iteration 5: Time taken: 0.2832 seconds, Success: True\n",
      "Iteration 6: Time taken: 0.0090 seconds, Success: True\n",
      "Iteration 7: Time taken: 0.0090 seconds, Success: False\n",
      "Iteration 8: Time taken: 0.0212 seconds, Success: True\n",
      "Iteration 9: Time taken: 0.0253 seconds, Success: True\n",
      "Iteration 10: Time taken: 0.0110 seconds, Success: True\n",
      "Total time taken for all maps: 0.7956 seconds\n",
      "Map 1\n",
      "Iteration 1: Time taken: 0.0297 seconds, Success: True\n",
      "Iteration 2: Time taken: 0.0160 seconds, Success: True\n",
      "Iteration 3: Time taken: 0.0143 seconds, Success: True\n",
      "Iteration 4: Time taken: 0.0252 seconds, Success: True\n",
      "Iteration 5: Time taken: 0.0150 seconds, Success: True\n",
      "Iteration 6: Time taken: 0.0288 seconds, Success: True\n",
      "Iteration 7: Time taken: 0.0101 seconds, Success: True\n",
      "Iteration 8: Time taken: 0.0194 seconds, Success: True\n",
      "Iteration 9: Time taken: 0.0230 seconds, Success: True\n",
      "Iteration 10: Time taken: 0.0140 seconds, Success: True\n",
      "Map 2\n",
      "Iteration 1: Time taken: 0.0266 seconds, Success: True\n",
      "Iteration 2: Time taken: 0.0284 seconds, Success: True\n",
      "Iteration 3: Time taken: 0.0151 seconds, Success: True\n",
      "Iteration 4: Time taken: 0.0183 seconds, Success: True\n",
      "Iteration 5: Time taken: 0.0336 seconds, Success: True\n",
      "Iteration 6: Time taken: 0.0241 seconds, Success: True\n",
      "Iteration 7: Time taken: 0.0323 seconds, Success: True\n",
      "Iteration 8: Time taken: 0.0302 seconds, Success: True\n",
      "Iteration 9: Time taken: 0.0150 seconds, Success: True\n",
      "Iteration 10: Time taken: 0.0202 seconds, Success: True\n",
      "Map 3\n",
      "Iteration 1: Time taken: 0.0221 seconds, Success: True\n",
      "Iteration 2: Time taken: 0.0162 seconds, Success: True\n",
      "Iteration 3: Time taken: 0.0120 seconds, Success: True\n",
      "Iteration 4: Time taken: 0.0076 seconds, Success: True\n",
      "Iteration 5: Time taken: 0.0266 seconds, Success: True\n",
      "Iteration 6: Time taken: 0.3052 seconds, Success: True\n",
      "Iteration 7: Time taken: 0.0070 seconds, Success: True\n",
      "Iteration 8: Time taken: 0.0070 seconds, Success: True\n",
      "Iteration 9: Time taken: 0.0302 seconds, Success: True\n",
      "Iteration 10: Time taken: 0.0195 seconds, Success: True\n",
      "Total time taken for all maps: 0.9097 seconds\n",
      "Map 1\n",
      "Iteration 1: Time taken: 0.0130 seconds, Success: True\n",
      "Iteration 2: Time taken: 0.0122 seconds, Success: True\n",
      "Iteration 3: Time taken: 0.0100 seconds, Success: True\n",
      "Iteration 4: Time taken: 0.0100 seconds, Success: True\n",
      "Iteration 5: Time taken: 0.0140 seconds, Success: True\n",
      "Iteration 6: Time taken: 0.0081 seconds, Success: False\n",
      "Iteration 7: Time taken: 0.0160 seconds, Success: True\n",
      "Iteration 8: Time taken: 0.0175 seconds, Success: True\n",
      "Iteration 9: Time taken: 0.0196 seconds, Success: True\n",
      "Iteration 10: Time taken: 0.0339 seconds, Success: True\n",
      "Map 2\n",
      "Iteration 1: Time taken: 0.0202 seconds, Success: True\n",
      "Iteration 2: Time taken: 0.0180 seconds, Success: True\n",
      "Iteration 3: Time taken: 0.0235 seconds, Success: True\n",
      "Iteration 4: Time taken: 0.0172 seconds, Success: True\n",
      "Iteration 5: Time taken: 0.0202 seconds, Success: True\n",
      "Iteration 6: Time taken: 0.0335 seconds, Success: True\n",
      "Iteration 7: Time taken: 0.0190 seconds, Success: True\n",
      "Iteration 8: Time taken: 0.0210 seconds, Success: True\n",
      "Iteration 9: Time taken: 0.0180 seconds, Success: True\n",
      "Iteration 10: Time taken: 0.0290 seconds, Success: True\n",
      "Map 3\n",
      "Iteration 1: Time taken: 0.0155 seconds, Success: True\n",
      "Iteration 2: Time taken: 0.1930 seconds, Success: True\n",
      "Iteration 3: Time taken: 0.0110 seconds, Success: True\n",
      "Iteration 4: Time taken: 0.0120 seconds, Success: True\n",
      "Iteration 5: Time taken: 0.0071 seconds, Success: True\n",
      "Iteration 6: Time taken: 0.0310 seconds, Success: False\n",
      "Iteration 7: Time taken: 0.0244 seconds, Success: True\n",
      "Iteration 8: Time taken: 0.0163 seconds, Success: True\n",
      "Iteration 9: Time taken: 0.0292 seconds, Success: True\n",
      "Iteration 10: Time taken: 0.0340 seconds, Success: True\n",
      "Total time taken for all maps: 0.7586 seconds\n",
      "Map 1\n",
      "Iteration 1: Time taken: 0.0296 seconds, Success: True\n",
      "Iteration 2: Time taken: 0.0200 seconds, Success: True\n",
      "Iteration 3: Time taken: 0.0111 seconds, Success: True\n",
      "Iteration 4: Time taken: 0.0060 seconds, Success: True\n",
      "Iteration 5: Time taken: 0.0100 seconds, Success: True\n",
      "Iteration 6: Time taken: 0.0090 seconds, Success: True\n",
      "Iteration 7: Time taken: 0.0170 seconds, Success: True\n",
      "Iteration 8: Time taken: 0.0100 seconds, Success: True\n",
      "Iteration 9: Time taken: 0.0120 seconds, Success: True\n",
      "Iteration 10: Time taken: 0.0100 seconds, Success: True\n",
      "Map 2\n",
      "Iteration 1: Time taken: 0.0210 seconds, Success: True\n",
      "Iteration 2: Time taken: 0.0523 seconds, Success: True\n",
      "Iteration 3: Time taken: 0.0197 seconds, Success: True\n",
      "Iteration 4: Time taken: 0.0290 seconds, Success: True\n",
      "Iteration 5: Time taken: 0.0311 seconds, Success: True\n",
      "Iteration 6: Time taken: 0.0228 seconds, Success: True\n",
      "Iteration 7: Time taken: 0.0141 seconds, Success: True\n",
      "Iteration 8: Time taken: 0.0307 seconds, Success: True\n",
      "Iteration 9: Time taken: 0.0334 seconds, Success: True\n",
      "Iteration 10: Time taken: 0.0180 seconds, Success: True\n",
      "Map 3\n",
      "Iteration 1: Time taken: 0.0242 seconds, Success: True\n",
      "Iteration 2: Time taken: 0.0260 seconds, Success: True\n",
      "Iteration 3: Time taken: 0.0181 seconds, Success: True\n",
      "Iteration 4: Time taken: 0.0110 seconds, Success: True\n",
      "Iteration 5: Time taken: 0.0618 seconds, Success: True\n",
      "Iteration 6: Time taken: 0.0181 seconds, Success: True\n",
      "Iteration 7: Time taken: 0.0181 seconds, Success: True\n",
      "Iteration 8: Time taken: 0.0081 seconds, Success: True\n",
      "Iteration 9: Time taken: 0.0060 seconds, Success: True\n",
      "Iteration 10: Time taken: 0.0080 seconds, Success: True\n",
      "Total time taken for all maps: 0.6254 seconds\n",
      "Map 1\n",
      "Iteration 1: Time taken: 0.0180 seconds, Success: True\n",
      "Iteration 2: Time taken: 0.0092 seconds, Success: True\n",
      "Iteration 3: Time taken: 0.0191 seconds, Success: True\n",
      "Iteration 4: Time taken: 0.0117 seconds, Success: True\n",
      "Iteration 5: Time taken: 0.0110 seconds, Success: True\n",
      "Iteration 6: Time taken: 0.0140 seconds, Success: True\n",
      "Iteration 7: Time taken: 0.0106 seconds, Success: True\n",
      "Iteration 8: Time taken: 0.0120 seconds, Success: True\n",
      "Iteration 9: Time taken: 0.0232 seconds, Success: True\n",
      "Iteration 10: Time taken: 0.0143 seconds, Success: True\n",
      "Map 2\n",
      "Iteration 1: Time taken: 0.0345 seconds, Success: True\n",
      "Iteration 2: Time taken: 0.0204 seconds, Success: True\n",
      "Iteration 3: Time taken: 0.0271 seconds, Success: True\n",
      "Iteration 4: Time taken: 0.0201 seconds, Success: True\n",
      "Iteration 5: Time taken: 0.0221 seconds, Success: True\n",
      "Iteration 6: Time taken: 0.0346 seconds, Success: True\n",
      "Iteration 7: Time taken: 0.0484 seconds, Success: True\n",
      "Iteration 8: Time taken: 0.0231 seconds, Success: True\n",
      "Iteration 9: Time taken: 0.0236 seconds, Success: True\n",
      "Iteration 10: Time taken: 0.0211 seconds, Success: True\n",
      "Map 3\n",
      "Iteration 1: Time taken: 0.0392 seconds, Success: True\n",
      "Iteration 2: Time taken: 0.0091 seconds, Success: True\n",
      "Iteration 3: Time taken: 0.0110 seconds, Success: True\n",
      "Iteration 4: Time taken: 0.0147 seconds, Success: True\n",
      "Iteration 5: Time taken: 0.0160 seconds, Success: True\n",
      "Iteration 6: Time taken: 0.3664 seconds, Success: True\n",
      "Iteration 7: Time taken: 0.0373 seconds, Success: True\n",
      "Iteration 8: Time taken: 0.0741 seconds, Success: True\n",
      "Iteration 9: Time taken: 0.0195 seconds, Success: True\n",
      "Iteration 10: Time taken: 0.0121 seconds, Success: True\n",
      "Total time taken for all maps: 1.0330 seconds\n",
      "Map 1\n",
      "Iteration 1: Time taken: 0.0102 seconds, Success: True\n",
      "Iteration 2: Time taken: 0.0200 seconds, Success: True\n",
      "Iteration 3: Time taken: 0.0052 seconds, Success: True\n",
      "Iteration 4: Time taken: 0.0264 seconds, Success: True\n",
      "Iteration 5: Time taken: 0.0191 seconds, Success: True\n",
      "Iteration 6: Time taken: 0.0080 seconds, Success: False\n",
      "Iteration 7: Time taken: 0.0220 seconds, Success: True\n",
      "Iteration 8: Time taken: 0.0130 seconds, Success: True\n",
      "Iteration 9: Time taken: 0.0111 seconds, Success: True\n",
      "Iteration 10: Time taken: 0.0091 seconds, Success: True\n",
      "Map 2\n",
      "Iteration 1: Time taken: 0.0318 seconds, Success: True\n",
      "Iteration 2: Time taken: 0.0513 seconds, Success: True\n",
      "Iteration 3: Time taken: 0.0253 seconds, Success: True\n",
      "Iteration 4: Time taken: 0.0211 seconds, Success: True\n",
      "Iteration 5: Time taken: 0.0220 seconds, Success: True\n",
      "Iteration 6: Time taken: 0.0162 seconds, Success: True\n",
      "Iteration 7: Time taken: 0.0221 seconds, Success: True\n",
      "Iteration 8: Time taken: 0.0216 seconds, Success: True\n",
      "Iteration 9: Time taken: 0.0333 seconds, Success: True\n",
      "Iteration 10: Time taken: 0.0301 seconds, Success: True\n",
      "Map 3\n",
      "Iteration 1: Time taken: 0.0577 seconds, Success: True\n",
      "Iteration 2: Time taken: 0.0060 seconds, Success: True\n",
      "Iteration 3: Time taken: 0.0182 seconds, Success: True\n",
      "Iteration 4: Time taken: 0.0120 seconds, Success: True\n",
      "Iteration 5: Time taken: 0.0040 seconds, Success: True\n",
      "Iteration 6: Time taken: 0.0111 seconds, Success: True\n",
      "Iteration 7: Time taken: 0.0576 seconds, Success: False\n",
      "Iteration 8: Time taken: 0.0080 seconds, Success: True\n",
      "Iteration 9: Time taken: 0.0101 seconds, Success: True\n",
      "Iteration 10: Time taken: 0.0142 seconds, Success: True\n",
      "Total time taken for all maps: 0.6329 seconds\n",
      "Map 1\n",
      "Iteration 1: Time taken: 0.0186 seconds, Success: True\n",
      "Iteration 2: Time taken: 0.0282 seconds, Success: True\n",
      "Iteration 3: Time taken: 0.0241 seconds, Success: True\n",
      "Iteration 4: Time taken: 0.0351 seconds, Success: True\n",
      "Iteration 5: Time taken: 0.0206 seconds, Success: True\n",
      "Iteration 6: Time taken: 0.0232 seconds, Success: True\n",
      "Iteration 7: Time taken: 0.0151 seconds, Success: True\n",
      "Iteration 8: Time taken: 0.0247 seconds, Success: True\n",
      "Iteration 9: Time taken: 0.0180 seconds, Success: True\n",
      "Iteration 10: Time taken: 0.0362 seconds, Success: True\n",
      "Map 2\n",
      "Iteration 1: Time taken: 0.0282 seconds, Success: True\n",
      "Iteration 2: Time taken: 0.0311 seconds, Success: True\n",
      "Iteration 3: Time taken: 0.0296 seconds, Success: True\n",
      "Iteration 4: Time taken: 0.0392 seconds, Success: True\n",
      "Iteration 5: Time taken: 0.0221 seconds, Success: True\n",
      "Iteration 6: Time taken: 0.0336 seconds, Success: True\n",
      "Iteration 7: Time taken: 0.0312 seconds, Success: True\n",
      "Iteration 8: Time taken: 0.0332 seconds, Success: True\n",
      "Iteration 9: Time taken: 0.0176 seconds, Success: True\n",
      "Iteration 10: Time taken: 0.0349 seconds, Success: True\n",
      "Map 3\n",
      "Iteration 1: Time taken: 0.0613 seconds, Success: True\n",
      "Iteration 2: Time taken: 0.0075 seconds, Success: True\n",
      "Iteration 3: Time taken: 0.0473 seconds, Success: True\n",
      "Iteration 4: Time taken: 0.0110 seconds, Success: False\n",
      "Iteration 5: Time taken: 0.0100 seconds, Success: True\n",
      "Iteration 6: Time taken: 0.0141 seconds, Success: True\n",
      "Iteration 7: Time taken: 0.0263 seconds, Success: True\n",
      "Iteration 8: Time taken: 0.0821 seconds, Success: True\n",
      "Iteration 9: Time taken: 0.0306 seconds, Success: True\n",
      "Iteration 10: Time taken: 0.0644 seconds, Success: True\n",
      "Total time taken for all maps: 0.9110 seconds\n",
      "Map 1\n",
      "Iteration 1: Time taken: 0.0347 seconds, Success: True\n",
      "Iteration 2: Time taken: 0.0070 seconds, Success: True\n",
      "Iteration 3: Time taken: 0.0080 seconds, Success: True\n",
      "Iteration 4: Time taken: 0.0060 seconds, Success: True\n",
      "Iteration 5: Time taken: 0.0120 seconds, Success: True\n",
      "Iteration 6: Time taken: 0.0131 seconds, Success: True\n",
      "Iteration 7: Time taken: 0.0130 seconds, Success: True\n",
      "Iteration 8: Time taken: 0.0231 seconds, Success: True\n",
      "Iteration 9: Time taken: 0.0081 seconds, Success: True\n",
      "Iteration 10: Time taken: 0.0110 seconds, Success: True\n",
      "Map 2\n",
      "Iteration 1: Time taken: 0.0201 seconds, Success: True\n",
      "Iteration 2: Time taken: 0.0251 seconds, Success: True\n",
      "Iteration 3: Time taken: 0.0246 seconds, Success: True\n",
      "Iteration 4: Time taken: 0.0302 seconds, Success: True\n",
      "Iteration 5: Time taken: 0.0678 seconds, Success: True\n",
      "Iteration 6: Time taken: 0.0211 seconds, Success: True\n",
      "Iteration 7: Time taken: 0.0260 seconds, Success: True\n",
      "Iteration 8: Time taken: 0.0221 seconds, Success: True\n",
      "Iteration 9: Time taken: 0.0296 seconds, Success: True\n",
      "Iteration 10: Time taken: 0.0257 seconds, Success: True\n",
      "Map 3\n",
      "Iteration 1: Time taken: 0.0167 seconds, Success: True\n",
      "Iteration 2: Time taken: 0.0795 seconds, Success: True\n",
      "Iteration 3: Time taken: 0.0322 seconds, Success: True\n",
      "Iteration 4: Time taken: 0.2172 seconds, Success: True\n",
      "Iteration 5: Time taken: 0.0206 seconds, Success: True\n",
      "Iteration 6: Time taken: 0.0070 seconds, Success: True\n",
      "Iteration 7: Time taken: 0.0051 seconds, Success: True\n",
      "Iteration 8: Time taken: 0.0050 seconds, Success: True\n",
      "Iteration 9: Time taken: 0.0581 seconds, Success: True\n",
      "Iteration 10: Time taken: 0.0050 seconds, Success: True\n",
      "Total time taken for all maps: 0.8992 seconds\n",
      "Map 1\n",
      "Iteration 1: Time taken: 0.0210 seconds, Success: True\n",
      "Iteration 2: Time taken: 0.0321 seconds, Success: True\n",
      "Iteration 3: Time taken: 0.0341 seconds, Success: True\n",
      "Iteration 4: Time taken: 0.0236 seconds, Success: True\n",
      "Iteration 5: Time taken: 0.0191 seconds, Success: True\n",
      "Iteration 6: Time taken: 0.0221 seconds, Success: True\n",
      "Iteration 7: Time taken: 0.0295 seconds, Success: True\n",
      "Iteration 8: Time taken: 0.0221 seconds, Success: True\n",
      "Iteration 9: Time taken: 0.0262 seconds, Success: True\n",
      "Iteration 10: Time taken: 0.0374 seconds, Success: True\n",
      "Map 2\n",
      "Iteration 1: Time taken: 0.0287 seconds, Success: True\n",
      "Iteration 2: Time taken: 0.0241 seconds, Success: True\n",
      "Iteration 3: Time taken: 0.0261 seconds, Success: True\n",
      "Iteration 4: Time taken: 0.0421 seconds, Success: True\n",
      "Iteration 5: Time taken: 0.0260 seconds, Success: True\n",
      "Iteration 6: Time taken: 0.0273 seconds, Success: True\n",
      "Iteration 7: Time taken: 0.0272 seconds, Success: True\n",
      "Iteration 8: Time taken: 0.0278 seconds, Success: True\n",
      "Iteration 9: Time taken: 0.0210 seconds, Success: True\n",
      "Iteration 10: Time taken: 0.0210 seconds, Success: True\n",
      "Map 3\n",
      "Iteration 1: Time taken: 0.0225 seconds, Success: True\n",
      "Iteration 2: Time taken: 0.0200 seconds, Success: True\n",
      "Iteration 3: Time taken: 0.0105 seconds, Success: True\n",
      "Iteration 4: Time taken: 0.0110 seconds, Success: True\n",
      "Iteration 5: Time taken: 0.0606 seconds, Success: True\n",
      "Iteration 6: Time taken: 0.0176 seconds, Success: True\n",
      "Iteration 7: Time taken: 0.0343 seconds, Success: True\n",
      "Iteration 8: Time taken: 0.0090 seconds, Success: True\n",
      "Iteration 9: Time taken: 0.0409 seconds, Success: True\n",
      "Iteration 10: Time taken: 0.0110 seconds, Success: True\n",
      "Total time taken for all maps: 0.7945 seconds\n",
      "Map 1\n",
      "Iteration 1: Time taken: 0.0190 seconds, Success: True\n",
      "Iteration 2: Time taken: 0.0256 seconds, Success: True\n",
      "Iteration 3: Time taken: 0.0342 seconds, Success: True\n",
      "Iteration 4: Time taken: 0.0291 seconds, Success: True\n",
      "Iteration 5: Time taken: 0.0182 seconds, Success: True\n",
      "Iteration 6: Time taken: 0.0361 seconds, Success: True\n",
      "Iteration 7: Time taken: 0.0190 seconds, Success: True\n",
      "Iteration 8: Time taken: 0.0135 seconds, Success: True\n",
      "Iteration 9: Time taken: 0.0232 seconds, Success: True\n",
      "Iteration 10: Time taken: 0.0203 seconds, Success: True\n",
      "Map 2\n",
      "Iteration 1: Time taken: 0.0213 seconds, Success: True\n",
      "Iteration 2: Time taken: 0.0318 seconds, Success: True\n",
      "Iteration 3: Time taken: 0.0334 seconds, Success: True\n",
      "Iteration 4: Time taken: 0.0313 seconds, Success: True\n",
      "Iteration 5: Time taken: 0.0214 seconds, Success: True\n",
      "Iteration 6: Time taken: 0.0266 seconds, Success: True\n",
      "Iteration 7: Time taken: 0.0211 seconds, Success: True\n",
      "Iteration 8: Time taken: 0.0331 seconds, Success: True\n",
      "Iteration 9: Time taken: 0.0202 seconds, Success: True\n",
      "Iteration 10: Time taken: 0.0278 seconds, Success: True\n",
      "Map 3\n",
      "Iteration 1: Time taken: 0.0082 seconds, Success: True\n",
      "Iteration 2: Time taken: 0.0271 seconds, Success: True\n",
      "Iteration 3: Time taken: 0.0228 seconds, Success: True\n",
      "Iteration 4: Time taken: 0.0110 seconds, Success: True\n",
      "Iteration 5: Time taken: 0.0799 seconds, Success: True\n",
      "Iteration 6: Time taken: 0.0072 seconds, Success: True\n",
      "Iteration 7: Time taken: 0.0080 seconds, Success: True\n",
      "Iteration 8: Time taken: 0.0821 seconds, Success: True\n",
      "Iteration 9: Time taken: 0.0100 seconds, Success: True\n",
      "Iteration 10: Time taken: 0.0100 seconds, Success: True\n",
      "Total time taken for all maps: 0.7895 seconds\n"
     ]
    }
   ],
   "source": [
    "pop_path = \"./path_planning/exp_result/basic_eoh_from_ma.json\"\n",
    "\n",
    "with open(pop_path, \"r\") as f:\n",
    "    data = json.load(f)\n",
    "    filtered_sorted_algorithms = sorted(\n",
    "    [alg for alg in data if alg.get('operator') != 'initial'],\n",
    "    key=lambda x: x.get('objective', float('inf'))\n",
    "    )\n",
    "\n",
    "len(filtered_sorted_algorithms)\n",
    "\n",
    "# ref_avg 앞에서 선언됨\n",
    "maps = [multi_obs_map, maze_map, narrow_map]\n",
    "benchmarker = MultiMapBenchmarker(maps=maps, iter=10)\n",
    "\n",
    "g_total_df = pd.DataFrame()\n",
    "\n",
    "for method in filtered_sorted_algorithms:\n",
    "    code_string = method['code']\n",
    "    namedf = pd.DataFrame()\n",
    "    namedf['alg_name'] = [method['objective']]* len(maps)\n",
    "    with warnings.catch_warnings():\n",
    "        warnings.simplefilter(\"ignore\")\n",
    "        planning_module = types.ModuleType(\"planning_module\")\n",
    "        exec(import_string+code_string, planning_module.__dict__)\n",
    "        sys.modules[planning_module.__name__] = planning_module\n",
    "        try:\n",
    "            planner = planning_module.Planner(max_iter=5000, step_size=5.0)\n",
    "        except:\n",
    "            continue\n",
    "        res, avg_rest = benchmarker.run(planner.plan)\n",
    "\n",
    "        if avg_rest is None: continue\n",
    "        imp_res = MultiMapBenchmarker.get_improvement(ref_avg, avg_rest)\n",
    "\n",
    "        res_df = pd.concat([namedf, avg_rest, imp_res], axis=1)\n",
    "        g_total_df = pd.concat([g_total_df, res_df], axis=0)\n",
    "\n",
    "res3 = g_total_df"
   ]
  },
  {
   "cell_type": "code",
   "execution_count": 75,
   "id": "d6b93a4b",
   "metadata": {},
   "outputs": [
    {
     "data": {
      "text/html": [
       "<div>\n",
       "<style scoped>\n",
       "    .dataframe tbody tr th:only-of-type {\n",
       "        vertical-align: middle;\n",
       "    }\n",
       "\n",
       "    .dataframe tbody tr th {\n",
       "        vertical-align: top;\n",
       "    }\n",
       "\n",
       "    .dataframe thead th {\n",
       "        text-align: right;\n",
       "    }\n",
       "</style>\n",
       "<table border=\"1\" class=\"dataframe\">\n",
       "  <thead>\n",
       "    <tr style=\"text-align: right;\">\n",
       "      <th></th>\n",
       "      <th>map_id</th>\n",
       "      <th>success_rate</th>\n",
       "      <th>time_avg</th>\n",
       "      <th>num_nodes_avg</th>\n",
       "      <th>path_length_avg</th>\n",
       "      <th>smoothness_avg</th>\n",
       "      <th>success_improvement</th>\n",
       "      <th>time_improvement</th>\n",
       "      <th>length_improvement</th>\n",
       "      <th>smoothness_improvement</th>\n",
       "      <th>objective_score</th>\n",
       "    </tr>\n",
       "    <tr>\n",
       "      <th>alg_name</th>\n",
       "      <th></th>\n",
       "      <th></th>\n",
       "      <th></th>\n",
       "      <th></th>\n",
       "      <th></th>\n",
       "      <th></th>\n",
       "      <th></th>\n",
       "      <th></th>\n",
       "      <th></th>\n",
       "      <th></th>\n",
       "      <th></th>\n",
       "    </tr>\n",
       "  </thead>\n",
       "  <tbody>\n",
       "    <tr>\n",
       "      <th>-7.79662</th>\n",
       "      <td>1.0</td>\n",
       "      <td>1.000000</td>\n",
       "      <td>0.016916</td>\n",
       "      <td>372.466667</td>\n",
       "      <td>207.911936</td>\n",
       "      <td>0.011163</td>\n",
       "      <td>0.000000</td>\n",
       "      <td>43.130090</td>\n",
       "      <td>6.565959</td>\n",
       "      <td>16.864668</td>\n",
       "      <td>14.336542</td>\n",
       "    </tr>\n",
       "    <tr>\n",
       "      <th>-0.27647</th>\n",
       "      <td>1.0</td>\n",
       "      <td>1.000000</td>\n",
       "      <td>0.021533</td>\n",
       "      <td>440.866667</td>\n",
       "      <td>180.431247</td>\n",
       "      <td>0.023325</td>\n",
       "      <td>0.000000</td>\n",
       "      <td>27.792653</td>\n",
       "      <td>18.662739</td>\n",
       "      <td>147.802654</td>\n",
       "      <td>12.809357</td>\n",
       "    </tr>\n",
       "    <tr>\n",
       "      <th>1.22143</th>\n",
       "      <td>1.0</td>\n",
       "      <td>1.000000</td>\n",
       "      <td>0.012414</td>\n",
       "      <td>197.700000</td>\n",
       "      <td>217.688592</td>\n",
       "      <td>0.009913</td>\n",
       "      <td>0.000000</td>\n",
       "      <td>62.890905</td>\n",
       "      <td>1.955224</td>\n",
       "      <td>4.941186</td>\n",
       "      <td>19.283022</td>\n",
       "    </tr>\n",
       "    <tr>\n",
       "      <th>3.05605</th>\n",
       "      <td>1.0</td>\n",
       "      <td>1.000000</td>\n",
       "      <td>0.019141</td>\n",
       "      <td>216.200000</td>\n",
       "      <td>181.642363</td>\n",
       "      <td>0.082684</td>\n",
       "      <td>0.000000</td>\n",
       "      <td>27.905544</td>\n",
       "      <td>18.043358</td>\n",
       "      <td>812.835157</td>\n",
       "      <td>16.044511</td>\n",
       "    </tr>\n",
       "    <tr>\n",
       "      <th>4.24450</th>\n",
       "      <td>1.0</td>\n",
       "      <td>1.000000</td>\n",
       "      <td>0.028879</td>\n",
       "      <td>446.666667</td>\n",
       "      <td>180.252995</td>\n",
       "      <td>0.023186</td>\n",
       "      <td>0.000000</td>\n",
       "      <td>-2.284688</td>\n",
       "      <td>19.346696</td>\n",
       "      <td>143.653407</td>\n",
       "      <td>3.902200</td>\n",
       "    </tr>\n",
       "    <tr>\n",
       "      <th>9.25217</th>\n",
       "      <td>1.0</td>\n",
       "      <td>0.933333</td>\n",
       "      <td>0.025954</td>\n",
       "      <td>221.866667</td>\n",
       "      <td>180.308711</td>\n",
       "      <td>0.056692</td>\n",
       "      <td>-6.666667</td>\n",
       "      <td>1.310411</td>\n",
       "      <td>18.151817</td>\n",
       "      <td>511.269416</td>\n",
       "      <td>-26.753500</td>\n",
       "    </tr>\n",
       "    <tr>\n",
       "      <th>9.62493</th>\n",
       "      <td>1.0</td>\n",
       "      <td>1.000000</td>\n",
       "      <td>0.029754</td>\n",
       "      <td>249.433333</td>\n",
       "      <td>185.084862</td>\n",
       "      <td>0.049623</td>\n",
       "      <td>0.000000</td>\n",
       "      <td>-15.643273</td>\n",
       "      <td>16.688765</td>\n",
       "      <td>459.755073</td>\n",
       "      <td>0.943546</td>\n",
       "    </tr>\n",
       "    <tr>\n",
       "      <th>10.51996</th>\n",
       "      <td>1.0</td>\n",
       "      <td>0.933333</td>\n",
       "      <td>0.024916</td>\n",
       "      <td>258.166667</td>\n",
       "      <td>178.027102</td>\n",
       "      <td>0.085520</td>\n",
       "      <td>-6.666667</td>\n",
       "      <td>5.769061</td>\n",
       "      <td>19.563216</td>\n",
       "      <td>863.267172</td>\n",
       "      <td>-23.373636</td>\n",
       "    </tr>\n",
       "    <tr>\n",
       "      <th>11.19606</th>\n",
       "      <td>1.0</td>\n",
       "      <td>1.000000</td>\n",
       "      <td>0.020213</td>\n",
       "      <td>212.333333</td>\n",
       "      <td>183.246561</td>\n",
       "      <td>0.048601</td>\n",
       "      <td>0.000000</td>\n",
       "      <td>31.941293</td>\n",
       "      <td>17.034059</td>\n",
       "      <td>430.378149</td>\n",
       "      <td>15.141090</td>\n",
       "    </tr>\n",
       "    <tr>\n",
       "      <th>13.19292</th>\n",
       "      <td>1.0</td>\n",
       "      <td>1.000000</td>\n",
       "      <td>0.033915</td>\n",
       "      <td>277.700000</td>\n",
       "      <td>178.274339</td>\n",
       "      <td>0.075607</td>\n",
       "      <td>0.000000</td>\n",
       "      <td>-23.300067</td>\n",
       "      <td>20.196252</td>\n",
       "      <td>779.716132</td>\n",
       "      <td>0.947811</td>\n",
       "    </tr>\n",
       "    <tr>\n",
       "      <th>13.86995</th>\n",
       "      <td>1.0</td>\n",
       "      <td>0.933333</td>\n",
       "      <td>0.020583</td>\n",
       "      <td>226.333333</td>\n",
       "      <td>182.595081</td>\n",
       "      <td>0.065894</td>\n",
       "      <td>-6.666667</td>\n",
       "      <td>29.692297</td>\n",
       "      <td>17.331978</td>\n",
       "      <td>625.485608</td>\n",
       "      <td>-17.831821</td>\n",
       "    </tr>\n",
       "    <tr>\n",
       "      <th>15.19604</th>\n",
       "      <td>1.0</td>\n",
       "      <td>0.966667</td>\n",
       "      <td>0.029966</td>\n",
       "      <td>253.066667</td>\n",
       "      <td>181.650387</td>\n",
       "      <td>0.081202</td>\n",
       "      <td>-3.333333</td>\n",
       "      <td>-16.092337</td>\n",
       "      <td>17.268716</td>\n",
       "      <td>844.109065</td>\n",
       "      <td>-13.820079</td>\n",
       "    </tr>\n",
       "    <tr>\n",
       "      <th>16.34412</th>\n",
       "      <td>1.0</td>\n",
       "      <td>1.000000</td>\n",
       "      <td>0.029156</td>\n",
       "      <td>422.200000</td>\n",
       "      <td>186.558039</td>\n",
       "      <td>0.021202</td>\n",
       "      <td>0.000000</td>\n",
       "      <td>-1.815738</td>\n",
       "      <td>15.759983</td>\n",
       "      <td>124.265965</td>\n",
       "      <td>3.228605</td>\n",
       "    </tr>\n",
       "    <tr>\n",
       "      <th>19.17882</th>\n",
       "      <td>1.0</td>\n",
       "      <td>1.000000</td>\n",
       "      <td>0.025860</td>\n",
       "      <td>233.400000</td>\n",
       "      <td>182.112421</td>\n",
       "      <td>0.062444</td>\n",
       "      <td>0.000000</td>\n",
       "      <td>-5.267402</td>\n",
       "      <td>17.539885</td>\n",
       "      <td>598.881076</td>\n",
       "      <td>4.922162</td>\n",
       "    </tr>\n",
       "    <tr>\n",
       "      <th>19.92914</th>\n",
       "      <td>1.0</td>\n",
       "      <td>1.000000</td>\n",
       "      <td>0.025747</td>\n",
       "      <td>217.200000</td>\n",
       "      <td>178.874323</td>\n",
       "      <td>0.087066</td>\n",
       "      <td>0.000000</td>\n",
       "      <td>-1.938133</td>\n",
       "      <td>19.374171</td>\n",
       "      <td>918.975960</td>\n",
       "      <td>7.888274</td>\n",
       "    </tr>\n",
       "  </tbody>\n",
       "</table>\n",
       "</div>"
      ],
      "text/plain": [
       "           map_id  success_rate  time_avg  num_nodes_avg  path_length_avg  \\\n",
       "alg_name                                                                    \n",
       "-7.79662      1.0      1.000000  0.016916     372.466667       207.911936   \n",
       "-0.27647      1.0      1.000000  0.021533     440.866667       180.431247   \n",
       " 1.22143      1.0      1.000000  0.012414     197.700000       217.688592   \n",
       " 3.05605      1.0      1.000000  0.019141     216.200000       181.642363   \n",
       " 4.24450      1.0      1.000000  0.028879     446.666667       180.252995   \n",
       " 9.25217      1.0      0.933333  0.025954     221.866667       180.308711   \n",
       " 9.62493      1.0      1.000000  0.029754     249.433333       185.084862   \n",
       " 10.51996     1.0      0.933333  0.024916     258.166667       178.027102   \n",
       " 11.19606     1.0      1.000000  0.020213     212.333333       183.246561   \n",
       " 13.19292     1.0      1.000000  0.033915     277.700000       178.274339   \n",
       " 13.86995     1.0      0.933333  0.020583     226.333333       182.595081   \n",
       " 15.19604     1.0      0.966667  0.029966     253.066667       181.650387   \n",
       " 16.34412     1.0      1.000000  0.029156     422.200000       186.558039   \n",
       " 19.17882     1.0      1.000000  0.025860     233.400000       182.112421   \n",
       " 19.92914     1.0      1.000000  0.025747     217.200000       178.874323   \n",
       "\n",
       "           smoothness_avg  success_improvement  time_improvement  \\\n",
       "alg_name                                                           \n",
       "-7.79662         0.011163             0.000000         43.130090   \n",
       "-0.27647         0.023325             0.000000         27.792653   \n",
       " 1.22143         0.009913             0.000000         62.890905   \n",
       " 3.05605         0.082684             0.000000         27.905544   \n",
       " 4.24450         0.023186             0.000000         -2.284688   \n",
       " 9.25217         0.056692            -6.666667          1.310411   \n",
       " 9.62493         0.049623             0.000000        -15.643273   \n",
       " 10.51996        0.085520            -6.666667          5.769061   \n",
       " 11.19606        0.048601             0.000000         31.941293   \n",
       " 13.19292        0.075607             0.000000        -23.300067   \n",
       " 13.86995        0.065894            -6.666667         29.692297   \n",
       " 15.19604        0.081202            -3.333333        -16.092337   \n",
       " 16.34412        0.021202             0.000000         -1.815738   \n",
       " 19.17882        0.062444             0.000000         -5.267402   \n",
       " 19.92914        0.087066             0.000000         -1.938133   \n",
       "\n",
       "           length_improvement  smoothness_improvement  objective_score  \n",
       "alg_name                                                                \n",
       "-7.79662             6.565959               16.864668        14.336542  \n",
       "-0.27647            18.662739              147.802654        12.809357  \n",
       " 1.22143             1.955224                4.941186        19.283022  \n",
       " 3.05605            18.043358              812.835157        16.044511  \n",
       " 4.24450            19.346696              143.653407         3.902200  \n",
       " 9.25217            18.151817              511.269416       -26.753500  \n",
       " 9.62493            16.688765              459.755073         0.943546  \n",
       " 10.51996           19.563216              863.267172       -23.373636  \n",
       " 11.19606           17.034059              430.378149        15.141090  \n",
       " 13.19292           20.196252              779.716132         0.947811  \n",
       " 13.86995           17.331978              625.485608       -17.831821  \n",
       " 15.19604           17.268716              844.109065       -13.820079  \n",
       " 16.34412           15.759983              124.265965         3.228605  \n",
       " 19.17882           17.539885              598.881076         4.922162  \n",
       " 19.92914           19.374171              918.975960         7.888274  "
      ]
     },
     "execution_count": 75,
     "metadata": {},
     "output_type": "execute_result"
    }
   ],
   "source": [
    "grouped_avg = g_total_df.groupby('alg_name').mean()\n",
    "aaaaa = pd.DataFrame(grouped_avg)\n",
    "aaaaa"
   ]
  },
  {
   "cell_type": "code",
   "execution_count": 76,
   "id": "005dd98b",
   "metadata": {},
   "outputs": [],
   "source": [
    "total_df['cls_try'] = 0\n",
    "res1['cls_try'] = 1\n",
    "res2['cls_try'] = 2\n",
    "res3['cls_try'] = 3"
   ]
  },
  {
   "cell_type": "code",
   "execution_count": 80,
   "id": "f2533708",
   "metadata": {},
   "outputs": [],
   "source": [
    "whole_df = pd.concat([total_df, res1, res2, res3], axis=0)"
   ]
  },
  {
   "cell_type": "code",
   "execution_count": 81,
   "id": "3b1a7544",
   "metadata": {},
   "outputs": [
    {
     "data": {
      "text/html": [
       "<div>\n",
       "<style scoped>\n",
       "    .dataframe tbody tr th:only-of-type {\n",
       "        vertical-align: middle;\n",
       "    }\n",
       "\n",
       "    .dataframe tbody tr th {\n",
       "        vertical-align: top;\n",
       "    }\n",
       "\n",
       "    .dataframe thead th {\n",
       "        text-align: right;\n",
       "    }\n",
       "</style>\n",
       "<table border=\"1\" class=\"dataframe\">\n",
       "  <thead>\n",
       "    <tr style=\"text-align: right;\">\n",
       "      <th></th>\n",
       "      <th>alg_name</th>\n",
       "      <th>map_id</th>\n",
       "      <th>success_rate</th>\n",
       "      <th>time_avg</th>\n",
       "      <th>num_nodes_avg</th>\n",
       "      <th>path_length_avg</th>\n",
       "      <th>smoothness_avg</th>\n",
       "      <th>success_improvement</th>\n",
       "      <th>time_improvement</th>\n",
       "      <th>length_improvement</th>\n",
       "      <th>smoothness_improvement</th>\n",
       "      <th>objective_score</th>\n",
       "      <th>cls_try</th>\n",
       "    </tr>\n",
       "  </thead>\n",
       "  <tbody>\n",
       "    <tr>\n",
       "      <th>0</th>\n",
       "      <td>RRT</td>\n",
       "      <td>0</td>\n",
       "      <td>1.0</td>\n",
       "      <td>0.013700</td>\n",
       "      <td>248.7</td>\n",
       "      <td>192.016007</td>\n",
       "      <td>0.010318</td>\n",
       "      <td>0.0</td>\n",
       "      <td>-0.000000</td>\n",
       "      <td>-0.000000</td>\n",
       "      <td>0.000000</td>\n",
       "      <td>0.000000</td>\n",
       "      <td>0</td>\n",
       "    </tr>\n",
       "    <tr>\n",
       "      <th>1</th>\n",
       "      <td>RRT</td>\n",
       "      <td>1</td>\n",
       "      <td>1.0</td>\n",
       "      <td>0.103390</td>\n",
       "      <td>1099.1</td>\n",
       "      <td>320.395966</td>\n",
       "      <td>0.006042</td>\n",
       "      <td>0.0</td>\n",
       "      <td>-0.000000</td>\n",
       "      <td>-0.000000</td>\n",
       "      <td>0.000000</td>\n",
       "      <td>0.000000</td>\n",
       "      <td>0</td>\n",
       "    </tr>\n",
       "    <tr>\n",
       "      <th>2</th>\n",
       "      <td>RRT</td>\n",
       "      <td>2</td>\n",
       "      <td>1.0</td>\n",
       "      <td>0.025095</td>\n",
       "      <td>499.6</td>\n",
       "      <td>160.435752</td>\n",
       "      <td>0.012195</td>\n",
       "      <td>0.0</td>\n",
       "      <td>-0.000000</td>\n",
       "      <td>-0.000000</td>\n",
       "      <td>0.000000</td>\n",
       "      <td>0.000000</td>\n",
       "      <td>0</td>\n",
       "    </tr>\n",
       "    <tr>\n",
       "      <th>0</th>\n",
       "      <td>RRT*</td>\n",
       "      <td>0</td>\n",
       "      <td>1.0</td>\n",
       "      <td>0.049098</td>\n",
       "      <td>356.4</td>\n",
       "      <td>171.250880</td>\n",
       "      <td>0.015460</td>\n",
       "      <td>0.0</td>\n",
       "      <td>-258.389647</td>\n",
       "      <td>10.814269</td>\n",
       "      <td>49.830198</td>\n",
       "      <td>-75.104889</td>\n",
       "      <td>0</td>\n",
       "    </tr>\n",
       "    <tr>\n",
       "      <th>1</th>\n",
       "      <td>RRT*</td>\n",
       "      <td>1</td>\n",
       "      <td>1.0</td>\n",
       "      <td>0.189759</td>\n",
       "      <td>1051.9</td>\n",
       "      <td>232.617256</td>\n",
       "      <td>0.011747</td>\n",
       "      <td>0.0</td>\n",
       "      <td>-83.536154</td>\n",
       "      <td>27.396946</td>\n",
       "      <td>94.428761</td>\n",
       "      <td>-19.109313</td>\n",
       "      <td>0</td>\n",
       "    </tr>\n",
       "    <tr>\n",
       "      <th>...</th>\n",
       "      <td>...</td>\n",
       "      <td>...</td>\n",
       "      <td>...</td>\n",
       "      <td>...</td>\n",
       "      <td>...</td>\n",
       "      <td>...</td>\n",
       "      <td>...</td>\n",
       "      <td>...</td>\n",
       "      <td>...</td>\n",
       "      <td>...</td>\n",
       "      <td>...</td>\n",
       "      <td>...</td>\n",
       "      <td>...</td>\n",
       "    </tr>\n",
       "    <tr>\n",
       "      <th>1</th>\n",
       "      <td>19.17882</td>\n",
       "      <td>1</td>\n",
       "      <td>1.0</td>\n",
       "      <td>0.027128</td>\n",
       "      <td>271.7</td>\n",
       "      <td>242.212269</td>\n",
       "      <td>0.062409</td>\n",
       "      <td>0.0</td>\n",
       "      <td>73.761284</td>\n",
       "      <td>24.402210</td>\n",
       "      <td>932.993629</td>\n",
       "      <td>31.673795</td>\n",
       "      <td>3</td>\n",
       "    </tr>\n",
       "    <tr>\n",
       "      <th>2</th>\n",
       "      <td>19.17882</td>\n",
       "      <td>2</td>\n",
       "      <td>1.0</td>\n",
       "      <td>0.023743</td>\n",
       "      <td>262.5</td>\n",
       "      <td>130.689620</td>\n",
       "      <td>0.098572</td>\n",
       "      <td>0.0</td>\n",
       "      <td>5.386972</td>\n",
       "      <td>18.540837</td>\n",
       "      <td>708.273523</td>\n",
       "      <td>8.865627</td>\n",
       "      <td>3</td>\n",
       "    </tr>\n",
       "    <tr>\n",
       "      <th>0</th>\n",
       "      <td>19.92914</td>\n",
       "      <td>0</td>\n",
       "      <td>1.0</td>\n",
       "      <td>0.023811</td>\n",
       "      <td>130.4</td>\n",
       "      <td>166.840053</td>\n",
       "      <td>0.028916</td>\n",
       "      <td>0.0</td>\n",
       "      <td>-73.809578</td>\n",
       "      <td>13.111383</td>\n",
       "      <td>180.244913</td>\n",
       "      <td>-18.619372</td>\n",
       "      <td>3</td>\n",
       "    </tr>\n",
       "    <tr>\n",
       "      <th>1</th>\n",
       "      <td>19.92914</td>\n",
       "      <td>1</td>\n",
       "      <td>1.0</td>\n",
       "      <td>0.026811</td>\n",
       "      <td>260.3</td>\n",
       "      <td>242.610803</td>\n",
       "      <td>0.104406</td>\n",
       "      <td>0.0</td>\n",
       "      <td>74.068098</td>\n",
       "      <td>24.277822</td>\n",
       "      <td>1628.120734</td>\n",
       "      <td>35.216598</td>\n",
       "      <td>3</td>\n",
       "    </tr>\n",
       "    <tr>\n",
       "      <th>2</th>\n",
       "      <td>19.92914</td>\n",
       "      <td>2</td>\n",
       "      <td>1.0</td>\n",
       "      <td>0.026619</td>\n",
       "      <td>260.9</td>\n",
       "      <td>127.172112</td>\n",
       "      <td>0.127876</td>\n",
       "      <td>0.0</td>\n",
       "      <td>-6.072919</td>\n",
       "      <td>20.733309</td>\n",
       "      <td>948.562232</td>\n",
       "      <td>7.067597</td>\n",
       "      <td>3</td>\n",
       "    </tr>\n",
       "  </tbody>\n",
       "</table>\n",
       "<p>177 rows × 13 columns</p>\n",
       "</div>"
      ],
      "text/plain": [
       "    alg_name  map_id  success_rate  time_avg  num_nodes_avg  path_length_avg  \\\n",
       "0        RRT       0           1.0  0.013700          248.7       192.016007   \n",
       "1        RRT       1           1.0  0.103390         1099.1       320.395966   \n",
       "2        RRT       2           1.0  0.025095          499.6       160.435752   \n",
       "0       RRT*       0           1.0  0.049098          356.4       171.250880   \n",
       "1       RRT*       1           1.0  0.189759         1051.9       232.617256   \n",
       "..       ...     ...           ...       ...            ...              ...   \n",
       "1   19.17882       1           1.0  0.027128          271.7       242.212269   \n",
       "2   19.17882       2           1.0  0.023743          262.5       130.689620   \n",
       "0   19.92914       0           1.0  0.023811          130.4       166.840053   \n",
       "1   19.92914       1           1.0  0.026811          260.3       242.610803   \n",
       "2   19.92914       2           1.0  0.026619          260.9       127.172112   \n",
       "\n",
       "    smoothness_avg  success_improvement  time_improvement  length_improvement  \\\n",
       "0         0.010318                  0.0         -0.000000           -0.000000   \n",
       "1         0.006042                  0.0         -0.000000           -0.000000   \n",
       "2         0.012195                  0.0         -0.000000           -0.000000   \n",
       "0         0.015460                  0.0       -258.389647           10.814269   \n",
       "1         0.011747                  0.0        -83.536154           27.396946   \n",
       "..             ...                  ...               ...                 ...   \n",
       "1         0.062409                  0.0         73.761284           24.402210   \n",
       "2         0.098572                  0.0          5.386972           18.540837   \n",
       "0         0.028916                  0.0        -73.809578           13.111383   \n",
       "1         0.104406                  0.0         74.068098           24.277822   \n",
       "2         0.127876                  0.0         -6.072919           20.733309   \n",
       "\n",
       "    smoothness_improvement  objective_score  cls_try  \n",
       "0                 0.000000         0.000000        0  \n",
       "1                 0.000000         0.000000        0  \n",
       "2                 0.000000         0.000000        0  \n",
       "0                49.830198       -75.104889        0  \n",
       "1                94.428761       -19.109313        0  \n",
       "..                     ...              ...      ...  \n",
       "1               932.993629        31.673795        3  \n",
       "2               708.273523         8.865627        3  \n",
       "0               180.244913       -18.619372        3  \n",
       "1              1628.120734        35.216598        3  \n",
       "2               948.562232         7.067597        3  \n",
       "\n",
       "[177 rows x 13 columns]"
      ]
     },
     "execution_count": 81,
     "metadata": {},
     "output_type": "execute_result"
    }
   ],
   "source": [
    "whole_df"
   ]
  },
  {
   "cell_type": "code",
   "execution_count": 85,
   "id": "357d64e5",
   "metadata": {},
   "outputs": [
    {
     "data": {
      "text/html": [
       "<div>\n",
       "<style scoped>\n",
       "    .dataframe tbody tr th:only-of-type {\n",
       "        vertical-align: middle;\n",
       "    }\n",
       "\n",
       "    .dataframe tbody tr th {\n",
       "        vertical-align: top;\n",
       "    }\n",
       "\n",
       "    .dataframe thead th {\n",
       "        text-align: right;\n",
       "    }\n",
       "</style>\n",
       "<table border=\"1\" class=\"dataframe\">\n",
       "  <thead>\n",
       "    <tr style=\"text-align: right;\">\n",
       "      <th></th>\n",
       "      <th>success_rate</th>\n",
       "      <th>time_avg</th>\n",
       "      <th>num_nodes_avg</th>\n",
       "      <th>path_length_avg</th>\n",
       "      <th>smoothness_avg</th>\n",
       "      <th>success_improvement</th>\n",
       "      <th>time_improvement</th>\n",
       "      <th>length_improvement</th>\n",
       "      <th>smoothness_improvement</th>\n",
       "      <th>objective_score</th>\n",
       "      <th>cls_try</th>\n",
       "    </tr>\n",
       "    <tr>\n",
       "      <th>alg_name</th>\n",
       "      <th></th>\n",
       "      <th></th>\n",
       "      <th></th>\n",
       "      <th></th>\n",
       "      <th></th>\n",
       "      <th></th>\n",
       "      <th></th>\n",
       "      <th></th>\n",
       "      <th></th>\n",
       "      <th></th>\n",
       "      <th></th>\n",
       "    </tr>\n",
       "  </thead>\n",
       "  <tbody>\n",
       "    <tr>\n",
       "      <th>BI-RRT</th>\n",
       "      <td>0.966667</td>\n",
       "      <td>0.004754</td>\n",
       "      <td>126.300000</td>\n",
       "      <td>209.299766</td>\n",
       "      <td>0.010204</td>\n",
       "      <td>-3.333333</td>\n",
       "      <td>85.050061</td>\n",
       "      <td>6.729690</td>\n",
       "      <td>7.088457</td>\n",
       "      <td>10.229732</td>\n",
       "      <td>0.0</td>\n",
       "    </tr>\n",
       "    <tr>\n",
       "      <th>-15.03871</th>\n",
       "      <td>1.000000</td>\n",
       "      <td>0.009052</td>\n",
       "      <td>159.100000</td>\n",
       "      <td>204.043208</td>\n",
       "      <td>0.011024</td>\n",
       "      <td>0.000000</td>\n",
       "      <td>72.948221</td>\n",
       "      <td>8.870378</td>\n",
       "      <td>15.308153</td>\n",
       "      <td>23.735083</td>\n",
       "      <td>1.0</td>\n",
       "    </tr>\n",
       "    <tr>\n",
       "      <th>-4.59249</th>\n",
       "      <td>1.000000</td>\n",
       "      <td>0.010779</td>\n",
       "      <td>139.466667</td>\n",
       "      <td>176.483368</td>\n",
       "      <td>0.070947</td>\n",
       "      <td>0.000000</td>\n",
       "      <td>65.627316</td>\n",
       "      <td>20.466260</td>\n",
       "      <td>690.207176</td>\n",
       "      <td>27.232483</td>\n",
       "      <td>2.0</td>\n",
       "    </tr>\n",
       "    <tr>\n",
       "      <th>-9.55661</th>\n",
       "      <td>1.000000</td>\n",
       "      <td>0.011040</td>\n",
       "      <td>169.000000</td>\n",
       "      <td>199.482939</td>\n",
       "      <td>0.013761</td>\n",
       "      <td>0.000000</td>\n",
       "      <td>64.761618</td>\n",
       "      <td>11.184416</td>\n",
       "      <td>41.146114</td>\n",
       "      <td>21.871099</td>\n",
       "      <td>1.0</td>\n",
       "    </tr>\n",
       "    <tr>\n",
       "      <th>1.22143</th>\n",
       "      <td>1.000000</td>\n",
       "      <td>0.012414</td>\n",
       "      <td>197.700000</td>\n",
       "      <td>217.688592</td>\n",
       "      <td>0.009913</td>\n",
       "      <td>0.000000</td>\n",
       "      <td>62.890905</td>\n",
       "      <td>1.955224</td>\n",
       "      <td>4.941186</td>\n",
       "      <td>19.283022</td>\n",
       "      <td>3.0</td>\n",
       "    </tr>\n",
       "    <tr>\n",
       "      <th>-10.57241</th>\n",
       "      <td>1.000000</td>\n",
       "      <td>0.011838</td>\n",
       "      <td>152.300000</td>\n",
       "      <td>175.668521</td>\n",
       "      <td>0.066166</td>\n",
       "      <td>0.000000</td>\n",
       "      <td>62.658653</td>\n",
       "      <td>21.235157</td>\n",
       "      <td>621.133706</td>\n",
       "      <td>26.150296</td>\n",
       "      <td>1.0</td>\n",
       "    </tr>\n",
       "    <tr>\n",
       "      <th>-8.86231</th>\n",
       "      <td>0.966667</td>\n",
       "      <td>0.014626</td>\n",
       "      <td>124.266667</td>\n",
       "      <td>209.325132</td>\n",
       "      <td>0.012041</td>\n",
       "      <td>-3.333333</td>\n",
       "      <td>58.999106</td>\n",
       "      <td>7.045306</td>\n",
       "      <td>24.201514</td>\n",
       "      <td>2.563134</td>\n",
       "      <td>1.0</td>\n",
       "    </tr>\n",
       "    <tr>\n",
       "      <th>BI-RRT*</th>\n",
       "      <td>0.933333</td>\n",
       "      <td>0.011727</td>\n",
       "      <td>142.266667</td>\n",
       "      <td>172.039175</td>\n",
       "      <td>0.028472</td>\n",
       "      <td>-6.666667</td>\n",
       "      <td>58.987337</td>\n",
       "      <td>21.824934</td>\n",
       "      <td>210.087100</td>\n",
       "      <td>-10.221710</td>\n",
       "      <td>0.0</td>\n",
       "    </tr>\n",
       "    <tr>\n",
       "      <th>-5.68873</th>\n",
       "      <td>1.000000</td>\n",
       "      <td>0.012547</td>\n",
       "      <td>133.033333</td>\n",
       "      <td>177.038015</td>\n",
       "      <td>0.062646</td>\n",
       "      <td>0.000000</td>\n",
       "      <td>58.936059</td>\n",
       "      <td>19.858323</td>\n",
       "      <td>572.394721</td>\n",
       "      <td>24.514456</td>\n",
       "      <td>2.0</td>\n",
       "    </tr>\n",
       "    <tr>\n",
       "      <th>-14.13591</th>\n",
       "      <td>1.000000</td>\n",
       "      <td>0.013947</td>\n",
       "      <td>187.833333</td>\n",
       "      <td>199.432910</td>\n",
       "      <td>0.014364</td>\n",
       "      <td>0.000000</td>\n",
       "      <td>58.853169</td>\n",
       "      <td>12.138289</td>\n",
       "      <td>46.285125</td>\n",
       "      <td>20.315034</td>\n",
       "      <td>1.0</td>\n",
       "    </tr>\n",
       "    <tr>\n",
       "      <th>-6.77813</th>\n",
       "      <td>1.000000</td>\n",
       "      <td>0.012743</td>\n",
       "      <td>185.233333</td>\n",
       "      <td>202.644616</td>\n",
       "      <td>0.011699</td>\n",
       "      <td>0.000000</td>\n",
       "      <td>58.760092</td>\n",
       "      <td>9.724240</td>\n",
       "      <td>22.082465</td>\n",
       "      <td>19.683288</td>\n",
       "      <td>1.0</td>\n",
       "    </tr>\n",
       "    <tr>\n",
       "      <th>-6.68311</th>\n",
       "      <td>0.833333</td>\n",
       "      <td>0.011876</td>\n",
       "      <td>184.466667</td>\n",
       "      <td>184.200102</td>\n",
       "      <td>0.017284</td>\n",
       "      <td>-16.666667</td>\n",
       "      <td>58.646407</td>\n",
       "      <td>18.174266</td>\n",
       "      <td>78.330829</td>\n",
       "      <td>-61.712904</td>\n",
       "      <td>1.0</td>\n",
       "    </tr>\n",
       "    <tr>\n",
       "      <th>-9.23875</th>\n",
       "      <td>1.000000</td>\n",
       "      <td>0.013940</td>\n",
       "      <td>196.033333</td>\n",
       "      <td>209.707866</td>\n",
       "      <td>0.010682</td>\n",
       "      <td>0.000000</td>\n",
       "      <td>58.470000</td>\n",
       "      <td>6.278594</td>\n",
       "      <td>11.965123</td>\n",
       "      <td>18.856544</td>\n",
       "      <td>1.0</td>\n",
       "    </tr>\n",
       "    <tr>\n",
       "      <th>RRT-Connect</th>\n",
       "      <td>1.000000</td>\n",
       "      <td>0.012351</td>\n",
       "      <td>175.300000</td>\n",
       "      <td>213.838372</td>\n",
       "      <td>0.011528</td>\n",
       "      <td>0.000000</td>\n",
       "      <td>57.991527</td>\n",
       "      <td>4.291755</td>\n",
       "      <td>20.627314</td>\n",
       "      <td>18.358946</td>\n",
       "      <td>0.0</td>\n",
       "    </tr>\n",
       "    <tr>\n",
       "      <th>-6.65759</th>\n",
       "      <td>1.000000</td>\n",
       "      <td>0.015536</td>\n",
       "      <td>162.166667</td>\n",
       "      <td>175.724389</td>\n",
       "      <td>0.060565</td>\n",
       "      <td>0.000000</td>\n",
       "      <td>57.171354</td>\n",
       "      <td>20.791716</td>\n",
       "      <td>570.482044</td>\n",
       "      <td>24.162160</td>\n",
       "      <td>1.0</td>\n",
       "    </tr>\n",
       "    <tr>\n",
       "      <th>-7.12118</th>\n",
       "      <td>1.000000</td>\n",
       "      <td>0.013510</td>\n",
       "      <td>138.500000</td>\n",
       "      <td>179.551406</td>\n",
       "      <td>0.067572</td>\n",
       "      <td>0.000000</td>\n",
       "      <td>54.465367</td>\n",
       "      <td>18.676265</td>\n",
       "      <td>658.132954</td>\n",
       "      <td>23.365528</td>\n",
       "      <td>2.0</td>\n",
       "    </tr>\n",
       "    <tr>\n",
       "      <th>-3.8343</th>\n",
       "      <td>1.000000</td>\n",
       "      <td>0.015364</td>\n",
       "      <td>136.666667</td>\n",
       "      <td>171.351726</td>\n",
       "      <td>0.086290</td>\n",
       "      <td>0.000000</td>\n",
       "      <td>53.076214</td>\n",
       "      <td>22.818443</td>\n",
       "      <td>883.087968</td>\n",
       "      <td>24.901993</td>\n",
       "      <td>2.0</td>\n",
       "    </tr>\n",
       "    <tr>\n",
       "      <th>-6.83895</th>\n",
       "      <td>1.000000</td>\n",
       "      <td>0.015945</td>\n",
       "      <td>123.766667</td>\n",
       "      <td>177.654032</td>\n",
       "      <td>0.061562</td>\n",
       "      <td>0.000000</td>\n",
       "      <td>52.208568</td>\n",
       "      <td>20.048644</td>\n",
       "      <td>595.964616</td>\n",
       "      <td>22.652122</td>\n",
       "      <td>1.0</td>\n",
       "    </tr>\n",
       "    <tr>\n",
       "      <th>-4.01111</th>\n",
       "      <td>1.000000</td>\n",
       "      <td>0.015382</td>\n",
       "      <td>137.066667</td>\n",
       "      <td>174.606088</td>\n",
       "      <td>0.088553</td>\n",
       "      <td>0.000000</td>\n",
       "      <td>51.367898</td>\n",
       "      <td>21.010688</td>\n",
       "      <td>934.278642</td>\n",
       "      <td>24.283900</td>\n",
       "      <td>2.0</td>\n",
       "    </tr>\n",
       "    <tr>\n",
       "      <th>-6.15402</th>\n",
       "      <td>1.000000</td>\n",
       "      <td>0.014886</td>\n",
       "      <td>170.133333</td>\n",
       "      <td>195.720966</td>\n",
       "      <td>0.012281</td>\n",
       "      <td>0.000000</td>\n",
       "      <td>50.173998</td>\n",
       "      <td>12.587984</td>\n",
       "      <td>28.336813</td>\n",
       "      <td>17.711480</td>\n",
       "      <td>1.0</td>\n",
       "    </tr>\n",
       "    <tr>\n",
       "      <th>-2.91188</th>\n",
       "      <td>1.000000</td>\n",
       "      <td>0.015654</td>\n",
       "      <td>143.233333</td>\n",
       "      <td>171.636359</td>\n",
       "      <td>0.087030</td>\n",
       "      <td>0.000000</td>\n",
       "      <td>49.683412</td>\n",
       "      <td>22.738956</td>\n",
       "      <td>926.683922</td>\n",
       "      <td>24.086235</td>\n",
       "      <td>2.0</td>\n",
       "    </tr>\n",
       "    <tr>\n",
       "      <th>-6.4631</th>\n",
       "      <td>1.000000</td>\n",
       "      <td>0.014693</td>\n",
       "      <td>145.800000</td>\n",
       "      <td>176.450449</td>\n",
       "      <td>0.094685</td>\n",
       "      <td>0.000000</td>\n",
       "      <td>49.634587</td>\n",
       "      <td>20.636534</td>\n",
       "      <td>1004.309593</td>\n",
       "      <td>24.039231</td>\n",
       "      <td>2.0</td>\n",
       "    </tr>\n",
       "    <tr>\n",
       "      <th>-5.84788</th>\n",
       "      <td>1.000000</td>\n",
       "      <td>0.015984</td>\n",
       "      <td>148.466667</td>\n",
       "      <td>176.679617</td>\n",
       "      <td>0.062509</td>\n",
       "      <td>0.000000</td>\n",
       "      <td>46.078840</td>\n",
       "      <td>20.551825</td>\n",
       "      <td>619.580677</td>\n",
       "      <td>21.031921</td>\n",
       "      <td>2.0</td>\n",
       "    </tr>\n",
       "    <tr>\n",
       "      <th>-8.93552</th>\n",
       "      <td>1.000000</td>\n",
       "      <td>0.017646</td>\n",
       "      <td>216.833333</td>\n",
       "      <td>199.990028</td>\n",
       "      <td>0.012890</td>\n",
       "      <td>0.000000</td>\n",
       "      <td>44.594773</td>\n",
       "      <td>10.872224</td>\n",
       "      <td>33.941516</td>\n",
       "      <td>15.722584</td>\n",
       "      <td>1.0</td>\n",
       "    </tr>\n",
       "    <tr>\n",
       "      <th>-3.32505</th>\n",
       "      <td>1.000000</td>\n",
       "      <td>0.017397</td>\n",
       "      <td>147.733333</td>\n",
       "      <td>172.826838</td>\n",
       "      <td>0.075204</td>\n",
       "      <td>0.000000</td>\n",
       "      <td>43.990836</td>\n",
       "      <td>22.256090</td>\n",
       "      <td>736.238025</td>\n",
       "      <td>21.329659</td>\n",
       "      <td>2.0</td>\n",
       "    </tr>\n",
       "    <tr>\n",
       "      <th>-11.35589</th>\n",
       "      <td>1.000000</td>\n",
       "      <td>0.018023</td>\n",
       "      <td>168.566667</td>\n",
       "      <td>200.654919</td>\n",
       "      <td>0.012071</td>\n",
       "      <td>0.000000</td>\n",
       "      <td>43.382323</td>\n",
       "      <td>10.256080</td>\n",
       "      <td>26.085827</td>\n",
       "      <td>15.196342</td>\n",
       "      <td>1.0</td>\n",
       "    </tr>\n",
       "    <tr>\n",
       "      <th>-7.79662</th>\n",
       "      <td>1.000000</td>\n",
       "      <td>0.016916</td>\n",
       "      <td>372.466667</td>\n",
       "      <td>207.911936</td>\n",
       "      <td>0.011163</td>\n",
       "      <td>0.000000</td>\n",
       "      <td>43.130090</td>\n",
       "      <td>6.565959</td>\n",
       "      <td>16.864668</td>\n",
       "      <td>14.336542</td>\n",
       "      <td>3.0</td>\n",
       "    </tr>\n",
       "    <tr>\n",
       "      <th>-2.05071</th>\n",
       "      <td>1.000000</td>\n",
       "      <td>0.017014</td>\n",
       "      <td>149.166667</td>\n",
       "      <td>173.759593</td>\n",
       "      <td>0.086329</td>\n",
       "      <td>0.000000</td>\n",
       "      <td>42.354586</td>\n",
       "      <td>21.914667</td>\n",
       "      <td>928.250403</td>\n",
       "      <td>21.730561</td>\n",
       "      <td>2.0</td>\n",
       "    </tr>\n",
       "    <tr>\n",
       "      <th>-2.43652</th>\n",
       "      <td>1.000000</td>\n",
       "      <td>0.019366</td>\n",
       "      <td>150.233333</td>\n",
       "      <td>174.126122</td>\n",
       "      <td>0.085237</td>\n",
       "      <td>0.000000</td>\n",
       "      <td>41.751240</td>\n",
       "      <td>21.541353</td>\n",
       "      <td>865.796381</td>\n",
       "      <td>21.162625</td>\n",
       "      <td>2.0</td>\n",
       "    </tr>\n",
       "    <tr>\n",
       "      <th>-7.55322</th>\n",
       "      <td>1.000000</td>\n",
       "      <td>0.019069</td>\n",
       "      <td>154.033333</td>\n",
       "      <td>180.891690</td>\n",
       "      <td>0.060086</td>\n",
       "      <td>0.000000</td>\n",
       "      <td>36.913078</td>\n",
       "      <td>18.307114</td>\n",
       "      <td>579.997863</td>\n",
       "      <td>17.635335</td>\n",
       "      <td>1.0</td>\n",
       "    </tr>\n",
       "    <tr>\n",
       "      <th>-2.73225</th>\n",
       "      <td>1.000000</td>\n",
       "      <td>0.019179</td>\n",
       "      <td>151.366667</td>\n",
       "      <td>177.305213</td>\n",
       "      <td>0.087418</td>\n",
       "      <td>0.000000</td>\n",
       "      <td>36.491130</td>\n",
       "      <td>19.841437</td>\n",
       "      <td>876.484559</td>\n",
       "      <td>19.298049</td>\n",
       "      <td>2.0</td>\n",
       "    </tr>\n",
       "    <tr>\n",
       "      <th>-6.37314</th>\n",
       "      <td>1.000000</td>\n",
       "      <td>0.019352</td>\n",
       "      <td>150.966667</td>\n",
       "      <td>171.525618</td>\n",
       "      <td>0.090478</td>\n",
       "      <td>0.000000</td>\n",
       "      <td>34.949741</td>\n",
       "      <td>22.690346</td>\n",
       "      <td>952.299593</td>\n",
       "      <td>19.784489</td>\n",
       "      <td>2.0</td>\n",
       "    </tr>\n",
       "    <tr>\n",
       "      <th>-11.12807</th>\n",
       "      <td>1.000000</td>\n",
       "      <td>0.018303</td>\n",
       "      <td>169.066667</td>\n",
       "      <td>178.872845</td>\n",
       "      <td>0.071576</td>\n",
       "      <td>0.000000</td>\n",
       "      <td>34.829224</td>\n",
       "      <td>19.403655</td>\n",
       "      <td>678.612633</td>\n",
       "      <td>17.722561</td>\n",
       "      <td>2.0</td>\n",
       "    </tr>\n",
       "    <tr>\n",
       "      <th>-7.23208</th>\n",
       "      <td>1.000000</td>\n",
       "      <td>0.018391</td>\n",
       "      <td>156.566667</td>\n",
       "      <td>176.656912</td>\n",
       "      <td>0.059395</td>\n",
       "      <td>0.000000</td>\n",
       "      <td>32.389912</td>\n",
       "      <td>20.114344</td>\n",
       "      <td>566.820400</td>\n",
       "      <td>16.573945</td>\n",
       "      <td>2.0</td>\n",
       "    </tr>\n",
       "    <tr>\n",
       "      <th>11.19606</th>\n",
       "      <td>1.000000</td>\n",
       "      <td>0.020213</td>\n",
       "      <td>212.333333</td>\n",
       "      <td>183.246561</td>\n",
       "      <td>0.048601</td>\n",
       "      <td>0.000000</td>\n",
       "      <td>31.941293</td>\n",
       "      <td>17.034059</td>\n",
       "      <td>430.378149</td>\n",
       "      <td>15.141090</td>\n",
       "      <td>3.0</td>\n",
       "    </tr>\n",
       "    <tr>\n",
       "      <th>-6.95653</th>\n",
       "      <td>1.000000</td>\n",
       "      <td>0.021287</td>\n",
       "      <td>151.300000</td>\n",
       "      <td>179.956320</td>\n",
       "      <td>0.088223</td>\n",
       "      <td>0.000000</td>\n",
       "      <td>30.378234</td>\n",
       "      <td>19.100056</td>\n",
       "      <td>930.181300</td>\n",
       "      <td>17.584388</td>\n",
       "      <td>1.0</td>\n",
       "    </tr>\n",
       "    <tr>\n",
       "      <th>13.86995</th>\n",
       "      <td>0.933333</td>\n",
       "      <td>0.020583</td>\n",
       "      <td>226.333333</td>\n",
       "      <td>182.595081</td>\n",
       "      <td>0.065894</td>\n",
       "      <td>-6.666667</td>\n",
       "      <td>29.692297</td>\n",
       "      <td>17.331978</td>\n",
       "      <td>625.485608</td>\n",
       "      <td>-17.831821</td>\n",
       "      <td>3.0</td>\n",
       "    </tr>\n",
       "    <tr>\n",
       "      <th>3.05605</th>\n",
       "      <td>1.000000</td>\n",
       "      <td>0.019141</td>\n",
       "      <td>216.200000</td>\n",
       "      <td>181.642363</td>\n",
       "      <td>0.082684</td>\n",
       "      <td>0.000000</td>\n",
       "      <td>27.905544</td>\n",
       "      <td>18.043358</td>\n",
       "      <td>812.835157</td>\n",
       "      <td>16.044511</td>\n",
       "      <td>3.0</td>\n",
       "    </tr>\n",
       "    <tr>\n",
       "      <th>-0.27647</th>\n",
       "      <td>1.000000</td>\n",
       "      <td>0.021533</td>\n",
       "      <td>440.866667</td>\n",
       "      <td>180.431247</td>\n",
       "      <td>0.023325</td>\n",
       "      <td>0.000000</td>\n",
       "      <td>27.792653</td>\n",
       "      <td>18.662739</td>\n",
       "      <td>147.802654</td>\n",
       "      <td>12.809357</td>\n",
       "      <td>3.0</td>\n",
       "    </tr>\n",
       "    <tr>\n",
       "      <th>-5.82745</th>\n",
       "      <td>1.000000</td>\n",
       "      <td>0.022862</td>\n",
       "      <td>165.466667</td>\n",
       "      <td>174.330491</td>\n",
       "      <td>0.080653</td>\n",
       "      <td>0.000000</td>\n",
       "      <td>26.763481</td>\n",
       "      <td>21.396271</td>\n",
       "      <td>830.483970</td>\n",
       "      <td>16.460718</td>\n",
       "      <td>2.0</td>\n",
       "    </tr>\n",
       "    <tr>\n",
       "      <th>RRT*-Connect</th>\n",
       "      <td>1.000000</td>\n",
       "      <td>0.020685</td>\n",
       "      <td>237.533333</td>\n",
       "      <td>192.077747</td>\n",
       "      <td>0.015952</td>\n",
       "      <td>0.000000</td>\n",
       "      <td>24.975436</td>\n",
       "      <td>13.745243</td>\n",
       "      <td>68.834073</td>\n",
       "      <td>10.585850</td>\n",
       "      <td>0.0</td>\n",
       "    </tr>\n",
       "    <tr>\n",
       "      <th>-6.3318</th>\n",
       "      <td>1.000000</td>\n",
       "      <td>0.021987</td>\n",
       "      <td>211.333333</td>\n",
       "      <td>173.243833</td>\n",
       "      <td>0.102267</td>\n",
       "      <td>0.000000</td>\n",
       "      <td>22.037459</td>\n",
       "      <td>21.851153</td>\n",
       "      <td>1133.445708</td>\n",
       "      <td>16.648697</td>\n",
       "      <td>1.0</td>\n",
       "    </tr>\n",
       "    <tr>\n",
       "      <th>-6.65571</th>\n",
       "      <td>1.000000</td>\n",
       "      <td>0.025533</td>\n",
       "      <td>375.366667</td>\n",
       "      <td>178.916452</td>\n",
       "      <td>0.050363</td>\n",
       "      <td>0.000000</td>\n",
       "      <td>17.289949</td>\n",
       "      <td>19.329296</td>\n",
       "      <td>483.126823</td>\n",
       "      <td>11.468478</td>\n",
       "      <td>1.0</td>\n",
       "    </tr>\n",
       "    <tr>\n",
       "      <th>10.51996</th>\n",
       "      <td>0.933333</td>\n",
       "      <td>0.024916</td>\n",
       "      <td>258.166667</td>\n",
       "      <td>178.027102</td>\n",
       "      <td>0.085520</td>\n",
       "      <td>-6.666667</td>\n",
       "      <td>5.769061</td>\n",
       "      <td>19.563216</td>\n",
       "      <td>863.267172</td>\n",
       "      <td>-23.373636</td>\n",
       "      <td>3.0</td>\n",
       "    </tr>\n",
       "    <tr>\n",
       "      <th>-6.02303</th>\n",
       "      <td>1.000000</td>\n",
       "      <td>0.026969</td>\n",
       "      <td>180.200000</td>\n",
       "      <td>177.616638</td>\n",
       "      <td>0.058055</td>\n",
       "      <td>0.000000</td>\n",
       "      <td>5.635193</td>\n",
       "      <td>20.119507</td>\n",
       "      <td>559.664754</td>\n",
       "      <td>8.512783</td>\n",
       "      <td>1.0</td>\n",
       "    </tr>\n",
       "    <tr>\n",
       "      <th>9.25217</th>\n",
       "      <td>0.933333</td>\n",
       "      <td>0.025954</td>\n",
       "      <td>221.866667</td>\n",
       "      <td>180.308711</td>\n",
       "      <td>0.056692</td>\n",
       "      <td>-6.666667</td>\n",
       "      <td>1.310411</td>\n",
       "      <td>18.151817</td>\n",
       "      <td>511.269416</td>\n",
       "      <td>-26.753500</td>\n",
       "      <td>3.0</td>\n",
       "    </tr>\n",
       "    <tr>\n",
       "      <th>RRT</th>\n",
       "      <td>1.000000</td>\n",
       "      <td>0.047395</td>\n",
       "      <td>615.800000</td>\n",
       "      <td>224.282575</td>\n",
       "      <td>0.009518</td>\n",
       "      <td>0.000000</td>\n",
       "      <td>0.000000</td>\n",
       "      <td>0.000000</td>\n",
       "      <td>0.000000</td>\n",
       "      <td>0.000000</td>\n",
       "      <td>0.0</td>\n",
       "    </tr>\n",
       "    <tr>\n",
       "      <th>16.34412</th>\n",
       "      <td>1.000000</td>\n",
       "      <td>0.029156</td>\n",
       "      <td>422.200000</td>\n",
       "      <td>186.558039</td>\n",
       "      <td>0.021202</td>\n",
       "      <td>0.000000</td>\n",
       "      <td>-1.815738</td>\n",
       "      <td>15.759983</td>\n",
       "      <td>124.265965</td>\n",
       "      <td>3.228605</td>\n",
       "      <td>3.0</td>\n",
       "    </tr>\n",
       "    <tr>\n",
       "      <th>19.92914</th>\n",
       "      <td>1.000000</td>\n",
       "      <td>0.025747</td>\n",
       "      <td>217.200000</td>\n",
       "      <td>178.874323</td>\n",
       "      <td>0.087066</td>\n",
       "      <td>0.000000</td>\n",
       "      <td>-1.938133</td>\n",
       "      <td>19.374171</td>\n",
       "      <td>918.975960</td>\n",
       "      <td>7.888274</td>\n",
       "      <td>3.0</td>\n",
       "    </tr>\n",
       "    <tr>\n",
       "      <th>4.2445</th>\n",
       "      <td>1.000000</td>\n",
       "      <td>0.028879</td>\n",
       "      <td>446.666667</td>\n",
       "      <td>180.252995</td>\n",
       "      <td>0.023186</td>\n",
       "      <td>0.000000</td>\n",
       "      <td>-2.284688</td>\n",
       "      <td>19.346696</td>\n",
       "      <td>143.653407</td>\n",
       "      <td>3.902200</td>\n",
       "      <td>3.0</td>\n",
       "    </tr>\n",
       "    <tr>\n",
       "      <th>19.17882</th>\n",
       "      <td>1.000000</td>\n",
       "      <td>0.025860</td>\n",
       "      <td>233.400000</td>\n",
       "      <td>182.112421</td>\n",
       "      <td>0.062444</td>\n",
       "      <td>0.000000</td>\n",
       "      <td>-5.267402</td>\n",
       "      <td>17.539885</td>\n",
       "      <td>598.881076</td>\n",
       "      <td>4.922162</td>\n",
       "      <td>3.0</td>\n",
       "    </tr>\n",
       "    <tr>\n",
       "      <th>-6.52887</th>\n",
       "      <td>1.000000</td>\n",
       "      <td>0.029564</td>\n",
       "      <td>141.433333</td>\n",
       "      <td>179.337965</td>\n",
       "      <td>0.069180</td>\n",
       "      <td>0.000000</td>\n",
       "      <td>-5.408404</td>\n",
       "      <td>19.383993</td>\n",
       "      <td>723.184828</td>\n",
       "      <td>5.870202</td>\n",
       "      <td>1.0</td>\n",
       "    </tr>\n",
       "    <tr>\n",
       "      <th>-1.99103</th>\n",
       "      <td>1.000000</td>\n",
       "      <td>0.028840</td>\n",
       "      <td>187.066667</td>\n",
       "      <td>174.305616</td>\n",
       "      <td>0.083690</td>\n",
       "      <td>0.000000</td>\n",
       "      <td>-5.841301</td>\n",
       "      <td>20.808387</td>\n",
       "      <td>889.984029</td>\n",
       "      <td>6.859207</td>\n",
       "      <td>2.0</td>\n",
       "    </tr>\n",
       "    <tr>\n",
       "      <th>9.62493</th>\n",
       "      <td>1.000000</td>\n",
       "      <td>0.029754</td>\n",
       "      <td>249.433333</td>\n",
       "      <td>185.084862</td>\n",
       "      <td>0.049623</td>\n",
       "      <td>0.000000</td>\n",
       "      <td>-15.643273</td>\n",
       "      <td>16.688765</td>\n",
       "      <td>459.755073</td>\n",
       "      <td>0.943546</td>\n",
       "      <td>3.0</td>\n",
       "    </tr>\n",
       "    <tr>\n",
       "      <th>15.19604</th>\n",
       "      <td>0.966667</td>\n",
       "      <td>0.029966</td>\n",
       "      <td>253.066667</td>\n",
       "      <td>181.650387</td>\n",
       "      <td>0.081202</td>\n",
       "      <td>-3.333333</td>\n",
       "      <td>-16.092337</td>\n",
       "      <td>17.268716</td>\n",
       "      <td>844.109065</td>\n",
       "      <td>-13.820079</td>\n",
       "      <td>3.0</td>\n",
       "    </tr>\n",
       "    <tr>\n",
       "      <th>13.19292</th>\n",
       "      <td>1.000000</td>\n",
       "      <td>0.033915</td>\n",
       "      <td>277.700000</td>\n",
       "      <td>178.274339</td>\n",
       "      <td>0.075607</td>\n",
       "      <td>0.000000</td>\n",
       "      <td>-23.300067</td>\n",
       "      <td>20.196252</td>\n",
       "      <td>779.716132</td>\n",
       "      <td>0.947811</td>\n",
       "      <td>3.0</td>\n",
       "    </tr>\n",
       "    <tr>\n",
       "      <th>RRT*</th>\n",
       "      <td>1.000000</td>\n",
       "      <td>0.109374</td>\n",
       "      <td>688.166667</td>\n",
       "      <td>174.648946</td>\n",
       "      <td>0.016593</td>\n",
       "      <td>0.000000</td>\n",
       "      <td>-199.212312</td>\n",
       "      <td>21.121954</td>\n",
       "      <td>76.453529</td>\n",
       "      <td>-55.157035</td>\n",
       "      <td>0.0</td>\n",
       "    </tr>\n",
       "    <tr>\n",
       "      <th>Improved-RRT*-Connect</th>\n",
       "      <td>1.000000</td>\n",
       "      <td>1.406349</td>\n",
       "      <td>2542.566667</td>\n",
       "      <td>167.148854</td>\n",
       "      <td>0.015866</td>\n",
       "      <td>0.000000</td>\n",
       "      <td>-5064.833096</td>\n",
       "      <td>25.009004</td>\n",
       "      <td>70.395008</td>\n",
       "      <td>-1514.096153</td>\n",
       "      <td>0.0</td>\n",
       "    </tr>\n",
       "    <tr>\n",
       "      <th>Informed-RRT*</th>\n",
       "      <td>1.000000</td>\n",
       "      <td>4.460279</td>\n",
       "      <td>3958.500000</td>\n",
       "      <td>156.745682</td>\n",
       "      <td>0.028156</td>\n",
       "      <td>0.000000</td>\n",
       "      <td>-18262.743829</td>\n",
       "      <td>29.642142</td>\n",
       "      <td>196.388301</td>\n",
       "      <td>-5471.912779</td>\n",
       "      <td>0.0</td>\n",
       "    </tr>\n",
       "  </tbody>\n",
       "</table>\n",
       "</div>"
      ],
      "text/plain": [
       "                        success_rate  time_avg  num_nodes_avg  \\\n",
       "alg_name                                                        \n",
       " BI-RRT                     0.966667  0.004754     126.300000   \n",
       "-15.03871                   1.000000  0.009052     159.100000   \n",
       "-4.59249                    1.000000  0.010779     139.466667   \n",
       "-9.55661                    1.000000  0.011040     169.000000   \n",
       " 1.22143                    1.000000  0.012414     197.700000   \n",
       "-10.57241                   1.000000  0.011838     152.300000   \n",
       "-8.86231                    0.966667  0.014626     124.266667   \n",
       " BI-RRT*                    0.933333  0.011727     142.266667   \n",
       "-5.68873                    1.000000  0.012547     133.033333   \n",
       "-14.13591                   1.000000  0.013947     187.833333   \n",
       "-6.77813                    1.000000  0.012743     185.233333   \n",
       "-6.68311                    0.833333  0.011876     184.466667   \n",
       "-9.23875                    1.000000  0.013940     196.033333   \n",
       " RRT-Connect                1.000000  0.012351     175.300000   \n",
       "-6.65759                    1.000000  0.015536     162.166667   \n",
       "-7.12118                    1.000000  0.013510     138.500000   \n",
       "-3.8343                     1.000000  0.015364     136.666667   \n",
       "-6.83895                    1.000000  0.015945     123.766667   \n",
       "-4.01111                    1.000000  0.015382     137.066667   \n",
       "-6.15402                    1.000000  0.014886     170.133333   \n",
       "-2.91188                    1.000000  0.015654     143.233333   \n",
       "-6.4631                     1.000000  0.014693     145.800000   \n",
       "-5.84788                    1.000000  0.015984     148.466667   \n",
       "-8.93552                    1.000000  0.017646     216.833333   \n",
       "-3.32505                    1.000000  0.017397     147.733333   \n",
       "-11.35589                   1.000000  0.018023     168.566667   \n",
       "-7.79662                    1.000000  0.016916     372.466667   \n",
       "-2.05071                    1.000000  0.017014     149.166667   \n",
       "-2.43652                    1.000000  0.019366     150.233333   \n",
       "-7.55322                    1.000000  0.019069     154.033333   \n",
       "-2.73225                    1.000000  0.019179     151.366667   \n",
       "-6.37314                    1.000000  0.019352     150.966667   \n",
       "-11.12807                   1.000000  0.018303     169.066667   \n",
       "-7.23208                    1.000000  0.018391     156.566667   \n",
       " 11.19606                   1.000000  0.020213     212.333333   \n",
       "-6.95653                    1.000000  0.021287     151.300000   \n",
       " 13.86995                   0.933333  0.020583     226.333333   \n",
       " 3.05605                    1.000000  0.019141     216.200000   \n",
       "-0.27647                    1.000000  0.021533     440.866667   \n",
       "-5.82745                    1.000000  0.022862     165.466667   \n",
       " RRT*-Connect               1.000000  0.020685     237.533333   \n",
       "-6.3318                     1.000000  0.021987     211.333333   \n",
       "-6.65571                    1.000000  0.025533     375.366667   \n",
       " 10.51996                   0.933333  0.024916     258.166667   \n",
       "-6.02303                    1.000000  0.026969     180.200000   \n",
       " 9.25217                    0.933333  0.025954     221.866667   \n",
       " RRT                        1.000000  0.047395     615.800000   \n",
       " 16.34412                   1.000000  0.029156     422.200000   \n",
       " 19.92914                   1.000000  0.025747     217.200000   \n",
       " 4.2445                     1.000000  0.028879     446.666667   \n",
       " 19.17882                   1.000000  0.025860     233.400000   \n",
       "-6.52887                    1.000000  0.029564     141.433333   \n",
       "-1.99103                    1.000000  0.028840     187.066667   \n",
       " 9.62493                    1.000000  0.029754     249.433333   \n",
       " 15.19604                   0.966667  0.029966     253.066667   \n",
       " 13.19292                   1.000000  0.033915     277.700000   \n",
       " RRT*                       1.000000  0.109374     688.166667   \n",
       " Improved-RRT*-Connect      1.000000  1.406349    2542.566667   \n",
       " Informed-RRT*              1.000000  4.460279    3958.500000   \n",
       "\n",
       "                        path_length_avg  smoothness_avg  success_improvement  \\\n",
       "alg_name                                                                       \n",
       " BI-RRT                      209.299766        0.010204            -3.333333   \n",
       "-15.03871                    204.043208        0.011024             0.000000   \n",
       "-4.59249                     176.483368        0.070947             0.000000   \n",
       "-9.55661                     199.482939        0.013761             0.000000   \n",
       " 1.22143                     217.688592        0.009913             0.000000   \n",
       "-10.57241                    175.668521        0.066166             0.000000   \n",
       "-8.86231                     209.325132        0.012041            -3.333333   \n",
       " BI-RRT*                     172.039175        0.028472            -6.666667   \n",
       "-5.68873                     177.038015        0.062646             0.000000   \n",
       "-14.13591                    199.432910        0.014364             0.000000   \n",
       "-6.77813                     202.644616        0.011699             0.000000   \n",
       "-6.68311                     184.200102        0.017284           -16.666667   \n",
       "-9.23875                     209.707866        0.010682             0.000000   \n",
       " RRT-Connect                 213.838372        0.011528             0.000000   \n",
       "-6.65759                     175.724389        0.060565             0.000000   \n",
       "-7.12118                     179.551406        0.067572             0.000000   \n",
       "-3.8343                      171.351726        0.086290             0.000000   \n",
       "-6.83895                     177.654032        0.061562             0.000000   \n",
       "-4.01111                     174.606088        0.088553             0.000000   \n",
       "-6.15402                     195.720966        0.012281             0.000000   \n",
       "-2.91188                     171.636359        0.087030             0.000000   \n",
       "-6.4631                      176.450449        0.094685             0.000000   \n",
       "-5.84788                     176.679617        0.062509             0.000000   \n",
       "-8.93552                     199.990028        0.012890             0.000000   \n",
       "-3.32505                     172.826838        0.075204             0.000000   \n",
       "-11.35589                    200.654919        0.012071             0.000000   \n",
       "-7.79662                     207.911936        0.011163             0.000000   \n",
       "-2.05071                     173.759593        0.086329             0.000000   \n",
       "-2.43652                     174.126122        0.085237             0.000000   \n",
       "-7.55322                     180.891690        0.060086             0.000000   \n",
       "-2.73225                     177.305213        0.087418             0.000000   \n",
       "-6.37314                     171.525618        0.090478             0.000000   \n",
       "-11.12807                    178.872845        0.071576             0.000000   \n",
       "-7.23208                     176.656912        0.059395             0.000000   \n",
       " 11.19606                    183.246561        0.048601             0.000000   \n",
       "-6.95653                     179.956320        0.088223             0.000000   \n",
       " 13.86995                    182.595081        0.065894            -6.666667   \n",
       " 3.05605                     181.642363        0.082684             0.000000   \n",
       "-0.27647                     180.431247        0.023325             0.000000   \n",
       "-5.82745                     174.330491        0.080653             0.000000   \n",
       " RRT*-Connect                192.077747        0.015952             0.000000   \n",
       "-6.3318                      173.243833        0.102267             0.000000   \n",
       "-6.65571                     178.916452        0.050363             0.000000   \n",
       " 10.51996                    178.027102        0.085520            -6.666667   \n",
       "-6.02303                     177.616638        0.058055             0.000000   \n",
       " 9.25217                     180.308711        0.056692            -6.666667   \n",
       " RRT                         224.282575        0.009518             0.000000   \n",
       " 16.34412                    186.558039        0.021202             0.000000   \n",
       " 19.92914                    178.874323        0.087066             0.000000   \n",
       " 4.2445                      180.252995        0.023186             0.000000   \n",
       " 19.17882                    182.112421        0.062444             0.000000   \n",
       "-6.52887                     179.337965        0.069180             0.000000   \n",
       "-1.99103                     174.305616        0.083690             0.000000   \n",
       " 9.62493                     185.084862        0.049623             0.000000   \n",
       " 15.19604                    181.650387        0.081202            -3.333333   \n",
       " 13.19292                    178.274339        0.075607             0.000000   \n",
       " RRT*                        174.648946        0.016593             0.000000   \n",
       " Improved-RRT*-Connect       167.148854        0.015866             0.000000   \n",
       " Informed-RRT*               156.745682        0.028156             0.000000   \n",
       "\n",
       "                        time_improvement  length_improvement  \\\n",
       "alg_name                                                       \n",
       " BI-RRT                        85.050061            6.729690   \n",
       "-15.03871                      72.948221            8.870378   \n",
       "-4.59249                       65.627316           20.466260   \n",
       "-9.55661                       64.761618           11.184416   \n",
       " 1.22143                       62.890905            1.955224   \n",
       "-10.57241                      62.658653           21.235157   \n",
       "-8.86231                       58.999106            7.045306   \n",
       " BI-RRT*                       58.987337           21.824934   \n",
       "-5.68873                       58.936059           19.858323   \n",
       "-14.13591                      58.853169           12.138289   \n",
       "-6.77813                       58.760092            9.724240   \n",
       "-6.68311                       58.646407           18.174266   \n",
       "-9.23875                       58.470000            6.278594   \n",
       " RRT-Connect                   57.991527            4.291755   \n",
       "-6.65759                       57.171354           20.791716   \n",
       "-7.12118                       54.465367           18.676265   \n",
       "-3.8343                        53.076214           22.818443   \n",
       "-6.83895                       52.208568           20.048644   \n",
       "-4.01111                       51.367898           21.010688   \n",
       "-6.15402                       50.173998           12.587984   \n",
       "-2.91188                       49.683412           22.738956   \n",
       "-6.4631                        49.634587           20.636534   \n",
       "-5.84788                       46.078840           20.551825   \n",
       "-8.93552                       44.594773           10.872224   \n",
       "-3.32505                       43.990836           22.256090   \n",
       "-11.35589                      43.382323           10.256080   \n",
       "-7.79662                       43.130090            6.565959   \n",
       "-2.05071                       42.354586           21.914667   \n",
       "-2.43652                       41.751240           21.541353   \n",
       "-7.55322                       36.913078           18.307114   \n",
       "-2.73225                       36.491130           19.841437   \n",
       "-6.37314                       34.949741           22.690346   \n",
       "-11.12807                      34.829224           19.403655   \n",
       "-7.23208                       32.389912           20.114344   \n",
       " 11.19606                      31.941293           17.034059   \n",
       "-6.95653                       30.378234           19.100056   \n",
       " 13.86995                      29.692297           17.331978   \n",
       " 3.05605                       27.905544           18.043358   \n",
       "-0.27647                       27.792653           18.662739   \n",
       "-5.82745                       26.763481           21.396271   \n",
       " RRT*-Connect                  24.975436           13.745243   \n",
       "-6.3318                        22.037459           21.851153   \n",
       "-6.65571                       17.289949           19.329296   \n",
       " 10.51996                       5.769061           19.563216   \n",
       "-6.02303                        5.635193           20.119507   \n",
       " 9.25217                        1.310411           18.151817   \n",
       " RRT                            0.000000            0.000000   \n",
       " 16.34412                      -1.815738           15.759983   \n",
       " 19.92914                      -1.938133           19.374171   \n",
       " 4.2445                        -2.284688           19.346696   \n",
       " 19.17882                      -5.267402           17.539885   \n",
       "-6.52887                       -5.408404           19.383993   \n",
       "-1.99103                       -5.841301           20.808387   \n",
       " 9.62493                      -15.643273           16.688765   \n",
       " 15.19604                     -16.092337           17.268716   \n",
       " 13.19292                     -23.300067           20.196252   \n",
       " RRT*                        -199.212312           21.121954   \n",
       " Improved-RRT*-Connect      -5064.833096           25.009004   \n",
       " Informed-RRT*             -18262.743829           29.642142   \n",
       "\n",
       "                        smoothness_improvement  objective_score  cls_try  \n",
       "alg_name                                                                  \n",
       " BI-RRT                               7.088457        10.229732      0.0  \n",
       "-15.03871                            15.308153        23.735083      1.0  \n",
       "-4.59249                            690.207176        27.232483      2.0  \n",
       "-9.55661                             41.146114        21.871099      1.0  \n",
       " 1.22143                              4.941186        19.283022      3.0  \n",
       "-10.57241                           621.133706        26.150296      1.0  \n",
       "-8.86231                             24.201514         2.563134      1.0  \n",
       " BI-RRT*                            210.087100       -10.221710      0.0  \n",
       "-5.68873                            572.394721        24.514456      2.0  \n",
       "-14.13591                            46.285125        20.315034      1.0  \n",
       "-6.77813                             22.082465        19.683288      1.0  \n",
       "-6.68311                             78.330829       -61.712904      1.0  \n",
       "-9.23875                             11.965123        18.856544      1.0  \n",
       " RRT-Connect                         20.627314        18.358946      0.0  \n",
       "-6.65759                            570.482044        24.162160      1.0  \n",
       "-7.12118                            658.132954        23.365528      2.0  \n",
       "-3.8343                             883.087968        24.901993      2.0  \n",
       "-6.83895                            595.964616        22.652122      1.0  \n",
       "-4.01111                            934.278642        24.283900      2.0  \n",
       "-6.15402                             28.336813        17.711480      1.0  \n",
       "-2.91188                            926.683922        24.086235      2.0  \n",
       "-6.4631                            1004.309593        24.039231      2.0  \n",
       "-5.84788                            619.580677        21.031921      2.0  \n",
       "-8.93552                             33.941516        15.722584      1.0  \n",
       "-3.32505                            736.238025        21.329659      2.0  \n",
       "-11.35589                            26.085827        15.196342      1.0  \n",
       "-7.79662                             16.864668        14.336542      3.0  \n",
       "-2.05071                            928.250403        21.730561      2.0  \n",
       "-2.43652                            865.796381        21.162625      2.0  \n",
       "-7.55322                            579.997863        17.635335      1.0  \n",
       "-2.73225                            876.484559        19.298049      2.0  \n",
       "-6.37314                            952.299593        19.784489      2.0  \n",
       "-11.12807                           678.612633        17.722561      2.0  \n",
       "-7.23208                            566.820400        16.573945      2.0  \n",
       " 11.19606                           430.378149        15.141090      3.0  \n",
       "-6.95653                            930.181300        17.584388      1.0  \n",
       " 13.86995                           625.485608       -17.831821      3.0  \n",
       " 3.05605                            812.835157        16.044511      3.0  \n",
       "-0.27647                            147.802654        12.809357      3.0  \n",
       "-5.82745                            830.483970        16.460718      2.0  \n",
       " RRT*-Connect                        68.834073        10.585850      0.0  \n",
       "-6.3318                            1133.445708        16.648697      1.0  \n",
       "-6.65571                            483.126823        11.468478      1.0  \n",
       " 10.51996                           863.267172       -23.373636      3.0  \n",
       "-6.02303                            559.664754         8.512783      1.0  \n",
       " 9.25217                            511.269416       -26.753500      3.0  \n",
       " RRT                                  0.000000         0.000000      0.0  \n",
       " 16.34412                           124.265965         3.228605      3.0  \n",
       " 19.92914                           918.975960         7.888274      3.0  \n",
       " 4.2445                             143.653407         3.902200      3.0  \n",
       " 19.17882                           598.881076         4.922162      3.0  \n",
       "-6.52887                            723.184828         5.870202      1.0  \n",
       "-1.99103                            889.984029         6.859207      2.0  \n",
       " 9.62493                            459.755073         0.943546      3.0  \n",
       " 15.19604                           844.109065       -13.820079      3.0  \n",
       " 13.19292                           779.716132         0.947811      3.0  \n",
       " RRT*                                76.453529       -55.157035      0.0  \n",
       " Improved-RRT*-Connect               70.395008     -1514.096153      0.0  \n",
       " Informed-RRT*                      196.388301     -5471.912779      0.0  "
      ]
     },
     "execution_count": 85,
     "metadata": {},
     "output_type": "execute_result"
    }
   ],
   "source": [
    "# alg_name 기준으로 groupby하여 평균값 계산\n",
    "grouped_avg = whole_df.groupby('alg_name').mean()\n",
    "aaaa = pd.DataFrame(grouped_avg)\n",
    "aaaa = aaaa.drop(\"map_id\", axis=1)\n",
    "# aaaa = aaaa.sort_values(by='objective_score', ascending=False)\n",
    "aaaa = aaaa.sort_values(by='time_improvement', ascending=False)\n",
    "aaaa"
   ]
  },
  {
   "cell_type": "code",
   "execution_count": 34,
   "id": "0b096e31",
   "metadata": {},
   "outputs": [
    {
     "data": {
      "text/html": [
       "<div>\n",
       "<style scoped>\n",
       "    .dataframe tbody tr th:only-of-type {\n",
       "        vertical-align: middle;\n",
       "    }\n",
       "\n",
       "    .dataframe tbody tr th {\n",
       "        vertical-align: top;\n",
       "    }\n",
       "\n",
       "    .dataframe thead th {\n",
       "        text-align: right;\n",
       "    }\n",
       "</style>\n",
       "<table border=\"1\" class=\"dataframe\">\n",
       "  <thead>\n",
       "    <tr style=\"text-align: right;\">\n",
       "      <th></th>\n",
       "      <th>map_id</th>\n",
       "      <th>성공률 (Success Rate)</th>\n",
       "      <th>평균 시간 (Time Avg)</th>\n",
       "      <th>num_nodes_avg</th>\n",
       "      <th>평균 경로 길이 (Path Length Avg)</th>\n",
       "      <th>성공률 개선 (Success Improvement)</th>\n",
       "      <th>시간 개선 (%)</th>\n",
       "      <th>경로 개선 (%)</th>\n",
       "      <th>종합 점수 (Objective Score)</th>\n",
       "    </tr>\n",
       "    <tr>\n",
       "      <th>alg_name</th>\n",
       "      <th></th>\n",
       "      <th></th>\n",
       "      <th></th>\n",
       "      <th></th>\n",
       "      <th></th>\n",
       "      <th></th>\n",
       "      <th></th>\n",
       "      <th></th>\n",
       "      <th></th>\n",
       "    </tr>\n",
       "  </thead>\n",
       "  <tbody>\n",
       "    <tr>\n",
       "      <th>BI-RRT</th>\n",
       "      <td>1.0</td>\n",
       "      <td>0.967</td>\n",
       "      <td>0.004</td>\n",
       "      <td>126.300</td>\n",
       "      <td>209.300</td>\n",
       "      <td>-3.333</td>\n",
       "      <td>88.101</td>\n",
       "      <td>6.730</td>\n",
       "      <td>26.110</td>\n",
       "    </tr>\n",
       "    <tr>\n",
       "      <th>RRT-Connect</th>\n",
       "      <td>1.0</td>\n",
       "      <td>1.000</td>\n",
       "      <td>0.012</td>\n",
       "      <td>175.300</td>\n",
       "      <td>213.838</td>\n",
       "      <td>0.000</td>\n",
       "      <td>69.541</td>\n",
       "      <td>4.292</td>\n",
       "      <td>21.721</td>\n",
       "    </tr>\n",
       "    <tr>\n",
       "      <th>BI-RRT*</th>\n",
       "      <td>1.0</td>\n",
       "      <td>0.933</td>\n",
       "      <td>0.011</td>\n",
       "      <td>142.267</td>\n",
       "      <td>172.039</td>\n",
       "      <td>-6.667</td>\n",
       "      <td>68.539</td>\n",
       "      <td>21.825</td>\n",
       "      <td>21.593</td>\n",
       "    </tr>\n",
       "    <tr>\n",
       "      <th>15.44831</th>\n",
       "      <td>1.0</td>\n",
       "      <td>1.000</td>\n",
       "      <td>0.013</td>\n",
       "      <td>147.633</td>\n",
       "      <td>180.308</td>\n",
       "      <td>0.000</td>\n",
       "      <td>58.762</td>\n",
       "      <td>18.807</td>\n",
       "      <td>21.390</td>\n",
       "    </tr>\n",
       "    <tr>\n",
       "      <th>RRT*-Connect</th>\n",
       "      <td>1.0</td>\n",
       "      <td>1.000</td>\n",
       "      <td>0.020</td>\n",
       "      <td>237.533</td>\n",
       "      <td>192.078</td>\n",
       "      <td>0.000</td>\n",
       "      <td>40.091</td>\n",
       "      <td>13.745</td>\n",
       "      <td>14.776</td>\n",
       "    </tr>\n",
       "    <tr>\n",
       "      <th>RRT</th>\n",
       "      <td>1.0</td>\n",
       "      <td>1.000</td>\n",
       "      <td>0.055</td>\n",
       "      <td>615.800</td>\n",
       "      <td>224.283</td>\n",
       "      <td>0.000</td>\n",
       "      <td>0.000</td>\n",
       "      <td>0.000</td>\n",
       "      <td>0.000</td>\n",
       "    </tr>\n",
       "    <tr>\n",
       "      <th>RRT*</th>\n",
       "      <td>1.0</td>\n",
       "      <td>1.000</td>\n",
       "      <td>0.127</td>\n",
       "      <td>688.167</td>\n",
       "      <td>174.649</td>\n",
       "      <td>0.000</td>\n",
       "      <td>-192.159</td>\n",
       "      <td>21.122</td>\n",
       "      <td>-53.423</td>\n",
       "    </tr>\n",
       "    <tr>\n",
       "      <th>623.91658</th>\n",
       "      <td>1.0</td>\n",
       "      <td>1.000</td>\n",
       "      <td>0.141</td>\n",
       "      <td>703.067</td>\n",
       "      <td>217.119</td>\n",
       "      <td>0.000</td>\n",
       "      <td>-252.731</td>\n",
       "      <td>3.369</td>\n",
       "      <td>-75.146</td>\n",
       "    </tr>\n",
       "    <tr>\n",
       "      <th>2116.54822</th>\n",
       "      <td>1.0</td>\n",
       "      <td>0.900</td>\n",
       "      <td>0.150</td>\n",
       "      <td>645.033</td>\n",
       "      <td>166.335</td>\n",
       "      <td>-10.000</td>\n",
       "      <td>-271.184</td>\n",
       "      <td>24.860</td>\n",
       "      <td>-81.383</td>\n",
       "    </tr>\n",
       "    <tr>\n",
       "      <th>16137.02705</th>\n",
       "      <td>1.0</td>\n",
       "      <td>1.000</td>\n",
       "      <td>1.376</td>\n",
       "      <td>2508.767</td>\n",
       "      <td>164.832</td>\n",
       "      <td>0.000</td>\n",
       "      <td>-4721.088</td>\n",
       "      <td>26.099</td>\n",
       "      <td>-1411.107</td>\n",
       "    </tr>\n",
       "    <tr>\n",
       "      <th>Improved-RRT*-Connect</th>\n",
       "      <td>1.0</td>\n",
       "      <td>1.000</td>\n",
       "      <td>1.643</td>\n",
       "      <td>2580.533</td>\n",
       "      <td>166.196</td>\n",
       "      <td>0.000</td>\n",
       "      <td>-5016.229</td>\n",
       "      <td>25.287</td>\n",
       "      <td>-1499.811</td>\n",
       "    </tr>\n",
       "    <tr>\n",
       "      <th>14698.73309</th>\n",
       "      <td>1.0</td>\n",
       "      <td>1.000</td>\n",
       "      <td>1.508</td>\n",
       "      <td>3262.833</td>\n",
       "      <td>162.297</td>\n",
       "      <td>0.000</td>\n",
       "      <td>-5091.917</td>\n",
       "      <td>27.053</td>\n",
       "      <td>-1522.164</td>\n",
       "    </tr>\n",
       "    <tr>\n",
       "      <th>31366.25511</th>\n",
       "      <td>1.0</td>\n",
       "      <td>1.000</td>\n",
       "      <td>2.542</td>\n",
       "      <td>2518.900</td>\n",
       "      <td>179.305</td>\n",
       "      <td>0.000</td>\n",
       "      <td>-9095.545</td>\n",
       "      <td>20.804</td>\n",
       "      <td>-2724.503</td>\n",
       "    </tr>\n",
       "    <tr>\n",
       "      <th>31003.29177</th>\n",
       "      <td>1.0</td>\n",
       "      <td>1.000</td>\n",
       "      <td>2.562</td>\n",
       "      <td>2572.033</td>\n",
       "      <td>177.635</td>\n",
       "      <td>0.000</td>\n",
       "      <td>-9116.594</td>\n",
       "      <td>21.258</td>\n",
       "      <td>-2730.726</td>\n",
       "    </tr>\n",
       "    <tr>\n",
       "      <th>31258.82349</th>\n",
       "      <td>1.0</td>\n",
       "      <td>1.000</td>\n",
       "      <td>2.633</td>\n",
       "      <td>2539.733</td>\n",
       "      <td>176.026</td>\n",
       "      <td>0.000</td>\n",
       "      <td>-9194.336</td>\n",
       "      <td>21.701</td>\n",
       "      <td>-2753.961</td>\n",
       "    </tr>\n",
       "    <tr>\n",
       "      <th>Informed-RRT*</th>\n",
       "      <td>1.0</td>\n",
       "      <td>1.000</td>\n",
       "      <td>4.899</td>\n",
       "      <td>3958.500</td>\n",
       "      <td>156.746</td>\n",
       "      <td>0.000</td>\n",
       "      <td>-17185.802</td>\n",
       "      <td>29.642</td>\n",
       "      <td>-5149.812</td>\n",
       "    </tr>\n",
       "  </tbody>\n",
       "</table>\n",
       "</div>"
      ],
      "text/plain": [
       "                       map_id  성공률 (Success Rate)  평균 시간 (Time Avg)  \\\n",
       "alg_name                                                              \n",
       "BI-RRT                    1.0               0.967             0.004   \n",
       "RRT-Connect               1.0               1.000             0.012   \n",
       "BI-RRT*                   1.0               0.933             0.011   \n",
       "15.44831                  1.0               1.000             0.013   \n",
       "RRT*-Connect              1.0               1.000             0.020   \n",
       "RRT                       1.0               1.000             0.055   \n",
       "RRT*                      1.0               1.000             0.127   \n",
       "623.91658                 1.0               1.000             0.141   \n",
       "2116.54822                1.0               0.900             0.150   \n",
       "16137.02705               1.0               1.000             1.376   \n",
       "Improved-RRT*-Connect     1.0               1.000             1.643   \n",
       "14698.73309               1.0               1.000             1.508   \n",
       "31366.25511               1.0               1.000             2.542   \n",
       "31003.29177               1.0               1.000             2.562   \n",
       "31258.82349               1.0               1.000             2.633   \n",
       "Informed-RRT*             1.0               1.000             4.899   \n",
       "\n",
       "                       num_nodes_avg  평균 경로 길이 (Path Length Avg)  \\\n",
       "alg_name                                                           \n",
       "BI-RRT                       126.300                     209.300   \n",
       "RRT-Connect                  175.300                     213.838   \n",
       "BI-RRT*                      142.267                     172.039   \n",
       "15.44831                     147.633                     180.308   \n",
       "RRT*-Connect                 237.533                     192.078   \n",
       "RRT                          615.800                     224.283   \n",
       "RRT*                         688.167                     174.649   \n",
       "623.91658                    703.067                     217.119   \n",
       "2116.54822                   645.033                     166.335   \n",
       "16137.02705                 2508.767                     164.832   \n",
       "Improved-RRT*-Connect       2580.533                     166.196   \n",
       "14698.73309                 3262.833                     162.297   \n",
       "31366.25511                 2518.900                     179.305   \n",
       "31003.29177                 2572.033                     177.635   \n",
       "31258.82349                 2539.733                     176.026   \n",
       "Informed-RRT*               3958.500                     156.746   \n",
       "\n",
       "                       성공률 개선 (Success Improvement)  시간 개선 (%)  경로 개선 (%)  \\\n",
       "alg_name                                                                    \n",
       "BI-RRT                                       -3.333     88.101      6.730   \n",
       "RRT-Connect                                   0.000     69.541      4.292   \n",
       "BI-RRT*                                      -6.667     68.539     21.825   \n",
       "15.44831                                      0.000     58.762     18.807   \n",
       "RRT*-Connect                                  0.000     40.091     13.745   \n",
       "RRT                                           0.000      0.000      0.000   \n",
       "RRT*                                          0.000   -192.159     21.122   \n",
       "623.91658                                     0.000   -252.731      3.369   \n",
       "2116.54822                                  -10.000   -271.184     24.860   \n",
       "16137.02705                                   0.000  -4721.088     26.099   \n",
       "Improved-RRT*-Connect                         0.000  -5016.229     25.287   \n",
       "14698.73309                                   0.000  -5091.917     27.053   \n",
       "31366.25511                                   0.000  -9095.545     20.804   \n",
       "31003.29177                                   0.000  -9116.594     21.258   \n",
       "31258.82349                                   0.000  -9194.336     21.701   \n",
       "Informed-RRT*                                 0.000 -17185.802     29.642   \n",
       "\n",
       "                       종합 점수 (Objective Score)  \n",
       "alg_name                                        \n",
       "BI-RRT                                  26.110  \n",
       "RRT-Connect                             21.721  \n",
       "BI-RRT*                                 21.593  \n",
       "15.44831                                21.390  \n",
       "RRT*-Connect                            14.776  \n",
       "RRT                                      0.000  \n",
       "RRT*                                   -53.423  \n",
       "623.91658                              -75.146  \n",
       "2116.54822                             -81.383  \n",
       "16137.02705                          -1411.107  \n",
       "Improved-RRT*-Connect                -1499.811  \n",
       "14698.73309                          -1522.164  \n",
       "31366.25511                          -2724.503  \n",
       "31003.29177                          -2730.726  \n",
       "31258.82349                          -2753.961  \n",
       "Informed-RRT*                        -5149.812  "
      ]
     },
     "metadata": {},
     "output_type": "display_data"
    }
   ],
   "source": [
    "col_map = {\n",
    "    # \"map_id\": \"Map ID\",\n",
    "    \"success_rate\": \"성공률 (Success Rate)\",\n",
    "    \"time_avg\": \"평균 시간 (Time Avg)\",\n",
    "    # \"num_nodes_avg\": \"평균 노드 수 (Num Nodes Avg)\",\n",
    "    \"path_length_avg\": \"평균 경로 길이 (Path Length Avg)\",\n",
    "    \"success_improvement\": \"성공률 개선 (Success Improvement)\",\n",
    "    \"time_improvement\": \"시간 개선 (%)\",\n",
    "    \"length_improvement\": \"경로 개선 (%)\",\n",
    "    \"objective_score\": \"종합 점수 (Objective Score)\"\n",
    "}\n",
    "\n",
    "df_pretty = grouped_avg.rename(columns=col_map)\n",
    "df_pretty = df_pretty.round(3)\n",
    "df_pretty = df_pretty.sort_values(\"종합 점수 (Objective Score)\", ascending=False)\n",
    "display(df_pretty)"
   ]
  },
  {
   "cell_type": "markdown",
   "id": "7ee95171",
   "metadata": {},
   "source": [
    "### LM TEST"
   ]
  },
  {
   "cell_type": "code",
   "execution_count": 1,
   "id": "03a05ca0",
   "metadata": {},
   "outputs": [],
   "source": [
    "from eoh.llm.interface_LLM import InterfaceLLM\n",
    "from eoh.utils.getParas import Paras\n",
    "from eoh.methods.eoh.eoh_evolution import Evolution\n",
    "from eoh.problems.optimization.classic_benchmark_path_planning.utils.prompts import GetPrompts\n",
    "import re\n",
    "paras = Paras()"
   ]
  },
  {
   "cell_type": "code",
   "execution_count": 3,
   "id": "73e02a3d",
   "metadata": {},
   "outputs": [
    {
     "name": "stdout",
     "output_type": "stream",
     "text": [
      "- check LLM API\n",
      "remote llm api is used ...\n",
      "- check LLM API\n",
      "remote llm api is used ...\n"
     ]
    }
   ],
   "source": [
    "ee = Evolution(\"api.openai.com\", api_key, \"gpt-4.1-mini-2025-04-14\", False, None, True, GetPrompts())\n",
    "illm = InterfaceLLM(\"api.openai.com\", api_key, \"gpt-4.1-mini-2025-04-14\", False, None, True)"
   ]
  },
  {
   "cell_type": "code",
   "execution_count": 176,
   "id": "302e72c2",
   "metadata": {},
   "outputs": [],
   "source": [
    "pc = ee.get_prompt([result_data[3]], 'e1')"
   ]
  },
  {
   "cell_type": "code",
   "execution_count": 8,
   "id": "04a64afb",
   "metadata": {},
   "outputs": [],
   "source": [
    "gcode = illm.get_response(pc)"
   ]
  },
  {
   "cell_type": "code",
   "execution_count": 9,
   "id": "08b77fac",
   "metadata": {},
   "outputs": [
    {
     "name": "stdout",
     "output_type": "stream",
     "text": [
      "{This algorithm implements a Bidirectional Informed RRT* planner with heuristic-based informed sampling and path smoothing. It grows two trees from start and goal states, focusing samples in an ellipsoidal informed set to concentrate the search on promising regions, improving efficiency and solution quality. It applies rewiring to optimize paths and uses a post-processing smoothing step for path smoothness and shorter paths.}  \n",
      "(A random sample is drawn within an ellipsoid defined by the current best path cost to bias sampling, then nodes are extended towards samples from both trees. The two trees attempt to connect after each iteration, enabling quick discovery of a path. Rewiring improves local paths iteratively. When a path is found, path smoothing refines it by shortcutting unnecessary waypoints.)\n",
      "\n",
      "```python\n",
      "from typing import List, Tuple, NamedTuple, Optional\n",
      "from math import dist, sqrt, cos, sin, acos\n",
      "import random\n",
      "\n",
      "# --- Node class ---\n",
      "class Node:\n",
      "    def __init__(self, position: Tuple[float, ...], parent: Optional['Node'] = None, cost: float = 0.0):\n",
      "        self.position = position        # Tuple[float, ...] for 2D or 3D\n",
      "        self.parent = parent            # Node or None\n",
      "        self.cost = cost                # Cost from start node\n",
      "        self.children: List[Node] = []\n",
      "        self.valid = True               # For collision checking etc.\n",
      "\n",
      "    def add_child(self, child: 'Node'):\n",
      "        self.children.append(child)\n",
      "\n",
      "    def path(self) -> List[Tuple[float, ...]]:\n",
      "        node, p = self, []\n",
      "        while node:\n",
      "            p.append(node.position)\n",
      "            node = node.parent\n",
      "        return p[::-1]\n",
      "\n",
      "\n",
      "class PlannerResult(NamedTuple):\n",
      "    success: bool\n",
      "    path: List[Tuple[float, ...]]\n",
      "    nodes: List[Node]\n",
      "    edges: List[Tuple[Node, Node]]\n",
      "\n",
      "\n",
      "# --- Main Planner ---\n",
      "class Planner:\n",
      "    def __init__(self, max_iter: int = 5000, step_size: float = 1.0, goal_sample_rate: float = 0.05, rewire_radius: float = 5.0):\n",
      "        self.max_iter = max_iter\n",
      "        self.step_size = step_size\n",
      "        self.goal_sample_rate = goal_sample_rate\n",
      "        self.rewire_radius = rewire_radius\n",
      "\n",
      "    def plan(self, map) -> PlannerResult:\n",
      "        bounds: Tuple[int, ...] = map.size\n",
      "        start_pos: Tuple[float, ...] = map.start\n",
      "        goal_pos: Tuple[float, ...] = map.goal\n",
      "        obstacles = map.obstacles\n",
      "        is_3d = len(bounds) == 3\n",
      "        dim = 3 if is_3d else 2\n",
      "\n",
      "        tree_start: List[Node] = [Node(start_pos)]\n",
      "        tree_goal: List[Node] = [Node(goal_pos)]\n",
      "\n",
      "        nodes_all: List[Node] = tree_start + tree_goal\n",
      "\n",
      "        best_path_cost = float('inf')\n",
      "        best_path: List[Tuple[float, ...]] = []\n",
      "\n",
      "        # Precompute Euclidean distance function\n",
      "        def euclidean(a: Tuple[float, ...], b: Tuple[float, ...]) -> float:\n",
      "            return dist(a, b)\n",
      "\n",
      "        # Collision checking for a segment using discretized points\n",
      "        def collision_free(p1: Tuple[float, ...], p2: Tuple[float, ...]) -> bool:\n",
      "            steps = max(int(euclidean(p1, p2) / (self.step_size / 2)), 1)\n",
      "            for i in range(steps + 1):\n",
      "                interp = tuple(p1[j] + (p2[j] - p1[j]) * i / steps for j in range(dim))\n",
      "                if self._is_in_obstacle(interp, obstacles, is_3d):\n",
      "                    return False\n",
      "            return True\n",
      "\n",
      "        # Informed sampling within an ellipsoid covering start & goal with current best cost\n",
      "        def informed_sample():\n",
      "            if best_path_cost == float('inf'):\n",
      "                # Uniform random sampling\n",
      "                return tuple(random.uniform(0, bounds[i]) for i in range(dim))\n",
      "\n",
      "            c_min = euclidean(start_pos, goal_pos)\n",
      "            c_best = best_path_cost\n",
      "            if c_best < c_min:\n",
      "                c_best = c_min  # numerical stability\n",
      "\n",
      "            # Compute center of ellipsoid (midpoint)\n",
      "            center = tuple((s + g) / 2 for s, g in zip(start_pos, goal_pos))\n",
      "            # Unit vector from start to goal\n",
      "            unit_vec = tuple((g - s) / c_min for s, g in zip(start_pos, goal_pos))\n",
      "\n",
      "            # Create orthonormal basis with unit_vec as first vector\n",
      "            basis = [list(unit_vec)]\n",
      "            if dim == 2:\n",
      "                # Perp vector in 2D\n",
      "                basis.append([-unit_vec[1], unit_vec[0]])\n",
      "            else:\n",
      "                # Construct orthonormal basis in 3D using Gram-Schmidt\n",
      "                # Choose arbitrary vector not colinear\n",
      "                arbitrary = [1,0,0] if abs(unit_vec[0]) < 0.9 else [0,1,0]\n",
      "                v2 = [arbitrary[i] - unit_vec[i]*sum(unit_vec[j]*arbitrary[j] for j in range(3)) for i in range(3)]\n",
      "                norm_v2 = sqrt(sum(x*x for x in v2))\n",
      "                if norm_v2 < 1e-9:\n",
      "                    v2 = [0,0,0]\n",
      "                else:\n",
      "                    v2 = [x / norm_v2 for x in v2]\n",
      "                # Third basis vector by cross product\n",
      "                v3 = [unit_vec[1]*v2[2]-unit_vec[2]*v2[1],\n",
      "                      unit_vec[2]*v2[0]-unit_vec[0]*v2[2],\n",
      "                      unit_vec[0]*v2[1]-unit_vec[1]*v2[0]]\n",
      "                basis.extend([v2, v3])\n",
      "\n",
      "            # Ellipsoid radii\n",
      "            a1 = c_best / 2\n",
      "            if dim == 2:\n",
      "                a2 = sqrt(c_best**2 - c_min**2) / 2\n",
      "                radii = [a1, a2]\n",
      "            else:\n",
      "                a2 = sqrt(c_best**2 - c_min**2) / 2\n",
      "                radii = [a1, a2, a2]\n",
      "\n",
      "            # Sample random point in unit n-ball\n",
      "            while True:\n",
      "                sample_ball = [random.gauss(0,1) for _ in range(dim)]\n",
      "                norm_sample = sqrt(sum(x*x for x in sample_ball))\n",
      "                if norm_sample > 1e-9:\n",
      "                    unit_sample = [x / norm_sample for x in sample_ball]\n",
      "                    radius_ball = random.random() ** (1/dim)\n",
      "                    unit_sample = [x * radius_ball for x in unit_sample]\n",
      "                    break\n",
      "\n",
      "            # Map from unit ball to ellipsoid: scale by radii then rotate by basis then translate by center\n",
      "            scaled = [unit_sample[i]*radii[i] for i in range(dim)]\n",
      "            point = [0.0]*dim\n",
      "            for i in range(dim):\n",
      "                for j in range(dim):\n",
      "                    point[i] += basis[j][i]*scaled[j]\n",
      "            sample_in_ellipsoid = tuple(point[i] + center[i] for i in range(dim))\n",
      "\n",
      "            # Clamp sample inside bounds\n",
      "            clamped = tuple(\n",
      "                max(0, min(sample_in_ellipsoid[i], bounds[i]))\n",
      "                for i in range(dim)\n",
      "            )\n",
      "            return clamped\n",
      "\n",
      "        def steer(from_pos: Tuple[float, ...], to_pos: Tuple[float, ...]) -> Tuple[float, ...]:\n",
      "            d = euclidean(from_pos, to_pos)\n",
      "            if d <= self.step_size:\n",
      "                return to_pos\n",
      "            scale = self.step_size / d\n",
      "            return tuple(from_pos[i] + scale*(to_pos[i] - from_pos[i]) for i in range(dim))\n",
      "\n",
      "        def nearest(tree: List[Node], point: Tuple[float, ...]) -> Node:\n",
      "            return min(tree, key=lambda n: euclidean(n.position, point))\n",
      "\n",
      "        def near_nodes(tree: List[Node], node_pos: Tuple[float, ...], radius: float) -> List[Node]:\n",
      "            return [n for n in tree if euclidean(n.position, node_pos) <= radius]\n",
      "\n",
      "        def try_extend(tree: List[Node], sample: Tuple[float, ...]) -> Optional[Node]:\n",
      "            nearest_node = nearest(tree, sample)\n",
      "            new_pos = steer(nearest_node.position, sample)\n",
      "            if not collision_free(nearest_node.position, new_pos):\n",
      "                return None\n",
      "            new_cost = nearest_node.cost + euclidean(nearest_node.position, new_pos)\n",
      "            new_node = Node(new_pos, parent=nearest_node, cost=new_cost)\n",
      "            nearest_node.add_child(new_node)\n",
      "            tree.append(new_node)\n",
      "            nodes_all.append(new_node)\n",
      "\n",
      "            # Rewiring in RRT* style\n",
      "            neighbors = near_nodes(tree, new_pos, self.rewire_radius)\n",
      "            for nb in neighbors:\n",
      "                if nb is new_node.parent:\n",
      "                    continue\n",
      "                possible_cost = new_node.cost + euclidean(new_node.position, nb.position)\n",
      "                if possible_cost < nb.cost and collision_free(new_node.position, nb.position):\n",
      "                    # Rewire neighbor\n",
      "                    # Remove old parent's child link\n",
      "                    if nb.parent:\n",
      "                        try:\n",
      "                            nb.parent.children.remove(nb)\n",
      "                        except ValueError:\n",
      "                            pass\n",
      "                    nb.parent = new_node\n",
      "                    nb.cost = possible_cost\n",
      "                    new_node.add_child(nb)\n",
      "\n",
      "            return new_node\n",
      "\n",
      "        # Connect tries to connect tree to target by repeated steering steps\n",
      "        def try_connect(tree: List[Node], target: Tuple[float, ...]) -> Optional[Node]:\n",
      "            current = nearest(tree, target)\n",
      "            while True:\n",
      "                new_pos = steer(current.position, target)\n",
      "                if not collision_free(current.position, new_pos):\n",
      "                    return None\n",
      "                new_cost = current.cost + euclidean(current.position, new_pos)\n",
      "                new_node = Node(new_pos, parent=current, cost=new_cost)\n",
      "                current.add_child(new_node)\n",
      "                tree.append(new_node)\n",
      "                nodes_all.append(new_node)\n",
      "                if euclidean(new_pos, target) <= self.step_size:\n",
      "                    return new_node\n",
      "                current = new_node\n",
      "\n",
      "        # Attempt to connect two nodes, returns True if successful and the connecting nodes in trees\n",
      "        def attempt_connection(node_start: Node, tree_goal: List[Node]) -> Optional[Tuple[Node, Node]]:\n",
      "            nearest_goal_node = nearest(tree_goal, node_start.position)\n",
      "            # Try path from goal tree node to start tree node by stepping and collision checking (reverse from goal)\n",
      "            if collision_free(nearest_goal_node.position, node_start.position):\n",
      "                # Found connection, create connecting node for tree_goal if needed (direct connection)\n",
      "                # Link them by making goal node parent of node_start or vice versa, no tree modification needed here\n",
      "                # Return nodes for path extraction\n",
      "                return (node_start, nearest_goal_node)\n",
      "            else:\n",
      "                # Try extend goal tree towards start node to improve connection chance\n",
      "                new_goal_node = try_connect(tree_goal, node_start.position)\n",
      "                if new_goal_node:\n",
      "                    if euclidean(new_goal_node.position, node_start.position) <= self.step_size and collision_free(new_goal_node.position, node_start.position):\n",
      "                        return (node_start, new_goal_node)\n",
      "            return None\n",
      "\n",
      "        # Path smoothing postprocessing by shortcutting\n",
      "        def smooth_path(path: List[Tuple[float, ...]], max_attempts=100) -> List[Tuple[float, ...]]:\n",
      "            if len(path) <= 2:\n",
      "                return path\n",
      "            for _ in range(max_attempts):\n",
      "                if len(path) <= 2:\n",
      "                    break\n",
      "                i = random.randint(0, len(path)-3)\n",
      "                j = random.randint(i+2, len(path)-1)\n",
      "                if collision_free(path[i], path[j]):\n",
      "                    # Shortcut by removing intermediate nodes\n",
      "                    path = path[:i+1] + path[j:]\n",
      "            return path\n",
      "\n",
      "        # Main loop\n",
      "        for iter in range(self.max_iter):\n",
      "            # Alternate expanding trees to balance growth\n",
      "            if iter % 2 == 0:\n",
      "                tree_a, tree_b = tree_start, tree_goal\n",
      "            else:\n",
      "                tree_a, tree_b = tree_goal, tree_start\n",
      "\n",
      "            # Sampling (goal bias or informed sampling)\n",
      "            if random.random() < self.goal_sample_rate:\n",
      "                sample = goal_pos if tree_a is tree_start else start_pos\n",
      "            else:\n",
      "                sample = informed_sample()\n",
      "\n",
      "            new_node = try_extend(tree_a, sample)\n",
      "            if new_node is None:\n",
      "                continue\n",
      "\n",
      "            connection = attempt_connection(new_node, tree_b)\n",
      "            if connection:\n",
      "                # Reconstruct path from start to goal via connected nodes\n",
      "                node_from_start, node_from_goal = connection\n",
      "                # Identify which tree is start or goal for proper path extraction\n",
      "                if tree_a is tree_start:\n",
      "                    path_start = node_from_start.path()\n",
      "                    path_goal = node_from_goal.path()\n",
      "                    path_goal.reverse()\n",
      "                else:\n",
      "                    path_start = node_from_goal.path()\n",
      "                    path_goal = node_from_start.path()\n",
      "                    path_goal.reverse()\n",
      "\n",
      "                candidate_path = path_start + path_goal[1:]\n",
      "\n",
      "                candidate_cost = 0.0\n",
      "                for k in range(len(candidate_path) - 1):\n",
      "                    candidate_cost += euclidean(candidate_path[k], candidate_path[k+1])\n",
      "\n",
      "                if candidate_cost < best_path_cost:\n",
      "                    best_path_cost = candidate_cost\n",
      "                    best_path = candidate_path\n",
      "                    # Swap to tree_start and tree_goal for consistent variable usage\n",
      "                    if tree_a is tree_goal:\n",
      "                        tree_start, tree_goal = tree_goal, tree_start\n",
      "\n",
      "            # Swap trees for next iteration, not needed here since handled by iter%2\n",
      "\n",
      "        success = len(best_path) > 0\n",
      "\n",
      "        if success:\n",
      "            best_path = smooth_path(best_path, max_attempts=200)\n",
      "\n",
      "        edges = [(node.parent, node) for node in nodes_all if node.parent]\n",
      "\n",
      "        return PlannerResult(\n",
      "            success=success,\n",
      "            path=best_path,\n",
      "            nodes=nodes_all,\n",
      "            edges=edges\n",
      "        )\n",
      "\n",
      "\n",
      "    def _is_in_obstacle(self, pos: Tuple[float, ...], obstacles, is_3d: bool) -> bool:\n",
      "        if is_3d:\n",
      "            px, py, pz = pos\n",
      "            for x, y, z, w, h, d in obstacles:\n",
      "                if x <= px <= x + w and y <= py <= y + h and z <= pz <= z + d:\n",
      "                    return True\n",
      "        else:\n",
      "            px, py = pos\n",
      "            for x, y, w, h in obstacles:\n",
      "                if x <= px <= x + w and y <= py <= y + h:\n",
      "                    return True\n",
      "        return False\n",
      "```\n"
     ]
    }
   ],
   "source": [
    "print(gcode)"
   ]
  },
  {
   "cell_type": "code",
   "execution_count": 11,
   "id": "659735f5",
   "metadata": {},
   "outputs": [],
   "source": [
    "c, m, a = ee._extract_alg(gcode)"
   ]
  },
  {
   "cell_type": "code",
   "execution_count": 18,
   "id": "5691cdab",
   "metadata": {},
   "outputs": [],
   "source": [
    "response = ee.get_analysis(classic_method[0]['code'], classic_method[5]['code'], 'time')"
   ]
  },
  {
   "cell_type": "code",
   "execution_count": 17,
   "id": "665735c9",
   "metadata": {},
   "outputs": [
    {
     "data": {
      "text/plain": [
       "{'algorithm': 'RRT',\n",
       " 'algorithm_description': 'This algorithm is a sampling-based path planning algorithm that incrementally builds a space-filling tree rooted at the start position by randomly sampling the configuration space and extending the nearest existing node toward the sample. It continues this process until the goal is reached or a maximum number of iterations is exceeded.',\n",
       " 'planning_mechanism': 'The planner randomly samples free configurations, finds the nearest node in the current tree, attempts to extend toward the sample by a fixed step size, and adds the new node if the move is valid. This repeats until the goal is reached or iteration limit is hit.',\n",
       " 'code': '\\nclass Node:\\n    def __init__(self, position, parent=None, cost=0.0):\\n        self.position = position\\n        self.parent = parent\\n        self.cost = cost\\n        self.children = []\\n        self.valid = True\\n\\n    def add_child(self, child_node):\\n        self.children.append(child_node)\\n\\n\\nclass Planner:\\n    def __init__(self, max_iter: int = 5000, step_size: float = 3.0, goal_sample_rate: float = 0.05):\\n        self.max_iter = max_iter\\n        self.step_size = step_size\\n        self.goal_sample_rate = goal_sample_rate\\n\\n    def plan(self, map) -> PlannerResult:\\n        import random\\n        import math\\n\\n        bounds = map.size\\n        start_position = map.start\\n        goal_position = map.goal\\n        obstacles = map.obstacles\\n        is_3d = len(bounds) == 3\\n\\n        success_state = False\\n        extracted_path = []\\n        nodes = []\\n        edges = []\\n\\n        root = Node(start_position)\\n        nodes.append(root)\\n\\n        for _ in range(self.max_iter):\\n            # Goal biasing\\n            if random.random() < self.goal_sample_rate:\\n                sample = goal_position\\n            else:\\n                sample = tuple(random.uniform(0, bounds[d]) for d in range(len(bounds)))\\n\\n            # Find nearest node\\n            nearest_node = min(nodes, key=lambda n: math.dist(n.position, sample))\\n\\n            # Steer\\n            direction = tuple(sample[d] - nearest_node.position[d] for d in range(len(bounds)))\\n            length = math.dist(nearest_node.position, sample)\\n            if length == 0:\\n                continue\\n            unit = tuple(d / length for d in direction)\\n            new_position = tuple(nearest_node.position[d] + unit[d] * min(self.step_size, length) for d in range(len(bounds)))\\n\\n            if self._is_in_obstacle(new_position, obstacles, is_3d):\\n                continue\\n            if self._is_edge_in_obstacle(nearest_node.position, new_position, obstacles, is_3d):\\n                continue\\n\\n            new_node = Node(new_position, parent=nearest_node, cost=nearest_node.cost + math.dist(nearest_node.position, new_position))\\n            nearest_node.add_child(new_node)\\n            nodes.append(new_node)\\n            edges.append((nearest_node, new_node))\\n\\n            # Check if goal reached\\n            if math.dist(new_position, goal_position) <= self.step_size:\\n                if not self._is_edge_in_obstacle(new_position, goal_position, obstacles, is_3d) and not self._is_in_obstacle(goal_position, obstacles, is_3d):\\n                    goal_node = Node(goal_position, parent=new_node, cost=new_node.cost + math.dist(new_position, goal_position))\\n                    new_node.add_child(goal_node)\\n                    nodes.append(goal_node)\\n                    edges.append((new_node, goal_node))\\n                    success_state = True\\n                    break\\n\\n        if success_state:\\n            path = []\\n            node = nodes[-1]\\n            while node:\\n                path.append(node.position)\\n                node = node.parent\\n            extracted_path = path[::-1]\\n\\n        return PlannerResult(\\n            success=success_state,\\n            path=extracted_path,\\n            nodes=nodes,\\n            edges=edges\\n        )\\n\\n    def _is_in_obstacle(self, pos, obstacles, is_3d):\\n        for obs in obstacles:\\n            if is_3d:\\n                x, y, z, w, h, d = obs\\n                px, py, pz = pos\\n                if x <= px <= x + w and y <= py <= y + h and z <= pz <= z + d:\\n                    return True\\n            else:\\n                x, y, w, h = obs\\n                px, py = pos\\n                if x <= px <= x + w and y <= py <= y + h:\\n                    return True\\n        return False\\n\\n    def _is_edge_in_obstacle(self, from_pos, to_pos, obstacles, is_3d, resolution=1.0):\\n        import math\\n        distance = math.dist(from_pos, to_pos)\\n        steps = max(1, int(distance / resolution))\\n        for i in range(steps + 1):\\n            interp = tuple(from_pos[d] + (to_pos[d] - from_pos[d]) * (i / steps) for d in range(len(from_pos)))\\n            if self._is_in_obstacle(interp, obstacles, is_3d):\\n                return True\\n        return False\\n    '}"
      ]
     },
     "execution_count": 17,
     "metadata": {},
     "output_type": "execute_result"
    }
   ],
   "source": [
    "classic_method[0]"
   ]
  },
  {
   "cell_type": "code",
   "execution_count": 19,
   "id": "979eb95b",
   "metadata": {},
   "outputs": [
    {
     "name": "stdout",
     "output_type": "stream",
     "text": [
      "1. Summary of key changes:  \n",
      "   - alg1 implements a bidirectional search with two trees grown from start and goal, while alg2 uses a unidirectional single tree.  \n",
      "   - alg1 includes rewiring to optimize paths and maintain cost-minimizing parent-child relationships; alg2 lacks rewiring and cost optimization beyond simple parent assignment.  \n",
      "   - alg2 applies goal biasing (goal_sample_rate) to probabilistically sample the goal position, increasing the chances of connecting to the goal.  \n",
      "   - alg2 uses a smaller step_size (3.0 vs 5.0) potentially providing finer resolution in path expansion.  \n",
      "   - alg1 maintains and updates children lists and edges extensively during rewiring; alg2 manages simpler parent-child linkage without edge rewiring.\n",
      "\n",
      "2. Primary contributors to the performance improvement:  \n",
      "   - Introduction of goal biasing in sampling significantly speeds goal reachability.  \n",
      "   - Simpler unidirectional search reduces computational overhead compared to managing two trees and rewiring.  \n",
      "   - Avoiding rewiring and complex cost recalculations reduces per-iteration computation time.  \n",
      "   - Smaller step size enables more controlled incremental exploration and edge validation.\n",
      "\n",
      "3. Expected mechanism of impact:  \n",
      "   - Goal biasing directs sampling towards the goal, increasing successful connections earlier in the search.  \n",
      "   - Unidirectional growth reduces complexity and overhead, enabling faster iteration throughput.  \n",
      "   - Eliminating rewiring simplifies data structure updates, decreasing runtime costs per iteration.  \n",
      "   - Smaller step size supports finer navigation around obstacles, reducing invalid expansions and backtracking.\n"
     ]
    }
   ],
   "source": [
    "print(response)"
   ]
  },
  {
   "cell_type": "code",
   "execution_count": null,
   "id": "4d8a1298",
   "metadata": {},
   "outputs": [],
   "source": []
  }
 ],
 "metadata": {
  "kernelspec": {
   "display_name": "eohp",
   "language": "python",
   "name": "python3"
  },
  "language_info": {
   "codemirror_mode": {
    "name": "ipython",
    "version": 3
   },
   "file_extension": ".py",
   "mimetype": "text/x-python",
   "name": "python",
   "nbconvert_exporter": "python",
   "pygments_lexer": "ipython3",
   "version": "3.10.18"
  }
 },
 "nbformat": 4,
 "nbformat_minor": 5
}
